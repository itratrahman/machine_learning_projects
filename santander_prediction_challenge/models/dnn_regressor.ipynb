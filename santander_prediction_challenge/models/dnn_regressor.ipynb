{
 "cells": [
  {
   "cell_type": "markdown",
   "metadata": {
    "_uuid": "1e6fbd9190cce8ed152b6b2b342d4fae4fbfa394"
   },
   "source": [
    "# SANTANDER VALUE PREDICTION CHALLENGE (TRAIN MULTIPLE MODELS)"
   ]
  },
  {
   "cell_type": "markdown",
   "metadata": {
    "_uuid": "cb6bc3f8e3a40f7c94e92ba716a922c04f5e05d2"
   },
   "source": [
    "**Import neccessary modules and packages**"
   ]
  },
  {
   "cell_type": "code",
   "execution_count": 1,
   "metadata": {
    "_cell_guid": "b1076dfc-b9ad-4769-8c92-a6c4dae69d19",
    "_uuid": "8f2839f25d086af736a60e9eeb907d3b93b6e0e5"
   },
   "outputs": [],
   "source": [
    "import numpy as np \n",
    "import pandas as pd \n",
    "from scipy.stats import skew\n",
    "from scipy.stats import ks_2samp\n",
    "import tensorflow as tf\n",
    "from tensorflow.python.framework import ops\n",
    "ops.reset_default_graph()\n",
    "from functools import partial\n",
    "import matplotlib\n",
    "import matplotlib.pyplot as plt\n",
    "import progressbar"
   ]
  },
  {
   "cell_type": "markdown",
   "metadata": {
    "_uuid": "deb441acd02339f3223b8340fc154921920973fc"
   },
   "source": [
    "**Set the random seed of numpy and tensorflow**"
   ]
  },
  {
   "cell_type": "code",
   "execution_count": 2,
   "metadata": {
    "_uuid": "42365c38368fa70f775d7afcb73f760b156b7a71"
   },
   "outputs": [
    {
     "name": "stdout",
     "output_type": "stream",
     "text": [
      "numpy random seed:  0\n",
      "tensorflow random seed:  1\n"
     ]
    }
   ],
   "source": [
    "# np_rand_seed = np.random.randint(0,100)\n",
    "# tf_rand_seed = np.random.randint(0,100)\n",
    "np_rand_seed = 0\n",
    "tf_rand_seed = 1\n",
    "np.random.seed(np_rand_seed)\n",
    "tf.set_random_seed(tf_rand_seed)\n",
    "print(\"numpy random seed: \",np_rand_seed)\n",
    "print(\"tensorflow random seed: \", tf_rand_seed)"
   ]
  },
  {
   "cell_type": "markdown",
   "metadata": {
    "_uuid": "99a66179bcea2d39de9d8b0fe319e40a21a1b2fb"
   },
   "source": [
    "## 1. Load and preprocess data"
   ]
  },
  {
   "cell_type": "markdown",
   "metadata": {
    "_uuid": "1065d90ccff7b74864d87cd4b8155ef9ed5cf72d"
   },
   "source": [
    "### 1.1 Load and display data"
   ]
  },
  {
   "cell_type": "code",
   "execution_count": 3,
   "metadata": {
    "_cell_guid": "79c7e3d0-c299-4dcb-8224-4455121ee9b0",
    "_uuid": "d629ff2d2480ee46fbb7e2d37f6b5fab8052498a"
   },
   "outputs": [],
   "source": [
    "data = pd.read_csv(\"../input/train.csv\")\n",
    "data = data.sample(frac=1).reset_index(drop=True)"
   ]
  },
  {
   "cell_type": "code",
   "execution_count": 4,
   "metadata": {
    "_uuid": "c894dd21300fb41301b8e2de907197591707cc58"
   },
   "outputs": [],
   "source": [
    "test_data = pd.read_csv(\"../input/test.csv\")\n",
    "test_id = test_data.ID.tolist()"
   ]
  },
  {
   "cell_type": "code",
   "execution_count": 5,
   "metadata": {
    "_uuid": "1c09708cf9f328fcaadf9c89dc3ff11f0b3989e8"
   },
   "outputs": [
    {
     "data": {
      "text/html": [
       "<div>\n",
       "<style scoped>\n",
       "    .dataframe tbody tr th:only-of-type {\n",
       "        vertical-align: middle;\n",
       "    }\n",
       "\n",
       "    .dataframe tbody tr th {\n",
       "        vertical-align: top;\n",
       "    }\n",
       "\n",
       "    .dataframe thead th {\n",
       "        text-align: right;\n",
       "    }\n",
       "</style>\n",
       "<table border=\"1\" class=\"dataframe\">\n",
       "  <thead>\n",
       "    <tr style=\"text-align: right;\">\n",
       "      <th></th>\n",
       "      <th>ID</th>\n",
       "      <th>target</th>\n",
       "      <th>48df886f9</th>\n",
       "      <th>0deb4b6a8</th>\n",
       "      <th>34b15f335</th>\n",
       "      <th>a8cb14b00</th>\n",
       "      <th>2f0771a37</th>\n",
       "      <th>30347e683</th>\n",
       "      <th>d08d1fbe3</th>\n",
       "      <th>6ee66e115</th>\n",
       "      <th>...</th>\n",
       "      <th>3ecc09859</th>\n",
       "      <th>9281abeea</th>\n",
       "      <th>8675bec0b</th>\n",
       "      <th>3a13ed79a</th>\n",
       "      <th>f677d4d13</th>\n",
       "      <th>71b203550</th>\n",
       "      <th>137efaa80</th>\n",
       "      <th>fb36b89d9</th>\n",
       "      <th>7e293fbaf</th>\n",
       "      <th>9fc776466</th>\n",
       "    </tr>\n",
       "  </thead>\n",
       "  <tbody>\n",
       "    <tr>\n",
       "      <th>0</th>\n",
       "      <td>a699ddd5b</td>\n",
       "      <td>32000000.00</td>\n",
       "      <td>0.0</td>\n",
       "      <td>0</td>\n",
       "      <td>0.0</td>\n",
       "      <td>0</td>\n",
       "      <td>0</td>\n",
       "      <td>0</td>\n",
       "      <td>0</td>\n",
       "      <td>0</td>\n",
       "      <td>...</td>\n",
       "      <td>0.0</td>\n",
       "      <td>0.0</td>\n",
       "      <td>0.00</td>\n",
       "      <td>0</td>\n",
       "      <td>0</td>\n",
       "      <td>0</td>\n",
       "      <td>0</td>\n",
       "      <td>0</td>\n",
       "      <td>0</td>\n",
       "      <td>0</td>\n",
       "    </tr>\n",
       "    <tr>\n",
       "      <th>1</th>\n",
       "      <td>83587ad6e</td>\n",
       "      <td>400000.00</td>\n",
       "      <td>0.0</td>\n",
       "      <td>0</td>\n",
       "      <td>0.0</td>\n",
       "      <td>0</td>\n",
       "      <td>0</td>\n",
       "      <td>0</td>\n",
       "      <td>0</td>\n",
       "      <td>0</td>\n",
       "      <td>...</td>\n",
       "      <td>0.0</td>\n",
       "      <td>0.0</td>\n",
       "      <td>0.00</td>\n",
       "      <td>0</td>\n",
       "      <td>0</td>\n",
       "      <td>0</td>\n",
       "      <td>0</td>\n",
       "      <td>0</td>\n",
       "      <td>0</td>\n",
       "      <td>0</td>\n",
       "    </tr>\n",
       "    <tr>\n",
       "      <th>2</th>\n",
       "      <td>e62c51273</td>\n",
       "      <td>10000000.00</td>\n",
       "      <td>0.0</td>\n",
       "      <td>0</td>\n",
       "      <td>0.0</td>\n",
       "      <td>0</td>\n",
       "      <td>0</td>\n",
       "      <td>0</td>\n",
       "      <td>0</td>\n",
       "      <td>0</td>\n",
       "      <td>...</td>\n",
       "      <td>0.0</td>\n",
       "      <td>0.0</td>\n",
       "      <td>0.00</td>\n",
       "      <td>0</td>\n",
       "      <td>0</td>\n",
       "      <td>0</td>\n",
       "      <td>0</td>\n",
       "      <td>0</td>\n",
       "      <td>0</td>\n",
       "      <td>0</td>\n",
       "    </tr>\n",
       "    <tr>\n",
       "      <th>3</th>\n",
       "      <td>588b8f63e</td>\n",
       "      <td>8470000.00</td>\n",
       "      <td>0.0</td>\n",
       "      <td>0</td>\n",
       "      <td>0.0</td>\n",
       "      <td>0</td>\n",
       "      <td>0</td>\n",
       "      <td>0</td>\n",
       "      <td>0</td>\n",
       "      <td>0</td>\n",
       "      <td>...</td>\n",
       "      <td>0.0</td>\n",
       "      <td>0.0</td>\n",
       "      <td>0.00</td>\n",
       "      <td>0</td>\n",
       "      <td>0</td>\n",
       "      <td>0</td>\n",
       "      <td>0</td>\n",
       "      <td>0</td>\n",
       "      <td>0</td>\n",
       "      <td>0</td>\n",
       "    </tr>\n",
       "    <tr>\n",
       "      <th>4</th>\n",
       "      <td>ac3b2a385</td>\n",
       "      <td>10000000.00</td>\n",
       "      <td>0.0</td>\n",
       "      <td>0</td>\n",
       "      <td>0.0</td>\n",
       "      <td>0</td>\n",
       "      <td>0</td>\n",
       "      <td>0</td>\n",
       "      <td>0</td>\n",
       "      <td>0</td>\n",
       "      <td>...</td>\n",
       "      <td>0.0</td>\n",
       "      <td>0.0</td>\n",
       "      <td>0.00</td>\n",
       "      <td>0</td>\n",
       "      <td>0</td>\n",
       "      <td>0</td>\n",
       "      <td>0</td>\n",
       "      <td>0</td>\n",
       "      <td>0</td>\n",
       "      <td>0</td>\n",
       "    </tr>\n",
       "    <tr>\n",
       "      <th>5</th>\n",
       "      <td>08d27660b</td>\n",
       "      <td>3734230.76</td>\n",
       "      <td>0.0</td>\n",
       "      <td>0</td>\n",
       "      <td>0.0</td>\n",
       "      <td>0</td>\n",
       "      <td>0</td>\n",
       "      <td>0</td>\n",
       "      <td>0</td>\n",
       "      <td>0</td>\n",
       "      <td>...</td>\n",
       "      <td>0.0</td>\n",
       "      <td>0.0</td>\n",
       "      <td>0.00</td>\n",
       "      <td>0</td>\n",
       "      <td>0</td>\n",
       "      <td>0</td>\n",
       "      <td>0</td>\n",
       "      <td>0</td>\n",
       "      <td>0</td>\n",
       "      <td>0</td>\n",
       "    </tr>\n",
       "    <tr>\n",
       "      <th>6</th>\n",
       "      <td>76e1918a1</td>\n",
       "      <td>31000000.00</td>\n",
       "      <td>0.0</td>\n",
       "      <td>0</td>\n",
       "      <td>0.0</td>\n",
       "      <td>0</td>\n",
       "      <td>0</td>\n",
       "      <td>0</td>\n",
       "      <td>0</td>\n",
       "      <td>0</td>\n",
       "      <td>...</td>\n",
       "      <td>0.0</td>\n",
       "      <td>0.0</td>\n",
       "      <td>0.00</td>\n",
       "      <td>0</td>\n",
       "      <td>0</td>\n",
       "      <td>0</td>\n",
       "      <td>0</td>\n",
       "      <td>0</td>\n",
       "      <td>0</td>\n",
       "      <td>0</td>\n",
       "    </tr>\n",
       "    <tr>\n",
       "      <th>7</th>\n",
       "      <td>48b984180</td>\n",
       "      <td>340000.00</td>\n",
       "      <td>0.0</td>\n",
       "      <td>0</td>\n",
       "      <td>0.0</td>\n",
       "      <td>0</td>\n",
       "      <td>0</td>\n",
       "      <td>0</td>\n",
       "      <td>0</td>\n",
       "      <td>0</td>\n",
       "      <td>...</td>\n",
       "      <td>0.0</td>\n",
       "      <td>0.0</td>\n",
       "      <td>0.00</td>\n",
       "      <td>0</td>\n",
       "      <td>0</td>\n",
       "      <td>0</td>\n",
       "      <td>0</td>\n",
       "      <td>0</td>\n",
       "      <td>0</td>\n",
       "      <td>0</td>\n",
       "    </tr>\n",
       "    <tr>\n",
       "      <th>8</th>\n",
       "      <td>120eb3f4b</td>\n",
       "      <td>800000.00</td>\n",
       "      <td>0.0</td>\n",
       "      <td>0</td>\n",
       "      <td>0.0</td>\n",
       "      <td>0</td>\n",
       "      <td>0</td>\n",
       "      <td>0</td>\n",
       "      <td>0</td>\n",
       "      <td>0</td>\n",
       "      <td>...</td>\n",
       "      <td>0.0</td>\n",
       "      <td>0.0</td>\n",
       "      <td>0.00</td>\n",
       "      <td>0</td>\n",
       "      <td>0</td>\n",
       "      <td>0</td>\n",
       "      <td>0</td>\n",
       "      <td>0</td>\n",
       "      <td>0</td>\n",
       "      <td>0</td>\n",
       "    </tr>\n",
       "    <tr>\n",
       "      <th>9</th>\n",
       "      <td>ce20ac9be</td>\n",
       "      <td>1310000.00</td>\n",
       "      <td>0.0</td>\n",
       "      <td>0</td>\n",
       "      <td>0.0</td>\n",
       "      <td>0</td>\n",
       "      <td>0</td>\n",
       "      <td>0</td>\n",
       "      <td>0</td>\n",
       "      <td>0</td>\n",
       "      <td>...</td>\n",
       "      <td>0.0</td>\n",
       "      <td>0.0</td>\n",
       "      <td>0.00</td>\n",
       "      <td>0</td>\n",
       "      <td>0</td>\n",
       "      <td>0</td>\n",
       "      <td>0</td>\n",
       "      <td>0</td>\n",
       "      <td>0</td>\n",
       "      <td>0</td>\n",
       "    </tr>\n",
       "    <tr>\n",
       "      <th>10</th>\n",
       "      <td>931a84caa</td>\n",
       "      <td>42000.00</td>\n",
       "      <td>0.0</td>\n",
       "      <td>0</td>\n",
       "      <td>0.0</td>\n",
       "      <td>0</td>\n",
       "      <td>0</td>\n",
       "      <td>0</td>\n",
       "      <td>0</td>\n",
       "      <td>0</td>\n",
       "      <td>...</td>\n",
       "      <td>0.0</td>\n",
       "      <td>0.0</td>\n",
       "      <td>0.00</td>\n",
       "      <td>0</td>\n",
       "      <td>0</td>\n",
       "      <td>0</td>\n",
       "      <td>0</td>\n",
       "      <td>0</td>\n",
       "      <td>0</td>\n",
       "      <td>109200</td>\n",
       "    </tr>\n",
       "    <tr>\n",
       "      <th>11</th>\n",
       "      <td>7f38dc37a</td>\n",
       "      <td>10900000.00</td>\n",
       "      <td>0.0</td>\n",
       "      <td>0</td>\n",
       "      <td>0.0</td>\n",
       "      <td>0</td>\n",
       "      <td>0</td>\n",
       "      <td>0</td>\n",
       "      <td>0</td>\n",
       "      <td>0</td>\n",
       "      <td>...</td>\n",
       "      <td>0.0</td>\n",
       "      <td>0.0</td>\n",
       "      <td>4840000.00</td>\n",
       "      <td>1100000</td>\n",
       "      <td>0</td>\n",
       "      <td>0</td>\n",
       "      <td>0</td>\n",
       "      <td>0</td>\n",
       "      <td>3000000</td>\n",
       "      <td>0</td>\n",
       "    </tr>\n",
       "    <tr>\n",
       "      <th>12</th>\n",
       "      <td>ba1d1e2c2</td>\n",
       "      <td>1200000.00</td>\n",
       "      <td>0.0</td>\n",
       "      <td>0</td>\n",
       "      <td>0.0</td>\n",
       "      <td>0</td>\n",
       "      <td>0</td>\n",
       "      <td>0</td>\n",
       "      <td>0</td>\n",
       "      <td>0</td>\n",
       "      <td>...</td>\n",
       "      <td>0.0</td>\n",
       "      <td>0.0</td>\n",
       "      <td>0.00</td>\n",
       "      <td>0</td>\n",
       "      <td>0</td>\n",
       "      <td>0</td>\n",
       "      <td>0</td>\n",
       "      <td>0</td>\n",
       "      <td>0</td>\n",
       "      <td>0</td>\n",
       "    </tr>\n",
       "    <tr>\n",
       "      <th>13</th>\n",
       "      <td>56c559ee2</td>\n",
       "      <td>19552000.00</td>\n",
       "      <td>0.0</td>\n",
       "      <td>0</td>\n",
       "      <td>0.0</td>\n",
       "      <td>0</td>\n",
       "      <td>0</td>\n",
       "      <td>0</td>\n",
       "      <td>0</td>\n",
       "      <td>0</td>\n",
       "      <td>...</td>\n",
       "      <td>0.0</td>\n",
       "      <td>0.0</td>\n",
       "      <td>0.00</td>\n",
       "      <td>0</td>\n",
       "      <td>0</td>\n",
       "      <td>0</td>\n",
       "      <td>0</td>\n",
       "      <td>0</td>\n",
       "      <td>0</td>\n",
       "      <td>0</td>\n",
       "    </tr>\n",
       "    <tr>\n",
       "      <th>14</th>\n",
       "      <td>b9f3fa031</td>\n",
       "      <td>6000000.00</td>\n",
       "      <td>0.0</td>\n",
       "      <td>0</td>\n",
       "      <td>0.0</td>\n",
       "      <td>0</td>\n",
       "      <td>0</td>\n",
       "      <td>0</td>\n",
       "      <td>0</td>\n",
       "      <td>0</td>\n",
       "      <td>...</td>\n",
       "      <td>0.0</td>\n",
       "      <td>0.0</td>\n",
       "      <td>0.00</td>\n",
       "      <td>0</td>\n",
       "      <td>0</td>\n",
       "      <td>0</td>\n",
       "      <td>0</td>\n",
       "      <td>0</td>\n",
       "      <td>0</td>\n",
       "      <td>0</td>\n",
       "    </tr>\n",
       "    <tr>\n",
       "      <th>15</th>\n",
       "      <td>e87f19688</td>\n",
       "      <td>1680000.00</td>\n",
       "      <td>0.0</td>\n",
       "      <td>0</td>\n",
       "      <td>0.0</td>\n",
       "      <td>0</td>\n",
       "      <td>0</td>\n",
       "      <td>0</td>\n",
       "      <td>0</td>\n",
       "      <td>0</td>\n",
       "      <td>...</td>\n",
       "      <td>0.0</td>\n",
       "      <td>0.0</td>\n",
       "      <td>436000.00</td>\n",
       "      <td>0</td>\n",
       "      <td>0</td>\n",
       "      <td>300000</td>\n",
       "      <td>0</td>\n",
       "      <td>0</td>\n",
       "      <td>0</td>\n",
       "      <td>0</td>\n",
       "    </tr>\n",
       "    <tr>\n",
       "      <th>16</th>\n",
       "      <td>db10cb173</td>\n",
       "      <td>5000000.00</td>\n",
       "      <td>0.0</td>\n",
       "      <td>0</td>\n",
       "      <td>0.0</td>\n",
       "      <td>0</td>\n",
       "      <td>0</td>\n",
       "      <td>0</td>\n",
       "      <td>0</td>\n",
       "      <td>0</td>\n",
       "      <td>...</td>\n",
       "      <td>0.0</td>\n",
       "      <td>0.0</td>\n",
       "      <td>0.00</td>\n",
       "      <td>0</td>\n",
       "      <td>0</td>\n",
       "      <td>0</td>\n",
       "      <td>0</td>\n",
       "      <td>0</td>\n",
       "      <td>0</td>\n",
       "      <td>0</td>\n",
       "    </tr>\n",
       "    <tr>\n",
       "      <th>17</th>\n",
       "      <td>207aa2662</td>\n",
       "      <td>5000000.00</td>\n",
       "      <td>0.0</td>\n",
       "      <td>0</td>\n",
       "      <td>0.0</td>\n",
       "      <td>0</td>\n",
       "      <td>0</td>\n",
       "      <td>0</td>\n",
       "      <td>0</td>\n",
       "      <td>0</td>\n",
       "      <td>...</td>\n",
       "      <td>0.0</td>\n",
       "      <td>0.0</td>\n",
       "      <td>0.00</td>\n",
       "      <td>0</td>\n",
       "      <td>0</td>\n",
       "      <td>0</td>\n",
       "      <td>0</td>\n",
       "      <td>0</td>\n",
       "      <td>0</td>\n",
       "      <td>0</td>\n",
       "    </tr>\n",
       "    <tr>\n",
       "      <th>18</th>\n",
       "      <td>84fe8e882</td>\n",
       "      <td>1000000.00</td>\n",
       "      <td>0.0</td>\n",
       "      <td>0</td>\n",
       "      <td>0.0</td>\n",
       "      <td>0</td>\n",
       "      <td>0</td>\n",
       "      <td>0</td>\n",
       "      <td>0</td>\n",
       "      <td>0</td>\n",
       "      <td>...</td>\n",
       "      <td>0.0</td>\n",
       "      <td>0.0</td>\n",
       "      <td>0.00</td>\n",
       "      <td>0</td>\n",
       "      <td>0</td>\n",
       "      <td>0</td>\n",
       "      <td>0</td>\n",
       "      <td>0</td>\n",
       "      <td>0</td>\n",
       "      <td>0</td>\n",
       "    </tr>\n",
       "    <tr>\n",
       "      <th>19</th>\n",
       "      <td>522d3b0d9</td>\n",
       "      <td>10710000.00</td>\n",
       "      <td>0.0</td>\n",
       "      <td>0</td>\n",
       "      <td>0.0</td>\n",
       "      <td>0</td>\n",
       "      <td>0</td>\n",
       "      <td>0</td>\n",
       "      <td>0</td>\n",
       "      <td>0</td>\n",
       "      <td>...</td>\n",
       "      <td>0.0</td>\n",
       "      <td>0.0</td>\n",
       "      <td>10290666.66</td>\n",
       "      <td>0</td>\n",
       "      <td>0</td>\n",
       "      <td>0</td>\n",
       "      <td>0</td>\n",
       "      <td>0</td>\n",
       "      <td>0</td>\n",
       "      <td>0</td>\n",
       "    </tr>\n",
       "  </tbody>\n",
       "</table>\n",
       "<p>20 rows × 4993 columns</p>\n",
       "</div>"
      ],
      "text/plain": [
       "           ID       target  48df886f9  0deb4b6a8  34b15f335  a8cb14b00  \\\n",
       "0   a699ddd5b  32000000.00        0.0          0        0.0          0   \n",
       "1   83587ad6e    400000.00        0.0          0        0.0          0   \n",
       "2   e62c51273  10000000.00        0.0          0        0.0          0   \n",
       "3   588b8f63e   8470000.00        0.0          0        0.0          0   \n",
       "4   ac3b2a385  10000000.00        0.0          0        0.0          0   \n",
       "5   08d27660b   3734230.76        0.0          0        0.0          0   \n",
       "6   76e1918a1  31000000.00        0.0          0        0.0          0   \n",
       "7   48b984180    340000.00        0.0          0        0.0          0   \n",
       "8   120eb3f4b    800000.00        0.0          0        0.0          0   \n",
       "9   ce20ac9be   1310000.00        0.0          0        0.0          0   \n",
       "10  931a84caa     42000.00        0.0          0        0.0          0   \n",
       "11  7f38dc37a  10900000.00        0.0          0        0.0          0   \n",
       "12  ba1d1e2c2   1200000.00        0.0          0        0.0          0   \n",
       "13  56c559ee2  19552000.00        0.0          0        0.0          0   \n",
       "14  b9f3fa031   6000000.00        0.0          0        0.0          0   \n",
       "15  e87f19688   1680000.00        0.0          0        0.0          0   \n",
       "16  db10cb173   5000000.00        0.0          0        0.0          0   \n",
       "17  207aa2662   5000000.00        0.0          0        0.0          0   \n",
       "18  84fe8e882   1000000.00        0.0          0        0.0          0   \n",
       "19  522d3b0d9  10710000.00        0.0          0        0.0          0   \n",
       "\n",
       "    2f0771a37  30347e683  d08d1fbe3  6ee66e115    ...      3ecc09859  \\\n",
       "0           0          0          0          0    ...            0.0   \n",
       "1           0          0          0          0    ...            0.0   \n",
       "2           0          0          0          0    ...            0.0   \n",
       "3           0          0          0          0    ...            0.0   \n",
       "4           0          0          0          0    ...            0.0   \n",
       "5           0          0          0          0    ...            0.0   \n",
       "6           0          0          0          0    ...            0.0   \n",
       "7           0          0          0          0    ...            0.0   \n",
       "8           0          0          0          0    ...            0.0   \n",
       "9           0          0          0          0    ...            0.0   \n",
       "10          0          0          0          0    ...            0.0   \n",
       "11          0          0          0          0    ...            0.0   \n",
       "12          0          0          0          0    ...            0.0   \n",
       "13          0          0          0          0    ...            0.0   \n",
       "14          0          0          0          0    ...            0.0   \n",
       "15          0          0          0          0    ...            0.0   \n",
       "16          0          0          0          0    ...            0.0   \n",
       "17          0          0          0          0    ...            0.0   \n",
       "18          0          0          0          0    ...            0.0   \n",
       "19          0          0          0          0    ...            0.0   \n",
       "\n",
       "    9281abeea    8675bec0b  3a13ed79a  f677d4d13  71b203550  137efaa80  \\\n",
       "0         0.0         0.00          0          0          0          0   \n",
       "1         0.0         0.00          0          0          0          0   \n",
       "2         0.0         0.00          0          0          0          0   \n",
       "3         0.0         0.00          0          0          0          0   \n",
       "4         0.0         0.00          0          0          0          0   \n",
       "5         0.0         0.00          0          0          0          0   \n",
       "6         0.0         0.00          0          0          0          0   \n",
       "7         0.0         0.00          0          0          0          0   \n",
       "8         0.0         0.00          0          0          0          0   \n",
       "9         0.0         0.00          0          0          0          0   \n",
       "10        0.0         0.00          0          0          0          0   \n",
       "11        0.0   4840000.00    1100000          0          0          0   \n",
       "12        0.0         0.00          0          0          0          0   \n",
       "13        0.0         0.00          0          0          0          0   \n",
       "14        0.0         0.00          0          0          0          0   \n",
       "15        0.0    436000.00          0          0     300000          0   \n",
       "16        0.0         0.00          0          0          0          0   \n",
       "17        0.0         0.00          0          0          0          0   \n",
       "18        0.0         0.00          0          0          0          0   \n",
       "19        0.0  10290666.66          0          0          0          0   \n",
       "\n",
       "    fb36b89d9  7e293fbaf  9fc776466  \n",
       "0           0          0          0  \n",
       "1           0          0          0  \n",
       "2           0          0          0  \n",
       "3           0          0          0  \n",
       "4           0          0          0  \n",
       "5           0          0          0  \n",
       "6           0          0          0  \n",
       "7           0          0          0  \n",
       "8           0          0          0  \n",
       "9           0          0          0  \n",
       "10          0          0     109200  \n",
       "11          0    3000000          0  \n",
       "12          0          0          0  \n",
       "13          0          0          0  \n",
       "14          0          0          0  \n",
       "15          0          0          0  \n",
       "16          0          0          0  \n",
       "17          0          0          0  \n",
       "18          0          0          0  \n",
       "19          0          0          0  \n",
       "\n",
       "[20 rows x 4993 columns]"
      ]
     },
     "execution_count": 5,
     "metadata": {},
     "output_type": "execute_result"
    }
   ],
   "source": [
    "data.head(20)"
   ]
  },
  {
   "cell_type": "markdown",
   "metadata": {
    "_uuid": "a49120fcb3a6b75afce284ab1368cc81d293c7fb"
   },
   "source": [
    "### 1.2 Preliminary data prerocessing"
   ]
  },
  {
   "cell_type": "markdown",
   "metadata": {
    "_uuid": "ae1392267fd5425e09213a35605c492a75b12372"
   },
   "source": [
    "**Drop the ID column**"
   ]
  },
  {
   "cell_type": "code",
   "execution_count": 6,
   "metadata": {
    "_uuid": "10b16b779516c0c07d6b59c0eb7474382df5e8c9"
   },
   "outputs": [],
   "source": [
    "data = data.drop('ID', axis=1)\n",
    "test_data = test_data.drop('ID', axis=1)"
   ]
  },
  {
   "cell_type": "markdown",
   "metadata": {
    "_uuid": "a5785020b15b3f6875d89f4da63105e9752203bd"
   },
   "source": [
    "**Fill missing values with column means**"
   ]
  },
  {
   "cell_type": "code",
   "execution_count": 7,
   "metadata": {
    "_uuid": "12d1e389ca5247e1f462662b807b8ba6f4b6d119"
   },
   "outputs": [],
   "source": [
    "data = data.fillna(data.mean())\n",
    "test_data = test_data.fillna(data.mean())"
   ]
  },
  {
   "cell_type": "markdown",
   "metadata": {
    "_uuid": "8e8bde10c91603e1a69d30d14bf8d45e96951abf"
   },
   "source": [
    "**Convert the data type to float 32**"
   ]
  },
  {
   "cell_type": "code",
   "execution_count": 8,
   "metadata": {
    "_uuid": "ac73467d298074f7cdecb6b2e1f44cf82c3329f2"
   },
   "outputs": [],
   "source": [
    "data = data.astype('float32')\n",
    "test_data = test_data.astype('float32')"
   ]
  },
  {
   "cell_type": "markdown",
   "metadata": {
    "_uuid": "739dfe9d146063a37fb0519eec6e8c610257eabd"
   },
   "source": [
    "**Extract the features**"
   ]
  },
  {
   "cell_type": "code",
   "execution_count": 9,
   "metadata": {
    "_uuid": "9c4964f24b2d3f6db06556644fb5073ab392030f"
   },
   "outputs": [],
   "source": [
    "features = data.columns.tolist()\n",
    "output = 'target'\n",
    "features.remove(output)"
   ]
  },
  {
   "cell_type": "markdown",
   "metadata": {
    "_uuid": "bbbc0a888bc4b10c5a509c5480742cea416c38d2"
   },
   "source": [
    "### 1.3 Discard single value feature"
   ]
  },
  {
   "cell_type": "markdown",
   "metadata": {
    "_uuid": "d9712da4d91b88062306a32c222758a867fb9a27"
   },
   "source": [
    "**A function to discard single value features**"
   ]
  },
  {
   "cell_type": "code",
   "execution_count": 10,
   "metadata": {
    "_uuid": "e1c70072b993e9934d17e3e8b4acd79de13d0284"
   },
   "outputs": [],
   "source": [
    "def discard_features_single_value(train_data, features):\n",
    "    \n",
    "    '''A function to discard single value features'''\n",
    "    \n",
    "    discarded_features = train_data.columns[train_data.nunique() == 1]\n",
    "    \n",
    "    selected_features = []\n",
    "    \n",
    "    for feature in features:\n",
    "        if feature not in discarded_features:\n",
    "            selected_features.append(feature)\n",
    "        \n",
    "    # return the lists of selected and discarded features\n",
    "    return selected_features, discarded_features"
   ]
  },
  {
   "cell_type": "code",
   "execution_count": 11,
   "metadata": {
    "_uuid": "c991efc71a07feb69e5c9c353e2e7c1176f5326b"
   },
   "outputs": [
    {
     "name": "stdout",
     "output_type": "stream",
     "text": [
      "Length of selected features: 4735\n"
     ]
    }
   ],
   "source": [
    "selected_features, discarded_features = discard_features_single_value(data, features)\n",
    "print(\"Length of selected features:\", len(selected_features))"
   ]
  },
  {
   "cell_type": "markdown",
   "metadata": {
    "_uuid": "ee88c8a540cccdbf30b87b6e36ead8c4cd42f191"
   },
   "source": [
    "**Drop the discarded features**"
   ]
  },
  {
   "cell_type": "code",
   "execution_count": 12,
   "metadata": {
    "_uuid": "8cb7ab65765fa377d9384d94f789397c6ba2a7b7"
   },
   "outputs": [],
   "source": [
    "data = data.drop(discarded_features, axis=1)\n",
    "test_data = test_data.drop(discarded_features, axis=1)\n",
    "features = selected_features"
   ]
  },
  {
   "cell_type": "markdown",
   "metadata": {
    "_uuid": "dcb7eb0a4b9c721d5b049b4d957c0b466145de71"
   },
   "source": [
    "### 1.4 Discard duplicated features"
   ]
  },
  {
   "cell_type": "markdown",
   "metadata": {
    "_uuid": "f0c416e3620351946e24b8876bc0a919abf8f6ae"
   },
   "source": [
    "**A function to discard dublicated features**"
   ]
  },
  {
   "cell_type": "code",
   "execution_count": 13,
   "metadata": {
    "_uuid": "ef5ff442eda1321248e5856a507e39c7c3bf0396"
   },
   "outputs": [],
   "source": [
    "def discard_duplicated_features(train_data, features):\n",
    "    \n",
    "    '''A function to discard dublicated features'''\n",
    "    \n",
    "    discarded_features = []    \n",
    "    selected_features = []\n",
    "    \n",
    "    for i in range(len(features)-1):\n",
    "        v = train_data[features[i]].values\n",
    "        for j in range(i + 1,len(features)):\n",
    "            if np.array_equal(v, train_data[features[j]].values):\n",
    "                discarded_features.append(features[j])\n",
    "                \n",
    "    for feature in features:\n",
    "        if feature not in discarded_features:\n",
    "            selected_features.append(feature)\n",
    "        \n",
    "    # return the lists of selected and discarded features\n",
    "    return selected_features, discarded_features"
   ]
  },
  {
   "cell_type": "code",
   "execution_count": 14,
   "metadata": {
    "_uuid": "f56e5657a8565763ec4e51484f8872f0d1af10df"
   },
   "outputs": [
    {
     "name": "stdout",
     "output_type": "stream",
     "text": [
      "Length of selected features: 4730\n"
     ]
    }
   ],
   "source": [
    "selected_features, discarded_features = discard_duplicated_features(data, features)\n",
    "print(\"Length of selected features:\", len(selected_features))"
   ]
  },
  {
   "cell_type": "markdown",
   "metadata": {
    "_uuid": "c2e4c068fd1309d4d30133f8dcac97b1e8d27063"
   },
   "source": [
    "**Drop the discarded features**"
   ]
  },
  {
   "cell_type": "code",
   "execution_count": 15,
   "metadata": {
    "_uuid": "a369e67828223361baac4342e4aa050cf4dae378"
   },
   "outputs": [],
   "source": [
    "data = data.drop(discarded_features, axis=1)\n",
    "test_data = test_data.drop(discarded_features, axis=1)\n",
    "features = selected_features"
   ]
  },
  {
   "cell_type": "markdown",
   "metadata": {
    "_uuid": "d60368133ded915776c0077abae7bc7cc9a4887d"
   },
   "source": [
    "### 1.5 Discard features based on Kolmogorov-Smirnov test"
   ]
  },
  {
   "cell_type": "markdown",
   "metadata": {},
   "source": [
    "**A function to discard features based on Kolmogorov-Smirnov test**"
   ]
  },
  {
   "cell_type": "code",
   "execution_count": 16,
   "metadata": {
    "_uuid": "825976423adfbb152bda569de6a0c2e5fddcce0a"
   },
   "outputs": [],
   "source": [
    "def select_features_ks_2samp(train_data, test_data, features, THRESHOLD_P_VALUE = 0.01, THRESHOLD_STATISTIC = 0.3):\n",
    "    \n",
    "    '''A function to discard features based on Kolmogorov-Smirnov test'''\n",
    "    \n",
    "    selected_features = []\n",
    "    discarded_features = []\n",
    "    \n",
    "    for feature in features:\n",
    "        statistic, pvalue = ks_2samp(train_data[feature].values, test_data[feature].values)\n",
    "        if pvalue <= THRESHOLD_P_VALUE and np.abs(statistic) > THRESHOLD_STATISTIC:\n",
    "            discarded_features.append(feature)\n",
    "        else:\n",
    "            selected_features.append(feature)\n",
    "            \n",
    "    # return the lists of selected and discarded features\n",
    "    return selected_features, discarded_features"
   ]
  },
  {
   "cell_type": "code",
   "execution_count": 17,
   "metadata": {
    "_uuid": "61b325ccb73b8768e83900f0fe416bd45f736aca"
   },
   "outputs": [
    {
     "name": "stdout",
     "output_type": "stream",
     "text": [
      "Length of selected features: 4148\n"
     ]
    }
   ],
   "source": [
    "selected_features, discarded_features = select_features_ks_2samp(data, test_data, features, THRESHOLD_P_VALUE = 0.01, THRESHOLD_STATISTIC = 0.05)\n",
    "print(\"Length of selected features:\", len(selected_features))"
   ]
  },
  {
   "cell_type": "markdown",
   "metadata": {
    "_uuid": "6f99c8be43ff6953ffb6fbeb2661047c12a88800"
   },
   "source": [
    "**Drop the discarded features**"
   ]
  },
  {
   "cell_type": "code",
   "execution_count": 18,
   "metadata": {
    "_uuid": "7e2e3b896e2d7f1407f628d66dca424fe9eaf514"
   },
   "outputs": [],
   "source": [
    "data = data.drop(discarded_features, axis=1)\n",
    "test_data = test_data.drop(discarded_features, axis=1)\n",
    "features = selected_features "
   ]
  },
  {
   "cell_type": "markdown",
   "metadata": {
    "_uuid": "83e6e7f48ff71db8d7e08694ff238fd9d826df54"
   },
   "source": [
    "### 1.6 Discard features based on correlation"
   ]
  },
  {
   "cell_type": "markdown",
   "metadata": {
    "_uuid": "925279e0cdb26d13921440b2cf772d787bb8c2bf"
   },
   "source": [
    "**A function to discard features based on correlation**"
   ]
  },
  {
   "cell_type": "code",
   "execution_count": 19,
   "metadata": {
    "_uuid": "29326f9832953f115cf00917c121bb77042e1c1d"
   },
   "outputs": [],
   "source": [
    "def select_features(data, features, output, threshold):\n",
    "    \n",
    "    '''A function to discard features based on correlation'''\n",
    "    \n",
    "    # a list to store the selected and discarded features\n",
    "    selected_features = []\n",
    "    discarded_features = []\n",
    "    \n",
    "    # iterate through each feature \n",
    "    for feature in features:\n",
    "        # compute correlation between feature and output\n",
    "        corr = data[output].corr(data[feature])\n",
    "        # select feature if the correlation is above threshold\n",
    "        if abs(corr)>=threshold:\n",
    "            selected_features.append(feature)\n",
    "        else:\n",
    "            discarded_features.append(feature)\n",
    "    \n",
    "    # return the lists of selected and discarded features\n",
    "    return selected_features, discarded_features"
   ]
  },
  {
   "cell_type": "code",
   "execution_count": 20,
   "metadata": {
    "_uuid": "fb98e1557407151e003d1f25ecd13322270c98c6"
   },
   "outputs": [
    {
     "name": "stdout",
     "output_type": "stream",
     "text": [
      "Length of selected features: 2419\n"
     ]
    }
   ],
   "source": [
    "selected_features, discarded_features = select_features(data,features, output, 0.01)\n",
    "print(\"Length of selected features:\", len(selected_features))"
   ]
  },
  {
   "cell_type": "markdown",
   "metadata": {
    "_uuid": "b40271d2c2b85da241b93493e65661d05cce4ade"
   },
   "source": [
    "**Drop the discarded features**"
   ]
  },
  {
   "cell_type": "code",
   "execution_count": 21,
   "metadata": {
    "_uuid": "2559735dccfb5fded4166041cd20bee29e6fa630"
   },
   "outputs": [],
   "source": [
    "data = data.drop(discarded_features, axis=1)\n",
    "test_data = test_data.drop(discarded_features, axis=1)\n",
    "features = selected_features "
   ]
  },
  {
   "cell_type": "markdown",
   "metadata": {
    "_uuid": "59a88e10588a4d49b5101844e4a8e51594402a46"
   },
   "source": [
    "### 1.7 Scale features"
   ]
  },
  {
   "cell_type": "markdown",
   "metadata": {
    "_uuid": "7c64e9945f57478db06f39fdc203d2b19f9e772e"
   },
   "source": [
    "**A function to scale data given a scaler and list of features**"
   ]
  },
  {
   "cell_type": "code",
   "execution_count": 22,
   "metadata": {
    "_uuid": "050b90c6896a504955d2a097ff573bd3a3ddf289"
   },
   "outputs": [],
   "source": [
    "def feature_scaler(scaler, data, features, test_data = False):\n",
    "    \n",
    "    '''A function to scale data given a scaler and list of features'''\n",
    "\n",
    "    # extract all the columns in the pandas dataframe\n",
    "    all_columns = data.columns.values.tolist()\n",
    "    # extract the rest of the features that are not selected for scaling\n",
    "    rest_of_cols = [feature for feature in all_columns if feature not in features]\n",
    "\n",
    "    # extract the unselected columns of the data and store it in a dataframe\n",
    "    rest = data[rest_of_cols]\n",
    "    # scale the columns of the selected featues of the training data\n",
    "    if not test_data:\n",
    "        feature = scaler.fit_transform(data[features])\n",
    "    else:\n",
    "        feature = scaler.transform(data[features])\n",
    "    # above operation returns a numpy array,\n",
    "    # so we convert this into pandas dataframe with the features as the column names\n",
    "    scaled_data = pd.DataFrame(feature, columns = features)\n",
    "    # add the rest of the unscaled column to the above dataframe to complete the dataframe\n",
    "    for col in rest_of_cols:\n",
    "        scaled_data[col] = rest[col].values\n",
    "\n",
    "    # return the scaled data and the scaler\n",
    "    return scaled_data, scaler"
   ]
  },
  {
   "cell_type": "markdown",
   "metadata": {
    "_uuid": "c86a22d370d08a15afda940e8846c6267ac403aa"
   },
   "source": [
    "**Create a scalar object**"
   ]
  },
  {
   "cell_type": "code",
   "execution_count": 23,
   "metadata": {
    "_uuid": "7ecd9d63b36cf34dffedff1a725f112599c1c6fc"
   },
   "outputs": [],
   "source": [
    "# import the minmax scaler module from scikit learn\n",
    "from sklearn.preprocessing import MinMaxScaler\n",
    "from sklearn.preprocessing import Normalizer\n",
    "# create a scalar object that scales data into a range of -1 to 1\n",
    "scaler = MinMaxScaler((0,1))"
   ]
  },
  {
   "cell_type": "markdown",
   "metadata": {
    "_uuid": "d59563a90fc6e4977068a1718e422893e2baeb55"
   },
   "source": [
    "**Scale the train & test data**"
   ]
  },
  {
   "cell_type": "code",
   "execution_count": 24,
   "metadata": {
    "_uuid": "3762aabed0d427d3981e13633755af1bf2897d26"
   },
   "outputs": [],
   "source": [
    "data, scaler = feature_scaler(scaler, data, features)\n",
    "test_data, scaler = feature_scaler(scaler, test_data, features, test_data=True)"
   ]
  },
  {
   "cell_type": "markdown",
   "metadata": {
    "_uuid": "8673cdb2617217f78e796d884c804ca4ec7e620a"
   },
   "source": [
    "### 1.8 Create new features "
   ]
  },
  {
   "cell_type": "code",
   "execution_count": 25,
   "metadata": {
    "_uuid": "7c8ac68fd958485cfe77ef784346339d6fae2f61"
   },
   "outputs": [],
   "source": [
    "data_tmp = data[features].copy()\n",
    "test_data_tmp = test_data[features].copy()"
   ]
  },
  {
   "cell_type": "code",
   "execution_count": 26,
   "metadata": {
    "_uuid": "691facc8a5a38dbb183f54c060af463be5b5d625"
   },
   "outputs": [],
   "source": [
    "data[\"sum\"] = data_tmp.sum(axis=1)\n",
    "test_data[\"sum\"] = test_data_tmp.sum(axis=1)\n",
    "data[\"var\"] = data_tmp.var(axis=1)\n",
    "test_data[\"var\"] = test_data_tmp.var(axis=1)\n",
    "data[\"median\"] = data_tmp.median(axis=1)\n",
    "test_data[\"median\"] = test_data_tmp.median(axis=1)\n",
    "data[\"mean\"] = data_tmp.mean(axis=1)\n",
    "test_data[\"mean\"] = test_data_tmp.mean(axis=1)\n",
    "data[\"std\"] = data_tmp.std(axis=1)\n",
    "test_data[\"std\"] = test_data_tmp.std(axis=1)\n",
    "data[\"max\"] = data_tmp.max(axis=1)\n",
    "test_data[\"max\"] = test_data_tmp.max(axis=1)\n",
    "data[\"min\"] = data_tmp.min(axis=1)\n",
    "test_data[\"min\"] = test_data_tmp.min(axis=1)\n",
    "data[\"skew\"] = data_tmp.skew(axis=1)\n",
    "test_data[\"skew\"] = test_data_tmp.skew(axis=1)\n",
    "data[\"kurtosis\"] = data_tmp.kurtosis(axis=1)\n",
    "test_data[\"kurtosis\"] = test_data_tmp.kurtosis(axis=1)\n",
    "del(test_data_tmp)\n",
    "del(data_tmp)"
   ]
  },
  {
   "cell_type": "code",
   "execution_count": 27,
   "metadata": {
    "_uuid": "f21cdd12e70476bfdcd99af9ded782a0b88cd8bf"
   },
   "outputs": [
    {
     "name": "stdout",
     "output_type": "stream",
     "text": [
      "Shape of train data: (4459, 2429)\n",
      "Shape of test data: (49342, 2428)\n"
     ]
    }
   ],
   "source": [
    "print(\"Shape of train data:\", data.shape)\n",
    "print(\"Shape of test data:\", test_data.shape)"
   ]
  },
  {
   "cell_type": "markdown",
   "metadata": {
    "_uuid": "e640cddcd74f55b40217d60603e41ed1a35a754f"
   },
   "source": [
    "### 1.9 Log transformation of skewed data"
   ]
  },
  {
   "cell_type": "code",
   "execution_count": 28,
   "metadata": {
    "_uuid": "d6f7a69d457528934b57b21f0ac23837297994ea"
   },
   "outputs": [
    {
     "name": "stdout",
     "output_type": "stream",
     "text": [
      "Number of skewed features: 2419\n"
     ]
    }
   ],
   "source": [
    "skewed_feats = data[features].apply(lambda x: skew(x)) #compute skewness\n",
    "skewed_feats = skewed_feats[skewed_feats > 2]\n",
    "skewed_feats = skewed_feats.index.tolist()\n",
    "print(\"Number of skewed features:\", len(skewed_feats))\n",
    "data[skewed_feats] = np.log1p(data[skewed_feats])\n",
    "test_data[skewed_feats] = np.log1p(test_data[skewed_feats])"
   ]
  },
  {
   "cell_type": "code",
   "execution_count": 29,
   "metadata": {
    "_uuid": "4788b9b3340817795484816d7877c4c92ba42797"
   },
   "outputs": [],
   "source": [
    "features = data.columns.tolist()\n",
    "output = 'target'\n",
    "features.remove(output)"
   ]
  },
  {
   "cell_type": "code",
   "execution_count": 30,
   "metadata": {
    "_uuid": "87678e9c966d332920f67127b243b000dc1af595"
   },
   "outputs": [],
   "source": [
    "# from sklearn.covariance import EllipticEnvelope\n",
    "# outliers_fraction = 0.01\n",
    "# outlier_detection= ElalipticEnvelope(contamination=outliers_fraction)\n",
    "# outlier_detection.fit(data[features])\n",
    "# preds = outlier_detection.predict(data[features])\n",
    "# outliers = preds==1\n",
    "# data = data.loc[outliers]"
   ]
  },
  {
   "cell_type": "markdown",
   "metadata": {
    "_uuid": "dd5911e8364db85294dce52a6e713651aa8bdf1f"
   },
   "source": [
    "### 1.10 Train test split the train set"
   ]
  },
  {
   "cell_type": "code",
   "execution_count": 31,
   "metadata": {
    "_uuid": "c6899b7201bc8b11f9ffc04c4674d2582e754e60"
   },
   "outputs": [],
   "source": [
    "from sklearn.model_selection import train_test_split\n",
    "train_data, valid_data = train_test_split(data, test_size = 0.10, random_state = 1)"
   ]
  },
  {
   "cell_type": "code",
   "execution_count": 32,
   "metadata": {
    "_uuid": "a8a78d999a33058b3d8ee4bb31c33cc208cfc89d",
    "scrolled": true
   },
   "outputs": [
    {
     "data": {
      "text/html": [
       "<div>\n",
       "<style scoped>\n",
       "    .dataframe tbody tr th:only-of-type {\n",
       "        vertical-align: middle;\n",
       "    }\n",
       "\n",
       "    .dataframe tbody tr th {\n",
       "        vertical-align: top;\n",
       "    }\n",
       "\n",
       "    .dataframe thead th {\n",
       "        text-align: right;\n",
       "    }\n",
       "</style>\n",
       "<table border=\"1\" class=\"dataframe\">\n",
       "  <thead>\n",
       "    <tr style=\"text-align: right;\">\n",
       "      <th></th>\n",
       "      <th>48df886f9</th>\n",
       "      <th>0deb4b6a8</th>\n",
       "      <th>34b15f335</th>\n",
       "      <th>2f0771a37</th>\n",
       "      <th>30347e683</th>\n",
       "      <th>6ee66e115</th>\n",
       "      <th>dc5a8f1d8</th>\n",
       "      <th>77c9823f2</th>\n",
       "      <th>8d6c2a0b2</th>\n",
       "      <th>adf119b9a</th>\n",
       "      <th>...</th>\n",
       "      <th>target</th>\n",
       "      <th>sum</th>\n",
       "      <th>var</th>\n",
       "      <th>median</th>\n",
       "      <th>mean</th>\n",
       "      <th>std</th>\n",
       "      <th>max</th>\n",
       "      <th>min</th>\n",
       "      <th>skew</th>\n",
       "      <th>kurtosis</th>\n",
       "    </tr>\n",
       "  </thead>\n",
       "  <tbody>\n",
       "    <tr>\n",
       "      <th>4137</th>\n",
       "      <td>0.0</td>\n",
       "      <td>0.0</td>\n",
       "      <td>0.0</td>\n",
       "      <td>0.0</td>\n",
       "      <td>0.0</td>\n",
       "      <td>0.0</td>\n",
       "      <td>0.0</td>\n",
       "      <td>0.0</td>\n",
       "      <td>0.0</td>\n",
       "      <td>0.0</td>\n",
       "      <td>...</td>\n",
       "      <td>2.066667e+05</td>\n",
       "      <td>0.827023</td>\n",
       "      <td>6.280479e-06</td>\n",
       "      <td>0.0</td>\n",
       "      <td>3.418862e-04</td>\n",
       "      <td>0.002506</td>\n",
       "      <td>0.026690</td>\n",
       "      <td>0.0</td>\n",
       "      <td>7.595515</td>\n",
       "      <td>57.896122</td>\n",
       "    </tr>\n",
       "    <tr>\n",
       "      <th>794</th>\n",
       "      <td>0.0</td>\n",
       "      <td>0.0</td>\n",
       "      <td>0.0</td>\n",
       "      <td>0.0</td>\n",
       "      <td>0.0</td>\n",
       "      <td>0.0</td>\n",
       "      <td>0.0</td>\n",
       "      <td>0.0</td>\n",
       "      <td>0.0</td>\n",
       "      <td>0.0</td>\n",
       "      <td>...</td>\n",
       "      <td>4.542000e+06</td>\n",
       "      <td>0.000634</td>\n",
       "      <td>1.660352e-10</td>\n",
       "      <td>0.0</td>\n",
       "      <td>2.619884e-07</td>\n",
       "      <td>0.000013</td>\n",
       "      <td>0.000634</td>\n",
       "      <td>0.0</td>\n",
       "      <td>49.183331</td>\n",
       "      <td>2419.000000</td>\n",
       "    </tr>\n",
       "    <tr>\n",
       "      <th>2534</th>\n",
       "      <td>0.0</td>\n",
       "      <td>0.0</td>\n",
       "      <td>0.0</td>\n",
       "      <td>0.0</td>\n",
       "      <td>0.0</td>\n",
       "      <td>0.0</td>\n",
       "      <td>0.0</td>\n",
       "      <td>0.0</td>\n",
       "      <td>0.0</td>\n",
       "      <td>0.0</td>\n",
       "      <td>...</td>\n",
       "      <td>3.070000e+05</td>\n",
       "      <td>42.156421</td>\n",
       "      <td>4.068944e-03</td>\n",
       "      <td>0.0</td>\n",
       "      <td>1.742721e-02</td>\n",
       "      <td>0.063788</td>\n",
       "      <td>1.000000</td>\n",
       "      <td>0.0</td>\n",
       "      <td>7.019270</td>\n",
       "      <td>70.107522</td>\n",
       "    </tr>\n",
       "    <tr>\n",
       "      <th>3746</th>\n",
       "      <td>0.0</td>\n",
       "      <td>0.0</td>\n",
       "      <td>0.0</td>\n",
       "      <td>0.0</td>\n",
       "      <td>0.0</td>\n",
       "      <td>0.0</td>\n",
       "      <td>0.0</td>\n",
       "      <td>0.0</td>\n",
       "      <td>0.0</td>\n",
       "      <td>0.0</td>\n",
       "      <td>...</td>\n",
       "      <td>1.000000e+07</td>\n",
       "      <td>6.104486</td>\n",
       "      <td>8.313252e-04</td>\n",
       "      <td>0.0</td>\n",
       "      <td>2.523558e-03</td>\n",
       "      <td>0.028833</td>\n",
       "      <td>1.000000</td>\n",
       "      <td>0.0</td>\n",
       "      <td>21.539641</td>\n",
       "      <td>636.029021</td>\n",
       "    </tr>\n",
       "    <tr>\n",
       "      <th>1396</th>\n",
       "      <td>0.0</td>\n",
       "      <td>0.0</td>\n",
       "      <td>0.0</td>\n",
       "      <td>0.0</td>\n",
       "      <td>0.0</td>\n",
       "      <td>0.0</td>\n",
       "      <td>0.0</td>\n",
       "      <td>0.0</td>\n",
       "      <td>0.0</td>\n",
       "      <td>0.0</td>\n",
       "      <td>...</td>\n",
       "      <td>3.250000e+07</td>\n",
       "      <td>43.044428</td>\n",
       "      <td>1.093997e-02</td>\n",
       "      <td>0.0</td>\n",
       "      <td>1.779431e-02</td>\n",
       "      <td>0.104594</td>\n",
       "      <td>1.000000</td>\n",
       "      <td>0.0</td>\n",
       "      <td>6.669603</td>\n",
       "      <td>47.676821</td>\n",
       "    </tr>\n",
       "  </tbody>\n",
       "</table>\n",
       "<p>5 rows × 2429 columns</p>\n",
       "</div>"
      ],
      "text/plain": [
       "      48df886f9  0deb4b6a8  34b15f335  2f0771a37  30347e683  6ee66e115  \\\n",
       "4137        0.0        0.0        0.0        0.0        0.0        0.0   \n",
       "794         0.0        0.0        0.0        0.0        0.0        0.0   \n",
       "2534        0.0        0.0        0.0        0.0        0.0        0.0   \n",
       "3746        0.0        0.0        0.0        0.0        0.0        0.0   \n",
       "1396        0.0        0.0        0.0        0.0        0.0        0.0   \n",
       "\n",
       "      dc5a8f1d8  77c9823f2  8d6c2a0b2  adf119b9a     ...             target  \\\n",
       "4137        0.0        0.0        0.0        0.0     ...       2.066667e+05   \n",
       "794         0.0        0.0        0.0        0.0     ...       4.542000e+06   \n",
       "2534        0.0        0.0        0.0        0.0     ...       3.070000e+05   \n",
       "3746        0.0        0.0        0.0        0.0     ...       1.000000e+07   \n",
       "1396        0.0        0.0        0.0        0.0     ...       3.250000e+07   \n",
       "\n",
       "            sum           var  median          mean       std       max  min  \\\n",
       "4137   0.827023  6.280479e-06     0.0  3.418862e-04  0.002506  0.026690  0.0   \n",
       "794    0.000634  1.660352e-10     0.0  2.619884e-07  0.000013  0.000634  0.0   \n",
       "2534  42.156421  4.068944e-03     0.0  1.742721e-02  0.063788  1.000000  0.0   \n",
       "3746   6.104486  8.313252e-04     0.0  2.523558e-03  0.028833  1.000000  0.0   \n",
       "1396  43.044428  1.093997e-02     0.0  1.779431e-02  0.104594  1.000000  0.0   \n",
       "\n",
       "           skew     kurtosis  \n",
       "4137   7.595515    57.896122  \n",
       "794   49.183331  2419.000000  \n",
       "2534   7.019270    70.107522  \n",
       "3746  21.539641   636.029021  \n",
       "1396   6.669603    47.676821  \n",
       "\n",
       "[5 rows x 2429 columns]"
      ]
     },
     "execution_count": 32,
     "metadata": {},
     "output_type": "execute_result"
    }
   ],
   "source": [
    "train_data.head()"
   ]
  },
  {
   "cell_type": "code",
   "execution_count": 33,
   "metadata": {
    "_uuid": "e049074abbb72c0b33c4ea1662bb09efd3bf2c67"
   },
   "outputs": [
    {
     "name": "stdout",
     "output_type": "stream",
     "text": [
      "Shape of train data: (4013, 2429)\n"
     ]
    }
   ],
   "source": [
    "print(\"Shape of train data:\",train_data.shape)"
   ]
  },
  {
   "cell_type": "code",
   "execution_count": 34,
   "metadata": {
    "_uuid": "2506e997215a5b7f499f88ea3ec83e3c9d2a4021"
   },
   "outputs": [
    {
     "data": {
      "text/html": [
       "<div>\n",
       "<style scoped>\n",
       "    .dataframe tbody tr th:only-of-type {\n",
       "        vertical-align: middle;\n",
       "    }\n",
       "\n",
       "    .dataframe tbody tr th {\n",
       "        vertical-align: top;\n",
       "    }\n",
       "\n",
       "    .dataframe thead th {\n",
       "        text-align: right;\n",
       "    }\n",
       "</style>\n",
       "<table border=\"1\" class=\"dataframe\">\n",
       "  <thead>\n",
       "    <tr style=\"text-align: right;\">\n",
       "      <th></th>\n",
       "      <th>48df886f9</th>\n",
       "      <th>0deb4b6a8</th>\n",
       "      <th>34b15f335</th>\n",
       "      <th>2f0771a37</th>\n",
       "      <th>30347e683</th>\n",
       "      <th>6ee66e115</th>\n",
       "      <th>dc5a8f1d8</th>\n",
       "      <th>77c9823f2</th>\n",
       "      <th>8d6c2a0b2</th>\n",
       "      <th>adf119b9a</th>\n",
       "      <th>...</th>\n",
       "      <th>target</th>\n",
       "      <th>sum</th>\n",
       "      <th>var</th>\n",
       "      <th>median</th>\n",
       "      <th>mean</th>\n",
       "      <th>std</th>\n",
       "      <th>max</th>\n",
       "      <th>min</th>\n",
       "      <th>skew</th>\n",
       "      <th>kurtosis</th>\n",
       "    </tr>\n",
       "  </thead>\n",
       "  <tbody>\n",
       "    <tr>\n",
       "      <th>2012</th>\n",
       "      <td>0.0</td>\n",
       "      <td>0.0</td>\n",
       "      <td>0.0</td>\n",
       "      <td>0.0</td>\n",
       "      <td>0.0</td>\n",
       "      <td>0.0</td>\n",
       "      <td>0.0</td>\n",
       "      <td>0.0</td>\n",
       "      <td>0.0</td>\n",
       "      <td>0.0</td>\n",
       "      <td>...</td>\n",
       "      <td>5.400000e+06</td>\n",
       "      <td>2.321911</td>\n",
       "      <td>3.193551e-04</td>\n",
       "      <td>0.0</td>\n",
       "      <td>0.000960</td>\n",
       "      <td>0.017871</td>\n",
       "      <td>0.716000</td>\n",
       "      <td>0.0</td>\n",
       "      <td>30.777772</td>\n",
       "      <td>1121.798607</td>\n",
       "    </tr>\n",
       "    <tr>\n",
       "      <th>3205</th>\n",
       "      <td>0.0</td>\n",
       "      <td>0.0</td>\n",
       "      <td>0.0</td>\n",
       "      <td>0.0</td>\n",
       "      <td>0.0</td>\n",
       "      <td>0.0</td>\n",
       "      <td>0.0</td>\n",
       "      <td>0.0</td>\n",
       "      <td>0.0</td>\n",
       "      <td>0.0</td>\n",
       "      <td>...</td>\n",
       "      <td>1.000000e+07</td>\n",
       "      <td>0.233856</td>\n",
       "      <td>1.575028e-05</td>\n",
       "      <td>0.0</td>\n",
       "      <td>0.000097</td>\n",
       "      <td>0.003969</td>\n",
       "      <td>0.194049</td>\n",
       "      <td>0.0</td>\n",
       "      <td>48.359108</td>\n",
       "      <td>2362.176518</td>\n",
       "    </tr>\n",
       "    <tr>\n",
       "      <th>2359</th>\n",
       "      <td>0.0</td>\n",
       "      <td>0.0</td>\n",
       "      <td>0.0</td>\n",
       "      <td>0.0</td>\n",
       "      <td>0.0</td>\n",
       "      <td>0.0</td>\n",
       "      <td>0.0</td>\n",
       "      <td>0.0</td>\n",
       "      <td>0.0</td>\n",
       "      <td>0.0</td>\n",
       "      <td>...</td>\n",
       "      <td>5.286667e+05</td>\n",
       "      <td>0.008000</td>\n",
       "      <td>2.645721e-08</td>\n",
       "      <td>0.0</td>\n",
       "      <td>0.000003</td>\n",
       "      <td>0.000163</td>\n",
       "      <td>0.008000</td>\n",
       "      <td>0.0</td>\n",
       "      <td>49.183331</td>\n",
       "      <td>2419.000000</td>\n",
       "    </tr>\n",
       "    <tr>\n",
       "      <th>4387</th>\n",
       "      <td>0.0</td>\n",
       "      <td>0.0</td>\n",
       "      <td>0.0</td>\n",
       "      <td>0.0</td>\n",
       "      <td>0.0</td>\n",
       "      <td>0.0</td>\n",
       "      <td>0.0</td>\n",
       "      <td>0.0</td>\n",
       "      <td>0.0</td>\n",
       "      <td>0.0</td>\n",
       "      <td>...</td>\n",
       "      <td>1.400000e+06</td>\n",
       "      <td>1.502399</td>\n",
       "      <td>4.315184e-04</td>\n",
       "      <td>0.0</td>\n",
       "      <td>0.000621</td>\n",
       "      <td>0.020773</td>\n",
       "      <td>1.000000</td>\n",
       "      <td>0.0</td>\n",
       "      <td>46.341983</td>\n",
       "      <td>2219.700308</td>\n",
       "    </tr>\n",
       "    <tr>\n",
       "      <th>3116</th>\n",
       "      <td>0.0</td>\n",
       "      <td>0.0</td>\n",
       "      <td>0.0</td>\n",
       "      <td>0.0</td>\n",
       "      <td>0.0</td>\n",
       "      <td>0.0</td>\n",
       "      <td>0.0</td>\n",
       "      <td>0.0</td>\n",
       "      <td>0.0</td>\n",
       "      <td>0.0</td>\n",
       "      <td>...</td>\n",
       "      <td>3.000000e+05</td>\n",
       "      <td>0.535550</td>\n",
       "      <td>3.147828e-05</td>\n",
       "      <td>0.0</td>\n",
       "      <td>0.000221</td>\n",
       "      <td>0.005611</td>\n",
       "      <td>0.240000</td>\n",
       "      <td>0.0</td>\n",
       "      <td>35.522141</td>\n",
       "      <td>1425.804188</td>\n",
       "    </tr>\n",
       "  </tbody>\n",
       "</table>\n",
       "<p>5 rows × 2429 columns</p>\n",
       "</div>"
      ],
      "text/plain": [
       "      48df886f9  0deb4b6a8  34b15f335  2f0771a37  30347e683  6ee66e115  \\\n",
       "2012        0.0        0.0        0.0        0.0        0.0        0.0   \n",
       "3205        0.0        0.0        0.0        0.0        0.0        0.0   \n",
       "2359        0.0        0.0        0.0        0.0        0.0        0.0   \n",
       "4387        0.0        0.0        0.0        0.0        0.0        0.0   \n",
       "3116        0.0        0.0        0.0        0.0        0.0        0.0   \n",
       "\n",
       "      dc5a8f1d8  77c9823f2  8d6c2a0b2  adf119b9a     ...             target  \\\n",
       "2012        0.0        0.0        0.0        0.0     ...       5.400000e+06   \n",
       "3205        0.0        0.0        0.0        0.0     ...       1.000000e+07   \n",
       "2359        0.0        0.0        0.0        0.0     ...       5.286667e+05   \n",
       "4387        0.0        0.0        0.0        0.0     ...       1.400000e+06   \n",
       "3116        0.0        0.0        0.0        0.0     ...       3.000000e+05   \n",
       "\n",
       "           sum           var  median      mean       std       max  min  \\\n",
       "2012  2.321911  3.193551e-04     0.0  0.000960  0.017871  0.716000  0.0   \n",
       "3205  0.233856  1.575028e-05     0.0  0.000097  0.003969  0.194049  0.0   \n",
       "2359  0.008000  2.645721e-08     0.0  0.000003  0.000163  0.008000  0.0   \n",
       "4387  1.502399  4.315184e-04     0.0  0.000621  0.020773  1.000000  0.0   \n",
       "3116  0.535550  3.147828e-05     0.0  0.000221  0.005611  0.240000  0.0   \n",
       "\n",
       "           skew     kurtosis  \n",
       "2012  30.777772  1121.798607  \n",
       "3205  48.359108  2362.176518  \n",
       "2359  49.183331  2419.000000  \n",
       "4387  46.341983  2219.700308  \n",
       "3116  35.522141  1425.804188  \n",
       "\n",
       "[5 rows x 2429 columns]"
      ]
     },
     "execution_count": 34,
     "metadata": {},
     "output_type": "execute_result"
    }
   ],
   "source": [
    "valid_data.head()"
   ]
  },
  {
   "cell_type": "code",
   "execution_count": 35,
   "metadata": {
    "_uuid": "3eceb98c6f567bd465aed3e03ecad0fcee1b9b86"
   },
   "outputs": [
    {
     "name": "stdout",
     "output_type": "stream",
     "text": [
      "Shape of valid data: (446, 2429)\n"
     ]
    }
   ],
   "source": [
    "print(\"Shape of valid data:\",valid_data.shape)"
   ]
  },
  {
   "cell_type": "markdown",
   "metadata": {
    "_uuid": "febf55184c32b3ce12c7c77515dd87fc2f631d0a"
   },
   "source": [
    "### 2.1 Create X y data"
   ]
  },
  {
   "cell_type": "markdown",
   "metadata": {
    "_uuid": "7d6c2a73618d28daedff927bc4970fa7b575ce80"
   },
   "source": [
    "**Create X y data for train set**"
   ]
  },
  {
   "cell_type": "code",
   "execution_count": 36,
   "metadata": {
    "_uuid": "942103f4cc15fdd68e78176b15bdb53629a1db12"
   },
   "outputs": [],
   "source": [
    "X_train = train_data[features].as_matrix()\n",
    "y_train = train_data[output].as_matrix()\n",
    "X_valid = valid_data[features].as_matrix()\n",
    "y_valid = valid_data[output].as_matrix()"
   ]
  },
  {
   "cell_type": "markdown",
   "metadata": {
    "_uuid": "fe56526ef54afa8089a5d52d9e40f806de006383"
   },
   "source": [
    "**Create X data for test set**"
   ]
  },
  {
   "cell_type": "code",
   "execution_count": 37,
   "metadata": {
    "_uuid": "9ac41251088ba975ae6dc3d75ccd43ea02d178c0"
   },
   "outputs": [],
   "source": [
    "X_test = test_data[features].as_matrix()\n",
    "del(test_data)"
   ]
  },
  {
   "cell_type": "markdown",
   "metadata": {
    "_uuid": "a70f0ff49dcdddaa98b64579966e04c2175f7fbb"
   },
   "source": [
    "## 2. Multiple model hyperparameter generator"
   ]
  },
  {
   "cell_type": "markdown",
   "metadata": {
    "_uuid": "ac214f961c86298f1b750253e98bcf044b9a53f7"
   },
   "source": [
    "**Generate a list of learning rates**"
   ]
  },
  {
   "cell_type": "code",
   "execution_count": 38,
   "metadata": {
    "_uuid": "4ee147650432185e808d26dd332d332c69711a7d"
   },
   "outputs": [
    {
     "name": "stdout",
     "output_type": "stream",
     "text": [
      "[ 0.0001  0.0001  0.0001  0.0001  0.0001  0.0001  0.0001  0.0001  0.0001\n",
      "  0.0001  0.0001  0.0001  0.0001  0.0001  0.0001  0.0001  0.0001  0.0001\n",
      "  0.0001  0.0001  0.0001  0.0001  0.0001  0.0001  0.0001  0.0001  0.0001\n",
      "  0.0001  0.0001  0.0001  0.0001  0.0001  0.0001  0.0001  0.0001  0.0001\n",
      "  0.0002  0.0002  0.0002  0.0002  0.0002  0.0002  0.0002  0.0002  0.0002\n",
      "  0.0002  0.0002  0.0002  0.0002  0.0002  0.0002  0.0002  0.0002  0.0002\n",
      "  0.0002  0.0002  0.0002  0.0002  0.0002  0.0002  0.0002  0.0002  0.0002\n",
      "  0.0002  0.0002  0.0002  0.0002  0.0002  0.0002  0.0002  0.0002  0.0002\n",
      "  0.0002  0.0002  0.0002  0.0002  0.0002  0.0002  0.0002  0.0002  0.0003\n",
      "  0.0003  0.0003  0.0003  0.0003  0.0003  0.0003  0.0003  0.0003  0.0003\n",
      "  0.0003  0.0003  0.0003  0.0003  0.0003  0.0003  0.0003  0.0003  0.0003\n",
      "  0.0003  0.0003  0.0003  0.0003  0.0003  0.0003  0.0003  0.0003  0.0003\n",
      "  0.0003  0.0004  0.0004  0.0004  0.0004  0.0004  0.0004  0.0004  0.0004\n",
      "  0.0004  0.0004  0.0004  0.0004  0.0004  0.0004  0.0004  0.0004  0.0004\n",
      "  0.0004  0.0004  0.0004  0.0004  0.0005  0.0005  0.0005  0.0005  0.0005\n",
      "  0.0005  0.0005  0.0005  0.0005  0.0005  0.0005  0.0005  0.0005  0.0005\n",
      "  0.0005  0.0005  0.0005  0.0005  0.0006  0.0006  0.0006  0.0006  0.0006\n",
      "  0.0006  0.0006  0.0006  0.0006  0.0006  0.0006  0.0006  0.0006  0.0006\n",
      "  0.0007  0.0007  0.0007  0.0007  0.0007  0.0007  0.0007  0.0007  0.0007\n",
      "  0.0007  0.0007  0.0007  0.0007  0.0008  0.0008  0.0008  0.0008  0.0008\n",
      "  0.0008  0.0008  0.0008  0.0008  0.0008  0.0009  0.0009  0.0009  0.0009\n",
      "  0.0009  0.0009  0.0009  0.0009  0.0009  0.0009  0.001   0.001   0.001\n",
      "  0.001   0.001 ]\n"
     ]
    }
   ],
   "source": [
    "learning_rates = np.round(np.logspace(-4,-3,num=200),4)\n",
    "print(learning_rates)"
   ]
  },
  {
   "cell_type": "markdown",
   "metadata": {
    "_uuid": "97203812438930fa00e7e0eef6407c23047f7d1e"
   },
   "source": [
    "**Generate a list of stddevs**"
   ]
  },
  {
   "cell_type": "code",
   "execution_count": 39,
   "metadata": {
    "_uuid": "3211d05461bd1c1a9a50d3bc49322b28ca5847e1"
   },
   "outputs": [
    {
     "name": "stdout",
     "output_type": "stream",
     "text": [
      "[ 0.005   0.0051  0.0052  0.0054  0.0055  0.0056  0.0057  0.0059  0.006\n",
      "  0.0062  0.0063  0.0065  0.0066  0.0068  0.0069  0.0071  0.0073  0.0074\n",
      "  0.0076  0.0078  0.008   0.0081  0.0083  0.0085  0.0087  0.0089  0.0092\n",
      "  0.0094  0.0096  0.0098  0.01    0.0103  0.0105  0.0108  0.011   0.0113\n",
      "  0.0116  0.0118  0.0121  0.0124  0.0127  0.013   0.0133  0.0136  0.0139\n",
      "  0.0142  0.0146  0.0149  0.0153  0.0156  0.016   0.0164  0.0168  0.0172\n",
      "  0.0176  0.018   0.0184  0.0188  0.0193  0.0197  0.0202  0.0207  0.0211\n",
      "  0.0216  0.0222  0.0227  0.0232  0.0238  0.0243  0.0249  0.0255  0.0261\n",
      "  0.0267  0.0273  0.028   0.0286  0.0293  0.03    0.0307  0.0314  0.0321\n",
      "  0.0329  0.0337  0.0345  0.0353  0.0361  0.037   0.0378  0.0387  0.0396\n",
      "  0.0406  0.0415  0.0425  0.0435  0.0445  0.0456  0.0466  0.0477  0.0489\n",
      "  0.05  ]\n"
     ]
    }
   ],
   "source": [
    "stddevs = np.round(np.logspace(-2.301,-1.301,num=100),4)\n",
    "print(stddevs)"
   ]
  },
  {
   "cell_type": "markdown",
   "metadata": {
    "_uuid": "1b85e635798540e061ab7226b162856e1c71fe55"
   },
   "source": [
    "**A function to generate a single layer dimension**"
   ]
  },
  {
   "cell_type": "code",
   "execution_count": 40,
   "metadata": {
    "_uuid": "b14f2b10d5f902d4a37227c40c4bfe867b36f12e"
   },
   "outputs": [],
   "source": [
    "def layer_dim_generate(layer_sizes):\n",
    "    \n",
    "    '''A function to generate a single layer dimension'''\n",
    "    \n",
    "    layer_sizes_copy = layer_sizes[:]    \n",
    "    num_hidden = np.random.randint(low = 6, high = 20)\n",
    "    layer_dims = []\n",
    "    \n",
    "    for n in range(num_hidden):        \n",
    "        layer_dims.append(layer_sizes_copy[0])            \n",
    "        if np.random.uniform(0, 1)>0.65 and len(layer_sizes_copy)>1:\n",
    "            layer_sizes_copy.pop(0)\n",
    "            \n",
    "    return layer_dims"
   ]
  },
  {
   "cell_type": "markdown",
   "metadata": {
    "_uuid": "10d60b1e9b0fcb1a3cc2ba9f4c794c7e578e706d"
   },
   "source": [
    "**A function to generate multiple layer dimensions**"
   ]
  },
  {
   "cell_type": "code",
   "execution_count": 41,
   "metadata": {
    "_uuid": "c93448237ecacf34df9afc1e1ebef94f0eecd0d9"
   },
   "outputs": [],
   "source": [
    "def layer_dim_generator(number, layer_sizes):\n",
    "    \n",
    "    '''A function to generate multiple layer dimensions'''    \n",
    "    layers = []\n",
    "    for i in range(number):\n",
    "        layers.append(layer_dim_generate(layer_sizes))\n",
    "    return layers"
   ]
  },
  {
   "cell_type": "markdown",
   "metadata": {
    "_uuid": "a6ff2fa010c20a3e32c8fb451dd4f51dcb0b5f39"
   },
   "source": [
    "**A function to randomly generate a given number of learning rates**"
   ]
  },
  {
   "cell_type": "code",
   "execution_count": 42,
   "metadata": {
    "_uuid": "3698404e2fec1f9039631f9dd52030f553abaca8"
   },
   "outputs": [],
   "source": [
    "def learning_rate_generator(learning_rates, number, randome_seed = 0):\n",
    "    \n",
    "    '''A function to randomly generate a given number of learning rates'''    \n",
    "    np.random.seed(randome_seed)\n",
    "    \n",
    "    return np.random.choice(learning_rates, size=number).tolist()"
   ]
  },
  {
   "cell_type": "markdown",
   "metadata": {
    "_uuid": "eeec8dd456e5389f970e05bf895d41fbf3159fcc"
   },
   "source": [
    "**A function to randomly generate a given number of stddevs**"
   ]
  },
  {
   "cell_type": "code",
   "execution_count": 43,
   "metadata": {
    "_uuid": "be598276f652bf4487cf390821b5255a0e8ffe80"
   },
   "outputs": [],
   "source": [
    "def stddev_generator(stddevs, number, randome_seed = 0):\n",
    "    \n",
    "    '''A function to randomly generate a given number of stddevs'''    \n",
    "    np.random.seed(randome_seed)\n",
    "    \n",
    "    return np.random.choice(stddevs, size=number).tolist()"
   ]
  },
  {
   "cell_type": "markdown",
   "metadata": {
    "_uuid": "4a449cfa6b5a0d7eb7de9eb23277c4b66eae8d5b"
   },
   "source": [
    "**A function which generate a list of set of hypterparameters using caviar strategy search**"
   ]
  },
  {
   "cell_type": "code",
   "execution_count": 44,
   "metadata": {
    "_uuid": "5b920d13e0f8124d8d866720745a8deac063f43e"
   },
   "outputs": [],
   "source": [
    "def caviar_strategy_search(number, layer_sizes, learning_rates, stddevs, random_seed =0):\n",
    "    \n",
    "    '''A function which generate a list of set of hypterparameters using caviar strategy search'''\n",
    "    \n",
    "    learning_rate_list = learning_rate_generator(learning_rates, number, randome_seed = random_seed)\n",
    "    stddev_list = stddev_generator(stddevs, number, randome_seed = random_seed)\n",
    "    model_architecture_list  = layer_dim_generator(number, layer_sizes)\n",
    "    \n",
    "    return learning_rate_list, stddev_list, model_architecture_list"
   ]
  },
  {
   "cell_type": "markdown",
   "metadata": {
    "_uuid": "0f93578950972ee185047a63cc9a1ed832ea9b5a"
   },
   "source": [
    "**Generate a given number of sets of hyperparameters**"
   ]
  },
  {
   "cell_type": "code",
   "execution_count": 45,
   "metadata": {
    "_uuid": "6f7a466b81acf56d72815c99bb183b2b7e4f202c"
   },
   "outputs": [],
   "source": [
    "layer_sizes = [128,64,32,16]\n",
    "numbers = 8\n",
    "learning_rate_list, stddev_list, model_architecture_list = caviar_strategy_search(numbers, layer_sizes, learning_rates,stddevs)"
   ]
  },
  {
   "cell_type": "markdown",
   "metadata": {
    "_uuid": "3591b4fcbb94fbc5e60169a7b6ea7267eaa1afcf"
   },
   "source": [
    "## 3. Create graph and train multiple models"
   ]
  },
  {
   "cell_type": "markdown",
   "metadata": {
    "_uuid": "d2cdfa8c644ae4d322c660985d1a291a3c9968c5"
   },
   "source": [
    "**Import tensorflow and print out the list of devices**"
   ]
  },
  {
   "cell_type": "code",
   "execution_count": 46,
   "metadata": {
    "_uuid": "e5f88d1f15d1edeeaeb94c0cc8044020633e2884"
   },
   "outputs": [
    {
     "name": "stdout",
     "output_type": "stream",
     "text": [
      "[name: \"/cpu:0\"\n",
      "device_type: \"CPU\"\n",
      "memory_limit: 268435456\n",
      "locality {\n",
      "}\n",
      "incarnation: 5390482321518887417\n",
      ", name: \"/gpu:0\"\n",
      "device_type: \"GPU\"\n",
      "memory_limit: 11310504346\n",
      "locality {\n",
      "  bus_id: 1\n",
      "}\n",
      "incarnation: 6557630667826411839\n",
      "physical_device_desc: \"device: 0, name: Tesla K80, pci bus id: 0000:00:04.0\"\n",
      "]\n"
     ]
    }
   ],
   "source": [
    "from tensorflow.python.client import device_lib\n",
    "devices = device_lib.list_local_devices()\n",
    "print(devices)"
   ]
  },
  {
   "cell_type": "markdown",
   "metadata": {
    "_uuid": "7b0f4fcf50e045b56e5bfd4e2f5918aded7230e2"
   },
   "source": [
    "**Select GPU as computation device if there are any**"
   ]
  },
  {
   "cell_type": "code",
   "execution_count": 47,
   "metadata": {
    "_uuid": "142b6d5c1b87beffcd8478ae0cc22744d3a3804b"
   },
   "outputs": [],
   "source": [
    "if len(devices)>1:\n",
    "    device = devices[1].name\n",
    "else:\n",
    "    device = devices[0].name"
   ]
  },
  {
   "cell_type": "markdown",
   "metadata": {
    "_uuid": "456b547b5c7d3764085e5150a42a7d173304e352"
   },
   "source": [
    "### 3.1 A function to create dnn regressor graph"
   ]
  },
  {
   "cell_type": "code",
   "execution_count": 48,
   "metadata": {
    "_uuid": "ed489e72a154f203770c17429d0849bddca57e1f"
   },
   "outputs": [],
   "source": [
    "def create_dnn_graph(layers, input_dim, output_dim, stddev, learning_rate):\n",
    "    \n",
    "    '''A function to create the dnn regressor graph'''\n",
    "    \n",
    "    # create placeholders\n",
    "    X = tf.placeholder(tf.float32, shape=[None,input_dim])\n",
    "    y = tf.placeholder(tf.float32, shape=[None,output_dim])\n",
    "    keep_prob = tf.placeholder(tf.float32)\n",
    "    \n",
    "    # iterate throug each layer dimension and create a dense layer\n",
    "    for n,layer in enumerate(layers):\n",
    "        # for the first layer\n",
    "        if n == 0:\n",
    "            with tf.device(device):\n",
    "                X_input = tf.layers.dense(X,layer, activation=tf.nn.relu, kernel_initializer=tf.truncated_normal_initializer(stddev= stddev))\n",
    "                X_input = tf.nn.dropout(X_input, keep_prob)\n",
    "        # for rest of the layers\n",
    "        else:\n",
    "            with tf.device(device):\n",
    "                X_input = tf.layers.dense(X_input,layer, activation=tf.nn.relu, kernel_initializer=tf.truncated_normal_initializer(stddev= stddev))\n",
    "                X_input = tf.nn.dropout(X_input, keep_prob)\n",
    "    \n",
    "    # create the output layer of dnn regressor\n",
    "    with tf.device(device):\n",
    "        y_= tf.layers.dense(X_input,output_dim)\n",
    "    # create the rmsle operation\n",
    "    with tf.device(device):\n",
    "        cost = tf.sqrt(tf.reduce_mean(tf.square(tf.subtract(tf.log(y_+1.0),tf.log(y+1.0)))))\n",
    "    #create train operation\n",
    "    with tf.device(device):\n",
    "        train_step = tf.train.AdamOptimizer(learning_rate=learning_rate).minimize(cost)\n",
    "    \n",
    "    # return placeholders and operations\n",
    "    return X, y, y_, keep_prob, cost, train_step"
   ]
  },
  {
   "cell_type": "markdown",
   "metadata": {
    "_uuid": "d9a67a883c33788fcd8b260f904138c7677d1280"
   },
   "source": [
    "### 3.2 A function to train dnn model"
   ]
  },
  {
   "cell_type": "code",
   "execution_count": 49,
   "metadata": {
    "_uuid": "af18568624c310415358855b1f9acf7fa4a6b246"
   },
   "outputs": [],
   "source": [
    "def train_graph(saver, max_iter, batch_size,X_train, y_train, X_valid, y_valid, \n",
    "                X, y, y_, keep_prob, loss, train_step, model_name):\n",
    "    \n",
    "    '''A function to train dnn regressor model'''\n",
    "    \n",
    "    # list to store the train and validation loss through iterations\n",
    "    train_cost = []\n",
    "    valid_cost = []\n",
    "    \n",
    "    # variables to store the cost, iteration of our best model\n",
    "    best_cost = 1000000\n",
    "    best_iteration = None\n",
    "\n",
    "    # iteration counter\n",
    "    iteration = 1\n",
    "    # model directory\n",
    "    model_dir = './model_files/'\n",
    "\n",
    "    # create a graph session and train dnn\n",
    "    with tf.Session() as sess:\n",
    "\n",
    "        # initialize variables\n",
    "        sess.run(tf.global_variables_initializer())\n",
    "        \n",
    "        bar = progressbar.ProgressBar(maxval=max_iter, widgets=[\n",
    "            ' [',progressbar.Percentage(),'] ',\n",
    "            progressbar.Bar(),\n",
    "            ' (',progressbar.DynamicMessage(\"train_loss\"),')',\n",
    "            ' (',progressbar.DynamicMessage(\"valid_loss\"),')',\n",
    "        ])\n",
    "        bar.start()\n",
    "\n",
    "        for i in range(max_iter):\n",
    "\n",
    "            # break if max iteration is reached\n",
    "            if iteration > max_iter:\n",
    "                break\n",
    "\n",
    "            # randomly choosing the indices of the batch \n",
    "            rand_index = np.random.choice(X_train.shape[0], size=batch_size)\n",
    "\n",
    "            # extract the batch X y data\n",
    "            X_batch = X_train[rand_index]\n",
    "            y_batch = y_train[rand_index]\n",
    "\n",
    "            # feed dict for train batch\n",
    "            feed_dict_batch =  {X: X_batch,\n",
    "                                y: np.transpose([y_batch]),\n",
    "                                keep_prob: 0.75}\n",
    "            # feed dict for validation\n",
    "            feed_dict_valid =  {X: X_valid,\n",
    "                                y: np.transpose([y_valid]),\n",
    "                                keep_prob: 1.0}\n",
    "            # compute train operation\n",
    "            sess.run(train_step, feed_dict=feed_dict_batch)\n",
    "\n",
    "            # calculate temporary train cost and append it to the designated list\n",
    "            temp_train_cost = loss.eval(session=sess, feed_dict=feed_dict_batch)\n",
    "            train_cost.append(temp_train_cost)\n",
    "            # calculate temporary validation cost and append it to the designated list\n",
    "            temp_validation_cost = loss.eval(session=sess, feed_dict=feed_dict_valid)\n",
    "            valid_cost.append(temp_validation_cost)\n",
    "                \n",
    "            # saver path\n",
    "            saver_path = model_dir+model_name\n",
    "\n",
    "            # if the valid loss is tied with best recorded so far then\n",
    "            # update the parameters of the best model and save the model\n",
    "            if temp_validation_cost < best_cost:\n",
    "                best_cost = temp_validation_cost\n",
    "                best_iteration = iteration          \n",
    "                saver.save(sess, saver_path, global_step = best_iteration) \n",
    "                \n",
    "            # update the progress bar\n",
    "            bar.update(i+1, train_loss = temp_train_cost, valid_loss = temp_validation_cost)\n",
    "\n",
    "            # increment iteration\n",
    "            iteration = iteration+1\n",
    "            \n",
    "        # finish the progress bar\n",
    "        bar.finish()\n",
    "            \n",
    "    # model path\n",
    "    model_path = model_dir+model_name+\"-\"+str(best_iteration)\n",
    "    \n",
    "    # return neccessary variables\n",
    "    return train_cost, valid_cost, model_path, best_cost, best_iteration"
   ]
  },
  {
   "cell_type": "markdown",
   "metadata": {
    "_uuid": "99bb110bfc5bda2c7043338cf9b2bbc9472c49b0"
   },
   "source": [
    "### 3.3 A function to compute predictions"
   ]
  },
  {
   "cell_type": "code",
   "execution_count": 50,
   "metadata": {
    "_uuid": "4e3cb53272e85a132acca0dbf9e6192f4b423c41"
   },
   "outputs": [],
   "source": [
    "def compute_predictions(saver, model_path, X_test, y_, keep_prob, verbose = False):\n",
    "    \n",
    "    '''A function to compute predictions given a saver and model path'''\n",
    "    \n",
    "    with tf.Session() as sess:  \n",
    "    \n",
    "        # restore model from the saver object\n",
    "        saver.restore(sess, model_path)\n",
    "        # break the test set into k folds other wise kernel will be out of length\n",
    "        n = len(test_id)\n",
    "        k = 40\n",
    "        step = n//k\n",
    "\n",
    "        # array to store the prediction\n",
    "        preds = np.array([])\n",
    "\n",
    "        # iterate through each fold and calculate the start and end indices of the fold\n",
    "        for i in range(k):            \n",
    "            if i != (k-1):\n",
    "                start = (step*i)\n",
    "                end = (step*(i+1)) \n",
    "            # end case\n",
    "            else:\n",
    "                start = (step*i)\n",
    "                end = len(test_id)\n",
    "\n",
    "            # feed dict of the fold\n",
    "            feed_dict_test =  {X: X_test[start:end],\n",
    "                               keep_prob: 1.0}\n",
    "\n",
    "            # evaluate predictions of the fold\n",
    "            fold_preds = y_.eval(session=sess, feed_dict = feed_dict_test)\n",
    "            # append the predictions to the designated array\n",
    "            if i == 0:\n",
    "                preds  = fold_preds\n",
    "            else:\n",
    "                preds = np.append(preds, fold_preds, axis=0)\n",
    "\n",
    "            if verbose:\n",
    "                print(\"Computed predictions for fold\",i+1)\n",
    "\n",
    "    # create a submission pandas dataframe\n",
    "    submission_matrix = np.append(np.transpose([test_id]), preds, axis=1)\n",
    "    columns = [\"ID\",\"target\"]\n",
    "    submission = pd.DataFrame(submission_matrix, columns= columns)\n",
    "    # return submission\n",
    "    return submission"
   ]
  },
  {
   "cell_type": "markdown",
   "metadata": {
    "_uuid": "2f0ef6a602bc3c0d2370f004254d7c89954b8f79"
   },
   "source": [
    "### 3.4 Train a single model"
   ]
  },
  {
   "cell_type": "code",
   "execution_count": 51,
   "metadata": {
    "_uuid": "25930c143b83847b43f83f13accb18615eb6a063"
   },
   "outputs": [
    {
     "name": "stderr",
     "output_type": "stream",
     "text": [
      " [100%] |###########################| (train_loss:   1.26) (valid_loss:   1.64)\n"
     ]
    },
    {
     "data": {
      "image/png": "[encoded data removed]",
      "text/plain": [
       "<matplotlib.figure.Figure at 0x7fea880b79e8>"
      ]
     },
     "metadata": {},
     "output_type": "display_data"
    },
    {
     "name": "stdout",
     "output_type": "stream",
     "text": [
      "INFO:tensorflow:Restoring parameters from ./model_files/model-2730\n",
      "Finished training and creating submission file for model :\n"
     ]
    },
    {
     "data": {
      "text/plain": [
       "<matplotlib.figure.Figure at 0x7fea8b0aceb8>"
      ]
     },
     "metadata": {},
     "output_type": "display_data"
    }
   ],
   "source": [
    "ops.reset_default_graph()\n",
    "# input and output dimensions\n",
    "input_dim = len(features)\n",
    "output_dim = 1\n",
    "# batch size\n",
    "batch_size = X_train.shape[0]//2\n",
    "# max iteration\n",
    "max_iter = 4000\n",
    "stddev = 0.005\n",
    "learning_rate = (1e-4)*1\n",
    "layers = [128,128,128,128,64,64,64,64,32,32,32,32]\n",
    "X, y, y_, keep_prob, cost, train_step = create_dnn_graph(layers, input_dim, output_dim, stddev, learning_rate)\n",
    "saver = tf.train.Saver(max_to_keep=1)\n",
    "model_name = \"model\"\n",
    "train_cost, valid_cost, model_path, best_cost, best_iteration = train_graph(saver, max_iter, batch_size, \n",
    "                                                                            X_train, y_train, X_valid, y_valid,X, y, y_,\n",
    "                                                                            keep_prob, cost, train_step, model_name)\n",
    "# Show and save a graph of loss vs iterations\n",
    "plt.figure(figsize=(16, 8), dpi= 80, facecolor='w', edgecolor='k')\n",
    "plt.plot(train_cost, label = 'train cost')\n",
    "plt.plot(valid_cost, label = 'valid cost')\n",
    "plt.xlabel('iterations', fontsize = 14)\n",
    "plt.ylabel('cost', fontsize = 14)\n",
    "plt.title(\"layers:\"+str(layers)[1:-1]+\", best cost:\"+str(best_cost)+\", best iteration:\"+str(best_iteration), fontsize = 12)\n",
    "plt.legend()\n",
    "plt.grid()\n",
    "plt.show()\n",
    "# figure path directory\n",
    "figure_dir = \"./model_cost_figures/\"\n",
    "plt.savefig(figure_dir + model_name+'.png', bbox_inches='tight')\n",
    "\n",
    "# create submission dataframe using the saver object and model path\n",
    "submission = compute_predictions(saver, model_path, X_test, y_, keep_prob, verbose = False)\n",
    "# submission path dirrectory\n",
    "submission_path_dir = \"./submission_files/\"\n",
    "# save the sumission file\n",
    "submission.to_csv(submission_path_dir+model_name+\"_submission.csv\", header = True, index=False)\n",
    "print(\"Finished training and creating submission file for \"+model_name+\" :\")"
   ]
  },
  {
   "cell_type": "markdown",
   "metadata": {
    "_uuid": "29943011e1eae7b7d3af24a655f8d1f226fb9aae"
   },
   "source": [
    "### 3.5 Train multiple models using randomly generated hyperparameters"
   ]
  },
  {
   "cell_type": "code",
   "execution_count": 52,
   "metadata": {
    "_uuid": "f69f69adfcb41b5b6404498f95e39ccfa4d536a7",
    "scrolled": false
   },
   "outputs": [
    {
     "name": "stderr",
     "output_type": "stream",
     "text": [
      "\r",
      "                                                                               \r",
      "\r",
      " [N/A%] |                           | (train_loss: ------) (valid_loss: ------)"
     ]
    },
    {
     "name": "stdout",
     "output_type": "stream",
     "text": [
      "Training model_1 :\n"
     ]
    },
    {
     "name": "stderr",
     "output_type": "stream",
     "text": [
      " [100%] |###########################| (train_loss:   1.24) (valid_loss:   1.69)\n"
     ]
    },
    {
     "data": {
      "image/png": "[encoded data removed]",
      "text/plain": [
       "<matplotlib.figure.Figure at 0x7fea880bceb8>"
      ]
     },
     "metadata": {},
     "output_type": "display_data"
    },
    {
     "name": "stdout",
     "output_type": "stream",
     "text": [
      "INFO:tensorflow:Restoring parameters from ./model_files/model_1-1625\n",
      "Finished training and creating submission file for model_1 :\n",
      "Training model_2 :\n"
     ]
    },
    {
     "name": "stderr",
     "output_type": "stream",
     "text": [
      " [100%] |###########################| (train_loss:   1.35) (valid_loss:   1.68)\n"
     ]
    },
    {
     "data": {
      "text/plain": [
       "<matplotlib.figure.Figure at 0x7fea8b099358>"
      ]
     },
     "metadata": {},
     "output_type": "display_data"
    },
    {
     "data": {
      "image/png": "[encoded data removed]",
      "text/plain": [
       "<matplotlib.figure.Figure at 0x7fea8a903fd0>"
      ]
     },
     "metadata": {},
     "output_type": "display_data"
    },
    {
     "name": "stdout",
     "output_type": "stream",
     "text": [
      "INFO:tensorflow:Restoring parameters from ./model_files/model_2-1442\n",
      "Finished training and creating submission file for model_2 :\n",
      "Training model_3 :\n"
     ]
    },
    {
     "name": "stderr",
     "output_type": "stream",
     "text": [
      " [100%] |###########################| (train_loss:   1.19) (valid_loss:   1.83)\n"
     ]
    },
    {
     "data": {
      "text/plain": [
       "<matplotlib.figure.Figure at 0x7fea87e6c860>"
      ]
     },
     "metadata": {},
     "output_type": "display_data"
    },
    {
     "data": {
      "image/png": "[encoded data removed]",
      "text/plain": [
       "<matplotlib.figure.Figure at 0x7fea899b24e0>"
      ]
     },
     "metadata": {},
     "output_type": "display_data"
    },
    {
     "name": "stdout",
     "output_type": "stream",
     "text": [
      "INFO:tensorflow:Restoring parameters from ./model_files/model_3-1918\n",
      "Finished training and creating submission file for model_3 :\n",
      "Training model_4 :\n"
     ]
    },
    {
     "name": "stderr",
     "output_type": "stream",
     "text": [
      " [100%] |###########################| (train_loss:   1.36) (valid_loss:   1.74)\n"
     ]
    },
    {
     "data": {
      "text/plain": [
       "<matplotlib.figure.Figure at 0x7fea87e60358>"
      ]
     },
     "metadata": {},
     "output_type": "display_data"
    },
    {
     "data": {
      "image/png": "[encoded data removed]",
      "text/plain": [
       "<matplotlib.figure.Figure at 0x7fea8b099240>"
      ]
     },
     "metadata": {},
     "output_type": "display_data"
    },
    {
     "name": "stdout",
     "output_type": "stream",
     "text": [
      "INFO:tensorflow:Restoring parameters from ./model_files/model_4-1139\n",
      "Finished training and creating submission file for model_4 :\n",
      "Training model_5 :\n"
     ]
    },
    {
     "name": "stderr",
     "output_type": "stream",
     "text": [
      " [100%] |###########################| (train_loss:   1.22) (valid_loss:   1.88)\n"
     ]
    },
    {
     "data": {
      "text/plain": [
       "<matplotlib.figure.Figure at 0x7fea85263f98>"
      ]
     },
     "metadata": {},
     "output_type": "display_data"
    },
    {
     "data": {
      "image/png": "[encoded data removed]",
      "text/plain": [
       "<matplotlib.figure.Figure at 0x7fea8681eb00>"
      ]
     },
     "metadata": {},
     "output_type": "display_data"
    },
    {
     "name": "stdout",
     "output_type": "stream",
     "text": [
      "INFO:tensorflow:Restoring parameters from ./model_files/model_5-1610\n",
      "Finished training and creating submission file for model_5 :\n",
      "Training model_6 :\n"
     ]
    },
    {
     "name": "stderr",
     "output_type": "stream",
     "text": [
      " [100%] |###########################| (train_loss:   1.18) (valid_loss:   1.69)\n"
     ]
    },
    {
     "data": {
      "text/plain": [
       "<matplotlib.figure.Figure at 0x7fea82c39208>"
      ]
     },
     "metadata": {},
     "output_type": "display_data"
    },
    {
     "data": {
      "image/png": "[encoded data removed]",
      "text/plain": [
       "<matplotlib.figure.Figure at 0x7fea89de0d30>"
      ]
     },
     "metadata": {},
     "output_type": "display_data"
    },
    {
     "name": "stdout",
     "output_type": "stream",
     "text": [
      "INFO:tensorflow:Restoring parameters from ./model_files/model_6-1965\n",
      "Finished training and creating submission file for model_6 :\n",
      "Training model_7 :\n"
     ]
    },
    {
     "name": "stderr",
     "output_type": "stream",
     "text": [
      " [100%] |###########################| (train_loss:   1.19) (valid_loss:   1.69)\n"
     ]
    },
    {
     "data": {
      "text/plain": [
       "<matplotlib.figure.Figure at 0x7fea7fb371d0>"
      ]
     },
     "metadata": {},
     "output_type": "display_data"
    },
    {
     "data": {
      "image/png": "[encoded data removed]",
      "text/plain": [
       "<matplotlib.figure.Figure at 0x7fea8ad74fd0>"
      ]
     },
     "metadata": {},
     "output_type": "display_data"
    },
    {
     "name": "stdout",
     "output_type": "stream",
     "text": [
      "INFO:tensorflow:Restoring parameters from ./model_files/model_7-1135\n",
      "Finished training and creating submission file for model_7 :\n",
      "Training model_8 :\n"
     ]
    },
    {
     "name": "stderr",
     "output_type": "stream",
     "text": [
      " [100%] |###########################| (train_loss:   1.86) (valid_loss:   1.74)\n"
     ]
    },
    {
     "data": {
      "text/plain": [
       "<matplotlib.figure.Figure at 0x7fea7f0a4898>"
      ]
     },
     "metadata": {},
     "output_type": "display_data"
    },
    {
     "data": {
      "image/png": "[encoded data removed]",
      "text/plain": [
       "<matplotlib.figure.Figure at 0x7fea87e53320>"
      ]
     },
     "metadata": {},
     "output_type": "display_data"
    },
    {
     "name": "stdout",
     "output_type": "stream",
     "text": [
      "INFO:tensorflow:Restoring parameters from ./model_files/model_8-4000\n",
      "Finished training and creating submission file for model_8 :\n"
     ]
    },
    {
     "data": {
      "text/plain": [
       "<matplotlib.figure.Figure at 0x7fea8608d588>"
      ]
     },
     "metadata": {},
     "output_type": "display_data"
    }
   ],
   "source": [
    "# input and output dimensions\n",
    "input_dim = len(features)\n",
    "output_dim = 1\n",
    "# batch size\n",
    "batch_size = X_train.shape[0]//2\n",
    "# max iteration\n",
    "max_iter = 4000\n",
    "# counter variable\n",
    "counter = 1\n",
    "# list to store the best loss of all the models\n",
    "best_costs = []\n",
    "\n",
    "# iterate through learning rate, stddev, layers of architecture\n",
    "for learning_rate, stddev, layers in zip(learning_rate_list, stddev_list, model_architecture_list):\n",
    "    # create dnn regressor graph\n",
    "    X, y, y_, keep_prob, cost, train_step = create_dnn_graph(layers, input_dim, output_dim, stddev, learning_rate)\n",
    "    # create a saver object\n",
    "    saver = tf.train.Saver(max_to_keep=1)\n",
    "    # model name\n",
    "    model_name = \"model_\"+str(counter)\n",
    "    print(\"Training \"+model_name+\" :\")\n",
    "    # train dnn regressor\n",
    "    train_cost, valid_cost, model_path, best_cost, best_iteration = train_graph(saver, max_iter, batch_size, \n",
    "                                                                                X_train, y_train, X_valid, y_valid, X, y, y_,\n",
    "                                                                                keep_prob, cost, train_step, model_name)\n",
    "    # append the best loss to the designated list\n",
    "    best_costs.append(best_cost)\n",
    "    \n",
    "    # show and save a graph of cost vs iterations\n",
    "    plt.figure(figsize=(16, 8), dpi= 80, facecolor='w', edgecolor='k')\n",
    "    plt.plot(train_cost, label = 'train cost')\n",
    "    plt.plot(valid_cost, label = 'valid cost')\n",
    "    plt.xlabel('iterations', fontsize = 14)\n",
    "    plt.ylabel('cost', fontsize = 14)\n",
    "    plt.title(\"layers:\"+str(layers)[1:-1]+\", best cost:\"+str(best_cost)+\", best iteration:\"+str(best_iteration), fontsize = 12)\n",
    "    plt.legend()\n",
    "    plt.grid()\n",
    "    plt.show()\n",
    "    # figure path directory\n",
    "    figure_dir = \"./model_cost_figures/\"\n",
    "    plt.savefig(figure_dir + model_name+'.png', bbox_inches='tight')\n",
    "    \n",
    "    # create submission dataframe using the saver object and model path\n",
    "    submission = compute_predictions(saver, model_path, X_test, y_, keep_prob, verbose = False)\n",
    "    # submission path dirrectory\n",
    "    submission_path_dir = \"./submission_files/\"\n",
    "    # save the sumission file\n",
    "    submission.to_csv(submission_path_dir+model_name+\"_submission.csv\", header = True, index=False)\n",
    "    print(\"Finished training and creating submission file for \"+model_name+\" :\")\n",
    "    \n",
    "    counter += 1"
   ]
  },
  {
   "cell_type": "markdown",
   "metadata": {
    "_uuid": "7f8ed97d025fa7501dae1deab77d4f02a3418ffa"
   },
   "source": [
    "**Tabulate the results of the models**"
   ]
  },
  {
   "cell_type": "code",
   "execution_count": 53,
   "metadata": {
    "_uuid": "cf15e1c04d7294736005e263fa37ede3c2786cd8"
   },
   "outputs": [],
   "source": [
    "results = pd.DataFrame({\"Layers\": model_architecture_list, \"Learning rate\": learning_rate_list, \"Stddev\":stddev_list, \"Best Cost\":best_costs})\n",
    "results = results[[\"Layers\", \"Learning rate\", \"Stddev\", \"Best Cost\"]]"
   ]
  },
  {
   "cell_type": "markdown",
   "metadata": {
    "_uuid": "0e7121adc8ecdf3dd9c74af03bb83f1dad52c6be"
   },
   "source": [
    "**Show the results**"
   ]
  },
  {
   "cell_type": "code",
   "execution_count": 54,
   "metadata": {
    "_uuid": "a845b40d964882efded75ca84d288e0222922a6a"
   },
   "outputs": [
    {
     "data": {
      "text/html": [
       "<div>\n",
       "<style scoped>\n",
       "    .dataframe tbody tr th:only-of-type {\n",
       "        vertical-align: middle;\n",
       "    }\n",
       "\n",
       "    .dataframe tbody tr th {\n",
       "        vertical-align: top;\n",
       "    }\n",
       "\n",
       "    .dataframe thead th {\n",
       "        text-align: right;\n",
       "    }\n",
       "</style>\n",
       "<table border=\"1\" class=\"dataframe\">\n",
       "  <thead>\n",
       "    <tr style=\"text-align: right;\">\n",
       "      <th></th>\n",
       "      <th>Layers</th>\n",
       "      <th>Learning rate</th>\n",
       "      <th>Stddev</th>\n",
       "      <th>Best Cost</th>\n",
       "    </tr>\n",
       "  </thead>\n",
       "  <tbody>\n",
       "    <tr>\n",
       "      <th>0</th>\n",
       "      <td>[128, 128, 64, 32, 32, 16, 16, 16]</td>\n",
       "      <td>0.0007</td>\n",
       "      <td>0.0139</td>\n",
       "      <td>1.540080</td>\n",
       "    </tr>\n",
       "    <tr>\n",
       "      <th>1</th>\n",
       "      <td>[128, 128, 128, 128, 64, 64, 32, 32, 16, 16, 1...</td>\n",
       "      <td>0.0002</td>\n",
       "      <td>0.0149</td>\n",
       "      <td>1.555121</td>\n",
       "    </tr>\n",
       "    <tr>\n",
       "      <th>2</th>\n",
       "      <td>[128, 128, 128, 128, 128, 64]</td>\n",
       "      <td>0.0004</td>\n",
       "      <td>0.0222</td>\n",
       "      <td>1.543025</td>\n",
       "    </tr>\n",
       "    <tr>\n",
       "      <th>3</th>\n",
       "      <td>[128, 128, 64, 64, 32, 16, 16, 16, 16, 16, 16,...</td>\n",
       "      <td>0.0009</td>\n",
       "      <td>0.0238</td>\n",
       "      <td>1.541663</td>\n",
       "    </tr>\n",
       "    <tr>\n",
       "      <th>4</th>\n",
       "      <td>[128, 128, 128, 128, 128, 128, 64, 64, 64, 64]</td>\n",
       "      <td>0.0002</td>\n",
       "      <td>0.0238</td>\n",
       "      <td>1.550687</td>\n",
       "    </tr>\n",
       "    <tr>\n",
       "      <th>5</th>\n",
       "      <td>[128, 128, 64, 32, 16, 16]</td>\n",
       "      <td>0.0010</td>\n",
       "      <td>0.0062</td>\n",
       "      <td>1.541741</td>\n",
       "    </tr>\n",
       "    <tr>\n",
       "      <th>6</th>\n",
       "      <td>[128, 64, 64, 64, 64, 64, 64, 64, 64, 64, 32]</td>\n",
       "      <td>0.0003</td>\n",
       "      <td>0.0345</td>\n",
       "      <td>1.557862</td>\n",
       "    </tr>\n",
       "    <tr>\n",
       "      <th>7</th>\n",
       "      <td>[128, 128, 64, 32, 32, 32, 32]</td>\n",
       "      <td>0.0001</td>\n",
       "      <td>0.0081</td>\n",
       "      <td>1.741637</td>\n",
       "    </tr>\n",
       "  </tbody>\n",
       "</table>\n",
       "</div>"
      ],
      "text/plain": [
       "                                              Layers  Learning rate  Stddev  \\\n",
       "0                 [128, 128, 64, 32, 32, 16, 16, 16]         0.0007  0.0139   \n",
       "1  [128, 128, 128, 128, 64, 64, 32, 32, 16, 16, 1...         0.0002  0.0149   \n",
       "2                      [128, 128, 128, 128, 128, 64]         0.0004  0.0222   \n",
       "3  [128, 128, 64, 64, 32, 16, 16, 16, 16, 16, 16,...         0.0009  0.0238   \n",
       "4     [128, 128, 128, 128, 128, 128, 64, 64, 64, 64]         0.0002  0.0238   \n",
       "5                         [128, 128, 64, 32, 16, 16]         0.0010  0.0062   \n",
       "6      [128, 64, 64, 64, 64, 64, 64, 64, 64, 64, 32]         0.0003  0.0345   \n",
       "7                     [128, 128, 64, 32, 32, 32, 32]         0.0001  0.0081   \n",
       "\n",
       "   Best Cost  \n",
       "0   1.540080  \n",
       "1   1.555121  \n",
       "2   1.543025  \n",
       "3   1.541663  \n",
       "4   1.550687  \n",
       "5   1.541741  \n",
       "6   1.557862  \n",
       "7   1.741637  "
      ]
     },
     "execution_count": 54,
     "metadata": {},
     "output_type": "execute_result"
    }
   ],
   "source": [
    "results.head(numbers)"
   ]
  },
  {
   "cell_type": "markdown",
   "metadata": {
    "_uuid": "873ff80243e89af723ef3865bff1e8cb4886039f"
   },
   "source": [
    "**Save the results**"
   ]
  },
  {
   "cell_type": "code",
   "execution_count": 55,
   "metadata": {
    "_uuid": "ad5e1e658fa38722507deb17cb65eafa6b74e4db"
   },
   "outputs": [],
   "source": [
    "results_dir = './'\n",
    "results.to_csv(results_dir+'Results.csv',header = True, index=False)"
   ]
  }
 ],
 "metadata": {
  "kernelspec": {
   "display_name": "Python 3",
   "language": "python",
   "name": "python3"
  },
  "language_info": {
   "codemirror_mode": {
    "name": "ipython",
    "version": 3
   },
   "file_extension": ".py",
   "mimetype": "text/x-python",
   "name": "python",
   "nbconvert_exporter": "python",
   "pygments_lexer": "ipython3",
   "version": "3.5.2"
  },
  "widgets": {
   "state": {},
   "version": "1.1.2"
  }
 },
 "nbformat": 4,
 "nbformat_minor": 1
}
