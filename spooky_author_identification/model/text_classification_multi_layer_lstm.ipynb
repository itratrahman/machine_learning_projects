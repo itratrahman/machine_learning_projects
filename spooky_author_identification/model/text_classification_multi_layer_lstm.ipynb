{
 "cells": [
  {
   "cell_type": "markdown",
   "metadata": {},
   "source": [
    "# TEXT CLASSIFICATION USING MULTILAYER LSTM"
   ]
  },
  {
   "cell_type": "markdown",
   "metadata": {},
   "source": [
    "## 1. Import statements"
   ]
  },
  {
   "cell_type": "markdown",
   "metadata": {},
   "source": [
    "**Import necessary packages and modules**"
   ]
  },
  {
   "cell_type": "code",
   "execution_count": 1,
   "metadata": {
    "_cell_guid": "b1076dfc-b9ad-4769-8c92-a6c4dae69d19",
    "_uuid": "8f2839f25d086af736a60e9eeb907d3b93b6e0e5"
   },
   "outputs": [],
   "source": [
    "import os\n",
    "import time\n",
    "import random\n",
    "import math\n",
    "import json\n",
    "import pandas as pd\n",
    "import numpy as np\n",
    "import tensorflow as tf\n",
    "import progressbar\n",
    "tf.reset_default_graph()\n",
    "import matplotlib\n",
    "from matplotlib import pyplot as plt\n",
    "%matplotlib inline"
   ]
  },
  {
   "cell_type": "markdown",
   "metadata": {},
   "source": [
    "**Import gensim**"
   ]
  },
  {
   "cell_type": "code",
   "execution_count": 2,
   "metadata": {
    "_cell_guid": "79c7e3d0-c299-4dcb-8224-4455121ee9b0",
    "_uuid": "d629ff2d2480ee46fbb7e2d37f6b5fab8052498a"
   },
   "outputs": [],
   "source": [
    "from gensim.models.word2vec import Word2VecKeyedVectors"
   ]
  },
  {
   "cell_type": "markdown",
   "metadata": {},
   "source": [
    "**Set the random seed of numpy and tensorflow**"
   ]
  },
  {
   "cell_type": "code",
   "execution_count": 3,
   "metadata": {
    "_uuid": "106488b77e7866eeff6e3e1b596422789a64e532"
   },
   "outputs": [
    {
     "name": "stdout",
     "output_type": "stream",
     "text": [
      "numpy random seed:  95\n",
      "tensorflow random seed:  63\n"
     ]
    }
   ],
   "source": [
    "# np_rand_seed = random.randint(0,100)\n",
    "# tf_rand_seed = random.randint(0,100)\n",
    "np_rand_seed = 95\n",
    "tf_rand_seed = 63\n",
    "np.random.seed(np_rand_seed)\n",
    "tf.set_random_seed(tf_rand_seed)\n",
    "print(\"numpy random seed: \",np_rand_seed)\n",
    "print(\"tensorflow random seed: \", tf_rand_seed)"
   ]
  },
  {
   "cell_type": "markdown",
   "metadata": {},
   "source": [
    "## 2. Load train data, test data, and gensim word2vec model"
   ]
  },
  {
   "cell_type": "markdown",
   "metadata": {},
   "source": [
    "**Set some directories**"
   ]
  },
  {
   "cell_type": "code",
   "execution_count": 4,
   "metadata": {
    "_uuid": "f5a11c276b5afa32ba2c35f25e8c848ccad3b90a"
   },
   "outputs": [],
   "source": [
    "input_dir = \"../input/\"\n",
    "word2vec_dir = \"./word2vec_models/\"\n",
    "model_dir = \"./model_files/\"\n",
    "submission_dir = \"./submission/\""
   ]
  },
  {
   "cell_type": "markdown",
   "metadata": {},
   "source": [
    "**Load the cleaned train and test data**"
   ]
  },
  {
   "cell_type": "code",
   "execution_count": 5,
   "metadata": {
    "_uuid": "a3039d3a45c5feabeeb6cf648361d99312e3fdf9"
   },
   "outputs": [],
   "source": [
    "data = pd.read_csv(input_dir+'modified_train_data.csv', names = [\"id\", \"text\", \"author\", \"length\", \"EAP\", \"HPL\", \"MWS\"]) \n",
    "test_data = pd.read_csv(input_dir+'modified_test_data.csv', names = [\"id\", \"text\", \"length\"])"
   ]
  },
  {
   "cell_type": "code",
   "execution_count": 6,
   "metadata": {},
   "outputs": [
    {
     "data": {
      "text/html": [
       "<div>\n",
       "<style scoped>\n",
       "    .dataframe tbody tr th:only-of-type {\n",
       "        vertical-align: middle;\n",
       "    }\n",
       "\n",
       "    .dataframe tbody tr th {\n",
       "        vertical-align: top;\n",
       "    }\n",
       "\n",
       "    .dataframe thead th {\n",
       "        text-align: right;\n",
       "    }\n",
       "</style>\n",
       "<table border=\"1\" class=\"dataframe\">\n",
       "  <thead>\n",
       "    <tr style=\"text-align: right;\">\n",
       "      <th></th>\n",
       "      <th>id</th>\n",
       "      <th>text</th>\n",
       "      <th>author</th>\n",
       "      <th>length</th>\n",
       "      <th>EAP</th>\n",
       "      <th>HPL</th>\n",
       "      <th>MWS</th>\n",
       "    </tr>\n",
       "  </thead>\n",
       "  <tbody>\n",
       "    <tr>\n",
       "      <th>0</th>\n",
       "      <td>id26305</td>\n",
       "      <td>process howev afford mean ascertain dimens dun...</td>\n",
       "      <td>EAP</td>\n",
       "      <td>21</td>\n",
       "      <td>1</td>\n",
       "      <td>0</td>\n",
       "      <td>0</td>\n",
       "    </tr>\n",
       "    <tr>\n",
       "      <th>1</th>\n",
       "      <td>id17569</td>\n",
       "      <td>never occur fumbl might mere mistak</td>\n",
       "      <td>HPL</td>\n",
       "      <td>6</td>\n",
       "      <td>0</td>\n",
       "      <td>1</td>\n",
       "      <td>0</td>\n",
       "    </tr>\n",
       "    <tr>\n",
       "      <th>2</th>\n",
       "      <td>id11008</td>\n",
       "      <td>left hand gold snuff box caper hill cut manner...</td>\n",
       "      <td>EAP</td>\n",
       "      <td>19</td>\n",
       "      <td>1</td>\n",
       "      <td>0</td>\n",
       "      <td>0</td>\n",
       "    </tr>\n",
       "    <tr>\n",
       "      <th>3</th>\n",
       "      <td>id27763</td>\n",
       "      <td>love spring look windsor terrac sixteen fertil...</td>\n",
       "      <td>MWS</td>\n",
       "      <td>21</td>\n",
       "      <td>0</td>\n",
       "      <td>0</td>\n",
       "      <td>1</td>\n",
       "    </tr>\n",
       "    <tr>\n",
       "      <th>4</th>\n",
       "      <td>id12958</td>\n",
       "      <td>find noth els even gold superintend abandon at...</td>\n",
       "      <td>HPL</td>\n",
       "      <td>16</td>\n",
       "      <td>0</td>\n",
       "      <td>1</td>\n",
       "      <td>0</td>\n",
       "    </tr>\n",
       "  </tbody>\n",
       "</table>\n",
       "</div>"
      ],
      "text/plain": [
       "        id                                               text author  length  \\\n",
       "0  id26305  process howev afford mean ascertain dimens dun...    EAP      21   \n",
       "1  id17569                never occur fumbl might mere mistak    HPL       6   \n",
       "2  id11008  left hand gold snuff box caper hill cut manner...    EAP      19   \n",
       "3  id27763  love spring look windsor terrac sixteen fertil...    MWS      21   \n",
       "4  id12958  find noth els even gold superintend abandon at...    HPL      16   \n",
       "\n",
       "   EAP  HPL  MWS  \n",
       "0    1    0    0  \n",
       "1    0    1    0  \n",
       "2    1    0    0  \n",
       "3    0    0    1  \n",
       "4    0    1    0  "
      ]
     },
     "execution_count": 6,
     "metadata": {},
     "output_type": "execute_result"
    }
   ],
   "source": [
    "data.head(5)"
   ]
  },
  {
   "cell_type": "code",
   "execution_count": 7,
   "metadata": {},
   "outputs": [
    {
     "data": {
      "text/html": [
       "<div>\n",
       "<style scoped>\n",
       "    .dataframe tbody tr th:only-of-type {\n",
       "        vertical-align: middle;\n",
       "    }\n",
       "\n",
       "    .dataframe tbody tr th {\n",
       "        vertical-align: top;\n",
       "    }\n",
       "\n",
       "    .dataframe thead th {\n",
       "        text-align: right;\n",
       "    }\n",
       "</style>\n",
       "<table border=\"1\" class=\"dataframe\">\n",
       "  <thead>\n",
       "    <tr style=\"text-align: right;\">\n",
       "      <th></th>\n",
       "      <th>id</th>\n",
       "      <th>text</th>\n",
       "      <th>length</th>\n",
       "    </tr>\n",
       "  </thead>\n",
       "  <tbody>\n",
       "    <tr>\n",
       "      <th>0</th>\n",
       "      <td>id02310</td>\n",
       "      <td>still urg leav ireland inquietud impati father...</td>\n",
       "      <td>10</td>\n",
       "    </tr>\n",
       "    <tr>\n",
       "      <th>1</th>\n",
       "      <td>id24541</td>\n",
       "      <td>fire want fan could readili fan newspap govern...</td>\n",
       "      <td>28</td>\n",
       "    </tr>\n",
       "    <tr>\n",
       "      <th>2</th>\n",
       "      <td>id00134</td>\n",
       "      <td>broken frail door found two clean pick human s...</td>\n",
       "      <td>17</td>\n",
       "    </tr>\n",
       "    <tr>\n",
       "      <th>3</th>\n",
       "      <td>id27757</td>\n",
       "      <td>think possibl manag without one actual tumbl h...</td>\n",
       "      <td>20</td>\n",
       "    </tr>\n",
       "    <tr>\n",
       "      <th>4</th>\n",
       "      <td>id04081</td>\n",
       "      <td>sure limit knowledg may extend</td>\n",
       "      <td>5</td>\n",
       "    </tr>\n",
       "  </tbody>\n",
       "</table>\n",
       "</div>"
      ],
      "text/plain": [
       "        id                                               text  length\n",
       "0  id02310  still urg leav ireland inquietud impati father...      10\n",
       "1  id24541  fire want fan could readili fan newspap govern...      28\n",
       "2  id00134  broken frail door found two clean pick human s...      17\n",
       "3  id27757  think possibl manag without one actual tumbl h...      20\n",
       "4  id04081                     sure limit knowledg may extend       5"
      ]
     },
     "execution_count": 7,
     "metadata": {},
     "output_type": "execute_result"
    }
   ],
   "source": [
    "test_data.head(5)"
   ]
  },
  {
   "cell_type": "code",
   "execution_count": 8,
   "metadata": {
    "_uuid": "6dda7e3b9e044d22169414cdd3eec6ce3b21559d"
   },
   "outputs": [],
   "source": [
    "data = data.sample(frac=1,  random_state = np.random.seed()).reset_index(drop=True)\n",
    "data = data[~data['text'].isnull()]\n",
    "test_data = test_data[~test_data['text'].isnull()]"
   ]
  },
  {
   "cell_type": "markdown",
   "metadata": {},
   "source": [
    "**Extract test ids**"
   ]
  },
  {
   "cell_type": "code",
   "execution_count": 9,
   "metadata": {
    "_uuid": "993d624c24d50fb4ac73066f0876eb37afec4b5c"
   },
   "outputs": [],
   "source": [
    "test_ids = test_data.id.values"
   ]
  },
  {
   "cell_type": "markdown",
   "metadata": {},
   "source": [
    "**Load metadata of word2vec model**"
   ]
  },
  {
   "cell_type": "code",
   "execution_count": 10,
   "metadata": {
    "_uuid": "6f7fac782c4af02df1f5f86d6c58d9165dc12d9a"
   },
   "outputs": [],
   "source": [
    "metadata= json.loads(open(word2vec_dir+\"data.json\").read())\n",
    "size = metadata['size']"
   ]
  },
  {
   "cell_type": "markdown",
   "metadata": {},
   "source": [
    "**Load the gensim word2vec model**"
   ]
  },
  {
   "cell_type": "code",
   "execution_count": 11,
   "metadata": {
    "_uuid": "12d3a1b9f1e30ed2c0bf95e82e3a7784198af5d0"
   },
   "outputs": [],
   "source": [
    "fname = \"word2vec_model.mdl\"\n",
    "model = Word2VecKeyedVectors.load_word2vec_format(word2vec_dir+fname)"
   ]
  },
  {
   "cell_type": "markdown",
   "metadata": {},
   "source": [
    "## 3. Distribution of authors in the train data"
   ]
  },
  {
   "cell_type": "markdown",
   "metadata": {},
   "source": [
    "**Extract the number of examples of each class**"
   ]
  },
  {
   "cell_type": "code",
   "execution_count": 12,
   "metadata": {
    "_uuid": "8c08b8ab59c3f13b910bcbfb3e71d0dd2aabc9b8"
   },
   "outputs": [],
   "source": [
    "EAP_len = data[data['author'] == 'EAP'].shape[0]\n",
    "HPL_len = data[data['author'] == 'HPL'].shape[0]\n",
    "MWS_len = data[data['author'] == 'MWS'].shape[0]"
   ]
  },
  {
   "cell_type": "markdown",
   "metadata": {},
   "source": [
    "**Bar chart of distribution authors**"
   ]
  },
  {
   "cell_type": "code",
   "execution_count": 13,
   "metadata": {
    "_uuid": "80d17b7657b27fecca831a8f6489ea2ecaec536c"
   },
   "outputs": [
    {
     "data": {
      "image/png": "[encoded data removed]",
      "text/plain": [
       "<Figure size 640x320 with 1 Axes>"
      ]
     },
     "metadata": {},
     "output_type": "display_data"
    }
   ],
   "source": [
    "numbers = [EAP_len, HPL_len, MWS_len]\n",
    "plt.figure(figsize=(8, 4), dpi= 80, facecolor='w', edgecolor='k')\n",
    "plt.bar(np.arange(len(numbers)), numbers, align='center', alpha=0.5)\n",
    "plt.xticks(np.arange(len(numbers)),\\\n",
    "           ['EAP', 'HPL', 'MWS'])\n",
    "plt.ylabel('Numbers')\n",
    "plt.title('Comments')\n",
    "plt.grid()\n",
    "plt.show()"
   ]
  },
  {
   "cell_type": "markdown",
   "metadata": {},
   "source": [
    "## 4. Inspect the distribution of #words in the sentences"
   ]
  },
  {
   "cell_type": "markdown",
   "metadata": {},
   "source": [
    "**Distribution of #words in train data**"
   ]
  },
  {
   "cell_type": "code",
   "execution_count": 14,
   "metadata": {
    "_uuid": "d9023cf5675756eb6c51fd6ca4f914e78d573212"
   },
   "outputs": [
    {
     "data": {
      "image/png": "[encoded data removed]",
      "text/plain": [
       "<Figure size 1152x576 with 1 Axes>"
      ]
     },
     "metadata": {
      "needs_background": "light"
     },
     "output_type": "display_data"
    }
   ],
   "source": [
    "data.hist(\"length\", bins=500, figsize=(16,8))\n",
    "plt.title(\"Train data\")\n",
    "plt.xlabel(\"#words\")\n",
    "plt.xlim(0,80)\n",
    "plt.show()"
   ]
  },
  {
   "cell_type": "markdown",
   "metadata": {},
   "source": [
    "**Distribution of #words in test data**"
   ]
  },
  {
   "cell_type": "code",
   "execution_count": 15,
   "metadata": {
    "_uuid": "e62fa48cd03207f7694041c5a8136fadf746b62f"
   },
   "outputs": [
    {
     "data": {
      "image/png": "[encoded data removed]",
      "text/plain": [
       "<Figure size 1152x576 with 1 Axes>"
      ]
     },
     "metadata": {
      "needs_background": "light"
     },
     "output_type": "display_data"
    }
   ],
   "source": [
    "test_data.hist(\"length\", bins=500, figsize=(16,8))\n",
    "plt.title(\"Test data\")\n",
    "plt.xlabel(\"#words\")\n",
    "plt.xlim(0,80)\n",
    "plt.show()"
   ]
  },
  {
   "cell_type": "markdown",
   "metadata": {},
   "source": [
    "**Distribution of #words in all data**"
   ]
  },
  {
   "cell_type": "code",
   "execution_count": 16,
   "metadata": {
    "_uuid": "1acae0dd03bd4f74aaada708c03ce489e0d31f8a"
   },
   "outputs": [
    {
     "data": {
      "image/png": "[encoded data removed]",
      "text/plain": [
       "<Figure size 1152x576 with 1 Axes>"
      ]
     },
     "metadata": {
      "needs_background": "light"
     },
     "output_type": "display_data"
    }
   ],
   "source": [
    "all_length = pd.concat([data['length'], test_data['length']])\n",
    "all_length.hist(bins=500, figsize=(16,8))\n",
    "plt.title(\"All data\")\n",
    "plt.xlim(0,80)\n",
    "plt.xlabel(\"#words\")\n",
    "plt.show()\n",
    "del(all_length)"
   ]
  },
  {
   "cell_type": "markdown",
   "metadata": {},
   "source": [
    "**Split the training set into train and validation set and save the data if it is not already not saved**"
   ]
  },
  {
   "cell_type": "code",
   "execution_count": 17,
   "metadata": {
    "_uuid": "f05607720c1d95212c9534ea29a103d0c5dd2c0c"
   },
   "outputs": [],
   "source": [
    "test_data.to_csv(input_dir+\"test_data.csv\",header=True, index=False)\n",
    "del(test_data)\n",
    "if \"train_data.csv\" not in os.listdir(input_dir):\n",
    "    train_data = data.head(int(len(data)*0.90))\n",
    "    train_data.to_csv(input_dir+\"train_data.csv\",header=True, index=False)\n",
    "    del(train_data)\n",
    "valid_data = data.tail(len(data)-int(len(data)*0.90))\n",
    "valid_size = len(valid_data)\n",
    "if \"valid_data.csv\" not in os.listdir(input_dir):    \n",
    "    valid_data.to_csv(input_dir+\"valid_data.csv\",header=True, index=False)\n",
    "del(valid_data)\n",
    "del(data)"
   ]
  },
  {
   "cell_type": "markdown",
   "metadata": {},
   "source": [
    "## 5. Input functions"
   ]
  },
  {
   "cell_type": "markdown",
   "metadata": {},
   "source": [
    "**A function to generate sequence of embeddings for the text columns**"
   ]
  },
  {
   "cell_type": "code",
   "execution_count": 18,
   "metadata": {
    "_uuid": "9988b8e064bab7aa11528bd3fb2873c228063690"
   },
   "outputs": [],
   "source": [
    "def sequence_generator(comments, max_length, size):\n",
    "    \"\"\"\n",
    "    A function to generate sequence of embeddings for the text columns\n",
    "    \"\"\"    \n",
    "    sentences = []\n",
    "    for comment in comments.tolist():\n",
    "        sentences.append(str(comment).split())\n",
    "        \n",
    "    sequences = []\n",
    "    for sentence in sentences:\n",
    "        if len(sentence)>0:\n",
    "            if len(sentence)<max_length:\n",
    "                sequence = model[sentence]\n",
    "                tail = np.zeros((max_length - len(sentence), size))\n",
    "                sequence = np.concatenate((sequence, tail))\n",
    "            else:\n",
    "                sequence = model[sentence[:max_length]]\n",
    "        else:\n",
    "            sequence = np.zeros((max_length, size))        \n",
    "        sequences.append(sequence)\n",
    "    sequences = np.array(sequences)\n",
    "    \n",
    "    return sequences"
   ]
  },
  {
   "cell_type": "markdown",
   "metadata": {},
   "source": [
    "**A function to generate batch of embeddings sequence, sequence length, and one hot encode output**"
   ]
  },
  {
   "cell_type": "code",
   "execution_count": 19,
   "metadata": {
    "_uuid": "957b9ad3002b2946c1995e89791267c465b0933d"
   },
   "outputs": [],
   "source": [
    "def generate_batch(reader, csv_path, batch_size, max_length, size, train_set=True):\n",
    "    \"\"\"\n",
    "    A function to generate batch of embeddings sequence, sequence length, and one hot encode output\n",
    "    \"\"\"\n",
    "    # read batch\n",
    "    try:\n",
    "        batch = reader.get_chunk()\n",
    "    except:\n",
    "        \n",
    "        reader = pd.read_csv(csv_path, chunksize=batch_size)\n",
    "        batch = reader.get_chunk()\n",
    "    \n",
    "    # extract columns of comments and sequence lengths\n",
    "    comments_batch = batch[\"text\"].values\n",
    "    seq_length_batch = batch[\"length\"].values\n",
    "    # if it is train set then extract the columns of sentiments\n",
    "    if train_set:\n",
    "        authors = batch[[\"EAP\",\"HPL\",\"MWS\"]].values\n",
    "    # generate sequence of embeddings for the comments columns\n",
    "    sequences_batch = sequence_generator(comments_batch, max_length, size)\n",
    "    \n",
    "    if train_set:\n",
    "        return sequences_batch, seq_length_batch, authors\n",
    "    else:\n",
    "        return sequences_batch, seq_length_batch"
   ]
  },
  {
   "cell_type": "markdown",
   "metadata": {},
   "source": [
    "## 6. Class module of multilayer lstm model"
   ]
  },
  {
   "cell_type": "code",
   "execution_count": 20,
   "metadata": {
    "_uuid": "0c90010b4fbb087b8e48e5e4562333a2190704c5"
   },
   "outputs": [],
   "source": [
    "class multilayer_lstm_model(object):\n",
    "    \"\"\"\n",
    "    Multilayer lstm model\n",
    "    \"\"\"    \n",
    "    def __init__(self, n_steps, n_inputs, n_outputs, n_layers, \n",
    "                 n_neurons, dense_layers, learning_rate, device, tf_seed, np_seed):\n",
    "        \"\"\"\n",
    "        Class constuctor which intializes the parameters, placeholders, and operations of the model\n",
    "        \"\"\"\n",
    "        \n",
    "        # parameters of lstm model\n",
    "        self.n_steps = n_steps\n",
    "        self.n_inputs = n_inputs\n",
    "        self.n_outputs = n_outputs\n",
    "        self.n_layers = n_layers\n",
    "        self.n_neurons = n_neurons\n",
    "        self.dense_layers = dense_layers\n",
    "        self.learning_rate = learning_rate\n",
    "        self.device = device\n",
    "        self.tf_seed = tf_seed\n",
    "        self.np_seed = np_seed    \n",
    "        \n",
    "        # placeholders and operations\n",
    "        self.X = None\n",
    "        self.Y = None\n",
    "        self.Length = None\n",
    "        self.keep_prob = None\n",
    "        self.Y_ = None\n",
    "        self.accuracy = None\n",
    "        self.cost = None\n",
    "        self.train_step = None\n",
    "        \n",
    "        # create model\n",
    "        self.X, self.Y, self.Length, self.keep_prob, \\\n",
    "        self.Y_, self.accuracy, self.cost, self.train_step = self.create_model()\n",
    "        \n",
    "        self.saver = None\n",
    "        self.train_cost = None\n",
    "        self.valid_cost = None\n",
    "        self.valid_accuracy = None\n",
    "        self.best_valid_cost = None\n",
    "        self.best_iteration = None\n",
    "        self.best_time = None\n",
    "        self.log_of_computation_time = []\n",
    "        \n",
    "        \n",
    "    def bidirectional_lstm(self, X, n_layers, n_neurons, keep_prob, device):\n",
    "        \n",
    "        \"\"\"\n",
    "        Method to create multilayer biderectional lstm model\n",
    "        \"\"\"\n",
    "        output = X\n",
    "        # iterate through the layers of LSTM\n",
    "        for layer in range(n_layers):\n",
    "            with tf.variable_scope('LSTM_Layer{}'.format(layer),reuse=tf.AUTO_REUSE):\n",
    "                # forward lstm cell\n",
    "                cell_fw = tf.nn.rnn_cell.LSTMCell(n_neurons,\n",
    "                                                  initializer=tf.variance_scaling_initializer())\n",
    "                # dropout on lstm cell\n",
    "                cell_fw = tf.nn.rnn_cell.DropoutWrapper(cell_fw, input_keep_prob = keep_prob)\n",
    "                # mount the lstm cell on gpu\n",
    "                cell_fw = tf.nn.rnn_cell.DeviceWrapper(cell_fw,device) \n",
    "                # backward lstm cell\n",
    "                cell_bw = tf.nn.rnn_cell.LSTMCell(n_neurons,\n",
    "                                                  initializer=tf.variance_scaling_initializer())\n",
    "                # dropout on lstm cell\n",
    "                cell_bw = tf.nn.rnn_cell.DropoutWrapper(cell_bw, input_keep_prob = keep_prob)\n",
    "                # mount the lstm cell on gpu\n",
    "                cell_bw = tf.nn.rnn_cell.DeviceWrapper(cell_bw,device) \n",
    "                # extract the outputs and states bidirectional lstm\n",
    "                outputs, states = tf.nn.bidirectional_dynamic_rnn(cell_fw, \n",
    "                                                                  cell_bw, \n",
    "                                                                  output,\n",
    "                                                                  dtype=tf.float32)\n",
    "                # concat the outputs of bidirectional lstm\n",
    "                output = tf.concat(outputs,2)\n",
    "        \n",
    "        # concat the top layer h states of bidirection lstm \n",
    "        state = tf.concat([states[0][-1], states[1][-1]], axis=-1)\n",
    "\n",
    "        return output, state\n",
    "        \n",
    "        \n",
    "    def create_model(self):\n",
    "        \"\"\"\n",
    "        A method to create the multilayer lstm model\n",
    "        \"\"\"\n",
    "        # placeholder to store the input of the model\n",
    "        X = tf.placeholder(tf.float32, [None, self.n_steps, self.n_inputs])\n",
    "        # placeholder to store the output of the model\n",
    "        Y = tf.placeholder(tf.float32, [None, self.n_outputs])\n",
    "        # placeholder to store the lengths of the sequences\n",
    "        Length = tf.placeholder(tf.int32, [None])\n",
    "        # keep probability for dropout\n",
    "        keep_prob = tf.placeholder(tf.float32)\n",
    "        \n",
    "        # created bidrectional lstm and extract the top layer h state\n",
    "        _, top_layer_h_state = self.bidirectional_lstm(X, self.n_layers, self.n_neurons,\n",
    "                                                       keep_prob, self.device)\n",
    "        \n",
    "        # iterate and create the dense layer\n",
    "        for n, dense_layer in enumerate(self.dense_layers):\n",
    "            # first dense layer (with dropout)\n",
    "            if n == 0:\n",
    "                with tf.device(self.device):\n",
    "                    dense = tf.layers.dense(top_layer_h_state, dense_layer,\n",
    "                                            kernel_initializer=tf.variance_scaling_initializer(),\n",
    "                                            activation=tf.nn.elu)\n",
    "                    dense = tf.nn.dropout(dense, keep_prob=keep_prob)\n",
    "             # last dense layer (without dropout)\n",
    "            elif n == len(self.dense_layers)-1:\n",
    "                with tf.device(self.device):\n",
    "                    dense = tf.layers.dense(dense, dense_layer,\n",
    "                                            kernel_initializer=tf.variance_scaling_initializer())\n",
    "            # middle dense layers (with droput)\n",
    "            else:\n",
    "                with tf.device(self.device):\n",
    "                    dense = tf.layers.dense(dense, dense_layer, \n",
    "                                            kernel_initializer=tf.variance_scaling_initializer(),\n",
    "                                            activation=tf.nn.elu)\n",
    "                    dense = tf.nn.dropout(dense, keep_prob=keep_prob)\n",
    "                    \n",
    "        \n",
    "        # softmax of output\n",
    "        Y_pred = tf.nn.softmax(dense)\n",
    "        # compute predicted class\n",
    "        Y_ = tf.argmax(Y_pred, axis=1, output_type=tf.int32)\n",
    "        # compute true class\n",
    "        Y_true_cls = tf.argmax(Y, axis=1, output_type=tf.int32)\n",
    "        # compute correct prediction\n",
    "        correct_prediction = tf.equal(Y_, Y_true_cls)\n",
    "        # compute accuracy\n",
    "        accuracy = tf.reduce_mean(tf.cast(correct_prediction, tf.float32))\n",
    "\n",
    "        # cost\n",
    "        with tf.device(device):\n",
    "            cost = tf.losses.log_loss(labels=Y,predictions=Y_pred)\n",
    "\n",
    "        # train step\n",
    "        with tf.device(device):\n",
    "            train_step = tf.train.AdamOptimizer(learning_rate=learning_rate).minimize(cost)        \n",
    "        \n",
    "        return X, Y, Length, keep_prob, Y_, accuracy, cost, train_step\n",
    "    \n",
    "    \n",
    "    def train_model(self, max_iter, batch_size, drop_prob,\n",
    "                    train_data_reader,valid_data_reader,train_path, valid_path,\n",
    "                    max_length, size, model_dir, model_name, generate_batch):\n",
    "        \"\"\"\n",
    "        A method to train the multilayer lstm model\n",
    "        \"\"\"        \n",
    "        # generate sequences, length, & sentimentas for validation set\n",
    "        sequences_valid, seq_length_valid, authors_valid = \\\n",
    "        generate_batch(valid_data_reader, valid_path, valid_data_reader.chunksize,\n",
    "                       self.n_steps, self.n_inputs)\n",
    "        # feed dict for validation\n",
    "        feed_dict_validation =  {self.X:sequences_valid,\n",
    "                                 self.Y:authors_valid,\n",
    "                                 self.Length:seq_length_valid,\n",
    "                                 self.keep_prob: 1.0} \n",
    "        \n",
    "        # start time\n",
    "        start_time = time.time()\n",
    "        # create a saver object\n",
    "        saver = tf.train.Saver(max_to_keep=1)\n",
    "        # lists to store the train cost, validation cost, and validation accuracy\n",
    "        train_cost = []\n",
    "        valid_cost = []\n",
    "        valid_accuracy = []\n",
    "        # variables to store the best roc and best iteration\n",
    "        # and the time to reach the best roc\n",
    "        best_valid_cost = 1e100\n",
    "        best_iteration = None\n",
    "        best_time = None\n",
    "        # path of model saver object\n",
    "        model_path = model_dir+model_name\n",
    "        \n",
    "        # create a graph session and optimize the network under it\n",
    "        with tf.Session() as sess:\n",
    "            \n",
    "            tf.set_random_seed(self.tf_seed)\n",
    "            np.random.seed(self.np_seed)\n",
    "        \n",
    "            sess.run(tf.global_variables_initializer())\n",
    "            sess.run(tf.local_variables_initializer())\n",
    "            \n",
    "            # create an object of progress bar\n",
    "            bar = progressbar.ProgressBar(maxval=max_iter, widgets=[\n",
    "                '[',progressbar.Percentage(),']',\n",
    "                progressbar.Bar(),\n",
    "                '(',progressbar.DynamicMessage(\"train_cost\"),')',\n",
    "                '(',progressbar.DynamicMessage(\"valid_cost\"),')',\n",
    "                '(',progressbar.DynamicMessage(\"valid_accuracy\"),')',\n",
    "                '(',progressbar.DynamicMessage(\"best_valid_cost\"),')',\n",
    "                '(',progressbar.DynamicMessage(\"time_elapsed\"),'mins)'\n",
    "            ])\n",
    "            # start the progress bar\n",
    "            bar.start()\n",
    "            # counter variable to track the number of iterations\n",
    "            counter = 0\n",
    "            # iterate until maximum number of iterations is reached\n",
    "            while True:\n",
    "                # break out of the inner for loop if maximum number of iterations is reached\n",
    "                if counter>=max_iter:\n",
    "                    break            \n",
    "                # generate sequences, length, & sentimentas for validation set\n",
    "                sequences_batch, seq_length_batch, authors_batch = \\\n",
    "                generate_batch(train_data_reader, train_path, batch_size, self.n_steps, self.n_inputs)\n",
    "                # feed dict for validation\n",
    "                feed_dict_batch =  {self.X:sequences_batch,\n",
    "                                    self.Y:authors_batch,\n",
    "                                    self.Length:seq_length_batch,\n",
    "                                    self.keep_prob: drop_prob} \n",
    "                # execute optimization step\n",
    "                sess.run(self.train_step, feed_dict=feed_dict_batch)\n",
    "                # calculate temporary train cost and append it to the designated list\n",
    "                temp_train_cost = self.cost.eval(session=sess, feed_dict=feed_dict_batch)\n",
    "                train_cost.append(temp_train_cost)\n",
    "                # calculate temporary validation cost and append it to the designated list\n",
    "                temp_valid_cost = self.cost.eval(session=sess, feed_dict=feed_dict_validation)\n",
    "                valid_cost.append(temp_valid_cost)\n",
    "                # calculate temporary validation cost and append it to the designated list\n",
    "                temp_valid_acc = self.accuracy.eval(session=sess, feed_dict=feed_dict_validation)\n",
    "                valid_accuracy.append(temp_valid_acc)\n",
    "                # compute running time from start point\n",
    "                time_diff = (time.time()-start_time)/60\n",
    "                # append elapsed time to the designated list\n",
    "                self.log_of_computation_time.append(time_diff)\n",
    "                # if valid cost is better than best recorded so far then\n",
    "                # update the parameters of the best model and save the model\n",
    "                if temp_valid_cost < best_valid_cost:\n",
    "                    best_time = time_diff\n",
    "                    best_valid_cost = temp_valid_cost\n",
    "                    best_iteration = counter+1\n",
    "                    saver.save(sess, model_path, global_step = best_iteration)\n",
    "                    \n",
    "                # store the required variables, placeholders and operations in designated class fields\n",
    "                self.saver = saver\n",
    "                self.train_cost = train_cost\n",
    "                self.valid_cost = valid_cost\n",
    "                self.best_valid_cost = best_valid_cost\n",
    "                self.valid_accuracy = valid_accuracy\n",
    "                self.best_iteration = best_iteration\n",
    "                self.best_time = best_time\n",
    "\n",
    "                # update the progress bar\n",
    "                bar.update(counter+1, train_cost = temp_train_cost, \n",
    "                           valid_cost = temp_valid_cost,\n",
    "                           valid_accuracy = temp_valid_acc, \n",
    "                           best_valid_cost = best_valid_cost, \n",
    "                           time_elapsed = time_diff)\n",
    "                # increment counter variable\n",
    "                counter += 1\n",
    "\n",
    "            # finish the progress bar\n",
    "            bar.finish()            \n",
    "        \n",
    "        \n",
    "    def create_predictions(self, model_path, test_data_reader, test_path, \n",
    "                           test_ids, n_folds, submission_dir, submission_file):\n",
    "        '''\n",
    "        A function to compute predictions and submission file\n",
    "        '''\n",
    "        # submission path\n",
    "        submission_path = submission_dir + submission_file\n",
    "\n",
    "        with tf.Session() as sess: \n",
    "            # restore the best model\n",
    "            self.saver.restore(sess, model_path)\n",
    "            # array to store the prediction\n",
    "            preds = np.array([])\n",
    "            # create a progress bar object\n",
    "            bar = progressbar.ProgressBar(maxval=n_folds, widgets=[\n",
    "                            '[',progressbar.Percentage(),']',\n",
    "                            progressbar.Bar(),\n",
    "                            '(',progressbar.DynamicMessage(\"number_of_folds_completed\"),')'\n",
    "                        ])            \n",
    "            # start progress bat\n",
    "            bar.start()\n",
    "            \n",
    "            # iterate through each fold\n",
    "            for i in range(n_folds):\n",
    "                # generate sequences, length, & sentiments for test set\n",
    "                sequences_test, seq_length_test = \\\n",
    "                generate_batch(test_data_reader, test_path, test_data_reader.chunksize,\n",
    "                               self.n_steps, self.n_inputs, train_set=False)\n",
    "                # feed dict for test\n",
    "                feed_dict_test =  {self.X:sequences_test,\n",
    "                                   self.Length:seq_length_test,\n",
    "                                   self.keep_prob: 1.0} \n",
    "                # evaluate predictions of the fold\n",
    "                fold_preds = self.Y_.eval(session=sess, feed_dict = feed_dict_test)\n",
    "                # append it to designated array\n",
    "                preds = np.append(preds, fold_preds)                    \n",
    "                # update the progress bar\n",
    "                bar.update(i+1, number_of_folds_completed = i+1)                \n",
    "            # finish the progress bar\n",
    "            bar.finish()\n",
    "\n",
    "            submission = pd.DataFrame({\"id\":test_ids, \"author\": preds})\n",
    "            submission.to_csv(submission_path, header = True, index=False)"
   ]
  },
  {
   "cell_type": "markdown",
   "metadata": {},
   "source": [
    "## 7. Create graph of multilayer lstm model"
   ]
  },
  {
   "cell_type": "markdown",
   "metadata": {},
   "source": [
    "**Inspect the devices of kernel**"
   ]
  },
  {
   "cell_type": "code",
   "execution_count": 21,
   "metadata": {
    "_uuid": "2c85a3bceaecc1d5e562b0a05df80186d6a47911"
   },
   "outputs": [
    {
     "name": "stdout",
     "output_type": "stream",
     "text": [
      "[name: \"/device:CPU:0\"\n",
      "device_type: \"CPU\"\n",
      "memory_limit: 268435456\n",
      "locality {\n",
      "}\n",
      "incarnation: 12761668548094668511\n",
      ", name: \"/device:GPU:0\"\n",
      "device_type: \"GPU\"\n",
      "memory_limit: 15864515789\n",
      "locality {\n",
      "  bus_id: 1\n",
      "  links {\n",
      "  }\n",
      "}\n",
      "incarnation: 9948270677625180939\n",
      "physical_device_desc: \"device: 0, name: Tesla P100-PCIE-16GB, pci bus id: 0000:00:04.0, compute capability: 6.0\"\n",
      "]\n"
     ]
    }
   ],
   "source": [
    "from tensorflow.python.client import device_lib\n",
    "devices = device_lib.list_local_devices()\n",
    "print(devices)"
   ]
  },
  {
   "cell_type": "markdown",
   "metadata": {},
   "source": [
    "**Set the device to gpu if available**"
   ]
  },
  {
   "cell_type": "code",
   "execution_count": 22,
   "metadata": {
    "_uuid": "72fc892c964f527935ab6e89cd3f063db2f40275"
   },
   "outputs": [],
   "source": [
    "if len(devices)>1:\n",
    "    device = devices[-1].name\n",
    "else:\n",
    "    device = devices[0].name"
   ]
  },
  {
   "cell_type": "markdown",
   "metadata": {},
   "source": [
    "**Reset the default graph**"
   ]
  },
  {
   "cell_type": "code",
   "execution_count": 23,
   "metadata": {
    "_uuid": "5256c29e65e6e65bf59101ef1f479d2f47e0cf3e"
   },
   "outputs": [],
   "source": [
    "tf.reset_default_graph()"
   ]
  },
  {
   "cell_type": "markdown",
   "metadata": {},
   "source": [
    "**Create graph**"
   ]
  },
  {
   "cell_type": "code",
   "execution_count": 24,
   "metadata": {
    "_uuid": "d65dee8a5225dcfc7d5ace5bfd1adf88b1d22402"
   },
   "outputs": [],
   "source": [
    "n_layers = 2\n",
    "n_neurons = 32\n",
    "max_length = n_steps = 50 \n",
    "n_inputs = size\n",
    "n_outputs = 3\n",
    "dense_layers = [16,n_outputs]\n",
    "learning_rate = (1e-5)*2\n",
    "sequence_model = multilayer_lstm_model(n_steps, n_inputs, n_outputs, n_layers, \n",
    "                                       n_neurons, dense_layers, learning_rate,\n",
    "                                       device, tf_rand_seed, np_rand_seed)"
   ]
  },
  {
   "cell_type": "markdown",
   "metadata": {},
   "source": [
    "## 8. Train multilayer lstm model"
   ]
  },
  {
   "cell_type": "markdown",
   "metadata": {},
   "source": [
    "**Train model**"
   ]
  },
  {
   "cell_type": "code",
   "execution_count": 25,
   "metadata": {
    "_uuid": "b8167ff1a91c6cc33625634fe7bd524cddd94c08"
   },
   "outputs": [
    {
     "name": "stderr",
     "output_type": "stream",
     "text": [
      "[100%]||(train_cost:  0.241)(valid_cost:  0.422)(valid_accuracy:  0.733)(best_valid_cost:  0.409)(time_elapsed:   17.1mins)\n"
     ]
    }
   ],
   "source": [
    "max_iter = 1400\n",
    "batch_size = 200\n",
    "keep_prob = 0.50\n",
    "train_path = input_dir+\"train_data.csv\"\n",
    "train_data_reader = pd.read_csv(train_path, chunksize=batch_size)\n",
    "valid_path = input_dir+\"valid_data.csv\"\n",
    "valid_data_reader = pd.read_csv(valid_path, chunksize=valid_size)\n",
    "model_name = \"multilayer_lstm\" \n",
    "sequence_model.train_model(max_iter, batch_size, keep_prob,\n",
    "                           train_data_reader,valid_data_reader,train_path, valid_path,\n",
    "                           max_length, size, model_dir, model_name, generate_batch)"
   ]
  },
  {
   "cell_type": "markdown",
   "metadata": {},
   "source": [
    "**Plot of cost vs iterations**"
   ]
  },
  {
   "cell_type": "code",
   "execution_count": 26,
   "metadata": {
    "_uuid": "dc389d921071d023e56e337a3acab7c96e3ee2d8"
   },
   "outputs": [
    {
     "data": {
      "image/png": "[encoded data removed]",
      "text/plain": [
       "<Figure size 1280x640 with 1 Axes>"
      ]
     },
     "metadata": {},
     "output_type": "display_data"
    }
   ],
   "source": [
    "plt.figure(figsize=(16, 8), dpi= 80, facecolor='w', edgecolor='k')\n",
    "plt.plot(sequence_model.train_cost, label = 'train cost')\n",
    "plt.plot(sequence_model.valid_cost, label = 'valid cost')\n",
    "plt.xlabel('iterations', fontsize = 14)\n",
    "plt.ylabel('cost', fontsize = 14)\n",
    "plt.title(\"Best cost: \"+str(sequence_model.best_valid_cost)+ \\\n",
    "          \"; Best iteration: \"+str(sequence_model.best_iteration),fontsize = 18)\n",
    "plt.legend()\n",
    "plt.grid()\n",
    "plt.show()"
   ]
  },
  {
   "cell_type": "markdown",
   "metadata": {},
   "source": [
    "**Plot of accuracy vs iterations**"
   ]
  },
  {
   "cell_type": "code",
   "execution_count": 27,
   "metadata": {
    "_uuid": "1cac05ecd38ddece2493ae69ab3555348243efc6"
   },
   "outputs": [
    {
     "data": {
      "image/png": "[encoded data removed]",
      "text/plain": [
       "<Figure size 1280x640 with 1 Axes>"
      ]
     },
     "metadata": {},
     "output_type": "display_data"
    }
   ],
   "source": [
    "plt.figure(figsize=(16, 8), dpi= 80, facecolor='w', edgecolor='k')\n",
    "plt.plot(sequence_model.valid_accuracy)\n",
    "plt.title(\"Accuracy vs Iterations\")\n",
    "plt.xlabel('iterations', fontsize = 14)\n",
    "plt.ylabel('accuracy', fontsize = 14)\n",
    "plt.grid()\n",
    "plt.show()"
   ]
  },
  {
   "cell_type": "markdown",
   "metadata": {},
   "source": [
    "## 9. Create submission csv file"
   ]
  },
  {
   "cell_type": "code",
   "execution_count": 28,
   "metadata": {
    "_uuid": "7736c2e572704ec271fc4dc9af1d63e4515524e0"
   },
   "outputs": [
    {
     "name": "stdout",
     "output_type": "stream",
     "text": [
      "INFO:tensorflow:Restoring parameters from ./model_files/multilayer_lstm-1139\n"
     ]
    },
    {
     "name": "stderr",
     "output_type": "stream",
     "text": [
      "[100%]|####################################|(number_of_folds_completed:    102)\n"
     ]
    }
   ],
   "source": [
    "test_size = len(test_ids)\n",
    "n_folds = 100\n",
    "test_batch_size = test_size//n_folds\n",
    "if test_size%n_folds != 0: n_folds +=2\n",
    "submission_file = \"submission.csv\"\n",
    "test_path = input_dir+\"test_data.csv\"\n",
    "test_data_reader = pd.read_csv(test_path, chunksize=test_batch_size)\n",
    "model_path = model_dir+model_name+\"-\"+str(sequence_model.best_iteration)\n",
    "sequence_model.create_predictions(model_path, test_data_reader, test_path, \n",
    "                                   test_ids, n_folds, submission_dir, submission_file)"
   ]
  },
  {
   "cell_type": "code",
   "execution_count": 29,
   "metadata": {
    "_uuid": "623c2b1aa296dbc12333491113f74c68822f06e9"
   },
   "outputs": [],
   "source": [
    "submission_file = pd.read_csv(submission_dir+submission_file)"
   ]
  },
  {
   "cell_type": "code",
   "execution_count": 30,
   "metadata": {
    "_uuid": "2aeabdf70e333e183e11d3da8aae6a201af08321"
   },
   "outputs": [
    {
     "data": {
      "text/html": [
       "<div>\n",
       "<style scoped>\n",
       "    .dataframe tbody tr th:only-of-type {\n",
       "        vertical-align: middle;\n",
       "    }\n",
       "\n",
       "    .dataframe tbody tr th {\n",
       "        vertical-align: top;\n",
       "    }\n",
       "\n",
       "    .dataframe thead th {\n",
       "        text-align: right;\n",
       "    }\n",
       "</style>\n",
       "<table border=\"1\" class=\"dataframe\">\n",
       "  <thead>\n",
       "    <tr style=\"text-align: right;\">\n",
       "      <th></th>\n",
       "      <th>id</th>\n",
       "      <th>author</th>\n",
       "    </tr>\n",
       "  </thead>\n",
       "  <tbody>\n",
       "    <tr>\n",
       "      <th>0</th>\n",
       "      <td>id02310</td>\n",
       "      <td>2.0</td>\n",
       "    </tr>\n",
       "    <tr>\n",
       "      <th>1</th>\n",
       "      <td>id24541</td>\n",
       "      <td>0.0</td>\n",
       "    </tr>\n",
       "    <tr>\n",
       "      <th>2</th>\n",
       "      <td>id00134</td>\n",
       "      <td>1.0</td>\n",
       "    </tr>\n",
       "    <tr>\n",
       "      <th>3</th>\n",
       "      <td>id27757</td>\n",
       "      <td>1.0</td>\n",
       "    </tr>\n",
       "    <tr>\n",
       "      <th>4</th>\n",
       "      <td>id04081</td>\n",
       "      <td>0.0</td>\n",
       "    </tr>\n",
       "    <tr>\n",
       "      <th>5</th>\n",
       "      <td>id27337</td>\n",
       "      <td>1.0</td>\n",
       "    </tr>\n",
       "    <tr>\n",
       "      <th>6</th>\n",
       "      <td>id24265</td>\n",
       "      <td>0.0</td>\n",
       "    </tr>\n",
       "    <tr>\n",
       "      <th>7</th>\n",
       "      <td>id25917</td>\n",
       "      <td>2.0</td>\n",
       "    </tr>\n",
       "    <tr>\n",
       "      <th>8</th>\n",
       "      <td>id04951</td>\n",
       "      <td>0.0</td>\n",
       "    </tr>\n",
       "    <tr>\n",
       "      <th>9</th>\n",
       "      <td>id14549</td>\n",
       "      <td>0.0</td>\n",
       "    </tr>\n",
       "    <tr>\n",
       "      <th>10</th>\n",
       "      <td>id22505</td>\n",
       "      <td>2.0</td>\n",
       "    </tr>\n",
       "    <tr>\n",
       "      <th>11</th>\n",
       "      <td>id24002</td>\n",
       "      <td>1.0</td>\n",
       "    </tr>\n",
       "    <tr>\n",
       "      <th>12</th>\n",
       "      <td>id18982</td>\n",
       "      <td>1.0</td>\n",
       "    </tr>\n",
       "    <tr>\n",
       "      <th>13</th>\n",
       "      <td>id15181</td>\n",
       "      <td>1.0</td>\n",
       "    </tr>\n",
       "    <tr>\n",
       "      <th>14</th>\n",
       "      <td>id21888</td>\n",
       "      <td>0.0</td>\n",
       "    </tr>\n",
       "    <tr>\n",
       "      <th>15</th>\n",
       "      <td>id12035</td>\n",
       "      <td>2.0</td>\n",
       "    </tr>\n",
       "    <tr>\n",
       "      <th>16</th>\n",
       "      <td>id17991</td>\n",
       "      <td>0.0</td>\n",
       "    </tr>\n",
       "    <tr>\n",
       "      <th>17</th>\n",
       "      <td>id10707</td>\n",
       "      <td>0.0</td>\n",
       "    </tr>\n",
       "    <tr>\n",
       "      <th>18</th>\n",
       "      <td>id07101</td>\n",
       "      <td>2.0</td>\n",
       "    </tr>\n",
       "    <tr>\n",
       "      <th>19</th>\n",
       "      <td>id00345</td>\n",
       "      <td>0.0</td>\n",
       "    </tr>\n",
       "    <tr>\n",
       "      <th>20</th>\n",
       "      <td>id05912</td>\n",
       "      <td>0.0</td>\n",
       "    </tr>\n",
       "    <tr>\n",
       "      <th>21</th>\n",
       "      <td>id13443</td>\n",
       "      <td>0.0</td>\n",
       "    </tr>\n",
       "    <tr>\n",
       "      <th>22</th>\n",
       "      <td>id09248</td>\n",
       "      <td>2.0</td>\n",
       "    </tr>\n",
       "    <tr>\n",
       "      <th>23</th>\n",
       "      <td>id17542</td>\n",
       "      <td>2.0</td>\n",
       "    </tr>\n",
       "    <tr>\n",
       "      <th>24</th>\n",
       "      <td>id06995</td>\n",
       "      <td>2.0</td>\n",
       "    </tr>\n",
       "    <tr>\n",
       "      <th>25</th>\n",
       "      <td>id25159</td>\n",
       "      <td>0.0</td>\n",
       "    </tr>\n",
       "    <tr>\n",
       "      <th>26</th>\n",
       "      <td>id25729</td>\n",
       "      <td>0.0</td>\n",
       "    </tr>\n",
       "    <tr>\n",
       "      <th>27</th>\n",
       "      <td>id26949</td>\n",
       "      <td>0.0</td>\n",
       "    </tr>\n",
       "    <tr>\n",
       "      <th>28</th>\n",
       "      <td>id27191</td>\n",
       "      <td>0.0</td>\n",
       "    </tr>\n",
       "    <tr>\n",
       "      <th>29</th>\n",
       "      <td>id07668</td>\n",
       "      <td>2.0</td>\n",
       "    </tr>\n",
       "  </tbody>\n",
       "</table>\n",
       "</div>"
      ],
      "text/plain": [
       "         id  author\n",
       "0   id02310     2.0\n",
       "1   id24541     0.0\n",
       "2   id00134     1.0\n",
       "3   id27757     1.0\n",
       "4   id04081     0.0\n",
       "5   id27337     1.0\n",
       "6   id24265     0.0\n",
       "7   id25917     2.0\n",
       "8   id04951     0.0\n",
       "9   id14549     0.0\n",
       "10  id22505     2.0\n",
       "11  id24002     1.0\n",
       "12  id18982     1.0\n",
       "13  id15181     1.0\n",
       "14  id21888     0.0\n",
       "15  id12035     2.0\n",
       "16  id17991     0.0\n",
       "17  id10707     0.0\n",
       "18  id07101     2.0\n",
       "19  id00345     0.0\n",
       "20  id05912     0.0\n",
       "21  id13443     0.0\n",
       "22  id09248     2.0\n",
       "23  id17542     2.0\n",
       "24  id06995     2.0\n",
       "25  id25159     0.0\n",
       "26  id25729     0.0\n",
       "27  id26949     0.0\n",
       "28  id27191     0.0\n",
       "29  id07668     2.0"
      ]
     },
     "execution_count": 30,
     "metadata": {},
     "output_type": "execute_result"
    }
   ],
   "source": [
    "submission_file.head(30)"
   ]
  }
 ],
 "metadata": {
  "kernelspec": {
   "display_name": "Python 3",
   "language": "python",
   "name": "python3"
  },
  "language_info": {
   "codemirror_mode": {
    "name": "ipython",
    "version": 3
   },
   "file_extension": ".py",
   "mimetype": "text/x-python",
   "name": "python",
   "nbconvert_exporter": "python",
   "pygments_lexer": "ipython3",
   "version": "3.6.8"
  }
 },
 "nbformat": 4,
 "nbformat_minor": 1
}
