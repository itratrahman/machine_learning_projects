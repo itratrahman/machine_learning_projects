{
 "cells": [
  {
   "cell_type": "markdown",
   "metadata": {},
   "source": [
    "# **Import libraries and set random seed**"
   ]
  },
  {
   "cell_type": "code",
   "execution_count": 1,
   "metadata": {
    "_cell_guid": "db59f734-5b19-4894-9cbd-4fbe5e329836",
    "_uuid": "52f1c5debcaacc49c722da0be1389b381e31f08c"
   },
   "outputs": [
    {
     "name": "stderr",
     "output_type": "stream",
     "text": [
      "Using TensorFlow backend.\n"
     ]
    }
   ],
   "source": [
    "import time\n",
    "t = time.time()\n",
    "import string\n",
    "import random\n",
    "import pandas as pd\n",
    "import numpy as np\n",
    "import tensorflow as tf\n",
    "import nltk, re, time\n",
    "from nltk.corpus import stopwords\n",
    "# from nltk.stem.snowball import SnowballStemmer\n",
    "from sklearn.preprocessing import LabelBinarizer\n",
    "from keras.preprocessing.text import Tokenizer\n",
    "from keras.preprocessing.sequence import pad_sequences\n",
    "%matplotlib inline\n",
    "%config InlineBackend.figure_format = 'retina'"
   ]
  },
  {
   "cell_type": "code",
   "execution_count": 2,
   "metadata": {
    "_cell_guid": "2b00b1cd-20f9-46d7-b83c-6dbe8a534d2a",
    "_uuid": "8c5f2a15e4e66d57e8fb040b88ce8ea3459f5a06"
   },
   "outputs": [
    {
     "name": "stdout",
     "output_type": "stream",
     "text": [
      "numpy random seed:  44\n",
      "tensorflow random seed:  40\n"
     ]
    }
   ],
   "source": [
    "# np_rand_seed = random.randint(0,100)\n",
    "# tf_rand_seed = random.randint(0,100)\n",
    "np_rand_seed = 44\n",
    "tf_rand_seed = 40\n",
    "np.random.seed(np_rand_seed)\n",
    "tf.set_random_seed(tf_rand_seed)\n",
    "print(\"numpy random seed: \",np_rand_seed)\n",
    "print(\"tensorflow random seed: \", tf_rand_seed)"
   ]
  },
  {
   "cell_type": "markdown",
   "metadata": {
    "_cell_guid": "48b721d3-1cb0-4873-b622-6b9a3e87ee84",
    "_uuid": "35cafed9926579335ce3e4ddc2bbfbd8a494931d"
   },
   "source": [
    "# **Loading and inspecting the data**"
   ]
  },
  {
   "cell_type": "code",
   "execution_count": 3,
   "metadata": {
    "_cell_guid": "1b9c599c-1eef-4614-9f3e-b0b27b7a941a",
    "_uuid": "f9e55dc8ce20453eb7dcdc8511a36f97f06f40e1",
    "collapsed": true
   },
   "outputs": [],
   "source": [
    "data = pd.read_csv(\"../input/train.tsv\", delimiter=\"\\t\")\n",
    "test_data = pd.read_csv(\"../input/test.tsv\", delimiter=\"\\t\")"
   ]
  },
  {
   "cell_type": "code",
   "execution_count": 4,
   "metadata": {
    "_cell_guid": "dfb98b19-53d1-43a1-9f03-019e069d4263",
    "_uuid": "b1b9b6485b9b5c74961ce060d14c1a08bd34c2da"
   },
   "outputs": [
    {
     "data": {
      "text/html": [
       "<div>\n",
       "<style>\n",
       "    .dataframe thead tr:only-child th {\n",
       "        text-align: right;\n",
       "    }\n",
       "\n",
       "    .dataframe thead th {\n",
       "        text-align: left;\n",
       "    }\n",
       "\n",
       "    .dataframe tbody tr th {\n",
       "        vertical-align: top;\n",
       "    }\n",
       "</style>\n",
       "<table border=\"1\" class=\"dataframe\">\n",
       "  <thead>\n",
       "    <tr style=\"text-align: right;\">\n",
       "      <th></th>\n",
       "      <th>train_id</th>\n",
       "      <th>name</th>\n",
       "      <th>item_condition_id</th>\n",
       "      <th>category_name</th>\n",
       "      <th>brand_name</th>\n",
       "      <th>price</th>\n",
       "      <th>shipping</th>\n",
       "      <th>item_description</th>\n",
       "    </tr>\n",
       "  </thead>\n",
       "  <tbody>\n",
       "    <tr>\n",
       "      <th>0</th>\n",
       "      <td>0</td>\n",
       "      <td>MLB Cincinnati Reds T Shirt Size XL</td>\n",
       "      <td>3</td>\n",
       "      <td>Men/Tops/T-shirts</td>\n",
       "      <td>NaN</td>\n",
       "      <td>10.0</td>\n",
       "      <td>1</td>\n",
       "      <td>No description yet</td>\n",
       "    </tr>\n",
       "    <tr>\n",
       "      <th>1</th>\n",
       "      <td>1</td>\n",
       "      <td>Razer BlackWidow Chroma Keyboard</td>\n",
       "      <td>3</td>\n",
       "      <td>Electronics/Computers &amp; Tablets/Components &amp; P...</td>\n",
       "      <td>Razer</td>\n",
       "      <td>52.0</td>\n",
       "      <td>0</td>\n",
       "      <td>This keyboard is in great condition and works ...</td>\n",
       "    </tr>\n",
       "    <tr>\n",
       "      <th>2</th>\n",
       "      <td>2</td>\n",
       "      <td>AVA-VIV Blouse</td>\n",
       "      <td>1</td>\n",
       "      <td>Women/Tops &amp; Blouses/Blouse</td>\n",
       "      <td>Target</td>\n",
       "      <td>10.0</td>\n",
       "      <td>1</td>\n",
       "      <td>Adorable top with a hint of lace and a key hol...</td>\n",
       "    </tr>\n",
       "    <tr>\n",
       "      <th>3</th>\n",
       "      <td>3</td>\n",
       "      <td>Leather Horse Statues</td>\n",
       "      <td>1</td>\n",
       "      <td>Home/Home Décor/Home Décor Accents</td>\n",
       "      <td>NaN</td>\n",
       "      <td>35.0</td>\n",
       "      <td>1</td>\n",
       "      <td>New with tags. Leather horses. Retail for [rm]...</td>\n",
       "    </tr>\n",
       "    <tr>\n",
       "      <th>4</th>\n",
       "      <td>4</td>\n",
       "      <td>24K GOLD plated rose</td>\n",
       "      <td>1</td>\n",
       "      <td>Women/Jewelry/Necklaces</td>\n",
       "      <td>NaN</td>\n",
       "      <td>44.0</td>\n",
       "      <td>0</td>\n",
       "      <td>Complete with certificate of authenticity</td>\n",
       "    </tr>\n",
       "    <tr>\n",
       "      <th>5</th>\n",
       "      <td>5</td>\n",
       "      <td>Bundled items requested for Ruie</td>\n",
       "      <td>3</td>\n",
       "      <td>Women/Other/Other</td>\n",
       "      <td>NaN</td>\n",
       "      <td>59.0</td>\n",
       "      <td>0</td>\n",
       "      <td>Banana republic bottoms, Candies skirt with ma...</td>\n",
       "    </tr>\n",
       "    <tr>\n",
       "      <th>6</th>\n",
       "      <td>6</td>\n",
       "      <td>Acacia pacific tides santorini top</td>\n",
       "      <td>3</td>\n",
       "      <td>Women/Swimwear/Two-Piece</td>\n",
       "      <td>Acacia Swimwear</td>\n",
       "      <td>64.0</td>\n",
       "      <td>0</td>\n",
       "      <td>Size small but straps slightly shortened to fi...</td>\n",
       "    </tr>\n",
       "    <tr>\n",
       "      <th>7</th>\n",
       "      <td>7</td>\n",
       "      <td>Girls cheer and tumbling bundle of 7</td>\n",
       "      <td>3</td>\n",
       "      <td>Sports &amp; Outdoors/Apparel/Girls</td>\n",
       "      <td>Soffe</td>\n",
       "      <td>6.0</td>\n",
       "      <td>1</td>\n",
       "      <td>You get three pairs of Sophie cheer shorts siz...</td>\n",
       "    </tr>\n",
       "    <tr>\n",
       "      <th>8</th>\n",
       "      <td>8</td>\n",
       "      <td>Girls Nike Pro shorts</td>\n",
       "      <td>3</td>\n",
       "      <td>Sports &amp; Outdoors/Apparel/Girls</td>\n",
       "      <td>Nike</td>\n",
       "      <td>19.0</td>\n",
       "      <td>0</td>\n",
       "      <td>Girls Size small Plus green. Three shorts total.</td>\n",
       "    </tr>\n",
       "    <tr>\n",
       "      <th>9</th>\n",
       "      <td>9</td>\n",
       "      <td>Porcelain clown doll checker pants VTG</td>\n",
       "      <td>3</td>\n",
       "      <td>Vintage &amp; Collectibles/Collectibles/Doll</td>\n",
       "      <td>NaN</td>\n",
       "      <td>8.0</td>\n",
       "      <td>0</td>\n",
       "      <td>I realized his pants are on backwards after th...</td>\n",
       "    </tr>\n",
       "  </tbody>\n",
       "</table>\n",
       "</div>"
      ],
      "text/plain": [
       "   train_id                                    name  item_condition_id  \\\n",
       "0         0     MLB Cincinnati Reds T Shirt Size XL                  3   \n",
       "1         1        Razer BlackWidow Chroma Keyboard                  3   \n",
       "2         2                          AVA-VIV Blouse                  1   \n",
       "3         3                   Leather Horse Statues                  1   \n",
       "4         4                    24K GOLD plated rose                  1   \n",
       "5         5        Bundled items requested for Ruie                  3   \n",
       "6         6      Acacia pacific tides santorini top                  3   \n",
       "7         7    Girls cheer and tumbling bundle of 7                  3   \n",
       "8         8                   Girls Nike Pro shorts                  3   \n",
       "9         9  Porcelain clown doll checker pants VTG                  3   \n",
       "\n",
       "                                       category_name       brand_name  price  \\\n",
       "0                                  Men/Tops/T-shirts              NaN   10.0   \n",
       "1  Electronics/Computers & Tablets/Components & P...            Razer   52.0   \n",
       "2                        Women/Tops & Blouses/Blouse           Target   10.0   \n",
       "3                 Home/Home Décor/Home Décor Accents              NaN   35.0   \n",
       "4                            Women/Jewelry/Necklaces              NaN   44.0   \n",
       "5                                  Women/Other/Other              NaN   59.0   \n",
       "6                           Women/Swimwear/Two-Piece  Acacia Swimwear   64.0   \n",
       "7                    Sports & Outdoors/Apparel/Girls            Soffe    6.0   \n",
       "8                    Sports & Outdoors/Apparel/Girls             Nike   19.0   \n",
       "9           Vintage & Collectibles/Collectibles/Doll              NaN    8.0   \n",
       "\n",
       "   shipping                                   item_description  \n",
       "0         1                                 No description yet  \n",
       "1         0  This keyboard is in great condition and works ...  \n",
       "2         1  Adorable top with a hint of lace and a key hol...  \n",
       "3         1  New with tags. Leather horses. Retail for [rm]...  \n",
       "4         0          Complete with certificate of authenticity  \n",
       "5         0  Banana republic bottoms, Candies skirt with ma...  \n",
       "6         0  Size small but straps slightly shortened to fi...  \n",
       "7         1  You get three pairs of Sophie cheer shorts siz...  \n",
       "8         0   Girls Size small Plus green. Three shorts total.  \n",
       "9         0  I realized his pants are on backwards after th...  "
      ]
     },
     "execution_count": 4,
     "metadata": {},
     "output_type": "execute_result"
    }
   ],
   "source": [
    "data.head(10)"
   ]
  },
  {
   "cell_type": "code",
   "execution_count": 5,
   "metadata": {
    "_cell_guid": "97a580bb-c066-438b-828b-c92c57bedf10",
    "_uuid": "f6457925df7ffc25e6081464e648892ea9f9f244"
   },
   "outputs": [
    {
     "data": {
      "text/html": [
       "<div>\n",
       "<style>\n",
       "    .dataframe thead tr:only-child th {\n",
       "        text-align: right;\n",
       "    }\n",
       "\n",
       "    .dataframe thead th {\n",
       "        text-align: left;\n",
       "    }\n",
       "\n",
       "    .dataframe tbody tr th {\n",
       "        vertical-align: top;\n",
       "    }\n",
       "</style>\n",
       "<table border=\"1\" class=\"dataframe\">\n",
       "  <thead>\n",
       "    <tr style=\"text-align: right;\">\n",
       "      <th></th>\n",
       "      <th>test_id</th>\n",
       "      <th>name</th>\n",
       "      <th>item_condition_id</th>\n",
       "      <th>category_name</th>\n",
       "      <th>brand_name</th>\n",
       "      <th>shipping</th>\n",
       "      <th>item_description</th>\n",
       "    </tr>\n",
       "  </thead>\n",
       "  <tbody>\n",
       "    <tr>\n",
       "      <th>0</th>\n",
       "      <td>0</td>\n",
       "      <td>Breast cancer \"I fight like a girl\" ring</td>\n",
       "      <td>1</td>\n",
       "      <td>Women/Jewelry/Rings</td>\n",
       "      <td>NaN</td>\n",
       "      <td>1</td>\n",
       "      <td>Size 7</td>\n",
       "    </tr>\n",
       "    <tr>\n",
       "      <th>1</th>\n",
       "      <td>1</td>\n",
       "      <td>25 pcs NEW 7.5\"x12\" Kraft Bubble Mailers</td>\n",
       "      <td>1</td>\n",
       "      <td>Other/Office supplies/Shipping Supplies</td>\n",
       "      <td>NaN</td>\n",
       "      <td>1</td>\n",
       "      <td>25 pcs NEW 7.5\"x12\" Kraft Bubble Mailers Lined...</td>\n",
       "    </tr>\n",
       "    <tr>\n",
       "      <th>2</th>\n",
       "      <td>2</td>\n",
       "      <td>Coach bag</td>\n",
       "      <td>1</td>\n",
       "      <td>Vintage &amp; Collectibles/Bags and Purses/Handbag</td>\n",
       "      <td>Coach</td>\n",
       "      <td>1</td>\n",
       "      <td>Brand new coach bag. Bought for [rm] at a Coac...</td>\n",
       "    </tr>\n",
       "    <tr>\n",
       "      <th>3</th>\n",
       "      <td>3</td>\n",
       "      <td>Floral Kimono</td>\n",
       "      <td>2</td>\n",
       "      <td>Women/Sweaters/Cardigan</td>\n",
       "      <td>NaN</td>\n",
       "      <td>0</td>\n",
       "      <td>-floral kimono -never worn -lightweight and pe...</td>\n",
       "    </tr>\n",
       "    <tr>\n",
       "      <th>4</th>\n",
       "      <td>4</td>\n",
       "      <td>Life after Death</td>\n",
       "      <td>3</td>\n",
       "      <td>Other/Books/Religion &amp; Spirituality</td>\n",
       "      <td>NaN</td>\n",
       "      <td>1</td>\n",
       "      <td>Rediscovering life after the loss of a loved o...</td>\n",
       "    </tr>\n",
       "    <tr>\n",
       "      <th>5</th>\n",
       "      <td>5</td>\n",
       "      <td>iPhone 6 Plus or 6s Plus Vodka pink case</td>\n",
       "      <td>1</td>\n",
       "      <td>Electronics/Cell Phones &amp; Accessories/Cases, C...</td>\n",
       "      <td>NaN</td>\n",
       "      <td>1</td>\n",
       "      <td>One Absolut Vodka in Pink for iPhone 6 Plus an...</td>\n",
       "    </tr>\n",
       "    <tr>\n",
       "      <th>6</th>\n",
       "      <td>6</td>\n",
       "      <td>Vintage Cameo Pendant &amp; Brooch Pin</td>\n",
       "      <td>3</td>\n",
       "      <td>Women/Jewelry/Necklaces</td>\n",
       "      <td>Vintage</td>\n",
       "      <td>1</td>\n",
       "      <td>Two vintage Cameo pieces. 1. Silver metal Lock...</td>\n",
       "    </tr>\n",
       "    <tr>\n",
       "      <th>7</th>\n",
       "      <td>7</td>\n",
       "      <td>Rose Gold Stainless Steel Quartz Watch</td>\n",
       "      <td>1</td>\n",
       "      <td>Women/Women's Accessories/Watches</td>\n",
       "      <td>NaN</td>\n",
       "      <td>1</td>\n",
       "      <td>Brand new Price firm No trades Box included wi...</td>\n",
       "    </tr>\n",
       "    <tr>\n",
       "      <th>8</th>\n",
       "      <td>8</td>\n",
       "      <td>Daisy Marc Jacobs 3.4oz</td>\n",
       "      <td>3</td>\n",
       "      <td>Beauty/Fragrance/Women</td>\n",
       "      <td>MARC JACOBS</td>\n",
       "      <td>0</td>\n",
       "      <td>Brand new No box 100% authentic Firm price NO ...</td>\n",
       "    </tr>\n",
       "    <tr>\n",
       "      <th>9</th>\n",
       "      <td>9</td>\n",
       "      <td>Rose Brushes and Silicone Sponge</td>\n",
       "      <td>1</td>\n",
       "      <td>Beauty/Tools &amp; Accessories/Makeup Brushes &amp; Tools</td>\n",
       "      <td>NaN</td>\n",
       "      <td>1</td>\n",
       "      <td>All new. 12 pcs makeup brushes and one Silicon...</td>\n",
       "    </tr>\n",
       "  </tbody>\n",
       "</table>\n",
       "</div>"
      ],
      "text/plain": [
       "   test_id                                      name  item_condition_id  \\\n",
       "0        0  Breast cancer \"I fight like a girl\" ring                  1   \n",
       "1        1  25 pcs NEW 7.5\"x12\" Kraft Bubble Mailers                  1   \n",
       "2        2                                 Coach bag                  1   \n",
       "3        3                             Floral Kimono                  2   \n",
       "4        4                          Life after Death                  3   \n",
       "5        5  iPhone 6 Plus or 6s Plus Vodka pink case                  1   \n",
       "6        6        Vintage Cameo Pendant & Brooch Pin                  3   \n",
       "7        7    Rose Gold Stainless Steel Quartz Watch                  1   \n",
       "8        8                   Daisy Marc Jacobs 3.4oz                  3   \n",
       "9        9          Rose Brushes and Silicone Sponge                  1   \n",
       "\n",
       "                                       category_name   brand_name  shipping  \\\n",
       "0                                Women/Jewelry/Rings          NaN         1   \n",
       "1            Other/Office supplies/Shipping Supplies          NaN         1   \n",
       "2     Vintage & Collectibles/Bags and Purses/Handbag        Coach         1   \n",
       "3                            Women/Sweaters/Cardigan          NaN         0   \n",
       "4                Other/Books/Religion & Spirituality          NaN         1   \n",
       "5  Electronics/Cell Phones & Accessories/Cases, C...          NaN         1   \n",
       "6                            Women/Jewelry/Necklaces      Vintage         1   \n",
       "7                  Women/Women's Accessories/Watches          NaN         1   \n",
       "8                             Beauty/Fragrance/Women  MARC JACOBS         0   \n",
       "9  Beauty/Tools & Accessories/Makeup Brushes & Tools          NaN         1   \n",
       "\n",
       "                                    item_description  \n",
       "0                                             Size 7  \n",
       "1  25 pcs NEW 7.5\"x12\" Kraft Bubble Mailers Lined...  \n",
       "2  Brand new coach bag. Bought for [rm] at a Coac...  \n",
       "3  -floral kimono -never worn -lightweight and pe...  \n",
       "4  Rediscovering life after the loss of a loved o...  \n",
       "5  One Absolut Vodka in Pink for iPhone 6 Plus an...  \n",
       "6  Two vintage Cameo pieces. 1. Silver metal Lock...  \n",
       "7  Brand new Price firm No trades Box included wi...  \n",
       "8  Brand new No box 100% authentic Firm price NO ...  \n",
       "9  All new. 12 pcs makeup brushes and one Silicon...  "
      ]
     },
     "execution_count": 5,
     "metadata": {},
     "output_type": "execute_result"
    }
   ],
   "source": [
    "test_data.head(10)"
   ]
  },
  {
   "cell_type": "code",
   "execution_count": 6,
   "metadata": {
    "_cell_guid": "9feef0d2-f2f2-4625-97f4-04163f2b6fc7",
    "_uuid": "190f5a4966523d5dbbba0c5ee43e765af07ddb26"
   },
   "outputs": [
    {
     "data": {
      "text/plain": [
       "(1482535, 8)"
      ]
     },
     "execution_count": 6,
     "metadata": {},
     "output_type": "execute_result"
    }
   ],
   "source": [
    "data.shape"
   ]
  },
  {
   "cell_type": "code",
   "execution_count": 7,
   "metadata": {
    "_cell_guid": "2abcb6ed-03bc-4ce3-94bb-7eff9e0e9181",
    "_uuid": "790d39b31cf8ec875044f9836dd643b785c2de65"
   },
   "outputs": [
    {
     "data": {
      "text/plain": [
       "(693359, 7)"
      ]
     },
     "execution_count": 7,
     "metadata": {},
     "output_type": "execute_result"
    }
   ],
   "source": [
    "test_data.shape"
   ]
  },
  {
   "cell_type": "markdown",
   "metadata": {
    "_cell_guid": "25c86850-2072-4783-b690-b2d9680578dc",
    "_uuid": "29c78924cdf9014bda7cc7195fcf38c0a534ab9c"
   },
   "source": [
    "# **Feature Engineering**"
   ]
  },
  {
   "cell_type": "code",
   "execution_count": 8,
   "metadata": {
    "_cell_guid": "79d9cb35-8020-469f-a9bd-f392fd630be1",
    "_uuid": "5a8cbdd3e87b5e8680ece39f8dbf3e89d5efc813",
    "collapsed": true
   },
   "outputs": [],
   "source": [
    "# data['brand_name'] = data['brand_name'].fillna(\"Nobrand\")\n",
    "# test_data['brand_name'] = test_data['brand_name'].fillna(\"Nobrand\")"
   ]
  },
  {
   "cell_type": "code",
   "execution_count": 9,
   "metadata": {
    "_cell_guid": "fc1f79df-dca6-45f5-8f13-87f8054b4b9c",
    "_uuid": "4b7e39ad27501f3a6a936c5bf1b42d6d4891418d",
    "collapsed": true
   },
   "outputs": [],
   "source": [
    "# brand_name = pd.concat((data['brand_name'], test_data['brand_name']), axis=0)\n",
    "# label_encoder = LabelBinarizer()\n",
    "# label_encoder.fit(brand_name)\n",
    "# brand_label_encoded_train = label_encoder.transform(data['brand_name'])\n",
    "# brand_label_encoded_test = label_encoder.transform(test_data['brand_name'])"
   ]
  },
  {
   "cell_type": "code",
   "execution_count": 10,
   "metadata": {
    "_cell_guid": "ad171b47-302f-499c-bddd-2f529b961f44",
    "_uuid": "f94ca2cdad52601fe9125c62ade502ca57846f37",
    "collapsed": true
   },
   "outputs": [],
   "source": [
    "# print(\"Shape of brand_label_encoded_train:\",brand_label_encoded_train.shape)\n",
    "# print(\"Shape of brand_label_encoded_test:\",brand_label_encoded_test.shape)"
   ]
  },
  {
   "cell_type": "code",
   "execution_count": 11,
   "metadata": {
    "_cell_guid": "01404f7f-be02-4fe9-a647-756db9157062",
    "_uuid": "c97ac7fc00470fb6eaa466ea2a7ee0cfc2581145",
    "collapsed": true
   },
   "outputs": [],
   "source": [
    "sw = set(stopwords.words(\"english\"))\n",
    "# stemmer = SnowballStemmer(\"english\")\n",
    "translator = str.maketrans(string.punctuation, ' '*len(string.punctuation))"
   ]
  },
  {
   "cell_type": "markdown",
   "metadata": {},
   "source": [
    "## **Clean Text**"
   ]
  },
  {
   "cell_type": "code",
   "execution_count": 12,
   "metadata": {
    "_cell_guid": "f76709e1-d2b9-427e-b10c-e1e9cf056663",
    "_uuid": "f537881746631da26032066cc9decb0d21d7b890",
    "collapsed": true
   },
   "outputs": [],
   "source": [
    "def clean_text(text):\n",
    "    '''a function for removing punctuation'''\n",
    "    \n",
    "    text = str(text)\n",
    "    \n",
    "    # replacing the punctuations with no space,which in effect deletes the punctuation marks \n",
    "    text = text.translate(translator)\n",
    "    \n",
    "    # remove stop word\n",
    "    text = [word.lower() for word in text.split() if word.lower() not in sw]\n",
    "    text = \" \".join(text)\n",
    "    \n",
    "    # stemming\n",
    "#     text = [stemmer.stem(word) for word in text.split()]\n",
    "#     text = \" \".join(text) \n",
    "    \n",
    "    # Clean the text\n",
    "    text = re.sub(r\"<br />\", \" \", text)\n",
    "    text = re.sub(r\"[^a-z]\", \" \", text)\n",
    "    text = re.sub(r\"   \", \" \", text) # Remove any extra spaces\n",
    "    text = re.sub(r\"  \", \" \", text)\n",
    "    \n",
    "    return(text)"
   ]
  },
  {
   "cell_type": "code",
   "execution_count": 13,
   "metadata": {
    "_cell_guid": "807287bb-f79c-4df7-bf3c-e1329d0eb75a",
    "_uuid": "3fcbdd4d7dfe12cd22f4f219edc0b85fcca1c31a"
   },
   "outputs": [
    {
     "name": "stdout",
     "output_type": "stream",
     "text": [
      "Finished cleaning the name of train set. Time needed: 15.083223581314087\n",
      "Finished cleaning the catogory name of train set. Time needed: 14.522043704986572\n",
      "Finished cleaning the description of train set Time needed: 40.401880741119385\n"
     ]
    }
   ],
   "source": [
    "t1 = time.time()\n",
    "data['name'] = data['name'].apply(clean_text)\n",
    "print(\"Finished cleaning the name of train set.\", \"Time needed:\", time.time()-t1)\n",
    "t2 = time.time()\n",
    "data['category_name'] = data['category_name'].apply(clean_text)\n",
    "print(\"Finished cleaning the catogory name of train set.\", \"Time needed:\", time.time()-t2)\n",
    "t3 = time.time()\n",
    "data['item_description'] = data['item_description'].apply(clean_text)\n",
    "print(\"Finished cleaning the description of train set\",\"Time needed:\", time.time()-t3)"
   ]
  },
  {
   "cell_type": "code",
   "execution_count": 14,
   "metadata": {
    "_cell_guid": "b2fad543-1816-42a3-a60d-d24b07fe2152",
    "_uuid": "5d6fd79b162c06d8e3ce80e3954c95afdacd0108"
   },
   "outputs": [
    {
     "name": "stdout",
     "output_type": "stream",
     "text": [
      "Finished cleaning the name of train set. Time needed: 6.92141580581665\n",
      "Finished cleaning the catogory name of train set. Time needed: 6.820892810821533\n",
      "Finished cleaning the description of train set Time needed: 19.3880295753479\n"
     ]
    }
   ],
   "source": [
    "t1 = time.time()\n",
    "test_data['name'] = test_data['name'].apply(clean_text)\n",
    "print(\"Finished cleaning the name of train set.\", \"Time needed:\", time.time()-t1)\n",
    "t2 = time.time()\n",
    "test_data['category_name'] = test_data['category_name'].apply(clean_text)\n",
    "print(\"Finished cleaning the catogory name of train set.\", \"Time needed:\", time.time()-t2)\n",
    "t3 = time.time()\n",
    "test_data['item_description'] = test_data['item_description'].apply(clean_text)\n",
    "print(\"Finished cleaning the description of train set\",\"Time needed:\", time.time()-t3)"
   ]
  },
  {
   "cell_type": "markdown",
   "metadata": {},
   "source": [
    "## **Tokenize Text**"
   ]
  },
  {
   "cell_type": "code",
   "execution_count": 15,
   "metadata": {
    "_cell_guid": "a15ac122-f30c-4129-b6ff-39aec579ef5b",
    "_uuid": "a4a1a0b6a6df8d19e6a164b28f80615c3bbc42e4",
    "collapsed": true
   },
   "outputs": [],
   "source": [
    "all_description = pd.concat((data['item_description'], test_data['item_description']),axis=0)\n",
    "tokenizer1 = Tokenizer()\n",
    "tokenizer1.fit_on_texts(all_description)\n",
    "del(all_description)"
   ]
  },
  {
   "cell_type": "code",
   "execution_count": 16,
   "metadata": {
    "_cell_guid": "519106cf-e747-4526-9e64-bbf90375e937",
    "_uuid": "13d37ae79f4fd9ac97d9e92197a3b588220f19ed"
   },
   "outputs": [
    {
     "name": "stdout",
     "output_type": "stream",
     "text": [
      "train description is complete.\n",
      "test description is complete\n"
     ]
    }
   ],
   "source": [
    "description = tokenizer1.texts_to_sequences(data['item_description'])\n",
    "print(\"train description is complete.\")\n",
    "description_test = tokenizer1.texts_to_sequences(test_data['item_description'])\n",
    "print(\"test description is complete\")"
   ]
  },
  {
   "cell_type": "code",
   "execution_count": 17,
   "metadata": {
    "_cell_guid": "518e4bb4-3c68-4e95-9bb5-5ded4922dbd7",
    "_uuid": "89a2892d08393785c5ccc969590726bbb0b98099"
   },
   "outputs": [
    {
     "name": "stdout",
     "output_type": "stream",
     "text": [
      "train decription pad is complete.\n",
      "test decription pad is complete.\n"
     ]
    }
   ],
   "source": [
    "max_length = 120\n",
    "description = pad_sequences(description, maxlen = max_length)\n",
    "print(\"train decription pad is complete.\")\n",
    "description_test = pad_sequences(description_test, maxlen = max_length)\n",
    "print(\"test decription pad is complete.\")"
   ]
  },
  {
   "cell_type": "code",
   "execution_count": 18,
   "metadata": {
    "_cell_guid": "de9bb4e2-3e62-4274-a6e0-9fc162a608ed",
    "_uuid": "a1f4c4ffcebd24402bc127aa185b3a1b4aded6fb",
    "collapsed": true
   },
   "outputs": [],
   "source": [
    "all_name = pd.concat((data['name'], test_data['name']),axis=0)\n",
    "tokenizer2 = Tokenizer()\n",
    "tokenizer2.fit_on_texts(all_name)\n",
    "del(all_name)"
   ]
  },
  {
   "cell_type": "code",
   "execution_count": 19,
   "metadata": {
    "_cell_guid": "92839e4b-7087-466d-9414-322fda11d5ec",
    "_uuid": "f8951ffee5a56bce673ffbc377fb2584d229305a"
   },
   "outputs": [
    {
     "name": "stdout",
     "output_type": "stream",
     "text": [
      "train name is complete.\n",
      "test name is complete\n"
     ]
    }
   ],
   "source": [
    "name = tokenizer2.texts_to_sequences(data['name'])\n",
    "print(\"train name is complete.\")\n",
    "name_test = tokenizer2.texts_to_sequences(test_data['name'])\n",
    "print(\"test name is complete\")"
   ]
  },
  {
   "cell_type": "code",
   "execution_count": 20,
   "metadata": {
    "_cell_guid": "536135c0-fb76-470a-bded-a77df8aadfd2",
    "_uuid": "d407ada543fb8728c2ab02bf6d1c84a1d0714de0"
   },
   "outputs": [
    {
     "name": "stdout",
     "output_type": "stream",
     "text": [
      "train name pad is complete.\n",
      "test name pad is complete.\n"
     ]
    }
   ],
   "source": [
    "max_length = 15\n",
    "name = pad_sequences(name, maxlen = max_length)\n",
    "print(\"train name pad is complete.\")\n",
    "name_test = pad_sequences(name_test, maxlen = max_length)\n",
    "print(\"test name pad is complete.\")"
   ]
  },
  {
   "cell_type": "code",
   "execution_count": 21,
   "metadata": {
    "_cell_guid": "72b217e3-62ff-4040-94a3-762f2fe7725e",
    "_uuid": "90ff6b5c77bb9e5e937fdfa93f0ac78f6b1a3817",
    "collapsed": true
   },
   "outputs": [],
   "source": [
    "all_category = pd.concat((data['category_name'], test_data['category_name']),axis=0)\n",
    "tokenizer3 = Tokenizer()\n",
    "tokenizer3.fit_on_texts(all_category)\n",
    "del(all_category)"
   ]
  },
  {
   "cell_type": "code",
   "execution_count": 22,
   "metadata": {
    "_cell_guid": "f2efc5ec-094f-40b9-8089-c28108cf1385",
    "_uuid": "2d7830d6ca036eb35194898cc82d64051553a21b"
   },
   "outputs": [
    {
     "name": "stdout",
     "output_type": "stream",
     "text": [
      "train category is complete.\n",
      "test category is complete\n"
     ]
    }
   ],
   "source": [
    "category = tokenizer3.texts_to_sequences(data['category_name'])\n",
    "print(\"train category is complete.\")\n",
    "category_test = tokenizer3.texts_to_sequences(test_data['category_name'])\n",
    "print(\"test category is complete\")"
   ]
  },
  {
   "cell_type": "code",
   "execution_count": 23,
   "metadata": {
    "_cell_guid": "0709aaf9-aba5-47ed-8dfe-8b29962c25b8",
    "_uuid": "df42ef1e90f6903473fac732c2107364053b0278"
   },
   "outputs": [
    {
     "name": "stdout",
     "output_type": "stream",
     "text": [
      "train category pad is complete.\n",
      "test category pad is complete.\n"
     ]
    }
   ],
   "source": [
    "max_length = 15\n",
    "category = pad_sequences(category, maxlen = max_length)\n",
    "print(\"train category pad is complete.\")\n",
    "category_test = pad_sequences(category_test, maxlen = max_length)\n",
    "print(\"test category pad is complete.\")"
   ]
  },
  {
   "cell_type": "code",
   "execution_count": 24,
   "metadata": {
    "_cell_guid": "3b7c7407-d6f1-4151-adde-ef0e186aae2d",
    "_uuid": "9e3234a2627d0bf17da9a1edb89718ec99077dbc",
    "collapsed": true
   },
   "outputs": [],
   "source": [
    "extra_data = data[['item_condition_id','shipping']].as_matrix()\n",
    "extra_data_test = test_data[['item_condition_id','shipping']].as_matrix()\n",
    "price = data['price'].as_matrix()\n",
    "test_id = test_data['test_id'].as_matrix()"
   ]
  },
  {
   "cell_type": "code",
   "execution_count": 25,
   "metadata": {
    "_cell_guid": "17fff5f8-0e26-4165-b998-c77bf4a2ffca",
    "_uuid": "32e8bf75fa9c6000223d0f085db2de018bc14ef8",
    "collapsed": true
   },
   "outputs": [],
   "source": [
    "del(data, test_data)"
   ]
  },
  {
   "cell_type": "markdown",
   "metadata": {
    "_cell_guid": "08a961c0-1359-400d-83fc-5d23cfb885e4",
    "_uuid": "ba163c36a55854db8a181a8b3de2eda0220e039c"
   },
   "source": [
    "# **Create RNN for the 3 sequences**"
   ]
  },
  {
   "cell_type": "code",
   "execution_count": 26,
   "metadata": {
    "_cell_guid": "a0e88d66-5e8b-4769-a389-9cd7996cb301",
    "_uuid": "664d0adc3f1c8b9237a656afed8bf5e78e735456",
    "collapsed": true
   },
   "outputs": [],
   "source": [
    "tf.reset_default_graph()"
   ]
  },
  {
   "cell_type": "code",
   "execution_count": 27,
   "metadata": {
    "_cell_guid": "788c6992-4071-4b46-991a-bebc9253d025",
    "_uuid": "6daef539fd7fa8a7a309124a3637f5a0addfe9f6",
    "collapsed": true
   },
   "outputs": [],
   "source": [
    "n_words1 = len(tokenizer1.word_index)+1\n",
    "n_words2 = len(tokenizer2.word_index)+1\n",
    "n_words3 = len(tokenizer3.word_index)+1\n",
    "embed_size1 = 60\n",
    "embed_size2 = 10\n",
    "embed_size3 = 10\n",
    "n_neurons1 = 60\n",
    "n_neurons2 = 10\n",
    "n_neurons3 = 10\n",
    "name_1 = \"1\"\n",
    "name_2 = \"2\"\n",
    "name_3 = \"3\"\n",
    "n_layers = 2\n",
    "rnn_dropout = tf.placeholder(tf.float32)"
   ]
  },
  {
   "cell_type": "code",
   "execution_count": 28,
   "metadata": {
    "_cell_guid": "721f1aec-bf90-4227-b387-c200d56c6374",
    "_uuid": "237e9600f3fb71f8fb57957673b199bc04ce897a",
    "collapsed": true
   },
   "outputs": [],
   "source": [
    "def build_rnn(inputs, n_words, embed_size, n_neurons, n_layers, name):\n",
    "    \n",
    "    # placeholders for embeddings\n",
    "    with tf.variable_scope(\"embedding\"+name):\n",
    "        embedding = tf.Variable(tf.truncated_normal((n_words, embed_size), -0.1, 0.1))\n",
    "#         padding_zeros = tf.zeros(shape=[embed_size])\n",
    "#         embedding = tf.concat(0, [[padding_zeros], embedding])\n",
    "        embed = tf.nn.embedding_lookup(embedding, inputs, validate_indices=False)\n",
    "\n",
    "    with tf.variable_scope(\"rnn\"+name):\n",
    "        lstm_cells = [tf.contrib.rnn.BasicLSTMCell(num_units=n_neurons)\n",
    "                      for layer in range(n_layers)]\n",
    "        multi_cell = tf.contrib.rnn.MultiRNNCell(lstm_cells)\n",
    "        output, state = tf.nn.dynamic_rnn(multi_cell, embed, dtype=tf.float32)\n",
    "        top_layer_h_state = state[-1][1]\n",
    "        \n",
    "    return top_layer_h_state"
   ]
  },
  {
   "cell_type": "code",
   "execution_count": 29,
   "metadata": {
    "_cell_guid": "9d881fcf-1b0a-422c-a4d6-6bce60e85c15",
    "_uuid": "84b41b760ca9bf107b238d76f0d8f59c958b663a"
   },
   "outputs": [
    {
     "data": {
      "text/plain": [
       "<tf.Tensor 'rnn1/rnn/while/Exit_6:0' shape=(?, 60) dtype=float32>"
      ]
     },
     "execution_count": 29,
     "metadata": {},
     "output_type": "execute_result"
    }
   ],
   "source": [
    "input1 = tf.placeholder(tf.int32, [None, None])\n",
    "rnn_output1 = build_rnn(input1, n_words1, embed_size1, n_neurons1, n_layers, name_1)\n",
    "rnn_output1"
   ]
  },
  {
   "cell_type": "code",
   "execution_count": 30,
   "metadata": {
    "_cell_guid": "0f01fb30-2ff2-45d2-b96e-ba471e3aaa5b",
    "_uuid": "e83d684fbe3f8578ce48cafdbb50a5aa627dfbcd"
   },
   "outputs": [
    {
     "data": {
      "text/plain": [
       "<tf.Tensor 'rnn2/rnn/while/Exit_6:0' shape=(?, 10) dtype=float32>"
      ]
     },
     "execution_count": 30,
     "metadata": {},
     "output_type": "execute_result"
    }
   ],
   "source": [
    "input2 = tf.placeholder(tf.int32, [None, None])\n",
    "rnn_output2 = build_rnn(input2, n_words2, embed_size2, n_neurons2, n_layers, name_2)\n",
    "rnn_output2"
   ]
  },
  {
   "cell_type": "code",
   "execution_count": 31,
   "metadata": {
    "_cell_guid": "163e24b7-a964-4e7e-8ae3-a25d719cfb45",
    "_uuid": "a289096a1b2aae26b2da535be8e026feb09d8402"
   },
   "outputs": [
    {
     "data": {
      "text/plain": [
       "<tf.Tensor 'rnn3/rnn/while/Exit_6:0' shape=(?, 10) dtype=float32>"
      ]
     },
     "execution_count": 31,
     "metadata": {},
     "output_type": "execute_result"
    }
   ],
   "source": [
    "input3 = tf.placeholder(tf.int32, [None, None])\n",
    "rnn_output3 = build_rnn(input3, n_words3, embed_size3, n_neurons3, n_layers, name_3)\n",
    "rnn_output3"
   ]
  },
  {
   "cell_type": "code",
   "execution_count": 32,
   "metadata": {
    "_cell_guid": "05e3cbcf-21c7-445d-a0af-614db0048b52",
    "_uuid": "0dfc1af8f1995b8381bbcd9992cae24e04bd6e2c"
   },
   "outputs": [
    {
     "data": {
      "text/plain": [
       "<tf.Tensor 'concat:0' shape=(?, 80) dtype=float32>"
      ]
     },
     "execution_count": 32,
     "metadata": {},
     "output_type": "execute_result"
    }
   ],
   "source": [
    "rnn_output_combined = tf.concat((rnn_output1, rnn_output2, rnn_output3), axis=1)\n",
    "rnn_output_combined"
   ]
  },
  {
   "cell_type": "markdown",
   "metadata": {
    "_cell_guid": "34647e28-66ce-4efd-9ec8-05f614f89f53",
    "_uuid": "523c824ad3ee73723567724b20ee183b0f4b2c6d"
   },
   "source": [
    "# **Create Fully Connected Layers**"
   ]
  },
  {
   "cell_type": "code",
   "execution_count": 33,
   "metadata": {
    "_cell_guid": "a05f26fb-a6ed-4998-ae32-202b50408977",
    "_uuid": "26890eda4b2cac53eef7282606a83a1b039bc9ab",
    "collapsed": true
   },
   "outputs": [],
   "source": [
    "input4 = tf.placeholder(tf.float32, [None, 2])\n",
    "prices = tf.placeholder(tf.float32, [None, 1])\n",
    "keep_prob  = tf.placeholder(tf.float32)"
   ]
  },
  {
   "cell_type": "code",
   "execution_count": 34,
   "metadata": {
    "_cell_guid": "f06b1c89-7a26-4b9a-bb38-3f8664d837f4",
    "_uuid": "b6eb7aa9001c9638d1342315583248b72d2be234",
    "collapsed": true
   },
   "outputs": [],
   "source": [
    "def create_weights(shape):\n",
    "    '''a function to create weight tensor'''\n",
    "    return tf.Variable(tf.truncated_normal(shape, stddev=0.05))\n",
    " \n",
    "def create_biases(size):\n",
    "    '''a function to create bias tensor'''\n",
    "    return tf.Variable(tf.constant(0.05, shape=[size]))"
   ]
  },
  {
   "cell_type": "code",
   "execution_count": 35,
   "metadata": {
    "_cell_guid": "b36024dc-ba50-4372-a49b-2b43fca66e1b",
    "_uuid": "7817f6723b1673dc1672e03ef5dc82fb17492536",
    "collapsed": true
   },
   "outputs": [],
   "source": [
    "def create_fc_layer(input,          \n",
    "                    num_inputs,    \n",
    "                    num_outputs,\n",
    "                    use_sigmoid=True,\n",
    "                    dropout = False, \n",
    "                    keep_prob = 0.8):\n",
    "    \n",
    "    '''a function for creating fully connected layer'''\n",
    "    \n",
    "    #Let's define trainable weights and biases.\n",
    "    weights = create_weights(shape=[num_inputs, num_outputs])\n",
    "    biases = create_biases(num_outputs)\n",
    "    \n",
    "    # matrix multiplication between input and weight matrix\n",
    "    layer = tf.matmul(input, weights) + biases\n",
    "    \n",
    "    # add relu activation if wanted\n",
    "    if use_sigmoid:\n",
    "        layer = tf.nn.sigmoid(layer)\n",
    "        \n",
    "    # if dropout is wanted add dropout\n",
    "    if dropout:        \n",
    "        layer = tf.nn.dropout(layer, keep_prob)\n",
    "    \n",
    "    # return layer\n",
    "    return layer"
   ]
  },
  {
   "cell_type": "code",
   "execution_count": 36,
   "metadata": {
    "_cell_guid": "4fc76df9-93f4-4a12-bde6-4b2ae746f070",
    "_uuid": "2ec4e00cd5673ac78841cca5d0bea7337bfc4785",
    "collapsed": true
   },
   "outputs": [],
   "source": [
    "fc_size1 = 25\n",
    "fc_size2 = 5\n",
    "fc_size3 = 5"
   ]
  },
  {
   "cell_type": "code",
   "execution_count": 37,
   "metadata": {
    "_cell_guid": "90824c8c-ddc4-4142-a348-e2c119bf0bd9",
    "_uuid": "750b6cb5f8ca373c2c94a876426f514447e3e2c5"
   },
   "outputs": [
    {
     "data": {
      "text/plain": [
       "<tf.Tensor 'dropout/mul:0' shape=(?, 25) dtype=float32>"
      ]
     },
     "execution_count": 37,
     "metadata": {},
     "output_type": "execute_result"
    }
   ],
   "source": [
    "fully_connected_layer1 = create_fc_layer(rnn_output_combined,\n",
    "                                         rnn_output_combined.get_shape()[1].value,\n",
    "                                         fc_size1,\n",
    "                                         use_sigmoid = True,\n",
    "                                         dropout = True,\n",
    "                                         keep_prob = keep_prob)\n",
    "fully_connected_layer1"
   ]
  },
  {
   "cell_type": "code",
   "execution_count": 38,
   "metadata": {
    "_cell_guid": "8980e331-3d51-45c1-a985-8486a2957cde",
    "_uuid": "7ad325e9b6fb602bfbdf034f852d44282b2dc492"
   },
   "outputs": [
    {
     "data": {
      "text/plain": [
       "<tf.Tensor 'dropout_1/mul:0' shape=(?, 5) dtype=float32>"
      ]
     },
     "execution_count": 38,
     "metadata": {},
     "output_type": "execute_result"
    }
   ],
   "source": [
    "fully_connected_layer2 = create_fc_layer(input4,\n",
    "                                         input4.get_shape()[1].value,\n",
    "                                         fc_size2,\n",
    "                                         use_sigmoid = True,\n",
    "                                         dropout = True,\n",
    "                                         keep_prob = keep_prob)\n",
    "fully_connected_layer2"
   ]
  },
  {
   "cell_type": "code",
   "execution_count": 39,
   "metadata": {
    "_cell_guid": "21c29e94-03c5-4b5f-acb1-aaae957b7906",
    "_uuid": "c685a8c4c34182de6dfac647a0a3b76868106b42"
   },
   "outputs": [
    {
     "data": {
      "text/plain": [
       "<tf.Tensor 'concat_1:0' shape=(?, 30) dtype=float32>"
      ]
     },
     "execution_count": 39,
     "metadata": {},
     "output_type": "execute_result"
    }
   ],
   "source": [
    "combined_layer = tf.concat((fully_connected_layer1, fully_connected_layer2), axis=1)\n",
    "combined_layer"
   ]
  },
  {
   "cell_type": "code",
   "execution_count": 40,
   "metadata": {
    "_cell_guid": "2053a366-aeff-4748-a238-c8d3c7d95620",
    "_uuid": "0efd1647d6af260b756b78915fec3bdb3dd87abc"
   },
   "outputs": [
    {
     "data": {
      "text/plain": [
       "<tf.Tensor 'dropout_2/mul:0' shape=(?, 5) dtype=float32>"
      ]
     },
     "execution_count": 40,
     "metadata": {},
     "output_type": "execute_result"
    }
   ],
   "source": [
    "fully_connected_layer3 = create_fc_layer(combined_layer,\n",
    "                                         combined_layer.get_shape()[1].value,\n",
    "                                         fc_size3,\n",
    "                                         use_sigmoid = True,\n",
    "                                         dropout = True,\n",
    "                                         keep_prob = keep_prob)\n",
    "fully_connected_layer3"
   ]
  },
  {
   "cell_type": "code",
   "execution_count": 41,
   "metadata": {
    "_cell_guid": "a97a8167-2339-40f9-97d7-439b290ef75c",
    "_uuid": "0dc3f8f0674308cd7db67261b7500c71efaf64ed"
   },
   "outputs": [
    {
     "data": {
      "text/plain": [
       "<tf.Tensor 'add_3:0' shape=(?, 1) dtype=float32>"
      ]
     },
     "execution_count": 41,
     "metadata": {},
     "output_type": "execute_result"
    }
   ],
   "source": [
    "outputs = create_fc_layer(fully_connected_layer3,\n",
    "                         fc_size3,\n",
    "                         1,\n",
    "                         use_sigmoid = False,\n",
    "                         dropout = False,\n",
    "                         keep_prob = keep_prob)\n",
    "outputs"
   ]
  },
  {
   "cell_type": "code",
   "execution_count": 42,
   "metadata": {
    "_cell_guid": "40f3b631-5ae9-4b30-8f31-50cbc8c8a27d",
    "_uuid": "78d12d7df83cc6010594643e30420a057dc56594",
    "collapsed": true
   },
   "outputs": [],
   "source": [
    "loss = tf.sqrt(tf.reduce_mean(tf.square(tf.subtract(tf.log(outputs+1),tf.log(prices+1)))))"
   ]
  },
  {
   "cell_type": "code",
   "execution_count": 43,
   "metadata": {
    "_cell_guid": "2629e150-9bea-4efd-8a90-26fe8cacab15",
    "_uuid": "66d0a17848613bb1d536f4b20755a1f4e9a7232b",
    "collapsed": true
   },
   "outputs": [],
   "source": [
    "# learning rate of optimizer\n",
    "learning_rate = (1e-1)*5\n",
    "# train step\n",
    "train_step = tf.train.AdamOptimizer(learning_rate=learning_rate).minimize(loss)"
   ]
  },
  {
   "cell_type": "markdown",
   "metadata": {
    "_cell_guid": "57b5c210-ee47-4003-9021-f6200d9d73b0",
    "_uuid": "fbaba9dd579c24d70982312f8f88f928c8de109b"
   },
   "source": [
    "# **Train model**"
   ]
  },
  {
   "cell_type": "markdown",
   "metadata": {
    "_cell_guid": "04f8b09a-787d-4889-bad0-56df39dab721",
    "_uuid": "9a9d363618a8882948b89ebb8ce7ea2fa078fa75"
   },
   "source": [
    "## **Split data**"
   ]
  },
  {
   "cell_type": "code",
   "execution_count": 44,
   "metadata": {
    "_cell_guid": "c473d3ec-39f5-41fd-a391-669a124698bf",
    "_uuid": "12941f383a02ec50ec13935de7bf82b5f0f8c173",
    "collapsed": true
   },
   "outputs": [],
   "source": [
    "train_indices = np.random.choice(len(price), round(len(price)*0.993), replace=False)\n",
    "validation_indices = np.array(list(set(range(len(price))) - set(train_indices)))\n",
    "\n",
    "description_train = description[train_indices]\n",
    "description_validation = description[validation_indices]\n",
    "\n",
    "name_train = name[train_indices]\n",
    "name_validation = name[validation_indices]\n",
    "\n",
    "category_train = category[train_indices]\n",
    "category_validation = category[validation_indices]\n",
    "\n",
    "extra_data_train = extra_data[train_indices]\n",
    "extra_data_validation = extra_data[validation_indices]\n",
    "\n",
    "price_train = price[train_indices]\n",
    "price_validation = price[validation_indices]\n",
    "\n",
    "del(description, name, category, extra_data, price)"
   ]
  },
  {
   "cell_type": "code",
   "execution_count": 45,
   "metadata": {
    "_cell_guid": "716174aa-fd5b-41e3-a66d-50c61885896b",
    "_uuid": "3abb1161b1054a020e9d85da6852c371dc94162a"
   },
   "outputs": [
    {
     "name": "stdout",
     "output_type": "stream",
     "text": [
      "Shape of description_train: (1472157, 120)\n",
      "Shape of description_validation: (10378, 120)\n",
      "Shape of name_train: (1472157, 15)\n",
      "Shape of name_validation: (10378, 15)\n",
      "Shape of category_train: (1472157, 15)\n",
      "Shape of category_validation: (10378, 15)\n",
      "Shape of extra_data_train: (1472157, 2)\n",
      "Shape of extra_data_validation: (10378, 2)\n",
      "Shape of price_train: (1472157,)\n",
      "Shape of price_validation: (10378,)\n"
     ]
    }
   ],
   "source": [
    "print(\"Shape of description_train:\",description_train.shape)\n",
    "print(\"Shape of description_validation:\",description_validation.shape)\n",
    "print(\"Shape of name_train:\",name_train.shape)\n",
    "print(\"Shape of name_validation:\",name_validation.shape)\n",
    "print(\"Shape of category_train:\",category_train.shape)\n",
    "print(\"Shape of category_validation:\",category_validation.shape)\n",
    "print(\"Shape of extra_data_train:\",extra_data_train.shape)\n",
    "print(\"Shape of extra_data_validation:\",extra_data_validation.shape)\n",
    "print(\"Shape of price_train:\",price_train.shape)\n",
    "print(\"Shape of price_validation:\",price_validation.shape)"
   ]
  },
  {
   "cell_type": "code",
   "execution_count": 46,
   "metadata": {
    "_cell_guid": "782a5d85-fa4f-42dd-b6a7-cac87a0c8cb8",
    "_uuid": "624711a2acc6711c1003cd370a782bd82085960b",
    "collapsed": true
   },
   "outputs": [],
   "source": [
    "# lists to store the train loss, validation loss, validation accuracy at each iteration\n",
    "train_loss = []\n",
    "valid_loss = []\n",
    "\n",
    "# batch size\n",
    "batch_size = 100\n",
    "# max iteration\n",
    "max_iter = 1000"
   ]
  },
  {
   "cell_type": "markdown",
   "metadata": {},
   "source": [
    "## **Train and save the best model**"
   ]
  },
  {
   "cell_type": "code",
   "execution_count": 47,
   "metadata": {
    "_cell_guid": "85652ff1-9c42-4f5e-9c21-8336f3a2c34d",
    "_uuid": "64ff9b17b3ac29296d088b75f852ea04a364f025"
   },
   "outputs": [
    {
     "name": "stdout",
     "output_type": "stream",
     "text": [
      "iterations: 0 | train_loss: 2.11881 | validation_loss: 1.99242\n",
      "iterations: 1 | train_loss: 1.60417 | validation_loss: 1.5661\n",
      "iterations: 2 | train_loss: 1.35205 | validation_loss: 1.31079\n",
      "iterations: 3 | train_loss: 1.09939 | validation_loss: 1.14063\n",
      "iterations: 4 | train_loss: 0.947162 | validation_loss: 1.02118\n",
      "iterations: 5 | train_loss: 0.952319 | validation_loss: 0.935239\n",
      "iterations: 6 | train_loss: 0.919397 | validation_loss: 0.873605\n",
      "iterations: 7 | train_loss: 0.800725 | validation_loss: 0.830186\n",
      "iterations: 8 | train_loss: 0.842457 | validation_loss: 0.799704\n",
      "iterations: 9 | train_loss: 0.853525 | validation_loss: 0.778859\n",
      "iterations: 10 | train_loss: 0.864046 | validation_loss: 0.765162\n",
      "iterations: 11 | train_loss: 0.780449 | validation_loss: 0.756718\n",
      "iterations: 12 | train_loss: 0.810725 | validation_loss: 0.75205\n",
      "iterations: 13 | train_loss: 0.73784 | validation_loss: 0.750077\n",
      "iterations: 14 | train_loss: 0.649818 | validation_loss: 0.74995\n",
      "iterations: 15 | train_loss: 0.837333 | validation_loss: 0.751095\n",
      "iterations: 16 | train_loss: 0.730085 | validation_loss: 0.753047\n",
      "iterations: 17 | train_loss: 0.794281 | validation_loss: 0.755483\n",
      "iterations: 18 | train_loss: 0.798201 | validation_loss: 0.758167\n",
      "iterations: 19 | train_loss: 0.774744 | validation_loss: 0.761005\n",
      "iterations: 20 | train_loss: 0.760832 | validation_loss: 0.763873\n",
      "iterations: 21 | train_loss: 0.809658 | validation_loss: 0.766635\n",
      "iterations: 22 | train_loss: 0.826565 | validation_loss: 0.76929\n",
      "iterations: 23 | train_loss: 0.753183 | validation_loss: 0.771631\n",
      "iterations: 24 | train_loss: 0.696532 | validation_loss: 0.77374\n",
      "iterations: 25 | train_loss: 0.803541 | validation_loss: 0.775571\n",
      "iterations: 26 | train_loss: 0.753916 | validation_loss: 0.777139\n",
      "iterations: 27 | train_loss: 0.757595 | validation_loss: 0.778257\n",
      "iterations: 28 | train_loss: 0.71319 | validation_loss: 0.779342\n",
      "iterations: 29 | train_loss: 0.859472 | validation_loss: 0.780344\n",
      "iterations: 30 | train_loss: 0.753203 | validation_loss: 0.780999\n",
      "iterations: 31 | train_loss: 0.78616 | validation_loss: 0.781444\n",
      "iterations: 32 | train_loss: 0.747265 | validation_loss: 0.781568\n",
      "iterations: 33 | train_loss: 0.733612 | validation_loss: 0.78149\n",
      "iterations: 34 | train_loss: 0.78246 | validation_loss: 0.78096\n",
      "iterations: 35 | train_loss: 0.795141 | validation_loss: 0.780368\n",
      "iterations: 36 | train_loss: 0.797311 | validation_loss: 0.779546\n",
      "iterations: 37 | train_loss: 0.783996 | validation_loss: 0.778573\n",
      "iterations: 38 | train_loss: 0.778446 | validation_loss: 0.777388\n",
      "iterations: 39 | train_loss: 0.765078 | validation_loss: 0.776156\n",
      "iterations: 40 | train_loss: 0.70031 | validation_loss: 0.774835\n",
      "iterations: 41 | train_loss: 0.789847 | validation_loss: 0.773427\n",
      "iterations: 42 | train_loss: 0.823523 | validation_loss: 0.772016\n",
      "iterations: 43 | train_loss: 0.670558 | validation_loss: 0.770613\n",
      "iterations: 44 | train_loss: 0.748885 | validation_loss: 0.769274\n",
      "iterations: 45 | train_loss: 0.795367 | validation_loss: 0.767971\n",
      "iterations: 46 | train_loss: 0.689535 | validation_loss: 0.766508\n",
      "iterations: 47 | train_loss: 0.76336 | validation_loss: 0.765101\n",
      "iterations: 48 | train_loss: 0.743711 | validation_loss: 0.763711\n",
      "iterations: 49 | train_loss: 0.820287 | validation_loss: 0.762339\n",
      "iterations: 50 | train_loss: 0.76127 | validation_loss: 0.76099\n",
      "iterations: 51 | train_loss: 0.722645 | validation_loss: 0.759718\n",
      "iterations: 52 | train_loss: 0.690563 | validation_loss: 0.758442\n",
      "iterations: 53 | train_loss: 0.802566 | validation_loss: 0.75739\n",
      "iterations: 54 | train_loss: 0.788185 | validation_loss: 0.756468\n",
      "iterations: 55 | train_loss: 0.747179 | validation_loss: 0.755577\n",
      "iterations: 56 | train_loss: 0.878474 | validation_loss: 0.754876\n",
      "iterations: 57 | train_loss: 0.695959 | validation_loss: 0.754238\n",
      "iterations: 58 | train_loss: 0.727237 | validation_loss: 0.753672\n",
      "iterations: 59 | train_loss: 0.819932 | validation_loss: 0.753141\n",
      "iterations: 60 | train_loss: 0.703163 | validation_loss: 0.752691\n",
      "iterations: 61 | train_loss: 0.788897 | validation_loss: 0.752239\n",
      "iterations: 62 | train_loss: 0.814628 | validation_loss: 0.751788\n",
      "iterations: 63 | train_loss: 0.718263 | validation_loss: 0.751365\n",
      "iterations: 64 | train_loss: 0.773667 | validation_loss: 0.751\n",
      "iterations: 65 | train_loss: 0.798789 | validation_loss: 0.750729\n",
      "iterations: 66 | train_loss: 0.758223 | validation_loss: 0.750508\n",
      "iterations: 67 | train_loss: 0.768809 | validation_loss: 0.750323\n",
      "iterations: 68 | train_loss: 0.707684 | validation_loss: 0.750177\n",
      "iterations: 69 | train_loss: 0.729939 | validation_loss: 0.75005\n",
      "iterations: 70 | train_loss: 0.765042 | validation_loss: 0.749963\n",
      "iterations: 71 | train_loss: 0.814421 | validation_loss: 0.749885\n",
      "iterations: 72 | train_loss: 0.614613 | validation_loss: 0.749839\n",
      "iterations: 73 | train_loss: 0.850164 | validation_loss: 0.749825\n",
      "iterations: 74 | train_loss: 0.786047 | validation_loss: 0.749828\n",
      "iterations: 75 | train_loss: 0.678644 | validation_loss: 0.749847\n",
      "iterations: 76 | train_loss: 0.632661 | validation_loss: 0.749883\n",
      "iterations: 77 | train_loss: 0.733549 | validation_loss: 0.749932\n",
      "iterations: 78 | train_loss: 0.837264 | validation_loss: 0.74996\n",
      "iterations: 79 | train_loss: 0.698447 | validation_loss: 0.749998\n",
      "iterations: 80 | train_loss: 0.812725 | validation_loss: 0.75003\n",
      "iterations: 81 | train_loss: 0.608963 | validation_loss: 0.750076\n",
      "iterations: 82 | train_loss: 0.815879 | validation_loss: 0.750093\n",
      "iterations: 83 | train_loss: 0.667518 | validation_loss: 0.750103\n",
      "iterations: 84 | train_loss: 0.702238 | validation_loss: 0.750115\n",
      "iterations: 85 | train_loss: 0.896799 | validation_loss: 0.750093\n",
      "iterations: 86 | train_loss: 0.670529 | validation_loss: 0.750106\n",
      "iterations: 87 | train_loss: 0.704774 | validation_loss: 0.750092\n",
      "iterations: 88 | train_loss: 0.788814 | validation_loss: 0.750053\n",
      "iterations: 89 | train_loss: 0.806822 | validation_loss: 0.750017\n",
      "iterations: 90 | train_loss: 0.744696 | validation_loss: 0.750024\n",
      "iterations: 91 | train_loss: 0.840615 | validation_loss: 0.749992\n",
      "iterations: 92 | train_loss: 0.758767 | validation_loss: 0.749956\n",
      "iterations: 93 | train_loss: 0.793834 | validation_loss: 0.749944\n",
      "iterations: 94 | train_loss: 0.70762 | validation_loss: 0.749928\n",
      "iterations: 95 | train_loss: 0.710619 | validation_loss: 0.749918\n",
      "iterations: 96 | train_loss: 0.755569 | validation_loss: 0.749899\n",
      "iterations: 97 | train_loss: 0.809811 | validation_loss: 0.74988\n",
      "iterations: 98 | train_loss: 0.644568 | validation_loss: 0.749869\n",
      "iterations: 99 | train_loss: 0.793845 | validation_loss: 0.749848\n",
      "iterations: 100 | train_loss: 0.68983 | validation_loss: 0.749838\n",
      "iterations: 101 | train_loss: 0.635972 | validation_loss: 0.749837\n",
      "iterations: 102 | train_loss: 0.802682 | validation_loss: 0.749842\n",
      "iterations: 103 | train_loss: 0.799603 | validation_loss: 0.749844\n",
      "iterations: 104 | train_loss: 0.813155 | validation_loss: 0.749846\n",
      "iterations: 105 | train_loss: 0.732121 | validation_loss: 0.749849\n",
      "iterations: 106 | train_loss: 0.719308 | validation_loss: 0.749861\n",
      "iterations: 107 | train_loss: 0.783856 | validation_loss: 0.749867\n",
      "iterations: 108 | train_loss: 0.794602 | validation_loss: 0.749867\n",
      "iterations: 109 | train_loss: 0.819719 | validation_loss: 0.749879\n",
      "iterations: 110 | train_loss: 0.58334 | validation_loss: 0.749897\n",
      "iterations: 111 | train_loss: 0.822529 | validation_loss: 0.749902\n",
      "iterations: 112 | train_loss: 0.659275 | validation_loss: 0.749921\n",
      "iterations: 113 | train_loss: 0.702429 | validation_loss: 0.749942\n",
      "iterations: 114 | train_loss: 0.809103 | validation_loss: 0.749967\n",
      "iterations: 115 | train_loss: 0.7522 | validation_loss: 0.749983\n",
      "iterations: 116 | train_loss: 0.702536 | validation_loss: 0.749986\n",
      "iterations: 117 | train_loss: 0.669066 | validation_loss: 0.750044\n",
      "iterations: 118 | train_loss: 0.780449 | validation_loss: 0.750131\n",
      "iterations: 119 | train_loss: 0.636671 | validation_loss: 0.750285\n",
      "iterations: 120 | train_loss: 0.714474 | validation_loss: 0.750499\n",
      "iterations: 121 | train_loss: 0.695225 | validation_loss: 0.750687\n",
      "iterations: 122 | train_loss: 0.758447 | validation_loss: 0.750789\n",
      "iterations: 123 | train_loss: 0.82744 | validation_loss: 0.750927\n",
      "iterations: 124 | train_loss: 0.698668 | validation_loss: 0.751043\n"
     ]
    },
    {
     "name": "stdout",
     "output_type": "stream",
     "text": [
      "iterations: 125 | train_loss: 0.79948 | validation_loss: 0.751096\n",
      "iterations: 126 | train_loss: 0.794464 | validation_loss: 0.751106\n",
      "iterations: 127 | train_loss: 0.593325 | validation_loss: 0.751149\n",
      "iterations: 128 | train_loss: 0.853073 | validation_loss: 0.751192\n",
      "iterations: 129 | train_loss: 0.600102 | validation_loss: 0.75128\n",
      "iterations: 130 | train_loss: 0.674824 | validation_loss: 0.751329\n",
      "iterations: 131 | train_loss: 0.868745 | validation_loss: 0.751379\n",
      "iterations: 132 | train_loss: 0.796813 | validation_loss: 0.751329\n",
      "iterations: 133 | train_loss: 0.847438 | validation_loss: 0.751243\n",
      "iterations: 134 | train_loss: 0.766403 | validation_loss: 0.751124\n",
      "iterations: 135 | train_loss: 0.723769 | validation_loss: 0.750982\n",
      "iterations: 136 | train_loss: 0.711914 | validation_loss: 0.750794\n",
      "iterations: 137 | train_loss: 0.77298 | validation_loss: 0.750581\n",
      "iterations: 138 | train_loss: 0.713172 | validation_loss: 0.750413\n",
      "iterations: 139 | train_loss: 0.692281 | validation_loss: 0.750283\n",
      "iterations: 140 | train_loss: 0.678323 | validation_loss: 0.750253\n",
      "iterations: 141 | train_loss: 0.64977 | validation_loss: 0.750208\n",
      "iterations: 142 | train_loss: 0.659125 | validation_loss: 0.750134\n",
      "iterations: 143 | train_loss: 0.773144 | validation_loss: 0.750019\n",
      "iterations: 144 | train_loss: 0.855008 | validation_loss: 0.749926\n",
      "iterations: 145 | train_loss: 0.697087 | validation_loss: 0.749871\n",
      "iterations: 146 | train_loss: 0.723133 | validation_loss: 0.749837\n",
      "iterations: 147 | train_loss: 0.718898 | validation_loss: 0.74983\n",
      "iterations: 148 | train_loss: 0.786604 | validation_loss: 0.749825\n",
      "iterations: 149 | train_loss: 0.691082 | validation_loss: 0.749823\n",
      "iterations: 150 | train_loss: 0.819865 | validation_loss: 0.749824\n",
      "iterations: 151 | train_loss: 0.617456 | validation_loss: 0.749823\n",
      "iterations: 152 | train_loss: 0.696382 | validation_loss: 0.749823\n",
      "iterations: 153 | train_loss: 0.809099 | validation_loss: 0.749824\n",
      "iterations: 154 | train_loss: 0.725877 | validation_loss: 0.749824\n",
      "iterations: 155 | train_loss: 0.89571 | validation_loss: 0.749826\n",
      "iterations: 156 | train_loss: 0.70429 | validation_loss: 0.749832\n",
      "iterations: 157 | train_loss: 0.687437 | validation_loss: 0.749848\n",
      "iterations: 158 | train_loss: 0.772337 | validation_loss: 0.749873\n",
      "iterations: 159 | train_loss: 0.780075 | validation_loss: 0.749926\n",
      "iterations: 160 | train_loss: 0.737543 | validation_loss: 0.749984\n",
      "iterations: 161 | train_loss: 0.728824 | validation_loss: 0.750025\n",
      "iterations: 162 | train_loss: 0.752079 | validation_loss: 0.750097\n",
      "iterations: 163 | train_loss: 0.856193 | validation_loss: 0.75013\n",
      "iterations: 164 | train_loss: 0.662169 | validation_loss: 0.750126\n",
      "iterations: 165 | train_loss: 0.86851 | validation_loss: 0.750153\n",
      "iterations: 166 | train_loss: 0.68875 | validation_loss: 0.750168\n",
      "iterations: 167 | train_loss: 0.636565 | validation_loss: 0.750154\n",
      "iterations: 168 | train_loss: 0.751616 | validation_loss: 0.750174\n",
      "iterations: 169 | train_loss: 0.757973 | validation_loss: 0.750151\n",
      "iterations: 170 | train_loss: 0.715375 | validation_loss: 0.750096\n",
      "iterations: 171 | train_loss: 0.831782 | validation_loss: 0.750084\n",
      "iterations: 172 | train_loss: 0.728958 | validation_loss: 0.750036\n",
      "iterations: 173 | train_loss: 0.742339 | validation_loss: 0.750018\n",
      "iterations: 174 | train_loss: 0.728682 | validation_loss: 0.749998\n",
      "iterations: 175 | train_loss: 0.812787 | validation_loss: 0.749983\n",
      "iterations: 176 | train_loss: 0.775729 | validation_loss: 0.749967\n",
      "iterations: 177 | train_loss: 0.725494 | validation_loss: 0.749916\n",
      "iterations: 178 | train_loss: 0.658163 | validation_loss: 0.749881\n",
      "iterations: 179 | train_loss: 0.883797 | validation_loss: 0.749868\n",
      "iterations: 180 | train_loss: 0.764836 | validation_loss: 0.749859\n",
      "iterations: 181 | train_loss: 0.684719 | validation_loss: 0.749847\n",
      "iterations: 182 | train_loss: 0.650253 | validation_loss: 0.749836\n",
      "iterations: 183 | train_loss: 0.823408 | validation_loss: 0.749836\n",
      "iterations: 184 | train_loss: 0.777596 | validation_loss: 0.749841\n",
      "iterations: 185 | train_loss: 0.740816 | validation_loss: 0.74986\n",
      "iterations: 186 | train_loss: 0.692934 | validation_loss: 0.749884\n",
      "iterations: 187 | train_loss: 0.726693 | validation_loss: 0.749913\n",
      "iterations: 188 | train_loss: 0.712315 | validation_loss: 0.749961\n",
      "iterations: 189 | train_loss: 0.642496 | validation_loss: 0.750018\n",
      "iterations: 190 | train_loss: 0.647452 | validation_loss: 0.750036\n",
      "iterations: 191 | train_loss: 0.809756 | validation_loss: 0.750063\n",
      "iterations: 192 | train_loss: 0.820212 | validation_loss: 0.750115\n",
      "iterations: 193 | train_loss: 0.774505 | validation_loss: 0.750231\n",
      "iterations: 194 | train_loss: 0.887776 | validation_loss: 0.750328\n",
      "iterations: 195 | train_loss: 0.858114 | validation_loss: 0.750428\n",
      "iterations: 196 | train_loss: 0.664672 | validation_loss: 0.75053\n",
      "iterations: 197 | train_loss: 0.718994 | validation_loss: 0.750552\n",
      "iterations: 198 | train_loss: 0.666855 | validation_loss: 0.750538\n",
      "iterations: 199 | train_loss: 0.651284 | validation_loss: 0.750408\n",
      "iterations: 200 | train_loss: 0.642896 | validation_loss: 0.750226\n",
      "iterations: 201 | train_loss: 0.745619 | validation_loss: 0.750042\n",
      "iterations: 202 | train_loss: 0.720502 | validation_loss: 0.749926\n",
      "iterations: 203 | train_loss: 0.770823 | validation_loss: 0.749868\n",
      "iterations: 204 | train_loss: 0.858934 | validation_loss: 0.749845\n",
      "iterations: 205 | train_loss: 0.676963 | validation_loss: 0.749836\n",
      "iterations: 206 | train_loss: 0.733148 | validation_loss: 0.749826\n",
      "iterations: 207 | train_loss: 0.753607 | validation_loss: 0.749824\n",
      "iterations: 208 | train_loss: 0.78015 | validation_loss: 0.749828\n",
      "iterations: 209 | train_loss: 0.66411 | validation_loss: 0.749845\n",
      "iterations: 210 | train_loss: 0.805566 | validation_loss: 0.749889\n",
      "iterations: 211 | train_loss: 0.646482 | validation_loss: 0.74999\n",
      "iterations: 212 | train_loss: 0.760293 | validation_loss: 0.750132\n",
      "iterations: 213 | train_loss: 0.878163 | validation_loss: 0.750277\n",
      "iterations: 214 | train_loss: 0.616304 | validation_loss: 0.750403\n",
      "iterations: 215 | train_loss: 0.727811 | validation_loss: 0.750489\n",
      "iterations: 216 | train_loss: 0.703747 | validation_loss: 0.750601\n",
      "iterations: 217 | train_loss: 0.613653 | validation_loss: 0.750737\n",
      "iterations: 218 | train_loss: 0.699673 | validation_loss: 0.750908\n",
      "iterations: 219 | train_loss: 0.78494 | validation_loss: 0.750982\n",
      "iterations: 220 | train_loss: 0.772741 | validation_loss: 0.751038\n",
      "iterations: 221 | train_loss: 0.767586 | validation_loss: 0.751036\n",
      "iterations: 222 | train_loss: 0.63269 | validation_loss: 0.751042\n",
      "iterations: 223 | train_loss: 0.727336 | validation_loss: 0.751069\n",
      "iterations: 224 | train_loss: 0.769124 | validation_loss: 0.75103\n",
      "iterations: 225 | train_loss: 0.720055 | validation_loss: 0.750971\n",
      "iterations: 226 | train_loss: 0.72698 | validation_loss: 0.75088\n",
      "iterations: 227 | train_loss: 0.780389 | validation_loss: 0.750746\n",
      "iterations: 228 | train_loss: 0.814076 | validation_loss: 0.750505\n",
      "iterations: 229 | train_loss: 0.67755 | validation_loss: 0.750345\n",
      "iterations: 230 | train_loss: 0.744287 | validation_loss: 0.750134\n",
      "iterations: 231 | train_loss: 0.733338 | validation_loss: 0.749965\n",
      "iterations: 232 | train_loss: 0.750939 | validation_loss: 0.749859\n",
      "iterations: 233 | train_loss: 0.696855 | validation_loss: 0.749825\n",
      "iterations: 234 | train_loss: 0.749895 | validation_loss: 0.749843\n",
      "iterations: 235 | train_loss: 0.7678 | validation_loss: 0.749886\n",
      "iterations: 236 | train_loss: 0.785565 | validation_loss: 0.749909\n",
      "iterations: 237 | train_loss: 0.747948 | validation_loss: 0.749941\n",
      "iterations: 238 | train_loss: 0.806397 | validation_loss: 0.749958\n",
      "iterations: 239 | train_loss: 0.794886 | validation_loss: 0.749956\n",
      "iterations: 240 | train_loss: 0.785391 | validation_loss: 0.74996\n",
      "iterations: 241 | train_loss: 0.71731 | validation_loss: 0.749992\n",
      "iterations: 242 | train_loss: 0.757859 | validation_loss: 0.749997\n",
      "iterations: 243 | train_loss: 0.670822 | validation_loss: 0.749958\n",
      "iterations: 244 | train_loss: 0.701425 | validation_loss: 0.749911\n",
      "iterations: 245 | train_loss: 0.755188 | validation_loss: 0.749881\n",
      "iterations: 246 | train_loss: 0.561886 | validation_loss: 0.749855\n",
      "iterations: 247 | train_loss: 0.743086 | validation_loss: 0.749838\n"
     ]
    },
    {
     "name": "stdout",
     "output_type": "stream",
     "text": [
      "iterations: 248 | train_loss: 0.640542 | validation_loss: 0.749823\n",
      "iterations: 249 | train_loss: 0.7464 | validation_loss: 0.749838\n",
      "iterations: 250 | train_loss: 0.763075 | validation_loss: 0.749894\n",
      "iterations: 251 | train_loss: 0.733442 | validation_loss: 0.749984\n",
      "iterations: 252 | train_loss: 0.712759 | validation_loss: 0.750114\n",
      "iterations: 253 | train_loss: 0.716416 | validation_loss: 0.750255\n",
      "iterations: 254 | train_loss: 0.825731 | validation_loss: 0.750341\n",
      "iterations: 255 | train_loss: 0.661438 | validation_loss: 0.750452\n",
      "iterations: 256 | train_loss: 0.668163 | validation_loss: 0.750636\n",
      "iterations: 257 | train_loss: 0.729028 | validation_loss: 0.750771\n",
      "iterations: 258 | train_loss: 0.735556 | validation_loss: 0.750823\n",
      "iterations: 259 | train_loss: 0.797433 | validation_loss: 0.750795\n",
      "iterations: 260 | train_loss: 0.772038 | validation_loss: 0.750817\n"
     ]
    }
   ],
   "source": [
    "# create a saver object\n",
    "saver = tf.train.Saver(max_to_keep=1)\n",
    "\n",
    "# variables to store the accuracy, loss, iteration of our best model\n",
    "best_loss = 1000000\n",
    "best_iteration = None\n",
    "\n",
    "iteration = 0\n",
    "\n",
    "# create a graph session and optimize under it\n",
    "with tf.Session() as sess:\n",
    "    \n",
    "    # initialize variables\n",
    "    sess.run(tf.global_variables_initializer())\n",
    "\n",
    "    # while 57 minutes have not elapsed (to finish before the kernel is killed)\n",
    "    while (time.time()-t) < 45*60:\n",
    "        \n",
    "        # break if max iteration is reached\n",
    "        if iteration >= max_iter:\n",
    "            break\n",
    "\n",
    "        # randomly choosing the indices of the batch \n",
    "        rand_index = np.random.choice(price_train.shape[0], size=batch_size)\n",
    "\n",
    "        # extract the batch image and labels\n",
    "        description_train_rand = description_train[rand_index]\n",
    "        name_train_rand = name_train[rand_index]\n",
    "        category_train_rand = category_train[rand_index]\n",
    "        extra_data_train_rand = extra_data_train[rand_index]\n",
    "        price_train_rand = price_train[rand_index]\n",
    "\n",
    "        # feed dictionary for batch\n",
    "        feed_dict_batch =  {input1: description_train_rand,\n",
    "                            input2: name_train_rand,\n",
    "                            input3: category_train_rand,\n",
    "                            input4: extra_data_train_rand,\n",
    "                            prices: np.transpose([price_train_rand]),\n",
    "                            keep_prob: 0.8}\n",
    "        # feed dictionary for train\n",
    "        feed_dict_train =  {input1: description_train_rand,\n",
    "                            input2: name_train_rand,\n",
    "                            input3: category_train_rand,\n",
    "                            input4: extra_data_train_rand,\n",
    "                            prices: np.transpose([price_train_rand]),\n",
    "                            keep_prob: 1.0}\n",
    "        # feed dictionary for validation\n",
    "        feed_dict_validation =  {input1: description_validation,\n",
    "                                input2: name_validation,\n",
    "                                input3: category_validation,\n",
    "                                input4: extra_data_validation,\n",
    "                                prices: np.transpose([price_validation]),\n",
    "                                keep_prob: 1.0}\n",
    "        \n",
    "        # execute optimization step\n",
    "        sess.run(train_step, feed_dict=feed_dict_batch)\n",
    "        \n",
    "        # calculate temporary train loss and append it to the designated list\n",
    "        temp_train_loss = loss.eval(session=sess, feed_dict=feed_dict_train)\n",
    "        train_loss.append(temp_train_loss)\n",
    "        # calculate temporary validation loss and append it to the designated list\n",
    "        temp_validation_loss = loss.eval(session=sess, feed_dict=feed_dict_validation)\n",
    "        valid_loss.append(temp_validation_loss)\n",
    "        \n",
    "        if (temp_validation_loss < best_loss):\n",
    "            best_loss = temp_validation_loss\n",
    "            best_iteration = iteration           \n",
    "            saver.save(sess, './my-model', global_step = best_iteration)\n",
    "            \n",
    "         # print metric info\n",
    "        print(\"iterations:\",iteration,\n",
    "              \"| train_loss:\", temp_train_loss,\n",
    "              \"| validation_loss:\", temp_validation_loss)\n",
    "        \n",
    "        # increment iteration\n",
    "        iteration = iteration+1"
   ]
  },
  {
   "cell_type": "code",
   "execution_count": 48,
   "metadata": {
    "_cell_guid": "0c2ffd82-0008-4794-a871-08bd7e52d6ef",
    "_uuid": "1ff64aaf665be9988a2d9513147deedec450bab2"
   },
   "outputs": [
    {
     "name": "stdout",
     "output_type": "stream",
     "text": [
      "Best loss: 0.749823\n"
     ]
    }
   ],
   "source": [
    "print(\"Best loss:\", best_loss)"
   ]
  },
  {
   "cell_type": "markdown",
   "metadata": {},
   "source": [
    "## **Compute predictions for test set**"
   ]
  },
  {
   "cell_type": "code",
   "execution_count": 49,
   "metadata": {
    "_cell_guid": "11b25df0-11a5-4c52-9190-12d1826bcb98",
    "_uuid": "f735781a4a8a6e56a127695aee1d66b309ce79e9"
   },
   "outputs": [
    {
     "name": "stdout",
     "output_type": "stream",
     "text": [
      "INFO:tensorflow:Restoring parameters from ./my-model-248\n",
      "Computed predictions for fold 0\n",
      "Computed predictions for fold 1\n",
      "Computed predictions for fold 2\n",
      "Computed predictions for fold 3\n",
      "Computed predictions for fold 4\n",
      "Computed predictions for fold 5\n",
      "Computed predictions for fold 6\n",
      "Computed predictions for fold 7\n",
      "Computed predictions for fold 8\n",
      "Computed predictions for fold 9\n",
      "Computed predictions for fold 10\n",
      "Computed predictions for fold 11\n",
      "Computed predictions for fold 12\n",
      "Computed predictions for fold 13\n",
      "Computed predictions for fold 14\n",
      "Computed predictions for fold 15\n",
      "Computed predictions for fold 16\n",
      "Computed predictions for fold 17\n",
      "Computed predictions for fold 18\n",
      "Computed predictions for fold 19\n",
      "Computed predictions for fold 20\n",
      "Computed predictions for fold 21\n",
      "Computed predictions for fold 22\n",
      "Computed predictions for fold 23\n",
      "Computed predictions for fold 24\n",
      "Computed predictions for fold 25\n",
      "Computed predictions for fold 26\n",
      "Computed predictions for fold 27\n",
      "Computed predictions for fold 28\n",
      "Computed predictions for fold 29\n",
      "Computed predictions for fold 30\n",
      "Computed predictions for fold 31\n",
      "Computed predictions for fold 32\n",
      "Computed predictions for fold 33\n",
      "Computed predictions for fold 34\n",
      "Computed predictions for fold 35\n",
      "Computed predictions for fold 36\n",
      "Computed predictions for fold 37\n",
      "Computed predictions for fold 38\n",
      "Computed predictions for fold 39\n",
      "Computed predictions for fold 40\n",
      "Computed predictions for fold 41\n",
      "Computed predictions for fold 42\n",
      "Computed predictions for fold 43\n",
      "Computed predictions for fold 44\n",
      "Computed predictions for fold 45\n",
      "Computed predictions for fold 46\n",
      "Computed predictions for fold 47\n",
      "Computed predictions for fold 48\n",
      "Computed predictions for fold 49\n",
      "Computed predictions for fold 50\n",
      "Computed predictions for fold 51\n",
      "Computed predictions for fold 52\n",
      "Computed predictions for fold 53\n",
      "Computed predictions for fold 54\n",
      "Computed predictions for fold 55\n",
      "Computed predictions for fold 56\n",
      "Computed predictions for fold 57\n",
      "Computed predictions for fold 58\n",
      "Computed predictions for fold 59\n",
      "Computed predictions for fold 60\n",
      "Computed predictions for fold 61\n",
      "Computed predictions for fold 62\n",
      "Computed predictions for fold 63\n",
      "Computed predictions for fold 64\n",
      "Computed predictions for fold 65\n",
      "Computed predictions for fold 66\n",
      "Computed predictions for fold 67\n",
      "Computed predictions for fold 68\n",
      "Computed predictions for fold 69\n",
      "Computed predictions for fold 70\n",
      "Computed predictions for fold 71\n",
      "Computed predictions for fold 72\n",
      "Computed predictions for fold 73\n",
      "Computed predictions for fold 74\n",
      "Computed predictions for fold 75\n",
      "Computed predictions for fold 76\n",
      "Computed predictions for fold 77\n",
      "Computed predictions for fold 78\n",
      "Computed predictions for fold 79\n",
      "Computed predictions for fold 80\n",
      "Computed predictions for fold 81\n",
      "Computed predictions for fold 82\n",
      "Computed predictions for fold 83\n",
      "Computed predictions for fold 84\n",
      "Computed predictions for fold 85\n",
      "Computed predictions for fold 86\n",
      "Computed predictions for fold 87\n",
      "Computed predictions for fold 88\n",
      "Computed predictions for fold 89\n",
      "Computed predictions for fold 90\n",
      "Computed predictions for fold 91\n",
      "Computed predictions for fold 92\n",
      "Computed predictions for fold 93\n",
      "Computed predictions for fold 94\n",
      "Computed predictions for fold 95\n",
      "Computed predictions for fold 96\n",
      "Computed predictions for fold 97\n",
      "Computed predictions for fold 98\n",
      "Computed predictions for fold 99\n",
      "Time required to compute prediction: 685.2563056945801\n"
     ]
    }
   ],
   "source": [
    "with tf.Session() as sess:  \n",
    "    \n",
    "    t_start = time.time()\n",
    "    \n",
    "    # restore the best model\n",
    "    model_path = \"./\"+\"my-model-\"+str(best_iteration)\n",
    "    saver.restore(sess, model_path)\n",
    "    \n",
    "    # break the test set into k folds other wise kernel will be out of memory\n",
    "    n = len(test_id)\n",
    "    k = 100\n",
    "    step = n//k\n",
    "    \n",
    "    # array to store the prediction\n",
    "    preds = np.array([])\n",
    "\n",
    "    # iterate through each fold\n",
    "    for i in range(k):\n",
    "\n",
    "        # start and end indices of the fold\n",
    "        if i != (k-1):\n",
    "            start = (step*i)\n",
    "            end = (step*(i+1)) \n",
    "        else:\n",
    "            start = (step*i)\n",
    "            end = len(test_id)\n",
    "\n",
    "        # feed dictionary for the fold\n",
    "        feed_dict_test =  {input1: description_test[start:end],\n",
    "                            input2: name_test[start:end],\n",
    "                            input3: category_test[start:end],\n",
    "                            input4: extra_data_test[start:end],\n",
    "                            keep_prob: 1.0}\n",
    "\n",
    "        # evaluate predictions of the fold\n",
    "        fold_preds = outputs.eval(session=sess, feed_dict = feed_dict_test)\n",
    "        # append the predictions of the fold to the designated array\n",
    "        preds = np.append(preds, fold_preds)\n",
    "        \n",
    "        print(\"Computed predictions for fold\",i)\n",
    "    \n",
    "    # save the submission csv file\n",
    "    submission_path = \"./sample_submission.csv\"\n",
    "    submission = pd.DataFrame({\"test_id \": test_id, \"price\": preds})\n",
    "    submission.to_csv(submission_path, header = True, index=False)\n",
    "    \n",
    "    print(\"Time required to compute prediction:\", time.time()-t_start)"
   ]
  },
  {
   "cell_type": "markdown",
   "metadata": {},
   "source": [
    "## **Plot of vs iterations**"
   ]
  },
  {
   "cell_type": "code",
   "execution_count": 50,
   "metadata": {
    "_cell_guid": "c115863b-3cbd-4e42-a8fd-8f9ffbd6b35b",
    "_uuid": "eb060c5db9af16b25eccc577cd941bff04701c57"
   },
   "outputs": [
    {
     "data": {
      "image/png": "[encoded data removed]",
      "text/plain": [
       "<matplotlib.figure.Figure at 0x7f421acff358>"
      ]
     },
     "metadata": {
      "image/png": {
       "height": 551,
       "width": 1051
      }
     },
     "output_type": "display_data"
    }
   ],
   "source": [
    "import matplotlib.pyplot as plt\n",
    "plt.figure(figsize=(16, 8), dpi= 80, facecolor='w', edgecolor='k')\n",
    "iterations = list(range(1,iteration+1))\n",
    "plt.plot(iterations, train_loss, label = \"train loss\")\n",
    "plt.plot(iterations, valid_loss, label = \"valid loss\")\n",
    "plt.title(\"Loss\")\n",
    "plt.xlabel(\"iter\")\n",
    "plt.ylabel(\"loss\")\n",
    "plt.legend()\n",
    "plt.grid()\n",
    "plt.show()"
   ]
  }
 ],
 "metadata": {
  "kernelspec": {
   "display_name": "Python 3",
   "language": "python",
   "name": "python3"
  },
  "language_info": {
   "codemirror_mode": {
    "name": "ipython",
    "version": 3
   },
   "file_extension": ".py",
   "mimetype": "text/x-python",
   "name": "python",
   "nbconvert_exporter": "python",
   "pygments_lexer": "ipython3",
   "version": "3.6.3"
  }
 },
 "nbformat": 4,
 "nbformat_minor": 1
}
