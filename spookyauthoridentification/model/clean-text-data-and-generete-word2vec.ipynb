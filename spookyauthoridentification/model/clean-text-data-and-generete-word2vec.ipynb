{
 "cells": [
  {
   "cell_type": "code",
   "execution_count": 1,
   "metadata": {
    "_cell_guid": "b1076dfc-b9ad-4769-8c92-a6c4dae69d19",
    "_uuid": "8f2839f25d086af736a60e9eeb907d3b93b6e0e5"
   },
   "outputs": [],
   "source": [
    "import time\n",
    "import os\n",
    "t = time.time()\n",
    "import json\n",
    "import string\n",
    "import random\n",
    "import math\n",
    "import random\n",
    "import pandas as pd\n",
    "import numpy as np\n",
    "import tensorflow as tf\n",
    "import matplotlib\n",
    "from matplotlib import pyplot as plt\n",
    "%matplotlib inline"
   ]
  },
  {
   "cell_type": "code",
   "execution_count": 2,
   "metadata": {
    "_cell_guid": "79c7e3d0-c299-4dcb-8224-4455121ee9b0",
    "_uuid": "d629ff2d2480ee46fbb7e2d37f6b5fab8052498a"
   },
   "outputs": [],
   "source": [
    "import nltk\n",
    "# nltk.download()\n",
    "import nltk, re, time\n",
    "from nltk.corpus import stopwords\n",
    "from nltk.stem.snowball import SnowballStemmer\n",
    "from gensim.models import Word2Vec"
   ]
  },
  {
   "cell_type": "code",
   "execution_count": 3,
   "metadata": {
    "_uuid": "bf6df419200979c442a8f810d4713b7ba987b468"
   },
   "outputs": [],
   "source": [
    "input_dir = \"../input/\"\n",
    "word2vec_model_dir = \"./word2vec_models/\""
   ]
  },
  {
   "cell_type": "code",
   "execution_count": 4,
   "metadata": {
    "_uuid": "9b302265858bd49d9c61421cd4599431bec17006"
   },
   "outputs": [],
   "source": [
    "train_data = pd.read_csv(input_dir+'train.csv') \n",
    "test_data = pd.read_csv(input_dir+'test.csv')"
   ]
  },
  {
   "cell_type": "code",
   "execution_count": 5,
   "metadata": {
    "_uuid": "93aced70c77e16a066605841c285cd38c51ed19d"
   },
   "outputs": [
    {
     "data": {
      "text/html": [
       "<div>\n",
       "<style scoped>\n",
       "    .dataframe tbody tr th:only-of-type {\n",
       "        vertical-align: middle;\n",
       "    }\n",
       "\n",
       "    .dataframe tbody tr th {\n",
       "        vertical-align: top;\n",
       "    }\n",
       "\n",
       "    .dataframe thead th {\n",
       "        text-align: right;\n",
       "    }\n",
       "</style>\n",
       "<table border=\"1\" class=\"dataframe\">\n",
       "  <thead>\n",
       "    <tr style=\"text-align: right;\">\n",
       "      <th></th>\n",
       "      <th>id</th>\n",
       "      <th>text</th>\n",
       "      <th>author</th>\n",
       "    </tr>\n",
       "  </thead>\n",
       "  <tbody>\n",
       "    <tr>\n",
       "      <th>0</th>\n",
       "      <td>id26305</td>\n",
       "      <td>This process, however, afforded me no means of...</td>\n",
       "      <td>EAP</td>\n",
       "    </tr>\n",
       "    <tr>\n",
       "      <th>1</th>\n",
       "      <td>id17569</td>\n",
       "      <td>It never once occurred to me that the fumbling...</td>\n",
       "      <td>HPL</td>\n",
       "    </tr>\n",
       "    <tr>\n",
       "      <th>2</th>\n",
       "      <td>id11008</td>\n",
       "      <td>In his left hand was a gold snuff box, from wh...</td>\n",
       "      <td>EAP</td>\n",
       "    </tr>\n",
       "    <tr>\n",
       "      <th>3</th>\n",
       "      <td>id27763</td>\n",
       "      <td>How lovely is spring As we looked from Windsor...</td>\n",
       "      <td>MWS</td>\n",
       "    </tr>\n",
       "    <tr>\n",
       "      <th>4</th>\n",
       "      <td>id12958</td>\n",
       "      <td>Finding nothing else, not even gold, the Super...</td>\n",
       "      <td>HPL</td>\n",
       "    </tr>\n",
       "    <tr>\n",
       "      <th>5</th>\n",
       "      <td>id22965</td>\n",
       "      <td>A youth passed in solitude, my best years spen...</td>\n",
       "      <td>MWS</td>\n",
       "    </tr>\n",
       "    <tr>\n",
       "      <th>6</th>\n",
       "      <td>id09674</td>\n",
       "      <td>The astronomer, perhaps, at this point, took r...</td>\n",
       "      <td>EAP</td>\n",
       "    </tr>\n",
       "    <tr>\n",
       "      <th>7</th>\n",
       "      <td>id13515</td>\n",
       "      <td>The surcingle hung in ribands from my body.</td>\n",
       "      <td>EAP</td>\n",
       "    </tr>\n",
       "    <tr>\n",
       "      <th>8</th>\n",
       "      <td>id19322</td>\n",
       "      <td>I knew that you could not say to yourself 'ste...</td>\n",
       "      <td>EAP</td>\n",
       "    </tr>\n",
       "    <tr>\n",
       "      <th>9</th>\n",
       "      <td>id00912</td>\n",
       "      <td>I confess that neither the structure of langua...</td>\n",
       "      <td>MWS</td>\n",
       "    </tr>\n",
       "    <tr>\n",
       "      <th>10</th>\n",
       "      <td>id16737</td>\n",
       "      <td>He shall find that I can feel my injuries; he ...</td>\n",
       "      <td>MWS</td>\n",
       "    </tr>\n",
       "    <tr>\n",
       "      <th>11</th>\n",
       "      <td>id16607</td>\n",
       "      <td>Here we barricaded ourselves, and, for the pre...</td>\n",
       "      <td>EAP</td>\n",
       "    </tr>\n",
       "    <tr>\n",
       "      <th>12</th>\n",
       "      <td>id19764</td>\n",
       "      <td>Herbert West needed fresh bodies because his l...</td>\n",
       "      <td>HPL</td>\n",
       "    </tr>\n",
       "    <tr>\n",
       "      <th>13</th>\n",
       "      <td>id18886</td>\n",
       "      <td>The farm like grounds extended back very deepl...</td>\n",
       "      <td>HPL</td>\n",
       "    </tr>\n",
       "    <tr>\n",
       "      <th>14</th>\n",
       "      <td>id17189</td>\n",
       "      <td>But a glance will show the fallacy of this idea.</td>\n",
       "      <td>EAP</td>\n",
       "    </tr>\n",
       "    <tr>\n",
       "      <th>15</th>\n",
       "      <td>id12799</td>\n",
       "      <td>He had escaped me, and I must commence a destr...</td>\n",
       "      <td>MWS</td>\n",
       "    </tr>\n",
       "    <tr>\n",
       "      <th>16</th>\n",
       "      <td>id08441</td>\n",
       "      <td>To these speeches they gave, of course, their ...</td>\n",
       "      <td>EAP</td>\n",
       "    </tr>\n",
       "    <tr>\n",
       "      <th>17</th>\n",
       "      <td>id13117</td>\n",
       "      <td>Her native sprightliness needed no undue excit...</td>\n",
       "      <td>MWS</td>\n",
       "    </tr>\n",
       "    <tr>\n",
       "      <th>18</th>\n",
       "      <td>id14862</td>\n",
       "      <td>I even went so far as to speak of a slightly h...</td>\n",
       "      <td>EAP</td>\n",
       "    </tr>\n",
       "    <tr>\n",
       "      <th>19</th>\n",
       "      <td>id20836</td>\n",
       "      <td>His facial aspect, too, was remarkable for its...</td>\n",
       "      <td>HPL</td>\n",
       "    </tr>\n",
       "  </tbody>\n",
       "</table>\n",
       "</div>"
      ],
      "text/plain": [
       "         id                                               text author\n",
       "0   id26305  This process, however, afforded me no means of...    EAP\n",
       "1   id17569  It never once occurred to me that the fumbling...    HPL\n",
       "2   id11008  In his left hand was a gold snuff box, from wh...    EAP\n",
       "3   id27763  How lovely is spring As we looked from Windsor...    MWS\n",
       "4   id12958  Finding nothing else, not even gold, the Super...    HPL\n",
       "5   id22965  A youth passed in solitude, my best years spen...    MWS\n",
       "6   id09674  The astronomer, perhaps, at this point, took r...    EAP\n",
       "7   id13515        The surcingle hung in ribands from my body.    EAP\n",
       "8   id19322  I knew that you could not say to yourself 'ste...    EAP\n",
       "9   id00912  I confess that neither the structure of langua...    MWS\n",
       "10  id16737  He shall find that I can feel my injuries; he ...    MWS\n",
       "11  id16607  Here we barricaded ourselves, and, for the pre...    EAP\n",
       "12  id19764  Herbert West needed fresh bodies because his l...    HPL\n",
       "13  id18886  The farm like grounds extended back very deepl...    HPL\n",
       "14  id17189   But a glance will show the fallacy of this idea.    EAP\n",
       "15  id12799  He had escaped me, and I must commence a destr...    MWS\n",
       "16  id08441  To these speeches they gave, of course, their ...    EAP\n",
       "17  id13117  Her native sprightliness needed no undue excit...    MWS\n",
       "18  id14862  I even went so far as to speak of a slightly h...    EAP\n",
       "19  id20836  His facial aspect, too, was remarkable for its...    HPL"
      ]
     },
     "execution_count": 5,
     "metadata": {},
     "output_type": "execute_result"
    }
   ],
   "source": [
    "train_data.head(20)"
   ]
  },
  {
   "cell_type": "code",
   "execution_count": 6,
   "metadata": {
    "_uuid": "f2737a445370c12312ce3d0f549ee3840b5c6347"
   },
   "outputs": [
    {
     "name": "stdout",
     "output_type": "stream",
     "text": [
      "Shape of train data: (19579, 3)\n"
     ]
    }
   ],
   "source": [
    "print(\"Shape of train data:\", train_data.shape)"
   ]
  },
  {
   "cell_type": "code",
   "execution_count": 7,
   "metadata": {
    "_uuid": "0154ca64fc2b5d1f164e50d61ef728b129a2fa78"
   },
   "outputs": [
    {
     "data": {
      "text/html": [
       "<div>\n",
       "<style scoped>\n",
       "    .dataframe tbody tr th:only-of-type {\n",
       "        vertical-align: middle;\n",
       "    }\n",
       "\n",
       "    .dataframe tbody tr th {\n",
       "        vertical-align: top;\n",
       "    }\n",
       "\n",
       "    .dataframe thead th {\n",
       "        text-align: right;\n",
       "    }\n",
       "</style>\n",
       "<table border=\"1\" class=\"dataframe\">\n",
       "  <thead>\n",
       "    <tr style=\"text-align: right;\">\n",
       "      <th></th>\n",
       "      <th>id</th>\n",
       "      <th>text</th>\n",
       "    </tr>\n",
       "  </thead>\n",
       "  <tbody>\n",
       "    <tr>\n",
       "      <th>0</th>\n",
       "      <td>id02310</td>\n",
       "      <td>Still, as I urged our leaving Ireland with suc...</td>\n",
       "    </tr>\n",
       "    <tr>\n",
       "      <th>1</th>\n",
       "      <td>id24541</td>\n",
       "      <td>If a fire wanted fanning, it could readily be ...</td>\n",
       "    </tr>\n",
       "    <tr>\n",
       "      <th>2</th>\n",
       "      <td>id00134</td>\n",
       "      <td>And when they had broken down the frail door t...</td>\n",
       "    </tr>\n",
       "    <tr>\n",
       "      <th>3</th>\n",
       "      <td>id27757</td>\n",
       "      <td>While I was thinking how I should possibly man...</td>\n",
       "    </tr>\n",
       "    <tr>\n",
       "      <th>4</th>\n",
       "      <td>id04081</td>\n",
       "      <td>I am not sure to what limit his knowledge may ...</td>\n",
       "    </tr>\n",
       "    <tr>\n",
       "      <th>5</th>\n",
       "      <td>id27337</td>\n",
       "      <td>\"The thick and peculiar mist, or smoke, which ...</td>\n",
       "    </tr>\n",
       "    <tr>\n",
       "      <th>6</th>\n",
       "      <td>id24265</td>\n",
       "      <td>That which is not matter, is not at all unless...</td>\n",
       "    </tr>\n",
       "    <tr>\n",
       "      <th>7</th>\n",
       "      <td>id25917</td>\n",
       "      <td>I sought for repose although I did not hope fo...</td>\n",
       "    </tr>\n",
       "    <tr>\n",
       "      <th>8</th>\n",
       "      <td>id04951</td>\n",
       "      <td>Upon the fourth day of the assassination, a pa...</td>\n",
       "    </tr>\n",
       "    <tr>\n",
       "      <th>9</th>\n",
       "      <td>id14549</td>\n",
       "      <td>\"The tone metaphysical is also a good one.</td>\n",
       "    </tr>\n",
       "    <tr>\n",
       "      <th>10</th>\n",
       "      <td>id22505</td>\n",
       "      <td>These, the offspring of a later period, stood ...</td>\n",
       "    </tr>\n",
       "    <tr>\n",
       "      <th>11</th>\n",
       "      <td>id24002</td>\n",
       "      <td>What kept him from going with her and Brown Je...</td>\n",
       "    </tr>\n",
       "    <tr>\n",
       "      <th>12</th>\n",
       "      <td>id18982</td>\n",
       "      <td>Persuading the widow that my connexion with he...</td>\n",
       "    </tr>\n",
       "    <tr>\n",
       "      <th>13</th>\n",
       "      <td>id15181</td>\n",
       "      <td>When I arose trembling, I know not how much la...</td>\n",
       "    </tr>\n",
       "    <tr>\n",
       "      <th>14</th>\n",
       "      <td>id21888</td>\n",
       "      <td>And by the shores of the river Zaire there is ...</td>\n",
       "    </tr>\n",
       "    <tr>\n",
       "      <th>15</th>\n",
       "      <td>id12035</td>\n",
       "      <td>Idris heard of her mother's return with pleasure.</td>\n",
       "    </tr>\n",
       "    <tr>\n",
       "      <th>16</th>\n",
       "      <td>id17991</td>\n",
       "      <td>I say this proudly, but with tears in my eyes ...</td>\n",
       "    </tr>\n",
       "    <tr>\n",
       "      <th>17</th>\n",
       "      <td>id10707</td>\n",
       "      <td>But let us glance at the treatise Ah \"Ability ...</td>\n",
       "    </tr>\n",
       "    <tr>\n",
       "      <th>18</th>\n",
       "      <td>id07101</td>\n",
       "      <td>\"What a place is this that you inhabit, my son...</td>\n",
       "    </tr>\n",
       "    <tr>\n",
       "      <th>19</th>\n",
       "      <td>id00345</td>\n",
       "      <td>At his nod I took one of the latter and seated...</td>\n",
       "    </tr>\n",
       "  </tbody>\n",
       "</table>\n",
       "</div>"
      ],
      "text/plain": [
       "         id                                               text\n",
       "0   id02310  Still, as I urged our leaving Ireland with suc...\n",
       "1   id24541  If a fire wanted fanning, it could readily be ...\n",
       "2   id00134  And when they had broken down the frail door t...\n",
       "3   id27757  While I was thinking how I should possibly man...\n",
       "4   id04081  I am not sure to what limit his knowledge may ...\n",
       "5   id27337  \"The thick and peculiar mist, or smoke, which ...\n",
       "6   id24265  That which is not matter, is not at all unless...\n",
       "7   id25917  I sought for repose although I did not hope fo...\n",
       "8   id04951  Upon the fourth day of the assassination, a pa...\n",
       "9   id14549         \"The tone metaphysical is also a good one.\n",
       "10  id22505  These, the offspring of a later period, stood ...\n",
       "11  id24002  What kept him from going with her and Brown Je...\n",
       "12  id18982  Persuading the widow that my connexion with he...\n",
       "13  id15181  When I arose trembling, I know not how much la...\n",
       "14  id21888  And by the shores of the river Zaire there is ...\n",
       "15  id12035  Idris heard of her mother's return with pleasure.\n",
       "16  id17991  I say this proudly, but with tears in my eyes ...\n",
       "17  id10707  But let us glance at the treatise Ah \"Ability ...\n",
       "18  id07101  \"What a place is this that you inhabit, my son...\n",
       "19  id00345  At his nod I took one of the latter and seated..."
      ]
     },
     "execution_count": 7,
     "metadata": {},
     "output_type": "execute_result"
    }
   ],
   "source": [
    "test_data.head(20)"
   ]
  },
  {
   "cell_type": "code",
   "execution_count": 8,
   "metadata": {
    "_uuid": "037b3f3016825fe414774ef3d5db34cf9940c3e5"
   },
   "outputs": [
    {
     "name": "stdout",
     "output_type": "stream",
     "text": [
      "Shape of test data: (8392, 2)\n"
     ]
    }
   ],
   "source": [
    "print(\"Shape of test data:\", test_data.shape)"
   ]
  },
  {
   "cell_type": "code",
   "execution_count": 9,
   "metadata": {
    "_uuid": "1c4b13f8ffc1d736d82dd1c6581c14a9c75dbea6"
   },
   "outputs": [],
   "source": [
    "# load list of stopwords\n",
    "sw = set(stopwords.words(\"english\"))\n",
    "# load teh snowball stemmer\n",
    "stemmer = SnowballStemmer(\"english\")\n",
    "# translator object to replace punctuations with space\n",
    "translator = str.maketrans(string.punctuation, ' '*len(string.punctuation))"
   ]
  },
  {
   "cell_type": "code",
   "execution_count": 10,
   "metadata": {
    "_uuid": "8a5a3b4439de3f867c7a4a18aa7d9f5d61fd517a"
   },
   "outputs": [
    {
     "name": "stdout",
     "output_type": "stream",
     "text": [
      "{'has', 'but', 'no', 'over', 've', 'her', 'being', \"she's\", 'yours', 'am', 'does', 'can', 'some', 'd', 'other', \"doesn't\", 'after', 'once', 'any', 'mustn', \"won't\", \"wasn't\", 'wasn', 'its', 'ain', 'yourself', 'for', 'were', \"don't\", 'if', 'she', 'in', 'where', 'my', 'they', 'those', 'through', 'all', \"needn't\", 'needn', 'himself', 'it', 'herself', 'who', 'why', 'and', \"mustn't\", 'when', 'both', 'than', 'be', 'you', 'under', 'such', 'to', 'again', 'll', 'haven', 'how', 'nor', 'during', 'out', 'into', \"you're\", 'been', 'down', 'will', 'should', \"you'd\", 'between', 'until', 'doesn', 'have', 'themselves', 'doing', 'while', 'hers', \"you'll\", 'too', 'what', 'mightn', 'theirs', 'having', 'are', 'we', 'whom', 'hadn', \"that'll\", 'won', 'o', 'with', 'very', 'me', 'y', 'there', 'itself', 'just', 'yourselves', 'so', 'couldn', 'that', \"weren't\", 'off', 'an', 'is', 'further', 'most', 'which', \"couldn't\", 'his', 'your', 'about', 'did', 'hasn', 'above', 'wouldn', 'because', 'own', 's', \"aren't\", \"shan't\", 'he', 'aren', 're', 'isn', \"shouldn't\", 'was', 'same', \"mightn't\", 'shan', 'ours', 'the', 'or', 't', 'this', 'these', 'now', \"should've\", 'few', 'from', 'of', \"you've\", 'here', \"it's\", 'on', 'had', \"wouldn't\", 'myself', 'each', \"isn't\", 'by', 'do', \"hasn't\", 'not', \"haven't\", 'only', 'didn', 'ma', \"hadn't\", 'don', \"didn't\", 'their', 'm', 'up', 'them', 'i', 'at', 'below', 'ourselves', 'as', 'our', 'more', 'shouldn', 'then', 'against', 'a', 'weren', 'before', 'him'}\n"
     ]
    }
   ],
   "source": [
    "print(sw)"
   ]
  },
  {
   "cell_type": "code",
   "execution_count": 11,
   "metadata": {
    "_uuid": "6fb59aaaaa513683a282a0eda47a4466a780ecff"
   },
   "outputs": [],
   "source": [
    "def clean_text(text):    \n",
    "    \"\"\"\n",
    "    A function for preprocessing text\n",
    "    \"\"\"    \n",
    "    text = str(text)    \n",
    "    # replacing the punctuations with no space,which in effect deletes the punctuation marks \n",
    "    text = text.translate(translator)    \n",
    "    # remove stop word\n",
    "    text = [word.lower() for word in text.split() if word.lower() not in sw]\n",
    "    text = \" \".join(text)    \n",
    "    # stemming\n",
    "    text = [stemmer.stem(word) for word in text.split()]\n",
    "    text = \" \".join(text)     \n",
    "    # Clean the text\n",
    "    text = re.sub(r\"<br />\", \" \", text)\n",
    "    text = re.sub(r\"[^a-z]\", \" \", text)\n",
    "    text = re.sub(r\"   \", \" \", text) # Remove any extra spaces\n",
    "    text = re.sub(r\"  \", \" \", text)\n",
    "    \n",
    "    return(text)"
   ]
  },
  {
   "cell_type": "code",
   "execution_count": 12,
   "metadata": {
    "_uuid": "11459532025f3d35c4194a9a6c7ee3bc8663998f"
   },
   "outputs": [
    {
     "name": "stdout",
     "output_type": "stream",
     "text": [
      "Finished cleaning the train set. Time needed: 3.465871810913086 sec\n"
     ]
    }
   ],
   "source": [
    "t1 = time.time()\n",
    "train_data['text'] = train_data['text'].apply(clean_text)\n",
    "print(\"Finished cleaning the train set.\", \"Time needed:\", time.time()-t1,\"sec\")"
   ]
  },
  {
   "cell_type": "code",
   "execution_count": 13,
   "metadata": {
    "_uuid": "db3e410095f51a92c4c62a1b49aa116bf4282ec8"
   },
   "outputs": [
    {
     "name": "stdout",
     "output_type": "stream",
     "text": [
      "Finished cleaning the test set. Time needed: 1.551027536392212 sec\n"
     ]
    }
   ],
   "source": [
    "t2 = time.time()\n",
    "test_data['text'] = test_data['text'].apply(clean_text)\n",
    "print(\"Finished cleaning the test set.\", \"Time needed:\", time.time()-t2,\"sec\")"
   ]
  },
  {
   "cell_type": "code",
   "execution_count": 14,
   "metadata": {
    "_uuid": "8e924e5e2513f3bd38926cf2093f43c0bf7e0c42"
   },
   "outputs": [
    {
     "data": {
      "text/html": [
       "<div>\n",
       "<style scoped>\n",
       "    .dataframe tbody tr th:only-of-type {\n",
       "        vertical-align: middle;\n",
       "    }\n",
       "\n",
       "    .dataframe tbody tr th {\n",
       "        vertical-align: top;\n",
       "    }\n",
       "\n",
       "    .dataframe thead th {\n",
       "        text-align: right;\n",
       "    }\n",
       "</style>\n",
       "<table border=\"1\" class=\"dataframe\">\n",
       "  <thead>\n",
       "    <tr style=\"text-align: right;\">\n",
       "      <th></th>\n",
       "      <th>id</th>\n",
       "      <th>text</th>\n",
       "      <th>author</th>\n",
       "    </tr>\n",
       "  </thead>\n",
       "  <tbody>\n",
       "    <tr>\n",
       "      <th>0</th>\n",
       "      <td>id26305</td>\n",
       "      <td>process howev afford mean ascertain dimens dun...</td>\n",
       "      <td>EAP</td>\n",
       "    </tr>\n",
       "    <tr>\n",
       "      <th>1</th>\n",
       "      <td>id17569</td>\n",
       "      <td>never occur fumbl might mere mistak</td>\n",
       "      <td>HPL</td>\n",
       "    </tr>\n",
       "    <tr>\n",
       "      <th>2</th>\n",
       "      <td>id11008</td>\n",
       "      <td>left hand gold snuff box caper hill cut manner...</td>\n",
       "      <td>EAP</td>\n",
       "    </tr>\n",
       "    <tr>\n",
       "      <th>3</th>\n",
       "      <td>id27763</td>\n",
       "      <td>love spring look windsor terrac sixteen fertil...</td>\n",
       "      <td>MWS</td>\n",
       "    </tr>\n",
       "    <tr>\n",
       "      <th>4</th>\n",
       "      <td>id12958</td>\n",
       "      <td>find noth els even gold superintend abandon at...</td>\n",
       "      <td>HPL</td>\n",
       "    </tr>\n",
       "    <tr>\n",
       "      <th>5</th>\n",
       "      <td>id22965</td>\n",
       "      <td>youth pass solitud best year spent gentl femin...</td>\n",
       "      <td>MWS</td>\n",
       "    </tr>\n",
       "    <tr>\n",
       "      <th>6</th>\n",
       "      <td>id09674</td>\n",
       "      <td>astronom perhap point took refug suggest non l...</td>\n",
       "      <td>EAP</td>\n",
       "    </tr>\n",
       "    <tr>\n",
       "      <th>7</th>\n",
       "      <td>id13515</td>\n",
       "      <td>surcingl hung riband bodi</td>\n",
       "      <td>EAP</td>\n",
       "    </tr>\n",
       "    <tr>\n",
       "      <th>8</th>\n",
       "      <td>id19322</td>\n",
       "      <td>knew could say stereotomi without brought thin...</td>\n",
       "      <td>EAP</td>\n",
       "    </tr>\n",
       "    <tr>\n",
       "      <th>9</th>\n",
       "      <td>id00912</td>\n",
       "      <td>confess neither structur languag code govern p...</td>\n",
       "      <td>MWS</td>\n",
       "    </tr>\n",
       "  </tbody>\n",
       "</table>\n",
       "</div>"
      ],
      "text/plain": [
       "        id                                               text author\n",
       "0  id26305  process howev afford mean ascertain dimens dun...    EAP\n",
       "1  id17569                never occur fumbl might mere mistak    HPL\n",
       "2  id11008  left hand gold snuff box caper hill cut manner...    EAP\n",
       "3  id27763  love spring look windsor terrac sixteen fertil...    MWS\n",
       "4  id12958  find noth els even gold superintend abandon at...    HPL\n",
       "5  id22965  youth pass solitud best year spent gentl femin...    MWS\n",
       "6  id09674  astronom perhap point took refug suggest non l...    EAP\n",
       "7  id13515                          surcingl hung riband bodi    EAP\n",
       "8  id19322  knew could say stereotomi without brought thin...    EAP\n",
       "9  id00912  confess neither structur languag code govern p...    MWS"
      ]
     },
     "execution_count": 14,
     "metadata": {},
     "output_type": "execute_result"
    }
   ],
   "source": [
    "train_data.head(10)"
   ]
  },
  {
   "cell_type": "code",
   "execution_count": 15,
   "metadata": {
    "_uuid": "5f47c627b1a38fa57476b2a1b2762d5f76ab3be7"
   },
   "outputs": [
    {
     "data": {
      "text/html": [
       "<div>\n",
       "<style scoped>\n",
       "    .dataframe tbody tr th:only-of-type {\n",
       "        vertical-align: middle;\n",
       "    }\n",
       "\n",
       "    .dataframe tbody tr th {\n",
       "        vertical-align: top;\n",
       "    }\n",
       "\n",
       "    .dataframe thead th {\n",
       "        text-align: right;\n",
       "    }\n",
       "</style>\n",
       "<table border=\"1\" class=\"dataframe\">\n",
       "  <thead>\n",
       "    <tr style=\"text-align: right;\">\n",
       "      <th></th>\n",
       "      <th>id</th>\n",
       "      <th>text</th>\n",
       "    </tr>\n",
       "  </thead>\n",
       "  <tbody>\n",
       "    <tr>\n",
       "      <th>0</th>\n",
       "      <td>id02310</td>\n",
       "      <td>still urg leav ireland inquietud impati father...</td>\n",
       "    </tr>\n",
       "    <tr>\n",
       "      <th>1</th>\n",
       "      <td>id24541</td>\n",
       "      <td>fire want fan could readili fan newspap govern...</td>\n",
       "    </tr>\n",
       "    <tr>\n",
       "      <th>2</th>\n",
       "      <td>id00134</td>\n",
       "      <td>broken frail door found two clean pick human s...</td>\n",
       "    </tr>\n",
       "    <tr>\n",
       "      <th>3</th>\n",
       "      <td>id27757</td>\n",
       "      <td>think possibl manag without one actual tumbl h...</td>\n",
       "    </tr>\n",
       "    <tr>\n",
       "      <th>4</th>\n",
       "      <td>id04081</td>\n",
       "      <td>sure limit knowledg may extend</td>\n",
       "    </tr>\n",
       "    <tr>\n",
       "      <th>5</th>\n",
       "      <td>id27337</td>\n",
       "      <td>thick peculiar mist smoke distinguish indian s...</td>\n",
       "    </tr>\n",
       "    <tr>\n",
       "      <th>6</th>\n",
       "      <td>id24265</td>\n",
       "      <td>matter unless qualiti thing</td>\n",
       "    </tr>\n",
       "    <tr>\n",
       "      <th>7</th>\n",
       "      <td>id25917</td>\n",
       "      <td>sought repos although hope forget knew pursu d...</td>\n",
       "    </tr>\n",
       "    <tr>\n",
       "      <th>8</th>\n",
       "      <td>id04951</td>\n",
       "      <td>upon fourth day assassin parti polic came unex...</td>\n",
       "    </tr>\n",
       "    <tr>\n",
       "      <th>9</th>\n",
       "      <td>id14549</td>\n",
       "      <td>tone metaphys also good one</td>\n",
       "    </tr>\n",
       "  </tbody>\n",
       "</table>\n",
       "</div>"
      ],
      "text/plain": [
       "        id                                               text\n",
       "0  id02310  still urg leav ireland inquietud impati father...\n",
       "1  id24541  fire want fan could readili fan newspap govern...\n",
       "2  id00134  broken frail door found two clean pick human s...\n",
       "3  id27757  think possibl manag without one actual tumbl h...\n",
       "4  id04081                     sure limit knowledg may extend\n",
       "5  id27337  thick peculiar mist smoke distinguish indian s...\n",
       "6  id24265                        matter unless qualiti thing\n",
       "7  id25917  sought repos although hope forget knew pursu d...\n",
       "8  id04951  upon fourth day assassin parti polic came unex...\n",
       "9  id14549                        tone metaphys also good one"
      ]
     },
     "execution_count": 15,
     "metadata": {},
     "output_type": "execute_result"
    }
   ],
   "source": [
    "test_data.head(10)"
   ]
  },
  {
   "cell_type": "code",
   "execution_count": 16,
   "metadata": {
    "_uuid": "e51eec7c6fdc4071e084cec25b4cc9db6bc04dda"
   },
   "outputs": [],
   "source": [
    "def find_length(text):\n",
    "    \"\"\"\n",
    "    A function to find the length\n",
    "    \"\"\"\n",
    "    text = str(text)\n",
    "    return len(text.split())"
   ]
  },
  {
   "cell_type": "code",
   "execution_count": 17,
   "metadata": {
    "_uuid": "afb0300272d8d5adce1f78d715327d3c47281d9f"
   },
   "outputs": [
    {
     "data": {
      "text/html": [
       "<div>\n",
       "<style scoped>\n",
       "    .dataframe tbody tr th:only-of-type {\n",
       "        vertical-align: middle;\n",
       "    }\n",
       "\n",
       "    .dataframe tbody tr th {\n",
       "        vertical-align: top;\n",
       "    }\n",
       "\n",
       "    .dataframe thead th {\n",
       "        text-align: right;\n",
       "    }\n",
       "</style>\n",
       "<table border=\"1\" class=\"dataframe\">\n",
       "  <thead>\n",
       "    <tr style=\"text-align: right;\">\n",
       "      <th></th>\n",
       "      <th>id</th>\n",
       "      <th>text</th>\n",
       "      <th>author</th>\n",
       "      <th>length</th>\n",
       "    </tr>\n",
       "  </thead>\n",
       "  <tbody>\n",
       "    <tr>\n",
       "      <th>0</th>\n",
       "      <td>id26305</td>\n",
       "      <td>process howev afford mean ascertain dimens dun...</td>\n",
       "      <td>EAP</td>\n",
       "      <td>21</td>\n",
       "    </tr>\n",
       "    <tr>\n",
       "      <th>1</th>\n",
       "      <td>id17569</td>\n",
       "      <td>never occur fumbl might mere mistak</td>\n",
       "      <td>HPL</td>\n",
       "      <td>6</td>\n",
       "    </tr>\n",
       "    <tr>\n",
       "      <th>2</th>\n",
       "      <td>id11008</td>\n",
       "      <td>left hand gold snuff box caper hill cut manner...</td>\n",
       "      <td>EAP</td>\n",
       "      <td>19</td>\n",
       "    </tr>\n",
       "    <tr>\n",
       "      <th>3</th>\n",
       "      <td>id27763</td>\n",
       "      <td>love spring look windsor terrac sixteen fertil...</td>\n",
       "      <td>MWS</td>\n",
       "      <td>21</td>\n",
       "    </tr>\n",
       "    <tr>\n",
       "      <th>4</th>\n",
       "      <td>id12958</td>\n",
       "      <td>find noth els even gold superintend abandon at...</td>\n",
       "      <td>HPL</td>\n",
       "      <td>16</td>\n",
       "    </tr>\n",
       "    <tr>\n",
       "      <th>5</th>\n",
       "      <td>id22965</td>\n",
       "      <td>youth pass solitud best year spent gentl femin...</td>\n",
       "      <td>MWS</td>\n",
       "      <td>40</td>\n",
       "    </tr>\n",
       "    <tr>\n",
       "      <th>6</th>\n",
       "      <td>id09674</td>\n",
       "      <td>astronom perhap point took refug suggest non l...</td>\n",
       "      <td>EAP</td>\n",
       "      <td>12</td>\n",
       "    </tr>\n",
       "    <tr>\n",
       "      <th>7</th>\n",
       "      <td>id13515</td>\n",
       "      <td>surcingl hung riband bodi</td>\n",
       "      <td>EAP</td>\n",
       "      <td>4</td>\n",
       "    </tr>\n",
       "    <tr>\n",
       "      <th>8</th>\n",
       "      <td>id19322</td>\n",
       "      <td>knew could say stereotomi without brought thin...</td>\n",
       "      <td>EAP</td>\n",
       "      <td>42</td>\n",
       "    </tr>\n",
       "    <tr>\n",
       "      <th>9</th>\n",
       "      <td>id00912</td>\n",
       "      <td>confess neither structur languag code govern p...</td>\n",
       "      <td>MWS</td>\n",
       "      <td>11</td>\n",
       "    </tr>\n",
       "  </tbody>\n",
       "</table>\n",
       "</div>"
      ],
      "text/plain": [
       "        id                                               text author  length\n",
       "0  id26305  process howev afford mean ascertain dimens dun...    EAP      21\n",
       "1  id17569                never occur fumbl might mere mistak    HPL       6\n",
       "2  id11008  left hand gold snuff box caper hill cut manner...    EAP      19\n",
       "3  id27763  love spring look windsor terrac sixteen fertil...    MWS      21\n",
       "4  id12958  find noth els even gold superintend abandon at...    HPL      16\n",
       "5  id22965  youth pass solitud best year spent gentl femin...    MWS      40\n",
       "6  id09674  astronom perhap point took refug suggest non l...    EAP      12\n",
       "7  id13515                          surcingl hung riband bodi    EAP       4\n",
       "8  id19322  knew could say stereotomi without brought thin...    EAP      42\n",
       "9  id00912  confess neither structur languag code govern p...    MWS      11"
      ]
     },
     "execution_count": 17,
     "metadata": {},
     "output_type": "execute_result"
    }
   ],
   "source": [
    "train_data['length'] = train_data['text'].apply(find_length)\n",
    "train_data.head(10)"
   ]
  },
  {
   "cell_type": "code",
   "execution_count": 18,
   "metadata": {
    "_uuid": "de4c743304f93c1542b970867cdbc0e69767e989"
   },
   "outputs": [
    {
     "data": {
      "text/html": [
       "<div>\n",
       "<style scoped>\n",
       "    .dataframe tbody tr th:only-of-type {\n",
       "        vertical-align: middle;\n",
       "    }\n",
       "\n",
       "    .dataframe tbody tr th {\n",
       "        vertical-align: top;\n",
       "    }\n",
       "\n",
       "    .dataframe thead th {\n",
       "        text-align: right;\n",
       "    }\n",
       "</style>\n",
       "<table border=\"1\" class=\"dataframe\">\n",
       "  <thead>\n",
       "    <tr style=\"text-align: right;\">\n",
       "      <th></th>\n",
       "      <th>id</th>\n",
       "      <th>text</th>\n",
       "      <th>length</th>\n",
       "    </tr>\n",
       "  </thead>\n",
       "  <tbody>\n",
       "    <tr>\n",
       "      <th>0</th>\n",
       "      <td>id02310</td>\n",
       "      <td>still urg leav ireland inquietud impati father...</td>\n",
       "      <td>10</td>\n",
       "    </tr>\n",
       "    <tr>\n",
       "      <th>1</th>\n",
       "      <td>id24541</td>\n",
       "      <td>fire want fan could readili fan newspap govern...</td>\n",
       "      <td>28</td>\n",
       "    </tr>\n",
       "    <tr>\n",
       "      <th>2</th>\n",
       "      <td>id00134</td>\n",
       "      <td>broken frail door found two clean pick human s...</td>\n",
       "      <td>17</td>\n",
       "    </tr>\n",
       "    <tr>\n",
       "      <th>3</th>\n",
       "      <td>id27757</td>\n",
       "      <td>think possibl manag without one actual tumbl h...</td>\n",
       "      <td>20</td>\n",
       "    </tr>\n",
       "    <tr>\n",
       "      <th>4</th>\n",
       "      <td>id04081</td>\n",
       "      <td>sure limit knowledg may extend</td>\n",
       "      <td>5</td>\n",
       "    </tr>\n",
       "    <tr>\n",
       "      <th>5</th>\n",
       "      <td>id27337</td>\n",
       "      <td>thick peculiar mist smoke distinguish indian s...</td>\n",
       "      <td>17</td>\n",
       "    </tr>\n",
       "    <tr>\n",
       "      <th>6</th>\n",
       "      <td>id24265</td>\n",
       "      <td>matter unless qualiti thing</td>\n",
       "      <td>4</td>\n",
       "    </tr>\n",
       "    <tr>\n",
       "      <th>7</th>\n",
       "      <td>id25917</td>\n",
       "      <td>sought repos although hope forget knew pursu d...</td>\n",
       "      <td>12</td>\n",
       "    </tr>\n",
       "    <tr>\n",
       "      <th>8</th>\n",
       "      <td>id04951</td>\n",
       "      <td>upon fourth day assassin parti polic came unex...</td>\n",
       "      <td>14</td>\n",
       "    </tr>\n",
       "    <tr>\n",
       "      <th>9</th>\n",
       "      <td>id14549</td>\n",
       "      <td>tone metaphys also good one</td>\n",
       "      <td>5</td>\n",
       "    </tr>\n",
       "  </tbody>\n",
       "</table>\n",
       "</div>"
      ],
      "text/plain": [
       "        id                                               text  length\n",
       "0  id02310  still urg leav ireland inquietud impati father...      10\n",
       "1  id24541  fire want fan could readili fan newspap govern...      28\n",
       "2  id00134  broken frail door found two clean pick human s...      17\n",
       "3  id27757  think possibl manag without one actual tumbl h...      20\n",
       "4  id04081                     sure limit knowledg may extend       5\n",
       "5  id27337  thick peculiar mist smoke distinguish indian s...      17\n",
       "6  id24265                        matter unless qualiti thing       4\n",
       "7  id25917  sought repos although hope forget knew pursu d...      12\n",
       "8  id04951  upon fourth day assassin parti polic came unex...      14\n",
       "9  id14549                        tone metaphys also good one       5"
      ]
     },
     "execution_count": 18,
     "metadata": {},
     "output_type": "execute_result"
    }
   ],
   "source": [
    "test_data['length'] = test_data['text'].apply(find_length)\n",
    "test_data.head(10)"
   ]
  },
  {
   "cell_type": "code",
   "execution_count": 19,
   "metadata": {
    "_uuid": "f2e303c3c6024410c3619848cc0d7bf0ea30561a"
   },
   "outputs": [
    {
     "data": {
      "text/html": [
       "<div>\n",
       "<style scoped>\n",
       "    .dataframe tbody tr th:only-of-type {\n",
       "        vertical-align: middle;\n",
       "    }\n",
       "\n",
       "    .dataframe tbody tr th {\n",
       "        vertical-align: top;\n",
       "    }\n",
       "\n",
       "    .dataframe thead th {\n",
       "        text-align: right;\n",
       "    }\n",
       "</style>\n",
       "<table border=\"1\" class=\"dataframe\">\n",
       "  <thead>\n",
       "    <tr style=\"text-align: right;\">\n",
       "      <th></th>\n",
       "      <th>id</th>\n",
       "      <th>text</th>\n",
       "      <th>author</th>\n",
       "      <th>length</th>\n",
       "      <th>EAP</th>\n",
       "      <th>HPL</th>\n",
       "      <th>MWS</th>\n",
       "    </tr>\n",
       "  </thead>\n",
       "  <tbody>\n",
       "    <tr>\n",
       "      <th>0</th>\n",
       "      <td>id26305</td>\n",
       "      <td>process howev afford mean ascertain dimens dun...</td>\n",
       "      <td>EAP</td>\n",
       "      <td>21</td>\n",
       "      <td>1</td>\n",
       "      <td>0</td>\n",
       "      <td>0</td>\n",
       "    </tr>\n",
       "    <tr>\n",
       "      <th>1</th>\n",
       "      <td>id17569</td>\n",
       "      <td>never occur fumbl might mere mistak</td>\n",
       "      <td>HPL</td>\n",
       "      <td>6</td>\n",
       "      <td>0</td>\n",
       "      <td>1</td>\n",
       "      <td>0</td>\n",
       "    </tr>\n",
       "    <tr>\n",
       "      <th>2</th>\n",
       "      <td>id11008</td>\n",
       "      <td>left hand gold snuff box caper hill cut manner...</td>\n",
       "      <td>EAP</td>\n",
       "      <td>19</td>\n",
       "      <td>1</td>\n",
       "      <td>0</td>\n",
       "      <td>0</td>\n",
       "    </tr>\n",
       "    <tr>\n",
       "      <th>3</th>\n",
       "      <td>id27763</td>\n",
       "      <td>love spring look windsor terrac sixteen fertil...</td>\n",
       "      <td>MWS</td>\n",
       "      <td>21</td>\n",
       "      <td>0</td>\n",
       "      <td>0</td>\n",
       "      <td>1</td>\n",
       "    </tr>\n",
       "    <tr>\n",
       "      <th>4</th>\n",
       "      <td>id12958</td>\n",
       "      <td>find noth els even gold superintend abandon at...</td>\n",
       "      <td>HPL</td>\n",
       "      <td>16</td>\n",
       "      <td>0</td>\n",
       "      <td>1</td>\n",
       "      <td>0</td>\n",
       "    </tr>\n",
       "    <tr>\n",
       "      <th>5</th>\n",
       "      <td>id22965</td>\n",
       "      <td>youth pass solitud best year spent gentl femin...</td>\n",
       "      <td>MWS</td>\n",
       "      <td>40</td>\n",
       "      <td>0</td>\n",
       "      <td>0</td>\n",
       "      <td>1</td>\n",
       "    </tr>\n",
       "    <tr>\n",
       "      <th>6</th>\n",
       "      <td>id09674</td>\n",
       "      <td>astronom perhap point took refug suggest non l...</td>\n",
       "      <td>EAP</td>\n",
       "      <td>12</td>\n",
       "      <td>1</td>\n",
       "      <td>0</td>\n",
       "      <td>0</td>\n",
       "    </tr>\n",
       "    <tr>\n",
       "      <th>7</th>\n",
       "      <td>id13515</td>\n",
       "      <td>surcingl hung riband bodi</td>\n",
       "      <td>EAP</td>\n",
       "      <td>4</td>\n",
       "      <td>1</td>\n",
       "      <td>0</td>\n",
       "      <td>0</td>\n",
       "    </tr>\n",
       "    <tr>\n",
       "      <th>8</th>\n",
       "      <td>id19322</td>\n",
       "      <td>knew could say stereotomi without brought thin...</td>\n",
       "      <td>EAP</td>\n",
       "      <td>42</td>\n",
       "      <td>1</td>\n",
       "      <td>0</td>\n",
       "      <td>0</td>\n",
       "    </tr>\n",
       "    <tr>\n",
       "      <th>9</th>\n",
       "      <td>id00912</td>\n",
       "      <td>confess neither structur languag code govern p...</td>\n",
       "      <td>MWS</td>\n",
       "      <td>11</td>\n",
       "      <td>0</td>\n",
       "      <td>0</td>\n",
       "      <td>1</td>\n",
       "    </tr>\n",
       "  </tbody>\n",
       "</table>\n",
       "</div>"
      ],
      "text/plain": [
       "        id                                               text author  length  \\\n",
       "0  id26305  process howev afford mean ascertain dimens dun...    EAP      21   \n",
       "1  id17569                never occur fumbl might mere mistak    HPL       6   \n",
       "2  id11008  left hand gold snuff box caper hill cut manner...    EAP      19   \n",
       "3  id27763  love spring look windsor terrac sixteen fertil...    MWS      21   \n",
       "4  id12958  find noth els even gold superintend abandon at...    HPL      16   \n",
       "5  id22965  youth pass solitud best year spent gentl femin...    MWS      40   \n",
       "6  id09674  astronom perhap point took refug suggest non l...    EAP      12   \n",
       "7  id13515                          surcingl hung riband bodi    EAP       4   \n",
       "8  id19322  knew could say stereotomi without brought thin...    EAP      42   \n",
       "9  id00912  confess neither structur languag code govern p...    MWS      11   \n",
       "\n",
       "   EAP  HPL  MWS  \n",
       "0    1    0    0  \n",
       "1    0    1    0  \n",
       "2    1    0    0  \n",
       "3    0    0    1  \n",
       "4    0    1    0  \n",
       "5    0    0    1  \n",
       "6    1    0    0  \n",
       "7    1    0    0  \n",
       "8    1    0    0  \n",
       "9    0    0    1  "
      ]
     },
     "execution_count": 19,
     "metadata": {},
     "output_type": "execute_result"
    }
   ],
   "source": [
    "train_data = pd.concat([train_data, pd.get_dummies(train_data['author'])], axis=1)\n",
    "train_data.drop(\"author\", axis = 1)\n",
    "train_data.head(10)"
   ]
  },
  {
   "cell_type": "code",
   "execution_count": 20,
   "metadata": {},
   "outputs": [
    {
     "name": "stderr",
     "output_type": "stream",
     "text": [
      "/home/rahmanitrat/anaconda3/envs/deep_learning/lib/python3.6/site-packages/ipykernel_launcher.py:2: UserWarning: Boolean Series key will be reindexed to match DataFrame index.\n",
      "  \n"
     ]
    }
   ],
   "source": [
    "train_data = train_data[~train_data['text'].isnull()]\n",
    "test_data = test_data[~train_data['text'].isnull()]"
   ]
  },
  {
   "cell_type": "code",
   "execution_count": 21,
   "metadata": {
    "_uuid": "3c03f58f03182020e3f0ce7456e3393e9641312d"
   },
   "outputs": [],
   "source": [
    "train_data.to_csv(input_dir+\"modified_train_data.csv\",header=True, index=False)\n",
    "test_data.to_csv(input_dir+\"modified_test_data.csv\",header=True, index=False)"
   ]
  },
  {
   "cell_type": "code",
   "execution_count": 22,
   "metadata": {
    "_uuid": "d75707e6feff7af23053d21963b542a7ac64489c"
   },
   "outputs": [
    {
     "name": "stdout",
     "output_type": "stream",
     "text": [
      "Shape of all comments: (27971,)\n"
     ]
    }
   ],
   "source": [
    "train_comment = train_data[\"text\"].values\n",
    "test_comment = test_data[\"text\"].values\n",
    "all_comments = np.concatenate((train_comment, test_comment), axis = 0)\n",
    "print(\"Shape of all comments:\",all_comments.shape)\n",
    "del(train_comment, test_comment)\n",
    "all_comments = all_comments.tolist()"
   ]
  },
  {
   "cell_type": "code",
   "execution_count": 23,
   "metadata": {
    "_uuid": "f11405b6d06ac156d1f830f9f0935aabf76ea0b3"
   },
   "outputs": [],
   "source": [
    "sentences = []\n",
    "for comment in all_comments:\n",
    "    comment = str(comment)\n",
    "    sentences.append(comment.split())\n",
    "del(all_comments)"
   ]
  },
  {
   "cell_type": "code",
   "execution_count": 24,
   "metadata": {
    "_uuid": "3901a9226175d7455d51ea2ba6885226b0b6f3ab"
   },
   "outputs": [
    {
     "name": "stdout",
     "output_type": "stream",
     "text": [
      "Finished creating word2vec model. Time needed: 12.095027685165405 sec\n"
     ]
    }
   ],
   "source": [
    "t = time.time()\n",
    "size = 300\n",
    "window = 20\n",
    "model = Word2Vec(sentences, sg = 1, size=size, window=window, workers=16, min_count=1, iter=10)\n",
    "print(\"Finished creating word2vec model.\", \"Time needed:\", time.time()-t,\"sec\")"
   ]
  },
  {
   "cell_type": "code",
   "execution_count": 25,
   "metadata": {
    "_uuid": "b5fb1cd7750d1b29040cd69d33505953ee5ca7d0"
   },
   "outputs": [],
   "source": [
    "fname = \"word2vec_model\"\n",
    "model.wv.save_word2vec_format(word2vec_model_dir+fname)"
   ]
  },
  {
   "cell_type": "code",
   "execution_count": 26,
   "metadata": {
    "_uuid": "340564c619c48283a7520f109ca475f0079d4c99"
   },
   "outputs": [],
   "source": [
    "data = {\"size\": size, \"window\":window}\n",
    "with open(word2vec_model_dir+'data.json', 'w') as outfile:\n",
    "    json.dump(data, outfile)"
   ]
  }
 ],
 "metadata": {
  "kernelspec": {
   "display_name": "Python 3",
   "language": "python",
   "name": "python3"
  },
  "language_info": {
   "codemirror_mode": {
    "name": "ipython",
    "version": 3
   },
   "file_extension": ".py",
   "mimetype": "text/x-python",
   "name": "python",
   "nbconvert_exporter": "python",
   "pygments_lexer": "ipython3",
   "version": "3.6.8"
  }
 },
 "nbformat": 4,
 "nbformat_minor": 1
}
