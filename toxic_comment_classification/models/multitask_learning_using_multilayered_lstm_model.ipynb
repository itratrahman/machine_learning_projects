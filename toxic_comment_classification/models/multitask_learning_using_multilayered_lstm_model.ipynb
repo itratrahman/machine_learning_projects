{
 "cells": [
  {
   "cell_type": "markdown",
   "metadata": {},
   "source": [
    "# MULTITASK LEARNING USING MULTILAYERED LSTM MODEL"
   ]
  },
  {
   "cell_type": "markdown",
   "metadata": {},
   "source": [
    "## 1. Import statements"
   ]
  },
  {
   "cell_type": "markdown",
   "metadata": {},
   "source": [
    "**Import necessary packages and modules**"
   ]
  },
  {
   "cell_type": "code",
   "execution_count": 1,
   "metadata": {
    "_cell_guid": "b1076dfc-b9ad-4769-8c92-a6c4dae69d19",
    "_uuid": "8f2839f25d086af736a60e9eeb907d3b93b6e0e5"
   },
   "outputs": [],
   "source": [
    "import os\n",
    "import time\n",
    "import random\n",
    "import math\n",
    "import json\n",
    "import pandas as pd\n",
    "import numpy as np\n",
    "import tensorflow as tf\n",
    "import progressbar\n",
    "tf.reset_default_graph()\n",
    "import matplotlib\n",
    "from matplotlib import pyplot as plt\n",
    "%matplotlib inline"
   ]
  },
  {
   "cell_type": "markdown",
   "metadata": {},
   "source": [
    "**Import gensim**"
   ]
  },
  {
   "cell_type": "code",
   "execution_count": 2,
   "metadata": {
    "_cell_guid": "79c7e3d0-c299-4dcb-8224-4455121ee9b0",
    "_uuid": "d629ff2d2480ee46fbb7e2d37f6b5fab8052498a"
   },
   "outputs": [],
   "source": [
    "from gensim.models.word2vec import Word2VecKeyedVectors"
   ]
  },
  {
   "cell_type": "markdown",
   "metadata": {},
   "source": [
    "**Set the random seed of numpy and tensorflow**"
   ]
  },
  {
   "cell_type": "code",
   "execution_count": 3,
   "metadata": {
    "_uuid": "6247db9834239f1e2c0cc8bdf56762b0206a1c28"
   },
   "outputs": [
    {
     "name": "stdout",
     "output_type": "stream",
     "text": [
      "numpy random seed:  95\n",
      "tensorflow random seed:  63\n"
     ]
    }
   ],
   "source": [
    "# np_rand_seed = random.randint(0,100)\n",
    "# tf_rand_seed = random.randint(0,100)\n",
    "np_rand_seed = 95\n",
    "tf_rand_seed = 63\n",
    "np.random.seed(np_rand_seed)\n",
    "tf.set_random_seed(tf_rand_seed)\n",
    "print(\"numpy random seed: \",np_rand_seed)\n",
    "print(\"tensorflow random seed: \", tf_rand_seed)"
   ]
  },
  {
   "cell_type": "markdown",
   "metadata": {},
   "source": [
    "## 2. Load train data, test data, and gensim word2vec model"
   ]
  },
  {
   "cell_type": "markdown",
   "metadata": {},
   "source": [
    "**Set some directories**"
   ]
  },
  {
   "cell_type": "code",
   "execution_count": 4,
   "metadata": {
    "_uuid": "a3ebe66bf909b734a9220e26c1046012f409e479"
   },
   "outputs": [],
   "source": [
    "input_dir = \"../input/\"\n",
    "word2vec_dir = \"./word2vec_models/\"\n",
    "model_dir = \"./model_files/\"\n",
    "submission_dir = \"./submission_dir/\""
   ]
  },
  {
   "cell_type": "markdown",
   "metadata": {},
   "source": [
    "**Load the cleaned train and test data**"
   ]
  },
  {
   "cell_type": "code",
   "execution_count": 5,
   "metadata": {
    "_uuid": "59e0f165e7bd2c366df2668d7317f0c93e865719"
   },
   "outputs": [],
   "source": [
    "data = pd.read_csv(input_dir+'modified_train_data.csv') \n",
    "data = data.sample(frac=1,  random_state = np.random.seed()).reset_index(drop=True)\n",
    "test_data = pd.read_csv(input_dir+'modified_test_data.csv')"
   ]
  },
  {
   "cell_type": "markdown",
   "metadata": {},
   "source": [
    "**Extract test ids**"
   ]
  },
  {
   "cell_type": "code",
   "execution_count": 6,
   "metadata": {
    "_uuid": "d6fbb655383c09093859a8ae9f2441b0957e46f2"
   },
   "outputs": [],
   "source": [
    "test_ids = test_data.id.values"
   ]
  },
  {
   "cell_type": "markdown",
   "metadata": {},
   "source": [
    "**Load metadata of word2vec model**"
   ]
  },
  {
   "cell_type": "code",
   "execution_count": 7,
   "metadata": {
    "_uuid": "a617085658c085a3e493bcd15231252cf43db0cb"
   },
   "outputs": [],
   "source": [
    "metadata= json.loads(open(word2vec_dir+\"data.json\").read())\n",
    "size = metadata['size']"
   ]
  },
  {
   "cell_type": "markdown",
   "metadata": {},
   "source": [
    "**Load the gensim word2vec model**"
   ]
  },
  {
   "cell_type": "code",
   "execution_count": 8,
   "metadata": {
    "_uuid": "1295ef3613da91234580de96291280c26d814257"
   },
   "outputs": [],
   "source": [
    "fname = \"word2vec_model.mdl\"\n",
    "model = Word2VecKeyedVectors.load_word2vec_format(word2vec_dir+fname)"
   ]
  },
  {
   "cell_type": "markdown",
   "metadata": {},
   "source": [
    "## 3. Undersample clean comments"
   ]
  },
  {
   "cell_type": "code",
   "execution_count": 9,
   "metadata": {},
   "outputs": [
    {
     "name": "stdout",
     "output_type": "stream",
     "text": [
      "Number of training points before undersampling: 159571\n",
      "Number of clean data before undersampling: 143346\n"
     ]
    }
   ],
   "source": [
    "query_clean = 'toxic==0 and severe_toxic==0 and obscene==0 and threat==0 and insult==0 and identity_hate==0'\n",
    "print(\"Number of training points before undersampling:\", data.shape[0])\n",
    "print(\"Number of clean data before undersampling:\",data.query(query_clean).shape[0])"
   ]
  },
  {
   "cell_type": "markdown",
   "metadata": {},
   "source": [
    "**Bar chart of representation of toxic comments along with clean comments before undersampling**"
   ]
  },
  {
   "cell_type": "code",
   "execution_count": 10,
   "metadata": {},
   "outputs": [
    {
     "data": {
      "image/png": "[encoded data removed]",
      "text/plain": [
       "<Figure size 640x320 with 1 Axes>"
      ]
     },
     "metadata": {},
     "output_type": "display_data"
    }
   ],
   "source": [
    "numbers = [data.query('toxic==1').shape[0], data.query('severe_toxic==1').shape[0],\n",
    "           data.query('obscene==1').shape[0], data.query('threat==1').shape[0],\n",
    "           data.query('insult==1').shape[0], data.query('identity_hate==1').shape[0],\n",
    "           data.query(query_clean).shape[0]]\n",
    "\n",
    "plt.figure(figsize=(8, 4), dpi= 80, facecolor='w', edgecolor='k')\n",
    "plt.bar(np.arange(len(numbers)), numbers, align='center', alpha=0.5)\n",
    "plt.xticks(np.arange(len(numbers)),\\\n",
    "           ['toxic', 'severe_toxic', 'obscene', 'threat', 'insult', 'identity_hate', 'clean'])\n",
    "plt.ylabel('Numbers')\n",
    "plt.title('Comments')\n",
    "plt.grid()\n",
    "plt.show()"
   ]
  },
  {
   "cell_type": "markdown",
   "metadata": {},
   "source": [
    "**Undersample clean comments**"
   ]
  },
  {
   "cell_type": "code",
   "execution_count": 11,
   "metadata": {},
   "outputs": [],
   "source": [
    "clean_index = data.query(query_clean).index\n",
    "number_of_clean_comments = int(0.15*len(clean_index))\n",
    "unwanted_index = np.random.choice(clean_index, replace=False,size=len(clean_index)-number_of_clean_comments).tolist()\n",
    "data = data.drop(unwanted_index).reset_index(drop=True)"
   ]
  },
  {
   "cell_type": "code",
   "execution_count": 12,
   "metadata": {},
   "outputs": [
    {
     "name": "stdout",
     "output_type": "stream",
     "text": [
      "Number of training points after undersampling: 37726\n"
     ]
    }
   ],
   "source": [
    "print(\"Number of training points after undersampling:\", data.shape[0])"
   ]
  },
  {
   "cell_type": "markdown",
   "metadata": {},
   "source": [
    "**Bar chart of representation of toxic comments along with clean comments after undersampling**"
   ]
  },
  {
   "cell_type": "code",
   "execution_count": 13,
   "metadata": {},
   "outputs": [
    {
     "data": {
      "image/png": "[encoded data removed]",
      "text/plain": [
       "<Figure size 640x320 with 1 Axes>"
      ]
     },
     "metadata": {},
     "output_type": "display_data"
    }
   ],
   "source": [
    "numbers = [data.query('toxic==1').shape[0], data.query('severe_toxic==1').shape[0],\n",
    "           data.query('obscene==1').shape[0], data.query('threat==1').shape[0],\n",
    "           data.query('insult==1').shape[0], data.query('identity_hate==1').shape[0],\n",
    "           data.query(query_clean).shape[0]]\n",
    "\n",
    "plt.figure(figsize=(8, 4), dpi= 80, facecolor='w', edgecolor='k')\n",
    "plt.bar(np.arange(len(numbers)), numbers, align='center', alpha=0.5)\n",
    "plt.xticks(np.arange(len(numbers)),\\\n",
    "           ['toxic', 'severe_toxic', 'obscene', 'threat', 'insult', 'identity_hate', 'clean'])\n",
    "plt.ylabel('Numbers')\n",
    "plt.title('Comments')\n",
    "plt.grid()\n",
    "plt.show()"
   ]
  },
  {
   "cell_type": "markdown",
   "metadata": {},
   "source": [
    "## 4. Inspect the distribution of #words in the sentences"
   ]
  },
  {
   "cell_type": "markdown",
   "metadata": {},
   "source": [
    "**Distribution of #words in train data**"
   ]
  },
  {
   "cell_type": "code",
   "execution_count": 14,
   "metadata": {
    "_uuid": "5a11ae92af4281d2e9665247c76e8d89d9a20936"
   },
   "outputs": [
    {
     "data": {
      "image/png": "[encoded data removed]",
      "text/plain": [
       "<Figure size 1152x576 with 1 Axes>"
      ]
     },
     "metadata": {
      "needs_background": "light"
     },
     "output_type": "display_data"
    }
   ],
   "source": [
    "data.hist(\"length\", bins=500, figsize=(16,8))\n",
    "plt.title(\"Train data\")\n",
    "plt.xlabel(\"#words\")\n",
    "plt.xlim(0,300)\n",
    "plt.show()"
   ]
  },
  {
   "cell_type": "markdown",
   "metadata": {},
   "source": [
    "**Distribution of #words in test data**"
   ]
  },
  {
   "cell_type": "code",
   "execution_count": 15,
   "metadata": {
    "_uuid": "0ed26ab5e7a055bb73b104509f82de585cd9c6fc"
   },
   "outputs": [
    {
     "data": {
      "image/png": "[encoded data removed]",
      "text/plain": [
       "<Figure size 1152x576 with 1 Axes>"
      ]
     },
     "metadata": {
      "needs_background": "light"
     },
     "output_type": "display_data"
    }
   ],
   "source": [
    "test_data.hist(\"length\", bins=500, figsize=(16,8))\n",
    "plt.title(\"Test data\")\n",
    "plt.xlabel(\"#words\")\n",
    "plt.xlim(0,300)\n",
    "plt.show()"
   ]
  },
  {
   "cell_type": "markdown",
   "metadata": {},
   "source": [
    "**Distribution of #words in all data**"
   ]
  },
  {
   "cell_type": "code",
   "execution_count": 16,
   "metadata": {
    "_uuid": "9d3b3c78d6e4176b187df504ac26444d4f893687"
   },
   "outputs": [
    {
     "data": {
      "image/png": "[encoded data removed]",
      "text/plain": [
       "<Figure size 1152x576 with 1 Axes>"
      ]
     },
     "metadata": {
      "needs_background": "light"
     },
     "output_type": "display_data"
    }
   ],
   "source": [
    "all_length = pd.concat([data['length'], test_data['length']])\n",
    "all_length.hist(bins=500, figsize=(16,8))\n",
    "plt.title(\"All data\")\n",
    "plt.xlim(0,300)\n",
    "plt.xlabel(\"#words\")\n",
    "plt.show()\n",
    "del(all_length)"
   ]
  },
  {
   "cell_type": "markdown",
   "metadata": {},
   "source": [
    "**Split the training set into train and validation set**"
   ]
  },
  {
   "cell_type": "code",
   "execution_count": 17,
   "metadata": {
    "_uuid": "4966d655bcdda4f6a481769aa3e8b34db4fd4d20"
   },
   "outputs": [],
   "source": [
    "if \"train_data.csv\" not in os.listdir(input_dir):\n",
    "    train_data = data.head()\n",
    "    train_data.to_csv(input_dir+\"train_data.csv\",header=True, index=False)\n",
    "    del(train_data)\n",
    "valid_size = len(data)-int(len(data)*0.90)\n",
    "if \"valid_data.csv\" not in os.listdir(input_dir):\n",
    "    valid_data = data.tail(valid_size)\n",
    "    valid_data.to_csv(input_dir+\"valid_data.csv\",header=True, index=False)\n",
    "    del(valid_data)\n",
    "del(data)"
   ]
  },
  {
   "cell_type": "markdown",
   "metadata": {},
   "source": [
    "## 5. Input functions"
   ]
  },
  {
   "cell_type": "markdown",
   "metadata": {},
   "source": [
    "**A function to generate sequence of embeddings for the text columns**"
   ]
  },
  {
   "cell_type": "code",
   "execution_count": 18,
   "metadata": {
    "_uuid": "b237272c9febbc1b1084ba3e5f285913eaa0476a"
   },
   "outputs": [],
   "source": [
    "def sequence_generator(comments, max_length, size):\n",
    "    \"\"\"\n",
    "    A function to generate sequence of embeddings for the text columns\n",
    "    \"\"\"    \n",
    "    sentences = []\n",
    "    for comment in comments.tolist():\n",
    "        sentences.append(str(comment).split())\n",
    "        \n",
    "    sequences = []\n",
    "    for sentence in sentences:\n",
    "        if len(sentence)>0:\n",
    "            if len(sentence)<max_length:\n",
    "                sequence = model[sentence]\n",
    "                tail = np.zeros((max_length - len(sentence), size))\n",
    "                sequence = np.concatenate((sequence, tail))\n",
    "            else:\n",
    "                sequence = model[sentence[:max_length]]\n",
    "        else:\n",
    "            sequence = np.zeros((max_length, size))        \n",
    "        sequences.append(sequence)\n",
    "    sequences = np.array(sequences)\n",
    "    \n",
    "    return sequences"
   ]
  },
  {
   "cell_type": "markdown",
   "metadata": {},
   "source": [
    "**A function to generate batch of embeddings sequence, sequence length, and sentiments**"
   ]
  },
  {
   "cell_type": "code",
   "execution_count": 19,
   "metadata": {
    "_uuid": "835f7019b229f9c0d628b61663cdea87e91033ff"
   },
   "outputs": [],
   "source": [
    "def generate_batch(reader, csv_path, batch_size, max_length, size, train_set=True):\n",
    "    \"\"\"\n",
    "    A function to generate batch of embeddings sequence, sequence length, and sentiments\n",
    "    \"\"\"\n",
    "    # read batch\n",
    "    try:\n",
    "        batch = reader.get_chunk()\n",
    "    except:\n",
    "        \n",
    "        reader = pd.read_csv(csv_path, chunksize=batch_size)\n",
    "        batch = reader.get_chunk()\n",
    "    \n",
    "    # extract columns of comments and sequence lengths\n",
    "    comments_batch = batch[\"comment_text\"].values\n",
    "    seq_length_batch = batch[\"length\"].values\n",
    "    # if it is train set then extract the columns of sentiments\n",
    "    if train_set:\n",
    "        sentiments_batch = batch[[\"toxic\",\"severe_toxic\",\"obscene\",\"threat\",\"insult\",\"identity_hate\"]].values\n",
    "    # generate sequence of embeddings for the comments columns\n",
    "    sequences_batch = sequence_generator(comments_batch, max_length, size)\n",
    "    \n",
    "    if train_set:\n",
    "        return sequences_batch, seq_length_batch, sentiments_batch\n",
    "    else:\n",
    "        return sequences_batch, seq_length_batch"
   ]
  },
  {
   "cell_type": "markdown",
   "metadata": {},
   "source": [
    "## 6. Class module of multilayer lstm model"
   ]
  },
  {
   "cell_type": "code",
   "execution_count": 20,
   "metadata": {
    "_uuid": "1f214537e189dd3eeb9b6aa1389e9f9e532d02e3"
   },
   "outputs": [],
   "source": [
    "class multilayer_lstm_model(object):\n",
    "    \"\"\"\n",
    "    Multilayer lstm model\n",
    "    \"\"\"    \n",
    "    def __init__(self, n_steps, n_inputs, n_outputs, n_layers, \n",
    "                 n_neurons, dense_layers, learning_rate, device, tf_seed, np_seed):\n",
    "        \"\"\"\n",
    "        Class constuctor which intializes the parameters, placeholders, and operations of the model\n",
    "        \"\"\"\n",
    "        \n",
    "        # parameters of lstm model\n",
    "        self.n_steps = n_steps\n",
    "        self.n_inputs = n_inputs\n",
    "        self.n_outputs = n_outputs\n",
    "        self.n_layers = n_layers\n",
    "        self.n_neurons = n_neurons\n",
    "        self.dense_layers = dense_layers\n",
    "        self.learning_rate = learning_rate\n",
    "        self.device = device\n",
    "        self.tf_seed = tf_seed\n",
    "        self.np_seed = np_seed    \n",
    "        \n",
    "        # placeholders and operations\n",
    "        self.X = None\n",
    "        self.Y = None\n",
    "        self.Length = None\n",
    "        self.keep_prob = None\n",
    "        self.logits = None\n",
    "        self.cost = None\n",
    "        self.roc = None\n",
    "        self.train_step = None\n",
    "        \n",
    "        # create model\n",
    "        self.X, self.Y, self.Length, self.keep_prob, \\\n",
    "        self.logits, self.cost, self.roc, self.train_step = self.create_model()\n",
    "        \n",
    "        self.saver = None\n",
    "        self.train_cost = None\n",
    "        self.valid_cost = None\n",
    "        self.valid_roc = None\n",
    "        self.best_roc = None\n",
    "        self.best_iteration = None\n",
    "        self.best_time = None\n",
    "        self.log_of_computation_time = []\n",
    "        \n",
    "        \n",
    "    def create_model(self):\n",
    "        \"\"\"\n",
    "        A method to create the multilayer lstm model\n",
    "        \"\"\"\n",
    "        # placeholder to store the input of the model\n",
    "        X = tf.placeholder(tf.float32, [None, self.n_steps, self.n_inputs])\n",
    "        # placeholder to store the output of the model\n",
    "        Y = tf.placeholder(tf.float32, [None, self.n_outputs])\n",
    "        # placeholder to store the lengths of the sequences\n",
    "        Length = tf.placeholder(tf.int32, [None])\n",
    "        # keep probability for dropout\n",
    "        keep_prob = tf.placeholder(tf.float32)\n",
    "        \n",
    "        # n layer of lstm cells\n",
    "        lstm_cells = [tf.nn.rnn_cell.LSTMCell(num_units=self.n_neurons) \n",
    "                      for layer in range(self.n_layers)]\n",
    "        # dropout applied to layers of lstm\n",
    "        lstm_cells_drop = [tf.nn.rnn_cell.DropoutWrapper(cell, input_keep_prob=keep_prob)\n",
    "                           for cell in lstm_cells]\n",
    "        # mount lstm cells on gpu\n",
    "        cells_across_gpu = [tf.nn.rnn_cell.DeviceWrapper(cell,self.device) \n",
    "                            for cell in lstm_cells_drop]\n",
    "        # create a multilayer layer lstm cell\n",
    "        multi_cell = tf.nn.rnn_cell.MultiRNNCell(cells_across_gpu)\n",
    "        # output and states of lstm\n",
    "        outputs, states = tf.nn.dynamic_rnn(multi_cell, X, dtype=tf.float32, sequence_length=Length)\n",
    "        # extract the top layer h state\n",
    "        top_layer_h_state = states[-1][1]\n",
    "        \n",
    "        # iterate and create the dense layer\n",
    "        for n, dense_layer in enumerate(self.dense_layers):\n",
    "            # first dense layer (with dropout)\n",
    "            if n == 0:\n",
    "                with tf.device(self.device):\n",
    "                    dense = tf.layers.dense(top_layer_h_state, dense_layer,\n",
    "                                            kernel_initializer=tf.variance_scaling_initializer(),\n",
    "                                            activation=tf.nn.elu)\n",
    "                    dense = tf.nn.dropout(dense, keep_prob=keep_prob)\n",
    "             # last dense layer (without dropout)\n",
    "            elif n == len(self.dense_layers)-1:\n",
    "                with tf.device(self.device):\n",
    "                    dense = tf.layers.dense(dense, dense_layer,\n",
    "                                            kernel_initializer=tf.variance_scaling_initializer())\n",
    "            # middle dense layers (with droput)\n",
    "            else:\n",
    "                with tf.device(self.device):\n",
    "                    dense = tf.layers.dense(dense, dense_layer, \n",
    "                                            kernel_initializer=tf.variance_scaling_initializer(),\n",
    "                                            activation=tf.nn.elu)\n",
    "                    dense = tf.nn.dropout(dense, keep_prob=keep_prob)\n",
    "                    \n",
    "        # compute logits                \n",
    "        with tf.device(self.device):\n",
    "            logits = tf.nn.sigmoid(dense)\n",
    "        # cost\n",
    "        with tf.device(self.device):\n",
    "            cost = tf.losses.sigmoid_cross_entropy(multi_class_labels=Y, logits=dense)\n",
    "            \n",
    "        roc = tf.metrics.auc(labels=Y, predictions=logits)\n",
    "        # train step\n",
    "        with tf.device(self.device):\n",
    "            train_step = tf.train.AdamOptimizer(learning_rate=self.learning_rate).minimize(cost)        \n",
    "        \n",
    "        return X, Y, Length, keep_prob, logits, cost, roc, train_step\n",
    "    \n",
    "    \n",
    "    def train_model(self, max_iter, batch_size, drop_prob,\n",
    "                    train_data_reader,valid_data_reader,train_path, valid_path,\n",
    "                    max_length, size, model_dir, model_name, generate_batch):\n",
    "        \"\"\"\n",
    "        A method to train the multilayer lstm model\n",
    "        \"\"\"        \n",
    "        # generate sequences, length, & sentimentas for validation set\n",
    "        sequences_valid, seq_length_valid, sentiments_valid = \\\n",
    "        generate_batch(valid_data_reader, valid_path, valid_data_reader.chunksize,\n",
    "                       self.n_steps, self.n_inputs)\n",
    "        # feed dict for validation\n",
    "        feed_dict_validation =  {self.X:sequences_valid,\n",
    "                                 self.Y:sentiments_valid,\n",
    "                                 self.Length:seq_length_valid,\n",
    "                                 self.keep_prob: 1.0} \n",
    "        \n",
    "        # start time\n",
    "        start_time = time.time()\n",
    "        # create a saver object\n",
    "        saver = tf.train.Saver(max_to_keep=1)\n",
    "        # lists to store the train cost, validation cost, and validation accuracy\n",
    "        train_cost = []\n",
    "        valid_cost = []\n",
    "        valid_roc = [] \n",
    "        # variables to store the best roc and best iteration\n",
    "        # and the time to reach the best roc\n",
    "        best_roc = 0.0\n",
    "        best_iteration = None\n",
    "        best_time = None\n",
    "        # path of model saver object\n",
    "        model_path = model_dir+model_name\n",
    "        \n",
    "        # create a graph session and optimize the network under it\n",
    "        with tf.Session() as sess:\n",
    "        \n",
    "            sess.run(tf.global_variables_initializer())\n",
    "            sess.run(tf.local_variables_initializer())\n",
    "            \n",
    "            # create an object of progress bar\n",
    "            bar = progressbar.ProgressBar(maxval=max_iter, widgets=[\n",
    "                '[',progressbar.Percentage(),']',\n",
    "                progressbar.Bar(),\n",
    "                '(',progressbar.DynamicMessage(\"train_cost\"),')',\n",
    "                '(',progressbar.DynamicMessage(\"valid_cost\"),')',\n",
    "                '(',progressbar.DynamicMessage(\"valid_roc\"),')',\n",
    "                '(',progressbar.DynamicMessage(\"best_valid_roc\"),')',\n",
    "                '(',progressbar.DynamicMessage(\"time_elapsed\"),'mins)'\n",
    "            ])\n",
    "            \n",
    "            # start the progress bar\n",
    "            bar.start()\n",
    "            # counter variable to track the number of iterations\n",
    "            counter = 0\n",
    "            # iterate until maximum number of iterations is reached\n",
    "            while True:\n",
    "                # break out of the inner for loop if maximum number of iterations is reached\n",
    "                if counter>=max_iter:\n",
    "                    break\n",
    "\n",
    "            \n",
    "                # generate sequences, length, & sentimentas for validation set\n",
    "                sequences_batch, seq_length_batch, sentiments_batch = \\\n",
    "                generate_batch(train_data_reader, train_path, batch_size, self.n_steps, self.n_inputs)\n",
    "                # feed dict for validation\n",
    "                feed_dict_batch =  {self.X:sequences_batch,\n",
    "                                    self.Y:sentiments_batch,\n",
    "                                    self.Length:seq_length_batch,\n",
    "                                    self.keep_prob: drop_prob} \n",
    "                # execute optimization step\n",
    "                sess.run(self.train_step, feed_dict=feed_dict_batch)\n",
    "                # calculate temporary train cost and append it to the designated list\n",
    "                temp_train_cost = self.cost.eval(session=sess, feed_dict=feed_dict_batch)\n",
    "                train_cost.append(temp_train_cost)\n",
    "                # calculate temporary validation cost and append it to the designated list\n",
    "                temp_valid_cost = self.cost.eval(session=sess, feed_dict=feed_dict_validation)\n",
    "                valid_cost.append(temp_valid_cost)\n",
    "                # calculate temporary validation accuracy and append it to the designated list\n",
    "                temp_valid_roc = sess.run(self.roc, feed_dict=feed_dict_validation)[1]\n",
    "                valid_roc.append(temp_valid_roc)\n",
    "                # compute running time from start point\n",
    "                time_diff = (time.time()-start_time)/60\n",
    "                # append elapsed time to the designated list\n",
    "                self.log_of_computation_time.append(time_diff)\n",
    "                # if valid cost is better than best recorded so far then\n",
    "                # update the parameters of the best model and save the model\n",
    "                if temp_valid_roc > best_roc:\n",
    "                    best_time = time_diff\n",
    "                    best_roc = temp_valid_roc\n",
    "                    best_iteration = counter+1\n",
    "                    saver.save(sess, model_path, global_step = best_iteration)\n",
    "\n",
    "                # update the progress bar\n",
    "                bar.update(counter+1, train_cost = temp_train_cost, \n",
    "                           valid_cost = temp_valid_cost,\n",
    "                           valid_roc = temp_valid_roc, \n",
    "                           best_valid_roc = best_roc, \n",
    "                           time_elapsed = time_diff)\n",
    "                # increment counter variable\n",
    "                counter += 1\n",
    "                \n",
    "                # store the required variables, placeholders and operations in designated class fields\n",
    "                self.saver = saver\n",
    "                self.train_cost = train_cost\n",
    "                self.valid_cost = valid_cost\n",
    "                self.valid_roc = valid_roc\n",
    "                self.best_roc = best_roc\n",
    "                self.best_iteration = best_iteration\n",
    "                self.best_time = best_time\n",
    "\n",
    "            # finish the progress bar\n",
    "            bar.finish()            \n",
    "        \n",
    "        \n",
    "    def create_predictions(self, model_path, test_data_reader, test_path, \n",
    "                           test_ids, n_folds, submission_dir, submission_file):\n",
    "        '''\n",
    "        A function to compute predictions and submission file\n",
    "        '''\n",
    "        # submission path\n",
    "        submission_path = submission_dir + submission_file\n",
    "\n",
    "        with tf.Session() as sess: \n",
    "            # set random seed of tensorflow\n",
    "            tf.set_random_seed(self.tf_seed)\n",
    "            # restore the best model\n",
    "            self.saver.restore(sess, model_path)\n",
    "            # array to store the prediction\n",
    "            preds = np.array([])\n",
    "            # create a progress bar object\n",
    "            bar = progressbar.ProgressBar(maxval=n_folds, widgets=[\n",
    "                            '[',progressbar.Percentage(),']',\n",
    "                            progressbar.Bar(),\n",
    "                            '(',progressbar.DynamicMessage(\"number_of_folds_completed\"),')'\n",
    "                        ])\n",
    "            \n",
    "            # start progress bat\n",
    "            bar.start()\n",
    "            \n",
    "            # iterate through each fold\n",
    "            for i in range(n_folds):\n",
    "                # generate sequences, length, & sentiments for test set\n",
    "                sequences_test, seq_length_test = \\\n",
    "                generate_batch(test_data_reader, test_path, test_data_reader.chunksize,\n",
    "                               self.n_steps, self.n_inputs, train_set=False)\n",
    "                # feed dict for test\n",
    "                feed_dict_test =  {self.X:sequences_test,\n",
    "                                   self.Length:seq_length_test,\n",
    "                                   self.keep_prob: 1.0} \n",
    "                # evaluate predictions of the fold\n",
    "                fold_preds = self.logits.eval(session=sess, feed_dict = feed_dict_test)\n",
    "                if i == 0:\n",
    "                    preds  = fold_preds\n",
    "                else:\n",
    "                    preds = np.append(preds, fold_preds, axis=0)\n",
    "                    \n",
    "                # update the progress bar\n",
    "                bar.update(i+1, number_of_folds_completed = i+1)\n",
    "                \n",
    "            # finish the progress bar\n",
    "            bar.finish()\n",
    "                    \n",
    "            submission_matrix = np.append(np.transpose([test_ids]), preds, axis=1)\n",
    "            columns = [\"id\",\"toxic\",\"severe_toxic\",\"obscene\",\"threat\",\"insult\",\"identity_hate\"]\n",
    "            submission = pd.DataFrame(submission_matrix, columns= columns)\n",
    "            submission.to_csv(submission_path, header = True, index=False)"
   ]
  },
  {
   "cell_type": "markdown",
   "metadata": {},
   "source": [
    "## 7. Create graph of multilayer lstm model"
   ]
  },
  {
   "cell_type": "markdown",
   "metadata": {},
   "source": [
    "**Inspect the devices of kernel**"
   ]
  },
  {
   "cell_type": "code",
   "execution_count": 21,
   "metadata": {
    "_uuid": "4390c176716c6ffa7f4123b03c49ff47c4df5e27"
   },
   "outputs": [
    {
     "name": "stdout",
     "output_type": "stream",
     "text": [
      "[name: \"/device:CPU:0\"\n",
      "device_type: \"CPU\"\n",
      "memory_limit: 268435456\n",
      "locality {\n",
      "}\n",
      "incarnation: 1752779378479130138\n",
      ", name: \"/device:GPU:0\"\n",
      "device_type: \"GPU\"\n",
      "memory_limit: 15864515789\n",
      "locality {\n",
      "  bus_id: 1\n",
      "  links {\n",
      "  }\n",
      "}\n",
      "incarnation: 17227935723219223825\n",
      "physical_device_desc: \"device: 0, name: Tesla P100-PCIE-16GB, pci bus id: 0000:00:04.0, compute capability: 6.0\"\n",
      "]\n"
     ]
    }
   ],
   "source": [
    "from tensorflow.python.client import device_lib\n",
    "devices = device_lib.list_local_devices()\n",
    "print(devices)"
   ]
  },
  {
   "cell_type": "markdown",
   "metadata": {},
   "source": [
    "**Set the device to gpu if available**"
   ]
  },
  {
   "cell_type": "code",
   "execution_count": 22,
   "metadata": {
    "_uuid": "34a91e0a4ef9a7e8b13c8f1136c33b0fff92d6b7"
   },
   "outputs": [],
   "source": [
    "if len(devices)>1:\n",
    "    device = devices[-1].name\n",
    "else:\n",
    "    device = devices[0].name"
   ]
  },
  {
   "cell_type": "markdown",
   "metadata": {},
   "source": [
    "**Reset the default graph**"
   ]
  },
  {
   "cell_type": "code",
   "execution_count": 23,
   "metadata": {
    "_uuid": "51c944acef050b7afa4ec194afff5ecb3c051cfa"
   },
   "outputs": [],
   "source": [
    "tf.reset_default_graph()"
   ]
  },
  {
   "cell_type": "markdown",
   "metadata": {},
   "source": [
    "**Create graph**"
   ]
  },
  {
   "cell_type": "code",
   "execution_count": 24,
   "metadata": {
    "_uuid": "9b02b719a2dc56e47c027e14951a511083ac6446"
   },
   "outputs": [],
   "source": [
    "n_layers = 2\n",
    "n_neurons = 128\n",
    "max_length = n_steps = 300 \n",
    "n_inputs = size\n",
    "n_outputs = 6\n",
    "dense_layers = [36, n_outputs]\n",
    "learning_rate = (1e-3)*5\n",
    "sequence_model = multilayer_lstm_model(n_steps, n_inputs, n_outputs, n_layers, \n",
    "                                      n_neurons, dense_layers, learning_rate, \n",
    "                                      device, tf_rand_seed, np_rand_seed)"
   ]
  },
  {
   "cell_type": "markdown",
   "metadata": {},
   "source": [
    "## 8. Train multilayer lstm model"
   ]
  },
  {
   "cell_type": "markdown",
   "metadata": {},
   "source": [
    "**Train model**"
   ]
  },
  {
   "cell_type": "code",
   "execution_count": 25,
   "metadata": {
    "_uuid": "8385e50289d7259d6af58b24309c6989cf3aadf4"
   },
   "outputs": [
    {
     "name": "stderr",
     "output_type": "stream",
     "text": [
      "[100%]||(train_cost: 0.0881)(valid_cost:  0.228)(valid_roc:  0.947)(best_valid_roc:  0.948)(time_elapsed:   8.86mins)\n"
     ]
    }
   ],
   "source": [
    "max_iter = 220\n",
    "batch_size = 200\n",
    "drop_prob = 0.75\n",
    "train_path = input_dir+\"train_data.csv\"\n",
    "train_data_reader = pd.read_csv(train_path, chunksize=batch_size)\n",
    "valid_path = input_dir+\"valid_data.csv\"\n",
    "valid_data_reader = pd.read_csv(valid_path, chunksize=valid_size)\n",
    "model_name = \"multilayer_lstm\" \n",
    "sequence_model.train_model(max_iter, batch_size, drop_prob, train_data_reader,valid_data_reader,train_path, valid_path,\n",
    "                          max_length, size, model_dir, model_name, generate_batch)"
   ]
  },
  {
   "cell_type": "markdown",
   "metadata": {},
   "source": [
    "**Plot of cost vs iterations**"
   ]
  },
  {
   "cell_type": "code",
   "execution_count": 26,
   "metadata": {
    "_uuid": "5ff7ff64324f1699001a118e8406869d56387bc9"
   },
   "outputs": [
    {
     "data": {
      "image/png": "[encoded data removed]",
      "text/plain": [
       "<Figure size 1280x640 with 1 Axes>"
      ]
     },
     "metadata": {},
     "output_type": "display_data"
    }
   ],
   "source": [
    "plt.figure(figsize=(16, 8), dpi= 80, facecolor='w', edgecolor='k')\n",
    "plt.plot(sequence_model.train_cost, label = 'train cost')\n",
    "plt.plot(sequence_model.valid_cost, label = 'valid cost')\n",
    "plt.xlabel('iterations', fontsize = 14)\n",
    "plt.ylabel('cost', fontsize = 14)\n",
    "plt.title(\"Cost vs Iterations\", fontsize = 20)\n",
    "plt.legend()\n",
    "plt.grid()\n",
    "plt.show()"
   ]
  },
  {
   "cell_type": "markdown",
   "metadata": {},
   "source": [
    "**Plot of roc vs iterations**"
   ]
  },
  {
   "cell_type": "code",
   "execution_count": 27,
   "metadata": {
    "_uuid": "4827bf0f0dbd7bf623aa481035858c45a17c620d"
   },
   "outputs": [
    {
     "data": {
      "image/png": "[encoded data removed]",
      "text/plain": [
       "<Figure size 1280x640 with 1 Axes>"
      ]
     },
     "metadata": {},
     "output_type": "display_data"
    }
   ],
   "source": [
    "plt.figure(figsize=(16, 8), dpi= 80, facecolor='w', edgecolor='k')\n",
    "plt.plot(sequence_model.valid_roc)\n",
    "plt.xlabel('iterations', fontsize = 14)\n",
    "plt.ylabel('validation roc', fontsize = 14)\n",
    "plt.title(\"Best roc: \"+str(sequence_model.best_roc)+\"; Best iteration: \"+str(sequence_model.best_iteration),fontsize = 18)\n",
    "plt.grid()\n",
    "plt.show()"
   ]
  },
  {
   "cell_type": "markdown",
   "metadata": {},
   "source": [
    "## 9. Create submission csv file"
   ]
  },
  {
   "cell_type": "code",
   "execution_count": 28,
   "metadata": {
    "_uuid": "dd0705816ce3f3035b64f1a935a802daed73a719"
   },
   "outputs": [
    {
     "name": "stdout",
     "output_type": "stream",
     "text": [
      "INFO:tensorflow:Restoring parameters from ./model_files/multilayer_lstm-204\n"
     ]
    },
    {
     "name": "stderr",
     "output_type": "stream",
     "text": [
      "[100%]|####################################|(number_of_folds_completed:    101)\n"
     ]
    }
   ],
   "source": [
    "test_size = len(test_ids)\n",
    "n_folds = 100\n",
    "test_batch_size = test_size//n_folds\n",
    "if test_size%n_folds != 0: n_folds +=1\n",
    "submission_file = \"submission.csv\"\n",
    "test_path = input_dir+\"modified_test_data.csv\"\n",
    "test_data_reader = pd.read_csv(test_path, chunksize=test_batch_size)\n",
    "model_path = model_dir+model_name+\"-\"+str(sequence_model.best_iteration)\n",
    "sequence_model.create_predictions(model_path, test_data_reader, test_path, \n",
    "                                  test_ids, n_folds, submission_dir, submission_file)"
   ]
  },
  {
   "cell_type": "code",
   "execution_count": 29,
   "metadata": {
    "_uuid": "265d74ed41413c213c156b53ee5e49366dd2a2cc"
   },
   "outputs": [
    {
     "data": {
      "text/html": [
       "<div>\n",
       "<style scoped>\n",
       "    .dataframe tbody tr th:only-of-type {\n",
       "        vertical-align: middle;\n",
       "    }\n",
       "\n",
       "    .dataframe tbody tr th {\n",
       "        vertical-align: top;\n",
       "    }\n",
       "\n",
       "    .dataframe thead th {\n",
       "        text-align: right;\n",
       "    }\n",
       "</style>\n",
       "<table border=\"1\" class=\"dataframe\">\n",
       "  <thead>\n",
       "    <tr style=\"text-align: right;\">\n",
       "      <th></th>\n",
       "      <th>id</th>\n",
       "      <th>toxic</th>\n",
       "      <th>severe_toxic</th>\n",
       "      <th>obscene</th>\n",
       "      <th>threat</th>\n",
       "      <th>insult</th>\n",
       "      <th>identity_hate</th>\n",
       "    </tr>\n",
       "  </thead>\n",
       "  <tbody>\n",
       "    <tr>\n",
       "      <th>0</th>\n",
       "      <td>00001cee341fdb12</td>\n",
       "      <td>0.993927</td>\n",
       "      <td>1.268158e-01</td>\n",
       "      <td>0.984632</td>\n",
       "      <td>0.025817</td>\n",
       "      <td>0.944795</td>\n",
       "      <td>0.040342</td>\n",
       "    </tr>\n",
       "    <tr>\n",
       "      <th>1</th>\n",
       "      <td>0000247867823ef7</td>\n",
       "      <td>0.001267</td>\n",
       "      <td>4.755986e-07</td>\n",
       "      <td>0.000064</td>\n",
       "      <td>0.000174</td>\n",
       "      <td>0.000045</td>\n",
       "      <td>0.000017</td>\n",
       "    </tr>\n",
       "    <tr>\n",
       "      <th>2</th>\n",
       "      <td>00013b17ad220c46</td>\n",
       "      <td>0.003507</td>\n",
       "      <td>1.807960e-06</td>\n",
       "      <td>0.000192</td>\n",
       "      <td>0.000356</td>\n",
       "      <td>0.000139</td>\n",
       "      <td>0.000041</td>\n",
       "    </tr>\n",
       "    <tr>\n",
       "      <th>3</th>\n",
       "      <td>00017563c3f7919a</td>\n",
       "      <td>0.000427</td>\n",
       "      <td>1.219446e-07</td>\n",
       "      <td>0.000019</td>\n",
       "      <td>0.000100</td>\n",
       "      <td>0.000013</td>\n",
       "      <td>0.000009</td>\n",
       "    </tr>\n",
       "    <tr>\n",
       "      <th>4</th>\n",
       "      <td>00017695ad8997eb</td>\n",
       "      <td>0.010258</td>\n",
       "      <td>5.897048e-06</td>\n",
       "      <td>0.000527</td>\n",
       "      <td>0.000706</td>\n",
       "      <td>0.000421</td>\n",
       "      <td>0.000095</td>\n",
       "    </tr>\n",
       "    <tr>\n",
       "      <th>5</th>\n",
       "      <td>0001ea8717f6de06</td>\n",
       "      <td>0.000824</td>\n",
       "      <td>2.875078e-07</td>\n",
       "      <td>0.000041</td>\n",
       "      <td>0.000144</td>\n",
       "      <td>0.000028</td>\n",
       "      <td>0.000013</td>\n",
       "    </tr>\n",
       "    <tr>\n",
       "      <th>6</th>\n",
       "      <td>00024115d4cbde0f</td>\n",
       "      <td>0.003136</td>\n",
       "      <td>9.015612e-07</td>\n",
       "      <td>0.000126</td>\n",
       "      <td>0.000278</td>\n",
       "      <td>0.000100</td>\n",
       "      <td>0.000029</td>\n",
       "    </tr>\n",
       "    <tr>\n",
       "      <th>7</th>\n",
       "      <td>000247e83dcc1211</td>\n",
       "      <td>0.840014</td>\n",
       "      <td>1.693117e-03</td>\n",
       "      <td>0.175415</td>\n",
       "      <td>0.017520</td>\n",
       "      <td>0.186458</td>\n",
       "      <td>0.005541</td>\n",
       "    </tr>\n",
       "    <tr>\n",
       "      <th>8</th>\n",
       "      <td>00025358d4737918</td>\n",
       "      <td>0.355694</td>\n",
       "      <td>3.188909e-04</td>\n",
       "      <td>0.021668</td>\n",
       "      <td>0.008725</td>\n",
       "      <td>0.023242</td>\n",
       "      <td>0.001927</td>\n",
       "    </tr>\n",
       "    <tr>\n",
       "      <th>9</th>\n",
       "      <td>00026d1092fe71cc</td>\n",
       "      <td>0.000442</td>\n",
       "      <td>1.318307e-07</td>\n",
       "      <td>0.000021</td>\n",
       "      <td>0.000103</td>\n",
       "      <td>0.000014</td>\n",
       "      <td>0.000009</td>\n",
       "    </tr>\n",
       "    <tr>\n",
       "      <th>10</th>\n",
       "      <td>0002eadc3b301559</td>\n",
       "      <td>0.552903</td>\n",
       "      <td>6.921082e-04</td>\n",
       "      <td>0.049501</td>\n",
       "      <td>0.013264</td>\n",
       "      <td>0.053285</td>\n",
       "      <td>0.003337</td>\n",
       "    </tr>\n",
       "    <tr>\n",
       "      <th>11</th>\n",
       "      <td>0002f87b16116a7f</td>\n",
       "      <td>0.014130</td>\n",
       "      <td>6.561672e-06</td>\n",
       "      <td>0.000620</td>\n",
       "      <td>0.000875</td>\n",
       "      <td>0.000511</td>\n",
       "      <td>0.000117</td>\n",
       "    </tr>\n",
       "    <tr>\n",
       "      <th>12</th>\n",
       "      <td>0003806b11932181</td>\n",
       "      <td>0.000510</td>\n",
       "      <td>1.596522e-07</td>\n",
       "      <td>0.000024</td>\n",
       "      <td>0.000113</td>\n",
       "      <td>0.000017</td>\n",
       "      <td>0.000010</td>\n",
       "    </tr>\n",
       "    <tr>\n",
       "      <th>13</th>\n",
       "      <td>0003e1cccfd5a40a</td>\n",
       "      <td>0.000760</td>\n",
       "      <td>2.536050e-07</td>\n",
       "      <td>0.000038</td>\n",
       "      <td>0.000138</td>\n",
       "      <td>0.000025</td>\n",
       "      <td>0.000013</td>\n",
       "    </tr>\n",
       "    <tr>\n",
       "      <th>14</th>\n",
       "      <td>00059ace3e3e9a53</td>\n",
       "      <td>0.000478</td>\n",
       "      <td>1.486575e-07</td>\n",
       "      <td>0.000023</td>\n",
       "      <td>0.000109</td>\n",
       "      <td>0.000016</td>\n",
       "      <td>0.000010</td>\n",
       "    </tr>\n",
       "    <tr>\n",
       "      <th>15</th>\n",
       "      <td>000634272d0d44eb</td>\n",
       "      <td>0.001462</td>\n",
       "      <td>6.158930e-07</td>\n",
       "      <td>0.000081</td>\n",
       "      <td>0.000202</td>\n",
       "      <td>0.000055</td>\n",
       "      <td>0.000020</td>\n",
       "    </tr>\n",
       "    <tr>\n",
       "      <th>16</th>\n",
       "      <td>000663aff0fffc80</td>\n",
       "      <td>0.250250</td>\n",
       "      <td>8.944725e-03</td>\n",
       "      <td>0.071882</td>\n",
       "      <td>0.039481</td>\n",
       "      <td>0.065503</td>\n",
       "      <td>0.018471</td>\n",
       "    </tr>\n",
       "    <tr>\n",
       "      <th>17</th>\n",
       "      <td>000689dd34e20979</td>\n",
       "      <td>0.036889</td>\n",
       "      <td>1.903714e-05</td>\n",
       "      <td>0.001635</td>\n",
       "      <td>0.001579</td>\n",
       "      <td>0.001447</td>\n",
       "      <td>0.000241</td>\n",
       "    </tr>\n",
       "    <tr>\n",
       "      <th>18</th>\n",
       "      <td>000834769115370c</td>\n",
       "      <td>0.000665</td>\n",
       "      <td>2.194519e-07</td>\n",
       "      <td>0.000033</td>\n",
       "      <td>0.000126</td>\n",
       "      <td>0.000023</td>\n",
       "      <td>0.000011</td>\n",
       "    </tr>\n",
       "    <tr>\n",
       "      <th>19</th>\n",
       "      <td>000844b52dee5f3f</td>\n",
       "      <td>0.086244</td>\n",
       "      <td>4.649909e-05</td>\n",
       "      <td>0.004460</td>\n",
       "      <td>0.002066</td>\n",
       "      <td>0.004005</td>\n",
       "      <td>0.000354</td>\n",
       "    </tr>\n",
       "    <tr>\n",
       "      <th>20</th>\n",
       "      <td>00084da5d4ead7aa</td>\n",
       "      <td>0.013131</td>\n",
       "      <td>4.461497e-06</td>\n",
       "      <td>0.000485</td>\n",
       "      <td>0.000672</td>\n",
       "      <td>0.000438</td>\n",
       "      <td>0.000083</td>\n",
       "    </tr>\n",
       "    <tr>\n",
       "      <th>21</th>\n",
       "      <td>00091c35fa9d0465</td>\n",
       "      <td>0.928906</td>\n",
       "      <td>2.588536e-03</td>\n",
       "      <td>0.345786</td>\n",
       "      <td>0.020022</td>\n",
       "      <td>0.354441</td>\n",
       "      <td>0.006724</td>\n",
       "    </tr>\n",
       "    <tr>\n",
       "      <th>22</th>\n",
       "      <td>000968ce11f5ee34</td>\n",
       "      <td>0.705422</td>\n",
       "      <td>1.091898e-03</td>\n",
       "      <td>0.087101</td>\n",
       "      <td>0.017053</td>\n",
       "      <td>0.097051</td>\n",
       "      <td>0.004663</td>\n",
       "    </tr>\n",
       "    <tr>\n",
       "      <th>23</th>\n",
       "      <td>0009734200a85047</td>\n",
       "      <td>0.000444</td>\n",
       "      <td>1.289012e-07</td>\n",
       "      <td>0.000020</td>\n",
       "      <td>0.000101</td>\n",
       "      <td>0.000014</td>\n",
       "      <td>0.000009</td>\n",
       "    </tr>\n",
       "    <tr>\n",
       "      <th>24</th>\n",
       "      <td>00097b6214686db5</td>\n",
       "      <td>0.896372</td>\n",
       "      <td>4.497193e-03</td>\n",
       "      <td>0.339310</td>\n",
       "      <td>0.029035</td>\n",
       "      <td>0.321460</td>\n",
       "      <td>0.011405</td>\n",
       "    </tr>\n",
       "    <tr>\n",
       "      <th>25</th>\n",
       "      <td>0009aef4bd9e1697</td>\n",
       "      <td>0.000485</td>\n",
       "      <td>1.566877e-07</td>\n",
       "      <td>0.000024</td>\n",
       "      <td>0.000111</td>\n",
       "      <td>0.000016</td>\n",
       "      <td>0.000010</td>\n",
       "    </tr>\n",
       "    <tr>\n",
       "      <th>26</th>\n",
       "      <td>000a02d807ae0254</td>\n",
       "      <td>0.000706</td>\n",
       "      <td>2.339654e-07</td>\n",
       "      <td>0.000035</td>\n",
       "      <td>0.000129</td>\n",
       "      <td>0.000024</td>\n",
       "      <td>0.000012</td>\n",
       "    </tr>\n",
       "    <tr>\n",
       "      <th>27</th>\n",
       "      <td>000a6c6d4e89b9bc</td>\n",
       "      <td>0.354657</td>\n",
       "      <td>2.459375e-04</td>\n",
       "      <td>0.019467</td>\n",
       "      <td>0.007152</td>\n",
       "      <td>0.021361</td>\n",
       "      <td>0.001493</td>\n",
       "    </tr>\n",
       "    <tr>\n",
       "      <th>28</th>\n",
       "      <td>000bafe2080bba82</td>\n",
       "      <td>0.835409</td>\n",
       "      <td>2.939183e-03</td>\n",
       "      <td>0.216055</td>\n",
       "      <td>0.026479</td>\n",
       "      <td>0.211351</td>\n",
       "      <td>0.009273</td>\n",
       "    </tr>\n",
       "    <tr>\n",
       "      <th>29</th>\n",
       "      <td>000bf0a9894b2807</td>\n",
       "      <td>0.000437</td>\n",
       "      <td>1.284770e-07</td>\n",
       "      <td>0.000020</td>\n",
       "      <td>0.000103</td>\n",
       "      <td>0.000014</td>\n",
       "      <td>0.000009</td>\n",
       "    </tr>\n",
       "  </tbody>\n",
       "</table>\n",
       "</div>"
      ],
      "text/plain": [
       "                  id     toxic  severe_toxic   obscene    threat    insult  \\\n",
       "0   00001cee341fdb12  0.993927  1.268158e-01  0.984632  0.025817  0.944795   \n",
       "1   0000247867823ef7  0.001267  4.755986e-07  0.000064  0.000174  0.000045   \n",
       "2   00013b17ad220c46  0.003507  1.807960e-06  0.000192  0.000356  0.000139   \n",
       "3   00017563c3f7919a  0.000427  1.219446e-07  0.000019  0.000100  0.000013   \n",
       "4   00017695ad8997eb  0.010258  5.897048e-06  0.000527  0.000706  0.000421   \n",
       "5   0001ea8717f6de06  0.000824  2.875078e-07  0.000041  0.000144  0.000028   \n",
       "6   00024115d4cbde0f  0.003136  9.015612e-07  0.000126  0.000278  0.000100   \n",
       "7   000247e83dcc1211  0.840014  1.693117e-03  0.175415  0.017520  0.186458   \n",
       "8   00025358d4737918  0.355694  3.188909e-04  0.021668  0.008725  0.023242   \n",
       "9   00026d1092fe71cc  0.000442  1.318307e-07  0.000021  0.000103  0.000014   \n",
       "10  0002eadc3b301559  0.552903  6.921082e-04  0.049501  0.013264  0.053285   \n",
       "11  0002f87b16116a7f  0.014130  6.561672e-06  0.000620  0.000875  0.000511   \n",
       "12  0003806b11932181  0.000510  1.596522e-07  0.000024  0.000113  0.000017   \n",
       "13  0003e1cccfd5a40a  0.000760  2.536050e-07  0.000038  0.000138  0.000025   \n",
       "14  00059ace3e3e9a53  0.000478  1.486575e-07  0.000023  0.000109  0.000016   \n",
       "15  000634272d0d44eb  0.001462  6.158930e-07  0.000081  0.000202  0.000055   \n",
       "16  000663aff0fffc80  0.250250  8.944725e-03  0.071882  0.039481  0.065503   \n",
       "17  000689dd34e20979  0.036889  1.903714e-05  0.001635  0.001579  0.001447   \n",
       "18  000834769115370c  0.000665  2.194519e-07  0.000033  0.000126  0.000023   \n",
       "19  000844b52dee5f3f  0.086244  4.649909e-05  0.004460  0.002066  0.004005   \n",
       "20  00084da5d4ead7aa  0.013131  4.461497e-06  0.000485  0.000672  0.000438   \n",
       "21  00091c35fa9d0465  0.928906  2.588536e-03  0.345786  0.020022  0.354441   \n",
       "22  000968ce11f5ee34  0.705422  1.091898e-03  0.087101  0.017053  0.097051   \n",
       "23  0009734200a85047  0.000444  1.289012e-07  0.000020  0.000101  0.000014   \n",
       "24  00097b6214686db5  0.896372  4.497193e-03  0.339310  0.029035  0.321460   \n",
       "25  0009aef4bd9e1697  0.000485  1.566877e-07  0.000024  0.000111  0.000016   \n",
       "26  000a02d807ae0254  0.000706  2.339654e-07  0.000035  0.000129  0.000024   \n",
       "27  000a6c6d4e89b9bc  0.354657  2.459375e-04  0.019467  0.007152  0.021361   \n",
       "28  000bafe2080bba82  0.835409  2.939183e-03  0.216055  0.026479  0.211351   \n",
       "29  000bf0a9894b2807  0.000437  1.284770e-07  0.000020  0.000103  0.000014   \n",
       "\n",
       "    identity_hate  \n",
       "0        0.040342  \n",
       "1        0.000017  \n",
       "2        0.000041  \n",
       "3        0.000009  \n",
       "4        0.000095  \n",
       "5        0.000013  \n",
       "6        0.000029  \n",
       "7        0.005541  \n",
       "8        0.001927  \n",
       "9        0.000009  \n",
       "10       0.003337  \n",
       "11       0.000117  \n",
       "12       0.000010  \n",
       "13       0.000013  \n",
       "14       0.000010  \n",
       "15       0.000020  \n",
       "16       0.018471  \n",
       "17       0.000241  \n",
       "18       0.000011  \n",
       "19       0.000354  \n",
       "20       0.000083  \n",
       "21       0.006724  \n",
       "22       0.004663  \n",
       "23       0.000009  \n",
       "24       0.011405  \n",
       "25       0.000010  \n",
       "26       0.000012  \n",
       "27       0.001493  \n",
       "28       0.009273  \n",
       "29       0.000009  "
      ]
     },
     "execution_count": 29,
     "metadata": {},
     "output_type": "execute_result"
    }
   ],
   "source": [
    "pd.read_csv(submission_dir+submission_file).head(30)"
   ]
  }
 ],
 "metadata": {
  "kernelspec": {
   "display_name": "Python 3",
   "language": "python",
   "name": "python3"
  },
  "language_info": {
   "codemirror_mode": {
    "name": "ipython",
    "version": 3
   },
   "file_extension": ".py",
   "mimetype": "text/x-python",
   "name": "python",
   "nbconvert_exporter": "python",
   "pygments_lexer": "ipython3",
   "version": "3.6.8"
  }
 },
 "nbformat": 4,
 "nbformat_minor": 1
}
