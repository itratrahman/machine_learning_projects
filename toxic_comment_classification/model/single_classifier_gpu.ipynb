{
  "nbformat": 4,
  "nbformat_minor": 0,
  "metadata": {
    "colab": {
      "name": "model8.ipynb",
      "version": "0.3.2",
      "views": {},
      "default_view": {},
      "provenance": [],
      "collapsed_sections": [],
      "toc_visible": true
    },
    "kernelspec": {
      "name": "python3",
      "display_name": "Python 3"
    },
    "accelerator": "GPU"
  },
  "cells": [
    {
      "metadata": {
        "id": "LTdpm5WIiBL2",
        "colab_type": "text"
      },
      "cell_type": "markdown",
      "source": [
        "# Import libraries"
      ]
    },
    {
      "metadata": {
        "id": "JpG0VOk5iDbl",
        "colab_type": "code",
        "colab": {
          "autoexec": {
            "startup": false,
            "wait_interval": 0
          }
        }
      },
      "cell_type": "code",
      "source": [
        "import os\n",
        "import time\n",
        "import datetime\n",
        "import string\n",
        "import random\n",
        "import math\n",
        "import json\n",
        "import random\n",
        "import pandas as pd\n",
        "import numpy as np\n",
        "from sklearn.preprocessing import LabelBinarizer\n",
        "import tensorflow as tf\n",
        "tf.reset_default_graph()\n",
        "import matplotlib\n",
        "from matplotlib import pyplot as plt\n",
        "%matplotlib inline"
      ],
      "execution_count": 0,
      "outputs": []
    },
    {
      "metadata": {
        "id": "Jre2QJeBiH-r",
        "colab_type": "text"
      },
      "cell_type": "markdown",
      "source": [
        "**List the devices available to tensorflow**"
      ]
    },
    {
      "metadata": {
        "id": "IBoBSAOfiJ7m",
        "colab_type": "code",
        "colab": {
          "autoexec": {
            "startup": false,
            "wait_interval": 0
          },
          "output_extras": [
            {
              "item_id": 1
            }
          ],
          "base_uri": "https://localhost:8080/",
          "height": 238
        },
        "outputId": "95204c27-afbf-4d96-f929-25a47983545f",
        "executionInfo": {
          "status": "ok",
          "timestamp": 1521271611150,
          "user_tz": -360,
          "elapsed": 950,
          "user": {
            "displayName": "Itrat Rahman",
            "photoUrl": "//lh3.googleusercontent.com/-j1V_yfZD3m0/AAAAAAAAAAI/AAAAAAAAFTg/pDPmK0kE5mI/s50-c-k-no/photo.jpg",
            "userId": "116815226076340067076"
          }
        }
      },
      "cell_type": "code",
      "source": [
        "from tensorflow.python.client import device_lib\n",
        "device_lib.list_local_devices()"
      ],
      "execution_count": 2,
      "outputs": [
        {
          "output_type": "execute_result",
          "data": {
            "text/plain": [
              "[name: \"/device:CPU:0\"\n",
              " device_type: \"CPU\"\n",
              " memory_limit: 268435456\n",
              " locality {\n",
              " }\n",
              " incarnation: 475625563311316207, name: \"/device:GPU:0\"\n",
              " device_type: \"GPU\"\n",
              " memory_limit: 11297803469\n",
              " locality {\n",
              "   bus_id: 1\n",
              " }\n",
              " incarnation: 10019618925649727733\n",
              " physical_device_desc: \"device: 0, name: Tesla K80, pci bus id: 0000:00:04.0, compute capability: 3.7\"]"
            ]
          },
          "metadata": {
            "tags": []
          },
          "execution_count": 2
        }
      ]
    },
    {
      "metadata": {
        "id": "o4iA4UTeiLbu",
        "colab_type": "code",
        "colab": {
          "autoexec": {
            "startup": false,
            "wait_interval": 0
          },
          "output_extras": [
            {
              "item_id": 4
            }
          ],
          "base_uri": "https://localhost:8080/",
          "height": 323
        },
        "outputId": "2928a48f-b59b-4b50-8e18-ccc0ae7e60e8",
        "executionInfo": {
          "status": "ok",
          "timestamp": 1521271614742,
          "user_tz": -360,
          "elapsed": 3472,
          "user": {
            "displayName": "Itrat Rahman",
            "photoUrl": "//lh3.googleusercontent.com/-j1V_yfZD3m0/AAAAAAAAAAI/AAAAAAAAFTg/pDPmK0kE5mI/s50-c-k-no/photo.jpg",
            "userId": "116815226076340067076"
          }
        }
      },
      "cell_type": "code",
      "source": [
        "!pip install --upgrade gensim\n",
        "from gensim.models.word2vec import Word2VecKeyedVectors"
      ],
      "execution_count": 3,
      "outputs": [
        {
          "output_type": "stream",
          "text": [
            "Requirement already up-to-date: gensim in /usr/local/lib/python3.6/dist-packages\n",
            "Requirement already up-to-date: numpy>=1.11.3 in /usr/local/lib/python3.6/dist-packages (from gensim)\n",
            "Requirement already up-to-date: scipy>=0.18.1 in /usr/local/lib/python3.6/dist-packages (from gensim)\n",
            "Requirement already up-to-date: six>=1.5.0 in /usr/local/lib/python3.6/dist-packages (from gensim)\n",
            "Requirement already up-to-date: smart-open>=1.2.1 in /usr/local/lib/python3.6/dist-packages (from gensim)\n",
            "Requirement already up-to-date: requests in /usr/local/lib/python3.6/dist-packages (from smart-open>=1.2.1->gensim)\n",
            "Requirement already up-to-date: bz2file in /usr/local/lib/python3.6/dist-packages (from smart-open>=1.2.1->gensim)\n",
            "Requirement already up-to-date: boto>=2.32 in /usr/local/lib/python3.6/dist-packages (from smart-open>=1.2.1->gensim)\n",
            "Requirement already up-to-date: boto3 in /usr/local/lib/python3.6/dist-packages (from smart-open>=1.2.1->gensim)\n",
            "Requirement already up-to-date: chardet<3.1.0,>=3.0.2 in /usr/local/lib/python3.6/dist-packages (from requests->smart-open>=1.2.1->gensim)\n",
            "Requirement already up-to-date: urllib3<1.23,>=1.21.1 in /usr/local/lib/python3.6/dist-packages (from requests->smart-open>=1.2.1->gensim)\n",
            "Requirement already up-to-date: certifi>=2017.4.17 in /usr/local/lib/python3.6/dist-packages (from requests->smart-open>=1.2.1->gensim)\n",
            "Requirement already up-to-date: idna<2.7,>=2.5 in /usr/local/lib/python3.6/dist-packages (from requests->smart-open>=1.2.1->gensim)\n",
            "Requirement already up-to-date: s3transfer<0.2.0,>=0.1.10 in /usr/local/lib/python3.6/dist-packages (from boto3->smart-open>=1.2.1->gensim)\n",
            "Requirement already up-to-date: botocore<1.10.0,>=1.9.11 in /usr/local/lib/python3.6/dist-packages (from boto3->smart-open>=1.2.1->gensim)\n",
            "Requirement already up-to-date: jmespath<1.0.0,>=0.7.1 in /usr/local/lib/python3.6/dist-packages (from boto3->smart-open>=1.2.1->gensim)\n",
            "Requirement already up-to-date: python-dateutil<2.7.0,>=2.1 in /usr/local/lib/python3.6/dist-packages (from botocore<1.10.0,>=1.9.11->boto3->smart-open>=1.2.1->gensim)\n",
            "Requirement already up-to-date: docutils>=0.10 in /usr/local/lib/python3.6/dist-packages (from botocore<1.10.0,>=1.9.11->boto3->smart-open>=1.2.1->gensim)\n"
          ],
          "name": "stdout"
        }
      ]
    },
    {
      "metadata": {
        "id": "fCGNlkX1iU5w",
        "colab_type": "text"
      },
      "cell_type": "markdown",
      "source": [
        "**Make the result reproducible by setting the seed of numpy and tensorflow**"
      ]
    },
    {
      "metadata": {
        "id": "vtlmAfs-iXEN",
        "colab_type": "code",
        "colab": {
          "autoexec": {
            "startup": false,
            "wait_interval": 0
          },
          "output_extras": [
            {
              "item_id": 1
            }
          ],
          "base_uri": "https://localhost:8080/",
          "height": 51
        },
        "outputId": "6a3923f2-03a4-4383-b03e-5e4c8037a16a",
        "executionInfo": {
          "status": "ok",
          "timestamp": 1521271615624,
          "user_tz": -360,
          "elapsed": 830,
          "user": {
            "displayName": "Itrat Rahman",
            "photoUrl": "//lh3.googleusercontent.com/-j1V_yfZD3m0/AAAAAAAAAAI/AAAAAAAAFTg/pDPmK0kE5mI/s50-c-k-no/photo.jpg",
            "userId": "116815226076340067076"
          }
        }
      },
      "cell_type": "code",
      "source": [
        "# np_rand_seed = random.randint(0,100)\n",
        "# tf_rand_seed = random.randint(0,100)\n",
        "np_rand_seed = 95\n",
        "tf_rand_seed = 63\n",
        "np.random.seed(np_rand_seed)\n",
        "tf.set_random_seed(tf_rand_seed)\n",
        "print(\"numpy random seed: \",np_rand_seed)\n",
        "print(\"tensorflow random seed: \", tf_rand_seed)"
      ],
      "execution_count": 4,
      "outputs": [
        {
          "output_type": "stream",
          "text": [
            "numpy random seed:  95\n",
            "tensorflow random seed:  63\n"
          ],
          "name": "stdout"
        }
      ]
    },
    {
      "metadata": {
        "id": "bOXbWV3FicFY",
        "colab_type": "text"
      },
      "cell_type": "markdown",
      "source": [
        "# Load the cleaned data"
      ]
    },
    {
      "metadata": {
        "id": "hABNm3obiht0",
        "colab_type": "text"
      },
      "cell_type": "markdown",
      "source": [
        "**Authentication via google auth**"
      ]
    },
    {
      "metadata": {
        "id": "GATrjq9biimt",
        "colab_type": "code",
        "colab": {
          "autoexec": {
            "startup": false,
            "wait_interval": 0
          }
        }
      },
      "cell_type": "code",
      "source": [
        "# Code to read csv file into colaboratory:\n",
        "!pip install -U -q PyDrive\n",
        "from pydrive.auth import GoogleAuth\n",
        "from pydrive.drive import GoogleDrive\n",
        "from google.colab import auth\n",
        "from oauth2client.client import GoogleCredentials\n",
        "\n",
        "# 1. Authenticate and create the PyDrive client.\n",
        "auth.authenticate_user()\n",
        "gauth = GoogleAuth()\n",
        "gauth.credentials = GoogleCredentials.get_application_default()\n",
        "drive = GoogleDrive(gauth)"
      ],
      "execution_count": 0,
      "outputs": []
    },
    {
      "metadata": {
        "id": "fISnhyD-ilJ0",
        "colab_type": "text"
      },
      "cell_type": "markdown",
      "source": [
        "**Upload a file from google cloud where file ids are stored as a json**"
      ]
    },
    {
      "metadata": {
        "id": "gQ5yRC9jim-9",
        "colab_type": "code",
        "colab": {
          "autoexec": {
            "startup": false,
            "wait_interval": 0
          },
          "output_extras": [
            {
              "item_id": 1
            },
            {
              "item_id": 3
            }
          ],
          "resources": {
            "http://localhost:8080/nbextensions/google.colab/files.js": {
              "data": "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",
              "ok": true,
              "headers": [
                [
                  "content-type",
                  "application/javascript"
                ]
              ],
              "status": 200,
              "status_text": ""
            }
          },
          "base_uri": "https://localhost:8080/",
          "height": 89
        },
        "outputId": "2c288673-1d7e-4f4e-c9e4-decceab89dbc",
        "executionInfo": {
          "status": "ok",
          "timestamp": 1521271627928,
          "user_tz": -360,
          "elapsed": 6222,
          "user": {
            "displayName": "Itrat Rahman",
            "photoUrl": "//lh3.googleusercontent.com/-j1V_yfZD3m0/AAAAAAAAAAI/AAAAAAAAFTg/pDPmK0kE5mI/s50-c-k-no/photo.jpg",
            "userId": "116815226076340067076"
          }
        }
      },
      "cell_type": "code",
      "source": [
        "from google.colab import files\n",
        "\n",
        "uploaded = files.upload()\n",
        "\n",
        "for fn in uploaded.keys():\n",
        "    print('User uploaded file \"{name}\" with length {length} bytes'.format(\n",
        "      name=fn, length=len(uploaded[fn])))\n",
        "\n",
        "file_id_data= json.loads(uploaded['file_id.json'])"
      ],
      "execution_count": 6,
      "outputs": [
        {
          "output_type": "display_data",
          "data": {
            "text/html": [
              "\n",
              "     <input type=\"file\" id=\"files-0b9be76a-9a88-490d-9ce5-adfe2fe39f05\" name=\"files[]\" multiple disabled />\n",
              "     <output id=\"result-0b9be76a-9a88-490d-9ce5-adfe2fe39f05\">\n",
              "      Upload widget is only available when the cell has been executed in the\n",
              "      current browser session. Please rerun this cell to enable.\n",
              "      </output>\n",
              "      <script src=\"/nbextensions/google.colab/files.js\"></script> "
            ],
            "text/plain": [
              "<IPython.core.display.HTML object>"
            ]
          },
          "metadata": {
            "tags": []
          }
        },
        {
          "output_type": "stream",
          "text": [
            "Saving file_id.json to file_id (3).json\n",
            "User uploaded file \"file_id.json\" with length 489 bytes\n"
          ],
          "name": "stdout"
        }
      ]
    },
    {
      "metadata": {
        "id": "XD21gey9iqGx",
        "colab_type": "text"
      },
      "cell_type": "markdown",
      "source": [
        "**Download files to the kernel**"
      ]
    },
    {
      "metadata": {
        "id": "JHw1wDyHir-O",
        "colab_type": "code",
        "colab": {
          "autoexec": {
            "startup": false,
            "wait_interval": 0
          }
        }
      },
      "cell_type": "code",
      "source": [
        "downloaded1 = drive.CreateFile({'id':file_id_data[\"modified_train_file_id\"]}) \n",
        "downloaded1.GetContentFile('modified_train_data.csv')  \n",
        "downloaded2 = drive.CreateFile({'id':file_id_data[\"modified_test_file_id\"]}) \n",
        "downloaded2.GetContentFile('modified_test_data.csv')\n",
        "downloaded3 = drive.CreateFile({'id':file_id_data[\"word2vec_model\"]}) \n",
        "downloaded3.GetContentFile('word2vec_model')  \n",
        "downloaded4 = drive.CreateFile({'id':file_id_data[\"data\"]}) \n",
        "downloaded4.GetContentFile('data.json')"
      ],
      "execution_count": 0,
      "outputs": []
    },
    {
      "metadata": {
        "id": "G7XnWAbZiugr",
        "colab_type": "text"
      },
      "cell_type": "markdown",
      "source": [
        "**Load train and test data to notebook**"
      ]
    },
    {
      "metadata": {
        "id": "5UsivrqhiwcO",
        "colab_type": "code",
        "colab": {
          "autoexec": {
            "startup": false,
            "wait_interval": 0
          }
        }
      },
      "cell_type": "code",
      "source": [
        "#3. Read file as panda dataframe\n",
        "data = pd.read_csv('modified_train_data.csv') \n",
        "test_data = pd.read_csv('modified_test_data.csv')"
      ],
      "execution_count": 0,
      "outputs": []
    },
    {
      "metadata": {
        "id": "5d33gWqFiyQC",
        "colab_type": "text"
      },
      "cell_type": "markdown",
      "source": [
        "**Remove the csv files from kernel**"
      ]
    },
    {
      "metadata": {
        "id": "5-6RHzUli0eF",
        "colab_type": "code",
        "colab": {
          "autoexec": {
            "startup": false,
            "wait_interval": 0
          }
        }
      },
      "cell_type": "code",
      "source": [
        "os.remove(\"modified_train_data.csv\")\n",
        "os.remove(\"modified_test_data.csv\")"
      ],
      "execution_count": 0,
      "outputs": []
    },
    {
      "metadata": {
        "id": "8aaYNzhqvaKY",
        "colab_type": "text"
      },
      "cell_type": "markdown",
      "source": [
        "**Extract size from the json file**"
      ]
    },
    {
      "metadata": {
        "id": "xdbKrVhcvePH",
        "colab_type": "code",
        "colab": {
          "autoexec": {
            "startup": false,
            "wait_interval": 0
          }
        }
      },
      "cell_type": "code",
      "source": [
        "metadata= json.loads(open(\"data.json\").read())\n",
        "size = metadata['size']"
      ],
      "execution_count": 0,
      "outputs": []
    },
    {
      "metadata": {
        "id": "y8SspxrXi5EN",
        "colab_type": "text"
      },
      "cell_type": "markdown",
      "source": [
        "**Extract the size of Word2Vec model**"
      ]
    },
    {
      "metadata": {
        "id": "wZiDq9COi74q",
        "colab_type": "code",
        "colab": {
          "autoexec": {
            "startup": false,
            "wait_interval": 0
          }
        }
      },
      "cell_type": "code",
      "source": [
        "fname = \"word2vec_model\"\n",
        "model = Word2VecKeyedVectors.load_word2vec_format(fname)"
      ],
      "execution_count": 0,
      "outputs": []
    },
    {
      "metadata": {
        "id": "SPIgatbQjBQg",
        "colab_type": "code",
        "colab": {
          "autoexec": {
            "startup": false,
            "wait_interval": 0
          }
        }
      },
      "cell_type": "code",
      "source": [
        "os.remove(\"word2vec_model\")"
      ],
      "execution_count": 0,
      "outputs": []
    },
    {
      "metadata": {
        "id": "0s7txmRKjC-H",
        "colab_type": "text"
      },
      "cell_type": "markdown",
      "source": [
        "# Inspect the distribution of #words in the sentences"
      ]
    },
    {
      "metadata": {
        "id": "qs_TIGgLjH4W",
        "colab_type": "text"
      },
      "cell_type": "markdown",
      "source": [
        "**Distribution of #words in train data**"
      ]
    },
    {
      "metadata": {
        "id": "xgd2sOmyjJzl",
        "colab_type": "code",
        "colab": {
          "autoexec": {
            "startup": false,
            "wait_interval": 0
          },
          "output_extras": [
            {
              "item_id": 1
            }
          ],
          "base_uri": "https://localhost:8080/",
          "height": 512
        },
        "outputId": "75bb8653-96f3-47da-dad7-e9c317233f06",
        "executionInfo": {
          "status": "ok",
          "timestamp": 1521271665689,
          "user_tz": -360,
          "elapsed": 1989,
          "user": {
            "displayName": "Itrat Rahman",
            "photoUrl": "//lh3.googleusercontent.com/-j1V_yfZD3m0/AAAAAAAAAAI/AAAAAAAAFTg/pDPmK0kE5mI/s50-c-k-no/photo.jpg",
            "userId": "116815226076340067076"
          }
        }
      },
      "cell_type": "code",
      "source": [
        "data.hist(\"length\", bins=500, figsize=(16,8))\n",
        "plt.xlabel(\"#words\")\n",
        "plt.xlim(0,300)\n",
        "plt.show()"
      ],
      "execution_count": 13,
      "outputs": [
        {
          "output_type": "display_data",
          "data": {
            "image/png": "[encoded data removed]",
            "text/plain": [
              "<matplotlib.figure.Figure at 0x7fac32f29e10>"
            ]
          },
          "metadata": {
            "tags": []
          }
        }
      ]
    },
    {
      "metadata": {
        "id": "2X_N-nlCjNu5",
        "colab_type": "text"
      },
      "cell_type": "markdown",
      "source": [
        "**Distribution of #words in test data**"
      ]
    },
    {
      "metadata": {
        "id": "5XXOfeypjOmt",
        "colab_type": "code",
        "colab": {
          "autoexec": {
            "startup": false,
            "wait_interval": 0
          },
          "output_extras": [
            {
              "item_id": 1
            }
          ],
          "base_uri": "https://localhost:8080/",
          "height": 512
        },
        "outputId": "76399a6c-f9f4-411e-d796-8fe82853a70c",
        "executionInfo": {
          "status": "ok",
          "timestamp": 1521271667725,
          "user_tz": -360,
          "elapsed": 2027,
          "user": {
            "displayName": "Itrat Rahman",
            "photoUrl": "//lh3.googleusercontent.com/-j1V_yfZD3m0/AAAAAAAAAAI/AAAAAAAAFTg/pDPmK0kE5mI/s50-c-k-no/photo.jpg",
            "userId": "116815226076340067076"
          }
        }
      },
      "cell_type": "code",
      "source": [
        "test_data.hist(\"length\", bins=500, figsize=(16,8))\n",
        "plt.xlabel(\"#words\")\n",
        "plt.xlim(0,300)\n",
        "plt.show()"
      ],
      "execution_count": 14,
      "outputs": [
        {
          "output_type": "display_data",
          "data": {
            "image/png": "[encoded data removed]",
            "text/plain": [
              "<matplotlib.figure.Figure at 0x7fac32ea3d68>"
            ]
          },
          "metadata": {
            "tags": []
          }
        }
      ]
    },
    {
      "metadata": {
        "id": "SG6g-4ZWjRs8",
        "colab_type": "text"
      },
      "cell_type": "markdown",
      "source": [
        "**Distribution of #words in all data**"
      ]
    },
    {
      "metadata": {
        "id": "WUVAEIJDjTKl",
        "colab_type": "code",
        "colab": {
          "autoexec": {
            "startup": false,
            "wait_interval": 0
          },
          "output_extras": [
            {
              "item_id": 1
            }
          ],
          "base_uri": "https://localhost:8080/",
          "height": 497
        },
        "outputId": "c5e45205-698b-4871-e55c-fa5e243b2844",
        "executionInfo": {
          "status": "ok",
          "timestamp": 1521271669843,
          "user_tz": -360,
          "elapsed": 2093,
          "user": {
            "displayName": "Itrat Rahman",
            "photoUrl": "//lh3.googleusercontent.com/-j1V_yfZD3m0/AAAAAAAAAAI/AAAAAAAAFTg/pDPmK0kE5mI/s50-c-k-no/photo.jpg",
            "userId": "116815226076340067076"
          }
        }
      },
      "cell_type": "code",
      "source": [
        "all_length = pd.concat([data['length'], test_data['length']])\n",
        "all_length.hist(bins=500, figsize=(16,8))\n",
        "plt.xlim(0,300)\n",
        "plt.xlabel(\"#words\")\n",
        "plt.show()\n",
        "del(all_length)"
      ],
      "execution_count": 15,
      "outputs": [
        {
          "output_type": "display_data",
          "data": {
            "image/png": "[encoded data removed]",
            "text/plain": [
              "<matplotlib.figure.Figure at 0x7fac308e1828>"
            ]
          },
          "metadata": {
            "tags": []
          }
        }
      ]
    },
    {
      "metadata": {
        "id": "KB74Db-3jXVi",
        "colab_type": "text"
      },
      "cell_type": "markdown",
      "source": [
        "# Train validation split"
      ]
    },
    {
      "metadata": {
        "id": "vzlKRChujeK3",
        "colab_type": "text"
      },
      "cell_type": "markdown",
      "source": [
        "**Extract the train, validation, and test data in numpy arrays**"
      ]
    },
    {
      "metadata": {
        "id": "0-PjR29bjfe1",
        "colab_type": "code",
        "colab": {
          "autoexec": {
            "startup": false,
            "wait_interval": 0
          }
        }
      },
      "cell_type": "code",
      "source": [
        "comments = data[\"comment_text\"].as_matrix()\n",
        "sentiments = data[[\"toxic\",\"severe_toxic\",\"obscene\",\"threat\",\"insult\",\"identity_hate\"]].as_matrix()\n",
        "seq_length = data['length'].as_matrix()\n",
        "\n",
        "# randomly generate train and validation indices\n",
        "train_indices = np.random.choice(len(seq_length), round(len(seq_length)*0.96), replace=False)\n",
        "validation_indices = np.array(list(set(range(len(seq_length))) - set(train_indices)))\n",
        "\n",
        "comments_train = comments[train_indices]\n",
        "comments_validation = comments[validation_indices]\n",
        "comments_test = test_data[\"comment_text\"].as_matrix()\n",
        "\n",
        "seq_length_train = seq_length[train_indices]\n",
        "seq_length_validation = seq_length[validation_indices]\n",
        "seq_length_test = test_data['length'].as_matrix()\n",
        "\n",
        "sentiments_train = sentiments[train_indices]\n",
        "sentiments_validation = sentiments[validation_indices]\n",
        "\n",
        "test_id = test_data['id'].as_matrix()"
      ],
      "execution_count": 0,
      "outputs": []
    },
    {
      "metadata": {
        "id": "BoIQ2kF1jihj",
        "colab_type": "code",
        "colab": {
          "autoexec": {
            "startup": false,
            "wait_interval": 0
          },
          "output_extras": [
            {
              "item_id": 1
            }
          ],
          "base_uri": "https://localhost:8080/",
          "height": 170
        },
        "outputId": "8b5ecd30-597c-4379-b2a9-c8b3518c035f",
        "executionInfo": {
          "status": "ok",
          "timestamp": 1521271671580,
          "user_tz": -360,
          "elapsed": 790,
          "user": {
            "displayName": "Itrat Rahman",
            "photoUrl": "//lh3.googleusercontent.com/-j1V_yfZD3m0/AAAAAAAAAAI/AAAAAAAAFTg/pDPmK0kE5mI/s50-c-k-no/photo.jpg",
            "userId": "116815226076340067076"
          }
        }
      },
      "cell_type": "code",
      "source": [
        "print(\"shape of comments_train:\",comments_train.shape)\n",
        "print(\"shape of comments_validation:\",comments_validation.shape)\n",
        "print(\"shape of comments_test:\",comments_test.shape)\n",
        "print(\"shape of seq_length_train:\",seq_length_train.shape)\n",
        "print(\"shape of seq_length_validation:\",seq_length_validation.shape)\n",
        "print(\"shape of seq_length_test:\",seq_length_test.shape)\n",
        "print(\"shape of sentiments_train:\",sentiments_train.shape)\n",
        "print(\"shape of sentiments_test:\",sentiments_validation.shape)\n",
        "print(\"shape of test_id:\",test_id.shape)"
      ],
      "execution_count": 17,
      "outputs": [
        {
          "output_type": "stream",
          "text": [
            "shape of comments_train: (153188,)\n",
            "shape of comments_validation: (6383,)\n",
            "shape of comments_test: (153164,)\n",
            "shape of seq_length_train: (153188,)\n",
            "shape of seq_length_validation: (6383,)\n",
            "shape of seq_length_test: (153164,)\n",
            "shape of sentiments_train: (153188, 6)\n",
            "shape of sentiments_test: (6383, 6)\n",
            "shape of test_id: (153164,)\n"
          ],
          "name": "stdout"
        }
      ]
    },
    {
      "metadata": {
        "id": "uW72NwLhjkk_",
        "colab_type": "code",
        "colab": {
          "autoexec": {
            "startup": false,
            "wait_interval": 0
          }
        }
      },
      "cell_type": "code",
      "source": [
        "del(train_indices, validation_indices, data, test_data, comments, sentiments, seq_length)"
      ],
      "execution_count": 0,
      "outputs": []
    },
    {
      "metadata": {
        "id": "jzMnB7S1jlYf",
        "colab_type": "text"
      },
      "cell_type": "markdown",
      "source": [
        "# Create Recurrent Neural Network (LSTM cell)"
      ]
    },
    {
      "metadata": {
        "id": "OPNAjAu5jqfl",
        "colab_type": "text"
      },
      "cell_type": "markdown",
      "source": [
        "**A function to generate fixed length sequence**"
      ]
    },
    {
      "metadata": {
        "id": "iQB-KE8hjrjS",
        "colab_type": "code",
        "colab": {
          "autoexec": {
            "startup": false,
            "wait_interval": 0
          }
        }
      },
      "cell_type": "code",
      "source": [
        "def sequence_generator(comments, max_length, size):\n",
        "    \n",
        "    sentences = []\n",
        "    for comment in comments.tolist():\n",
        "        sentences.append(str(comment).split())\n",
        "        \n",
        "    sequences = []\n",
        "    for sentence in sentences:\n",
        "        if len(sentence)>0:\n",
        "            if len(sentence)<max_length:\n",
        "                sequence = model[sentence]\n",
        "                tail = np.zeros((max_length - len(sentence), size))\n",
        "                sequence = np.concatenate((sequence, tail))\n",
        "            else:\n",
        "                sequence = model[sentence[:max_length]]\n",
        "        else:\n",
        "            sequence = np.zeros((max_length, size))        \n",
        "        sequences.append(sequence)\n",
        "    sequences = np.array(sequences)\n",
        "    \n",
        "    return sequences"
      ],
      "execution_count": 0,
      "outputs": []
    },
    {
      "metadata": {
        "id": "viZewtOfjvVF",
        "colab_type": "text"
      },
      "cell_type": "markdown",
      "source": [
        "**Parameters of sequence data**"
      ]
    },
    {
      "metadata": {
        "id": "hndR3nEijwQF",
        "colab_type": "code",
        "colab": {
          "autoexec": {
            "startup": false,
            "wait_interval": 0
          }
        }
      },
      "cell_type": "code",
      "source": [
        "max_length = n_steps = 300 \n",
        "size = n_inputs = size\n",
        "n_outputs = 6"
      ],
      "execution_count": 0,
      "outputs": []
    },
    {
      "metadata": {
        "id": "g-80e-6Wj2U9",
        "colab_type": "text"
      },
      "cell_type": "markdown",
      "source": [
        "**Function to generate batch data**"
      ]
    },
    {
      "metadata": {
        "id": "uf_3hCmLj3be",
        "colab_type": "code",
        "colab": {
          "autoexec": {
            "startup": false,
            "wait_interval": 0
          }
        }
      },
      "cell_type": "code",
      "source": [
        "def generate_train_batch(indices, comments, seq_length, sentiments, max_length, size):\n",
        "    \n",
        "    comments_batch = comments[indices]\n",
        "    seq_length_batch = seq_length[indices]\n",
        "    sentiments_batch = sentiments[indices]\n",
        "    \n",
        "    sequences_batch = sequence_generator(comments_batch, max_length, size)\n",
        "    \n",
        "    return sequences_batch, seq_length_batch, sentiments_batch"
      ],
      "execution_count": 0,
      "outputs": []
    },
    {
      "metadata": {
        "id": "F5mVpK94j8Vt",
        "colab_type": "text"
      },
      "cell_type": "markdown",
      "source": [
        "**Placeholders**"
      ]
    },
    {
      "metadata": {
        "id": "YC96FVihj9od",
        "colab_type": "code",
        "colab": {
          "autoexec": {
            "startup": false,
            "wait_interval": 0
          }
        }
      },
      "cell_type": "code",
      "source": [
        "X = tf.placeholder(tf.float32, [None, n_steps, n_inputs])\n",
        "labels = tf.placeholder(tf.float32, [None, n_outputs])\n",
        "length = tf.placeholder(tf.int32, [None])\n",
        "keep_prob = tf.placeholder(tf.float32)"
      ],
      "execution_count": 0,
      "outputs": []
    },
    {
      "metadata": {
        "id": "NGQnTsN0j_if",
        "colab_type": "text"
      },
      "cell_type": "markdown",
      "source": [
        "## Creat RNN layer"
      ]
    },
    {
      "metadata": {
        "id": "WvlSYFVFkHJv",
        "colab_type": "text"
      },
      "cell_type": "markdown",
      "source": [
        "**Create a multilayered lstm network**"
      ]
    },
    {
      "metadata": {
        "id": "AfkVIB4akI3m",
        "colab_type": "code",
        "colab": {
          "autoexec": {
            "startup": false,
            "wait_interval": 0
          }
        }
      },
      "cell_type": "code",
      "source": [
        "n_layers = 2\n",
        "n_neurons = 256"
      ],
      "execution_count": 0,
      "outputs": []
    },
    {
      "metadata": {
        "id": "mlyXTlwGkKgI",
        "colab_type": "code",
        "colab": {
          "autoexec": {
            "startup": false,
            "wait_interval": 0
          }
        }
      },
      "cell_type": "code",
      "source": [
        "lstm_cells = [tf.contrib.rnn.BasicLSTMCell(num_units=n_neurons)\n",
        "              for layer in range(n_layers)]\n",
        "lstm_cells_drop = [tf.contrib.rnn.DropoutWrapper(cell, input_keep_prob=keep_prob)\n",
        "                    for cell in lstm_cells]\n",
        "cells_across_gpu = [tf.contrib.rnn.DeviceWrapper(\"/device:GPU:0\", cell) for cell in lstm_cells_drop]\n",
        "\n",
        "multi_cell = tf.contrib.rnn.MultiRNNCell(lstm_cells)"
      ],
      "execution_count": 0,
      "outputs": []
    },
    {
      "metadata": {
        "id": "166kCAEMkOMY",
        "colab_type": "text"
      },
      "cell_type": "markdown",
      "source": [
        "**Extract the short term output of the last lstm cell**"
      ]
    },
    {
      "metadata": {
        "id": "vElCqwVLkOlc",
        "colab_type": "code",
        "colab": {
          "autoexec": {
            "startup": false,
            "wait_interval": 0
          },
          "output_extras": [
            {
              "item_id": 1
            }
          ],
          "base_uri": "https://localhost:8080/",
          "height": 34
        },
        "outputId": "5354be0f-93c1-499e-8a64-0a59a29bbe1e",
        "executionInfo": {
          "status": "ok",
          "timestamp": 1521271679060,
          "user_tz": -360,
          "elapsed": 821,
          "user": {
            "displayName": "Itrat Rahman",
            "photoUrl": "//lh3.googleusercontent.com/-j1V_yfZD3m0/AAAAAAAAAAI/AAAAAAAAFTg/pDPmK0kE5mI/s50-c-k-no/photo.jpg",
            "userId": "116815226076340067076"
          }
        }
      },
      "cell_type": "code",
      "source": [
        "outputs, states = tf.nn.dynamic_rnn(multi_cell, X, dtype=tf.float32, sequence_length=length)\n",
        "top_layer_h_state = states[-1][1]\n",
        "top_layer_h_state"
      ],
      "execution_count": 25,
      "outputs": [
        {
          "output_type": "execute_result",
          "data": {
            "text/plain": [
              "<tf.Tensor 'rnn/while/Exit_6:0' shape=(?, 256) dtype=float32>"
            ]
          },
          "metadata": {
            "tags": []
          },
          "execution_count": 25
        }
      ]
    },
    {
      "metadata": {
        "id": "JkWGp5iVkSBX",
        "colab_type": "text"
      },
      "cell_type": "markdown",
      "source": [
        "## Create fully connected layers"
      ]
    },
    {
      "metadata": {
        "id": "xElqZrfpkVA-",
        "colab_type": "text"
      },
      "cell_type": "markdown",
      "source": [
        "**Functions to create weights and biases**"
      ]
    },
    {
      "metadata": {
        "id": "KyMNUpQKkVXV",
        "colab_type": "code",
        "colab": {
          "autoexec": {
            "startup": false,
            "wait_interval": 0
          }
        }
      },
      "cell_type": "code",
      "source": [
        "def create_weights(shape):\n",
        "    '''a function to create weight tensor'''\n",
        "    with tf.device(\"/device:CPU:0\"):\n",
        "        W = tf.Variable(tf.truncated_normal(shape, stddev=0.05))\n",
        "    return W\n",
        "\n",
        "def create_biases(size):\n",
        "    '''a function to create bias tensor'''\n",
        "    with tf.device(\"/device:CPU:0\"):\n",
        "        b = tf.Variable(tf.constant(0.05, shape=[size]))\n",
        "    return b"
      ],
      "execution_count": 0,
      "outputs": []
    },
    {
      "metadata": {
        "id": "2tcZrj1Ykbm3",
        "colab_type": "text"
      },
      "cell_type": "markdown",
      "source": [
        "**Function to create fully connected layer**"
      ]
    },
    {
      "metadata": {
        "id": "fl9wMrv7kcLe",
        "colab_type": "code",
        "colab": {
          "autoexec": {
            "startup": false,
            "wait_interval": 0
          }
        }
      },
      "cell_type": "code",
      "source": [
        "def create_fc_layer(input,          \n",
        "                    num_inputs,    \n",
        "                    num_outputs,\n",
        "                    use_relu=False,\n",
        "                    dropout = False, \n",
        "                    keep_prob = 0.2):\n",
        "    \n",
        "    '''a function for creating fully connected layer'''\n",
        "    \n",
        "    #Let's define trainable weights and biases.\n",
        "    weights = create_weights(shape=[num_inputs, num_outputs])\n",
        "    biases = create_biases(num_outputs)\n",
        "    \n",
        "    with tf.device(\"/device:GPU:0\"):\n",
        "      # matrix multiplication between input and weight matrix\n",
        "      layer = tf.matmul(input, weights)\n",
        "\n",
        "      # add the bias to the convolutional layer\n",
        "      layer += biases\n",
        "\n",
        "      # add relu activation if wanted\n",
        "      if use_relu:\n",
        "          layer = tf.nn.relu(layer)\n",
        "\n",
        "      # if dropout is wanted add dropout\n",
        "      if dropout:        \n",
        "          layer = tf.nn.dropout(layer, keep_prob)\n",
        "\n",
        "    # return layer\n",
        "    return layer"
      ],
      "execution_count": 0,
      "outputs": []
    },
    {
      "metadata": {
        "id": "zDdlS4kfkggW",
        "colab_type": "text"
      },
      "cell_type": "markdown",
      "source": [
        "**Create fully connected layer**"
      ]
    },
    {
      "metadata": {
        "id": "J-eXAbM1khDN",
        "colab_type": "code",
        "colab": {
          "autoexec": {
            "startup": false,
            "wait_interval": 0
          }
        }
      },
      "cell_type": "code",
      "source": [
        "fc_layer_size1 = 36\n",
        "# fc_layer_size2 = 64"
      ],
      "execution_count": 0,
      "outputs": []
    },
    {
      "metadata": {
        "id": "EShhG42pklqd",
        "colab_type": "code",
        "colab": {
          "autoexec": {
            "startup": false,
            "wait_interval": 0
          },
          "output_extras": [
            {
              "item_id": 1
            }
          ],
          "base_uri": "https://localhost:8080/",
          "height": 34
        },
        "outputId": "febbf9bc-678d-42e3-d933-4046118fadc0",
        "executionInfo": {
          "status": "ok",
          "timestamp": 1521271682690,
          "user_tz": -360,
          "elapsed": 805,
          "user": {
            "displayName": "Itrat Rahman",
            "photoUrl": "//lh3.googleusercontent.com/-j1V_yfZD3m0/AAAAAAAAAAI/AAAAAAAAFTg/pDPmK0kE5mI/s50-c-k-no/photo.jpg",
            "userId": "116815226076340067076"
          }
        }
      },
      "cell_type": "code",
      "source": [
        "layer_fc1 = create_fc_layer(input=top_layer_h_state,\n",
        "                            num_inputs=top_layer_h_state.get_shape()[1].value,\n",
        "                            num_outputs=fc_layer_size1,\n",
        "                            use_relu=True,\n",
        "                            dropout =True,\n",
        "                            keep_prob = keep_prob)\n",
        "layer_fc1"
      ],
      "execution_count": 29,
      "outputs": [
        {
          "output_type": "execute_result",
          "data": {
            "text/plain": [
              "<tf.Tensor 'dropout/mul:0' shape=(?, 36) dtype=float32>"
            ]
          },
          "metadata": {
            "tags": []
          },
          "execution_count": 29
        }
      ]
    },
    {
      "metadata": {
        "id": "y8T2olj2kn5O",
        "colab_type": "code",
        "colab": {
          "autoexec": {
            "startup": false,
            "wait_interval": 0
          }
        }
      },
      "cell_type": "code",
      "source": [
        "# layer_fc2 = create_fc_layer(input=layer_fc1,\n",
        "#                             num_inputs=fc_layer_size1,\n",
        "#                             num_outputs=fc_layer_size2,\n",
        "#                             use_relu=True,\n",
        "#                             dropout =True,\n",
        "#                             keep_prob = keep_prob)\n",
        "# layer_fc2"
      ],
      "execution_count": 0,
      "outputs": []
    },
    {
      "metadata": {
        "id": "GDPXClIukseP",
        "colab_type": "text"
      },
      "cell_type": "markdown",
      "source": [
        "**Create output layer**"
      ]
    },
    {
      "metadata": {
        "id": "kswWNTHtks5u",
        "colab_type": "code",
        "colab": {
          "autoexec": {
            "startup": false,
            "wait_interval": 0
          },
          "output_extras": [
            {
              "item_id": 1
            }
          ],
          "base_uri": "https://localhost:8080/",
          "height": 34
        },
        "outputId": "fc9254b8-da17-4ce3-f99a-3b84a0d84c30",
        "executionInfo": {
          "status": "ok",
          "timestamp": 1521271684421,
          "user_tz": -360,
          "elapsed": 816,
          "user": {
            "displayName": "Itrat Rahman",
            "photoUrl": "//lh3.googleusercontent.com/-j1V_yfZD3m0/AAAAAAAAAAI/AAAAAAAAFTg/pDPmK0kE5mI/s50-c-k-no/photo.jpg",
            "userId": "116815226076340067076"
          }
        }
      },
      "cell_type": "code",
      "source": [
        "output = create_fc_layer(input=layer_fc1,\n",
        "                            num_inputs=fc_layer_size1,\n",
        "                            num_outputs=n_outputs,\n",
        "                            use_relu=False,\n",
        "                            dropout =False)\n",
        "output"
      ],
      "execution_count": 31,
      "outputs": [
        {
          "output_type": "execute_result",
          "data": {
            "text/plain": [
              "<tf.Tensor 'add_1:0' shape=(?, 6) dtype=float32>"
            ]
          },
          "metadata": {
            "tags": []
          },
          "execution_count": 31
        }
      ]
    },
    {
      "metadata": {
        "id": "MCZ0TUs7kzEZ",
        "colab_type": "text"
      },
      "cell_type": "markdown",
      "source": [
        "**Sigmoid of the output**"
      ]
    },
    {
      "metadata": {
        "id": "7hKn6KZhkzmV",
        "colab_type": "code",
        "colab": {
          "autoexec": {
            "startup": false,
            "wait_interval": 0
          },
          "output_extras": [
            {
              "item_id": 1
            }
          ],
          "base_uri": "https://localhost:8080/",
          "height": 34
        },
        "outputId": "e76f1b87-e6ad-47a4-8f1e-ec5e7504658a",
        "executionInfo": {
          "status": "ok",
          "timestamp": 1521271685290,
          "user_tz": -360,
          "elapsed": 805,
          "user": {
            "displayName": "Itrat Rahman",
            "photoUrl": "//lh3.googleusercontent.com/-j1V_yfZD3m0/AAAAAAAAAAI/AAAAAAAAFTg/pDPmK0kE5mI/s50-c-k-no/photo.jpg",
            "userId": "116815226076340067076"
          }
        }
      },
      "cell_type": "code",
      "source": [
        "with tf.device(\"/device:GPU:0\"):\n",
        "    logits = tf.nn.sigmoid(output)\n",
        "logits"
      ],
      "execution_count": 32,
      "outputs": [
        {
          "output_type": "execute_result",
          "data": {
            "text/plain": [
              "<tf.Tensor 'Sigmoid:0' shape=(?, 6) dtype=float32>"
            ]
          },
          "metadata": {
            "tags": []
          },
          "execution_count": 32
        }
      ]
    },
    {
      "metadata": {
        "id": "uTd1Golwk3Tq",
        "colab_type": "text"
      },
      "cell_type": "markdown",
      "source": [
        "## Create optimization operation"
      ]
    },
    {
      "metadata": {
        "id": "3P1n6a8ok6X_",
        "colab_type": "text"
      },
      "cell_type": "markdown",
      "source": [
        "**Loss operation**"
      ]
    },
    {
      "metadata": {
        "id": "29zOQn0qk6z-",
        "colab_type": "code",
        "colab": {
          "autoexec": {
            "startup": false,
            "wait_interval": 0
          }
        }
      },
      "cell_type": "code",
      "source": [
        "with tf.device(\"/device:GPU:0\"):\n",
        "    loss = tf.losses.sigmoid_cross_entropy(multi_class_labels=labels, logits=output)"
      ],
      "execution_count": 0,
      "outputs": []
    },
    {
      "metadata": {
        "id": "HZetjH4Tk_2M",
        "colab_type": "text"
      },
      "cell_type": "markdown",
      "source": [
        "**ROC AUC calculation operations**"
      ]
    },
    {
      "metadata": {
        "id": "DxBxLexulAVd",
        "colab_type": "code",
        "colab": {
          "autoexec": {
            "startup": false,
            "wait_interval": 0
          }
        }
      },
      "cell_type": "code",
      "source": [
        "roc = tf.metrics.auc(labels=labels, predictions=logits)"
      ],
      "execution_count": 0,
      "outputs": []
    },
    {
      "metadata": {
        "id": "kMHZFWCblFEs",
        "colab_type": "text"
      },
      "cell_type": "markdown",
      "source": [
        "**Train step**"
      ]
    },
    {
      "metadata": {
        "id": "ZjOSTKRolHWV",
        "colab_type": "code",
        "colab": {
          "autoexec": {
            "startup": false,
            "wait_interval": 0
          }
        }
      },
      "cell_type": "code",
      "source": [
        "# learning rate of optimizer\n",
        "learning_rate = (1e-2)*.7\n",
        "with tf.device(\"/device:GPU:0\"):\n",
        "  # train step\n",
        "  train_step = tf.train.AdamOptimizer(learning_rate=learning_rate).minimize(loss)"
      ],
      "execution_count": 0,
      "outputs": []
    },
    {
      "metadata": {
        "id": "EnlAzcMElM7Z",
        "colab_type": "text"
      },
      "cell_type": "markdown",
      "source": [
        "# Train the model"
      ]
    },
    {
      "metadata": {
        "id": "Yxpm5CJ0lNWm",
        "colab_type": "code",
        "colab": {
          "autoexec": {
            "startup": false,
            "wait_interval": 0
          }
        }
      },
      "cell_type": "code",
      "source": [
        "# lists to store the train loss, validation loss, validation accuracy at each iteration\n",
        "train_loss = []\n",
        "valid_loss = []\n",
        "valid_roc = []\n",
        "\n",
        "# batch size\n",
        "batch_size = 200\n",
        "# max iteration\n",
        "max_iter = 5000"
      ],
      "execution_count": 0,
      "outputs": []
    },
    {
      "metadata": {
        "id": "Uyp_vOkllaUf",
        "colab_type": "text"
      },
      "cell_type": "markdown",
      "source": [
        "**Train model for few hours and save the best model along the way**"
      ]
    },
    {
      "metadata": {
        "id": "ap466OPwlarF",
        "colab_type": "code",
        "colab": {
          "autoexec": {
            "startup": false,
            "wait_interval": 0
          },
          "output_extras": [
            {
              "item_id": 39
            },
            {
              "item_id": 78
            },
            {
              "item_id": 117
            },
            {
              "item_id": 156
            },
            {
              "item_id": 195
            },
            {
              "item_id": 234
            },
            {
              "item_id": 273
            },
            {
              "item_id": 312
            },
            {
              "item_id": 351
            },
            {
              "item_id": 390
            },
            {
              "item_id": 429
            },
            {
              "item_id": 468
            },
            {
              "item_id": 507
            },
            {
              "item_id": 546
            },
            {
              "item_id": 585
            },
            {
              "item_id": 624
            },
            {
              "item_id": 663
            },
            {
              "item_id": 702
            },
            {
              "item_id": 741
            },
            {
              "item_id": 780
            },
            {
              "item_id": 819
            },
            {
              "item_id": 858
            },
            {
              "item_id": 897
            },
            {
              "item_id": 936
            },
            {
              "item_id": 975
            },
            {
              "item_id": 1014
            },
            {
              "item_id": 1053
            },
            {
              "item_id": 1092
            },
            {
              "item_id": 1131
            },
            {
              "item_id": 1170
            },
            {
              "item_id": 1209
            },
            {
              "item_id": 1248
            },
            {
              "item_id": 1287
            },
            {
              "item_id": 1326
            },
            {
              "item_id": 1365
            },
            {
              "item_id": 1404
            },
            {
              "item_id": 1443
            },
            {
              "item_id": 1482
            },
            {
              "item_id": 1521
            },
            {
              "item_id": 1560
            },
            {
              "item_id": 1599
            },
            {
              "item_id": 1638
            },
            {
              "item_id": 1677
            },
            {
              "item_id": 1716
            },
            {
              "item_id": 1755
            },
            {
              "item_id": 1794
            },
            {
              "item_id": 1833
            },
            {
              "item_id": 1872
            },
            {
              "item_id": 1911
            },
            {
              "item_id": 1950
            },
            {
              "item_id": 1989
            },
            {
              "item_id": 2028
            },
            {
              "item_id": 2056
            }
          ],
          "base_uri": "https://localhost:8080/",
          "height": 34969
        },
        "outputId": "50b978cc-b016-4b19-9fbb-9910e2fefc74",
        "executionInfo": {
          "status": "ok",
          "timestamp": 1521287899065,
          "user_tz": -360,
          "elapsed": 16209749,
          "user": {
            "displayName": "Itrat Rahman",
            "photoUrl": "//lh3.googleusercontent.com/-j1V_yfZD3m0/AAAAAAAAAAI/AAAAAAAAFTg/pDPmK0kE5mI/s50-c-k-no/photo.jpg",
            "userId": "116815226076340067076"
          }
        }
      },
      "cell_type": "code",
      "source": [
        "# create a saver object\n",
        "saver = tf.train.Saver(max_to_keep=1)\n",
        "\n",
        "# variables to store the accuracy, loss, iteration of our best model\n",
        "best_accuracy = 0\n",
        "best_roc = -10\n",
        "best_iteration = None\n",
        "\n",
        "iteration = 0\n",
        "\n",
        "train_hours = 4.5\n",
        "\n",
        "# feed dictionary for validation\n",
        "feed_dict_validation =  {X:sequence_generator(comments_validation, max_length, size),\n",
        "                        labels:sentiments_validation,\n",
        "                        length:seq_length_validation,\n",
        "                        keep_prob: 1.0}\n",
        "\n",
        "t1 = time.time()\n",
        "\n",
        "# create a graph session and optimize under it\n",
        "with tf.Session() as sess:\n",
        "    \n",
        "    # initialize variables\n",
        "    sess.run(tf.global_variables_initializer())\n",
        "    sess.run(tf.local_variables_initializer())\n",
        "\n",
        "    # while minutes have not elapsed (to finish before the kernel is killed)\n",
        "    while (time.time()-t1) < train_hours*60*60:\n",
        "        \n",
        "        # break if max iteration is reached\n",
        "        if iteration >= max_iter:\n",
        "            break\n",
        "\n",
        "        # randomly choosing the indices of the batch \n",
        "        rand_index = np.random.choice(sentiments_train.shape[0], size=batch_size)\n",
        "\n",
        "        # extract the batch data\n",
        "        sequences_batch, seq_length_batch, sentiments_batch = \\\n",
        "        generate_train_batch(rand_index, comments_train, seq_length_train, sentiments_train,\n",
        "                             max_length, size)\n",
        "        \n",
        "        # feed dictionary for batch\n",
        "        feed_dict_batch =  {X:sequences_batch,\n",
        "                            labels:sentiments_batch,\n",
        "                            length:seq_length_batch,\n",
        "                            keep_prob: 0.75}\n",
        "        # feed dictionary for train\n",
        "        feed_dict_train =  {X:sequences_batch,\n",
        "                            labels:sentiments_batch,\n",
        "                            length:seq_length_batch,\n",
        "                            keep_prob: 1.0}        \n",
        "        \n",
        "        # execute optimization step\n",
        "        sess.run(train_step, feed_dict=feed_dict_batch)\n",
        "\n",
        "        # calculate temporary train loss and append it to the designated list\n",
        "        temp_train_loss = loss.eval(session=sess, feed_dict=feed_dict_train)\n",
        "        train_loss.append(temp_train_loss)\n",
        "        # calculate temporary validation loss and append it to the designated list\n",
        "        temp_validation_loss = loss.eval(session=sess, feed_dict=feed_dict_validation)\n",
        "        valid_loss.append(temp_validation_loss)\n",
        "        # calculate roc score\n",
        "        temp_roc_score = sess.run(roc, feed_dict=feed_dict_validation)[1]\n",
        "        valid_roc.append(temp_roc_score)\n",
        "        \n",
        "        # if valid loss is better than best recorded so far then\n",
        "        # update the parameters of the best model and save the model\n",
        "        if temp_roc_score > best_roc:\n",
        "            best_roc = temp_roc_score\n",
        "            best_iteration = iteration          \n",
        "            saver.save(sess, './my-model', global_step = best_iteration)\n",
        "\n",
        "        # print metric info\n",
        "        print(\"iterations:\",iteration,\n",
        "              \"| train_loss:\", temp_train_loss,\n",
        "              \"| validation_loss:\", temp_validation_loss,\n",
        "              \"| Roc Score:\", temp_roc_score,\n",
        "              \"| Time elapsed:\",str(datetime.timedelta(seconds=time.time()-t1)))\n",
        "        \n",
        "        # increment iteration\n",
        "        iteration = iteration+1"
      ],
      "execution_count": 37,
      "outputs": [
        {
          "output_type": "stream",
          "text": [
            "iterations: 0 | train_loss: 0.5740458 | validation_loss: 0.57882845 | Roc Score: 0.6239281 | Time elapsed: 0:00:08.389343\n",
            "iterations: 1 | train_loss: 0.34040487 | validation_loss: 0.35326537 | Roc Score: 0.5400566 | Time elapsed: 0:00:16.173372\n",
            "iterations: 2 | train_loss: 0.20515968 | validation_loss: 0.21471462 | Roc Score: 0.51657474 | Time elapsed: 0:00:23.899985\n",
            "iterations: 3 | train_loss: 0.13811216 | validation_loss: 0.16618414 | Roc Score: 0.50809264 | Time elapsed: 0:00:31.696014\n",
            "iterations: 4 | train_loss: 0.14900516 | validation_loss: 0.16925637 | Roc Score: 0.505002 | Time elapsed: 0:00:39.427096\n",
            "iterations: 5 | train_loss: 0.16909589 | validation_loss: 0.18417169 | Roc Score: 0.50856596 | Time elapsed: 0:00:47.225108\n",
            "iterations: 6 | train_loss: 0.20818852 | validation_loss: 0.19127567 | Roc Score: 0.51696914 | Time elapsed: 0:00:54.953782\n",
            "iterations: 7 | train_loss: 0.16023296 | validation_loss: 0.1901759 | Roc Score: 0.52574813 | Time elapsed: 0:01:02.762314\n",
            "iterations: 8 | train_loss: 0.15921807 | validation_loss: 0.18304314 | Roc Score: 0.5354235 | Time elapsed: 0:01:10.507115\n",
            "iterations: 9 | train_loss: 0.09794359 | validation_loss: 0.1739542 | Roc Score: 0.546552 | Time elapsed: 0:01:18.327204\n",
            "iterations: 10 | train_loss: 0.09150852 | validation_loss: 0.16475984 | Roc Score: 0.560733 | Time elapsed: 0:01:26.135288\n",
            "iterations: 11 | train_loss: 0.19085322 | validation_loss: 0.1539021 | Roc Score: 0.57354414 | Time elapsed: 0:01:33.920331\n",
            "iterations: 12 | train_loss: 0.12477842 | validation_loss: 0.14693668 | Roc Score: 0.5855645 | Time elapsed: 0:01:41.663962\n",
            "iterations: 13 | train_loss: 0.14932446 | validation_loss: 0.14558333 | Roc Score: 0.5963794 | Time elapsed: 0:01:49.450220\n",
            "iterations: 14 | train_loss: 0.16778766 | validation_loss: 0.15077034 | Roc Score: 0.6055371 | Time elapsed: 0:01:57.222464\n",
            "iterations: 15 | train_loss: 0.18434052 | validation_loss: 0.15675251 | Roc Score: 0.613955 | Time elapsed: 0:02:05.009767\n",
            "iterations: 16 | train_loss: 0.13686368 | validation_loss: 0.15525171 | Roc Score: 0.621343 | Time elapsed: 0:02:12.721049\n",
            "iterations: 17 | train_loss: 0.12548052 | validation_loss: 0.1486311 | Roc Score: 0.6278457 | Time elapsed: 0:02:20.542547\n",
            "iterations: 18 | train_loss: 0.123192914 | validation_loss: 0.1434984 | Roc Score: 0.6334686 | Time elapsed: 0:02:28.398697\n",
            "iterations: 19 | train_loss: 0.13650785 | validation_loss: 0.14244176 | Roc Score: 0.6377968 | Time elapsed: 0:02:36.257847\n",
            "iterations: 20 | train_loss: 0.16443942 | validation_loss: 0.14366329 | Roc Score: 0.64141166 | Time elapsed: 0:02:44.145331\n",
            "iterations: 21 | train_loss: 0.1317571 | validation_loss: 0.14580198 | Roc Score: 0.64483106 | Time elapsed: 0:02:52.035077\n",
            "iterations: 22 | train_loss: 0.15105581 | validation_loss: 0.14742272 | Roc Score: 0.6478772 | Time elapsed: 0:02:59.935721\n",
            "iterations: 23 | train_loss: 0.17973362 | validation_loss: 0.14713101 | Roc Score: 0.6507798 | Time elapsed: 0:03:07.752231\n",
            "iterations: 24 | train_loss: 0.16896436 | validation_loss: 0.14514631 | Roc Score: 0.65362346 | Time elapsed: 0:03:15.635189\n",
            "iterations: 25 | train_loss: 0.16054794 | validation_loss: 0.14222838 | Roc Score: 0.6564447 | Time elapsed: 0:03:23.490593\n",
            "iterations: 26 | train_loss: 0.18677995 | validation_loss: 0.13902444 | Roc Score: 0.6593406 | Time elapsed: 0:03:31.479461\n",
            "iterations: 27 | train_loss: 0.22975501 | validation_loss: 0.13737373 | Roc Score: 0.6616448 | Time elapsed: 0:03:39.332473\n",
            "iterations: 28 | train_loss: 0.17137535 | validation_loss: 0.1389785 | Roc Score: 0.663642 | Time elapsed: 0:03:47.185990\n",
            "iterations: 29 | train_loss: 0.15296619 | validation_loss: 0.14273427 | Roc Score: 0.6652841 | Time elapsed: 0:03:55.032611\n",
            "iterations: 30 | train_loss: 0.14224982 | validation_loss: 0.14651531 | Roc Score: 0.6667404 | Time elapsed: 0:04:02.890848\n",
            "iterations: 31 | train_loss: 0.16532618 | validation_loss: 0.149049 | Roc Score: 0.66805166 | Time elapsed: 0:04:10.753843\n",
            "iterations: 32 | train_loss: 0.1640575 | validation_loss: 0.1489691 | Roc Score: 0.6693973 | Time elapsed: 0:04:18.564591\n",
            "iterations: 33 | train_loss: 0.15522888 | validation_loss: 0.14646785 | Roc Score: 0.6706773 | Time elapsed: 0:04:26.399607\n",
            "iterations: 34 | train_loss: 0.1650352 | validation_loss: 0.14297412 | Roc Score: 0.6720872 | Time elapsed: 0:04:34.283913\n",
            "iterations: 35 | train_loss: 0.14111468 | validation_loss: 0.13932122 | Roc Score: 0.67366624 | Time elapsed: 0:04:42.171074\n",
            "iterations: 36 | train_loss: 0.121982984 | validation_loss: 0.13714334 | Roc Score: 0.67546844 | Time elapsed: 0:04:49.630701\n",
            "iterations: 37 | train_loss: 0.17751996 | validation_loss: 0.13703093 | Roc Score: 0.677152 | Time elapsed: 0:04:57.525973\n",
            "iterations: 38 | train_loss: 0.145269 | validation_loss: 0.13816456 | Roc Score: 0.6786163 | Time elapsed: 0:05:05.414650\n"
          ],
          "name": "stdout"
        },
        {
          "output_type": "stream",
          "text": [
            "iterations: 39 | train_loss: 0.15925653 | validation_loss: 0.13950823 | Roc Score: 0.6799696 | Time elapsed: 0:05:13.268322\n",
            "iterations: 40 | train_loss: 0.15329231 | validation_loss: 0.140579 | Roc Score: 0.6812106 | Time elapsed: 0:05:21.144080\n",
            "iterations: 41 | train_loss: 0.15782996 | validation_loss: 0.14069621 | Roc Score: 0.6823809 | Time elapsed: 0:05:29.008372\n",
            "iterations: 42 | train_loss: 0.13765429 | validation_loss: 0.14016505 | Roc Score: 0.683553 | Time elapsed: 0:05:36.925833\n",
            "iterations: 43 | train_loss: 0.1517509 | validation_loss: 0.13907224 | Roc Score: 0.68471104 | Time elapsed: 0:05:44.791621\n",
            "iterations: 44 | train_loss: 0.13731569 | validation_loss: 0.13794576 | Roc Score: 0.6858697 | Time elapsed: 0:05:52.722486\n",
            "iterations: 45 | train_loss: 0.16327406 | validation_loss: 0.13690007 | Roc Score: 0.6869233 | Time elapsed: 0:06:00.528943\n",
            "iterations: 46 | train_loss: 0.15154068 | validation_loss: 0.13660079 | Roc Score: 0.68797004 | Time elapsed: 0:06:08.325591\n",
            "iterations: 47 | train_loss: 0.15929264 | validation_loss: 0.13736576 | Roc Score: 0.6890356 | Time elapsed: 0:06:16.152516\n",
            "iterations: 48 | train_loss: 0.14876977 | validation_loss: 0.13861275 | Roc Score: 0.68976694 | Time elapsed: 0:06:23.993560\n",
            "iterations: 49 | train_loss: 0.126622 | validation_loss: 0.13923112 | Roc Score: 0.690404 | Time elapsed: 0:06:31.863785\n",
            "iterations: 50 | train_loss: 0.18862845 | validation_loss: 0.14003806 | Roc Score: 0.69101554 | Time elapsed: 0:06:39.774145\n",
            "iterations: 51 | train_loss: 0.13428062 | validation_loss: 0.13960221 | Roc Score: 0.69163007 | Time elapsed: 0:06:47.683426\n",
            "iterations: 52 | train_loss: 0.13157591 | validation_loss: 0.13829887 | Roc Score: 0.69236183 | Time elapsed: 0:06:55.599245\n",
            "iterations: 53 | train_loss: 0.12326018 | validation_loss: 0.1370205 | Roc Score: 0.69328165 | Time elapsed: 0:07:03.162912\n",
            "iterations: 54 | train_loss: 0.10541018 | validation_loss: 0.13645525 | Roc Score: 0.6941689 | Time elapsed: 0:07:10.992029\n",
            "iterations: 55 | train_loss: 0.16472101 | validation_loss: 0.13683857 | Roc Score: 0.6950221 | Time elapsed: 0:07:18.822730\n",
            "iterations: 56 | train_loss: 0.11151474 | validation_loss: 0.13786472 | Roc Score: 0.6957899 | Time elapsed: 0:07:26.676717\n",
            "iterations: 57 | train_loss: 0.15042143 | validation_loss: 0.13894229 | Roc Score: 0.69650966 | Time elapsed: 0:07:34.574336\n",
            "iterations: 58 | train_loss: 0.1573 | validation_loss: 0.13924491 | Roc Score: 0.6972126 | Time elapsed: 0:07:42.412496\n",
            "iterations: 59 | train_loss: 0.14368357 | validation_loss: 0.13876893 | Roc Score: 0.6979586 | Time elapsed: 0:07:50.284828\n",
            "iterations: 60 | train_loss: 0.14802478 | validation_loss: 0.13806428 | Roc Score: 0.69875693 | Time elapsed: 0:07:58.181090\n",
            "iterations: 61 | train_loss: 0.22284439 | validation_loss: 0.13678837 | Roc Score: 0.6995644 | Time elapsed: 0:08:06.032047\n",
            "iterations: 62 | train_loss: 0.16317064 | validation_loss: 0.13667075 | Roc Score: 0.7003828 | Time elapsed: 0:08:13.857766\n",
            "iterations: 63 | train_loss: 0.14852278 | validation_loss: 0.13797958 | Roc Score: 0.7011602 | Time elapsed: 0:08:21.713979\n",
            "iterations: 64 | train_loss: 0.103132024 | validation_loss: 0.13899174 | Roc Score: 0.7018348 | Time elapsed: 0:08:29.537240\n",
            "iterations: 65 | train_loss: 0.14628898 | validation_loss: 0.13954301 | Roc Score: 0.70241475 | Time elapsed: 0:08:37.375731\n",
            "iterations: 66 | train_loss: 0.11062293 | validation_loss: 0.13869117 | Roc Score: 0.70305824 | Time elapsed: 0:08:45.252687\n",
            "iterations: 67 | train_loss: 0.1281138 | validation_loss: 0.13756846 | Roc Score: 0.7037973 | Time elapsed: 0:08:53.116513\n",
            "iterations: 68 | train_loss: 0.14295365 | validation_loss: 0.13683559 | Roc Score: 0.7045566 | Time elapsed: 0:09:01.007539\n",
            "iterations: 69 | train_loss: 0.17791015 | validation_loss: 0.13666274 | Roc Score: 0.7052578 | Time elapsed: 0:09:08.619894\n",
            "iterations: 70 | train_loss: 0.08999086 | validation_loss: 0.13698235 | Roc Score: 0.7059315 | Time elapsed: 0:09:16.482313\n",
            "iterations: 71 | train_loss: 0.15656585 | validation_loss: 0.1377151 | Roc Score: 0.7065572 | Time elapsed: 0:09:24.338575\n",
            "iterations: 72 | train_loss: 0.1861743 | validation_loss: 0.13802792 | Roc Score: 0.70712435 | Time elapsed: 0:09:32.233629\n",
            "iterations: 73 | train_loss: 0.13431625 | validation_loss: 0.13808785 | Roc Score: 0.70767635 | Time elapsed: 0:09:40.121153\n",
            "iterations: 74 | train_loss: 0.140018 | validation_loss: 0.13783625 | Roc Score: 0.7081868 | Time elapsed: 0:09:47.972991\n",
            "iterations: 75 | train_loss: 0.13918394 | validation_loss: 0.13735409 | Roc Score: 0.7087155 | Time elapsed: 0:09:55.814863\n",
            "iterations: 76 | train_loss: 0.15248632 | validation_loss: 0.13672361 | Roc Score: 0.7092405 | Time elapsed: 0:10:03.747427\n",
            "iterations: 77 | train_loss: 0.10062457 | validation_loss: 0.13654566 | Roc Score: 0.7097575 | Time elapsed: 0:10:11.585654\n"
          ],
          "name": "stdout"
        },
        {
          "output_type": "stream",
          "text": [
            "iterations: 78 | train_loss: 0.14325419 | validation_loss: 0.13643655 | Roc Score: 0.71021837 | Time elapsed: 0:10:19.245929\n",
            "iterations: 79 | train_loss: 0.1445509 | validation_loss: 0.13647695 | Roc Score: 0.7106785 | Time elapsed: 0:10:27.118983\n",
            "iterations: 80 | train_loss: 0.16662274 | validation_loss: 0.13681117 | Roc Score: 0.71113545 | Time elapsed: 0:10:34.970758\n",
            "iterations: 81 | train_loss: 0.16791551 | validation_loss: 0.13758273 | Roc Score: 0.71157867 | Time elapsed: 0:10:42.826453\n",
            "iterations: 82 | train_loss: 0.14294854 | validation_loss: 0.13839564 | Roc Score: 0.71198106 | Time elapsed: 0:10:50.717068\n",
            "iterations: 83 | train_loss: 0.16963223 | validation_loss: 0.1390775 | Roc Score: 0.7123545 | Time elapsed: 0:10:58.612797\n",
            "iterations: 84 | train_loss: 0.15942828 | validation_loss: 0.13935058 | Roc Score: 0.7127236 | Time elapsed: 0:11:06.458472\n",
            "iterations: 85 | train_loss: 0.1825771 | validation_loss: 0.13958949 | Roc Score: 0.7130615 | Time elapsed: 0:11:14.332781\n",
            "iterations: 86 | train_loss: 0.085209765 | validation_loss: 0.13784714 | Roc Score: 0.71347976 | Time elapsed: 0:11:22.148090\n",
            "iterations: 87 | train_loss: 0.16475695 | validation_loss: 0.136763 | Roc Score: 0.7139367 | Time elapsed: 0:11:30.064270\n",
            "iterations: 88 | train_loss: 0.15428632 | validation_loss: 0.1363282 | Roc Score: 0.71437347 | Time elapsed: 0:11:37.952468\n",
            "iterations: 89 | train_loss: 0.14514521 | validation_loss: 0.13637367 | Roc Score: 0.7148025 | Time elapsed: 0:11:45.860697\n",
            "iterations: 90 | train_loss: 0.21670446 | validation_loss: 0.13633405 | Roc Score: 0.71522135 | Time elapsed: 0:11:53.713747\n",
            "iterations: 91 | train_loss: 0.12860909 | validation_loss: 0.13635015 | Roc Score: 0.7156193 | Time elapsed: 0:12:01.572101\n",
            "iterations: 92 | train_loss: 0.15424761 | validation_loss: 0.13644218 | Roc Score: 0.71602297 | Time elapsed: 0:12:09.435939\n",
            "iterations: 93 | train_loss: 0.1928627 | validation_loss: 0.13696922 | Roc Score: 0.71641827 | Time elapsed: 0:12:17.300153\n",
            "iterations: 94 | train_loss: 0.114900604 | validation_loss: 0.13732472 | Roc Score: 0.71679735 | Time elapsed: 0:12:25.176473\n",
            "iterations: 95 | train_loss: 0.17716692 | validation_loss: 0.13801876 | Roc Score: 0.7171365 | Time elapsed: 0:12:33.022906\n",
            "iterations: 96 | train_loss: 0.1770536 | validation_loss: 0.13893908 | Roc Score: 0.7174289 | Time elapsed: 0:12:40.899113\n",
            "iterations: 97 | train_loss: 0.16563103 | validation_loss: 0.13965148 | Roc Score: 0.7176562 | Time elapsed: 0:12:48.757630\n",
            "iterations: 98 | train_loss: 0.14574511 | validation_loss: 0.13913155 | Roc Score: 0.71789813 | Time elapsed: 0:12:56.662312\n",
            "iterations: 99 | train_loss: 0.16180363 | validation_loss: 0.13820763 | Roc Score: 0.7181662 | Time elapsed: 0:13:04.554105\n",
            "iterations: 100 | train_loss: 0.1346065 | validation_loss: 0.13711761 | Roc Score: 0.71848834 | Time elapsed: 0:13:12.393176\n",
            "iterations: 101 | train_loss: 0.12448716 | validation_loss: 0.13651703 | Roc Score: 0.71881866 | Time elapsed: 0:13:20.277329\n",
            "iterations: 102 | train_loss: 0.12445029 | validation_loss: 0.13683747 | Roc Score: 0.71912766 | Time elapsed: 0:13:28.124652\n",
            "iterations: 103 | train_loss: 0.15938756 | validation_loss: 0.13765253 | Roc Score: 0.7193937 | Time elapsed: 0:13:36.009747\n",
            "iterations: 104 | train_loss: 0.13828045 | validation_loss: 0.13834831 | Roc Score: 0.7196019 | Time elapsed: 0:13:43.864573\n",
            "iterations: 105 | train_loss: 0.1448918 | validation_loss: 0.13867098 | Roc Score: 0.7198017 | Time elapsed: 0:13:51.673151\n",
            "iterations: 106 | train_loss: 0.20360138 | validation_loss: 0.13736165 | Roc Score: 0.7200959 | Time elapsed: 0:13:59.541983\n",
            "iterations: 107 | train_loss: 0.14433752 | validation_loss: 0.13647678 | Roc Score: 0.72041386 | Time elapsed: 0:14:07.358262\n",
            "iterations: 108 | train_loss: 0.16256113 | validation_loss: 0.13680613 | Roc Score: 0.72074354 | Time elapsed: 0:14:15.248759\n",
            "iterations: 109 | train_loss: 0.13734595 | validation_loss: 0.13799062 | Roc Score: 0.7210571 | Time elapsed: 0:14:23.072274\n",
            "iterations: 110 | train_loss: 0.15070015 | validation_loss: 0.13947466 | Roc Score: 0.72132057 | Time elapsed: 0:14:30.963898\n",
            "iterations: 111 | train_loss: 0.13509747 | validation_loss: 0.14004312 | Roc Score: 0.7215615 | Time elapsed: 0:14:38.897285\n",
            "iterations: 112 | train_loss: 0.13715428 | validation_loss: 0.13955238 | Roc Score: 0.7217992 | Time elapsed: 0:14:46.787949\n",
            "iterations: 113 | train_loss: 0.12040115 | validation_loss: 0.137864 | Roc Score: 0.7220981 | Time elapsed: 0:14:54.650438\n",
            "iterations: 114 | train_loss: 0.1162893 | validation_loss: 0.13648343 | Roc Score: 0.7224095 | Time elapsed: 0:15:02.530009\n",
            "iterations: 115 | train_loss: 0.16990075 | validation_loss: 0.13638301 | Roc Score: 0.72268647 | Time elapsed: 0:15:10.382129\n",
            "iterations: 116 | train_loss: 0.1573192 | validation_loss: 0.13671663 | Roc Score: 0.7229408 | Time elapsed: 0:15:18.211903\n"
          ],
          "name": "stdout"
        },
        {
          "output_type": "stream",
          "text": [
            "iterations: 117 | train_loss: 0.19844228 | validation_loss: 0.13655105 | Roc Score: 0.7231889 | Time elapsed: 0:15:26.071966\n",
            "iterations: 118 | train_loss: 0.12110068 | validation_loss: 0.13651818 | Roc Score: 0.72342265 | Time elapsed: 0:15:33.988826\n",
            "iterations: 119 | train_loss: 0.14176923 | validation_loss: 0.13647753 | Roc Score: 0.7236553 | Time elapsed: 0:15:42.044035\n",
            "iterations: 120 | train_loss: 0.10523741 | validation_loss: 0.13658942 | Roc Score: 0.72387135 | Time elapsed: 0:15:49.969409\n",
            "iterations: 121 | train_loss: 0.118977435 | validation_loss: 0.13682105 | Roc Score: 0.7240633 | Time elapsed: 0:15:57.846420\n",
            "iterations: 122 | train_loss: 0.15074858 | validation_loss: 0.13669373 | Roc Score: 0.7242811 | Time elapsed: 0:16:05.680233\n",
            "iterations: 123 | train_loss: 0.12850988 | validation_loss: 0.13656522 | Roc Score: 0.7244987 | Time elapsed: 0:16:13.246733\n",
            "iterations: 124 | train_loss: 0.15037937 | validation_loss: 0.13639747 | Roc Score: 0.72472113 | Time elapsed: 0:16:21.098332\n",
            "iterations: 125 | train_loss: 0.16006495 | validation_loss: 0.13632394 | Roc Score: 0.7249642 | Time elapsed: 0:16:29.062188\n",
            "iterations: 126 | train_loss: 0.14557575 | validation_loss: 0.13657579 | Roc Score: 0.7252047 | Time elapsed: 0:16:36.897485\n",
            "iterations: 127 | train_loss: 0.11767314 | validation_loss: 0.13683179 | Roc Score: 0.7254462 | Time elapsed: 0:16:44.752541\n",
            "iterations: 128 | train_loss: 0.17145413 | validation_loss: 0.13722597 | Roc Score: 0.7256825 | Time elapsed: 0:16:52.608295\n",
            "iterations: 129 | train_loss: 0.1355262 | validation_loss: 0.13728398 | Roc Score: 0.7259101 | Time elapsed: 0:17:00.414865\n",
            "iterations: 130 | train_loss: 0.1683346 | validation_loss: 0.13722506 | Roc Score: 0.7261348 | Time elapsed: 0:17:08.269035\n",
            "iterations: 131 | train_loss: 0.13029689 | validation_loss: 0.13678056 | Roc Score: 0.7263568 | Time elapsed: 0:17:16.082998\n",
            "iterations: 132 | train_loss: 0.1410738 | validation_loss: 0.13643427 | Roc Score: 0.7265814 | Time elapsed: 0:17:23.962721\n",
            "iterations: 133 | train_loss: 0.13682677 | validation_loss: 0.13619731 | Roc Score: 0.72679573 | Time elapsed: 0:17:31.811507\n",
            "iterations: 134 | train_loss: 0.10602515 | validation_loss: 0.1363246 | Roc Score: 0.72700727 | Time elapsed: 0:17:39.721960\n",
            "iterations: 135 | train_loss: 0.12851942 | validation_loss: 0.13698979 | Roc Score: 0.7271983 | Time elapsed: 0:17:47.555483\n",
            "iterations: 136 | train_loss: 0.13007246 | validation_loss: 0.13799292 | Roc Score: 0.72734725 | Time elapsed: 0:17:55.455831\n",
            "iterations: 137 | train_loss: 0.13609181 | validation_loss: 0.1386156 | Roc Score: 0.72746193 | Time elapsed: 0:18:03.348744\n",
            "iterations: 138 | train_loss: 0.14570029 | validation_loss: 0.13845246 | Roc Score: 0.727582 | Time elapsed: 0:18:11.217444\n",
            "iterations: 139 | train_loss: 0.13650678 | validation_loss: 0.13778925 | Roc Score: 0.7277544 | Time elapsed: 0:18:19.063243\n",
            "iterations: 140 | train_loss: 0.16795614 | validation_loss: 0.1367835 | Roc Score: 0.7279375 | Time elapsed: 0:18:26.940433\n",
            "iterations: 141 | train_loss: 0.15159793 | validation_loss: 0.13642217 | Roc Score: 0.72815937 | Time elapsed: 0:18:34.855166\n",
            "iterations: 142 | train_loss: 0.111352324 | validation_loss: 0.13664521 | Roc Score: 0.7283782 | Time elapsed: 0:18:42.706353\n",
            "iterations: 143 | train_loss: 0.10865509 | validation_loss: 0.13670972 | Roc Score: 0.7285808 | Time elapsed: 0:18:50.533555\n",
            "iterations: 144 | train_loss: 0.13537087 | validation_loss: 0.13654074 | Roc Score: 0.72877973 | Time elapsed: 0:18:58.411770\n",
            "iterations: 145 | train_loss: 0.14361411 | validation_loss: 0.13637868 | Roc Score: 0.7289703 | Time elapsed: 0:19:06.307122\n",
            "iterations: 146 | train_loss: 0.106163606 | validation_loss: 0.13609977 | Roc Score: 0.7291474 | Time elapsed: 0:19:14.181722\n",
            "iterations: 147 | train_loss: 0.13725464 | validation_loss: 0.136265 | Roc Score: 0.7293799 | Time elapsed: 0:19:22.149722\n",
            "iterations: 148 | train_loss: 0.18517862 | validation_loss: 0.13638698 | Roc Score: 0.7295372 | Time elapsed: 0:19:30.048993\n",
            "iterations: 149 | train_loss: 0.110610425 | validation_loss: 0.13664697 | Roc Score: 0.72971696 | Time elapsed: 0:19:37.951173\n",
            "iterations: 150 | train_loss: 0.13215841 | validation_loss: 0.13673387 | Roc Score: 0.7299045 | Time elapsed: 0:19:45.897734\n",
            "iterations: 151 | train_loss: 0.1546001 | validation_loss: 0.13652582 | Roc Score: 0.7300426 | Time elapsed: 0:19:53.763514\n",
            "iterations: 152 | train_loss: 0.104037635 | validation_loss: 0.13650884 | Roc Score: 0.7301982 | Time elapsed: 0:20:01.862422\n",
            "iterations: 153 | train_loss: 0.104444645 | validation_loss: 0.13663772 | Roc Score: 0.73035324 | Time elapsed: 0:20:09.734812\n",
            "iterations: 154 | train_loss: 0.109025 | validation_loss: 0.13704461 | Roc Score: 0.7304918 | Time elapsed: 0:20:17.569305\n",
            "iterations: 155 | train_loss: 0.12503192 | validation_loss: 0.13745825 | Roc Score: 0.73060817 | Time elapsed: 0:20:25.424322\n"
          ],
          "name": "stdout"
        },
        {
          "output_type": "stream",
          "text": [
            "iterations: 156 | train_loss: 0.13667962 | validation_loss: 0.13728322 | Roc Score: 0.7307519 | Time elapsed: 0:20:33.407676\n",
            "iterations: 157 | train_loss: 0.25438488 | validation_loss: 0.1357341 | Roc Score: 0.73093927 | Time elapsed: 0:20:41.326853\n",
            "iterations: 158 | train_loss: 0.12987502 | validation_loss: 0.13644479 | Roc Score: 0.73113394 | Time elapsed: 0:20:49.174593\n",
            "iterations: 159 | train_loss: 0.14901833 | validation_loss: 0.13878094 | Roc Score: 0.7312321 | Time elapsed: 0:20:57.049419\n",
            "iterations: 160 | train_loss: 0.1656204 | validation_loss: 0.14187236 | Roc Score: 0.73125935 | Time elapsed: 0:21:04.920439\n",
            "iterations: 161 | train_loss: 0.14229563 | validation_loss: 0.14190483 | Roc Score: 0.7313254 | Time elapsed: 0:21:12.791131\n",
            "iterations: 162 | train_loss: 0.1760489 | validation_loss: 0.14099658 | Roc Score: 0.7313818 | Time elapsed: 0:21:20.585325\n",
            "iterations: 163 | train_loss: 0.1614576 | validation_loss: 0.13907899 | Roc Score: 0.7314687 | Time elapsed: 0:21:28.506728\n",
            "iterations: 164 | train_loss: 0.09579149 | validation_loss: 0.1359357 | Roc Score: 0.73167616 | Time elapsed: 0:21:36.350573\n",
            "iterations: 165 | train_loss: 0.12290062 | validation_loss: 0.13565658 | Roc Score: 0.7318686 | Time elapsed: 0:21:44.195347\n",
            "iterations: 166 | train_loss: 0.12269447 | validation_loss: 0.13812296 | Roc Score: 0.73200816 | Time elapsed: 0:21:52.075048\n",
            "iterations: 167 | train_loss: 0.17335333 | validation_loss: 0.13909362 | Roc Score: 0.7321113 | Time elapsed: 0:21:59.968194\n",
            "iterations: 168 | train_loss: 0.18037347 | validation_loss: 0.13604937 | Roc Score: 0.73227 | Time elapsed: 0:22:07.557332\n",
            "iterations: 169 | train_loss: 0.15409549 | validation_loss: 0.13361028 | Roc Score: 0.73249656 | Time elapsed: 0:22:15.401447\n",
            "iterations: 170 | train_loss: 0.09097497 | validation_loss: 0.13282265 | Roc Score: 0.73271394 | Time elapsed: 0:22:23.241273\n",
            "iterations: 171 | train_loss: 0.15205006 | validation_loss: 0.13220207 | Roc Score: 0.73296785 | Time elapsed: 0:22:31.121735\n",
            "iterations: 172 | train_loss: 0.1297308 | validation_loss: 0.13182521 | Roc Score: 0.7332515 | Time elapsed: 0:22:38.994717\n",
            "iterations: 173 | train_loss: 0.1466482 | validation_loss: 0.13152817 | Roc Score: 0.73350173 | Time elapsed: 0:22:46.857734\n",
            "iterations: 174 | train_loss: 0.15190545 | validation_loss: 0.13083531 | Roc Score: 0.7337735 | Time elapsed: 0:22:54.736466\n",
            "iterations: 175 | train_loss: 0.12879965 | validation_loss: 0.129658 | Roc Score: 0.7340977 | Time elapsed: 0:23:02.611653\n",
            "iterations: 176 | train_loss: 0.13062784 | validation_loss: 0.12781581 | Roc Score: 0.73446786 | Time elapsed: 0:23:10.431648\n",
            "iterations: 177 | train_loss: 0.15112814 | validation_loss: 0.12568867 | Roc Score: 0.7348909 | Time elapsed: 0:23:18.343639\n",
            "iterations: 178 | train_loss: 0.15061244 | validation_loss: 0.12291869 | Roc Score: 0.735392 | Time elapsed: 0:23:26.163617\n",
            "iterations: 179 | train_loss: 0.11617288 | validation_loss: 0.117445536 | Roc Score: 0.73603284 | Time elapsed: 0:23:34.020221\n",
            "iterations: 180 | train_loss: 0.122533694 | validation_loss: 0.11424213 | Roc Score: 0.7367764 | Time elapsed: 0:23:41.898384\n",
            "iterations: 181 | train_loss: 0.11018089 | validation_loss: 0.11442905 | Roc Score: 0.73759866 | Time elapsed: 0:23:49.794591\n",
            "iterations: 182 | train_loss: 0.093877986 | validation_loss: 0.113718405 | Roc Score: 0.73847 | Time elapsed: 0:23:57.716512\n",
            "iterations: 183 | train_loss: 0.14660946 | validation_loss: 0.11139384 | Roc Score: 0.7394013 | Time elapsed: 0:24:05.608906\n",
            "iterations: 184 | train_loss: 0.09164477 | validation_loss: 0.10855634 | Roc Score: 0.7403652 | Time elapsed: 0:24:13.435251\n",
            "iterations: 185 | train_loss: 0.10226169 | validation_loss: 0.10559832 | Roc Score: 0.74138874 | Time elapsed: 0:24:21.286839\n",
            "iterations: 186 | train_loss: 0.080103725 | validation_loss: 0.10599374 | Roc Score: 0.7423508 | Time elapsed: 0:24:28.979022\n",
            "iterations: 187 | train_loss: 0.061911486 | validation_loss: 0.10208793 | Roc Score: 0.74341655 | Time elapsed: 0:24:36.881866\n",
            "iterations: 188 | train_loss: 0.11878404 | validation_loss: 0.101727515 | Roc Score: 0.7444931 | Time elapsed: 0:24:44.827891\n",
            "iterations: 189 | train_loss: 0.111283414 | validation_loss: 0.101653025 | Roc Score: 0.7456051 | Time elapsed: 0:24:52.707460\n",
            "iterations: 190 | train_loss: 0.13310862 | validation_loss: 0.10062487 | Roc Score: 0.74677134 | Time elapsed: 0:25:00.601782\n",
            "iterations: 191 | train_loss: 0.14202002 | validation_loss: 0.10774484 | Roc Score: 0.74791574 | Time elapsed: 0:25:08.482705\n",
            "iterations: 192 | train_loss: 0.11193338 | validation_loss: 0.10468874 | Roc Score: 0.7490814 | Time elapsed: 0:25:16.340351\n",
            "iterations: 193 | train_loss: 0.08156864 | validation_loss: 0.089752816 | Roc Score: 0.7503873 | Time elapsed: 0:25:24.238483\n",
            "iterations: 194 | train_loss: 0.10438891 | validation_loss: 0.090696044 | Roc Score: 0.7516563 | Time elapsed: 0:25:31.649477\n"
          ],
          "name": "stdout"
        },
        {
          "output_type": "stream",
          "text": [
            "iterations: 195 | train_loss: 0.055353273 | validation_loss: 0.08650563 | Roc Score: 0.7529942 | Time elapsed: 0:25:39.523916\n",
            "iterations: 196 | train_loss: 0.07981749 | validation_loss: 0.08478284 | Roc Score: 0.7543732 | Time elapsed: 0:25:47.412899\n",
            "iterations: 197 | train_loss: 0.050724797 | validation_loss: 0.08407155 | Roc Score: 0.75577796 | Time elapsed: 0:25:55.268939\n",
            "iterations: 198 | train_loss: 0.07150304 | validation_loss: 0.08416073 | Roc Score: 0.7571177 | Time elapsed: 0:26:03.114507\n",
            "iterations: 199 | train_loss: 0.11078705 | validation_loss: 0.0848179 | Roc Score: 0.7584351 | Time elapsed: 0:26:11.023885\n",
            "iterations: 200 | train_loss: 0.06653453 | validation_loss: 0.08750772 | Roc Score: 0.7596375 | Time elapsed: 0:26:18.824821\n",
            "iterations: 201 | train_loss: 0.07616639 | validation_loss: 0.08906954 | Roc Score: 0.76081634 | Time elapsed: 0:26:26.729741\n",
            "iterations: 202 | train_loss: 0.11245214 | validation_loss: 0.08588573 | Roc Score: 0.76204884 | Time elapsed: 0:26:34.632814\n",
            "iterations: 203 | train_loss: 0.09731755 | validation_loss: 0.086506955 | Roc Score: 0.76331013 | Time elapsed: 0:26:42.553496\n",
            "iterations: 204 | train_loss: 0.09133755 | validation_loss: 0.08579351 | Roc Score: 0.76457363 | Time elapsed: 0:26:50.461422\n",
            "iterations: 205 | train_loss: 0.11910019 | validation_loss: 0.08916966 | Roc Score: 0.76578397 | Time elapsed: 0:26:58.410761\n",
            "iterations: 206 | train_loss: 0.08211546 | validation_loss: 0.08343468 | Roc Score: 0.7670548 | Time elapsed: 0:27:06.316904\n",
            "iterations: 207 | train_loss: 0.08741536 | validation_loss: 0.08267076 | Roc Score: 0.76831824 | Time elapsed: 0:27:14.209742\n",
            "iterations: 208 | train_loss: 0.11546851 | validation_loss: 0.08311403 | Roc Score: 0.7695502 | Time elapsed: 0:27:22.090234\n",
            "iterations: 209 | train_loss: 0.09876422 | validation_loss: 0.08129946 | Roc Score: 0.7707884 | Time elapsed: 0:27:30.017239\n",
            "iterations: 210 | train_loss: 0.094535515 | validation_loss: 0.08123304 | Roc Score: 0.7720098 | Time elapsed: 0:27:37.895074\n",
            "iterations: 211 | train_loss: 0.059099708 | validation_loss: 0.082833156 | Roc Score: 0.77320063 | Time elapsed: 0:27:45.810704\n",
            "iterations: 212 | train_loss: 0.079519935 | validation_loss: 0.083664946 | Roc Score: 0.7743838 | Time elapsed: 0:27:53.669272\n",
            "iterations: 213 | train_loss: 0.049457982 | validation_loss: 0.08712635 | Roc Score: 0.7754861 | Time elapsed: 0:28:01.309700\n",
            "iterations: 214 | train_loss: 0.08674423 | validation_loss: 0.087039776 | Roc Score: 0.7765267 | Time elapsed: 0:28:09.035868\n",
            "iterations: 215 | train_loss: 0.08042643 | validation_loss: 0.08626381 | Roc Score: 0.7775375 | Time elapsed: 0:28:16.909203\n",
            "iterations: 216 | train_loss: 0.05661684 | validation_loss: 0.08264231 | Roc Score: 0.77857363 | Time elapsed: 0:28:24.778391\n",
            "iterations: 217 | train_loss: 0.06804473 | validation_loss: 0.08021512 | Roc Score: 0.7796463 | Time elapsed: 0:28:32.653820\n",
            "iterations: 218 | train_loss: 0.07989968 | validation_loss: 0.0774823 | Roc Score: 0.78078276 | Time elapsed: 0:28:40.386539\n",
            "iterations: 219 | train_loss: 0.06085816 | validation_loss: 0.07793484 | Roc Score: 0.7819344 | Time elapsed: 0:28:48.254288\n",
            "iterations: 220 | train_loss: 0.079539716 | validation_loss: 0.07905399 | Roc Score: 0.7830576 | Time elapsed: 0:28:56.168260\n",
            "iterations: 221 | train_loss: 0.047812417 | validation_loss: 0.07607278 | Roc Score: 0.7841632 | Time elapsed: 0:29:04.068778\n",
            "iterations: 222 | train_loss: 0.087563805 | validation_loss: 0.077457495 | Roc Score: 0.78521025 | Time elapsed: 0:29:11.913631\n",
            "iterations: 223 | train_loss: 0.069211274 | validation_loss: 0.07830266 | Roc Score: 0.7862236 | Time elapsed: 0:29:19.784765\n",
            "iterations: 224 | train_loss: 0.08717115 | validation_loss: 0.07691544 | Roc Score: 0.7872571 | Time elapsed: 0:29:27.713404\n",
            "iterations: 225 | train_loss: 0.079941586 | validation_loss: 0.07525226 | Roc Score: 0.7883086 | Time elapsed: 0:29:35.622645\n",
            "iterations: 226 | train_loss: 0.075829946 | validation_loss: 0.07610192 | Roc Score: 0.789323 | Time elapsed: 0:29:43.474087\n",
            "iterations: 227 | train_loss: 0.055283815 | validation_loss: 0.07453019 | Roc Score: 0.7903584 | Time elapsed: 0:29:51.371308\n",
            "iterations: 228 | train_loss: 0.08125588 | validation_loss: 0.07382771 | Roc Score: 0.7914002 | Time elapsed: 0:29:59.225276\n",
            "iterations: 229 | train_loss: 0.07255009 | validation_loss: 0.07363689 | Roc Score: 0.79244214 | Time elapsed: 0:30:07.116240\n",
            "iterations: 230 | train_loss: 0.062299233 | validation_loss: 0.07406712 | Roc Score: 0.7934626 | Time elapsed: 0:30:14.980210\n",
            "iterations: 231 | train_loss: 0.083393134 | validation_loss: 0.07245526 | Roc Score: 0.794496 | Time elapsed: 0:30:22.775073\n",
            "iterations: 232 | train_loss: 0.0651887 | validation_loss: 0.06969388 | Roc Score: 0.7955531 | Time elapsed: 0:30:30.689001\n",
            "iterations: 233 | train_loss: 0.056847807 | validation_loss: 0.06824916 | Roc Score: 0.79660976 | Time elapsed: 0:30:38.603942\n"
          ],
          "name": "stdout"
        },
        {
          "output_type": "stream",
          "text": [
            "iterations: 234 | train_loss: 0.042206515 | validation_loss: 0.06888352 | Roc Score: 0.7976556 | Time elapsed: 0:30:46.504492\n",
            "iterations: 235 | train_loss: 0.04201417 | validation_loss: 0.066682085 | Roc Score: 0.79871213 | Time elapsed: 0:30:54.422384\n",
            "iterations: 236 | train_loss: 0.047582753 | validation_loss: 0.066617265 | Roc Score: 0.79974335 | Time elapsed: 0:31:02.360220\n",
            "iterations: 237 | train_loss: 0.06792684 | validation_loss: 0.06766724 | Roc Score: 0.80075055 | Time elapsed: 0:31:10.231699\n",
            "iterations: 238 | train_loss: 0.08600541 | validation_loss: 0.07428081 | Roc Score: 0.80176556 | Time elapsed: 0:31:18.093214\n",
            "iterations: 239 | train_loss: 0.051633004 | validation_loss: 0.07468925 | Roc Score: 0.8027636 | Time elapsed: 0:31:26.035823\n",
            "iterations: 240 | train_loss: 0.06057811 | validation_loss: 0.071791865 | Roc Score: 0.8037331 | Time elapsed: 0:31:33.968958\n",
            "iterations: 241 | train_loss: 0.07258385 | validation_loss: 0.06905441 | Roc Score: 0.8046604 | Time elapsed: 0:31:41.808423\n",
            "iterations: 242 | train_loss: 0.060560074 | validation_loss: 0.06832992 | Roc Score: 0.80558103 | Time elapsed: 0:31:49.671345\n",
            "iterations: 243 | train_loss: 0.057880454 | validation_loss: 0.06892652 | Roc Score: 0.8064959 | Time elapsed: 0:31:57.492606\n",
            "iterations: 244 | train_loss: 0.045091808 | validation_loss: 0.06960578 | Roc Score: 0.807414 | Time elapsed: 0:32:05.400357\n",
            "iterations: 245 | train_loss: 0.06813538 | validation_loss: 0.06616825 | Roc Score: 0.80836684 | Time elapsed: 0:32:13.273303\n",
            "iterations: 246 | train_loss: 0.059463166 | validation_loss: 0.06339342 | Roc Score: 0.80933326 | Time elapsed: 0:32:21.111288\n",
            "iterations: 247 | train_loss: 0.06784 | validation_loss: 0.06915473 | Roc Score: 0.8102154 | Time elapsed: 0:32:28.994203\n",
            "iterations: 248 | train_loss: 0.07287968 | validation_loss: 0.067252986 | Roc Score: 0.8111211 | Time elapsed: 0:32:36.895853\n",
            "iterations: 249 | train_loss: 0.050666764 | validation_loss: 0.06286091 | Roc Score: 0.81206244 | Time elapsed: 0:32:44.733231\n",
            "iterations: 250 | train_loss: 0.04242918 | validation_loss: 0.06430403 | Roc Score: 0.8129599 | Time elapsed: 0:32:52.473511\n",
            "iterations: 251 | train_loss: 0.090203315 | validation_loss: 0.06859019 | Roc Score: 0.8137804 | Time elapsed: 0:33:00.328500\n",
            "iterations: 252 | train_loss: 0.050888114 | validation_loss: 0.074271925 | Roc Score: 0.8144939 | Time elapsed: 0:33:08.185592\n",
            "iterations: 253 | train_loss: 0.05055494 | validation_loss: 0.07898257 | Roc Score: 0.81511676 | Time elapsed: 0:33:16.039429\n",
            "iterations: 254 | train_loss: 0.08880712 | validation_loss: 0.07527185 | Roc Score: 0.8158013 | Time elapsed: 0:33:23.944058\n",
            "iterations: 255 | train_loss: 0.068831325 | validation_loss: 0.06846645 | Roc Score: 0.81658226 | Time elapsed: 0:33:31.854929\n",
            "iterations: 256 | train_loss: 0.047126792 | validation_loss: 0.063112676 | Roc Score: 0.8174292 | Time elapsed: 0:33:39.745731\n",
            "iterations: 257 | train_loss: 0.07423041 | validation_loss: 0.061487496 | Roc Score: 0.8182984 | Time elapsed: 0:33:47.639044\n",
            "iterations: 258 | train_loss: 0.07269084 | validation_loss: 0.065772995 | Roc Score: 0.81911796 | Time elapsed: 0:33:55.541842\n",
            "iterations: 259 | train_loss: 0.04762879 | validation_loss: 0.06768961 | Roc Score: 0.8199091 | Time elapsed: 0:34:03.506140\n",
            "iterations: 260 | train_loss: 0.06184722 | validation_loss: 0.065134406 | Roc Score: 0.82072157 | Time elapsed: 0:34:11.372213\n",
            "iterations: 261 | train_loss: 0.05641922 | validation_loss: 0.061021272 | Roc Score: 0.8215636 | Time elapsed: 0:34:19.247624\n",
            "iterations: 262 | train_loss: 0.04208617 | validation_loss: 0.060018368 | Roc Score: 0.8224072 | Time elapsed: 0:34:27.115578\n",
            "iterations: 263 | train_loss: 0.04714495 | validation_loss: 0.06145323 | Roc Score: 0.8232266 | Time elapsed: 0:34:34.955737\n",
            "iterations: 264 | train_loss: 0.043192722 | validation_loss: 0.062256917 | Roc Score: 0.82402545 | Time elapsed: 0:34:42.845748\n",
            "iterations: 265 | train_loss: 0.049603913 | validation_loss: 0.060571257 | Roc Score: 0.82483757 | Time elapsed: 0:34:50.543442\n",
            "iterations: 266 | train_loss: 0.06862378 | validation_loss: 0.058503274 | Roc Score: 0.82567346 | Time elapsed: 0:34:58.450699\n",
            "iterations: 267 | train_loss: 0.040534507 | validation_loss: 0.05827631 | Roc Score: 0.82651764 | Time elapsed: 0:35:06.337959\n",
            "iterations: 268 | train_loss: 0.05495444 | validation_loss: 0.058577742 | Roc Score: 0.8273577 | Time elapsed: 0:35:14.235021\n",
            "iterations: 269 | train_loss: 0.04563926 | validation_loss: 0.058522277 | Roc Score: 0.82818866 | Time elapsed: 0:35:21.972791\n",
            "iterations: 270 | train_loss: 0.04463515 | validation_loss: 0.057818413 | Roc Score: 0.82901305 | Time elapsed: 0:35:29.883945\n",
            "iterations: 271 | train_loss: 0.05709723 | validation_loss: 0.057491094 | Roc Score: 0.82983 | Time elapsed: 0:35:37.755602\n",
            "iterations: 272 | train_loss: 0.05885554 | validation_loss: 0.057359844 | Roc Score: 0.83063936 | Time elapsed: 0:35:45.685040\n"
          ],
          "name": "stdout"
        },
        {
          "output_type": "stream",
          "text": [
            "iterations: 273 | train_loss: 0.041156303 | validation_loss: 0.05812736 | Roc Score: 0.83142996 | Time elapsed: 0:35:53.599802\n",
            "iterations: 274 | train_loss: 0.0678432 | validation_loss: 0.05682403 | Roc Score: 0.8322231 | Time elapsed: 0:36:01.509218\n",
            "iterations: 275 | train_loss: 0.03482076 | validation_loss: 0.056937676 | Roc Score: 0.8330049 | Time elapsed: 0:36:09.343778\n",
            "iterations: 276 | train_loss: 0.037319064 | validation_loss: 0.05718611 | Roc Score: 0.8337706 | Time elapsed: 0:36:17.202400\n",
            "iterations: 277 | train_loss: 0.07398403 | validation_loss: 0.057267174 | Roc Score: 0.83452576 | Time elapsed: 0:36:25.158739\n",
            "iterations: 278 | train_loss: 0.039886717 | validation_loss: 0.05713871 | Roc Score: 0.8352656 | Time elapsed: 0:36:33.045278\n",
            "iterations: 279 | train_loss: 0.039132345 | validation_loss: 0.05915866 | Roc Score: 0.83596945 | Time elapsed: 0:36:40.929810\n",
            "iterations: 280 | train_loss: 0.048830573 | validation_loss: 0.061103392 | Roc Score: 0.83664155 | Time elapsed: 0:36:48.815569\n",
            "iterations: 281 | train_loss: 0.04261899 | validation_loss: 0.062054314 | Roc Score: 0.83729625 | Time elapsed: 0:36:56.693222\n",
            "iterations: 282 | train_loss: 0.08086402 | validation_loss: 0.059083007 | Roc Score: 0.837986 | Time elapsed: 0:37:04.565617\n",
            "iterations: 283 | train_loss: 0.069826104 | validation_loss: 0.0571292 | Roc Score: 0.83869296 | Time elapsed: 0:37:12.417928\n",
            "iterations: 284 | train_loss: 0.04621602 | validation_loss: 0.058108542 | Roc Score: 0.839393 | Time elapsed: 0:37:20.300281\n",
            "iterations: 285 | train_loss: 0.054674625 | validation_loss: 0.060056794 | Roc Score: 0.8400746 | Time elapsed: 0:37:28.204394\n",
            "iterations: 286 | train_loss: 0.03940555 | validation_loss: 0.059228484 | Roc Score: 0.8407598 | Time elapsed: 0:37:36.100135\n",
            "iterations: 287 | train_loss: 0.042167045 | validation_loss: 0.056522783 | Roc Score: 0.841453 | Time elapsed: 0:37:43.960121\n",
            "iterations: 288 | train_loss: 0.06269297 | validation_loss: 0.0576099 | Roc Score: 0.8421204 | Time elapsed: 0:37:51.821508\n",
            "iterations: 289 | train_loss: 0.055622526 | validation_loss: 0.05916431 | Roc Score: 0.84276545 | Time elapsed: 0:37:59.701524\n",
            "iterations: 290 | train_loss: 0.08232313 | validation_loss: 0.05790175 | Roc Score: 0.8434209 | Time elapsed: 0:38:07.542268\n",
            "iterations: 291 | train_loss: 0.070158176 | validation_loss: 0.05644448 | Roc Score: 0.84408975 | Time elapsed: 0:38:15.397077\n",
            "iterations: 292 | train_loss: 0.048770595 | validation_loss: 0.05632311 | Roc Score: 0.8447566 | Time elapsed: 0:38:23.105140\n",
            "iterations: 293 | train_loss: 0.060433812 | validation_loss: 0.057135172 | Roc Score: 0.8454139 | Time elapsed: 0:38:30.963847\n",
            "iterations: 294 | train_loss: 0.06008152 | validation_loss: 0.057706643 | Roc Score: 0.8460634 | Time elapsed: 0:38:38.870368\n",
            "iterations: 295 | train_loss: 0.04922786 | validation_loss: 0.05789858 | Roc Score: 0.8467045 | Time elapsed: 0:38:46.741897\n",
            "iterations: 296 | train_loss: 0.048043635 | validation_loss: 0.0573835 | Roc Score: 0.84733665 | Time elapsed: 0:38:54.660594\n",
            "iterations: 297 | train_loss: 0.07134886 | validation_loss: 0.0574446 | Roc Score: 0.8479568 | Time elapsed: 0:39:02.189910\n",
            "iterations: 298 | train_loss: 0.04213487 | validation_loss: 0.057844583 | Roc Score: 0.8485594 | Time elapsed: 0:39:10.089616\n",
            "iterations: 299 | train_loss: 0.046595283 | validation_loss: 0.05834494 | Roc Score: 0.84915036 | Time elapsed: 0:39:18.020489\n",
            "iterations: 300 | train_loss: 0.046655193 | validation_loss: 0.058465667 | Roc Score: 0.84973586 | Time elapsed: 0:39:25.778267\n",
            "iterations: 301 | train_loss: 0.052214243 | validation_loss: 0.05744748 | Roc Score: 0.8503284 | Time elapsed: 0:39:33.667317\n",
            "iterations: 302 | train_loss: 0.04266002 | validation_loss: 0.056354303 | Roc Score: 0.85092956 | Time elapsed: 0:39:41.561046\n",
            "iterations: 303 | train_loss: 0.06461164 | validation_loss: 0.05528266 | Roc Score: 0.8515393 | Time elapsed: 0:39:49.466499\n",
            "iterations: 304 | train_loss: 0.045575913 | validation_loss: 0.055065703 | Roc Score: 0.8521476 | Time elapsed: 0:39:57.379773\n",
            "iterations: 305 | train_loss: 0.06942293 | validation_loss: 0.055879172 | Roc Score: 0.85274374 | Time elapsed: 0:40:05.295014\n",
            "iterations: 306 | train_loss: 0.050052505 | validation_loss: 0.05601456 | Roc Score: 0.8533368 | Time elapsed: 0:40:13.149756\n",
            "iterations: 307 | train_loss: 0.04676191 | validation_loss: 0.05472468 | Roc Score: 0.8539369 | Time elapsed: 0:40:21.067858\n",
            "iterations: 308 | train_loss: 0.05756989 | validation_loss: 0.053945318 | Roc Score: 0.854534 | Time elapsed: 0:40:28.951318\n",
            "iterations: 309 | train_loss: 0.08537895 | validation_loss: 0.054802626 | Roc Score: 0.85511553 | Time elapsed: 0:40:36.884098\n",
            "iterations: 310 | train_loss: 0.063657835 | validation_loss: 0.05503045 | Roc Score: 0.8556867 | Time elapsed: 0:40:44.776271\n",
            "iterations: 311 | train_loss: 0.0349849 | validation_loss: 0.055238865 | Roc Score: 0.85624915 | Time elapsed: 0:40:52.700619\n"
          ],
          "name": "stdout"
        },
        {
          "output_type": "stream",
          "text": [
            "iterations: 312 | train_loss: 0.07520925 | validation_loss: 0.05505967 | Roc Score: 0.85680616 | Time elapsed: 0:41:00.600697\n",
            "iterations: 313 | train_loss: 0.03504781 | validation_loss: 0.05519163 | Roc Score: 0.85735416 | Time elapsed: 0:41:08.465271\n",
            "iterations: 314 | train_loss: 0.047319066 | validation_loss: 0.056101523 | Roc Score: 0.8578878 | Time elapsed: 0:41:16.342029\n",
            "iterations: 315 | train_loss: 0.06339143 | validation_loss: 0.056183096 | Roc Score: 0.85841525 | Time elapsed: 0:41:24.205526\n",
            "iterations: 316 | train_loss: 0.052121356 | validation_loss: 0.055378485 | Roc Score: 0.8589515 | Time elapsed: 0:41:32.117547\n",
            "iterations: 317 | train_loss: 0.070752464 | validation_loss: 0.05519767 | Roc Score: 0.8594958 | Time elapsed: 0:41:40.008250\n",
            "iterations: 318 | train_loss: 0.065685935 | validation_loss: 0.059738945 | Roc Score: 0.8600065 | Time elapsed: 0:41:47.883755\n",
            "iterations: 319 | train_loss: 0.061183453 | validation_loss: 0.0640379 | Roc Score: 0.86049 | Time elapsed: 0:41:55.772217\n",
            "iterations: 320 | train_loss: 0.04356225 | validation_loss: 0.06066278 | Roc Score: 0.8609903 | Time elapsed: 0:42:03.684290\n",
            "iterations: 321 | train_loss: 0.06752177 | validation_loss: 0.05788241 | Roc Score: 0.86149526 | Time elapsed: 0:42:11.564262\n",
            "iterations: 322 | train_loss: 0.06240232 | validation_loss: 0.058083005 | Roc Score: 0.86197674 | Time elapsed: 0:42:19.459884\n",
            "iterations: 323 | train_loss: 0.060190607 | validation_loss: 0.060043063 | Roc Score: 0.8624216 | Time elapsed: 0:42:27.398589\n",
            "iterations: 324 | train_loss: 0.04150098 | validation_loss: 0.06249782 | Roc Score: 0.8628301 | Time elapsed: 0:42:35.282046\n",
            "iterations: 325 | train_loss: 0.047587655 | validation_loss: 0.06277754 | Roc Score: 0.86323285 | Time elapsed: 0:42:43.146542\n",
            "iterations: 326 | train_loss: 0.07559569 | validation_loss: 0.061914396 | Roc Score: 0.86364 | Time elapsed: 0:42:51.050151\n",
            "iterations: 327 | train_loss: 0.05789656 | validation_loss: 0.059725303 | Roc Score: 0.8640713 | Time elapsed: 0:42:58.932062\n",
            "iterations: 328 | train_loss: 0.053139098 | validation_loss: 0.05691757 | Roc Score: 0.86453485 | Time elapsed: 0:43:06.844719\n",
            "iterations: 329 | train_loss: 0.077453375 | validation_loss: 0.054647315 | Roc Score: 0.86502075 | Time elapsed: 0:43:14.744499\n",
            "iterations: 330 | train_loss: 0.067697816 | validation_loss: 0.054501012 | Roc Score: 0.8655075 | Time elapsed: 0:43:22.697614\n",
            "iterations: 331 | train_loss: 0.052376304 | validation_loss: 0.055541005 | Roc Score: 0.8659802 | Time elapsed: 0:43:30.569582\n",
            "iterations: 332 | train_loss: 0.050237436 | validation_loss: 0.056525063 | Roc Score: 0.8664392 | Time elapsed: 0:43:38.453901\n",
            "iterations: 333 | train_loss: 0.046339653 | validation_loss: 0.05724758 | Roc Score: 0.86688894 | Time elapsed: 0:43:46.347948\n",
            "iterations: 334 | train_loss: 0.0570632 | validation_loss: 0.056779787 | Roc Score: 0.8673429 | Time elapsed: 0:43:54.234183\n",
            "iterations: 335 | train_loss: 0.07840085 | validation_loss: 0.056102555 | Roc Score: 0.8677988 | Time elapsed: 0:44:02.000331\n",
            "iterations: 336 | train_loss: 0.04713414 | validation_loss: 0.055191245 | Roc Score: 0.86825985 | Time elapsed: 0:44:09.830558\n",
            "iterations: 337 | train_loss: 0.04403876 | validation_loss: 0.054872718 | Roc Score: 0.868719 | Time elapsed: 0:44:17.686056\n",
            "iterations: 338 | train_loss: 0.066311456 | validation_loss: 0.054800883 | Roc Score: 0.8691756 | Time elapsed: 0:44:25.552909\n",
            "iterations: 339 | train_loss: 0.037207555 | validation_loss: 0.055068444 | Roc Score: 0.86962855 | Time elapsed: 0:44:33.502344\n",
            "iterations: 340 | train_loss: 0.04970416 | validation_loss: 0.055124503 | Roc Score: 0.87008375 | Time elapsed: 0:44:41.436629\n",
            "iterations: 341 | train_loss: 0.06146324 | validation_loss: 0.05441225 | Roc Score: 0.870538 | Time elapsed: 0:44:49.347583\n",
            "iterations: 342 | train_loss: 0.057379577 | validation_loss: 0.053610843 | Roc Score: 0.87099546 | Time elapsed: 0:44:57.226433\n",
            "iterations: 343 | train_loss: 0.05664468 | validation_loss: 0.053484224 | Roc Score: 0.8714468 | Time elapsed: 0:45:04.874058\n",
            "iterations: 344 | train_loss: 0.05218984 | validation_loss: 0.053590696 | Roc Score: 0.8718926 | Time elapsed: 0:45:12.741449\n",
            "iterations: 345 | train_loss: 0.04843446 | validation_loss: 0.053542722 | Roc Score: 0.8723378 | Time elapsed: 0:45:20.600248\n",
            "iterations: 346 | train_loss: 0.045502283 | validation_loss: 0.053601682 | Roc Score: 0.8727836 | Time elapsed: 0:45:28.519883\n",
            "iterations: 347 | train_loss: 0.061455827 | validation_loss: 0.05361288 | Roc Score: 0.8732252 | Time elapsed: 0:45:36.426905\n",
            "iterations: 348 | train_loss: 0.060283095 | validation_loss: 0.053248946 | Roc Score: 0.8736667 | Time elapsed: 0:45:44.403670\n",
            "iterations: 349 | train_loss: 0.035292763 | validation_loss: 0.053395156 | Roc Score: 0.87410086 | Time elapsed: 0:45:52.267953\n",
            "iterations: 350 | train_loss: 0.04841219 | validation_loss: 0.053760048 | Roc Score: 0.87452596 | Time elapsed: 0:46:00.148679\n"
          ],
          "name": "stdout"
        },
        {
          "output_type": "stream",
          "text": [
            "iterations: 351 | train_loss: 0.05408897 | validation_loss: 0.053889908 | Roc Score: 0.874943 | Time elapsed: 0:46:08.016520\n",
            "iterations: 352 | train_loss: 0.056137443 | validation_loss: 0.054472294 | Roc Score: 0.87535065 | Time elapsed: 0:46:15.742602\n",
            "iterations: 353 | train_loss: 0.06552201 | validation_loss: 0.054487344 | Roc Score: 0.87575763 | Time elapsed: 0:46:23.646934\n",
            "iterations: 354 | train_loss: 0.05950412 | validation_loss: 0.05584527 | Roc Score: 0.8761696 | Time elapsed: 0:46:31.161430\n",
            "iterations: 355 | train_loss: 0.057252694 | validation_loss: 0.056055404 | Roc Score: 0.87657744 | Time elapsed: 0:46:39.062193\n",
            "iterations: 356 | train_loss: 0.036254194 | validation_loss: 0.054163225 | Roc Score: 0.8769857 | Time elapsed: 0:46:46.969018\n",
            "iterations: 357 | train_loss: 0.061667398 | validation_loss: 0.05223618 | Roc Score: 0.8773968 | Time elapsed: 0:46:54.870065\n",
            "iterations: 358 | train_loss: 0.048295468 | validation_loss: 0.05246123 | Roc Score: 0.87780106 | Time elapsed: 0:47:02.797691\n",
            "iterations: 359 | train_loss: 0.026262404 | validation_loss: 0.0546391 | Roc Score: 0.8781926 | Time elapsed: 0:47:10.726788\n",
            "iterations: 360 | train_loss: 0.04596456 | validation_loss: 0.056043807 | Roc Score: 0.87857074 | Time elapsed: 0:47:18.369623\n",
            "iterations: 361 | train_loss: 0.060952738 | validation_loss: 0.054957077 | Roc Score: 0.87895477 | Time elapsed: 0:47:26.237360\n",
            "iterations: 362 | train_loss: 0.05536108 | validation_loss: 0.052702226 | Roc Score: 0.879351 | Time elapsed: 0:47:34.100888\n",
            "iterations: 363 | train_loss: 0.04870788 | validation_loss: 0.051774394 | Roc Score: 0.879751 | Time elapsed: 0:47:42.014997\n",
            "iterations: 364 | train_loss: 0.057116427 | validation_loss: 0.05218958 | Roc Score: 0.8801453 | Time elapsed: 0:47:49.958328\n",
            "iterations: 365 | train_loss: 0.063429475 | validation_loss: 0.054072693 | Roc Score: 0.8805264 | Time elapsed: 0:47:57.802745\n",
            "iterations: 366 | train_loss: 0.054584127 | validation_loss: 0.054246813 | Roc Score: 0.88090426 | Time elapsed: 0:48:05.737943\n",
            "iterations: 367 | train_loss: 0.0656455 | validation_loss: 0.052787364 | Roc Score: 0.8812856 | Time elapsed: 0:48:13.641871\n",
            "iterations: 368 | train_loss: 0.031422388 | validation_loss: 0.051297378 | Roc Score: 0.88167334 | Time elapsed: 0:48:21.570446\n",
            "iterations: 369 | train_loss: 0.03549594 | validation_loss: 0.05128745 | Roc Score: 0.8820559 | Time elapsed: 0:48:29.487972\n",
            "iterations: 370 | train_loss: 0.046153136 | validation_loss: 0.05264485 | Roc Score: 0.88242316 | Time elapsed: 0:48:37.469737\n",
            "iterations: 371 | train_loss: 0.05329032 | validation_loss: 0.054423954 | Roc Score: 0.8827682 | Time elapsed: 0:48:45.345562\n",
            "iterations: 372 | train_loss: 0.048654146 | validation_loss: 0.055951074 | Roc Score: 0.88309973 | Time elapsed: 0:48:53.305672\n",
            "iterations: 373 | train_loss: 0.07950699 | validation_loss: 0.056823976 | Roc Score: 0.88343054 | Time elapsed: 0:49:01.221643\n",
            "iterations: 374 | train_loss: 0.047757804 | validation_loss: 0.05670351 | Roc Score: 0.8837684 | Time elapsed: 0:49:08.835681\n",
            "iterations: 375 | train_loss: 0.046713978 | validation_loss: 0.055295933 | Roc Score: 0.88411283 | Time elapsed: 0:49:16.732764\n",
            "iterations: 376 | train_loss: 0.059012964 | validation_loss: 0.05370382 | Roc Score: 0.8844639 | Time elapsed: 0:49:24.650011\n",
            "iterations: 377 | train_loss: 0.05089016 | validation_loss: 0.05314312 | Roc Score: 0.88482 | Time elapsed: 0:49:32.594232\n",
            "iterations: 378 | train_loss: 0.057033915 | validation_loss: 0.053562786 | Roc Score: 0.8851751 | Time elapsed: 0:49:40.509454\n",
            "iterations: 379 | train_loss: 0.040480085 | validation_loss: 0.054044005 | Roc Score: 0.8855255 | Time elapsed: 0:49:48.453424\n",
            "iterations: 380 | train_loss: 0.03958698 | validation_loss: 0.05280361 | Roc Score: 0.885877 | Time elapsed: 0:49:56.402181\n",
            "iterations: 381 | train_loss: 0.054719523 | validation_loss: 0.052624438 | Roc Score: 0.88622564 | Time elapsed: 0:50:03.997647\n",
            "iterations: 382 | train_loss: 0.05806544 | validation_loss: 0.05356435 | Roc Score: 0.8865683 | Time elapsed: 0:50:11.535625\n",
            "iterations: 383 | train_loss: 0.05025127 | validation_loss: 0.054804195 | Roc Score: 0.88690305 | Time elapsed: 0:50:19.425841\n",
            "iterations: 384 | train_loss: 0.043074664 | validation_loss: 0.055313483 | Roc Score: 0.8872336 | Time elapsed: 0:50:27.364400\n",
            "iterations: 385 | train_loss: 0.060278703 | validation_loss: 0.053922083 | Roc Score: 0.88756716 | Time elapsed: 0:50:35.262168\n",
            "iterations: 386 | train_loss: 0.03828958 | validation_loss: 0.052463166 | Roc Score: 0.8879035 | Time elapsed: 0:50:43.220046\n",
            "iterations: 387 | train_loss: 0.060215086 | validation_loss: 0.051942743 | Roc Score: 0.88823974 | Time elapsed: 0:50:51.213985\n",
            "iterations: 388 | train_loss: 0.0460892 | validation_loss: 0.05342995 | Roc Score: 0.88857085 | Time elapsed: 0:50:59.152529\n",
            "iterations: 389 | train_loss: 0.050578926 | validation_loss: 0.054790452 | Roc Score: 0.88889724 | Time elapsed: 0:51:07.028627\n"
          ],
          "name": "stdout"
        },
        {
          "output_type": "stream",
          "text": [
            "iterations: 390 | train_loss: 0.06154289 | validation_loss: 0.053965904 | Roc Score: 0.8892233 | Time elapsed: 0:51:14.884033\n",
            "iterations: 391 | train_loss: 0.046755105 | validation_loss: 0.05259486 | Roc Score: 0.8895477 | Time elapsed: 0:51:22.833649\n",
            "iterations: 392 | train_loss: 0.056284517 | validation_loss: 0.05180572 | Roc Score: 0.8898704 | Time elapsed: 0:51:30.769724\n",
            "iterations: 393 | train_loss: 0.042125873 | validation_loss: 0.05208602 | Roc Score: 0.8901855 | Time elapsed: 0:51:38.658939\n",
            "iterations: 394 | train_loss: 0.025840918 | validation_loss: 0.052721996 | Roc Score: 0.89049107 | Time elapsed: 0:51:46.547564\n",
            "iterations: 395 | train_loss: 0.04610951 | validation_loss: 0.054030657 | Roc Score: 0.8907799 | Time elapsed: 0:51:54.466478\n",
            "iterations: 396 | train_loss: 0.042071253 | validation_loss: 0.053845342 | Roc Score: 0.89106816 | Time elapsed: 0:52:02.386972\n",
            "iterations: 397 | train_loss: 0.047333512 | validation_loss: 0.052083727 | Roc Score: 0.89137435 | Time elapsed: 0:52:10.273853\n",
            "iterations: 398 | train_loss: 0.05087504 | validation_loss: 0.05105564 | Roc Score: 0.89168864 | Time elapsed: 0:52:18.168778\n",
            "iterations: 399 | train_loss: 0.057268143 | validation_loss: 0.05094247 | Roc Score: 0.89200556 | Time elapsed: 0:52:26.051154\n",
            "iterations: 400 | train_loss: 0.057544123 | validation_loss: 0.051673066 | Roc Score: 0.8923195 | Time elapsed: 0:52:33.938387\n",
            "iterations: 401 | train_loss: 0.044923726 | validation_loss: 0.052436695 | Roc Score: 0.8926272 | Time elapsed: 0:52:41.844306\n",
            "iterations: 402 | train_loss: 0.049209476 | validation_loss: 0.050935045 | Roc Score: 0.8929345 | Time elapsed: 0:52:49.744688\n",
            "iterations: 403 | train_loss: 0.0696466 | validation_loss: 0.050110314 | Roc Score: 0.89324105 | Time elapsed: 0:52:57.616403\n",
            "iterations: 404 | train_loss: 0.047192216 | validation_loss: 0.05046089 | Roc Score: 0.89354336 | Time elapsed: 0:53:05.545039\n",
            "iterations: 405 | train_loss: 0.06526939 | validation_loss: 0.05172875 | Roc Score: 0.8938395 | Time elapsed: 0:53:13.386006\n",
            "iterations: 406 | train_loss: 0.04078052 | validation_loss: 0.053344496 | Roc Score: 0.89412564 | Time elapsed: 0:53:21.366047\n",
            "iterations: 407 | train_loss: 0.05589573 | validation_loss: 0.053190056 | Roc Score: 0.8944117 | Time elapsed: 0:53:29.290814\n",
            "iterations: 408 | train_loss: 0.052264865 | validation_loss: 0.052133285 | Roc Score: 0.89470077 | Time elapsed: 0:53:37.185896\n",
            "iterations: 409 | train_loss: 0.041241374 | validation_loss: 0.051328566 | Roc Score: 0.89499015 | Time elapsed: 0:53:45.091809\n",
            "iterations: 410 | train_loss: 0.053433076 | validation_loss: 0.05093134 | Roc Score: 0.8952789 | Time elapsed: 0:53:53.029529\n",
            "iterations: 411 | train_loss: 0.039718922 | validation_loss: 0.05082463 | Roc Score: 0.8955651 | Time elapsed: 0:54:01.212794\n",
            "iterations: 412 | train_loss: 0.055447724 | validation_loss: 0.05061384 | Roc Score: 0.8958505 | Time elapsed: 0:54:09.095640\n",
            "iterations: 413 | train_loss: 0.06142795 | validation_loss: 0.050782632 | Roc Score: 0.89613414 | Time elapsed: 0:54:17.002253\n",
            "iterations: 414 | train_loss: 0.055852037 | validation_loss: 0.051393673 | Roc Score: 0.8964139 | Time elapsed: 0:54:24.897904\n",
            "iterations: 415 | train_loss: 0.043719288 | validation_loss: 0.05208897 | Roc Score: 0.8966903 | Time elapsed: 0:54:32.807473\n",
            "iterations: 416 | train_loss: 0.039976235 | validation_loss: 0.052740946 | Roc Score: 0.8969637 | Time elapsed: 0:54:40.724468\n",
            "iterations: 417 | train_loss: 0.044670265 | validation_loss: 0.053397074 | Roc Score: 0.8972352 | Time elapsed: 0:54:48.648850\n",
            "iterations: 418 | train_loss: 0.08230436 | validation_loss: 0.053066943 | Roc Score: 0.8975046 | Time elapsed: 0:54:56.681015\n",
            "iterations: 419 | train_loss: 0.057361405 | validation_loss: 0.05242491 | Roc Score: 0.89777195 | Time elapsed: 0:55:04.579794\n",
            "iterations: 420 | train_loss: 0.03871367 | validation_loss: 0.05179449 | Roc Score: 0.8980359 | Time elapsed: 0:55:12.589688\n",
            "iterations: 421 | train_loss: 0.04955129 | validation_loss: 0.052086905 | Roc Score: 0.8982901 | Time elapsed: 0:55:20.442688\n",
            "iterations: 422 | train_loss: 0.036417264 | validation_loss: 0.054273766 | Roc Score: 0.8985238 | Time elapsed: 0:55:28.385980\n",
            "iterations: 423 | train_loss: 0.05224949 | validation_loss: 0.05601528 | Roc Score: 0.8987463 | Time elapsed: 0:55:36.325698\n",
            "iterations: 424 | train_loss: 0.033531725 | validation_loss: 0.057022415 | Roc Score: 0.89896274 | Time elapsed: 0:55:44.218395\n",
            "iterations: 425 | train_loss: 0.040012598 | validation_loss: 0.05444536 | Roc Score: 0.8992039 | Time elapsed: 0:55:52.082530\n",
            "iterations: 426 | train_loss: 0.05928576 | validation_loss: 0.052482355 | Roc Score: 0.8994588 | Time elapsed: 0:56:00.036219\n",
            "iterations: 427 | train_loss: 0.064214714 | validation_loss: 0.05166305 | Roc Score: 0.89971805 | Time elapsed: 0:56:07.920209\n",
            "iterations: 428 | train_loss: 0.052692577 | validation_loss: 0.052402813 | Roc Score: 0.89997315 | Time elapsed: 0:56:15.793951\n"
          ],
          "name": "stdout"
        },
        {
          "output_type": "stream",
          "text": [
            "iterations: 429 | train_loss: 0.05816285 | validation_loss: 0.052651796 | Roc Score: 0.90022254 | Time elapsed: 0:56:23.690300\n",
            "iterations: 430 | train_loss: 0.053061973 | validation_loss: 0.052458245 | Roc Score: 0.9004709 | Time elapsed: 0:56:31.607991\n",
            "iterations: 431 | train_loss: 0.0547365 | validation_loss: 0.051298644 | Roc Score: 0.90072304 | Time elapsed: 0:56:39.530716\n",
            "iterations: 432 | train_loss: 0.061924063 | validation_loss: 0.050559152 | Roc Score: 0.90097755 | Time elapsed: 0:56:47.407507\n",
            "iterations: 433 | train_loss: 0.052418243 | validation_loss: 0.050382137 | Roc Score: 0.90123165 | Time elapsed: 0:56:55.322085\n",
            "iterations: 434 | train_loss: 0.040639963 | validation_loss: 0.051015817 | Roc Score: 0.9014806 | Time elapsed: 0:57:03.216370\n",
            "iterations: 435 | train_loss: 0.039624125 | validation_loss: 0.05197544 | Roc Score: 0.9017219 | Time elapsed: 0:57:11.084746\n",
            "iterations: 436 | train_loss: 0.071239 | validation_loss: 0.051399592 | Roc Score: 0.9019671 | Time elapsed: 0:57:18.961159\n",
            "iterations: 437 | train_loss: 0.040603343 | validation_loss: 0.05117275 | Roc Score: 0.9022163 | Time elapsed: 0:57:26.821596\n",
            "iterations: 438 | train_loss: 0.04199861 | validation_loss: 0.051968485 | Roc Score: 0.90246624 | Time elapsed: 0:57:34.756826\n",
            "iterations: 439 | train_loss: 0.03954675 | validation_loss: 0.05299647 | Roc Score: 0.90271413 | Time elapsed: 0:57:42.925353\n",
            "iterations: 440 | train_loss: 0.0445861 | validation_loss: 0.054853052 | Roc Score: 0.9029578 | Time elapsed: 0:57:50.836099\n",
            "iterations: 441 | train_loss: 0.048774645 | validation_loss: 0.052819733 | Roc Score: 0.903203 | Time elapsed: 0:57:58.729333\n",
            "iterations: 442 | train_loss: 0.040091265 | validation_loss: 0.051054332 | Roc Score: 0.9034479 | Time elapsed: 0:58:06.638568\n",
            "iterations: 443 | train_loss: 0.041697104 | validation_loss: 0.050700646 | Roc Score: 0.90369177 | Time elapsed: 0:58:14.482488\n",
            "iterations: 444 | train_loss: 0.056046758 | validation_loss: 0.050342128 | Roc Score: 0.90393245 | Time elapsed: 0:58:22.347984\n",
            "iterations: 445 | train_loss: 0.056108423 | validation_loss: 0.05044302 | Roc Score: 0.90416586 | Time elapsed: 0:58:30.258298\n",
            "iterations: 446 | train_loss: 0.04998336 | validation_loss: 0.050728925 | Roc Score: 0.9043952 | Time elapsed: 0:58:38.142766\n",
            "iterations: 447 | train_loss: 0.047803942 | validation_loss: 0.051451206 | Roc Score: 0.9046197 | Time elapsed: 0:58:46.029502\n",
            "iterations: 448 | train_loss: 0.048259564 | validation_loss: 0.05235041 | Roc Score: 0.9048391 | Time elapsed: 0:58:53.908835\n",
            "iterations: 449 | train_loss: 0.046862293 | validation_loss: 0.052545104 | Roc Score: 0.9050579 | Time elapsed: 0:59:01.268128\n",
            "iterations: 450 | train_loss: 0.04864027 | validation_loss: 0.052198336 | Roc Score: 0.9052776 | Time elapsed: 0:59:09.127855\n",
            "iterations: 451 | train_loss: 0.03936319 | validation_loss: 0.05198495 | Roc Score: 0.9054958 | Time elapsed: 0:59:16.999383\n",
            "iterations: 452 | train_loss: 0.02471772 | validation_loss: 0.05193776 | Roc Score: 0.9057148 | Time elapsed: 0:59:24.959970\n",
            "iterations: 453 | train_loss: 0.07173512 | validation_loss: 0.051810935 | Roc Score: 0.90593547 | Time elapsed: 0:59:32.766905\n",
            "iterations: 454 | train_loss: 0.07180547 | validation_loss: 0.05215234 | Roc Score: 0.90615803 | Time elapsed: 0:59:40.719280\n",
            "iterations: 455 | train_loss: 0.049743954 | validation_loss: 0.052139103 | Roc Score: 0.9063777 | Time elapsed: 0:59:48.646775\n",
            "iterations: 456 | train_loss: 0.043520227 | validation_loss: 0.051705066 | Roc Score: 0.9065978 | Time elapsed: 0:59:56.537209\n",
            "iterations: 457 | train_loss: 0.04562143 | validation_loss: 0.051296804 | Roc Score: 0.90681815 | Time elapsed: 1:00:04.441409\n",
            "iterations: 458 | train_loss: 0.0489255 | validation_loss: 0.051134504 | Roc Score: 0.9070389 | Time elapsed: 1:00:12.226652\n",
            "iterations: 459 | train_loss: 0.049400035 | validation_loss: 0.050637715 | Roc Score: 0.9072601 | Time elapsed: 1:00:20.085749\n",
            "iterations: 460 | train_loss: 0.0713909 | validation_loss: 0.050208062 | Roc Score: 0.90748006 | Time elapsed: 1:00:27.940949\n",
            "iterations: 461 | train_loss: 0.06209224 | validation_loss: 0.05054669 | Roc Score: 0.9076979 | Time elapsed: 1:00:35.846374\n",
            "iterations: 462 | train_loss: 0.052713424 | validation_loss: 0.051232576 | Roc Score: 0.9079143 | Time elapsed: 1:00:43.662163\n",
            "iterations: 463 | train_loss: 0.060439747 | validation_loss: 0.050869014 | Roc Score: 0.90813243 | Time elapsed: 1:00:51.581834\n",
            "iterations: 464 | train_loss: 0.050553247 | validation_loss: 0.05060743 | Roc Score: 0.90835124 | Time elapsed: 1:00:59.448266\n",
            "iterations: 465 | train_loss: 0.04548193 | validation_loss: 0.0504113 | Roc Score: 0.9085701 | Time elapsed: 1:01:07.380449\n",
            "iterations: 466 | train_loss: 0.055692635 | validation_loss: 0.05038718 | Roc Score: 0.9087873 | Time elapsed: 1:01:14.940700\n",
            "iterations: 467 | train_loss: 0.04421701 | validation_loss: 0.05011838 | Roc Score: 0.9090042 | Time elapsed: 1:01:22.843281\n"
          ],
          "name": "stdout"
        },
        {
          "output_type": "stream",
          "text": [
            "iterations: 468 | train_loss: 0.043028735 | validation_loss: 0.049892638 | Roc Score: 0.9092205 | Time elapsed: 1:01:30.726447\n",
            "iterations: 469 | train_loss: 0.044981703 | validation_loss: 0.049725033 | Roc Score: 0.90943605 | Time elapsed: 1:01:38.613897\n",
            "iterations: 470 | train_loss: 0.07873753 | validation_loss: 0.04999478 | Roc Score: 0.90964794 | Time elapsed: 1:01:46.279536\n",
            "iterations: 471 | train_loss: 0.039018568 | validation_loss: 0.050795466 | Roc Score: 0.9098561 | Time elapsed: 1:01:54.151007\n",
            "iterations: 472 | train_loss: 0.07699662 | validation_loss: 0.05089863 | Roc Score: 0.9100622 | Time elapsed: 1:02:02.080966\n",
            "iterations: 473 | train_loss: 0.0489811 | validation_loss: 0.050757818 | Roc Score: 0.91026765 | Time elapsed: 1:02:09.932716\n",
            "iterations: 474 | train_loss: 0.042249642 | validation_loss: 0.05039671 | Roc Score: 0.91047364 | Time elapsed: 1:02:17.819618\n",
            "iterations: 475 | train_loss: 0.04660046 | validation_loss: 0.05016492 | Roc Score: 0.91067743 | Time elapsed: 1:02:25.566436\n",
            "iterations: 476 | train_loss: 0.041310824 | validation_loss: 0.050976094 | Roc Score: 0.9108743 | Time elapsed: 1:02:33.484511\n",
            "iterations: 477 | train_loss: 0.039833557 | validation_loss: 0.0524608 | Roc Score: 0.9110615 | Time elapsed: 1:02:41.205845\n",
            "iterations: 478 | train_loss: 0.052185442 | validation_loss: 0.05373676 | Roc Score: 0.91123664 | Time elapsed: 1:02:49.066292\n",
            "iterations: 479 | train_loss: 0.03401071 | validation_loss: 0.053991057 | Roc Score: 0.9114074 | Time elapsed: 1:02:56.950750\n",
            "iterations: 480 | train_loss: 0.03175307 | validation_loss: 0.05420057 | Roc Score: 0.9115747 | Time elapsed: 1:03:04.820271\n",
            "iterations: 481 | train_loss: 0.029920615 | validation_loss: 0.054105956 | Roc Score: 0.91174245 | Time elapsed: 1:03:12.650669\n",
            "iterations: 482 | train_loss: 0.046910986 | validation_loss: 0.05326762 | Roc Score: 0.91191584 | Time elapsed: 1:03:20.567076\n",
            "iterations: 483 | train_loss: 0.05400999 | validation_loss: 0.051313657 | Roc Score: 0.9121028 | Time elapsed: 1:03:28.472304\n",
            "iterations: 484 | train_loss: 0.02895546 | validation_loss: 0.05085869 | Roc Score: 0.9122961 | Time elapsed: 1:03:36.391115\n",
            "iterations: 485 | train_loss: 0.046514567 | validation_loss: 0.05171201 | Roc Score: 0.91249156 | Time elapsed: 1:03:44.246197\n",
            "iterations: 486 | train_loss: 0.06244522 | validation_loss: 0.052086353 | Roc Score: 0.91268593 | Time elapsed: 1:03:52.100907\n",
            "iterations: 487 | train_loss: 0.057050966 | validation_loss: 0.051125355 | Roc Score: 0.9128808 | Time elapsed: 1:03:59.943760\n",
            "iterations: 488 | train_loss: 0.048779283 | validation_loss: 0.050452318 | Roc Score: 0.91307575 | Time elapsed: 1:04:07.801634\n",
            "iterations: 489 | train_loss: 0.054386392 | validation_loss: 0.049858097 | Roc Score: 0.9132689 | Time elapsed: 1:04:15.732107\n",
            "iterations: 490 | train_loss: 0.039692167 | validation_loss: 0.050022405 | Roc Score: 0.91345537 | Time elapsed: 1:04:23.022830\n",
            "iterations: 491 | train_loss: 0.023624018 | validation_loss: 0.050923668 | Roc Score: 0.91363597 | Time elapsed: 1:04:30.982283\n",
            "iterations: 492 | train_loss: 0.054547653 | validation_loss: 0.051250573 | Roc Score: 0.91381365 | Time elapsed: 1:04:38.919539\n",
            "iterations: 493 | train_loss: 0.06846552 | validation_loss: 0.050055 | Roc Score: 0.91399974 | Time elapsed: 1:04:46.843576\n",
            "iterations: 494 | train_loss: 0.068609595 | validation_loss: 0.049420424 | Roc Score: 0.91418904 | Time elapsed: 1:04:54.755900\n",
            "iterations: 495 | train_loss: 0.048943475 | validation_loss: 0.04986373 | Roc Score: 0.9143748 | Time elapsed: 1:05:02.587408\n",
            "iterations: 496 | train_loss: 0.05944297 | validation_loss: 0.051473297 | Roc Score: 0.9145518 | Time elapsed: 1:05:10.449379\n",
            "iterations: 497 | train_loss: 0.051202286 | validation_loss: 0.053055774 | Roc Score: 0.91472197 | Time elapsed: 1:05:18.319082\n",
            "iterations: 498 | train_loss: 0.05670649 | validation_loss: 0.052683286 | Roc Score: 0.91489285 | Time elapsed: 1:05:26.135588\n",
            "iterations: 499 | train_loss: 0.03172344 | validation_loss: 0.050741497 | Roc Score: 0.9150713 | Time elapsed: 1:05:34.044287\n",
            "iterations: 500 | train_loss: 0.040950254 | validation_loss: 0.049608715 | Roc Score: 0.9152539 | Time elapsed: 1:05:41.931158\n",
            "iterations: 501 | train_loss: 0.031848714 | validation_loss: 0.049823616 | Roc Score: 0.915434 | Time elapsed: 1:05:49.817845\n",
            "iterations: 502 | train_loss: 0.042384617 | validation_loss: 0.05163837 | Roc Score: 0.9156033 | Time elapsed: 1:05:57.800376\n",
            "iterations: 503 | train_loss: 0.042397007 | validation_loss: 0.053383 | Roc Score: 0.91575736 | Time elapsed: 1:06:05.828378\n",
            "iterations: 504 | train_loss: 0.049908165 | validation_loss: 0.055463042 | Roc Score: 0.9158946 | Time elapsed: 1:06:13.694978\n",
            "iterations: 505 | train_loss: 0.03762104 | validation_loss: 0.056907408 | Roc Score: 0.9160222 | Time elapsed: 1:06:21.459819\n",
            "iterations: 506 | train_loss: 0.021350892 | validation_loss: 0.05829521 | Roc Score: 0.91613895 | Time elapsed: 1:06:29.392399\n"
          ],
          "name": "stdout"
        },
        {
          "output_type": "stream",
          "text": [
            "iterations: 507 | train_loss: 0.06202312 | validation_loss: 0.056868374 | Roc Score: 0.9162645 | Time elapsed: 1:06:37.334545\n",
            "iterations: 508 | train_loss: 0.055289388 | validation_loss: 0.05409012 | Roc Score: 0.91640496 | Time elapsed: 1:06:45.208631\n",
            "iterations: 509 | train_loss: 0.05744161 | validation_loss: 0.051927127 | Roc Score: 0.91656363 | Time elapsed: 1:06:53.107252\n",
            "iterations: 510 | train_loss: 0.03904006 | validation_loss: 0.05063526 | Roc Score: 0.9167349 | Time elapsed: 1:07:01.022173\n",
            "iterations: 511 | train_loss: 0.027662655 | validation_loss: 0.050153106 | Roc Score: 0.91691023 | Time elapsed: 1:07:08.931813\n",
            "iterations: 512 | train_loss: 0.056846824 | validation_loss: 0.04978556 | Roc Score: 0.9170847 | Time elapsed: 1:07:16.825436\n",
            "iterations: 513 | train_loss: 0.05146593 | validation_loss: 0.04957945 | Roc Score: 0.9172573 | Time elapsed: 1:07:24.747977\n",
            "iterations: 514 | train_loss: 0.038483135 | validation_loss: 0.04983007 | Roc Score: 0.9174275 | Time elapsed: 1:07:32.589919\n",
            "iterations: 515 | train_loss: 0.06680182 | validation_loss: 0.05009289 | Roc Score: 0.91759557 | Time elapsed: 1:07:40.471596\n",
            "iterations: 516 | train_loss: 0.06629041 | validation_loss: 0.050317373 | Roc Score: 0.917763 | Time elapsed: 1:07:48.384960\n",
            "iterations: 517 | train_loss: 0.06219594 | validation_loss: 0.05035168 | Roc Score: 0.9179302 | Time elapsed: 1:07:56.261439\n",
            "iterations: 518 | train_loss: 0.05002071 | validation_loss: 0.05028364 | Roc Score: 0.9180976 | Time elapsed: 1:08:04.180161\n",
            "iterations: 519 | train_loss: 0.045427497 | validation_loss: 0.05034006 | Roc Score: 0.9182636 | Time elapsed: 1:08:11.754030\n",
            "iterations: 520 | train_loss: 0.029305827 | validation_loss: 0.05033704 | Roc Score: 0.9184293 | Time elapsed: 1:08:19.605056\n",
            "iterations: 521 | train_loss: 0.03547411 | validation_loss: 0.05040394 | Roc Score: 0.9185921 | Time elapsed: 1:08:27.492243\n",
            "iterations: 522 | train_loss: 0.061772257 | validation_loss: 0.05054893 | Roc Score: 0.9187524 | Time elapsed: 1:08:35.441798\n",
            "iterations: 523 | train_loss: 0.036106385 | validation_loss: 0.050800484 | Roc Score: 0.918908 | Time elapsed: 1:08:43.006298\n",
            "iterations: 524 | train_loss: 0.05968173 | validation_loss: 0.051075775 | Roc Score: 0.91905713 | Time elapsed: 1:08:50.893177\n",
            "iterations: 525 | train_loss: 0.056300737 | validation_loss: 0.051344387 | Roc Score: 0.9192024 | Time elapsed: 1:08:58.781863\n",
            "iterations: 526 | train_loss: 0.055365574 | validation_loss: 0.05143273 | Roc Score: 0.91934603 | Time elapsed: 1:09:06.593723\n",
            "iterations: 527 | train_loss: 0.047815528 | validation_loss: 0.05155302 | Roc Score: 0.91948986 | Time elapsed: 1:09:14.446672\n",
            "iterations: 528 | train_loss: 0.03536191 | validation_loss: 0.051769413 | Roc Score: 0.9196331 | Time elapsed: 1:09:22.357443\n",
            "iterations: 529 | train_loss: 0.04546652 | validation_loss: 0.051611364 | Roc Score: 0.91977733 | Time elapsed: 1:09:30.252826\n",
            "iterations: 530 | train_loss: 0.040976275 | validation_loss: 0.051504787 | Roc Score: 0.9199236 | Time elapsed: 1:09:38.141158\n",
            "iterations: 531 | train_loss: 0.05353127 | validation_loss: 0.050871156 | Roc Score: 0.92007416 | Time elapsed: 1:09:46.079855\n",
            "iterations: 532 | train_loss: 0.05725879 | validation_loss: 0.04994135 | Roc Score: 0.92022794 | Time elapsed: 1:09:53.989925\n",
            "iterations: 533 | train_loss: 0.046195067 | validation_loss: 0.049309626 | Roc Score: 0.9203836 | Time elapsed: 1:10:01.897644\n",
            "iterations: 534 | train_loss: 0.03950508 | validation_loss: 0.048930645 | Roc Score: 0.9205394 | Time elapsed: 1:10:09.798836\n",
            "iterations: 535 | train_loss: 0.055433437 | validation_loss: 0.04868125 | Roc Score: 0.9206948 | Time elapsed: 1:10:17.652428\n",
            "iterations: 536 | train_loss: 0.04487004 | validation_loss: 0.048724826 | Roc Score: 0.92084897 | Time elapsed: 1:10:25.573758\n",
            "iterations: 537 | train_loss: 0.062566236 | validation_loss: 0.04889577 | Roc Score: 0.92100173 | Time elapsed: 1:10:33.516562\n",
            "iterations: 538 | train_loss: 0.05128966 | validation_loss: 0.049027484 | Roc Score: 0.92115396 | Time elapsed: 1:10:41.414376\n",
            "iterations: 539 | train_loss: 0.050613068 | validation_loss: 0.049120266 | Roc Score: 0.92130524 | Time elapsed: 1:10:49.314066\n",
            "iterations: 540 | train_loss: 0.04660653 | validation_loss: 0.049071245 | Roc Score: 0.9214567 | Time elapsed: 1:10:57.213443\n",
            "iterations: 541 | train_loss: 0.03567483 | validation_loss: 0.04918984 | Roc Score: 0.92160743 | Time elapsed: 1:11:05.078641\n",
            "iterations: 542 | train_loss: 0.045902655 | validation_loss: 0.049232475 | Roc Score: 0.9217559 | Time elapsed: 1:11:12.955193\n",
            "iterations: 543 | train_loss: 0.05644279 | validation_loss: 0.04949984 | Roc Score: 0.9219036 | Time elapsed: 1:11:20.872958\n",
            "iterations: 544 | train_loss: 0.045501016 | validation_loss: 0.04956238 | Roc Score: 0.92205083 | Time elapsed: 1:11:28.777690\n",
            "iterations: 545 | train_loss: 0.053294707 | validation_loss: 0.04964559 | Roc Score: 0.92219657 | Time elapsed: 1:11:36.643379\n"
          ],
          "name": "stdout"
        },
        {
          "output_type": "stream",
          "text": [
            "iterations: 546 | train_loss: 0.03478149 | validation_loss: 0.049809165 | Roc Score: 0.92234164 | Time elapsed: 1:11:44.570440\n",
            "iterations: 547 | train_loss: 0.043934144 | validation_loss: 0.049955998 | Roc Score: 0.9224844 | Time elapsed: 1:11:52.476547\n",
            "iterations: 548 | train_loss: 0.04644145 | validation_loss: 0.050226152 | Roc Score: 0.9226256 | Time elapsed: 1:12:00.314497\n",
            "iterations: 549 | train_loss: 0.065674916 | validation_loss: 0.050161198 | Roc Score: 0.9227667 | Time elapsed: 1:12:08.195879\n",
            "iterations: 550 | train_loss: 0.06613744 | validation_loss: 0.050142262 | Roc Score: 0.92290825 | Time elapsed: 1:12:16.064616\n",
            "iterations: 551 | train_loss: 0.052718654 | validation_loss: 0.049966455 | Roc Score: 0.92305034 | Time elapsed: 1:12:24.003861\n",
            "iterations: 552 | train_loss: 0.042004213 | validation_loss: 0.049987283 | Roc Score: 0.92319185 | Time elapsed: 1:12:31.868403\n",
            "iterations: 553 | train_loss: 0.049984515 | validation_loss: 0.050128456 | Roc Score: 0.92333233 | Time elapsed: 1:12:39.756485\n",
            "iterations: 554 | train_loss: 0.045224622 | validation_loss: 0.05006365 | Roc Score: 0.9234711 | Time elapsed: 1:12:47.617417\n",
            "iterations: 555 | train_loss: 0.036982723 | validation_loss: 0.05004228 | Roc Score: 0.92360836 | Time elapsed: 1:12:55.491946\n",
            "iterations: 556 | train_loss: 0.07769678 | validation_loss: 0.049880482 | Roc Score: 0.92374706 | Time elapsed: 1:13:03.373678\n",
            "iterations: 557 | train_loss: 0.0395858 | validation_loss: 0.049724072 | Roc Score: 0.9238855 | Time elapsed: 1:13:11.238730\n",
            "iterations: 558 | train_loss: 0.062112134 | validation_loss: 0.049595907 | Roc Score: 0.92402345 | Time elapsed: 1:13:19.123125\n",
            "iterations: 559 | train_loss: 0.057729017 | validation_loss: 0.04956504 | Roc Score: 0.92416066 | Time elapsed: 1:13:26.724890\n",
            "iterations: 560 | train_loss: 0.033342 | validation_loss: 0.049634486 | Roc Score: 0.9242979 | Time elapsed: 1:13:34.706671\n",
            "iterations: 561 | train_loss: 0.03457657 | validation_loss: 0.04974105 | Roc Score: 0.9244347 | Time elapsed: 1:13:42.599239\n",
            "iterations: 562 | train_loss: 0.056025404 | validation_loss: 0.049800336 | Roc Score: 0.924571 | Time elapsed: 1:13:50.518279\n",
            "iterations: 563 | train_loss: 0.047681496 | validation_loss: 0.049956102 | Roc Score: 0.92470604 | Time elapsed: 1:13:58.410600\n",
            "iterations: 564 | train_loss: 0.039598756 | validation_loss: 0.049971998 | Roc Score: 0.92484045 | Time elapsed: 1:14:06.221520\n",
            "iterations: 565 | train_loss: 0.052907284 | validation_loss: 0.04978851 | Roc Score: 0.9249747 | Time elapsed: 1:14:13.673136\n",
            "iterations: 566 | train_loss: 0.035433825 | validation_loss: 0.049769737 | Roc Score: 0.9251082 | Time elapsed: 1:14:21.641467\n",
            "iterations: 567 | train_loss: 0.06259557 | validation_loss: 0.049880937 | Roc Score: 0.92523944 | Time elapsed: 1:14:29.595285\n",
            "iterations: 568 | train_loss: 0.06255915 | validation_loss: 0.049975973 | Roc Score: 0.925369 | Time elapsed: 1:14:37.488140\n",
            "iterations: 569 | train_loss: 0.03289947 | validation_loss: 0.049855758 | Roc Score: 0.9254979 | Time elapsed: 1:14:45.348433\n",
            "iterations: 570 | train_loss: 0.04767299 | validation_loss: 0.049636345 | Roc Score: 0.9256261 | Time elapsed: 1:14:53.271057\n",
            "iterations: 571 | train_loss: 0.04136985 | validation_loss: 0.049419142 | Roc Score: 0.9257546 | Time elapsed: 1:15:01.135534\n",
            "iterations: 572 | train_loss: 0.0447552 | validation_loss: 0.04940537 | Roc Score: 0.92588335 | Time elapsed: 1:15:09.047058\n",
            "iterations: 573 | train_loss: 0.038760718 | validation_loss: 0.049663868 | Roc Score: 0.9260105 | Time elapsed: 1:15:16.941144\n",
            "iterations: 574 | train_loss: 0.045430496 | validation_loss: 0.049963653 | Roc Score: 0.9261367 | Time elapsed: 1:15:24.840217\n",
            "iterations: 575 | train_loss: 0.04886375 | validation_loss: 0.050317124 | Roc Score: 0.9262625 | Time elapsed: 1:15:32.407967\n",
            "iterations: 576 | train_loss: 0.045401365 | validation_loss: 0.049966574 | Roc Score: 0.92638916 | Time elapsed: 1:15:40.300959\n",
            "iterations: 577 | train_loss: 0.06780454 | validation_loss: 0.04932796 | Roc Score: 0.9265168 | Time elapsed: 1:15:48.204727\n",
            "iterations: 578 | train_loss: 0.06817101 | validation_loss: 0.04904157 | Roc Score: 0.92664444 | Time elapsed: 1:15:56.110270\n",
            "iterations: 579 | train_loss: 0.04365219 | validation_loss: 0.0492849 | Roc Score: 0.92677116 | Time elapsed: 1:16:03.972525\n",
            "iterations: 580 | train_loss: 0.05484682 | validation_loss: 0.049774986 | Roc Score: 0.92689574 | Time elapsed: 1:16:11.790622\n",
            "iterations: 581 | train_loss: 0.059807464 | validation_loss: 0.049991257 | Roc Score: 0.9270183 | Time elapsed: 1:16:19.697759\n",
            "iterations: 582 | train_loss: 0.04931704 | validation_loss: 0.049576435 | Roc Score: 0.92714155 | Time elapsed: 1:16:27.605995\n",
            "iterations: 583 | train_loss: 0.04228344 | validation_loss: 0.049420696 | Roc Score: 0.9272645 | Time elapsed: 1:16:35.491566\n",
            "iterations: 584 | train_loss: 0.049701076 | validation_loss: 0.049075663 | Roc Score: 0.9273896 | Time elapsed: 1:16:43.384654\n"
          ],
          "name": "stdout"
        },
        {
          "output_type": "stream",
          "text": [
            "iterations: 585 | train_loss: 0.0559371 | validation_loss: 0.04901187 | Roc Score: 0.92751473 | Time elapsed: 1:16:51.287120\n",
            "iterations: 586 | train_loss: 0.05413182 | validation_loss: 0.049346536 | Roc Score: 0.927638 | Time elapsed: 1:16:59.245767\n",
            "iterations: 587 | train_loss: 0.036054306 | validation_loss: 0.049913984 | Roc Score: 0.9277576 | Time elapsed: 1:17:07.188863\n",
            "iterations: 588 | train_loss: 0.04113129 | validation_loss: 0.0505088 | Roc Score: 0.9278739 | Time elapsed: 1:17:15.078883\n",
            "iterations: 589 | train_loss: 0.05362742 | validation_loss: 0.050610192 | Roc Score: 0.9279888 | Time elapsed: 1:17:22.973455\n",
            "iterations: 590 | train_loss: 0.046743795 | validation_loss: 0.050601445 | Roc Score: 0.9281032 | Time elapsed: 1:17:30.829690\n",
            "iterations: 591 | train_loss: 0.027488029 | validation_loss: 0.050752126 | Roc Score: 0.92821616 | Time elapsed: 1:17:38.736384\n",
            "iterations: 592 | train_loss: 0.020956362 | validation_loss: 0.05086888 | Roc Score: 0.92833024 | Time elapsed: 1:17:46.659965\n",
            "iterations: 593 | train_loss: 0.04750471 | validation_loss: 0.050984003 | Roc Score: 0.9284446 | Time elapsed: 1:17:54.565204\n",
            "iterations: 594 | train_loss: 0.045794323 | validation_loss: 0.051132225 | Roc Score: 0.9285602 | Time elapsed: 1:18:02.490952\n",
            "iterations: 595 | train_loss: 0.051562607 | validation_loss: 0.050773326 | Roc Score: 0.92867506 | Time elapsed: 1:18:10.364011\n",
            "iterations: 596 | train_loss: 0.04500135 | validation_loss: 0.050979614 | Roc Score: 0.9287865 | Time elapsed: 1:18:18.222283\n",
            "iterations: 597 | train_loss: 0.04458472 | validation_loss: 0.05137299 | Roc Score: 0.9288943 | Time elapsed: 1:18:25.918061\n",
            "iterations: 598 | train_loss: 0.029179275 | validation_loss: 0.051948793 | Roc Score: 0.9289987 | Time elapsed: 1:18:33.861833\n",
            "iterations: 599 | train_loss: 0.06562505 | validation_loss: 0.05193383 | Roc Score: 0.92910266 | Time elapsed: 1:18:41.759294\n",
            "iterations: 600 | train_loss: 0.044857513 | validation_loss: 0.051617697 | Roc Score: 0.9292105 | Time elapsed: 1:18:49.665989\n",
            "iterations: 601 | train_loss: 0.04079254 | validation_loss: 0.051523656 | Roc Score: 0.9293215 | Time elapsed: 1:18:57.596682\n",
            "iterations: 602 | train_loss: 0.04208377 | validation_loss: 0.051688377 | Roc Score: 0.9294323 | Time elapsed: 1:19:05.462076\n",
            "iterations: 603 | train_loss: 0.035136536 | validation_loss: 0.051766496 | Roc Score: 0.9295424 | Time elapsed: 1:19:13.395184\n",
            "iterations: 604 | train_loss: 0.081182316 | validation_loss: 0.051283788 | Roc Score: 0.92965204 | Time elapsed: 1:19:21.304696\n",
            "iterations: 605 | train_loss: 0.03413303 | validation_loss: 0.05095554 | Roc Score: 0.9297603 | Time elapsed: 1:19:29.184764\n",
            "iterations: 606 | train_loss: 0.06814278 | validation_loss: 0.050885823 | Roc Score: 0.9298671 | Time elapsed: 1:19:37.094206\n",
            "iterations: 607 | train_loss: 0.032272957 | validation_loss: 0.051017523 | Roc Score: 0.92997247 | Time elapsed: 1:19:45.064950\n",
            "iterations: 608 | train_loss: 0.029725682 | validation_loss: 0.050890017 | Roc Score: 0.930079 | Time elapsed: 1:19:52.966430\n",
            "iterations: 609 | train_loss: 0.054010507 | validation_loss: 0.05012679 | Roc Score: 0.9301881 | Time elapsed: 1:20:00.512295\n",
            "iterations: 610 | train_loss: 0.0440201 | validation_loss: 0.04962643 | Roc Score: 0.9302996 | Time elapsed: 1:20:08.420996\n",
            "iterations: 611 | train_loss: 0.052605808 | validation_loss: 0.04939124 | Roc Score: 0.9304119 | Time elapsed: 1:20:16.315246\n",
            "iterations: 612 | train_loss: 0.04829445 | validation_loss: 0.049377427 | Roc Score: 0.9305228 | Time elapsed: 1:20:24.212486\n",
            "iterations: 613 | train_loss: 0.034828845 | validation_loss: 0.049430277 | Roc Score: 0.9306322 | Time elapsed: 1:20:32.099611\n",
            "iterations: 614 | train_loss: 0.046634708 | validation_loss: 0.04947207 | Roc Score: 0.9307406 | Time elapsed: 1:20:40.000243\n",
            "iterations: 615 | train_loss: 0.055292256 | validation_loss: 0.049434382 | Roc Score: 0.93084884 | Time elapsed: 1:20:47.887558\n",
            "iterations: 616 | train_loss: 0.040126115 | validation_loss: 0.049290486 | Roc Score: 0.930958 | Time elapsed: 1:20:55.796485\n",
            "iterations: 617 | train_loss: 0.042789076 | validation_loss: 0.0492906 | Roc Score: 0.9310672 | Time elapsed: 1:21:03.760434\n",
            "iterations: 618 | train_loss: 0.031468388 | validation_loss: 0.049751345 | Roc Score: 0.93117553 | Time elapsed: 1:21:11.676394\n",
            "iterations: 619 | train_loss: 0.06351463 | validation_loss: 0.049933393 | Roc Score: 0.9312822 | Time elapsed: 1:21:19.521676\n",
            "iterations: 620 | train_loss: 0.052695256 | validation_loss: 0.04982077 | Roc Score: 0.9313898 | Time elapsed: 1:21:27.375969\n",
            "iterations: 621 | train_loss: 0.04688095 | validation_loss: 0.04971379 | Roc Score: 0.93149805 | Time elapsed: 1:21:35.281636\n",
            "iterations: 622 | train_loss: 0.047838476 | validation_loss: 0.0497817 | Roc Score: 0.9316061 | Time elapsed: 1:21:43.202947\n",
            "iterations: 623 | train_loss: 0.042879824 | validation_loss: 0.04979755 | Roc Score: 0.931714 | Time elapsed: 1:21:51.105430\n"
          ],
          "name": "stdout"
        },
        {
          "output_type": "stream",
          "text": [
            "iterations: 624 | train_loss: 0.047949303 | validation_loss: 0.05002721 | Roc Score: 0.9318209 | Time elapsed: 1:21:59.051541\n",
            "iterations: 625 | train_loss: 0.06132171 | validation_loss: 0.050925076 | Roc Score: 0.93192714 | Time elapsed: 1:22:06.942050\n",
            "iterations: 626 | train_loss: 0.047646396 | validation_loss: 0.05194408 | Roc Score: 0.9320323 | Time elapsed: 1:22:14.679039\n",
            "iterations: 627 | train_loss: 0.04670252 | validation_loss: 0.052214075 | Roc Score: 0.9321356 | Time elapsed: 1:22:22.598794\n",
            "iterations: 628 | train_loss: 0.042109113 | validation_loss: 0.051175784 | Roc Score: 0.9322378 | Time elapsed: 1:22:30.555024\n",
            "iterations: 629 | train_loss: 0.041626282 | validation_loss: 0.051077157 | Roc Score: 0.9323388 | Time elapsed: 1:22:38.486679\n",
            "iterations: 630 | train_loss: 0.050731823 | validation_loss: 0.05014264 | Roc Score: 0.93243766 | Time elapsed: 1:22:46.391595\n",
            "iterations: 631 | train_loss: 0.04967336 | validation_loss: 0.050741963 | Roc Score: 0.93252987 | Time elapsed: 1:22:54.263085\n",
            "iterations: 632 | train_loss: 0.054019768 | validation_loss: 0.05152539 | Roc Score: 0.9326186 | Time elapsed: 1:23:02.177142\n",
            "iterations: 633 | train_loss: 0.051546976 | validation_loss: 0.05200795 | Roc Score: 0.93270546 | Time elapsed: 1:23:10.060862\n",
            "iterations: 634 | train_loss: 0.041389648 | validation_loss: 0.052154653 | Roc Score: 0.93279254 | Time elapsed: 1:23:17.949363\n",
            "iterations: 635 | train_loss: 0.027866736 | validation_loss: 0.052443713 | Roc Score: 0.93287885 | Time elapsed: 1:23:25.848345\n",
            "iterations: 636 | train_loss: 0.047902066 | validation_loss: 0.051436704 | Roc Score: 0.93297124 | Time elapsed: 1:23:33.743009\n",
            "iterations: 637 | train_loss: 0.05380881 | validation_loss: 0.04987729 | Roc Score: 0.9330705 | Time elapsed: 1:23:41.619807\n",
            "iterations: 638 | train_loss: 0.054943606 | validation_loss: 0.05009608 | Roc Score: 0.9331692 | Time elapsed: 1:23:49.566969\n",
            "iterations: 639 | train_loss: 0.051644992 | validation_loss: 0.05131004 | Roc Score: 0.9332649 | Time elapsed: 1:23:57.411221\n",
            "iterations: 640 | train_loss: 0.05023556 | validation_loss: 0.05238498 | Roc Score: 0.9333563 | Time elapsed: 1:24:05.320726\n",
            "iterations: 641 | train_loss: 0.04747975 | validation_loss: 0.05229495 | Roc Score: 0.9334478 | Time elapsed: 1:24:13.195490\n",
            "iterations: 642 | train_loss: 0.04452921 | validation_loss: 0.0512751 | Roc Score: 0.93354124 | Time elapsed: 1:24:21.034912\n",
            "iterations: 643 | train_loss: 0.03518881 | validation_loss: 0.050521486 | Roc Score: 0.93363744 | Time elapsed: 1:24:28.897151\n",
            "iterations: 644 | train_loss: 0.04448966 | validation_loss: 0.04996329 | Roc Score: 0.9337347 | Time elapsed: 1:24:36.926777\n",
            "iterations: 645 | train_loss: 0.026377367 | validation_loss: 0.050031878 | Roc Score: 0.9338298 | Time elapsed: 1:24:44.884959\n",
            "iterations: 646 | train_loss: 0.04798954 | validation_loss: 0.050813295 | Roc Score: 0.93392056 | Time elapsed: 1:24:52.810198\n",
            "iterations: 647 | train_loss: 0.062128652 | validation_loss: 0.05114938 | Roc Score: 0.9340068 | Time elapsed: 1:25:00.670175\n",
            "iterations: 648 | train_loss: 0.047015287 | validation_loss: 0.05091055 | Roc Score: 0.9340927 | Time elapsed: 1:25:08.581284\n",
            "iterations: 649 | train_loss: 0.03674841 | validation_loss: 0.05039706 | Roc Score: 0.9341807 | Time elapsed: 1:25:16.447024\n",
            "iterations: 650 | train_loss: 0.045429427 | validation_loss: 0.049831726 | Roc Score: 0.93427134 | Time elapsed: 1:25:24.375945\n",
            "iterations: 651 | train_loss: 0.04014728 | validation_loss: 0.049737014 | Roc Score: 0.9343642 | Time elapsed: 1:25:32.289699\n",
            "iterations: 652 | train_loss: 0.034679685 | validation_loss: 0.050124027 | Roc Score: 0.9344566 | Time elapsed: 1:25:40.115378\n",
            "iterations: 653 | train_loss: 0.053717606 | validation_loss: 0.0503233 | Roc Score: 0.9345484 | Time elapsed: 1:25:47.818906\n",
            "iterations: 654 | train_loss: 0.036752656 | validation_loss: 0.050223004 | Roc Score: 0.93463993 | Time elapsed: 1:25:55.718474\n",
            "iterations: 655 | train_loss: 0.063661836 | validation_loss: 0.04998191 | Roc Score: 0.9347315 | Time elapsed: 1:26:03.656446\n",
            "iterations: 656 | train_loss: 0.067075275 | validation_loss: 0.04970448 | Roc Score: 0.9348225 | Time elapsed: 1:26:11.557639\n",
            "iterations: 657 | train_loss: 0.052925847 | validation_loss: 0.049502213 | Roc Score: 0.934912 | Time elapsed: 1:26:19.466967\n",
            "iterations: 658 | train_loss: 0.03173495 | validation_loss: 0.04947216 | Roc Score: 0.93500036 | Time elapsed: 1:26:27.404071\n",
            "iterations: 659 | train_loss: 0.04749791 | validation_loss: 0.049591724 | Roc Score: 0.9350873 | Time elapsed: 1:26:35.277427\n",
            "iterations: 660 | train_loss: 0.053184006 | validation_loss: 0.049846195 | Roc Score: 0.93517333 | Time elapsed: 1:26:43.144998\n",
            "iterations: 661 | train_loss: 0.045646694 | validation_loss: 0.04970898 | Roc Score: 0.9352601 | Time elapsed: 1:26:51.033438\n",
            "iterations: 662 | train_loss: 0.06957878 | validation_loss: 0.049338922 | Roc Score: 0.93534887 | Time elapsed: 1:26:58.976016\n"
          ],
          "name": "stdout"
        },
        {
          "output_type": "stream",
          "text": [
            "iterations: 663 | train_loss: 0.062931955 | validation_loss: 0.04937756 | Roc Score: 0.93543833 | Time elapsed: 1:27:06.933152\n",
            "iterations: 664 | train_loss: 0.04767898 | validation_loss: 0.049838737 | Roc Score: 0.93552744 | Time elapsed: 1:27:14.783032\n",
            "iterations: 665 | train_loss: 0.04721012 | validation_loss: 0.05048742 | Roc Score: 0.93561625 | Time elapsed: 1:27:22.761111\n",
            "iterations: 666 | train_loss: 0.054938737 | validation_loss: 0.05074532 | Roc Score: 0.93570393 | Time elapsed: 1:27:30.854482\n",
            "iterations: 667 | train_loss: 0.041555203 | validation_loss: 0.05061951 | Roc Score: 0.9357919 | Time elapsed: 1:27:38.748620\n",
            "iterations: 668 | train_loss: 0.048486315 | validation_loss: 0.050215762 | Roc Score: 0.9358807 | Time elapsed: 1:27:46.673178\n",
            "iterations: 669 | train_loss: 0.04079916 | validation_loss: 0.049633246 | Roc Score: 0.9359687 | Time elapsed: 1:27:54.512425\n",
            "iterations: 670 | train_loss: 0.064270414 | validation_loss: 0.04941617 | Roc Score: 0.936056 | Time elapsed: 1:28:02.369694\n",
            "iterations: 671 | train_loss: 0.030237805 | validation_loss: 0.04963888 | Roc Score: 0.93614084 | Time elapsed: 1:28:10.271634\n",
            "iterations: 672 | train_loss: 0.050440617 | validation_loss: 0.049942132 | Roc Score: 0.93622404 | Time elapsed: 1:28:18.186892\n",
            "iterations: 673 | train_loss: 0.035416722 | validation_loss: 0.050031334 | Roc Score: 0.9363058 | Time elapsed: 1:28:26.142879\n",
            "iterations: 674 | train_loss: 0.047471613 | validation_loss: 0.049946494 | Roc Score: 0.93638647 | Time elapsed: 1:28:34.085757\n",
            "iterations: 675 | train_loss: 0.06226649 | validation_loss: 0.04953968 | Roc Score: 0.9364685 | Time elapsed: 1:28:42.009419\n",
            "iterations: 676 | train_loss: 0.027208475 | validation_loss: 0.049345512 | Roc Score: 0.93655086 | Time elapsed: 1:28:49.973338\n",
            "iterations: 677 | train_loss: 0.047356002 | validation_loss: 0.04937468 | Roc Score: 0.9366325 | Time elapsed: 1:28:57.818855\n",
            "iterations: 678 | train_loss: 0.05490645 | validation_loss: 0.049490724 | Roc Score: 0.93671495 | Time elapsed: 1:29:05.691257\n",
            "iterations: 679 | train_loss: 0.049817823 | validation_loss: 0.049652986 | Roc Score: 0.93679845 | Time elapsed: 1:29:13.833061\n",
            "iterations: 680 | train_loss: 0.034224298 | validation_loss: 0.049631327 | Roc Score: 0.9368815 | Time elapsed: 1:29:21.721139\n",
            "iterations: 681 | train_loss: 0.04148505 | validation_loss: 0.049744412 | Roc Score: 0.93696505 | Time elapsed: 1:29:29.570850\n",
            "iterations: 682 | train_loss: 0.050751265 | validation_loss: 0.04982357 | Roc Score: 0.93704915 | Time elapsed: 1:29:37.480440\n",
            "iterations: 683 | train_loss: 0.055211447 | validation_loss: 0.049847227 | Roc Score: 0.9371333 | Time elapsed: 1:29:45.384534\n",
            "iterations: 684 | train_loss: 0.06994548 | validation_loss: 0.04946921 | Roc Score: 0.93721676 | Time elapsed: 1:29:53.303728\n",
            "iterations: 685 | train_loss: 0.047889948 | validation_loss: 0.049006376 | Roc Score: 0.9372995 | Time elapsed: 1:30:01.196243\n",
            "iterations: 686 | train_loss: 0.07412646 | validation_loss: 0.048716262 | Roc Score: 0.93738234 | Time elapsed: 1:30:09.082040\n",
            "iterations: 687 | train_loss: 0.045394387 | validation_loss: 0.048513316 | Roc Score: 0.93746614 | Time elapsed: 1:30:16.938231\n",
            "iterations: 688 | train_loss: 0.062523045 | validation_loss: 0.04840154 | Roc Score: 0.93754935 | Time elapsed: 1:30:24.880580\n",
            "iterations: 689 | train_loss: 0.039758585 | validation_loss: 0.0484474 | Roc Score: 0.9376309 | Time elapsed: 1:30:32.811841\n",
            "iterations: 690 | train_loss: 0.06664305 | validation_loss: 0.048556633 | Roc Score: 0.93771124 | Time elapsed: 1:30:40.983445\n",
            "iterations: 691 | train_loss: 0.04371408 | validation_loss: 0.048847582 | Roc Score: 0.9377898 | Time elapsed: 1:30:48.900138\n",
            "iterations: 692 | train_loss: 0.058990605 | validation_loss: 0.04892457 | Roc Score: 0.9378679 | Time elapsed: 1:30:56.809602\n",
            "iterations: 693 | train_loss: 0.050365824 | validation_loss: 0.048969608 | Roc Score: 0.93794537 | Time elapsed: 1:31:04.767217\n",
            "iterations: 694 | train_loss: 0.04614144 | validation_loss: 0.049041547 | Roc Score: 0.9380234 | Time elapsed: 1:31:12.636482\n",
            "iterations: 695 | train_loss: 0.048297603 | validation_loss: 0.049181927 | Roc Score: 0.93810093 | Time elapsed: 1:31:20.146419\n",
            "iterations: 696 | train_loss: 0.045033764 | validation_loss: 0.04943931 | Roc Score: 0.9381785 | Time elapsed: 1:31:28.030528\n",
            "iterations: 697 | train_loss: 0.041841526 | validation_loss: 0.04950159 | Roc Score: 0.9382562 | Time elapsed: 1:31:35.644097\n",
            "iterations: 698 | train_loss: 0.056144264 | validation_loss: 0.049328633 | Roc Score: 0.9383335 | Time elapsed: 1:31:43.587052\n",
            "iterations: 699 | train_loss: 0.02442342 | validation_loss: 0.049393166 | Roc Score: 0.93840754 | Time elapsed: 1:31:51.505080\n",
            "iterations: 700 | train_loss: 0.054463897 | validation_loss: 0.049487397 | Roc Score: 0.9384809 | Time elapsed: 1:31:59.412969\n",
            "iterations: 701 | train_loss: 0.05419436 | validation_loss: 0.049582873 | Roc Score: 0.93855405 | Time elapsed: 1:32:07.280494\n"
          ],
          "name": "stdout"
        },
        {
          "output_type": "stream",
          "text": [
            "iterations: 702 | train_loss: 0.030206632 | validation_loss: 0.049697075 | Roc Score: 0.93862593 | Time elapsed: 1:32:14.975715\n",
            "iterations: 703 | train_loss: 0.042626552 | validation_loss: 0.049570397 | Roc Score: 0.9386977 | Time elapsed: 1:32:22.829547\n",
            "iterations: 704 | train_loss: 0.052998547 | validation_loss: 0.049336206 | Roc Score: 0.93877095 | Time elapsed: 1:32:30.760034\n",
            "iterations: 705 | train_loss: 0.05107048 | validation_loss: 0.04924525 | Roc Score: 0.9388446 | Time elapsed: 1:32:38.636061\n",
            "iterations: 706 | train_loss: 0.035433356 | validation_loss: 0.049447894 | Roc Score: 0.9389184 | Time elapsed: 1:32:46.473641\n",
            "iterations: 707 | train_loss: 0.051127866 | validation_loss: 0.049919803 | Roc Score: 0.9389935 | Time elapsed: 1:32:54.370937\n",
            "iterations: 708 | train_loss: 0.045273617 | validation_loss: 0.050401296 | Roc Score: 0.9390686 | Time elapsed: 1:33:02.234097\n",
            "iterations: 709 | train_loss: 0.04600749 | validation_loss: 0.050596215 | Roc Score: 0.93914336 | Time elapsed: 1:33:09.924996\n",
            "iterations: 710 | train_loss: 0.023708379 | validation_loss: 0.05038167 | Roc Score: 0.9392187 | Time elapsed: 1:33:17.816779\n",
            "iterations: 711 | train_loss: 0.056556154 | validation_loss: 0.049324017 | Roc Score: 0.93929327 | Time elapsed: 1:33:25.526281\n",
            "iterations: 712 | train_loss: 0.03565241 | validation_loss: 0.049429208 | Roc Score: 0.93936497 | Time elapsed: 1:33:33.424438\n",
            "iterations: 713 | train_loss: 0.052489486 | validation_loss: 0.05008756 | Roc Score: 0.93943363 | Time elapsed: 1:33:41.265034\n",
            "iterations: 714 | train_loss: 0.03429221 | validation_loss: 0.051459026 | Roc Score: 0.9394987 | Time elapsed: 1:33:49.202459\n",
            "iterations: 715 | train_loss: 0.040943112 | validation_loss: 0.052457485 | Roc Score: 0.93956107 | Time elapsed: 1:33:57.142607\n",
            "iterations: 716 | train_loss: 0.05251338 | validation_loss: 0.05179666 | Roc Score: 0.93962526 | Time elapsed: 1:34:05.064799\n",
            "iterations: 717 | train_loss: 0.028854756 | validation_loss: 0.05133313 | Roc Score: 0.939692 | Time elapsed: 1:34:12.942282\n",
            "iterations: 718 | train_loss: 0.042958118 | validation_loss: 0.050190117 | Roc Score: 0.9397615 | Time elapsed: 1:34:20.503504\n",
            "iterations: 719 | train_loss: 0.050841775 | validation_loss: 0.04914994 | Roc Score: 0.9398346 | Time elapsed: 1:34:28.458658\n",
            "iterations: 720 | train_loss: 0.05488767 | validation_loss: 0.0492817 | Roc Score: 0.9399083 | Time elapsed: 1:34:36.338192\n",
            "iterations: 721 | train_loss: 0.04123407 | validation_loss: 0.05035845 | Roc Score: 0.9399789 | Time elapsed: 1:34:44.259997\n",
            "iterations: 722 | train_loss: 0.052314743 | validation_loss: 0.051655177 | Roc Score: 0.9400471 | Time elapsed: 1:34:52.160768\n",
            "iterations: 723 | train_loss: 0.04703984 | validation_loss: 0.05238524 | Roc Score: 0.940115 | Time elapsed: 1:35:00.075620\n",
            "iterations: 724 | train_loss: 0.047990426 | validation_loss: 0.051341113 | Roc Score: 0.94018483 | Time elapsed: 1:35:07.969999\n",
            "iterations: 725 | train_loss: 0.03315997 | validation_loss: 0.049559608 | Roc Score: 0.9402591 | Time elapsed: 1:35:15.829842\n",
            "iterations: 726 | train_loss: 0.043518074 | validation_loss: 0.04880756 | Roc Score: 0.94033295 | Time elapsed: 1:35:23.730593\n",
            "iterations: 727 | train_loss: 0.039168615 | validation_loss: 0.048928563 | Roc Score: 0.94040525 | Time elapsed: 1:35:31.634186\n",
            "iterations: 728 | train_loss: 0.034531362 | validation_loss: 0.050357003 | Roc Score: 0.9404723 | Time elapsed: 1:35:39.553002\n",
            "iterations: 729 | train_loss: 0.066127226 | validation_loss: 0.05227225 | Roc Score: 0.94053185 | Time elapsed: 1:35:47.429288\n",
            "iterations: 730 | train_loss: 0.04789478 | validation_loss: 0.053524062 | Roc Score: 0.9405865 | Time elapsed: 1:35:55.270858\n",
            "iterations: 731 | train_loss: 0.06936362 | validation_loss: 0.052586034 | Roc Score: 0.94064474 | Time elapsed: 1:36:03.062353\n",
            "iterations: 732 | train_loss: 0.050240166 | validation_loss: 0.050753333 | Roc Score: 0.94070894 | Time elapsed: 1:36:10.940533\n",
            "iterations: 733 | train_loss: 0.03727225 | validation_loss: 0.049289722 | Roc Score: 0.9407789 | Time elapsed: 1:36:18.856453\n",
            "iterations: 734 | train_loss: 0.04761923 | validation_loss: 0.04855806 | Roc Score: 0.94085133 | Time elapsed: 1:36:26.762796\n",
            "iterations: 735 | train_loss: 0.058476843 | validation_loss: 0.04864046 | Roc Score: 0.9409244 | Time elapsed: 1:36:34.672579\n",
            "iterations: 736 | train_loss: 0.02971459 | validation_loss: 0.049620572 | Roc Score: 0.9409977 | Time elapsed: 1:36:42.571639\n",
            "iterations: 737 | train_loss: 0.060651112 | validation_loss: 0.051219415 | Roc Score: 0.94106865 | Time elapsed: 1:36:50.448060\n",
            "iterations: 738 | train_loss: 0.054070104 | validation_loss: 0.053413108 | Roc Score: 0.9411366 | Time elapsed: 1:36:58.336846\n",
            "iterations: 739 | train_loss: 0.048597965 | validation_loss: 0.05410938 | Roc Score: 0.94120395 | Time elapsed: 1:37:06.223116\n",
            "iterations: 740 | train_loss: 0.050899334 | validation_loss: 0.05240485 | Roc Score: 0.94127333 | Time elapsed: 1:37:14.033566\n"
          ],
          "name": "stdout"
        },
        {
          "output_type": "stream",
          "text": [
            "iterations: 741 | train_loss: 0.064436324 | validation_loss: 0.049976215 | Roc Score: 0.9413431 | Time elapsed: 1:37:21.971622\n",
            "iterations: 742 | train_loss: 0.034461185 | validation_loss: 0.048953976 | Roc Score: 0.94141316 | Time elapsed: 1:37:29.878477\n",
            "iterations: 743 | train_loss: 0.04171456 | validation_loss: 0.0491274 | Roc Score: 0.94147956 | Time elapsed: 1:37:37.790238\n",
            "iterations: 744 | train_loss: 0.043826587 | validation_loss: 0.050046343 | Roc Score: 0.9415408 | Time elapsed: 1:37:45.812833\n",
            "iterations: 745 | train_loss: 0.040190484 | validation_loss: 0.051346537 | Roc Score: 0.9415969 | Time elapsed: 1:37:53.720099\n",
            "iterations: 746 | train_loss: 0.037257563 | validation_loss: 0.05216063 | Roc Score: 0.9416498 | Time elapsed: 1:38:01.626973\n",
            "iterations: 747 | train_loss: 0.068397574 | validation_loss: 0.051812723 | Roc Score: 0.94170374 | Time elapsed: 1:38:09.577110\n",
            "iterations: 748 | train_loss: 0.059702728 | validation_loss: 0.050950967 | Roc Score: 0.94176036 | Time elapsed: 1:38:17.398701\n",
            "iterations: 749 | train_loss: 0.042605113 | validation_loss: 0.050074138 | Roc Score: 0.9418194 | Time elapsed: 1:38:25.303123\n",
            "iterations: 750 | train_loss: 0.060391955 | validation_loss: 0.04895736 | Roc Score: 0.9418828 | Time elapsed: 1:38:33.015836\n",
            "iterations: 751 | train_loss: 0.057283007 | validation_loss: 0.048563525 | Roc Score: 0.9419499 | Time elapsed: 1:38:40.911454\n",
            "iterations: 752 | train_loss: 0.034712423 | validation_loss: 0.049096946 | Roc Score: 0.94201714 | Time elapsed: 1:38:48.788802\n",
            "iterations: 753 | train_loss: 0.043044496 | validation_loss: 0.0499086 | Roc Score: 0.94208324 | Time elapsed: 1:38:56.684106\n",
            "iterations: 754 | train_loss: 0.03623868 | validation_loss: 0.05018945 | Roc Score: 0.9421487 | Time elapsed: 1:39:04.563212\n",
            "iterations: 755 | train_loss: 0.04124792 | validation_loss: 0.05012263 | Roc Score: 0.94221395 | Time elapsed: 1:39:12.379657\n",
            "iterations: 756 | train_loss: 0.03678089 | validation_loss: 0.04920743 | Roc Score: 0.9422821 | Time elapsed: 1:39:20.255443\n",
            "iterations: 757 | train_loss: 0.029047687 | validation_loss: 0.04848389 | Roc Score: 0.9423509 | Time elapsed: 1:39:28.127209\n",
            "iterations: 758 | train_loss: 0.033914663 | validation_loss: 0.048489083 | Roc Score: 0.9424188 | Time elapsed: 1:39:35.985780\n",
            "iterations: 759 | train_loss: 0.027734317 | validation_loss: 0.04959826 | Roc Score: 0.9424813 | Time elapsed: 1:39:43.839542\n",
            "iterations: 760 | train_loss: 0.04211862 | validation_loss: 0.05152667 | Roc Score: 0.9425381 | Time elapsed: 1:39:51.982971\n",
            "iterations: 761 | train_loss: 0.06009308 | validation_loss: 0.053351674 | Roc Score: 0.9425877 | Time elapsed: 1:39:59.845483\n",
            "iterations: 762 | train_loss: 0.05746229 | validation_loss: 0.054608803 | Roc Score: 0.94263065 | Time elapsed: 1:40:07.746300\n",
            "iterations: 763 | train_loss: 0.051211573 | validation_loss: 0.05477327 | Roc Score: 0.94267255 | Time elapsed: 1:40:15.628972\n",
            "iterations: 764 | train_loss: 0.05336336 | validation_loss: 0.0540482 | Roc Score: 0.94272035 | Time elapsed: 1:40:23.481964\n",
            "iterations: 765 | train_loss: 0.031751517 | validation_loss: 0.053340763 | Roc Score: 0.9427715 | Time elapsed: 1:40:31.338406\n",
            "iterations: 766 | train_loss: 0.049883105 | validation_loss: 0.05205839 | Roc Score: 0.94282675 | Time elapsed: 1:40:39.224608\n",
            "iterations: 767 | train_loss: 0.049302865 | validation_loss: 0.050900903 | Roc Score: 0.94288594 | Time elapsed: 1:40:47.114079\n",
            "iterations: 768 | train_loss: 0.05847739 | validation_loss: 0.050102167 | Roc Score: 0.94294775 | Time elapsed: 1:40:54.995057\n",
            "iterations: 769 | train_loss: 0.036451895 | validation_loss: 0.04958877 | Roc Score: 0.9430119 | Time elapsed: 1:41:02.881111\n",
            "iterations: 770 | train_loss: 0.040264893 | validation_loss: 0.04920612 | Roc Score: 0.94307655 | Time elapsed: 1:41:10.749856\n",
            "iterations: 771 | train_loss: 0.05291802 | validation_loss: 0.049038786 | Roc Score: 0.943141 | Time elapsed: 1:41:18.649699\n",
            "iterations: 772 | train_loss: 0.062374648 | validation_loss: 0.04900291 | Roc Score: 0.9432051 | Time elapsed: 1:41:26.553360\n",
            "iterations: 773 | train_loss: 0.056422755 | validation_loss: 0.049101833 | Roc Score: 0.943269 | Time elapsed: 1:41:34.447481\n",
            "iterations: 774 | train_loss: 0.04839467 | validation_loss: 0.04909559 | Roc Score: 0.9433328 | Time elapsed: 1:41:42.340507\n",
            "iterations: 775 | train_loss: 0.047405936 | validation_loss: 0.049019497 | Roc Score: 0.9433967 | Time elapsed: 1:41:50.206186\n",
            "iterations: 776 | train_loss: 0.03630671 | validation_loss: 0.048920922 | Roc Score: 0.94346005 | Time elapsed: 1:41:58.049720\n",
            "iterations: 777 | train_loss: 0.045142323 | validation_loss: 0.048984636 | Roc Score: 0.9435219 | Time elapsed: 1:42:05.920306\n",
            "iterations: 778 | train_loss: 0.035340745 | validation_loss: 0.049154878 | Roc Score: 0.9435829 | Time elapsed: 1:42:13.798703\n",
            "iterations: 779 | train_loss: 0.045317024 | validation_loss: 0.049183805 | Roc Score: 0.9436426 | Time elapsed: 1:42:21.711730\n"
          ],
          "name": "stdout"
        },
        {
          "output_type": "stream",
          "text": [
            "iterations: 780 | train_loss: 0.033829726 | validation_loss: 0.04925628 | Roc Score: 0.9437008 | Time elapsed: 1:42:29.588564\n",
            "iterations: 781 | train_loss: 0.0410499 | validation_loss: 0.04928951 | Roc Score: 0.94375825 | Time elapsed: 1:42:37.458821\n",
            "iterations: 782 | train_loss: 0.04085646 | validation_loss: 0.049053058 | Roc Score: 0.94381595 | Time elapsed: 1:42:45.312340\n",
            "iterations: 783 | train_loss: 0.032414034 | validation_loss: 0.048865013 | Roc Score: 0.9438737 | Time elapsed: 1:42:53.174511\n",
            "iterations: 784 | train_loss: 0.044816244 | validation_loss: 0.04849614 | Roc Score: 0.9439322 | Time elapsed: 1:43:01.045801\n",
            "iterations: 785 | train_loss: 0.05699458 | validation_loss: 0.04823374 | Roc Score: 0.9439923 | Time elapsed: 1:43:08.900877\n",
            "iterations: 786 | train_loss: 0.050336584 | validation_loss: 0.048268948 | Roc Score: 0.94405335 | Time elapsed: 1:43:16.775236\n",
            "iterations: 787 | train_loss: 0.05209405 | validation_loss: 0.048930626 | Roc Score: 0.9441138 | Time elapsed: 1:43:24.600300\n",
            "iterations: 788 | train_loss: 0.049537517 | validation_loss: 0.04938225 | Roc Score: 0.9441737 | Time elapsed: 1:43:32.516540\n",
            "iterations: 789 | train_loss: 0.042388663 | validation_loss: 0.049949534 | Roc Score: 0.94423395 | Time elapsed: 1:43:40.356642\n",
            "iterations: 790 | train_loss: 0.038240198 | validation_loss: 0.049663916 | Roc Score: 0.9442936 | Time elapsed: 1:43:48.186591\n",
            "iterations: 791 | train_loss: 0.05224244 | validation_loss: 0.049138464 | Roc Score: 0.9443534 | Time elapsed: 1:43:56.091222\n",
            "iterations: 792 | train_loss: 0.055182837 | validation_loss: 0.04854794 | Roc Score: 0.94441366 | Time elapsed: 1:44:03.946404\n",
            "iterations: 793 | train_loss: 0.044318017 | validation_loss: 0.048114665 | Roc Score: 0.94447404 | Time elapsed: 1:44:11.839389\n",
            "iterations: 794 | train_loss: 0.05447199 | validation_loss: 0.048001304 | Roc Score: 0.9445336 | Time elapsed: 1:44:19.525015\n",
            "iterations: 795 | train_loss: 0.036708448 | validation_loss: 0.0481055 | Roc Score: 0.9445918 | Time elapsed: 1:44:27.241868\n",
            "iterations: 796 | train_loss: 0.066470794 | validation_loss: 0.048114408 | Roc Score: 0.9446499 | Time elapsed: 1:44:35.094268\n",
            "iterations: 797 | train_loss: 0.05364987 | validation_loss: 0.048026137 | Roc Score: 0.944709 | Time elapsed: 1:44:43.001844\n",
            "iterations: 798 | train_loss: 0.031794112 | validation_loss: 0.048113175 | Roc Score: 0.9447684 | Time elapsed: 1:44:50.850041\n",
            "iterations: 799 | train_loss: 0.04221092 | validation_loss: 0.0480802 | Roc Score: 0.9448276 | Time elapsed: 1:44:58.740138\n",
            "iterations: 800 | train_loss: 0.037727628 | validation_loss: 0.048167963 | Roc Score: 0.9448861 | Time elapsed: 1:45:06.623847\n",
            "iterations: 801 | train_loss: 0.041616503 | validation_loss: 0.04800287 | Roc Score: 0.94494396 | Time elapsed: 1:45:14.518605\n",
            "iterations: 802 | train_loss: 0.04862616 | validation_loss: 0.04778579 | Roc Score: 0.9450019 | Time elapsed: 1:45:22.434847\n",
            "iterations: 803 | train_loss: 0.03822963 | validation_loss: 0.047954727 | Roc Score: 0.94505954 | Time elapsed: 1:45:30.236850\n",
            "iterations: 804 | train_loss: 0.040633667 | validation_loss: 0.048043378 | Roc Score: 0.9451167 | Time elapsed: 1:45:38.159952\n",
            "iterations: 805 | train_loss: 0.0380384 | validation_loss: 0.048266515 | Roc Score: 0.9451741 | Time elapsed: 1:45:46.068538\n",
            "iterations: 806 | train_loss: 0.060248673 | validation_loss: 0.048585474 | Roc Score: 0.9452318 | Time elapsed: 1:45:53.964129\n",
            "iterations: 807 | train_loss: 0.042788215 | validation_loss: 0.04896666 | Roc Score: 0.945289 | Time elapsed: 1:46:01.769292\n",
            "iterations: 808 | train_loss: 0.04001961 | validation_loss: 0.04910526 | Roc Score: 0.9453458 | Time elapsed: 1:46:09.645927\n",
            "iterations: 809 | train_loss: 0.035216283 | validation_loss: 0.049337387 | Roc Score: 0.94540226 | Time elapsed: 1:46:17.283929\n",
            "iterations: 810 | train_loss: 0.045524094 | validation_loss: 0.049480494 | Roc Score: 0.94545823 | Time elapsed: 1:46:25.141417\n",
            "iterations: 811 | train_loss: 0.064018935 | validation_loss: 0.04948109 | Roc Score: 0.9455137 | Time elapsed: 1:46:33.024913\n",
            "iterations: 812 | train_loss: 0.057066906 | validation_loss: 0.049391527 | Roc Score: 0.9455703 | Time elapsed: 1:46:40.919054\n",
            "iterations: 813 | train_loss: 0.04679025 | validation_loss: 0.049530197 | Roc Score: 0.9456267 | Time elapsed: 1:46:48.271729\n",
            "iterations: 814 | train_loss: 0.054959916 | validation_loss: 0.049739417 | Roc Score: 0.9456826 | Time elapsed: 1:46:56.178969\n",
            "iterations: 815 | train_loss: 0.04172101 | validation_loss: 0.049933802 | Roc Score: 0.9457387 | Time elapsed: 1:47:04.064657\n",
            "iterations: 816 | train_loss: 0.03327839 | validation_loss: 0.050132286 | Roc Score: 0.9457947 | Time elapsed: 1:47:12.116228\n",
            "iterations: 817 | train_loss: 0.050265443 | validation_loss: 0.05042022 | Roc Score: 0.94585 | Time elapsed: 1:47:19.998408\n",
            "iterations: 818 | train_loss: 0.039656796 | validation_loss: 0.050506398 | Roc Score: 0.9459052 | Time elapsed: 1:47:27.899424\n"
          ],
          "name": "stdout"
        },
        {
          "output_type": "stream",
          "text": [
            "iterations: 819 | train_loss: 0.03663621 | validation_loss: 0.050329145 | Roc Score: 0.9459605 | Time elapsed: 1:47:35.854275\n",
            "iterations: 820 | train_loss: 0.04641407 | validation_loss: 0.050019715 | Roc Score: 0.9460154 | Time elapsed: 1:47:43.752802\n",
            "iterations: 821 | train_loss: 0.045528177 | validation_loss: 0.05009875 | Roc Score: 0.9460693 | Time elapsed: 1:47:51.732218\n",
            "iterations: 822 | train_loss: 0.047834594 | validation_loss: 0.0497054 | Roc Score: 0.9461216 | Time elapsed: 1:47:59.631115\n",
            "iterations: 823 | train_loss: 0.03150847 | validation_loss: 0.049598422 | Roc Score: 0.9461717 | Time elapsed: 1:48:07.506696\n",
            "iterations: 824 | train_loss: 0.069652006 | validation_loss: 0.049409896 | Roc Score: 0.94622266 | Time elapsed: 1:48:15.406188\n",
            "iterations: 825 | train_loss: 0.041828625 | validation_loss: 0.049230512 | Roc Score: 0.9462739 | Time elapsed: 1:48:23.307350\n",
            "iterations: 826 | train_loss: 0.04603352 | validation_loss: 0.049186952 | Roc Score: 0.9463248 | Time elapsed: 1:48:31.213518\n",
            "iterations: 827 | train_loss: 0.042177107 | validation_loss: 0.049273346 | Roc Score: 0.9463766 | Time elapsed: 1:48:39.107833\n",
            "iterations: 828 | train_loss: 0.054534417 | validation_loss: 0.049392216 | Roc Score: 0.9464284 | Time elapsed: 1:48:46.472202\n",
            "iterations: 829 | train_loss: 0.025881965 | validation_loss: 0.049652454 | Roc Score: 0.9464789 | Time elapsed: 1:48:54.349650\n",
            "iterations: 830 | train_loss: 0.0241244 | validation_loss: 0.050104786 | Roc Score: 0.9465272 | Time elapsed: 1:49:02.231381\n",
            "iterations: 831 | train_loss: 0.048717976 | validation_loss: 0.050386924 | Roc Score: 0.94657344 | Time elapsed: 1:49:10.101978\n",
            "iterations: 832 | train_loss: 0.058577098 | validation_loss: 0.04986947 | Roc Score: 0.94662166 | Time elapsed: 1:49:17.949758\n",
            "iterations: 833 | train_loss: 0.06636951 | validation_loss: 0.049075346 | Roc Score: 0.94667405 | Time elapsed: 1:49:25.833084\n",
            "iterations: 834 | train_loss: 0.049621828 | validation_loss: 0.048980158 | Roc Score: 0.9467271 | Time elapsed: 1:49:33.878492\n",
            "iterations: 835 | train_loss: 0.043002967 | validation_loss: 0.048870947 | Roc Score: 0.9467801 | Time elapsed: 1:49:41.634532\n",
            "iterations: 836 | train_loss: 0.034599792 | validation_loss: 0.048833925 | Roc Score: 0.9468325 | Time elapsed: 1:49:49.564884\n",
            "iterations: 837 | train_loss: 0.039222132 | validation_loss: 0.048669316 | Roc Score: 0.9468849 | Time elapsed: 1:49:57.370746\n",
            "iterations: 838 | train_loss: 0.048447356 | validation_loss: 0.04843713 | Roc Score: 0.9469368 | Time elapsed: 1:50:05.028047\n",
            "iterations: 839 | train_loss: 0.044635467 | validation_loss: 0.048479553 | Roc Score: 0.946988 | Time elapsed: 1:50:12.947201\n",
            "iterations: 840 | train_loss: 0.0811113 | validation_loss: 0.048524234 | Roc Score: 0.94703877 | Time elapsed: 1:50:20.832317\n",
            "iterations: 841 | train_loss: 0.038039193 | validation_loss: 0.048493203 | Roc Score: 0.9470893 | Time elapsed: 1:50:28.700787\n",
            "iterations: 842 | train_loss: 0.04541973 | validation_loss: 0.04846443 | Roc Score: 0.9471396 | Time elapsed: 1:50:36.420504\n",
            "iterations: 843 | train_loss: 0.046483457 | validation_loss: 0.048303757 | Roc Score: 0.9471886 | Time elapsed: 1:50:44.326083\n",
            "iterations: 844 | train_loss: 0.040298752 | validation_loss: 0.048357688 | Roc Score: 0.9472361 | Time elapsed: 1:50:52.376191\n",
            "iterations: 845 | train_loss: 0.048594117 | validation_loss: 0.0483604 | Roc Score: 0.94728446 | Time elapsed: 1:51:00.262790\n",
            "iterations: 846 | train_loss: 0.05606743 | validation_loss: 0.04820928 | Roc Score: 0.9473338 | Time elapsed: 1:51:08.109600\n",
            "iterations: 847 | train_loss: 0.049360547 | validation_loss: 0.04810651 | Roc Score: 0.9473847 | Time elapsed: 1:51:15.987678\n",
            "iterations: 848 | train_loss: 0.040827785 | validation_loss: 0.048292782 | Roc Score: 0.94743514 | Time elapsed: 1:51:23.877111\n",
            "iterations: 849 | train_loss: 0.036973182 | validation_loss: 0.048401468 | Roc Score: 0.9474867 | Time elapsed: 1:51:31.538726\n",
            "iterations: 850 | train_loss: 0.044051163 | validation_loss: 0.048317514 | Roc Score: 0.94753844 | Time elapsed: 1:51:39.436499\n",
            "iterations: 851 | train_loss: 0.045450892 | validation_loss: 0.04805577 | Roc Score: 0.9475902 | Time elapsed: 1:51:47.347452\n",
            "iterations: 852 | train_loss: 0.039676003 | validation_loss: 0.047828477 | Roc Score: 0.94764155 | Time elapsed: 1:51:55.202258\n",
            "iterations: 853 | train_loss: 0.05167344 | validation_loss: 0.047833975 | Roc Score: 0.9476929 | Time elapsed: 1:52:03.076777\n",
            "iterations: 854 | train_loss: 0.053382136 | validation_loss: 0.04791019 | Roc Score: 0.9477442 | Time elapsed: 1:52:10.932921\n",
            "iterations: 855 | train_loss: 0.047501814 | validation_loss: 0.048012067 | Roc Score: 0.9477946 | Time elapsed: 1:52:18.840571\n",
            "iterations: 856 | train_loss: 0.06620029 | validation_loss: 0.04799426 | Roc Score: 0.94784456 | Time elapsed: 1:52:26.694310\n",
            "iterations: 857 | train_loss: 0.037340853 | validation_loss: 0.048034217 | Roc Score: 0.9478949 | Time elapsed: 1:52:34.602504\n"
          ],
          "name": "stdout"
        },
        {
          "output_type": "stream",
          "text": [
            "iterations: 858 | train_loss: 0.06682725 | validation_loss: 0.048227184 | Roc Score: 0.947946 | Time elapsed: 1:52:42.503910\n",
            "iterations: 859 | train_loss: 0.052500404 | validation_loss: 0.04876295 | Roc Score: 0.9479972 | Time elapsed: 1:52:50.398671\n",
            "iterations: 860 | train_loss: 0.039739132 | validation_loss: 0.048352554 | Roc Score: 0.9480478 | Time elapsed: 1:52:58.260500\n",
            "iterations: 861 | train_loss: 0.04954229 | validation_loss: 0.047961477 | Roc Score: 0.94809806 | Time elapsed: 1:53:06.131621\n",
            "iterations: 862 | train_loss: 0.03578973 | validation_loss: 0.04787868 | Roc Score: 0.94814754 | Time elapsed: 1:53:14.005725\n",
            "iterations: 863 | train_loss: 0.04306012 | validation_loss: 0.048351154 | Roc Score: 0.94819534 | Time elapsed: 1:53:21.881953\n",
            "iterations: 864 | train_loss: 0.04064843 | validation_loss: 0.04917198 | Roc Score: 0.94823986 | Time elapsed: 1:53:29.803235\n",
            "iterations: 865 | train_loss: 0.045751136 | validation_loss: 0.050296035 | Roc Score: 0.94828176 | Time elapsed: 1:53:37.702356\n",
            "iterations: 866 | train_loss: 0.044699486 | validation_loss: 0.050569985 | Roc Score: 0.94832253 | Time elapsed: 1:53:45.574404\n",
            "iterations: 867 | train_loss: 0.044091817 | validation_loss: 0.050361387 | Roc Score: 0.94836426 | Time elapsed: 1:53:53.472083\n",
            "iterations: 868 | train_loss: 0.045958742 | validation_loss: 0.04998894 | Roc Score: 0.9484062 | Time elapsed: 1:54:01.373887\n",
            "iterations: 869 | train_loss: 0.06867623 | validation_loss: 0.049169708 | Roc Score: 0.9484501 | Time elapsed: 1:54:09.263581\n",
            "iterations: 870 | train_loss: 0.03135413 | validation_loss: 0.048637826 | Roc Score: 0.94849557 | Time elapsed: 1:54:17.203754\n",
            "iterations: 871 | train_loss: 0.06190095 | validation_loss: 0.04822476 | Roc Score: 0.94854265 | Time elapsed: 1:54:25.088257\n",
            "iterations: 872 | train_loss: 0.048998956 | validation_loss: 0.04823723 | Roc Score: 0.94859153 | Time elapsed: 1:54:32.967601\n",
            "iterations: 873 | train_loss: 0.052138466 | validation_loss: 0.04869686 | Roc Score: 0.9486396 | Time elapsed: 1:54:40.887634\n",
            "iterations: 874 | train_loss: 0.04960008 | validation_loss: 0.04904579 | Roc Score: 0.9486878 | Time elapsed: 1:54:48.790401\n",
            "iterations: 875 | train_loss: 0.048083507 | validation_loss: 0.04950552 | Roc Score: 0.9487353 | Time elapsed: 1:54:56.676307\n",
            "iterations: 876 | train_loss: 0.038362686 | validation_loss: 0.049481675 | Roc Score: 0.94878304 | Time elapsed: 1:55:04.537951\n",
            "iterations: 877 | train_loss: 0.045656852 | validation_loss: 0.049243074 | Roc Score: 0.9488306 | Time elapsed: 1:55:12.427975\n",
            "iterations: 878 | train_loss: 0.064173006 | validation_loss: 0.04902325 | Roc Score: 0.9488782 | Time elapsed: 1:55:20.329149\n",
            "iterations: 879 | train_loss: 0.0621448 | validation_loss: 0.048683647 | Roc Score: 0.94892585 | Time elapsed: 1:55:28.210176\n",
            "iterations: 880 | train_loss: 0.041514058 | validation_loss: 0.048357226 | Roc Score: 0.9489739 | Time elapsed: 1:55:35.992242\n",
            "iterations: 881 | train_loss: 0.039765146 | validation_loss: 0.04847307 | Roc Score: 0.9490207 | Time elapsed: 1:55:43.882408\n",
            "iterations: 882 | train_loss: 0.035972845 | validation_loss: 0.049816366 | Roc Score: 0.9490639 | Time elapsed: 1:55:51.694487\n",
            "iterations: 883 | train_loss: 0.043540552 | validation_loss: 0.05157131 | Roc Score: 0.9491015 | Time elapsed: 1:55:59.601689\n",
            "iterations: 884 | train_loss: 0.046567 | validation_loss: 0.050991178 | Roc Score: 0.94914114 | Time elapsed: 1:56:07.489801\n",
            "iterations: 885 | train_loss: 0.060631867 | validation_loss: 0.04941816 | Roc Score: 0.9491854 | Time elapsed: 1:56:15.352495\n",
            "iterations: 886 | train_loss: 0.05732182 | validation_loss: 0.047905557 | Roc Score: 0.9492333 | Time elapsed: 1:56:23.225623\n",
            "iterations: 887 | train_loss: 0.042412486 | validation_loss: 0.048481226 | Roc Score: 0.9492818 | Time elapsed: 1:56:31.108432\n",
            "iterations: 888 | train_loss: 0.03617565 | validation_loss: 0.049763598 | Roc Score: 0.9493288 | Time elapsed: 1:56:39.014713\n",
            "iterations: 889 | train_loss: 0.04523861 | validation_loss: 0.050250005 | Roc Score: 0.9493746 | Time elapsed: 1:56:46.877777\n",
            "iterations: 890 | train_loss: 0.05364373 | validation_loss: 0.050032943 | Roc Score: 0.94942087 | Time elapsed: 1:56:54.730232\n",
            "iterations: 891 | train_loss: 0.018942373 | validation_loss: 0.0487764 | Roc Score: 0.9494681 | Time elapsed: 1:57:02.600393\n",
            "iterations: 892 | train_loss: 0.06859953 | validation_loss: 0.04765463 | Roc Score: 0.94951594 | Time elapsed: 1:57:10.486465\n",
            "iterations: 893 | train_loss: 0.056493137 | validation_loss: 0.04721201 | Roc Score: 0.9495633 | Time elapsed: 1:57:18.389467\n",
            "iterations: 894 | train_loss: 0.06825961 | validation_loss: 0.047525052 | Roc Score: 0.9496093 | Time elapsed: 1:57:26.253710\n",
            "iterations: 895 | train_loss: 0.055350386 | validation_loss: 0.04807074 | Roc Score: 0.9496536 | Time elapsed: 1:57:34.176810\n",
            "iterations: 896 | train_loss: 0.038667757 | validation_loss: 0.049013168 | Roc Score: 0.9496961 | Time elapsed: 1:57:42.070553\n"
          ],
          "name": "stdout"
        },
        {
          "output_type": "stream",
          "text": [
            "iterations: 897 | train_loss: 0.03943714 | validation_loss: 0.05015957 | Roc Score: 0.9497375 | Time elapsed: 1:57:49.973790\n",
            "iterations: 898 | train_loss: 0.055515863 | validation_loss: 0.050677795 | Roc Score: 0.9497787 | Time elapsed: 1:57:57.880627\n",
            "iterations: 899 | train_loss: 0.054986738 | validation_loss: 0.050383985 | Roc Score: 0.94981813 | Time elapsed: 1:58:05.760325\n",
            "iterations: 900 | train_loss: 0.04029357 | validation_loss: 0.049900346 | Roc Score: 0.94985855 | Time elapsed: 1:58:13.599646\n",
            "iterations: 901 | train_loss: 0.04848958 | validation_loss: 0.049299452 | Roc Score: 0.9498998 | Time elapsed: 1:58:21.479231\n",
            "iterations: 902 | train_loss: 0.04177823 | validation_loss: 0.04901841 | Roc Score: 0.94994134 | Time elapsed: 1:58:29.357113\n",
            "iterations: 903 | train_loss: 0.04380257 | validation_loss: 0.049375385 | Roc Score: 0.94998235 | Time elapsed: 1:58:37.256972\n",
            "iterations: 904 | train_loss: 0.036976192 | validation_loss: 0.050275583 | Roc Score: 0.95002204 | Time elapsed: 1:58:45.130211\n",
            "iterations: 905 | train_loss: 0.057924863 | validation_loss: 0.05042128 | Roc Score: 0.950062 | Time elapsed: 1:58:53.023905\n",
            "iterations: 906 | train_loss: 0.039084606 | validation_loss: 0.050106507 | Roc Score: 0.95010287 | Time elapsed: 1:59:00.947868\n",
            "iterations: 907 | train_loss: 0.04453638 | validation_loss: 0.049595613 | Roc Score: 0.95014465 | Time elapsed: 1:59:08.812101\n",
            "iterations: 908 | train_loss: 0.039957106 | validation_loss: 0.04934774 | Roc Score: 0.95018685 | Time elapsed: 1:59:16.711727\n",
            "iterations: 909 | train_loss: 0.04514812 | validation_loss: 0.049263183 | Roc Score: 0.95022935 | Time elapsed: 1:59:24.625340\n",
            "iterations: 910 | train_loss: 0.05751787 | validation_loss: 0.048942093 | Roc Score: 0.9502715 | Time elapsed: 1:59:32.511531\n",
            "iterations: 911 | train_loss: 0.037937153 | validation_loss: 0.048694808 | Roc Score: 0.9503123 | Time elapsed: 1:59:40.445387\n",
            "iterations: 912 | train_loss: 0.04370049 | validation_loss: 0.048936624 | Roc Score: 0.9503521 | Time elapsed: 1:59:48.372221\n",
            "iterations: 913 | train_loss: 0.049340412 | validation_loss: 0.049634308 | Roc Score: 0.9503905 | Time elapsed: 1:59:56.261634\n",
            "iterations: 914 | train_loss: 0.046821322 | validation_loss: 0.05047449 | Roc Score: 0.95042694 | Time elapsed: 2:00:04.110639\n",
            "iterations: 915 | train_loss: 0.039977256 | validation_loss: 0.0514952 | Roc Score: 0.950462 | Time elapsed: 2:00:11.765630\n",
            "iterations: 916 | train_loss: 0.04651683 | validation_loss: 0.052154556 | Roc Score: 0.9504946 | Time elapsed: 2:00:19.440351\n",
            "iterations: 917 | train_loss: 0.030949224 | validation_loss: 0.052907206 | Roc Score: 0.9505251 | Time elapsed: 2:00:27.296781\n",
            "iterations: 918 | train_loss: 0.075800456 | validation_loss: 0.05278992 | Roc Score: 0.9505559 | Time elapsed: 2:00:34.935186\n",
            "iterations: 919 | train_loss: 0.046598807 | validation_loss: 0.05250309 | Roc Score: 0.9505882 | Time elapsed: 2:00:42.805609\n",
            "iterations: 920 | train_loss: 0.049213823 | validation_loss: 0.051470004 | Roc Score: 0.95062286 | Time elapsed: 2:00:50.685066\n",
            "iterations: 921 | train_loss: 0.044445638 | validation_loss: 0.05000147 | Roc Score: 0.95065945 | Time elapsed: 2:00:58.571459\n",
            "iterations: 922 | train_loss: 0.058694955 | validation_loss: 0.048817538 | Roc Score: 0.9506982 | Time elapsed: 2:01:06.448348\n",
            "iterations: 923 | train_loss: 0.03298261 | validation_loss: 0.04834774 | Roc Score: 0.95074 | Time elapsed: 2:01:14.374596\n",
            "iterations: 924 | train_loss: 0.051616278 | validation_loss: 0.048444994 | Roc Score: 0.950781 | Time elapsed: 2:01:22.304696\n",
            "iterations: 925 | train_loss: 0.052965716 | validation_loss: 0.04879465 | Roc Score: 0.950822 | Time elapsed: 2:01:30.204859\n",
            "iterations: 926 | train_loss: 0.045145687 | validation_loss: 0.048664384 | Roc Score: 0.950863 | Time elapsed: 2:01:37.920632\n",
            "iterations: 927 | train_loss: 0.046351295 | validation_loss: 0.048354182 | Roc Score: 0.9509045 | Time elapsed: 2:01:45.822001\n",
            "iterations: 928 | train_loss: 0.03963528 | validation_loss: 0.047935024 | Roc Score: 0.95094657 | Time elapsed: 2:01:53.714633\n",
            "iterations: 929 | train_loss: 0.053329416 | validation_loss: 0.04786228 | Roc Score: 0.95098823 | Time elapsed: 2:02:01.618671\n",
            "iterations: 930 | train_loss: 0.05281518 | validation_loss: 0.04788999 | Roc Score: 0.95102906 | Time elapsed: 2:02:09.476963\n",
            "iterations: 931 | train_loss: 0.038764812 | validation_loss: 0.048107944 | Roc Score: 0.95106983 | Time elapsed: 2:02:17.305471\n",
            "iterations: 932 | train_loss: 0.04586132 | validation_loss: 0.04823913 | Roc Score: 0.95110923 | Time elapsed: 2:02:25.205380\n",
            "iterations: 933 | train_loss: 0.038230624 | validation_loss: 0.04840471 | Roc Score: 0.9511482 | Time elapsed: 2:02:33.074393\n",
            "iterations: 934 | train_loss: 0.04307638 | validation_loss: 0.048627473 | Roc Score: 0.9511857 | Time elapsed: 2:02:40.974007\n",
            "iterations: 935 | train_loss: 0.047953382 | validation_loss: 0.048685197 | Roc Score: 0.9512228 | Time elapsed: 2:02:48.860749\n"
          ],
          "name": "stdout"
        },
        {
          "output_type": "stream",
          "text": [
            "iterations: 936 | train_loss: 0.05473746 | validation_loss: 0.04852905 | Roc Score: 0.9512603 | Time elapsed: 2:02:56.732492\n",
            "iterations: 937 | train_loss: 0.032661486 | validation_loss: 0.048494842 | Roc Score: 0.9512989 | Time elapsed: 2:03:04.627780\n",
            "iterations: 938 | train_loss: 0.06825763 | validation_loss: 0.049162533 | Roc Score: 0.9513397 | Time elapsed: 2:03:12.507217\n",
            "iterations: 939 | train_loss: 0.044534743 | validation_loss: 0.04985227 | Roc Score: 0.95138085 | Time elapsed: 2:03:20.392685\n",
            "iterations: 940 | train_loss: 0.03626479 | validation_loss: 0.050537102 | Roc Score: 0.95142114 | Time elapsed: 2:03:28.317940\n",
            "iterations: 941 | train_loss: 0.046160713 | validation_loss: 0.050856322 | Roc Score: 0.9514615 | Time elapsed: 2:03:36.224547\n",
            "iterations: 942 | train_loss: 0.040208835 | validation_loss: 0.050543837 | Roc Score: 0.9515017 | Time elapsed: 2:03:44.250331\n",
            "iterations: 943 | train_loss: 0.04414832 | validation_loss: 0.049867295 | Roc Score: 0.9515421 | Time elapsed: 2:03:52.208713\n",
            "iterations: 944 | train_loss: 0.044447355 | validation_loss: 0.049055986 | Roc Score: 0.95158124 | Time elapsed: 2:04:00.135648\n",
            "iterations: 945 | train_loss: 0.04401266 | validation_loss: 0.048814606 | Roc Score: 0.951619 | Time elapsed: 2:04:08.069560\n",
            "iterations: 946 | train_loss: 0.04408703 | validation_loss: 0.049077526 | Roc Score: 0.9516558 | Time elapsed: 2:04:15.944395\n",
            "iterations: 947 | train_loss: 0.05415276 | validation_loss: 0.049263615 | Roc Score: 0.9516916 | Time elapsed: 2:04:23.844513\n",
            "iterations: 948 | train_loss: 0.040399756 | validation_loss: 0.04930525 | Roc Score: 0.9517272 | Time elapsed: 2:04:32.067841\n",
            "iterations: 949 | train_loss: 0.068307824 | validation_loss: 0.049111232 | Roc Score: 0.9517631 | Time elapsed: 2:04:39.971069\n",
            "iterations: 950 | train_loss: 0.035084058 | validation_loss: 0.049102884 | Roc Score: 0.9517985 | Time elapsed: 2:04:47.892944\n",
            "iterations: 951 | train_loss: 0.03769289 | validation_loss: 0.048903406 | Roc Score: 0.9518344 | Time elapsed: 2:04:55.760489\n",
            "iterations: 952 | train_loss: 0.041313987 | validation_loss: 0.0486794 | Roc Score: 0.95187044 | Time elapsed: 2:05:03.744378\n",
            "iterations: 953 | train_loss: 0.049736932 | validation_loss: 0.04852634 | Roc Score: 0.95190686 | Time elapsed: 2:05:11.692734\n",
            "iterations: 954 | train_loss: 0.036335755 | validation_loss: 0.048343945 | Roc Score: 0.951944 | Time elapsed: 2:05:19.554681\n",
            "iterations: 955 | train_loss: 0.04342332 | validation_loss: 0.048262756 | Roc Score: 0.95198274 | Time elapsed: 2:05:27.477518\n",
            "iterations: 956 | train_loss: 0.047902342 | validation_loss: 0.048783965 | Roc Score: 0.95202184 | Time elapsed: 2:05:35.371812\n",
            "iterations: 957 | train_loss: 0.046123486 | validation_loss: 0.049713925 | Roc Score: 0.9520607 | Time elapsed: 2:05:43.301877\n",
            "iterations: 958 | train_loss: 0.043266367 | validation_loss: 0.050224267 | Roc Score: 0.95209926 | Time elapsed: 2:05:51.196092\n",
            "iterations: 959 | train_loss: 0.047089174 | validation_loss: 0.049760293 | Roc Score: 0.9521381 | Time elapsed: 2:05:59.098196\n",
            "iterations: 960 | train_loss: 0.057230808 | validation_loss: 0.048910055 | Roc Score: 0.9521778 | Time elapsed: 2:06:07.086346\n",
            "iterations: 961 | train_loss: 0.052149486 | validation_loss: 0.048497505 | Roc Score: 0.9522166 | Time elapsed: 2:06:15.014814\n",
            "iterations: 962 | train_loss: 0.03552259 | validation_loss: 0.048200373 | Roc Score: 0.95225537 | Time elapsed: 2:06:22.907535\n",
            "iterations: 963 | train_loss: 0.043678828 | validation_loss: 0.048344422 | Roc Score: 0.95229316 | Time elapsed: 2:06:30.830581\n",
            "iterations: 964 | train_loss: 0.035700344 | validation_loss: 0.048779715 | Roc Score: 0.952329 | Time elapsed: 2:06:38.817243\n",
            "iterations: 965 | train_loss: 0.064235084 | validation_loss: 0.049041737 | Roc Score: 0.9523648 | Time elapsed: 2:06:46.735224\n",
            "iterations: 966 | train_loss: 0.054171436 | validation_loss: 0.04911861 | Roc Score: 0.95240074 | Time elapsed: 2:06:54.660987\n",
            "iterations: 967 | train_loss: 0.043030553 | validation_loss: 0.0491786 | Roc Score: 0.9524377 | Time elapsed: 2:07:02.575067\n",
            "iterations: 968 | train_loss: 0.047054302 | validation_loss: 0.049280226 | Roc Score: 0.9524738 | Time elapsed: 2:07:10.456837\n",
            "iterations: 969 | train_loss: 0.042534538 | validation_loss: 0.04940826 | Roc Score: 0.9525092 | Time elapsed: 2:07:18.453205\n",
            "iterations: 970 | train_loss: 0.052106846 | validation_loss: 0.049367696 | Roc Score: 0.9525449 | Time elapsed: 2:07:26.433746\n",
            "iterations: 971 | train_loss: 0.05929737 | validation_loss: 0.049788356 | Roc Score: 0.95258045 | Time elapsed: 2:07:34.358936\n",
            "iterations: 972 | train_loss: 0.053866915 | validation_loss: 0.050163716 | Roc Score: 0.9526157 | Time elapsed: 2:07:42.288207\n",
            "iterations: 973 | train_loss: 0.060177967 | validation_loss: 0.05044507 | Roc Score: 0.95265025 | Time elapsed: 2:07:50.201874\n",
            "iterations: 974 | train_loss: 0.042595863 | validation_loss: 0.05046524 | Roc Score: 0.9526846 | Time elapsed: 2:07:58.092980\n"
          ],
          "name": "stdout"
        },
        {
          "output_type": "stream",
          "text": [
            "iterations: 975 | train_loss: 0.032530412 | validation_loss: 0.050000176 | Roc Score: 0.9527195 | Time elapsed: 2:08:06.026236\n",
            "iterations: 976 | train_loss: 0.062720895 | validation_loss: 0.049420755 | Roc Score: 0.95275545 | Time elapsed: 2:08:13.934258\n",
            "iterations: 977 | train_loss: 0.03583398 | validation_loss: 0.04874222 | Roc Score: 0.9527919 | Time elapsed: 2:08:21.884309\n",
            "iterations: 978 | train_loss: 0.041634776 | validation_loss: 0.04833748 | Roc Score: 0.9528285 | Time elapsed: 2:08:29.819631\n",
            "iterations: 979 | train_loss: 0.053710524 | validation_loss: 0.048794866 | Roc Score: 0.95286375 | Time elapsed: 2:08:37.729039\n",
            "iterations: 980 | train_loss: 0.04850444 | validation_loss: 0.049878266 | Roc Score: 0.95289713 | Time elapsed: 2:08:45.699288\n",
            "iterations: 981 | train_loss: 0.044711582 | validation_loss: 0.05059501 | Roc Score: 0.9529283 | Time elapsed: 2:08:53.599321\n",
            "iterations: 982 | train_loss: 0.06562428 | validation_loss: 0.050128903 | Roc Score: 0.952961 | Time elapsed: 2:09:01.542977\n",
            "iterations: 983 | train_loss: 0.053770218 | validation_loss: 0.04916797 | Roc Score: 0.9529951 | Time elapsed: 2:09:09.448720\n",
            "iterations: 984 | train_loss: 0.04669868 | validation_loss: 0.04846908 | Roc Score: 0.9530302 | Time elapsed: 2:09:17.393116\n",
            "iterations: 985 | train_loss: 0.04057226 | validation_loss: 0.047974784 | Roc Score: 0.9530663 | Time elapsed: 2:09:25.332634\n",
            "iterations: 986 | train_loss: 0.056378618 | validation_loss: 0.047929987 | Roc Score: 0.95310223 | Time elapsed: 2:09:33.230269\n",
            "iterations: 987 | train_loss: 0.05367631 | validation_loss: 0.04791886 | Roc Score: 0.95313764 | Time elapsed: 2:09:41.120281\n",
            "iterations: 988 | train_loss: 0.04534142 | validation_loss: 0.04780423 | Roc Score: 0.9531729 | Time elapsed: 2:09:49.019784\n",
            "iterations: 989 | train_loss: 0.054624964 | validation_loss: 0.047717392 | Roc Score: 0.9532072 | Time elapsed: 2:09:56.997134\n",
            "iterations: 990 | train_loss: 0.051150355 | validation_loss: 0.047577575 | Roc Score: 0.95324117 | Time elapsed: 2:10:04.920830\n",
            "iterations: 991 | train_loss: 0.037196618 | validation_loss: 0.047554076 | Roc Score: 0.9532749 | Time elapsed: 2:10:12.839186\n",
            "iterations: 992 | train_loss: 0.034351278 | validation_loss: 0.047545314 | Roc Score: 0.9533086 | Time elapsed: 2:10:20.743357\n",
            "iterations: 993 | train_loss: 0.0662044 | validation_loss: 0.047549468 | Roc Score: 0.95334274 | Time elapsed: 2:10:28.653752\n",
            "iterations: 994 | train_loss: 0.04394179 | validation_loss: 0.047570277 | Roc Score: 0.9533774 | Time elapsed: 2:10:36.614367\n",
            "iterations: 995 | train_loss: 0.06296355 | validation_loss: 0.047709107 | Roc Score: 0.95341194 | Time elapsed: 2:10:44.500323\n",
            "iterations: 996 | train_loss: 0.04128626 | validation_loss: 0.04788325 | Roc Score: 0.9534457 | Time elapsed: 2:10:52.452085\n",
            "iterations: 997 | train_loss: 0.04279135 | validation_loss: 0.04836563 | Roc Score: 0.95347786 | Time elapsed: 2:11:00.329894\n",
            "iterations: 998 | train_loss: 0.052659627 | validation_loss: 0.048598193 | Roc Score: 0.95351005 | Time elapsed: 2:11:08.204393\n",
            "iterations: 999 | train_loss: 0.06594034 | validation_loss: 0.048295647 | Roc Score: 0.9535435 | Time elapsed: 2:11:16.057050\n",
            "iterations: 1000 | train_loss: 0.04196554 | validation_loss: 0.048238534 | Roc Score: 0.95357716 | Time elapsed: 2:11:23.960957\n",
            "iterations: 1001 | train_loss: 0.054446194 | validation_loss: 0.048073832 | Roc Score: 0.9536124 | Time elapsed: 2:11:31.874749\n",
            "iterations: 1002 | train_loss: 0.05008281 | validation_loss: 0.048281793 | Roc Score: 0.953648 | Time elapsed: 2:11:39.806682\n",
            "iterations: 1003 | train_loss: 0.03331175 | validation_loss: 0.048971333 | Roc Score: 0.9536833 | Time elapsed: 2:11:47.728354\n",
            "iterations: 1004 | train_loss: 0.061478455 | validation_loss: 0.049632344 | Roc Score: 0.9537182 | Time elapsed: 2:11:55.636708\n",
            "iterations: 1005 | train_loss: 0.04741924 | validation_loss: 0.04974765 | Roc Score: 0.9537527 | Time elapsed: 2:12:03.556650\n",
            "iterations: 1006 | train_loss: 0.043038845 | validation_loss: 0.049198825 | Roc Score: 0.95378715 | Time elapsed: 2:12:11.460553\n",
            "iterations: 1007 | train_loss: 0.029744832 | validation_loss: 0.048456274 | Roc Score: 0.95382273 | Time elapsed: 2:12:19.110041\n",
            "iterations: 1008 | train_loss: 0.03739574 | validation_loss: 0.047906052 | Roc Score: 0.9538577 | Time elapsed: 2:12:27.074913\n",
            "iterations: 1009 | train_loss: 0.05277069 | validation_loss: 0.047897622 | Roc Score: 0.9538927 | Time elapsed: 2:12:35.000196\n",
            "iterations: 1010 | train_loss: 0.04002501 | validation_loss: 0.04786124 | Roc Score: 0.9539265 | Time elapsed: 2:12:42.924404\n",
            "iterations: 1011 | train_loss: 0.05356228 | validation_loss: 0.047908604 | Roc Score: 0.95395994 | Time elapsed: 2:12:50.825967\n",
            "iterations: 1012 | train_loss: 0.043577615 | validation_loss: 0.047991626 | Roc Score: 0.9539931 | Time elapsed: 2:12:58.787035\n",
            "iterations: 1013 | train_loss: 0.047704555 | validation_loss: 0.04811018 | Roc Score: 0.9540248 | Time elapsed: 2:13:06.768346\n"
          ],
          "name": "stdout"
        },
        {
          "output_type": "stream",
          "text": [
            "iterations: 1014 | train_loss: 0.053945966 | validation_loss: 0.04827077 | Roc Score: 0.95405567 | Time elapsed: 2:13:14.731397\n",
            "iterations: 1015 | train_loss: 0.042678107 | validation_loss: 0.04860933 | Roc Score: 0.95408535 | Time elapsed: 2:13:22.658794\n",
            "iterations: 1016 | train_loss: 0.06800365 | validation_loss: 0.048737194 | Roc Score: 0.95411384 | Time elapsed: 2:13:30.593477\n",
            "iterations: 1017 | train_loss: 0.049259473 | validation_loss: 0.048580416 | Roc Score: 0.95414186 | Time elapsed: 2:13:38.552653\n",
            "iterations: 1018 | train_loss: 0.053896245 | validation_loss: 0.048078228 | Roc Score: 0.95417196 | Time elapsed: 2:13:46.452443\n",
            "iterations: 1019 | train_loss: 0.035359938 | validation_loss: 0.04796927 | Roc Score: 0.9542015 | Time elapsed: 2:13:54.403965\n",
            "iterations: 1020 | train_loss: 0.03378669 | validation_loss: 0.04795046 | Roc Score: 0.9542319 | Time elapsed: 2:14:02.380495\n",
            "iterations: 1021 | train_loss: 0.04202674 | validation_loss: 0.048013564 | Roc Score: 0.95426226 | Time elapsed: 2:14:10.282445\n",
            "iterations: 1022 | train_loss: 0.03888288 | validation_loss: 0.047953997 | Roc Score: 0.95429444 | Time elapsed: 2:14:18.195862\n",
            "iterations: 1023 | train_loss: 0.04506521 | validation_loss: 0.048194423 | Roc Score: 0.95432734 | Time elapsed: 2:14:26.134801\n",
            "iterations: 1024 | train_loss: 0.04221891 | validation_loss: 0.04824594 | Roc Score: 0.9543598 | Time elapsed: 2:14:34.078523\n",
            "iterations: 1025 | train_loss: 0.042695515 | validation_loss: 0.04793587 | Roc Score: 0.9543928 | Time elapsed: 2:14:42.000478\n",
            "iterations: 1026 | train_loss: 0.05975338 | validation_loss: 0.047675785 | Roc Score: 0.9544247 | Time elapsed: 2:14:49.951844\n",
            "iterations: 1027 | train_loss: 0.05419445 | validation_loss: 0.04768974 | Roc Score: 0.95445734 | Time elapsed: 2:14:57.948973\n",
            "iterations: 1028 | train_loss: 0.050631054 | validation_loss: 0.048208978 | Roc Score: 0.95448977 | Time elapsed: 2:15:05.886883\n",
            "iterations: 1029 | train_loss: 0.038097363 | validation_loss: 0.04853372 | Roc Score: 0.95452225 | Time elapsed: 2:15:13.785002\n",
            "iterations: 1030 | train_loss: 0.03752212 | validation_loss: 0.048332494 | Roc Score: 0.9545552 | Time elapsed: 2:15:21.580552\n",
            "iterations: 1031 | train_loss: 0.06297166 | validation_loss: 0.048180193 | Roc Score: 0.9545883 | Time elapsed: 2:15:29.548942\n",
            "iterations: 1032 | train_loss: 0.047590364 | validation_loss: 0.04800116 | Roc Score: 0.9546207 | Time elapsed: 2:15:37.463523\n",
            "iterations: 1033 | train_loss: 0.045348033 | validation_loss: 0.048127916 | Roc Score: 0.9546524 | Time elapsed: 2:15:45.397172\n",
            "iterations: 1034 | train_loss: 0.036298417 | validation_loss: 0.048476424 | Roc Score: 0.9546834 | Time elapsed: 2:15:53.242807\n",
            "iterations: 1035 | train_loss: 0.06011308 | validation_loss: 0.048878975 | Roc Score: 0.95471317 | Time elapsed: 2:16:01.114363\n",
            "iterations: 1036 | train_loss: 0.0426757 | validation_loss: 0.04880197 | Roc Score: 0.95474315 | Time elapsed: 2:16:08.998080\n",
            "iterations: 1037 | train_loss: 0.036720205 | validation_loss: 0.04869866 | Roc Score: 0.9547733 | Time elapsed: 2:16:16.940114\n",
            "iterations: 1038 | train_loss: 0.061871756 | validation_loss: 0.04842943 | Roc Score: 0.9548031 | Time elapsed: 2:16:24.853190\n",
            "iterations: 1039 | train_loss: 0.048680544 | validation_loss: 0.047640216 | Roc Score: 0.9548342 | Time elapsed: 2:16:32.742157\n",
            "iterations: 1040 | train_loss: 0.045548227 | validation_loss: 0.047406945 | Roc Score: 0.95486534 | Time elapsed: 2:16:40.699717\n",
            "iterations: 1041 | train_loss: 0.06434423 | validation_loss: 0.04718216 | Roc Score: 0.9548966 | Time elapsed: 2:16:48.629903\n",
            "iterations: 1042 | train_loss: 0.03490989 | validation_loss: 0.04730016 | Roc Score: 0.95492846 | Time elapsed: 2:16:56.273519\n",
            "iterations: 1043 | train_loss: 0.043780193 | validation_loss: 0.047392286 | Roc Score: 0.9549602 | Time elapsed: 2:17:04.193135\n",
            "iterations: 1044 | train_loss: 0.069053836 | validation_loss: 0.047401767 | Roc Score: 0.954992 | Time elapsed: 2:17:12.064131\n",
            "iterations: 1045 | train_loss: 0.037162907 | validation_loss: 0.04754756 | Roc Score: 0.9550232 | Time elapsed: 2:17:19.962709\n",
            "iterations: 1046 | train_loss: 0.030139636 | validation_loss: 0.047671117 | Roc Score: 0.95505434 | Time elapsed: 2:17:27.932241\n",
            "iterations: 1047 | train_loss: 0.033795454 | validation_loss: 0.047764067 | Roc Score: 0.95508385 | Time elapsed: 2:17:35.906958\n",
            "iterations: 1048 | train_loss: 0.043863464 | validation_loss: 0.04839561 | Roc Score: 0.95511216 | Time elapsed: 2:17:43.766065\n",
            "iterations: 1049 | train_loss: 0.05208867 | validation_loss: 0.049501397 | Roc Score: 0.9551387 | Time elapsed: 2:17:51.643173\n",
            "iterations: 1050 | train_loss: 0.059174467 | validation_loss: 0.049844313 | Roc Score: 0.9551648 | Time elapsed: 2:17:59.550734\n",
            "iterations: 1051 | train_loss: 0.04143952 | validation_loss: 0.049529586 | Roc Score: 0.9551913 | Time elapsed: 2:18:07.481615\n",
            "iterations: 1052 | train_loss: 0.05663149 | validation_loss: 0.04898068 | Roc Score: 0.9552195 | Time elapsed: 2:18:15.424994\n"
          ],
          "name": "stdout"
        },
        {
          "output_type": "stream",
          "text": [
            "iterations: 1053 | train_loss: 0.042201683 | validation_loss: 0.048327975 | Roc Score: 0.95524937 | Time elapsed: 2:18:23.457295\n",
            "iterations: 1054 | train_loss: 0.051441528 | validation_loss: 0.048087526 | Roc Score: 0.9552808 | Time elapsed: 2:18:31.302162\n",
            "iterations: 1055 | train_loss: 0.04366203 | validation_loss: 0.04832008 | Roc Score: 0.9553126 | Time elapsed: 2:18:39.241144\n",
            "iterations: 1056 | train_loss: 0.048178185 | validation_loss: 0.048840925 | Roc Score: 0.955344 | Time elapsed: 2:18:46.976028\n",
            "iterations: 1057 | train_loss: 0.057716705 | validation_loss: 0.0487546 | Roc Score: 0.95537585 | Time elapsed: 2:18:54.935315\n",
            "iterations: 1058 | train_loss: 0.06923428 | validation_loss: 0.048796456 | Roc Score: 0.9554072 | Time elapsed: 2:19:02.510707\n",
            "iterations: 1059 | train_loss: 0.04372139 | validation_loss: 0.048400246 | Roc Score: 0.95543873 | Time elapsed: 2:19:10.425330\n",
            "iterations: 1060 | train_loss: 0.04689554 | validation_loss: 0.04796235 | Roc Score: 0.95547026 | Time elapsed: 2:19:18.336013\n",
            "iterations: 1061 | train_loss: 0.029526886 | validation_loss: 0.04744221 | Roc Score: 0.95550245 | Time elapsed: 2:19:26.266444\n",
            "iterations: 1062 | train_loss: 0.038058385 | validation_loss: 0.04713683 | Roc Score: 0.9555337 | Time elapsed: 2:19:34.185694\n",
            "iterations: 1063 | train_loss: 0.04967978 | validation_loss: 0.047390394 | Roc Score: 0.95556337 | Time elapsed: 2:19:42.113620\n",
            "iterations: 1064 | train_loss: 0.05075053 | validation_loss: 0.047956113 | Roc Score: 0.95559144 | Time elapsed: 2:19:50.063196\n",
            "iterations: 1065 | train_loss: 0.051412027 | validation_loss: 0.048145153 | Roc Score: 0.9556184 | Time elapsed: 2:19:57.967691\n",
            "iterations: 1066 | train_loss: 0.035760697 | validation_loss: 0.04830193 | Roc Score: 0.95564514 | Time elapsed: 2:20:05.828213\n",
            "iterations: 1067 | train_loss: 0.037559938 | validation_loss: 0.04821814 | Roc Score: 0.95567214 | Time elapsed: 2:20:13.680569\n",
            "iterations: 1068 | train_loss: 0.058077388 | validation_loss: 0.048153147 | Roc Score: 0.9556992 | Time elapsed: 2:20:21.558758\n",
            "iterations: 1069 | train_loss: 0.050622094 | validation_loss: 0.048087396 | Roc Score: 0.95572674 | Time elapsed: 2:20:29.418724\n",
            "iterations: 1070 | train_loss: 0.057983983 | validation_loss: 0.04782227 | Roc Score: 0.95575553 | Time elapsed: 2:20:37.306138\n",
            "iterations: 1071 | train_loss: 0.053643037 | validation_loss: 0.0476266 | Roc Score: 0.9557849 | Time elapsed: 2:20:45.195365\n",
            "iterations: 1072 | train_loss: 0.045928676 | validation_loss: 0.047572352 | Roc Score: 0.95581496 | Time elapsed: 2:20:53.179199\n",
            "iterations: 1073 | train_loss: 0.041560985 | validation_loss: 0.047359772 | Roc Score: 0.955845 | Time elapsed: 2:21:01.080088\n",
            "iterations: 1074 | train_loss: 0.04709455 | validation_loss: 0.047360618 | Roc Score: 0.95587575 | Time elapsed: 2:21:08.981993\n",
            "iterations: 1075 | train_loss: 0.04699218 | validation_loss: 0.047493827 | Roc Score: 0.9559057 | Time elapsed: 2:21:16.906345\n",
            "iterations: 1076 | train_loss: 0.050759375 | validation_loss: 0.04760769 | Roc Score: 0.9559357 | Time elapsed: 2:21:24.790357\n",
            "iterations: 1077 | train_loss: 0.036350787 | validation_loss: 0.047771677 | Roc Score: 0.9559655 | Time elapsed: 2:21:32.643913\n",
            "iterations: 1078 | train_loss: 0.05301177 | validation_loss: 0.04781559 | Roc Score: 0.95599526 | Time elapsed: 2:21:40.524925\n",
            "iterations: 1079 | train_loss: 0.05186882 | validation_loss: 0.047951765 | Roc Score: 0.9560253 | Time elapsed: 2:21:48.423173\n",
            "iterations: 1080 | train_loss: 0.05294668 | validation_loss: 0.048089672 | Roc Score: 0.95605457 | Time elapsed: 2:21:56.340942\n",
            "iterations: 1081 | train_loss: 0.055805627 | validation_loss: 0.048423927 | Roc Score: 0.95608395 | Time elapsed: 2:22:04.228163\n",
            "iterations: 1082 | train_loss: 0.05127296 | validation_loss: 0.048692487 | Roc Score: 0.95611286 | Time elapsed: 2:22:12.137731\n",
            "iterations: 1083 | train_loss: 0.045501553 | validation_loss: 0.04868714 | Roc Score: 0.95614177 | Time elapsed: 2:22:20.016248\n",
            "iterations: 1084 | train_loss: 0.039564382 | validation_loss: 0.048324876 | Roc Score: 0.956171 | Time elapsed: 2:22:27.788971\n",
            "iterations: 1085 | train_loss: 0.056326617 | validation_loss: 0.0482072 | Roc Score: 0.9562 | Time elapsed: 2:22:35.704233\n",
            "iterations: 1086 | train_loss: 0.04010215 | validation_loss: 0.048161626 | Roc Score: 0.9562288 | Time elapsed: 2:22:43.666198\n",
            "iterations: 1087 | train_loss: 0.0337398 | validation_loss: 0.048232153 | Roc Score: 0.95625687 | Time elapsed: 2:22:51.579705\n",
            "iterations: 1088 | train_loss: 0.04764705 | validation_loss: 0.048350457 | Roc Score: 0.95628446 | Time elapsed: 2:22:59.511571\n",
            "iterations: 1089 | train_loss: 0.047681496 | validation_loss: 0.048233937 | Roc Score: 0.9563123 | Time elapsed: 2:23:07.386723\n",
            "iterations: 1090 | train_loss: 0.05095924 | validation_loss: 0.047952596 | Roc Score: 0.95634055 | Time elapsed: 2:23:15.300173\n",
            "iterations: 1091 | train_loss: 0.03685896 | validation_loss: 0.047662318 | Roc Score: 0.95636946 | Time elapsed: 2:23:23.186223\n"
          ],
          "name": "stdout"
        },
        {
          "output_type": "stream",
          "text": [
            "iterations: 1092 | train_loss: 0.0734062 | validation_loss: 0.047619432 | Roc Score: 0.9563987 | Time elapsed: 2:23:31.125011\n",
            "iterations: 1093 | train_loss: 0.055088915 | validation_loss: 0.04790044 | Roc Score: 0.95642793 | Time elapsed: 2:23:39.033832\n",
            "iterations: 1094 | train_loss: 0.036577713 | validation_loss: 0.048087426 | Roc Score: 0.95645714 | Time elapsed: 2:23:46.948946\n",
            "iterations: 1095 | train_loss: 0.046068586 | validation_loss: 0.047920555 | Roc Score: 0.9564862 | Time elapsed: 2:23:54.872729\n",
            "iterations: 1096 | train_loss: 0.040548146 | validation_loss: 0.04763781 | Roc Score: 0.9565156 | Time elapsed: 2:24:02.758759\n",
            "iterations: 1097 | train_loss: 0.042968642 | validation_loss: 0.04770332 | Roc Score: 0.95654404 | Time elapsed: 2:24:10.701765\n",
            "iterations: 1098 | train_loss: 0.045957174 | validation_loss: 0.047957554 | Roc Score: 0.95657146 | Time elapsed: 2:24:18.621265\n",
            "iterations: 1099 | train_loss: 0.04714863 | validation_loss: 0.04840217 | Roc Score: 0.95659804 | Time elapsed: 2:24:26.590564\n",
            "iterations: 1100 | train_loss: 0.03830668 | validation_loss: 0.048501506 | Roc Score: 0.9566225 | Time elapsed: 2:24:34.478741\n",
            "iterations: 1101 | train_loss: 0.04077334 | validation_loss: 0.048600942 | Roc Score: 0.9566463 | Time elapsed: 2:24:42.410352\n",
            "iterations: 1102 | train_loss: 0.05297135 | validation_loss: 0.048269328 | Roc Score: 0.95667094 | Time elapsed: 2:24:50.301107\n",
            "iterations: 1103 | train_loss: 0.044952355 | validation_loss: 0.047757614 | Roc Score: 0.95669633 | Time elapsed: 2:24:58.232401\n",
            "iterations: 1104 | train_loss: 0.051193573 | validation_loss: 0.047443572 | Roc Score: 0.9567225 | Time elapsed: 2:25:06.169645\n",
            "iterations: 1105 | train_loss: 0.077159606 | validation_loss: 0.047197927 | Roc Score: 0.95674914 | Time elapsed: 2:25:13.943540\n",
            "iterations: 1106 | train_loss: 0.036619168 | validation_loss: 0.047143944 | Roc Score: 0.95677745 | Time elapsed: 2:25:21.878302\n",
            "iterations: 1107 | train_loss: 0.036435492 | validation_loss: 0.047301695 | Roc Score: 0.9568056 | Time elapsed: 2:25:29.937520\n",
            "iterations: 1108 | train_loss: 0.029649118 | validation_loss: 0.047337834 | Roc Score: 0.9568338 | Time elapsed: 2:25:37.880797\n",
            "iterations: 1109 | train_loss: 0.034757596 | validation_loss: 0.047414318 | Roc Score: 0.95686156 | Time elapsed: 2:25:45.823335\n",
            "iterations: 1110 | train_loss: 0.03727254 | validation_loss: 0.047452204 | Roc Score: 0.9568889 | Time elapsed: 2:25:53.679454\n",
            "iterations: 1111 | train_loss: 0.056482136 | validation_loss: 0.047461726 | Roc Score: 0.9569166 | Time elapsed: 2:26:01.633632\n",
            "iterations: 1112 | train_loss: 0.039408043 | validation_loss: 0.047385354 | Roc Score: 0.956944 | Time elapsed: 2:26:09.313598\n",
            "iterations: 1113 | train_loss: 0.05670627 | validation_loss: 0.047365755 | Roc Score: 0.95697147 | Time elapsed: 2:26:16.802640\n",
            "iterations: 1114 | train_loss: 0.043369945 | validation_loss: 0.047459994 | Roc Score: 0.95699877 | Time elapsed: 2:26:24.752182\n",
            "iterations: 1115 | train_loss: 0.041339517 | validation_loss: 0.047858868 | Roc Score: 0.95702523 | Time elapsed: 2:26:32.794721\n",
            "iterations: 1116 | train_loss: 0.032867033 | validation_loss: 0.048435517 | Roc Score: 0.9570505 | Time elapsed: 2:26:40.731155\n",
            "iterations: 1117 | train_loss: 0.047004264 | validation_loss: 0.04884542 | Roc Score: 0.9570738 | Time elapsed: 2:26:48.677233\n",
            "iterations: 1118 | train_loss: 0.05285648 | validation_loss: 0.048954044 | Roc Score: 0.9570972 | Time elapsed: 2:26:56.765340\n",
            "iterations: 1119 | train_loss: 0.055712275 | validation_loss: 0.04913535 | Roc Score: 0.9571205 | Time elapsed: 2:27:04.662254\n",
            "iterations: 1120 | train_loss: 0.038365074 | validation_loss: 0.049051158 | Roc Score: 0.9571441 | Time elapsed: 2:27:12.567478\n",
            "iterations: 1121 | train_loss: 0.034724098 | validation_loss: 0.04873609 | Roc Score: 0.95716965 | Time elapsed: 2:27:20.485162\n",
            "iterations: 1122 | train_loss: 0.048533287 | validation_loss: 0.04856636 | Roc Score: 0.9571963 | Time elapsed: 2:27:28.414468\n",
            "iterations: 1123 | train_loss: 0.06026378 | validation_loss: 0.048436582 | Roc Score: 0.95722324 | Time elapsed: 2:27:36.326466\n",
            "iterations: 1124 | train_loss: 0.052906442 | validation_loss: 0.048474737 | Roc Score: 0.9572502 | Time elapsed: 2:27:44.237323\n",
            "iterations: 1125 | train_loss: 0.042114332 | validation_loss: 0.048332404 | Roc Score: 0.9572767 | Time elapsed: 2:27:52.198945\n",
            "iterations: 1126 | train_loss: 0.05461792 | validation_loss: 0.048249014 | Roc Score: 0.9573031 | Time elapsed: 2:28:00.156875\n",
            "iterations: 1127 | train_loss: 0.048894446 | validation_loss: 0.048118927 | Roc Score: 0.9573294 | Time elapsed: 2:28:08.045135\n",
            "iterations: 1128 | train_loss: 0.04917421 | validation_loss: 0.047923435 | Roc Score: 0.9573553 | Time elapsed: 2:28:15.934969\n",
            "iterations: 1129 | train_loss: 0.04175622 | validation_loss: 0.047753092 | Roc Score: 0.95738125 | Time elapsed: 2:28:23.860619\n",
            "iterations: 1130 | train_loss: 0.049632147 | validation_loss: 0.04769882 | Roc Score: 0.95740604 | Time elapsed: 2:28:31.524982\n"
          ],
          "name": "stdout"
        },
        {
          "output_type": "stream",
          "text": [
            "iterations: 1131 | train_loss: 0.03752992 | validation_loss: 0.048032306 | Roc Score: 0.9574296 | Time elapsed: 2:28:39.416151\n",
            "iterations: 1132 | train_loss: 0.046499923 | validation_loss: 0.048884276 | Roc Score: 0.9574511 | Time elapsed: 2:28:47.326157\n",
            "iterations: 1133 | train_loss: 0.027929068 | validation_loss: 0.049477592 | Roc Score: 0.95747113 | Time elapsed: 2:28:55.259464\n",
            "iterations: 1134 | train_loss: 0.053891208 | validation_loss: 0.049452063 | Roc Score: 0.95749116 | Time elapsed: 2:29:03.193761\n",
            "iterations: 1135 | train_loss: 0.057747472 | validation_loss: 0.049054857 | Roc Score: 0.9575122 | Time elapsed: 2:29:11.079978\n",
            "iterations: 1136 | train_loss: 0.04611807 | validation_loss: 0.04837931 | Roc Score: 0.957535 | Time elapsed: 2:29:19.027361\n",
            "iterations: 1137 | train_loss: 0.05119501 | validation_loss: 0.047872987 | Roc Score: 0.9575591 | Time elapsed: 2:29:26.948720\n",
            "iterations: 1138 | train_loss: 0.039189212 | validation_loss: 0.047984235 | Roc Score: 0.95758355 | Time elapsed: 2:29:34.845963\n",
            "iterations: 1139 | train_loss: 0.029658658 | validation_loss: 0.047934197 | Roc Score: 0.9576084 | Time elapsed: 2:29:42.780380\n",
            "iterations: 1140 | train_loss: 0.031928796 | validation_loss: 0.04792336 | Roc Score: 0.95763296 | Time elapsed: 2:29:50.716422\n",
            "iterations: 1141 | train_loss: 0.053580303 | validation_loss: 0.047925025 | Roc Score: 0.95765764 | Time elapsed: 2:29:58.622887\n",
            "iterations: 1142 | train_loss: 0.04381297 | validation_loss: 0.04793145 | Roc Score: 0.9576823 | Time elapsed: 2:30:06.506436\n",
            "iterations: 1143 | train_loss: 0.034387127 | validation_loss: 0.048121035 | Roc Score: 0.9577068 | Time elapsed: 2:30:14.389568\n",
            "iterations: 1144 | train_loss: 0.026127325 | validation_loss: 0.048469163 | Roc Score: 0.9577311 | Time elapsed: 2:30:22.297627\n",
            "iterations: 1145 | train_loss: 0.043969788 | validation_loss: 0.048701525 | Roc Score: 0.9577552 | Time elapsed: 2:30:30.189389\n",
            "iterations: 1146 | train_loss: 0.04738587 | validation_loss: 0.048931777 | Roc Score: 0.9577796 | Time elapsed: 2:30:37.976088\n",
            "iterations: 1147 | train_loss: 0.043191053 | validation_loss: 0.049110442 | Roc Score: 0.9578043 | Time elapsed: 2:30:45.902218\n",
            "iterations: 1148 | train_loss: 0.051052146 | validation_loss: 0.04926258 | Roc Score: 0.9578291 | Time elapsed: 2:30:53.746572\n",
            "iterations: 1149 | train_loss: 0.043148197 | validation_loss: 0.049010187 | Roc Score: 0.95785344 | Time elapsed: 2:31:01.605485\n",
            "iterations: 1150 | train_loss: 0.041502412 | validation_loss: 0.048867375 | Roc Score: 0.95787716 | Time elapsed: 2:31:09.548457\n",
            "iterations: 1151 | train_loss: 0.07486282 | validation_loss: 0.048442673 | Roc Score: 0.9579014 | Time elapsed: 2:31:17.475222\n",
            "iterations: 1152 | train_loss: 0.038142484 | validation_loss: 0.0481166 | Roc Score: 0.95792663 | Time elapsed: 2:31:25.411072\n",
            "iterations: 1153 | train_loss: 0.057004146 | validation_loss: 0.04805637 | Roc Score: 0.9579519 | Time elapsed: 2:31:33.488852\n",
            "iterations: 1154 | train_loss: 0.031722497 | validation_loss: 0.047932796 | Roc Score: 0.9579773 | Time elapsed: 2:31:41.353784\n",
            "iterations: 1155 | train_loss: 0.040793397 | validation_loss: 0.047862723 | Roc Score: 0.95800257 | Time elapsed: 2:31:49.248482\n",
            "iterations: 1156 | train_loss: 0.031122765 | validation_loss: 0.04791002 | Roc Score: 0.9580271 | Time elapsed: 2:31:57.170377\n",
            "iterations: 1157 | train_loss: 0.028089682 | validation_loss: 0.048122752 | Roc Score: 0.9580511 | Time elapsed: 2:32:05.084191\n",
            "iterations: 1158 | train_loss: 0.037741017 | validation_loss: 0.048373964 | Roc Score: 0.9580747 | Time elapsed: 2:32:12.953617\n",
            "iterations: 1159 | train_loss: 0.03602287 | validation_loss: 0.048662573 | Roc Score: 0.9580978 | Time elapsed: 2:32:20.371531\n",
            "iterations: 1160 | train_loss: 0.06898199 | validation_loss: 0.048452143 | Roc Score: 0.9581207 | Time elapsed: 2:32:28.282642\n",
            "iterations: 1161 | train_loss: 0.04513776 | validation_loss: 0.048284158 | Roc Score: 0.95814455 | Time elapsed: 2:32:36.211681\n",
            "iterations: 1162 | train_loss: 0.05120981 | validation_loss: 0.04813529 | Roc Score: 0.95816827 | Time elapsed: 2:32:44.124437\n",
            "iterations: 1163 | train_loss: 0.026819076 | validation_loss: 0.048051484 | Roc Score: 0.95819193 | Time elapsed: 2:32:51.972797\n",
            "iterations: 1164 | train_loss: 0.05304168 | validation_loss: 0.04805979 | Roc Score: 0.9582153 | Time elapsed: 2:32:59.890345\n",
            "iterations: 1165 | train_loss: 0.06007578 | validation_loss: 0.047983177 | Roc Score: 0.958239 | Time elapsed: 2:33:07.827866\n",
            "iterations: 1166 | train_loss: 0.031759653 | validation_loss: 0.04790102 | Roc Score: 0.95826316 | Time elapsed: 2:33:15.778191\n",
            "iterations: 1167 | train_loss: 0.04283216 | validation_loss: 0.04781059 | Roc Score: 0.9582872 | Time elapsed: 2:33:23.699746\n",
            "iterations: 1168 | train_loss: 0.044146 | validation_loss: 0.04783721 | Roc Score: 0.9583115 | Time elapsed: 2:33:31.608472\n",
            "iterations: 1169 | train_loss: 0.037220147 | validation_loss: 0.047908362 | Roc Score: 0.9583351 | Time elapsed: 2:33:39.535971\n"
          ],
          "name": "stdout"
        },
        {
          "output_type": "stream",
          "text": [
            "iterations: 1170 | train_loss: 0.036436893 | validation_loss: 0.048111785 | Roc Score: 0.9583579 | Time elapsed: 2:33:47.426891\n",
            "iterations: 1171 | train_loss: 0.054215595 | validation_loss: 0.04851 | Roc Score: 0.95837945 | Time elapsed: 2:33:55.344969\n",
            "iterations: 1172 | train_loss: 0.04564249 | validation_loss: 0.04888109 | Roc Score: 0.95840085 | Time elapsed: 2:34:03.337732\n",
            "iterations: 1173 | train_loss: 0.04102202 | validation_loss: 0.049346913 | Roc Score: 0.9584212 | Time elapsed: 2:34:11.224600\n",
            "iterations: 1174 | train_loss: 0.026754353 | validation_loss: 0.04963789 | Roc Score: 0.95844054 | Time elapsed: 2:34:19.155289\n",
            "iterations: 1175 | train_loss: 0.039172813 | validation_loss: 0.049483057 | Roc Score: 0.95846 | Time elapsed: 2:34:27.086217\n",
            "iterations: 1176 | train_loss: 0.033441063 | validation_loss: 0.04935434 | Roc Score: 0.95847917 | Time elapsed: 2:34:35.141985\n",
            "iterations: 1177 | train_loss: 0.047267687 | validation_loss: 0.048749976 | Roc Score: 0.95850056 | Time elapsed: 2:34:43.055601\n",
            "iterations: 1178 | train_loss: 0.04454889 | validation_loss: 0.04783569 | Roc Score: 0.95852375 | Time elapsed: 2:34:51.007133\n",
            "iterations: 1179 | train_loss: 0.032267306 | validation_loss: 0.047696907 | Roc Score: 0.9585485 | Time elapsed: 2:34:58.866185\n",
            "iterations: 1180 | train_loss: 0.04123336 | validation_loss: 0.048003074 | Roc Score: 0.95857286 | Time elapsed: 2:35:06.813607\n",
            "iterations: 1181 | train_loss: 0.040039442 | validation_loss: 0.04825496 | Roc Score: 0.95859796 | Time elapsed: 2:35:14.710224\n",
            "iterations: 1182 | train_loss: 0.043604743 | validation_loss: 0.047874484 | Roc Score: 0.95862323 | Time elapsed: 2:35:22.471570\n",
            "iterations: 1183 | train_loss: 0.048694227 | validation_loss: 0.04730707 | Roc Score: 0.9586473 | Time elapsed: 2:35:30.388535\n",
            "iterations: 1184 | train_loss: 0.045161027 | validation_loss: 0.04760605 | Roc Score: 0.95866966 | Time elapsed: 2:35:38.302896\n",
            "iterations: 1185 | train_loss: 0.029981699 | validation_loss: 0.048336603 | Roc Score: 0.9586904 | Time elapsed: 2:35:46.087134\n",
            "iterations: 1186 | train_loss: 0.07146429 | validation_loss: 0.0483982 | Roc Score: 0.9587113 | Time elapsed: 2:35:54.065184\n",
            "iterations: 1187 | train_loss: 0.04284112 | validation_loss: 0.04814325 | Roc Score: 0.95873237 | Time elapsed: 2:36:01.760615\n",
            "iterations: 1188 | train_loss: 0.03414753 | validation_loss: 0.047798786 | Roc Score: 0.9587536 | Time elapsed: 2:36:09.677121\n",
            "iterations: 1189 | train_loss: 0.04891722 | validation_loss: 0.047834292 | Roc Score: 0.95877504 | Time elapsed: 2:36:17.581714\n",
            "iterations: 1190 | train_loss: 0.04611037 | validation_loss: 0.048248842 | Roc Score: 0.95879704 | Time elapsed: 2:36:25.461536\n",
            "iterations: 1191 | train_loss: 0.029844364 | validation_loss: 0.048658207 | Roc Score: 0.958819 | Time elapsed: 2:36:33.381550\n",
            "iterations: 1192 | train_loss: 0.06277927 | validation_loss: 0.048582397 | Roc Score: 0.9588405 | Time elapsed: 2:36:41.292276\n",
            "iterations: 1193 | train_loss: 0.036189985 | validation_loss: 0.048467696 | Roc Score: 0.9588615 | Time elapsed: 2:36:49.191109\n",
            "iterations: 1194 | train_loss: 0.051736772 | validation_loss: 0.0485268 | Roc Score: 0.9588819 | Time elapsed: 2:36:57.097631\n",
            "iterations: 1195 | train_loss: 0.043563213 | validation_loss: 0.04888715 | Roc Score: 0.9589019 | Time elapsed: 2:37:04.965965\n",
            "iterations: 1196 | train_loss: 0.05018202 | validation_loss: 0.04915589 | Roc Score: 0.9589215 | Time elapsed: 2:37:12.825521\n",
            "iterations: 1197 | train_loss: 0.045891963 | validation_loss: 0.04921485 | Roc Score: 0.95894104 | Time elapsed: 2:37:20.653366\n",
            "iterations: 1198 | train_loss: 0.072306536 | validation_loss: 0.048923865 | Roc Score: 0.9589615 | Time elapsed: 2:37:28.567203\n",
            "iterations: 1199 | train_loss: 0.060856845 | validation_loss: 0.048556615 | Roc Score: 0.9589826 | Time elapsed: 2:37:36.526654\n",
            "iterations: 1200 | train_loss: 0.046625063 | validation_loss: 0.04818215 | Roc Score: 0.95900506 | Time elapsed: 2:37:44.426059\n",
            "iterations: 1201 | train_loss: 0.041615408 | validation_loss: 0.048074424 | Roc Score: 0.95902777 | Time elapsed: 2:37:52.341033\n",
            "iterations: 1202 | train_loss: 0.04429235 | validation_loss: 0.048077457 | Roc Score: 0.95905083 | Time elapsed: 2:38:00.282548\n",
            "iterations: 1203 | train_loss: 0.044418555 | validation_loss: 0.04804201 | Roc Score: 0.9590739 | Time elapsed: 2:38:08.037910\n",
            "iterations: 1204 | train_loss: 0.047364004 | validation_loss: 0.048059832 | Roc Score: 0.9590971 | Time elapsed: 2:38:15.913989\n",
            "iterations: 1205 | train_loss: 0.060274538 | validation_loss: 0.047970988 | Roc Score: 0.9591204 | Time elapsed: 2:38:23.815836\n",
            "iterations: 1206 | train_loss: 0.03919791 | validation_loss: 0.047847677 | Roc Score: 0.9591431 | Time elapsed: 2:38:31.717605\n",
            "iterations: 1207 | train_loss: 0.047957785 | validation_loss: 0.0478659 | Roc Score: 0.95916533 | Time elapsed: 2:38:39.636721\n",
            "iterations: 1208 | train_loss: 0.045698103 | validation_loss: 0.048144877 | Roc Score: 0.9591864 | Time elapsed: 2:38:47.534283\n"
          ],
          "name": "stdout"
        },
        {
          "output_type": "stream",
          "text": [
            "iterations: 1209 | train_loss: 0.043357287 | validation_loss: 0.048398256 | Roc Score: 0.9592062 | Time elapsed: 2:38:55.414415\n",
            "iterations: 1210 | train_loss: 0.027279196 | validation_loss: 0.048839305 | Roc Score: 0.9592252 | Time elapsed: 2:39:03.344473\n",
            "iterations: 1211 | train_loss: 0.035877116 | validation_loss: 0.04912225 | Roc Score: 0.95924246 | Time elapsed: 2:39:11.034985\n",
            "iterations: 1212 | train_loss: 0.035443764 | validation_loss: 0.049279243 | Roc Score: 0.9592596 | Time elapsed: 2:39:18.931233\n",
            "iterations: 1213 | train_loss: 0.03850253 | validation_loss: 0.049656726 | Roc Score: 0.959276 | Time elapsed: 2:39:26.873976\n",
            "iterations: 1214 | train_loss: 0.0474782 | validation_loss: 0.04986983 | Roc Score: 0.9592921 | Time elapsed: 2:39:34.792445\n",
            "iterations: 1215 | train_loss: 0.050448615 | validation_loss: 0.04949019 | Roc Score: 0.95930916 | Time elapsed: 2:39:42.687377\n",
            "iterations: 1216 | train_loss: 0.033155784 | validation_loss: 0.048964053 | Roc Score: 0.95932686 | Time elapsed: 2:39:50.642512\n",
            "iterations: 1217 | train_loss: 0.022038832 | validation_loss: 0.04876109 | Roc Score: 0.95934564 | Time elapsed: 2:39:58.578323\n",
            "iterations: 1218 | train_loss: 0.041725192 | validation_loss: 0.048414357 | Roc Score: 0.9593649 | Time elapsed: 2:40:06.457070\n",
            "iterations: 1219 | train_loss: 0.04983346 | validation_loss: 0.048043374 | Roc Score: 0.95938444 | Time elapsed: 2:40:14.358575\n",
            "iterations: 1220 | train_loss: 0.04601899 | validation_loss: 0.047741916 | Roc Score: 0.9594057 | Time elapsed: 2:40:22.285702\n",
            "iterations: 1221 | train_loss: 0.042135675 | validation_loss: 0.047717966 | Roc Score: 0.9594273 | Time elapsed: 2:40:30.222989\n",
            "iterations: 1222 | train_loss: 0.043884557 | validation_loss: 0.048053868 | Roc Score: 0.9594493 | Time elapsed: 2:40:38.119416\n",
            "iterations: 1223 | train_loss: 0.057076707 | validation_loss: 0.048603524 | Roc Score: 0.95947194 | Time elapsed: 2:40:45.779259\n",
            "iterations: 1224 | train_loss: 0.039098337 | validation_loss: 0.04921585 | Roc Score: 0.9594947 | Time elapsed: 2:40:53.644648\n",
            "iterations: 1225 | train_loss: 0.035236157 | validation_loss: 0.04938336 | Roc Score: 0.9595171 | Time elapsed: 2:41:01.584393\n",
            "iterations: 1226 | train_loss: 0.04387787 | validation_loss: 0.049351647 | Roc Score: 0.9595388 | Time elapsed: 2:41:09.471075\n",
            "iterations: 1227 | train_loss: 0.032317918 | validation_loss: 0.04904327 | Roc Score: 0.959559 | Time elapsed: 2:41:17.384465\n",
            "iterations: 1228 | train_loss: 0.0363105 | validation_loss: 0.049047194 | Roc Score: 0.95957786 | Time elapsed: 2:41:25.299414\n",
            "iterations: 1229 | train_loss: 0.04532793 | validation_loss: 0.049579434 | Roc Score: 0.9595951 | Time elapsed: 2:41:33.184385\n",
            "iterations: 1230 | train_loss: 0.05931001 | validation_loss: 0.05007669 | Roc Score: 0.9596105 | Time elapsed: 2:41:41.111570\n",
            "iterations: 1231 | train_loss: 0.041524485 | validation_loss: 0.049700234 | Roc Score: 0.959627 | Time elapsed: 2:41:48.954290\n",
            "iterations: 1232 | train_loss: 0.041151404 | validation_loss: 0.04931526 | Roc Score: 0.9596442 | Time elapsed: 2:41:56.859985\n",
            "iterations: 1233 | train_loss: 0.07079594 | validation_loss: 0.048669986 | Roc Score: 0.95966274 | Time elapsed: 2:42:04.768420\n",
            "iterations: 1234 | train_loss: 0.05790397 | validation_loss: 0.047992807 | Roc Score: 0.95968246 | Time elapsed: 2:42:12.637976\n",
            "iterations: 1235 | train_loss: 0.04181215 | validation_loss: 0.047572814 | Roc Score: 0.9597033 | Time elapsed: 2:42:20.583379\n",
            "iterations: 1236 | train_loss: 0.04791202 | validation_loss: 0.047372553 | Roc Score: 0.9597253 | Time elapsed: 2:42:28.482821\n",
            "iterations: 1237 | train_loss: 0.033484817 | validation_loss: 0.047446977 | Roc Score: 0.9597487 | Time elapsed: 2:42:36.369760\n",
            "iterations: 1238 | train_loss: 0.042288583 | validation_loss: 0.047823295 | Roc Score: 0.95977134 | Time elapsed: 2:42:44.324911\n",
            "iterations: 1239 | train_loss: 0.04722147 | validation_loss: 0.048382755 | Roc Score: 0.9597932 | Time elapsed: 2:42:52.233388\n",
            "iterations: 1240 | train_loss: 0.04967231 | validation_loss: 0.04853769 | Roc Score: 0.95981514 | Time elapsed: 2:43:00.153033\n",
            "iterations: 1241 | train_loss: 0.044901516 | validation_loss: 0.048501525 | Roc Score: 0.95983696 | Time elapsed: 2:43:08.088890\n",
            "iterations: 1242 | train_loss: 0.045557283 | validation_loss: 0.048047625 | Roc Score: 0.95985913 | Time elapsed: 2:43:16.047178\n",
            "iterations: 1243 | train_loss: 0.04388607 | validation_loss: 0.04753016 | Roc Score: 0.9598813 | Time elapsed: 2:43:23.950935\n",
            "iterations: 1244 | train_loss: 0.0561548 | validation_loss: 0.047545783 | Roc Score: 0.9599024 | Time elapsed: 2:43:31.713190\n",
            "iterations: 1245 | train_loss: 0.067587286 | validation_loss: 0.047664538 | Roc Score: 0.95992345 | Time elapsed: 2:43:39.656780\n",
            "iterations: 1246 | train_loss: 0.032823987 | validation_loss: 0.047911365 | Roc Score: 0.9599435 | Time elapsed: 2:43:47.600821\n",
            "iterations: 1247 | train_loss: 0.036698654 | validation_loss: 0.048168603 | Roc Score: 0.95996296 | Time elapsed: 2:43:55.507983\n"
          ],
          "name": "stdout"
        },
        {
          "output_type": "stream",
          "text": [
            "iterations: 1248 | train_loss: 0.046761062 | validation_loss: 0.048289087 | Roc Score: 0.9599825 | Time elapsed: 2:44:03.402589\n",
            "iterations: 1249 | train_loss: 0.04824295 | validation_loss: 0.048339006 | Roc Score: 0.9600014 | Time elapsed: 2:44:11.310322\n",
            "iterations: 1250 | train_loss: 0.054963596 | validation_loss: 0.04822723 | Roc Score: 0.9600211 | Time elapsed: 2:44:19.233876\n",
            "iterations: 1251 | train_loss: 0.05809254 | validation_loss: 0.04822315 | Roc Score: 0.9600406 | Time elapsed: 2:44:26.743850\n",
            "iterations: 1252 | train_loss: 0.04542956 | validation_loss: 0.048529148 | Roc Score: 0.960061 | Time elapsed: 2:44:34.678566\n",
            "iterations: 1253 | train_loss: 0.049363747 | validation_loss: 0.048787102 | Roc Score: 0.96008146 | Time elapsed: 2:44:42.576910\n",
            "iterations: 1254 | train_loss: 0.0458904 | validation_loss: 0.04870737 | Roc Score: 0.96010137 | Time elapsed: 2:44:50.477945\n",
            "iterations: 1255 | train_loss: 0.028099619 | validation_loss: 0.048475225 | Roc Score: 0.9601216 | Time elapsed: 2:44:58.370157\n",
            "iterations: 1256 | train_loss: 0.057555925 | validation_loss: 0.048480324 | Roc Score: 0.9601414 | Time elapsed: 2:45:06.311626\n",
            "iterations: 1257 | train_loss: 0.055866692 | validation_loss: 0.048495267 | Roc Score: 0.960161 | Time elapsed: 2:45:14.186256\n",
            "iterations: 1258 | train_loss: 0.056287467 | validation_loss: 0.048194226 | Roc Score: 0.9601805 | Time elapsed: 2:45:22.120692\n",
            "iterations: 1259 | train_loss: 0.02419365 | validation_loss: 0.04785164 | Roc Score: 0.96020055 | Time elapsed: 2:45:29.900259\n",
            "iterations: 1260 | train_loss: 0.038575135 | validation_loss: 0.04767665 | Roc Score: 0.9602199 | Time elapsed: 2:45:37.802141\n",
            "iterations: 1261 | train_loss: 0.032231532 | validation_loss: 0.0477622 | Roc Score: 0.96023875 | Time elapsed: 2:45:45.729513\n",
            "iterations: 1262 | train_loss: 0.05573745 | validation_loss: 0.04781268 | Roc Score: 0.9602574 | Time elapsed: 2:45:53.681570\n",
            "iterations: 1263 | train_loss: 0.04151904 | validation_loss: 0.04779927 | Roc Score: 0.9602761 | Time elapsed: 2:46:01.589710\n",
            "iterations: 1264 | train_loss: 0.05128641 | validation_loss: 0.047594387 | Roc Score: 0.96029484 | Time elapsed: 2:46:09.433093\n",
            "iterations: 1265 | train_loss: 0.036626536 | validation_loss: 0.047593668 | Roc Score: 0.96031356 | Time elapsed: 2:46:17.371857\n",
            "iterations: 1266 | train_loss: 0.044008445 | validation_loss: 0.047679897 | Roc Score: 0.9603327 | Time elapsed: 2:46:25.311186\n",
            "iterations: 1267 | train_loss: 0.044192117 | validation_loss: 0.04788888 | Roc Score: 0.9603523 | Time elapsed: 2:46:32.845189\n",
            "iterations: 1268 | train_loss: 0.03449426 | validation_loss: 0.04817166 | Roc Score: 0.96037227 | Time elapsed: 2:46:40.748547\n",
            "iterations: 1269 | train_loss: 0.02653224 | validation_loss: 0.04831975 | Roc Score: 0.9603917 | Time elapsed: 2:46:48.665380\n",
            "iterations: 1270 | train_loss: 0.038180556 | validation_loss: 0.048479695 | Roc Score: 0.96041113 | Time elapsed: 2:46:56.559253\n",
            "iterations: 1271 | train_loss: 0.027100945 | validation_loss: 0.048590243 | Roc Score: 0.96042985 | Time elapsed: 2:47:04.474761\n",
            "iterations: 1272 | train_loss: 0.04033034 | validation_loss: 0.048825584 | Roc Score: 0.96044624 | Time elapsed: 2:47:12.389393\n",
            "iterations: 1273 | train_loss: 0.047512382 | validation_loss: 0.048845906 | Roc Score: 0.9604627 | Time elapsed: 2:47:20.259631\n",
            "iterations: 1274 | train_loss: 0.06932808 | validation_loss: 0.048275907 | Roc Score: 0.960481 | Time elapsed: 2:47:28.204288\n",
            "iterations: 1275 | train_loss: 0.05022995 | validation_loss: 0.047721416 | Roc Score: 0.96050066 | Time elapsed: 2:47:36.176100\n",
            "iterations: 1276 | train_loss: 0.023776375 | validation_loss: 0.04753074 | Roc Score: 0.96052074 | Time elapsed: 2:47:44.085437\n",
            "iterations: 1277 | train_loss: 0.042572867 | validation_loss: 0.0474104 | Roc Score: 0.9605409 | Time elapsed: 2:47:51.983640\n",
            "iterations: 1278 | train_loss: 0.051842034 | validation_loss: 0.04727443 | Roc Score: 0.9605609 | Time elapsed: 2:47:59.895331\n",
            "iterations: 1279 | train_loss: 0.04226807 | validation_loss: 0.04697984 | Roc Score: 0.96058196 | Time elapsed: 2:48:07.777065\n",
            "iterations: 1280 | train_loss: 0.029651228 | validation_loss: 0.046729732 | Roc Score: 0.96060306 | Time elapsed: 2:48:15.633027\n",
            "iterations: 1281 | train_loss: 0.03565389 | validation_loss: 0.046668157 | Roc Score: 0.9606234 | Time elapsed: 2:48:23.544188\n",
            "iterations: 1282 | train_loss: 0.04145384 | validation_loss: 0.046795353 | Roc Score: 0.9606435 | Time elapsed: 2:48:31.342044\n",
            "iterations: 1283 | train_loss: 0.048532993 | validation_loss: 0.047083065 | Roc Score: 0.9606634 | Time elapsed: 2:48:39.264762\n",
            "iterations: 1284 | train_loss: 0.06701881 | validation_loss: 0.047311015 | Roc Score: 0.96068317 | Time elapsed: 2:48:47.145311\n",
            "iterations: 1285 | train_loss: 0.041225288 | validation_loss: 0.047281284 | Roc Score: 0.9607029 | Time elapsed: 2:48:55.041939\n",
            "iterations: 1286 | train_loss: 0.04682399 | validation_loss: 0.04727458 | Roc Score: 0.96072304 | Time elapsed: 2:49:02.976530\n"
          ],
          "name": "stdout"
        },
        {
          "output_type": "stream",
          "text": [
            "iterations: 1287 | train_loss: 0.036746617 | validation_loss: 0.0475496 | Roc Score: 0.9607428 | Time elapsed: 2:49:10.930249\n",
            "iterations: 1288 | train_loss: 0.034031406 | validation_loss: 0.047710035 | Roc Score: 0.96076244 | Time elapsed: 2:49:18.848348\n",
            "iterations: 1289 | train_loss: 0.04306444 | validation_loss: 0.047738895 | Roc Score: 0.9607822 | Time elapsed: 2:49:26.778894\n",
            "iterations: 1290 | train_loss: 0.04349678 | validation_loss: 0.047727697 | Roc Score: 0.9608018 | Time elapsed: 2:49:34.926835\n",
            "iterations: 1291 | train_loss: 0.042643644 | validation_loss: 0.047760207 | Roc Score: 0.9608203 | Time elapsed: 2:49:42.872617\n",
            "iterations: 1292 | train_loss: 0.040098503 | validation_loss: 0.047974624 | Roc Score: 0.96083784 | Time elapsed: 2:49:50.750103\n",
            "iterations: 1293 | train_loss: 0.063178495 | validation_loss: 0.048019405 | Roc Score: 0.96085525 | Time elapsed: 2:49:58.703812\n",
            "iterations: 1294 | train_loss: 0.02549547 | validation_loss: 0.0483661 | Roc Score: 0.9608713 | Time elapsed: 2:50:06.634187\n",
            "iterations: 1295 | train_loss: 0.07222021 | validation_loss: 0.048463915 | Roc Score: 0.9608868 | Time elapsed: 2:50:14.535613\n",
            "iterations: 1296 | train_loss: 0.040319473 | validation_loss: 0.048600197 | Roc Score: 0.96090263 | Time elapsed: 2:50:22.360047\n",
            "iterations: 1297 | train_loss: 0.05298287 | validation_loss: 0.048628144 | Roc Score: 0.9609184 | Time elapsed: 2:50:30.274833\n",
            "iterations: 1298 | train_loss: 0.03342086 | validation_loss: 0.048628915 | Roc Score: 0.9609338 | Time elapsed: 2:50:38.195216\n",
            "iterations: 1299 | train_loss: 0.053973675 | validation_loss: 0.04882159 | Roc Score: 0.9609482 | Time elapsed: 2:50:46.162959\n",
            "iterations: 1300 | train_loss: 0.05050038 | validation_loss: 0.048362527 | Roc Score: 0.9609644 | Time elapsed: 2:50:54.051100\n",
            "iterations: 1301 | train_loss: 0.03137152 | validation_loss: 0.04800843 | Roc Score: 0.96098113 | Time elapsed: 2:51:01.941447\n",
            "iterations: 1302 | train_loss: 0.05064618 | validation_loss: 0.047578923 | Roc Score: 0.96099895 | Time elapsed: 2:51:09.823387\n",
            "iterations: 1303 | train_loss: 0.032358203 | validation_loss: 0.047443442 | Roc Score: 0.961017 | Time elapsed: 2:51:17.726131\n",
            "iterations: 1304 | train_loss: 0.05340835 | validation_loss: 0.047163773 | Roc Score: 0.9610355 | Time elapsed: 2:51:25.668138\n",
            "iterations: 1305 | train_loss: 0.031790655 | validation_loss: 0.047151167 | Roc Score: 0.9610542 | Time elapsed: 2:51:33.600240\n",
            "iterations: 1306 | train_loss: 0.037924603 | validation_loss: 0.047165114 | Roc Score: 0.96107274 | Time elapsed: 2:51:41.572355\n",
            "iterations: 1307 | train_loss: 0.04721749 | validation_loss: 0.047161337 | Roc Score: 0.961092 | Time elapsed: 2:51:49.447554\n",
            "iterations: 1308 | train_loss: 0.0423878 | validation_loss: 0.047208197 | Roc Score: 0.96111107 | Time elapsed: 2:51:57.311634\n",
            "iterations: 1309 | train_loss: 0.037376653 | validation_loss: 0.04724557 | Roc Score: 0.96113 | Time elapsed: 2:52:05.192936\n",
            "iterations: 1310 | train_loss: 0.033568498 | validation_loss: 0.047341384 | Roc Score: 0.961149 | Time elapsed: 2:52:13.085294\n",
            "iterations: 1311 | train_loss: 0.039913595 | validation_loss: 0.047284517 | Roc Score: 0.9611677 | Time elapsed: 2:52:20.913495\n",
            "iterations: 1312 | train_loss: 0.05346757 | validation_loss: 0.047317386 | Roc Score: 0.9611863 | Time elapsed: 2:52:28.839018\n",
            "iterations: 1313 | train_loss: 0.045897294 | validation_loss: 0.04734625 | Roc Score: 0.961205 | Time elapsed: 2:52:36.751642\n",
            "iterations: 1314 | train_loss: 0.043467898 | validation_loss: 0.047329668 | Roc Score: 0.9612238 | Time elapsed: 2:52:44.629372\n",
            "iterations: 1315 | train_loss: 0.039377935 | validation_loss: 0.047495957 | Roc Score: 0.9612421 | Time elapsed: 2:52:52.566213\n",
            "iterations: 1316 | train_loss: 0.03751261 | validation_loss: 0.048121672 | Roc Score: 0.9612588 | Time elapsed: 2:53:00.460612\n",
            "iterations: 1317 | train_loss: 0.046533097 | validation_loss: 0.048497327 | Roc Score: 0.96127427 | Time elapsed: 2:53:08.355579\n",
            "iterations: 1318 | train_loss: 0.04388093 | validation_loss: 0.048627537 | Roc Score: 0.96128935 | Time elapsed: 2:53:16.264415\n",
            "iterations: 1319 | train_loss: 0.03384814 | validation_loss: 0.048499886 | Roc Score: 0.9613046 | Time elapsed: 2:53:24.175725\n",
            "iterations: 1320 | train_loss: 0.02670989 | validation_loss: 0.048200276 | Roc Score: 0.9613203 | Time elapsed: 2:53:32.071769\n",
            "iterations: 1321 | train_loss: 0.04626403 | validation_loss: 0.0478775 | Roc Score: 0.9613363 | Time elapsed: 2:53:39.623444\n",
            "iterations: 1322 | train_loss: 0.04421666 | validation_loss: 0.047407415 | Roc Score: 0.9613537 | Time elapsed: 2:53:47.516350\n",
            "iterations: 1323 | train_loss: 0.029453812 | validation_loss: 0.047127586 | Roc Score: 0.96137136 | Time elapsed: 2:53:55.436164\n",
            "iterations: 1324 | train_loss: 0.03472845 | validation_loss: 0.047139674 | Roc Score: 0.961389 | Time elapsed: 2:54:03.344514\n",
            "iterations: 1325 | train_loss: 0.043839123 | validation_loss: 0.047197737 | Roc Score: 0.9614066 | Time elapsed: 2:54:11.165700\n"
          ],
          "name": "stdout"
        },
        {
          "output_type": "stream",
          "text": [
            "iterations: 1326 | train_loss: 0.049898475 | validation_loss: 0.047224507 | Roc Score: 0.96142447 | Time elapsed: 2:54:19.069448\n",
            "iterations: 1327 | train_loss: 0.02864694 | validation_loss: 0.047344226 | Roc Score: 0.9614426 | Time elapsed: 2:54:27.036993\n",
            "iterations: 1328 | train_loss: 0.05847823 | validation_loss: 0.047536198 | Roc Score: 0.96146053 | Time elapsed: 2:54:34.994072\n",
            "iterations: 1329 | train_loss: 0.037640687 | validation_loss: 0.047754858 | Roc Score: 0.96147877 | Time elapsed: 2:54:42.942998\n",
            "iterations: 1330 | train_loss: 0.041816738 | validation_loss: 0.04772663 | Roc Score: 0.9614969 | Time elapsed: 2:54:50.840654\n",
            "iterations: 1331 | train_loss: 0.044032186 | validation_loss: 0.047606524 | Roc Score: 0.96151465 | Time elapsed: 2:54:58.607624\n",
            "iterations: 1332 | train_loss: 0.031918194 | validation_loss: 0.047472183 | Roc Score: 0.96153176 | Time elapsed: 2:55:06.550631\n",
            "iterations: 1333 | train_loss: 0.030330833 | validation_loss: 0.047537617 | Roc Score: 0.96154827 | Time elapsed: 2:55:14.298342\n",
            "iterations: 1334 | train_loss: 0.048869006 | validation_loss: 0.04754525 | Roc Score: 0.96156466 | Time elapsed: 2:55:22.484152\n",
            "iterations: 1335 | train_loss: 0.056114815 | validation_loss: 0.047605667 | Roc Score: 0.9615812 | Time elapsed: 2:55:30.413070\n",
            "iterations: 1336 | train_loss: 0.044829857 | validation_loss: 0.047542367 | Roc Score: 0.9615978 | Time elapsed: 2:55:38.250244\n",
            "iterations: 1337 | train_loss: 0.018542623 | validation_loss: 0.047887478 | Roc Score: 0.9616133 | Time elapsed: 2:55:46.104275\n",
            "iterations: 1338 | train_loss: 0.052594323 | validation_loss: 0.04807236 | Roc Score: 0.961629 | Time elapsed: 2:55:54.064357\n",
            "iterations: 1339 | train_loss: 0.035485543 | validation_loss: 0.04839655 | Roc Score: 0.9616437 | Time elapsed: 2:56:01.939198\n",
            "iterations: 1340 | train_loss: 0.06816159 | validation_loss: 0.048628967 | Roc Score: 0.96165794 | Time elapsed: 2:56:09.832445\n",
            "iterations: 1341 | train_loss: 0.036042985 | validation_loss: 0.049133312 | Roc Score: 0.96167135 | Time elapsed: 2:56:17.757840\n",
            "iterations: 1342 | train_loss: 0.04302114 | validation_loss: 0.048602495 | Roc Score: 0.9616856 | Time elapsed: 2:56:25.695131\n",
            "iterations: 1343 | train_loss: 0.0480572 | validation_loss: 0.048061445 | Roc Score: 0.9617014 | Time elapsed: 2:56:33.601574\n",
            "iterations: 1344 | train_loss: 0.05636784 | validation_loss: 0.047143787 | Roc Score: 0.9617187 | Time elapsed: 2:56:41.473782\n",
            "iterations: 1345 | train_loss: 0.04361268 | validation_loss: 0.047490086 | Roc Score: 0.96173704 | Time elapsed: 2:56:49.373316\n",
            "iterations: 1346 | train_loss: 0.046233494 | validation_loss: 0.048466057 | Roc Score: 0.9617554 | Time elapsed: 2:56:57.216415\n",
            "iterations: 1347 | train_loss: 0.034450486 | validation_loss: 0.049432527 | Roc Score: 0.9617729 | Time elapsed: 2:57:05.125310\n",
            "iterations: 1348 | train_loss: 0.043714587 | validation_loss: 0.04954897 | Roc Score: 0.9617904 | Time elapsed: 2:57:12.724690\n",
            "iterations: 1349 | train_loss: 0.03675339 | validation_loss: 0.048415016 | Roc Score: 0.961808 | Time elapsed: 2:57:20.613137\n",
            "iterations: 1350 | train_loss: 0.03384932 | validation_loss: 0.04724242 | Roc Score: 0.9618258 | Time elapsed: 2:57:28.499234\n",
            "iterations: 1351 | train_loss: 0.04584783 | validation_loss: 0.047432046 | Roc Score: 0.9618411 | Time elapsed: 2:57:36.414109\n",
            "iterations: 1352 | train_loss: 0.026297811 | validation_loss: 0.048219405 | Roc Score: 0.96185565 | Time elapsed: 2:57:44.259515\n",
            "iterations: 1353 | train_loss: 0.0211486 | validation_loss: 0.04984045 | Roc Score: 0.9618668 | Time elapsed: 2:57:51.976183\n",
            "iterations: 1354 | train_loss: 0.04920181 | validation_loss: 0.051542733 | Roc Score: 0.9618761 | Time elapsed: 2:57:59.858695\n",
            "iterations: 1355 | train_loss: 0.04571621 | validation_loss: 0.052617118 | Roc Score: 0.96188384 | Time elapsed: 2:58:07.738950\n",
            "iterations: 1356 | train_loss: 0.039783835 | validation_loss: 0.05315616 | Roc Score: 0.9618914 | Time elapsed: 2:58:15.582044\n",
            "iterations: 1357 | train_loss: 0.041320097 | validation_loss: 0.053056955 | Roc Score: 0.961899 | Time elapsed: 2:58:23.465953\n",
            "iterations: 1358 | train_loss: 0.03730466 | validation_loss: 0.05231443 | Roc Score: 0.9619079 | Time elapsed: 2:58:31.347864\n",
            "iterations: 1359 | train_loss: 0.060999565 | validation_loss: 0.050283592 | Roc Score: 0.96191907 | Time elapsed: 2:58:39.220235\n",
            "iterations: 1360 | train_loss: 0.028747842 | validation_loss: 0.04906909 | Roc Score: 0.9619321 | Time elapsed: 2:58:47.086391\n",
            "iterations: 1361 | train_loss: 0.044989947 | validation_loss: 0.047741376 | Roc Score: 0.96194744 | Time elapsed: 2:58:54.683805\n",
            "iterations: 1362 | train_loss: 0.05437204 | validation_loss: 0.047017917 | Roc Score: 0.96196586 | Time elapsed: 2:59:02.594251\n",
            "iterations: 1363 | train_loss: 0.029636292 | validation_loss: 0.047457278 | Roc Score: 0.96198404 | Time elapsed: 2:59:10.463686\n",
            "iterations: 1364 | train_loss: 0.039522436 | validation_loss: 0.048381425 | Roc Score: 0.9620015 | Time elapsed: 2:59:18.357123\n"
          ],
          "name": "stdout"
        },
        {
          "output_type": "stream",
          "text": [
            "iterations: 1365 | train_loss: 0.04770554 | validation_loss: 0.04930706 | Roc Score: 0.9620191 | Time elapsed: 2:59:25.765603\n",
            "iterations: 1366 | train_loss: 0.048837252 | validation_loss: 0.04974777 | Roc Score: 0.96203625 | Time elapsed: 2:59:33.602287\n",
            "iterations: 1367 | train_loss: 0.05088992 | validation_loss: 0.049644336 | Roc Score: 0.96205384 | Time elapsed: 2:59:41.517171\n",
            "iterations: 1368 | train_loss: 0.045926776 | validation_loss: 0.04873567 | Roc Score: 0.96207213 | Time elapsed: 2:59:49.444332\n",
            "iterations: 1369 | train_loss: 0.06130162 | validation_loss: 0.04765758 | Roc Score: 0.9620911 | Time elapsed: 2:59:57.040142\n",
            "iterations: 1370 | train_loss: 0.06308944 | validation_loss: 0.04737271 | Roc Score: 0.9621099 | Time elapsed: 3:00:05.085366\n",
            "iterations: 1371 | train_loss: 0.06364666 | validation_loss: 0.047136437 | Roc Score: 0.9621287 | Time elapsed: 3:00:12.947953\n",
            "iterations: 1372 | train_loss: 0.053222552 | validation_loss: 0.04703846 | Roc Score: 0.9621469 | Time elapsed: 3:00:20.870093\n",
            "iterations: 1373 | train_loss: 0.03586774 | validation_loss: 0.046979368 | Roc Score: 0.9621643 | Time elapsed: 3:00:28.763876\n",
            "iterations: 1374 | train_loss: 0.032406807 | validation_loss: 0.047480647 | Roc Score: 0.96217966 | Time elapsed: 3:00:36.678606\n",
            "iterations: 1375 | train_loss: 0.045934975 | validation_loss: 0.048283465 | Roc Score: 0.96219385 | Time elapsed: 3:00:44.556630\n",
            "iterations: 1376 | train_loss: 0.044908855 | validation_loss: 0.04913439 | Roc Score: 0.96220696 | Time elapsed: 3:00:52.453319\n",
            "iterations: 1377 | train_loss: 0.055777963 | validation_loss: 0.049547587 | Roc Score: 0.9622199 | Time elapsed: 3:01:00.364244\n",
            "iterations: 1378 | train_loss: 0.039394997 | validation_loss: 0.049697246 | Roc Score: 0.96223265 | Time elapsed: 3:01:08.262467\n",
            "iterations: 1379 | train_loss: 0.04291157 | validation_loss: 0.049433563 | Roc Score: 0.96224546 | Time elapsed: 3:01:16.134839\n",
            "iterations: 1380 | train_loss: 0.034104034 | validation_loss: 0.04880953 | Roc Score: 0.9622588 | Time elapsed: 3:01:24.155802\n",
            "iterations: 1381 | train_loss: 0.026087955 | validation_loss: 0.047996666 | Roc Score: 0.96227324 | Time elapsed: 3:01:32.031871\n",
            "iterations: 1382 | train_loss: 0.03394007 | validation_loss: 0.047375757 | Roc Score: 0.9622886 | Time elapsed: 3:01:39.651940\n",
            "iterations: 1383 | train_loss: 0.032385297 | validation_loss: 0.046874814 | Roc Score: 0.9623045 | Time elapsed: 3:01:47.557487\n",
            "iterations: 1384 | train_loss: 0.055160817 | validation_loss: 0.04659829 | Roc Score: 0.9623208 | Time elapsed: 3:01:55.446490\n",
            "iterations: 1385 | train_loss: 0.025434745 | validation_loss: 0.046476565 | Roc Score: 0.96233755 | Time elapsed: 3:02:03.310954\n",
            "iterations: 1386 | train_loss: 0.050198425 | validation_loss: 0.046483904 | Roc Score: 0.96235484 | Time elapsed: 3:02:11.217579\n",
            "iterations: 1387 | train_loss: 0.0430774 | validation_loss: 0.04659301 | Roc Score: 0.9623722 | Time elapsed: 3:02:19.109155\n",
            "iterations: 1388 | train_loss: 0.03385015 | validation_loss: 0.046743836 | Roc Score: 0.9623895 | Time elapsed: 3:02:27.027405\n",
            "iterations: 1389 | train_loss: 0.028536068 | validation_loss: 0.04691893 | Roc Score: 0.96240664 | Time elapsed: 3:02:34.932554\n",
            "iterations: 1390 | train_loss: 0.048378207 | validation_loss: 0.04704187 | Roc Score: 0.96242356 | Time elapsed: 3:02:42.856113\n",
            "iterations: 1391 | train_loss: 0.05207214 | validation_loss: 0.047031492 | Roc Score: 0.9624403 | Time elapsed: 3:02:50.708536\n",
            "iterations: 1392 | train_loss: 0.033504173 | validation_loss: 0.046967104 | Roc Score: 0.9624569 | Time elapsed: 3:02:58.625978\n",
            "iterations: 1393 | train_loss: 0.054807715 | validation_loss: 0.046963383 | Roc Score: 0.96247303 | Time elapsed: 3:03:06.529688\n",
            "iterations: 1394 | train_loss: 0.03339903 | validation_loss: 0.04718192 | Roc Score: 0.9624885 | Time elapsed: 3:03:14.427821\n",
            "iterations: 1395 | train_loss: 0.041329872 | validation_loss: 0.047404982 | Roc Score: 0.9625042 | Time elapsed: 3:03:22.342812\n",
            "iterations: 1396 | train_loss: 0.045957986 | validation_loss: 0.047476962 | Roc Score: 0.96252024 | Time elapsed: 3:03:30.259303\n",
            "iterations: 1397 | train_loss: 0.031650472 | validation_loss: 0.047482885 | Roc Score: 0.96253675 | Time elapsed: 3:03:38.194199\n",
            "iterations: 1398 | train_loss: 0.04008719 | validation_loss: 0.047352098 | Roc Score: 0.96255314 | Time elapsed: 3:03:46.148693\n",
            "iterations: 1399 | train_loss: 0.047973458 | validation_loss: 0.04701293 | Roc Score: 0.96256995 | Time elapsed: 3:03:54.046689\n",
            "iterations: 1400 | train_loss: 0.06813308 | validation_loss: 0.04686982 | Roc Score: 0.96258706 | Time elapsed: 3:04:01.918365\n",
            "iterations: 1401 | train_loss: 0.04710678 | validation_loss: 0.046731617 | Roc Score: 0.9626045 | Time elapsed: 3:04:09.759684\n",
            "iterations: 1402 | train_loss: 0.03435309 | validation_loss: 0.046708446 | Roc Score: 0.96262217 | Time elapsed: 3:04:17.705412\n",
            "iterations: 1403 | train_loss: 0.03745131 | validation_loss: 0.046721783 | Roc Score: 0.9626395 | Time elapsed: 3:04:25.603516\n"
          ],
          "name": "stdout"
        },
        {
          "output_type": "stream",
          "text": [
            "iterations: 1404 | train_loss: 0.038009666 | validation_loss: 0.046947412 | Roc Score: 0.96265715 | Time elapsed: 3:04:33.179190\n",
            "iterations: 1405 | train_loss: 0.049806364 | validation_loss: 0.047324408 | Roc Score: 0.9626739 | Time elapsed: 3:04:41.046416\n",
            "iterations: 1406 | train_loss: 0.032872744 | validation_loss: 0.047626086 | Roc Score: 0.96269023 | Time elapsed: 3:04:48.930057\n",
            "iterations: 1407 | train_loss: 0.057898622 | validation_loss: 0.047852214 | Roc Score: 0.96270686 | Time elapsed: 3:04:56.846823\n",
            "iterations: 1408 | train_loss: 0.047102515 | validation_loss: 0.048160665 | Roc Score: 0.9627223 | Time elapsed: 3:05:04.697828\n",
            "iterations: 1409 | train_loss: 0.059793975 | validation_loss: 0.048074245 | Roc Score: 0.9627377 | Time elapsed: 3:05:12.593205\n",
            "iterations: 1410 | train_loss: 0.039150514 | validation_loss: 0.048187345 | Roc Score: 0.96275264 | Time elapsed: 3:05:20.548355\n",
            "iterations: 1411 | train_loss: 0.05674942 | validation_loss: 0.048235137 | Roc Score: 0.96276724 | Time elapsed: 3:05:28.424301\n",
            "iterations: 1412 | train_loss: 0.058821496 | validation_loss: 0.04801292 | Roc Score: 0.9627813 | Time elapsed: 3:05:36.363042\n",
            "iterations: 1413 | train_loss: 0.04844485 | validation_loss: 0.04780479 | Roc Score: 0.96279544 | Time elapsed: 3:05:44.273938\n",
            "iterations: 1414 | train_loss: 0.046697956 | validation_loss: 0.047544286 | Roc Score: 0.9628099 | Time elapsed: 3:05:52.197832\n",
            "iterations: 1415 | train_loss: 0.041514 | validation_loss: 0.047362268 | Roc Score: 0.9628249 | Time elapsed: 3:06:00.161471\n",
            "iterations: 1416 | train_loss: 0.032803517 | validation_loss: 0.047331203 | Roc Score: 0.9628397 | Time elapsed: 3:06:08.048261\n",
            "iterations: 1417 | train_loss: 0.036056075 | validation_loss: 0.047377374 | Roc Score: 0.9628543 | Time elapsed: 3:06:15.930008\n",
            "iterations: 1418 | train_loss: 0.047655422 | validation_loss: 0.047412142 | Roc Score: 0.96286875 | Time elapsed: 3:06:23.785558\n",
            "iterations: 1419 | train_loss: 0.035594314 | validation_loss: 0.047447886 | Roc Score: 0.9628831 | Time elapsed: 3:06:31.664042\n",
            "iterations: 1420 | train_loss: 0.027035011 | validation_loss: 0.047563404 | Roc Score: 0.9628976 | Time elapsed: 3:06:39.567563\n",
            "iterations: 1421 | train_loss: 0.033546403 | validation_loss: 0.047720496 | Roc Score: 0.9629117 | Time elapsed: 3:06:47.464750\n",
            "iterations: 1422 | train_loss: 0.052585866 | validation_loss: 0.047769856 | Roc Score: 0.96292585 | Time elapsed: 3:06:55.341263\n",
            "iterations: 1423 | train_loss: 0.030011583 | validation_loss: 0.047880337 | Roc Score: 0.96293986 | Time elapsed: 3:07:03.228584\n",
            "iterations: 1424 | train_loss: 0.031365488 | validation_loss: 0.048007075 | Roc Score: 0.96295404 | Time elapsed: 3:07:11.121404\n",
            "iterations: 1425 | train_loss: 0.055251013 | validation_loss: 0.047933575 | Roc Score: 0.962968 | Time elapsed: 3:07:19.012407\n",
            "iterations: 1426 | train_loss: 0.04420268 | validation_loss: 0.04783801 | Roc Score: 0.96298194 | Time elapsed: 3:07:26.963634\n",
            "iterations: 1427 | train_loss: 0.0361772 | validation_loss: 0.047771316 | Roc Score: 0.96299577 | Time elapsed: 3:07:34.897965\n",
            "iterations: 1428 | train_loss: 0.035377085 | validation_loss: 0.047719683 | Roc Score: 0.9630099 | Time elapsed: 3:07:42.845805\n",
            "iterations: 1429 | train_loss: 0.042468116 | validation_loss: 0.047821894 | Roc Score: 0.9630239 | Time elapsed: 3:07:50.740966\n",
            "iterations: 1430 | train_loss: 0.051009316 | validation_loss: 0.048169594 | Roc Score: 0.9630383 | Time elapsed: 3:07:58.646014\n",
            "iterations: 1431 | train_loss: 0.049228635 | validation_loss: 0.04900633 | Roc Score: 0.9630527 | Time elapsed: 3:08:06.538464\n",
            "iterations: 1432 | train_loss: 0.05026624 | validation_loss: 0.050237197 | Roc Score: 0.96306705 | Time elapsed: 3:08:14.413781\n",
            "iterations: 1433 | train_loss: 0.04215838 | validation_loss: 0.051277988 | Roc Score: 0.96308094 | Time elapsed: 3:08:22.349672\n",
            "iterations: 1434 | train_loss: 0.038117103 | validation_loss: 0.051517785 | Roc Score: 0.96309465 | Time elapsed: 3:08:30.320012\n",
            "iterations: 1435 | train_loss: 0.03232668 | validation_loss: 0.05129219 | Roc Score: 0.96310794 | Time elapsed: 3:08:38.262603\n",
            "iterations: 1436 | train_loss: 0.041613795 | validation_loss: 0.051042598 | Roc Score: 0.9631205 | Time elapsed: 3:08:46.154076\n",
            "iterations: 1437 | train_loss: 0.042974353 | validation_loss: 0.050829332 | Roc Score: 0.9631318 | Time elapsed: 3:08:54.096183\n",
            "iterations: 1438 | train_loss: 0.04228876 | validation_loss: 0.050496466 | Roc Score: 0.96314234 | Time elapsed: 3:09:02.028434\n",
            "iterations: 1439 | train_loss: 0.039143167 | validation_loss: 0.050216295 | Roc Score: 0.96315306 | Time elapsed: 3:09:09.908275\n",
            "iterations: 1440 | train_loss: 0.05490392 | validation_loss: 0.049652178 | Roc Score: 0.96316403 | Time elapsed: 3:09:17.791215\n",
            "iterations: 1441 | train_loss: 0.036217287 | validation_loss: 0.048997097 | Roc Score: 0.96317583 | Time elapsed: 3:09:25.734984\n",
            "iterations: 1442 | train_loss: 0.046361893 | validation_loss: 0.048683684 | Roc Score: 0.9631885 | Time elapsed: 3:09:33.783003\n"
          ],
          "name": "stdout"
        },
        {
          "output_type": "stream",
          "text": [
            "iterations: 1443 | train_loss: 0.04390266 | validation_loss: 0.04845561 | Roc Score: 0.96320134 | Time elapsed: 3:09:41.548388\n",
            "iterations: 1444 | train_loss: 0.04794212 | validation_loss: 0.04804419 | Roc Score: 0.96321565 | Time elapsed: 3:09:49.488955\n",
            "iterations: 1445 | train_loss: 0.04582432 | validation_loss: 0.04769629 | Roc Score: 0.9632303 | Time elapsed: 3:09:57.417747\n",
            "iterations: 1446 | train_loss: 0.04742497 | validation_loss: 0.04748128 | Roc Score: 0.9632458 | Time elapsed: 3:10:05.324335\n",
            "iterations: 1447 | train_loss: 0.039709486 | validation_loss: 0.047791366 | Roc Score: 0.9632612 | Time elapsed: 3:10:13.171212\n",
            "iterations: 1448 | train_loss: 0.046989325 | validation_loss: 0.048207033 | Roc Score: 0.96327674 | Time elapsed: 3:10:21.072605\n",
            "iterations: 1449 | train_loss: 0.03905652 | validation_loss: 0.04869198 | Roc Score: 0.9632917 | Time elapsed: 3:10:28.914736\n",
            "iterations: 1450 | train_loss: 0.041535527 | validation_loss: 0.048496384 | Roc Score: 0.9633069 | Time elapsed: 3:10:36.829029\n",
            "iterations: 1451 | train_loss: 0.032114565 | validation_loss: 0.048070394 | Roc Score: 0.9633222 | Time elapsed: 3:10:44.757362\n",
            "iterations: 1452 | train_loss: 0.04836502 | validation_loss: 0.04755097 | Roc Score: 0.96333796 | Time elapsed: 3:10:52.665964\n",
            "iterations: 1453 | train_loss: 0.047959886 | validation_loss: 0.047112264 | Roc Score: 0.9633535 | Time elapsed: 3:11:00.583313\n",
            "iterations: 1454 | train_loss: 0.036555976 | validation_loss: 0.047145158 | Roc Score: 0.96336883 | Time elapsed: 3:11:08.560757\n",
            "iterations: 1455 | train_loss: 0.03914828 | validation_loss: 0.047727752 | Roc Score: 0.96338266 | Time elapsed: 3:11:16.476713\n",
            "iterations: 1456 | train_loss: 0.04231148 | validation_loss: 0.048051763 | Roc Score: 0.9633963 | Time elapsed: 3:11:24.407129\n",
            "iterations: 1457 | train_loss: 0.02782966 | validation_loss: 0.048287623 | Roc Score: 0.96340966 | Time elapsed: 3:11:32.291277\n",
            "iterations: 1458 | train_loss: 0.0411644 | validation_loss: 0.04844375 | Roc Score: 0.9634227 | Time elapsed: 3:11:40.213428\n",
            "iterations: 1459 | train_loss: 0.049883798 | validation_loss: 0.048278715 | Roc Score: 0.9634358 | Time elapsed: 3:11:48.124888\n",
            "iterations: 1460 | train_loss: 0.029529175 | validation_loss: 0.04807102 | Roc Score: 0.96344924 | Time elapsed: 3:11:55.996338\n",
            "iterations: 1461 | train_loss: 0.038309455 | validation_loss: 0.047874436 | Roc Score: 0.9634631 | Time elapsed: 3:12:03.860005\n",
            "iterations: 1462 | train_loss: 0.034774385 | validation_loss: 0.04786162 | Roc Score: 0.96347696 | Time elapsed: 3:12:11.746825\n",
            "iterations: 1463 | train_loss: 0.052746776 | validation_loss: 0.04764998 | Roc Score: 0.96349186 | Time elapsed: 3:12:19.730783\n",
            "iterations: 1464 | train_loss: 0.03618679 | validation_loss: 0.047519278 | Roc Score: 0.9635067 | Time elapsed: 3:12:27.640503\n",
            "iterations: 1465 | train_loss: 0.03806696 | validation_loss: 0.047307175 | Roc Score: 0.9635216 | Time elapsed: 3:12:35.537530\n",
            "iterations: 1466 | train_loss: 0.037378237 | validation_loss: 0.047187362 | Roc Score: 0.96353626 | Time elapsed: 3:12:43.451150\n",
            "iterations: 1467 | train_loss: 0.048554074 | validation_loss: 0.047165487 | Roc Score: 0.9635509 | Time elapsed: 3:12:51.333155\n",
            "iterations: 1468 | train_loss: 0.031341042 | validation_loss: 0.047111064 | Roc Score: 0.96356547 | Time elapsed: 3:12:59.197060\n",
            "iterations: 1469 | train_loss: 0.042982545 | validation_loss: 0.046959095 | Roc Score: 0.9635796 | Time elapsed: 3:13:07.069161\n",
            "iterations: 1470 | train_loss: 0.03951943 | validation_loss: 0.04684727 | Roc Score: 0.9635937 | Time elapsed: 3:13:14.964471\n",
            "iterations: 1471 | train_loss: 0.04113801 | validation_loss: 0.046951912 | Roc Score: 0.9636075 | Time elapsed: 3:13:22.889013\n",
            "iterations: 1472 | train_loss: 0.055077933 | validation_loss: 0.046859883 | Roc Score: 0.9636219 | Time elapsed: 3:13:30.787333\n",
            "iterations: 1473 | train_loss: 0.04457437 | validation_loss: 0.046735648 | Roc Score: 0.96363586 | Time elapsed: 3:13:38.542439\n",
            "iterations: 1474 | train_loss: 0.04439321 | validation_loss: 0.04667219 | Roc Score: 0.9636506 | Time elapsed: 3:13:46.498285\n",
            "iterations: 1475 | train_loss: 0.024704603 | validation_loss: 0.046712104 | Roc Score: 0.96366465 | Time elapsed: 3:13:54.402840\n",
            "iterations: 1476 | train_loss: 0.042456985 | validation_loss: 0.046580557 | Roc Score: 0.9636787 | Time elapsed: 3:14:02.328521\n",
            "iterations: 1477 | train_loss: 0.045114085 | validation_loss: 0.046603646 | Roc Score: 0.96369225 | Time elapsed: 3:14:10.220333\n",
            "iterations: 1478 | train_loss: 0.05284657 | validation_loss: 0.04668802 | Roc Score: 0.9637054 | Time elapsed: 3:14:18.301296\n",
            "iterations: 1479 | train_loss: 0.04699311 | validation_loss: 0.046751972 | Roc Score: 0.9637182 | Time elapsed: 3:14:26.109892\n",
            "iterations: 1480 | train_loss: 0.047621753 | validation_loss: 0.046715524 | Roc Score: 0.9637312 | Time elapsed: 3:14:33.995971\n",
            "iterations: 1481 | train_loss: 0.021113826 | validation_loss: 0.04677598 | Roc Score: 0.963744 | Time elapsed: 3:14:41.474223\n"
          ],
          "name": "stdout"
        },
        {
          "output_type": "stream",
          "text": [
            "iterations: 1482 | train_loss: 0.04002092 | validation_loss: 0.046960082 | Roc Score: 0.9637562 | Time elapsed: 3:14:49.530021\n",
            "iterations: 1483 | train_loss: 0.03329554 | validation_loss: 0.047112476 | Roc Score: 0.9637685 | Time elapsed: 3:14:57.025699\n",
            "iterations: 1484 | train_loss: 0.02743699 | validation_loss: 0.047639348 | Roc Score: 0.9637797 | Time elapsed: 3:15:04.917535\n",
            "iterations: 1485 | train_loss: 0.028672047 | validation_loss: 0.048352435 | Roc Score: 0.9637904 | Time elapsed: 3:15:12.751755\n",
            "iterations: 1486 | train_loss: 0.027420076 | validation_loss: 0.04931058 | Roc Score: 0.96379936 | Time elapsed: 3:15:20.667271\n",
            "iterations: 1487 | train_loss: 0.035735082 | validation_loss: 0.050029613 | Roc Score: 0.963807 | Time elapsed: 3:15:28.551694\n",
            "iterations: 1488 | train_loss: 0.035465512 | validation_loss: 0.05015656 | Roc Score: 0.9638146 | Time elapsed: 3:15:36.447438\n",
            "iterations: 1489 | train_loss: 0.02466514 | validation_loss: 0.0502177 | Roc Score: 0.9638223 | Time elapsed: 3:15:44.336209\n",
            "iterations: 1490 | train_loss: 0.06021281 | validation_loss: 0.049429946 | Roc Score: 0.9638311 | Time elapsed: 3:15:52.255991\n",
            "iterations: 1491 | train_loss: 0.041287303 | validation_loss: 0.04858914 | Roc Score: 0.9638418 | Time elapsed: 3:16:00.095887\n",
            "iterations: 1492 | train_loss: 0.03971459 | validation_loss: 0.04781624 | Roc Score: 0.96385396 | Time elapsed: 3:16:07.999179\n",
            "iterations: 1493 | train_loss: 0.031298235 | validation_loss: 0.047806468 | Roc Score: 0.9638675 | Time elapsed: 3:16:15.860073\n",
            "iterations: 1494 | train_loss: 0.043038808 | validation_loss: 0.048374664 | Roc Score: 0.9638818 | Time elapsed: 3:16:23.767849\n",
            "iterations: 1495 | train_loss: 0.03243267 | validation_loss: 0.048977625 | Roc Score: 0.9638956 | Time elapsed: 3:16:31.707851\n",
            "iterations: 1496 | train_loss: 0.03589458 | validation_loss: 0.04926433 | Roc Score: 0.9639092 | Time elapsed: 3:16:39.578300\n",
            "iterations: 1497 | train_loss: 0.04841101 | validation_loss: 0.048648596 | Roc Score: 0.9639233 | Time elapsed: 3:16:47.495754\n",
            "iterations: 1498 | train_loss: 0.049370714 | validation_loss: 0.047834918 | Roc Score: 0.96393675 | Time elapsed: 3:16:55.395015\n",
            "iterations: 1499 | train_loss: 0.047028817 | validation_loss: 0.047531314 | Roc Score: 0.9639494 | Time elapsed: 3:17:03.302004\n",
            "iterations: 1500 | train_loss: 0.042888176 | validation_loss: 0.0477305 | Roc Score: 0.96396136 | Time elapsed: 3:17:11.150784\n",
            "iterations: 1501 | train_loss: 0.054890957 | validation_loss: 0.048009675 | Roc Score: 0.9639727 | Time elapsed: 3:17:19.049186\n",
            "iterations: 1502 | train_loss: 0.026370715 | validation_loss: 0.048460394 | Roc Score: 0.9639831 | Time elapsed: 3:17:26.977044\n",
            "iterations: 1503 | train_loss: 0.025667772 | validation_loss: 0.04920471 | Roc Score: 0.9639923 | Time elapsed: 3:17:34.925375\n",
            "iterations: 1504 | train_loss: 0.034351375 | validation_loss: 0.05017799 | Roc Score: 0.9639995 | Time elapsed: 3:17:42.864054\n",
            "iterations: 1505 | train_loss: 0.04135254 | validation_loss: 0.05065855 | Roc Score: 0.964006 | Time elapsed: 3:17:50.776878\n",
            "iterations: 1506 | train_loss: 0.05271631 | validation_loss: 0.050803192 | Roc Score: 0.9640124 | Time elapsed: 3:17:58.673249\n",
            "iterations: 1507 | train_loss: 0.03883277 | validation_loss: 0.050197884 | Roc Score: 0.96401936 | Time elapsed: 3:18:06.583727\n",
            "iterations: 1508 | train_loss: 0.03898363 | validation_loss: 0.049476147 | Roc Score: 0.964027 | Time elapsed: 3:18:14.269061\n",
            "iterations: 1509 | train_loss: 0.036115415 | validation_loss: 0.048800956 | Roc Score: 0.9640364 | Time elapsed: 3:18:22.170977\n",
            "iterations: 1510 | train_loss: 0.058659025 | validation_loss: 0.04803898 | Roc Score: 0.9640477 | Time elapsed: 3:18:30.075773\n",
            "iterations: 1511 | train_loss: 0.031456333 | validation_loss: 0.047697406 | Roc Score: 0.96406084 | Time elapsed: 3:18:37.930094\n",
            "iterations: 1512 | train_loss: 0.056267682 | validation_loss: 0.047857862 | Roc Score: 0.9640741 | Time elapsed: 3:18:45.831393\n",
            "iterations: 1513 | train_loss: 0.050551873 | validation_loss: 0.04866998 | Roc Score: 0.9640876 | Time elapsed: 3:18:53.565969\n",
            "iterations: 1514 | train_loss: 0.048261836 | validation_loss: 0.049638856 | Roc Score: 0.9641011 | Time elapsed: 3:19:01.116221\n",
            "iterations: 1515 | train_loss: 0.049311973 | validation_loss: 0.05016674 | Roc Score: 0.96411455 | Time elapsed: 3:19:09.001294\n",
            "iterations: 1516 | train_loss: 0.037438318 | validation_loss: 0.04959919 | Roc Score: 0.964128 | Time elapsed: 3:19:16.890707\n",
            "iterations: 1517 | train_loss: 0.039881438 | validation_loss: 0.048857782 | Roc Score: 0.9641418 | Time elapsed: 3:19:24.800701\n",
            "iterations: 1518 | train_loss: 0.04175673 | validation_loss: 0.047698695 | Roc Score: 0.9641559 | Time elapsed: 3:19:32.526817\n",
            "iterations: 1519 | train_loss: 0.041294042 | validation_loss: 0.046957497 | Roc Score: 0.9641698 | Time elapsed: 3:19:40.443141\n",
            "iterations: 1520 | train_loss: 0.041886866 | validation_loss: 0.04691978 | Roc Score: 0.96418345 | Time elapsed: 3:19:48.368212\n"
          ],
          "name": "stdout"
        },
        {
          "output_type": "stream",
          "text": [
            "iterations: 1521 | train_loss: 0.05216304 | validation_loss: 0.047284834 | Roc Score: 0.9641963 | Time elapsed: 3:19:56.366647\n",
            "iterations: 1522 | train_loss: 0.04194552 | validation_loss: 0.047668964 | Roc Score: 0.96420854 | Time elapsed: 3:20:04.297015\n",
            "iterations: 1523 | train_loss: 0.0473886 | validation_loss: 0.04797269 | Roc Score: 0.9642202 | Time elapsed: 3:20:12.153445\n",
            "iterations: 1524 | train_loss: 0.03863981 | validation_loss: 0.04807224 | Roc Score: 0.9642312 | Time elapsed: 3:20:20.020767\n",
            "iterations: 1525 | train_loss: 0.047012534 | validation_loss: 0.047864098 | Roc Score: 0.96424234 | Time elapsed: 3:20:27.878771\n",
            "iterations: 1526 | train_loss: 0.03767269 | validation_loss: 0.047705613 | Roc Score: 0.96425366 | Time elapsed: 3:20:35.748239\n",
            "iterations: 1527 | train_loss: 0.04608476 | validation_loss: 0.047401965 | Roc Score: 0.96426517 | Time elapsed: 3:20:43.620080\n",
            "iterations: 1528 | train_loss: 0.04729761 | validation_loss: 0.04707168 | Roc Score: 0.9642781 | Time elapsed: 3:20:51.560612\n",
            "iterations: 1529 | train_loss: 0.044390734 | validation_loss: 0.046998452 | Roc Score: 0.9642919 | Time elapsed: 3:20:59.458551\n",
            "iterations: 1530 | train_loss: 0.04921431 | validation_loss: 0.047209986 | Roc Score: 0.9643052 | Time elapsed: 3:21:07.318299\n",
            "iterations: 1531 | train_loss: 0.04160633 | validation_loss: 0.04808633 | Roc Score: 0.9643184 | Time elapsed: 3:21:15.177636\n",
            "iterations: 1532 | train_loss: 0.035841085 | validation_loss: 0.048900153 | Roc Score: 0.9643313 | Time elapsed: 3:21:23.147718\n",
            "iterations: 1533 | train_loss: 0.042714074 | validation_loss: 0.04938445 | Roc Score: 0.964344 | Time elapsed: 3:21:30.939086\n",
            "iterations: 1534 | train_loss: 0.04683955 | validation_loss: 0.048826557 | Roc Score: 0.9643567 | Time elapsed: 3:21:38.800580\n",
            "iterations: 1535 | train_loss: 0.027880376 | validation_loss: 0.04815686 | Roc Score: 0.9643694 | Time elapsed: 3:21:46.675146\n",
            "iterations: 1536 | train_loss: 0.031559195 | validation_loss: 0.047446918 | Roc Score: 0.96438295 | Time elapsed: 3:21:54.585925\n",
            "iterations: 1537 | train_loss: 0.040606886 | validation_loss: 0.046876542 | Roc Score: 0.9643962 | Time elapsed: 3:22:02.485620\n",
            "iterations: 1538 | train_loss: 0.034108713 | validation_loss: 0.04681455 | Roc Score: 0.96440893 | Time elapsed: 3:22:10.382370\n",
            "iterations: 1539 | train_loss: 0.043033186 | validation_loss: 0.046986587 | Roc Score: 0.96442044 | Time elapsed: 3:22:18.272439\n",
            "iterations: 1540 | train_loss: 0.038435645 | validation_loss: 0.04740298 | Roc Score: 0.9644309 | Time elapsed: 3:22:26.198150\n",
            "iterations: 1541 | train_loss: 0.04131591 | validation_loss: 0.047624044 | Roc Score: 0.96444166 | Time elapsed: 3:22:34.097164\n",
            "iterations: 1542 | train_loss: 0.041124485 | validation_loss: 0.04762688 | Roc Score: 0.9644528 | Time elapsed: 3:22:41.942406\n",
            "iterations: 1543 | train_loss: 0.03551188 | validation_loss: 0.04761633 | Roc Score: 0.9644642 | Time elapsed: 3:22:49.681769\n",
            "iterations: 1544 | train_loss: 0.048605323 | validation_loss: 0.04764892 | Roc Score: 0.9644755 | Time elapsed: 3:22:57.543961\n",
            "iterations: 1545 | train_loss: 0.047414616 | validation_loss: 0.047520474 | Roc Score: 0.96448696 | Time elapsed: 3:23:05.213616\n",
            "iterations: 1546 | train_loss: 0.04372975 | validation_loss: 0.047355957 | Roc Score: 0.9644986 | Time elapsed: 3:23:13.058542\n",
            "iterations: 1547 | train_loss: 0.039344613 | validation_loss: 0.047230076 | Roc Score: 0.9645097 | Time elapsed: 3:23:20.925099\n",
            "iterations: 1548 | train_loss: 0.03626971 | validation_loss: 0.047157504 | Roc Score: 0.9645208 | Time elapsed: 3:23:28.787269\n",
            "iterations: 1549 | train_loss: 0.056607213 | validation_loss: 0.04699206 | Roc Score: 0.96453345 | Time elapsed: 3:23:36.620580\n",
            "iterations: 1550 | train_loss: 0.06391835 | validation_loss: 0.04687251 | Roc Score: 0.9645468 | Time elapsed: 3:23:44.354632\n",
            "iterations: 1551 | train_loss: 0.07046027 | validation_loss: 0.047050785 | Roc Score: 0.96456003 | Time elapsed: 3:23:52.272695\n",
            "iterations: 1552 | train_loss: 0.042810805 | validation_loss: 0.047700774 | Roc Score: 0.96457297 | Time elapsed: 3:24:00.159384\n",
            "iterations: 1553 | train_loss: 0.049347498 | validation_loss: 0.048047297 | Roc Score: 0.9645861 | Time elapsed: 3:24:08.052132\n",
            "iterations: 1554 | train_loss: 0.050024934 | validation_loss: 0.048093695 | Roc Score: 0.964599 | Time elapsed: 3:24:15.963569\n",
            "iterations: 1555 | train_loss: 0.04523473 | validation_loss: 0.047555864 | Roc Score: 0.9646122 | Time elapsed: 3:24:23.881274\n",
            "iterations: 1556 | train_loss: 0.04673688 | validation_loss: 0.0469418 | Roc Score: 0.9646256 | Time elapsed: 3:24:31.719598\n",
            "iterations: 1557 | train_loss: 0.05229493 | validation_loss: 0.046786167 | Roc Score: 0.96463865 | Time elapsed: 3:24:39.566786\n",
            "iterations: 1558 | train_loss: 0.02568561 | validation_loss: 0.04721666 | Roc Score: 0.96465135 | Time elapsed: 3:24:47.489301\n",
            "iterations: 1559 | train_loss: 0.034720577 | validation_loss: 0.047958504 | Roc Score: 0.96466345 | Time elapsed: 3:24:55.346831\n"
          ],
          "name": "stdout"
        },
        {
          "output_type": "stream",
          "text": [
            "iterations: 1560 | train_loss: 0.038860727 | validation_loss: 0.048833944 | Roc Score: 0.9646742 | Time elapsed: 3:25:03.225354\n",
            "iterations: 1561 | train_loss: 0.043989733 | validation_loss: 0.049158994 | Roc Score: 0.9646846 | Time elapsed: 3:25:11.110053\n",
            "iterations: 1562 | train_loss: 0.033535346 | validation_loss: 0.04950309 | Roc Score: 0.964694 | Time elapsed: 3:25:18.982222\n",
            "iterations: 1563 | train_loss: 0.050323572 | validation_loss: 0.049140934 | Roc Score: 0.9647039 | Time elapsed: 3:25:26.894358\n",
            "iterations: 1564 | train_loss: 0.0621949 | validation_loss: 0.048283346 | Roc Score: 0.9647144 | Time elapsed: 3:25:34.793268\n",
            "iterations: 1565 | train_loss: 0.036990076 | validation_loss: 0.0475789 | Roc Score: 0.96472657 | Time elapsed: 3:25:42.672683\n",
            "iterations: 1566 | train_loss: 0.031140922 | validation_loss: 0.047222424 | Roc Score: 0.96473885 | Time elapsed: 3:25:50.582453\n",
            "iterations: 1567 | train_loss: 0.019579805 | validation_loss: 0.047154102 | Roc Score: 0.9647513 | Time elapsed: 3:25:58.501708\n",
            "iterations: 1568 | train_loss: 0.044519342 | validation_loss: 0.047021154 | Roc Score: 0.9647638 | Time elapsed: 3:26:06.423995\n",
            "iterations: 1569 | train_loss: 0.050772417 | validation_loss: 0.046947896 | Roc Score: 0.9647768 | Time elapsed: 3:26:14.304845\n",
            "iterations: 1570 | train_loss: 0.038712747 | validation_loss: 0.046934173 | Roc Score: 0.9647896 | Time elapsed: 3:26:22.256022\n",
            "iterations: 1571 | train_loss: 0.049448587 | validation_loss: 0.0468839 | Roc Score: 0.9648026 | Time elapsed: 3:26:29.879985\n",
            "iterations: 1572 | train_loss: 0.042357907 | validation_loss: 0.046798453 | Roc Score: 0.96481526 | Time elapsed: 3:26:37.678614\n",
            "iterations: 1573 | train_loss: 0.051699497 | validation_loss: 0.046699967 | Roc Score: 0.9648281 | Time elapsed: 3:26:45.621935\n",
            "iterations: 1574 | train_loss: 0.044336744 | validation_loss: 0.046742678 | Roc Score: 0.9648412 | Time elapsed: 3:26:53.538107\n",
            "iterations: 1575 | train_loss: 0.05204875 | validation_loss: 0.046786264 | Roc Score: 0.96485424 | Time elapsed: 3:27:01.481715\n",
            "iterations: 1576 | train_loss: 0.044707164 | validation_loss: 0.046804134 | Roc Score: 0.9648674 | Time elapsed: 3:27:09.271259\n",
            "iterations: 1577 | train_loss: 0.032854643 | validation_loss: 0.046737075 | Roc Score: 0.9648804 | Time elapsed: 3:27:17.203536\n",
            "iterations: 1578 | train_loss: 0.040665064 | validation_loss: 0.046556428 | Roc Score: 0.96489334 | Time elapsed: 3:27:25.095024\n",
            "iterations: 1579 | train_loss: 0.051511582 | validation_loss: 0.046336435 | Roc Score: 0.9649068 | Time elapsed: 3:27:33.038813\n",
            "iterations: 1580 | train_loss: 0.04189166 | validation_loss: 0.046143197 | Roc Score: 0.9649208 | Time elapsed: 3:27:40.943117\n",
            "iterations: 1581 | train_loss: 0.050210044 | validation_loss: 0.045999125 | Roc Score: 0.96493465 | Time elapsed: 3:27:48.844027\n",
            "iterations: 1582 | train_loss: 0.0459214 | validation_loss: 0.04602128 | Roc Score: 0.9649475 | Time elapsed: 3:27:56.770926\n",
            "iterations: 1583 | train_loss: 0.03285012 | validation_loss: 0.046161544 | Roc Score: 0.9649605 | Time elapsed: 3:28:04.683433\n",
            "iterations: 1584 | train_loss: 0.0339992 | validation_loss: 0.046344385 | Roc Score: 0.96497315 | Time elapsed: 3:28:12.562256\n",
            "iterations: 1585 | train_loss: 0.04454293 | validation_loss: 0.046575382 | Roc Score: 0.9649855 | Time elapsed: 3:28:20.140494\n",
            "iterations: 1586 | train_loss: 0.036609203 | validation_loss: 0.04708553 | Roc Score: 0.9649964 | Time elapsed: 3:28:28.026367\n",
            "iterations: 1587 | train_loss: 0.05168433 | validation_loss: 0.047091626 | Roc Score: 0.965008 | Time elapsed: 3:28:35.932416\n",
            "iterations: 1588 | train_loss: 0.037006702 | validation_loss: 0.046804707 | Roc Score: 0.9650203 | Time elapsed: 3:28:43.794107\n",
            "iterations: 1589 | train_loss: 0.038327258 | validation_loss: 0.04657524 | Roc Score: 0.9650327 | Time elapsed: 3:28:51.688550\n",
            "iterations: 1590 | train_loss: 0.043009654 | validation_loss: 0.046406906 | Roc Score: 0.96504563 | Time elapsed: 3:28:59.605390\n",
            "iterations: 1591 | train_loss: 0.088752314 | validation_loss: 0.046159845 | Roc Score: 0.96505916 | Time elapsed: 3:29:07.529027\n",
            "iterations: 1592 | train_loss: 0.05522686 | validation_loss: 0.04634548 | Roc Score: 0.96507263 | Time elapsed: 3:29:15.482709\n",
            "iterations: 1593 | train_loss: 0.030694544 | validation_loss: 0.046624746 | Roc Score: 0.9650862 | Time elapsed: 3:29:23.409089\n",
            "iterations: 1594 | train_loss: 0.04795608 | validation_loss: 0.04672909 | Roc Score: 0.96509945 | Time elapsed: 3:29:31.282692\n",
            "iterations: 1595 | train_loss: 0.0387821 | validation_loss: 0.04684855 | Roc Score: 0.9651127 | Time elapsed: 3:29:39.201289\n",
            "iterations: 1596 | train_loss: 0.043341734 | validation_loss: 0.046775345 | Roc Score: 0.9651258 | Time elapsed: 3:29:47.155334\n",
            "iterations: 1597 | train_loss: 0.029890906 | validation_loss: 0.04655988 | Roc Score: 0.96513873 | Time elapsed: 3:29:55.073967\n",
            "iterations: 1598 | train_loss: 0.042591516 | validation_loss: 0.0464278 | Roc Score: 0.9651515 | Time elapsed: 3:30:02.978011\n"
          ],
          "name": "stdout"
        },
        {
          "output_type": "stream",
          "text": [
            "iterations: 1599 | train_loss: 0.044536717 | validation_loss: 0.046354532 | Roc Score: 0.96516407 | Time elapsed: 3:30:10.880669\n",
            "iterations: 1600 | train_loss: 0.03119434 | validation_loss: 0.046498206 | Roc Score: 0.96517617 | Time elapsed: 3:30:18.895135\n",
            "iterations: 1601 | train_loss: 0.04219423 | validation_loss: 0.04665791 | Roc Score: 0.965188 | Time elapsed: 3:30:26.799761\n",
            "iterations: 1602 | train_loss: 0.036805037 | validation_loss: 0.04683661 | Roc Score: 0.9651995 | Time elapsed: 3:30:34.787538\n",
            "iterations: 1603 | train_loss: 0.04372351 | validation_loss: 0.047076277 | Roc Score: 0.9652103 | Time elapsed: 3:30:42.662829\n",
            "iterations: 1604 | train_loss: 0.040603906 | validation_loss: 0.047146916 | Roc Score: 0.9652211 | Time elapsed: 3:30:50.610100\n",
            "iterations: 1605 | train_loss: 0.04331929 | validation_loss: 0.04731583 | Roc Score: 0.9652311 | Time elapsed: 3:30:58.496895\n",
            "iterations: 1606 | train_loss: 0.02955198 | validation_loss: 0.047316276 | Roc Score: 0.96524125 | Time elapsed: 3:31:06.421903\n",
            "iterations: 1607 | train_loss: 0.04450586 | validation_loss: 0.04702156 | Roc Score: 0.9652518 | Time elapsed: 3:31:14.332172\n",
            "iterations: 1608 | train_loss: 0.05074762 | validation_loss: 0.046657864 | Roc Score: 0.96526337 | Time elapsed: 3:31:22.190748\n",
            "iterations: 1609 | train_loss: 0.047157504 | validation_loss: 0.046504334 | Roc Score: 0.96527594 | Time elapsed: 3:31:29.874043\n",
            "iterations: 1610 | train_loss: 0.04291418 | validation_loss: 0.046784803 | Roc Score: 0.9652883 | Time elapsed: 3:31:37.807390\n",
            "iterations: 1611 | train_loss: 0.055217367 | validation_loss: 0.047263417 | Roc Score: 0.96530056 | Time elapsed: 3:31:45.692401\n",
            "iterations: 1612 | train_loss: 0.04170754 | validation_loss: 0.047736045 | Roc Score: 0.9653129 | Time elapsed: 3:31:53.606648\n",
            "iterations: 1613 | train_loss: 0.023743225 | validation_loss: 0.047707513 | Roc Score: 0.9653248 | Time elapsed: 3:32:01.513177\n",
            "iterations: 1614 | train_loss: 0.037924755 | validation_loss: 0.047396645 | Roc Score: 0.96533686 | Time elapsed: 3:32:09.429633\n",
            "iterations: 1615 | train_loss: 0.030488616 | validation_loss: 0.047033694 | Roc Score: 0.9653488 | Time elapsed: 3:32:16.880615\n",
            "iterations: 1616 | train_loss: 0.032999307 | validation_loss: 0.046632417 | Roc Score: 0.9653612 | Time elapsed: 3:32:24.790722\n",
            "iterations: 1617 | train_loss: 0.057787552 | validation_loss: 0.046473537 | Roc Score: 0.9653732 | Time elapsed: 3:32:32.720714\n",
            "iterations: 1618 | train_loss: 0.062041815 | validation_loss: 0.04665479 | Roc Score: 0.9653843 | Time elapsed: 3:32:40.253690\n",
            "iterations: 1619 | train_loss: 0.048063032 | validation_loss: 0.046857793 | Roc Score: 0.96539503 | Time elapsed: 3:32:48.158392\n",
            "iterations: 1620 | train_loss: 0.028115451 | validation_loss: 0.0473557 | Roc Score: 0.9654053 | Time elapsed: 3:32:56.069284\n",
            "iterations: 1621 | train_loss: 0.052860703 | validation_loss: 0.047655314 | Roc Score: 0.9654151 | Time elapsed: 3:33:04.002648\n",
            "iterations: 1622 | train_loss: 0.049462616 | validation_loss: 0.047790755 | Roc Score: 0.9654246 | Time elapsed: 3:33:11.877694\n",
            "iterations: 1623 | train_loss: 0.036335967 | validation_loss: 0.047604833 | Roc Score: 0.9654346 | Time elapsed: 3:33:19.755726\n",
            "iterations: 1624 | train_loss: 0.059293505 | validation_loss: 0.047103215 | Roc Score: 0.96544516 | Time elapsed: 3:33:27.664405\n",
            "iterations: 1625 | train_loss: 0.050045192 | validation_loss: 0.04678601 | Roc Score: 0.96545666 | Time elapsed: 3:33:35.558223\n",
            "iterations: 1626 | train_loss: 0.05723718 | validation_loss: 0.04678918 | Roc Score: 0.9654686 | Time elapsed: 3:33:43.507803\n",
            "iterations: 1627 | train_loss: 0.027891159 | validation_loss: 0.046989724 | Roc Score: 0.9654806 | Time elapsed: 3:33:51.449430\n",
            "iterations: 1628 | train_loss: 0.041016858 | validation_loss: 0.04710176 | Roc Score: 0.9654928 | Time elapsed: 3:33:59.410575\n",
            "iterations: 1629 | train_loss: 0.046128493 | validation_loss: 0.046942864 | Roc Score: 0.96550477 | Time elapsed: 3:34:07.289633\n",
            "iterations: 1630 | train_loss: 0.0405221 | validation_loss: 0.046690814 | Roc Score: 0.965517 | Time elapsed: 3:34:15.228657\n",
            "iterations: 1631 | train_loss: 0.03268647 | validation_loss: 0.04657807 | Roc Score: 0.96552896 | Time elapsed: 3:34:23.094510\n",
            "iterations: 1632 | train_loss: 0.041173384 | validation_loss: 0.046572473 | Roc Score: 0.96554047 | Time elapsed: 3:34:31.078189\n",
            "iterations: 1633 | train_loss: 0.040224563 | validation_loss: 0.046703584 | Roc Score: 0.96555156 | Time elapsed: 3:34:39.037286\n",
            "iterations: 1634 | train_loss: 0.034688108 | validation_loss: 0.04693529 | Roc Score: 0.96556246 | Time elapsed: 3:34:46.944169\n",
            "iterations: 1635 | train_loss: 0.050114777 | validation_loss: 0.047111105 | Roc Score: 0.96557313 | Time elapsed: 3:34:54.880719\n",
            "iterations: 1636 | train_loss: 0.034747798 | validation_loss: 0.047272455 | Roc Score: 0.9655827 | Time elapsed: 3:35:02.606200\n",
            "iterations: 1637 | train_loss: 0.035983507 | validation_loss: 0.04748541 | Roc Score: 0.96559215 | Time elapsed: 3:35:10.532018\n"
          ],
          "name": "stdout"
        },
        {
          "output_type": "stream",
          "text": [
            "iterations: 1638 | train_loss: 0.027992906 | validation_loss: 0.04780195 | Roc Score: 0.9656006 | Time elapsed: 3:35:18.391111\n",
            "iterations: 1639 | train_loss: 0.029592155 | validation_loss: 0.04820935 | Roc Score: 0.9656084 | Time elapsed: 3:35:26.340069\n",
            "iterations: 1640 | train_loss: 0.025759127 | validation_loss: 0.04874741 | Roc Score: 0.96561533 | Time elapsed: 3:35:34.251893\n",
            "iterations: 1641 | train_loss: 0.03768818 | validation_loss: 0.049325395 | Roc Score: 0.9656207 | Time elapsed: 3:35:42.238163\n",
            "iterations: 1642 | train_loss: 0.025027616 | validation_loss: 0.04981028 | Roc Score: 0.96562517 | Time elapsed: 3:35:50.215070\n",
            "iterations: 1643 | train_loss: 0.053939432 | validation_loss: 0.049888916 | Roc Score: 0.96562916 | Time elapsed: 3:35:58.087995\n",
            "iterations: 1644 | train_loss: 0.04766396 | validation_loss: 0.049497403 | Roc Score: 0.96563447 | Time elapsed: 3:36:06.041242\n",
            "iterations: 1645 | train_loss: 0.03439796 | validation_loss: 0.049217056 | Roc Score: 0.9656404 | Time elapsed: 3:36:13.905107\n",
            "iterations: 1646 | train_loss: 0.062388152 | validation_loss: 0.04851219 | Roc Score: 0.96564823 | Time elapsed: 3:36:21.836177\n",
            "iterations: 1647 | train_loss: 0.027467066 | validation_loss: 0.048231304 | Roc Score: 0.96565694 | Time elapsed: 3:36:29.733550\n",
            "iterations: 1648 | train_loss: 0.03243411 | validation_loss: 0.048061196 | Roc Score: 0.9656669 | Time elapsed: 3:36:37.623507\n",
            "iterations: 1649 | train_loss: 0.04406023 | validation_loss: 0.047850575 | Roc Score: 0.96567744 | Time elapsed: 3:36:45.530542\n",
            "iterations: 1650 | train_loss: 0.03622789 | validation_loss: 0.0476206 | Roc Score: 0.9656886 | Time elapsed: 3:36:53.523058\n",
            "iterations: 1651 | train_loss: 0.032526597 | validation_loss: 0.047397725 | Roc Score: 0.9656999 | Time elapsed: 3:37:01.447253\n",
            "iterations: 1652 | train_loss: 0.048812613 | validation_loss: 0.047536112 | Roc Score: 0.96571106 | Time elapsed: 3:37:09.325979\n",
            "iterations: 1653 | train_loss: 0.0241974 | validation_loss: 0.047336165 | Roc Score: 0.96572214 | Time elapsed: 3:37:17.252823\n",
            "iterations: 1654 | train_loss: 0.043085262 | validation_loss: 0.04715751 | Roc Score: 0.965733 | Time elapsed: 3:37:25.204740\n",
            "iterations: 1655 | train_loss: 0.03845859 | validation_loss: 0.047084425 | Roc Score: 0.9657438 | Time elapsed: 3:37:33.134561\n",
            "iterations: 1656 | train_loss: 0.03836665 | validation_loss: 0.047249325 | Roc Score: 0.96575385 | Time elapsed: 3:37:41.022181\n",
            "iterations: 1657 | train_loss: 0.040006984 | validation_loss: 0.047581054 | Roc Score: 0.9657632 | Time elapsed: 3:37:48.869388\n",
            "iterations: 1658 | train_loss: 0.054401975 | validation_loss: 0.04778471 | Roc Score: 0.9657722 | Time elapsed: 3:37:56.798056\n",
            "iterations: 1659 | train_loss: 0.035995156 | validation_loss: 0.04807451 | Roc Score: 0.9657803 | Time elapsed: 3:38:04.764682\n",
            "iterations: 1660 | train_loss: 0.061108768 | validation_loss: 0.047941625 | Roc Score: 0.96578866 | Time elapsed: 3:38:12.670237\n",
            "iterations: 1661 | train_loss: 0.03322026 | validation_loss: 0.047877997 | Roc Score: 0.96579736 | Time elapsed: 3:38:20.625073\n",
            "iterations: 1662 | train_loss: 0.04365821 | validation_loss: 0.047806676 | Roc Score: 0.9658062 | Time elapsed: 3:38:28.522672\n",
            "iterations: 1663 | train_loss: 0.037070274 | validation_loss: 0.047794506 | Roc Score: 0.9658158 | Time elapsed: 3:38:36.413405\n",
            "iterations: 1664 | train_loss: 0.040527306 | validation_loss: 0.0479106 | Roc Score: 0.9658254 | Time elapsed: 3:38:44.161016\n",
            "iterations: 1665 | train_loss: 0.045742106 | validation_loss: 0.047928583 | Roc Score: 0.9658349 | Time elapsed: 3:38:51.985730\n",
            "iterations: 1666 | train_loss: 0.05446111 | validation_loss: 0.04784587 | Roc Score: 0.9658445 | Time elapsed: 3:38:59.590582\n",
            "iterations: 1667 | train_loss: 0.043963917 | validation_loss: 0.04777162 | Roc Score: 0.9658544 | Time elapsed: 3:39:07.417956\n",
            "iterations: 1668 | train_loss: 0.055005237 | validation_loss: 0.04769158 | Roc Score: 0.9658647 | Time elapsed: 3:39:15.285199\n",
            "iterations: 1669 | train_loss: 0.043056875 | validation_loss: 0.047626056 | Roc Score: 0.96587485 | Time elapsed: 3:39:23.164749\n",
            "iterations: 1670 | train_loss: 0.041760385 | validation_loss: 0.04760363 | Roc Score: 0.96588564 | Time elapsed: 3:39:31.059946\n",
            "iterations: 1671 | train_loss: 0.034865446 | validation_loss: 0.047480628 | Roc Score: 0.9658965 | Time elapsed: 3:39:38.601679\n",
            "iterations: 1672 | train_loss: 0.058842454 | validation_loss: 0.04734978 | Roc Score: 0.96590716 | Time elapsed: 3:39:46.472187\n",
            "iterations: 1673 | train_loss: 0.031592473 | validation_loss: 0.04721047 | Roc Score: 0.96591794 | Time elapsed: 3:39:54.335685\n",
            "iterations: 1674 | train_loss: 0.03944526 | validation_loss: 0.047162794 | Roc Score: 0.9659287 | Time elapsed: 3:40:02.250376\n",
            "iterations: 1675 | train_loss: 0.044800907 | validation_loss: 0.04723579 | Roc Score: 0.9659393 | Time elapsed: 3:40:10.115070\n",
            "iterations: 1676 | train_loss: 0.042532623 | validation_loss: 0.04739821 | Roc Score: 0.9659496 | Time elapsed: 3:40:18.039802\n"
          ],
          "name": "stdout"
        },
        {
          "output_type": "stream",
          "text": [
            "iterations: 1677 | train_loss: 0.04563223 | validation_loss: 0.04750309 | Roc Score: 0.9659599 | Time elapsed: 3:40:25.931281\n",
            "iterations: 1678 | train_loss: 0.03381103 | validation_loss: 0.047402143 | Roc Score: 0.9659702 | Time elapsed: 3:40:33.882022\n",
            "iterations: 1679 | train_loss: 0.034450788 | validation_loss: 0.047437012 | Roc Score: 0.9659803 | Time elapsed: 3:40:41.811355\n",
            "iterations: 1680 | train_loss: 0.06271531 | validation_loss: 0.047169518 | Roc Score: 0.9659907 | Time elapsed: 3:40:49.724867\n",
            "iterations: 1681 | train_loss: 0.04474616 | validation_loss: 0.046907857 | Roc Score: 0.96600163 | Time elapsed: 3:40:57.655975\n",
            "iterations: 1682 | train_loss: 0.04905886 | validation_loss: 0.04690586 | Roc Score: 0.96601236 | Time elapsed: 3:41:05.564363\n",
            "iterations: 1683 | train_loss: 0.04130584 | validation_loss: 0.047149934 | Roc Score: 0.9660234 | Time elapsed: 3:41:13.242639\n",
            "iterations: 1684 | train_loss: 0.036940243 | validation_loss: 0.047726892 | Roc Score: 0.9660338 | Time elapsed: 3:41:21.151905\n",
            "iterations: 1685 | train_loss: 0.05142672 | validation_loss: 0.048206747 | Roc Score: 0.96604437 | Time elapsed: 3:41:29.055282\n",
            "iterations: 1686 | train_loss: 0.044262096 | validation_loss: 0.048374645 | Roc Score: 0.96605486 | Time elapsed: 3:41:36.997837\n",
            "iterations: 1687 | train_loss: 0.033402476 | validation_loss: 0.0478863 | Roc Score: 0.9660656 | Time elapsed: 3:41:44.908894\n",
            "iterations: 1688 | train_loss: 0.040038638 | validation_loss: 0.047502756 | Roc Score: 0.96607643 | Time elapsed: 3:41:52.819381\n",
            "iterations: 1689 | train_loss: 0.05198128 | validation_loss: 0.047198188 | Roc Score: 0.9660869 | Time elapsed: 3:42:00.737983\n",
            "iterations: 1690 | train_loss: 0.048692524 | validation_loss: 0.04683999 | Roc Score: 0.9660975 | Time elapsed: 3:42:08.665556\n",
            "iterations: 1691 | train_loss: 0.030950673 | validation_loss: 0.046718128 | Roc Score: 0.9661074 | Time elapsed: 3:42:16.547769\n",
            "iterations: 1692 | train_loss: 0.043131318 | validation_loss: 0.046685185 | Roc Score: 0.96611756 | Time elapsed: 3:42:24.476232\n",
            "iterations: 1693 | train_loss: 0.04179674 | validation_loss: 0.046798605 | Roc Score: 0.9661277 | Time elapsed: 3:42:32.411344\n",
            "iterations: 1694 | train_loss: 0.039422024 | validation_loss: 0.047002267 | Roc Score: 0.96613747 | Time elapsed: 3:42:40.322210\n",
            "iterations: 1695 | train_loss: 0.042432845 | validation_loss: 0.047123794 | Roc Score: 0.9661472 | Time elapsed: 3:42:48.237239\n",
            "iterations: 1696 | train_loss: 0.037307974 | validation_loss: 0.046970487 | Roc Score: 0.96615684 | Time elapsed: 3:42:56.203272\n",
            "iterations: 1697 | train_loss: 0.044068307 | validation_loss: 0.046806872 | Roc Score: 0.96616685 | Time elapsed: 3:43:04.155306\n",
            "iterations: 1698 | train_loss: 0.042042572 | validation_loss: 0.04648113 | Roc Score: 0.96617687 | Time elapsed: 3:43:12.033298\n",
            "iterations: 1699 | train_loss: 0.030394582 | validation_loss: 0.046285022 | Roc Score: 0.966187 | Time elapsed: 3:43:19.920258\n",
            "iterations: 1700 | train_loss: 0.029314416 | validation_loss: 0.04622683 | Roc Score: 0.9661973 | Time elapsed: 3:43:27.981421\n",
            "iterations: 1701 | train_loss: 0.044513926 | validation_loss: 0.04636372 | Roc Score: 0.96620804 | Time elapsed: 3:43:35.560143\n",
            "iterations: 1702 | train_loss: 0.046788834 | validation_loss: 0.046646565 | Roc Score: 0.96621877 | Time elapsed: 3:43:43.472317\n",
            "iterations: 1703 | train_loss: 0.044534236 | validation_loss: 0.0471484 | Roc Score: 0.9662295 | Time elapsed: 3:43:51.339022\n",
            "iterations: 1704 | train_loss: 0.046012737 | validation_loss: 0.047428787 | Roc Score: 0.96624017 | Time elapsed: 3:43:59.202792\n",
            "iterations: 1705 | train_loss: 0.046894085 | validation_loss: 0.047427565 | Roc Score: 0.96625066 | Time elapsed: 3:44:07.037944\n",
            "iterations: 1706 | train_loss: 0.042109825 | validation_loss: 0.04739465 | Roc Score: 0.9662614 | Time elapsed: 3:44:14.889718\n",
            "iterations: 1707 | train_loss: 0.060787253 | validation_loss: 0.047276706 | Roc Score: 0.9662721 | Time elapsed: 3:44:22.760490\n",
            "iterations: 1708 | train_loss: 0.052653205 | validation_loss: 0.047195766 | Roc Score: 0.9662828 | Time elapsed: 3:44:30.685563\n",
            "iterations: 1709 | train_loss: 0.045888033 | validation_loss: 0.046609942 | Roc Score: 0.9662937 | Time elapsed: 3:44:38.565733\n",
            "iterations: 1710 | train_loss: 0.025568727 | validation_loss: 0.046022616 | Roc Score: 0.9663049 | Time elapsed: 3:44:46.472729\n",
            "iterations: 1711 | train_loss: 0.026481245 | validation_loss: 0.045665115 | Roc Score: 0.96631634 | Time elapsed: 3:44:54.411024\n",
            "iterations: 1712 | train_loss: 0.043586478 | validation_loss: 0.045661498 | Roc Score: 0.966327 | Time elapsed: 3:45:02.298914\n",
            "iterations: 1713 | train_loss: 0.037827108 | validation_loss: 0.04611346 | Roc Score: 0.96633697 | Time elapsed: 3:45:10.196972\n",
            "iterations: 1714 | train_loss: 0.05045815 | validation_loss: 0.046425264 | Roc Score: 0.96634585 | Time elapsed: 3:45:17.683584\n",
            "iterations: 1715 | train_loss: 0.043493353 | validation_loss: 0.04637185 | Roc Score: 0.9663549 | Time elapsed: 3:45:25.584994\n"
          ],
          "name": "stdout"
        },
        {
          "output_type": "stream",
          "text": [
            "iterations: 1716 | train_loss: 0.04494571 | validation_loss: 0.046071105 | Roc Score: 0.96636444 | Time elapsed: 3:45:33.391634\n",
            "iterations: 1717 | train_loss: 0.024927339 | validation_loss: 0.046035588 | Roc Score: 0.96637416 | Time elapsed: 3:45:41.265953\n",
            "iterations: 1718 | train_loss: 0.039731104 | validation_loss: 0.046045728 | Roc Score: 0.9663843 | Time elapsed: 3:45:49.261413\n",
            "iterations: 1719 | train_loss: 0.03506639 | validation_loss: 0.046149686 | Roc Score: 0.966395 | Time elapsed: 3:45:57.170118\n",
            "iterations: 1720 | train_loss: 0.055405736 | validation_loss: 0.04637522 | Roc Score: 0.9664055 | Time elapsed: 3:46:05.074576\n",
            "iterations: 1721 | train_loss: 0.052892894 | validation_loss: 0.046689447 | Roc Score: 0.9664166 | Time elapsed: 3:46:12.928757\n",
            "iterations: 1722 | train_loss: 0.038432635 | validation_loss: 0.046639368 | Roc Score: 0.9664277 | Time elapsed: 3:46:20.838705\n",
            "iterations: 1723 | train_loss: 0.036309864 | validation_loss: 0.04656094 | Roc Score: 0.966439 | Time elapsed: 3:46:28.786699\n",
            "iterations: 1724 | train_loss: 0.034826133 | validation_loss: 0.046412505 | Roc Score: 0.9664496 | Time elapsed: 3:46:36.716451\n",
            "iterations: 1725 | train_loss: 0.049010742 | validation_loss: 0.046542417 | Roc Score: 0.96645933 | Time elapsed: 3:46:44.637174\n",
            "iterations: 1726 | train_loss: 0.046015173 | validation_loss: 0.046582222 | Roc Score: 0.96646845 | Time elapsed: 3:46:52.656830\n",
            "iterations: 1727 | train_loss: 0.04398694 | validation_loss: 0.046617083 | Roc Score: 0.9664775 | Time elapsed: 3:47:00.166816\n",
            "iterations: 1728 | train_loss: 0.026211083 | validation_loss: 0.046691116 | Roc Score: 0.96648633 | Time elapsed: 3:47:08.122947\n",
            "iterations: 1729 | train_loss: 0.02073933 | validation_loss: 0.046865106 | Roc Score: 0.9664946 | Time elapsed: 3:47:16.083394\n",
            "iterations: 1730 | train_loss: 0.030990776 | validation_loss: 0.047044754 | Roc Score: 0.96650285 | Time elapsed: 3:47:23.982640\n",
            "iterations: 1731 | train_loss: 0.041405864 | validation_loss: 0.04715534 | Roc Score: 0.9665112 | Time elapsed: 3:47:31.929196\n",
            "iterations: 1732 | train_loss: 0.031788602 | validation_loss: 0.047255043 | Roc Score: 0.96651953 | Time elapsed: 3:47:39.845304\n",
            "iterations: 1733 | train_loss: 0.044796042 | validation_loss: 0.047121614 | Roc Score: 0.96652806 | Time elapsed: 3:47:47.738398\n",
            "iterations: 1734 | train_loss: 0.027498974 | validation_loss: 0.047096256 | Roc Score: 0.966537 | Time elapsed: 3:47:55.076072\n",
            "iterations: 1735 | train_loss: 0.041046105 | validation_loss: 0.047060646 | Roc Score: 0.966546 | Time elapsed: 3:48:02.895710\n",
            "iterations: 1736 | train_loss: 0.035256162 | validation_loss: 0.04699813 | Roc Score: 0.9665558 | Time elapsed: 3:48:10.798526\n",
            "iterations: 1737 | train_loss: 0.050080728 | validation_loss: 0.04689332 | Roc Score: 0.96656567 | Time elapsed: 3:48:18.641854\n",
            "iterations: 1738 | train_loss: 0.037564658 | validation_loss: 0.046864025 | Roc Score: 0.96657604 | Time elapsed: 3:48:26.565601\n",
            "iterations: 1739 | train_loss: 0.029382594 | validation_loss: 0.046914965 | Roc Score: 0.9665863 | Time elapsed: 3:48:34.491228\n",
            "iterations: 1740 | train_loss: 0.040921506 | validation_loss: 0.046998836 | Roc Score: 0.96659696 | Time elapsed: 3:48:42.392003\n",
            "iterations: 1741 | train_loss: 0.050924946 | validation_loss: 0.046841327 | Roc Score: 0.9666074 | Time elapsed: 3:48:50.489455\n",
            "iterations: 1742 | train_loss: 0.037568256 | validation_loss: 0.046493206 | Roc Score: 0.9666175 | Time elapsed: 3:48:58.426864\n",
            "iterations: 1743 | train_loss: 0.043706037 | validation_loss: 0.046398457 | Roc Score: 0.9666274 | Time elapsed: 3:49:06.325509\n",
            "iterations: 1744 | train_loss: 0.042086724 | validation_loss: 0.046646923 | Roc Score: 0.9666366 | Time elapsed: 3:49:14.242062\n",
            "iterations: 1745 | train_loss: 0.04360997 | validation_loss: 0.047013078 | Roc Score: 0.9666449 | Time elapsed: 3:49:22.182079\n",
            "iterations: 1746 | train_loss: 0.049333207 | validation_loss: 0.046746477 | Roc Score: 0.9666538 | Time elapsed: 3:49:29.938763\n",
            "iterations: 1747 | train_loss: 0.037713584 | validation_loss: 0.046474792 | Roc Score: 0.9666631 | Time elapsed: 3:49:37.868559\n",
            "iterations: 1748 | train_loss: 0.048289184 | validation_loss: 0.046207625 | Roc Score: 0.9666725 | Time elapsed: 3:49:45.796913\n",
            "iterations: 1749 | train_loss: 0.059262592 | validation_loss: 0.046140846 | Roc Score: 0.96668243 | Time elapsed: 3:49:53.737780\n",
            "iterations: 1750 | train_loss: 0.05310323 | validation_loss: 0.046453815 | Roc Score: 0.9666932 | Time elapsed: 3:50:01.625584\n",
            "iterations: 1751 | train_loss: 0.05380499 | validation_loss: 0.046925157 | Roc Score: 0.96670383 | Time elapsed: 3:50:09.488208\n",
            "iterations: 1752 | train_loss: 0.04569387 | validation_loss: 0.047374483 | Roc Score: 0.9667145 | Time elapsed: 3:50:17.245817\n",
            "iterations: 1753 | train_loss: 0.042931393 | validation_loss: 0.04758167 | Roc Score: 0.9667248 | Time elapsed: 3:50:25.150288\n",
            "iterations: 1754 | train_loss: 0.050087985 | validation_loss: 0.04752835 | Roc Score: 0.9667353 | Time elapsed: 3:50:32.609093\n"
          ],
          "name": "stdout"
        },
        {
          "output_type": "stream",
          "text": [
            "iterations: 1755 | train_loss: 0.044858627 | validation_loss: 0.04726792 | Roc Score: 0.96674585 | Time elapsed: 3:50:40.549481\n",
            "iterations: 1756 | train_loss: 0.04807897 | validation_loss: 0.046847664 | Roc Score: 0.96675617 | Time elapsed: 3:50:48.516782\n",
            "iterations: 1757 | train_loss: 0.055145424 | validation_loss: 0.046896756 | Roc Score: 0.96676594 | Time elapsed: 3:50:56.450937\n",
            "iterations: 1758 | train_loss: 0.03258246 | validation_loss: 0.04680366 | Roc Score: 0.9667758 | Time elapsed: 3:51:04.368219\n",
            "iterations: 1759 | train_loss: 0.048504326 | validation_loss: 0.046816535 | Roc Score: 0.9667855 | Time elapsed: 3:51:12.225586\n",
            "iterations: 1760 | train_loss: 0.0318374 | validation_loss: 0.046929676 | Roc Score: 0.96679455 | Time elapsed: 3:51:20.163046\n",
            "iterations: 1761 | train_loss: 0.031323224 | validation_loss: 0.047194246 | Roc Score: 0.9668033 | Time elapsed: 3:51:28.105997\n",
            "iterations: 1762 | train_loss: 0.05285012 | validation_loss: 0.04744185 | Roc Score: 0.9668115 | Time elapsed: 3:51:35.948128\n",
            "iterations: 1763 | train_loss: 0.03885963 | validation_loss: 0.04752099 | Roc Score: 0.9668192 | Time elapsed: 3:51:43.856037\n",
            "iterations: 1764 | train_loss: 0.037483156 | validation_loss: 0.047572933 | Roc Score: 0.9668268 | Time elapsed: 3:51:51.863604\n",
            "iterations: 1765 | train_loss: 0.032860726 | validation_loss: 0.047705337 | Roc Score: 0.96683383 | Time elapsed: 3:51:59.762679\n",
            "iterations: 1766 | train_loss: 0.03911818 | validation_loss: 0.047778837 | Roc Score: 0.9668411 | Time elapsed: 3:52:07.694545\n",
            "iterations: 1767 | train_loss: 0.050778374 | validation_loss: 0.047820173 | Roc Score: 0.9668482 | Time elapsed: 3:52:15.487031\n",
            "iterations: 1768 | train_loss: 0.0484257 | validation_loss: 0.04769531 | Roc Score: 0.9668553 | Time elapsed: 3:52:23.432178\n",
            "iterations: 1769 | train_loss: 0.045907833 | validation_loss: 0.047550984 | Roc Score: 0.9668627 | Time elapsed: 3:52:31.285913\n",
            "iterations: 1770 | train_loss: 0.039879397 | validation_loss: 0.04730262 | Roc Score: 0.9668712 | Time elapsed: 3:52:39.234071\n",
            "iterations: 1771 | train_loss: 0.026418267 | validation_loss: 0.04717854 | Roc Score: 0.96687984 | Time elapsed: 3:52:47.134295\n",
            "iterations: 1772 | train_loss: 0.025517475 | validation_loss: 0.047260668 | Roc Score: 0.9668882 | Time elapsed: 3:52:55.056194\n",
            "iterations: 1773 | train_loss: 0.0251331 | validation_loss: 0.04743921 | Roc Score: 0.9668966 | Time elapsed: 3:53:02.930576\n",
            "iterations: 1774 | train_loss: 0.04875533 | validation_loss: 0.0473617 | Roc Score: 0.9669052 | Time elapsed: 3:53:10.805519\n",
            "iterations: 1775 | train_loss: 0.06232015 | validation_loss: 0.047036976 | Roc Score: 0.96691406 | Time elapsed: 3:53:18.722426\n",
            "iterations: 1776 | train_loss: 0.054657925 | validation_loss: 0.04658721 | Roc Score: 0.96692336 | Time elapsed: 3:53:26.658483\n",
            "iterations: 1777 | train_loss: 0.03180232 | validation_loss: 0.046286777 | Roc Score: 0.96693313 | Time elapsed: 3:53:34.476001\n",
            "iterations: 1778 | train_loss: 0.030019496 | validation_loss: 0.046114556 | Roc Score: 0.96694326 | Time elapsed: 3:53:42.465707\n",
            "iterations: 1779 | train_loss: 0.03791842 | validation_loss: 0.046075076 | Roc Score: 0.96695375 | Time elapsed: 3:53:50.396569\n",
            "iterations: 1780 | train_loss: 0.03313858 | validation_loss: 0.046170123 | Roc Score: 0.966964 | Time elapsed: 3:53:58.462595\n",
            "iterations: 1781 | train_loss: 0.042501368 | validation_loss: 0.046297885 | Roc Score: 0.9669741 | Time elapsed: 3:54:06.361251\n",
            "iterations: 1782 | train_loss: 0.049845655 | validation_loss: 0.046470992 | Roc Score: 0.9669842 | Time elapsed: 3:54:14.213413\n",
            "iterations: 1783 | train_loss: 0.031526424 | validation_loss: 0.04666449 | Roc Score: 0.9669938 | Time elapsed: 3:54:22.073251\n",
            "iterations: 1784 | train_loss: 0.04392408 | validation_loss: 0.04687828 | Roc Score: 0.9670024 | Time elapsed: 3:54:29.951203\n",
            "iterations: 1785 | train_loss: 0.050425053 | validation_loss: 0.047186505 | Roc Score: 0.96701044 | Time elapsed: 3:54:37.846367\n",
            "iterations: 1786 | train_loss: 0.0431888 | validation_loss: 0.047440156 | Roc Score: 0.9670183 | Time elapsed: 3:54:45.737090\n",
            "iterations: 1787 | train_loss: 0.03322938 | validation_loss: 0.047554787 | Roc Score: 0.9670261 | Time elapsed: 3:54:53.648756\n",
            "iterations: 1788 | train_loss: 0.025231589 | validation_loss: 0.04784907 | Roc Score: 0.9670329 | Time elapsed: 3:55:01.513770\n",
            "iterations: 1789 | train_loss: 0.03829137 | validation_loss: 0.048094552 | Roc Score: 0.9670396 | Time elapsed: 3:55:09.373130\n",
            "iterations: 1790 | train_loss: 0.040635433 | validation_loss: 0.048243485 | Roc Score: 0.9670458 | Time elapsed: 3:55:17.248558\n",
            "iterations: 1791 | train_loss: 0.046174534 | validation_loss: 0.04818021 | Roc Score: 0.96705204 | Time elapsed: 3:55:25.244526\n",
            "iterations: 1792 | train_loss: 0.04316046 | validation_loss: 0.04808576 | Roc Score: 0.9670591 | Time elapsed: 3:55:33.166052\n",
            "iterations: 1793 | train_loss: 0.047552172 | validation_loss: 0.048250668 | Roc Score: 0.96706647 | Time elapsed: 3:55:41.051364\n"
          ],
          "name": "stdout"
        },
        {
          "output_type": "stream",
          "text": [
            "iterations: 1794 | train_loss: 0.025777437 | validation_loss: 0.04854003 | Roc Score: 0.967073 | Time elapsed: 3:55:49.061550\n",
            "iterations: 1795 | train_loss: 0.047009766 | validation_loss: 0.048591506 | Roc Score: 0.96707994 | Time elapsed: 3:55:56.987932\n",
            "iterations: 1796 | train_loss: 0.023824334 | validation_loss: 0.048650257 | Roc Score: 0.967087 | Time elapsed: 3:56:04.860834\n",
            "iterations: 1797 | train_loss: 0.04358696 | validation_loss: 0.04870394 | Roc Score: 0.96709436 | Time elapsed: 3:56:12.717748\n",
            "iterations: 1798 | train_loss: 0.0426645 | validation_loss: 0.048653167 | Roc Score: 0.96710175 | Time elapsed: 3:56:20.634550\n",
            "iterations: 1799 | train_loss: 0.041539833 | validation_loss: 0.048403822 | Roc Score: 0.9671092 | Time elapsed: 3:56:28.558805\n",
            "iterations: 1800 | train_loss: 0.038112152 | validation_loss: 0.048157915 | Roc Score: 0.96711653 | Time elapsed: 3:56:36.443027\n",
            "iterations: 1801 | train_loss: 0.0414641 | validation_loss: 0.047795124 | Roc Score: 0.9671239 | Time elapsed: 3:56:44.421325\n",
            "iterations: 1802 | train_loss: 0.043609846 | validation_loss: 0.04752529 | Roc Score: 0.9671315 | Time elapsed: 3:56:52.351563\n",
            "iterations: 1803 | train_loss: 0.058505636 | validation_loss: 0.04729258 | Roc Score: 0.96713924 | Time elapsed: 3:57:00.308748\n",
            "iterations: 1804 | train_loss: 0.036083236 | validation_loss: 0.04679308 | Roc Score: 0.96714705 | Time elapsed: 3:57:08.220381\n",
            "iterations: 1805 | train_loss: 0.03968055 | validation_loss: 0.046248898 | Roc Score: 0.9671559 | Time elapsed: 3:57:16.145392\n",
            "iterations: 1806 | train_loss: 0.033682246 | validation_loss: 0.045966655 | Roc Score: 0.9671652 | Time elapsed: 3:57:24.059088\n",
            "iterations: 1807 | train_loss: 0.03531409 | validation_loss: 0.04577249 | Roc Score: 0.96717477 | Time elapsed: 3:57:31.959374\n",
            "iterations: 1808 | train_loss: 0.04268244 | validation_loss: 0.04568894 | Roc Score: 0.9671847 | Time elapsed: 3:57:39.899647\n",
            "iterations: 1809 | train_loss: 0.046703648 | validation_loss: 0.045803733 | Roc Score: 0.9671949 | Time elapsed: 3:57:47.710656\n",
            "iterations: 1810 | train_loss: 0.047323585 | validation_loss: 0.045889877 | Roc Score: 0.9672052 | Time elapsed: 3:57:55.613492\n",
            "iterations: 1811 | train_loss: 0.03523854 | validation_loss: 0.04610651 | Roc Score: 0.9672156 | Time elapsed: 3:58:03.507913\n",
            "iterations: 1812 | train_loss: 0.046080478 | validation_loss: 0.046228744 | Roc Score: 0.9672262 | Time elapsed: 3:58:11.408776\n",
            "iterations: 1813 | train_loss: 0.033543076 | validation_loss: 0.046424404 | Roc Score: 0.96723664 | Time elapsed: 3:58:19.285910\n",
            "iterations: 1814 | train_loss: 0.038370464 | validation_loss: 0.04641368 | Roc Score: 0.9672469 | Time elapsed: 3:58:27.153867\n",
            "iterations: 1815 | train_loss: 0.03767395 | validation_loss: 0.046291966 | Roc Score: 0.9672572 | Time elapsed: 3:58:35.068727\n",
            "iterations: 1816 | train_loss: 0.048312735 | validation_loss: 0.04624379 | Roc Score: 0.9672672 | Time elapsed: 3:58:42.997848\n",
            "iterations: 1817 | train_loss: 0.038042452 | validation_loss: 0.046279214 | Roc Score: 0.9672766 | Time elapsed: 3:58:50.949113\n",
            "iterations: 1818 | train_loss: 0.04783359 | validation_loss: 0.04617334 | Roc Score: 0.96728617 | Time elapsed: 3:58:58.858672\n",
            "iterations: 1819 | train_loss: 0.054194074 | validation_loss: 0.046005905 | Roc Score: 0.9672953 | Time elapsed: 3:59:06.781883\n",
            "iterations: 1820 | train_loss: 0.043427017 | validation_loss: 0.045786634 | Roc Score: 0.9673048 | Time elapsed: 3:59:14.668740\n",
            "iterations: 1821 | train_loss: 0.055834103 | validation_loss: 0.04564727 | Roc Score: 0.967315 | Time elapsed: 3:59:22.608520\n",
            "iterations: 1822 | train_loss: 0.03080218 | validation_loss: 0.045711197 | Roc Score: 0.96732503 | Time elapsed: 3:59:30.493974\n",
            "iterations: 1823 | train_loss: 0.046665438 | validation_loss: 0.045795422 | Roc Score: 0.967335 | Time elapsed: 3:59:38.388645\n",
            "iterations: 1824 | train_loss: 0.043934688 | validation_loss: 0.045812547 | Roc Score: 0.96734476 | Time elapsed: 3:59:46.228635\n",
            "iterations: 1825 | train_loss: 0.04294708 | validation_loss: 0.04565996 | Roc Score: 0.9673544 | Time elapsed: 3:59:54.155897\n",
            "iterations: 1826 | train_loss: 0.039269827 | validation_loss: 0.045494992 | Roc Score: 0.9673644 | Time elapsed: 4:00:02.011633\n",
            "iterations: 1827 | train_loss: 0.03657102 | validation_loss: 0.045447666 | Roc Score: 0.9673743 | Time elapsed: 4:00:09.869941\n",
            "iterations: 1828 | train_loss: 0.04745538 | validation_loss: 0.04540641 | Roc Score: 0.96738404 | Time elapsed: 4:00:17.590343\n",
            "iterations: 1829 | train_loss: 0.03521084 | validation_loss: 0.045413256 | Roc Score: 0.9673938 | Time elapsed: 4:00:25.417332\n",
            "iterations: 1830 | train_loss: 0.036781505 | validation_loss: 0.04552641 | Roc Score: 0.96740294 | Time elapsed: 4:00:33.278671\n",
            "iterations: 1831 | train_loss: 0.037651308 | validation_loss: 0.045793578 | Roc Score: 0.9674111 | Time elapsed: 4:00:41.190712\n",
            "iterations: 1832 | train_loss: 0.038955767 | validation_loss: 0.046321876 | Roc Score: 0.96741784 | Time elapsed: 4:00:48.574309\n"
          ],
          "name": "stdout"
        },
        {
          "output_type": "stream",
          "text": [
            "iterations: 1833 | train_loss: 0.032996643 | validation_loss: 0.046769682 | Roc Score: 0.96742415 | Time elapsed: 4:00:56.503548\n",
            "iterations: 1834 | train_loss: 0.05495194 | validation_loss: 0.046908364 | Roc Score: 0.96743 | Time elapsed: 4:01:04.397271\n",
            "iterations: 1835 | train_loss: 0.040374238 | validation_loss: 0.047049902 | Roc Score: 0.9674355 | Time elapsed: 4:01:12.282099\n",
            "iterations: 1836 | train_loss: 0.048773497 | validation_loss: 0.04695921 | Roc Score: 0.9674418 | Time elapsed: 4:01:20.177759\n",
            "iterations: 1837 | train_loss: 0.038099907 | validation_loss: 0.046879597 | Roc Score: 0.9674485 | Time elapsed: 4:01:28.083488\n",
            "iterations: 1838 | train_loss: 0.033661935 | validation_loss: 0.04697483 | Roc Score: 0.96745545 | Time elapsed: 4:01:36.007064\n",
            "iterations: 1839 | train_loss: 0.036586873 | validation_loss: 0.047282055 | Roc Score: 0.96746236 | Time elapsed: 4:01:43.919391\n",
            "iterations: 1840 | train_loss: 0.027967695 | validation_loss: 0.047619924 | Roc Score: 0.9674691 | Time elapsed: 4:01:51.845956\n",
            "iterations: 1841 | train_loss: 0.05329706 | validation_loss: 0.04783769 | Roc Score: 0.96747565 | Time elapsed: 4:01:59.587511\n",
            "iterations: 1842 | train_loss: 0.038725432 | validation_loss: 0.0481537 | Roc Score: 0.96748173 | Time elapsed: 4:02:07.451386\n",
            "iterations: 1843 | train_loss: 0.03854304 | validation_loss: 0.048478458 | Roc Score: 0.9674876 | Time elapsed: 4:02:15.354720\n",
            "iterations: 1844 | train_loss: 0.034902506 | validation_loss: 0.048913363 | Roc Score: 0.9674925 | Time elapsed: 4:02:23.225909\n",
            "iterations: 1845 | train_loss: 0.021976791 | validation_loss: 0.04949473 | Roc Score: 0.9674969 | Time elapsed: 4:02:31.241909\n",
            "iterations: 1846 | train_loss: 0.042252008 | validation_loss: 0.04992066 | Roc Score: 0.9675 | Time elapsed: 4:02:39.109087\n",
            "iterations: 1847 | train_loss: 0.03662573 | validation_loss: 0.049745563 | Roc Score: 0.9675034 | Time elapsed: 4:02:46.974026\n",
            "iterations: 1848 | train_loss: 0.030078122 | validation_loss: 0.04973958 | Roc Score: 0.9675069 | Time elapsed: 4:02:54.846497\n",
            "iterations: 1849 | train_loss: 0.037073378 | validation_loss: 0.049820546 | Roc Score: 0.9675099 | Time elapsed: 4:03:02.778655\n",
            "iterations: 1850 | train_loss: 0.051088814 | validation_loss: 0.049160544 | Roc Score: 0.96751404 | Time elapsed: 4:03:10.667841\n",
            "iterations: 1851 | train_loss: 0.03856039 | validation_loss: 0.048153616 | Roc Score: 0.9675191 | Time elapsed: 4:03:18.545741\n",
            "iterations: 1852 | train_loss: 0.055732843 | validation_loss: 0.04747843 | Roc Score: 0.9675258 | Time elapsed: 4:03:26.420087\n",
            "iterations: 1853 | train_loss: 0.033408966 | validation_loss: 0.047546443 | Roc Score: 0.9675339 | Time elapsed: 4:03:34.352944\n",
            "iterations: 1854 | train_loss: 0.04154525 | validation_loss: 0.047803186 | Roc Score: 0.9675421 | Time elapsed: 4:03:42.238337\n",
            "iterations: 1855 | train_loss: 0.02784922 | validation_loss: 0.047925554 | Roc Score: 0.96755004 | Time elapsed: 4:03:49.829654\n",
            "iterations: 1856 | train_loss: 0.041559976 | validation_loss: 0.04809151 | Roc Score: 0.9675584 | Time elapsed: 4:03:57.801747\n",
            "iterations: 1857 | train_loss: 0.025103861 | validation_loss: 0.047831155 | Roc Score: 0.9675663 | Time elapsed: 4:04:05.742220\n",
            "iterations: 1858 | train_loss: 0.048240364 | validation_loss: 0.047458716 | Roc Score: 0.9675746 | Time elapsed: 4:04:13.792947\n",
            "iterations: 1859 | train_loss: 0.039807484 | validation_loss: 0.047360335 | Roc Score: 0.9675829 | Time elapsed: 4:04:21.658434\n",
            "iterations: 1860 | train_loss: 0.033157706 | validation_loss: 0.047488905 | Roc Score: 0.9675896 | Time elapsed: 4:04:29.587955\n",
            "iterations: 1861 | train_loss: 0.039048474 | validation_loss: 0.04792524 | Roc Score: 0.96759564 | Time elapsed: 4:04:37.526337\n",
            "iterations: 1862 | train_loss: 0.044854306 | validation_loss: 0.048336 | Roc Score: 0.96760076 | Time elapsed: 4:04:45.398672\n",
            "iterations: 1863 | train_loss: 0.04904958 | validation_loss: 0.04859854 | Roc Score: 0.9676053 | Time elapsed: 4:04:53.293498\n",
            "iterations: 1864 | train_loss: 0.05378991 | validation_loss: 0.04819182 | Roc Score: 0.9676107 | Time elapsed: 4:05:01.156261\n",
            "iterations: 1865 | train_loss: 0.039235983 | validation_loss: 0.047714293 | Roc Score: 0.9676167 | Time elapsed: 4:05:09.046552\n",
            "iterations: 1866 | train_loss: 0.044942617 | validation_loss: 0.047205422 | Roc Score: 0.9676237 | Time elapsed: 4:05:16.957224\n",
            "iterations: 1867 | train_loss: 0.03179467 | validation_loss: 0.046926815 | Roc Score: 0.96763146 | Time elapsed: 4:05:24.809615\n",
            "iterations: 1868 | train_loss: 0.033206496 | validation_loss: 0.046719953 | Roc Score: 0.96763957 | Time elapsed: 4:05:32.753398\n",
            "iterations: 1869 | train_loss: 0.045229968 | validation_loss: 0.046524502 | Roc Score: 0.96764797 | Time elapsed: 4:05:40.663767\n",
            "iterations: 1870 | train_loss: 0.03949615 | validation_loss: 0.046404876 | Roc Score: 0.9676566 | Time elapsed: 4:05:48.605760\n",
            "iterations: 1871 | train_loss: 0.049145393 | validation_loss: 0.04628763 | Roc Score: 0.967665 | Time elapsed: 4:05:56.505151\n"
          ],
          "name": "stdout"
        },
        {
          "output_type": "stream",
          "text": [
            "iterations: 1872 | train_loss: 0.04749663 | validation_loss: 0.046189368 | Roc Score: 0.9676737 | Time elapsed: 4:06:04.413883\n",
            "iterations: 1873 | train_loss: 0.033802986 | validation_loss: 0.046062447 | Roc Score: 0.9676823 | Time elapsed: 4:06:12.316888\n",
            "iterations: 1874 | train_loss: 0.035295602 | validation_loss: 0.04603116 | Roc Score: 0.96769077 | Time elapsed: 4:06:20.243701\n",
            "iterations: 1875 | train_loss: 0.04303143 | validation_loss: 0.046161573 | Roc Score: 0.9676988 | Time elapsed: 4:06:27.730543\n",
            "iterations: 1876 | train_loss: 0.050958145 | validation_loss: 0.04627838 | Roc Score: 0.967707 | Time elapsed: 4:06:35.391181\n",
            "iterations: 1877 | train_loss: 0.033148624 | validation_loss: 0.046332248 | Roc Score: 0.96771497 | Time elapsed: 4:06:43.317092\n",
            "iterations: 1878 | train_loss: 0.030562319 | validation_loss: 0.046498626 | Roc Score: 0.96772313 | Time elapsed: 4:06:51.285505\n",
            "iterations: 1879 | train_loss: 0.030984402 | validation_loss: 0.046718314 | Roc Score: 0.9677307 | Time elapsed: 4:06:59.239878\n",
            "iterations: 1880 | train_loss: 0.03159112 | validation_loss: 0.046980534 | Roc Score: 0.9677374 | Time elapsed: 4:07:07.151304\n",
            "iterations: 1881 | train_loss: 0.04149113 | validation_loss: 0.04721194 | Roc Score: 0.9677433 | Time elapsed: 4:07:15.040260\n",
            "iterations: 1882 | train_loss: 0.04357226 | validation_loss: 0.047390044 | Roc Score: 0.96774924 | Time elapsed: 4:07:22.923442\n",
            "iterations: 1883 | train_loss: 0.04995061 | validation_loss: 0.047535338 | Roc Score: 0.9677553 | Time elapsed: 4:07:30.889933\n",
            "iterations: 1884 | train_loss: 0.033976577 | validation_loss: 0.047821462 | Roc Score: 0.9677617 | Time elapsed: 4:07:38.795073\n",
            "iterations: 1885 | train_loss: 0.058584988 | validation_loss: 0.04802662 | Roc Score: 0.96776754 | Time elapsed: 4:07:46.770222\n",
            "iterations: 1886 | train_loss: 0.051775653 | validation_loss: 0.04804232 | Roc Score: 0.96777356 | Time elapsed: 4:07:54.441557\n",
            "iterations: 1887 | train_loss: 0.04375869 | validation_loss: 0.04789136 | Roc Score: 0.9677794 | Time elapsed: 4:08:02.334587\n",
            "iterations: 1888 | train_loss: 0.04043814 | validation_loss: 0.047580242 | Roc Score: 0.9677852 | Time elapsed: 4:08:10.284103\n",
            "iterations: 1889 | train_loss: 0.024136918 | validation_loss: 0.047559623 | Roc Score: 0.96779037 | Time elapsed: 4:08:18.123603\n",
            "iterations: 1890 | train_loss: 0.019277839 | validation_loss: 0.047815546 | Roc Score: 0.967795 | Time elapsed: 4:08:26.052980\n",
            "iterations: 1891 | train_loss: 0.045659054 | validation_loss: 0.047957096 | Roc Score: 0.96779954 | Time elapsed: 4:08:33.946924\n",
            "iterations: 1892 | train_loss: 0.031731993 | validation_loss: 0.048479117 | Roc Score: 0.96780366 | Time elapsed: 4:08:41.826349\n",
            "iterations: 1893 | train_loss: 0.047061518 | validation_loss: 0.048421618 | Roc Score: 0.9678078 | Time elapsed: 4:08:49.748740\n",
            "iterations: 1894 | train_loss: 0.042186964 | validation_loss: 0.048159435 | Roc Score: 0.9678121 | Time elapsed: 4:08:57.438873\n",
            "iterations: 1895 | train_loss: 0.04624538 | validation_loss: 0.04776157 | Roc Score: 0.9678172 | Time elapsed: 4:09:05.344991\n",
            "iterations: 1896 | train_loss: 0.030892042 | validation_loss: 0.04740634 | Roc Score: 0.9678224 | Time elapsed: 4:09:13.223825\n",
            "iterations: 1897 | train_loss: 0.035271477 | validation_loss: 0.04703322 | Roc Score: 0.967828 | Time elapsed: 4:09:21.353264\n",
            "iterations: 1898 | train_loss: 0.034591764 | validation_loss: 0.04693066 | Roc Score: 0.9678339 | Time elapsed: 4:09:29.301873\n",
            "iterations: 1899 | train_loss: 0.043387894 | validation_loss: 0.04704658 | Roc Score: 0.96783966 | Time elapsed: 4:09:37.210260\n",
            "iterations: 1900 | train_loss: 0.04070147 | validation_loss: 0.047239203 | Roc Score: 0.96784526 | Time elapsed: 4:09:45.098717\n",
            "iterations: 1901 | train_loss: 0.03783976 | validation_loss: 0.047410395 | Roc Score: 0.967851 | Time elapsed: 4:09:52.906368\n",
            "iterations: 1902 | train_loss: 0.03542576 | validation_loss: 0.047660984 | Roc Score: 0.9678571 | Time elapsed: 4:10:00.698245\n",
            "iterations: 1903 | train_loss: 0.056908634 | validation_loss: 0.047921617 | Roc Score: 0.9678636 | Time elapsed: 4:10:08.608841\n",
            "iterations: 1904 | train_loss: 0.023780715 | validation_loss: 0.048115294 | Roc Score: 0.96787 | Time elapsed: 4:10:16.550430\n",
            "iterations: 1905 | train_loss: 0.035222042 | validation_loss: 0.048124325 | Roc Score: 0.96787554 | Time elapsed: 4:10:24.495180\n",
            "iterations: 1906 | train_loss: 0.038355634 | validation_loss: 0.047982045 | Roc Score: 0.96788096 | Time elapsed: 4:10:32.437593\n",
            "iterations: 1907 | train_loss: 0.028902527 | validation_loss: 0.048269078 | Roc Score: 0.9678855 | Time elapsed: 4:10:40.368367\n",
            "iterations: 1908 | train_loss: 0.021595402 | validation_loss: 0.048950296 | Roc Score: 0.9678893 | Time elapsed: 4:10:48.310483\n",
            "iterations: 1909 | train_loss: 0.033055726 | validation_loss: 0.04991499 | Roc Score: 0.9678918 | Time elapsed: 4:10:56.209286\n",
            "iterations: 1910 | train_loss: 0.04681968 | validation_loss: 0.05095086 | Roc Score: 0.9678932 | Time elapsed: 4:11:04.089396\n"
          ],
          "name": "stdout"
        },
        {
          "output_type": "stream",
          "text": [
            "iterations: 1911 | train_loss: 0.056327775 | validation_loss: 0.05096419 | Roc Score: 0.9678947 | Time elapsed: 4:11:11.952078\n",
            "iterations: 1912 | train_loss: 0.029938027 | validation_loss: 0.05087106 | Roc Score: 0.9678962 | Time elapsed: 4:11:19.874610\n",
            "iterations: 1913 | train_loss: 0.04472663 | validation_loss: 0.050109018 | Roc Score: 0.96789914 | Time elapsed: 4:11:27.822041\n",
            "iterations: 1914 | train_loss: 0.036974467 | validation_loss: 0.049177047 | Roc Score: 0.9679027 | Time elapsed: 4:11:35.759510\n",
            "iterations: 1915 | train_loss: 0.024005182 | validation_loss: 0.048593998 | Roc Score: 0.9679077 | Time elapsed: 4:11:43.591986\n",
            "iterations: 1916 | train_loss: 0.05828771 | validation_loss: 0.0480998 | Roc Score: 0.96791387 | Time elapsed: 4:11:51.509083\n",
            "iterations: 1917 | train_loss: 0.0354046 | validation_loss: 0.048432715 | Roc Score: 0.96792114 | Time elapsed: 4:11:59.433707\n",
            "iterations: 1918 | train_loss: 0.045558978 | validation_loss: 0.048961747 | Roc Score: 0.96792895 | Time elapsed: 4:12:07.283074\n",
            "iterations: 1919 | train_loss: 0.029175354 | validation_loss: 0.049193505 | Roc Score: 0.9679369 | Time elapsed: 4:12:15.139771\n",
            "iterations: 1920 | train_loss: 0.04964293 | validation_loss: 0.049132075 | Roc Score: 0.96794486 | Time elapsed: 4:12:23.064848\n",
            "iterations: 1921 | train_loss: 0.044646658 | validation_loss: 0.048536934 | Roc Score: 0.9679531 | Time elapsed: 4:12:30.972788\n",
            "iterations: 1922 | train_loss: 0.03831187 | validation_loss: 0.04781016 | Roc Score: 0.96796125 | Time elapsed: 4:12:38.743564\n",
            "iterations: 1923 | train_loss: 0.035429902 | validation_loss: 0.04734178 | Roc Score: 0.9679695 | Time elapsed: 4:12:46.198455\n",
            "iterations: 1924 | train_loss: 0.04881227 | validation_loss: 0.047235873 | Roc Score: 0.9679768 | Time elapsed: 4:12:54.115369\n",
            "iterations: 1925 | train_loss: 0.04287751 | validation_loss: 0.047444128 | Roc Score: 0.96798307 | Time elapsed: 4:13:02.016145\n",
            "iterations: 1926 | train_loss: 0.03530909 | validation_loss: 0.047967423 | Roc Score: 0.9679887 | Time elapsed: 4:13:09.913399\n",
            "iterations: 1927 | train_loss: 0.051359817 | validation_loss: 0.048282806 | Roc Score: 0.967994 | Time elapsed: 4:13:17.877228\n",
            "iterations: 1928 | train_loss: 0.04056814 | validation_loss: 0.04839045 | Roc Score: 0.96799946 | Time elapsed: 4:13:25.786902\n",
            "iterations: 1929 | train_loss: 0.045639552 | validation_loss: 0.04785559 | Roc Score: 0.9680059 | Time elapsed: 4:13:33.639389\n",
            "iterations: 1930 | train_loss: 0.029893057 | validation_loss: 0.04767331 | Roc Score: 0.968013 | Time elapsed: 4:13:41.545416\n",
            "iterations: 1931 | train_loss: 0.045421313 | validation_loss: 0.04764219 | Roc Score: 0.9680205 | Time elapsed: 4:13:49.437415\n",
            "iterations: 1932 | train_loss: 0.04281024 | validation_loss: 0.047741108 | Roc Score: 0.9680288 | Time elapsed: 4:13:57.348738\n",
            "iterations: 1933 | train_loss: 0.03599797 | validation_loss: 0.048056006 | Roc Score: 0.968037 | Time elapsed: 4:14:05.277041\n",
            "iterations: 1934 | train_loss: 0.05115536 | validation_loss: 0.047963936 | Roc Score: 0.9680453 | Time elapsed: 4:14:13.148272\n",
            "iterations: 1935 | train_loss: 0.05062097 | validation_loss: 0.047491044 | Roc Score: 0.96805346 | Time elapsed: 4:14:21.092700\n",
            "iterations: 1936 | train_loss: 0.03114651 | validation_loss: 0.047143098 | Roc Score: 0.9680614 | Time elapsed: 4:14:29.009995\n",
            "iterations: 1937 | train_loss: 0.05053965 | validation_loss: 0.04727114 | Roc Score: 0.96806836 | Time elapsed: 4:14:36.875071\n",
            "iterations: 1938 | train_loss: 0.044859048 | validation_loss: 0.048024606 | Roc Score: 0.9680745 | Time elapsed: 4:14:44.798616\n",
            "iterations: 1939 | train_loss: 0.032519013 | validation_loss: 0.049023192 | Roc Score: 0.96807975 | Time elapsed: 4:14:52.757910\n",
            "iterations: 1940 | train_loss: 0.031466402 | validation_loss: 0.049950685 | Roc Score: 0.9680841 | Time elapsed: 4:15:00.706570\n",
            "iterations: 1941 | train_loss: 0.018117879 | validation_loss: 0.050916445 | Roc Score: 0.96808743 | Time elapsed: 4:15:08.617763\n",
            "iterations: 1942 | train_loss: 0.047851726 | validation_loss: 0.051270183 | Roc Score: 0.9680903 | Time elapsed: 4:15:16.483262\n",
            "iterations: 1943 | train_loss: 0.052197672 | validation_loss: 0.051173802 | Roc Score: 0.96809345 | Time elapsed: 4:15:24.107917\n",
            "iterations: 1944 | train_loss: 0.03915622 | validation_loss: 0.050033797 | Roc Score: 0.9680974 | Time elapsed: 4:15:31.958923\n",
            "iterations: 1945 | train_loss: 0.051419023 | validation_loss: 0.048576068 | Roc Score: 0.96810263 | Time elapsed: 4:15:39.895099\n",
            "iterations: 1946 | train_loss: 0.046523724 | validation_loss: 0.047277804 | Roc Score: 0.96810913 | Time elapsed: 4:15:47.775698\n",
            "iterations: 1947 | train_loss: 0.02934603 | validation_loss: 0.046682987 | Roc Score: 0.9681165 | Time elapsed: 4:15:55.667889\n",
            "iterations: 1948 | train_loss: 0.038884908 | validation_loss: 0.04638498 | Roc Score: 0.9681242 | Time elapsed: 4:16:03.524365\n",
            "iterations: 1949 | train_loss: 0.03866807 | validation_loss: 0.04612888 | Roc Score: 0.9681323 | Time elapsed: 4:16:11.406945\n"
          ],
          "name": "stdout"
        },
        {
          "output_type": "stream",
          "text": [
            "iterations: 1950 | train_loss: 0.036897194 | validation_loss: 0.045986045 | Roc Score: 0.96814036 | Time elapsed: 4:16:19.270722\n",
            "iterations: 1951 | train_loss: 0.03738807 | validation_loss: 0.045943335 | Roc Score: 0.9681485 | Time elapsed: 4:16:27.141022\n",
            "iterations: 1952 | train_loss: 0.03811296 | validation_loss: 0.045941506 | Roc Score: 0.96815646 | Time elapsed: 4:16:35.017730\n",
            "iterations: 1953 | train_loss: 0.045439817 | validation_loss: 0.046048645 | Roc Score: 0.96816415 | Time elapsed: 4:16:42.959119\n",
            "iterations: 1954 | train_loss: 0.034075238 | validation_loss: 0.046175305 | Roc Score: 0.96817166 | Time elapsed: 4:16:50.730268\n",
            "iterations: 1955 | train_loss: 0.049174696 | validation_loss: 0.04625009 | Roc Score: 0.9681789 | Time elapsed: 4:16:58.654289\n",
            "iterations: 1956 | train_loss: 0.054160252 | validation_loss: 0.046314072 | Roc Score: 0.96818626 | Time elapsed: 4:17:06.568382\n",
            "iterations: 1957 | train_loss: 0.043133892 | validation_loss: 0.046374127 | Roc Score: 0.96819335 | Time elapsed: 4:17:14.488181\n",
            "iterations: 1958 | train_loss: 0.045081858 | validation_loss: 0.046315745 | Roc Score: 0.96820074 | Time elapsed: 4:17:22.115408\n",
            "iterations: 1959 | train_loss: 0.026820147 | validation_loss: 0.046339307 | Roc Score: 0.9682079 | Time elapsed: 4:17:30.053086\n",
            "iterations: 1960 | train_loss: 0.024387216 | validation_loss: 0.046376966 | Roc Score: 0.96821505 | Time elapsed: 4:17:37.950862\n",
            "iterations: 1961 | train_loss: 0.04072327 | validation_loss: 0.046452742 | Roc Score: 0.9682214 | Time elapsed: 4:17:45.796136\n",
            "iterations: 1962 | train_loss: 0.04102051 | validation_loss: 0.046608884 | Roc Score: 0.96822774 | Time elapsed: 4:17:53.661251\n",
            "iterations: 1963 | train_loss: 0.06417624 | validation_loss: 0.046516396 | Roc Score: 0.9682342 | Time elapsed: 4:18:01.561983\n",
            "iterations: 1964 | train_loss: 0.047357332 | validation_loss: 0.046509672 | Roc Score: 0.96824074 | Time elapsed: 4:18:09.431940\n",
            "iterations: 1965 | train_loss: 0.04283495 | validation_loss: 0.046556648 | Roc Score: 0.9682475 | Time elapsed: 4:18:17.303494\n",
            "iterations: 1966 | train_loss: 0.056093074 | validation_loss: 0.046811108 | Roc Score: 0.968254 | Time elapsed: 4:18:25.147703\n",
            "iterations: 1967 | train_loss: 0.03535256 | validation_loss: 0.047034644 | Roc Score: 0.96826077 | Time elapsed: 4:18:33.048331\n",
            "iterations: 1968 | train_loss: 0.031676456 | validation_loss: 0.047211934 | Roc Score: 0.9682677 | Time elapsed: 4:18:40.718769\n",
            "iterations: 1969 | train_loss: 0.03464234 | validation_loss: 0.04720243 | Roc Score: 0.9682745 | Time elapsed: 4:18:48.620580\n",
            "iterations: 1970 | train_loss: 0.042246953 | validation_loss: 0.047126547 | Roc Score: 0.9682813 | Time elapsed: 4:18:56.492879\n",
            "iterations: 1971 | train_loss: 0.02907664 | validation_loss: 0.047041446 | Roc Score: 0.9682881 | Time elapsed: 4:19:04.332362\n",
            "iterations: 1972 | train_loss: 0.050594658 | validation_loss: 0.046963394 | Roc Score: 0.9682952 | Time elapsed: 4:19:12.266152\n",
            "iterations: 1973 | train_loss: 0.047370683 | validation_loss: 0.046905003 | Roc Score: 0.96830213 | Time elapsed: 4:19:20.172725\n",
            "iterations: 1974 | train_loss: 0.0474416 | validation_loss: 0.04693634 | Roc Score: 0.9683094 | Time elapsed: 4:19:28.032948\n",
            "iterations: 1975 | train_loss: 0.03915127 | validation_loss: 0.04693477 | Roc Score: 0.9683165 | Time elapsed: 4:19:35.891501\n",
            "iterations: 1976 | train_loss: 0.027670212 | validation_loss: 0.046918876 | Roc Score: 0.9683235 | Time elapsed: 4:19:43.352433\n",
            "iterations: 1977 | train_loss: 0.05011226 | validation_loss: 0.046854258 | Roc Score: 0.96833056 | Time elapsed: 4:19:51.243571\n",
            "iterations: 1978 | train_loss: 0.045240592 | validation_loss: 0.04678809 | Roc Score: 0.9683372 | Time elapsed: 4:19:59.123891\n",
            "iterations: 1979 | train_loss: 0.049643997 | validation_loss: 0.04676217 | Roc Score: 0.968344 | Time elapsed: 4:20:07.036328\n",
            "iterations: 1980 | train_loss: 0.041349184 | validation_loss: 0.046783797 | Roc Score: 0.9683505 | Time elapsed: 4:20:14.980208\n",
            "iterations: 1981 | train_loss: 0.042500872 | validation_loss: 0.046869714 | Roc Score: 0.9683569 | Time elapsed: 4:20:22.931569\n",
            "iterations: 1982 | train_loss: 0.028738413 | validation_loss: 0.046982 | Roc Score: 0.9683629 | Time elapsed: 4:20:30.828754\n",
            "iterations: 1983 | train_loss: 0.03648312 | validation_loss: 0.047205314 | Roc Score: 0.9683684 | Time elapsed: 4:20:38.768195\n",
            "iterations: 1984 | train_loss: 0.052504927 | validation_loss: 0.047312062 | Roc Score: 0.9683743 | Time elapsed: 4:20:46.696443\n",
            "iterations: 1985 | train_loss: 0.028470116 | validation_loss: 0.047408976 | Roc Score: 0.9683799 | Time elapsed: 4:20:54.627769\n",
            "iterations: 1986 | train_loss: 0.03238455 | validation_loss: 0.047351427 | Roc Score: 0.96838593 | Time elapsed: 4:21:02.560583\n",
            "iterations: 1987 | train_loss: 0.031470094 | validation_loss: 0.047318403 | Roc Score: 0.9683917 | Time elapsed: 4:21:10.417293\n",
            "iterations: 1988 | train_loss: 0.026280092 | validation_loss: 0.047326714 | Roc Score: 0.96839726 | Time elapsed: 4:21:18.288355\n"
          ],
          "name": "stdout"
        },
        {
          "output_type": "stream",
          "text": [
            "iterations: 1989 | train_loss: 0.047285773 | validation_loss: 0.047549754 | Roc Score: 0.96840215 | Time elapsed: 4:21:26.204051\n",
            "iterations: 1990 | train_loss: 0.031981096 | validation_loss: 0.048026893 | Roc Score: 0.96840584 | Time elapsed: 4:21:34.136441\n",
            "iterations: 1991 | train_loss: 0.043036535 | validation_loss: 0.048908792 | Roc Score: 0.9684086 | Time elapsed: 4:21:42.000604\n",
            "iterations: 1992 | train_loss: 0.06317565 | validation_loss: 0.048980076 | Roc Score: 0.9684112 | Time elapsed: 4:21:49.970738\n",
            "iterations: 1993 | train_loss: 0.035338514 | validation_loss: 0.0490555 | Roc Score: 0.96841323 | Time elapsed: 4:21:57.856241\n",
            "iterations: 1994 | train_loss: 0.034620356 | validation_loss: 0.04910423 | Roc Score: 0.9684156 | Time elapsed: 4:22:05.701487\n",
            "iterations: 1995 | train_loss: 0.054283977 | validation_loss: 0.04831266 | Roc Score: 0.96841884 | Time elapsed: 4:22:13.602238\n",
            "iterations: 1996 | train_loss: 0.037339393 | validation_loss: 0.047450807 | Roc Score: 0.9684232 | Time elapsed: 4:22:21.497034\n",
            "iterations: 1997 | train_loss: 0.037944797 | validation_loss: 0.04685691 | Roc Score: 0.9684281 | Time elapsed: 4:22:29.045898\n",
            "iterations: 1998 | train_loss: 0.030462608 | validation_loss: 0.04670278 | Roc Score: 0.9684341 | Time elapsed: 4:22:36.984826\n",
            "iterations: 1999 | train_loss: 0.035757918 | validation_loss: 0.04668792 | Roc Score: 0.96844023 | Time elapsed: 4:22:44.911353\n",
            "iterations: 2000 | train_loss: 0.050902326 | validation_loss: 0.046841014 | Roc Score: 0.96844685 | Time elapsed: 4:22:52.828807\n",
            "iterations: 2001 | train_loss: 0.047140438 | validation_loss: 0.04707514 | Roc Score: 0.96845335 | Time elapsed: 4:23:00.723160\n",
            "iterations: 2002 | train_loss: 0.045690004 | validation_loss: 0.046886392 | Roc Score: 0.96846014 | Time elapsed: 4:23:08.591820\n",
            "iterations: 2003 | train_loss: 0.04384272 | validation_loss: 0.04646667 | Roc Score: 0.96846676 | Time elapsed: 4:23:16.488914\n",
            "iterations: 2004 | train_loss: 0.033302885 | validation_loss: 0.045973074 | Roc Score: 0.9684736 | Time elapsed: 4:23:24.373597\n",
            "iterations: 2005 | train_loss: 0.048653044 | validation_loss: 0.045525506 | Roc Score: 0.96848047 | Time elapsed: 4:23:32.253273\n",
            "iterations: 2006 | train_loss: 0.04124571 | validation_loss: 0.045522474 | Roc Score: 0.9684873 | Time elapsed: 4:23:40.180545\n",
            "iterations: 2007 | train_loss: 0.036201734 | validation_loss: 0.04588905 | Roc Score: 0.96849406 | Time elapsed: 4:23:48.110263\n",
            "iterations: 2008 | train_loss: 0.04429463 | validation_loss: 0.04612102 | Roc Score: 0.9685006 | Time elapsed: 4:23:55.996899\n",
            "iterations: 2009 | train_loss: 0.04232504 | validation_loss: 0.04617587 | Roc Score: 0.96850747 | Time elapsed: 4:24:03.917746\n",
            "iterations: 2010 | train_loss: 0.042312406 | validation_loss: 0.046090383 | Roc Score: 0.9685141 | Time elapsed: 4:24:11.805388\n",
            "iterations: 2011 | train_loss: 0.036519583 | validation_loss: 0.0460382 | Roc Score: 0.968521 | Time elapsed: 4:24:19.716608\n",
            "iterations: 2012 | train_loss: 0.04353967 | validation_loss: 0.045846514 | Roc Score: 0.96852803 | Time elapsed: 4:24:27.644845\n",
            "iterations: 2013 | train_loss: 0.04037182 | validation_loss: 0.045840748 | Roc Score: 0.96853536 | Time elapsed: 4:24:35.537618\n",
            "iterations: 2014 | train_loss: 0.022859827 | validation_loss: 0.046002936 | Roc Score: 0.96854246 | Time elapsed: 4:24:43.410036\n",
            "iterations: 2015 | train_loss: 0.034362722 | validation_loss: 0.046273615 | Roc Score: 0.9685496 | Time elapsed: 4:24:51.323984\n",
            "iterations: 2016 | train_loss: 0.03726148 | validation_loss: 0.04655002 | Roc Score: 0.96855634 | Time elapsed: 4:24:59.006308\n",
            "iterations: 2017 | train_loss: 0.025549768 | validation_loss: 0.046865243 | Roc Score: 0.96856236 | Time elapsed: 4:25:06.879133\n",
            "iterations: 2018 | train_loss: 0.032709498 | validation_loss: 0.047275487 | Roc Score: 0.96856767 | Time elapsed: 4:25:14.898328\n",
            "iterations: 2019 | train_loss: 0.041302547 | validation_loss: 0.047750477 | Roc Score: 0.968573 | Time elapsed: 4:25:22.814471\n",
            "iterations: 2020 | train_loss: 0.024031263 | validation_loss: 0.04835565 | Roc Score: 0.9685778 | Time elapsed: 4:25:30.713771\n",
            "iterations: 2021 | train_loss: 0.04833457 | validation_loss: 0.048660252 | Roc Score: 0.96858263 | Time elapsed: 4:25:38.646625\n",
            "iterations: 2022 | train_loss: 0.030050173 | validation_loss: 0.04870102 | Roc Score: 0.9685868 | Time elapsed: 4:25:46.615947\n",
            "iterations: 2023 | train_loss: 0.03425987 | validation_loss: 0.048632443 | Roc Score: 0.9685908 | Time elapsed: 4:25:54.565019\n",
            "iterations: 2024 | train_loss: 0.055148404 | validation_loss: 0.048241034 | Roc Score: 0.96859497 | Time elapsed: 4:26:02.440441\n",
            "iterations: 2025 | train_loss: 0.04621381 | validation_loss: 0.047769584 | Roc Score: 0.9686 | Time elapsed: 4:26:10.319755\n",
            "iterations: 2026 | train_loss: 0.034844562 | validation_loss: 0.04730687 | Roc Score: 0.9686052 | Time elapsed: 4:26:18.259136\n",
            "iterations: 2027 | train_loss: 0.029657952 | validation_loss: 0.046965126 | Roc Score: 0.9686107 | Time elapsed: 4:26:26.136895\n"
          ],
          "name": "stdout"
        },
        {
          "output_type": "stream",
          "text": [
            "iterations: 2028 | train_loss: 0.0323594 | validation_loss: 0.046662882 | Roc Score: 0.9686168 | Time elapsed: 4:26:34.031687\n",
            "iterations: 2029 | train_loss: 0.0466471 | validation_loss: 0.046370756 | Roc Score: 0.96862304 | Time elapsed: 4:26:41.894464\n",
            "iterations: 2030 | train_loss: 0.036514968 | validation_loss: 0.04622879 | Roc Score: 0.9686297 | Time elapsed: 4:26:49.795425\n",
            "iterations: 2031 | train_loss: 0.055902123 | validation_loss: 0.046076324 | Roc Score: 0.9686365 | Time elapsed: 4:26:57.695285\n",
            "iterations: 2032 | train_loss: 0.04537962 | validation_loss: 0.045951553 | Roc Score: 0.9686437 | Time elapsed: 4:27:05.592688\n",
            "iterations: 2033 | train_loss: 0.04106419 | validation_loss: 0.045834996 | Roc Score: 0.96865106 | Time elapsed: 4:27:13.437523\n",
            "iterations: 2034 | train_loss: 0.048196796 | validation_loss: 0.0457806 | Roc Score: 0.9686584 | Time elapsed: 4:27:21.273614\n",
            "iterations: 2035 | train_loss: 0.061578553 | validation_loss: 0.045753412 | Roc Score: 0.9686659 | Time elapsed: 4:27:28.848867\n",
            "iterations: 2036 | train_loss: 0.03141241 | validation_loss: 0.045751456 | Roc Score: 0.96867335 | Time elapsed: 4:27:36.726125\n",
            "iterations: 2037 | train_loss: 0.03265693 | validation_loss: 0.04578737 | Roc Score: 0.9686806 | Time elapsed: 4:27:44.618971\n",
            "iterations: 2038 | train_loss: 0.028119491 | validation_loss: 0.046015088 | Roc Score: 0.9686874 | Time elapsed: 4:27:52.481496\n",
            "iterations: 2039 | train_loss: 0.047225367 | validation_loss: 0.046288446 | Roc Score: 0.96869373 | Time elapsed: 4:28:00.377460\n",
            "iterations: 2040 | train_loss: 0.034485806 | validation_loss: 0.046594515 | Roc Score: 0.96869934 | Time elapsed: 4:28:08.293276\n",
            "iterations: 2041 | train_loss: 0.0470864 | validation_loss: 0.04657639 | Roc Score: 0.9687051 | Time elapsed: 4:28:15.890606\n",
            "iterations: 2042 | train_loss: 0.041799873 | validation_loss: 0.04629196 | Roc Score: 0.96871126 | Time elapsed: 4:28:23.808205\n",
            "iterations: 2043 | train_loss: 0.031000474 | validation_loss: 0.04610833 | Roc Score: 0.9687182 | Time elapsed: 4:28:31.649942\n",
            "iterations: 2044 | train_loss: 0.04084356 | validation_loss: 0.046004873 | Roc Score: 0.9687248 | Time elapsed: 4:28:39.578426\n",
            "iterations: 2045 | train_loss: 0.04589141 | validation_loss: 0.04603043 | Roc Score: 0.9687316 | Time elapsed: 4:28:47.498132\n",
            "iterations: 2046 | train_loss: 0.054717597 | validation_loss: 0.04615665 | Roc Score: 0.9687384 | Time elapsed: 4:28:55.308824\n",
            "iterations: 2047 | train_loss: 0.034554593 | validation_loss: 0.04631497 | Roc Score: 0.9687452 | Time elapsed: 4:29:03.200948\n",
            "iterations: 2048 | train_loss: 0.028607473 | validation_loss: 0.04638448 | Roc Score: 0.96875215 | Time elapsed: 4:29:10.851315\n",
            "iterations: 2049 | train_loss: 0.037595384 | validation_loss: 0.04630437 | Roc Score: 0.96875906 | Time elapsed: 4:29:18.730828\n",
            "iterations: 2050 | train_loss: 0.044439968 | validation_loss: 0.046370417 | Roc Score: 0.9687656 | Time elapsed: 4:29:26.601457\n",
            "iterations: 2051 | train_loss: 0.031194197 | validation_loss: 0.046400726 | Roc Score: 0.9687722 | Time elapsed: 4:29:34.483588\n",
            "iterations: 2052 | train_loss: 0.04111347 | validation_loss: 0.04643158 | Roc Score: 0.9687781 | Time elapsed: 4:29:42.353229\n",
            "iterations: 2053 | train_loss: 0.019432176 | validation_loss: 0.04677887 | Roc Score: 0.9687829 | Time elapsed: 4:29:50.251074\n",
            "iterations: 2054 | train_loss: 0.02844022 | validation_loss: 0.047601365 | Roc Score: 0.9687867 | Time elapsed: 4:29:58.110381\n",
            "iterations: 2055 | train_loss: 0.05181382 | validation_loss: 0.048187435 | Roc Score: 0.96879 | Time elapsed: 4:30:05.978418\n"
          ],
          "name": "stdout"
        }
      ]
    },
    {
      "metadata": {
        "id": "UOpH6rE9lglu",
        "colab_type": "text"
      },
      "cell_type": "markdown",
      "source": [
        "# Visualization of performance"
      ]
    },
    {
      "metadata": {
        "id": "WM8vuH7LlmBn",
        "colab_type": "text"
      },
      "cell_type": "markdown",
      "source": [
        "**Plot of loss vs iteration**"
      ]
    },
    {
      "metadata": {
        "id": "qZLKi41glmd9",
        "colab_type": "code",
        "colab": {
          "autoexec": {
            "startup": false,
            "wait_interval": 0
          },
          "output_extras": [
            {
              "item_id": 1
            }
          ],
          "base_uri": "https://localhost:8080/",
          "height": 566
        },
        "outputId": "782ec140-1cda-48a8-b4c0-f8ccb74373d3",
        "executionInfo": {
          "status": "ok",
          "timestamp": 1521287901084,
          "user_tz": -360,
          "elapsed": 2008,
          "user": {
            "displayName": "Itrat Rahman",
            "photoUrl": "//lh3.googleusercontent.com/-j1V_yfZD3m0/AAAAAAAAAAI/AAAAAAAAFTg/pDPmK0kE5mI/s50-c-k-no/photo.jpg",
            "userId": "116815226076340067076"
          }
        }
      },
      "cell_type": "code",
      "source": [
        "plt.figure(figsize=(16, 8), dpi= 80, facecolor='w', edgecolor='k')\n",
        "iterations = list(range(1,iteration+1))\n",
        "plt.plot(iterations, train_loss, label = \"train loss\")\n",
        "plt.plot(iterations, valid_loss, label = \"valid loss\")\n",
        "plt.title(\"Loss\")\n",
        "plt.xlabel(\"iter\")\n",
        "plt.ylabel(\"loss\")\n",
        "plt.legend()\n",
        "plt.grid()\n",
        "plt.show()"
      ],
      "execution_count": 38,
      "outputs": [
        {
          "output_type": "display_data",
          "data": {
            "image/png": "[encoded data removed]",
            "text/plain": [
              "<matplotlib.figure.Figure at 0x7fac30986860>"
            ]
          },
          "metadata": {
            "tags": []
          }
        }
      ]
    },
    {
      "metadata": {
        "id": "ZOtq5onjlqF9",
        "colab_type": "text"
      },
      "cell_type": "markdown",
      "source": [
        "**Plot of ROC AUC vs iteration**"
      ]
    },
    {
      "metadata": {
        "id": "T8l8VwhLlqdl",
        "colab_type": "code",
        "colab": {
          "autoexec": {
            "startup": false,
            "wait_interval": 0
          },
          "output_extras": [
            {
              "item_id": 1
            }
          ],
          "base_uri": "https://localhost:8080/",
          "height": 566
        },
        "outputId": "b1036ae9-887b-411f-a59b-b1025a4b3351",
        "executionInfo": {
          "status": "ok",
          "timestamp": 1521287902081,
          "user_tz": -360,
          "elapsed": 734,
          "user": {
            "displayName": "Itrat Rahman",
            "photoUrl": "//lh3.googleusercontent.com/-j1V_yfZD3m0/AAAAAAAAAAI/AAAAAAAAFTg/pDPmK0kE5mI/s50-c-k-no/photo.jpg",
            "userId": "116815226076340067076"
          }
        }
      },
      "cell_type": "code",
      "source": [
        "plt.figure(figsize=(16, 8), dpi= 80, facecolor='w', edgecolor='k')\n",
        "plt.plot(iterations, valid_roc)\n",
        "plt.title(\"ROC AUC\")\n",
        "plt.xlabel(\"iter\")\n",
        "plt.ylabel(\"Auc\")\n",
        "plt.grid()\n",
        "plt.show()"
      ],
      "execution_count": 39,
      "outputs": [
        {
          "output_type": "display_data",
          "data": {
            "image/png": "[encoded data removed]",
            "text/plain": [
              "<matplotlib.figure.Figure at 0x7fac30986a20>"
            ]
          },
          "metadata": {
            "tags": []
          }
        }
      ]
    },
    {
      "metadata": {
        "id": "sOUBh4Tolu0A",
        "colab_type": "text"
      },
      "cell_type": "markdown",
      "source": [
        "# Create and Save submission file"
      ]
    },
    {
      "metadata": {
        "id": "FVpQSQn1lvK2",
        "colab_type": "code",
        "colab": {
          "autoexec": {
            "startup": false,
            "wait_interval": 0
          }
        }
      },
      "cell_type": "code",
      "source": [
        "del(comments_train, sentiments_train, seq_length_train, comments_validation, sentiments_validation, seq_length_validation)"
      ],
      "execution_count": 0,
      "outputs": []
    },
    {
      "metadata": {
        "id": "r4Ab9VaalyO3",
        "colab_type": "text"
      },
      "cell_type": "markdown",
      "source": [
        "**Create predictions matrix in folds and save the predictions in a csv file**"
      ]
    },
    {
      "metadata": {
        "id": "tH7BF8kSl2bt",
        "colab_type": "code",
        "colab": {
          "autoexec": {
            "startup": false,
            "wait_interval": 0
          },
          "output_extras": [
            {
              "item_id": 41
            }
          ],
          "base_uri": "https://localhost:8080/",
          "height": 714
        },
        "outputId": "b383c040-017d-486e-aaa8-a705fdb78b74",
        "executionInfo": {
          "status": "ok",
          "timestamp": 1521288026705,
          "user_tz": -360,
          "elapsed": 123707,
          "user": {
            "displayName": "Itrat Rahman",
            "photoUrl": "//lh3.googleusercontent.com/-j1V_yfZD3m0/AAAAAAAAAAI/AAAAAAAAFTg/pDPmK0kE5mI/s50-c-k-no/photo.jpg",
            "userId": "116815226076340067076"
          }
        }
      },
      "cell_type": "code",
      "source": [
        "with tf.Session() as sess:  \n",
        "    \n",
        "    # restore the best model\n",
        "    model_path = \"./\"+\"my-model-\"+str(best_iteration)\n",
        "    saver.restore(sess, model_path)\n",
        "    \n",
        "    # break the test set into k folds other wise kernel will be out of memory\n",
        "    n = len(test_id)\n",
        "    k = 40\n",
        "    step = n//k\n",
        "    \n",
        "    # array to store the prediction\n",
        "    preds = np.array([])\n",
        "\n",
        "    # iterate through each fold\n",
        "    for i in range(k):\n",
        "\n",
        "        # start and end indices of the fold\n",
        "        if i != (k-1):\n",
        "            start = (step*i)\n",
        "            end = (step*(i+1)) \n",
        "        else:\n",
        "            start = (step*i)\n",
        "            end = len(test_id)\n",
        "            \n",
        "        \n",
        "\n",
        "        # feed dictionary for the fold\n",
        "        feed_dict_test =  {X:sequence_generator(comments_test[start:end], max_length, size),\n",
        "                            length:seq_length_test[start:end],\n",
        "                            keep_prob: 1.0}\n",
        "\n",
        "        # evaluate predictions of the fold\n",
        "        fold_preds = logits.eval(session=sess, feed_dict = feed_dict_test)\n",
        "        if i == 0:\n",
        "            preds  = fold_preds\n",
        "        else:\n",
        "            preds = np.append(preds, fold_preds, axis=0)\n",
        "        \n",
        "        print(\"Computed predictions for fold\",i)\n",
        "        \n",
        "    del(model, comments_test, seq_length_test)\n",
        "    \n",
        "    submission_matrix = np.append(np.transpose([test_id]), preds, axis=1)\n",
        "    del(test_id)\n",
        "    \n",
        "    # save the submission csv file\n",
        "    submission_path = \"./submission.csv\"\n",
        "    columns = [\"id\",\"toxic\",\"severe_toxic\",\"obscene\",\"threat\",\"insult\",\"identity_hate\"]\n",
        "    submission = pd.DataFrame(submission_matrix, columns= columns)\n",
        "    del(submission_matrix)\n",
        "    submission.to_csv(submission_path, header = True, index=False)"
      ],
      "execution_count": 41,
      "outputs": [
        {
          "output_type": "stream",
          "text": [
            "INFO:tensorflow:Restoring parameters from ./my-model-2055\n",
            "Computed predictions for fold 0\n",
            "Computed predictions for fold 1\n",
            "Computed predictions for fold 2\n",
            "Computed predictions for fold 3\n",
            "Computed predictions for fold 4\n",
            "Computed predictions for fold 5\n",
            "Computed predictions for fold 6\n",
            "Computed predictions for fold 7\n",
            "Computed predictions for fold 8\n",
            "Computed predictions for fold 9\n",
            "Computed predictions for fold 10\n",
            "Computed predictions for fold 11\n",
            "Computed predictions for fold 12\n",
            "Computed predictions for fold 13\n",
            "Computed predictions for fold 14\n",
            "Computed predictions for fold 15\n",
            "Computed predictions for fold 16\n",
            "Computed predictions for fold 17\n",
            "Computed predictions for fold 18\n",
            "Computed predictions for fold 19\n",
            "Computed predictions for fold 20\n",
            "Computed predictions for fold 21\n",
            "Computed predictions for fold 22\n",
            "Computed predictions for fold 23\n",
            "Computed predictions for fold 24\n",
            "Computed predictions for fold 25\n",
            "Computed predictions for fold 26\n",
            "Computed predictions for fold 27\n",
            "Computed predictions for fold 28\n",
            "Computed predictions for fold 29\n",
            "Computed predictions for fold 30\n",
            "Computed predictions for fold 31\n",
            "Computed predictions for fold 32\n",
            "Computed predictions for fold 33\n",
            "Computed predictions for fold 34\n",
            "Computed predictions for fold 35\n",
            "Computed predictions for fold 36\n",
            "Computed predictions for fold 37\n",
            "Computed predictions for fold 38\n",
            "Computed predictions for fold 39\n"
          ],
          "name": "stdout"
        }
      ]
    },
    {
      "metadata": {
        "id": "u_p1B5cVl7vT",
        "colab_type": "text"
      },
      "cell_type": "markdown",
      "source": [
        "**Save the submission file in google drive**"
      ]
    },
    {
      "metadata": {
        "id": "U72a7M0el8L1",
        "colab_type": "code",
        "colab": {
          "autoexec": {
            "startup": false,
            "wait_interval": 0
          }
        }
      },
      "cell_type": "code",
      "source": [
        "# Code to read csv file into colaboratory:\n",
        "!pip install -U -q PyDrive\n",
        "from pydrive.auth import GoogleAuth\n",
        "from pydrive.drive import GoogleDrive\n",
        "from google.colab import auth\n",
        "from oauth2client.client import GoogleCredentials\n",
        "\n",
        "# 1. Authenticate and create the PyDrive client.\n",
        "auth.authenticate_user()\n",
        "gauth = GoogleAuth()\n",
        "gauth.credentials = GoogleCredentials.get_application_default()\n",
        "drive = GoogleDrive(gauth)"
      ],
      "execution_count": 0,
      "outputs": []
    },
    {
      "metadata": {
        "id": "oUueiHk8l-Lb",
        "colab_type": "code",
        "colab": {
          "autoexec": {
            "startup": false,
            "wait_interval": 0
          }
        }
      },
      "cell_type": "code",
      "source": [
        "# Create & upload a text file.\n",
        "uploaded = drive.CreateFile({'title': 'submission.csv', 'parents':[{u'id': file_id_data[\"download_folder2_id\"]}]})\n",
        "uploaded.SetContentFile(\"submission.csv\")\n",
        "uploaded.Upload()"
      ],
      "execution_count": 0,
      "outputs": []
    }
  ]
}