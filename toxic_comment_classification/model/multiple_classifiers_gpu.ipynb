{
  "nbformat": 4,
  "nbformat_minor": 0,
  "metadata": {
    "colab": {
      "name": "model7.ipynb",
      "version": "0.3.2",
      "views": {},
      "default_view": {},
      "provenance": [],
      "collapsed_sections": [],
      "toc_visible": true
    },
    "kernelspec": {
      "name": "python3",
      "display_name": "Python 3"
    },
    "accelerator": "GPU"
  },
  "cells": [
    {
      "metadata": {
        "id": "p7QgagN7IXyb",
        "colab_type": "code",
        "colab": {
          "autoexec": {
            "startup": false,
            "wait_interval": 0
          }
        }
      },
      "cell_type": "code",
      "source": [
        "import os\n",
        "import time\n",
        "import datetime\n",
        "import string\n",
        "import random\n",
        "import math\n",
        "import json\n",
        "import random\n",
        "import pandas as pd\n",
        "import numpy as np\n",
        "from sklearn.preprocessing import LabelBinarizer\n",
        "import tensorflow as tf\n",
        "tf.reset_default_graph()\n",
        "import matplotlib\n",
        "from matplotlib import pyplot as plt\n",
        "%matplotlib inline"
      ],
      "execution_count": 0,
      "outputs": []
    },
    {
      "metadata": {
        "id": "1s0fELB1EWF0",
        "colab_type": "code",
        "colab": {
          "autoexec": {
            "startup": false,
            "wait_interval": 0
          },
          "output_extras": [
            {
              "item_id": 1
            }
          ],
          "base_uri": "https://localhost:8080/",
          "height": 238
        },
        "outputId": "48d525ec-2d9b-4294-d691-03d8d8e45f68",
        "executionInfo": {
          "status": "ok",
          "timestamp": 1521087245734,
          "user_tz": -360,
          "elapsed": 1117,
          "user": {
            "displayName": "Itrat Rahman",
            "photoUrl": "//lh3.googleusercontent.com/-j1V_yfZD3m0/AAAAAAAAAAI/AAAAAAAAFTg/pDPmK0kE5mI/s50-c-k-no/photo.jpg",
            "userId": "116815226076340067076"
          }
        }
      },
      "cell_type": "code",
      "source": [
        "from tensorflow.python.client import device_lib\n",
        "device_lib.list_local_devices()"
      ],
      "execution_count": 2,
      "outputs": [
        {
          "output_type": "execute_result",
          "data": {
            "text/plain": [
              "[name: \"/device:CPU:0\"\n",
              " device_type: \"CPU\"\n",
              " memory_limit: 268435456\n",
              " locality {\n",
              " }\n",
              " incarnation: 17598554530225142938, name: \"/device:GPU:0\"\n",
              " device_type: \"GPU\"\n",
              " memory_limit: 11297803469\n",
              " locality {\n",
              "   bus_id: 1\n",
              " }\n",
              " incarnation: 9164553878614632035\n",
              " physical_device_desc: \"device: 0, name: Tesla K80, pci bus id: 0000:00:04.0, compute capability: 3.7\"]"
            ]
          },
          "metadata": {
            "tags": []
          },
          "execution_count": 2
        }
      ]
    },
    {
      "metadata": {
        "id": "rOz2zlZ9MGMG",
        "colab_type": "code",
        "colab": {
          "autoexec": {
            "startup": false,
            "wait_interval": 0
          },
          "output_extras": [
            {
              "item_id": 32
            },
            {
              "item_id": 37
            }
          ],
          "base_uri": "https://localhost:8080/",
          "height": 921
        },
        "outputId": "5f710718-0c5b-485d-f5be-67b3648e5c20",
        "executionInfo": {
          "status": "ok",
          "timestamp": 1521087276798,
          "user_tz": -360,
          "elapsed": 30866,
          "user": {
            "displayName": "Itrat Rahman",
            "photoUrl": "//lh3.googleusercontent.com/-j1V_yfZD3m0/AAAAAAAAAAI/AAAAAAAAFTg/pDPmK0kE5mI/s50-c-k-no/photo.jpg",
            "userId": "116815226076340067076"
          }
        }
      },
      "cell_type": "code",
      "source": [
        "!pip install --upgrade gensim\n",
        "from gensim.models.word2vec import Word2VecKeyedVectors"
      ],
      "execution_count": 3,
      "outputs": [
        {
          "output_type": "stream",
          "text": [
            "Collecting gensim\n",
            "  Using cached gensim-3.4.0-cp36-cp36m-manylinux1_x86_64.whl\n",
            "Collecting scipy>=0.18.1 (from gensim)\n",
            "  Using cached scipy-1.0.0-cp36-cp36m-manylinux1_x86_64.whl\n",
            "Requirement already up-to-date: six>=1.5.0 in /usr/local/lib/python3.6/dist-packages (from gensim)\n",
            "Collecting numpy>=1.11.3 (from gensim)\n",
            "  Using cached numpy-1.14.2-cp36-cp36m-manylinux1_x86_64.whl\n",
            "Collecting smart-open>=1.2.1 (from gensim)\n",
            "  Using cached smart_open-1.5.6.tar.gz\n",
            "Collecting boto3 (from smart-open>=1.2.1->gensim)\n",
            "  Using cached boto3-1.6.9-py2.py3-none-any.whl\n",
            "Collecting boto>=2.32 (from smart-open>=1.2.1->gensim)\n",
            "  Using cached boto-2.48.0-py2.py3-none-any.whl\n",
            "Collecting bz2file (from smart-open>=1.2.1->gensim)\n",
            "  Using cached bz2file-0.98.tar.gz\n",
            "Requirement already up-to-date: requests in /usr/local/lib/python3.6/dist-packages (from smart-open>=1.2.1->gensim)\n",
            "Collecting jmespath<1.0.0,>=0.7.1 (from boto3->smart-open>=1.2.1->gensim)\n",
            "  Downloading jmespath-0.9.3-py2.py3-none-any.whl\n",
            "Collecting botocore<1.10.0,>=1.9.9 (from boto3->smart-open>=1.2.1->gensim)\n",
            "  Using cached botocore-1.9.9.tar.gz\n",
            "Collecting s3transfer<0.2.0,>=0.1.10 (from boto3->smart-open>=1.2.1->gensim)\n",
            "  Downloading s3transfer-0.1.13-py2.py3-none-any.whl (59kB)\n",
            "\u001b[K    100% |████████████████████████████████| 61kB 2.6MB/s \n",
            "\u001b[?25hRequirement already up-to-date: idna<2.7,>=2.5 in /usr/local/lib/python3.6/dist-packages (from requests->smart-open>=1.2.1->gensim)\n",
            "Requirement already up-to-date: urllib3<1.23,>=1.21.1 in /usr/local/lib/python3.6/dist-packages (from requests->smart-open>=1.2.1->gensim)\n",
            "Requirement already up-to-date: certifi>=2017.4.17 in /usr/local/lib/python3.6/dist-packages (from requests->smart-open>=1.2.1->gensim)\n",
            "Requirement already up-to-date: chardet<3.1.0,>=3.0.2 in /usr/local/lib/python3.6/dist-packages (from requests->smart-open>=1.2.1->gensim)\n",
            "Collecting docutils>=0.10 (from botocore<1.10.0,>=1.9.9->boto3->smart-open>=1.2.1->gensim)\n",
            "  Downloading docutils-0.14-py3-none-any.whl (543kB)\n",
            "\u001b[K    100% |████████████████████████████████| 552kB 1.9MB/s \n",
            "\u001b[?25hCollecting python-dateutil<2.7.0,>=2.1 (from botocore<1.10.0,>=1.9.9->boto3->smart-open>=1.2.1->gensim)\n",
            "  Downloading python_dateutil-2.6.1-py2.py3-none-any.whl (194kB)\n",
            "\u001b[K    100% |████████████████████████████████| 194kB 3.7MB/s \n",
            "\u001b[?25hBuilding wheels for collected packages: smart-open, bz2file, botocore\n",
            "  Running setup.py bdist_wheel for smart-open ... \u001b[?25l-\b \bdone\n",
            "\u001b[?25h  Stored in directory: /content/.cache/pip/wheels/36/48/35/97efc2bd1b233627131c9a936c9de23681846db707b907d353\n",
            "  Running setup.py bdist_wheel for bz2file ... \u001b[?25l-\b \bdone\n",
            "\u001b[?25h  Stored in directory: /content/.cache/pip/wheels/31/9c/20/996d65ca104cbca940b1b053299b68459391c01c774d073126\n",
            "  Running setup.py bdist_wheel for botocore ... \u001b[?25l-\b \b\\\b \b|\b \b/\b \b-\b \b\\\b \b|\b \b/\b \b-\b \b\\\b \b|\b \b/\b \bdone\n",
            "\u001b[?25h  Stored in directory: /content/.cache/pip/wheels/30/a4/e9/d28c028565b417230ee1442b4b44f681ad9ff96ada671b7dd8\n",
            "Successfully built smart-open bz2file botocore\n",
            "Installing collected packages: numpy, scipy, jmespath, docutils, python-dateutil, botocore, s3transfer, boto3, boto, bz2file, smart-open, gensim\n",
            "  Found existing installation: numpy 1.14.1\n",
            "    Uninstalling numpy-1.14.1:\n",
            "      Successfully uninstalled numpy-1.14.1\n",
            "  Found existing installation: scipy 0.19.1\n",
            "    Uninstalling scipy-0.19.1:\n"
          ],
          "name": "stdout"
        },
        {
          "output_type": "stream",
          "text": [
            "      Successfully uninstalled scipy-0.19.1\n",
            "  Found existing installation: python-dateutil 2.5.3\n",
            "    Uninstalling python-dateutil-2.5.3:\n",
            "      Successfully uninstalled python-dateutil-2.5.3\n",
            "Successfully installed boto-2.48.0 boto3-1.6.9 botocore-1.9.9 bz2file-0.98 docutils-0.14 gensim-3.4.0 jmespath-0.9.3 numpy-1.14.2 python-dateutil-2.6.1 s3transfer-0.1.13 scipy-1.0.0 smart-open-1.5.6\n"
          ],
          "name": "stdout"
        }
      ]
    },
    {
      "metadata": {
        "id": "VxUgUNVSI8qB",
        "colab_type": "code",
        "colab": {
          "autoexec": {
            "startup": false,
            "wait_interval": 0
          },
          "output_extras": [
            {
              "item_id": 1
            }
          ],
          "base_uri": "https://localhost:8080/",
          "height": 51
        },
        "outputId": "56a6e540-4898-46c2-908a-44781bf9aed2",
        "executionInfo": {
          "status": "ok",
          "timestamp": 1521087277674,
          "user_tz": -360,
          "elapsed": 841,
          "user": {
            "displayName": "Itrat Rahman",
            "photoUrl": "//lh3.googleusercontent.com/-j1V_yfZD3m0/AAAAAAAAAAI/AAAAAAAAFTg/pDPmK0kE5mI/s50-c-k-no/photo.jpg",
            "userId": "116815226076340067076"
          }
        }
      },
      "cell_type": "code",
      "source": [
        "# np_rand_seed = random.randint(0,100)\n",
        "# tf_rand_seed = random.randint(0,100)\n",
        "np_rand_seed = 95\n",
        "tf_rand_seed = 63\n",
        "np.random.seed(np_rand_seed)\n",
        "tf.set_random_seed(tf_rand_seed)\n",
        "print(\"numpy random seed: \",np_rand_seed)\n",
        "print(\"tensorflow random seed: \", tf_rand_seed)"
      ],
      "execution_count": 4,
      "outputs": [
        {
          "output_type": "stream",
          "text": [
            "numpy random seed:  95\n",
            "tensorflow random seed:  63\n"
          ],
          "name": "stdout"
        }
      ]
    },
    {
      "metadata": {
        "id": "5MIeUc1nJBTR",
        "colab_type": "code",
        "colab": {
          "autoexec": {
            "startup": false,
            "wait_interval": 0
          }
        }
      },
      "cell_type": "code",
      "source": [
        "# Code to read csv file into colaboratory:\n",
        "!pip install -U -q PyDrive\n",
        "from pydrive.auth import GoogleAuth\n",
        "from pydrive.drive import GoogleDrive\n",
        "from google.colab import auth\n",
        "from oauth2client.client import GoogleCredentials\n",
        "\n",
        "# 1. Authenticate and create the PyDrive client.\n",
        "auth.authenticate_user()\n",
        "gauth = GoogleAuth()\n",
        "gauth.credentials = GoogleCredentials.get_application_default()\n",
        "drive = GoogleDrive(gauth)"
      ],
      "execution_count": 0,
      "outputs": []
    },
    {
      "metadata": {
        "id": "CVk0IfEQUY1U",
        "colab_type": "code",
        "colab": {
          "autoexec": {
            "startup": false,
            "wait_interval": 0
          },
          "output_extras": [
            {
              "item_id": 1
            },
            {
              "item_id": 3
            }
          ],
          "resources": {
            "http://localhost:8080/nbextensions/google.colab/files.js": {
              "data": "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",
              "ok": true,
              "headers": [
                [
                  "content-type",
                  "application/javascript"
                ]
              ],
              "status": 200,
              "status_text": ""
            }
          },
          "base_uri": "https://localhost:8080/",
          "height": 89
        },
        "outputId": "1cd226bf-451c-486d-862f-dccb6d0cdef3",
        "executionInfo": {
          "status": "ok",
          "timestamp": 1521087309747,
          "user_tz": -360,
          "elapsed": 7122,
          "user": {
            "displayName": "Itrat Rahman",
            "photoUrl": "//lh3.googleusercontent.com/-j1V_yfZD3m0/AAAAAAAAAAI/AAAAAAAAFTg/pDPmK0kE5mI/s50-c-k-no/photo.jpg",
            "userId": "116815226076340067076"
          }
        }
      },
      "cell_type": "code",
      "source": [
        "from google.colab import files\n",
        "\n",
        "uploaded = files.upload()\n",
        "\n",
        "for fn in uploaded.keys():\n",
        "  print('User uploaded file \"{name}\" with length {length} bytes'.format(\n",
        "      name=fn, length=len(uploaded[fn])))\n",
        "  \n",
        "file_id_data= json.loads(uploaded['file_id.json'])"
      ],
      "execution_count": 6,
      "outputs": [
        {
          "output_type": "display_data",
          "data": {
            "text/html": [
              "\n",
              "     <input type=\"file\" id=\"files-4f11d184-6a8b-4992-82dd-b8ff032ec53f\" name=\"files[]\" multiple disabled />\n",
              "     <output id=\"result-4f11d184-6a8b-4992-82dd-b8ff032ec53f\">\n",
              "      Upload widget is only available when the cell has been executed in the\n",
              "      current browser session. Please rerun this cell to enable.\n",
              "      </output>\n",
              "      <script src=\"/nbextensions/google.colab/files.js\"></script> "
            ],
            "text/plain": [
              "<IPython.core.display.HTML object>"
            ]
          },
          "metadata": {
            "tags": []
          }
        },
        {
          "output_type": "stream",
          "text": [
            "Saving file_id.json to file_id.json\n",
            "User uploaded file \"file_id.json\" with length 489 bytes\n"
          ],
          "name": "stdout"
        }
      ]
    },
    {
      "metadata": {
        "id": "1REKyLQCJEU4",
        "colab_type": "code",
        "colab": {
          "autoexec": {
            "startup": false,
            "wait_interval": 0
          }
        }
      },
      "cell_type": "code",
      "source": [
        "#2. Get the files\n",
        "downloaded1 = drive.CreateFile({'id':file_id_data[\"modified_train_file_id\"]}) \n",
        "downloaded1.GetContentFile('modified_train_data.csv')  \n",
        "downloaded2 = drive.CreateFile({'id':file_id_data[\"modified_test_file_id\"]}) \n",
        "downloaded2.GetContentFile('modified_test_data.csv')\n",
        "downloaded3 = drive.CreateFile({'id':file_id_data[\"word2vec_model\"]}) \n",
        "downloaded3.GetContentFile('word2vec_model')  \n",
        "downloaded4 = drive.CreateFile({'id':file_id_data[\"data\"]}) \n",
        "downloaded4.GetContentFile('data.json')"
      ],
      "execution_count": 0,
      "outputs": []
    },
    {
      "metadata": {
        "id": "E5ZZSx8iJwhR",
        "colab_type": "code",
        "colab": {
          "autoexec": {
            "startup": false,
            "wait_interval": 0
          }
        }
      },
      "cell_type": "code",
      "source": [
        "#3. Read file as panda dataframe\n",
        "data = pd.read_csv('modified_train_data.csv') \n",
        "test_data = pd.read_csv('modified_test_data.csv')"
      ],
      "execution_count": 0,
      "outputs": []
    },
    {
      "metadata": {
        "id": "j6uXWWJxxazw",
        "colab_type": "code",
        "colab": {
          "autoexec": {
            "startup": false,
            "wait_interval": 0
          }
        }
      },
      "cell_type": "code",
      "source": [
        "os.remove(\"modified_train_data.csv\")\n",
        "os.remove(\"modified_test_data.csv\")"
      ],
      "execution_count": 0,
      "outputs": []
    },
    {
      "metadata": {
        "id": "vIFv72HKJ3CZ",
        "colab_type": "code",
        "colab": {
          "autoexec": {
            "startup": false,
            "wait_interval": 0
          }
        }
      },
      "cell_type": "code",
      "source": [
        "metadata= json.loads(open(\"data.json\").read())\n",
        "size = metadata['size']"
      ],
      "execution_count": 0,
      "outputs": []
    },
    {
      "metadata": {
        "id": "hqJ2e07PJ9Ii",
        "colab_type": "code",
        "colab": {
          "autoexec": {
            "startup": false,
            "wait_interval": 0
          }
        }
      },
      "cell_type": "code",
      "source": [
        "fname = \"word2vec_model\"\n",
        "model = Word2VecKeyedVectors.load_word2vec_format(fname)"
      ],
      "execution_count": 0,
      "outputs": []
    },
    {
      "metadata": {
        "id": "7ReEijxHxnFf",
        "colab_type": "code",
        "colab": {
          "autoexec": {
            "startup": false,
            "wait_interval": 0
          }
        }
      },
      "cell_type": "code",
      "source": [
        "os.remove(\"word2vec_model\")"
      ],
      "execution_count": 0,
      "outputs": []
    },
    {
      "metadata": {
        "id": "hu3m9qizKkuR",
        "colab_type": "code",
        "colab": {
          "autoexec": {
            "startup": false,
            "wait_interval": 0
          },
          "output_extras": [
            {
              "item_id": 1
            }
          ],
          "base_uri": "https://localhost:8080/",
          "height": 512
        },
        "outputId": "954b1347-adbc-4b67-f80c-76118f2c61fe",
        "executionInfo": {
          "status": "ok",
          "timestamp": 1521087350966,
          "user_tz": -360,
          "elapsed": 2037,
          "user": {
            "displayName": "Itrat Rahman",
            "photoUrl": "//lh3.googleusercontent.com/-j1V_yfZD3m0/AAAAAAAAAAI/AAAAAAAAFTg/pDPmK0kE5mI/s50-c-k-no/photo.jpg",
            "userId": "116815226076340067076"
          }
        }
      },
      "cell_type": "code",
      "source": [
        "data.hist(\"length\", bins=500, figsize=(16,8))\n",
        "plt.xlabel(\"#words\")\n",
        "plt.xlim(0,300)\n",
        "plt.show()"
      ],
      "execution_count": 13,
      "outputs": [
        {
          "output_type": "display_data",
          "data": {
            "image/png": "[encoded data removed]",
            "text/plain": [
              "<matplotlib.figure.Figure at 0x7f9acb41ff98>"
            ]
          },
          "metadata": {
            "tags": []
          }
        }
      ]
    },
    {
      "metadata": {
        "id": "Q4F_uInHKnRp",
        "colab_type": "code",
        "colab": {
          "autoexec": {
            "startup": false,
            "wait_interval": 0
          },
          "output_extras": [
            {
              "item_id": 1
            }
          ],
          "base_uri": "https://localhost:8080/",
          "height": 512
        },
        "outputId": "8ff572a8-8951-4fe7-9b88-5e017c917574",
        "executionInfo": {
          "status": "ok",
          "timestamp": 1521087352917,
          "user_tz": -360,
          "elapsed": 1831,
          "user": {
            "displayName": "Itrat Rahman",
            "photoUrl": "//lh3.googleusercontent.com/-j1V_yfZD3m0/AAAAAAAAAAI/AAAAAAAAFTg/pDPmK0kE5mI/s50-c-k-no/photo.jpg",
            "userId": "116815226076340067076"
          }
        }
      },
      "cell_type": "code",
      "source": [
        "test_data.hist(\"length\", bins=500, figsize=(16,8))\n",
        "plt.xlabel(\"#words\")\n",
        "plt.xlim(0,300)\n",
        "plt.show()"
      ],
      "execution_count": 14,
      "outputs": [
        {
          "output_type": "display_data",
          "data": {
            "image/png": "[encoded data removed]",
            "text/plain": [
              "<matplotlib.figure.Figure at 0x7f9acaf2f320>"
            ]
          },
          "metadata": {
            "tags": []
          }
        }
      ]
    },
    {
      "metadata": {
        "id": "JoXXSM1nKpQh",
        "colab_type": "code",
        "colab": {
          "autoexec": {
            "startup": false,
            "wait_interval": 0
          },
          "output_extras": [
            {
              "item_id": 1
            }
          ],
          "base_uri": "https://localhost:8080/",
          "height": 497
        },
        "outputId": "44f278ba-8ef3-4475-c2bf-f2c101fe8ac7",
        "executionInfo": {
          "status": "ok",
          "timestamp": 1521087355085,
          "user_tz": -360,
          "elapsed": 2045,
          "user": {
            "displayName": "Itrat Rahman",
            "photoUrl": "//lh3.googleusercontent.com/-j1V_yfZD3m0/AAAAAAAAAAI/AAAAAAAAFTg/pDPmK0kE5mI/s50-c-k-no/photo.jpg",
            "userId": "116815226076340067076"
          }
        }
      },
      "cell_type": "code",
      "source": [
        "all_length = pd.concat([data['length'], test_data['length']])\n",
        "all_length.hist(bins=500, figsize=(16,8))\n",
        "plt.xlim(0,300)\n",
        "plt.xlabel(\"#words\")\n",
        "plt.show()\n",
        "del(all_length)"
      ],
      "execution_count": 15,
      "outputs": [
        {
          "output_type": "display_data",
          "data": {
            "image/png": "[encoded data removed]",
            "text/plain": [
              "<matplotlib.figure.Figure at 0x7f9ac8a23d68>"
            ]
          },
          "metadata": {
            "tags": []
          }
        }
      ]
    },
    {
      "metadata": {
        "id": "9Kv_IvqfKq15",
        "colab_type": "code",
        "colab": {
          "autoexec": {
            "startup": false,
            "wait_interval": 0
          }
        }
      },
      "cell_type": "code",
      "source": [
        "comments = data[\"comment_text\"].as_matrix()\n",
        "sentiments = data[[\"toxic\",\"severe_toxic\",\"obscene\",\"threat\",\"insult\",\"identity_hate\"]].as_matrix()\n",
        "seq_length = data['length'].as_matrix()\n",
        "\n",
        "train_indices = np.random.choice(len(seq_length), round(len(seq_length)*0.96), replace=False)\n",
        "validation_indices = np.array(list(set(range(len(seq_length))) - set(train_indices)))\n",
        "\n",
        "comments_train = comments[train_indices]\n",
        "comments_validation = comments[validation_indices]\n",
        "comments_test = test_data[\"comment_text\"].as_matrix()\n",
        "\n",
        "seq_length_train = seq_length[train_indices]\n",
        "seq_length_validation = seq_length[validation_indices]\n",
        "seq_length_test = test_data['length'].as_matrix()\n",
        "\n",
        "sentiments_train = sentiments[train_indices]\n",
        "sentiments_validation = sentiments[validation_indices]\n",
        "\n",
        "test_id = test_data['id'].as_matrix()"
      ],
      "execution_count": 0,
      "outputs": []
    },
    {
      "metadata": {
        "id": "LeyR-q6BKtTJ",
        "colab_type": "code",
        "colab": {
          "autoexec": {
            "startup": false,
            "wait_interval": 0
          },
          "output_extras": [
            {
              "item_id": 1
            }
          ],
          "base_uri": "https://localhost:8080/",
          "height": 170
        },
        "outputId": "c65b6a0c-930c-4dc8-b656-a5f980ee7139",
        "executionInfo": {
          "status": "ok",
          "timestamp": 1521087356935,
          "user_tz": -360,
          "elapsed": 897,
          "user": {
            "displayName": "Itrat Rahman",
            "photoUrl": "//lh3.googleusercontent.com/-j1V_yfZD3m0/AAAAAAAAAAI/AAAAAAAAFTg/pDPmK0kE5mI/s50-c-k-no/photo.jpg",
            "userId": "116815226076340067076"
          }
        }
      },
      "cell_type": "code",
      "source": [
        "print(\"shape of comments_train:\",comments_train.shape)\n",
        "print(\"shape of comments_validation:\",comments_validation.shape)\n",
        "print(\"shape of comments_test:\",comments_test.shape)\n",
        "print(\"shape of seq_length_train:\",seq_length_train.shape)\n",
        "print(\"shape of seq_length_validation:\",seq_length_validation.shape)\n",
        "print(\"shape of seq_length_test:\",seq_length_test.shape)\n",
        "print(\"shape of sentiments_train:\",sentiments_train.shape)\n",
        "print(\"shape of sentiments_test:\",sentiments_validation.shape)\n",
        "print(\"shape of test_id:\",test_id.shape)"
      ],
      "execution_count": 17,
      "outputs": [
        {
          "output_type": "stream",
          "text": [
            "shape of comments_train: (153188,)\n",
            "shape of comments_validation: (6383,)\n",
            "shape of comments_test: (153164,)\n",
            "shape of seq_length_train: (153188,)\n",
            "shape of seq_length_validation: (6383,)\n",
            "shape of seq_length_test: (153164,)\n",
            "shape of sentiments_train: (153188, 6)\n",
            "shape of sentiments_test: (6383, 6)\n",
            "shape of test_id: (153164,)\n"
          ],
          "name": "stdout"
        }
      ]
    },
    {
      "metadata": {
        "id": "sXTXrdE8KvFx",
        "colab_type": "code",
        "colab": {
          "autoexec": {
            "startup": false,
            "wait_interval": 0
          }
        }
      },
      "cell_type": "code",
      "source": [
        "del(train_indices, validation_indices, data, test_data, comments, sentiments, seq_length)"
      ],
      "execution_count": 0,
      "outputs": []
    },
    {
      "metadata": {
        "id": "fZ-ZwL-wKyWp",
        "colab_type": "code",
        "colab": {
          "autoexec": {
            "startup": false,
            "wait_interval": 0
          }
        }
      },
      "cell_type": "code",
      "source": [
        "def sequence_generator(comments, max_length, size):\n",
        "    \n",
        "    sentences = []\n",
        "    for comment in comments.tolist():\n",
        "        sentences.append(str(comment).split())\n",
        "        \n",
        "    sequences = []\n",
        "    for sentence in sentences:\n",
        "        if len(sentence)>0:\n",
        "            if len(sentence)<max_length:\n",
        "                sequence = model[sentence]\n",
        "                tail = np.zeros((max_length - len(sentence), size))\n",
        "                sequence = np.concatenate((sequence, tail))\n",
        "            else:\n",
        "                sequence = model[sentence[:max_length]]\n",
        "        else:\n",
        "            sequence = np.zeros((max_length, size))        \n",
        "        sequences.append(sequence)\n",
        "    sequences = np.array(sequences)\n",
        "    \n",
        "    return sequences"
      ],
      "execution_count": 0,
      "outputs": []
    },
    {
      "metadata": {
        "id": "HUe49cJOK7vo",
        "colab_type": "code",
        "colab": {
          "autoexec": {
            "startup": false,
            "wait_interval": 0
          }
        }
      },
      "cell_type": "code",
      "source": [
        "max_length = n_steps =250 \n",
        "size = n_inputs = size\n",
        "n_outputs = 6"
      ],
      "execution_count": 0,
      "outputs": []
    },
    {
      "metadata": {
        "id": "tZHiJO4uK4mB",
        "colab_type": "code",
        "colab": {
          "autoexec": {
            "startup": false,
            "wait_interval": 0
          }
        }
      },
      "cell_type": "code",
      "source": [
        "def generate_train_batch(indices, comments, seq_length, sentiments, max_length, size):\n",
        "    \n",
        "    comments_batch = comments[indices]\n",
        "    seq_length_batch = seq_length[indices]\n",
        "    sentiments_batch = sentiments[indices]\n",
        "    \n",
        "    sequences_batch = sequence_generator(comments_batch, max_length, size)\n",
        "    \n",
        "    return sequences_batch, seq_length_batch, sentiments_batch"
      ],
      "execution_count": 0,
      "outputs": []
    },
    {
      "metadata": {
        "id": "WVBnM79uK_vx",
        "colab_type": "code",
        "colab": {
          "autoexec": {
            "startup": false,
            "wait_interval": 0
          }
        }
      },
      "cell_type": "code",
      "source": [
        "X = tf.placeholder(tf.float32, [None, n_steps, n_inputs])\n",
        "labels = tf.placeholder(tf.float32, [None, n_outputs])\n",
        "length = tf.placeholder(tf.int32, [None])\n",
        "keep_prob = tf.placeholder(tf.float32)"
      ],
      "execution_count": 0,
      "outputs": []
    },
    {
      "metadata": {
        "id": "SZ2IgXgmLBZi",
        "colab_type": "code",
        "colab": {
          "autoexec": {
            "startup": false,
            "wait_interval": 0
          }
        }
      },
      "cell_type": "code",
      "source": [
        "n_layers = 3\n",
        "n_neurons = 128"
      ],
      "execution_count": 0,
      "outputs": []
    },
    {
      "metadata": {
        "id": "vf-GZbQKLCvZ",
        "colab_type": "code",
        "colab": {
          "autoexec": {
            "startup": false,
            "wait_interval": 0
          }
        }
      },
      "cell_type": "code",
      "source": [
        "lstm_cells = [tf.contrib.rnn.BasicLSTMCell(num_units=n_neurons)\n",
        "              for layer in range(n_layers)]\n",
        "lstm_cells_drop = [tf.contrib.rnn.DropoutWrapper(cell, input_keep_prob=keep_prob)\n",
        "                    for cell in lstm_cells]\n",
        "cells_across_gpu = [tf.contrib.rnn.DeviceWrapper(\"/device:GPU:0\", cell) for cell in lstm_cells_drop]\n",
        "\n",
        "multi_cell = tf.contrib.rnn.MultiRNNCell(lstm_cells)"
      ],
      "execution_count": 0,
      "outputs": []
    },
    {
      "metadata": {
        "id": "zsYqauYlLEKh",
        "colab_type": "code",
        "colab": {
          "autoexec": {
            "startup": false,
            "wait_interval": 0
          },
          "output_extras": [
            {
              "item_id": 1
            }
          ],
          "base_uri": "https://localhost:8080/",
          "height": 34
        },
        "outputId": "8fb91239-479b-4cfb-e5e0-3a7b9f90fd15",
        "executionInfo": {
          "status": "ok",
          "timestamp": 1521087364980,
          "user_tz": -360,
          "elapsed": 775,
          "user": {
            "displayName": "Itrat Rahman",
            "photoUrl": "//lh3.googleusercontent.com/-j1V_yfZD3m0/AAAAAAAAAAI/AAAAAAAAFTg/pDPmK0kE5mI/s50-c-k-no/photo.jpg",
            "userId": "116815226076340067076"
          }
        }
      },
      "cell_type": "code",
      "source": [
        "outputs, states = tf.nn.dynamic_rnn(multi_cell, X, dtype=tf.float32, sequence_length=length)\n",
        "top_layer_h_state = states[-1][1]\n",
        "top_layer_h_state"
      ],
      "execution_count": 25,
      "outputs": [
        {
          "output_type": "execute_result",
          "data": {
            "text/plain": [
              "<tf.Tensor 'rnn/while/Exit_8:0' shape=(?, 128) dtype=float32>"
            ]
          },
          "metadata": {
            "tags": []
          },
          "execution_count": 25
        }
      ]
    },
    {
      "metadata": {
        "id": "viIrdXC_LGnR",
        "colab_type": "code",
        "colab": {
          "autoexec": {
            "startup": false,
            "wait_interval": 0
          }
        }
      },
      "cell_type": "code",
      "source": [
        "def create_weights(shape):\n",
        "    '''a function to create weight tensor'''\n",
        "    with tf.device(\"/device:CPU:0\"):\n",
        "      W = tf.Variable(tf.truncated_normal(shape, stddev=0.05))\n",
        "    return W\n",
        "\n",
        "def create_biases(size):\n",
        "    '''a function to create bias tensor'''\n",
        "    with tf.device(\"/device:CPU:0\"):\n",
        "      b = tf.Variable(tf.constant(0.05, shape=[size]))\n",
        "    return b"
      ],
      "execution_count": 0,
      "outputs": []
    },
    {
      "metadata": {
        "id": "tTviHem1LH9h",
        "colab_type": "code",
        "colab": {
          "autoexec": {
            "startup": false,
            "wait_interval": 0
          }
        }
      },
      "cell_type": "code",
      "source": [
        "def create_fc_layer(input,          \n",
        "                    num_inputs,    \n",
        "                    num_outputs,\n",
        "                    use_relu=False,\n",
        "                    dropout = False, \n",
        "                    keep_prob = 0.2):\n",
        "    \n",
        "    '''a function for creating fully connected layer'''\n",
        "    \n",
        "    #Let's define trainable weights and biases.\n",
        "    weights = create_weights(shape=[num_inputs, num_outputs])\n",
        "    biases = create_biases(num_outputs)\n",
        "    \n",
        "    with tf.device(\"/device:GPU:0\"):\n",
        "      # matrix multiplication between input and weight matrix\n",
        "      layer = tf.matmul(input, weights)\n",
        "\n",
        "      # add the bias to the convolutional layer\n",
        "      layer += biases\n",
        "\n",
        "      # add relu activation if wanted\n",
        "      if use_relu:\n",
        "          layer = tf.nn.relu(layer)\n",
        "\n",
        "      # if dropout is wanted add dropout\n",
        "      if dropout:        \n",
        "          layer = tf.nn.dropout(layer, keep_prob)\n",
        "\n",
        "    # return layer\n",
        "    return layer"
      ],
      "execution_count": 0,
      "outputs": []
    },
    {
      "metadata": {
        "id": "1F-4_yCVLMfJ",
        "colab_type": "code",
        "colab": {
          "autoexec": {
            "startup": false,
            "wait_interval": 0
          }
        }
      },
      "cell_type": "code",
      "source": [
        "fc_layer_size1 = 32\n",
        "# fc_layer_size2 = 64"
      ],
      "execution_count": 0,
      "outputs": []
    },
    {
      "metadata": {
        "id": "4nv8RuWILOBh",
        "colab_type": "code",
        "colab": {
          "autoexec": {
            "startup": false,
            "wait_interval": 0
          },
          "output_extras": [
            {
              "item_id": 1
            }
          ],
          "base_uri": "https://localhost:8080/",
          "height": 34
        },
        "outputId": "d67bfa70-9929-47ab-a265-133f41ab2252",
        "executionInfo": {
          "status": "ok",
          "timestamp": 1521087368626,
          "user_tz": -360,
          "elapsed": 813,
          "user": {
            "displayName": "Itrat Rahman",
            "photoUrl": "//lh3.googleusercontent.com/-j1V_yfZD3m0/AAAAAAAAAAI/AAAAAAAAFTg/pDPmK0kE5mI/s50-c-k-no/photo.jpg",
            "userId": "116815226076340067076"
          }
        }
      },
      "cell_type": "code",
      "source": [
        "layer_fc1 = create_fc_layer(input=top_layer_h_state,\n",
        "                            num_inputs=top_layer_h_state.get_shape()[1].value,\n",
        "                            num_outputs=fc_layer_size1,\n",
        "                            use_relu=True,\n",
        "                            dropout =True,\n",
        "                            keep_prob = keep_prob)\n",
        "layer_fc1"
      ],
      "execution_count": 29,
      "outputs": [
        {
          "output_type": "execute_result",
          "data": {
            "text/plain": [
              "<tf.Tensor 'dropout/mul:0' shape=(?, 32) dtype=float32>"
            ]
          },
          "metadata": {
            "tags": []
          },
          "execution_count": 29
        }
      ]
    },
    {
      "metadata": {
        "id": "iaLiYN7kLPah",
        "colab_type": "code",
        "colab": {
          "autoexec": {
            "startup": false,
            "wait_interval": 0
          }
        }
      },
      "cell_type": "code",
      "source": [
        "# layer_fc2 = create_fc_layer(input=layer_fc1,\n",
        "#                             num_inputs=fc_layer_size1,\n",
        "#                             num_outputs=fc_layer_size2,\n",
        "#                             use_relu=True,\n",
        "#                             dropout =True,\n",
        "#                             keep_prob = keep_prob)\n",
        "# layer_fc2"
      ],
      "execution_count": 0,
      "outputs": []
    },
    {
      "metadata": {
        "id": "JhDrGOPbLRfB",
        "colab_type": "code",
        "colab": {
          "autoexec": {
            "startup": false,
            "wait_interval": 0
          },
          "output_extras": [
            {
              "item_id": 1
            }
          ],
          "base_uri": "https://localhost:8080/",
          "height": 34
        },
        "outputId": "0f42445b-ed36-4ce2-957c-879c8f23776d",
        "executionInfo": {
          "status": "ok",
          "timestamp": 1521087370632,
          "user_tz": -360,
          "elapsed": 866,
          "user": {
            "displayName": "Itrat Rahman",
            "photoUrl": "//lh3.googleusercontent.com/-j1V_yfZD3m0/AAAAAAAAAAI/AAAAAAAAFTg/pDPmK0kE5mI/s50-c-k-no/photo.jpg",
            "userId": "116815226076340067076"
          }
        }
      },
      "cell_type": "code",
      "source": [
        "output = create_fc_layer(input=layer_fc1,\n",
        "                            num_inputs=fc_layer_size1,\n",
        "                            num_outputs=n_outputs,\n",
        "                            use_relu=False,\n",
        "                            dropout =False)\n",
        "output"
      ],
      "execution_count": 31,
      "outputs": [
        {
          "output_type": "execute_result",
          "data": {
            "text/plain": [
              "<tf.Tensor 'add_1:0' shape=(?, 6) dtype=float32>"
            ]
          },
          "metadata": {
            "tags": []
          },
          "execution_count": 31
        }
      ]
    },
    {
      "metadata": {
        "id": "h8AXHNJbLS6R",
        "colab_type": "code",
        "colab": {
          "autoexec": {
            "startup": false,
            "wait_interval": 0
          },
          "output_extras": [
            {
              "item_id": 1
            }
          ],
          "base_uri": "https://localhost:8080/",
          "height": 34
        },
        "outputId": "1ff6e6f3-3368-4dd0-c50e-ca3606784f76",
        "executionInfo": {
          "status": "ok",
          "timestamp": 1521087371624,
          "user_tz": -360,
          "elapsed": 899,
          "user": {
            "displayName": "Itrat Rahman",
            "photoUrl": "//lh3.googleusercontent.com/-j1V_yfZD3m0/AAAAAAAAAAI/AAAAAAAAFTg/pDPmK0kE5mI/s50-c-k-no/photo.jpg",
            "userId": "116815226076340067076"
          }
        }
      },
      "cell_type": "code",
      "source": [
        "with tf.device(\"/device:GPU:0\"):\n",
        "  logits = tf.nn.sigmoid(output)\n",
        "logits"
      ],
      "execution_count": 32,
      "outputs": [
        {
          "output_type": "execute_result",
          "data": {
            "text/plain": [
              "<tf.Tensor 'Sigmoid:0' shape=(?, 6) dtype=float32>"
            ]
          },
          "metadata": {
            "tags": []
          },
          "execution_count": 32
        }
      ]
    },
    {
      "metadata": {
        "id": "AxxJlMJALWkZ",
        "colab_type": "code",
        "colab": {
          "autoexec": {
            "startup": false,
            "wait_interval": 0
          }
        }
      },
      "cell_type": "code",
      "source": [
        "with tf.device(\"/device:GPU:0\"):\n",
        "  loss = tf.losses.sigmoid_cross_entropy(multi_class_labels=labels, logits=output)"
      ],
      "execution_count": 0,
      "outputs": []
    },
    {
      "metadata": {
        "id": "IenpUAVILYDZ",
        "colab_type": "code",
        "colab": {
          "autoexec": {
            "startup": false,
            "wait_interval": 0
          }
        }
      },
      "cell_type": "code",
      "source": [
        "roc = tf.metrics.auc(labels=labels, predictions=logits)"
      ],
      "execution_count": 0,
      "outputs": []
    },
    {
      "metadata": {
        "id": "4_fVRSuBLZXR",
        "colab_type": "code",
        "colab": {
          "autoexec": {
            "startup": false,
            "wait_interval": 0
          }
        }
      },
      "cell_type": "code",
      "source": [
        "# learning rate of optimizer\n",
        "learning_rate = (1e-3)*6\n",
        "with tf.device(\"/device:GPU:0\"):\n",
        "  # train step\n",
        "  train_step = tf.train.AdamOptimizer(learning_rate=learning_rate).minimize(loss)"
      ],
      "execution_count": 0,
      "outputs": []
    },
    {
      "metadata": {
        "id": "eiIyqonXLbN6",
        "colab_type": "code",
        "colab": {
          "autoexec": {
            "startup": false,
            "wait_interval": 0
          }
        }
      },
      "cell_type": "code",
      "source": [
        "# lists to store the train loss, validation loss, validation accuracy at each iteration\n",
        "train_loss = []\n",
        "valid_loss = []\n",
        "valid_roc = []\n",
        "\n",
        "# batch size\n",
        "batch_size = 200\n",
        "# max iteration\n",
        "max_iter = 3000"
      ],
      "execution_count": 0,
      "outputs": []
    },
    {
      "metadata": {
        "id": "yet1CuI7Ld59",
        "colab_type": "code",
        "colab": {
          "autoexec": {
            "startup": false,
            "wait_interval": 0
          },
          "output_extras": [
            {
              "item_id": 39
            },
            {
              "item_id": 78
            },
            {
              "item_id": 117
            },
            {
              "item_id": 156
            },
            {
              "item_id": 195
            },
            {
              "item_id": 234
            },
            {
              "item_id": 273
            },
            {
              "item_id": 312
            },
            {
              "item_id": 351
            },
            {
              "item_id": 390
            },
            {
              "item_id": 429
            },
            {
              "item_id": 468
            },
            {
              "item_id": 507
            },
            {
              "item_id": 546
            },
            {
              "item_id": 585
            },
            {
              "item_id": 624
            },
            {
              "item_id": 663
            },
            {
              "item_id": 702
            },
            {
              "item_id": 741
            },
            {
              "item_id": 780
            },
            {
              "item_id": 819
            },
            {
              "item_id": 858
            },
            {
              "item_id": 897
            },
            {
              "item_id": 936
            },
            {
              "item_id": 975
            },
            {
              "item_id": 1014
            },
            {
              "item_id": 1053
            },
            {
              "item_id": 1092
            },
            {
              "item_id": 1131
            },
            {
              "item_id": 1170
            },
            {
              "item_id": 1209
            },
            {
              "item_id": 1248
            },
            {
              "item_id": 1287
            },
            {
              "item_id": 1326
            },
            {
              "item_id": 1365
            },
            {
              "item_id": 1404
            },
            {
              "item_id": 1443
            },
            {
              "item_id": 1482
            },
            {
              "item_id": 1521
            },
            {
              "item_id": 1560
            },
            {
              "item_id": 1599
            },
            {
              "item_id": 1638
            },
            {
              "item_id": 1677
            },
            {
              "item_id": 1716
            },
            {
              "item_id": 1755
            },
            {
              "item_id": 1794
            },
            {
              "item_id": 1833
            },
            {
              "item_id": 1872
            },
            {
              "item_id": 1911
            },
            {
              "item_id": 1950
            },
            {
              "item_id": 1989
            },
            {
              "item_id": 2028
            },
            {
              "item_id": 2067
            },
            {
              "item_id": 2106
            },
            {
              "item_id": 2145
            },
            {
              "item_id": 2184
            },
            {
              "item_id": 2223
            },
            {
              "item_id": 2262
            },
            {
              "item_id": 2301
            },
            {
              "item_id": 2340
            },
            {
              "item_id": 2379
            },
            {
              "item_id": 2418
            },
            {
              "item_id": 2457
            },
            {
              "item_id": 2496
            },
            {
              "item_id": 2535
            },
            {
              "item_id": 2574
            },
            {
              "item_id": 2613
            },
            {
              "item_id": 2652
            },
            {
              "item_id": 2691
            },
            {
              "item_id": 2730
            },
            {
              "item_id": 2763
            }
          ],
          "base_uri": "https://localhost:8080/",
          "height": 46988
        },
        "outputId": "4526b2c5-6eca-40be-ae09-b78d252a7183",
        "executionInfo": {
          "status": "ok",
          "timestamp": 1521101782059,
          "user_tz": -360,
          "elapsed": 14406208,
          "user": {
            "displayName": "Itrat Rahman",
            "photoUrl": "//lh3.googleusercontent.com/-j1V_yfZD3m0/AAAAAAAAAAI/AAAAAAAAFTg/pDPmK0kE5mI/s50-c-k-no/photo.jpg",
            "userId": "116815226076340067076"
          }
        }
      },
      "cell_type": "code",
      "source": [
        "# create a saver object\n",
        "saver = tf.train.Saver(max_to_keep=1)\n",
        "\n",
        "# variables to store the accuracy, loss, iteration of our best model\n",
        "best_accuracy = 0\n",
        "best_roc = -10\n",
        "best_iteration = None\n",
        "\n",
        "iteration = 0\n",
        "\n",
        "train_hours = 4\n",
        "\n",
        "# feed dictionary for validation\n",
        "feed_dict_validation =  {X:sequence_generator(comments_validation, max_length, size),\n",
        "                        labels:sentiments_validation,\n",
        "                        length:seq_length_validation,\n",
        "                        keep_prob: 1.0}\n",
        "\n",
        "t1 = time.time()\n",
        "\n",
        "# create a graph session and optimize under it\n",
        "with tf.Session() as sess:\n",
        "    \n",
        "    # initialize variables\n",
        "    sess.run(tf.global_variables_initializer())\n",
        "    sess.run(tf.local_variables_initializer())\n",
        "\n",
        "    # while minutes have not elapsed (to finish before the kernel is killed)\n",
        "    while (time.time()-t1) < train_hours*60*60:\n",
        "        \n",
        "        # break if max iteration is reached\n",
        "        if iteration >= max_iter:\n",
        "            break\n",
        "\n",
        "        # randomly choosing the indices of the batch \n",
        "        rand_index = np.random.choice(sentiments_train.shape[0], size=batch_size)\n",
        "\n",
        "        # extract the batch data\n",
        "        sequences_batch, seq_length_batch, sentiments_batch = \\\n",
        "        generate_train_batch(rand_index, comments_train, seq_length_train, sentiments_train,\n",
        "                             max_length, size)\n",
        "        \n",
        "        # feed dictionary for batch\n",
        "        feed_dict_batch =  {X:sequences_batch,\n",
        "                            labels:sentiments_batch,\n",
        "                            length:seq_length_batch,\n",
        "                            keep_prob: 0.75}\n",
        "        # feed dictionary for train\n",
        "        feed_dict_train =  {X:sequences_batch,\n",
        "                            labels:sentiments_batch,\n",
        "                            length:seq_length_batch,\n",
        "                            keep_prob: 1.0}        \n",
        "        \n",
        "        # execute optimization step\n",
        "        sess.run(train_step, feed_dict=feed_dict_batch)\n",
        "\n",
        "        # calculate temporary train loss and append it to the designated list\n",
        "        temp_train_loss = loss.eval(session=sess, feed_dict=feed_dict_train)\n",
        "        train_loss.append(temp_train_loss)\n",
        "        # calculate temporary validation loss and append it to the designated list\n",
        "        temp_validation_loss = loss.eval(session=sess, feed_dict=feed_dict_validation)\n",
        "        valid_loss.append(temp_validation_loss)\n",
        "        # calculate roc score\n",
        "        temp_roc_score = sess.run(roc, feed_dict=feed_dict_validation)[1]\n",
        "        valid_roc.append(temp_roc_score)\n",
        "        \n",
        "        # if valid loss is better than best recorded so far then\n",
        "        # update the parameters of the best model and save the model\n",
        "        if temp_roc_score > best_roc:\n",
        "            best_roc = temp_roc_score\n",
        "            best_iteration = iteration          \n",
        "            saver.save(sess, './my-model', global_step = best_iteration)\n",
        "\n",
        "        # print metric info\n",
        "        print(\"iterations:\",iteration,\n",
        "              \"| train_loss:\", temp_train_loss,\n",
        "              \"| validation_loss:\", temp_validation_loss,\n",
        "              \"| Roc Score:\", temp_roc_score,\n",
        "              \"| Time elapsed:\",str(datetime.timedelta(seconds=time.time()-t1)))\n",
        "        \n",
        "        # increment iteration\n",
        "        iteration = iteration+1"
      ],
      "execution_count": 37,
      "outputs": [
        {
          "output_type": "stream",
          "text": [
            "iterations: 0 | train_loss: 0.68478346 | validation_loss: 0.68602 | Roc Score: 0.71737707 | Time elapsed: 0:00:05.751477\n",
            "iterations: 1 | train_loss: 0.580639 | validation_loss: 0.58670264 | Roc Score: 0.6343635 | Time elapsed: 0:00:10.817019\n",
            "iterations: 2 | train_loss: 0.46828642 | validation_loss: 0.4678151 | Roc Score: 0.613758 | Time elapsed: 0:00:15.903695\n",
            "iterations: 3 | train_loss: 0.3265484 | validation_loss: 0.33427298 | Roc Score: 0.5959931 | Time elapsed: 0:00:20.978387\n",
            "iterations: 4 | train_loss: 0.20930286 | validation_loss: 0.22391213 | Roc Score: 0.5813009 | Time elapsed: 0:00:26.075856\n",
            "iterations: 5 | train_loss: 0.1583008 | validation_loss: 0.16211379 | Roc Score: 0.5712571 | Time elapsed: 0:00:31.149620\n",
            "iterations: 6 | train_loss: 0.15508525 | validation_loss: 0.14535493 | Roc Score: 0.5642109 | Time elapsed: 0:00:36.265902\n",
            "iterations: 7 | train_loss: 0.13316767 | validation_loss: 0.15361018 | Roc Score: 0.5582676 | Time elapsed: 0:00:41.332130\n",
            "iterations: 8 | train_loss: 0.14524516 | validation_loss: 0.16941439 | Roc Score: 0.55476975 | Time elapsed: 0:00:46.468512\n",
            "iterations: 9 | train_loss: 0.103648886 | validation_loss: 0.1857851 | Roc Score: 0.5533769 | Time elapsed: 0:00:51.568598\n",
            "iterations: 10 | train_loss: 0.106629774 | validation_loss: 0.19907175 | Roc Score: 0.55171865 | Time elapsed: 0:00:56.684913\n",
            "iterations: 11 | train_loss: 0.25604323 | validation_loss: 0.20334664 | Roc Score: 0.55183864 | Time elapsed: 0:01:01.831548\n",
            "iterations: 12 | train_loss: 0.16813155 | validation_loss: 0.20217338 | Roc Score: 0.5539024 | Time elapsed: 0:01:06.922493\n",
            "iterations: 13 | train_loss: 0.2008433 | validation_loss: 0.19611302 | Roc Score: 0.5570567 | Time elapsed: 0:01:12.024385\n",
            "iterations: 14 | train_loss: 0.23550174 | validation_loss: 0.18594792 | Roc Score: 0.56086856 | Time elapsed: 0:01:17.130813\n",
            "iterations: 15 | train_loss: 0.24065967 | validation_loss: 0.17379732 | Roc Score: 0.56626827 | Time elapsed: 0:01:22.291677\n",
            "iterations: 16 | train_loss: 0.13817117 | validation_loss: 0.16385578 | Roc Score: 0.5720918 | Time elapsed: 0:01:27.353374\n",
            "iterations: 17 | train_loss: 0.121134184 | validation_loss: 0.15772572 | Roc Score: 0.57971877 | Time elapsed: 0:01:32.454770\n",
            "iterations: 18 | train_loss: 0.128887 | validation_loss: 0.15510632 | Roc Score: 0.58690405 | Time elapsed: 0:01:37.564523\n",
            "iterations: 19 | train_loss: 0.15246508 | validation_loss: 0.15400079 | Roc Score: 0.59365475 | Time elapsed: 0:01:42.655801\n",
            "iterations: 20 | train_loss: 0.17034213 | validation_loss: 0.15325962 | Roc Score: 0.59981287 | Time elapsed: 0:01:47.745652\n",
            "iterations: 21 | train_loss: 0.14367543 | validation_loss: 0.15159255 | Roc Score: 0.6055132 | Time elapsed: 0:01:52.847844\n",
            "iterations: 22 | train_loss: 0.1529182 | validation_loss: 0.1489362 | Roc Score: 0.6106655 | Time elapsed: 0:01:57.973874\n",
            "iterations: 23 | train_loss: 0.17006755 | validation_loss: 0.14651707 | Roc Score: 0.6155903 | Time elapsed: 0:02:03.060617\n",
            "iterations: 24 | train_loss: 0.1642999 | validation_loss: 0.14490308 | Roc Score: 0.62008107 | Time elapsed: 0:02:08.182450\n",
            "iterations: 25 | train_loss: 0.15778153 | validation_loss: 0.14434709 | Roc Score: 0.6239909 | Time elapsed: 0:02:13.282128\n",
            "iterations: 26 | train_loss: 0.1832366 | validation_loss: 0.14501652 | Roc Score: 0.62746644 | Time elapsed: 0:02:18.367898\n",
            "iterations: 27 | train_loss: 0.23224327 | validation_loss: 0.1466698 | Roc Score: 0.6304293 | Time elapsed: 0:02:23.469098\n",
            "iterations: 28 | train_loss: 0.17621823 | validation_loss: 0.1480829 | Roc Score: 0.63311666 | Time elapsed: 0:02:28.566736\n",
            "iterations: 29 | train_loss: 0.16199939 | validation_loss: 0.14771444 | Roc Score: 0.6356604 | Time elapsed: 0:02:33.694246\n",
            "iterations: 30 | train_loss: 0.13720854 | validation_loss: 0.14612745 | Roc Score: 0.6380485 | Time elapsed: 0:02:38.812205\n",
            "iterations: 31 | train_loss: 0.16816588 | validation_loss: 0.14363743 | Roc Score: 0.64035815 | Time elapsed: 0:02:43.873065\n",
            "iterations: 32 | train_loss: 0.16091146 | validation_loss: 0.1410608 | Roc Score: 0.6423341 | Time elapsed: 0:02:48.932389\n",
            "iterations: 33 | train_loss: 0.15361114 | validation_loss: 0.13889168 | Roc Score: 0.6442218 | Time elapsed: 0:02:54.022766\n",
            "iterations: 34 | train_loss: 0.16405463 | validation_loss: 0.13753003 | Roc Score: 0.64607924 | Time elapsed: 0:02:59.131281\n",
            "iterations: 35 | train_loss: 0.13850486 | validation_loss: 0.13680762 | Roc Score: 0.64799833 | Time elapsed: 0:03:04.257252\n",
            "iterations: 36 | train_loss: 0.12097262 | validation_loss: 0.13655025 | Roc Score: 0.6496979 | Time elapsed: 0:03:09.040203\n",
            "iterations: 37 | train_loss: 0.17596003 | validation_loss: 0.13674997 | Roc Score: 0.6514707 | Time elapsed: 0:03:14.159042\n",
            "iterations: 38 | train_loss: 0.14456652 | validation_loss: 0.13714112 | Roc Score: 0.65320486 | Time elapsed: 0:03:19.207380\n"
          ],
          "name": "stdout"
        },
        {
          "output_type": "stream",
          "text": [
            "iterations: 39 | train_loss: 0.15328509 | validation_loss: 0.13758427 | Roc Score: 0.6547593 | Time elapsed: 0:03:24.280307\n",
            "iterations: 40 | train_loss: 0.14952433 | validation_loss: 0.13792019 | Roc Score: 0.65628934 | Time elapsed: 0:03:29.324511\n",
            "iterations: 41 | train_loss: 0.15166746 | validation_loss: 0.13825081 | Roc Score: 0.65778214 | Time elapsed: 0:03:34.430378\n",
            "iterations: 42 | train_loss: 0.13607079 | validation_loss: 0.13845533 | Roc Score: 0.65923953 | Time elapsed: 0:03:39.522282\n",
            "iterations: 43 | train_loss: 0.15078084 | validation_loss: 0.1385146 | Roc Score: 0.66061544 | Time elapsed: 0:03:44.615411\n",
            "iterations: 44 | train_loss: 0.13609357 | validation_loss: 0.13857788 | Roc Score: 0.66190076 | Time elapsed: 0:03:49.713071\n",
            "iterations: 45 | train_loss: 0.16537581 | validation_loss: 0.13855274 | Roc Score: 0.6631329 | Time elapsed: 0:03:54.845357\n",
            "iterations: 46 | train_loss: 0.15414922 | validation_loss: 0.13842753 | Roc Score: 0.66433364 | Time elapsed: 0:03:59.942408\n",
            "iterations: 47 | train_loss: 0.16206989 | validation_loss: 0.13824876 | Roc Score: 0.6654713 | Time elapsed: 0:04:05.051265\n",
            "iterations: 48 | train_loss: 0.15084106 | validation_loss: 0.13800132 | Roc Score: 0.6664656 | Time elapsed: 0:04:10.188213\n",
            "iterations: 49 | train_loss: 0.12411139 | validation_loss: 0.13772741 | Roc Score: 0.66744894 | Time elapsed: 0:04:15.247582\n",
            "iterations: 50 | train_loss: 0.19123127 | validation_loss: 0.13747932 | Roc Score: 0.6681983 | Time elapsed: 0:04:20.286389\n",
            "iterations: 51 | train_loss: 0.13293123 | validation_loss: 0.13725431 | Roc Score: 0.6689547 | Time elapsed: 0:04:25.352041\n",
            "iterations: 52 | train_loss: 0.12960374 | validation_loss: 0.13705748 | Roc Score: 0.66969883 | Time elapsed: 0:04:30.398786\n",
            "iterations: 53 | train_loss: 0.12310446 | validation_loss: 0.1368673 | Roc Score: 0.6705148 | Time elapsed: 0:04:35.345773\n",
            "iterations: 54 | train_loss: 0.10605208 | validation_loss: 0.13674873 | Roc Score: 0.6716069 | Time elapsed: 0:04:40.389242\n",
            "iterations: 55 | train_loss: 0.16531108 | validation_loss: 0.1367054 | Roc Score: 0.67265874 | Time elapsed: 0:04:45.504325\n",
            "iterations: 56 | train_loss: 0.11235901 | validation_loss: 0.13679436 | Roc Score: 0.67374325 | Time elapsed: 0:04:50.569072\n",
            "iterations: 57 | train_loss: 0.14890468 | validation_loss: 0.1368719 | Roc Score: 0.67481077 | Time elapsed: 0:04:55.642213\n",
            "iterations: 58 | train_loss: 0.15347342 | validation_loss: 0.13679306 | Roc Score: 0.67587256 | Time elapsed: 0:05:00.726283\n",
            "iterations: 59 | train_loss: 0.14186497 | validation_loss: 0.13664708 | Roc Score: 0.6769284 | Time elapsed: 0:05:05.837876\n",
            "iterations: 60 | train_loss: 0.14403668 | validation_loss: 0.13657463 | Roc Score: 0.67796814 | Time elapsed: 0:05:10.944535\n",
            "iterations: 61 | train_loss: 0.21653964 | validation_loss: 0.13651332 | Roc Score: 0.6790011 | Time elapsed: 0:05:16.062598\n",
            "iterations: 62 | train_loss: 0.16322652 | validation_loss: 0.13688697 | Roc Score: 0.68005323 | Time elapsed: 0:05:21.149731\n",
            "iterations: 63 | train_loss: 0.14806332 | validation_loss: 0.1376113 | Roc Score: 0.68106925 | Time elapsed: 0:05:26.269308\n",
            "iterations: 64 | train_loss: 0.10103859 | validation_loss: 0.1378453 | Roc Score: 0.682069 | Time elapsed: 0:05:31.302462\n",
            "iterations: 65 | train_loss: 0.14510524 | validation_loss: 0.13779329 | Roc Score: 0.6830522 | Time elapsed: 0:05:36.465075\n",
            "iterations: 66 | train_loss: 0.108707756 | validation_loss: 0.13719045 | Roc Score: 0.68402874 | Time elapsed: 0:05:41.509480\n",
            "iterations: 67 | train_loss: 0.12666264 | validation_loss: 0.13663356 | Roc Score: 0.6849727 | Time elapsed: 0:05:46.567577\n",
            "iterations: 68 | train_loss: 0.14310685 | validation_loss: 0.13640155 | Roc Score: 0.6858764 | Time elapsed: 0:05:51.626637\n",
            "iterations: 69 | train_loss: 0.17862211 | validation_loss: 0.1364234 | Roc Score: 0.68675643 | Time elapsed: 0:05:56.697063\n",
            "iterations: 70 | train_loss: 0.08979792 | validation_loss: 0.13674077 | Roc Score: 0.6876495 | Time elapsed: 0:06:01.785417\n",
            "iterations: 71 | train_loss: 0.1559736 | validation_loss: 0.1371235 | Roc Score: 0.6885065 | Time elapsed: 0:06:06.861111\n",
            "iterations: 72 | train_loss: 0.18466514 | validation_loss: 0.13719606 | Roc Score: 0.68933994 | Time elapsed: 0:06:11.989959\n",
            "iterations: 73 | train_loss: 0.13279083 | validation_loss: 0.13714446 | Roc Score: 0.6901475 | Time elapsed: 0:06:17.051689\n",
            "iterations: 74 | train_loss: 0.14079748 | validation_loss: 0.13702041 | Roc Score: 0.69094104 | Time elapsed: 0:06:22.102424\n",
            "iterations: 75 | train_loss: 0.13877143 | validation_loss: 0.13682681 | Roc Score: 0.6916662 | Time elapsed: 0:06:27.204288\n",
            "iterations: 76 | train_loss: 0.15324637 | validation_loss: 0.13652956 | Roc Score: 0.6923588 | Time elapsed: 0:06:32.265707\n",
            "iterations: 77 | train_loss: 0.1010591 | validation_loss: 0.13643819 | Roc Score: 0.6930384 | Time elapsed: 0:06:37.317482\n"
          ],
          "name": "stdout"
        },
        {
          "output_type": "stream",
          "text": [
            "iterations: 78 | train_loss: 0.1438365 | validation_loss: 0.13632199 | Roc Score: 0.6937026 | Time elapsed: 0:06:42.344162\n",
            "iterations: 79 | train_loss: 0.14400081 | validation_loss: 0.13626292 | Roc Score: 0.6943683 | Time elapsed: 0:06:47.397916\n",
            "iterations: 80 | train_loss: 0.16785763 | validation_loss: 0.13626477 | Roc Score: 0.69503164 | Time elapsed: 0:06:52.438884\n",
            "iterations: 81 | train_loss: 0.1678497 | validation_loss: 0.13648799 | Roc Score: 0.6956401 | Time elapsed: 0:06:57.557394\n",
            "iterations: 82 | train_loss: 0.14183594 | validation_loss: 0.13685925 | Roc Score: 0.69624346 | Time elapsed: 0:07:02.632558\n",
            "iterations: 83 | train_loss: 0.16918524 | validation_loss: 0.1375376 | Roc Score: 0.6968479 | Time elapsed: 0:07:07.693943\n",
            "iterations: 84 | train_loss: 0.15886757 | validation_loss: 0.13828878 | Roc Score: 0.6974412 | Time elapsed: 0:07:12.775978\n",
            "iterations: 85 | train_loss: 0.18313655 | validation_loss: 0.13921164 | Roc Score: 0.69799525 | Time elapsed: 0:07:17.876084\n",
            "iterations: 86 | train_loss: 0.08678491 | validation_loss: 0.13828923 | Roc Score: 0.6985656 | Time elapsed: 0:07:22.974749\n",
            "iterations: 87 | train_loss: 0.16443637 | validation_loss: 0.1374587 | Roc Score: 0.69912666 | Time elapsed: 0:07:28.031616\n",
            "iterations: 88 | train_loss: 0.15347102 | validation_loss: 0.13674667 | Roc Score: 0.69969356 | Time elapsed: 0:07:33.101790\n",
            "iterations: 89 | train_loss: 0.14435732 | validation_loss: 0.13629861 | Roc Score: 0.70022804 | Time elapsed: 0:07:38.211769\n",
            "iterations: 90 | train_loss: 0.21175182 | validation_loss: 0.13627858 | Roc Score: 0.70075244 | Time elapsed: 0:07:43.320925\n",
            "iterations: 91 | train_loss: 0.12901835 | validation_loss: 0.13625611 | Roc Score: 0.7012873 | Time elapsed: 0:07:48.416929\n",
            "iterations: 92 | train_loss: 0.15434194 | validation_loss: 0.13627489 | Roc Score: 0.7018137 | Time elapsed: 0:07:53.475130\n",
            "iterations: 93 | train_loss: 0.19305933 | validation_loss: 0.13638783 | Roc Score: 0.70234084 | Time elapsed: 0:07:58.571899\n",
            "iterations: 94 | train_loss: 0.10828648 | validation_loss: 0.13642268 | Roc Score: 0.7028558 | Time elapsed: 0:08:03.617795\n",
            "iterations: 95 | train_loss: 0.17720515 | validation_loss: 0.13656934 | Roc Score: 0.70336413 | Time elapsed: 0:08:08.725898\n",
            "iterations: 96 | train_loss: 0.17452395 | validation_loss: 0.13692576 | Roc Score: 0.70384026 | Time elapsed: 0:08:13.777275\n",
            "iterations: 97 | train_loss: 0.16052681 | validation_loss: 0.13749143 | Roc Score: 0.7043164 | Time elapsed: 0:08:18.842983\n",
            "iterations: 98 | train_loss: 0.13859458 | validation_loss: 0.13775337 | Roc Score: 0.7047789 | Time elapsed: 0:08:23.929840\n",
            "iterations: 99 | train_loss: 0.16209482 | validation_loss: 0.1379742 | Roc Score: 0.7052366 | Time elapsed: 0:08:28.962934\n",
            "iterations: 100 | train_loss: 0.13513522 | validation_loss: 0.13766578 | Roc Score: 0.70568603 | Time elapsed: 0:08:34.084214\n",
            "iterations: 101 | train_loss: 0.12562107 | validation_loss: 0.13695152 | Roc Score: 0.70612454 | Time elapsed: 0:08:39.177974\n",
            "iterations: 102 | train_loss: 0.118301556 | validation_loss: 0.13635448 | Roc Score: 0.7065822 | Time elapsed: 0:08:44.252699\n",
            "iterations: 103 | train_loss: 0.15681857 | validation_loss: 0.13630268 | Roc Score: 0.7070227 | Time elapsed: 0:08:49.344452\n",
            "iterations: 104 | train_loss: 0.13647266 | validation_loss: 0.13595203 | Roc Score: 0.7074757 | Time elapsed: 0:08:54.440560\n",
            "iterations: 105 | train_loss: 0.14346902 | validation_loss: 0.13621606 | Roc Score: 0.70791125 | Time elapsed: 0:08:59.525998\n",
            "iterations: 106 | train_loss: 0.19833641 | validation_loss: 0.13585547 | Roc Score: 0.7083477 | Time elapsed: 0:09:04.631268\n",
            "iterations: 107 | train_loss: 0.14472537 | validation_loss: 0.13557835 | Roc Score: 0.7087882 | Time elapsed: 0:09:09.715019\n",
            "iterations: 108 | train_loss: 0.1629783 | validation_loss: 0.13543493 | Roc Score: 0.7092171 | Time elapsed: 0:09:14.791773\n",
            "iterations: 109 | train_loss: 0.13524933 | validation_loss: 0.13560273 | Roc Score: 0.7096514 | Time elapsed: 0:09:19.892467\n",
            "iterations: 110 | train_loss: 0.14899936 | validation_loss: 0.13572049 | Roc Score: 0.71008587 | Time elapsed: 0:09:24.995625\n",
            "iterations: 111 | train_loss: 0.13155463 | validation_loss: 0.13621606 | Roc Score: 0.71050465 | Time elapsed: 0:09:30.080932\n",
            "iterations: 112 | train_loss: 0.13469563 | validation_loss: 0.13645339 | Roc Score: 0.71091086 | Time elapsed: 0:09:35.172865\n",
            "iterations: 113 | train_loss: 0.11727727 | validation_loss: 0.13626972 | Roc Score: 0.71131057 | Time elapsed: 0:09:40.261729\n",
            "iterations: 114 | train_loss: 0.11607415 | validation_loss: 0.13607422 | Roc Score: 0.7116847 | Time elapsed: 0:09:45.386289\n",
            "iterations: 115 | train_loss: 0.16856946 | validation_loss: 0.13610792 | Roc Score: 0.71204436 | Time elapsed: 0:09:50.402458\n",
            "iterations: 116 | train_loss: 0.15166941 | validation_loss: 0.13611917 | Roc Score: 0.7123892 | Time elapsed: 0:09:55.484030\n"
          ],
          "name": "stdout"
        },
        {
          "output_type": "stream",
          "text": [
            "iterations: 117 | train_loss: 0.1945413 | validation_loss: 0.13617605 | Roc Score: 0.71273756 | Time elapsed: 0:10:00.540710\n",
            "iterations: 118 | train_loss: 0.1217346 | validation_loss: 0.13625546 | Roc Score: 0.71308327 | Time elapsed: 0:10:05.665417\n",
            "iterations: 119 | train_loss: 0.14160714 | validation_loss: 0.1362947 | Roc Score: 0.71342117 | Time elapsed: 0:10:10.726750\n",
            "iterations: 120 | train_loss: 0.10505302 | validation_loss: 0.1361705 | Roc Score: 0.7137467 | Time elapsed: 0:10:15.900588\n",
            "iterations: 121 | train_loss: 0.111581564 | validation_loss: 0.13616091 | Roc Score: 0.7140553 | Time elapsed: 0:10:20.998902\n",
            "iterations: 122 | train_loss: 0.14985976 | validation_loss: 0.13630328 | Roc Score: 0.7143526 | Time elapsed: 0:10:26.074446\n",
            "iterations: 123 | train_loss: 0.12860371 | validation_loss: 0.13650878 | Roc Score: 0.7146499 | Time elapsed: 0:10:31.037816\n",
            "iterations: 124 | train_loss: 0.15117182 | validation_loss: 0.13650747 | Roc Score: 0.7149375 | Time elapsed: 0:10:36.091236\n",
            "iterations: 125 | train_loss: 0.16076194 | validation_loss: 0.13635717 | Roc Score: 0.71522146 | Time elapsed: 0:10:41.163321\n",
            "iterations: 126 | train_loss: 0.13928114 | validation_loss: 0.13623582 | Roc Score: 0.7155103 | Time elapsed: 0:10:46.217234\n",
            "iterations: 127 | train_loss: 0.11636246 | validation_loss: 0.13622807 | Roc Score: 0.7158119 | Time elapsed: 0:10:51.264591\n",
            "iterations: 128 | train_loss: 0.16912808 | validation_loss: 0.13519701 | Roc Score: 0.7161517 | Time elapsed: 0:10:56.340424\n",
            "iterations: 129 | train_loss: 0.13372543 | validation_loss: 0.13407047 | Roc Score: 0.7165298 | Time elapsed: 0:11:01.394120\n",
            "iterations: 130 | train_loss: 0.16430287 | validation_loss: 0.13396625 | Roc Score: 0.7168933 | Time elapsed: 0:11:06.499170\n",
            "iterations: 131 | train_loss: 0.12807128 | validation_loss: 0.13396227 | Roc Score: 0.71724886 | Time elapsed: 0:11:11.524249\n",
            "iterations: 132 | train_loss: 0.13751905 | validation_loss: 0.13362177 | Roc Score: 0.7176062 | Time elapsed: 0:11:16.718901\n",
            "iterations: 133 | train_loss: 0.13763657 | validation_loss: 0.13328959 | Roc Score: 0.7179791 | Time elapsed: 0:11:21.918346\n",
            "iterations: 134 | train_loss: 0.10697543 | validation_loss: 0.13288839 | Roc Score: 0.71834844 | Time elapsed: 0:11:27.048019\n",
            "iterations: 135 | train_loss: 0.12720655 | validation_loss: 0.13276343 | Roc Score: 0.71871483 | Time elapsed: 0:11:32.283360\n",
            "iterations: 136 | train_loss: 0.12294084 | validation_loss: 0.13274403 | Roc Score: 0.7190881 | Time elapsed: 0:11:37.475684\n",
            "iterations: 137 | train_loss: 0.13504688 | validation_loss: 0.13307315 | Roc Score: 0.7194795 | Time elapsed: 0:11:42.639588\n",
            "iterations: 138 | train_loss: 0.13609284 | validation_loss: 0.13220638 | Roc Score: 0.7199078 | Time elapsed: 0:11:47.835990\n",
            "iterations: 139 | train_loss: 0.113599114 | validation_loss: 0.1312717 | Roc Score: 0.7203697 | Time elapsed: 0:11:53.076675\n",
            "iterations: 140 | train_loss: 0.17051649 | validation_loss: 0.13043384 | Roc Score: 0.72085625 | Time elapsed: 0:11:58.321612\n",
            "iterations: 141 | train_loss: 0.1428859 | validation_loss: 0.12951033 | Roc Score: 0.72134256 | Time elapsed: 0:12:03.581012\n",
            "iterations: 142 | train_loss: 0.099873416 | validation_loss: 0.12862086 | Roc Score: 0.72186154 | Time elapsed: 0:12:08.839547\n",
            "iterations: 143 | train_loss: 0.098746575 | validation_loss: 0.12755075 | Roc Score: 0.72239363 | Time elapsed: 0:12:14.060012\n",
            "iterations: 144 | train_loss: 0.124780245 | validation_loss: 0.12732407 | Roc Score: 0.7229299 | Time elapsed: 0:12:19.298998\n",
            "iterations: 145 | train_loss: 0.13690944 | validation_loss: 0.12590586 | Roc Score: 0.7234943 | Time elapsed: 0:12:24.511042\n",
            "iterations: 146 | train_loss: 0.093234025 | validation_loss: 0.12584679 | Roc Score: 0.7240359 | Time elapsed: 0:12:29.726511\n",
            "iterations: 147 | train_loss: 0.13152064 | validation_loss: 0.12573168 | Roc Score: 0.7245831 | Time elapsed: 0:12:34.936975\n",
            "iterations: 148 | train_loss: 0.16399992 | validation_loss: 0.1254061 | Roc Score: 0.72513056 | Time elapsed: 0:12:40.168884\n",
            "iterations: 149 | train_loss: 0.087771796 | validation_loss: 0.12544028 | Roc Score: 0.7256718 | Time elapsed: 0:12:45.420867\n",
            "iterations: 150 | train_loss: 0.12902042 | validation_loss: 0.12513496 | Roc Score: 0.72620845 | Time elapsed: 0:12:50.651968\n",
            "iterations: 151 | train_loss: 0.1308035 | validation_loss: 0.12504143 | Roc Score: 0.72674066 | Time elapsed: 0:12:55.822691\n",
            "iterations: 152 | train_loss: 0.08646561 | validation_loss: 0.12466479 | Roc Score: 0.72730315 | Time elapsed: 0:13:01.099511\n",
            "iterations: 153 | train_loss: 0.09288067 | validation_loss: 0.12500243 | Roc Score: 0.72788256 | Time elapsed: 0:13:06.340758\n",
            "iterations: 154 | train_loss: 0.081370786 | validation_loss: 0.12632643 | Roc Score: 0.7284379 | Time elapsed: 0:13:11.516824\n",
            "iterations: 155 | train_loss: 0.121406645 | validation_loss: 0.12854789 | Roc Score: 0.7288791 | Time elapsed: 0:13:16.712899\n"
          ],
          "name": "stdout"
        },
        {
          "output_type": "stream",
          "text": [
            "iterations: 156 | train_loss: 0.097956315 | validation_loss: 0.13167708 | Roc Score: 0.72919613 | Time elapsed: 0:13:21.887800\n",
            "iterations: 157 | train_loss: 0.25742206 | validation_loss: 0.13082014 | Roc Score: 0.72957873 | Time elapsed: 0:13:27.134927\n",
            "iterations: 158 | train_loss: 0.12107765 | validation_loss: 0.12925215 | Roc Score: 0.7299662 | Time elapsed: 0:13:32.369935\n",
            "iterations: 159 | train_loss: 0.13942541 | validation_loss: 0.12909305 | Roc Score: 0.73032874 | Time elapsed: 0:13:37.566826\n",
            "iterations: 160 | train_loss: 0.15518244 | validation_loss: 0.13080992 | Roc Score: 0.73064435 | Time elapsed: 0:13:42.811068\n",
            "iterations: 161 | train_loss: 0.1389669 | validation_loss: 0.13325818 | Roc Score: 0.73089945 | Time elapsed: 0:13:48.023118\n",
            "iterations: 162 | train_loss: 0.16432007 | validation_loss: 0.13567084 | Roc Score: 0.7311159 | Time elapsed: 0:13:53.187566\n",
            "iterations: 163 | train_loss: 0.15657656 | validation_loss: 0.13740541 | Roc Score: 0.7312558 | Time elapsed: 0:13:58.400170\n",
            "iterations: 164 | train_loss: 0.103116706 | validation_loss: 0.13592081 | Roc Score: 0.731418 | Time elapsed: 0:14:03.599504\n",
            "iterations: 165 | train_loss: 0.12114969 | validation_loss: 0.13347808 | Roc Score: 0.73162526 | Time elapsed: 0:14:08.778162\n",
            "iterations: 166 | train_loss: 0.11388998 | validation_loss: 0.13168895 | Roc Score: 0.731884 | Time elapsed: 0:14:13.950351\n",
            "iterations: 167 | train_loss: 0.14981383 | validation_loss: 0.1301878 | Roc Score: 0.7321817 | Time elapsed: 0:14:19.167471\n",
            "iterations: 168 | train_loss: 0.17414261 | validation_loss: 0.1283136 | Roc Score: 0.7325236 | Time elapsed: 0:14:24.253016\n",
            "iterations: 169 | train_loss: 0.1480195 | validation_loss: 0.12746926 | Roc Score: 0.73288876 | Time elapsed: 0:14:29.410615\n",
            "iterations: 170 | train_loss: 0.0873972 | validation_loss: 0.1266496 | Roc Score: 0.7332927 | Time elapsed: 0:14:34.596020\n",
            "iterations: 171 | train_loss: 0.12662973 | validation_loss: 0.124362655 | Roc Score: 0.7337475 | Time elapsed: 0:14:39.825544\n",
            "iterations: 172 | train_loss: 0.1299058 | validation_loss: 0.12328646 | Roc Score: 0.73431313 | Time elapsed: 0:14:45.180210\n",
            "iterations: 173 | train_loss: 0.1392742 | validation_loss: 0.12163795 | Roc Score: 0.7349627 | Time elapsed: 0:14:50.429135\n",
            "iterations: 174 | train_loss: 0.13999495 | validation_loss: 0.12277726 | Roc Score: 0.73562384 | Time elapsed: 0:14:55.643763\n",
            "iterations: 175 | train_loss: 0.10576199 | validation_loss: 0.12636095 | Roc Score: 0.7363284 | Time elapsed: 0:15:00.831454\n",
            "iterations: 176 | train_loss: 0.12234735 | validation_loss: 0.12712932 | Roc Score: 0.737051 | Time elapsed: 0:15:06.047840\n",
            "iterations: 177 | train_loss: 0.16042113 | validation_loss: 0.12613091 | Roc Score: 0.73774576 | Time elapsed: 0:15:11.277264\n",
            "iterations: 178 | train_loss: 0.13303302 | validation_loss: 0.12423067 | Roc Score: 0.7384292 | Time elapsed: 0:15:16.474073\n",
            "iterations: 179 | train_loss: 0.13930072 | validation_loss: 0.12234166 | Roc Score: 0.73912627 | Time elapsed: 0:15:21.662536\n",
            "iterations: 180 | train_loss: 0.12531337 | validation_loss: 0.12003449 | Roc Score: 0.7398546 | Time elapsed: 0:15:26.888880\n",
            "iterations: 181 | train_loss: 0.118943885 | validation_loss: 0.11751771 | Roc Score: 0.7405912 | Time elapsed: 0:15:32.114476\n",
            "iterations: 182 | train_loss: 0.09640214 | validation_loss: 0.11724802 | Roc Score: 0.7413476 | Time elapsed: 0:15:37.313941\n",
            "iterations: 183 | train_loss: 0.14874768 | validation_loss: 0.11785091 | Roc Score: 0.74211895 | Time elapsed: 0:15:42.513827\n",
            "iterations: 184 | train_loss: 0.10165017 | validation_loss: 0.11879515 | Roc Score: 0.74288774 | Time elapsed: 0:15:47.684489\n",
            "iterations: 185 | train_loss: 0.13550493 | validation_loss: 0.119317435 | Roc Score: 0.743661 | Time elapsed: 0:15:52.914986\n",
            "iterations: 186 | train_loss: 0.11171463 | validation_loss: 0.11950933 | Roc Score: 0.74443996 | Time elapsed: 0:15:58.133934\n",
            "iterations: 187 | train_loss: 0.07523293 | validation_loss: 0.11931281 | Roc Score: 0.7452264 | Time elapsed: 0:16:03.361173\n",
            "iterations: 188 | train_loss: 0.11855827 | validation_loss: 0.11854403 | Roc Score: 0.7459982 | Time elapsed: 0:16:08.594513\n",
            "iterations: 189 | train_loss: 0.11774217 | validation_loss: 0.117539465 | Roc Score: 0.7467906 | Time elapsed: 0:16:13.796155\n",
            "iterations: 190 | train_loss: 0.13944374 | validation_loss: 0.11600916 | Roc Score: 0.74764377 | Time elapsed: 0:16:19.005765\n",
            "iterations: 191 | train_loss: 0.17799915 | validation_loss: 0.11558523 | Roc Score: 0.74851274 | Time elapsed: 0:16:24.210690\n",
            "iterations: 192 | train_loss: 0.1393835 | validation_loss: 0.115500405 | Roc Score: 0.7493947 | Time elapsed: 0:16:29.448918\n",
            "iterations: 193 | train_loss: 0.10385279 | validation_loss: 0.11632623 | Roc Score: 0.75026536 | Time elapsed: 0:16:34.652284\n",
            "iterations: 194 | train_loss: 0.12588793 | validation_loss: 0.11497672 | Roc Score: 0.7511671 | Time elapsed: 0:16:39.532081\n"
          ],
          "name": "stdout"
        },
        {
          "output_type": "stream",
          "text": [
            "iterations: 195 | train_loss: 0.084567726 | validation_loss: 0.1122115 | Roc Score: 0.75211245 | Time elapsed: 0:16:44.728016\n",
            "iterations: 196 | train_loss: 0.10945942 | validation_loss: 0.11080231 | Roc Score: 0.7530492 | Time elapsed: 0:16:49.905382\n",
            "iterations: 197 | train_loss: 0.08903241 | validation_loss: 0.10873377 | Roc Score: 0.7539964 | Time elapsed: 0:16:55.130693\n",
            "iterations: 198 | train_loss: 0.10733414 | validation_loss: 0.10737462 | Roc Score: 0.7549655 | Time elapsed: 0:17:00.338318\n",
            "iterations: 199 | train_loss: 0.13539067 | validation_loss: 0.10751617 | Roc Score: 0.755911 | Time elapsed: 0:17:05.540389\n",
            "iterations: 200 | train_loss: 0.08378206 | validation_loss: 0.10725788 | Roc Score: 0.75684744 | Time elapsed: 0:17:10.798568\n",
            "iterations: 201 | train_loss: 0.084218524 | validation_loss: 0.106374525 | Roc Score: 0.75779986 | Time elapsed: 0:17:16.042545\n",
            "iterations: 202 | train_loss: 0.1396496 | validation_loss: 0.103965074 | Roc Score: 0.7588108 | Time elapsed: 0:17:21.232948\n",
            "iterations: 203 | train_loss: 0.127133 | validation_loss: 0.10208291 | Roc Score: 0.75985163 | Time elapsed: 0:17:26.472690\n",
            "iterations: 204 | train_loss: 0.13150573 | validation_loss: 0.102020696 | Roc Score: 0.7608691 | Time elapsed: 0:17:31.727026\n",
            "iterations: 205 | train_loss: 0.11935945 | validation_loss: 0.102240406 | Roc Score: 0.7618562 | Time elapsed: 0:17:36.991090\n",
            "iterations: 206 | train_loss: 0.09785797 | validation_loss: 0.101336434 | Roc Score: 0.76285964 | Time elapsed: 0:17:42.203957\n",
            "iterations: 207 | train_loss: 0.10834779 | validation_loss: 0.09987227 | Roc Score: 0.7638817 | Time elapsed: 0:17:47.367545\n",
            "iterations: 208 | train_loss: 0.14247319 | validation_loss: 0.09956275 | Roc Score: 0.7648946 | Time elapsed: 0:17:52.554096\n",
            "iterations: 209 | train_loss: 0.0991784 | validation_loss: 0.09913026 | Roc Score: 0.7658981 | Time elapsed: 0:17:57.794060\n",
            "iterations: 210 | train_loss: 0.114866845 | validation_loss: 0.09882385 | Roc Score: 0.7668918 | Time elapsed: 0:18:03.057418\n",
            "iterations: 211 | train_loss: 0.08022783 | validation_loss: 0.09769223 | Roc Score: 0.7679014 | Time elapsed: 0:18:08.274387\n",
            "iterations: 212 | train_loss: 0.09348883 | validation_loss: 0.095261306 | Roc Score: 0.7689264 | Time elapsed: 0:18:13.510860\n",
            "iterations: 213 | train_loss: 0.06654614 | validation_loss: 0.09497126 | Roc Score: 0.7699408 | Time elapsed: 0:18:18.648089\n",
            "iterations: 214 | train_loss: 0.089283526 | validation_loss: 0.09494039 | Roc Score: 0.7709318 | Time elapsed: 0:18:23.887209\n",
            "iterations: 215 | train_loss: 0.084113896 | validation_loss: 0.09546972 | Roc Score: 0.7718908 | Time elapsed: 0:18:29.130700\n",
            "iterations: 216 | train_loss: 0.074233286 | validation_loss: 0.0956639 | Roc Score: 0.7728247 | Time elapsed: 0:18:34.291160\n",
            "iterations: 217 | train_loss: 0.09676888 | validation_loss: 0.093105935 | Roc Score: 0.77379215 | Time elapsed: 0:18:39.529037\n",
            "iterations: 218 | train_loss: 0.0859357 | validation_loss: 0.08921723 | Roc Score: 0.77482045 | Time elapsed: 0:18:44.678489\n",
            "iterations: 219 | train_loss: 0.0711215 | validation_loss: 0.09014303 | Roc Score: 0.77581465 | Time elapsed: 0:18:49.860836\n",
            "iterations: 220 | train_loss: 0.10222288 | validation_loss: 0.09561844 | Roc Score: 0.77668095 | Time elapsed: 0:18:55.097258\n",
            "iterations: 221 | train_loss: 0.07138385 | validation_loss: 0.089460514 | Roc Score: 0.77765447 | Time elapsed: 0:19:00.286092\n",
            "iterations: 222 | train_loss: 0.108442575 | validation_loss: 0.08657532 | Roc Score: 0.7786866 | Time elapsed: 0:19:05.512899\n",
            "iterations: 223 | train_loss: 0.085256025 | validation_loss: 0.08645348 | Roc Score: 0.7797105 | Time elapsed: 0:19:10.708421\n",
            "iterations: 224 | train_loss: 0.10261467 | validation_loss: 0.08494568 | Roc Score: 0.78074497 | Time elapsed: 0:19:15.919877\n",
            "iterations: 225 | train_loss: 0.096557684 | validation_loss: 0.083484925 | Roc Score: 0.78179073 | Time elapsed: 0:19:21.105206\n",
            "iterations: 226 | train_loss: 0.07268756 | validation_loss: 0.08239356 | Roc Score: 0.78283626 | Time elapsed: 0:19:26.311810\n",
            "iterations: 227 | train_loss: 0.060002226 | validation_loss: 0.081311636 | Roc Score: 0.78388387 | Time elapsed: 0:19:31.500352\n",
            "iterations: 228 | train_loss: 0.085544564 | validation_loss: 0.08062863 | Roc Score: 0.7849288 | Time elapsed: 0:19:36.711797\n",
            "iterations: 229 | train_loss: 0.08946412 | validation_loss: 0.08020836 | Roc Score: 0.7859555 | Time elapsed: 0:19:41.910335\n",
            "iterations: 230 | train_loss: 0.07391902 | validation_loss: 0.07971933 | Roc Score: 0.7869765 | Time elapsed: 0:19:47.078516\n",
            "iterations: 231 | train_loss: 0.084961355 | validation_loss: 0.07939016 | Roc Score: 0.7879915 | Time elapsed: 0:19:52.299612\n",
            "iterations: 232 | train_loss: 0.07106382 | validation_loss: 0.07921816 | Roc Score: 0.789 | Time elapsed: 0:19:57.498211\n",
            "iterations: 233 | train_loss: 0.07044648 | validation_loss: 0.078531295 | Roc Score: 0.790004 | Time elapsed: 0:20:02.693622\n"
          ],
          "name": "stdout"
        },
        {
          "output_type": "stream",
          "text": [
            "iterations: 234 | train_loss: 0.043309066 | validation_loss: 0.07780659 | Roc Score: 0.7910146 | Time elapsed: 0:20:07.918369\n",
            "iterations: 235 | train_loss: 0.06411923 | validation_loss: 0.0770246 | Roc Score: 0.79201883 | Time elapsed: 0:20:13.077800\n",
            "iterations: 236 | train_loss: 0.061592292 | validation_loss: 0.07605676 | Roc Score: 0.79302377 | Time elapsed: 0:20:18.306021\n",
            "iterations: 237 | train_loss: 0.088243105 | validation_loss: 0.07527425 | Roc Score: 0.7940373 | Time elapsed: 0:20:23.503444\n",
            "iterations: 238 | train_loss: 0.10162374 | validation_loss: 0.07477682 | Roc Score: 0.79504585 | Time elapsed: 0:20:28.746053\n",
            "iterations: 239 | train_loss: 0.060179852 | validation_loss: 0.07460023 | Roc Score: 0.7960426 | Time elapsed: 0:20:33.926970\n",
            "iterations: 240 | train_loss: 0.07576404 | validation_loss: 0.07450204 | Roc Score: 0.7970305 | Time elapsed: 0:20:39.147700\n",
            "iterations: 241 | train_loss: 0.0840035 | validation_loss: 0.07339806 | Roc Score: 0.79802597 | Time elapsed: 0:20:44.339010\n",
            "iterations: 242 | train_loss: 0.057520147 | validation_loss: 0.07210326 | Roc Score: 0.79902035 | Time elapsed: 0:20:49.577754\n",
            "iterations: 243 | train_loss: 0.060392454 | validation_loss: 0.072840944 | Roc Score: 0.7999628 | Time elapsed: 0:20:54.784243\n",
            "iterations: 244 | train_loss: 0.0567841 | validation_loss: 0.07724574 | Roc Score: 0.8008069 | Time elapsed: 0:20:59.966416\n",
            "iterations: 245 | train_loss: 0.06877743 | validation_loss: 0.07562524 | Roc Score: 0.80166 | Time elapsed: 0:21:05.215730\n",
            "iterations: 246 | train_loss: 0.062977456 | validation_loss: 0.07042492 | Roc Score: 0.8026328 | Time elapsed: 0:21:10.419092\n",
            "iterations: 247 | train_loss: 0.06903184 | validation_loss: 0.07386416 | Roc Score: 0.80357504 | Time elapsed: 0:21:15.662847\n",
            "iterations: 248 | train_loss: 0.071935005 | validation_loss: 0.07009932 | Roc Score: 0.8045313 | Time elapsed: 0:21:20.919544\n",
            "iterations: 249 | train_loss: 0.047521718 | validation_loss: 0.070138045 | Roc Score: 0.80544204 | Time elapsed: 0:21:26.092756\n",
            "iterations: 250 | train_loss: 0.06250609 | validation_loss: 0.0753419 | Roc Score: 0.80626327 | Time elapsed: 0:21:31.300920\n",
            "iterations: 251 | train_loss: 0.086963564 | validation_loss: 0.07911303 | Roc Score: 0.80701184 | Time elapsed: 0:21:36.540235\n",
            "iterations: 252 | train_loss: 0.059541326 | validation_loss: 0.082141556 | Roc Score: 0.8077067 | Time elapsed: 0:21:41.697463\n",
            "iterations: 253 | train_loss: 0.05560982 | validation_loss: 0.08061556 | Roc Score: 0.8084181 | Time elapsed: 0:21:46.894911\n",
            "iterations: 254 | train_loss: 0.09454379 | validation_loss: 0.073938 | Roc Score: 0.80920047 | Time elapsed: 0:21:52.131498\n",
            "iterations: 255 | train_loss: 0.077697255 | validation_loss: 0.07167344 | Roc Score: 0.81000996 | Time elapsed: 0:21:57.361351\n",
            "iterations: 256 | train_loss: 0.06282522 | validation_loss: 0.073262155 | Roc Score: 0.8107817 | Time elapsed: 0:22:02.638622\n",
            "iterations: 257 | train_loss: 0.0895658 | validation_loss: 0.07422619 | Roc Score: 0.8115266 | Time elapsed: 0:22:07.853258\n",
            "iterations: 258 | train_loss: 0.08854967 | validation_loss: 0.072202526 | Roc Score: 0.81230193 | Time elapsed: 0:22:13.042664\n",
            "iterations: 259 | train_loss: 0.038095437 | validation_loss: 0.067991 | Roc Score: 0.8131327 | Time elapsed: 0:22:18.324324\n",
            "iterations: 260 | train_loss: 0.072515875 | validation_loss: 0.06717983 | Roc Score: 0.81396574 | Time elapsed: 0:22:23.471152\n",
            "iterations: 261 | train_loss: 0.064568266 | validation_loss: 0.06905286 | Roc Score: 0.81475455 | Time elapsed: 0:22:28.694306\n",
            "iterations: 262 | train_loss: 0.055163212 | validation_loss: 0.072341435 | Roc Score: 0.81548136 | Time elapsed: 0:22:33.912432\n",
            "iterations: 263 | train_loss: 0.058744017 | validation_loss: 0.07106644 | Roc Score: 0.816221 | Time elapsed: 0:22:39.318054\n",
            "iterations: 264 | train_loss: 0.051706765 | validation_loss: 0.06783394 | Roc Score: 0.81700754 | Time elapsed: 0:22:44.578228\n",
            "iterations: 265 | train_loss: 0.06111941 | validation_loss: 0.064393334 | Roc Score: 0.8178413 | Time elapsed: 0:22:49.739013\n",
            "iterations: 266 | train_loss: 0.07417758 | validation_loss: 0.06779456 | Roc Score: 0.818635 | Time elapsed: 0:22:54.973614\n",
            "iterations: 267 | train_loss: 0.049550585 | validation_loss: 0.06775279 | Roc Score: 0.8194192 | Time elapsed: 0:23:00.221389\n",
            "iterations: 268 | train_loss: 0.068970054 | validation_loss: 0.0651934 | Roc Score: 0.8202231 | Time elapsed: 0:23:05.417523\n",
            "iterations: 269 | train_loss: 0.056147262 | validation_loss: 0.06506495 | Roc Score: 0.82102686 | Time elapsed: 0:23:10.629472\n",
            "iterations: 270 | train_loss: 0.051359862 | validation_loss: 0.068750456 | Roc Score: 0.8217848 | Time elapsed: 0:23:15.863190\n",
            "iterations: 271 | train_loss: 0.07251909 | validation_loss: 0.069398805 | Roc Score: 0.82253265 | Time elapsed: 0:23:21.091218\n",
            "iterations: 272 | train_loss: 0.064569145 | validation_loss: 0.066483945 | Roc Score: 0.82330203 | Time elapsed: 0:23:26.336424\n"
          ],
          "name": "stdout"
        },
        {
          "output_type": "stream",
          "text": [
            "iterations: 273 | train_loss: 0.04879298 | validation_loss: 0.06364931 | Roc Score: 0.82408637 | Time elapsed: 0:23:31.553370\n",
            "iterations: 274 | train_loss: 0.07463176 | validation_loss: 0.063056774 | Roc Score: 0.82486886 | Time elapsed: 0:23:36.749241\n",
            "iterations: 275 | train_loss: 0.04065178 | validation_loss: 0.06739701 | Roc Score: 0.8256142 | Time elapsed: 0:23:41.970149\n",
            "iterations: 276 | train_loss: 0.055549763 | validation_loss: 0.07060529 | Roc Score: 0.82634 | Time elapsed: 0:23:47.200659\n",
            "iterations: 277 | train_loss: 0.067222096 | validation_loss: 0.068623796 | Roc Score: 0.8270732 | Time elapsed: 0:23:52.392080\n",
            "iterations: 278 | train_loss: 0.051623467 | validation_loss: 0.06342935 | Roc Score: 0.8278216 | Time elapsed: 0:23:57.625960\n",
            "iterations: 279 | train_loss: 0.047201384 | validation_loss: 0.06554997 | Roc Score: 0.8284977 | Time elapsed: 0:24:02.872777\n",
            "iterations: 280 | train_loss: 0.0613929 | validation_loss: 0.07009956 | Roc Score: 0.82909495 | Time elapsed: 0:24:08.105674\n",
            "iterations: 281 | train_loss: 0.052480754 | validation_loss: 0.066850424 | Roc Score: 0.82973945 | Time elapsed: 0:24:13.302309\n",
            "iterations: 282 | train_loss: 0.081050396 | validation_loss: 0.062398884 | Roc Score: 0.8304604 | Time elapsed: 0:24:18.541425\n",
            "iterations: 283 | train_loss: 0.087867916 | validation_loss: 0.061133724 | Roc Score: 0.83118695 | Time elapsed: 0:24:23.741226\n",
            "iterations: 284 | train_loss: 0.057750344 | validation_loss: 0.064075924 | Roc Score: 0.8318764 | Time elapsed: 0:24:28.950096\n",
            "iterations: 285 | train_loss: 0.059950206 | validation_loss: 0.06411484 | Roc Score: 0.83254874 | Time elapsed: 0:24:34.176379\n",
            "iterations: 286 | train_loss: 0.041898463 | validation_loss: 0.062671036 | Roc Score: 0.8332298 | Time elapsed: 0:24:39.416994\n",
            "iterations: 287 | train_loss: 0.057534967 | validation_loss: 0.06187686 | Roc Score: 0.8339193 | Time elapsed: 0:24:44.643162\n",
            "iterations: 288 | train_loss: 0.06555891 | validation_loss: 0.0617275 | Roc Score: 0.83460844 | Time elapsed: 0:24:49.839838\n",
            "iterations: 289 | train_loss: 0.05160547 | validation_loss: 0.061639886 | Roc Score: 0.8352897 | Time elapsed: 0:24:55.034328\n",
            "iterations: 290 | train_loss: 0.10439659 | validation_loss: 0.060475376 | Roc Score: 0.83597416 | Time elapsed: 0:25:00.309450\n",
            "iterations: 291 | train_loss: 0.071843795 | validation_loss: 0.05990289 | Roc Score: 0.8366573 | Time elapsed: 0:25:05.553859\n",
            "iterations: 292 | train_loss: 0.0581966 | validation_loss: 0.05942985 | Roc Score: 0.8373401 | Time elapsed: 0:25:10.766590\n",
            "iterations: 293 | train_loss: 0.066623844 | validation_loss: 0.05934132 | Roc Score: 0.8380194 | Time elapsed: 0:25:15.939864\n",
            "iterations: 294 | train_loss: 0.054559078 | validation_loss: 0.058610924 | Roc Score: 0.8386931 | Time elapsed: 0:25:21.134418\n",
            "iterations: 295 | train_loss: 0.052048143 | validation_loss: 0.058315296 | Roc Score: 0.8393594 | Time elapsed: 0:25:26.294827\n",
            "iterations: 296 | train_loss: 0.0507329 | validation_loss: 0.058450304 | Roc Score: 0.8400174 | Time elapsed: 0:25:31.496811\n",
            "iterations: 297 | train_loss: 0.082555786 | validation_loss: 0.058392804 | Roc Score: 0.840671 | Time elapsed: 0:25:36.463970\n",
            "iterations: 298 | train_loss: 0.04626381 | validation_loss: 0.060250666 | Roc Score: 0.8413051 | Time elapsed: 0:25:41.641699\n",
            "iterations: 299 | train_loss: 0.04181967 | validation_loss: 0.06209667 | Roc Score: 0.8419238 | Time elapsed: 0:25:46.870862\n",
            "iterations: 300 | train_loss: 0.055782005 | validation_loss: 0.06221989 | Roc Score: 0.84253424 | Time elapsed: 0:25:52.087734\n",
            "iterations: 301 | train_loss: 0.05792813 | validation_loss: 0.060559165 | Roc Score: 0.8431484 | Time elapsed: 0:25:57.305049\n",
            "iterations: 302 | train_loss: 0.048078682 | validation_loss: 0.05953956 | Roc Score: 0.8437632 | Time elapsed: 0:26:02.494750\n",
            "iterations: 303 | train_loss: 0.06674112 | validation_loss: 0.060062535 | Roc Score: 0.8443676 | Time elapsed: 0:26:07.718193\n",
            "iterations: 304 | train_loss: 0.044067707 | validation_loss: 0.060196504 | Roc Score: 0.8449682 | Time elapsed: 0:26:12.941758\n",
            "iterations: 305 | train_loss: 0.06883962 | validation_loss: 0.05923236 | Roc Score: 0.84557045 | Time elapsed: 0:26:18.182909\n",
            "iterations: 306 | train_loss: 0.05142716 | validation_loss: 0.060547657 | Roc Score: 0.8461465 | Time elapsed: 0:26:23.413526\n",
            "iterations: 307 | train_loss: 0.05847158 | validation_loss: 0.06242529 | Roc Score: 0.8466872 | Time elapsed: 0:26:28.652331\n",
            "iterations: 308 | train_loss: 0.06738871 | validation_loss: 0.06380489 | Roc Score: 0.8472018 | Time elapsed: 0:26:33.887831\n",
            "iterations: 309 | train_loss: 0.08028102 | validation_loss: 0.059260327 | Roc Score: 0.8477889 | Time elapsed: 0:26:39.130487\n",
            "iterations: 310 | train_loss: 0.0731769 | validation_loss: 0.079302326 | Roc Score: 0.84826154 | Time elapsed: 0:26:44.322734\n",
            "iterations: 311 | train_loss: 0.048378885 | validation_loss: 0.066457786 | Roc Score: 0.848807 | Time elapsed: 0:26:49.502424\n"
          ],
          "name": "stdout"
        },
        {
          "output_type": "stream",
          "text": [
            "iterations: 312 | train_loss: 0.06602538 | validation_loss: 0.05936252 | Roc Score: 0.84938055 | Time elapsed: 0:26:54.739862\n",
            "iterations: 313 | train_loss: 0.03707892 | validation_loss: 0.065066144 | Roc Score: 0.84987867 | Time elapsed: 0:26:59.963735\n",
            "iterations: 314 | train_loss: 0.05801939 | validation_loss: 0.07525873 | Roc Score: 0.8502627 | Time elapsed: 0:27:05.174919\n",
            "iterations: 315 | train_loss: 0.09660109 | validation_loss: 0.07787875 | Roc Score: 0.8506202 | Time elapsed: 0:27:10.353170\n",
            "iterations: 316 | train_loss: 0.06621211 | validation_loss: 0.07762708 | Roc Score: 0.85098374 | Time elapsed: 0:27:15.637857\n",
            "iterations: 317 | train_loss: 0.11587303 | validation_loss: 0.06976305 | Roc Score: 0.8514353 | Time elapsed: 0:27:20.838574\n",
            "iterations: 318 | train_loss: 0.07918413 | validation_loss: 0.062971696 | Roc Score: 0.851953 | Time elapsed: 0:27:26.023817\n",
            "iterations: 319 | train_loss: 0.0644331 | validation_loss: 0.063339405 | Roc Score: 0.85245025 | Time elapsed: 0:27:31.223125\n",
            "iterations: 320 | train_loss: 0.05805361 | validation_loss: 0.06820272 | Roc Score: 0.852895 | Time elapsed: 0:27:36.451336\n",
            "iterations: 321 | train_loss: 0.085931234 | validation_loss: 0.07015719 | Roc Score: 0.8533245 | Time elapsed: 0:27:41.747189\n",
            "iterations: 322 | train_loss: 0.06656002 | validation_loss: 0.06615126 | Roc Score: 0.85379213 | Time elapsed: 0:27:46.924018\n",
            "iterations: 323 | train_loss: 0.059718754 | validation_loss: 0.060573757 | Roc Score: 0.85430366 | Time elapsed: 0:27:52.134059\n",
            "iterations: 324 | train_loss: 0.05441812 | validation_loss: 0.06017421 | Roc Score: 0.85482675 | Time elapsed: 0:27:57.364897\n",
            "iterations: 325 | train_loss: 0.054243 | validation_loss: 0.063266546 | Roc Score: 0.8553269 | Time elapsed: 0:28:02.602518\n",
            "iterations: 326 | train_loss: 0.08330569 | validation_loss: 0.06642619 | Roc Score: 0.8557941 | Time elapsed: 0:28:07.823809\n",
            "iterations: 327 | train_loss: 0.070475094 | validation_loss: 0.06738066 | Roc Score: 0.8562465 | Time elapsed: 0:28:13.058105\n",
            "iterations: 328 | train_loss: 0.06537915 | validation_loss: 0.06569961 | Roc Score: 0.85670584 | Time elapsed: 0:28:18.225521\n",
            "iterations: 329 | train_loss: 0.09030801 | validation_loss: 0.06184363 | Roc Score: 0.8571892 | Time elapsed: 0:28:23.450850\n",
            "iterations: 330 | train_loss: 0.07016153 | validation_loss: 0.05924089 | Roc Score: 0.85768384 | Time elapsed: 0:28:28.628004\n",
            "iterations: 331 | train_loss: 0.06173336 | validation_loss: 0.05887939 | Roc Score: 0.8581842 | Time elapsed: 0:28:33.844824\n",
            "iterations: 332 | train_loss: 0.06260765 | validation_loss: 0.06160084 | Roc Score: 0.85866976 | Time elapsed: 0:28:39.106618\n",
            "iterations: 333 | train_loss: 0.057517968 | validation_loss: 0.06406211 | Roc Score: 0.8591437 | Time elapsed: 0:28:44.292488\n",
            "iterations: 334 | train_loss: 0.05640003 | validation_loss: 0.06215073 | Roc Score: 0.8596226 | Time elapsed: 0:28:49.464954\n",
            "iterations: 335 | train_loss: 0.07330864 | validation_loss: 0.05978903 | Roc Score: 0.8601075 | Time elapsed: 0:28:54.709076\n",
            "iterations: 336 | train_loss: 0.052806623 | validation_loss: 0.05741303 | Roc Score: 0.86059195 | Time elapsed: 0:28:59.943105\n",
            "iterations: 337 | train_loss: 0.050083302 | validation_loss: 0.057559446 | Roc Score: 0.8610673 | Time elapsed: 0:29:05.175978\n",
            "iterations: 338 | train_loss: 0.07945188 | validation_loss: 0.058265563 | Roc Score: 0.8615302 | Time elapsed: 0:29:10.421023\n",
            "iterations: 339 | train_loss: 0.04279572 | validation_loss: 0.05848162 | Roc Score: 0.8619861 | Time elapsed: 0:29:15.644422\n",
            "iterations: 340 | train_loss: 0.062202856 | validation_loss: 0.05798493 | Roc Score: 0.8624416 | Time elapsed: 0:29:20.840123\n",
            "iterations: 341 | train_loss: 0.06102293 | validation_loss: 0.057541877 | Roc Score: 0.8629005 | Time elapsed: 0:29:26.061907\n",
            "iterations: 342 | train_loss: 0.0604515 | validation_loss: 0.056484908 | Roc Score: 0.86336875 | Time elapsed: 0:29:31.285359\n",
            "iterations: 343 | train_loss: 0.06419187 | validation_loss: 0.057085328 | Roc Score: 0.8638298 | Time elapsed: 0:29:36.344970\n",
            "iterations: 344 | train_loss: 0.05515875 | validation_loss: 0.059408214 | Roc Score: 0.8642662 | Time elapsed: 0:29:41.552879\n",
            "iterations: 345 | train_loss: 0.057103086 | validation_loss: 0.059228636 | Roc Score: 0.8646985 | Time elapsed: 0:29:46.774431\n",
            "iterations: 346 | train_loss: 0.050967935 | validation_loss: 0.057095006 | Roc Score: 0.86514807 | Time elapsed: 0:29:52.163533\n",
            "iterations: 347 | train_loss: 0.067394175 | validation_loss: 0.055658597 | Roc Score: 0.8656061 | Time elapsed: 0:29:57.408021\n",
            "iterations: 348 | train_loss: 0.06486094 | validation_loss: 0.055403195 | Roc Score: 0.8660647 | Time elapsed: 0:30:02.635966\n",
            "iterations: 349 | train_loss: 0.034073815 | validation_loss: 0.055702284 | Roc Score: 0.8665124 | Time elapsed: 0:30:07.848655\n",
            "iterations: 350 | train_loss: 0.054730937 | validation_loss: 0.056037713 | Roc Score: 0.86695373 | Time elapsed: 0:30:13.041422\n"
          ],
          "name": "stdout"
        },
        {
          "output_type": "stream",
          "text": [
            "iterations: 351 | train_loss: 0.057548415 | validation_loss: 0.056377027 | Roc Score: 0.86738855 | Time elapsed: 0:30:18.264345\n",
            "iterations: 352 | train_loss: 0.060816497 | validation_loss: 0.05654513 | Roc Score: 0.8678128 | Time elapsed: 0:30:23.432965\n",
            "iterations: 353 | train_loss: 0.06819103 | validation_loss: 0.055865325 | Roc Score: 0.8682434 | Time elapsed: 0:30:28.653642\n",
            "iterations: 354 | train_loss: 0.077793926 | validation_loss: 0.055891216 | Roc Score: 0.86868155 | Time elapsed: 0:30:33.558197\n",
            "iterations: 355 | train_loss: 0.058974814 | validation_loss: 0.05679498 | Roc Score: 0.8691135 | Time elapsed: 0:30:38.756874\n",
            "iterations: 356 | train_loss: 0.04070749 | validation_loss: 0.056470495 | Roc Score: 0.86954534 | Time elapsed: 0:30:43.974969\n",
            "iterations: 357 | train_loss: 0.06734363 | validation_loss: 0.054706153 | Roc Score: 0.8699794 | Time elapsed: 0:30:49.126775\n",
            "iterations: 358 | train_loss: 0.048892587 | validation_loss: 0.054083295 | Roc Score: 0.87040865 | Time elapsed: 0:30:54.300730\n",
            "iterations: 359 | train_loss: 0.030843254 | validation_loss: 0.055349868 | Roc Score: 0.8708274 | Time elapsed: 0:30:59.506610\n",
            "iterations: 360 | train_loss: 0.04389749 | validation_loss: 0.057975017 | Roc Score: 0.87122643 | Time elapsed: 0:31:04.619082\n",
            "iterations: 361 | train_loss: 0.06500654 | validation_loss: 0.058416747 | Roc Score: 0.8716235 | Time elapsed: 0:31:09.798515\n",
            "iterations: 362 | train_loss: 0.054525107 | validation_loss: 0.057598706 | Roc Score: 0.8720265 | Time elapsed: 0:31:15.042912\n",
            "iterations: 363 | train_loss: 0.054314505 | validation_loss: 0.056193102 | Roc Score: 0.87243515 | Time elapsed: 0:31:20.246358\n",
            "iterations: 364 | train_loss: 0.06803339 | validation_loss: 0.05476946 | Roc Score: 0.8728422 | Time elapsed: 0:31:25.489399\n",
            "iterations: 365 | train_loss: 0.07073081 | validation_loss: 0.054308616 | Roc Score: 0.8732486 | Time elapsed: 0:31:30.626490\n",
            "iterations: 366 | train_loss: 0.051118407 | validation_loss: 0.054945562 | Roc Score: 0.87364894 | Time elapsed: 0:31:35.845980\n",
            "iterations: 367 | train_loss: 0.07124089 | validation_loss: 0.0550678 | Roc Score: 0.87404627 | Time elapsed: 0:31:41.044208\n",
            "iterations: 368 | train_loss: 0.031524163 | validation_loss: 0.054895878 | Roc Score: 0.8744432 | Time elapsed: 0:31:46.282327\n",
            "iterations: 369 | train_loss: 0.039898083 | validation_loss: 0.054245453 | Roc Score: 0.8748416 | Time elapsed: 0:31:51.508410\n",
            "iterations: 370 | train_loss: 0.045389816 | validation_loss: 0.05458182 | Roc Score: 0.8752297 | Time elapsed: 0:31:56.742864\n",
            "iterations: 371 | train_loss: 0.051435936 | validation_loss: 0.05614874 | Roc Score: 0.87559974 | Time elapsed: 0:32:01.895684\n",
            "iterations: 372 | train_loss: 0.048347514 | validation_loss: 0.058655676 | Roc Score: 0.8759455 | Time elapsed: 0:32:07.111282\n",
            "iterations: 373 | train_loss: 0.08577034 | validation_loss: 0.059124053 | Roc Score: 0.8762825 | Time elapsed: 0:32:12.342091\n",
            "iterations: 374 | train_loss: 0.0463345 | validation_loss: 0.058664255 | Roc Score: 0.87661725 | Time elapsed: 0:32:17.453115\n",
            "iterations: 375 | train_loss: 0.050662186 | validation_loss: 0.057158485 | Roc Score: 0.87696135 | Time elapsed: 0:32:22.658425\n",
            "iterations: 376 | train_loss: 0.059116676 | validation_loss: 0.054834567 | Roc Score: 0.8773236 | Time elapsed: 0:32:27.901461\n",
            "iterations: 377 | train_loss: 0.053508174 | validation_loss: 0.05521071 | Roc Score: 0.87769634 | Time elapsed: 0:32:33.143107\n",
            "iterations: 378 | train_loss: 0.06536261 | validation_loss: 0.058113296 | Roc Score: 0.8780625 | Time elapsed: 0:32:38.395443\n",
            "iterations: 379 | train_loss: 0.03870648 | validation_loss: 0.058885075 | Roc Score: 0.8784239 | Time elapsed: 0:32:43.573814\n",
            "iterations: 380 | train_loss: 0.048499882 | validation_loss: 0.055353165 | Roc Score: 0.87879366 | Time elapsed: 0:32:48.775883\n",
            "iterations: 381 | train_loss: 0.05449033 | validation_loss: 0.052784804 | Roc Score: 0.87916684 | Time elapsed: 0:32:53.779475\n",
            "iterations: 382 | train_loss: 0.055021413 | validation_loss: 0.053918973 | Roc Score: 0.8795308 | Time elapsed: 0:32:58.737446\n",
            "iterations: 383 | train_loss: 0.052470017 | validation_loss: 0.058556303 | Roc Score: 0.8798687 | Time elapsed: 0:33:03.935218\n",
            "iterations: 384 | train_loss: 0.051270597 | validation_loss: 0.06096284 | Roc Score: 0.8801914 | Time elapsed: 0:33:09.197171\n",
            "iterations: 385 | train_loss: 0.0754598 | validation_loss: 0.058134563 | Roc Score: 0.8805294 | Time elapsed: 0:33:14.379661\n",
            "iterations: 386 | train_loss: 0.040943168 | validation_loss: 0.054024562 | Roc Score: 0.88088775 | Time elapsed: 0:33:19.612466\n",
            "iterations: 387 | train_loss: 0.059599407 | validation_loss: 0.052926697 | Roc Score: 0.8812452 | Time elapsed: 0:33:24.863552\n",
            "iterations: 388 | train_loss: 0.051783226 | validation_loss: 0.054883223 | Roc Score: 0.8815885 | Time elapsed: 0:33:30.085371\n",
            "iterations: 389 | train_loss: 0.049259778 | validation_loss: 0.05562007 | Roc Score: 0.8819293 | Time elapsed: 0:33:35.301654\n"
          ],
          "name": "stdout"
        },
        {
          "output_type": "stream",
          "text": [
            "iterations: 390 | train_loss: 0.0621897 | validation_loss: 0.055062298 | Roc Score: 0.8822731 | Time elapsed: 0:33:40.482109\n",
            "iterations: 391 | train_loss: 0.046096217 | validation_loss: 0.0548151 | Roc Score: 0.8826124 | Time elapsed: 0:33:45.735587\n",
            "iterations: 392 | train_loss: 0.05714797 | validation_loss: 0.05548565 | Roc Score: 0.88294387 | Time elapsed: 0:33:50.962863\n",
            "iterations: 393 | train_loss: 0.046190664 | validation_loss: 0.05628666 | Roc Score: 0.8832636 | Time elapsed: 0:33:56.190338\n",
            "iterations: 394 | train_loss: 0.027900295 | validation_loss: 0.05735312 | Roc Score: 0.8835702 | Time elapsed: 0:34:01.426477\n",
            "iterations: 395 | train_loss: 0.056198865 | validation_loss: 0.05941843 | Roc Score: 0.8838463 | Time elapsed: 0:34:06.636220\n",
            "iterations: 396 | train_loss: 0.04871256 | validation_loss: 0.060503654 | Roc Score: 0.8841079 | Time elapsed: 0:34:11.864992\n",
            "iterations: 397 | train_loss: 0.063885994 | validation_loss: 0.05801055 | Roc Score: 0.8843985 | Time elapsed: 0:34:17.108394\n",
            "iterations: 398 | train_loss: 0.059198055 | validation_loss: 0.0561904 | Roc Score: 0.8847011 | Time elapsed: 0:34:22.329232\n",
            "iterations: 399 | train_loss: 0.067093626 | validation_loss: 0.054740716 | Roc Score: 0.88501245 | Time elapsed: 0:34:27.515459\n",
            "iterations: 400 | train_loss: 0.058713645 | validation_loss: 0.05370468 | Roc Score: 0.88533604 | Time elapsed: 0:34:32.725039\n",
            "iterations: 401 | train_loss: 0.051504493 | validation_loss: 0.053909373 | Roc Score: 0.885657 | Time elapsed: 0:34:37.936177\n",
            "iterations: 402 | train_loss: 0.053183477 | validation_loss: 0.053823695 | Roc Score: 0.8859753 | Time elapsed: 0:34:43.138046\n",
            "iterations: 403 | train_loss: 0.071987696 | validation_loss: 0.05409125 | Roc Score: 0.886287 | Time elapsed: 0:34:48.383613\n",
            "iterations: 404 | train_loss: 0.05392807 | validation_loss: 0.053685877 | Roc Score: 0.88659614 | Time elapsed: 0:34:53.574386\n",
            "iterations: 405 | train_loss: 0.06592588 | validation_loss: 0.053727128 | Roc Score: 0.88690287 | Time elapsed: 0:34:58.781101\n",
            "iterations: 406 | train_loss: 0.044493575 | validation_loss: 0.054442856 | Roc Score: 0.8872083 | Time elapsed: 0:35:04.048383\n",
            "iterations: 407 | train_loss: 0.06414213 | validation_loss: 0.055331662 | Roc Score: 0.88751197 | Time elapsed: 0:35:09.259282\n",
            "iterations: 408 | train_loss: 0.060431086 | validation_loss: 0.055865817 | Roc Score: 0.8878125 | Time elapsed: 0:35:14.420845\n",
            "iterations: 409 | train_loss: 0.04452369 | validation_loss: 0.056569226 | Roc Score: 0.8881072 | Time elapsed: 0:35:19.578004\n",
            "iterations: 410 | train_loss: 0.054069508 | validation_loss: 0.056455284 | Roc Score: 0.88840044 | Time elapsed: 0:35:24.773416\n",
            "iterations: 411 | train_loss: 0.04845657 | validation_loss: 0.055460393 | Roc Score: 0.8886957 | Time elapsed: 0:35:29.977453\n",
            "iterations: 412 | train_loss: 0.05721039 | validation_loss: 0.053677145 | Roc Score: 0.8889975 | Time elapsed: 0:35:35.216975\n",
            "iterations: 413 | train_loss: 0.06358178 | validation_loss: 0.053182 | Roc Score: 0.88929856 | Time elapsed: 0:35:40.415551\n",
            "iterations: 414 | train_loss: 0.06050969 | validation_loss: 0.053645622 | Roc Score: 0.88959306 | Time elapsed: 0:35:45.603275\n",
            "iterations: 415 | train_loss: 0.047246654 | validation_loss: 0.054049145 | Roc Score: 0.8898834 | Time elapsed: 0:35:50.812671\n",
            "iterations: 416 | train_loss: 0.045554645 | validation_loss: 0.05382409 | Roc Score: 0.89017284 | Time elapsed: 0:35:56.028736\n",
            "iterations: 417 | train_loss: 0.04924915 | validation_loss: 0.053823195 | Roc Score: 0.8904649 | Time elapsed: 0:36:01.263173\n",
            "iterations: 418 | train_loss: 0.090441175 | validation_loss: 0.054289773 | Roc Score: 0.8907457 | Time elapsed: 0:36:06.486475\n",
            "iterations: 419 | train_loss: 0.058871053 | validation_loss: 0.054985087 | Roc Score: 0.8910173 | Time elapsed: 0:36:11.707788\n",
            "iterations: 420 | train_loss: 0.038777772 | validation_loss: 0.055636168 | Roc Score: 0.8912821 | Time elapsed: 0:36:16.958924\n",
            "iterations: 421 | train_loss: 0.04566057 | validation_loss: 0.056080118 | Roc Score: 0.89153993 | Time elapsed: 0:36:22.203472\n",
            "iterations: 422 | train_loss: 0.032846574 | validation_loss: 0.057077225 | Roc Score: 0.89178675 | Time elapsed: 0:36:27.404982\n",
            "iterations: 423 | train_loss: 0.05035952 | validation_loss: 0.056897387 | Roc Score: 0.8920343 | Time elapsed: 0:36:32.619198\n",
            "iterations: 424 | train_loss: 0.038910054 | validation_loss: 0.056133576 | Roc Score: 0.89228666 | Time elapsed: 0:36:37.938231\n",
            "iterations: 425 | train_loss: 0.037354127 | validation_loss: 0.05477379 | Roc Score: 0.8925465 | Time elapsed: 0:36:43.186796\n",
            "iterations: 426 | train_loss: 0.055638045 | validation_loss: 0.053892326 | Roc Score: 0.8928123 | Time elapsed: 0:36:48.384425\n",
            "iterations: 427 | train_loss: 0.06060683 | validation_loss: 0.053171325 | Roc Score: 0.89308447 | Time elapsed: 0:36:53.590807\n",
            "iterations: 428 | train_loss: 0.05225589 | validation_loss: 0.05317851 | Roc Score: 0.8933571 | Time elapsed: 0:36:58.772345\n"
          ],
          "name": "stdout"
        },
        {
          "output_type": "stream",
          "text": [
            "iterations: 429 | train_loss: 0.054574113 | validation_loss: 0.05341783 | Roc Score: 0.89362735 | Time elapsed: 0:37:03.993906\n",
            "iterations: 430 | train_loss: 0.05202039 | validation_loss: 0.053235516 | Roc Score: 0.8938964 | Time elapsed: 0:37:09.223928\n",
            "iterations: 431 | train_loss: 0.061561033 | validation_loss: 0.052677367 | Roc Score: 0.8941675 | Time elapsed: 0:37:14.471354\n",
            "iterations: 432 | train_loss: 0.06563025 | validation_loss: 0.052934002 | Roc Score: 0.8944353 | Time elapsed: 0:37:19.696806\n",
            "iterations: 433 | train_loss: 0.05306332 | validation_loss: 0.05298503 | Roc Score: 0.89470345 | Time elapsed: 0:37:24.888420\n",
            "iterations: 434 | train_loss: 0.042992063 | validation_loss: 0.052561536 | Roc Score: 0.89497256 | Time elapsed: 0:37:30.110253\n",
            "iterations: 435 | train_loss: 0.043106847 | validation_loss: 0.052406225 | Roc Score: 0.8952413 | Time elapsed: 0:37:35.299123\n",
            "iterations: 436 | train_loss: 0.0704253 | validation_loss: 0.05161034 | Roc Score: 0.89551336 | Time elapsed: 0:37:40.493082\n",
            "iterations: 437 | train_loss: 0.039298046 | validation_loss: 0.05333194 | Roc Score: 0.8957832 | Time elapsed: 0:37:45.779121\n",
            "iterations: 438 | train_loss: 0.049458813 | validation_loss: 0.054449428 | Roc Score: 0.89604986 | Time elapsed: 0:37:50.967592\n",
            "iterations: 439 | train_loss: 0.035637423 | validation_loss: 0.05477229 | Roc Score: 0.8963109 | Time elapsed: 0:37:56.182912\n",
            "iterations: 440 | train_loss: 0.04596746 | validation_loss: 0.055892717 | Roc Score: 0.8965659 | Time elapsed: 0:38:01.377400\n",
            "iterations: 441 | train_loss: 0.04956832 | validation_loss: 0.054519843 | Roc Score: 0.89680755 | Time elapsed: 0:38:06.618113\n",
            "iterations: 442 | train_loss: 0.045604825 | validation_loss: 0.053968873 | Roc Score: 0.8970453 | Time elapsed: 0:38:11.841462\n",
            "iterations: 443 | train_loss: 0.047565855 | validation_loss: 0.053164043 | Roc Score: 0.8972949 | Time elapsed: 0:38:17.007844\n",
            "iterations: 444 | train_loss: 0.06321146 | validation_loss: 0.052861057 | Roc Score: 0.89754987 | Time elapsed: 0:38:22.176665\n",
            "iterations: 445 | train_loss: 0.07025615 | validation_loss: 0.052212488 | Roc Score: 0.8978055 | Time elapsed: 0:38:27.365132\n",
            "iterations: 446 | train_loss: 0.047919534 | validation_loss: 0.051643003 | Roc Score: 0.8980609 | Time elapsed: 0:38:32.596055\n",
            "iterations: 447 | train_loss: 0.047259063 | validation_loss: 0.05259909 | Roc Score: 0.89831233 | Time elapsed: 0:38:37.847207\n",
            "iterations: 448 | train_loss: 0.04863341 | validation_loss: 0.054318797 | Roc Score: 0.89855844 | Time elapsed: 0:38:43.049577\n",
            "iterations: 449 | train_loss: 0.05770408 | validation_loss: 0.05514103 | Roc Score: 0.8988027 | Time elapsed: 0:38:47.895334\n",
            "iterations: 450 | train_loss: 0.041795764 | validation_loss: 0.05514911 | Roc Score: 0.89904666 | Time elapsed: 0:38:53.094405\n",
            "iterations: 451 | train_loss: 0.04239559 | validation_loss: 0.054670148 | Roc Score: 0.8992916 | Time elapsed: 0:38:58.306108\n",
            "iterations: 452 | train_loss: 0.025260366 | validation_loss: 0.054443996 | Roc Score: 0.89953554 | Time elapsed: 0:39:03.530117\n",
            "iterations: 453 | train_loss: 0.06432683 | validation_loss: 0.053915553 | Roc Score: 0.8997804 | Time elapsed: 0:39:08.725577\n",
            "iterations: 454 | train_loss: 0.08151481 | validation_loss: 0.054964 | Roc Score: 0.9000206 | Time elapsed: 0:39:13.945570\n",
            "iterations: 455 | train_loss: 0.050422546 | validation_loss: 0.05543002 | Roc Score: 0.9002573 | Time elapsed: 0:39:19.126743\n",
            "iterations: 456 | train_loss: 0.05035085 | validation_loss: 0.054322973 | Roc Score: 0.9004967 | Time elapsed: 0:39:24.340979\n",
            "iterations: 457 | train_loss: 0.052306056 | validation_loss: 0.051918004 | Roc Score: 0.9007407 | Time elapsed: 0:39:29.516685\n",
            "iterations: 458 | train_loss: 0.051228672 | validation_loss: 0.05148163 | Roc Score: 0.9009843 | Time elapsed: 0:39:34.749829\n",
            "iterations: 459 | train_loss: 0.05173399 | validation_loss: 0.052193 | Roc Score: 0.90121514 | Time elapsed: 0:39:39.960755\n",
            "iterations: 460 | train_loss: 0.07245079 | validation_loss: 0.05362521 | Roc Score: 0.9014312 | Time elapsed: 0:39:45.158858\n",
            "iterations: 461 | train_loss: 0.0694223 | validation_loss: 0.053295527 | Roc Score: 0.9016479 | Time elapsed: 0:39:50.417212\n",
            "iterations: 462 | train_loss: 0.05842453 | validation_loss: 0.053062428 | Roc Score: 0.90186644 | Time elapsed: 0:39:55.612827\n",
            "iterations: 463 | train_loss: 0.056841515 | validation_loss: 0.05219364 | Roc Score: 0.90209323 | Time elapsed: 0:40:00.834316\n",
            "iterations: 464 | train_loss: 0.05131025 | validation_loss: 0.052382942 | Roc Score: 0.90232396 | Time elapsed: 0:40:06.048594\n",
            "iterations: 465 | train_loss: 0.051151212 | validation_loss: 0.053124845 | Roc Score: 0.9025552 | Time elapsed: 0:40:11.241112\n",
            "iterations: 466 | train_loss: 0.057070497 | validation_loss: 0.053328667 | Roc Score: 0.90278465 | Time elapsed: 0:40:16.301220\n",
            "iterations: 467 | train_loss: 0.044594504 | validation_loss: 0.05332896 | Roc Score: 0.90301126 | Time elapsed: 0:40:21.522323\n"
          ],
          "name": "stdout"
        },
        {
          "output_type": "stream",
          "text": [
            "iterations: 468 | train_loss: 0.041291345 | validation_loss: 0.052933406 | Roc Score: 0.90323395 | Time elapsed: 0:40:26.744438\n",
            "iterations: 469 | train_loss: 0.049072985 | validation_loss: 0.052766167 | Roc Score: 0.9034537 | Time elapsed: 0:40:31.928971\n",
            "iterations: 470 | train_loss: 0.08268361 | validation_loss: 0.0526294 | Roc Score: 0.90367734 | Time elapsed: 0:40:37.110693\n",
            "iterations: 471 | train_loss: 0.0441125 | validation_loss: 0.05251324 | Roc Score: 0.9039004 | Time elapsed: 0:40:42.340119\n",
            "iterations: 472 | train_loss: 0.08152916 | validation_loss: 0.052389123 | Roc Score: 0.9041223 | Time elapsed: 0:40:47.540928\n",
            "iterations: 473 | train_loss: 0.050670862 | validation_loss: 0.05225112 | Roc Score: 0.9043433 | Time elapsed: 0:40:52.725378\n",
            "iterations: 474 | train_loss: 0.046059173 | validation_loss: 0.0518798 | Roc Score: 0.90456516 | Time elapsed: 0:40:57.933615\n",
            "iterations: 475 | train_loss: 0.044220842 | validation_loss: 0.051931977 | Roc Score: 0.90478516 | Time elapsed: 0:41:03.121643\n",
            "iterations: 476 | train_loss: 0.037329227 | validation_loss: 0.053186957 | Roc Score: 0.90499926 | Time elapsed: 0:41:08.331154\n",
            "iterations: 477 | train_loss: 0.044265244 | validation_loss: 0.05470774 | Roc Score: 0.90520316 | Time elapsed: 0:41:13.425543\n",
            "iterations: 478 | train_loss: 0.058071785 | validation_loss: 0.05451381 | Roc Score: 0.90540415 | Time elapsed: 0:41:18.630603\n",
            "iterations: 479 | train_loss: 0.03377817 | validation_loss: 0.05384761 | Roc Score: 0.9056039 | Time elapsed: 0:41:23.870101\n",
            "iterations: 480 | train_loss: 0.032760482 | validation_loss: 0.052870836 | Roc Score: 0.90580595 | Time elapsed: 0:41:29.092657\n",
            "iterations: 481 | train_loss: 0.0279885 | validation_loss: 0.0520088 | Roc Score: 0.90601027 | Time elapsed: 0:41:34.331800\n",
            "iterations: 482 | train_loss: 0.04400701 | validation_loss: 0.051230602 | Roc Score: 0.90621907 | Time elapsed: 0:41:39.577328\n",
            "iterations: 483 | train_loss: 0.048131227 | validation_loss: 0.051638674 | Roc Score: 0.90642774 | Time elapsed: 0:41:44.815117\n",
            "iterations: 484 | train_loss: 0.027016198 | validation_loss: 0.05216008 | Roc Score: 0.90663517 | Time elapsed: 0:41:50.013682\n",
            "iterations: 485 | train_loss: 0.04855241 | validation_loss: 0.05217962 | Roc Score: 0.90684223 | Time elapsed: 0:41:55.208343\n",
            "iterations: 486 | train_loss: 0.06538944 | validation_loss: 0.051606715 | Roc Score: 0.9070458 | Time elapsed: 0:42:00.424806\n",
            "iterations: 487 | train_loss: 0.051458433 | validation_loss: 0.0521361 | Roc Score: 0.90723884 | Time elapsed: 0:42:05.631507\n",
            "iterations: 488 | train_loss: 0.054318707 | validation_loss: 0.05294373 | Roc Score: 0.9074257 | Time elapsed: 0:42:10.871474\n",
            "iterations: 489 | train_loss: 0.06371848 | validation_loss: 0.054272924 | Roc Score: 0.9076064 | Time elapsed: 0:42:16.102442\n",
            "iterations: 490 | train_loss: 0.040558577 | validation_loss: 0.054623537 | Roc Score: 0.9077859 | Time elapsed: 0:42:20.915531\n",
            "iterations: 491 | train_loss: 0.027397525 | validation_loss: 0.054886334 | Roc Score: 0.9079671 | Time elapsed: 0:42:26.165293\n",
            "iterations: 492 | train_loss: 0.055745628 | validation_loss: 0.053868935 | Roc Score: 0.90815467 | Time elapsed: 0:42:31.425962\n",
            "iterations: 493 | train_loss: 0.06361945 | validation_loss: 0.052406043 | Roc Score: 0.9083498 | Time elapsed: 0:42:36.674206\n",
            "iterations: 494 | train_loss: 0.067672275 | validation_loss: 0.052755814 | Roc Score: 0.9085413 | Time elapsed: 0:42:41.863271\n",
            "iterations: 495 | train_loss: 0.054504827 | validation_loss: 0.05464945 | Roc Score: 0.90872145 | Time elapsed: 0:42:47.063117\n",
            "iterations: 496 | train_loss: 0.062386747 | validation_loss: 0.055159144 | Roc Score: 0.9088986 | Time elapsed: 0:42:52.309543\n",
            "iterations: 497 | train_loss: 0.057782147 | validation_loss: 0.053538416 | Roc Score: 0.9090852 | Time elapsed: 0:42:57.568327\n",
            "iterations: 498 | train_loss: 0.05255518 | validation_loss: 0.05154567 | Roc Score: 0.90927994 | Time elapsed: 0:43:02.773381\n",
            "iterations: 499 | train_loss: 0.031002842 | validation_loss: 0.050708108 | Roc Score: 0.90947706 | Time elapsed: 0:43:08.013755\n",
            "iterations: 500 | train_loss: 0.03740387 | validation_loss: 0.05154305 | Roc Score: 0.9096657 | Time elapsed: 0:43:13.186426\n",
            "iterations: 501 | train_loss: 0.030122757 | validation_loss: 0.053681806 | Roc Score: 0.90983796 | Time elapsed: 0:43:18.439820\n",
            "iterations: 502 | train_loss: 0.05012374 | validation_loss: 0.05470721 | Roc Score: 0.91000146 | Time elapsed: 0:43:23.625820\n",
            "iterations: 503 | train_loss: 0.046600495 | validation_loss: 0.054283634 | Roc Score: 0.91016513 | Time elapsed: 0:43:28.840095\n",
            "iterations: 504 | train_loss: 0.047163725 | validation_loss: 0.053632285 | Roc Score: 0.9103297 | Time elapsed: 0:43:34.012704\n",
            "iterations: 505 | train_loss: 0.038372166 | validation_loss: 0.052435957 | Roc Score: 0.9105008 | Time elapsed: 0:43:39.209822\n",
            "iterations: 506 | train_loss: 0.023884388 | validation_loss: 0.05201334 | Roc Score: 0.9106746 | Time elapsed: 0:43:44.404609\n"
          ],
          "name": "stdout"
        },
        {
          "output_type": "stream",
          "text": [
            "iterations: 507 | train_loss: 0.05540604 | validation_loss: 0.051778775 | Roc Score: 0.91085047 | Time elapsed: 0:43:49.631411\n",
            "iterations: 508 | train_loss: 0.052499995 | validation_loss: 0.051982466 | Roc Score: 0.9110302 | Time elapsed: 0:43:54.864360\n",
            "iterations: 509 | train_loss: 0.052122496 | validation_loss: 0.05255059 | Roc Score: 0.9112095 | Time elapsed: 0:44:00.093363\n",
            "iterations: 510 | train_loss: 0.04218352 | validation_loss: 0.05249414 | Roc Score: 0.9113909 | Time elapsed: 0:44:05.310667\n",
            "iterations: 511 | train_loss: 0.031306833 | validation_loss: 0.051395126 | Roc Score: 0.91157454 | Time elapsed: 0:44:10.564848\n",
            "iterations: 512 | train_loss: 0.057025813 | validation_loss: 0.05144626 | Roc Score: 0.91175514 | Time elapsed: 0:44:15.734498\n",
            "iterations: 513 | train_loss: 0.059079703 | validation_loss: 0.0533774 | Roc Score: 0.91192627 | Time elapsed: 0:44:20.919907\n",
            "iterations: 514 | train_loss: 0.04074833 | validation_loss: 0.055074416 | Roc Score: 0.91208816 | Time elapsed: 0:44:26.119203\n",
            "iterations: 515 | train_loss: 0.067649126 | validation_loss: 0.05406738 | Roc Score: 0.9122542 | Time elapsed: 0:44:31.337522\n",
            "iterations: 516 | train_loss: 0.06898968 | validation_loss: 0.052544665 | Roc Score: 0.9124266 | Time elapsed: 0:44:36.550796\n",
            "iterations: 517 | train_loss: 0.06632502 | validation_loss: 0.051321726 | Roc Score: 0.9126045 | Time elapsed: 0:44:41.791360\n",
            "iterations: 518 | train_loss: 0.05495857 | validation_loss: 0.05252029 | Roc Score: 0.91277766 | Time elapsed: 0:44:46.993514\n",
            "iterations: 519 | train_loss: 0.051033698 | validation_loss: 0.05369333 | Roc Score: 0.91294557 | Time elapsed: 0:44:52.068061\n",
            "iterations: 520 | train_loss: 0.038408153 | validation_loss: 0.052953094 | Roc Score: 0.91311467 | Time elapsed: 0:44:57.309068\n",
            "iterations: 521 | train_loss: 0.042345263 | validation_loss: 0.051663633 | Roc Score: 0.91328704 | Time elapsed: 0:45:02.507487\n",
            "iterations: 522 | train_loss: 0.0669785 | validation_loss: 0.051132374 | Roc Score: 0.91345865 | Time elapsed: 0:45:07.687386\n",
            "iterations: 523 | train_loss: 0.034703374 | validation_loss: 0.0513223 | Roc Score: 0.91362554 | Time elapsed: 0:45:12.695224\n",
            "iterations: 524 | train_loss: 0.06565941 | validation_loss: 0.052498866 | Roc Score: 0.913783 | Time elapsed: 0:45:17.936816\n",
            "iterations: 525 | train_loss: 0.062514976 | validation_loss: 0.053610906 | Roc Score: 0.9139325 | Time elapsed: 0:45:23.121028\n",
            "iterations: 526 | train_loss: 0.058276843 | validation_loss: 0.053274043 | Roc Score: 0.9140832 | Time elapsed: 0:45:28.347198\n",
            "iterations: 527 | train_loss: 0.051712677 | validation_loss: 0.051517088 | Roc Score: 0.9142421 | Time elapsed: 0:45:33.589780\n",
            "iterations: 528 | train_loss: 0.03967902 | validation_loss: 0.05069957 | Roc Score: 0.91441107 | Time elapsed: 0:45:38.780093\n",
            "iterations: 529 | train_loss: 0.04749876 | validation_loss: 0.05162657 | Roc Score: 0.91458154 | Time elapsed: 0:45:43.991195\n",
            "iterations: 530 | train_loss: 0.04105459 | validation_loss: 0.05417952 | Roc Score: 0.91474766 | Time elapsed: 0:45:49.187396\n",
            "iterations: 531 | train_loss: 0.0574409 | validation_loss: 0.052698676 | Roc Score: 0.91491556 | Time elapsed: 0:45:54.392491\n",
            "iterations: 532 | train_loss: 0.062303264 | validation_loss: 0.050306384 | Roc Score: 0.91508526 | Time elapsed: 0:45:59.648254\n",
            "iterations: 533 | train_loss: 0.049677413 | validation_loss: 0.050021417 | Roc Score: 0.9152523 | Time elapsed: 0:46:04.869437\n",
            "iterations: 534 | train_loss: 0.041679263 | validation_loss: 0.05052184 | Roc Score: 0.9154158 | Time elapsed: 0:46:10.091060\n",
            "iterations: 535 | train_loss: 0.059340063 | validation_loss: 0.050787788 | Roc Score: 0.9155771 | Time elapsed: 0:46:15.307599\n",
            "iterations: 536 | train_loss: 0.048142813 | validation_loss: 0.0509918 | Roc Score: 0.9157362 | Time elapsed: 0:46:20.502586\n",
            "iterations: 537 | train_loss: 0.063274376 | validation_loss: 0.050631154 | Roc Score: 0.9158985 | Time elapsed: 0:46:25.689523\n",
            "iterations: 538 | train_loss: 0.048764985 | validation_loss: 0.04999123 | Roc Score: 0.91606313 | Time elapsed: 0:46:30.915531\n",
            "iterations: 539 | train_loss: 0.045747563 | validation_loss: 0.04984364 | Roc Score: 0.9162287 | Time elapsed: 0:46:36.133002\n",
            "iterations: 540 | train_loss: 0.056188915 | validation_loss: 0.050011437 | Roc Score: 0.9163932 | Time elapsed: 0:46:41.392015\n",
            "iterations: 541 | train_loss: 0.035461728 | validation_loss: 0.049976278 | Roc Score: 0.9165575 | Time elapsed: 0:46:46.585868\n",
            "iterations: 542 | train_loss: 0.044420306 | validation_loss: 0.0499818 | Roc Score: 0.9167213 | Time elapsed: 0:46:51.816649\n",
            "iterations: 543 | train_loss: 0.05765325 | validation_loss: 0.050077382 | Roc Score: 0.9168835 | Time elapsed: 0:46:57.069771\n",
            "iterations: 544 | train_loss: 0.041313846 | validation_loss: 0.050049063 | Roc Score: 0.9170453 | Time elapsed: 0:47:02.263884\n",
            "iterations: 545 | train_loss: 0.05419864 | validation_loss: 0.049675897 | Roc Score: 0.9172076 | Time elapsed: 0:47:07.466669\n"
          ],
          "name": "stdout"
        },
        {
          "output_type": "stream",
          "text": [
            "iterations: 546 | train_loss: 0.035256125 | validation_loss: 0.049805857 | Roc Score: 0.9173697 | Time elapsed: 0:47:12.709915\n",
            "iterations: 547 | train_loss: 0.039134145 | validation_loss: 0.05048406 | Roc Score: 0.9175281 | Time elapsed: 0:47:17.950051\n",
            "iterations: 548 | train_loss: 0.048047576 | validation_loss: 0.05114425 | Roc Score: 0.91768193 | Time elapsed: 0:47:23.170923\n",
            "iterations: 549 | train_loss: 0.06550363 | validation_loss: 0.05076412 | Roc Score: 0.9178347 | Time elapsed: 0:47:28.382131\n",
            "iterations: 550 | train_loss: 0.072686 | validation_loss: 0.049510013 | Roc Score: 0.917993 | Time elapsed: 0:47:33.575177\n",
            "iterations: 551 | train_loss: 0.043889597 | validation_loss: 0.049788535 | Roc Score: 0.91815126 | Time elapsed: 0:47:38.760674\n",
            "iterations: 552 | train_loss: 0.050267972 | validation_loss: 0.050743595 | Roc Score: 0.91830647 | Time elapsed: 0:47:44.006493\n",
            "iterations: 553 | train_loss: 0.055980675 | validation_loss: 0.050337266 | Roc Score: 0.91846174 | Time elapsed: 0:47:49.181114\n",
            "iterations: 554 | train_loss: 0.047511302 | validation_loss: 0.049513564 | Roc Score: 0.918618 | Time elapsed: 0:47:54.378409\n",
            "iterations: 555 | train_loss: 0.037368465 | validation_loss: 0.04912019 | Roc Score: 0.91877323 | Time elapsed: 0:47:59.563758\n",
            "iterations: 556 | train_loss: 0.061402716 | validation_loss: 0.04918958 | Roc Score: 0.9189279 | Time elapsed: 0:48:04.760393\n",
            "iterations: 557 | train_loss: 0.036643073 | validation_loss: 0.049401946 | Roc Score: 0.91908085 | Time elapsed: 0:48:09.972451\n",
            "iterations: 558 | train_loss: 0.058407318 | validation_loss: 0.05011713 | Roc Score: 0.91923165 | Time elapsed: 0:48:15.166939\n",
            "iterations: 559 | train_loss: 0.061822467 | validation_loss: 0.050909184 | Roc Score: 0.9193808 | Time elapsed: 0:48:20.229165\n",
            "iterations: 560 | train_loss: 0.03285524 | validation_loss: 0.05152785 | Roc Score: 0.91952676 | Time elapsed: 0:48:25.400944\n",
            "iterations: 561 | train_loss: 0.03833428 | validation_loss: 0.05114717 | Roc Score: 0.9196721 | Time elapsed: 0:48:30.653513\n",
            "iterations: 562 | train_loss: 0.06373958 | validation_loss: 0.04964764 | Roc Score: 0.919823 | Time elapsed: 0:48:35.858479\n",
            "iterations: 563 | train_loss: 0.052663535 | validation_loss: 0.049475085 | Roc Score: 0.9199716 | Time elapsed: 0:48:41.056637\n",
            "iterations: 564 | train_loss: 0.035692062 | validation_loss: 0.05038247 | Roc Score: 0.9201174 | Time elapsed: 0:48:46.279767\n",
            "iterations: 565 | train_loss: 0.05266613 | validation_loss: 0.05066147 | Roc Score: 0.92026174 | Time elapsed: 0:48:51.193257\n",
            "iterations: 566 | train_loss: 0.043946017 | validation_loss: 0.049517382 | Roc Score: 0.9204088 | Time elapsed: 0:48:56.416795\n",
            "iterations: 567 | train_loss: 0.064876445 | validation_loss: 0.049115453 | Roc Score: 0.9205561 | Time elapsed: 0:49:01.633985\n",
            "iterations: 568 | train_loss: 0.059570104 | validation_loss: 0.049381137 | Roc Score: 0.9207 | Time elapsed: 0:49:06.851486\n",
            "iterations: 569 | train_loss: 0.034124136 | validation_loss: 0.050324757 | Roc Score: 0.9208391 | Time elapsed: 0:49:12.021650\n",
            "iterations: 570 | train_loss: 0.047085337 | validation_loss: 0.05064421 | Roc Score: 0.92097604 | Time elapsed: 0:49:17.247375\n",
            "iterations: 571 | train_loss: 0.043590557 | validation_loss: 0.05035759 | Roc Score: 0.92111415 | Time elapsed: 0:49:22.467991\n",
            "iterations: 572 | train_loss: 0.043109287 | validation_loss: 0.04990819 | Roc Score: 0.9212543 | Time elapsed: 0:49:27.680775\n",
            "iterations: 573 | train_loss: 0.039719008 | validation_loss: 0.049864355 | Roc Score: 0.9213937 | Time elapsed: 0:49:32.901908\n",
            "iterations: 574 | train_loss: 0.04767257 | validation_loss: 0.050102524 | Roc Score: 0.9215314 | Time elapsed: 0:49:38.139099\n",
            "iterations: 575 | train_loss: 0.053766694 | validation_loss: 0.05013569 | Roc Score: 0.92166865 | Time elapsed: 0:49:43.197885\n",
            "iterations: 576 | train_loss: 0.043512747 | validation_loss: 0.050121445 | Roc Score: 0.9218057 | Time elapsed: 0:49:48.386508\n",
            "iterations: 577 | train_loss: 0.068840705 | validation_loss: 0.049814492 | Roc Score: 0.9219453 | Time elapsed: 0:49:53.596490\n",
            "iterations: 578 | train_loss: 0.07182322 | validation_loss: 0.04990554 | Roc Score: 0.92208403 | Time elapsed: 0:49:58.806250\n",
            "iterations: 579 | train_loss: 0.047832597 | validation_loss: 0.05066436 | Roc Score: 0.9222216 | Time elapsed: 0:50:04.023610\n",
            "iterations: 580 | train_loss: 0.057846814 | validation_loss: 0.05087672 | Roc Score: 0.9223577 | Time elapsed: 0:50:09.273054\n",
            "iterations: 581 | train_loss: 0.058667257 | validation_loss: 0.05058932 | Roc Score: 0.92249435 | Time elapsed: 0:50:14.516570\n",
            "iterations: 582 | train_loss: 0.050784145 | validation_loss: 0.049948215 | Roc Score: 0.92263263 | Time elapsed: 0:50:19.741724\n",
            "iterations: 583 | train_loss: 0.04324381 | validation_loss: 0.050018273 | Roc Score: 0.9227696 | Time elapsed: 0:50:24.939810\n",
            "iterations: 584 | train_loss: 0.051555272 | validation_loss: 0.04961493 | Roc Score: 0.92290676 | Time elapsed: 0:50:30.138518\n"
          ],
          "name": "stdout"
        },
        {
          "output_type": "stream",
          "text": [
            "iterations: 585 | train_loss: 0.057758745 | validation_loss: 0.049601495 | Roc Score: 0.9230396 | Time elapsed: 0:50:35.322268\n",
            "iterations: 586 | train_loss: 0.056290615 | validation_loss: 0.04976824 | Roc Score: 0.92316955 | Time elapsed: 0:50:40.511772\n",
            "iterations: 587 | train_loss: 0.03717333 | validation_loss: 0.04977065 | Roc Score: 0.9232997 | Time elapsed: 0:50:45.732145\n",
            "iterations: 588 | train_loss: 0.04263554 | validation_loss: 0.049884714 | Roc Score: 0.9234299 | Time elapsed: 0:50:50.950654\n",
            "iterations: 589 | train_loss: 0.06421333 | validation_loss: 0.04976577 | Roc Score: 0.9235587 | Time elapsed: 0:50:56.178092\n",
            "iterations: 590 | train_loss: 0.043989785 | validation_loss: 0.049638458 | Roc Score: 0.92368716 | Time elapsed: 0:51:01.401762\n",
            "iterations: 591 | train_loss: 0.033335216 | validation_loss: 0.04957388 | Roc Score: 0.92381555 | Time elapsed: 0:51:06.559323\n",
            "iterations: 592 | train_loss: 0.021771569 | validation_loss: 0.049566865 | Roc Score: 0.9239432 | Time elapsed: 0:51:11.717328\n",
            "iterations: 593 | train_loss: 0.053754125 | validation_loss: 0.049705435 | Roc Score: 0.9240717 | Time elapsed: 0:51:16.938115\n",
            "iterations: 594 | train_loss: 0.04761174 | validation_loss: 0.05024381 | Roc Score: 0.92420065 | Time elapsed: 0:51:22.107254\n",
            "iterations: 595 | train_loss: 0.054225348 | validation_loss: 0.049579155 | Roc Score: 0.9243284 | Time elapsed: 0:51:27.318234\n",
            "iterations: 596 | train_loss: 0.050766762 | validation_loss: 0.049462553 | Roc Score: 0.9244543 | Time elapsed: 0:51:32.466620\n",
            "iterations: 597 | train_loss: 0.045309644 | validation_loss: 0.05009437 | Roc Score: 0.924577 | Time elapsed: 0:51:37.598527\n",
            "iterations: 598 | train_loss: 0.034131296 | validation_loss: 0.050849244 | Roc Score: 0.9246973 | Time elapsed: 0:51:42.833940\n",
            "iterations: 599 | train_loss: 0.06758315 | validation_loss: 0.05022682 | Roc Score: 0.9248204 | Time elapsed: 0:51:48.069747\n",
            "iterations: 600 | train_loss: 0.048151795 | validation_loss: 0.049131297 | Roc Score: 0.9249465 | Time elapsed: 0:51:53.255387\n",
            "iterations: 601 | train_loss: 0.0459022 | validation_loss: 0.04914113 | Roc Score: 0.9250715 | Time elapsed: 0:51:58.408224\n",
            "iterations: 602 | train_loss: 0.04451619 | validation_loss: 0.0505284 | Roc Score: 0.9251946 | Time elapsed: 0:52:03.586189\n",
            "iterations: 603 | train_loss: 0.039560355 | validation_loss: 0.05071996 | Roc Score: 0.9253171 | Time elapsed: 0:52:08.788010\n",
            "iterations: 604 | train_loss: 0.072454765 | validation_loss: 0.050189223 | Roc Score: 0.92543936 | Time elapsed: 0:52:13.982987\n",
            "iterations: 605 | train_loss: 0.03310199 | validation_loss: 0.049439866 | Roc Score: 0.9255635 | Time elapsed: 0:52:19.164732\n",
            "iterations: 606 | train_loss: 0.068023704 | validation_loss: 0.049701758 | Roc Score: 0.92568594 | Time elapsed: 0:52:24.429885\n",
            "iterations: 607 | train_loss: 0.033341374 | validation_loss: 0.050461914 | Roc Score: 0.9258044 | Time elapsed: 0:52:29.626379\n",
            "iterations: 608 | train_loss: 0.028070275 | validation_loss: 0.051773988 | Roc Score: 0.9259182 | Time elapsed: 0:52:34.861630\n",
            "iterations: 609 | train_loss: 0.05951579 | validation_loss: 0.052017897 | Roc Score: 0.92603135 | Time elapsed: 0:52:39.858670\n",
            "iterations: 610 | train_loss: 0.05010089 | validation_loss: 0.05177151 | Roc Score: 0.92614526 | Time elapsed: 0:52:45.085618\n",
            "iterations: 611 | train_loss: 0.05042933 | validation_loss: 0.051435936 | Roc Score: 0.9262613 | Time elapsed: 0:52:50.289254\n",
            "iterations: 612 | train_loss: 0.05279644 | validation_loss: 0.0513126 | Roc Score: 0.9263778 | Time elapsed: 0:52:55.518883\n",
            "iterations: 613 | train_loss: 0.033472415 | validation_loss: 0.051164296 | Roc Score: 0.9264949 | Time elapsed: 0:53:00.715879\n",
            "iterations: 614 | train_loss: 0.05717504 | validation_loss: 0.051144436 | Roc Score: 0.92661 | Time elapsed: 0:53:05.950441\n",
            "iterations: 615 | train_loss: 0.0662469 | validation_loss: 0.050910804 | Roc Score: 0.9267249 | Time elapsed: 0:53:11.190095\n",
            "iterations: 616 | train_loss: 0.04444945 | validation_loss: 0.050108653 | Roc Score: 0.92684245 | Time elapsed: 0:53:16.421909\n",
            "iterations: 617 | train_loss: 0.042527746 | validation_loss: 0.049908865 | Roc Score: 0.9269597 | Time elapsed: 0:53:21.663598\n",
            "iterations: 618 | train_loss: 0.03369994 | validation_loss: 0.051109534 | Roc Score: 0.9270724 | Time elapsed: 0:53:26.881545\n",
            "iterations: 619 | train_loss: 0.06374232 | validation_loss: 0.05148889 | Roc Score: 0.9271826 | Time elapsed: 0:53:32.107772\n",
            "iterations: 620 | train_loss: 0.049046192 | validation_loss: 0.050832465 | Roc Score: 0.9272938 | Time elapsed: 0:53:37.352072\n",
            "iterations: 621 | train_loss: 0.05020433 | validation_loss: 0.04988974 | Roc Score: 0.9274069 | Time elapsed: 0:53:42.593502\n",
            "iterations: 622 | train_loss: 0.04754071 | validation_loss: 0.049508505 | Roc Score: 0.92752135 | Time elapsed: 0:53:47.778013\n",
            "iterations: 623 | train_loss: 0.051379427 | validation_loss: 0.04949372 | Roc Score: 0.927637 | Time elapsed: 0:53:53.027350\n"
          ],
          "name": "stdout"
        },
        {
          "output_type": "stream",
          "text": [
            "iterations: 624 | train_loss: 0.041075975 | validation_loss: 0.05002849 | Roc Score: 0.9277515 | Time elapsed: 0:53:58.241975\n",
            "iterations: 625 | train_loss: 0.06237545 | validation_loss: 0.05187706 | Roc Score: 0.9278618 | Time elapsed: 0:54:03.402276\n",
            "iterations: 626 | train_loss: 0.049059078 | validation_loss: 0.054198608 | Roc Score: 0.9279683 | Time elapsed: 0:54:08.658426\n",
            "iterations: 627 | train_loss: 0.044598766 | validation_loss: 0.053883962 | Roc Score: 0.9280756 | Time elapsed: 0:54:13.826336\n",
            "iterations: 628 | train_loss: 0.038986374 | validation_loss: 0.051487498 | Roc Score: 0.9281872 | Time elapsed: 0:54:19.045574\n",
            "iterations: 629 | train_loss: 0.04059574 | validation_loss: 0.05051186 | Roc Score: 0.92829823 | Time elapsed: 0:54:24.254528\n",
            "iterations: 630 | train_loss: 0.046883054 | validation_loss: 0.050022334 | Roc Score: 0.9284027 | Time elapsed: 0:54:29.483506\n",
            "iterations: 631 | train_loss: 0.052802656 | validation_loss: 0.05292128 | Roc Score: 0.9284901 | Time elapsed: 0:54:34.657034\n",
            "iterations: 632 | train_loss: 0.056225568 | validation_loss: 0.05591064 | Roc Score: 0.92856604 | Time elapsed: 0:54:39.884837\n",
            "iterations: 633 | train_loss: 0.03959802 | validation_loss: 0.05657666 | Roc Score: 0.9286407 | Time elapsed: 0:54:45.129514\n",
            "iterations: 634 | train_loss: 0.045633893 | validation_loss: 0.05463195 | Roc Score: 0.928723 | Time elapsed: 0:54:50.352755\n",
            "iterations: 635 | train_loss: 0.027496321 | validation_loss: 0.052969575 | Roc Score: 0.9288147 | Time elapsed: 0:54:55.543418\n",
            "iterations: 636 | train_loss: 0.048393067 | validation_loss: 0.050607275 | Roc Score: 0.9289166 | Time elapsed: 0:55:00.792317\n",
            "iterations: 637 | train_loss: 0.051601492 | validation_loss: 0.049284086 | Roc Score: 0.9290273 | Time elapsed: 0:55:05.999743\n",
            "iterations: 638 | train_loss: 0.057404734 | validation_loss: 0.05201668 | Roc Score: 0.9291302 | Time elapsed: 0:55:11.236433\n",
            "iterations: 639 | train_loss: 0.054277636 | validation_loss: 0.054088596 | Roc Score: 0.92922586 | Time elapsed: 0:55:16.477732\n",
            "iterations: 640 | train_loss: 0.052868534 | validation_loss: 0.052758116 | Roc Score: 0.92932427 | Time elapsed: 0:55:21.713426\n",
            "iterations: 641 | train_loss: 0.049579214 | validation_loss: 0.049764883 | Roc Score: 0.92943114 | Time elapsed: 0:55:26.943385\n",
            "iterations: 642 | train_loss: 0.045949545 | validation_loss: 0.04863459 | Roc Score: 0.9295408 | Time elapsed: 0:55:32.126694\n",
            "iterations: 643 | train_loss: 0.035177544 | validation_loss: 0.04913958 | Roc Score: 0.9296477 | Time elapsed: 0:55:37.340838\n",
            "iterations: 644 | train_loss: 0.044468444 | validation_loss: 0.050036702 | Roc Score: 0.9297511 | Time elapsed: 0:55:42.581712\n",
            "iterations: 645 | train_loss: 0.02507569 | validation_loss: 0.051267345 | Roc Score: 0.929846 | Time elapsed: 0:55:47.767837\n",
            "iterations: 646 | train_loss: 0.046845734 | validation_loss: 0.05184696 | Roc Score: 0.9299348 | Time elapsed: 0:55:52.951278\n",
            "iterations: 647 | train_loss: 0.06511951 | validation_loss: 0.050846495 | Roc Score: 0.93002695 | Time elapsed: 0:55:58.207905\n",
            "iterations: 648 | train_loss: 0.04952952 | validation_loss: 0.0497286 | Roc Score: 0.9301246 | Time elapsed: 0:56:03.387680\n",
            "iterations: 649 | train_loss: 0.03802895 | validation_loss: 0.048854414 | Roc Score: 0.93022734 | Time elapsed: 0:56:08.612347\n",
            "iterations: 650 | train_loss: 0.04389605 | validation_loss: 0.048643615 | Roc Score: 0.9303321 | Time elapsed: 0:56:13.811619\n",
            "iterations: 651 | train_loss: 0.042278014 | validation_loss: 0.049019355 | Roc Score: 0.9304382 | Time elapsed: 0:56:18.996212\n",
            "iterations: 652 | train_loss: 0.03443808 | validation_loss: 0.048924204 | Roc Score: 0.93054354 | Time elapsed: 0:56:24.230544\n",
            "iterations: 653 | train_loss: 0.0556519 | validation_loss: 0.048890375 | Roc Score: 0.9306491 | Time elapsed: 0:56:29.394780\n",
            "iterations: 654 | train_loss: 0.03550532 | validation_loss: 0.04858036 | Roc Score: 0.9307535 | Time elapsed: 0:56:34.563031\n",
            "iterations: 655 | train_loss: 0.052799772 | validation_loss: 0.04837695 | Roc Score: 0.93085825 | Time elapsed: 0:56:39.838442\n",
            "iterations: 656 | train_loss: 0.063448444 | validation_loss: 0.048653428 | Roc Score: 0.93096155 | Time elapsed: 0:56:45.104624\n",
            "iterations: 657 | train_loss: 0.05010446 | validation_loss: 0.04916787 | Roc Score: 0.93106365 | Time elapsed: 0:56:50.314708\n",
            "iterations: 658 | train_loss: 0.03183606 | validation_loss: 0.049645808 | Roc Score: 0.9311634 | Time elapsed: 0:56:55.541905\n",
            "iterations: 659 | train_loss: 0.041896988 | validation_loss: 0.049808696 | Roc Score: 0.93126136 | Time elapsed: 0:57:00.755361\n",
            "iterations: 660 | train_loss: 0.052036427 | validation_loss: 0.049571253 | Roc Score: 0.93135875 | Time elapsed: 0:57:05.961846\n",
            "iterations: 661 | train_loss: 0.047904633 | validation_loss: 0.04901803 | Roc Score: 0.9314578 | Time elapsed: 0:57:11.212063\n",
            "iterations: 662 | train_loss: 0.066689774 | validation_loss: 0.049082663 | Roc Score: 0.9315581 | Time elapsed: 0:57:16.424496\n"
          ],
          "name": "stdout"
        },
        {
          "output_type": "stream",
          "text": [
            "iterations: 663 | train_loss: 0.06465754 | validation_loss: 0.050421674 | Roc Score: 0.9316557 | Time elapsed: 0:57:21.636111\n",
            "iterations: 664 | train_loss: 0.054371383 | validation_loss: 0.051903233 | Roc Score: 0.9317482 | Time elapsed: 0:57:26.835471\n",
            "iterations: 665 | train_loss: 0.05060999 | validation_loss: 0.052995402 | Roc Score: 0.9318367 | Time elapsed: 0:57:32.020838\n",
            "iterations: 666 | train_loss: 0.06047104 | validation_loss: 0.05197379 | Roc Score: 0.93192714 | Time elapsed: 0:57:37.290080\n",
            "iterations: 667 | train_loss: 0.041791536 | validation_loss: 0.05065388 | Roc Score: 0.9320215 | Time elapsed: 0:57:42.493204\n",
            "iterations: 668 | train_loss: 0.049639355 | validation_loss: 0.049846288 | Roc Score: 0.9321187 | Time elapsed: 0:57:47.700122\n",
            "iterations: 669 | train_loss: 0.04661982 | validation_loss: 0.049813196 | Roc Score: 0.93221486 | Time elapsed: 0:57:52.882145\n",
            "iterations: 670 | train_loss: 0.06816148 | validation_loss: 0.05072735 | Roc Score: 0.9323073 | Time elapsed: 0:57:58.060811\n",
            "iterations: 671 | train_loss: 0.03306314 | validation_loss: 0.051717557 | Roc Score: 0.93239325 | Time elapsed: 0:58:03.254962\n",
            "iterations: 672 | train_loss: 0.04980489 | validation_loss: 0.051116817 | Roc Score: 0.9324795 | Time elapsed: 0:58:08.453729\n",
            "iterations: 673 | train_loss: 0.03545013 | validation_loss: 0.049987327 | Roc Score: 0.93256694 | Time elapsed: 0:58:13.637554\n",
            "iterations: 674 | train_loss: 0.050495178 | validation_loss: 0.04913691 | Roc Score: 0.93265665 | Time elapsed: 0:58:18.839333\n",
            "iterations: 675 | train_loss: 0.064546466 | validation_loss: 0.048462085 | Roc Score: 0.932751 | Time elapsed: 0:58:23.993910\n",
            "iterations: 676 | train_loss: 0.026367944 | validation_loss: 0.04857296 | Roc Score: 0.93284565 | Time elapsed: 0:58:29.253881\n",
            "iterations: 677 | train_loss: 0.048360474 | validation_loss: 0.048835546 | Roc Score: 0.93294024 | Time elapsed: 0:58:34.473952\n",
            "iterations: 678 | train_loss: 0.052859165 | validation_loss: 0.049722522 | Roc Score: 0.93303597 | Time elapsed: 0:58:39.657947\n",
            "iterations: 679 | train_loss: 0.05512915 | validation_loss: 0.050200876 | Roc Score: 0.93313074 | Time elapsed: 0:58:44.884376\n",
            "iterations: 680 | train_loss: 0.030661805 | validation_loss: 0.049298625 | Roc Score: 0.93322563 | Time elapsed: 0:58:50.113091\n",
            "iterations: 681 | train_loss: 0.045137253 | validation_loss: 0.048780873 | Roc Score: 0.93332016 | Time elapsed: 0:58:55.328068\n",
            "iterations: 682 | train_loss: 0.052899595 | validation_loss: 0.048382882 | Roc Score: 0.93341297 | Time elapsed: 0:59:00.551647\n",
            "iterations: 683 | train_loss: 0.047449376 | validation_loss: 0.048359297 | Roc Score: 0.9335047 | Time elapsed: 0:59:05.696112\n",
            "iterations: 684 | train_loss: 0.065690994 | validation_loss: 0.04843706 | Roc Score: 0.93359613 | Time elapsed: 0:59:10.920505\n",
            "iterations: 685 | train_loss: 0.049127985 | validation_loss: 0.048451353 | Roc Score: 0.93368834 | Time elapsed: 0:59:16.182642\n",
            "iterations: 686 | train_loss: 0.07309392 | validation_loss: 0.048368257 | Roc Score: 0.9337811 | Time elapsed: 0:59:21.354976\n",
            "iterations: 687 | train_loss: 0.045194075 | validation_loss: 0.04853307 | Roc Score: 0.93387485 | Time elapsed: 0:59:26.540239\n",
            "iterations: 688 | train_loss: 0.062977284 | validation_loss: 0.04881285 | Roc Score: 0.93396854 | Time elapsed: 0:59:31.763830\n",
            "iterations: 689 | train_loss: 0.042846043 | validation_loss: 0.04886101 | Roc Score: 0.9340605 | Time elapsed: 0:59:36.954060\n",
            "iterations: 690 | train_loss: 0.06592822 | validation_loss: 0.049043458 | Roc Score: 0.9341503 | Time elapsed: 0:59:42.232164\n",
            "iterations: 691 | train_loss: 0.047428425 | validation_loss: 0.049335428 | Roc Score: 0.9342369 | Time elapsed: 0:59:47.482606\n",
            "iterations: 692 | train_loss: 0.057478517 | validation_loss: 0.04946809 | Roc Score: 0.9343222 | Time elapsed: 0:59:52.696887\n",
            "iterations: 693 | train_loss: 0.050307747 | validation_loss: 0.04952014 | Roc Score: 0.9344064 | Time elapsed: 0:59:57.945299\n",
            "iterations: 694 | train_loss: 0.04676555 | validation_loss: 0.049417473 | Roc Score: 0.93449163 | Time elapsed: 1:00:03.153244\n",
            "iterations: 695 | train_loss: 0.047515538 | validation_loss: 0.049696144 | Roc Score: 0.9345746 | Time elapsed: 1:00:08.172820\n",
            "iterations: 696 | train_loss: 0.0506361 | validation_loss: 0.05004547 | Roc Score: 0.93465954 | Time elapsed: 1:00:13.364772\n",
            "iterations: 697 | train_loss: 0.041955866 | validation_loss: 0.050912116 | Roc Score: 0.9347438 | Time elapsed: 1:00:18.431753\n",
            "iterations: 698 | train_loss: 0.053889643 | validation_loss: 0.05072997 | Roc Score: 0.93482786 | Time elapsed: 1:00:23.669198\n",
            "iterations: 699 | train_loss: 0.028574431 | validation_loss: 0.050023634 | Roc Score: 0.93491334 | Time elapsed: 1:00:28.825472\n",
            "iterations: 700 | train_loss: 0.054274008 | validation_loss: 0.050279006 | Roc Score: 0.93499756 | Time elapsed: 1:00:34.008716\n",
            "iterations: 701 | train_loss: 0.04928139 | validation_loss: 0.050750963 | Roc Score: 0.9350789 | Time elapsed: 1:00:39.240890\n"
          ],
          "name": "stdout"
        },
        {
          "output_type": "stream",
          "text": [
            "iterations: 702 | train_loss: 0.037065715 | validation_loss: 0.050842907 | Roc Score: 0.935159 | Time elapsed: 1:00:44.466352\n",
            "iterations: 703 | train_loss: 0.048872206 | validation_loss: 0.05038473 | Roc Score: 0.9352373 | Time elapsed: 1:00:49.629797\n",
            "iterations: 704 | train_loss: 0.05160796 | validation_loss: 0.049597207 | Roc Score: 0.935318 | Time elapsed: 1:00:54.891449\n",
            "iterations: 705 | train_loss: 0.046495304 | validation_loss: 0.050622787 | Roc Score: 0.9353971 | Time elapsed: 1:01:00.123482\n",
            "iterations: 706 | train_loss: 0.04466765 | validation_loss: 0.053038795 | Roc Score: 0.93547446 | Time elapsed: 1:01:05.348063\n",
            "iterations: 707 | train_loss: 0.060161673 | validation_loss: 0.055183858 | Roc Score: 0.9355511 | Time elapsed: 1:01:10.563119\n",
            "iterations: 708 | train_loss: 0.051397096 | validation_loss: 0.05513648 | Roc Score: 0.93563026 | Time elapsed: 1:01:15.767708\n",
            "iterations: 709 | train_loss: 0.054178365 | validation_loss: 0.053331617 | Roc Score: 0.9357108 | Time elapsed: 1:01:20.960521\n",
            "iterations: 710 | train_loss: 0.031682607 | validation_loss: 0.050693862 | Roc Score: 0.9357926 | Time elapsed: 1:01:26.148494\n",
            "iterations: 711 | train_loss: 0.052238602 | validation_loss: 0.05054495 | Roc Score: 0.9358688 | Time elapsed: 1:01:31.337030\n",
            "iterations: 712 | train_loss: 0.042115424 | validation_loss: 0.053824916 | Roc Score: 0.93593585 | Time elapsed: 1:01:36.554553\n",
            "iterations: 713 | train_loss: 0.057876434 | validation_loss: 0.056709662 | Roc Score: 0.93599766 | Time elapsed: 1:01:41.778691\n",
            "iterations: 714 | train_loss: 0.0445232 | validation_loss: 0.057843994 | Roc Score: 0.936058 | Time elapsed: 1:01:46.948563\n",
            "iterations: 715 | train_loss: 0.04080285 | validation_loss: 0.057214767 | Roc Score: 0.9361202 | Time elapsed: 1:01:52.156807\n",
            "iterations: 716 | train_loss: 0.051939 | validation_loss: 0.055384923 | Roc Score: 0.93618625 | Time elapsed: 1:01:57.399786\n",
            "iterations: 717 | train_loss: 0.032966215 | validation_loss: 0.053347997 | Roc Score: 0.9362579 | Time elapsed: 1:02:02.603124\n",
            "iterations: 718 | train_loss: 0.05499714 | validation_loss: 0.051002532 | Roc Score: 0.9363327 | Time elapsed: 1:02:07.647177\n",
            "iterations: 719 | train_loss: 0.051025372 | validation_loss: 0.04958376 | Roc Score: 0.9364112 | Time elapsed: 1:02:12.871329\n",
            "iterations: 720 | train_loss: 0.05654685 | validation_loss: 0.05022541 | Roc Score: 0.9364901 | Time elapsed: 1:02:18.101920\n",
            "iterations: 721 | train_loss: 0.044041436 | validation_loss: 0.05179085 | Roc Score: 0.9365684 | Time elapsed: 1:02:23.330010\n",
            "iterations: 722 | train_loss: 0.05603995 | validation_loss: 0.053041592 | Roc Score: 0.9366463 | Time elapsed: 1:02:28.509163\n",
            "iterations: 723 | train_loss: 0.049934722 | validation_loss: 0.054294176 | Roc Score: 0.93672377 | Time elapsed: 1:02:33.794881\n",
            "iterations: 724 | train_loss: 0.050909482 | validation_loss: 0.05355051 | Roc Score: 0.93680197 | Time elapsed: 1:02:39.009929\n",
            "iterations: 725 | train_loss: 0.037565492 | validation_loss: 0.052623905 | Roc Score: 0.93688023 | Time elapsed: 1:02:44.275156\n",
            "iterations: 726 | train_loss: 0.04581474 | validation_loss: 0.051830553 | Roc Score: 0.93695706 | Time elapsed: 1:02:49.467667\n",
            "iterations: 727 | train_loss: 0.039799657 | validation_loss: 0.051361367 | Roc Score: 0.93702954 | Time elapsed: 1:02:54.656416\n",
            "iterations: 728 | train_loss: 0.037491232 | validation_loss: 0.05133383 | Roc Score: 0.93709874 | Time elapsed: 1:02:59.905432\n",
            "iterations: 729 | train_loss: 0.06957536 | validation_loss: 0.051029958 | Roc Score: 0.93716717 | Time elapsed: 1:03:05.125069\n",
            "iterations: 730 | train_loss: 0.047169425 | validation_loss: 0.050428636 | Roc Score: 0.9372386 | Time elapsed: 1:03:10.334634\n",
            "iterations: 731 | train_loss: 0.06573386 | validation_loss: 0.049571596 | Roc Score: 0.9373139 | Time elapsed: 1:03:15.580787\n",
            "iterations: 732 | train_loss: 0.049027853 | validation_loss: 0.049347527 | Roc Score: 0.937391 | Time elapsed: 1:03:20.804831\n",
            "iterations: 733 | train_loss: 0.044780586 | validation_loss: 0.049494624 | Roc Score: 0.93746835 | Time elapsed: 1:03:26.008153\n",
            "iterations: 734 | train_loss: 0.049622823 | validation_loss: 0.049605977 | Roc Score: 0.93754447 | Time elapsed: 1:03:31.230866\n",
            "iterations: 735 | train_loss: 0.05174077 | validation_loss: 0.04966548 | Roc Score: 0.9376204 | Time elapsed: 1:03:36.409327\n",
            "iterations: 736 | train_loss: 0.029597085 | validation_loss: 0.049662992 | Roc Score: 0.9376961 | Time elapsed: 1:03:41.650959\n",
            "iterations: 737 | train_loss: 0.057743523 | validation_loss: 0.04937861 | Roc Score: 0.9377725 | Time elapsed: 1:03:46.878061\n",
            "iterations: 738 | train_loss: 0.062451847 | validation_loss: 0.04935575 | Roc Score: 0.9378495 | Time elapsed: 1:03:52.120310\n",
            "iterations: 739 | train_loss: 0.04226558 | validation_loss: 0.049795795 | Roc Score: 0.9379268 | Time elapsed: 1:03:57.373407\n",
            "iterations: 740 | train_loss: 0.042785384 | validation_loss: 0.05021836 | Roc Score: 0.93800205 | Time elapsed: 1:04:02.610487\n"
          ],
          "name": "stdout"
        },
        {
          "output_type": "stream",
          "text": [
            "iterations: 741 | train_loss: 0.06369248 | validation_loss: 0.050419416 | Roc Score: 0.93807566 | Time elapsed: 1:04:07.851151\n",
            "iterations: 742 | train_loss: 0.04003884 | validation_loss: 0.050393753 | Roc Score: 0.93814737 | Time elapsed: 1:04:13.051982\n",
            "iterations: 743 | train_loss: 0.040862497 | validation_loss: 0.050700862 | Roc Score: 0.93821627 | Time elapsed: 1:04:18.234243\n",
            "iterations: 744 | train_loss: 0.047494397 | validation_loss: 0.050948568 | Roc Score: 0.93828225 | Time elapsed: 1:04:23.465040\n",
            "iterations: 745 | train_loss: 0.0402928 | validation_loss: 0.051176496 | Roc Score: 0.9383462 | Time elapsed: 1:04:28.689964\n",
            "iterations: 746 | train_loss: 0.039687406 | validation_loss: 0.05061576 | Roc Score: 0.9384112 | Time elapsed: 1:04:33.924087\n",
            "iterations: 747 | train_loss: 0.065874495 | validation_loss: 0.049716245 | Roc Score: 0.9384792 | Time elapsed: 1:04:39.123535\n",
            "iterations: 748 | train_loss: 0.057371527 | validation_loss: 0.04891394 | Roc Score: 0.93854976 | Time elapsed: 1:04:44.354619\n",
            "iterations: 749 | train_loss: 0.04459228 | validation_loss: 0.04853062 | Roc Score: 0.9386213 | Time elapsed: 1:04:49.582402\n",
            "iterations: 750 | train_loss: 0.060566306 | validation_loss: 0.04853618 | Roc Score: 0.9386958 | Time elapsed: 1:04:54.820910\n",
            "iterations: 751 | train_loss: 0.062898055 | validation_loss: 0.049332786 | Roc Score: 0.9387696 | Time elapsed: 1:05:00.069800\n",
            "iterations: 752 | train_loss: 0.03840252 | validation_loss: 0.049951468 | Roc Score: 0.9388423 | Time elapsed: 1:05:05.270309\n",
            "iterations: 753 | train_loss: 0.04108478 | validation_loss: 0.049964156 | Roc Score: 0.93891436 | Time elapsed: 1:05:10.496188\n",
            "iterations: 754 | train_loss: 0.036181025 | validation_loss: 0.049419664 | Roc Score: 0.93898743 | Time elapsed: 1:05:15.745628\n",
            "iterations: 755 | train_loss: 0.04584124 | validation_loss: 0.049005967 | Roc Score: 0.93905956 | Time elapsed: 1:05:20.957394\n",
            "iterations: 756 | train_loss: 0.032627314 | validation_loss: 0.049012896 | Roc Score: 0.9391293 | Time elapsed: 1:05:26.251442\n",
            "iterations: 757 | train_loss: 0.026293207 | validation_loss: 0.049393885 | Roc Score: 0.9391955 | Time elapsed: 1:05:31.482135\n",
            "iterations: 758 | train_loss: 0.03504223 | validation_loss: 0.050416008 | Roc Score: 0.9392578 | Time elapsed: 1:05:36.691171\n",
            "iterations: 759 | train_loss: 0.031123327 | validation_loss: 0.051512156 | Roc Score: 0.9393162 | Time elapsed: 1:05:41.965831\n",
            "iterations: 760 | train_loss: 0.049677428 | validation_loss: 0.05183051 | Roc Score: 0.9393718 | Time elapsed: 1:05:47.214065\n",
            "iterations: 761 | train_loss: 0.06145992 | validation_loss: 0.051738586 | Roc Score: 0.93942696 | Time elapsed: 1:05:52.433563\n",
            "iterations: 762 | train_loss: 0.05818411 | validation_loss: 0.051545475 | Roc Score: 0.9394837 | Time elapsed: 1:05:57.604367\n",
            "iterations: 763 | train_loss: 0.05419974 | validation_loss: 0.05079832 | Roc Score: 0.93954533 | Time elapsed: 1:06:02.816474\n",
            "iterations: 764 | train_loss: 0.046501778 | validation_loss: 0.049995463 | Roc Score: 0.93961185 | Time elapsed: 1:06:08.021269\n",
            "iterations: 765 | train_loss: 0.033124868 | validation_loss: 0.04959199 | Roc Score: 0.9396804 | Time elapsed: 1:06:13.241525\n",
            "iterations: 766 | train_loss: 0.04030241 | validation_loss: 0.049497645 | Roc Score: 0.9397511 | Time elapsed: 1:06:18.482035\n",
            "iterations: 767 | train_loss: 0.05370275 | validation_loss: 0.04924134 | Roc Score: 0.939822 | Time elapsed: 1:06:23.664401\n",
            "iterations: 768 | train_loss: 0.05392669 | validation_loss: 0.04914496 | Roc Score: 0.9398926 | Time elapsed: 1:06:28.913529\n",
            "iterations: 769 | train_loss: 0.045742657 | validation_loss: 0.048799235 | Roc Score: 0.9399636 | Time elapsed: 1:06:34.133562\n",
            "iterations: 770 | train_loss: 0.0374157 | validation_loss: 0.04887113 | Roc Score: 0.94003344 | Time elapsed: 1:06:39.277773\n",
            "iterations: 771 | train_loss: 0.05631201 | validation_loss: 0.049043734 | Roc Score: 0.94010234 | Time elapsed: 1:06:44.476785\n",
            "iterations: 772 | train_loss: 0.061259586 | validation_loss: 0.049072165 | Roc Score: 0.9401707 | Time elapsed: 1:06:49.642438\n",
            "iterations: 773 | train_loss: 0.052737437 | validation_loss: 0.049067706 | Roc Score: 0.94023806 | Time elapsed: 1:06:54.898031\n",
            "iterations: 774 | train_loss: 0.050780933 | validation_loss: 0.049035043 | Roc Score: 0.94030505 | Time elapsed: 1:07:00.098836\n",
            "iterations: 775 | train_loss: 0.0505591 | validation_loss: 0.049040176 | Roc Score: 0.9403713 | Time elapsed: 1:07:05.297681\n",
            "iterations: 776 | train_loss: 0.038021713 | validation_loss: 0.0490309 | Roc Score: 0.940437 | Time elapsed: 1:07:10.513507\n",
            "iterations: 777 | train_loss: 0.04227024 | validation_loss: 0.048914496 | Roc Score: 0.9405029 | Time elapsed: 1:07:15.751807\n",
            "iterations: 778 | train_loss: 0.032377325 | validation_loss: 0.04878668 | Roc Score: 0.94056857 | Time elapsed: 1:07:20.960490\n",
            "iterations: 779 | train_loss: 0.051510267 | validation_loss: 0.048645556 | Roc Score: 0.9406351 | Time elapsed: 1:07:26.206560\n"
          ],
          "name": "stdout"
        },
        {
          "output_type": "stream",
          "text": [
            "iterations: 780 | train_loss: 0.039204422 | validation_loss: 0.048584305 | Roc Score: 0.9407014 | Time elapsed: 1:07:31.391192\n",
            "iterations: 781 | train_loss: 0.042932823 | validation_loss: 0.048555147 | Roc Score: 0.94076705 | Time elapsed: 1:07:36.603121\n",
            "iterations: 782 | train_loss: 0.03596371 | validation_loss: 0.048553873 | Roc Score: 0.9408337 | Time elapsed: 1:07:41.792314\n",
            "iterations: 783 | train_loss: 0.02891318 | validation_loss: 0.048662033 | Roc Score: 0.9408989 | Time elapsed: 1:07:47.014271\n",
            "iterations: 784 | train_loss: 0.03937233 | validation_loss: 0.048719786 | Roc Score: 0.9409645 | Time elapsed: 1:07:52.210205\n",
            "iterations: 785 | train_loss: 0.062650554 | validation_loss: 0.048709843 | Roc Score: 0.94102925 | Time elapsed: 1:07:57.401432\n",
            "iterations: 786 | train_loss: 0.053860098 | validation_loss: 0.048647832 | Roc Score: 0.9410934 | Time elapsed: 1:08:02.628484\n",
            "iterations: 787 | train_loss: 0.052849013 | validation_loss: 0.048717238 | Roc Score: 0.9411586 | Time elapsed: 1:08:07.860282\n",
            "iterations: 788 | train_loss: 0.05286467 | validation_loss: 0.0486857 | Roc Score: 0.94122624 | Time elapsed: 1:08:13.069199\n",
            "iterations: 789 | train_loss: 0.038875505 | validation_loss: 0.049128186 | Roc Score: 0.9412945 | Time elapsed: 1:08:18.285801\n",
            "iterations: 790 | train_loss: 0.040325146 | validation_loss: 0.04888818 | Roc Score: 0.9413622 | Time elapsed: 1:08:23.488088\n",
            "iterations: 791 | train_loss: 0.05054073 | validation_loss: 0.04852756 | Roc Score: 0.94142956 | Time elapsed: 1:08:28.724827\n",
            "iterations: 792 | train_loss: 0.058301546 | validation_loss: 0.048168045 | Roc Score: 0.9414969 | Time elapsed: 1:08:33.936156\n",
            "iterations: 793 | train_loss: 0.045115028 | validation_loss: 0.04801948 | Roc Score: 0.9415645 | Time elapsed: 1:08:39.162975\n",
            "iterations: 794 | train_loss: 0.05110064 | validation_loss: 0.04793066 | Roc Score: 0.9416314 | Time elapsed: 1:08:44.364169\n",
            "iterations: 795 | train_loss: 0.037046302 | validation_loss: 0.0479846 | Roc Score: 0.9416978 | Time elapsed: 1:08:49.567115\n",
            "iterations: 796 | train_loss: 0.07369303 | validation_loss: 0.04807196 | Roc Score: 0.9417638 | Time elapsed: 1:08:54.751828\n",
            "iterations: 797 | train_loss: 0.05410993 | validation_loss: 0.048053075 | Roc Score: 0.9418296 | Time elapsed: 1:08:59.918553\n",
            "iterations: 798 | train_loss: 0.030753402 | validation_loss: 0.048154403 | Roc Score: 0.94189525 | Time elapsed: 1:09:05.130362\n",
            "iterations: 799 | train_loss: 0.043143637 | validation_loss: 0.048223745 | Roc Score: 0.94196045 | Time elapsed: 1:09:10.349589\n",
            "iterations: 800 | train_loss: 0.039458554 | validation_loss: 0.04824287 | Roc Score: 0.9420247 | Time elapsed: 1:09:15.563614\n",
            "iterations: 801 | train_loss: 0.033835456 | validation_loss: 0.04835286 | Roc Score: 0.94208854 | Time elapsed: 1:09:20.757195\n",
            "iterations: 802 | train_loss: 0.04693297 | validation_loss: 0.048941687 | Roc Score: 0.94215155 | Time elapsed: 1:09:25.984256\n",
            "iterations: 803 | train_loss: 0.04190604 | validation_loss: 0.049509026 | Roc Score: 0.942213 | Time elapsed: 1:09:31.195229\n",
            "iterations: 804 | train_loss: 0.04194117 | validation_loss: 0.049810056 | Roc Score: 0.94227344 | Time elapsed: 1:09:36.405601\n",
            "iterations: 805 | train_loss: 0.03844585 | validation_loss: 0.050150488 | Roc Score: 0.9423313 | Time elapsed: 1:09:41.594153\n",
            "iterations: 806 | train_loss: 0.060515177 | validation_loss: 0.049986783 | Roc Score: 0.9423893 | Time elapsed: 1:09:46.811905\n",
            "iterations: 807 | train_loss: 0.04618234 | validation_loss: 0.04946891 | Roc Score: 0.94244677 | Time elapsed: 1:09:51.988850\n",
            "iterations: 808 | train_loss: 0.044487964 | validation_loss: 0.049087558 | Roc Score: 0.94250375 | Time elapsed: 1:09:57.215774\n",
            "iterations: 809 | train_loss: 0.038132504 | validation_loss: 0.04931449 | Roc Score: 0.9425586 | Time elapsed: 1:10:02.346499\n",
            "iterations: 810 | train_loss: 0.042827204 | validation_loss: 0.04959535 | Roc Score: 0.94261235 | Time elapsed: 1:10:07.589549\n",
            "iterations: 811 | train_loss: 0.05832213 | validation_loss: 0.04934147 | Roc Score: 0.9426671 | Time elapsed: 1:10:12.806579\n",
            "iterations: 812 | train_loss: 0.06319087 | validation_loss: 0.048653092 | Roc Score: 0.9427257 | Time elapsed: 1:10:18.040478\n",
            "iterations: 813 | train_loss: 0.04490654 | validation_loss: 0.0486679 | Roc Score: 0.942784 | Time elapsed: 1:10:22.843617\n",
            "iterations: 814 | train_loss: 0.050028954 | validation_loss: 0.04900843 | Roc Score: 0.9428421 | Time elapsed: 1:10:28.102503\n",
            "iterations: 815 | train_loss: 0.043077596 | validation_loss: 0.0492136 | Roc Score: 0.94290197 | Time elapsed: 1:10:33.314035\n",
            "iterations: 816 | train_loss: 0.037106454 | validation_loss: 0.049206994 | Roc Score: 0.9429616 | Time elapsed: 1:10:38.489700\n",
            "iterations: 817 | train_loss: 0.047762763 | validation_loss: 0.049093213 | Roc Score: 0.94302094 | Time elapsed: 1:10:43.719659\n",
            "iterations: 818 | train_loss: 0.03287643 | validation_loss: 0.04892045 | Roc Score: 0.9430776 | Time elapsed: 1:10:48.885684\n"
          ],
          "name": "stdout"
        },
        {
          "output_type": "stream",
          "text": [
            "iterations: 819 | train_loss: 0.036312293 | validation_loss: 0.0492328 | Roc Score: 0.9431325 | Time elapsed: 1:10:54.102753\n",
            "iterations: 820 | train_loss: 0.049741223 | validation_loss: 0.049819753 | Roc Score: 0.9431835 | Time elapsed: 1:10:59.317174\n",
            "iterations: 821 | train_loss: 0.04594358 | validation_loss: 0.050291438 | Roc Score: 0.94323313 | Time elapsed: 1:11:04.566794\n",
            "iterations: 822 | train_loss: 0.036653396 | validation_loss: 0.05057298 | Roc Score: 0.9432823 | Time elapsed: 1:11:09.762676\n",
            "iterations: 823 | train_loss: 0.035357244 | validation_loss: 0.05034009 | Roc Score: 0.9433319 | Time elapsed: 1:11:14.957078\n",
            "iterations: 824 | train_loss: 0.07653364 | validation_loss: 0.049471013 | Roc Score: 0.9433842 | Time elapsed: 1:11:20.180582\n",
            "iterations: 825 | train_loss: 0.05259231 | validation_loss: 0.049069922 | Roc Score: 0.94344074 | Time elapsed: 1:11:25.417560\n",
            "iterations: 826 | train_loss: 0.05067974 | validation_loss: 0.04859024 | Roc Score: 0.9434988 | Time elapsed: 1:11:30.559985\n",
            "iterations: 827 | train_loss: 0.03848643 | validation_loss: 0.04838575 | Roc Score: 0.94355714 | Time elapsed: 1:11:35.811668\n",
            "iterations: 828 | train_loss: 0.057902507 | validation_loss: 0.048276346 | Roc Score: 0.94361544 | Time elapsed: 1:11:40.670749\n",
            "iterations: 829 | train_loss: 0.031094596 | validation_loss: 0.048607733 | Roc Score: 0.94367164 | Time elapsed: 1:11:45.860486\n",
            "iterations: 830 | train_loss: 0.02952062 | validation_loss: 0.049230278 | Roc Score: 0.9437251 | Time elapsed: 1:11:51.082677\n",
            "iterations: 831 | train_loss: 0.048225295 | validation_loss: 0.049829964 | Roc Score: 0.94377506 | Time elapsed: 1:11:56.270697\n",
            "iterations: 832 | train_loss: 0.0558275 | validation_loss: 0.04968381 | Roc Score: 0.9438264 | Time elapsed: 1:12:01.464266\n",
            "iterations: 833 | train_loss: 0.07267027 | validation_loss: 0.04856535 | Roc Score: 0.94388217 | Time elapsed: 1:12:06.704684\n",
            "iterations: 834 | train_loss: 0.048567478 | validation_loss: 0.048248004 | Roc Score: 0.9439395 | Time elapsed: 1:12:11.861397\n",
            "iterations: 835 | train_loss: 0.03999055 | validation_loss: 0.048379105 | Roc Score: 0.94399554 | Time elapsed: 1:12:17.087886\n",
            "iterations: 836 | train_loss: 0.038182184 | validation_loss: 0.048506014 | Roc Score: 0.9440511 | Time elapsed: 1:12:22.330748\n",
            "iterations: 837 | train_loss: 0.03790325 | validation_loss: 0.048636816 | Roc Score: 0.9441058 | Time elapsed: 1:12:27.523691\n",
            "iterations: 838 | train_loss: 0.048242338 | validation_loss: 0.04893011 | Roc Score: 0.9441601 | Time elapsed: 1:12:32.646871\n",
            "iterations: 839 | train_loss: 0.044371262 | validation_loss: 0.049258 | Roc Score: 0.9442149 | Time elapsed: 1:12:37.823400\n",
            "iterations: 840 | train_loss: 0.08484864 | validation_loss: 0.050674003 | Roc Score: 0.9442686 | Time elapsed: 1:12:43.047736\n",
            "iterations: 841 | train_loss: 0.04285233 | validation_loss: 0.050507054 | Roc Score: 0.9443224 | Time elapsed: 1:12:48.262401\n",
            "iterations: 842 | train_loss: 0.048377454 | validation_loss: 0.04943609 | Roc Score: 0.9443784 | Time elapsed: 1:12:53.460425\n",
            "iterations: 843 | train_loss: 0.044469558 | validation_loss: 0.048325494 | Roc Score: 0.9444338 | Time elapsed: 1:12:58.699761\n",
            "iterations: 844 | train_loss: 0.039017368 | validation_loss: 0.04870967 | Roc Score: 0.9444854 | Time elapsed: 1:13:03.908990\n",
            "iterations: 845 | train_loss: 0.050736953 | validation_loss: 0.04890955 | Roc Score: 0.94453746 | Time elapsed: 1:13:09.086856\n",
            "iterations: 846 | train_loss: 0.05749869 | validation_loss: 0.04897908 | Roc Score: 0.9445893 | Time elapsed: 1:13:14.292115\n",
            "iterations: 847 | train_loss: 0.057414163 | validation_loss: 0.048593037 | Roc Score: 0.9446431 | Time elapsed: 1:13:19.518979\n",
            "iterations: 848 | train_loss: 0.04391175 | validation_loss: 0.0485033 | Roc Score: 0.944699 | Time elapsed: 1:13:24.715356\n",
            "iterations: 849 | train_loss: 0.036122397 | validation_loss: 0.048590787 | Roc Score: 0.9447553 | Time elapsed: 1:13:29.861201\n",
            "iterations: 850 | train_loss: 0.044856064 | validation_loss: 0.048639998 | Roc Score: 0.94481194 | Time elapsed: 1:13:35.081432\n",
            "iterations: 851 | train_loss: 0.0474695 | validation_loss: 0.04835622 | Roc Score: 0.94486874 | Time elapsed: 1:13:40.255004\n",
            "iterations: 852 | train_loss: 0.037903406 | validation_loss: 0.047987398 | Roc Score: 0.9449251 | Time elapsed: 1:13:45.472825\n",
            "iterations: 853 | train_loss: 0.049751885 | validation_loss: 0.04796212 | Roc Score: 0.9449812 | Time elapsed: 1:13:50.663639\n",
            "iterations: 854 | train_loss: 0.052691046 | validation_loss: 0.04806641 | Roc Score: 0.94503736 | Time elapsed: 1:13:55.895858\n",
            "iterations: 855 | train_loss: 0.04536495 | validation_loss: 0.04822065 | Roc Score: 0.94509256 | Time elapsed: 1:14:01.089543\n",
            "iterations: 856 | train_loss: 0.06438133 | validation_loss: 0.04830589 | Roc Score: 0.9451475 | Time elapsed: 1:14:06.336350\n",
            "iterations: 857 | train_loss: 0.039423894 | validation_loss: 0.048593905 | Roc Score: 0.94520104 | Time elapsed: 1:14:11.565614\n"
          ],
          "name": "stdout"
        },
        {
          "output_type": "stream",
          "text": [
            "iterations: 858 | train_loss: 0.048565853 | validation_loss: 0.048987597 | Roc Score: 0.9452542 | Time elapsed: 1:14:16.823504\n",
            "iterations: 859 | train_loss: 0.049684014 | validation_loss: 0.04931489 | Roc Score: 0.9453069 | Time elapsed: 1:14:22.013494\n",
            "iterations: 860 | train_loss: 0.03728007 | validation_loss: 0.049104657 | Roc Score: 0.945358 | Time elapsed: 1:14:27.257294\n",
            "iterations: 861 | train_loss: 0.049737584 | validation_loss: 0.049182504 | Roc Score: 0.9454053 | Time elapsed: 1:14:32.479280\n",
            "iterations: 862 | train_loss: 0.033715583 | validation_loss: 0.05012129 | Roc Score: 0.9454482 | Time elapsed: 1:14:37.756962\n",
            "iterations: 863 | train_loss: 0.04528123 | validation_loss: 0.051759146 | Roc Score: 0.94548523 | Time elapsed: 1:14:43.007544\n",
            "iterations: 864 | train_loss: 0.045236554 | validation_loss: 0.053442422 | Roc Score: 0.945518 | Time elapsed: 1:14:48.210099\n",
            "iterations: 865 | train_loss: 0.042815287 | validation_loss: 0.054186814 | Roc Score: 0.9455488 | Time elapsed: 1:14:53.416195\n",
            "iterations: 866 | train_loss: 0.050704174 | validation_loss: 0.05191593 | Roc Score: 0.94558674 | Time elapsed: 1:14:58.652506\n",
            "iterations: 867 | train_loss: 0.04356968 | validation_loss: 0.049901694 | Roc Score: 0.9456335 | Time elapsed: 1:15:03.875034\n",
            "iterations: 868 | train_loss: 0.04542204 | validation_loss: 0.04934646 | Roc Score: 0.94568455 | Time elapsed: 1:15:09.094719\n",
            "iterations: 869 | train_loss: 0.069961615 | validation_loss: 0.04964788 | Roc Score: 0.9457357 | Time elapsed: 1:15:14.313325\n",
            "iterations: 870 | train_loss: 0.0396463 | validation_loss: 0.04934689 | Roc Score: 0.94578695 | Time elapsed: 1:15:19.524133\n",
            "iterations: 871 | train_loss: 0.060085125 | validation_loss: 0.049059615 | Roc Score: 0.94583887 | Time elapsed: 1:15:24.745060\n",
            "iterations: 872 | train_loss: 0.056436144 | validation_loss: 0.048805345 | Roc Score: 0.9458915 | Time elapsed: 1:15:29.943981\n",
            "iterations: 873 | train_loss: 0.054641183 | validation_loss: 0.048694056 | Roc Score: 0.9459441 | Time elapsed: 1:15:35.158437\n",
            "iterations: 874 | train_loss: 0.04402578 | validation_loss: 0.04889213 | Roc Score: 0.945996 | Time elapsed: 1:15:40.370134\n",
            "iterations: 875 | train_loss: 0.052092683 | validation_loss: 0.049102798 | Roc Score: 0.9460477 | Time elapsed: 1:15:45.585392\n",
            "iterations: 876 | train_loss: 0.04155113 | validation_loss: 0.049197678 | Roc Score: 0.9460992 | Time elapsed: 1:15:50.803770\n",
            "iterations: 877 | train_loss: 0.044483818 | validation_loss: 0.04923907 | Roc Score: 0.9461502 | Time elapsed: 1:15:56.033208\n",
            "iterations: 878 | train_loss: 0.06822978 | validation_loss: 0.049366117 | Roc Score: 0.94620144 | Time elapsed: 1:16:01.280776\n",
            "iterations: 879 | train_loss: 0.066641755 | validation_loss: 0.049590822 | Roc Score: 0.9462516 | Time elapsed: 1:16:06.502189\n",
            "iterations: 880 | train_loss: 0.04480512 | validation_loss: 0.049582116 | Roc Score: 0.94630146 | Time elapsed: 1:16:11.725166\n",
            "iterations: 881 | train_loss: 0.040963586 | validation_loss: 0.04891928 | Roc Score: 0.9463527 | Time elapsed: 1:16:16.937761\n",
            "iterations: 882 | train_loss: 0.035208497 | validation_loss: 0.04937147 | Roc Score: 0.94640124 | Time elapsed: 1:16:22.161687\n",
            "iterations: 883 | train_loss: 0.04452024 | validation_loss: 0.050563384 | Roc Score: 0.9464472 | Time elapsed: 1:16:27.387718\n",
            "iterations: 884 | train_loss: 0.053760387 | validation_loss: 0.050647914 | Roc Score: 0.94649297 | Time elapsed: 1:16:32.577380\n",
            "iterations: 885 | train_loss: 0.05975475 | validation_loss: 0.04895438 | Roc Score: 0.9465401 | Time elapsed: 1:16:37.792763\n",
            "iterations: 886 | train_loss: 0.059507847 | validation_loss: 0.04762111 | Roc Score: 0.94659114 | Time elapsed: 1:16:43.003546\n",
            "iterations: 887 | train_loss: 0.03988898 | validation_loss: 0.047901537 | Roc Score: 0.94664216 | Time elapsed: 1:16:48.224748\n",
            "iterations: 888 | train_loss: 0.041327532 | validation_loss: 0.04900888 | Roc Score: 0.9466923 | Time elapsed: 1:16:53.449981\n",
            "iterations: 889 | train_loss: 0.040455267 | validation_loss: 0.049092617 | Roc Score: 0.9467424 | Time elapsed: 1:16:58.641395\n",
            "iterations: 890 | train_loss: 0.059597544 | validation_loss: 0.048647907 | Roc Score: 0.9467919 | Time elapsed: 1:17:03.878919\n",
            "iterations: 891 | train_loss: 0.016231257 | validation_loss: 0.047937088 | Roc Score: 0.94684106 | Time elapsed: 1:17:09.121494\n",
            "iterations: 892 | train_loss: 0.07324625 | validation_loss: 0.047497004 | Roc Score: 0.94689053 | Time elapsed: 1:17:14.320260\n",
            "iterations: 893 | train_loss: 0.057903048 | validation_loss: 0.047453333 | Roc Score: 0.94693935 | Time elapsed: 1:17:19.560696\n",
            "iterations: 894 | train_loss: 0.071444035 | validation_loss: 0.047975596 | Roc Score: 0.9469865 | Time elapsed: 1:17:24.814078\n",
            "iterations: 895 | train_loss: 0.053914472 | validation_loss: 0.04893385 | Roc Score: 0.94703144 | Time elapsed: 1:17:29.981367\n",
            "iterations: 896 | train_loss: 0.04211923 | validation_loss: 0.048864584 | Roc Score: 0.94707656 | Time elapsed: 1:17:35.179452\n"
          ],
          "name": "stdout"
        },
        {
          "output_type": "stream",
          "text": [
            "iterations: 897 | train_loss: 0.04536296 | validation_loss: 0.04808343 | Roc Score: 0.9471228 | Time elapsed: 1:17:40.388445\n",
            "iterations: 898 | train_loss: 0.044126123 | validation_loss: 0.047715664 | Roc Score: 0.94716924 | Time elapsed: 1:17:45.555644\n",
            "iterations: 899 | train_loss: 0.051449735 | validation_loss: 0.04735936 | Roc Score: 0.947217 | Time elapsed: 1:17:50.792616\n",
            "iterations: 900 | train_loss: 0.038582508 | validation_loss: 0.047381237 | Roc Score: 0.9472644 | Time elapsed: 1:17:56.056834\n",
            "iterations: 901 | train_loss: 0.048029896 | validation_loss: 0.047642823 | Roc Score: 0.9473114 | Time elapsed: 1:18:01.284894\n",
            "iterations: 902 | train_loss: 0.044624455 | validation_loss: 0.047819827 | Roc Score: 0.947358 | Time elapsed: 1:18:06.518756\n",
            "iterations: 903 | train_loss: 0.045525454 | validation_loss: 0.04770437 | Roc Score: 0.94740444 | Time elapsed: 1:18:11.699321\n",
            "iterations: 904 | train_loss: 0.03764436 | validation_loss: 0.04781625 | Roc Score: 0.94744915 | Time elapsed: 1:18:16.942625\n",
            "iterations: 905 | train_loss: 0.052441634 | validation_loss: 0.047998875 | Roc Score: 0.9474927 | Time elapsed: 1:18:22.158670\n",
            "iterations: 906 | train_loss: 0.036779568 | validation_loss: 0.048161153 | Roc Score: 0.94753575 | Time elapsed: 1:18:27.376560\n",
            "iterations: 907 | train_loss: 0.037376158 | validation_loss: 0.0483966 | Roc Score: 0.9475776 | Time elapsed: 1:18:32.558771\n",
            "iterations: 908 | train_loss: 0.04304841 | validation_loss: 0.04831562 | Roc Score: 0.9476198 | Time elapsed: 1:18:37.744545\n",
            "iterations: 909 | train_loss: 0.046181995 | validation_loss: 0.04803693 | Roc Score: 0.94766283 | Time elapsed: 1:18:42.933773\n",
            "iterations: 910 | train_loss: 0.05747432 | validation_loss: 0.048002385 | Roc Score: 0.94770634 | Time elapsed: 1:18:48.113809\n",
            "iterations: 911 | train_loss: 0.035564654 | validation_loss: 0.048337236 | Roc Score: 0.9477491 | Time elapsed: 1:18:53.290340\n",
            "iterations: 912 | train_loss: 0.045245677 | validation_loss: 0.04835361 | Roc Score: 0.947792 | Time elapsed: 1:18:58.492393\n",
            "iterations: 913 | train_loss: 0.05098448 | validation_loss: 0.04828749 | Roc Score: 0.947836 | Time elapsed: 1:19:03.696782\n",
            "iterations: 914 | train_loss: 0.043993905 | validation_loss: 0.04849629 | Roc Score: 0.94788057 | Time elapsed: 1:19:08.876230\n",
            "iterations: 915 | train_loss: 0.04019371 | validation_loss: 0.04890793 | Roc Score: 0.94792557 | Time elapsed: 1:19:13.980893\n",
            "iterations: 916 | train_loss: 0.043760173 | validation_loss: 0.04902793 | Roc Score: 0.9479698 | Time elapsed: 1:19:19.170750\n",
            "iterations: 917 | train_loss: 0.03105128 | validation_loss: 0.04944814 | Roc Score: 0.94801265 | Time elapsed: 1:19:24.406637\n",
            "iterations: 918 | train_loss: 0.071080744 | validation_loss: 0.050237924 | Roc Score: 0.94805384 | Time elapsed: 1:19:29.566484\n",
            "iterations: 919 | train_loss: 0.05290828 | validation_loss: 0.051494006 | Roc Score: 0.9480924 | Time elapsed: 1:19:34.780489\n",
            "iterations: 920 | train_loss: 0.05605961 | validation_loss: 0.05231068 | Roc Score: 0.9481289 | Time elapsed: 1:19:39.971250\n",
            "iterations: 921 | train_loss: 0.049463462 | validation_loss: 0.052233804 | Roc Score: 0.94816554 | Time elapsed: 1:19:45.186756\n",
            "iterations: 922 | train_loss: 0.05667332 | validation_loss: 0.050604466 | Roc Score: 0.9482065 | Time elapsed: 1:19:50.388975\n",
            "iterations: 923 | train_loss: 0.036129873 | validation_loss: 0.049544062 | Roc Score: 0.9482512 | Time elapsed: 1:19:55.593949\n",
            "iterations: 924 | train_loss: 0.052711517 | validation_loss: 0.049899064 | Roc Score: 0.948297 | Time elapsed: 1:20:00.805264\n",
            "iterations: 925 | train_loss: 0.061062023 | validation_loss: 0.050734885 | Roc Score: 0.9483404 | Time elapsed: 1:20:06.001939\n",
            "iterations: 926 | train_loss: 0.047750052 | validation_loss: 0.050078403 | Roc Score: 0.9483854 | Time elapsed: 1:20:11.209006\n",
            "iterations: 927 | train_loss: 0.050630495 | validation_loss: 0.049059823 | Roc Score: 0.9484313 | Time elapsed: 1:20:16.423715\n",
            "iterations: 928 | train_loss: 0.045682658 | validation_loss: 0.048529174 | Roc Score: 0.9484775 | Time elapsed: 1:20:21.631572\n",
            "iterations: 929 | train_loss: 0.053239882 | validation_loss: 0.04817009 | Roc Score: 0.94852436 | Time elapsed: 1:20:26.870414\n",
            "iterations: 930 | train_loss: 0.04981738 | validation_loss: 0.048053905 | Roc Score: 0.9485691 | Time elapsed: 1:20:32.076504\n",
            "iterations: 931 | train_loss: 0.04029602 | validation_loss: 0.04775537 | Roc Score: 0.94861335 | Time elapsed: 1:20:37.322782\n",
            "iterations: 932 | train_loss: 0.047474474 | validation_loss: 0.04767026 | Roc Score: 0.9486572 | Time elapsed: 1:20:42.560403\n",
            "iterations: 933 | train_loss: 0.040227078 | validation_loss: 0.04777271 | Roc Score: 0.9487001 | Time elapsed: 1:20:47.771985\n",
            "iterations: 934 | train_loss: 0.049534395 | validation_loss: 0.04793956 | Roc Score: 0.9487422 | Time elapsed: 1:20:53.023088\n",
            "iterations: 935 | train_loss: 0.044145398 | validation_loss: 0.04803316 | Roc Score: 0.9487839 | Time elapsed: 1:20:58.233376\n"
          ],
          "name": "stdout"
        },
        {
          "output_type": "stream",
          "text": [
            "iterations: 936 | train_loss: 0.055096213 | validation_loss: 0.04796327 | Roc Score: 0.9488245 | Time elapsed: 1:21:03.392616\n",
            "iterations: 937 | train_loss: 0.032268174 | validation_loss: 0.04792319 | Roc Score: 0.94886655 | Time elapsed: 1:21:08.615610\n",
            "iterations: 938 | train_loss: 0.07608475 | validation_loss: 0.04817792 | Roc Score: 0.9489098 | Time elapsed: 1:21:13.872351\n",
            "iterations: 939 | train_loss: 0.046689156 | validation_loss: 0.048065003 | Roc Score: 0.9489548 | Time elapsed: 1:21:19.113809\n",
            "iterations: 940 | train_loss: 0.03659834 | validation_loss: 0.04806622 | Roc Score: 0.9490008 | Time elapsed: 1:21:24.376332\n",
            "iterations: 941 | train_loss: 0.04071607 | validation_loss: 0.04761901 | Roc Score: 0.94904643 | Time elapsed: 1:21:29.642235\n",
            "iterations: 942 | train_loss: 0.034751058 | validation_loss: 0.047354158 | Roc Score: 0.94908994 | Time elapsed: 1:21:34.870843\n",
            "iterations: 943 | train_loss: 0.04238505 | validation_loss: 0.047466733 | Roc Score: 0.9491328 | Time elapsed: 1:21:40.129612\n",
            "iterations: 944 | train_loss: 0.041380677 | validation_loss: 0.047946125 | Roc Score: 0.9491734 | Time elapsed: 1:21:45.358974\n",
            "iterations: 945 | train_loss: 0.049186293 | validation_loss: 0.048146445 | Roc Score: 0.94921356 | Time elapsed: 1:21:50.619516\n",
            "iterations: 946 | train_loss: 0.04484992 | validation_loss: 0.04785401 | Roc Score: 0.9492562 | Time elapsed: 1:21:55.829114\n",
            "iterations: 947 | train_loss: 0.05782636 | validation_loss: 0.047933873 | Roc Score: 0.9492997 | Time elapsed: 1:22:01.014437\n",
            "iterations: 948 | train_loss: 0.041760284 | validation_loss: 0.04847413 | Roc Score: 0.9493424 | Time elapsed: 1:22:06.215070\n",
            "iterations: 949 | train_loss: 0.06969047 | validation_loss: 0.04882065 | Roc Score: 0.9493851 | Time elapsed: 1:22:11.437319\n",
            "iterations: 950 | train_loss: 0.038973033 | validation_loss: 0.048147313 | Roc Score: 0.9494283 | Time elapsed: 1:22:16.661905\n",
            "iterations: 951 | train_loss: 0.038886864 | validation_loss: 0.047464952 | Roc Score: 0.94947165 | Time elapsed: 1:22:21.875457\n",
            "iterations: 952 | train_loss: 0.039104696 | validation_loss: 0.04736356 | Roc Score: 0.9495137 | Time elapsed: 1:22:27.102188\n",
            "iterations: 953 | train_loss: 0.05184756 | validation_loss: 0.048045207 | Roc Score: 0.94955087 | Time elapsed: 1:22:32.298123\n",
            "iterations: 954 | train_loss: 0.03798537 | validation_loss: 0.04909412 | Roc Score: 0.9495841 | Time elapsed: 1:22:37.508532\n",
            "iterations: 955 | train_loss: 0.04114215 | validation_loss: 0.049025737 | Roc Score: 0.94961804 | Time elapsed: 1:22:42.695329\n",
            "iterations: 956 | train_loss: 0.05187774 | validation_loss: 0.048413746 | Roc Score: 0.94965345 | Time elapsed: 1:22:47.906204\n",
            "iterations: 957 | train_loss: 0.04839788 | validation_loss: 0.047693122 | Roc Score: 0.9496928 | Time elapsed: 1:22:53.111738\n",
            "iterations: 958 | train_loss: 0.045065984 | validation_loss: 0.048315905 | Roc Score: 0.94973326 | Time elapsed: 1:22:58.303689\n",
            "iterations: 959 | train_loss: 0.047846634 | validation_loss: 0.04937699 | Roc Score: 0.9497746 | Time elapsed: 1:23:03.577417\n",
            "iterations: 960 | train_loss: 0.058380116 | validation_loss: 0.049261995 | Roc Score: 0.9498163 | Time elapsed: 1:23:08.815173\n",
            "iterations: 961 | train_loss: 0.050439592 | validation_loss: 0.04883919 | Roc Score: 0.9498579 | Time elapsed: 1:23:14.003037\n",
            "iterations: 962 | train_loss: 0.03076911 | validation_loss: 0.0479966 | Roc Score: 0.9498988 | Time elapsed: 1:23:19.178527\n",
            "iterations: 963 | train_loss: 0.04898776 | validation_loss: 0.04803928 | Roc Score: 0.94993806 | Time elapsed: 1:23:24.420999\n",
            "iterations: 964 | train_loss: 0.0367659 | validation_loss: 0.048625804 | Roc Score: 0.94997424 | Time elapsed: 1:23:29.622598\n",
            "iterations: 965 | train_loss: 0.072664045 | validation_loss: 0.048671883 | Roc Score: 0.95001125 | Time elapsed: 1:23:34.834786\n",
            "iterations: 966 | train_loss: 0.05470805 | validation_loss: 0.048562583 | Roc Score: 0.9500506 | Time elapsed: 1:23:40.072740\n",
            "iterations: 967 | train_loss: 0.044190265 | validation_loss: 0.0486541 | Roc Score: 0.95009077 | Time elapsed: 1:23:45.237170\n",
            "iterations: 968 | train_loss: 0.049362104 | validation_loss: 0.04880118 | Roc Score: 0.950131 | Time elapsed: 1:23:50.440400\n",
            "iterations: 969 | train_loss: 0.045203507 | validation_loss: 0.04890107 | Roc Score: 0.9501711 | Time elapsed: 1:23:55.654997\n",
            "iterations: 970 | train_loss: 0.049867325 | validation_loss: 0.048710503 | Roc Score: 0.95021117 | Time elapsed: 1:24:00.909127\n",
            "iterations: 971 | train_loss: 0.054773446 | validation_loss: 0.04882413 | Roc Score: 0.9502514 | Time elapsed: 1:24:06.168380\n",
            "iterations: 972 | train_loss: 0.05351497 | validation_loss: 0.04912146 | Roc Score: 0.9502909 | Time elapsed: 1:24:11.406192\n",
            "iterations: 973 | train_loss: 0.059990235 | validation_loss: 0.04924019 | Roc Score: 0.9503294 | Time elapsed: 1:24:16.619177\n",
            "iterations: 974 | train_loss: 0.04394526 | validation_loss: 0.048779882 | Roc Score: 0.9503677 | Time elapsed: 1:24:21.836420\n"
          ],
          "name": "stdout"
        },
        {
          "output_type": "stream",
          "text": [
            "iterations: 975 | train_loss: 0.033278536 | validation_loss: 0.04817093 | Roc Score: 0.9504063 | Time elapsed: 1:24:27.024501\n",
            "iterations: 976 | train_loss: 0.058075123 | validation_loss: 0.047891915 | Roc Score: 0.9504452 | Time elapsed: 1:24:32.215493\n",
            "iterations: 977 | train_loss: 0.03565444 | validation_loss: 0.048285715 | Roc Score: 0.95048267 | Time elapsed: 1:24:37.418364\n",
            "iterations: 978 | train_loss: 0.045223426 | validation_loss: 0.049347818 | Roc Score: 0.95051706 | Time elapsed: 1:24:42.645598\n",
            "iterations: 979 | train_loss: 0.048863325 | validation_loss: 0.0506639 | Roc Score: 0.95055044 | Time elapsed: 1:24:47.868767\n",
            "iterations: 980 | train_loss: 0.049210906 | validation_loss: 0.050957434 | Roc Score: 0.95058364 | Time elapsed: 1:24:53.086070\n",
            "iterations: 981 | train_loss: 0.046905976 | validation_loss: 0.049592562 | Roc Score: 0.9506212 | Time elapsed: 1:24:58.331356\n",
            "iterations: 982 | train_loss: 0.06277207 | validation_loss: 0.048342604 | Roc Score: 0.9506612 | Time elapsed: 1:25:03.551170\n",
            "iterations: 983 | train_loss: 0.04965266 | validation_loss: 0.048694167 | Roc Score: 0.95070106 | Time elapsed: 1:25:08.723861\n",
            "iterations: 984 | train_loss: 0.04998115 | validation_loss: 0.050073363 | Roc Score: 0.9507395 | Time elapsed: 1:25:13.949470\n",
            "iterations: 985 | train_loss: 0.04298074 | validation_loss: 0.050251205 | Roc Score: 0.950778 | Time elapsed: 1:25:19.131542\n",
            "iterations: 986 | train_loss: 0.059899177 | validation_loss: 0.049813263 | Roc Score: 0.95081663 | Time elapsed: 1:25:24.391434\n",
            "iterations: 987 | train_loss: 0.05864821 | validation_loss: 0.04848417 | Roc Score: 0.9508556 | Time elapsed: 1:25:29.604922\n",
            "iterations: 988 | train_loss: 0.047666173 | validation_loss: 0.04787147 | Roc Score: 0.95089364 | Time elapsed: 1:25:34.852695\n",
            "iterations: 989 | train_loss: 0.05549735 | validation_loss: 0.048133224 | Roc Score: 0.95092946 | Time elapsed: 1:25:40.094594\n",
            "iterations: 990 | train_loss: 0.05006167 | validation_loss: 0.04872055 | Roc Score: 0.95096356 | Time elapsed: 1:25:45.261990\n",
            "iterations: 991 | train_loss: 0.030822812 | validation_loss: 0.04941477 | Roc Score: 0.9509945 | Time elapsed: 1:25:50.480228\n",
            "iterations: 992 | train_loss: 0.03335254 | validation_loss: 0.05025758 | Roc Score: 0.95102316 | Time elapsed: 1:25:55.716716\n",
            "iterations: 993 | train_loss: 0.07729135 | validation_loss: 0.04838517 | Roc Score: 0.9510573 | Time elapsed: 1:26:00.928921\n",
            "iterations: 994 | train_loss: 0.051236123 | validation_loss: 0.047198795 | Roc Score: 0.9510968 | Time elapsed: 1:26:06.130987\n",
            "iterations: 995 | train_loss: 0.06628741 | validation_loss: 0.047714937 | Roc Score: 0.95113665 | Time elapsed: 1:26:11.376879\n",
            "iterations: 996 | train_loss: 0.043997515 | validation_loss: 0.04894703 | Roc Score: 0.95117474 | Time elapsed: 1:26:16.598606\n",
            "iterations: 997 | train_loss: 0.04363085 | validation_loss: 0.04900134 | Roc Score: 0.95121336 | Time elapsed: 1:26:21.788633\n",
            "iterations: 998 | train_loss: 0.05186233 | validation_loss: 0.048529442 | Roc Score: 0.951252 | Time elapsed: 1:26:27.010950\n",
            "iterations: 999 | train_loss: 0.058627434 | validation_loss: 0.048508782 | Roc Score: 0.9512906 | Time elapsed: 1:26:32.273281\n",
            "iterations: 1000 | train_loss: 0.039059456 | validation_loss: 0.048370168 | Roc Score: 0.95132935 | Time elapsed: 1:26:37.526976\n",
            "iterations: 1001 | train_loss: 0.050071176 | validation_loss: 0.048406392 | Roc Score: 0.9513681 | Time elapsed: 1:26:42.746479\n",
            "iterations: 1002 | train_loss: 0.05142849 | validation_loss: 0.04855362 | Roc Score: 0.95140684 | Time elapsed: 1:26:47.935830\n",
            "iterations: 1003 | train_loss: 0.036607254 | validation_loss: 0.048529647 | Roc Score: 0.95144504 | Time elapsed: 1:26:53.167487\n",
            "iterations: 1004 | train_loss: 0.060536575 | validation_loss: 0.048347007 | Roc Score: 0.95148355 | Time elapsed: 1:26:58.406505\n",
            "iterations: 1005 | train_loss: 0.046484638 | validation_loss: 0.04835449 | Roc Score: 0.9515219 | Time elapsed: 1:27:03.632708\n",
            "iterations: 1006 | train_loss: 0.03625892 | validation_loss: 0.048266903 | Roc Score: 0.95156044 | Time elapsed: 1:27:08.851897\n",
            "iterations: 1007 | train_loss: 0.026206704 | validation_loss: 0.04810194 | Roc Score: 0.9515986 | Time elapsed: 1:27:13.940505\n",
            "iterations: 1008 | train_loss: 0.035585497 | validation_loss: 0.047935706 | Roc Score: 0.95163697 | Time elapsed: 1:27:19.181274\n",
            "iterations: 1009 | train_loss: 0.05088723 | validation_loss: 0.04809147 | Roc Score: 0.9516743 | Time elapsed: 1:27:24.391812\n",
            "iterations: 1010 | train_loss: 0.040599987 | validation_loss: 0.047952857 | Roc Score: 0.95171046 | Time elapsed: 1:27:29.663616\n",
            "iterations: 1011 | train_loss: 0.050779637 | validation_loss: 0.04800573 | Roc Score: 0.95174694 | Time elapsed: 1:27:34.880238\n",
            "iterations: 1012 | train_loss: 0.044971753 | validation_loss: 0.04802861 | Roc Score: 0.9517834 | Time elapsed: 1:27:40.128881\n",
            "iterations: 1013 | train_loss: 0.05100852 | validation_loss: 0.04769207 | Roc Score: 0.95181966 | Time elapsed: 1:27:45.366932\n"
          ],
          "name": "stdout"
        },
        {
          "output_type": "stream",
          "text": [
            "iterations: 1014 | train_loss: 0.051387127 | validation_loss: 0.047452196 | Roc Score: 0.95185566 | Time elapsed: 1:27:50.578841\n",
            "iterations: 1015 | train_loss: 0.043945756 | validation_loss: 0.047419865 | Roc Score: 0.9518912 | Time elapsed: 1:27:55.804418\n",
            "iterations: 1016 | train_loss: 0.06701098 | validation_loss: 0.04785979 | Roc Score: 0.95192593 | Time elapsed: 1:28:01.008354\n",
            "iterations: 1017 | train_loss: 0.0429988 | validation_loss: 0.048446152 | Roc Score: 0.95195925 | Time elapsed: 1:28:06.247126\n",
            "iterations: 1018 | train_loss: 0.057066582 | validation_loss: 0.048480134 | Roc Score: 0.95199275 | Time elapsed: 1:28:11.403301\n",
            "iterations: 1019 | train_loss: 0.04280076 | validation_loss: 0.04837107 | Roc Score: 0.9520266 | Time elapsed: 1:28:16.633603\n",
            "iterations: 1020 | train_loss: 0.031924125 | validation_loss: 0.048192304 | Roc Score: 0.9520607 | Time elapsed: 1:28:21.784390\n",
            "iterations: 1021 | train_loss: 0.03770303 | validation_loss: 0.04807067 | Roc Score: 0.952095 | Time elapsed: 1:28:27.008637\n",
            "iterations: 1022 | train_loss: 0.041246213 | validation_loss: 0.048362825 | Roc Score: 0.95212936 | Time elapsed: 1:28:32.208224\n",
            "iterations: 1023 | train_loss: 0.043064214 | validation_loss: 0.048933316 | Roc Score: 0.9521631 | Time elapsed: 1:28:37.466158\n",
            "iterations: 1024 | train_loss: 0.04782305 | validation_loss: 0.049052462 | Roc Score: 0.9521966 | Time elapsed: 1:28:42.706355\n",
            "iterations: 1025 | train_loss: 0.041940648 | validation_loss: 0.04853277 | Roc Score: 0.95223 | Time elapsed: 1:28:47.919307\n",
            "iterations: 1026 | train_loss: 0.06102936 | validation_loss: 0.04830902 | Roc Score: 0.9522633 | Time elapsed: 1:28:53.172470\n",
            "iterations: 1027 | train_loss: 0.055666078 | validation_loss: 0.04831958 | Roc Score: 0.9522965 | Time elapsed: 1:28:58.353508\n",
            "iterations: 1028 | train_loss: 0.056635674 | validation_loss: 0.047948238 | Roc Score: 0.9523311 | Time elapsed: 1:29:03.563920\n",
            "iterations: 1029 | train_loss: 0.037376925 | validation_loss: 0.04748885 | Roc Score: 0.95236665 | Time elapsed: 1:29:08.782652\n",
            "iterations: 1030 | train_loss: 0.036832437 | validation_loss: 0.047342073 | Roc Score: 0.95240164 | Time elapsed: 1:29:13.991168\n",
            "iterations: 1031 | train_loss: 0.065374896 | validation_loss: 0.04773356 | Roc Score: 0.9524366 | Time elapsed: 1:29:19.197478\n",
            "iterations: 1032 | train_loss: 0.053436343 | validation_loss: 0.048398003 | Roc Score: 0.9524707 | Time elapsed: 1:29:24.455655\n",
            "iterations: 1033 | train_loss: 0.047435902 | validation_loss: 0.0488873 | Roc Score: 0.9525039 | Time elapsed: 1:29:29.695459\n",
            "iterations: 1034 | train_loss: 0.036846586 | validation_loss: 0.049032036 | Roc Score: 0.95253694 | Time elapsed: 1:29:34.891919\n",
            "iterations: 1035 | train_loss: 0.06152952 | validation_loss: 0.048311114 | Roc Score: 0.95257235 | Time elapsed: 1:29:40.146452\n",
            "iterations: 1036 | train_loss: 0.044619743 | validation_loss: 0.047983915 | Roc Score: 0.9526091 | Time elapsed: 1:29:45.368197\n",
            "iterations: 1037 | train_loss: 0.035165012 | validation_loss: 0.04782073 | Roc Score: 0.95264626 | Time elapsed: 1:29:50.547955\n",
            "iterations: 1038 | train_loss: 0.06477735 | validation_loss: 0.047639597 | Roc Score: 0.95268345 | Time elapsed: 1:29:55.751649\n",
            "iterations: 1039 | train_loss: 0.050542228 | validation_loss: 0.04761547 | Roc Score: 0.95272017 | Time elapsed: 1:30:00.961135\n",
            "iterations: 1040 | train_loss: 0.049001053 | validation_loss: 0.047475457 | Roc Score: 0.9527562 | Time elapsed: 1:30:06.191800\n",
            "iterations: 1041 | train_loss: 0.06343561 | validation_loss: 0.0473333 | Roc Score: 0.9527913 | Time elapsed: 1:30:11.425708\n",
            "iterations: 1042 | train_loss: 0.03349398 | validation_loss: 0.047319215 | Roc Score: 0.95282525 | Time elapsed: 1:30:16.558812\n",
            "iterations: 1043 | train_loss: 0.043703783 | validation_loss: 0.04776608 | Roc Score: 0.9528574 | Time elapsed: 1:30:21.764272\n",
            "iterations: 1044 | train_loss: 0.07651928 | validation_loss: 0.048162464 | Roc Score: 0.95288867 | Time elapsed: 1:30:26.983339\n",
            "iterations: 1045 | train_loss: 0.03667702 | validation_loss: 0.048737273 | Roc Score: 0.952919 | Time elapsed: 1:30:32.184454\n",
            "iterations: 1046 | train_loss: 0.02989584 | validation_loss: 0.049149644 | Roc Score: 0.952948 | Time elapsed: 1:30:37.429978\n",
            "iterations: 1047 | train_loss: 0.029750373 | validation_loss: 0.050581146 | Roc Score: 0.9529745 | Time elapsed: 1:30:42.618198\n",
            "iterations: 1048 | train_loss: 0.053069778 | validation_loss: 0.051067717 | Roc Score: 0.95299923 | Time elapsed: 1:30:47.847414\n",
            "iterations: 1049 | train_loss: 0.05444325 | validation_loss: 0.050771337 | Roc Score: 0.9530256 | Time elapsed: 1:30:53.038107\n",
            "iterations: 1050 | train_loss: 0.06473566 | validation_loss: 0.04935123 | Roc Score: 0.9530547 | Time elapsed: 1:30:58.202754\n",
            "iterations: 1051 | train_loss: 0.036293928 | validation_loss: 0.048083346 | Roc Score: 0.9530868 | Time elapsed: 1:31:03.448335\n",
            "iterations: 1052 | train_loss: 0.05564204 | validation_loss: 0.048277244 | Roc Score: 0.95312077 | Time elapsed: 1:31:08.672570\n"
          ],
          "name": "stdout"
        },
        {
          "output_type": "stream",
          "text": [
            "iterations: 1053 | train_loss: 0.038394764 | validation_loss: 0.049323272 | Roc Score: 0.9531544 | Time elapsed: 1:31:13.882952\n",
            "iterations: 1054 | train_loss: 0.05197149 | validation_loss: 0.05018809 | Roc Score: 0.95318794 | Time elapsed: 1:31:19.052390\n",
            "iterations: 1055 | train_loss: 0.042207353 | validation_loss: 0.04837537 | Roc Score: 0.95322204 | Time elapsed: 1:31:24.271421\n",
            "iterations: 1056 | train_loss: 0.048860475 | validation_loss: 0.047865797 | Roc Score: 0.9532555 | Time elapsed: 1:31:29.448157\n",
            "iterations: 1057 | train_loss: 0.05624513 | validation_loss: 0.047587898 | Roc Score: 0.9532885 | Time elapsed: 1:31:34.658730\n",
            "iterations: 1058 | train_loss: 0.07937456 | validation_loss: 0.047451943 | Roc Score: 0.95332175 | Time elapsed: 1:31:39.711651\n",
            "iterations: 1059 | train_loss: 0.041507777 | validation_loss: 0.04748105 | Roc Score: 0.9533549 | Time elapsed: 1:31:44.900048\n",
            "iterations: 1060 | train_loss: 0.048430737 | validation_loss: 0.04851511 | Roc Score: 0.9533877 | Time elapsed: 1:31:50.256915\n",
            "iterations: 1061 | train_loss: 0.03657381 | validation_loss: 0.04915776 | Roc Score: 0.9534203 | Time elapsed: 1:31:55.483768\n",
            "iterations: 1062 | train_loss: 0.04132011 | validation_loss: 0.048698194 | Roc Score: 0.9534535 | Time elapsed: 1:32:00.745665\n",
            "iterations: 1063 | train_loss: 0.049217638 | validation_loss: 0.046825424 | Roc Score: 0.9534877 | Time elapsed: 1:32:05.976955\n",
            "iterations: 1064 | train_loss: 0.053303823 | validation_loss: 0.04669942 | Roc Score: 0.9535202 | Time elapsed: 1:32:11.206476\n",
            "iterations: 1065 | train_loss: 0.05164018 | validation_loss: 0.0471902 | Roc Score: 0.9535514 | Time elapsed: 1:32:16.465994\n",
            "iterations: 1066 | train_loss: 0.042292915 | validation_loss: 0.0477362 | Roc Score: 0.9535806 | Time elapsed: 1:32:21.670117\n",
            "iterations: 1067 | train_loss: 0.039606962 | validation_loss: 0.047728594 | Roc Score: 0.95360917 | Time elapsed: 1:32:26.868975\n",
            "iterations: 1068 | train_loss: 0.055964503 | validation_loss: 0.047363803 | Roc Score: 0.9536391 | Time elapsed: 1:32:32.119829\n",
            "iterations: 1069 | train_loss: 0.045298938 | validation_loss: 0.047217995 | Roc Score: 0.95367056 | Time elapsed: 1:32:37.358669\n",
            "iterations: 1070 | train_loss: 0.06034127 | validation_loss: 0.04782 | Roc Score: 0.95370287 | Time elapsed: 1:32:42.600337\n",
            "iterations: 1071 | train_loss: 0.049430344 | validation_loss: 0.048799776 | Roc Score: 0.95373505 | Time elapsed: 1:32:47.773261\n",
            "iterations: 1072 | train_loss: 0.056158137 | validation_loss: 0.049037796 | Roc Score: 0.9537677 | Time elapsed: 1:32:52.973032\n",
            "iterations: 1073 | train_loss: 0.04697939 | validation_loss: 0.04745713 | Roc Score: 0.95380044 | Time elapsed: 1:32:58.224110\n",
            "iterations: 1074 | train_loss: 0.055868853 | validation_loss: 0.046716787 | Roc Score: 0.9538338 | Time elapsed: 1:33:03.467783\n",
            "iterations: 1075 | train_loss: 0.043941107 | validation_loss: 0.046435412 | Roc Score: 0.9538671 | Time elapsed: 1:33:08.717777\n",
            "iterations: 1076 | train_loss: 0.049252547 | validation_loss: 0.04678605 | Roc Score: 0.9539005 | Time elapsed: 1:33:13.927809\n",
            "iterations: 1077 | train_loss: 0.03615845 | validation_loss: 0.04791294 | Roc Score: 0.9539317 | Time elapsed: 1:33:19.165679\n",
            "iterations: 1078 | train_loss: 0.06556309 | validation_loss: 0.04826983 | Roc Score: 0.9539624 | Time elapsed: 1:33:24.347080\n",
            "iterations: 1079 | train_loss: 0.05000499 | validation_loss: 0.048248358 | Roc Score: 0.9539926 | Time elapsed: 1:33:29.562678\n",
            "iterations: 1080 | train_loss: 0.05260398 | validation_loss: 0.047867246 | Roc Score: 0.95402324 | Time elapsed: 1:33:34.797415\n",
            "iterations: 1081 | train_loss: 0.05515007 | validation_loss: 0.04745583 | Roc Score: 0.9540554 | Time elapsed: 1:33:40.021625\n",
            "iterations: 1082 | train_loss: 0.051216308 | validation_loss: 0.04768337 | Roc Score: 0.9540873 | Time elapsed: 1:33:45.182592\n",
            "iterations: 1083 | train_loss: 0.046830967 | validation_loss: 0.04809945 | Roc Score: 0.95411867 | Time elapsed: 1:33:50.419301\n",
            "iterations: 1084 | train_loss: 0.04123524 | validation_loss: 0.04778383 | Roc Score: 0.95414937 | Time elapsed: 1:33:55.591346\n",
            "iterations: 1085 | train_loss: 0.053164866 | validation_loss: 0.047526043 | Roc Score: 0.9541796 | Time elapsed: 1:34:00.786219\n",
            "iterations: 1086 | train_loss: 0.0373569 | validation_loss: 0.047393307 | Roc Score: 0.95421004 | Time elapsed: 1:34:05.988843\n",
            "iterations: 1087 | train_loss: 0.0318993 | validation_loss: 0.047496404 | Roc Score: 0.9542397 | Time elapsed: 1:34:11.160369\n",
            "iterations: 1088 | train_loss: 0.053514965 | validation_loss: 0.04750744 | Roc Score: 0.9542693 | Time elapsed: 1:34:16.398765\n",
            "iterations: 1089 | train_loss: 0.04286149 | validation_loss: 0.04701599 | Roc Score: 0.954299 | Time elapsed: 1:34:21.627434\n",
            "iterations: 1090 | train_loss: 0.052195556 | validation_loss: 0.04672499 | Roc Score: 0.9543299 | Time elapsed: 1:34:26.815214\n",
            "iterations: 1091 | train_loss: 0.038074955 | validation_loss: 0.04689693 | Roc Score: 0.95436114 | Time elapsed: 1:34:32.026946\n"
          ],
          "name": "stdout"
        },
        {
          "output_type": "stream",
          "text": [
            "iterations: 1092 | train_loss: 0.070475385 | validation_loss: 0.04784425 | Roc Score: 0.95439184 | Time elapsed: 1:34:37.206770\n",
            "iterations: 1093 | train_loss: 0.056318652 | validation_loss: 0.048204295 | Roc Score: 0.9544219 | Time elapsed: 1:34:42.450521\n",
            "iterations: 1094 | train_loss: 0.037651334 | validation_loss: 0.04764667 | Roc Score: 0.9544528 | Time elapsed: 1:34:47.648678\n",
            "iterations: 1095 | train_loss: 0.043388937 | validation_loss: 0.046737414 | Roc Score: 0.9544837 | Time elapsed: 1:34:52.817316\n",
            "iterations: 1096 | train_loss: 0.042609524 | validation_loss: 0.046908356 | Roc Score: 0.954514 | Time elapsed: 1:34:58.038423\n",
            "iterations: 1097 | train_loss: 0.04913227 | validation_loss: 0.048034083 | Roc Score: 0.954542 | Time elapsed: 1:35:03.274055\n",
            "iterations: 1098 | train_loss: 0.045889582 | validation_loss: 0.049440466 | Roc Score: 0.9545673 | Time elapsed: 1:35:08.491179\n",
            "iterations: 1099 | train_loss: 0.04965337 | validation_loss: 0.050259735 | Roc Score: 0.9545907 | Time elapsed: 1:35:13.775465\n",
            "iterations: 1100 | train_loss: 0.043640118 | validation_loss: 0.049298365 | Roc Score: 0.9546153 | Time elapsed: 1:35:19.012345\n",
            "iterations: 1101 | train_loss: 0.040656827 | validation_loss: 0.04816348 | Roc Score: 0.95464224 | Time elapsed: 1:35:24.217232\n",
            "iterations: 1102 | train_loss: 0.0518344 | validation_loss: 0.047476746 | Roc Score: 0.95467114 | Time elapsed: 1:35:29.466494\n",
            "iterations: 1103 | train_loss: 0.046887763 | validation_loss: 0.047355834 | Roc Score: 0.95470065 | Time elapsed: 1:35:34.733719\n",
            "iterations: 1104 | train_loss: 0.055364184 | validation_loss: 0.047692053 | Roc Score: 0.9547317 | Time elapsed: 1:35:39.923333\n",
            "iterations: 1105 | train_loss: 0.07412023 | validation_loss: 0.04831184 | Roc Score: 0.95476294 | Time elapsed: 1:35:45.110816\n",
            "iterations: 1106 | train_loss: 0.034990154 | validation_loss: 0.04844104 | Roc Score: 0.9547936 | Time elapsed: 1:35:50.310303\n",
            "iterations: 1107 | train_loss: 0.040118754 | validation_loss: 0.048147906 | Roc Score: 0.95482415 | Time elapsed: 1:35:55.512132\n",
            "iterations: 1108 | train_loss: 0.030257216 | validation_loss: 0.047304474 | Roc Score: 0.95485574 | Time elapsed: 1:36:00.685569\n",
            "iterations: 1109 | train_loss: 0.03631946 | validation_loss: 0.047149427 | Roc Score: 0.9548871 | Time elapsed: 1:36:05.929885\n",
            "iterations: 1110 | train_loss: 0.035459846 | validation_loss: 0.047243614 | Roc Score: 0.9549179 | Time elapsed: 1:36:11.138404\n",
            "iterations: 1111 | train_loss: 0.055747706 | validation_loss: 0.04748152 | Roc Score: 0.95494825 | Time elapsed: 1:36:16.349814\n",
            "iterations: 1112 | train_loss: 0.04439111 | validation_loss: 0.047758445 | Roc Score: 0.95497763 | Time elapsed: 1:36:21.546161\n",
            "iterations: 1113 | train_loss: 0.057648297 | validation_loss: 0.04822437 | Roc Score: 0.9550054 | Time elapsed: 1:36:26.444637\n",
            "iterations: 1114 | train_loss: 0.045699686 | validation_loss: 0.04828629 | Roc Score: 0.95503247 | Time elapsed: 1:36:31.692970\n",
            "iterations: 1115 | train_loss: 0.041951694 | validation_loss: 0.048399605 | Roc Score: 0.9550583 | Time elapsed: 1:36:36.899204\n",
            "iterations: 1116 | train_loss: 0.040497012 | validation_loss: 0.04815227 | Roc Score: 0.95508385 | Time elapsed: 1:36:42.102897\n",
            "iterations: 1117 | train_loss: 0.056124266 | validation_loss: 0.047973353 | Roc Score: 0.95510924 | Time elapsed: 1:36:47.320474\n",
            "iterations: 1118 | train_loss: 0.054212246 | validation_loss: 0.047946487 | Roc Score: 0.9551357 | Time elapsed: 1:36:52.554555\n",
            "iterations: 1119 | train_loss: 0.059687283 | validation_loss: 0.048804093 | Roc Score: 0.95516336 | Time elapsed: 1:36:57.789265\n",
            "iterations: 1120 | train_loss: 0.04176685 | validation_loss: 0.049728777 | Roc Score: 0.9551918 | Time elapsed: 1:37:02.940439\n",
            "iterations: 1121 | train_loss: 0.030826222 | validation_loss: 0.05042745 | Roc Score: 0.9552202 | Time elapsed: 1:37:08.140775\n",
            "iterations: 1122 | train_loss: 0.05402513 | validation_loss: 0.04960795 | Roc Score: 0.9552487 | Time elapsed: 1:37:13.346786\n",
            "iterations: 1123 | train_loss: 0.062061995 | validation_loss: 0.048189025 | Roc Score: 0.95527726 | Time elapsed: 1:37:18.561008\n",
            "iterations: 1124 | train_loss: 0.055252254 | validation_loss: 0.047650114 | Roc Score: 0.95530456 | Time elapsed: 1:37:23.728399\n",
            "iterations: 1125 | train_loss: 0.046827566 | validation_loss: 0.048882935 | Roc Score: 0.9553291 | Time elapsed: 1:37:28.948318\n",
            "iterations: 1126 | train_loss: 0.061280377 | validation_loss: 0.050107047 | Roc Score: 0.95535177 | Time elapsed: 1:37:34.178875\n",
            "iterations: 1127 | train_loss: 0.047116883 | validation_loss: 0.05081403 | Roc Score: 0.9553745 | Time elapsed: 1:37:39.299714\n",
            "iterations: 1128 | train_loss: 0.056711234 | validation_loss: 0.050155766 | Roc Score: 0.95539874 | Time elapsed: 1:37:44.503165\n",
            "iterations: 1129 | train_loss: 0.047587655 | validation_loss: 0.048904702 | Roc Score: 0.955425 | Time elapsed: 1:37:49.709910\n",
            "iterations: 1130 | train_loss: 0.05439815 | validation_loss: 0.04857266 | Roc Score: 0.9554529 | Time elapsed: 1:37:54.825809\n"
          ],
          "name": "stdout"
        },
        {
          "output_type": "stream",
          "text": [
            "iterations: 1131 | train_loss: 0.04602081 | validation_loss: 0.048526764 | Roc Score: 0.9554813 | Time elapsed: 1:38:00.084858\n",
            "iterations: 1132 | train_loss: 0.052321516 | validation_loss: 0.04962397 | Roc Score: 0.9555081 | Time elapsed: 1:38:05.289886\n",
            "iterations: 1133 | train_loss: 0.033826448 | validation_loss: 0.049524914 | Roc Score: 0.9555354 | Time elapsed: 1:38:10.557860\n",
            "iterations: 1134 | train_loss: 0.055659167 | validation_loss: 0.048861165 | Roc Score: 0.9555616 | Time elapsed: 1:38:15.826457\n",
            "iterations: 1135 | train_loss: 0.05914708 | validation_loss: 0.048474215 | Roc Score: 0.95558596 | Time elapsed: 1:38:21.036587\n",
            "iterations: 1136 | train_loss: 0.0513268 | validation_loss: 0.048681293 | Roc Score: 0.9556077 | Time elapsed: 1:38:26.267403\n",
            "iterations: 1137 | train_loss: 0.049426116 | validation_loss: 0.04940784 | Roc Score: 0.95562774 | Time elapsed: 1:38:31.503936\n",
            "iterations: 1138 | train_loss: 0.03739555 | validation_loss: 0.050145853 | Roc Score: 0.9556449 | Time elapsed: 1:38:36.670168\n",
            "iterations: 1139 | train_loss: 0.024647295 | validation_loss: 0.050655495 | Roc Score: 0.955661 | Time elapsed: 1:38:41.908971\n",
            "iterations: 1140 | train_loss: 0.03925477 | validation_loss: 0.050787926 | Roc Score: 0.9556756 | Time elapsed: 1:38:47.152634\n",
            "iterations: 1141 | train_loss: 0.061488666 | validation_loss: 0.04943043 | Roc Score: 0.955695 | Time elapsed: 1:38:52.338441\n",
            "iterations: 1142 | train_loss: 0.04627707 | validation_loss: 0.048728354 | Roc Score: 0.95571756 | Time elapsed: 1:38:57.533484\n",
            "iterations: 1143 | train_loss: 0.03703375 | validation_loss: 0.048647087 | Roc Score: 0.95574296 | Time elapsed: 1:39:02.757882\n",
            "iterations: 1144 | train_loss: 0.026685774 | validation_loss: 0.04911103 | Roc Score: 0.95577 | Time elapsed: 1:39:08.018374\n",
            "iterations: 1145 | train_loss: 0.0480681 | validation_loss: 0.049950268 | Roc Score: 0.9557975 | Time elapsed: 1:39:13.236115\n",
            "iterations: 1146 | train_loss: 0.050523534 | validation_loss: 0.050709676 | Roc Score: 0.95582396 | Time elapsed: 1:39:18.490330\n",
            "iterations: 1147 | train_loss: 0.04786127 | validation_loss: 0.05077759 | Roc Score: 0.9558504 | Time elapsed: 1:39:23.659823\n",
            "iterations: 1148 | train_loss: 0.04916168 | validation_loss: 0.049431033 | Roc Score: 0.9558768 | Time elapsed: 1:39:28.874585\n",
            "iterations: 1149 | train_loss: 0.04279474 | validation_loss: 0.0484542 | Roc Score: 0.9559033 | Time elapsed: 1:39:34.085824\n",
            "iterations: 1150 | train_loss: 0.042458203 | validation_loss: 0.048664216 | Roc Score: 0.95592916 | Time elapsed: 1:39:39.264572\n",
            "iterations: 1151 | train_loss: 0.085789755 | validation_loss: 0.048821498 | Roc Score: 0.95595497 | Time elapsed: 1:39:44.465105\n",
            "iterations: 1152 | train_loss: 0.045428548 | validation_loss: 0.048737846 | Roc Score: 0.9559802 | Time elapsed: 1:39:49.685186\n",
            "iterations: 1153 | train_loss: 0.05629266 | validation_loss: 0.048412792 | Roc Score: 0.9560063 | Time elapsed: 1:39:54.952665\n",
            "iterations: 1154 | train_loss: 0.030714894 | validation_loss: 0.048476603 | Roc Score: 0.9560324 | Time elapsed: 1:40:00.124499\n",
            "iterations: 1155 | train_loss: 0.03830704 | validation_loss: 0.048281647 | Roc Score: 0.9560588 | Time elapsed: 1:40:05.351477\n",
            "iterations: 1156 | train_loss: 0.037831273 | validation_loss: 0.048005104 | Roc Score: 0.95608526 | Time elapsed: 1:40:10.610081\n",
            "iterations: 1157 | train_loss: 0.032309074 | validation_loss: 0.04782608 | Roc Score: 0.9561112 | Time elapsed: 1:40:15.837232\n",
            "iterations: 1158 | train_loss: 0.034747373 | validation_loss: 0.04770168 | Roc Score: 0.95613754 | Time elapsed: 1:40:21.128385\n",
            "iterations: 1159 | train_loss: 0.037599817 | validation_loss: 0.0476523 | Roc Score: 0.9561645 | Time elapsed: 1:40:25.986733\n",
            "iterations: 1160 | train_loss: 0.066583455 | validation_loss: 0.047675684 | Roc Score: 0.95619106 | Time elapsed: 1:40:31.198777\n",
            "iterations: 1161 | train_loss: 0.04420081 | validation_loss: 0.047914855 | Roc Score: 0.95621735 | Time elapsed: 1:40:36.404891\n",
            "iterations: 1162 | train_loss: 0.04689037 | validation_loss: 0.047860216 | Roc Score: 0.9562429 | Time elapsed: 1:40:41.625459\n",
            "iterations: 1163 | train_loss: 0.029400278 | validation_loss: 0.047854967 | Roc Score: 0.9562678 | Time elapsed: 1:40:46.876692\n",
            "iterations: 1164 | train_loss: 0.052115325 | validation_loss: 0.048174623 | Roc Score: 0.95629126 | Time elapsed: 1:40:52.093894\n",
            "iterations: 1165 | train_loss: 0.06486288 | validation_loss: 0.048460636 | Roc Score: 0.9563139 | Time elapsed: 1:40:57.336287\n",
            "iterations: 1166 | train_loss: 0.03460974 | validation_loss: 0.048807777 | Roc Score: 0.95633614 | Time elapsed: 1:41:02.523690\n",
            "iterations: 1167 | train_loss: 0.041891355 | validation_loss: 0.04899478 | Roc Score: 0.95635784 | Time elapsed: 1:41:07.770056\n",
            "iterations: 1168 | train_loss: 0.053326674 | validation_loss: 0.049036518 | Roc Score: 0.9563791 | Time elapsed: 1:41:13.002071\n",
            "iterations: 1169 | train_loss: 0.04243159 | validation_loss: 0.048841912 | Roc Score: 0.95640004 | Time elapsed: 1:41:18.267888\n"
          ],
          "name": "stdout"
        },
        {
          "output_type": "stream",
          "text": [
            "iterations: 1170 | train_loss: 0.040142365 | validation_loss: 0.048813507 | Roc Score: 0.9564212 | Time elapsed: 1:41:23.514733\n",
            "iterations: 1171 | train_loss: 0.059283104 | validation_loss: 0.04905819 | Roc Score: 0.956442 | Time elapsed: 1:41:28.727090\n",
            "iterations: 1172 | train_loss: 0.050151855 | validation_loss: 0.04967887 | Roc Score: 0.9564628 | Time elapsed: 1:41:33.995533\n",
            "iterations: 1173 | train_loss: 0.046198986 | validation_loss: 0.050274074 | Roc Score: 0.9564829 | Time elapsed: 1:41:39.277177\n",
            "iterations: 1174 | train_loss: 0.033734463 | validation_loss: 0.050318386 | Roc Score: 0.9565016 | Time elapsed: 1:41:44.491298\n",
            "iterations: 1175 | train_loss: 0.040746223 | validation_loss: 0.049964268 | Roc Score: 0.9565199 | Time elapsed: 1:41:49.721820\n",
            "iterations: 1176 | train_loss: 0.036778368 | validation_loss: 0.049851466 | Roc Score: 0.9565373 | Time elapsed: 1:41:54.948408\n",
            "iterations: 1177 | train_loss: 0.051975906 | validation_loss: 0.049518388 | Roc Score: 0.95655423 | Time elapsed: 1:42:00.233973\n",
            "iterations: 1178 | train_loss: 0.055920567 | validation_loss: 0.048447456 | Roc Score: 0.95657474 | Time elapsed: 1:42:05.527185\n",
            "iterations: 1179 | train_loss: 0.034272328 | validation_loss: 0.047931936 | Roc Score: 0.95659804 | Time elapsed: 1:42:10.728634\n",
            "iterations: 1180 | train_loss: 0.042667042 | validation_loss: 0.047857147 | Roc Score: 0.9566237 | Time elapsed: 1:42:15.945717\n",
            "iterations: 1181 | train_loss: 0.04261563 | validation_loss: 0.047806945 | Roc Score: 0.9566501 | Time elapsed: 1:42:21.170594\n",
            "iterations: 1182 | train_loss: 0.040779613 | validation_loss: 0.047683835 | Roc Score: 0.9566764 | Time elapsed: 1:42:26.394933\n",
            "iterations: 1183 | train_loss: 0.04670962 | validation_loss: 0.04774977 | Roc Score: 0.9567012 | Time elapsed: 1:42:31.686383\n",
            "iterations: 1184 | train_loss: 0.05085218 | validation_loss: 0.048005063 | Roc Score: 0.9567243 | Time elapsed: 1:42:36.938406\n",
            "iterations: 1185 | train_loss: 0.034167383 | validation_loss: 0.04808101 | Roc Score: 0.9567471 | Time elapsed: 1:42:42.142972\n",
            "iterations: 1186 | train_loss: 0.06906709 | validation_loss: 0.04774951 | Roc Score: 0.95677036 | Time elapsed: 1:42:47.307989\n",
            "iterations: 1187 | train_loss: 0.042308167 | validation_loss: 0.04732598 | Roc Score: 0.9567944 | Time elapsed: 1:42:52.549075\n",
            "iterations: 1188 | train_loss: 0.03562866 | validation_loss: 0.047349125 | Roc Score: 0.9568191 | Time elapsed: 1:42:57.795162\n",
            "iterations: 1189 | train_loss: 0.05240103 | validation_loss: 0.048044432 | Roc Score: 0.95684385 | Time elapsed: 1:43:03.042476\n",
            "iterations: 1190 | train_loss: 0.04935667 | validation_loss: 0.048997667 | Roc Score: 0.95686924 | Time elapsed: 1:43:08.333850\n",
            "iterations: 1191 | train_loss: 0.031132301 | validation_loss: 0.049203757 | Roc Score: 0.9568947 | Time elapsed: 1:43:13.593081\n",
            "iterations: 1192 | train_loss: 0.06987188 | validation_loss: 0.048187755 | Roc Score: 0.9569191 | Time elapsed: 1:43:18.810177\n",
            "iterations: 1193 | train_loss: 0.031024061 | validation_loss: 0.047989875 | Roc Score: 0.95694184 | Time elapsed: 1:43:24.016575\n",
            "iterations: 1194 | train_loss: 0.053284924 | validation_loss: 0.049057536 | Roc Score: 0.95696205 | Time elapsed: 1:43:29.260723\n",
            "iterations: 1195 | train_loss: 0.04864854 | validation_loss: 0.050668217 | Roc Score: 0.9569793 | Time elapsed: 1:43:34.468630\n",
            "iterations: 1196 | train_loss: 0.055270392 | validation_loss: 0.051150393 | Roc Score: 0.9569965 | Time elapsed: 1:43:39.754104\n",
            "iterations: 1197 | train_loss: 0.047822747 | validation_loss: 0.050772775 | Roc Score: 0.957015 | Time elapsed: 1:43:45.006449\n",
            "iterations: 1198 | train_loss: 0.062102813 | validation_loss: 0.049470972 | Roc Score: 0.95703715 | Time elapsed: 1:43:50.272133\n",
            "iterations: 1199 | train_loss: 0.06505607 | validation_loss: 0.048624415 | Roc Score: 0.95706254 | Time elapsed: 1:43:55.544506\n",
            "iterations: 1200 | train_loss: 0.054454856 | validation_loss: 0.049949396 | Roc Score: 0.9570864 | Time elapsed: 1:44:00.817186\n",
            "iterations: 1201 | train_loss: 0.0514571 | validation_loss: 0.05247462 | Roc Score: 0.95710766 | Time elapsed: 1:44:06.066311\n",
            "iterations: 1202 | train_loss: 0.05054411 | validation_loss: 0.052943446 | Roc Score: 0.95712864 | Time elapsed: 1:44:11.311460\n",
            "iterations: 1203 | train_loss: 0.05358876 | validation_loss: 0.050845206 | Roc Score: 0.95715165 | Time elapsed: 1:44:16.492437\n",
            "iterations: 1204 | train_loss: 0.048627965 | validation_loss: 0.049311716 | Roc Score: 0.95717573 | Time elapsed: 1:44:21.698619\n",
            "iterations: 1205 | train_loss: 0.06373902 | validation_loss: 0.04876059 | Roc Score: 0.9571992 | Time elapsed: 1:44:26.945411\n",
            "iterations: 1206 | train_loss: 0.041043043 | validation_loss: 0.049727533 | Roc Score: 0.9572184 | Time elapsed: 1:44:32.188849\n",
            "iterations: 1207 | train_loss: 0.053593192 | validation_loss: 0.051240955 | Roc Score: 0.95723355 | Time elapsed: 1:44:37.452363\n",
            "iterations: 1208 | train_loss: 0.04148957 | validation_loss: 0.053162392 | Roc Score: 0.9572448 | Time elapsed: 1:44:42.766725\n"
          ],
          "name": "stdout"
        },
        {
          "output_type": "stream",
          "text": [
            "iterations: 1209 | train_loss: 0.05000326 | validation_loss: 0.053092916 | Roc Score: 0.9572568 | Time elapsed: 1:44:47.977570\n",
            "iterations: 1210 | train_loss: 0.023942487 | validation_loss: 0.053294476 | Roc Score: 0.95726854 | Time elapsed: 1:44:53.212895\n",
            "iterations: 1211 | train_loss: 0.03550782 | validation_loss: 0.052902967 | Roc Score: 0.95728225 | Time elapsed: 1:44:58.322675\n",
            "iterations: 1212 | train_loss: 0.034449503 | validation_loss: 0.05236685 | Roc Score: 0.9572969 | Time elapsed: 1:45:03.560982\n",
            "iterations: 1213 | train_loss: 0.043211743 | validation_loss: 0.05228365 | Roc Score: 0.95731056 | Time elapsed: 1:45:08.792152\n",
            "iterations: 1214 | train_loss: 0.048591208 | validation_loss: 0.051178645 | Roc Score: 0.9573273 | Time elapsed: 1:45:14.036634\n",
            "iterations: 1215 | train_loss: 0.05251528 | validation_loss: 0.050005767 | Roc Score: 0.95734674 | Time elapsed: 1:45:19.323586\n",
            "iterations: 1216 | train_loss: 0.033014126 | validation_loss: 0.04914584 | Roc Score: 0.957368 | Time elapsed: 1:45:24.515371\n",
            "iterations: 1217 | train_loss: 0.026710114 | validation_loss: 0.048791245 | Roc Score: 0.9573896 | Time elapsed: 1:45:29.760843\n",
            "iterations: 1218 | train_loss: 0.049643748 | validation_loss: 0.048603456 | Roc Score: 0.9574126 | Time elapsed: 1:45:35.014398\n",
            "iterations: 1219 | train_loss: 0.051842824 | validation_loss: 0.048343822 | Roc Score: 0.9574361 | Time elapsed: 1:45:40.287773\n",
            "iterations: 1220 | train_loss: 0.045213368 | validation_loss: 0.048242465 | Roc Score: 0.95745975 | Time elapsed: 1:45:45.518601\n",
            "iterations: 1221 | train_loss: 0.0471363 | validation_loss: 0.048081677 | Roc Score: 0.9574834 | Time elapsed: 1:45:50.753853\n",
            "iterations: 1222 | train_loss: 0.04788283 | validation_loss: 0.04800713 | Roc Score: 0.9575072 | Time elapsed: 1:45:56.021031\n",
            "iterations: 1223 | train_loss: 0.055338364 | validation_loss: 0.04802129 | Roc Score: 0.95753145 | Time elapsed: 1:46:01.131236\n",
            "iterations: 1224 | train_loss: 0.038178325 | validation_loss: 0.048074737 | Roc Score: 0.9575554 | Time elapsed: 1:46:06.376825\n",
            "iterations: 1225 | train_loss: 0.033727027 | validation_loss: 0.048294295 | Roc Score: 0.9575791 | Time elapsed: 1:46:11.606045\n",
            "iterations: 1226 | train_loss: 0.04542539 | validation_loss: 0.048892092 | Roc Score: 0.9576002 | Time elapsed: 1:46:16.862408\n",
            "iterations: 1227 | train_loss: 0.02528424 | validation_loss: 0.050167356 | Roc Score: 0.9576187 | Time elapsed: 1:46:22.108135\n",
            "iterations: 1228 | train_loss: 0.038685735 | validation_loss: 0.05163545 | Roc Score: 0.9576344 | Time elapsed: 1:46:27.365484\n",
            "iterations: 1229 | train_loss: 0.04970984 | validation_loss: 0.052700613 | Roc Score: 0.9576477 | Time elapsed: 1:46:32.600622\n",
            "iterations: 1230 | train_loss: 0.061297704 | validation_loss: 0.051314514 | Roc Score: 0.9576643 | Time elapsed: 1:46:37.834532\n",
            "iterations: 1231 | train_loss: 0.044190265 | validation_loss: 0.049831297 | Roc Score: 0.9576849 | Time elapsed: 1:46:43.029172\n",
            "iterations: 1232 | train_loss: 0.042237874 | validation_loss: 0.050034363 | Roc Score: 0.95770663 | Time elapsed: 1:46:48.285621\n",
            "iterations: 1233 | train_loss: 0.07555168 | validation_loss: 0.05131572 | Roc Score: 0.95772713 | Time elapsed: 1:46:53.546587\n",
            "iterations: 1234 | train_loss: 0.06379924 | validation_loss: 0.051552948 | Roc Score: 0.957748 | Time elapsed: 1:46:58.815393\n",
            "iterations: 1235 | train_loss: 0.044121966 | validation_loss: 0.050527573 | Roc Score: 0.95776904 | Time elapsed: 1:47:04.062108\n",
            "iterations: 1236 | train_loss: 0.053629432 | validation_loss: 0.04923285 | Roc Score: 0.95779115 | Time elapsed: 1:47:09.293837\n",
            "iterations: 1237 | train_loss: 0.034159303 | validation_loss: 0.04867039 | Roc Score: 0.9578123 | Time elapsed: 1:47:14.466794\n",
            "iterations: 1238 | train_loss: 0.04419717 | validation_loss: 0.04887415 | Roc Score: 0.95783293 | Time elapsed: 1:47:19.742768\n",
            "iterations: 1239 | train_loss: 0.049738582 | validation_loss: 0.048947923 | Roc Score: 0.9578535 | Time elapsed: 1:47:25.003680\n",
            "iterations: 1240 | train_loss: 0.05317024 | validation_loss: 0.048898306 | Roc Score: 0.95787334 | Time elapsed: 1:47:30.285434\n",
            "iterations: 1241 | train_loss: 0.0532562 | validation_loss: 0.048713636 | Roc Score: 0.9578938 | Time elapsed: 1:47:35.514352\n",
            "iterations: 1242 | train_loss: 0.04537955 | validation_loss: 0.048563696 | Roc Score: 0.9579147 | Time elapsed: 1:47:40.785824\n",
            "iterations: 1243 | train_loss: 0.05096856 | validation_loss: 0.04846544 | Roc Score: 0.95793647 | Time elapsed: 1:47:46.006588\n",
            "iterations: 1244 | train_loss: 0.052305326 | validation_loss: 0.04865943 | Roc Score: 0.95795846 | Time elapsed: 1:47:51.259834\n",
            "iterations: 1245 | train_loss: 0.06361187 | validation_loss: 0.049288824 | Roc Score: 0.95798093 | Time elapsed: 1:47:56.499874\n",
            "iterations: 1246 | train_loss: 0.03035033 | validation_loss: 0.049349077 | Roc Score: 0.95800287 | Time elapsed: 1:48:01.776446\n",
            "iterations: 1247 | train_loss: 0.043515906 | validation_loss: 0.0490412 | Roc Score: 0.95802474 | Time elapsed: 1:48:07.034793\n"
          ],
          "name": "stdout"
        },
        {
          "output_type": "stream",
          "text": [
            "iterations: 1248 | train_loss: 0.043112747 | validation_loss: 0.04869747 | Roc Score: 0.95804596 | Time elapsed: 1:48:12.247891\n",
            "iterations: 1249 | train_loss: 0.052507836 | validation_loss: 0.04853958 | Roc Score: 0.958064 | Time elapsed: 1:48:17.396764\n",
            "iterations: 1250 | train_loss: 0.057282485 | validation_loss: 0.048615847 | Roc Score: 0.9580819 | Time elapsed: 1:48:22.690952\n",
            "iterations: 1251 | train_loss: 0.055636857 | validation_loss: 0.04872677 | Roc Score: 0.9581 | Time elapsed: 1:48:27.677829\n",
            "iterations: 1252 | train_loss: 0.04561367 | validation_loss: 0.048718076 | Roc Score: 0.9581184 | Time elapsed: 1:48:32.869083\n",
            "iterations: 1253 | train_loss: 0.051474534 | validation_loss: 0.0485179 | Roc Score: 0.9581377 | Time elapsed: 1:48:38.082653\n",
            "iterations: 1254 | train_loss: 0.042269684 | validation_loss: 0.04828868 | Roc Score: 0.95815766 | Time elapsed: 1:48:43.355346\n",
            "iterations: 1255 | train_loss: 0.031379722 | validation_loss: 0.048254464 | Roc Score: 0.95817757 | Time elapsed: 1:48:48.593778\n",
            "iterations: 1256 | train_loss: 0.05456719 | validation_loss: 0.048439186 | Roc Score: 0.9581972 | Time elapsed: 1:48:53.818418\n",
            "iterations: 1257 | train_loss: 0.065588415 | validation_loss: 0.048300277 | Roc Score: 0.9582173 | Time elapsed: 1:48:59.056340\n",
            "iterations: 1258 | train_loss: 0.051611803 | validation_loss: 0.0481971 | Roc Score: 0.9582386 | Time elapsed: 1:49:04.300758\n",
            "iterations: 1259 | train_loss: 0.024621643 | validation_loss: 0.048286237 | Roc Score: 0.95825976 | Time elapsed: 1:49:09.539921\n",
            "iterations: 1260 | train_loss: 0.039967537 | validation_loss: 0.048398867 | Roc Score: 0.9582807 | Time elapsed: 1:49:14.762119\n",
            "iterations: 1261 | train_loss: 0.04340706 | validation_loss: 0.048492763 | Roc Score: 0.95830196 | Time elapsed: 1:49:19.995944\n",
            "iterations: 1262 | train_loss: 0.066194035 | validation_loss: 0.048362236 | Roc Score: 0.95832366 | Time elapsed: 1:49:25.212722\n",
            "iterations: 1263 | train_loss: 0.04884994 | validation_loss: 0.048422586 | Roc Score: 0.9583462 | Time elapsed: 1:49:30.477978\n",
            "iterations: 1264 | train_loss: 0.05432705 | validation_loss: 0.048958845 | Roc Score: 0.95836854 | Time elapsed: 1:49:35.719108\n",
            "iterations: 1265 | train_loss: 0.033343654 | validation_loss: 0.04937524 | Roc Score: 0.95839065 | Time elapsed: 1:49:41.008930\n",
            "iterations: 1266 | train_loss: 0.045757834 | validation_loss: 0.049599465 | Roc Score: 0.9584122 | Time elapsed: 1:49:46.283980\n",
            "iterations: 1267 | train_loss: 0.04296926 | validation_loss: 0.049531776 | Roc Score: 0.95843345 | Time elapsed: 1:49:51.304065\n",
            "iterations: 1268 | train_loss: 0.034377 | validation_loss: 0.04918126 | Roc Score: 0.9584544 | Time elapsed: 1:49:56.519080\n",
            "iterations: 1269 | train_loss: 0.025818633 | validation_loss: 0.04961282 | Roc Score: 0.9584719 | Time elapsed: 1:50:01.695785\n",
            "iterations: 1270 | train_loss: 0.039584342 | validation_loss: 0.051209956 | Roc Score: 0.9584861 | Time elapsed: 1:50:06.955600\n",
            "iterations: 1271 | train_loss: 0.02913716 | validation_loss: 0.053490244 | Roc Score: 0.95849544 | Time elapsed: 1:50:12.144878\n",
            "iterations: 1272 | train_loss: 0.046961594 | validation_loss: 0.055687994 | Roc Score: 0.9585007 | Time elapsed: 1:50:17.358481\n",
            "iterations: 1273 | train_loss: 0.058358397 | validation_loss: 0.0551975 | Roc Score: 0.9585065 | Time elapsed: 1:50:22.634793\n",
            "iterations: 1274 | train_loss: 0.07068718 | validation_loss: 0.05209568 | Roc Score: 0.958519 | Time elapsed: 1:50:27.849171\n",
            "iterations: 1275 | train_loss: 0.05053115 | validation_loss: 0.050216567 | Roc Score: 0.95853746 | Time elapsed: 1:50:33.114835\n",
            "iterations: 1276 | train_loss: 0.02954341 | validation_loss: 0.050209604 | Roc Score: 0.95855814 | Time elapsed: 1:50:38.267901\n",
            "iterations: 1277 | train_loss: 0.046657633 | validation_loss: 0.0505576 | Roc Score: 0.9585795 | Time elapsed: 1:50:43.523637\n",
            "iterations: 1278 | train_loss: 0.048967093 | validation_loss: 0.05058061 | Roc Score: 0.95860064 | Time elapsed: 1:50:48.753159\n",
            "iterations: 1279 | train_loss: 0.049832247 | validation_loss: 0.049236223 | Roc Score: 0.95862186 | Time elapsed: 1:50:54.018683\n",
            "iterations: 1280 | train_loss: 0.02799362 | validation_loss: 0.047895987 | Roc Score: 0.9586439 | Time elapsed: 1:50:59.309791\n",
            "iterations: 1281 | train_loss: 0.03343386 | validation_loss: 0.048032295 | Roc Score: 0.95866543 | Time elapsed: 1:51:04.547614\n",
            "iterations: 1282 | train_loss: 0.046365608 | validation_loss: 0.04924348 | Roc Score: 0.9586852 | Time elapsed: 1:51:09.783822\n",
            "iterations: 1283 | train_loss: 0.053952165 | validation_loss: 0.050338984 | Roc Score: 0.95870286 | Time elapsed: 1:51:15.038768\n",
            "iterations: 1284 | train_loss: 0.073278524 | validation_loss: 0.049320895 | Roc Score: 0.95872265 | Time elapsed: 1:51:20.230560\n",
            "iterations: 1285 | train_loss: 0.050076164 | validation_loss: 0.048387766 | Roc Score: 0.9587434 | Time elapsed: 1:51:25.535589\n",
            "iterations: 1286 | train_loss: 0.051096663 | validation_loss: 0.048495714 | Roc Score: 0.9587653 | Time elapsed: 1:51:30.750535\n"
          ],
          "name": "stdout"
        },
        {
          "output_type": "stream",
          "text": [
            "iterations: 1287 | train_loss: 0.04199712 | validation_loss: 0.049841415 | Roc Score: 0.9587858 | Time elapsed: 1:51:35.960098\n",
            "iterations: 1288 | train_loss: 0.0349451 | validation_loss: 0.0508383 | Roc Score: 0.95880497 | Time elapsed: 1:51:41.173882\n",
            "iterations: 1289 | train_loss: 0.04931996 | validation_loss: 0.05046657 | Roc Score: 0.95882493 | Time elapsed: 1:51:46.408421\n",
            "iterations: 1290 | train_loss: 0.047310106 | validation_loss: 0.04922538 | Roc Score: 0.95884615 | Time elapsed: 1:51:51.625420\n",
            "iterations: 1291 | train_loss: 0.04211064 | validation_loss: 0.04826765 | Roc Score: 0.95886767 | Time elapsed: 1:51:56.914267\n",
            "iterations: 1292 | train_loss: 0.04280822 | validation_loss: 0.048433483 | Roc Score: 0.9588875 | Time elapsed: 1:52:02.187413\n",
            "iterations: 1293 | train_loss: 0.06914809 | validation_loss: 0.049031697 | Roc Score: 0.9589043 | Time elapsed: 1:52:07.391421\n",
            "iterations: 1294 | train_loss: 0.022511505 | validation_loss: 0.04998323 | Roc Score: 0.958918 | Time elapsed: 1:52:12.598645\n",
            "iterations: 1295 | train_loss: 0.07346323 | validation_loss: 0.05014146 | Roc Score: 0.95893115 | Time elapsed: 1:52:17.770698\n",
            "iterations: 1296 | train_loss: 0.04470044 | validation_loss: 0.049877916 | Roc Score: 0.95894605 | Time elapsed: 1:52:22.931587\n",
            "iterations: 1297 | train_loss: 0.06194742 | validation_loss: 0.04941588 | Roc Score: 0.9589637 | Time elapsed: 1:52:28.170330\n",
            "iterations: 1298 | train_loss: 0.029490039 | validation_loss: 0.04900148 | Roc Score: 0.95898247 | Time elapsed: 1:52:33.409607\n",
            "iterations: 1299 | train_loss: 0.059017908 | validation_loss: 0.04861791 | Roc Score: 0.9590011 | Time elapsed: 1:52:38.561483\n",
            "iterations: 1300 | train_loss: 0.055082474 | validation_loss: 0.048253343 | Roc Score: 0.95902145 | Time elapsed: 1:52:43.809323\n",
            "iterations: 1301 | train_loss: 0.036782805 | validation_loss: 0.04797095 | Roc Score: 0.9590418 | Time elapsed: 1:52:48.984160\n",
            "iterations: 1302 | train_loss: 0.04756731 | validation_loss: 0.04785068 | Roc Score: 0.95906234 | Time elapsed: 1:52:54.187636\n",
            "iterations: 1303 | train_loss: 0.038257524 | validation_loss: 0.047864504 | Roc Score: 0.95908326 | Time elapsed: 1:52:59.442507\n",
            "iterations: 1304 | train_loss: 0.058768783 | validation_loss: 0.04794587 | Roc Score: 0.9591043 | Time elapsed: 1:53:04.686347\n",
            "iterations: 1305 | train_loss: 0.032030113 | validation_loss: 0.04808682 | Roc Score: 0.9591259 | Time elapsed: 1:53:09.884932\n",
            "iterations: 1306 | train_loss: 0.039314836 | validation_loss: 0.04819358 | Roc Score: 0.95914656 | Time elapsed: 1:53:15.130367\n",
            "iterations: 1307 | train_loss: 0.051489033 | validation_loss: 0.04785348 | Roc Score: 0.9591683 | Time elapsed: 1:53:20.388894\n",
            "iterations: 1308 | train_loss: 0.047106244 | validation_loss: 0.047628645 | Roc Score: 0.95918995 | Time elapsed: 1:53:25.639028\n",
            "iterations: 1309 | train_loss: 0.044712126 | validation_loss: 0.047591288 | Roc Score: 0.95921147 | Time elapsed: 1:53:30.816711\n",
            "iterations: 1310 | train_loss: 0.031912684 | validation_loss: 0.04765602 | Roc Score: 0.9592327 | Time elapsed: 1:53:36.072270\n",
            "iterations: 1311 | train_loss: 0.040790077 | validation_loss: 0.047663428 | Roc Score: 0.95925355 | Time elapsed: 1:53:41.265972\n",
            "iterations: 1312 | train_loss: 0.048626047 | validation_loss: 0.047959328 | Roc Score: 0.9592744 | Time elapsed: 1:53:46.504533\n",
            "iterations: 1313 | train_loss: 0.04853624 | validation_loss: 0.048159845 | Roc Score: 0.9592946 | Time elapsed: 1:53:51.741307\n",
            "iterations: 1314 | train_loss: 0.041242298 | validation_loss: 0.048182115 | Roc Score: 0.95931345 | Time elapsed: 1:53:56.953052\n",
            "iterations: 1315 | train_loss: 0.03895413 | validation_loss: 0.048783902 | Roc Score: 0.9593296 | Time elapsed: 1:54:02.177951\n",
            "iterations: 1316 | train_loss: 0.03601187 | validation_loss: 0.05004312 | Roc Score: 0.95934325 | Time elapsed: 1:54:07.410587\n",
            "iterations: 1317 | train_loss: 0.05527829 | validation_loss: 0.050448112 | Roc Score: 0.9593555 | Time elapsed: 1:54:12.633758\n",
            "iterations: 1318 | train_loss: 0.053637173 | validation_loss: 0.049862754 | Roc Score: 0.9593691 | Time elapsed: 1:54:17.886772\n",
            "iterations: 1319 | train_loss: 0.03564368 | validation_loss: 0.04897018 | Roc Score: 0.9593842 | Time elapsed: 1:54:23.158551\n",
            "iterations: 1320 | train_loss: 0.02448954 | validation_loss: 0.048379235 | Roc Score: 0.95940024 | Time elapsed: 1:54:28.416849\n",
            "iterations: 1321 | train_loss: 0.0432719 | validation_loss: 0.048043188 | Roc Score: 0.95941716 | Time elapsed: 1:54:33.442074\n",
            "iterations: 1322 | train_loss: 0.04240802 | validation_loss: 0.047645766 | Roc Score: 0.9594351 | Time elapsed: 1:54:38.633084\n",
            "iterations: 1323 | train_loss: 0.028286746 | validation_loss: 0.047542233 | Roc Score: 0.9594543 | Time elapsed: 1:54:43.852248\n",
            "iterations: 1324 | train_loss: 0.037333515 | validation_loss: 0.047607306 | Roc Score: 0.9594737 | Time elapsed: 1:54:49.024265\n",
            "iterations: 1325 | train_loss: 0.04092317 | validation_loss: 0.047736306 | Roc Score: 0.9594929 | Time elapsed: 1:54:54.257190\n"
          ],
          "name": "stdout"
        },
        {
          "output_type": "stream",
          "text": [
            "iterations: 1326 | train_loss: 0.053028956 | validation_loss: 0.04791399 | Roc Score: 0.9595121 | Time elapsed: 1:54:59.521166\n",
            "iterations: 1327 | train_loss: 0.030710481 | validation_loss: 0.04816602 | Roc Score: 0.95953107 | Time elapsed: 1:55:04.751532\n",
            "iterations: 1328 | train_loss: 0.060570106 | validation_loss: 0.048311636 | Roc Score: 0.9595494 | Time elapsed: 1:55:09.966929\n",
            "iterations: 1329 | train_loss: 0.040725302 | validation_loss: 0.04828418 | Roc Score: 0.95956767 | Time elapsed: 1:55:15.156334\n",
            "iterations: 1330 | train_loss: 0.040709954 | validation_loss: 0.04830503 | Roc Score: 0.95958525 | Time elapsed: 1:55:20.384025\n",
            "iterations: 1331 | train_loss: 0.04565866 | validation_loss: 0.048040617 | Roc Score: 0.95960355 | Time elapsed: 1:55:25.504923\n",
            "iterations: 1332 | train_loss: 0.03008878 | validation_loss: 0.048004046 | Roc Score: 0.9596217 | Time elapsed: 1:55:30.647293\n",
            "iterations: 1333 | train_loss: 0.031609595 | validation_loss: 0.04802841 | Roc Score: 0.9596402 | Time elapsed: 1:55:35.868803\n",
            "iterations: 1334 | train_loss: 0.051929012 | validation_loss: 0.047923513 | Roc Score: 0.9596585 | Time elapsed: 1:55:41.085072\n",
            "iterations: 1335 | train_loss: 0.055305175 | validation_loss: 0.04787744 | Roc Score: 0.95967704 | Time elapsed: 1:55:46.303308\n",
            "iterations: 1336 | train_loss: 0.048378047 | validation_loss: 0.04790508 | Roc Score: 0.9596961 | Time elapsed: 1:55:51.487629\n",
            "iterations: 1337 | train_loss: 0.02144327 | validation_loss: 0.04801767 | Roc Score: 0.95971507 | Time elapsed: 1:55:56.761107\n",
            "iterations: 1338 | train_loss: 0.05048227 | validation_loss: 0.048061587 | Roc Score: 0.95973355 | Time elapsed: 1:56:01.959293\n",
            "iterations: 1339 | train_loss: 0.03553128 | validation_loss: 0.048139386 | Roc Score: 0.959752 | Time elapsed: 1:56:07.188837\n",
            "iterations: 1340 | train_loss: 0.07578429 | validation_loss: 0.048060004 | Roc Score: 0.9597706 | Time elapsed: 1:56:12.459575\n",
            "iterations: 1341 | train_loss: 0.048946224 | validation_loss: 0.048297834 | Roc Score: 0.95978814 | Time elapsed: 1:56:17.714586\n",
            "iterations: 1342 | train_loss: 0.048639577 | validation_loss: 0.048356894 | Roc Score: 0.95980597 | Time elapsed: 1:56:22.990401\n",
            "iterations: 1343 | train_loss: 0.052722536 | validation_loss: 0.04815289 | Roc Score: 0.9598237 | Time elapsed: 1:56:28.228125\n",
            "iterations: 1344 | train_loss: 0.06296582 | validation_loss: 0.04772623 | Roc Score: 0.9598423 | Time elapsed: 1:56:33.488675\n",
            "iterations: 1345 | train_loss: 0.044874437 | validation_loss: 0.048037425 | Roc Score: 0.9598614 | Time elapsed: 1:56:38.676646\n",
            "iterations: 1346 | train_loss: 0.04728775 | validation_loss: 0.048651002 | Roc Score: 0.9598804 | Time elapsed: 1:56:43.909168\n",
            "iterations: 1347 | train_loss: 0.03639567 | validation_loss: 0.048964355 | Roc Score: 0.9598987 | Time elapsed: 1:56:49.157202\n",
            "iterations: 1348 | train_loss: 0.037563667 | validation_loss: 0.048951168 | Roc Score: 0.95991665 | Time elapsed: 1:56:54.212104\n",
            "iterations: 1349 | train_loss: 0.037881076 | validation_loss: 0.0488604 | Roc Score: 0.9599331 | Time elapsed: 1:56:59.446586\n",
            "iterations: 1350 | train_loss: 0.030992521 | validation_loss: 0.04994394 | Roc Score: 0.95994645 | Time elapsed: 1:57:04.715859\n",
            "iterations: 1351 | train_loss: 0.053415522 | validation_loss: 0.050980788 | Roc Score: 0.95995647 | Time elapsed: 1:57:09.956637\n",
            "iterations: 1352 | train_loss: 0.03156616 | validation_loss: 0.051734805 | Roc Score: 0.95996475 | Time elapsed: 1:57:15.223516\n",
            "iterations: 1353 | train_loss: 0.026990874 | validation_loss: 0.05230063 | Roc Score: 0.9599714 | Time elapsed: 1:57:20.420001\n",
            "iterations: 1354 | train_loss: 0.04758886 | validation_loss: 0.051748812 | Roc Score: 0.9599797 | Time elapsed: 1:57:25.645099\n",
            "iterations: 1355 | train_loss: 0.049432296 | validation_loss: 0.050585467 | Roc Score: 0.9599904 | Time elapsed: 1:57:30.830693\n",
            "iterations: 1356 | train_loss: 0.04223522 | validation_loss: 0.049320027 | Roc Score: 0.9600042 | Time elapsed: 1:57:36.053175\n",
            "iterations: 1357 | train_loss: 0.04038872 | validation_loss: 0.048349097 | Roc Score: 0.96002 | Time elapsed: 1:57:41.297973\n",
            "iterations: 1358 | train_loss: 0.03469155 | validation_loss: 0.04778994 | Roc Score: 0.960037 | Time elapsed: 1:57:46.542148\n",
            "iterations: 1359 | train_loss: 0.05528436 | validation_loss: 0.047400918 | Roc Score: 0.9600564 | Time elapsed: 1:57:51.769472\n",
            "iterations: 1360 | train_loss: 0.034934923 | validation_loss: 0.047940683 | Roc Score: 0.960076 | Time elapsed: 1:57:57.020982\n",
            "iterations: 1361 | train_loss: 0.046847794 | validation_loss: 0.048451114 | Roc Score: 0.96009535 | Time elapsed: 1:58:02.010867\n",
            "iterations: 1362 | train_loss: 0.054405518 | validation_loss: 0.048863925 | Roc Score: 0.96011454 | Time elapsed: 1:58:07.241236\n",
            "iterations: 1363 | train_loss: 0.028327025 | validation_loss: 0.04811992 | Roc Score: 0.96013445 | Time elapsed: 1:58:12.483844\n",
            "iterations: 1364 | train_loss: 0.03975406 | validation_loss: 0.047040794 | Roc Score: 0.96015435 | Time elapsed: 1:58:17.683555\n"
          ],
          "name": "stdout"
        },
        {
          "output_type": "stream",
          "text": [
            "iterations: 1365 | train_loss: 0.04440932 | validation_loss: 0.046431873 | Roc Score: 0.9601742 | Time elapsed: 1:58:22.548865\n",
            "iterations: 1366 | train_loss: 0.046034303 | validation_loss: 0.046409816 | Roc Score: 0.9601927 | Time elapsed: 1:58:27.809761\n",
            "iterations: 1367 | train_loss: 0.056793194 | validation_loss: 0.046670698 | Roc Score: 0.96021086 | Time elapsed: 1:58:33.029814\n",
            "iterations: 1368 | train_loss: 0.04679202 | validation_loss: 0.046738464 | Roc Score: 0.9602285 | Time elapsed: 1:58:38.303510\n",
            "iterations: 1369 | train_loss: 0.06773999 | validation_loss: 0.04663502 | Roc Score: 0.96024704 | Time elapsed: 1:58:43.389510\n",
            "iterations: 1370 | train_loss: 0.068484575 | validation_loss: 0.046966907 | Roc Score: 0.9602661 | Time elapsed: 1:58:48.573675\n",
            "iterations: 1371 | train_loss: 0.058304284 | validation_loss: 0.048728358 | Roc Score: 0.9602862 | Time elapsed: 1:58:53.843545\n",
            "iterations: 1372 | train_loss: 0.063426286 | validation_loss: 0.050921362 | Roc Score: 0.96030486 | Time elapsed: 1:58:59.097408\n",
            "iterations: 1373 | train_loss: 0.04361084 | validation_loss: 0.050336707 | Roc Score: 0.96032363 | Time elapsed: 1:59:04.344612\n",
            "iterations: 1374 | train_loss: 0.03454395 | validation_loss: 0.04845343 | Roc Score: 0.9603435 | Time elapsed: 1:59:09.616799\n",
            "iterations: 1375 | train_loss: 0.050632413 | validation_loss: 0.046987433 | Roc Score: 0.9603638 | Time elapsed: 1:59:14.845323\n",
            "iterations: 1376 | train_loss: 0.04534382 | validation_loss: 0.047527105 | Roc Score: 0.9603813 | Time elapsed: 1:59:20.112091\n",
            "iterations: 1377 | train_loss: 0.058647156 | validation_loss: 0.049389325 | Roc Score: 0.9603968 | Time elapsed: 1:59:25.368651\n",
            "iterations: 1378 | train_loss: 0.04330967 | validation_loss: 0.051022995 | Roc Score: 0.9604104 | Time elapsed: 1:59:30.599169\n",
            "iterations: 1379 | train_loss: 0.05327785 | validation_loss: 0.05101182 | Roc Score: 0.9604242 | Time elapsed: 1:59:35.876598\n",
            "iterations: 1380 | train_loss: 0.03966552 | validation_loss: 0.049835317 | Roc Score: 0.96043956 | Time elapsed: 1:59:41.159854\n",
            "iterations: 1381 | train_loss: 0.03127067 | validation_loss: 0.04845738 | Roc Score: 0.96045583 | Time elapsed: 1:59:46.506561\n",
            "iterations: 1382 | train_loss: 0.03569214 | validation_loss: 0.047457844 | Roc Score: 0.96047336 | Time elapsed: 1:59:51.653518\n",
            "iterations: 1383 | train_loss: 0.03208312 | validation_loss: 0.046998825 | Roc Score: 0.96049106 | Time elapsed: 1:59:56.925760\n",
            "iterations: 1384 | train_loss: 0.054129466 | validation_loss: 0.04672795 | Roc Score: 0.9605097 | Time elapsed: 2:00:02.176938\n",
            "iterations: 1385 | train_loss: 0.02590482 | validation_loss: 0.04663001 | Roc Score: 0.96052784 | Time elapsed: 2:00:07.393718\n",
            "iterations: 1386 | train_loss: 0.051664818 | validation_loss: 0.046551544 | Roc Score: 0.9605468 | Time elapsed: 2:00:12.590789\n",
            "iterations: 1387 | train_loss: 0.043912 | validation_loss: 0.04662795 | Roc Score: 0.9605657 | Time elapsed: 2:00:17.822889\n",
            "iterations: 1388 | train_loss: 0.037681546 | validation_loss: 0.046638038 | Roc Score: 0.96058387 | Time elapsed: 2:00:23.058457\n",
            "iterations: 1389 | train_loss: 0.023518957 | validation_loss: 0.04679846 | Roc Score: 0.960602 | Time elapsed: 2:00:28.331985\n",
            "iterations: 1390 | train_loss: 0.04903925 | validation_loss: 0.046949156 | Roc Score: 0.9606183 | Time elapsed: 2:00:33.577977\n",
            "iterations: 1391 | train_loss: 0.056526624 | validation_loss: 0.04710788 | Roc Score: 0.9606338 | Time elapsed: 2:00:38.836778\n",
            "iterations: 1392 | train_loss: 0.03212734 | validation_loss: 0.047207247 | Roc Score: 0.9606482 | Time elapsed: 2:00:44.057115\n",
            "iterations: 1393 | train_loss: 0.061912943 | validation_loss: 0.0470813 | Roc Score: 0.9606636 | Time elapsed: 2:00:49.266026\n",
            "iterations: 1394 | train_loss: 0.034454256 | validation_loss: 0.047051128 | Roc Score: 0.9606797 | Time elapsed: 2:00:54.527893\n",
            "iterations: 1395 | train_loss: 0.045126904 | validation_loss: 0.046891447 | Roc Score: 0.96069664 | Time elapsed: 2:00:59.783399\n",
            "iterations: 1396 | train_loss: 0.043851607 | validation_loss: 0.046893895 | Roc Score: 0.960714 | Time elapsed: 2:01:05.008665\n",
            "iterations: 1397 | train_loss: 0.031773817 | validation_loss: 0.04689373 | Roc Score: 0.9607319 | Time elapsed: 2:01:10.162038\n",
            "iterations: 1398 | train_loss: 0.043478906 | validation_loss: 0.04674222 | Roc Score: 0.9607497 | Time elapsed: 2:01:15.407739\n",
            "iterations: 1399 | train_loss: 0.047146827 | validation_loss: 0.046587344 | Roc Score: 0.96076715 | Time elapsed: 2:01:20.618765\n",
            "iterations: 1400 | train_loss: 0.07486976 | validation_loss: 0.046559457 | Roc Score: 0.96078485 | Time elapsed: 2:01:25.929762\n",
            "iterations: 1401 | train_loss: 0.051957358 | validation_loss: 0.046591233 | Roc Score: 0.960802 | Time elapsed: 2:01:31.156521\n",
            "iterations: 1402 | train_loss: 0.037809156 | validation_loss: 0.046799503 | Roc Score: 0.9608186 | Time elapsed: 2:01:36.466211\n",
            "iterations: 1403 | train_loss: 0.035218302 | validation_loss: 0.047042117 | Roc Score: 0.9608349 | Time elapsed: 2:01:41.713064\n"
          ],
          "name": "stdout"
        },
        {
          "output_type": "stream",
          "text": [
            "iterations: 1404 | train_loss: 0.04443275 | validation_loss: 0.047057904 | Roc Score: 0.9608517 | Time elapsed: 2:01:46.838403\n",
            "iterations: 1405 | train_loss: 0.05626171 | validation_loss: 0.047371276 | Roc Score: 0.9608687 | Time elapsed: 2:01:52.083320\n",
            "iterations: 1406 | train_loss: 0.03479851 | validation_loss: 0.047804058 | Roc Score: 0.9608855 | Time elapsed: 2:01:57.308697\n",
            "iterations: 1407 | train_loss: 0.067761585 | validation_loss: 0.04781289 | Roc Score: 0.96090287 | Time elapsed: 2:02:02.641066\n",
            "iterations: 1408 | train_loss: 0.0521671 | validation_loss: 0.047839858 | Roc Score: 0.96091944 | Time elapsed: 2:02:07.954218\n",
            "iterations: 1409 | train_loss: 0.06733965 | validation_loss: 0.04756932 | Roc Score: 0.96093637 | Time elapsed: 2:02:13.220763\n",
            "iterations: 1410 | train_loss: 0.040480897 | validation_loss: 0.04764513 | Roc Score: 0.9609526 | Time elapsed: 2:02:18.469434\n",
            "iterations: 1411 | train_loss: 0.05233518 | validation_loss: 0.04787673 | Roc Score: 0.9609681 | Time elapsed: 2:02:23.747576\n",
            "iterations: 1412 | train_loss: 0.06067529 | validation_loss: 0.047802236 | Roc Score: 0.9609846 | Time elapsed: 2:02:29.011863\n",
            "iterations: 1413 | train_loss: 0.051933516 | validation_loss: 0.047493886 | Roc Score: 0.9610012 | Time elapsed: 2:02:34.239042\n",
            "iterations: 1414 | train_loss: 0.045995895 | validation_loss: 0.047127668 | Roc Score: 0.96101844 | Time elapsed: 2:02:39.508513\n",
            "iterations: 1415 | train_loss: 0.03924118 | validation_loss: 0.046965145 | Roc Score: 0.9610357 | Time elapsed: 2:02:44.750811\n",
            "iterations: 1416 | train_loss: 0.034838535 | validation_loss: 0.046894327 | Roc Score: 0.9610535 | Time elapsed: 2:02:50.001008\n",
            "iterations: 1417 | train_loss: 0.04054437 | validation_loss: 0.046934597 | Roc Score: 0.9610709 | Time elapsed: 2:02:55.219090\n",
            "iterations: 1418 | train_loss: 0.05145423 | validation_loss: 0.04689781 | Roc Score: 0.9610884 | Time elapsed: 2:03:00.441545\n",
            "iterations: 1419 | train_loss: 0.03465931 | validation_loss: 0.047073178 | Roc Score: 0.96110535 | Time elapsed: 2:03:05.688592\n",
            "iterations: 1420 | train_loss: 0.033545703 | validation_loss: 0.04732345 | Roc Score: 0.961122 | Time elapsed: 2:03:10.954575\n",
            "iterations: 1421 | train_loss: 0.03452988 | validation_loss: 0.047661047 | Roc Score: 0.9611383 | Time elapsed: 2:03:16.208106\n",
            "iterations: 1422 | train_loss: 0.0543829 | validation_loss: 0.047448754 | Roc Score: 0.9611551 | Time elapsed: 2:03:21.441026\n",
            "iterations: 1423 | train_loss: 0.033842646 | validation_loss: 0.047371212 | Roc Score: 0.9611719 | Time elapsed: 2:03:26.648678\n",
            "iterations: 1424 | train_loss: 0.030369429 | validation_loss: 0.04739699 | Roc Score: 0.9611886 | Time elapsed: 2:03:31.852383\n",
            "iterations: 1425 | train_loss: 0.05062683 | validation_loss: 0.047309335 | Roc Score: 0.96120495 | Time elapsed: 2:03:37.103177\n",
            "iterations: 1426 | train_loss: 0.046725046 | validation_loss: 0.047381956 | Roc Score: 0.9612214 | Time elapsed: 2:03:42.395952\n",
            "iterations: 1427 | train_loss: 0.03514365 | validation_loss: 0.04758238 | Roc Score: 0.96123725 | Time elapsed: 2:03:47.647870\n",
            "iterations: 1428 | train_loss: 0.03453917 | validation_loss: 0.047852103 | Roc Score: 0.961253 | Time elapsed: 2:03:52.860907\n",
            "iterations: 1429 | train_loss: 0.04979804 | validation_loss: 0.048306633 | Roc Score: 0.9612683 | Time elapsed: 2:03:58.090897\n",
            "iterations: 1430 | train_loss: 0.050188977 | validation_loss: 0.049105536 | Roc Score: 0.9612833 | Time elapsed: 2:04:03.340889\n",
            "iterations: 1431 | train_loss: 0.05103593 | validation_loss: 0.050211295 | Roc Score: 0.9612979 | Time elapsed: 2:04:08.596151\n",
            "iterations: 1432 | train_loss: 0.04740764 | validation_loss: 0.050986238 | Roc Score: 0.9613129 | Time elapsed: 2:04:13.870166\n",
            "iterations: 1433 | train_loss: 0.043684125 | validation_loss: 0.051555473 | Roc Score: 0.96132785 | Time elapsed: 2:04:19.106485\n",
            "iterations: 1434 | train_loss: 0.03534251 | validation_loss: 0.050655052 | Roc Score: 0.9613428 | Time elapsed: 2:04:24.310938\n",
            "iterations: 1435 | train_loss: 0.03375138 | validation_loss: 0.04921732 | Roc Score: 0.9613575 | Time elapsed: 2:04:29.556668\n",
            "iterations: 1436 | train_loss: 0.04694137 | validation_loss: 0.04854529 | Roc Score: 0.9613705 | Time elapsed: 2:04:34.814276\n",
            "iterations: 1437 | train_loss: 0.049473837 | validation_loss: 0.04848338 | Roc Score: 0.96138334 | Time elapsed: 2:04:40.057837\n",
            "iterations: 1438 | train_loss: 0.043160148 | validation_loss: 0.0482305 | Roc Score: 0.96139663 | Time elapsed: 2:04:45.271791\n",
            "iterations: 1439 | train_loss: 0.040859237 | validation_loss: 0.04862086 | Roc Score: 0.9614102 | Time elapsed: 2:04:50.544804\n",
            "iterations: 1440 | train_loss: 0.050255056 | validation_loss: 0.047927294 | Roc Score: 0.96142507 | Time elapsed: 2:04:55.775434\n",
            "iterations: 1441 | train_loss: 0.04413443 | validation_loss: 0.047943007 | Roc Score: 0.9614418 | Time elapsed: 2:05:01.062917\n",
            "iterations: 1442 | train_loss: 0.05171965 | validation_loss: 0.047471628 | Roc Score: 0.96145827 | Time elapsed: 2:05:06.343941\n"
          ],
          "name": "stdout"
        },
        {
          "output_type": "stream",
          "text": [
            "iterations: 1443 | train_loss: 0.0530833 | validation_loss: 0.04819783 | Roc Score: 0.9614721 | Time elapsed: 2:05:11.759224\n",
            "iterations: 1444 | train_loss: 0.05318283 | validation_loss: 0.048785612 | Roc Score: 0.96148545 | Time elapsed: 2:05:16.991261\n",
            "iterations: 1445 | train_loss: 0.049684767 | validation_loss: 0.0482133 | Roc Score: 0.96149975 | Time elapsed: 2:05:22.268882\n",
            "iterations: 1446 | train_loss: 0.046922967 | validation_loss: 0.04721012 | Roc Score: 0.9615148 | Time elapsed: 2:05:27.479481\n",
            "iterations: 1447 | train_loss: 0.042404883 | validation_loss: 0.04681649 | Roc Score: 0.96153057 | Time elapsed: 2:05:32.685276\n",
            "iterations: 1448 | train_loss: 0.046244007 | validation_loss: 0.04693159 | Roc Score: 0.96154726 | Time elapsed: 2:05:37.916649\n",
            "iterations: 1449 | train_loss: 0.039304074 | validation_loss: 0.04792719 | Roc Score: 0.9615638 | Time elapsed: 2:05:43.116346\n",
            "iterations: 1450 | train_loss: 0.042240027 | validation_loss: 0.047452517 | Roc Score: 0.96158063 | Time elapsed: 2:05:48.382639\n",
            "iterations: 1451 | train_loss: 0.028622134 | validation_loss: 0.04662679 | Roc Score: 0.96159726 | Time elapsed: 2:05:53.646889\n",
            "iterations: 1452 | train_loss: 0.04607709 | validation_loss: 0.04641524 | Roc Score: 0.9616134 | Time elapsed: 2:05:58.901541\n",
            "iterations: 1453 | train_loss: 0.05156373 | validation_loss: 0.046736695 | Roc Score: 0.9616281 | Time elapsed: 2:06:04.152557\n",
            "iterations: 1454 | train_loss: 0.03659695 | validation_loss: 0.04744312 | Roc Score: 0.9616413 | Time elapsed: 2:06:09.422507\n",
            "iterations: 1455 | train_loss: 0.043366544 | validation_loss: 0.048534233 | Roc Score: 0.9616523 | Time elapsed: 2:06:14.621291\n",
            "iterations: 1456 | train_loss: 0.046721164 | validation_loss: 0.048934214 | Roc Score: 0.9616623 | Time elapsed: 2:06:19.868854\n",
            "iterations: 1457 | train_loss: 0.031210925 | validation_loss: 0.04913915 | Roc Score: 0.96167207 | Time elapsed: 2:06:25.159501\n",
            "iterations: 1458 | train_loss: 0.043431696 | validation_loss: 0.04872243 | Roc Score: 0.9616831 | Time elapsed: 2:06:30.391063\n",
            "iterations: 1459 | train_loss: 0.055051867 | validation_loss: 0.0476938 | Roc Score: 0.96169585 | Time elapsed: 2:06:35.639670\n",
            "iterations: 1460 | train_loss: 0.036859404 | validation_loss: 0.04722254 | Roc Score: 0.96171063 | Time elapsed: 2:06:40.879705\n",
            "iterations: 1461 | train_loss: 0.040949356 | validation_loss: 0.047472678 | Roc Score: 0.9617254 | Time elapsed: 2:06:46.159130\n",
            "iterations: 1462 | train_loss: 0.037346125 | validation_loss: 0.04717525 | Roc Score: 0.96174055 | Time elapsed: 2:06:51.400541\n",
            "iterations: 1463 | train_loss: 0.049174037 | validation_loss: 0.047168687 | Roc Score: 0.9617559 | Time elapsed: 2:06:56.628058\n",
            "iterations: 1464 | train_loss: 0.039057948 | validation_loss: 0.047385234 | Roc Score: 0.96177036 | Time elapsed: 2:07:01.843374\n",
            "iterations: 1465 | train_loss: 0.036193915 | validation_loss: 0.04772155 | Roc Score: 0.96178406 | Time elapsed: 2:07:07.052515\n",
            "iterations: 1466 | train_loss: 0.038700648 | validation_loss: 0.047963943 | Roc Score: 0.96179754 | Time elapsed: 2:07:12.256880\n",
            "iterations: 1467 | train_loss: 0.050828706 | validation_loss: 0.048116375 | Roc Score: 0.9618107 | Time elapsed: 2:07:17.487964\n",
            "iterations: 1468 | train_loss: 0.039137635 | validation_loss: 0.048251897 | Roc Score: 0.96182364 | Time elapsed: 2:07:22.726956\n",
            "iterations: 1469 | train_loss: 0.03905627 | validation_loss: 0.048339464 | Roc Score: 0.9618366 | Time elapsed: 2:07:27.958899\n",
            "iterations: 1470 | train_loss: 0.039321274 | validation_loss: 0.048418835 | Roc Score: 0.961849 | Time elapsed: 2:07:33.201749\n",
            "iterations: 1471 | train_loss: 0.04525729 | validation_loss: 0.048664287 | Roc Score: 0.96186 | Time elapsed: 2:07:38.486813\n",
            "iterations: 1472 | train_loss: 0.053628266 | validation_loss: 0.04894262 | Roc Score: 0.96187043 | Time elapsed: 2:07:43.753413\n",
            "iterations: 1473 | train_loss: 0.0498539 | validation_loss: 0.049135517 | Roc Score: 0.9618798 | Time elapsed: 2:07:49.043168\n",
            "iterations: 1474 | train_loss: 0.049977943 | validation_loss: 0.048450857 | Roc Score: 0.96189165 | Time elapsed: 2:07:54.301131\n",
            "iterations: 1475 | train_loss: 0.026511023 | validation_loss: 0.04809849 | Roc Score: 0.9619041 | Time elapsed: 2:07:59.529534\n",
            "iterations: 1476 | train_loss: 0.0399172 | validation_loss: 0.04791848 | Roc Score: 0.9619163 | Time elapsed: 2:08:04.753817\n",
            "iterations: 1477 | train_loss: 0.043962564 | validation_loss: 0.048020747 | Roc Score: 0.961929 | Time elapsed: 2:08:09.992684\n",
            "iterations: 1478 | train_loss: 0.058939032 | validation_loss: 0.04786217 | Roc Score: 0.96194166 | Time elapsed: 2:08:15.311793\n",
            "iterations: 1479 | train_loss: 0.041934922 | validation_loss: 0.047777683 | Roc Score: 0.9619544 | Time elapsed: 2:08:20.440698\n",
            "iterations: 1480 | train_loss: 0.04918455 | validation_loss: 0.047387876 | Roc Score: 0.9619682 | Time elapsed: 2:08:25.671070\n",
            "iterations: 1481 | train_loss: 0.027134018 | validation_loss: 0.047279168 | Roc Score: 0.96198183 | Time elapsed: 2:08:30.686772\n"
          ],
          "name": "stdout"
        },
        {
          "output_type": "stream",
          "text": [
            "iterations: 1482 | train_loss: 0.043211486 | validation_loss: 0.04735881 | Roc Score: 0.96199495 | Time elapsed: 2:08:35.917935\n",
            "iterations: 1483 | train_loss: 0.031417403 | validation_loss: 0.047540326 | Roc Score: 0.9620073 | Time elapsed: 2:08:40.893008\n",
            "iterations: 1484 | train_loss: 0.025941564 | validation_loss: 0.04818781 | Roc Score: 0.9620186 | Time elapsed: 2:08:46.208997\n",
            "iterations: 1485 | train_loss: 0.033792354 | validation_loss: 0.049036715 | Roc Score: 0.9620286 | Time elapsed: 2:08:51.496593\n",
            "iterations: 1486 | train_loss: 0.031670995 | validation_loss: 0.050090436 | Roc Score: 0.9620361 | Time elapsed: 2:08:56.761806\n",
            "iterations: 1487 | train_loss: 0.04016327 | validation_loss: 0.050884616 | Roc Score: 0.9620422 | Time elapsed: 2:09:02.093971\n",
            "iterations: 1488 | train_loss: 0.039916325 | validation_loss: 0.051662426 | Roc Score: 0.9620475 | Time elapsed: 2:09:07.345680\n",
            "iterations: 1489 | train_loss: 0.025701849 | validation_loss: 0.052228205 | Roc Score: 0.9620523 | Time elapsed: 2:09:12.644301\n",
            "iterations: 1490 | train_loss: 0.0569627 | validation_loss: 0.05230725 | Roc Score: 0.96205705 | Time elapsed: 2:09:17.893404\n",
            "iterations: 1491 | train_loss: 0.0382503 | validation_loss: 0.051457193 | Roc Score: 0.9620641 | Time elapsed: 2:09:23.162400\n",
            "iterations: 1492 | train_loss: 0.04219186 | validation_loss: 0.05014424 | Roc Score: 0.9620739 | Time elapsed: 2:09:28.374523\n",
            "iterations: 1493 | train_loss: 0.029485334 | validation_loss: 0.049746543 | Roc Score: 0.96208584 | Time elapsed: 2:09:33.653279\n",
            "iterations: 1494 | train_loss: 0.04374967 | validation_loss: 0.04994082 | Roc Score: 0.96210027 | Time elapsed: 2:09:38.894264\n",
            "iterations: 1495 | train_loss: 0.030890923 | validation_loss: 0.0506144 | Roc Score: 0.96211493 | Time elapsed: 2:09:44.127621\n",
            "iterations: 1496 | train_loss: 0.038546097 | validation_loss: 0.050270624 | Roc Score: 0.9621298 | Time elapsed: 2:09:49.395310\n",
            "iterations: 1497 | train_loss: 0.047155835 | validation_loss: 0.04868143 | Roc Score: 0.96214443 | Time elapsed: 2:09:54.701364\n",
            "iterations: 1498 | train_loss: 0.048031412 | validation_loss: 0.04803009 | Roc Score: 0.9621588 | Time elapsed: 2:09:59.931222\n",
            "iterations: 1499 | train_loss: 0.048426043 | validation_loss: 0.048649196 | Roc Score: 0.9621701 | Time elapsed: 2:10:05.149079\n",
            "iterations: 1500 | train_loss: 0.048307102 | validation_loss: 0.04973232 | Roc Score: 0.9621801 | Time elapsed: 2:10:10.409170\n",
            "iterations: 1501 | train_loss: 0.05839802 | validation_loss: 0.05029119 | Roc Score: 0.96218973 | Time elapsed: 2:10:15.692764\n",
            "iterations: 1502 | train_loss: 0.028431864 | validation_loss: 0.050499678 | Roc Score: 0.9621993 | Time elapsed: 2:10:20.963917\n",
            "iterations: 1503 | train_loss: 0.02532073 | validation_loss: 0.050915 | Roc Score: 0.96220803 | Time elapsed: 2:10:26.203539\n",
            "iterations: 1504 | train_loss: 0.039697737 | validation_loss: 0.050389394 | Roc Score: 0.962217 | Time elapsed: 2:10:31.450456\n",
            "iterations: 1505 | train_loss: 0.040971506 | validation_loss: 0.049487293 | Roc Score: 0.9622265 | Time elapsed: 2:10:36.707448\n",
            "iterations: 1506 | train_loss: 0.04800082 | validation_loss: 0.04907629 | Roc Score: 0.9622363 | Time elapsed: 2:10:41.883645\n",
            "iterations: 1507 | train_loss: 0.029988976 | validation_loss: 0.04874492 | Roc Score: 0.9622464 | Time elapsed: 2:10:47.109623\n",
            "iterations: 1508 | train_loss: 0.04257914 | validation_loss: 0.04863113 | Roc Score: 0.96225744 | Time elapsed: 2:10:52.235367\n",
            "iterations: 1509 | train_loss: 0.036247693 | validation_loss: 0.048708886 | Roc Score: 0.9622689 | Time elapsed: 2:10:57.506381\n",
            "iterations: 1510 | train_loss: 0.064130284 | validation_loss: 0.04887226 | Roc Score: 0.96228117 | Time elapsed: 2:11:02.680883\n",
            "iterations: 1511 | train_loss: 0.028431721 | validation_loss: 0.048835922 | Roc Score: 0.9622947 | Time elapsed: 2:11:07.935973\n",
            "iterations: 1512 | train_loss: 0.058902398 | validation_loss: 0.0489731 | Roc Score: 0.96230847 | Time elapsed: 2:11:13.208596\n",
            "iterations: 1513 | train_loss: 0.05732521 | validation_loss: 0.04940291 | Roc Score: 0.9623229 | Time elapsed: 2:11:18.413521\n",
            "iterations: 1514 | train_loss: 0.049468208 | validation_loss: 0.049496245 | Roc Score: 0.96233773 | Time elapsed: 2:11:23.468099\n",
            "iterations: 1515 | train_loss: 0.055383287 | validation_loss: 0.049287908 | Roc Score: 0.9623529 | Time elapsed: 2:11:28.648309\n",
            "iterations: 1516 | train_loss: 0.04493109 | validation_loss: 0.048312403 | Roc Score: 0.9623681 | Time elapsed: 2:11:33.896776\n",
            "iterations: 1517 | train_loss: 0.041481853 | validation_loss: 0.047653664 | Roc Score: 0.96238315 | Time elapsed: 2:11:39.146181\n",
            "iterations: 1518 | train_loss: 0.039256245 | validation_loss: 0.04736543 | Roc Score: 0.9623973 | Time elapsed: 2:11:44.406445\n",
            "iterations: 1519 | train_loss: 0.046328276 | validation_loss: 0.047513407 | Roc Score: 0.96241105 | Time elapsed: 2:11:49.649367\n",
            "iterations: 1520 | train_loss: 0.04400464 | validation_loss: 0.04782289 | Roc Score: 0.9624237 | Time elapsed: 2:11:54.948469\n"
          ],
          "name": "stdout"
        },
        {
          "output_type": "stream",
          "text": [
            "iterations: 1521 | train_loss: 0.049640473 | validation_loss: 0.04794967 | Roc Score: 0.9624362 | Time elapsed: 2:12:00.186327\n",
            "iterations: 1522 | train_loss: 0.042112045 | validation_loss: 0.047871817 | Roc Score: 0.962449 | Time elapsed: 2:12:05.448858\n",
            "iterations: 1523 | train_loss: 0.041499563 | validation_loss: 0.04772694 | Roc Score: 0.96246195 | Time elapsed: 2:12:10.730332\n",
            "iterations: 1524 | train_loss: 0.034868997 | validation_loss: 0.04770734 | Roc Score: 0.9624752 | Time elapsed: 2:12:15.887934\n",
            "iterations: 1525 | train_loss: 0.04379408 | validation_loss: 0.047744967 | Roc Score: 0.9624886 | Time elapsed: 2:12:21.174381\n",
            "iterations: 1526 | train_loss: 0.045306887 | validation_loss: 0.047978263 | Roc Score: 0.9625018 | Time elapsed: 2:12:26.418310\n",
            "iterations: 1527 | train_loss: 0.041933548 | validation_loss: 0.048293322 | Roc Score: 0.9625155 | Time elapsed: 2:12:31.636113\n",
            "iterations: 1528 | train_loss: 0.04926119 | validation_loss: 0.048777476 | Roc Score: 0.96252877 | Time elapsed: 2:12:36.911721\n",
            "iterations: 1529 | train_loss: 0.047942996 | validation_loss: 0.048879635 | Roc Score: 0.9625417 | Time elapsed: 2:12:42.180273\n",
            "iterations: 1530 | train_loss: 0.04399161 | validation_loss: 0.048976224 | Roc Score: 0.96255493 | Time elapsed: 2:12:47.406557\n",
            "iterations: 1531 | train_loss: 0.041176148 | validation_loss: 0.048721705 | Roc Score: 0.9625682 | Time elapsed: 2:12:52.673854\n",
            "iterations: 1532 | train_loss: 0.03442093 | validation_loss: 0.048121035 | Roc Score: 0.9625818 | Time elapsed: 2:12:57.907924\n",
            "iterations: 1533 | train_loss: 0.038063083 | validation_loss: 0.047936272 | Roc Score: 0.9625947 | Time elapsed: 2:13:03.179221\n",
            "iterations: 1534 | train_loss: 0.038911983 | validation_loss: 0.048355002 | Roc Score: 0.9626057 | Time elapsed: 2:13:08.433488\n",
            "iterations: 1535 | train_loss: 0.029915454 | validation_loss: 0.049296346 | Roc Score: 0.9626147 | Time elapsed: 2:13:13.617397\n",
            "iterations: 1536 | train_loss: 0.035777386 | validation_loss: 0.050117746 | Roc Score: 0.96262133 | Time elapsed: 2:13:18.900450\n",
            "iterations: 1537 | train_loss: 0.03616463 | validation_loss: 0.050453078 | Roc Score: 0.9626276 | Time elapsed: 2:13:24.157333\n",
            "iterations: 1538 | train_loss: 0.033509012 | validation_loss: 0.04988818 | Roc Score: 0.9626347 | Time elapsed: 2:13:29.414287\n",
            "iterations: 1539 | train_loss: 0.049087193 | validation_loss: 0.04919844 | Roc Score: 0.96264404 | Time elapsed: 2:13:34.615407\n",
            "iterations: 1540 | train_loss: 0.037991196 | validation_loss: 0.04892523 | Roc Score: 0.9626553 | Time elapsed: 2:13:39.803307\n",
            "iterations: 1541 | train_loss: 0.043339755 | validation_loss: 0.048797123 | Roc Score: 0.9626678 | Time elapsed: 2:13:45.011125\n",
            "iterations: 1542 | train_loss: 0.03901482 | validation_loss: 0.048910867 | Roc Score: 0.96268165 | Time elapsed: 2:13:50.203373\n",
            "iterations: 1543 | train_loss: 0.038732547 | validation_loss: 0.04931231 | Roc Score: 0.9626951 | Time elapsed: 2:13:55.443809\n",
            "iterations: 1544 | train_loss: 0.052768797 | validation_loss: 0.04887616 | Roc Score: 0.9627088 | Time elapsed: 2:14:00.698024\n",
            "iterations: 1545 | train_loss: 0.04609469 | validation_loss: 0.048259582 | Roc Score: 0.9627221 | Time elapsed: 2:14:05.833540\n",
            "iterations: 1546 | train_loss: 0.043328475 | validation_loss: 0.047864094 | Roc Score: 0.9627342 | Time elapsed: 2:14:11.087376\n",
            "iterations: 1547 | train_loss: 0.043296594 | validation_loss: 0.048181187 | Roc Score: 0.9627457 | Time elapsed: 2:14:16.331841\n",
            "iterations: 1548 | train_loss: 0.03227818 | validation_loss: 0.04842791 | Roc Score: 0.96275693 | Time elapsed: 2:14:21.549307\n",
            "iterations: 1549 | train_loss: 0.052837666 | validation_loss: 0.04853692 | Roc Score: 0.9627678 | Time elapsed: 2:14:26.782130\n",
            "iterations: 1550 | train_loss: 0.06878429 | validation_loss: 0.047889963 | Roc Score: 0.9627802 | Time elapsed: 2:14:32.011808\n",
            "iterations: 1551 | train_loss: 0.06768496 | validation_loss: 0.047645956 | Roc Score: 0.96279424 | Time elapsed: 2:14:37.252434\n",
            "iterations: 1552 | train_loss: 0.04567693 | validation_loss: 0.047993645 | Roc Score: 0.96280843 | Time elapsed: 2:14:42.463361\n",
            "iterations: 1553 | train_loss: 0.050200604 | validation_loss: 0.048321787 | Roc Score: 0.9628223 | Time elapsed: 2:14:47.724786\n",
            "iterations: 1554 | train_loss: 0.048970055 | validation_loss: 0.048292957 | Roc Score: 0.96283597 | Time elapsed: 2:14:52.962658\n",
            "iterations: 1555 | train_loss: 0.04056789 | validation_loss: 0.047842897 | Roc Score: 0.9628501 | Time elapsed: 2:14:58.177561\n",
            "iterations: 1556 | train_loss: 0.046019346 | validation_loss: 0.047655698 | Roc Score: 0.9628639 | Time elapsed: 2:15:03.365890\n",
            "iterations: 1557 | train_loss: 0.052235547 | validation_loss: 0.047915213 | Roc Score: 0.9628765 | Time elapsed: 2:15:08.469482\n",
            "iterations: 1558 | train_loss: 0.02560491 | validation_loss: 0.048562787 | Roc Score: 0.962887 | Time elapsed: 2:15:13.656240\n",
            "iterations: 1559 | train_loss: 0.033446617 | validation_loss: 0.049310196 | Roc Score: 0.96289647 | Time elapsed: 2:15:18.874624\n"
          ],
          "name": "stdout"
        },
        {
          "output_type": "stream",
          "text": [
            "iterations: 1560 | train_loss: 0.03841248 | validation_loss: 0.04990081 | Roc Score: 0.9629053 | Time elapsed: 2:15:24.148468\n",
            "iterations: 1561 | train_loss: 0.03554579 | validation_loss: 0.049982585 | Roc Score: 0.9629128 | Time elapsed: 2:15:29.401924\n",
            "iterations: 1562 | train_loss: 0.033056162 | validation_loss: 0.049736112 | Roc Score: 0.96292084 | Time elapsed: 2:15:34.614203\n",
            "iterations: 1563 | train_loss: 0.04615987 | validation_loss: 0.049226202 | Roc Score: 0.96292967 | Time elapsed: 2:15:39.825130\n",
            "iterations: 1564 | train_loss: 0.061080787 | validation_loss: 0.048770294 | Roc Score: 0.9629398 | Time elapsed: 2:15:45.069525\n",
            "iterations: 1565 | train_loss: 0.032293204 | validation_loss: 0.049017753 | Roc Score: 0.9629512 | Time elapsed: 2:15:50.262856\n",
            "iterations: 1566 | train_loss: 0.035908893 | validation_loss: 0.04937896 | Roc Score: 0.9629622 | Time elapsed: 2:15:55.492270\n",
            "iterations: 1567 | train_loss: 0.020443164 | validation_loss: 0.049600624 | Roc Score: 0.96297306 | Time elapsed: 2:16:00.736854\n",
            "iterations: 1568 | train_loss: 0.04330659 | validation_loss: 0.04942203 | Roc Score: 0.96298486 | Time elapsed: 2:16:05.974323\n",
            "iterations: 1569 | train_loss: 0.053895265 | validation_loss: 0.04942018 | Roc Score: 0.9629972 | Time elapsed: 2:16:11.217131\n",
            "iterations: 1570 | train_loss: 0.044474177 | validation_loss: 0.04913907 | Roc Score: 0.96301 | Time elapsed: 2:16:16.453984\n",
            "iterations: 1571 | train_loss: 0.053281415 | validation_loss: 0.048366398 | Roc Score: 0.96302384 | Time elapsed: 2:16:21.546895\n",
            "iterations: 1572 | train_loss: 0.044933286 | validation_loss: 0.0475272 | Roc Score: 0.9630372 | Time elapsed: 2:16:26.763295\n",
            "iterations: 1573 | train_loss: 0.062085025 | validation_loss: 0.047314245 | Roc Score: 0.9630506 | Time elapsed: 2:16:31.969656\n",
            "iterations: 1574 | train_loss: 0.050316226 | validation_loss: 0.047265634 | Roc Score: 0.96306384 | Time elapsed: 2:16:37.252462\n",
            "iterations: 1575 | train_loss: 0.05128481 | validation_loss: 0.047331285 | Roc Score: 0.96307725 | Time elapsed: 2:16:42.484434\n",
            "iterations: 1576 | train_loss: 0.04805845 | validation_loss: 0.047423624 | Roc Score: 0.963091 | Time elapsed: 2:16:47.637120\n",
            "iterations: 1577 | train_loss: 0.037700247 | validation_loss: 0.047453612 | Roc Score: 0.963105 | Time elapsed: 2:16:52.915510\n",
            "iterations: 1578 | train_loss: 0.040225588 | validation_loss: 0.047468558 | Roc Score: 0.96311915 | Time elapsed: 2:16:58.157927\n",
            "iterations: 1579 | train_loss: 0.050595455 | validation_loss: 0.04742762 | Roc Score: 0.9631334 | Time elapsed: 2:17:03.416355\n",
            "iterations: 1580 | train_loss: 0.04126855 | validation_loss: 0.04765896 | Roc Score: 0.96314746 | Time elapsed: 2:17:08.675185\n",
            "iterations: 1581 | train_loss: 0.051361874 | validation_loss: 0.04833199 | Roc Score: 0.963161 | Time elapsed: 2:17:13.878633\n",
            "iterations: 1582 | train_loss: 0.05111808 | validation_loss: 0.04855904 | Roc Score: 0.9631741 | Time elapsed: 2:17:19.142012\n",
            "iterations: 1583 | train_loss: 0.03564051 | validation_loss: 0.04846784 | Roc Score: 0.96318775 | Time elapsed: 2:17:24.388117\n",
            "iterations: 1584 | train_loss: 0.038069576 | validation_loss: 0.048048027 | Roc Score: 0.96320146 | Time elapsed: 2:17:29.634455\n",
            "iterations: 1585 | train_loss: 0.04948077 | validation_loss: 0.047649678 | Roc Score: 0.9632146 | Time elapsed: 2:17:34.710197\n",
            "iterations: 1586 | train_loss: 0.036203098 | validation_loss: 0.04819346 | Roc Score: 0.9632253 | Time elapsed: 2:17:39.954806\n",
            "iterations: 1587 | train_loss: 0.05733383 | validation_loss: 0.049063686 | Roc Score: 0.9632339 | Time elapsed: 2:17:45.149345\n",
            "iterations: 1588 | train_loss: 0.03844078 | validation_loss: 0.049255386 | Roc Score: 0.9632413 | Time elapsed: 2:17:50.401921\n",
            "iterations: 1589 | train_loss: 0.044632208 | validation_loss: 0.04907742 | Roc Score: 0.96324915 | Time elapsed: 2:17:55.627665\n",
            "iterations: 1590 | train_loss: 0.04296382 | validation_loss: 0.04840696 | Roc Score: 0.96325785 | Time elapsed: 2:18:00.851867\n",
            "iterations: 1591 | train_loss: 0.10248657 | validation_loss: 0.04745627 | Roc Score: 0.96326935 | Time elapsed: 2:18:06.142160\n",
            "iterations: 1592 | train_loss: 0.060729 | validation_loss: 0.04772265 | Roc Score: 0.96328235 | Time elapsed: 2:18:11.393107\n",
            "iterations: 1593 | train_loss: 0.031209582 | validation_loss: 0.048293263 | Roc Score: 0.9632961 | Time elapsed: 2:18:16.636322\n",
            "iterations: 1594 | train_loss: 0.05114373 | validation_loss: 0.048123248 | Roc Score: 0.9633097 | Time elapsed: 2:18:21.860659\n",
            "iterations: 1595 | train_loss: 0.04291316 | validation_loss: 0.047867633 | Roc Score: 0.96332324 | Time elapsed: 2:18:27.103348\n",
            "iterations: 1596 | train_loss: 0.04273581 | validation_loss: 0.04728278 | Roc Score: 0.9633367 | Time elapsed: 2:18:32.319175\n",
            "iterations: 1597 | train_loss: 0.028496176 | validation_loss: 0.046960153 | Roc Score: 0.9633501 | Time elapsed: 2:18:37.563923\n",
            "iterations: 1598 | train_loss: 0.049327604 | validation_loss: 0.046985317 | Roc Score: 0.96336293 | Time elapsed: 2:18:42.786531\n"
          ],
          "name": "stdout"
        },
        {
          "output_type": "stream",
          "text": [
            "iterations: 1599 | train_loss: 0.046610333 | validation_loss: 0.047224414 | Roc Score: 0.9633753 | Time elapsed: 2:18:48.016852\n",
            "iterations: 1600 | train_loss: 0.037405286 | validation_loss: 0.047512125 | Roc Score: 0.9633873 | Time elapsed: 2:18:53.249752\n",
            "iterations: 1601 | train_loss: 0.046117693 | validation_loss: 0.04730724 | Roc Score: 0.96339935 | Time elapsed: 2:18:58.480916\n",
            "iterations: 1602 | train_loss: 0.03597876 | validation_loss: 0.047315065 | Roc Score: 0.96341074 | Time elapsed: 2:19:03.703263\n",
            "iterations: 1603 | train_loss: 0.04470094 | validation_loss: 0.047456488 | Roc Score: 0.9634214 | Time elapsed: 2:19:08.889778\n",
            "iterations: 1604 | train_loss: 0.040429007 | validation_loss: 0.047529038 | Roc Score: 0.9634318 | Time elapsed: 2:19:14.086076\n",
            "iterations: 1605 | train_loss: 0.04578108 | validation_loss: 0.0477401 | Roc Score: 0.963442 | Time elapsed: 2:19:19.290729\n",
            "iterations: 1606 | train_loss: 0.02894927 | validation_loss: 0.047692083 | Roc Score: 0.96345264 | Time elapsed: 2:19:24.500579\n",
            "iterations: 1607 | train_loss: 0.044893134 | validation_loss: 0.047729414 | Roc Score: 0.96346384 | Time elapsed: 2:19:29.750640\n",
            "iterations: 1608 | train_loss: 0.04859588 | validation_loss: 0.048008196 | Roc Score: 0.96347517 | Time elapsed: 2:19:34.981166\n",
            "iterations: 1609 | train_loss: 0.048084598 | validation_loss: 0.04853127 | Roc Score: 0.9634868 | Time elapsed: 2:19:40.088892\n",
            "iterations: 1610 | train_loss: 0.04635978 | validation_loss: 0.04901297 | Roc Score: 0.9634991 | Time elapsed: 2:19:45.362644\n",
            "iterations: 1611 | train_loss: 0.057250842 | validation_loss: 0.04936867 | Roc Score: 0.96351194 | Time elapsed: 2:19:50.585529\n",
            "iterations: 1612 | train_loss: 0.04292711 | validation_loss: 0.049040567 | Roc Score: 0.96352446 | Time elapsed: 2:19:55.836861\n",
            "iterations: 1613 | train_loss: 0.027702475 | validation_loss: 0.047905676 | Roc Score: 0.9635362 | Time elapsed: 2:20:01.055299\n",
            "iterations: 1614 | train_loss: 0.041828815 | validation_loss: 0.047462013 | Roc Score: 0.9635475 | Time elapsed: 2:20:06.317793\n",
            "iterations: 1615 | train_loss: 0.035065487 | validation_loss: 0.047722276 | Roc Score: 0.9635581 | Time elapsed: 2:20:11.239553\n",
            "iterations: 1616 | train_loss: 0.037802972 | validation_loss: 0.048449762 | Roc Score: 0.96356624 | Time elapsed: 2:20:16.449221\n",
            "iterations: 1617 | train_loss: 0.05786705 | validation_loss: 0.049070157 | Roc Score: 0.96357334 | Time elapsed: 2:20:21.649811\n",
            "iterations: 1618 | train_loss: 0.06313005 | validation_loss: 0.04908128 | Roc Score: 0.96358067 | Time elapsed: 2:20:26.646820\n",
            "iterations: 1619 | train_loss: 0.043699212 | validation_loss: 0.04909653 | Roc Score: 0.9635891 | Time elapsed: 2:20:31.873301\n",
            "iterations: 1620 | train_loss: 0.02941778 | validation_loss: 0.04976963 | Roc Score: 0.96359766 | Time elapsed: 2:20:37.118520\n",
            "iterations: 1621 | train_loss: 0.04952674 | validation_loss: 0.050846756 | Roc Score: 0.96360666 | Time elapsed: 2:20:42.311009\n",
            "iterations: 1622 | train_loss: 0.04683766 | validation_loss: 0.051492654 | Roc Score: 0.96361554 | Time elapsed: 2:20:47.572066\n",
            "iterations: 1623 | train_loss: 0.044035275 | validation_loss: 0.051326144 | Roc Score: 0.9636257 | Time elapsed: 2:20:52.810284\n",
            "iterations: 1624 | train_loss: 0.064652994 | validation_loss: 0.050921615 | Roc Score: 0.9636365 | Time elapsed: 2:20:58.047799\n",
            "iterations: 1625 | train_loss: 0.05584411 | validation_loss: 0.05044775 | Roc Score: 0.963648 | Time elapsed: 2:21:03.286416\n",
            "iterations: 1626 | train_loss: 0.055598762 | validation_loss: 0.049871337 | Roc Score: 0.9636601 | Time elapsed: 2:21:08.479234\n",
            "iterations: 1627 | train_loss: 0.027182596 | validation_loss: 0.04906261 | Roc Score: 0.96367216 | Time elapsed: 2:21:13.730114\n",
            "iterations: 1628 | train_loss: 0.043730497 | validation_loss: 0.048428535 | Roc Score: 0.9636839 | Time elapsed: 2:21:18.982575\n",
            "iterations: 1629 | train_loss: 0.05192021 | validation_loss: 0.04826016 | Roc Score: 0.963695 | Time elapsed: 2:21:24.180495\n",
            "iterations: 1630 | train_loss: 0.045240667 | validation_loss: 0.04859811 | Roc Score: 0.96370536 | Time elapsed: 2:21:29.401782\n",
            "iterations: 1631 | train_loss: 0.041310135 | validation_loss: 0.049014065 | Roc Score: 0.9637157 | Time elapsed: 2:21:34.642339\n",
            "iterations: 1632 | train_loss: 0.04375774 | validation_loss: 0.049241554 | Roc Score: 0.963726 | Time elapsed: 2:21:39.864494\n",
            "iterations: 1633 | train_loss: 0.04025233 | validation_loss: 0.04949511 | Roc Score: 0.96373576 | Time elapsed: 2:21:45.120752\n",
            "iterations: 1634 | train_loss: 0.044193055 | validation_loss: 0.049340643 | Roc Score: 0.9637456 | Time elapsed: 2:21:50.350785\n",
            "iterations: 1635 | train_loss: 0.06487671 | validation_loss: 0.048549682 | Roc Score: 0.9637565 | Time elapsed: 2:21:55.582211\n",
            "iterations: 1636 | train_loss: 0.036030155 | validation_loss: 0.04821772 | Roc Score: 0.96376777 | Time elapsed: 2:22:00.813383\n",
            "iterations: 1637 | train_loss: 0.034876447 | validation_loss: 0.04804492 | Roc Score: 0.96377957 | Time elapsed: 2:22:06.066431\n"
          ],
          "name": "stdout"
        },
        {
          "output_type": "stream",
          "text": [
            "iterations: 1638 | train_loss: 0.032371726 | validation_loss: 0.047967028 | Roc Score: 0.96379143 | Time elapsed: 2:22:11.344260\n",
            "iterations: 1639 | train_loss: 0.033531472 | validation_loss: 0.047988717 | Roc Score: 0.9638022 | Time elapsed: 2:22:16.586029\n",
            "iterations: 1640 | train_loss: 0.025716495 | validation_loss: 0.048339553 | Roc Score: 0.9638118 | Time elapsed: 2:22:21.840426\n",
            "iterations: 1641 | train_loss: 0.043340933 | validation_loss: 0.048995 | Roc Score: 0.96382004 | Time elapsed: 2:22:27.029774\n",
            "iterations: 1642 | train_loss: 0.027255319 | validation_loss: 0.04983115 | Roc Score: 0.96382713 | Time elapsed: 2:22:32.260605\n",
            "iterations: 1643 | train_loss: 0.05703968 | validation_loss: 0.050358776 | Roc Score: 0.96383333 | Time elapsed: 2:22:37.463992\n",
            "iterations: 1644 | train_loss: 0.046025682 | validation_loss: 0.050478093 | Roc Score: 0.9638396 | Time elapsed: 2:22:42.700670\n",
            "iterations: 1645 | train_loss: 0.04433357 | validation_loss: 0.050324187 | Roc Score: 0.96384615 | Time elapsed: 2:22:47.930362\n",
            "iterations: 1646 | train_loss: 0.060703285 | validation_loss: 0.049878385 | Roc Score: 0.96385497 | Time elapsed: 2:22:53.181266\n",
            "iterations: 1647 | train_loss: 0.031020809 | validation_loss: 0.04963255 | Roc Score: 0.96386445 | Time elapsed: 2:22:58.457031\n",
            "iterations: 1648 | train_loss: 0.03202068 | validation_loss: 0.049231905 | Roc Score: 0.9638749 | Time elapsed: 2:23:03.723783\n",
            "iterations: 1649 | train_loss: 0.046046708 | validation_loss: 0.048688486 | Roc Score: 0.96388537 | Time elapsed: 2:23:08.999608\n",
            "iterations: 1650 | train_loss: 0.03982813 | validation_loss: 0.048168555 | Roc Score: 0.9638963 | Time elapsed: 2:23:14.204338\n",
            "iterations: 1651 | train_loss: 0.030878194 | validation_loss: 0.047769293 | Roc Score: 0.96390766 | Time elapsed: 2:23:19.449718\n",
            "iterations: 1652 | train_loss: 0.050638136 | validation_loss: 0.047442846 | Roc Score: 0.9639189 | Time elapsed: 2:23:24.650020\n",
            "iterations: 1653 | train_loss: 0.02532546 | validation_loss: 0.04722177 | Roc Score: 0.9639297 | Time elapsed: 2:23:29.908081\n",
            "iterations: 1654 | train_loss: 0.04015905 | validation_loss: 0.047284484 | Roc Score: 0.96394056 | Time elapsed: 2:23:35.152762\n",
            "iterations: 1655 | train_loss: 0.040566646 | validation_loss: 0.047428947 | Roc Score: 0.9639511 | Time elapsed: 2:23:40.387336\n",
            "iterations: 1656 | train_loss: 0.04176929 | validation_loss: 0.04752216 | Roc Score: 0.96396124 | Time elapsed: 2:23:45.626484\n",
            "iterations: 1657 | train_loss: 0.041257933 | validation_loss: 0.047680102 | Roc Score: 0.9639711 | Time elapsed: 2:23:50.901859\n",
            "iterations: 1658 | train_loss: 0.055829946 | validation_loss: 0.04763755 | Roc Score: 0.96398133 | Time elapsed: 2:23:56.117640\n",
            "iterations: 1659 | train_loss: 0.039436184 | validation_loss: 0.047696095 | Roc Score: 0.9639914 | Time elapsed: 2:24:01.347602\n",
            "iterations: 1660 | train_loss: 0.06336058 | validation_loss: 0.047718987 | Roc Score: 0.9640027 | Time elapsed: 2:24:06.521309\n",
            "iterations: 1661 | train_loss: 0.038222216 | validation_loss: 0.04801571 | Roc Score: 0.96401423 | Time elapsed: 2:24:11.759670\n",
            "iterations: 1662 | train_loss: 0.04397322 | validation_loss: 0.04842874 | Roc Score: 0.9640253 | Time elapsed: 2:24:17.015933\n",
            "iterations: 1663 | train_loss: 0.03906424 | validation_loss: 0.048764315 | Roc Score: 0.96403664 | Time elapsed: 2:24:22.231678\n",
            "iterations: 1664 | train_loss: 0.047961064 | validation_loss: 0.048845958 | Roc Score: 0.96404785 | Time elapsed: 2:24:27.486164\n",
            "iterations: 1665 | train_loss: 0.050693206 | validation_loss: 0.04857986 | Roc Score: 0.9640583 | Time elapsed: 2:24:32.719069\n",
            "iterations: 1666 | train_loss: 0.054194782 | validation_loss: 0.048372023 | Roc Score: 0.96406794 | Time elapsed: 2:24:37.915019\n",
            "iterations: 1667 | train_loss: 0.04905351 | validation_loss: 0.048465863 | Roc Score: 0.96407676 | Time elapsed: 2:24:43.198025\n",
            "iterations: 1668 | train_loss: 0.052923784 | validation_loss: 0.04873391 | Roc Score: 0.9640851 | Time elapsed: 2:24:48.461929\n",
            "iterations: 1669 | train_loss: 0.041519333 | validation_loss: 0.04906996 | Roc Score: 0.96409297 | Time elapsed: 2:24:53.693022\n",
            "iterations: 1670 | train_loss: 0.045569427 | validation_loss: 0.048906565 | Roc Score: 0.9641015 | Time elapsed: 2:24:58.865192\n",
            "iterations: 1671 | train_loss: 0.034038305 | validation_loss: 0.04863053 | Roc Score: 0.9641105 | Time elapsed: 2:25:03.917059\n",
            "iterations: 1672 | train_loss: 0.061254457 | validation_loss: 0.048315905 | Roc Score: 0.96412075 | Time elapsed: 2:25:09.161225\n",
            "iterations: 1673 | train_loss: 0.037370756 | validation_loss: 0.048071843 | Roc Score: 0.9641319 | Time elapsed: 2:25:14.381540\n",
            "iterations: 1674 | train_loss: 0.042039704 | validation_loss: 0.047859576 | Roc Score: 0.96414334 | Time elapsed: 2:25:19.615697\n",
            "iterations: 1675 | train_loss: 0.04691802 | validation_loss: 0.04771689 | Roc Score: 0.9641551 | Time elapsed: 2:25:24.846569\n",
            "iterations: 1676 | train_loss: 0.044084445 | validation_loss: 0.047667738 | Roc Score: 0.96416724 | Time elapsed: 2:25:30.041915\n"
          ],
          "name": "stdout"
        },
        {
          "output_type": "stream",
          "text": [
            "iterations: 1677 | train_loss: 0.04415003 | validation_loss: 0.047610987 | Roc Score: 0.96417916 | Time elapsed: 2:25:35.285400\n",
            "iterations: 1678 | train_loss: 0.03694815 | validation_loss: 0.047441147 | Roc Score: 0.9641914 | Time elapsed: 2:25:40.463109\n",
            "iterations: 1679 | train_loss: 0.033091776 | validation_loss: 0.04750095 | Roc Score: 0.9642026 | Time elapsed: 2:25:45.688575\n",
            "iterations: 1680 | train_loss: 0.058141176 | validation_loss: 0.047467317 | Roc Score: 0.9642136 | Time elapsed: 2:25:50.918395\n",
            "iterations: 1681 | train_loss: 0.04852307 | validation_loss: 0.047269925 | Roc Score: 0.9642256 | Time elapsed: 2:25:56.186067\n",
            "iterations: 1682 | train_loss: 0.04915891 | validation_loss: 0.0470632 | Roc Score: 0.96423787 | Time elapsed: 2:26:01.455057\n",
            "iterations: 1683 | train_loss: 0.047175266 | validation_loss: 0.04709303 | Roc Score: 0.9642505 | Time elapsed: 2:26:06.659854\n",
            "iterations: 1684 | train_loss: 0.0354002 | validation_loss: 0.047356207 | Roc Score: 0.9642632 | Time elapsed: 2:26:11.859838\n",
            "iterations: 1685 | train_loss: 0.053826213 | validation_loss: 0.04772734 | Roc Score: 0.9642761 | Time elapsed: 2:26:17.094183\n",
            "iterations: 1686 | train_loss: 0.045965757 | validation_loss: 0.04803353 | Roc Score: 0.9642893 | Time elapsed: 2:26:22.332447\n",
            "iterations: 1687 | train_loss: 0.03520051 | validation_loss: 0.047922697 | Roc Score: 0.964302 | Time elapsed: 2:26:27.550659\n",
            "iterations: 1688 | train_loss: 0.04173633 | validation_loss: 0.04791165 | Roc Score: 0.96431464 | Time elapsed: 2:26:32.792744\n",
            "iterations: 1689 | train_loss: 0.06235963 | validation_loss: 0.04761312 | Roc Score: 0.96432704 | Time elapsed: 2:26:38.015484\n",
            "iterations: 1690 | train_loss: 0.048541255 | validation_loss: 0.04735614 | Roc Score: 0.9643397 | Time elapsed: 2:26:43.235054\n",
            "iterations: 1691 | train_loss: 0.03511218 | validation_loss: 0.047174726 | Roc Score: 0.96435225 | Time elapsed: 2:26:48.457698\n",
            "iterations: 1692 | train_loss: 0.039726518 | validation_loss: 0.04705205 | Roc Score: 0.9643645 | Time elapsed: 2:26:53.720014\n",
            "iterations: 1693 | train_loss: 0.04400831 | validation_loss: 0.04697227 | Roc Score: 0.9643767 | Time elapsed: 2:26:58.933565\n",
            "iterations: 1694 | train_loss: 0.040937122 | validation_loss: 0.046948113 | Roc Score: 0.9643889 | Time elapsed: 2:27:04.167651\n",
            "iterations: 1695 | train_loss: 0.043563463 | validation_loss: 0.047009103 | Roc Score: 0.9644005 | Time elapsed: 2:27:09.422251\n",
            "iterations: 1696 | train_loss: 0.045123413 | validation_loss: 0.04710384 | Roc Score: 0.96441185 | Time elapsed: 2:27:14.647298\n",
            "iterations: 1697 | train_loss: 0.04982271 | validation_loss: 0.04738509 | Roc Score: 0.9644229 | Time elapsed: 2:27:19.897567\n",
            "iterations: 1698 | train_loss: 0.045420624 | validation_loss: 0.047742434 | Roc Score: 0.964434 | Time elapsed: 2:27:25.168662\n",
            "iterations: 1699 | train_loss: 0.037668128 | validation_loss: 0.048213094 | Roc Score: 0.9644445 | Time elapsed: 2:27:30.420645\n",
            "iterations: 1700 | train_loss: 0.041177906 | validation_loss: 0.048324186 | Roc Score: 0.9644546 | Time elapsed: 2:27:35.603659\n",
            "iterations: 1701 | train_loss: 0.053509343 | validation_loss: 0.048758578 | Roc Score: 0.96446466 | Time elapsed: 2:27:40.638998\n",
            "iterations: 1702 | train_loss: 0.05105937 | validation_loss: 0.04919559 | Roc Score: 0.96447545 | Time elapsed: 2:27:45.894756\n",
            "iterations: 1703 | train_loss: 0.046341565 | validation_loss: 0.049600866 | Roc Score: 0.96448606 | Time elapsed: 2:27:51.141321\n",
            "iterations: 1704 | train_loss: 0.047135804 | validation_loss: 0.049358375 | Roc Score: 0.9644967 | Time elapsed: 2:27:56.373063\n",
            "iterations: 1705 | train_loss: 0.052759096 | validation_loss: 0.04860226 | Roc Score: 0.9645075 | Time elapsed: 2:28:01.577894\n",
            "iterations: 1706 | train_loss: 0.04567205 | validation_loss: 0.048079986 | Roc Score: 0.96451885 | Time elapsed: 2:28:06.823451\n",
            "iterations: 1707 | train_loss: 0.06705621 | validation_loss: 0.047625914 | Roc Score: 0.96453035 | Time elapsed: 2:28:12.030166\n",
            "iterations: 1708 | train_loss: 0.055534437 | validation_loss: 0.04726086 | Roc Score: 0.96454287 | Time elapsed: 2:28:17.260296\n",
            "iterations: 1709 | train_loss: 0.04877711 | validation_loss: 0.047003247 | Roc Score: 0.9645555 | Time elapsed: 2:28:22.474835\n",
            "iterations: 1710 | train_loss: 0.028831027 | validation_loss: 0.046879373 | Roc Score: 0.9645679 | Time elapsed: 2:28:27.630425\n",
            "iterations: 1711 | train_loss: 0.029948879 | validation_loss: 0.047020327 | Roc Score: 0.9645801 | Time elapsed: 2:28:32.880962\n",
            "iterations: 1712 | train_loss: 0.046483617 | validation_loss: 0.04758372 | Roc Score: 0.9645916 | Time elapsed: 2:28:38.135838\n",
            "iterations: 1713 | train_loss: 0.038580105 | validation_loss: 0.047900893 | Roc Score: 0.9646027 | Time elapsed: 2:28:43.440306\n",
            "iterations: 1714 | train_loss: 0.061048202 | validation_loss: 0.047799386 | Roc Score: 0.96461403 | Time elapsed: 2:28:48.410513\n",
            "iterations: 1715 | train_loss: 0.052704286 | validation_loss: 0.04725537 | Roc Score: 0.96462584 | Time elapsed: 2:28:53.651014\n"
          ],
          "name": "stdout"
        },
        {
          "output_type": "stream",
          "text": [
            "iterations: 1716 | train_loss: 0.045633137 | validation_loss: 0.04693838 | Roc Score: 0.9646379 | Time elapsed: 2:28:58.805202\n",
            "iterations: 1717 | train_loss: 0.029185615 | validation_loss: 0.047166277 | Roc Score: 0.9646501 | Time elapsed: 2:29:04.203715\n",
            "iterations: 1718 | train_loss: 0.043967206 | validation_loss: 0.047827255 | Roc Score: 0.96466213 | Time elapsed: 2:29:09.442849\n",
            "iterations: 1719 | train_loss: 0.03362959 | validation_loss: 0.048235312 | Roc Score: 0.96467435 | Time elapsed: 2:29:14.708011\n",
            "iterations: 1720 | train_loss: 0.05803603 | validation_loss: 0.048433635 | Roc Score: 0.9646859 | Time elapsed: 2:29:19.991310\n",
            "iterations: 1721 | train_loss: 0.060874645 | validation_loss: 0.049349472 | Roc Score: 0.9646968 | Time elapsed: 2:29:25.243490\n",
            "iterations: 1722 | train_loss: 0.03983259 | validation_loss: 0.049903024 | Roc Score: 0.9647069 | Time elapsed: 2:29:30.472938\n",
            "iterations: 1723 | train_loss: 0.042192362 | validation_loss: 0.049978662 | Roc Score: 0.9647163 | Time elapsed: 2:29:35.669813\n",
            "iterations: 1724 | train_loss: 0.03400653 | validation_loss: 0.04951432 | Roc Score: 0.9647248 | Time elapsed: 2:29:40.935095\n",
            "iterations: 1725 | train_loss: 0.054601707 | validation_loss: 0.04931179 | Roc Score: 0.9647327 | Time elapsed: 2:29:46.185397\n",
            "iterations: 1726 | train_loss: 0.05496069 | validation_loss: 0.04916682 | Roc Score: 0.96474093 | Time elapsed: 2:29:51.453704\n",
            "iterations: 1727 | train_loss: 0.045055985 | validation_loss: 0.04928932 | Roc Score: 0.96474904 | Time elapsed: 2:29:56.435351\n",
            "iterations: 1728 | train_loss: 0.024537489 | validation_loss: 0.049462218 | Roc Score: 0.9647574 | Time elapsed: 2:30:01.711414\n",
            "iterations: 1729 | train_loss: 0.027185503 | validation_loss: 0.049422313 | Roc Score: 0.96476597 | Time elapsed: 2:30:06.927611\n",
            "iterations: 1730 | train_loss: 0.03867787 | validation_loss: 0.049286757 | Roc Score: 0.9647749 | Time elapsed: 2:30:12.236861\n",
            "iterations: 1731 | train_loss: 0.043162644 | validation_loss: 0.048878223 | Roc Score: 0.9647837 | Time elapsed: 2:30:17.443927\n",
            "iterations: 1732 | train_loss: 0.035591 | validation_loss: 0.048656728 | Roc Score: 0.9647929 | Time elapsed: 2:30:22.623169\n",
            "iterations: 1733 | train_loss: 0.05211408 | validation_loss: 0.048538245 | Roc Score: 0.96480197 | Time elapsed: 2:30:27.827837\n",
            "iterations: 1734 | train_loss: 0.030349268 | validation_loss: 0.048568748 | Roc Score: 0.96481067 | Time elapsed: 2:30:32.656087\n",
            "iterations: 1735 | train_loss: 0.045022998 | validation_loss: 0.048606966 | Roc Score: 0.964819 | Time elapsed: 2:30:37.864635\n",
            "iterations: 1736 | train_loss: 0.035416234 | validation_loss: 0.048620444 | Roc Score: 0.9648275 | Time elapsed: 2:30:43.060117\n",
            "iterations: 1737 | train_loss: 0.050651822 | validation_loss: 0.04853319 | Roc Score: 0.964836 | Time elapsed: 2:30:48.299647\n",
            "iterations: 1738 | train_loss: 0.039360706 | validation_loss: 0.048696935 | Roc Score: 0.9648439 | Time elapsed: 2:30:53.559228\n",
            "iterations: 1739 | train_loss: 0.02808663 | validation_loss: 0.049058657 | Roc Score: 0.9648508 | Time elapsed: 2:30:58.824014\n",
            "iterations: 1740 | train_loss: 0.038158905 | validation_loss: 0.04930376 | Roc Score: 0.96485746 | Time elapsed: 2:31:04.102658\n",
            "iterations: 1741 | train_loss: 0.0519352 | validation_loss: 0.049312834 | Roc Score: 0.9648646 | Time elapsed: 2:31:09.362129\n",
            "iterations: 1742 | train_loss: 0.0376779 | validation_loss: 0.04946729 | Roc Score: 0.96487176 | Time elapsed: 2:31:14.618726\n",
            "iterations: 1743 | train_loss: 0.04814684 | validation_loss: 0.049476914 | Roc Score: 0.9648794 | Time elapsed: 2:31:19.862847\n",
            "iterations: 1744 | train_loss: 0.0434375 | validation_loss: 0.04929535 | Roc Score: 0.9648884 | Time elapsed: 2:31:25.085058\n",
            "iterations: 1745 | train_loss: 0.049254447 | validation_loss: 0.04936245 | Roc Score: 0.96489865 | Time elapsed: 2:31:30.300088\n",
            "iterations: 1746 | train_loss: 0.045462213 | validation_loss: 0.04953471 | Roc Score: 0.96490914 | Time elapsed: 2:31:35.493413\n",
            "iterations: 1747 | train_loss: 0.043309897 | validation_loss: 0.04958972 | Roc Score: 0.96492004 | Time elapsed: 2:31:40.699285\n",
            "iterations: 1748 | train_loss: 0.057915524 | validation_loss: 0.049569126 | Roc Score: 0.96493065 | Time elapsed: 2:31:45.957411\n",
            "iterations: 1749 | train_loss: 0.06346388 | validation_loss: 0.049678702 | Roc Score: 0.96494126 | Time elapsed: 2:31:51.129996\n",
            "iterations: 1750 | train_loss: 0.05479901 | validation_loss: 0.05010267 | Roc Score: 0.9649518 | Time elapsed: 2:31:56.388799\n",
            "iterations: 1751 | train_loss: 0.059281215 | validation_loss: 0.049699552 | Roc Score: 0.9649624 | Time elapsed: 2:32:01.630970\n",
            "iterations: 1752 | train_loss: 0.041665778 | validation_loss: 0.04946566 | Roc Score: 0.96497315 | Time elapsed: 2:32:06.878551\n",
            "iterations: 1753 | train_loss: 0.05117843 | validation_loss: 0.049260646 | Roc Score: 0.9649841 | Time elapsed: 2:32:12.158998\n",
            "iterations: 1754 | train_loss: 0.05567608 | validation_loss: 0.049224596 | Roc Score: 0.96499485 | Time elapsed: 2:32:17.049665\n"
          ],
          "name": "stdout"
        },
        {
          "output_type": "stream",
          "text": [
            "iterations: 1755 | train_loss: 0.0505646 | validation_loss: 0.049288407 | Roc Score: 0.9650055 | Time elapsed: 2:32:22.307272\n",
            "iterations: 1756 | train_loss: 0.04917632 | validation_loss: 0.049345892 | Roc Score: 0.96501607 | Time elapsed: 2:32:27.558160\n",
            "iterations: 1757 | train_loss: 0.058763277 | validation_loss: 0.049704164 | Roc Score: 0.9650266 | Time elapsed: 2:32:32.794220\n",
            "iterations: 1758 | train_loss: 0.03707712 | validation_loss: 0.049397416 | Roc Score: 0.9650372 | Time elapsed: 2:32:38.030388\n",
            "iterations: 1759 | train_loss: 0.050540976 | validation_loss: 0.04899527 | Roc Score: 0.96504754 | Time elapsed: 2:32:43.290404\n",
            "iterations: 1760 | train_loss: 0.03441223 | validation_loss: 0.04870714 | Roc Score: 0.96505725 | Time elapsed: 2:32:48.543947\n",
            "iterations: 1761 | train_loss: 0.0340179 | validation_loss: 0.04861315 | Roc Score: 0.9650665 | Time elapsed: 2:32:53.742368\n",
            "iterations: 1762 | train_loss: 0.059824564 | validation_loss: 0.04854812 | Roc Score: 0.9650755 | Time elapsed: 2:32:58.982616\n",
            "iterations: 1763 | train_loss: 0.047815647 | validation_loss: 0.04846128 | Roc Score: 0.9650843 | Time elapsed: 2:33:04.236809\n",
            "iterations: 1764 | train_loss: 0.03644508 | validation_loss: 0.048607297 | Roc Score: 0.9650926 | Time elapsed: 2:33:09.497021\n",
            "iterations: 1765 | train_loss: 0.03870852 | validation_loss: 0.048906922 | Roc Score: 0.96510065 | Time elapsed: 2:33:14.766626\n",
            "iterations: 1766 | train_loss: 0.044076264 | validation_loss: 0.048653994 | Roc Score: 0.96510935 | Time elapsed: 2:33:19.994697\n",
            "iterations: 1767 | train_loss: 0.05523688 | validation_loss: 0.048296183 | Roc Score: 0.9651187 | Time elapsed: 2:33:25.213458\n",
            "iterations: 1768 | train_loss: 0.051146388 | validation_loss: 0.048020877 | Roc Score: 0.9651289 | Time elapsed: 2:33:30.464800\n",
            "iterations: 1769 | train_loss: 0.047897346 | validation_loss: 0.04790766 | Roc Score: 0.96513903 | Time elapsed: 2:33:35.650480\n",
            "iterations: 1770 | train_loss: 0.041652333 | validation_loss: 0.047770098 | Roc Score: 0.96514964 | Time elapsed: 2:33:40.907436\n",
            "iterations: 1771 | train_loss: 0.032345913 | validation_loss: 0.048009243 | Roc Score: 0.96516037 | Time elapsed: 2:33:46.164135\n",
            "iterations: 1772 | train_loss: 0.029292682 | validation_loss: 0.04830131 | Roc Score: 0.96517104 | Time elapsed: 2:33:51.401965\n",
            "iterations: 1773 | train_loss: 0.029753357 | validation_loss: 0.04803485 | Roc Score: 0.96518135 | Time elapsed: 2:33:56.607044\n",
            "iterations: 1774 | train_loss: 0.050715126 | validation_loss: 0.048134666 | Roc Score: 0.96519184 | Time elapsed: 2:34:01.876007\n",
            "iterations: 1775 | train_loss: 0.059703287 | validation_loss: 0.048533645 | Roc Score: 0.9652025 | Time elapsed: 2:34:07.109237\n",
            "iterations: 1776 | train_loss: 0.052027803 | validation_loss: 0.04877803 | Roc Score: 0.96521306 | Time elapsed: 2:34:12.345687\n",
            "iterations: 1777 | train_loss: 0.028522605 | validation_loss: 0.048736505 | Roc Score: 0.9652229 | Time elapsed: 2:34:17.507277\n",
            "iterations: 1778 | train_loss: 0.031323895 | validation_loss: 0.048589084 | Roc Score: 0.9652323 | Time elapsed: 2:34:22.747796\n",
            "iterations: 1779 | train_loss: 0.03936464 | validation_loss: 0.04843264 | Roc Score: 0.96524066 | Time elapsed: 2:34:27.994767\n",
            "iterations: 1780 | train_loss: 0.036346924 | validation_loss: 0.048622265 | Roc Score: 0.9652482 | Time elapsed: 2:34:33.242109\n",
            "iterations: 1781 | train_loss: 0.041907094 | validation_loss: 0.048541047 | Roc Score: 0.9652555 | Time elapsed: 2:34:38.458895\n",
            "iterations: 1782 | train_loss: 0.05073901 | validation_loss: 0.048489384 | Roc Score: 0.96526295 | Time elapsed: 2:34:43.674614\n",
            "iterations: 1783 | train_loss: 0.032532223 | validation_loss: 0.048591584 | Roc Score: 0.96527 | Time elapsed: 2:34:48.898045\n",
            "iterations: 1784 | train_loss: 0.043863878 | validation_loss: 0.048692524 | Roc Score: 0.9652773 | Time elapsed: 2:34:54.138928\n",
            "iterations: 1785 | train_loss: 0.057611752 | validation_loss: 0.048705194 | Roc Score: 0.9652849 | Time elapsed: 2:34:59.369614\n",
            "iterations: 1786 | train_loss: 0.049095973 | validation_loss: 0.048617624 | Roc Score: 0.9652929 | Time elapsed: 2:35:04.546360\n",
            "iterations: 1787 | train_loss: 0.031490967 | validation_loss: 0.048510388 | Roc Score: 0.9653008 | Time elapsed: 2:35:09.734475\n",
            "iterations: 1788 | train_loss: 0.024084238 | validation_loss: 0.04850229 | Roc Score: 0.9653086 | Time elapsed: 2:35:14.983957\n",
            "iterations: 1789 | train_loss: 0.04431087 | validation_loss: 0.048618887 | Roc Score: 0.96531636 | Time elapsed: 2:35:20.169855\n",
            "iterations: 1790 | train_loss: 0.048943188 | validation_loss: 0.048616245 | Roc Score: 0.96532345 | Time elapsed: 2:35:25.408184\n",
            "iterations: 1791 | train_loss: 0.04133939 | validation_loss: 0.048416607 | Roc Score: 0.9653312 | Time elapsed: 2:35:30.630785\n",
            "iterations: 1792 | train_loss: 0.04208095 | validation_loss: 0.04830648 | Roc Score: 0.965339 | Time elapsed: 2:35:35.819855\n",
            "iterations: 1793 | train_loss: 0.049781747 | validation_loss: 0.048349965 | Roc Score: 0.96534646 | Time elapsed: 2:35:41.106047\n"
          ],
          "name": "stdout"
        },
        {
          "output_type": "stream",
          "text": [
            "iterations: 1794 | train_loss: 0.030010458 | validation_loss: 0.048520487 | Roc Score: 0.96535367 | Time elapsed: 2:35:46.357701\n",
            "iterations: 1795 | train_loss: 0.04963166 | validation_loss: 0.048616517 | Roc Score: 0.9653611 | Time elapsed: 2:35:51.566307\n",
            "iterations: 1796 | train_loss: 0.02469642 | validation_loss: 0.048761915 | Roc Score: 0.9653686 | Time elapsed: 2:35:56.844675\n",
            "iterations: 1797 | train_loss: 0.046638563 | validation_loss: 0.04903653 | Roc Score: 0.9653759 | Time elapsed: 2:36:02.074522\n",
            "iterations: 1798 | train_loss: 0.04064254 | validation_loss: 0.049300764 | Roc Score: 0.9653829 | Time elapsed: 2:36:07.291261\n",
            "iterations: 1799 | train_loss: 0.049852382 | validation_loss: 0.04955498 | Roc Score: 0.96538967 | Time elapsed: 2:36:12.514497\n",
            "iterations: 1800 | train_loss: 0.039878774 | validation_loss: 0.049887445 | Roc Score: 0.9653962 | Time elapsed: 2:36:17.700368\n",
            "iterations: 1801 | train_loss: 0.04446069 | validation_loss: 0.050086915 | Roc Score: 0.96540236 | Time elapsed: 2:36:22.838354\n",
            "iterations: 1802 | train_loss: 0.049458437 | validation_loss: 0.050329804 | Roc Score: 0.96540785 | Time elapsed: 2:36:28.085439\n",
            "iterations: 1803 | train_loss: 0.06319548 | validation_loss: 0.0506903 | Roc Score: 0.9654122 | Time elapsed: 2:36:33.372086\n",
            "iterations: 1804 | train_loss: 0.03965823 | validation_loss: 0.050815936 | Roc Score: 0.96541613 | Time elapsed: 2:36:38.636311\n",
            "iterations: 1805 | train_loss: 0.0374629 | validation_loss: 0.05028809 | Roc Score: 0.9654209 | Time elapsed: 2:36:43.875979\n",
            "iterations: 1806 | train_loss: 0.03222889 | validation_loss: 0.049789358 | Roc Score: 0.9654258 | Time elapsed: 2:36:49.114695\n",
            "iterations: 1807 | train_loss: 0.036704633 | validation_loss: 0.049252197 | Roc Score: 0.9654317 | Time elapsed: 2:36:54.342061\n",
            "iterations: 1808 | train_loss: 0.040110815 | validation_loss: 0.04870596 | Roc Score: 0.96543825 | Time elapsed: 2:36:59.646715\n",
            "iterations: 1809 | train_loss: 0.052354075 | validation_loss: 0.049055774 | Roc Score: 0.9654463 | Time elapsed: 2:37:04.915251\n",
            "iterations: 1810 | train_loss: 0.047482453 | validation_loss: 0.049452305 | Roc Score: 0.9654549 | Time elapsed: 2:37:10.143302\n",
            "iterations: 1811 | train_loss: 0.041012682 | validation_loss: 0.049666394 | Roc Score: 0.9654635 | Time elapsed: 2:37:15.342611\n",
            "iterations: 1812 | train_loss: 0.048561316 | validation_loss: 0.04958669 | Roc Score: 0.9654723 | Time elapsed: 2:37:20.570989\n",
            "iterations: 1813 | train_loss: 0.038843665 | validation_loss: 0.0490423 | Roc Score: 0.9654809 | Time elapsed: 2:37:25.834880\n",
            "iterations: 1814 | train_loss: 0.042852994 | validation_loss: 0.04892974 | Roc Score: 0.96548975 | Time elapsed: 2:37:31.065485\n",
            "iterations: 1815 | train_loss: 0.0406363 | validation_loss: 0.049088992 | Roc Score: 0.96549803 | Time elapsed: 2:37:36.343104\n",
            "iterations: 1816 | train_loss: 0.051720727 | validation_loss: 0.04950123 | Roc Score: 0.9655055 | Time elapsed: 2:37:41.599336\n",
            "iterations: 1817 | train_loss: 0.03943156 | validation_loss: 0.049802534 | Roc Score: 0.96551174 | Time elapsed: 2:37:46.902238\n",
            "iterations: 1818 | train_loss: 0.04472794 | validation_loss: 0.049584594 | Roc Score: 0.9655185 | Time elapsed: 2:37:52.168414\n",
            "iterations: 1819 | train_loss: 0.057506688 | validation_loss: 0.049243476 | Roc Score: 0.9655254 | Time elapsed: 2:37:57.387770\n",
            "iterations: 1820 | train_loss: 0.047445178 | validation_loss: 0.048968624 | Roc Score: 0.96553314 | Time elapsed: 2:38:02.624452\n",
            "iterations: 1821 | train_loss: 0.04699797 | validation_loss: 0.049274698 | Roc Score: 0.96554184 | Time elapsed: 2:38:07.842560\n",
            "iterations: 1822 | train_loss: 0.039431594 | validation_loss: 0.04955673 | Roc Score: 0.965551 | Time elapsed: 2:38:13.109984\n",
            "iterations: 1823 | train_loss: 0.053112578 | validation_loss: 0.049429633 | Roc Score: 0.9655603 | Time elapsed: 2:38:18.337089\n",
            "iterations: 1824 | train_loss: 0.043550014 | validation_loss: 0.04893746 | Roc Score: 0.96557 | Time elapsed: 2:38:23.542520\n",
            "iterations: 1825 | train_loss: 0.04560318 | validation_loss: 0.04826051 | Roc Score: 0.9655799 | Time elapsed: 2:38:28.832979\n",
            "iterations: 1826 | train_loss: 0.043727342 | validation_loss: 0.04774154 | Roc Score: 0.9655901 | Time elapsed: 2:38:34.006609\n",
            "iterations: 1827 | train_loss: 0.042880733 | validation_loss: 0.047618095 | Roc Score: 0.9656001 | Time elapsed: 2:38:39.264089\n",
            "iterations: 1828 | train_loss: 0.045108728 | validation_loss: 0.048012737 | Roc Score: 0.96560955 | Time elapsed: 2:38:44.556762\n",
            "iterations: 1829 | train_loss: 0.043290213 | validation_loss: 0.048447654 | Roc Score: 0.96561885 | Time elapsed: 2:38:49.841071\n",
            "iterations: 1830 | train_loss: 0.040960412 | validation_loss: 0.048714917 | Roc Score: 0.9656277 | Time elapsed: 2:38:55.100696\n",
            "iterations: 1831 | train_loss: 0.045900263 | validation_loss: 0.048504714 | Roc Score: 0.96563655 | Time elapsed: 2:39:00.325301\n",
            "iterations: 1832 | train_loss: 0.04185942 | validation_loss: 0.04813982 | Roc Score: 0.9656458 | Time elapsed: 2:39:05.222598\n"
          ],
          "name": "stdout"
        },
        {
          "output_type": "stream",
          "text": [
            "iterations: 1833 | train_loss: 0.039067693 | validation_loss: 0.04778925 | Roc Score: 0.96565515 | Time elapsed: 2:39:10.468784\n",
            "iterations: 1834 | train_loss: 0.05911646 | validation_loss: 0.047664892 | Roc Score: 0.96566445 | Time elapsed: 2:39:15.722156\n",
            "iterations: 1835 | train_loss: 0.04723028 | validation_loss: 0.047899883 | Roc Score: 0.96567416 | Time elapsed: 2:39:20.926107\n",
            "iterations: 1836 | train_loss: 0.049968615 | validation_loss: 0.048302393 | Roc Score: 0.9656841 | Time elapsed: 2:39:26.173428\n",
            "iterations: 1837 | train_loss: 0.042136617 | validation_loss: 0.048396662 | Roc Score: 0.9656934 | Time elapsed: 2:39:31.372922\n",
            "iterations: 1838 | train_loss: 0.037862957 | validation_loss: 0.04844759 | Roc Score: 0.9657024 | Time elapsed: 2:39:36.568259\n",
            "iterations: 1839 | train_loss: 0.04268826 | validation_loss: 0.048894722 | Roc Score: 0.9657101 | Time elapsed: 2:39:41.790610\n",
            "iterations: 1840 | train_loss: 0.025697883 | validation_loss: 0.04986226 | Roc Score: 0.9657161 | Time elapsed: 2:39:46.972902\n",
            "iterations: 1841 | train_loss: 0.06259926 | validation_loss: 0.050603725 | Roc Score: 0.9657215 | Time elapsed: 2:39:52.213969\n",
            "iterations: 1842 | train_loss: 0.03817948 | validation_loss: 0.05162995 | Roc Score: 0.96572554 | Time elapsed: 2:39:57.450785\n",
            "iterations: 1843 | train_loss: 0.035700068 | validation_loss: 0.052601077 | Roc Score: 0.9657277 | Time elapsed: 2:40:02.674181\n",
            "iterations: 1844 | train_loss: 0.04031595 | validation_loss: 0.053057436 | Roc Score: 0.9657297 | Time elapsed: 2:40:07.943048\n",
            "iterations: 1845 | train_loss: 0.02454791 | validation_loss: 0.05382133 | Roc Score: 0.9657302 | Time elapsed: 2:40:13.123706\n",
            "iterations: 1846 | train_loss: 0.05117981 | validation_loss: 0.053714164 | Roc Score: 0.9657311 | Time elapsed: 2:40:18.348495\n",
            "iterations: 1847 | train_loss: 0.039765593 | validation_loss: 0.052995536 | Roc Score: 0.9657326 | Time elapsed: 2:40:23.574037\n",
            "iterations: 1848 | train_loss: 0.033181015 | validation_loss: 0.052027967 | Roc Score: 0.9657356 | Time elapsed: 2:40:28.809584\n",
            "iterations: 1849 | train_loss: 0.04854596 | validation_loss: 0.051376935 | Roc Score: 0.96573865 | Time elapsed: 2:40:34.082787\n",
            "iterations: 1850 | train_loss: 0.050494917 | validation_loss: 0.050682027 | Roc Score: 0.96574336 | Time elapsed: 2:40:39.326500\n",
            "iterations: 1851 | train_loss: 0.04795553 | validation_loss: 0.050019134 | Roc Score: 0.9657497 | Time elapsed: 2:40:44.518752\n",
            "iterations: 1852 | train_loss: 0.059006054 | validation_loss: 0.049630143 | Roc Score: 0.9657572 | Time elapsed: 2:40:49.716284\n",
            "iterations: 1853 | train_loss: 0.035783734 | validation_loss: 0.050265934 | Roc Score: 0.9657652 | Time elapsed: 2:40:55.019672\n",
            "iterations: 1854 | train_loss: 0.05060536 | validation_loss: 0.05052485 | Roc Score: 0.9657736 | Time elapsed: 2:41:00.294934\n",
            "iterations: 1855 | train_loss: 0.034570884 | validation_loss: 0.05017484 | Roc Score: 0.9657822 | Time elapsed: 2:41:05.379682\n",
            "iterations: 1856 | train_loss: 0.048990134 | validation_loss: 0.0500399 | Roc Score: 0.9657908 | Time elapsed: 2:41:10.632999\n",
            "iterations: 1857 | train_loss: 0.02586824 | validation_loss: 0.04930465 | Roc Score: 0.96579987 | Time elapsed: 2:41:15.837347\n",
            "iterations: 1858 | train_loss: 0.047924075 | validation_loss: 0.048547547 | Roc Score: 0.9658085 | Time elapsed: 2:41:21.023348\n",
            "iterations: 1859 | train_loss: 0.038962007 | validation_loss: 0.048417207 | Roc Score: 0.9658161 | Time elapsed: 2:41:26.290857\n",
            "iterations: 1860 | train_loss: 0.04451174 | validation_loss: 0.049097553 | Roc Score: 0.9658225 | Time elapsed: 2:41:31.535573\n",
            "iterations: 1861 | train_loss: 0.044499148 | validation_loss: 0.04993038 | Roc Score: 0.96582776 | Time elapsed: 2:41:36.724926\n",
            "iterations: 1862 | train_loss: 0.04457848 | validation_loss: 0.050209403 | Roc Score: 0.96583265 | Time elapsed: 2:41:41.944685\n",
            "iterations: 1863 | train_loss: 0.053177055 | validation_loss: 0.050203286 | Roc Score: 0.9658371 | Time elapsed: 2:41:47.216169\n",
            "iterations: 1864 | train_loss: 0.06456364 | validation_loss: 0.049450856 | Roc Score: 0.965843 | Time elapsed: 2:41:52.438660\n",
            "iterations: 1865 | train_loss: 0.03319975 | validation_loss: 0.04882997 | Roc Score: 0.96585006 | Time elapsed: 2:41:57.711531\n",
            "iterations: 1866 | train_loss: 0.046158563 | validation_loss: 0.048725117 | Roc Score: 0.96585864 | Time elapsed: 2:42:02.893847\n",
            "iterations: 1867 | train_loss: 0.042271286 | validation_loss: 0.049050406 | Roc Score: 0.96586746 | Time elapsed: 2:42:08.159228\n",
            "iterations: 1868 | train_loss: 0.033826206 | validation_loss: 0.049690273 | Roc Score: 0.9658771 | Time elapsed: 2:42:13.394797\n",
            "iterations: 1869 | train_loss: 0.04851793 | validation_loss: 0.05023944 | Roc Score: 0.96588695 | Time elapsed: 2:42:18.617709\n",
            "iterations: 1870 | train_loss: 0.03804657 | validation_loss: 0.04984401 | Roc Score: 0.96589696 | Time elapsed: 2:42:23.801454\n",
            "iterations: 1871 | train_loss: 0.056964926 | validation_loss: 0.04906711 | Roc Score: 0.96590686 | Time elapsed: 2:42:29.003459\n"
          ],
          "name": "stdout"
        },
        {
          "output_type": "stream",
          "text": [
            "iterations: 1872 | train_loss: 0.055245444 | validation_loss: 0.04830154 | Roc Score: 0.96591675 | Time elapsed: 2:42:34.166965\n",
            "iterations: 1873 | train_loss: 0.030681858 | validation_loss: 0.04738325 | Roc Score: 0.96592647 | Time elapsed: 2:42:39.410917\n",
            "iterations: 1874 | train_loss: 0.040545758 | validation_loss: 0.04733912 | Roc Score: 0.9659351 | Time elapsed: 2:42:44.617840\n",
            "iterations: 1875 | train_loss: 0.04758086 | validation_loss: 0.048216768 | Roc Score: 0.9659422 | Time elapsed: 2:42:49.527219\n",
            "iterations: 1876 | train_loss: 0.067563884 | validation_loss: 0.04852747 | Roc Score: 0.9659493 | Time elapsed: 2:42:54.659005\n",
            "iterations: 1877 | train_loss: 0.043570694 | validation_loss: 0.048152577 | Roc Score: 0.96595734 | Time elapsed: 2:42:59.920604\n",
            "iterations: 1878 | train_loss: 0.032423727 | validation_loss: 0.04769564 | Roc Score: 0.9659657 | Time elapsed: 2:43:05.155269\n",
            "iterations: 1879 | train_loss: 0.03321236 | validation_loss: 0.04735984 | Roc Score: 0.9659745 | Time elapsed: 2:43:10.394653\n",
            "iterations: 1880 | train_loss: 0.034337536 | validation_loss: 0.04708959 | Roc Score: 0.96598375 | Time elapsed: 2:43:15.642216\n",
            "iterations: 1881 | train_loss: 0.04246147 | validation_loss: 0.0471948 | Roc Score: 0.96599317 | Time elapsed: 2:43:20.853598\n",
            "iterations: 1882 | train_loss: 0.04609936 | validation_loss: 0.047689375 | Roc Score: 0.96600235 | Time elapsed: 2:43:26.094483\n",
            "iterations: 1883 | train_loss: 0.058888733 | validation_loss: 0.048975714 | Roc Score: 0.9660111 | Time elapsed: 2:43:31.289651\n",
            "iterations: 1884 | train_loss: 0.0357474 | validation_loss: 0.05023166 | Roc Score: 0.9660199 | Time elapsed: 2:43:36.527415\n",
            "iterations: 1885 | train_loss: 0.059642196 | validation_loss: 0.05080197 | Roc Score: 0.9660283 | Time elapsed: 2:43:41.802348\n",
            "iterations: 1886 | train_loss: 0.060054347 | validation_loss: 0.051048886 | Roc Score: 0.96603686 | Time elapsed: 2:43:46.995175\n",
            "iterations: 1887 | train_loss: 0.049193036 | validation_loss: 0.049380485 | Roc Score: 0.96604556 | Time elapsed: 2:43:52.231398\n",
            "iterations: 1888 | train_loss: 0.04014703 | validation_loss: 0.047624063 | Roc Score: 0.9660544 | Time elapsed: 2:43:57.479393\n",
            "iterations: 1889 | train_loss: 0.024178326 | validation_loss: 0.047489576 | Roc Score: 0.96606284 | Time elapsed: 2:44:02.704263\n",
            "iterations: 1890 | train_loss: 0.02172152 | validation_loss: 0.049133997 | Roc Score: 0.96606886 | Time elapsed: 2:44:07.926676\n",
            "iterations: 1891 | train_loss: 0.055633266 | validation_loss: 0.05088544 | Roc Score: 0.9660728 | Time elapsed: 2:44:13.173561\n",
            "iterations: 1892 | train_loss: 0.034047965 | validation_loss: 0.052563794 | Roc Score: 0.96607465 | Time elapsed: 2:44:18.398506\n",
            "iterations: 1893 | train_loss: 0.05227061 | validation_loss: 0.050893243 | Roc Score: 0.96607876 | Time elapsed: 2:44:23.588950\n",
            "iterations: 1894 | train_loss: 0.039289203 | validation_loss: 0.048710417 | Roc Score: 0.9660857 | Time elapsed: 2:44:28.800367\n",
            "iterations: 1895 | train_loss: 0.051421355 | validation_loss: 0.04707801 | Roc Score: 0.9660944 | Time elapsed: 2:44:34.031656\n",
            "iterations: 1896 | train_loss: 0.034824163 | validation_loss: 0.046688195 | Roc Score: 0.96610403 | Time elapsed: 2:44:39.253233\n",
            "iterations: 1897 | train_loss: 0.039586402 | validation_loss: 0.04770971 | Roc Score: 0.9661137 | Time elapsed: 2:44:44.503148\n",
            "iterations: 1898 | train_loss: 0.042816654 | validation_loss: 0.049139272 | Roc Score: 0.96612287 | Time elapsed: 2:44:49.750710\n",
            "iterations: 1899 | train_loss: 0.052324556 | validation_loss: 0.049937967 | Roc Score: 0.96613187 | Time elapsed: 2:44:54.936284\n",
            "iterations: 1900 | train_loss: 0.049752623 | validation_loss: 0.048859324 | Roc Score: 0.96614134 | Time elapsed: 2:45:00.211041\n",
            "iterations: 1901 | train_loss: 0.040591914 | validation_loss: 0.04785573 | Roc Score: 0.96615124 | Time elapsed: 2:45:05.494076\n",
            "iterations: 1902 | train_loss: 0.035383966 | validation_loss: 0.04691385 | Roc Score: 0.9661608 | Time elapsed: 2:45:10.752134\n",
            "iterations: 1903 | train_loss: 0.058931433 | validation_loss: 0.046565194 | Roc Score: 0.96616995 | Time elapsed: 2:45:16.008497\n",
            "iterations: 1904 | train_loss: 0.028391214 | validation_loss: 0.04673529 | Roc Score: 0.96617824 | Time elapsed: 2:45:21.219368\n",
            "iterations: 1905 | train_loss: 0.0341362 | validation_loss: 0.047494397 | Roc Score: 0.9661852 | Time elapsed: 2:45:26.445323\n",
            "iterations: 1906 | train_loss: 0.037467718 | validation_loss: 0.048863895 | Roc Score: 0.96619046 | Time elapsed: 2:45:31.655874\n",
            "iterations: 1907 | train_loss: 0.03245746 | validation_loss: 0.050234195 | Roc Score: 0.966194 | Time elapsed: 2:45:36.885175\n",
            "iterations: 1908 | train_loss: 0.023897832 | validation_loss: 0.05096966 | Roc Score: 0.96619636 | Time elapsed: 2:45:42.114239\n",
            "iterations: 1909 | train_loss: 0.03617928 | validation_loss: 0.051293883 | Roc Score: 0.966198 | Time elapsed: 2:45:47.312762\n",
            "iterations: 1910 | train_loss: 0.049019884 | validation_loss: 0.051042184 | Roc Score: 0.9661999 | Time elapsed: 2:45:52.588028\n"
          ],
          "name": "stdout"
        },
        {
          "output_type": "stream",
          "text": [
            "iterations: 1911 | train_loss: 0.054399293 | validation_loss: 0.049573988 | Roc Score: 0.9662036 | Time elapsed: 2:45:57.817177\n",
            "iterations: 1912 | train_loss: 0.029375935 | validation_loss: 0.0485734 | Roc Score: 0.96620905 | Time elapsed: 2:46:03.037034\n",
            "iterations: 1913 | train_loss: 0.040820643 | validation_loss: 0.048358057 | Roc Score: 0.96621543 | Time elapsed: 2:46:08.243858\n",
            "iterations: 1914 | train_loss: 0.04263718 | validation_loss: 0.04867114 | Roc Score: 0.9662224 | Time elapsed: 2:46:13.475224\n",
            "iterations: 1915 | train_loss: 0.02801978 | validation_loss: 0.04925427 | Roc Score: 0.9662293 | Time elapsed: 2:46:18.689681\n",
            "iterations: 1916 | train_loss: 0.06207933 | validation_loss: 0.04961505 | Roc Score: 0.9662364 | Time elapsed: 2:46:23.956323\n",
            "iterations: 1917 | train_loss: 0.039006326 | validation_loss: 0.049304828 | Roc Score: 0.96624374 | Time elapsed: 2:46:29.198000\n",
            "iterations: 1918 | train_loss: 0.044915818 | validation_loss: 0.048872367 | Roc Score: 0.9662511 | Time elapsed: 2:46:34.433557\n",
            "iterations: 1919 | train_loss: 0.027169336 | validation_loss: 0.048096716 | Roc Score: 0.96625835 | Time elapsed: 2:46:39.693160\n",
            "iterations: 1920 | train_loss: 0.04975562 | validation_loss: 0.047645286 | Roc Score: 0.9662658 | Time elapsed: 2:46:44.875855\n",
            "iterations: 1921 | train_loss: 0.046943653 | validation_loss: 0.047464855 | Roc Score: 0.96627295 | Time elapsed: 2:46:50.083081\n",
            "iterations: 1922 | train_loss: 0.038460527 | validation_loss: 0.047419503 | Roc Score: 0.96627986 | Time elapsed: 2:46:55.397108\n",
            "iterations: 1923 | train_loss: 0.040492438 | validation_loss: 0.047570348 | Roc Score: 0.9662865 | Time elapsed: 2:47:00.322763\n",
            "iterations: 1924 | train_loss: 0.053351376 | validation_loss: 0.047656335 | Roc Score: 0.96629333 | Time elapsed: 2:47:05.513093\n",
            "iterations: 1925 | train_loss: 0.045141175 | validation_loss: 0.0475651 | Roc Score: 0.9663003 | Time elapsed: 2:47:10.796480\n",
            "iterations: 1926 | train_loss: 0.035306778 | validation_loss: 0.04758729 | Roc Score: 0.96630687 | Time elapsed: 2:47:16.030632\n",
            "iterations: 1927 | train_loss: 0.044645097 | validation_loss: 0.047344957 | Roc Score: 0.9663144 | Time elapsed: 2:47:21.293873\n",
            "iterations: 1928 | train_loss: 0.040619534 | validation_loss: 0.04715767 | Roc Score: 0.96632254 | Time elapsed: 2:47:26.549435\n",
            "iterations: 1929 | train_loss: 0.046304416 | validation_loss: 0.047396712 | Roc Score: 0.9663317 | Time elapsed: 2:47:31.823212\n",
            "iterations: 1930 | train_loss: 0.03663918 | validation_loss: 0.047736656 | Roc Score: 0.9663407 | Time elapsed: 2:47:37.302517\n",
            "iterations: 1931 | train_loss: 0.042082258 | validation_loss: 0.0475113 | Roc Score: 0.9663499 | Time elapsed: 2:47:42.492106\n",
            "iterations: 1932 | train_loss: 0.0429812 | validation_loss: 0.047300667 | Roc Score: 0.96635896 | Time elapsed: 2:47:47.758778\n",
            "iterations: 1933 | train_loss: 0.034921605 | validation_loss: 0.04716607 | Roc Score: 0.9663672 | Time elapsed: 2:47:52.974546\n",
            "iterations: 1934 | train_loss: 0.05079901 | validation_loss: 0.047356516 | Roc Score: 0.9663751 | Time elapsed: 2:47:58.194974\n",
            "iterations: 1935 | train_loss: 0.05081024 | validation_loss: 0.04783769 | Roc Score: 0.9663824 | Time elapsed: 2:48:03.470422\n",
            "iterations: 1936 | train_loss: 0.030581785 | validation_loss: 0.04890505 | Roc Score: 0.96638817 | Time elapsed: 2:48:08.714621\n",
            "iterations: 1937 | train_loss: 0.05521838 | validation_loss: 0.050061695 | Roc Score: 0.9663927 | Time elapsed: 2:48:13.920958\n",
            "iterations: 1938 | train_loss: 0.044958986 | validation_loss: 0.05073602 | Roc Score: 0.96639645 | Time elapsed: 2:48:19.119324\n",
            "iterations: 1939 | train_loss: 0.03483123 | validation_loss: 0.05087843 | Roc Score: 0.9663999 | Time elapsed: 2:48:24.379308\n",
            "iterations: 1940 | train_loss: 0.028659478 | validation_loss: 0.050733205 | Roc Score: 0.9664038 | Time elapsed: 2:48:29.631371\n",
            "iterations: 1941 | train_loss: 0.018479623 | validation_loss: 0.05086571 | Roc Score: 0.9664072 | Time elapsed: 2:48:34.857084\n",
            "iterations: 1942 | train_loss: 0.049994398 | validation_loss: 0.0505637 | Roc Score: 0.9664104 | Time elapsed: 2:48:40.121770\n",
            "iterations: 1943 | train_loss: 0.055352308 | validation_loss: 0.05022349 | Roc Score: 0.9664141 | Time elapsed: 2:48:45.165789\n",
            "iterations: 1944 | train_loss: 0.052730028 | validation_loss: 0.049278934 | Roc Score: 0.9664191 | Time elapsed: 2:48:50.409820\n",
            "iterations: 1945 | train_loss: 0.053751342 | validation_loss: 0.048432678 | Roc Score: 0.9664257 | Time elapsed: 2:48:55.607833\n",
            "iterations: 1946 | train_loss: 0.040308196 | validation_loss: 0.048205327 | Roc Score: 0.96643335 | Time elapsed: 2:49:00.826685\n",
            "iterations: 1947 | train_loss: 0.028137734 | validation_loss: 0.04855918 | Roc Score: 0.966441 | Time elapsed: 2:49:06.035667\n",
            "iterations: 1948 | train_loss: 0.049366795 | validation_loss: 0.048710767 | Roc Score: 0.9664489 | Time elapsed: 2:49:11.345705\n",
            "iterations: 1949 | train_loss: 0.04135635 | validation_loss: 0.048254628 | Roc Score: 0.96645707 | Time elapsed: 2:49:16.623852\n"
          ],
          "name": "stdout"
        },
        {
          "output_type": "stream",
          "text": [
            "iterations: 1950 | train_loss: 0.033645794 | validation_loss: 0.04776987 | Roc Score: 0.96646523 | Time elapsed: 2:49:21.887609\n",
            "iterations: 1951 | train_loss: 0.04122397 | validation_loss: 0.047456607 | Roc Score: 0.9664736 | Time elapsed: 2:49:27.113750\n",
            "iterations: 1952 | train_loss: 0.05132424 | validation_loss: 0.047319386 | Roc Score: 0.96648186 | Time elapsed: 2:49:32.390802\n",
            "iterations: 1953 | train_loss: 0.046394844 | validation_loss: 0.047528412 | Roc Score: 0.96649045 | Time elapsed: 2:49:37.645514\n",
            "iterations: 1954 | train_loss: 0.040584557 | validation_loss: 0.04737944 | Roc Score: 0.9664988 | Time elapsed: 2:49:42.884496\n",
            "iterations: 1955 | train_loss: 0.05618487 | validation_loss: 0.047415055 | Roc Score: 0.9665075 | Time elapsed: 2:49:48.128123\n",
            "iterations: 1956 | train_loss: 0.060300928 | validation_loss: 0.047363486 | Roc Score: 0.9665164 | Time elapsed: 2:49:53.285176\n",
            "iterations: 1957 | train_loss: 0.050882675 | validation_loss: 0.047245685 | Roc Score: 0.96652526 | Time elapsed: 2:49:58.528484\n",
            "iterations: 1958 | train_loss: 0.05293691 | validation_loss: 0.047135286 | Roc Score: 0.96653426 | Time elapsed: 2:50:03.708724\n",
            "iterations: 1959 | train_loss: 0.029382126 | validation_loss: 0.0470592 | Roc Score: 0.96654326 | Time elapsed: 2:50:08.963701\n",
            "iterations: 1960 | train_loss: 0.025879227 | validation_loss: 0.047128137 | Roc Score: 0.96655166 | Time elapsed: 2:50:14.223862\n",
            "iterations: 1961 | train_loss: 0.04568871 | validation_loss: 0.04745613 | Roc Score: 0.96655905 | Time elapsed: 2:50:19.428442\n",
            "iterations: 1962 | train_loss: 0.04562191 | validation_loss: 0.048002243 | Roc Score: 0.96656615 | Time elapsed: 2:50:24.653334\n",
            "iterations: 1963 | train_loss: 0.06157202 | validation_loss: 0.048012387 | Roc Score: 0.96657324 | Time elapsed: 2:50:29.880213\n",
            "iterations: 1964 | train_loss: 0.048692036 | validation_loss: 0.048245832 | Roc Score: 0.9665808 | Time elapsed: 2:50:35.120370\n",
            "iterations: 1965 | train_loss: 0.040083338 | validation_loss: 0.04848527 | Roc Score: 0.9665884 | Time elapsed: 2:50:40.429293\n",
            "iterations: 1966 | train_loss: 0.063796155 | validation_loss: 0.049073968 | Roc Score: 0.9665961 | Time elapsed: 2:50:45.667100\n",
            "iterations: 1967 | train_loss: 0.04528658 | validation_loss: 0.04866096 | Roc Score: 0.96660405 | Time elapsed: 2:50:50.903308\n",
            "iterations: 1968 | train_loss: 0.03430509 | validation_loss: 0.04806139 | Roc Score: 0.96661234 | Time elapsed: 2:50:56.109953\n",
            "iterations: 1969 | train_loss: 0.037059404 | validation_loss: 0.047708526 | Roc Score: 0.9666204 | Time elapsed: 2:51:01.313531\n",
            "iterations: 1970 | train_loss: 0.04557252 | validation_loss: 0.047509894 | Roc Score: 0.9666286 | Time elapsed: 2:51:06.575881\n",
            "iterations: 1971 | train_loss: 0.030318063 | validation_loss: 0.047356654 | Roc Score: 0.96663654 | Time elapsed: 2:51:11.834339\n",
            "iterations: 1972 | train_loss: 0.05392447 | validation_loss: 0.047081012 | Roc Score: 0.966645 | Time elapsed: 2:51:17.111179\n",
            "iterations: 1973 | train_loss: 0.04817048 | validation_loss: 0.047446456 | Roc Score: 0.96665365 | Time elapsed: 2:51:22.320430\n",
            "iterations: 1974 | train_loss: 0.048061118 | validation_loss: 0.04816346 | Roc Score: 0.9666619 | Time elapsed: 2:51:27.603203\n",
            "iterations: 1975 | train_loss: 0.041776024 | validation_loss: 0.049008828 | Roc Score: 0.9666704 | Time elapsed: 2:51:32.857897\n",
            "iterations: 1976 | train_loss: 0.031768344 | validation_loss: 0.049323857 | Roc Score: 0.96667886 | Time elapsed: 2:51:37.781792\n",
            "iterations: 1977 | train_loss: 0.051186454 | validation_loss: 0.0488687 | Roc Score: 0.9666867 | Time elapsed: 2:51:43.060515\n",
            "iterations: 1978 | train_loss: 0.049836453 | validation_loss: 0.04851081 | Roc Score: 0.96669424 | Time elapsed: 2:51:48.292418\n",
            "iterations: 1979 | train_loss: 0.050977837 | validation_loss: 0.04877104 | Roc Score: 0.9667018 | Time elapsed: 2:51:53.517039\n",
            "iterations: 1980 | train_loss: 0.04051964 | validation_loss: 0.04938479 | Roc Score: 0.9667086 | Time elapsed: 2:51:58.744640\n",
            "iterations: 1981 | train_loss: 0.052875023 | validation_loss: 0.049807113 | Roc Score: 0.96671516 | Time elapsed: 2:52:03.964348\n",
            "iterations: 1982 | train_loss: 0.03312934 | validation_loss: 0.050196055 | Roc Score: 0.9667212 | Time elapsed: 2:52:09.172387\n",
            "iterations: 1983 | train_loss: 0.0428564 | validation_loss: 0.0503452 | Roc Score: 0.96672684 | Time elapsed: 2:52:14.370413\n",
            "iterations: 1984 | train_loss: 0.050812487 | validation_loss: 0.05004632 | Roc Score: 0.9667319 | Time elapsed: 2:52:19.597255\n",
            "iterations: 1985 | train_loss: 0.026908856 | validation_loss: 0.050316542 | Roc Score: 0.96673554 | Time elapsed: 2:52:24.830669\n",
            "iterations: 1986 | train_loss: 0.03490859 | validation_loss: 0.050696187 | Roc Score: 0.96673805 | Time elapsed: 2:52:29.991192\n",
            "iterations: 1987 | train_loss: 0.031818714 | validation_loss: 0.050676752 | Roc Score: 0.96674067 | Time elapsed: 2:52:35.243884\n",
            "iterations: 1988 | train_loss: 0.026625363 | validation_loss: 0.050361827 | Roc Score: 0.9667434 | Time elapsed: 2:52:40.479968\n"
          ],
          "name": "stdout"
        },
        {
          "output_type": "stream",
          "text": [
            "iterations: 1989 | train_loss: 0.053476665 | validation_loss: 0.049827024 | Roc Score: 0.96674746 | Time elapsed: 2:52:45.716992\n",
            "iterations: 1990 | train_loss: 0.034006964 | validation_loss: 0.049389984 | Roc Score: 0.9667518 | Time elapsed: 2:52:50.877905\n",
            "iterations: 1991 | train_loss: 0.041375477 | validation_loss: 0.048966695 | Roc Score: 0.96675706 | Time elapsed: 2:52:56.093669\n",
            "iterations: 1992 | train_loss: 0.064536594 | validation_loss: 0.04828802 | Roc Score: 0.96676296 | Time elapsed: 2:53:01.356898\n",
            "iterations: 1993 | train_loss: 0.037629724 | validation_loss: 0.048118997 | Roc Score: 0.9667691 | Time elapsed: 2:53:06.593600\n",
            "iterations: 1994 | train_loss: 0.039095256 | validation_loss: 0.048140787 | Roc Score: 0.96677536 | Time elapsed: 2:53:11.829047\n",
            "iterations: 1995 | train_loss: 0.053597063 | validation_loss: 0.04823853 | Roc Score: 0.966782 | Time elapsed: 2:53:17.041637\n",
            "iterations: 1996 | train_loss: 0.036789797 | validation_loss: 0.04857653 | Roc Score: 0.9667888 | Time elapsed: 2:53:22.254379\n",
            "iterations: 1997 | train_loss: 0.040987633 | validation_loss: 0.048604194 | Roc Score: 0.96679616 | Time elapsed: 2:53:27.280637\n",
            "iterations: 1998 | train_loss: 0.03498446 | validation_loss: 0.04861826 | Roc Score: 0.96680343 | Time elapsed: 2:53:32.501563\n",
            "iterations: 1999 | train_loss: 0.044135902 | validation_loss: 0.048175663 | Roc Score: 0.96681046 | Time elapsed: 2:53:37.717500\n",
            "iterations: 2000 | train_loss: 0.055653535 | validation_loss: 0.047678307 | Roc Score: 0.9668175 | Time elapsed: 2:53:42.875003\n",
            "iterations: 2001 | train_loss: 0.053020556 | validation_loss: 0.047315516 | Roc Score: 0.9668251 | Time elapsed: 2:53:48.118269\n",
            "iterations: 2002 | train_loss: 0.037259404 | validation_loss: 0.047111597 | Roc Score: 0.96683264 | Time elapsed: 2:53:53.356730\n",
            "iterations: 2003 | train_loss: 0.053939812 | validation_loss: 0.047089167 | Roc Score: 0.9668402 | Time elapsed: 2:53:58.618627\n",
            "iterations: 2004 | train_loss: 0.039492376 | validation_loss: 0.04714915 | Roc Score: 0.9668481 | Time elapsed: 2:54:03.839948\n",
            "iterations: 2005 | train_loss: 0.051700532 | validation_loss: 0.047214966 | Roc Score: 0.96685547 | Time elapsed: 2:54:09.092009\n",
            "iterations: 2006 | train_loss: 0.04022352 | validation_loss: 0.047498696 | Roc Score: 0.96686244 | Time elapsed: 2:54:14.293825\n",
            "iterations: 2007 | train_loss: 0.03726992 | validation_loss: 0.047658734 | Roc Score: 0.9668694 | Time elapsed: 2:54:19.516675\n",
            "iterations: 2008 | train_loss: 0.049196072 | validation_loss: 0.047422364 | Roc Score: 0.9668767 | Time elapsed: 2:54:24.768125\n",
            "iterations: 2009 | train_loss: 0.046028316 | validation_loss: 0.04706861 | Roc Score: 0.96688443 | Time elapsed: 2:54:29.980153\n",
            "iterations: 2010 | train_loss: 0.041924648 | validation_loss: 0.047600504 | Roc Score: 0.9668927 | Time elapsed: 2:54:35.174750\n",
            "iterations: 2011 | train_loss: 0.041628253 | validation_loss: 0.048226107 | Roc Score: 0.9669013 | Time elapsed: 2:54:40.420050\n",
            "iterations: 2012 | train_loss: 0.045909226 | validation_loss: 0.048881944 | Roc Score: 0.9669097 | Time elapsed: 2:54:45.628772\n",
            "iterations: 2013 | train_loss: 0.04671907 | validation_loss: 0.04900879 | Roc Score: 0.9669183 | Time elapsed: 2:54:50.799606\n",
            "iterations: 2014 | train_loss: 0.023604196 | validation_loss: 0.048624758 | Roc Score: 0.9669265 | Time elapsed: 2:54:56.062150\n",
            "iterations: 2015 | train_loss: 0.036392257 | validation_loss: 0.048476603 | Roc Score: 0.9669342 | Time elapsed: 2:55:01.268805\n",
            "iterations: 2016 | train_loss: 0.04077303 | validation_loss: 0.04879392 | Roc Score: 0.96694 | Time elapsed: 2:55:06.464414\n",
            "iterations: 2017 | train_loss: 0.026419604 | validation_loss: 0.049200088 | Roc Score: 0.9669451 | Time elapsed: 2:55:11.702525\n",
            "iterations: 2018 | train_loss: 0.036730003 | validation_loss: 0.049604863 | Roc Score: 0.966949 | Time elapsed: 2:55:16.866920\n",
            "iterations: 2019 | train_loss: 0.041567117 | validation_loss: 0.050101276 | Roc Score: 0.9669526 | Time elapsed: 2:55:22.119922\n",
            "iterations: 2020 | train_loss: 0.023968345 | validation_loss: 0.050594363 | Roc Score: 0.9669556 | Time elapsed: 2:55:27.349734\n",
            "iterations: 2021 | train_loss: 0.052574787 | validation_loss: 0.050213072 | Roc Score: 0.9669588 | Time elapsed: 2:55:32.597172\n",
            "iterations: 2022 | train_loss: 0.026494509 | validation_loss: 0.049719956 | Roc Score: 0.96696275 | Time elapsed: 2:55:37.778790\n",
            "iterations: 2023 | train_loss: 0.038617555 | validation_loss: 0.048403412 | Roc Score: 0.9669679 | Time elapsed: 2:55:42.956652\n",
            "iterations: 2024 | train_loss: 0.050502684 | validation_loss: 0.047179956 | Roc Score: 0.96697426 | Time elapsed: 2:55:48.142703\n",
            "iterations: 2025 | train_loss: 0.045034092 | validation_loss: 0.046727024 | Roc Score: 0.96698207 | Time elapsed: 2:55:53.361404\n",
            "iterations: 2026 | train_loss: 0.034092214 | validation_loss: 0.047574148 | Roc Score: 0.9669906 | Time elapsed: 2:55:58.603709\n",
            "iterations: 2027 | train_loss: 0.033393033 | validation_loss: 0.04876991 | Roc Score: 0.9669986 | Time elapsed: 2:56:03.827294\n"
          ],
          "name": "stdout"
        },
        {
          "output_type": "stream",
          "text": [
            "iterations: 2028 | train_loss: 0.037373357 | validation_loss: 0.049315114 | Roc Score: 0.9670063 | Time elapsed: 2:56:09.067110\n",
            "iterations: 2029 | train_loss: 0.050054833 | validation_loss: 0.049031205 | Roc Score: 0.967014 | Time elapsed: 2:56:14.309947\n",
            "iterations: 2030 | train_loss: 0.041950885 | validation_loss: 0.04868535 | Roc Score: 0.96702164 | Time elapsed: 2:56:19.567322\n",
            "iterations: 2031 | train_loss: 0.058387604 | validation_loss: 0.048139364 | Roc Score: 0.96702963 | Time elapsed: 2:56:24.784246\n",
            "iterations: 2032 | train_loss: 0.055813096 | validation_loss: 0.047604218 | Roc Score: 0.96703744 | Time elapsed: 2:56:30.010690\n",
            "iterations: 2033 | train_loss: 0.046152532 | validation_loss: 0.04690467 | Roc Score: 0.9670448 | Time elapsed: 2:56:35.243165\n",
            "iterations: 2034 | train_loss: 0.049399335 | validation_loss: 0.04671106 | Roc Score: 0.967052 | Time elapsed: 2:56:40.472199\n",
            "iterations: 2035 | train_loss: 0.06658387 | validation_loss: 0.04679418 | Roc Score: 0.9670591 | Time elapsed: 2:56:45.481824\n",
            "iterations: 2036 | train_loss: 0.03470436 | validation_loss: 0.04702514 | Roc Score: 0.96706575 | Time elapsed: 2:56:50.706277\n",
            "iterations: 2037 | train_loss: 0.033140108 | validation_loss: 0.04722823 | Roc Score: 0.9670722 | Time elapsed: 2:56:55.895906\n",
            "iterations: 2038 | train_loss: 0.029777586 | validation_loss: 0.04754057 | Roc Score: 0.9670786 | Time elapsed: 2:57:01.180172\n",
            "iterations: 2039 | train_loss: 0.051561132 | validation_loss: 0.047607485 | Roc Score: 0.9670848 | Time elapsed: 2:57:06.364802\n",
            "iterations: 2040 | train_loss: 0.039161954 | validation_loss: 0.04760507 | Roc Score: 0.96709114 | Time elapsed: 2:57:11.560698\n",
            "iterations: 2041 | train_loss: 0.049311563 | validation_loss: 0.0473469 | Roc Score: 0.9670977 | Time elapsed: 2:57:16.653612\n",
            "iterations: 2042 | train_loss: 0.04448805 | validation_loss: 0.047160506 | Roc Score: 0.9671049 | Time elapsed: 2:57:21.868608\n",
            "iterations: 2043 | train_loss: 0.03264795 | validation_loss: 0.046888486 | Roc Score: 0.96711266 | Time elapsed: 2:57:27.120948\n",
            "iterations: 2044 | train_loss: 0.041785352 | validation_loss: 0.04683976 | Roc Score: 0.9671204 | Time elapsed: 2:57:32.301558\n",
            "iterations: 2045 | train_loss: 0.04888831 | validation_loss: 0.047074575 | Roc Score: 0.96712816 | Time elapsed: 2:57:37.556174\n",
            "iterations: 2046 | train_loss: 0.056943703 | validation_loss: 0.04742086 | Roc Score: 0.96713626 | Time elapsed: 2:57:42.794794\n",
            "iterations: 2047 | train_loss: 0.03612224 | validation_loss: 0.047350977 | Roc Score: 0.9671443 | Time elapsed: 2:57:47.994262\n",
            "iterations: 2048 | train_loss: 0.029167986 | validation_loss: 0.046976656 | Roc Score: 0.9671525 | Time elapsed: 2:57:53.191319\n",
            "iterations: 2049 | train_loss: 0.04291688 | validation_loss: 0.046387833 | Roc Score: 0.9671601 | Time elapsed: 2:57:58.400812\n",
            "iterations: 2050 | train_loss: 0.05097599 | validation_loss: 0.04618718 | Roc Score: 0.9671675 | Time elapsed: 2:58:03.632855\n",
            "iterations: 2051 | train_loss: 0.036653075 | validation_loss: 0.04632974 | Roc Score: 0.96717477 | Time elapsed: 2:58:08.867450\n",
            "iterations: 2052 | train_loss: 0.039417822 | validation_loss: 0.046529423 | Roc Score: 0.9671812 | Time elapsed: 2:58:14.118508\n",
            "iterations: 2053 | train_loss: 0.023437776 | validation_loss: 0.04716136 | Roc Score: 0.967187 | Time elapsed: 2:58:19.351467\n",
            "iterations: 2054 | train_loss: 0.031446774 | validation_loss: 0.048080817 | Roc Score: 0.96719253 | Time elapsed: 2:58:24.518383\n",
            "iterations: 2055 | train_loss: 0.0496864 | validation_loss: 0.04832467 | Roc Score: 0.9671977 | Time elapsed: 2:58:29.766255\n",
            "iterations: 2056 | train_loss: 0.040265474 | validation_loss: 0.048162613 | Roc Score: 0.96720266 | Time elapsed: 2:58:35.035650\n",
            "iterations: 2057 | train_loss: 0.024074614 | validation_loss: 0.04783237 | Roc Score: 0.9672079 | Time elapsed: 2:58:40.275260\n",
            "iterations: 2058 | train_loss: 0.04169095 | validation_loss: 0.047410596 | Roc Score: 0.9672135 | Time elapsed: 2:58:45.493667\n",
            "iterations: 2059 | train_loss: 0.04083697 | validation_loss: 0.047131468 | Roc Score: 0.9672195 | Time elapsed: 2:58:50.718341\n",
            "iterations: 2060 | train_loss: 0.027327165 | validation_loss: 0.047048297 | Roc Score: 0.96722525 | Time elapsed: 2:58:55.973631\n",
            "iterations: 2061 | train_loss: 0.044394154 | validation_loss: 0.046875983 | Roc Score: 0.96723187 | Time elapsed: 2:59:01.206058\n",
            "iterations: 2062 | train_loss: 0.02852569 | validation_loss: 0.046763822 | Roc Score: 0.96723866 | Time elapsed: 2:59:06.447394\n",
            "iterations: 2063 | train_loss: 0.05385807 | validation_loss: 0.046531204 | Roc Score: 0.967246 | Time elapsed: 2:59:11.632777\n",
            "iterations: 2064 | train_loss: 0.03726858 | validation_loss: 0.046363838 | Roc Score: 0.9672536 | Time elapsed: 2:59:16.775873\n",
            "iterations: 2065 | train_loss: 0.036203306 | validation_loss: 0.04620248 | Roc Score: 0.96726155 | Time elapsed: 2:59:21.984563\n",
            "iterations: 2066 | train_loss: 0.04062075 | validation_loss: 0.04622616 | Roc Score: 0.967269 | Time elapsed: 2:59:27.262516\n"
          ],
          "name": "stdout"
        },
        {
          "output_type": "stream",
          "text": [
            "iterations: 2067 | train_loss: 0.05232991 | validation_loss: 0.04604902 | Roc Score: 0.96727675 | Time elapsed: 2:59:32.486379\n",
            "iterations: 2068 | train_loss: 0.06049258 | validation_loss: 0.04595732 | Roc Score: 0.9672848 | Time elapsed: 2:59:37.746653\n",
            "iterations: 2069 | train_loss: 0.03282869 | validation_loss: 0.046092123 | Roc Score: 0.96729267 | Time elapsed: 2:59:42.912021\n",
            "iterations: 2070 | train_loss: 0.03672912 | validation_loss: 0.04649761 | Roc Score: 0.9673002 | Time elapsed: 2:59:48.147127\n",
            "iterations: 2071 | train_loss: 0.01857459 | validation_loss: 0.047031373 | Roc Score: 0.9673068 | Time elapsed: 2:59:53.316519\n",
            "iterations: 2072 | train_loss: 0.027338326 | validation_loss: 0.04789749 | Roc Score: 0.967312 | Time elapsed: 2:59:58.557336\n",
            "iterations: 2073 | train_loss: 0.03245308 | validation_loss: 0.049061444 | Roc Score: 0.9673159 | Time elapsed: 3:00:03.792503\n",
            "iterations: 2074 | train_loss: 0.06775511 | validation_loss: 0.049438156 | Roc Score: 0.96731913 | Time elapsed: 3:00:09.006772\n",
            "iterations: 2075 | train_loss: 0.031010425 | validation_loss: 0.04926396 | Roc Score: 0.9673226 | Time elapsed: 3:00:14.245276\n",
            "iterations: 2076 | train_loss: 0.0361245 | validation_loss: 0.049172115 | Roc Score: 0.9673269 | Time elapsed: 3:00:19.421302\n",
            "iterations: 2077 | train_loss: 0.047588456 | validation_loss: 0.0483774 | Roc Score: 0.96733254 | Time elapsed: 3:00:24.557696\n",
            "iterations: 2078 | train_loss: 0.037766054 | validation_loss: 0.047757518 | Roc Score: 0.9673385 | Time elapsed: 3:00:29.782311\n",
            "iterations: 2079 | train_loss: 0.05749205 | validation_loss: 0.047326252 | Roc Score: 0.96734583 | Time elapsed: 3:00:35.004477\n",
            "iterations: 2080 | train_loss: 0.02850981 | validation_loss: 0.047089536 | Roc Score: 0.9673531 | Time elapsed: 3:00:40.271506\n",
            "iterations: 2081 | train_loss: 0.03435751 | validation_loss: 0.046982452 | Roc Score: 0.9673609 | Time elapsed: 3:00:45.500772\n",
            "iterations: 2082 | train_loss: 0.035640016 | validation_loss: 0.047005106 | Roc Score: 0.9673685 | Time elapsed: 3:00:50.714195\n",
            "iterations: 2083 | train_loss: 0.03659269 | validation_loss: 0.046986036 | Roc Score: 0.96737623 | Time elapsed: 3:00:55.906304\n",
            "iterations: 2084 | train_loss: 0.0354861 | validation_loss: 0.047074262 | Roc Score: 0.9673836 | Time elapsed: 3:01:01.138951\n",
            "iterations: 2085 | train_loss: 0.04295524 | validation_loss: 0.047482405 | Roc Score: 0.9673908 | Time elapsed: 3:01:06.432988\n",
            "iterations: 2086 | train_loss: 0.03582703 | validation_loss: 0.04793562 | Roc Score: 0.9673974 | Time elapsed: 3:01:11.660209\n",
            "iterations: 2087 | train_loss: 0.03962617 | validation_loss: 0.0486611 | Roc Score: 0.96740407 | Time elapsed: 3:01:16.860161\n",
            "iterations: 2088 | train_loss: 0.052709516 | validation_loss: 0.04926757 | Roc Score: 0.96741056 | Time elapsed: 3:01:22.105507\n",
            "iterations: 2089 | train_loss: 0.052840047 | validation_loss: 0.049937215 | Roc Score: 0.96741706 | Time elapsed: 3:01:27.326977\n",
            "iterations: 2090 | train_loss: 0.057896912 | validation_loss: 0.050061103 | Roc Score: 0.9674235 | Time elapsed: 3:01:32.590818\n",
            "iterations: 2091 | train_loss: 0.04633314 | validation_loss: 0.04955919 | Roc Score: 0.9674297 | Time elapsed: 3:01:37.778373\n",
            "iterations: 2092 | train_loss: 0.048567623 | validation_loss: 0.04897431 | Roc Score: 0.96743613 | Time elapsed: 3:01:43.025860\n",
            "iterations: 2093 | train_loss: 0.03420284 | validation_loss: 0.04868761 | Roc Score: 0.96744215 | Time elapsed: 3:01:48.266868\n",
            "iterations: 2094 | train_loss: 0.044150565 | validation_loss: 0.048585914 | Roc Score: 0.96744823 | Time elapsed: 3:01:53.464385\n",
            "iterations: 2095 | train_loss: 0.053094376 | validation_loss: 0.04850117 | Roc Score: 0.96745443 | Time elapsed: 3:01:58.687438\n",
            "iterations: 2096 | train_loss: 0.043651782 | validation_loss: 0.048594166 | Roc Score: 0.96746093 | Time elapsed: 3:02:03.850100\n",
            "iterations: 2097 | train_loss: 0.048714984 | validation_loss: 0.048579413 | Roc Score: 0.9674673 | Time elapsed: 3:02:09.060147\n",
            "iterations: 2098 | train_loss: 0.05013155 | validation_loss: 0.04831416 | Roc Score: 0.9674736 | Time elapsed: 3:02:14.301626\n",
            "iterations: 2099 | train_loss: 0.063148014 | validation_loss: 0.047776043 | Roc Score: 0.9674806 | Time elapsed: 3:02:19.507001\n",
            "iterations: 2100 | train_loss: 0.052169822 | validation_loss: 0.04760735 | Roc Score: 0.96748817 | Time elapsed: 3:02:24.558805\n",
            "iterations: 2101 | train_loss: 0.056875553 | validation_loss: 0.04786819 | Roc Score: 0.96749556 | Time elapsed: 3:02:29.814003\n",
            "iterations: 2102 | train_loss: 0.04819814 | validation_loss: 0.04808942 | Roc Score: 0.96750283 | Time elapsed: 3:02:34.984091\n",
            "iterations: 2103 | train_loss: 0.045568187 | validation_loss: 0.048182085 | Roc Score: 0.96751016 | Time elapsed: 3:02:40.211622\n",
            "iterations: 2104 | train_loss: 0.049690776 | validation_loss: 0.048022732 | Roc Score: 0.9675174 | Time elapsed: 3:02:45.592200\n",
            "iterations: 2105 | train_loss: 0.05247705 | validation_loss: 0.047759436 | Roc Score: 0.9675244 | Time elapsed: 3:02:50.774048\n"
          ],
          "name": "stdout"
        },
        {
          "output_type": "stream",
          "text": [
            "iterations: 2106 | train_loss: 0.039606445 | validation_loss: 0.047530334 | Roc Score: 0.96753126 | Time elapsed: 3:02:56.007558\n",
            "iterations: 2107 | train_loss: 0.04055402 | validation_loss: 0.047486037 | Roc Score: 0.9675375 | Time elapsed: 3:03:01.196082\n",
            "iterations: 2108 | train_loss: 0.028735273 | validation_loss: 0.047563035 | Roc Score: 0.9675436 | Time elapsed: 3:03:06.412577\n",
            "iterations: 2109 | train_loss: 0.047507584 | validation_loss: 0.0475831 | Roc Score: 0.9675497 | Time elapsed: 3:03:11.606395\n",
            "iterations: 2110 | train_loss: 0.03589819 | validation_loss: 0.04767157 | Roc Score: 0.96755564 | Time elapsed: 3:03:16.837704\n",
            "iterations: 2111 | train_loss: 0.04445918 | validation_loss: 0.047367603 | Roc Score: 0.9675616 | Time elapsed: 3:03:22.118705\n",
            "iterations: 2112 | train_loss: 0.040744416 | validation_loss: 0.047317915 | Roc Score: 0.9675681 | Time elapsed: 3:03:27.381873\n",
            "iterations: 2113 | train_loss: 0.04887651 | validation_loss: 0.047690764 | Roc Score: 0.9675748 | Time elapsed: 3:03:32.640906\n",
            "iterations: 2114 | train_loss: 0.03796908 | validation_loss: 0.04779482 | Roc Score: 0.9675816 | Time elapsed: 3:03:37.868147\n",
            "iterations: 2115 | train_loss: 0.052545108 | validation_loss: 0.04724563 | Roc Score: 0.96758884 | Time elapsed: 3:03:43.132033\n",
            "iterations: 2116 | train_loss: 0.04588756 | validation_loss: 0.04696457 | Roc Score: 0.96759623 | Time elapsed: 3:03:48.371547\n",
            "iterations: 2117 | train_loss: 0.05483981 | validation_loss: 0.046839844 | Roc Score: 0.96760374 | Time elapsed: 3:03:53.631776\n",
            "iterations: 2118 | train_loss: 0.040119343 | validation_loss: 0.04695635 | Roc Score: 0.9676116 | Time elapsed: 3:03:58.863361\n",
            "iterations: 2119 | train_loss: 0.042916197 | validation_loss: 0.046959333 | Roc Score: 0.9676193 | Time elapsed: 3:04:04.005833\n",
            "iterations: 2120 | train_loss: 0.05993838 | validation_loss: 0.04718787 | Roc Score: 0.96762705 | Time elapsed: 3:04:09.283965\n",
            "iterations: 2121 | train_loss: 0.050087046 | validation_loss: 0.04754435 | Roc Score: 0.9676353 | Time elapsed: 3:04:14.538977\n",
            "iterations: 2122 | train_loss: 0.049598873 | validation_loss: 0.048746437 | Roc Score: 0.9676428 | Time elapsed: 3:04:19.727449\n",
            "iterations: 2123 | train_loss: 0.043621533 | validation_loss: 0.04886842 | Roc Score: 0.9676505 | Time elapsed: 3:04:24.943973\n",
            "iterations: 2124 | train_loss: 0.043171402 | validation_loss: 0.048368644 | Roc Score: 0.96765804 | Time elapsed: 3:04:30.166160\n",
            "iterations: 2125 | train_loss: 0.07357031 | validation_loss: 0.04785104 | Roc Score: 0.9676658 | Time elapsed: 3:04:35.439388\n",
            "iterations: 2126 | train_loss: 0.04956597 | validation_loss: 0.0474879 | Roc Score: 0.9676737 | Time elapsed: 3:04:40.686071\n",
            "iterations: 2127 | train_loss: 0.05777015 | validation_loss: 0.0472395 | Roc Score: 0.9676815 | Time elapsed: 3:04:45.975194\n",
            "iterations: 2128 | train_loss: 0.05497594 | validation_loss: 0.047172606 | Roc Score: 0.96768874 | Time elapsed: 3:04:51.216949\n",
            "iterations: 2129 | train_loss: 0.03247359 | validation_loss: 0.0472955 | Roc Score: 0.9676955 | Time elapsed: 3:04:56.285549\n",
            "iterations: 2130 | train_loss: 0.048239727 | validation_loss: 0.04749228 | Roc Score: 0.96770203 | Time elapsed: 3:05:01.500524\n",
            "iterations: 2131 | train_loss: 0.03004067 | validation_loss: 0.04782813 | Roc Score: 0.96770746 | Time elapsed: 3:05:06.745833\n",
            "iterations: 2132 | train_loss: 0.035039034 | validation_loss: 0.048153687 | Roc Score: 0.9677118 | Time elapsed: 3:05:12.025951\n",
            "iterations: 2133 | train_loss: 0.046011142 | validation_loss: 0.048385303 | Roc Score: 0.96771634 | Time elapsed: 3:05:17.202100\n",
            "iterations: 2134 | train_loss: 0.032647967 | validation_loss: 0.048541963 | Roc Score: 0.96772075 | Time elapsed: 3:05:22.444827\n",
            "iterations: 2135 | train_loss: 0.046165917 | validation_loss: 0.04818999 | Roc Score: 0.9677254 | Time elapsed: 3:05:27.662608\n",
            "iterations: 2136 | train_loss: 0.07037304 | validation_loss: 0.04795773 | Roc Score: 0.96773106 | Time elapsed: 3:05:32.861200\n",
            "iterations: 2137 | train_loss: 0.06949739 | validation_loss: 0.04828065 | Roc Score: 0.96773756 | Time elapsed: 3:05:37.939225\n",
            "iterations: 2138 | train_loss: 0.037766077 | validation_loss: 0.04901212 | Roc Score: 0.9677444 | Time elapsed: 3:05:43.208401\n",
            "iterations: 2139 | train_loss: 0.046074647 | validation_loss: 0.049466442 | Roc Score: 0.967751 | Time elapsed: 3:05:48.474539\n",
            "iterations: 2140 | train_loss: 0.06475085 | validation_loss: 0.05024872 | Roc Score: 0.96775776 | Time elapsed: 3:05:53.697767\n",
            "iterations: 2141 | train_loss: 0.04691332 | validation_loss: 0.0499469 | Roc Score: 0.9677648 | Time elapsed: 3:05:58.916552\n",
            "iterations: 2142 | train_loss: 0.045650147 | validation_loss: 0.048811004 | Roc Score: 0.9677718 | Time elapsed: 3:06:04.158728\n",
            "iterations: 2143 | train_loss: 0.051140416 | validation_loss: 0.047462855 | Roc Score: 0.967779 | Time elapsed: 3:06:09.410899\n",
            "iterations: 2144 | train_loss: 0.0381436 | validation_loss: 0.04710003 | Roc Score: 0.9677861 | Time elapsed: 3:06:14.648893\n"
          ],
          "name": "stdout"
        },
        {
          "output_type": "stream",
          "text": [
            "iterations: 2145 | train_loss: 0.07054348 | validation_loss: 0.04726219 | Roc Score: 0.96779233 | Time elapsed: 3:06:19.856199\n",
            "iterations: 2146 | train_loss: 0.03628801 | validation_loss: 0.047684953 | Roc Score: 0.9677983 | Time elapsed: 3:06:25.060882\n",
            "iterations: 2147 | train_loss: 0.039044004 | validation_loss: 0.04817913 | Roc Score: 0.96780384 | Time elapsed: 3:06:30.310459\n",
            "iterations: 2148 | train_loss: 0.047015537 | validation_loss: 0.04859726 | Roc Score: 0.967809 | Time elapsed: 3:06:35.543942\n",
            "iterations: 2149 | train_loss: 0.03685038 | validation_loss: 0.048311744 | Roc Score: 0.96781427 | Time elapsed: 3:06:40.738170\n",
            "iterations: 2150 | train_loss: 0.041556846 | validation_loss: 0.0475974 | Roc Score: 0.9678203 | Time elapsed: 3:06:45.982949\n",
            "iterations: 2151 | train_loss: 0.055697206 | validation_loss: 0.047130056 | Roc Score: 0.96782684 | Time elapsed: 3:06:51.184378\n",
            "iterations: 2152 | train_loss: 0.0236167 | validation_loss: 0.047481798 | Roc Score: 0.967834 | Time elapsed: 3:06:56.388491\n",
            "iterations: 2153 | train_loss: 0.04234226 | validation_loss: 0.04718885 | Roc Score: 0.967841 | Time elapsed: 3:07:01.623048\n",
            "iterations: 2154 | train_loss: 0.042999756 | validation_loss: 0.046996005 | Roc Score: 0.96784794 | Time elapsed: 3:07:06.835613\n",
            "iterations: 2155 | train_loss: 0.044694804 | validation_loss: 0.047022108 | Roc Score: 0.967855 | Time elapsed: 3:07:12.059154\n",
            "iterations: 2156 | train_loss: 0.04992094 | validation_loss: 0.047056954 | Roc Score: 0.9678622 | Time elapsed: 3:07:17.255986\n",
            "iterations: 2157 | train_loss: 0.05645859 | validation_loss: 0.047118764 | Roc Score: 0.9678692 | Time elapsed: 3:07:22.474833\n",
            "iterations: 2158 | train_loss: 0.04981862 | validation_loss: 0.047119375 | Roc Score: 0.96787655 | Time elapsed: 3:07:27.746519\n",
            "iterations: 2159 | train_loss: 0.049737204 | validation_loss: 0.047016807 | Roc Score: 0.9678837 | Time elapsed: 3:07:32.977743\n",
            "iterations: 2160 | train_loss: 0.03869252 | validation_loss: 0.046860892 | Roc Score: 0.9678908 | Time elapsed: 3:07:38.162323\n",
            "iterations: 2161 | train_loss: 0.04384833 | validation_loss: 0.04674027 | Roc Score: 0.9678985 | Time elapsed: 3:07:43.376991\n",
            "iterations: 2162 | train_loss: 0.03818723 | validation_loss: 0.046570644 | Roc Score: 0.9679059 | Time elapsed: 3:07:48.629606\n",
            "iterations: 2163 | train_loss: 0.030144282 | validation_loss: 0.046634745 | Roc Score: 0.96791345 | Time elapsed: 3:07:53.818592\n",
            "iterations: 2164 | train_loss: 0.057772342 | validation_loss: 0.046883665 | Roc Score: 0.96792 | Time elapsed: 3:07:59.048989\n",
            "iterations: 2165 | train_loss: 0.044430077 | validation_loss: 0.04719227 | Roc Score: 0.96792644 | Time elapsed: 3:08:04.284801\n",
            "iterations: 2166 | train_loss: 0.044377718 | validation_loss: 0.047588896 | Roc Score: 0.96793246 | Time elapsed: 3:08:09.494423\n",
            "iterations: 2167 | train_loss: 0.04048717 | validation_loss: 0.048047967 | Roc Score: 0.967938 | Time elapsed: 3:08:14.745260\n",
            "iterations: 2168 | train_loss: 0.07172603 | validation_loss: 0.04791729 | Roc Score: 0.96794367 | Time elapsed: 3:08:19.975968\n",
            "iterations: 2169 | train_loss: 0.045695014 | validation_loss: 0.04773851 | Roc Score: 0.96794975 | Time elapsed: 3:08:25.205393\n",
            "iterations: 2170 | train_loss: 0.058620136 | validation_loss: 0.04781866 | Roc Score: 0.9679562 | Time elapsed: 3:08:30.446802\n",
            "iterations: 2171 | train_loss: 0.057211947 | validation_loss: 0.04845027 | Roc Score: 0.9679629 | Time elapsed: 3:08:35.659906\n",
            "iterations: 2172 | train_loss: 0.060029138 | validation_loss: 0.04950853 | Roc Score: 0.9679694 | Time elapsed: 3:08:40.877503\n",
            "iterations: 2173 | train_loss: 0.04951142 | validation_loss: 0.05006813 | Roc Score: 0.967976 | Time elapsed: 3:08:46.091974\n",
            "iterations: 2174 | train_loss: 0.054853234 | validation_loss: 0.05025812 | Roc Score: 0.9679825 | Time elapsed: 3:08:51.311227\n",
            "iterations: 2175 | train_loss: 0.032577336 | validation_loss: 0.049434282 | Roc Score: 0.9679891 | Time elapsed: 3:08:56.536883\n",
            "iterations: 2176 | train_loss: 0.02929038 | validation_loss: 0.048217982 | Roc Score: 0.96799576 | Time elapsed: 3:09:01.777617\n",
            "iterations: 2177 | train_loss: 0.04445614 | validation_loss: 0.0475616 | Roc Score: 0.96800166 | Time elapsed: 3:09:07.021560\n",
            "iterations: 2178 | train_loss: 0.029032009 | validation_loss: 0.047665935 | Roc Score: 0.968007 | Time elapsed: 3:09:12.272349\n",
            "iterations: 2179 | train_loss: 0.048554186 | validation_loss: 0.04874843 | Roc Score: 0.96801096 | Time elapsed: 3:09:17.515314\n",
            "iterations: 2180 | train_loss: 0.045068502 | validation_loss: 0.049859963 | Roc Score: 0.96801317 | Time elapsed: 3:09:22.719527\n",
            "iterations: 2181 | train_loss: 0.045461845 | validation_loss: 0.04965969 | Roc Score: 0.9680159 | Time elapsed: 3:09:27.984325\n",
            "iterations: 2182 | train_loss: 0.039161548 | validation_loss: 0.04909683 | Roc Score: 0.96801895 | Time elapsed: 3:09:33.210488\n",
            "iterations: 2183 | train_loss: 0.044076223 | validation_loss: 0.048509005 | Roc Score: 0.9680227 | Time elapsed: 3:09:38.361879\n"
          ],
          "name": "stdout"
        },
        {
          "output_type": "stream",
          "text": [
            "iterations: 2184 | train_loss: 0.038562313 | validation_loss: 0.04773864 | Roc Score: 0.9680277 | Time elapsed: 3:09:43.543520\n",
            "iterations: 2185 | train_loss: 0.032449316 | validation_loss: 0.04725916 | Roc Score: 0.968033 | Time elapsed: 3:09:48.760273\n",
            "iterations: 2186 | train_loss: 0.03194624 | validation_loss: 0.047078647 | Roc Score: 0.9680389 | Time elapsed: 3:09:53.991051\n",
            "iterations: 2187 | train_loss: 0.03619849 | validation_loss: 0.04730873 | Roc Score: 0.9680453 | Time elapsed: 3:09:59.242895\n",
            "iterations: 2188 | train_loss: 0.032664474 | validation_loss: 0.047865413 | Roc Score: 0.9680518 | Time elapsed: 3:10:04.447951\n",
            "iterations: 2189 | train_loss: 0.0483413 | validation_loss: 0.04856006 | Roc Score: 0.968058 | Time elapsed: 3:10:09.457280\n",
            "iterations: 2190 | train_loss: 0.043581344 | validation_loss: 0.04918837 | Roc Score: 0.9680644 | Time elapsed: 3:10:14.649193\n",
            "iterations: 2191 | train_loss: 0.03535312 | validation_loss: 0.049278606 | Roc Score: 0.9680703 | Time elapsed: 3:10:19.849162\n",
            "iterations: 2192 | train_loss: 0.047284547 | validation_loss: 0.0491737 | Roc Score: 0.9680761 | Time elapsed: 3:10:25.095795\n",
            "iterations: 2193 | train_loss: 0.040148817 | validation_loss: 0.04897526 | Roc Score: 0.96808195 | Time elapsed: 3:10:30.265116\n",
            "iterations: 2194 | train_loss: 0.046870206 | validation_loss: 0.04880809 | Roc Score: 0.9680872 | Time elapsed: 3:10:35.540699\n",
            "iterations: 2195 | train_loss: 0.06939686 | validation_loss: 0.04834629 | Roc Score: 0.96809244 | Time elapsed: 3:10:40.811790\n",
            "iterations: 2196 | train_loss: 0.04685462 | validation_loss: 0.04789419 | Roc Score: 0.9680975 | Time elapsed: 3:10:46.047421\n",
            "iterations: 2197 | train_loss: 0.042691536 | validation_loss: 0.047564022 | Roc Score: 0.9681023 | Time elapsed: 3:10:51.295897\n",
            "iterations: 2198 | train_loss: 0.03149985 | validation_loss: 0.04763097 | Roc Score: 0.96810687 | Time elapsed: 3:10:56.543896\n",
            "iterations: 2199 | train_loss: 0.042348746 | validation_loss: 0.047543477 | Roc Score: 0.96811146 | Time elapsed: 3:11:01.757288\n",
            "iterations: 2200 | train_loss: 0.039581418 | validation_loss: 0.04735997 | Roc Score: 0.96811664 | Time elapsed: 3:11:06.990823\n",
            "iterations: 2201 | train_loss: 0.043370344 | validation_loss: 0.04721691 | Roc Score: 0.96812284 | Time elapsed: 3:11:12.259324\n",
            "iterations: 2202 | train_loss: 0.02517185 | validation_loss: 0.04737786 | Roc Score: 0.96812916 | Time elapsed: 3:11:17.491673\n",
            "iterations: 2203 | train_loss: 0.051865216 | validation_loss: 0.047390185 | Roc Score: 0.96813565 | Time elapsed: 3:11:22.671252\n",
            "iterations: 2204 | train_loss: 0.058037225 | validation_loss: 0.047266062 | Roc Score: 0.9681422 | Time elapsed: 3:11:27.870836\n",
            "iterations: 2205 | train_loss: 0.07027013 | validation_loss: 0.04729624 | Roc Score: 0.9681491 | Time elapsed: 3:11:33.121289\n",
            "iterations: 2206 | train_loss: 0.035084948 | validation_loss: 0.047584116 | Roc Score: 0.96815616 | Time elapsed: 3:11:38.328695\n",
            "iterations: 2207 | train_loss: 0.058147226 | validation_loss: 0.047738686 | Roc Score: 0.9681631 | Time elapsed: 3:11:43.503022\n",
            "iterations: 2208 | train_loss: 0.053200938 | validation_loss: 0.047751155 | Roc Score: 0.9681698 | Time elapsed: 3:11:48.675802\n",
            "iterations: 2209 | train_loss: 0.05300784 | validation_loss: 0.048111327 | Roc Score: 0.9681761 | Time elapsed: 3:11:53.867460\n",
            "iterations: 2210 | train_loss: 0.042005513 | validation_loss: 0.048029795 | Roc Score: 0.9681827 | Time elapsed: 3:11:59.124118\n",
            "iterations: 2211 | train_loss: 0.031707257 | validation_loss: 0.048101336 | Roc Score: 0.96818876 | Time elapsed: 3:12:04.370206\n",
            "iterations: 2212 | train_loss: 0.043396607 | validation_loss: 0.048069753 | Roc Score: 0.9681941 | Time elapsed: 3:12:09.603292\n",
            "iterations: 2213 | train_loss: 0.033280075 | validation_loss: 0.048451334 | Roc Score: 0.9681985 | Time elapsed: 3:12:14.835106\n",
            "iterations: 2214 | train_loss: 0.035294943 | validation_loss: 0.049078047 | Roc Score: 0.96820176 | Time elapsed: 3:12:20.004734\n",
            "iterations: 2215 | train_loss: 0.05729388 | validation_loss: 0.048947956 | Roc Score: 0.96820474 | Time elapsed: 3:12:25.230593\n",
            "iterations: 2216 | train_loss: 0.033299286 | validation_loss: 0.048795644 | Roc Score: 0.9682082 | Time elapsed: 3:12:30.497344\n",
            "iterations: 2217 | train_loss: 0.05264019 | validation_loss: 0.047993235 | Roc Score: 0.96821284 | Time elapsed: 3:12:35.737996\n",
            "iterations: 2218 | train_loss: 0.045192905 | validation_loss: 0.04786457 | Roc Score: 0.9682182 | Time elapsed: 3:12:40.962391\n",
            "iterations: 2219 | train_loss: 0.04476882 | validation_loss: 0.048798352 | Roc Score: 0.96822464 | Time elapsed: 3:12:46.138593\n",
            "iterations: 2220 | train_loss: 0.0324873 | validation_loss: 0.05088485 | Roc Score: 0.96823156 | Time elapsed: 3:12:51.379197\n",
            "iterations: 2221 | train_loss: 0.02380702 | validation_loss: 0.053021457 | Roc Score: 0.9682377 | Time elapsed: 3:12:56.563349\n",
            "iterations: 2222 | train_loss: 0.05379101 | validation_loss: 0.053139485 | Roc Score: 0.9682436 | Time elapsed: 3:13:01.799858\n"
          ],
          "name": "stdout"
        },
        {
          "output_type": "stream",
          "text": [
            "iterations: 2223 | train_loss: 0.051755976 | validation_loss: 0.05132555 | Roc Score: 0.96824986 | Time elapsed: 3:13:07.000501\n",
            "iterations: 2224 | train_loss: 0.046945773 | validation_loss: 0.0481922 | Roc Score: 0.96825653 | Time elapsed: 3:13:12.197414\n",
            "iterations: 2225 | train_loss: 0.04806073 | validation_loss: 0.04760502 | Roc Score: 0.96826154 | Time elapsed: 3:13:17.379429\n",
            "iterations: 2226 | train_loss: 0.046936437 | validation_loss: 0.04894867 | Roc Score: 0.9682646 | Time elapsed: 3:13:22.599995\n",
            "iterations: 2227 | train_loss: 0.03586029 | validation_loss: 0.05114539 | Roc Score: 0.9682658 | Time elapsed: 3:13:27.776839\n",
            "iterations: 2228 | train_loss: 0.038133845 | validation_loss: 0.05331868 | Roc Score: 0.9682653 | Time elapsed: 3:13:32.887736\n",
            "iterations: 2229 | train_loss: 0.0736837 | validation_loss: 0.05259386 | Roc Score: 0.96826607 | Time elapsed: 3:13:38.134247\n",
            "iterations: 2230 | train_loss: 0.057483654 | validation_loss: 0.050012767 | Roc Score: 0.9682693 | Time elapsed: 3:13:43.319056\n",
            "iterations: 2231 | train_loss: 0.03543684 | validation_loss: 0.048047177 | Roc Score: 0.9682745 | Time elapsed: 3:13:48.572670\n",
            "iterations: 2232 | train_loss: 0.041406248 | validation_loss: 0.047119543 | Roc Score: 0.9682806 | Time elapsed: 3:13:53.730439\n",
            "iterations: 2233 | train_loss: 0.04828951 | validation_loss: 0.04815219 | Roc Score: 0.9682869 | Time elapsed: 3:13:58.963602\n",
            "iterations: 2234 | train_loss: 0.06830585 | validation_loss: 0.051477343 | Roc Score: 0.9682927 | Time elapsed: 3:14:04.204343\n",
            "iterations: 2235 | train_loss: 0.047931787 | validation_loss: 0.054351807 | Roc Score: 0.9682971 | Time elapsed: 3:14:09.439666\n",
            "iterations: 2236 | train_loss: 0.036919884 | validation_loss: 0.055162992 | Roc Score: 0.9683015 | Time elapsed: 3:14:14.675876\n",
            "iterations: 2237 | train_loss: 0.05467314 | validation_loss: 0.05356711 | Roc Score: 0.9683065 | Time elapsed: 3:14:19.947634\n",
            "iterations: 2238 | train_loss: 0.04577191 | validation_loss: 0.05086802 | Roc Score: 0.9683129 | Time elapsed: 3:14:25.191368\n",
            "iterations: 2239 | train_loss: 0.04831256 | validation_loss: 0.048650507 | Roc Score: 0.9683191 | Time elapsed: 3:14:30.421301\n",
            "iterations: 2240 | train_loss: 0.033646297 | validation_loss: 0.04757574 | Roc Score: 0.9683249 | Time elapsed: 3:14:35.642930\n",
            "iterations: 2241 | train_loss: 0.028699948 | validation_loss: 0.047809344 | Roc Score: 0.9683292 | Time elapsed: 3:14:40.850299\n",
            "iterations: 2242 | train_loss: 0.030091928 | validation_loss: 0.04870149 | Roc Score: 0.96833223 | Time elapsed: 3:14:46.072411\n",
            "iterations: 2243 | train_loss: 0.02690923 | validation_loss: 0.049979765 | Roc Score: 0.96833426 | Time elapsed: 3:14:51.315238\n",
            "iterations: 2244 | train_loss: 0.05713828 | validation_loss: 0.050588198 | Roc Score: 0.96833515 | Time elapsed: 3:14:56.524663\n",
            "iterations: 2245 | train_loss: 0.038550716 | validation_loss: 0.050645515 | Roc Score: 0.96833646 | Time elapsed: 3:15:01.793947\n",
            "iterations: 2246 | train_loss: 0.035318784 | validation_loss: 0.050733294 | Roc Score: 0.96833813 | Time elapsed: 3:15:06.990430\n",
            "iterations: 2247 | train_loss: 0.028736824 | validation_loss: 0.051065605 | Roc Score: 0.96833974 | Time elapsed: 3:15:12.200732\n",
            "iterations: 2248 | train_loss: 0.037338853 | validation_loss: 0.051006313 | Roc Score: 0.9683419 | Time elapsed: 3:15:17.412528\n",
            "iterations: 2249 | train_loss: 0.050105304 | validation_loss: 0.05097845 | Roc Score: 0.96834457 | Time elapsed: 3:15:22.654764\n",
            "iterations: 2250 | train_loss: 0.031294364 | validation_loss: 0.050838094 | Roc Score: 0.9683476 | Time elapsed: 3:15:27.872174\n",
            "iterations: 2251 | train_loss: 0.036850173 | validation_loss: 0.050405946 | Roc Score: 0.96835065 | Time elapsed: 3:15:33.134542\n",
            "iterations: 2252 | train_loss: 0.045860413 | validation_loss: 0.04967983 | Roc Score: 0.96835434 | Time elapsed: 3:15:38.481516\n",
            "iterations: 2253 | train_loss: 0.02953568 | validation_loss: 0.04879987 | Roc Score: 0.96835816 | Time elapsed: 3:15:43.705477\n",
            "iterations: 2254 | train_loss: 0.044770565 | validation_loss: 0.048196424 | Roc Score: 0.96836233 | Time elapsed: 3:15:48.897253\n",
            "iterations: 2255 | train_loss: 0.03546373 | validation_loss: 0.04787122 | Roc Score: 0.96836656 | Time elapsed: 3:15:54.113061\n",
            "iterations: 2256 | train_loss: 0.047096584 | validation_loss: 0.047722287 | Roc Score: 0.968372 | Time elapsed: 3:15:59.323879\n",
            "iterations: 2257 | train_loss: 0.048424035 | validation_loss: 0.047773324 | Roc Score: 0.96837753 | Time elapsed: 3:16:04.529327\n",
            "iterations: 2258 | train_loss: 0.07728606 | validation_loss: 0.048008535 | Roc Score: 0.96838355 | Time elapsed: 3:16:09.740046\n",
            "iterations: 2259 | train_loss: 0.06687258 | validation_loss: 0.048224974 | Roc Score: 0.9683898 | Time elapsed: 3:16:14.989021\n",
            "iterations: 2260 | train_loss: 0.048057504 | validation_loss: 0.04834107 | Roc Score: 0.9683963 | Time elapsed: 3:16:20.224102\n",
            "iterations: 2261 | train_loss: 0.029541658 | validation_loss: 0.048234623 | Roc Score: 0.9684027 | Time elapsed: 3:16:25.447588\n"
          ],
          "name": "stdout"
        },
        {
          "output_type": "stream",
          "text": [
            "iterations: 2262 | train_loss: 0.04616628 | validation_loss: 0.04814788 | Roc Score: 0.9684087 | Time elapsed: 3:16:30.683731\n",
            "iterations: 2263 | train_loss: 0.05341429 | validation_loss: 0.048333045 | Roc Score: 0.9684144 | Time elapsed: 3:16:35.924604\n",
            "iterations: 2264 | train_loss: 0.07026912 | validation_loss: 0.048412886 | Roc Score: 0.9684203 | Time elapsed: 3:16:41.115359\n",
            "iterations: 2265 | train_loss: 0.040080987 | validation_loss: 0.048357133 | Roc Score: 0.9684262 | Time elapsed: 3:16:46.392545\n",
            "iterations: 2266 | train_loss: 0.047273662 | validation_loss: 0.04832049 | Roc Score: 0.96843183 | Time elapsed: 3:16:51.602121\n",
            "iterations: 2267 | train_loss: 0.037591178 | validation_loss: 0.04832023 | Roc Score: 0.9684376 | Time elapsed: 3:16:56.825063\n",
            "iterations: 2268 | train_loss: 0.045065586 | validation_loss: 0.04843403 | Roc Score: 0.9684433 | Time elapsed: 3:17:02.067645\n",
            "iterations: 2269 | train_loss: 0.043457408 | validation_loss: 0.048704013 | Roc Score: 0.96844864 | Time elapsed: 3:17:07.304354\n",
            "iterations: 2270 | train_loss: 0.04597378 | validation_loss: 0.04923492 | Roc Score: 0.9684541 | Time elapsed: 3:17:12.520717\n",
            "iterations: 2271 | train_loss: 0.046400927 | validation_loss: 0.05015905 | Roc Score: 0.96845925 | Time elapsed: 3:17:17.783868\n",
            "iterations: 2272 | train_loss: 0.050858192 | validation_loss: 0.050845694 | Roc Score: 0.9684643 | Time elapsed: 3:17:22.984641\n",
            "iterations: 2273 | train_loss: 0.03442617 | validation_loss: 0.050814863 | Roc Score: 0.9684695 | Time elapsed: 3:17:28.156406\n",
            "iterations: 2274 | train_loss: 0.04773878 | validation_loss: 0.05006789 | Roc Score: 0.9684746 | Time elapsed: 3:17:33.373644\n",
            "iterations: 2275 | train_loss: 0.05825666 | validation_loss: 0.04899144 | Roc Score: 0.96847975 | Time elapsed: 3:17:38.607288\n",
            "iterations: 2276 | train_loss: 0.03739432 | validation_loss: 0.04891094 | Roc Score: 0.96848464 | Time elapsed: 3:17:43.862716\n",
            "iterations: 2277 | train_loss: 0.03778441 | validation_loss: 0.049176488 | Roc Score: 0.9684882 | Time elapsed: 3:17:49.058796\n",
            "iterations: 2278 | train_loss: 0.03656398 | validation_loss: 0.049675006 | Roc Score: 0.9684914 | Time elapsed: 3:17:54.365377\n",
            "iterations: 2279 | train_loss: 0.056163713 | validation_loss: 0.04971604 | Roc Score: 0.96849453 | Time elapsed: 3:17:59.609219\n",
            "iterations: 2280 | train_loss: 0.04592706 | validation_loss: 0.049167845 | Roc Score: 0.96849805 | Time elapsed: 3:18:04.833516\n",
            "iterations: 2281 | train_loss: 0.036771286 | validation_loss: 0.04872919 | Roc Score: 0.9685024 | Time elapsed: 3:18:10.009302\n",
            "iterations: 2282 | train_loss: 0.04674503 | validation_loss: 0.048560333 | Roc Score: 0.9685074 | Time elapsed: 3:18:15.214895\n",
            "iterations: 2283 | train_loss: 0.03433898 | validation_loss: 0.04852964 | Roc Score: 0.96851254 | Time elapsed: 3:18:20.428946\n",
            "iterations: 2284 | train_loss: 0.038639408 | validation_loss: 0.048621695 | Roc Score: 0.9685177 | Time elapsed: 3:18:25.621680\n",
            "iterations: 2285 | train_loss: 0.062032394 | validation_loss: 0.048525095 | Roc Score: 0.9685232 | Time elapsed: 3:18:30.820396\n",
            "iterations: 2286 | train_loss: 0.030652942 | validation_loss: 0.04832708 | Roc Score: 0.9685286 | Time elapsed: 3:18:36.028869\n",
            "iterations: 2287 | train_loss: 0.063546255 | validation_loss: 0.047886558 | Roc Score: 0.9685341 | Time elapsed: 3:18:41.214285\n",
            "iterations: 2288 | train_loss: 0.06264906 | validation_loss: 0.04808051 | Roc Score: 0.96854013 | Time elapsed: 3:18:46.381003\n",
            "iterations: 2289 | train_loss: 0.04030722 | validation_loss: 0.0487284 | Roc Score: 0.9685464 | Time elapsed: 3:18:51.584756\n",
            "iterations: 2290 | train_loss: 0.041698396 | validation_loss: 0.048725568 | Roc Score: 0.9685526 | Time elapsed: 3:18:56.810777\n",
            "iterations: 2291 | train_loss: 0.06276304 | validation_loss: 0.048249617 | Roc Score: 0.9685587 | Time elapsed: 3:19:02.024449\n",
            "iterations: 2292 | train_loss: 0.045423757 | validation_loss: 0.04791056 | Roc Score: 0.96856505 | Time elapsed: 3:19:07.241199\n",
            "iterations: 2293 | train_loss: 0.048844438 | validation_loss: 0.047505572 | Roc Score: 0.968571 | Time elapsed: 3:19:12.441722\n",
            "iterations: 2294 | train_loss: 0.034655455 | validation_loss: 0.047314834 | Roc Score: 0.96857667 | Time elapsed: 3:19:17.628668\n",
            "iterations: 2295 | train_loss: 0.045601208 | validation_loss: 0.04738001 | Roc Score: 0.9685822 | Time elapsed: 3:19:22.817098\n",
            "iterations: 2296 | train_loss: 0.038364716 | validation_loss: 0.0477004 | Roc Score: 0.96858716 | Time elapsed: 3:19:28.023997\n",
            "iterations: 2297 | train_loss: 0.03340843 | validation_loss: 0.04824759 | Roc Score: 0.968591 | Time elapsed: 3:19:33.243242\n",
            "iterations: 2298 | train_loss: 0.043264683 | validation_loss: 0.04872505 | Roc Score: 0.9685942 | Time elapsed: 3:19:38.503345\n",
            "iterations: 2299 | train_loss: 0.066179074 | validation_loss: 0.048504926 | Roc Score: 0.96859753 | Time elapsed: 3:19:43.750723\n",
            "iterations: 2300 | train_loss: 0.060141858 | validation_loss: 0.048139293 | Roc Score: 0.96860164 | Time elapsed: 3:19:49.034028\n"
          ],
          "name": "stdout"
        },
        {
          "output_type": "stream",
          "text": [
            "iterations: 2301 | train_loss: 0.047906853 | validation_loss: 0.047928788 | Roc Score: 0.96860653 | Time elapsed: 3:19:54.314203\n",
            "iterations: 2302 | train_loss: 0.04525396 | validation_loss: 0.04817369 | Roc Score: 0.96861166 | Time elapsed: 3:19:59.490642\n",
            "iterations: 2303 | train_loss: 0.06662284 | validation_loss: 0.049124844 | Roc Score: 0.9686171 | Time elapsed: 3:20:04.742054\n",
            "iterations: 2304 | train_loss: 0.059009157 | validation_loss: 0.05057125 | Roc Score: 0.9686224 | Time elapsed: 3:20:09.972901\n",
            "iterations: 2305 | train_loss: 0.048555873 | validation_loss: 0.051202405 | Roc Score: 0.96862817 | Time elapsed: 3:20:15.194173\n",
            "iterations: 2306 | train_loss: 0.03414825 | validation_loss: 0.052255046 | Roc Score: 0.9686337 | Time elapsed: 3:20:20.423564\n",
            "iterations: 2307 | train_loss: 0.042509597 | validation_loss: 0.051476218 | Roc Score: 0.9686394 | Time elapsed: 3:20:25.658075\n",
            "iterations: 2308 | train_loss: 0.032103024 | validation_loss: 0.049616277 | Roc Score: 0.9686446 | Time elapsed: 3:20:30.883699\n",
            "iterations: 2309 | train_loss: 0.048699252 | validation_loss: 0.048725918 | Roc Score: 0.96864974 | Time elapsed: 3:20:36.106786\n",
            "iterations: 2310 | train_loss: 0.03721487 | validation_loss: 0.04883145 | Roc Score: 0.96865314 | Time elapsed: 3:20:41.273588\n",
            "iterations: 2311 | train_loss: 0.051290076 | validation_loss: 0.049408242 | Roc Score: 0.9686556 | Time elapsed: 3:20:46.472463\n",
            "iterations: 2312 | train_loss: 0.037977085 | validation_loss: 0.050232727 | Roc Score: 0.96865684 | Time elapsed: 3:20:51.755851\n",
            "iterations: 2313 | train_loss: 0.045895398 | validation_loss: 0.05036633 | Roc Score: 0.96865785 | Time elapsed: 3:20:57.006099\n",
            "iterations: 2314 | train_loss: 0.04843143 | validation_loss: 0.050307736 | Roc Score: 0.9686592 | Time elapsed: 3:21:02.242082\n",
            "iterations: 2315 | train_loss: 0.051443506 | validation_loss: 0.049751103 | Roc Score: 0.96866095 | Time elapsed: 3:21:07.462458\n",
            "iterations: 2316 | train_loss: 0.05264495 | validation_loss: 0.04878936 | Roc Score: 0.9686643 | Time elapsed: 3:21:12.721649\n",
            "iterations: 2317 | train_loss: 0.039996203 | validation_loss: 0.048387125 | Roc Score: 0.9686682 | Time elapsed: 3:21:17.966789\n",
            "iterations: 2318 | train_loss: 0.051278364 | validation_loss: 0.048366003 | Roc Score: 0.9686736 | Time elapsed: 3:21:23.209786\n",
            "iterations: 2319 | train_loss: 0.037967857 | validation_loss: 0.048884485 | Roc Score: 0.96867913 | Time elapsed: 3:21:28.431351\n",
            "iterations: 2320 | train_loss: 0.04536687 | validation_loss: 0.049264174 | Roc Score: 0.9686846 | Time elapsed: 3:21:33.640897\n",
            "iterations: 2321 | train_loss: 0.02900793 | validation_loss: 0.049463727 | Roc Score: 0.9686901 | Time elapsed: 3:21:38.847521\n",
            "iterations: 2322 | train_loss: 0.042026613 | validation_loss: 0.049254388 | Roc Score: 0.9686954 | Time elapsed: 3:21:44.095280\n",
            "iterations: 2323 | train_loss: 0.030934753 | validation_loss: 0.049034547 | Roc Score: 0.9687009 | Time elapsed: 3:21:49.350747\n",
            "iterations: 2324 | train_loss: 0.023587009 | validation_loss: 0.048967138 | Roc Score: 0.96870583 | Time elapsed: 3:21:54.540132\n",
            "iterations: 2325 | train_loss: 0.055291817 | validation_loss: 0.049281806 | Roc Score: 0.9687102 | Time elapsed: 3:21:59.749585\n",
            "iterations: 2326 | train_loss: 0.044490244 | validation_loss: 0.04949799 | Roc Score: 0.9687145 | Time elapsed: 3:22:04.954040\n",
            "iterations: 2327 | train_loss: 0.038627632 | validation_loss: 0.049633335 | Roc Score: 0.96871847 | Time elapsed: 3:22:10.226459\n",
            "iterations: 2328 | train_loss: 0.0392871 | validation_loss: 0.04973447 | Roc Score: 0.9687223 | Time elapsed: 3:22:15.494623\n",
            "iterations: 2329 | train_loss: 0.039399844 | validation_loss: 0.0498231 | Roc Score: 0.9687256 | Time elapsed: 3:22:20.745094\n",
            "iterations: 2330 | train_loss: 0.045360476 | validation_loss: 0.049082626 | Roc Score: 0.9687294 | Time elapsed: 3:22:25.982265\n",
            "iterations: 2331 | train_loss: 0.03819956 | validation_loss: 0.048288513 | Roc Score: 0.96873325 | Time elapsed: 3:22:31.215454\n",
            "iterations: 2332 | train_loss: 0.05460542 | validation_loss: 0.047450755 | Roc Score: 0.9687389 | Time elapsed: 3:22:36.446630\n",
            "iterations: 2333 | train_loss: 0.025728632 | validation_loss: 0.04750419 | Roc Score: 0.9687448 | Time elapsed: 3:22:41.706048\n",
            "iterations: 2334 | train_loss: 0.064569145 | validation_loss: 0.048139684 | Roc Score: 0.9687508 | Time elapsed: 3:22:46.967676\n",
            "iterations: 2335 | train_loss: 0.042443518 | validation_loss: 0.049003735 | Roc Score: 0.9687568 | Time elapsed: 3:22:52.173155\n",
            "iterations: 2336 | train_loss: 0.04187672 | validation_loss: 0.049927697 | Roc Score: 0.96876264 | Time elapsed: 3:22:57.449409\n",
            "iterations: 2337 | train_loss: 0.03954609 | validation_loss: 0.050299574 | Roc Score: 0.9687685 | Time elapsed: 3:23:02.668286\n",
            "iterations: 2338 | train_loss: 0.04165213 | validation_loss: 0.05015938 | Roc Score: 0.96877396 | Time elapsed: 3:23:07.848516\n",
            "iterations: 2339 | train_loss: 0.05476302 | validation_loss: 0.05017988 | Roc Score: 0.9687788 | Time elapsed: 3:23:13.080323\n"
          ],
          "name": "stdout"
        },
        {
          "output_type": "stream",
          "text": [
            "iterations: 2340 | train_loss: 0.050464228 | validation_loss: 0.049987894 | Roc Score: 0.9687835 | Time elapsed: 3:23:18.334519\n",
            "iterations: 2341 | train_loss: 0.047037736 | validation_loss: 0.049680132 | Roc Score: 0.96878743 | Time elapsed: 3:23:23.557265\n",
            "iterations: 2342 | train_loss: 0.04070463 | validation_loss: 0.04961462 | Roc Score: 0.96879095 | Time elapsed: 3:23:28.825480\n",
            "iterations: 2343 | train_loss: 0.023452114 | validation_loss: 0.049564645 | Roc Score: 0.96879333 | Time elapsed: 3:23:34.039456\n",
            "iterations: 2344 | train_loss: 0.0336619 | validation_loss: 0.04963714 | Roc Score: 0.9687949 | Time elapsed: 3:23:39.278492\n",
            "iterations: 2345 | train_loss: 0.032795206 | validation_loss: 0.04981472 | Roc Score: 0.96879643 | Time elapsed: 3:23:44.474208\n",
            "iterations: 2346 | train_loss: 0.03731407 | validation_loss: 0.049780164 | Roc Score: 0.96879745 | Time elapsed: 3:23:49.740608\n",
            "iterations: 2347 | train_loss: 0.033515744 | validation_loss: 0.04949407 | Roc Score: 0.968799 | Time elapsed: 3:23:54.923095\n",
            "iterations: 2348 | train_loss: 0.03939564 | validation_loss: 0.04916655 | Roc Score: 0.9688007 | Time elapsed: 3:24:00.146757\n",
            "iterations: 2349 | train_loss: 0.05106313 | validation_loss: 0.04877113 | Roc Score: 0.968803 | Time elapsed: 3:24:05.381803\n",
            "iterations: 2350 | train_loss: 0.037303362 | validation_loss: 0.048396382 | Roc Score: 0.9688057 | Time elapsed: 3:24:10.603278\n",
            "iterations: 2351 | train_loss: 0.022622555 | validation_loss: 0.048200212 | Roc Score: 0.96880865 | Time elapsed: 3:24:15.838038\n",
            "iterations: 2352 | train_loss: 0.022641582 | validation_loss: 0.048183776 | Roc Score: 0.96881163 | Time elapsed: 3:24:21.029810\n",
            "iterations: 2353 | train_loss: 0.042078298 | validation_loss: 0.048155308 | Roc Score: 0.9688149 | Time elapsed: 3:24:26.212163\n",
            "iterations: 2354 | train_loss: 0.0534979 | validation_loss: 0.047792822 | Roc Score: 0.9688188 | Time elapsed: 3:24:31.467511\n",
            "iterations: 2355 | train_loss: 0.057410296 | validation_loss: 0.04775202 | Roc Score: 0.96882355 | Time elapsed: 3:24:36.672207\n",
            "iterations: 2356 | train_loss: 0.04921543 | validation_loss: 0.04788919 | Roc Score: 0.96882886 | Time elapsed: 3:24:41.771955\n",
            "iterations: 2357 | train_loss: 0.029987484 | validation_loss: 0.047907017 | Roc Score: 0.96883416 | Time elapsed: 3:24:46.991869\n",
            "iterations: 2358 | train_loss: 0.027242936 | validation_loss: 0.04772881 | Roc Score: 0.9688395 | Time elapsed: 3:24:52.197996\n",
            "iterations: 2359 | train_loss: 0.03355439 | validation_loss: 0.04753621 | Roc Score: 0.9688446 | Time elapsed: 3:24:57.457082\n",
            "iterations: 2360 | train_loss: 0.0545473 | validation_loss: 0.047410887 | Roc Score: 0.96884984 | Time elapsed: 3:25:02.470133\n",
            "iterations: 2361 | train_loss: 0.03089235 | validation_loss: 0.04747716 | Roc Score: 0.9688544 | Time elapsed: 3:25:07.705344\n",
            "iterations: 2362 | train_loss: 0.032642007 | validation_loss: 0.047691267 | Roc Score: 0.9688586 | Time elapsed: 3:25:12.958787\n",
            "iterations: 2363 | train_loss: 0.053980384 | validation_loss: 0.047921825 | Roc Score: 0.9688618 | Time elapsed: 3:25:18.078157\n",
            "iterations: 2364 | train_loss: 0.04218991 | validation_loss: 0.047888163 | Roc Score: 0.96886533 | Time elapsed: 3:25:23.329289\n",
            "iterations: 2365 | train_loss: 0.03994402 | validation_loss: 0.047833655 | Roc Score: 0.96886927 | Time elapsed: 3:25:28.602792\n",
            "iterations: 2366 | train_loss: 0.027072897 | validation_loss: 0.04787486 | Roc Score: 0.9688738 | Time elapsed: 3:25:33.587272\n",
            "iterations: 2367 | train_loss: 0.042782653 | validation_loss: 0.04801072 | Roc Score: 0.96887857 | Time elapsed: 3:25:38.699859\n",
            "iterations: 2368 | train_loss: 0.03197486 | validation_loss: 0.048171453 | Roc Score: 0.96888363 | Time elapsed: 3:25:43.935223\n",
            "iterations: 2369 | train_loss: 0.045818195 | validation_loss: 0.04847827 | Roc Score: 0.9688889 | Time elapsed: 3:25:49.174618\n",
            "iterations: 2370 | train_loss: 0.027813422 | validation_loss: 0.048564184 | Roc Score: 0.96889377 | Time elapsed: 3:25:54.344395\n",
            "iterations: 2371 | train_loss: 0.02626615 | validation_loss: 0.048445348 | Roc Score: 0.96889865 | Time elapsed: 3:25:59.373266\n",
            "iterations: 2372 | train_loss: 0.061506346 | validation_loss: 0.048443012 | Roc Score: 0.9689037 | Time elapsed: 3:26:04.623379\n",
            "iterations: 2373 | train_loss: 0.03245368 | validation_loss: 0.0482424 | Roc Score: 0.96890855 | Time elapsed: 3:26:09.799434\n",
            "iterations: 2374 | train_loss: 0.056730308 | validation_loss: 0.047972348 | Roc Score: 0.9689132 | Time elapsed: 3:26:15.039745\n",
            "iterations: 2375 | train_loss: 0.03418904 | validation_loss: 0.047869533 | Roc Score: 0.9689177 | Time elapsed: 3:26:20.279435\n",
            "iterations: 2376 | train_loss: 0.033406813 | validation_loss: 0.047834072 | Roc Score: 0.9689216 | Time elapsed: 3:26:25.100768\n",
            "iterations: 2377 | train_loss: 0.02477986 | validation_loss: 0.048011154 | Roc Score: 0.9689246 | Time elapsed: 3:26:30.303114\n",
            "iterations: 2378 | train_loss: 0.04594423 | validation_loss: 0.04803064 | Roc Score: 0.9689275 | Time elapsed: 3:26:35.587924\n"
          ],
          "name": "stdout"
        },
        {
          "output_type": "stream",
          "text": [
            "iterations: 2379 | train_loss: 0.041284874 | validation_loss: 0.048140943 | Roc Score: 0.96893036 | Time elapsed: 3:26:40.808467\n",
            "iterations: 2380 | train_loss: 0.032504752 | validation_loss: 0.04834702 | Roc Score: 0.968933 | Time elapsed: 3:26:46.173272\n",
            "iterations: 2381 | train_loss: 0.043981295 | validation_loss: 0.048673417 | Roc Score: 0.968935 | Time elapsed: 3:26:51.389053\n",
            "iterations: 2382 | train_loss: 0.04104936 | validation_loss: 0.048522748 | Roc Score: 0.9689374 | Time elapsed: 3:26:56.601466\n",
            "iterations: 2383 | train_loss: 0.022309441 | validation_loss: 0.048028614 | Roc Score: 0.96894044 | Time elapsed: 3:27:01.803113\n",
            "iterations: 2384 | train_loss: 0.037581462 | validation_loss: 0.047491726 | Roc Score: 0.96894395 | Time elapsed: 3:27:06.996529\n",
            "iterations: 2385 | train_loss: 0.05702608 | validation_loss: 0.04729579 | Roc Score: 0.96894854 | Time elapsed: 3:27:12.287447\n",
            "iterations: 2386 | train_loss: 0.029458955 | validation_loss: 0.047318913 | Roc Score: 0.9689538 | Time elapsed: 3:27:17.495924\n",
            "iterations: 2387 | train_loss: 0.037706878 | validation_loss: 0.04736634 | Roc Score: 0.96895933 | Time elapsed: 3:27:22.690873\n",
            "iterations: 2388 | train_loss: 0.038879156 | validation_loss: 0.04742151 | Roc Score: 0.9689651 | Time elapsed: 3:27:27.952853\n",
            "iterations: 2389 | train_loss: 0.043356016 | validation_loss: 0.047429066 | Roc Score: 0.9689708 | Time elapsed: 3:27:33.169973\n",
            "iterations: 2390 | train_loss: 0.031030083 | validation_loss: 0.047390573 | Roc Score: 0.96897626 | Time elapsed: 3:27:38.414716\n",
            "iterations: 2391 | train_loss: 0.039508775 | validation_loss: 0.04728618 | Roc Score: 0.9689818 | Time elapsed: 3:27:43.612221\n",
            "iterations: 2392 | train_loss: 0.017538272 | validation_loss: 0.047305163 | Roc Score: 0.9689863 | Time elapsed: 3:27:48.804037\n",
            "iterations: 2393 | train_loss: 0.049306896 | validation_loss: 0.04751789 | Roc Score: 0.9689903 | Time elapsed: 3:27:54.033514\n",
            "iterations: 2394 | train_loss: 0.04135469 | validation_loss: 0.047876164 | Roc Score: 0.9689939 | Time elapsed: 3:27:59.274119\n",
            "iterations: 2395 | train_loss: 0.03349768 | validation_loss: 0.048160464 | Roc Score: 0.96899706 | Time elapsed: 3:28:04.518461\n",
            "iterations: 2396 | train_loss: 0.036135733 | validation_loss: 0.048362967 | Roc Score: 0.9690004 | Time elapsed: 3:28:09.752439\n",
            "iterations: 2397 | train_loss: 0.04315915 | validation_loss: 0.0485913 | Roc Score: 0.96900356 | Time elapsed: 3:28:14.975184\n",
            "iterations: 2398 | train_loss: 0.040464427 | validation_loss: 0.048642155 | Roc Score: 0.9690066 | Time elapsed: 3:28:20.225514\n",
            "iterations: 2399 | train_loss: 0.033584572 | validation_loss: 0.04869588 | Roc Score: 0.9690097 | Time elapsed: 3:28:25.464350\n",
            "iterations: 2400 | train_loss: 0.044143755 | validation_loss: 0.048974566 | Roc Score: 0.9690133 | Time elapsed: 3:28:30.693510\n",
            "iterations: 2401 | train_loss: 0.033880528 | validation_loss: 0.04918869 | Roc Score: 0.96901697 | Time elapsed: 3:28:35.930671\n",
            "iterations: 2402 | train_loss: 0.04116971 | validation_loss: 0.049253784 | Roc Score: 0.9690209 | Time elapsed: 3:28:41.139203\n",
            "iterations: 2403 | train_loss: 0.03547938 | validation_loss: 0.049135234 | Roc Score: 0.96902496 | Time elapsed: 3:28:46.386861\n",
            "iterations: 2404 | train_loss: 0.041936293 | validation_loss: 0.04893961 | Roc Score: 0.96902925 | Time elapsed: 3:28:51.578312\n",
            "iterations: 2405 | train_loss: 0.039737757 | validation_loss: 0.048638757 | Roc Score: 0.9690337 | Time elapsed: 3:28:56.768744\n",
            "iterations: 2406 | train_loss: 0.040229715 | validation_loss: 0.048327778 | Roc Score: 0.969038 | Time elapsed: 3:29:02.007405\n",
            "iterations: 2407 | train_loss: 0.043931596 | validation_loss: 0.048049137 | Roc Score: 0.9690422 | Time elapsed: 3:29:07.230721\n",
            "iterations: 2408 | train_loss: 0.058662318 | validation_loss: 0.047812447 | Roc Score: 0.9690467 | Time elapsed: 3:29:12.407468\n",
            "iterations: 2409 | train_loss: 0.038957044 | validation_loss: 0.047936417 | Roc Score: 0.9690518 | Time elapsed: 3:29:17.651771\n",
            "iterations: 2410 | train_loss: 0.03287189 | validation_loss: 0.04809979 | Roc Score: 0.9690569 | Time elapsed: 3:29:22.878952\n",
            "iterations: 2411 | train_loss: 0.029362548 | validation_loss: 0.048212502 | Roc Score: 0.9690622 | Time elapsed: 3:29:28.139982\n",
            "iterations: 2412 | train_loss: 0.037593808 | validation_loss: 0.04825858 | Roc Score: 0.9690677 | Time elapsed: 3:29:33.362308\n",
            "iterations: 2413 | train_loss: 0.024173718 | validation_loss: 0.048182745 | Roc Score: 0.9690729 | Time elapsed: 3:29:38.586343\n",
            "iterations: 2414 | train_loss: 0.04873465 | validation_loss: 0.048063792 | Roc Score: 0.96907777 | Time elapsed: 3:29:43.828349\n",
            "iterations: 2415 | train_loss: 0.038635984 | validation_loss: 0.04797583 | Roc Score: 0.9690828 | Time elapsed: 3:29:49.072868\n",
            "iterations: 2416 | train_loss: 0.042703144 | validation_loss: 0.048031863 | Roc Score: 0.9690869 | Time elapsed: 3:29:54.308169\n",
            "iterations: 2417 | train_loss: 0.029393155 | validation_loss: 0.048176263 | Roc Score: 0.96909124 | Time elapsed: 3:29:59.549041\n"
          ],
          "name": "stdout"
        },
        {
          "output_type": "stream",
          "text": [
            "iterations: 2418 | train_loss: 0.058838457 | validation_loss: 0.048162624 | Roc Score: 0.96909535 | Time elapsed: 3:30:04.757998\n",
            "iterations: 2419 | train_loss: 0.08180913 | validation_loss: 0.047917884 | Roc Score: 0.9690997 | Time elapsed: 3:30:09.988974\n",
            "iterations: 2420 | train_loss: 0.039640825 | validation_loss: 0.04803446 | Roc Score: 0.9691041 | Time elapsed: 3:30:15.230258\n",
            "iterations: 2421 | train_loss: 0.029025441 | validation_loss: 0.04843987 | Roc Score: 0.9691084 | Time elapsed: 3:30:20.459692\n",
            "iterations: 2422 | train_loss: 0.037573718 | validation_loss: 0.048768207 | Roc Score: 0.9691125 | Time elapsed: 3:30:25.655517\n",
            "iterations: 2423 | train_loss: 0.061642982 | validation_loss: 0.049141634 | Roc Score: 0.96911675 | Time elapsed: 3:30:30.891017\n",
            "iterations: 2424 | train_loss: 0.04849136 | validation_loss: 0.04927445 | Roc Score: 0.9691214 | Time elapsed: 3:30:36.112087\n",
            "iterations: 2425 | train_loss: 0.04228586 | validation_loss: 0.04908249 | Roc Score: 0.9691261 | Time elapsed: 3:30:41.357418\n",
            "iterations: 2426 | train_loss: 0.046828944 | validation_loss: 0.04872077 | Roc Score: 0.9691304 | Time elapsed: 3:30:46.607768\n",
            "iterations: 2427 | train_loss: 0.05213312 | validation_loss: 0.048353124 | Roc Score: 0.96913487 | Time elapsed: 3:30:51.844317\n",
            "iterations: 2428 | train_loss: 0.043164577 | validation_loss: 0.04806115 | Roc Score: 0.96913844 | Time elapsed: 3:30:57.099851\n",
            "iterations: 2429 | train_loss: 0.045660313 | validation_loss: 0.047863815 | Roc Score: 0.96914184 | Time elapsed: 3:31:02.346203\n",
            "iterations: 2430 | train_loss: 0.047157872 | validation_loss: 0.04773403 | Roc Score: 0.96914524 | Time elapsed: 3:31:07.588243\n",
            "iterations: 2431 | train_loss: 0.041262783 | validation_loss: 0.04777242 | Roc Score: 0.9691487 | Time elapsed: 3:31:12.832309\n",
            "iterations: 2432 | train_loss: 0.035212122 | validation_loss: 0.047974512 | Roc Score: 0.969152 | Time elapsed: 3:31:18.098077\n",
            "iterations: 2433 | train_loss: 0.047606304 | validation_loss: 0.047799803 | Roc Score: 0.96915525 | Time elapsed: 3:31:23.287034\n",
            "iterations: 2434 | train_loss: 0.041944277 | validation_loss: 0.04754526 | Roc Score: 0.96915895 | Time elapsed: 3:31:28.499655\n",
            "iterations: 2435 | train_loss: 0.030508155 | validation_loss: 0.047445036 | Roc Score: 0.9691624 | Time elapsed: 3:31:33.755558\n",
            "iterations: 2436 | train_loss: 0.05788877 | validation_loss: 0.04720831 | Roc Score: 0.9691664 | Time elapsed: 3:31:38.997419\n",
            "iterations: 2437 | train_loss: 0.042178057 | validation_loss: 0.047171857 | Roc Score: 0.96917063 | Time elapsed: 3:31:44.163508\n",
            "iterations: 2438 | train_loss: 0.04039404 | validation_loss: 0.047479417 | Roc Score: 0.96917474 | Time elapsed: 3:31:49.371372\n",
            "iterations: 2439 | train_loss: 0.033983525 | validation_loss: 0.047909115 | Roc Score: 0.9691788 | Time elapsed: 3:31:54.616504\n",
            "iterations: 2440 | train_loss: 0.032876074 | validation_loss: 0.04846953 | Roc Score: 0.96918285 | Time elapsed: 3:31:59.867600\n",
            "iterations: 2441 | train_loss: 0.040649675 | validation_loss: 0.048801687 | Roc Score: 0.96918684 | Time elapsed: 3:32:05.135394\n",
            "iterations: 2442 | train_loss: 0.056910526 | validation_loss: 0.048855375 | Roc Score: 0.9691911 | Time elapsed: 3:32:10.064819\n",
            "iterations: 2443 | train_loss: 0.050779022 | validation_loss: 0.048466958 | Roc Score: 0.9691955 | Time elapsed: 3:32:15.315179\n",
            "iterations: 2444 | train_loss: 0.042975806 | validation_loss: 0.04822635 | Roc Score: 0.9692 | Time elapsed: 3:32:20.558951\n",
            "iterations: 2445 | train_loss: 0.04981756 | validation_loss: 0.047930256 | Roc Score: 0.96920484 | Time elapsed: 3:32:25.789634\n",
            "iterations: 2446 | train_loss: 0.037187334 | validation_loss: 0.04777795 | Roc Score: 0.9692099 | Time elapsed: 3:32:31.043182\n",
            "iterations: 2447 | train_loss: 0.050149728 | validation_loss: 0.047592644 | Roc Score: 0.9692144 | Time elapsed: 3:32:36.280071\n",
            "iterations: 2448 | train_loss: 0.048534706 | validation_loss: 0.047568854 | Roc Score: 0.9692188 | Time elapsed: 3:32:41.470132\n",
            "iterations: 2449 | train_loss: 0.040220313 | validation_loss: 0.047624685 | Roc Score: 0.96922314 | Time elapsed: 3:32:46.723183\n",
            "iterations: 2450 | train_loss: 0.045121126 | validation_loss: 0.04784855 | Roc Score: 0.96922696 | Time elapsed: 3:32:51.976553\n",
            "iterations: 2451 | train_loss: 0.0235894 | validation_loss: 0.048368927 | Roc Score: 0.96923006 | Time elapsed: 3:32:57.217108\n",
            "iterations: 2452 | train_loss: 0.038946148 | validation_loss: 0.049144927 | Roc Score: 0.96923244 | Time elapsed: 3:33:02.458664\n",
            "iterations: 2453 | train_loss: 0.062644646 | validation_loss: 0.049554177 | Roc Score: 0.96923447 | Time elapsed: 3:33:07.666148\n",
            "iterations: 2454 | train_loss: 0.02945638 | validation_loss: 0.049802266 | Roc Score: 0.96923566 | Time elapsed: 3:33:12.855599\n",
            "iterations: 2455 | train_loss: 0.052973088 | validation_loss: 0.049761917 | Roc Score: 0.96923774 | Time elapsed: 3:33:18.070854\n",
            "iterations: 2456 | train_loss: 0.05442939 | validation_loss: 0.04974334 | Roc Score: 0.96924025 | Time elapsed: 3:33:23.290348\n"
          ],
          "name": "stdout"
        },
        {
          "output_type": "stream",
          "text": [
            "iterations: 2457 | train_loss: 0.044803873 | validation_loss: 0.049398698 | Roc Score: 0.9692435 | Time elapsed: 3:33:28.496288\n",
            "iterations: 2458 | train_loss: 0.037570886 | validation_loss: 0.049323235 | Roc Score: 0.96924704 | Time elapsed: 3:33:33.699246\n",
            "iterations: 2459 | train_loss: 0.032968674 | validation_loss: 0.049298175 | Roc Score: 0.969251 | Time elapsed: 3:33:38.928204\n",
            "iterations: 2460 | train_loss: 0.058772024 | validation_loss: 0.0491677 | Roc Score: 0.9692551 | Time elapsed: 3:33:44.188635\n",
            "iterations: 2461 | train_loss: 0.055581164 | validation_loss: 0.04891341 | Roc Score: 0.96925956 | Time elapsed: 3:33:49.436445\n",
            "iterations: 2462 | train_loss: 0.03806204 | validation_loss: 0.04873282 | Roc Score: 0.96926385 | Time elapsed: 3:33:54.584476\n",
            "iterations: 2463 | train_loss: 0.03341159 | validation_loss: 0.048611365 | Roc Score: 0.9692681 | Time elapsed: 3:33:59.761136\n",
            "iterations: 2464 | train_loss: 0.045517802 | validation_loss: 0.048480313 | Roc Score: 0.9692727 | Time elapsed: 3:34:04.986550\n",
            "iterations: 2465 | train_loss: 0.0593699 | validation_loss: 0.048410304 | Roc Score: 0.9692771 | Time elapsed: 3:34:10.189921\n",
            "iterations: 2466 | train_loss: 0.03653807 | validation_loss: 0.04833391 | Roc Score: 0.96928144 | Time elapsed: 3:34:15.426640\n",
            "iterations: 2467 | train_loss: 0.03133745 | validation_loss: 0.048435606 | Roc Score: 0.9692851 | Time elapsed: 3:34:20.636825\n",
            "iterations: 2468 | train_loss: 0.034125187 | validation_loss: 0.048738305 | Roc Score: 0.9692881 | Time elapsed: 3:34:25.827382\n",
            "iterations: 2469 | train_loss: 0.038331956 | validation_loss: 0.049082197 | Roc Score: 0.96929085 | Time elapsed: 3:34:31.043345\n",
            "iterations: 2470 | train_loss: 0.04353487 | validation_loss: 0.049534976 | Roc Score: 0.9692934 | Time elapsed: 3:34:36.271673\n",
            "iterations: 2471 | train_loss: 0.04906203 | validation_loss: 0.04946985 | Roc Score: 0.9692961 | Time elapsed: 3:34:41.507983\n",
            "iterations: 2472 | train_loss: 0.03773963 | validation_loss: 0.049432486 | Roc Score: 0.9692987 | Time elapsed: 3:34:46.704069\n",
            "iterations: 2473 | train_loss: 0.05849177 | validation_loss: 0.048956092 | Roc Score: 0.9693016 | Time elapsed: 3:34:51.947633\n",
            "iterations: 2474 | train_loss: 0.057805486 | validation_loss: 0.04846821 | Roc Score: 0.96930534 | Time elapsed: 3:34:57.146950\n",
            "iterations: 2475 | train_loss: 0.052435838 | validation_loss: 0.048042413 | Roc Score: 0.9693094 | Time elapsed: 3:35:02.381015\n",
            "iterations: 2476 | train_loss: 0.05544614 | validation_loss: 0.047851596 | Roc Score: 0.9693141 | Time elapsed: 3:35:07.587878\n",
            "iterations: 2477 | train_loss: 0.039062474 | validation_loss: 0.047717776 | Roc Score: 0.9693194 | Time elapsed: 3:35:12.818996\n",
            "iterations: 2478 | train_loss: 0.039254386 | validation_loss: 0.04766184 | Roc Score: 0.9693249 | Time elapsed: 3:35:17.961206\n",
            "iterations: 2479 | train_loss: 0.04511921 | validation_loss: 0.04769193 | Roc Score: 0.96933025 | Time elapsed: 3:35:23.157170\n",
            "iterations: 2480 | train_loss: 0.058908705 | validation_loss: 0.04780747 | Roc Score: 0.9693358 | Time elapsed: 3:35:28.386559\n",
            "iterations: 2481 | train_loss: 0.044786166 | validation_loss: 0.047829077 | Roc Score: 0.96934116 | Time elapsed: 3:35:33.635290\n",
            "iterations: 2482 | train_loss: 0.033736195 | validation_loss: 0.04781802 | Roc Score: 0.9693461 | Time elapsed: 3:35:38.880461\n",
            "iterations: 2483 | train_loss: 0.037133474 | validation_loss: 0.047896944 | Roc Score: 0.9693497 | Time elapsed: 3:35:44.061108\n",
            "iterations: 2484 | train_loss: 0.064426616 | validation_loss: 0.0480888 | Roc Score: 0.96935344 | Time elapsed: 3:35:49.341383\n",
            "iterations: 2485 | train_loss: 0.030058559 | validation_loss: 0.04838189 | Roc Score: 0.9693566 | Time elapsed: 3:35:54.590886\n",
            "iterations: 2486 | train_loss: 0.049672242 | validation_loss: 0.04830078 | Roc Score: 0.96936005 | Time elapsed: 3:35:59.790303\n",
            "iterations: 2487 | train_loss: 0.04236436 | validation_loss: 0.048016056 | Roc Score: 0.9693646 | Time elapsed: 3:36:05.011878\n",
            "iterations: 2488 | train_loss: 0.055364124 | validation_loss: 0.047785282 | Roc Score: 0.9693693 | Time elapsed: 3:36:10.278347\n",
            "iterations: 2489 | train_loss: 0.041084763 | validation_loss: 0.04764893 | Roc Score: 0.9693742 | Time elapsed: 3:36:15.449221\n",
            "iterations: 2490 | train_loss: 0.044571105 | validation_loss: 0.047623303 | Roc Score: 0.96937954 | Time elapsed: 3:36:20.707814\n",
            "iterations: 2491 | train_loss: 0.03419777 | validation_loss: 0.04759622 | Roc Score: 0.9693848 | Time elapsed: 3:36:25.911119\n",
            "iterations: 2492 | train_loss: 0.038256034 | validation_loss: 0.047629654 | Roc Score: 0.9693899 | Time elapsed: 3:36:31.160508\n",
            "iterations: 2493 | train_loss: 0.043549962 | validation_loss: 0.047653593 | Roc Score: 0.9693946 | Time elapsed: 3:36:36.607962\n",
            "iterations: 2494 | train_loss: 0.02989967 | validation_loss: 0.047866166 | Roc Score: 0.969399 | Time elapsed: 3:36:41.879873\n",
            "iterations: 2495 | train_loss: 0.04500097 | validation_loss: 0.048218068 | Roc Score: 0.96940243 | Time elapsed: 3:36:47.123564\n"
          ],
          "name": "stdout"
        },
        {
          "output_type": "stream",
          "text": [
            "iterations: 2496 | train_loss: 0.048094224 | validation_loss: 0.04877763 | Roc Score: 0.9694043 | Time elapsed: 3:36:52.334208\n",
            "iterations: 2497 | train_loss: 0.04288044 | validation_loss: 0.04905859 | Roc Score: 0.9694059 | Time elapsed: 3:36:57.577747\n",
            "iterations: 2498 | train_loss: 0.054639753 | validation_loss: 0.049011085 | Roc Score: 0.96940744 | Time elapsed: 3:37:02.790175\n",
            "iterations: 2499 | train_loss: 0.035307277 | validation_loss: 0.049002692 | Roc Score: 0.969409 | Time elapsed: 3:37:08.008076\n",
            "iterations: 2500 | train_loss: 0.060601532 | validation_loss: 0.048570905 | Roc Score: 0.9694108 | Time elapsed: 3:37:13.321693\n",
            "iterations: 2501 | train_loss: 0.05397831 | validation_loss: 0.048048235 | Roc Score: 0.9694137 | Time elapsed: 3:37:18.593519\n",
            "iterations: 2502 | train_loss: 0.054725807 | validation_loss: 0.047664747 | Roc Score: 0.9694179 | Time elapsed: 3:37:23.832947\n",
            "iterations: 2503 | train_loss: 0.047078934 | validation_loss: 0.04748084 | Roc Score: 0.96942216 | Time elapsed: 3:37:29.076810\n",
            "iterations: 2504 | train_loss: 0.04768681 | validation_loss: 0.047464322 | Roc Score: 0.9694269 | Time elapsed: 3:37:34.329423\n",
            "iterations: 2505 | train_loss: 0.0384847 | validation_loss: 0.04760667 | Roc Score: 0.96943176 | Time elapsed: 3:37:39.490109\n",
            "iterations: 2506 | train_loss: 0.04961364 | validation_loss: 0.047824457 | Roc Score: 0.96943694 | Time elapsed: 3:37:44.743704\n",
            "iterations: 2507 | train_loss: 0.04685716 | validation_loss: 0.047988664 | Roc Score: 0.9694419 | Time elapsed: 3:37:50.007689\n",
            "iterations: 2508 | train_loss: 0.062243905 | validation_loss: 0.0480986 | Roc Score: 0.9694472 | Time elapsed: 3:37:55.281336\n",
            "iterations: 2509 | train_loss: 0.05870408 | validation_loss: 0.0482587 | Roc Score: 0.969452 | Time elapsed: 3:38:00.483190\n",
            "iterations: 2510 | train_loss: 0.043885764 | validation_loss: 0.04838378 | Roc Score: 0.9694564 | Time elapsed: 3:38:05.657510\n",
            "iterations: 2511 | train_loss: 0.033246614 | validation_loss: 0.04850694 | Roc Score: 0.9694602 | Time elapsed: 3:38:10.946023\n",
            "iterations: 2512 | train_loss: 0.035195 | validation_loss: 0.04861306 | Roc Score: 0.9694634 | Time elapsed: 3:38:15.913111\n",
            "iterations: 2513 | train_loss: 0.066018604 | validation_loss: 0.048689358 | Roc Score: 0.96946615 | Time elapsed: 3:38:21.137816\n",
            "iterations: 2514 | train_loss: 0.05070822 | validation_loss: 0.04881942 | Roc Score: 0.9694691 | Time elapsed: 3:38:26.290199\n",
            "iterations: 2515 | train_loss: 0.020644963 | validation_loss: 0.049121905 | Roc Score: 0.9694714 | Time elapsed: 3:38:31.565886\n",
            "iterations: 2516 | train_loss: 0.033784498 | validation_loss: 0.049359437 | Roc Score: 0.96947384 | Time elapsed: 3:38:36.797999\n",
            "iterations: 2517 | train_loss: 0.04362485 | validation_loss: 0.049401134 | Roc Score: 0.96947634 | Time elapsed: 3:38:42.013549\n",
            "iterations: 2518 | train_loss: 0.053553753 | validation_loss: 0.049441613 | Roc Score: 0.9694787 | Time elapsed: 3:38:47.192369\n",
            "iterations: 2519 | train_loss: 0.05444585 | validation_loss: 0.04929619 | Roc Score: 0.9694813 | Time elapsed: 3:38:52.391761\n",
            "iterations: 2520 | train_loss: 0.06689333 | validation_loss: 0.048887745 | Roc Score: 0.96948403 | Time elapsed: 3:38:57.645750\n",
            "iterations: 2521 | train_loss: 0.04036543 | validation_loss: 0.048464432 | Roc Score: 0.9694871 | Time elapsed: 3:39:02.893305\n",
            "iterations: 2522 | train_loss: 0.06021485 | validation_loss: 0.048135635 | Roc Score: 0.9694913 | Time elapsed: 3:39:08.142025\n",
            "iterations: 2523 | train_loss: 0.0466392 | validation_loss: 0.048104987 | Roc Score: 0.96949613 | Time elapsed: 3:39:13.358627\n",
            "iterations: 2524 | train_loss: 0.048661135 | validation_loss: 0.047944438 | Roc Score: 0.9695013 | Time elapsed: 3:39:18.574399\n",
            "iterations: 2525 | train_loss: 0.021669636 | validation_loss: 0.047626354 | Roc Score: 0.9695065 | Time elapsed: 3:39:23.804268\n",
            "iterations: 2526 | train_loss: 0.054001402 | validation_loss: 0.04752629 | Roc Score: 0.9695116 | Time elapsed: 3:39:29.038683\n",
            "iterations: 2527 | train_loss: 0.05350983 | validation_loss: 0.047579896 | Roc Score: 0.9695167 | Time elapsed: 3:39:34.249161\n",
            "iterations: 2528 | train_loss: 0.04774919 | validation_loss: 0.04778436 | Roc Score: 0.96952116 | Time elapsed: 3:39:39.510247\n",
            "iterations: 2529 | train_loss: 0.04014199 | validation_loss: 0.04823905 | Roc Score: 0.96952486 | Time elapsed: 3:39:44.751909\n",
            "iterations: 2530 | train_loss: 0.045530137 | validation_loss: 0.048275657 | Roc Score: 0.96952873 | Time elapsed: 3:39:49.994497\n",
            "iterations: 2531 | train_loss: 0.030131096 | validation_loss: 0.04826562 | Roc Score: 0.9695322 | Time elapsed: 3:39:55.251079\n",
            "iterations: 2532 | train_loss: 0.04951395 | validation_loss: 0.048174504 | Roc Score: 0.9695356 | Time elapsed: 3:40:00.437815\n",
            "iterations: 2533 | train_loss: 0.04515024 | validation_loss: 0.0482961 | Roc Score: 0.9695382 | Time elapsed: 3:40:05.642579\n",
            "iterations: 2534 | train_loss: 0.046909016 | validation_loss: 0.048309032 | Roc Score: 0.9695407 | Time elapsed: 3:40:10.834103\n"
          ],
          "name": "stdout"
        },
        {
          "output_type": "stream",
          "text": [
            "iterations: 2535 | train_loss: 0.03581289 | validation_loss: 0.048378635 | Roc Score: 0.96954304 | Time elapsed: 3:40:15.998660\n",
            "iterations: 2536 | train_loss: 0.051888064 | validation_loss: 0.048185755 | Roc Score: 0.9695455 | Time elapsed: 3:40:21.255816\n",
            "iterations: 2537 | train_loss: 0.037465993 | validation_loss: 0.048179276 | Roc Score: 0.9695483 | Time elapsed: 3:40:26.492059\n",
            "iterations: 2538 | train_loss: 0.029759651 | validation_loss: 0.04826627 | Roc Score: 0.9695507 | Time elapsed: 3:40:31.708457\n",
            "iterations: 2539 | train_loss: 0.05870391 | validation_loss: 0.04809001 | Roc Score: 0.969554 | Time elapsed: 3:40:36.878567\n",
            "iterations: 2540 | train_loss: 0.04309692 | validation_loss: 0.048113372 | Roc Score: 0.9695582 | Time elapsed: 3:40:42.097547\n",
            "iterations: 2541 | train_loss: 0.052407112 | validation_loss: 0.048483074 | Roc Score: 0.9695628 | Time elapsed: 3:40:47.293400\n",
            "iterations: 2542 | train_loss: 0.045009892 | validation_loss: 0.048577193 | Roc Score: 0.9695673 | Time elapsed: 3:40:52.518420\n",
            "iterations: 2543 | train_loss: 0.04975885 | validation_loss: 0.04804283 | Roc Score: 0.9695718 | Time elapsed: 3:40:57.771811\n",
            "iterations: 2544 | train_loss: 0.05787288 | validation_loss: 0.047762997 | Roc Score: 0.96957594 | Time elapsed: 3:41:02.963560\n",
            "iterations: 2545 | train_loss: 0.04038247 | validation_loss: 0.047853794 | Roc Score: 0.9695792 | Time elapsed: 3:41:08.173683\n",
            "iterations: 2546 | train_loss: 0.044261385 | validation_loss: 0.048206393 | Roc Score: 0.9695821 | Time elapsed: 3:41:13.405486\n",
            "iterations: 2547 | train_loss: 0.04726485 | validation_loss: 0.04814609 | Roc Score: 0.9695848 | Time elapsed: 3:41:18.639982\n",
            "iterations: 2548 | train_loss: 0.0415438 | validation_loss: 0.047755763 | Roc Score: 0.9695884 | Time elapsed: 3:41:23.852420\n",
            "iterations: 2549 | train_loss: 0.0318877 | validation_loss: 0.047526143 | Roc Score: 0.9695924 | Time elapsed: 3:41:29.078695\n",
            "iterations: 2550 | train_loss: 0.03289203 | validation_loss: 0.04737804 | Roc Score: 0.96959627 | Time elapsed: 3:41:34.309778\n",
            "iterations: 2551 | train_loss: 0.064638756 | validation_loss: 0.047283716 | Roc Score: 0.9696008 | Time elapsed: 3:41:39.550237\n",
            "iterations: 2552 | train_loss: 0.037691645 | validation_loss: 0.047283787 | Roc Score: 0.9696054 | Time elapsed: 3:41:44.753306\n",
            "iterations: 2553 | train_loss: 0.034730364 | validation_loss: 0.04728679 | Roc Score: 0.9696101 | Time elapsed: 3:41:49.970176\n",
            "iterations: 2554 | train_loss: 0.040882062 | validation_loss: 0.047288507 | Roc Score: 0.96961397 | Time elapsed: 3:41:55.223974\n",
            "iterations: 2555 | train_loss: 0.04564068 | validation_loss: 0.047296282 | Roc Score: 0.96961766 | Time elapsed: 3:42:00.479102\n",
            "iterations: 2556 | train_loss: 0.031532083 | validation_loss: 0.04740467 | Roc Score: 0.9696214 | Time elapsed: 3:42:05.693116\n",
            "iterations: 2557 | train_loss: 0.024231749 | validation_loss: 0.047762502 | Roc Score: 0.9696248 | Time elapsed: 3:42:10.959950\n",
            "iterations: 2558 | train_loss: 0.023933886 | validation_loss: 0.04799616 | Roc Score: 0.969628 | Time elapsed: 3:42:16.147995\n",
            "iterations: 2559 | train_loss: 0.070554875 | validation_loss: 0.047816433 | Roc Score: 0.9696311 | Time elapsed: 3:42:21.394551\n",
            "iterations: 2560 | train_loss: 0.03707147 | validation_loss: 0.047569744 | Roc Score: 0.96963453 | Time elapsed: 3:42:26.587398\n",
            "iterations: 2561 | train_loss: 0.055870038 | validation_loss: 0.0473166 | Roc Score: 0.9696384 | Time elapsed: 3:42:31.787332\n",
            "iterations: 2562 | train_loss: 0.041720066 | validation_loss: 0.047289103 | Roc Score: 0.9696428 | Time elapsed: 3:42:37.090187\n",
            "iterations: 2563 | train_loss: 0.037991367 | validation_loss: 0.04751934 | Roc Score: 0.96964735 | Time elapsed: 3:42:42.328774\n",
            "iterations: 2564 | train_loss: 0.05994363 | validation_loss: 0.048046358 | Roc Score: 0.9696529 | Time elapsed: 3:42:47.556515\n",
            "iterations: 2565 | train_loss: 0.036398698 | validation_loss: 0.049009893 | Roc Score: 0.9696582 | Time elapsed: 3:42:52.791294\n",
            "iterations: 2566 | train_loss: 0.03297621 | validation_loss: 0.049386326 | Roc Score: 0.9696631 | Time elapsed: 3:42:57.985731\n",
            "iterations: 2567 | train_loss: 0.04746891 | validation_loss: 0.049007043 | Roc Score: 0.969668 | Time elapsed: 3:43:03.235523\n",
            "iterations: 2568 | train_loss: 0.039305475 | validation_loss: 0.048548367 | Roc Score: 0.96967196 | Time elapsed: 3:43:08.476555\n",
            "iterations: 2569 | train_loss: 0.05460606 | validation_loss: 0.04844665 | Roc Score: 0.96967584 | Time elapsed: 3:43:13.729843\n",
            "iterations: 2570 | train_loss: 0.054348037 | validation_loss: 0.048466146 | Roc Score: 0.9696793 | Time elapsed: 3:43:19.007505\n",
            "iterations: 2571 | train_loss: 0.036959507 | validation_loss: 0.04854838 | Roc Score: 0.96968204 | Time elapsed: 3:43:24.245758\n",
            "iterations: 2572 | train_loss: 0.018700818 | validation_loss: 0.048768558 | Roc Score: 0.9696848 | Time elapsed: 3:43:29.469521\n",
            "iterations: 2573 | train_loss: 0.044409566 | validation_loss: 0.04900268 | Roc Score: 0.9696872 | Time elapsed: 3:43:34.710712\n"
          ],
          "name": "stdout"
        },
        {
          "output_type": "stream",
          "text": [
            "iterations: 2574 | train_loss: 0.023821888 | validation_loss: 0.049382042 | Roc Score: 0.969689 | Time elapsed: 3:43:39.928942\n",
            "iterations: 2575 | train_loss: 0.040298905 | validation_loss: 0.049734246 | Roc Score: 0.96969056 | Time elapsed: 3:43:45.169992\n",
            "iterations: 2576 | train_loss: 0.037875716 | validation_loss: 0.04998744 | Roc Score: 0.9696921 | Time elapsed: 3:43:50.391546\n",
            "iterations: 2577 | train_loss: 0.024812067 | validation_loss: 0.05016985 | Roc Score: 0.9696934 | Time elapsed: 3:43:55.621935\n",
            "iterations: 2578 | train_loss: 0.051327262 | validation_loss: 0.04984357 | Roc Score: 0.96969515 | Time elapsed: 3:44:00.878104\n",
            "iterations: 2579 | train_loss: 0.051563486 | validation_loss: 0.049206503 | Roc Score: 0.96969754 | Time elapsed: 3:44:06.098000\n",
            "iterations: 2580 | train_loss: 0.045309234 | validation_loss: 0.04883968 | Roc Score: 0.96970075 | Time elapsed: 3:44:11.341122\n",
            "iterations: 2581 | train_loss: 0.04370506 | validation_loss: 0.04896448 | Roc Score: 0.9697044 | Time elapsed: 3:44:16.567771\n",
            "iterations: 2582 | train_loss: 0.033426773 | validation_loss: 0.048956558 | Roc Score: 0.969708 | Time elapsed: 3:44:21.818134\n",
            "iterations: 2583 | train_loss: 0.027911777 | validation_loss: 0.04878064 | Roc Score: 0.96971166 | Time elapsed: 3:44:27.051056\n",
            "iterations: 2584 | train_loss: 0.048359927 | validation_loss: 0.048480574 | Roc Score: 0.9697155 | Time elapsed: 3:44:32.289691\n",
            "iterations: 2585 | train_loss: 0.0492102 | validation_loss: 0.048181653 | Roc Score: 0.96971905 | Time elapsed: 3:44:37.557154\n",
            "iterations: 2586 | train_loss: 0.029691232 | validation_loss: 0.047887962 | Roc Score: 0.96972287 | Time elapsed: 3:44:42.823316\n",
            "iterations: 2587 | train_loss: 0.05257376 | validation_loss: 0.0476848 | Roc Score: 0.9697265 | Time elapsed: 3:44:48.073440\n",
            "iterations: 2588 | train_loss: 0.049303815 | validation_loss: 0.047519468 | Roc Score: 0.96973014 | Time elapsed: 3:44:53.350181\n",
            "iterations: 2589 | train_loss: 0.04689677 | validation_loss: 0.047383774 | Roc Score: 0.969734 | Time elapsed: 3:44:58.594088\n",
            "iterations: 2590 | train_loss: 0.03910728 | validation_loss: 0.047346976 | Roc Score: 0.969738 | Time elapsed: 3:45:03.838262\n",
            "iterations: 2591 | train_loss: 0.051828966 | validation_loss: 0.04738077 | Roc Score: 0.969742 | Time elapsed: 3:45:09.091349\n",
            "iterations: 2592 | train_loss: 0.05266375 | validation_loss: 0.047573503 | Roc Score: 0.96974576 | Time elapsed: 3:45:14.328797\n",
            "iterations: 2593 | train_loss: 0.0345101 | validation_loss: 0.047925886 | Roc Score: 0.9697492 | Time elapsed: 3:45:19.537478\n",
            "iterations: 2594 | train_loss: 0.05124264 | validation_loss: 0.0483734 | Roc Score: 0.9697522 | Time elapsed: 3:45:24.896802\n",
            "iterations: 2595 | train_loss: 0.053461786 | validation_loss: 0.04855218 | Roc Score: 0.9697549 | Time elapsed: 3:45:30.106718\n",
            "iterations: 2596 | train_loss: 0.045313135 | validation_loss: 0.048439234 | Roc Score: 0.96975815 | Time elapsed: 3:45:35.342946\n",
            "iterations: 2597 | train_loss: 0.040653348 | validation_loss: 0.04818143 | Roc Score: 0.9697617 | Time elapsed: 3:45:40.599251\n",
            "iterations: 2598 | train_loss: 0.03815669 | validation_loss: 0.04806187 | Roc Score: 0.9697657 | Time elapsed: 3:45:45.853906\n",
            "iterations: 2599 | train_loss: 0.021633884 | validation_loss: 0.048134655 | Roc Score: 0.96976924 | Time elapsed: 3:45:51.056364\n",
            "iterations: 2600 | train_loss: 0.033032283 | validation_loss: 0.04830934 | Roc Score: 0.9697731 | Time elapsed: 3:45:56.354236\n",
            "iterations: 2601 | train_loss: 0.049252026 | validation_loss: 0.048134405 | Roc Score: 0.96977687 | Time elapsed: 3:46:01.586746\n",
            "iterations: 2602 | train_loss: 0.035633076 | validation_loss: 0.047886673 | Roc Score: 0.9697806 | Time elapsed: 3:46:06.816095\n",
            "iterations: 2603 | train_loss: 0.064920135 | validation_loss: 0.047378708 | Roc Score: 0.9697851 | Time elapsed: 3:46:12.055207\n",
            "iterations: 2604 | train_loss: 0.037438203 | validation_loss: 0.04710047 | Roc Score: 0.96978927 | Time elapsed: 3:46:17.287450\n",
            "iterations: 2605 | train_loss: 0.04145911 | validation_loss: 0.04691627 | Roc Score: 0.9697943 | Time elapsed: 3:46:22.515382\n",
            "iterations: 2606 | train_loss: 0.06986983 | validation_loss: 0.046852283 | Roc Score: 0.96979946 | Time elapsed: 3:46:27.725992\n",
            "iterations: 2607 | train_loss: 0.054942787 | validation_loss: 0.04680384 | Roc Score: 0.9698046 | Time elapsed: 3:46:32.942891\n",
            "iterations: 2608 | train_loss: 0.061702304 | validation_loss: 0.04683555 | Roc Score: 0.9698098 | Time elapsed: 3:46:38.222835\n",
            "iterations: 2609 | train_loss: 0.057004858 | validation_loss: 0.046822365 | Roc Score: 0.96981496 | Time elapsed: 3:46:43.467926\n",
            "iterations: 2610 | train_loss: 0.03268249 | validation_loss: 0.046929773 | Roc Score: 0.96982014 | Time elapsed: 3:46:48.699069\n",
            "iterations: 2611 | train_loss: 0.03535984 | validation_loss: 0.047140624 | Roc Score: 0.96982515 | Time elapsed: 3:46:53.896496\n",
            "iterations: 2612 | train_loss: 0.05535239 | validation_loss: 0.047361653 | Roc Score: 0.96982974 | Time elapsed: 3:46:59.118474\n"
          ],
          "name": "stdout"
        },
        {
          "output_type": "stream",
          "text": [
            "iterations: 2613 | train_loss: 0.037514415 | validation_loss: 0.047698423 | Roc Score: 0.96983427 | Time elapsed: 3:47:04.370762\n",
            "iterations: 2614 | train_loss: 0.050561924 | validation_loss: 0.04780233 | Roc Score: 0.9698387 | Time elapsed: 3:47:09.564464\n",
            "iterations: 2615 | train_loss: 0.035579473 | validation_loss: 0.047982536 | Roc Score: 0.96984285 | Time elapsed: 3:47:14.802327\n",
            "iterations: 2616 | train_loss: 0.033042204 | validation_loss: 0.04818099 | Roc Score: 0.96984637 | Time elapsed: 3:47:19.998572\n",
            "iterations: 2617 | train_loss: 0.041605208 | validation_loss: 0.04822677 | Roc Score: 0.9698498 | Time elapsed: 3:47:25.238405\n",
            "iterations: 2618 | train_loss: 0.048376106 | validation_loss: 0.04807183 | Roc Score: 0.96985304 | Time elapsed: 3:47:30.423728\n",
            "iterations: 2619 | train_loss: 0.057837676 | validation_loss: 0.048057437 | Roc Score: 0.9698565 | Time elapsed: 3:47:35.697243\n",
            "iterations: 2620 | train_loss: 0.04944839 | validation_loss: 0.048028383 | Roc Score: 0.9698601 | Time elapsed: 3:47:40.943554\n",
            "iterations: 2621 | train_loss: 0.053845864 | validation_loss: 0.04802527 | Roc Score: 0.96986353 | Time elapsed: 3:47:46.161035\n",
            "iterations: 2622 | train_loss: 0.048633 | validation_loss: 0.04803462 | Roc Score: 0.96986705 | Time elapsed: 3:47:51.350402\n",
            "iterations: 2623 | train_loss: 0.052972928 | validation_loss: 0.04793284 | Roc Score: 0.9698705 | Time elapsed: 3:47:56.539277\n",
            "iterations: 2624 | train_loss: 0.031438097 | validation_loss: 0.04782213 | Roc Score: 0.96987444 | Time elapsed: 3:48:01.749760\n",
            "iterations: 2625 | train_loss: 0.054734148 | validation_loss: 0.04775822 | Roc Score: 0.9698784 | Time elapsed: 3:48:06.989875\n",
            "iterations: 2626 | train_loss: 0.037948903 | validation_loss: 0.047708333 | Roc Score: 0.9698824 | Time elapsed: 3:48:12.209463\n",
            "iterations: 2627 | train_loss: 0.03322941 | validation_loss: 0.047754623 | Roc Score: 0.96988595 | Time elapsed: 3:48:17.452676\n",
            "iterations: 2628 | train_loss: 0.02946007 | validation_loss: 0.048146833 | Roc Score: 0.9698894 | Time elapsed: 3:48:22.663368\n",
            "iterations: 2629 | train_loss: 0.046119474 | validation_loss: 0.04844519 | Roc Score: 0.9698925 | Time elapsed: 3:48:27.919855\n",
            "iterations: 2630 | train_loss: 0.046409097 | validation_loss: 0.04807691 | Roc Score: 0.9698958 | Time elapsed: 3:48:33.143785\n",
            "iterations: 2631 | train_loss: 0.046271756 | validation_loss: 0.047787555 | Roc Score: 0.96989954 | Time elapsed: 3:48:38.376972\n",
            "iterations: 2632 | train_loss: 0.05599084 | validation_loss: 0.047100678 | Roc Score: 0.9699036 | Time elapsed: 3:48:43.582011\n",
            "iterations: 2633 | train_loss: 0.036840342 | validation_loss: 0.046841986 | Roc Score: 0.96990836 | Time elapsed: 3:48:48.785935\n",
            "iterations: 2634 | train_loss: 0.053945936 | validation_loss: 0.04680677 | Roc Score: 0.96991354 | Time elapsed: 3:48:54.040674\n",
            "iterations: 2635 | train_loss: 0.028397681 | validation_loss: 0.046738774 | Roc Score: 0.9699187 | Time elapsed: 3:48:59.209403\n",
            "iterations: 2636 | train_loss: 0.034350857 | validation_loss: 0.0466644 | Roc Score: 0.96992385 | Time elapsed: 3:49:04.434358\n",
            "iterations: 2637 | train_loss: 0.04145751 | validation_loss: 0.046683338 | Roc Score: 0.9699287 | Time elapsed: 3:49:09.674014\n",
            "iterations: 2638 | train_loss: 0.04411027 | validation_loss: 0.04689584 | Roc Score: 0.9699328 | Time elapsed: 3:49:14.868234\n",
            "iterations: 2639 | train_loss: 0.031872176 | validation_loss: 0.04732101 | Roc Score: 0.96993625 | Time elapsed: 3:49:20.098203\n",
            "iterations: 2640 | train_loss: 0.032829765 | validation_loss: 0.047869764 | Roc Score: 0.96993905 | Time elapsed: 3:49:25.333542\n",
            "iterations: 2641 | train_loss: 0.050223064 | validation_loss: 0.048309404 | Roc Score: 0.96994144 | Time elapsed: 3:49:30.495099\n",
            "iterations: 2642 | train_loss: 0.02997555 | validation_loss: 0.048403088 | Roc Score: 0.96994394 | Time elapsed: 3:49:35.753019\n",
            "iterations: 2643 | train_loss: 0.02751171 | validation_loss: 0.048468184 | Roc Score: 0.96994656 | Time elapsed: 3:49:41.008581\n",
            "iterations: 2644 | train_loss: 0.03310716 | validation_loss: 0.048738062 | Roc Score: 0.96995 | Time elapsed: 3:49:46.211187\n",
            "iterations: 2645 | train_loss: 0.04171197 | validation_loss: 0.048928555 | Roc Score: 0.9699534 | Time elapsed: 3:49:51.412825\n",
            "iterations: 2646 | train_loss: 0.05974762 | validation_loss: 0.048950847 | Roc Score: 0.969958 | Time elapsed: 3:49:56.487594\n",
            "iterations: 2647 | train_loss: 0.032950107 | validation_loss: 0.048457988 | Roc Score: 0.96996254 | Time elapsed: 3:50:01.635972\n",
            "iterations: 2648 | train_loss: 0.047470942 | validation_loss: 0.047674924 | Roc Score: 0.96996737 | Time elapsed: 3:50:06.768796\n",
            "iterations: 2649 | train_loss: 0.040611893 | validation_loss: 0.04728201 | Roc Score: 0.96997195 | Time elapsed: 3:50:11.993049\n",
            "iterations: 2650 | train_loss: 0.045651425 | validation_loss: 0.046888188 | Roc Score: 0.96997654 | Time elapsed: 3:50:17.160184\n",
            "iterations: 2651 | train_loss: 0.04164213 | validation_loss: 0.046404388 | Roc Score: 0.96998113 | Time elapsed: 3:50:22.411609\n"
          ],
          "name": "stdout"
        },
        {
          "output_type": "stream",
          "text": [
            "iterations: 2652 | train_loss: 0.04598325 | validation_loss: 0.046240952 | Roc Score: 0.9699859 | Time elapsed: 3:50:27.572709\n",
            "iterations: 2653 | train_loss: 0.03759728 | validation_loss: 0.046165515 | Roc Score: 0.9699907 | Time elapsed: 3:50:32.802495\n",
            "iterations: 2654 | train_loss: 0.029962072 | validation_loss: 0.04626662 | Roc Score: 0.96999544 | Time elapsed: 3:50:37.994983\n",
            "iterations: 2655 | train_loss: 0.03776901 | validation_loss: 0.04636269 | Roc Score: 0.97000015 | Time elapsed: 3:50:43.224015\n",
            "iterations: 2656 | train_loss: 0.041354563 | validation_loss: 0.046462707 | Roc Score: 0.970005 | Time elapsed: 3:50:48.447033\n",
            "iterations: 2657 | train_loss: 0.03580907 | validation_loss: 0.046680246 | Roc Score: 0.9700093 | Time elapsed: 3:50:53.706171\n",
            "iterations: 2658 | train_loss: 0.040870328 | validation_loss: 0.046811983 | Roc Score: 0.97001344 | Time elapsed: 3:50:58.937361\n",
            "iterations: 2659 | train_loss: 0.03685962 | validation_loss: 0.047046747 | Roc Score: 0.970017 | Time elapsed: 3:51:04.164691\n",
            "iterations: 2660 | train_loss: 0.063412614 | validation_loss: 0.04695566 | Roc Score: 0.970021 | Time elapsed: 3:51:09.403252\n",
            "iterations: 2661 | train_loss: 0.037855756 | validation_loss: 0.046899498 | Roc Score: 0.9700253 | Time elapsed: 3:51:14.644369\n",
            "iterations: 2662 | train_loss: 0.042774253 | validation_loss: 0.04696448 | Roc Score: 0.9700301 | Time elapsed: 3:51:19.867563\n",
            "iterations: 2663 | train_loss: 0.031712055 | validation_loss: 0.047318384 | Roc Score: 0.9700349 | Time elapsed: 3:51:25.154545\n",
            "iterations: 2664 | train_loss: 0.04727916 | validation_loss: 0.04770158 | Roc Score: 0.9700398 | Time elapsed: 3:51:30.368375\n",
            "iterations: 2665 | train_loss: 0.022454526 | validation_loss: 0.048081122 | Roc Score: 0.9700448 | Time elapsed: 3:51:35.586754\n",
            "iterations: 2666 | train_loss: 0.04603276 | validation_loss: 0.04828163 | Roc Score: 0.9700495 | Time elapsed: 3:51:40.853110\n",
            "iterations: 2667 | train_loss: 0.0367829 | validation_loss: 0.04807966 | Roc Score: 0.97005403 | Time elapsed: 3:51:46.129392\n",
            "iterations: 2668 | train_loss: 0.05151909 | validation_loss: 0.04794684 | Roc Score: 0.9700581 | Time elapsed: 3:51:51.375182\n",
            "iterations: 2669 | train_loss: 0.031323276 | validation_loss: 0.047786802 | Roc Score: 0.9700615 | Time elapsed: 3:51:56.589417\n",
            "iterations: 2670 | train_loss: 0.03223518 | validation_loss: 0.048074596 | Roc Score: 0.9700643 | Time elapsed: 3:52:01.841027\n",
            "iterations: 2671 | train_loss: 0.034186866 | validation_loss: 0.048447292 | Roc Score: 0.97006613 | Time elapsed: 3:52:07.101612\n",
            "iterations: 2672 | train_loss: 0.03963665 | validation_loss: 0.048695575 | Roc Score: 0.9700676 | Time elapsed: 3:52:12.304607\n",
            "iterations: 2673 | train_loss: 0.03903478 | validation_loss: 0.048320606 | Roc Score: 0.9700698 | Time elapsed: 3:52:17.575768\n",
            "iterations: 2674 | train_loss: 0.057164364 | validation_loss: 0.04781949 | Roc Score: 0.9700728 | Time elapsed: 3:52:22.839225\n",
            "iterations: 2675 | train_loss: 0.039313175 | validation_loss: 0.04767128 | Roc Score: 0.97007614 | Time elapsed: 3:52:28.002529\n",
            "iterations: 2676 | train_loss: 0.036810182 | validation_loss: 0.04772242 | Roc Score: 0.97008026 | Time elapsed: 3:52:33.256676\n",
            "iterations: 2677 | train_loss: 0.03099196 | validation_loss: 0.04778524 | Roc Score: 0.9700849 | Time elapsed: 3:52:38.546163\n",
            "iterations: 2678 | train_loss: 0.061057575 | validation_loss: 0.04771509 | Roc Score: 0.97008955 | Time elapsed: 3:52:43.770368\n",
            "iterations: 2679 | train_loss: 0.047219902 | validation_loss: 0.04756605 | Roc Score: 0.97009426 | Time elapsed: 3:52:48.995850\n",
            "iterations: 2680 | train_loss: 0.044127274 | validation_loss: 0.047294784 | Roc Score: 0.97009933 | Time elapsed: 3:52:54.234646\n",
            "iterations: 2681 | train_loss: 0.030742172 | validation_loss: 0.047037654 | Roc Score: 0.97010446 | Time elapsed: 3:52:59.412635\n",
            "iterations: 2682 | train_loss: 0.038731333 | validation_loss: 0.046923615 | Roc Score: 0.9701097 | Time elapsed: 3:53:04.629968\n",
            "iterations: 2683 | train_loss: 0.038826484 | validation_loss: 0.046934947 | Roc Score: 0.9701147 | Time elapsed: 3:53:09.790862\n",
            "iterations: 2684 | train_loss: 0.044568557 | validation_loss: 0.04709381 | Roc Score: 0.9701195 | Time elapsed: 3:53:15.035994\n",
            "iterations: 2685 | train_loss: 0.06437483 | validation_loss: 0.047223803 | Roc Score: 0.9701242 | Time elapsed: 3:53:20.439614\n",
            "iterations: 2686 | train_loss: 0.031568527 | validation_loss: 0.047436897 | Roc Score: 0.97012866 | Time elapsed: 3:53:25.649063\n",
            "iterations: 2687 | train_loss: 0.03664574 | validation_loss: 0.047583047 | Roc Score: 0.970133 | Time elapsed: 3:53:30.872682\n",
            "iterations: 2688 | train_loss: 0.025465125 | validation_loss: 0.047766592 | Roc Score: 0.970137 | Time elapsed: 3:53:36.059153\n",
            "iterations: 2689 | train_loss: 0.034485504 | validation_loss: 0.047922462 | Roc Score: 0.97014016 | Time elapsed: 3:53:41.266701\n",
            "iterations: 2690 | train_loss: 0.038889203 | validation_loss: 0.048086487 | Roc Score: 0.9701434 | Time elapsed: 3:53:46.510689\n"
          ],
          "name": "stdout"
        },
        {
          "output_type": "stream",
          "text": [
            "iterations: 2691 | train_loss: 0.031072699 | validation_loss: 0.048477612 | Roc Score: 0.97014624 | Time elapsed: 3:53:51.725211\n",
            "iterations: 2692 | train_loss: 0.046332084 | validation_loss: 0.04856199 | Roc Score: 0.970149 | Time elapsed: 3:53:56.950569\n",
            "iterations: 2693 | train_loss: 0.06196023 | validation_loss: 0.048239063 | Roc Score: 0.970152 | Time elapsed: 3:54:02.201955\n",
            "iterations: 2694 | train_loss: 0.034055967 | validation_loss: 0.047946297 | Roc Score: 0.9701552 | Time elapsed: 3:54:07.395845\n",
            "iterations: 2695 | train_loss: 0.042260848 | validation_loss: 0.047792953 | Roc Score: 0.97015876 | Time elapsed: 3:54:12.603839\n",
            "iterations: 2696 | train_loss: 0.03790322 | validation_loss: 0.047911428 | Roc Score: 0.9701625 | Time elapsed: 3:54:17.827831\n",
            "iterations: 2697 | train_loss: 0.022700874 | validation_loss: 0.048230574 | Roc Score: 0.97016597 | Time elapsed: 3:54:23.074043\n",
            "iterations: 2698 | train_loss: 0.055284996 | validation_loss: 0.048640266 | Roc Score: 0.9701694 | Time elapsed: 3:54:28.308768\n",
            "iterations: 2699 | train_loss: 0.04607626 | validation_loss: 0.04891039 | Roc Score: 0.97017264 | Time elapsed: 3:54:33.527027\n",
            "iterations: 2700 | train_loss: 0.030110134 | validation_loss: 0.04878055 | Roc Score: 0.97017586 | Time elapsed: 3:54:38.742972\n",
            "iterations: 2701 | train_loss: 0.053816892 | validation_loss: 0.048714057 | Roc Score: 0.97017896 | Time elapsed: 3:54:43.967647\n",
            "iterations: 2702 | train_loss: 0.03991073 | validation_loss: 0.04860634 | Roc Score: 0.9701819 | Time elapsed: 3:54:49.238298\n",
            "iterations: 2703 | train_loss: 0.05436234 | validation_loss: 0.04859564 | Roc Score: 0.97018474 | Time elapsed: 3:54:54.451507\n",
            "iterations: 2704 | train_loss: 0.044554222 | validation_loss: 0.04846888 | Roc Score: 0.9701879 | Time elapsed: 3:54:59.653591\n",
            "iterations: 2705 | train_loss: 0.028174547 | validation_loss: 0.048323963 | Roc Score: 0.9701909 | Time elapsed: 3:55:04.886284\n",
            "iterations: 2706 | train_loss: 0.05389661 | validation_loss: 0.04819785 | Roc Score: 0.97019386 | Time elapsed: 3:55:10.135429\n",
            "iterations: 2707 | train_loss: 0.042472526 | validation_loss: 0.04790738 | Roc Score: 0.97019714 | Time elapsed: 3:55:15.360312\n",
            "iterations: 2708 | train_loss: 0.05461583 | validation_loss: 0.047474004 | Roc Score: 0.9702009 | Time elapsed: 3:55:20.591009\n",
            "iterations: 2709 | train_loss: 0.03424907 | validation_loss: 0.047171954 | Roc Score: 0.97020483 | Time elapsed: 3:55:25.795274\n",
            "iterations: 2710 | train_loss: 0.065028585 | validation_loss: 0.04685441 | Roc Score: 0.97020966 | Time elapsed: 3:55:30.973095\n",
            "iterations: 2711 | train_loss: 0.039115183 | validation_loss: 0.046789303 | Roc Score: 0.9702148 | Time elapsed: 3:55:36.222802\n",
            "iterations: 2712 | train_loss: 0.05418354 | validation_loss: 0.04700669 | Roc Score: 0.9702198 | Time elapsed: 3:55:41.416041\n",
            "iterations: 2713 | train_loss: 0.031726666 | validation_loss: 0.04719976 | Roc Score: 0.97022474 | Time elapsed: 3:55:46.671965\n",
            "iterations: 2714 | train_loss: 0.03627013 | validation_loss: 0.047340542 | Roc Score: 0.9702293 | Time elapsed: 3:55:51.899691\n",
            "iterations: 2715 | train_loss: 0.022519268 | validation_loss: 0.047424458 | Roc Score: 0.970234 | Time elapsed: 3:55:57.138762\n",
            "iterations: 2716 | train_loss: 0.046829797 | validation_loss: 0.047475442 | Roc Score: 0.97023845 | Time elapsed: 3:56:02.349526\n",
            "iterations: 2717 | train_loss: 0.03016945 | validation_loss: 0.047578383 | Roc Score: 0.97024304 | Time elapsed: 3:56:07.539814\n",
            "iterations: 2718 | train_loss: 0.041760195 | validation_loss: 0.047539223 | Roc Score: 0.9702476 | Time elapsed: 3:56:12.820087\n",
            "iterations: 2719 | train_loss: 0.06291072 | validation_loss: 0.047486037 | Roc Score: 0.97025216 | Time elapsed: 3:56:18.053853\n",
            "iterations: 2720 | train_loss: 0.029943272 | validation_loss: 0.04745998 | Roc Score: 0.97025657 | Time elapsed: 3:56:23.250560\n",
            "iterations: 2721 | train_loss: 0.044779073 | validation_loss: 0.047327098 | Roc Score: 0.97026163 | Time elapsed: 3:56:28.465002\n",
            "iterations: 2722 | train_loss: 0.037222113 | validation_loss: 0.04742357 | Roc Score: 0.9702666 | Time elapsed: 3:56:33.738761\n",
            "iterations: 2723 | train_loss: 0.03672787 | validation_loss: 0.047658425 | Roc Score: 0.97027147 | Time elapsed: 3:56:39.008986\n",
            "iterations: 2724 | train_loss: 0.030516418 | validation_loss: 0.04793252 | Roc Score: 0.97027636 | Time elapsed: 3:56:44.200333\n",
            "iterations: 2725 | train_loss: 0.04113013 | validation_loss: 0.048477143 | Roc Score: 0.97028106 | Time elapsed: 3:56:49.416820\n",
            "iterations: 2726 | train_loss: 0.03199574 | validation_loss: 0.048914302 | Roc Score: 0.9702858 | Time elapsed: 3:56:54.617042\n",
            "iterations: 2727 | train_loss: 0.040233362 | validation_loss: 0.04910501 | Roc Score: 0.9702903 | Time elapsed: 3:56:59.841195\n",
            "iterations: 2728 | train_loss: 0.028573908 | validation_loss: 0.049314696 | Roc Score: 0.9702949 | Time elapsed: 3:57:05.111259\n",
            "iterations: 2729 | train_loss: 0.051171944 | validation_loss: 0.04847579 | Roc Score: 0.9702993 | Time elapsed: 3:57:10.369084\n"
          ],
          "name": "stdout"
        },
        {
          "output_type": "stream",
          "text": [
            "iterations: 2730 | train_loss: 0.038737092 | validation_loss: 0.0477256 | Roc Score: 0.9703031 | Time elapsed: 3:57:15.628317\n",
            "iterations: 2731 | train_loss: 0.03630429 | validation_loss: 0.047211777 | Roc Score: 0.9703066 | Time elapsed: 3:57:20.829073\n",
            "iterations: 2732 | train_loss: 0.053676955 | validation_loss: 0.0470709 | Roc Score: 0.97031033 | Time elapsed: 3:57:26.053200\n",
            "iterations: 2733 | train_loss: 0.04251076 | validation_loss: 0.04738031 | Roc Score: 0.9703137 | Time elapsed: 3:57:31.310157\n",
            "iterations: 2734 | train_loss: 0.05792371 | validation_loss: 0.04764284 | Roc Score: 0.9703171 | Time elapsed: 3:57:36.547792\n",
            "iterations: 2735 | train_loss: 0.04177669 | validation_loss: 0.04774851 | Roc Score: 0.9703205 | Time elapsed: 3:57:41.820829\n",
            "iterations: 2736 | train_loss: 0.050519515 | validation_loss: 0.047710292 | Roc Score: 0.9703245 | Time elapsed: 3:57:47.093621\n",
            "iterations: 2737 | train_loss: 0.04234673 | validation_loss: 0.047504786 | Roc Score: 0.9703286 | Time elapsed: 3:57:52.363489\n",
            "iterations: 2738 | train_loss: 0.040054165 | validation_loss: 0.047317598 | Roc Score: 0.970333 | Time elapsed: 3:57:57.613529\n",
            "iterations: 2739 | train_loss: 0.03038099 | validation_loss: 0.047261134 | Roc Score: 0.9703371 | Time elapsed: 3:58:02.782814\n",
            "iterations: 2740 | train_loss: 0.03236826 | validation_loss: 0.047316834 | Roc Score: 0.97034156 | Time elapsed: 3:58:08.029321\n",
            "iterations: 2741 | train_loss: 0.03933097 | validation_loss: 0.047462095 | Roc Score: 0.970346 | Time elapsed: 3:58:13.295087\n",
            "iterations: 2742 | train_loss: 0.05292436 | validation_loss: 0.047606282 | Roc Score: 0.97035027 | Time elapsed: 3:58:18.471160\n",
            "iterations: 2743 | train_loss: 0.034646843 | validation_loss: 0.047538526 | Roc Score: 0.9703546 | Time elapsed: 3:58:23.699020\n",
            "iterations: 2744 | train_loss: 0.0579147 | validation_loss: 0.04741694 | Roc Score: 0.97035897 | Time elapsed: 3:58:28.933453\n",
            "iterations: 2745 | train_loss: 0.027445043 | validation_loss: 0.04740201 | Roc Score: 0.97036284 | Time elapsed: 3:58:34.176467\n",
            "iterations: 2746 | train_loss: 0.04829533 | validation_loss: 0.04774144 | Roc Score: 0.970366 | Time elapsed: 3:58:39.404598\n",
            "iterations: 2747 | train_loss: 0.047656387 | validation_loss: 0.048302017 | Roc Score: 0.97036815 | Time elapsed: 3:58:44.559910\n",
            "iterations: 2748 | train_loss: 0.021263184 | validation_loss: 0.04921367 | Roc Score: 0.9703696 | Time elapsed: 3:58:49.797824\n",
            "iterations: 2749 | train_loss: 0.034774903 | validation_loss: 0.04992997 | Roc Score: 0.97037065 | Time elapsed: 3:58:55.066577\n",
            "iterations: 2750 | train_loss: 0.029831242 | validation_loss: 0.05041083 | Roc Score: 0.97037154 | Time elapsed: 3:59:00.298491\n",
            "iterations: 2751 | train_loss: 0.042449534 | validation_loss: 0.050137777 | Roc Score: 0.97037244 | Time elapsed: 3:59:05.494258\n",
            "iterations: 2752 | train_loss: 0.033436365 | validation_loss: 0.04976298 | Roc Score: 0.97037375 | Time elapsed: 3:59:10.776766\n",
            "iterations: 2753 | train_loss: 0.051615767 | validation_loss: 0.0491188 | Roc Score: 0.9703754 | Time elapsed: 3:59:15.975693\n",
            "iterations: 2754 | train_loss: 0.0441064 | validation_loss: 0.04849677 | Roc Score: 0.97037864 | Time elapsed: 3:59:21.221445\n",
            "iterations: 2755 | train_loss: 0.034990113 | validation_loss: 0.048157413 | Roc Score: 0.97038263 | Time elapsed: 3:59:26.417183\n",
            "iterations: 2756 | train_loss: 0.04443503 | validation_loss: 0.047926962 | Roc Score: 0.970387 | Time elapsed: 3:59:31.628815\n",
            "iterations: 2757 | train_loss: 0.028400462 | validation_loss: 0.047991745 | Roc Score: 0.97039187 | Time elapsed: 3:59:36.869946\n",
            "iterations: 2758 | train_loss: 0.041375734 | validation_loss: 0.04806114 | Roc Score: 0.9703965 | Time elapsed: 3:59:42.090913\n",
            "iterations: 2759 | train_loss: 0.04192347 | validation_loss: 0.047493346 | Roc Score: 0.97040105 | Time elapsed: 3:59:47.335605\n",
            "iterations: 2760 | train_loss: 0.04827923 | validation_loss: 0.047001187 | Roc Score: 0.9704057 | Time elapsed: 3:59:52.567332\n",
            "iterations: 2761 | train_loss: 0.055014808 | validation_loss: 0.0469465 | Roc Score: 0.9704104 | Time elapsed: 3:59:57.813978\n",
            "iterations: 2762 | train_loss: 0.049459208 | validation_loss: 0.047144838 | Roc Score: 0.97041494 | Time elapsed: 4:00:03.054544\n"
          ],
          "name": "stdout"
        }
      ]
    },
    {
      "metadata": {
        "id": "itTuW2qCLiL5",
        "colab_type": "code",
        "colab": {
          "autoexec": {
            "startup": false,
            "wait_interval": 0
          },
          "output_extras": [
            {
              "item_id": 1
            }
          ],
          "base_uri": "https://localhost:8080/",
          "height": 566
        },
        "outputId": "f5d9e40e-8ac2-466c-996e-9d1701139c07",
        "executionInfo": {
          "status": "ok",
          "timestamp": 1521101784246,
          "user_tz": -360,
          "elapsed": 2049,
          "user": {
            "displayName": "Itrat Rahman",
            "photoUrl": "//lh3.googleusercontent.com/-j1V_yfZD3m0/AAAAAAAAAAI/AAAAAAAAFTg/pDPmK0kE5mI/s50-c-k-no/photo.jpg",
            "userId": "116815226076340067076"
          }
        }
      },
      "cell_type": "code",
      "source": [
        "plt.figure(figsize=(16, 8), dpi= 80, facecolor='w', edgecolor='k')\n",
        "iterations = list(range(1,iteration+1))\n",
        "plt.plot(iterations, train_loss, label = \"train loss\")\n",
        "plt.plot(iterations, valid_loss, label = \"valid loss\")\n",
        "plt.title(\"Loss\")\n",
        "plt.xlabel(\"iter\")\n",
        "plt.ylabel(\"loss\")\n",
        "plt.legend()\n",
        "plt.grid()\n",
        "plt.show()"
      ],
      "execution_count": 38,
      "outputs": [
        {
          "output_type": "display_data",
          "data": {
            "image/png": "[encoded data removed]",
            "text/plain": [
              "<matplotlib.figure.Figure at 0x7f9ad37ae390>"
            ]
          },
          "metadata": {
            "tags": []
          }
        }
      ]
    },
    {
      "metadata": {
        "id": "ok-5IW8xL87J",
        "colab_type": "code",
        "colab": {
          "autoexec": {
            "startup": false,
            "wait_interval": 0
          },
          "output_extras": [
            {
              "item_id": 1
            }
          ],
          "base_uri": "https://localhost:8080/",
          "height": 566
        },
        "outputId": "ebcae786-ccc3-40cd-cb29-c0116a1a1816",
        "executionInfo": {
          "status": "ok",
          "timestamp": 1521101785973,
          "user_tz": -360,
          "elapsed": 1131,
          "user": {
            "displayName": "Itrat Rahman",
            "photoUrl": "//lh3.googleusercontent.com/-j1V_yfZD3m0/AAAAAAAAAAI/AAAAAAAAFTg/pDPmK0kE5mI/s50-c-k-no/photo.jpg",
            "userId": "116815226076340067076"
          }
        }
      },
      "cell_type": "code",
      "source": [
        "plt.figure(figsize=(16, 8), dpi= 80, facecolor='w', edgecolor='k')\n",
        "plt.plot(iterations, valid_roc)\n",
        "plt.title(\"ROC AUC\")\n",
        "plt.xlabel(\"iter\")\n",
        "plt.ylabel(\"Auc\")\n",
        "plt.grid()\n",
        "plt.show()"
      ],
      "execution_count": 39,
      "outputs": [
        {
          "output_type": "display_data",
          "data": {
            "image/png": "[encoded data removed]",
            "text/plain": [
              "<matplotlib.figure.Figure at 0x7f9ad37a5e10>"
            ]
          },
          "metadata": {
            "tags": []
          }
        }
      ]
    },
    {
      "metadata": {
        "id": "cpu2T-5AVYjM",
        "colab_type": "code",
        "colab": {
          "autoexec": {
            "startup": false,
            "wait_interval": 0
          }
        }
      },
      "cell_type": "code",
      "source": [
        "del(comments_train, sentiments_train, seq_length_train, comments_validation, sentiments_validation, seq_length_validation)"
      ],
      "execution_count": 0,
      "outputs": []
    },
    {
      "metadata": {
        "id": "IN0I-JfrL-Uj",
        "colab_type": "code",
        "colab": {
          "autoexec": {
            "startup": false,
            "wait_interval": 0
          },
          "output_extras": [
            {
              "item_id": 41
            }
          ],
          "base_uri": "https://localhost:8080/",
          "height": 714
        },
        "outputId": "daa64c15-48db-49b6-d39f-87d68aef1763",
        "executionInfo": {
          "status": "ok",
          "timestamp": 1521101877746,
          "user_tz": -360,
          "elapsed": 90753,
          "user": {
            "displayName": "Itrat Rahman",
            "photoUrl": "//lh3.googleusercontent.com/-j1V_yfZD3m0/AAAAAAAAAAI/AAAAAAAAFTg/pDPmK0kE5mI/s50-c-k-no/photo.jpg",
            "userId": "116815226076340067076"
          }
        }
      },
      "cell_type": "code",
      "source": [
        "with tf.Session() as sess:  \n",
        "    \n",
        "    # restore the best model\n",
        "    model_path = \"./\"+\"my-model-\"+str(best_iteration)\n",
        "    saver.restore(sess, model_path)\n",
        "    \n",
        "    # break the test set into k folds other wise kernel will be out of memory\n",
        "    n = len(test_id)\n",
        "    k = 40\n",
        "    step = n//k\n",
        "    \n",
        "    # array to store the prediction\n",
        "    preds = np.array([])\n",
        "\n",
        "    # iterate through each fold\n",
        "    for i in range(k):\n",
        "\n",
        "        # start and end indices of the fold\n",
        "        if i != (k-1):\n",
        "            start = (step*i)\n",
        "            end = (step*(i+1)) \n",
        "        else:\n",
        "            start = (step*i)\n",
        "            end = len(test_id)\n",
        "            \n",
        "        \n",
        "\n",
        "        # feed dictionary for the fold\n",
        "        feed_dict_test =  {X:sequence_generator(comments_test[start:end], max_length, size),\n",
        "                            length:seq_length_test[start:end],\n",
        "                            keep_prob: 1.0}\n",
        "\n",
        "        # evaluate predictions of the fold\n",
        "        fold_preds = logits.eval(session=sess, feed_dict = feed_dict_test)\n",
        "        if i == 0:\n",
        "            preds  = fold_preds\n",
        "        else:\n",
        "            preds = np.append(preds, fold_preds, axis=0)\n",
        "        \n",
        "        print(\"Computed predictions for fold\",i)\n",
        "        \n",
        "    del(model, comments_test, seq_length_test)\n",
        "    \n",
        "    submission_matrix = np.append(np.transpose([test_id]), preds, axis=1)\n",
        "    del(test_id)\n",
        "    \n",
        "    # save the submission csv file\n",
        "    submission_path = \"./submission.csv\"\n",
        "    columns = [\"id\",\"toxic\",\"severe_toxic\",\"obscene\",\"threat\",\"insult\",\"identity_hate\"]\n",
        "    submission = pd.DataFrame(submission_matrix, columns= columns)\n",
        "    del(submission_matrix)\n",
        "    submission.to_csv(submission_path, header = True, index=False)"
      ],
      "execution_count": 41,
      "outputs": [
        {
          "output_type": "stream",
          "text": [
            "INFO:tensorflow:Restoring parameters from ./my-model-2762\n",
            "Computed predictions for fold 0\n",
            "Computed predictions for fold 1\n",
            "Computed predictions for fold 2\n",
            "Computed predictions for fold 3\n",
            "Computed predictions for fold 4\n",
            "Computed predictions for fold 5\n",
            "Computed predictions for fold 6\n",
            "Computed predictions for fold 7\n",
            "Computed predictions for fold 8\n",
            "Computed predictions for fold 9\n",
            "Computed predictions for fold 10\n",
            "Computed predictions for fold 11\n",
            "Computed predictions for fold 12\n",
            "Computed predictions for fold 13\n",
            "Computed predictions for fold 14\n",
            "Computed predictions for fold 15\n",
            "Computed predictions for fold 16\n",
            "Computed predictions for fold 17\n",
            "Computed predictions for fold 18\n",
            "Computed predictions for fold 19\n",
            "Computed predictions for fold 20\n",
            "Computed predictions for fold 21\n",
            "Computed predictions for fold 22\n",
            "Computed predictions for fold 23\n",
            "Computed predictions for fold 24\n",
            "Computed predictions for fold 25\n",
            "Computed predictions for fold 26\n",
            "Computed predictions for fold 27\n",
            "Computed predictions for fold 28\n",
            "Computed predictions for fold 29\n",
            "Computed predictions for fold 30\n",
            "Computed predictions for fold 31\n",
            "Computed predictions for fold 32\n",
            "Computed predictions for fold 33\n",
            "Computed predictions for fold 34\n",
            "Computed predictions for fold 35\n",
            "Computed predictions for fold 36\n",
            "Computed predictions for fold 37\n",
            "Computed predictions for fold 38\n",
            "Computed predictions for fold 39\n"
          ],
          "name": "stdout"
        }
      ]
    },
    {
      "metadata": {
        "id": "G3We-QgPlfnE",
        "colab_type": "code",
        "colab": {
          "autoexec": {
            "startup": false,
            "wait_interval": 0
          }
        }
      },
      "cell_type": "code",
      "source": [
        "# Code to read csv file into colaboratory:\n",
        "!pip install -U -q PyDrive\n",
        "from pydrive.auth import GoogleAuth\n",
        "from pydrive.drive import GoogleDrive\n",
        "from google.colab import auth\n",
        "from oauth2client.client import GoogleCredentials\n",
        "\n",
        "# 1. Authenticate and create the PyDrive client.\n",
        "auth.authenticate_user()\n",
        "gauth = GoogleAuth()\n",
        "gauth.credentials = GoogleCredentials.get_application_default()\n",
        "drive = GoogleDrive(gauth)"
      ],
      "execution_count": 0,
      "outputs": []
    },
    {
      "metadata": {
        "id": "0VJypPxoMC6q",
        "colab_type": "code",
        "colab": {
          "autoexec": {
            "startup": false,
            "wait_interval": 0
          }
        }
      },
      "cell_type": "code",
      "source": [
        "# Create & upload a text file.\n",
        "uploaded = drive.CreateFile({'title': 'submission.csv', 'parents':[{u'id': file_id_data[\"download_folder2_id\"]}]})\n",
        "uploaded.SetContentFile(\"submission.csv\")\n",
        "uploaded.Upload()"
      ],
      "execution_count": 0,
      "outputs": []
    }
  ]
}