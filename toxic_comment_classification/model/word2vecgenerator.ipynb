{
 "cells": [
  {
   "cell_type": "markdown",
   "metadata": {
    "_uuid": "cf3767ae11dc2f6fa1dec3b87d86039eccda3aa0"
   },
   "source": [
    "# Word2VecGenerator"
   ]
  },
  {
   "cell_type": "markdown",
   "metadata": {
    "_uuid": "262679d37f83ee5c7255aa1e8ac86e7770471704"
   },
   "source": [
    "## 1. Import statement"
   ]
  },
  {
   "cell_type": "markdown",
   "metadata": {
    "_uuid": "90301f87d39ec25563bea4fe3ed3819a76462ad9"
   },
   "source": [
    "**Import neccessary packages and modules**"
   ]
  },
  {
   "cell_type": "code",
   "execution_count": 1,
   "metadata": {
    "_cell_guid": "b1076dfc-b9ad-4769-8c92-a6c4dae69d19",
    "_uuid": "8f2839f25d086af736a60e9eeb907d3b93b6e0e5"
   },
   "outputs": [],
   "source": [
    "import time\n",
    "t = time.time()\n",
    "import string\n",
    "import random\n",
    "import json\n",
    "import math\n",
    "import random\n",
    "import pandas as pd\n",
    "import numpy as np\n",
    "from sklearn.preprocessing import LabelBinarizer\n",
    "import tensorflow as tf\n",
    "import matplotlib\n",
    "from matplotlib import pyplot as plt\n",
    "%matplotlib inline"
   ]
  },
  {
   "cell_type": "markdown",
   "metadata": {
    "_uuid": "67969e5cdc36be43bdbc3945dea958065022bbb2"
   },
   "source": [
    "**Import gensim**"
   ]
  },
  {
   "cell_type": "code",
   "execution_count": 2,
   "metadata": {
    "_cell_guid": "79c7e3d0-c299-4dcb-8224-4455121ee9b0",
    "_uuid": "d629ff2d2480ee46fbb7e2d37f6b5fab8052498a"
   },
   "outputs": [],
   "source": [
    "from gensim.models import Word2Vec"
   ]
  },
  {
   "cell_type": "markdown",
   "metadata": {
    "_uuid": "c12c0641a5d85e48d9b5215886550fc46bfb09a4"
   },
   "source": [
    "## 2. Load and Inspect Cleaned Data"
   ]
  },
  {
   "cell_type": "markdown",
   "metadata": {
    "_uuid": "0b0a26717ec50d1ea5fa8c80f1bf59fc6a454837"
   },
   "source": [
    "**Input directory**"
   ]
  },
  {
   "cell_type": "code",
   "execution_count": 3,
   "metadata": {
    "_uuid": "35f7290a4e0b3bb413621a19cb8c12a31204defc"
   },
   "outputs": [],
   "source": [
    "input_dir = \"../input/\""
   ]
  },
  {
   "cell_type": "markdown",
   "metadata": {
    "_uuid": "a9d247bab9575e808798c8746c8597d050a101b3"
   },
   "source": [
    "**Load train and test data**"
   ]
  },
  {
   "cell_type": "code",
   "execution_count": 4,
   "metadata": {
    "_uuid": "bab75b1fa5c50c8e05d1c1f864d043328c5a6e5d"
   },
   "outputs": [],
   "source": [
    "train_data = pd.read_csv(input_dir+'modified_train_data.csv') \n",
    "test_data = pd.read_csv(input_dir+'modified_test_data.csv')"
   ]
  },
  {
   "cell_type": "markdown",
   "metadata": {
    "_uuid": "01284089c32e65cc046cbe3705d813d11c776e59"
   },
   "source": [
    "**Inspect train and test data**"
   ]
  },
  {
   "cell_type": "code",
   "execution_count": 5,
   "metadata": {
    "_uuid": "cf1f775e0935b29bae7abeb97bfa257532e81fe3"
   },
   "outputs": [
    {
     "data": {
      "text/html": [
       "<div>\n",
       "<style scoped>\n",
       "    .dataframe tbody tr th:only-of-type {\n",
       "        vertical-align: middle;\n",
       "    }\n",
       "\n",
       "    .dataframe tbody tr th {\n",
       "        vertical-align: top;\n",
       "    }\n",
       "\n",
       "    .dataframe thead th {\n",
       "        text-align: right;\n",
       "    }\n",
       "</style>\n",
       "<table border=\"1\" class=\"dataframe\">\n",
       "  <thead>\n",
       "    <tr style=\"text-align: right;\">\n",
       "      <th></th>\n",
       "      <th>id</th>\n",
       "      <th>comment_text</th>\n",
       "      <th>toxic</th>\n",
       "      <th>severe_toxic</th>\n",
       "      <th>obscene</th>\n",
       "      <th>threat</th>\n",
       "      <th>insult</th>\n",
       "      <th>identity_hate</th>\n",
       "      <th>length</th>\n",
       "    </tr>\n",
       "  </thead>\n",
       "  <tbody>\n",
       "    <tr>\n",
       "      <th>0</th>\n",
       "      <td>0000997932d777bf</td>\n",
       "      <td>explan edit made usernam hardcor metallica fan...</td>\n",
       "      <td>0</td>\n",
       "      <td>0</td>\n",
       "      <td>0</td>\n",
       "      <td>0</td>\n",
       "      <td>0</td>\n",
       "      <td>0</td>\n",
       "      <td>23</td>\n",
       "    </tr>\n",
       "    <tr>\n",
       "      <th>1</th>\n",
       "      <td>000103f0d9cfb60f</td>\n",
       "      <td>aww match background colour seem stuck thank t...</td>\n",
       "      <td>0</td>\n",
       "      <td>0</td>\n",
       "      <td>0</td>\n",
       "      <td>0</td>\n",
       "      <td>0</td>\n",
       "      <td>0</td>\n",
       "      <td>10</td>\n",
       "    </tr>\n",
       "    <tr>\n",
       "      <th>2</th>\n",
       "      <td>000113f07ec002fd</td>\n",
       "      <td>hey man realli tri edit war guy constant remov...</td>\n",
       "      <td>0</td>\n",
       "      <td>0</td>\n",
       "      <td>0</td>\n",
       "      <td>0</td>\n",
       "      <td>0</td>\n",
       "      <td>0</td>\n",
       "      <td>21</td>\n",
       "    </tr>\n",
       "    <tr>\n",
       "      <th>3</th>\n",
       "      <td>0001b41b1c6bb37e</td>\n",
       "      <td>make real suggest improv wonder section statis...</td>\n",
       "      <td>0</td>\n",
       "      <td>0</td>\n",
       "      <td>0</td>\n",
       "      <td>0</td>\n",
       "      <td>0</td>\n",
       "      <td>0</td>\n",
       "      <td>52</td>\n",
       "    </tr>\n",
       "    <tr>\n",
       "      <th>4</th>\n",
       "      <td>0001d958c54c6e35</td>\n",
       "      <td>sir hero chanc rememb page</td>\n",
       "      <td>0</td>\n",
       "      <td>0</td>\n",
       "      <td>0</td>\n",
       "      <td>0</td>\n",
       "      <td>0</td>\n",
       "      <td>0</td>\n",
       "      <td>5</td>\n",
       "    </tr>\n",
       "    <tr>\n",
       "      <th>5</th>\n",
       "      <td>00025465d4725e87</td>\n",
       "      <td>congratul well use tool well talk</td>\n",
       "      <td>0</td>\n",
       "      <td>0</td>\n",
       "      <td>0</td>\n",
       "      <td>0</td>\n",
       "      <td>0</td>\n",
       "      <td>0</td>\n",
       "      <td>6</td>\n",
       "    </tr>\n",
       "    <tr>\n",
       "      <th>6</th>\n",
       "      <td>0002bcb3da6cb337</td>\n",
       "      <td>cocksuck piss around work</td>\n",
       "      <td>1</td>\n",
       "      <td>1</td>\n",
       "      <td>1</td>\n",
       "      <td>0</td>\n",
       "      <td>1</td>\n",
       "      <td>0</td>\n",
       "      <td>4</td>\n",
       "    </tr>\n",
       "    <tr>\n",
       "      <th>7</th>\n",
       "      <td>00031b1e95af7921</td>\n",
       "      <td>vandal matt shirvington articl revert pleas ban</td>\n",
       "      <td>0</td>\n",
       "      <td>0</td>\n",
       "      <td>0</td>\n",
       "      <td>0</td>\n",
       "      <td>0</td>\n",
       "      <td>0</td>\n",
       "      <td>7</td>\n",
       "    </tr>\n",
       "    <tr>\n",
       "      <th>8</th>\n",
       "      <td>00037261f536c51d</td>\n",
       "      <td>sorri word nonsens offens anyway intend write ...</td>\n",
       "      <td>0</td>\n",
       "      <td>0</td>\n",
       "      <td>0</td>\n",
       "      <td>0</td>\n",
       "      <td>0</td>\n",
       "      <td>0</td>\n",
       "      <td>38</td>\n",
       "    </tr>\n",
       "    <tr>\n",
       "      <th>9</th>\n",
       "      <td>00040093b2687caa</td>\n",
       "      <td>align subject contrari dulithgow</td>\n",
       "      <td>0</td>\n",
       "      <td>0</td>\n",
       "      <td>0</td>\n",
       "      <td>0</td>\n",
       "      <td>0</td>\n",
       "      <td>0</td>\n",
       "      <td>4</td>\n",
       "    </tr>\n",
       "    <tr>\n",
       "      <th>10</th>\n",
       "      <td>0005300084f90edc</td>\n",
       "      <td>fair use rational imag wonju jpg thank upload ...</td>\n",
       "      <td>0</td>\n",
       "      <td>0</td>\n",
       "      <td>0</td>\n",
       "      <td>0</td>\n",
       "      <td>0</td>\n",
       "      <td>0</td>\n",
       "      <td>257</td>\n",
       "    </tr>\n",
       "    <tr>\n",
       "      <th>11</th>\n",
       "      <td>00054a5e18b50dd4</td>\n",
       "      <td>bbq man let discuss mayb phone</td>\n",
       "      <td>0</td>\n",
       "      <td>0</td>\n",
       "      <td>0</td>\n",
       "      <td>0</td>\n",
       "      <td>0</td>\n",
       "      <td>0</td>\n",
       "      <td>6</td>\n",
       "    </tr>\n",
       "    <tr>\n",
       "      <th>12</th>\n",
       "      <td>0005c987bdfc9d4b</td>\n",
       "      <td>hey talk exclus group wp taliban good destroy ...</td>\n",
       "      <td>1</td>\n",
       "      <td>0</td>\n",
       "      <td>0</td>\n",
       "      <td>0</td>\n",
       "      <td>0</td>\n",
       "      <td>0</td>\n",
       "      <td>29</td>\n",
       "    </tr>\n",
       "    <tr>\n",
       "      <th>13</th>\n",
       "      <td>0006f16e4e9f292e</td>\n",
       "      <td>start throw accus warn let review edit make ad...</td>\n",
       "      <td>0</td>\n",
       "      <td>0</td>\n",
       "      <td>0</td>\n",
       "      <td>0</td>\n",
       "      <td>0</td>\n",
       "      <td>0</td>\n",
       "      <td>67</td>\n",
       "    </tr>\n",
       "    <tr>\n",
       "      <th>14</th>\n",
       "      <td>00070ef96486d6f9</td>\n",
       "      <td>oh girl start argument stuck nose belong belie...</td>\n",
       "      <td>0</td>\n",
       "      <td>0</td>\n",
       "      <td>0</td>\n",
       "      <td>0</td>\n",
       "      <td>0</td>\n",
       "      <td>0</td>\n",
       "      <td>16</td>\n",
       "    </tr>\n",
       "    <tr>\n",
       "      <th>15</th>\n",
       "      <td>00078f8ce7eb276d</td>\n",
       "      <td>juelz santana age juelz santana year old came ...</td>\n",
       "      <td>0</td>\n",
       "      <td>0</td>\n",
       "      <td>0</td>\n",
       "      <td>0</td>\n",
       "      <td>0</td>\n",
       "      <td>0</td>\n",
       "      <td>56</td>\n",
       "    </tr>\n",
       "    <tr>\n",
       "      <th>16</th>\n",
       "      <td>0007e25b2121310b</td>\n",
       "      <td>bye look come think com back tosser</td>\n",
       "      <td>1</td>\n",
       "      <td>0</td>\n",
       "      <td>0</td>\n",
       "      <td>0</td>\n",
       "      <td>0</td>\n",
       "      <td>0</td>\n",
       "      <td>7</td>\n",
       "    </tr>\n",
       "    <tr>\n",
       "      <th>17</th>\n",
       "      <td>000897889268bc93</td>\n",
       "      <td>redirect talk voydan pop georgiev chernodrinski</td>\n",
       "      <td>0</td>\n",
       "      <td>0</td>\n",
       "      <td>0</td>\n",
       "      <td>0</td>\n",
       "      <td>0</td>\n",
       "      <td>0</td>\n",
       "      <td>6</td>\n",
       "    </tr>\n",
       "    <tr>\n",
       "      <th>18</th>\n",
       "      <td>0009801bd85e5806</td>\n",
       "      <td>mitsurugi point made sens argu includ hindi ry...</td>\n",
       "      <td>0</td>\n",
       "      <td>0</td>\n",
       "      <td>0</td>\n",
       "      <td>0</td>\n",
       "      <td>0</td>\n",
       "      <td>0</td>\n",
       "      <td>12</td>\n",
       "    </tr>\n",
       "    <tr>\n",
       "      <th>19</th>\n",
       "      <td>0009eaea3325de8c</td>\n",
       "      <td>mean bother see write someth regard remov anyt...</td>\n",
       "      <td>0</td>\n",
       "      <td>0</td>\n",
       "      <td>0</td>\n",
       "      <td>0</td>\n",
       "      <td>0</td>\n",
       "      <td>0</td>\n",
       "      <td>36</td>\n",
       "    </tr>\n",
       "  </tbody>\n",
       "</table>\n",
       "</div>"
      ],
      "text/plain": [
       "                  id                                       comment_text  \\\n",
       "0   0000997932d777bf  explan edit made usernam hardcor metallica fan...   \n",
       "1   000103f0d9cfb60f  aww match background colour seem stuck thank t...   \n",
       "2   000113f07ec002fd  hey man realli tri edit war guy constant remov...   \n",
       "3   0001b41b1c6bb37e  make real suggest improv wonder section statis...   \n",
       "4   0001d958c54c6e35                         sir hero chanc rememb page   \n",
       "5   00025465d4725e87                  congratul well use tool well talk   \n",
       "6   0002bcb3da6cb337                          cocksuck piss around work   \n",
       "7   00031b1e95af7921    vandal matt shirvington articl revert pleas ban   \n",
       "8   00037261f536c51d  sorri word nonsens offens anyway intend write ...   \n",
       "9   00040093b2687caa                   align subject contrari dulithgow   \n",
       "10  0005300084f90edc  fair use rational imag wonju jpg thank upload ...   \n",
       "11  00054a5e18b50dd4                     bbq man let discuss mayb phone   \n",
       "12  0005c987bdfc9d4b  hey talk exclus group wp taliban good destroy ...   \n",
       "13  0006f16e4e9f292e  start throw accus warn let review edit make ad...   \n",
       "14  00070ef96486d6f9  oh girl start argument stuck nose belong belie...   \n",
       "15  00078f8ce7eb276d  juelz santana age juelz santana year old came ...   \n",
       "16  0007e25b2121310b                bye look come think com back tosser   \n",
       "17  000897889268bc93    redirect talk voydan pop georgiev chernodrinski   \n",
       "18  0009801bd85e5806  mitsurugi point made sens argu includ hindi ry...   \n",
       "19  0009eaea3325de8c  mean bother see write someth regard remov anyt...   \n",
       "\n",
       "    toxic  severe_toxic  obscene  threat  insult  identity_hate  length  \n",
       "0       0             0        0       0       0              0      23  \n",
       "1       0             0        0       0       0              0      10  \n",
       "2       0             0        0       0       0              0      21  \n",
       "3       0             0        0       0       0              0      52  \n",
       "4       0             0        0       0       0              0       5  \n",
       "5       0             0        0       0       0              0       6  \n",
       "6       1             1        1       0       1              0       4  \n",
       "7       0             0        0       0       0              0       7  \n",
       "8       0             0        0       0       0              0      38  \n",
       "9       0             0        0       0       0              0       4  \n",
       "10      0             0        0       0       0              0     257  \n",
       "11      0             0        0       0       0              0       6  \n",
       "12      1             0        0       0       0              0      29  \n",
       "13      0             0        0       0       0              0      67  \n",
       "14      0             0        0       0       0              0      16  \n",
       "15      0             0        0       0       0              0      56  \n",
       "16      1             0        0       0       0              0       7  \n",
       "17      0             0        0       0       0              0       6  \n",
       "18      0             0        0       0       0              0      12  \n",
       "19      0             0        0       0       0              0      36  "
      ]
     },
     "execution_count": 5,
     "metadata": {},
     "output_type": "execute_result"
    }
   ],
   "source": [
    "train_data.head(20)"
   ]
  },
  {
   "cell_type": "code",
   "execution_count": 6,
   "metadata": {
    "_uuid": "60ec91c5409aed8df7c4a8d841019417a3bd9cbf"
   },
   "outputs": [
    {
     "name": "stdout",
     "output_type": "stream",
     "text": [
      "Shape of train data: (159571, 9)\n"
     ]
    }
   ],
   "source": [
    "print(\"Shape of train data:\", train_data.shape)"
   ]
  },
  {
   "cell_type": "code",
   "execution_count": 7,
   "metadata": {
    "_uuid": "4ed43e5421d5e041d8a38f9f52cec58914f517e3"
   },
   "outputs": [
    {
     "data": {
      "text/html": [
       "<div>\n",
       "<style scoped>\n",
       "    .dataframe tbody tr th:only-of-type {\n",
       "        vertical-align: middle;\n",
       "    }\n",
       "\n",
       "    .dataframe tbody tr th {\n",
       "        vertical-align: top;\n",
       "    }\n",
       "\n",
       "    .dataframe thead th {\n",
       "        text-align: right;\n",
       "    }\n",
       "</style>\n",
       "<table border=\"1\" class=\"dataframe\">\n",
       "  <thead>\n",
       "    <tr style=\"text-align: right;\">\n",
       "      <th></th>\n",
       "      <th>id</th>\n",
       "      <th>comment_text</th>\n",
       "      <th>length</th>\n",
       "    </tr>\n",
       "  </thead>\n",
       "  <tbody>\n",
       "    <tr>\n",
       "      <th>0</th>\n",
       "      <td>00001cee341fdb12</td>\n",
       "      <td>yo bitch ja rule succes ever what hate sad mof...</td>\n",
       "      <td>44</td>\n",
       "    </tr>\n",
       "    <tr>\n",
       "      <th>1</th>\n",
       "      <td>0000247867823ef7</td>\n",
       "      <td>rfc titl fine imo</td>\n",
       "      <td>4</td>\n",
       "    </tr>\n",
       "    <tr>\n",
       "      <th>2</th>\n",
       "      <td>00013b17ad220c46</td>\n",
       "      <td>sourc zaw ashton lapland</td>\n",
       "      <td>4</td>\n",
       "    </tr>\n",
       "    <tr>\n",
       "      <th>3</th>\n",
       "      <td>00017563c3f7919a</td>\n",
       "      <td>look back sourc inform updat correct form gues...</td>\n",
       "      <td>15</td>\n",
       "    </tr>\n",
       "    <tr>\n",
       "      <th>4</th>\n",
       "      <td>00017695ad8997eb</td>\n",
       "      <td>anonym edit articl</td>\n",
       "      <td>3</td>\n",
       "    </tr>\n",
       "    <tr>\n",
       "      <th>5</th>\n",
       "      <td>0001ea8717f6de06</td>\n",
       "      <td>thank understand think high would revert witho...</td>\n",
       "      <td>8</td>\n",
       "    </tr>\n",
       "    <tr>\n",
       "      <th>6</th>\n",
       "      <td>00024115d4cbde0f</td>\n",
       "      <td>pleas add nonsens wikipedia edit consid vandal...</td>\n",
       "      <td>17</td>\n",
       "    </tr>\n",
       "    <tr>\n",
       "      <th>7</th>\n",
       "      <td>000247e83dcc1211</td>\n",
       "      <td>dear god site horribl</td>\n",
       "      <td>4</td>\n",
       "    </tr>\n",
       "    <tr>\n",
       "      <th>8</th>\n",
       "      <td>00025358d4737918</td>\n",
       "      <td>fool believ number correct number lie   ponder...</td>\n",
       "      <td>44</td>\n",
       "    </tr>\n",
       "    <tr>\n",
       "      <th>9</th>\n",
       "      <td>00026d1092fe71cc</td>\n",
       "      <td>doubl redirect fix doubl redirect blank outer ...</td>\n",
       "      <td>21</td>\n",
       "    </tr>\n",
       "    <tr>\n",
       "      <th>10</th>\n",
       "      <td>0002eadc3b301559</td>\n",
       "      <td>think crap link roggenbi articl somebodi know ...</td>\n",
       "      <td>9</td>\n",
       "    </tr>\n",
       "    <tr>\n",
       "      <th>11</th>\n",
       "      <td>0002f87b16116a7f</td>\n",
       "      <td>somebodi invari tri add religion realli mean w...</td>\n",
       "      <td>39</td>\n",
       "    </tr>\n",
       "    <tr>\n",
       "      <th>12</th>\n",
       "      <td>0003806b11932181</td>\n",
       "      <td>februari utc look clear ban sockpuppet ignor ...</td>\n",
       "      <td>24</td>\n",
       "    </tr>\n",
       "    <tr>\n",
       "      <th>13</th>\n",
       "      <td>0003e1cccfd5a40a</td>\n",
       "      <td>say right type type institut need case three l...</td>\n",
       "      <td>45</td>\n",
       "    </tr>\n",
       "    <tr>\n",
       "      <th>14</th>\n",
       "      <td>00059ace3e3e9a53</td>\n",
       "      <td>ad new product list make sure relev ad new pro...</td>\n",
       "      <td>30</td>\n",
       "    </tr>\n",
       "    <tr>\n",
       "      <th>15</th>\n",
       "      <td>000634272d0d44eb</td>\n",
       "      <td>current posit anyon confirm sir alfr longer ai...</td>\n",
       "      <td>9</td>\n",
       "    </tr>\n",
       "    <tr>\n",
       "      <th>16</th>\n",
       "      <td>000663aff0fffc80</td>\n",
       "      <td>one</td>\n",
       "      <td>1</td>\n",
       "    </tr>\n",
       "    <tr>\n",
       "      <th>17</th>\n",
       "      <td>000689dd34e20979</td>\n",
       "      <td>reason ban throw articl need section throw ban...</td>\n",
       "      <td>15</td>\n",
       "    </tr>\n",
       "    <tr>\n",
       "      <th>18</th>\n",
       "      <td>000834769115370c</td>\n",
       "      <td>wallamoos chang cite materi say thing origin s...</td>\n",
       "      <td>29</td>\n",
       "    </tr>\n",
       "    <tr>\n",
       "      <th>19</th>\n",
       "      <td>000844b52dee5f3f</td>\n",
       "      <td>block edit wikipedia</td>\n",
       "      <td>3</td>\n",
       "    </tr>\n",
       "  </tbody>\n",
       "</table>\n",
       "</div>"
      ],
      "text/plain": [
       "                  id                                       comment_text  \\\n",
       "0   00001cee341fdb12  yo bitch ja rule succes ever what hate sad mof...   \n",
       "1   0000247867823ef7                                  rfc titl fine imo   \n",
       "2   00013b17ad220c46                          sourc zaw ashton lapland    \n",
       "3   00017563c3f7919a  look back sourc inform updat correct form gues...   \n",
       "4   00017695ad8997eb                                 anonym edit articl   \n",
       "5   0001ea8717f6de06  thank understand think high would revert witho...   \n",
       "6   00024115d4cbde0f  pleas add nonsens wikipedia edit consid vandal...   \n",
       "7   000247e83dcc1211                              dear god site horribl   \n",
       "8   00025358d4737918  fool believ number correct number lie   ponder...   \n",
       "9   00026d1092fe71cc  doubl redirect fix doubl redirect blank outer ...   \n",
       "10  0002eadc3b301559  think crap link roggenbi articl somebodi know ...   \n",
       "11  0002f87b16116a7f  somebodi invari tri add religion realli mean w...   \n",
       "12  0003806b11932181   februari utc look clear ban sockpuppet ignor ...   \n",
       "13  0003e1cccfd5a40a  say right type type institut need case three l...   \n",
       "14  00059ace3e3e9a53  ad new product list make sure relev ad new pro...   \n",
       "15  000634272d0d44eb  current posit anyon confirm sir alfr longer ai...   \n",
       "16  000663aff0fffc80                                              one     \n",
       "17  000689dd34e20979  reason ban throw articl need section throw ban...   \n",
       "18  000834769115370c  wallamoos chang cite materi say thing origin s...   \n",
       "19  000844b52dee5f3f                               block edit wikipedia   \n",
       "\n",
       "    length  \n",
       "0       44  \n",
       "1        4  \n",
       "2        4  \n",
       "3       15  \n",
       "4        3  \n",
       "5        8  \n",
       "6       17  \n",
       "7        4  \n",
       "8       44  \n",
       "9       21  \n",
       "10       9  \n",
       "11      39  \n",
       "12      24  \n",
       "13      45  \n",
       "14      30  \n",
       "15       9  \n",
       "16       1  \n",
       "17      15  \n",
       "18      29  \n",
       "19       3  "
      ]
     },
     "execution_count": 7,
     "metadata": {},
     "output_type": "execute_result"
    }
   ],
   "source": [
    "test_data.head(20)"
   ]
  },
  {
   "cell_type": "code",
   "execution_count": 8,
   "metadata": {
    "_uuid": "68743386d9008fb7fa27f7c09b9dd1fdea43a956"
   },
   "outputs": [
    {
     "name": "stdout",
     "output_type": "stream",
     "text": [
      "Shape of test data: (153164, 3)\n"
     ]
    }
   ],
   "source": [
    "print(\"Shape of test data:\", test_data.shape)"
   ]
  },
  {
   "cell_type": "markdown",
   "metadata": {
    "_uuid": "5ea3ce935b4508308794f3608ef85f955fe4f750"
   },
   "source": [
    "## 3. Create Word2Vec Model"
   ]
  },
  {
   "cell_type": "markdown",
   "metadata": {
    "_uuid": "83daa86d086880eb9cc4cf02fdcca50d698ca346"
   },
   "source": [
    "**Aggregrate all the comments from train and test data in a list**"
   ]
  },
  {
   "cell_type": "code",
   "execution_count": 9,
   "metadata": {
    "_uuid": "bb8acae54c89217ccc9468cbe29c2fe0b60decad"
   },
   "outputs": [
    {
     "name": "stdout",
     "output_type": "stream",
     "text": [
      "Shape of all comments: (312735,)\n"
     ]
    }
   ],
   "source": [
    "train_comment = train_data[\"comment_text\"].values\n",
    "test_comment = test_data[\"comment_text\"].values\n",
    "all_comments = np.concatenate((train_comment, test_comment), axis = 0)\n",
    "print(\"Shape of all comments:\",all_comments.shape)\n",
    "del(train_comment, test_comment)\n",
    "all_comments = all_comments.tolist()"
   ]
  },
  {
   "cell_type": "markdown",
   "metadata": {
    "_uuid": "8285e061461225f6da21419104206c8fee8be9d6"
   },
   "source": [
    "**Break each comment into list of words**"
   ]
  },
  {
   "cell_type": "code",
   "execution_count": 10,
   "metadata": {
    "_uuid": "b6a2c403f3b07b881e0dbd9929cce44d11fd109e"
   },
   "outputs": [],
   "source": [
    "sentences = []\n",
    "for comment in all_comments:\n",
    "    comment = str(comment)\n",
    "    sentences.append(comment.split())\n",
    "del(all_comments)"
   ]
  },
  {
   "cell_type": "markdown",
   "metadata": {
    "_uuid": "6aa539c6bd645e9c39dd817caa291513b397f219"
   },
   "source": [
    "**Create Word2Vec (Skip-Gram) model using gensim**"
   ]
  },
  {
   "cell_type": "code",
   "execution_count": 11,
   "metadata": {
    "_uuid": "1b6a1961d28582078e4c71a4fada98c7ee0806a8"
   },
   "outputs": [
    {
     "name": "stdout",
     "output_type": "stream",
     "text": [
      "Finished creating word2vec model. Time needed: 165.60584592819214 sec\n"
     ]
    }
   ],
   "source": [
    "t = time.time()\n",
    "size = 100\n",
    "window = 25\n",
    "model = Word2Vec(sentences, sg = 1, size=size, window=window, min_count=1, workers=16)\n",
    "print(\"Finished creating word2vec model.\", \"Time needed:\", time.time()-t,\"sec\")"
   ]
  },
  {
   "cell_type": "markdown",
   "metadata": {
    "_uuid": "07215b42e0cc3d8b0dd91f3697b12bb16ff35a46"
   },
   "source": [
    "## 4. Save the model to the kernel"
   ]
  },
  {
   "cell_type": "markdown",
   "metadata": {
    "_uuid": "02cbdf53e9dbd933165f65c2efc73a95c55a4630"
   },
   "source": [
    "**Save directory**"
   ]
  },
  {
   "cell_type": "code",
   "execution_count": 12,
   "metadata": {
    "_uuid": "a4fcff29f2bf8943f7649b70d8db9a4fc9e239bc"
   },
   "outputs": [],
   "source": [
    "save_dir = \"./word2vec_models/\""
   ]
  },
  {
   "cell_type": "markdown",
   "metadata": {
    "_uuid": "c78466002ec4b2a82088ea0965096eb9489f3989"
   },
   "source": [
    "**Save the Word2Vec model in the designated directory**"
   ]
  },
  {
   "cell_type": "code",
   "execution_count": 13,
   "metadata": {
    "_uuid": "5f320a3a04836df4a833124432b1ae5e9d8906a4"
   },
   "outputs": [],
   "source": [
    "fname = \"word2vec_model\"\n",
    "model.wv.save_word2vec_format(save_dir+fname)"
   ]
  },
  {
   "cell_type": "markdown",
   "metadata": {
    "_uuid": "6e80fab0942285b140468834ce8db7e876a6cdb0"
   },
   "source": [
    "**Save the Word2Vec model info in a json file in the designated directory**"
   ]
  },
  {
   "cell_type": "code",
   "execution_count": 15,
   "metadata": {
    "_uuid": "43eb6a21d31f76f7c0502301bbe8294839225fe6"
   },
   "outputs": [],
   "source": [
    "data = {\"size\": size, \"window\":window}\n",
    "with open(save_dir+'data.json', 'w') as outfile:\n",
    "    json.dump(data, outfile)"
   ]
  }
 ],
 "metadata": {
  "kernelspec": {
   "display_name": "Python 3",
   "language": "python",
   "name": "python3"
  },
  "language_info": {
   "codemirror_mode": {
    "name": "ipython",
    "version": 3
   },
   "file_extension": ".py",
   "mimetype": "text/x-python",
   "name": "python",
   "nbconvert_exporter": "python",
   "pygments_lexer": "ipython3",
   "version": "3.6.8"
  }
 },
 "nbformat": 4,
 "nbformat_minor": 1
}
