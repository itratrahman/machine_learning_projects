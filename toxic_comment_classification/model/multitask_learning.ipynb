{
  "nbformat": 4,
  "nbformat_minor": 0,
  "metadata": {
    "colab": {
      "name": "model8.ipynb",
      "version": "0.3.2",
      "views": {},
      "default_view": {},
      "provenance": [],
      "collapsed_sections": [],
      "toc_visible": true
    },
    "kernelspec": {
      "name": "python3",
      "display_name": "Python 3"
    },
    "accelerator": "GPU"
  },
  "cells": [
    {
      "metadata": {
        "id": "LTdpm5WIiBL2",
        "colab_type": "text"
      },
      "cell_type": "markdown",
      "source": [
        "# Import libraries"
      ]
    },
    {
      "metadata": {
        "id": "JpG0VOk5iDbl",
        "colab_type": "code",
        "colab": {
          "autoexec": {
            "startup": false,
            "wait_interval": 0
          }
        }
      },
      "cell_type": "code",
      "source": [
        "import os\n",
        "import time\n",
        "import datetime\n",
        "import string\n",
        "import random\n",
        "import math\n",
        "import json\n",
        "import random\n",
        "import pandas as pd\n",
        "import numpy as np\n",
        "from sklearn.preprocessing import LabelBinarizer\n",
        "import tensorflow as tf\n",
        "tf.reset_default_graph()\n",
        "import matplotlib\n",
        "from matplotlib import pyplot as plt\n",
        "%matplotlib inline"
      ],
      "execution_count": 0,
      "outputs": []
    },
    {
      "metadata": {
        "id": "Jre2QJeBiH-r",
        "colab_type": "text"
      },
      "cell_type": "markdown",
      "source": [
        "**List the devices available to tensorflow**"
      ]
    },
    {
      "metadata": {
        "id": "IBoBSAOfiJ7m",
        "colab_type": "code",
        "colab": {
          "autoexec": {
            "startup": false,
            "wait_interval": 0
          },
          "output_extras": [
            {
              "item_id": 1
            }
          ],
          "base_uri": "https://localhost:8080/",
          "height": 238
        },
        "outputId": "4d53c7a6-9616-40d2-de0c-e264ab8d0305",
        "executionInfo": {
          "status": "ok",
          "timestamp": 1521334283667,
          "user_tz": -360,
          "elapsed": 1021,
          "user": {
            "displayName": "Itrat Rahman",
            "photoUrl": "//lh3.googleusercontent.com/-j1V_yfZD3m0/AAAAAAAAAAI/AAAAAAAAFTg/pDPmK0kE5mI/s50-c-k-no/photo.jpg",
            "userId": "116815226076340067076"
          }
        }
      },
      "cell_type": "code",
      "source": [
        "from tensorflow.python.client import device_lib\n",
        "device_lib.list_local_devices()"
      ],
      "execution_count": 2,
      "outputs": [
        {
          "output_type": "execute_result",
          "data": {
            "text/plain": [
              "[name: \"/device:CPU:0\"\n",
              " device_type: \"CPU\"\n",
              " memory_limit: 268435456\n",
              " locality {\n",
              " }\n",
              " incarnation: 18210768129148261017, name: \"/device:GPU:0\"\n",
              " device_type: \"GPU\"\n",
              " memory_limit: 11297803469\n",
              " locality {\n",
              "   bus_id: 1\n",
              " }\n",
              " incarnation: 3680785508017395591\n",
              " physical_device_desc: \"device: 0, name: Tesla K80, pci bus id: 0000:00:04.0, compute capability: 3.7\"]"
            ]
          },
          "metadata": {
            "tags": []
          },
          "execution_count": 2
        }
      ]
    },
    {
      "metadata": {
        "id": "o4iA4UTeiLbu",
        "colab_type": "code",
        "colab": {
          "autoexec": {
            "startup": false,
            "wait_interval": 0
          },
          "output_extras": [
            {
              "item_id": 31
            }
          ],
          "base_uri": "https://localhost:8080/",
          "height": 904
        },
        "outputId": "5f423185-40ec-44b0-8fe5-83b509ae20cd",
        "executionInfo": {
          "status": "ok",
          "timestamp": 1521334312909,
          "user_tz": -360,
          "elapsed": 29138,
          "user": {
            "displayName": "Itrat Rahman",
            "photoUrl": "//lh3.googleusercontent.com/-j1V_yfZD3m0/AAAAAAAAAAI/AAAAAAAAFTg/pDPmK0kE5mI/s50-c-k-no/photo.jpg",
            "userId": "116815226076340067076"
          }
        }
      },
      "cell_type": "code",
      "source": [
        "!pip install --upgrade gensim\n",
        "from gensim.models.word2vec import Word2VecKeyedVectors"
      ],
      "execution_count": 3,
      "outputs": [
        {
          "output_type": "stream",
          "text": [
            "Collecting gensim\n",
            "  Downloading gensim-3.4.0-cp36-cp36m-manylinux1_x86_64.whl (22.6MB)\n",
            "\u001b[K    100% |████████████████████████████████| 22.6MB 60kB/s \n",
            "\u001b[?25hCollecting scipy>=0.18.1 (from gensim)\n",
            "  Downloading scipy-1.0.0-cp36-cp36m-manylinux1_x86_64.whl (50.0MB)\n",
            "\u001b[K    100% |████████████████████████████████| 50.0MB 28kB/s \n",
            "\u001b[?25hCollecting smart-open>=1.2.1 (from gensim)\n",
            "  Downloading smart_open-1.5.6.tar.gz\n",
            "Requirement already up-to-date: six>=1.5.0 in /usr/local/lib/python3.6/dist-packages (from gensim)\n",
            "Requirement already up-to-date: numpy>=1.11.3 in /usr/local/lib/python3.6/dist-packages (from gensim)\n",
            "Collecting boto3 (from smart-open>=1.2.1->gensim)\n",
            "  Downloading boto3-1.6.11-py2.py3-none-any.whl (128kB)\n",
            "\u001b[K    100% |████████████████████████████████| 133kB 8.7MB/s \n",
            "\u001b[?25hCollecting boto>=2.32 (from smart-open>=1.2.1->gensim)\n",
            "  Downloading boto-2.48.0-py2.py3-none-any.whl (1.4MB)\n",
            "\u001b[K    100% |████████████████████████████████| 1.4MB 950kB/s \n",
            "\u001b[?25hCollecting bz2file (from smart-open>=1.2.1->gensim)\n",
            "  Downloading bz2file-0.98.tar.gz\n",
            "Requirement already up-to-date: requests in /usr/local/lib/python3.6/dist-packages (from smart-open>=1.2.1->gensim)\n",
            "Collecting s3transfer<0.2.0,>=0.1.10 (from boto3->smart-open>=1.2.1->gensim)\n",
            "  Downloading s3transfer-0.1.13-py2.py3-none-any.whl (59kB)\n",
            "\u001b[K    100% |████████████████████████████████| 61kB 8.8MB/s \n",
            "\u001b[?25hCollecting botocore<1.10.0,>=1.9.11 (from boto3->smart-open>=1.2.1->gensim)\n",
            "  Downloading botocore-1.9.11-py2.py3-none-any.whl (4.1MB)\n",
            "\u001b[K    100% |████████████████████████████████| 4.1MB 324kB/s \n",
            "\u001b[?25hCollecting jmespath<1.0.0,>=0.7.1 (from boto3->smart-open>=1.2.1->gensim)\n",
            "  Downloading jmespath-0.9.3-py2.py3-none-any.whl\n",
            "Requirement already up-to-date: certifi>=2017.4.17 in /usr/local/lib/python3.6/dist-packages (from requests->smart-open>=1.2.1->gensim)\n",
            "Requirement already up-to-date: idna<2.7,>=2.5 in /usr/local/lib/python3.6/dist-packages (from requests->smart-open>=1.2.1->gensim)\n",
            "Requirement already up-to-date: urllib3<1.23,>=1.21.1 in /usr/local/lib/python3.6/dist-packages (from requests->smart-open>=1.2.1->gensim)\n",
            "Requirement already up-to-date: chardet<3.1.0,>=3.0.2 in /usr/local/lib/python3.6/dist-packages (from requests->smart-open>=1.2.1->gensim)\n",
            "Collecting python-dateutil<2.7.0,>=2.1 (from botocore<1.10.0,>=1.9.11->boto3->smart-open>=1.2.1->gensim)\n",
            "  Downloading python_dateutil-2.6.1-py2.py3-none-any.whl (194kB)\n",
            "\u001b[K    100% |████████████████████████████████| 194kB 6.5MB/s \n",
            "\u001b[?25hCollecting docutils>=0.10 (from botocore<1.10.0,>=1.9.11->boto3->smart-open>=1.2.1->gensim)\n",
            "  Downloading docutils-0.14-py3-none-any.whl (543kB)\n",
            "\u001b[K    100% |████████████████████████████████| 552kB 2.3MB/s \n",
            "\u001b[?25hBuilding wheels for collected packages: smart-open, bz2file\n",
            "  Running setup.py bdist_wheel for smart-open ... \u001b[?25l-\b \bdone\n",
            "\u001b[?25h  Stored in directory: /content/.cache/pip/wheels/36/48/35/97efc2bd1b233627131c9a936c9de23681846db707b907d353\n",
            "  Running setup.py bdist_wheel for bz2file ... \u001b[?25l-\b \bdone\n",
            "\u001b[?25h  Stored in directory: /content/.cache/pip/wheels/31/9c/20/996d65ca104cbca940b1b053299b68459391c01c774d073126\n",
            "Successfully built smart-open bz2file\n",
            "Installing collected packages: scipy, python-dateutil, docutils, jmespath, botocore, s3transfer, boto3, boto, bz2file, smart-open, gensim\n",
            "  Found existing installation: scipy 0.19.1\n",
            "    Uninstalling scipy-0.19.1:\n",
            "      Successfully uninstalled scipy-0.19.1\n",
            "  Found existing installation: python-dateutil 2.5.3\n",
            "    Uninstalling python-dateutil-2.5.3:\n",
            "      Successfully uninstalled python-dateutil-2.5.3\n",
            "Successfully installed boto-2.48.0 boto3-1.6.11 botocore-1.9.11 bz2file-0.98 docutils-0.14 gensim-3.4.0 jmespath-0.9.3 python-dateutil-2.6.1 s3transfer-0.1.13 scipy-1.0.0 smart-open-1.5.6\n"
          ],
          "name": "stdout"
        }
      ]
    },
    {
      "metadata": {
        "id": "fCGNlkX1iU5w",
        "colab_type": "text"
      },
      "cell_type": "markdown",
      "source": [
        "**Make the result reproducible by setting the seed of numpy and tensorflow**"
      ]
    },
    {
      "metadata": {
        "id": "vtlmAfs-iXEN",
        "colab_type": "code",
        "colab": {
          "autoexec": {
            "startup": false,
            "wait_interval": 0
          },
          "output_extras": [
            {
              "item_id": 1
            }
          ],
          "base_uri": "https://localhost:8080/",
          "height": 51
        },
        "outputId": "454b0204-a07e-40d7-ea12-fcb7a7edb499",
        "executionInfo": {
          "status": "ok",
          "timestamp": 1521334313443,
          "user_tz": -360,
          "elapsed": 523,
          "user": {
            "displayName": "Itrat Rahman",
            "photoUrl": "//lh3.googleusercontent.com/-j1V_yfZD3m0/AAAAAAAAAAI/AAAAAAAAFTg/pDPmK0kE5mI/s50-c-k-no/photo.jpg",
            "userId": "116815226076340067076"
          }
        }
      },
      "cell_type": "code",
      "source": [
        "# np_rand_seed = random.randint(0,100)\n",
        "# tf_rand_seed = random.randint(0,100)\n",
        "np_rand_seed = 95\n",
        "tf_rand_seed = 63\n",
        "np.random.seed(np_rand_seed)\n",
        "tf.set_random_seed(tf_rand_seed)\n",
        "print(\"numpy random seed: \",np_rand_seed)\n",
        "print(\"tensorflow random seed: \", tf_rand_seed)"
      ],
      "execution_count": 4,
      "outputs": [
        {
          "output_type": "stream",
          "text": [
            "numpy random seed:  95\n",
            "tensorflow random seed:  63\n"
          ],
          "name": "stdout"
        }
      ]
    },
    {
      "metadata": {
        "id": "bOXbWV3FicFY",
        "colab_type": "text"
      },
      "cell_type": "markdown",
      "source": [
        "# Load the cleaned data"
      ]
    },
    {
      "metadata": {
        "id": "hABNm3obiht0",
        "colab_type": "text"
      },
      "cell_type": "markdown",
      "source": [
        "**Authentication via google auth**"
      ]
    },
    {
      "metadata": {
        "id": "GATrjq9biimt",
        "colab_type": "code",
        "colab": {
          "autoexec": {
            "startup": false,
            "wait_interval": 0
          }
        }
      },
      "cell_type": "code",
      "source": [
        "# Code to read csv file into colaboratory:\n",
        "!pip install -U -q PyDrive\n",
        "from pydrive.auth import GoogleAuth\n",
        "from pydrive.drive import GoogleDrive\n",
        "from google.colab import auth\n",
        "from oauth2client.client import GoogleCredentials\n",
        "\n",
        "# 1. Authenticate and create the PyDrive client.\n",
        "auth.authenticate_user()\n",
        "gauth = GoogleAuth()\n",
        "gauth.credentials = GoogleCredentials.get_application_default()\n",
        "drive = GoogleDrive(gauth)"
      ],
      "execution_count": 0,
      "outputs": []
    },
    {
      "metadata": {
        "id": "fISnhyD-ilJ0",
        "colab_type": "text"
      },
      "cell_type": "markdown",
      "source": [
        "**Upload a file from google cloud where file ids are stored as a json**"
      ]
    },
    {
      "metadata": {
        "id": "gQ5yRC9jim-9",
        "colab_type": "code",
        "colab": {
          "autoexec": {
            "startup": false,
            "wait_interval": 0
          },
          "output_extras": [
            {
              "item_id": 1
            },
            {
              "item_id": 3
            }
          ],
          "resources": {
            "http://localhost:8080/nbextensions/google.colab/files.js": {
              "data": "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",
              "ok": true,
              "headers": [
                [
                  "content-type",
                  "application/javascript"
                ]
              ],
              "status": 200,
              "status_text": ""
            }
          },
          "base_uri": "https://localhost:8080/",
          "height": 89
        },
        "outputId": "a58a5493-e2d2-46bd-f514-04bdbd39f13d",
        "executionInfo": {
          "status": "ok",
          "timestamp": 1521334424598,
          "user_tz": -360,
          "elapsed": 7525,
          "user": {
            "displayName": "Itrat Rahman",
            "photoUrl": "//lh3.googleusercontent.com/-j1V_yfZD3m0/AAAAAAAAAAI/AAAAAAAAFTg/pDPmK0kE5mI/s50-c-k-no/photo.jpg",
            "userId": "116815226076340067076"
          }
        }
      },
      "cell_type": "code",
      "source": [
        "from google.colab import files\n",
        "\n",
        "uploaded = files.upload()\n",
        "\n",
        "for fn in uploaded.keys():\n",
        "    print('User uploaded file \"{name}\" with length {length} bytes'.format(\n",
        "      name=fn, length=len(uploaded[fn])))\n",
        "\n",
        "file_id_data= json.loads(uploaded['file_id.json'])"
      ],
      "execution_count": 6,
      "outputs": [
        {
          "output_type": "display_data",
          "data": {
            "text/html": [
              "\n",
              "     <input type=\"file\" id=\"files-d1ae603e-84de-4824-942d-ad8b423b28d7\" name=\"files[]\" multiple disabled />\n",
              "     <output id=\"result-d1ae603e-84de-4824-942d-ad8b423b28d7\">\n",
              "      Upload widget is only available when the cell has been executed in the\n",
              "      current browser session. Please rerun this cell to enable.\n",
              "      </output>\n",
              "      <script src=\"/nbextensions/google.colab/files.js\"></script> "
            ],
            "text/plain": [
              "<IPython.core.display.HTML object>"
            ]
          },
          "metadata": {
            "tags": []
          }
        },
        {
          "output_type": "stream",
          "text": [
            "Saving file_id.json to file_id.json\n",
            "User uploaded file \"file_id.json\" with length 489 bytes\n"
          ],
          "name": "stdout"
        }
      ]
    },
    {
      "metadata": {
        "id": "XD21gey9iqGx",
        "colab_type": "text"
      },
      "cell_type": "markdown",
      "source": [
        "**Download files to the kernel**"
      ]
    },
    {
      "metadata": {
        "id": "JHw1wDyHir-O",
        "colab_type": "code",
        "colab": {
          "autoexec": {
            "startup": false,
            "wait_interval": 0
          }
        }
      },
      "cell_type": "code",
      "source": [
        "downloaded1 = drive.CreateFile({'id':file_id_data[\"modified_train_file_id\"]}) \n",
        "downloaded1.GetContentFile('modified_train_data.csv')  \n",
        "downloaded2 = drive.CreateFile({'id':file_id_data[\"modified_test_file_id\"]}) \n",
        "downloaded2.GetContentFile('modified_test_data.csv')\n",
        "downloaded3 = drive.CreateFile({'id':file_id_data[\"word2vec_model\"]}) \n",
        "downloaded3.GetContentFile('word2vec_model')  \n",
        "downloaded4 = drive.CreateFile({'id':file_id_data[\"data\"]}) \n",
        "downloaded4.GetContentFile('data.json')"
      ],
      "execution_count": 0,
      "outputs": []
    },
    {
      "metadata": {
        "id": "G7XnWAbZiugr",
        "colab_type": "text"
      },
      "cell_type": "markdown",
      "source": [
        "**Load train and test data to notebook**"
      ]
    },
    {
      "metadata": {
        "id": "5UsivrqhiwcO",
        "colab_type": "code",
        "colab": {
          "autoexec": {
            "startup": false,
            "wait_interval": 0
          }
        }
      },
      "cell_type": "code",
      "source": [
        "#3. Read file as panda dataframe\n",
        "data = pd.read_csv('modified_train_data.csv') \n",
        "test_data = pd.read_csv('modified_test_data.csv')"
      ],
      "execution_count": 0,
      "outputs": []
    },
    {
      "metadata": {
        "id": "5d33gWqFiyQC",
        "colab_type": "text"
      },
      "cell_type": "markdown",
      "source": [
        "**Remove the csv files from kernel**"
      ]
    },
    {
      "metadata": {
        "id": "5-6RHzUli0eF",
        "colab_type": "code",
        "colab": {
          "autoexec": {
            "startup": false,
            "wait_interval": 0
          }
        }
      },
      "cell_type": "code",
      "source": [
        "os.remove(\"modified_train_data.csv\")\n",
        "os.remove(\"modified_test_data.csv\")"
      ],
      "execution_count": 0,
      "outputs": []
    },
    {
      "metadata": {
        "id": "8aaYNzhqvaKY",
        "colab_type": "text"
      },
      "cell_type": "markdown",
      "source": [
        "**Extract size from the json file**"
      ]
    },
    {
      "metadata": {
        "id": "xdbKrVhcvePH",
        "colab_type": "code",
        "colab": {
          "autoexec": {
            "startup": false,
            "wait_interval": 0
          }
        }
      },
      "cell_type": "code",
      "source": [
        "metadata= json.loads(open(\"data.json\").read())\n",
        "size = metadata['size']"
      ],
      "execution_count": 0,
      "outputs": []
    },
    {
      "metadata": {
        "id": "y8SspxrXi5EN",
        "colab_type": "text"
      },
      "cell_type": "markdown",
      "source": [
        "**Extract the size of Word2Vec model**"
      ]
    },
    {
      "metadata": {
        "id": "wZiDq9COi74q",
        "colab_type": "code",
        "colab": {
          "autoexec": {
            "startup": false,
            "wait_interval": 0
          }
        }
      },
      "cell_type": "code",
      "source": [
        "fname = \"word2vec_model\"\n",
        "model = Word2VecKeyedVectors.load_word2vec_format(fname)"
      ],
      "execution_count": 0,
      "outputs": []
    },
    {
      "metadata": {
        "id": "SPIgatbQjBQg",
        "colab_type": "code",
        "colab": {
          "autoexec": {
            "startup": false,
            "wait_interval": 0
          }
        }
      },
      "cell_type": "code",
      "source": [
        "os.remove(\"word2vec_model\")"
      ],
      "execution_count": 0,
      "outputs": []
    },
    {
      "metadata": {
        "id": "0s7txmRKjC-H",
        "colab_type": "text"
      },
      "cell_type": "markdown",
      "source": [
        "# Inspect the distribution of #words in the sentences"
      ]
    },
    {
      "metadata": {
        "id": "qs_TIGgLjH4W",
        "colab_type": "text"
      },
      "cell_type": "markdown",
      "source": [
        "**Distribution of #words in train data**"
      ]
    },
    {
      "metadata": {
        "id": "xgd2sOmyjJzl",
        "colab_type": "code",
        "colab": {
          "autoexec": {
            "startup": false,
            "wait_interval": 0
          },
          "output_extras": [
            {
              "item_id": 1
            }
          ],
          "base_uri": "https://localhost:8080/",
          "height": 512
        },
        "outputId": "8665d04e-727c-4814-db44-57191ffbaccb",
        "executionInfo": {
          "status": "ok",
          "timestamp": 1521334462418,
          "user_tz": -360,
          "elapsed": 1860,
          "user": {
            "displayName": "Itrat Rahman",
            "photoUrl": "//lh3.googleusercontent.com/-j1V_yfZD3m0/AAAAAAAAAAI/AAAAAAAAFTg/pDPmK0kE5mI/s50-c-k-no/photo.jpg",
            "userId": "116815226076340067076"
          }
        }
      },
      "cell_type": "code",
      "source": [
        "data.hist(\"length\", bins=500, figsize=(16,8))\n",
        "plt.xlabel(\"#words\")\n",
        "plt.xlim(0,300)\n",
        "plt.show()"
      ],
      "execution_count": 13,
      "outputs": [
        {
          "output_type": "display_data",
          "data": {
            "image/png": "[encoded data removed]",
            "text/plain": [
              "<matplotlib.figure.Figure at 0x7fcbdfc56898>"
            ]
          },
          "metadata": {
            "tags": []
          }
        }
      ]
    },
    {
      "metadata": {
        "id": "2X_N-nlCjNu5",
        "colab_type": "text"
      },
      "cell_type": "markdown",
      "source": [
        "**Distribution of #words in test data**"
      ]
    },
    {
      "metadata": {
        "id": "5XXOfeypjOmt",
        "colab_type": "code",
        "colab": {
          "autoexec": {
            "startup": false,
            "wait_interval": 0
          },
          "output_extras": [
            {
              "item_id": 1
            }
          ],
          "base_uri": "https://localhost:8080/",
          "height": 512
        },
        "outputId": "34631772-bf29-46c6-e97d-ba7ed060276e",
        "executionInfo": {
          "status": "ok",
          "timestamp": 1521334464561,
          "user_tz": -360,
          "elapsed": 2130,
          "user": {
            "displayName": "Itrat Rahman",
            "photoUrl": "//lh3.googleusercontent.com/-j1V_yfZD3m0/AAAAAAAAAAI/AAAAAAAAFTg/pDPmK0kE5mI/s50-c-k-no/photo.jpg",
            "userId": "116815226076340067076"
          }
        }
      },
      "cell_type": "code",
      "source": [
        "test_data.hist(\"length\", bins=500, figsize=(16,8))\n",
        "plt.xlabel(\"#words\")\n",
        "plt.xlim(0,300)\n",
        "plt.show()"
      ],
      "execution_count": 14,
      "outputs": [
        {
          "output_type": "display_data",
          "data": {
            "image/png": "[encoded data removed]",
            "text/plain": [
              "<matplotlib.figure.Figure at 0x7fcbdfc56518>"
            ]
          },
          "metadata": {
            "tags": []
          }
        }
      ]
    },
    {
      "metadata": {
        "id": "SG6g-4ZWjRs8",
        "colab_type": "text"
      },
      "cell_type": "markdown",
      "source": [
        "**Distribution of #words in all data**"
      ]
    },
    {
      "metadata": {
        "id": "WUVAEIJDjTKl",
        "colab_type": "code",
        "colab": {
          "autoexec": {
            "startup": false,
            "wait_interval": 0
          },
          "output_extras": [
            {
              "item_id": 1
            }
          ],
          "base_uri": "https://localhost:8080/",
          "height": 497
        },
        "outputId": "ad04ba28-ea76-4d0b-94ee-9f199bec9ffc",
        "executionInfo": {
          "status": "ok",
          "timestamp": 1521334466493,
          "user_tz": -360,
          "elapsed": 1892,
          "user": {
            "displayName": "Itrat Rahman",
            "photoUrl": "//lh3.googleusercontent.com/-j1V_yfZD3m0/AAAAAAAAAAI/AAAAAAAAFTg/pDPmK0kE5mI/s50-c-k-no/photo.jpg",
            "userId": "116815226076340067076"
          }
        }
      },
      "cell_type": "code",
      "source": [
        "all_length = pd.concat([data['length'], test_data['length']])\n",
        "all_length.hist(bins=500, figsize=(16,8))\n",
        "plt.xlim(0,300)\n",
        "plt.xlabel(\"#words\")\n",
        "plt.show()\n",
        "del(all_length)"
      ],
      "execution_count": 15,
      "outputs": [
        {
          "output_type": "display_data",
          "data": {
            "image/png": "[encoded data removed]",
            "text/plain": [
              "<matplotlib.figure.Figure at 0x7fcbdd679cc0>"
            ]
          },
          "metadata": {
            "tags": []
          }
        }
      ]
    },
    {
      "metadata": {
        "id": "KB74Db-3jXVi",
        "colab_type": "text"
      },
      "cell_type": "markdown",
      "source": [
        "# Train validation split"
      ]
    },
    {
      "metadata": {
        "id": "vzlKRChujeK3",
        "colab_type": "text"
      },
      "cell_type": "markdown",
      "source": [
        "**Extract the train, validation, and test data in numpy arrays**"
      ]
    },
    {
      "metadata": {
        "id": "0-PjR29bjfe1",
        "colab_type": "code",
        "colab": {
          "autoexec": {
            "startup": false,
            "wait_interval": 0
          }
        }
      },
      "cell_type": "code",
      "source": [
        "comments = data[\"comment_text\"].as_matrix()\n",
        "sentiments = data[[\"toxic\",\"severe_toxic\",\"obscene\",\"threat\",\"insult\",\"identity_hate\"]].as_matrix()\n",
        "seq_length = data['length'].as_matrix()\n",
        "\n",
        "# randomly generate train and validation indices\n",
        "train_indices = np.random.choice(len(seq_length), round(len(seq_length)*0.96), replace=False)\n",
        "validation_indices = np.array(list(set(range(len(seq_length))) - set(train_indices)))\n",
        "\n",
        "comments_train = comments[train_indices]\n",
        "comments_validation = comments[validation_indices]\n",
        "comments_test = test_data[\"comment_text\"].as_matrix()\n",
        "\n",
        "seq_length_train = seq_length[train_indices]\n",
        "seq_length_validation = seq_length[validation_indices]\n",
        "seq_length_test = test_data['length'].as_matrix()\n",
        "\n",
        "sentiments_train = sentiments[train_indices]\n",
        "sentiments_validation = sentiments[validation_indices]\n",
        "\n",
        "test_id = test_data['id'].as_matrix()"
      ],
      "execution_count": 0,
      "outputs": []
    },
    {
      "metadata": {
        "id": "BoIQ2kF1jihj",
        "colab_type": "code",
        "colab": {
          "autoexec": {
            "startup": false,
            "wait_interval": 0
          },
          "output_extras": [
            {
              "item_id": 1
            }
          ],
          "base_uri": "https://localhost:8080/",
          "height": 170
        },
        "outputId": "5bea9ebd-6975-4644-a64b-f7178148bdca",
        "executionInfo": {
          "status": "ok",
          "timestamp": 1521334468305,
          "user_tz": -360,
          "elapsed": 823,
          "user": {
            "displayName": "Itrat Rahman",
            "photoUrl": "//lh3.googleusercontent.com/-j1V_yfZD3m0/AAAAAAAAAAI/AAAAAAAAFTg/pDPmK0kE5mI/s50-c-k-no/photo.jpg",
            "userId": "116815226076340067076"
          }
        }
      },
      "cell_type": "code",
      "source": [
        "print(\"shape of comments_train:\",comments_train.shape)\n",
        "print(\"shape of comments_validation:\",comments_validation.shape)\n",
        "print(\"shape of comments_test:\",comments_test.shape)\n",
        "print(\"shape of seq_length_train:\",seq_length_train.shape)\n",
        "print(\"shape of seq_length_validation:\",seq_length_validation.shape)\n",
        "print(\"shape of seq_length_test:\",seq_length_test.shape)\n",
        "print(\"shape of sentiments_train:\",sentiments_train.shape)\n",
        "print(\"shape of sentiments_test:\",sentiments_validation.shape)\n",
        "print(\"shape of test_id:\",test_id.shape)"
      ],
      "execution_count": 17,
      "outputs": [
        {
          "output_type": "stream",
          "text": [
            "shape of comments_train: (153188,)\n",
            "shape of comments_validation: (6383,)\n",
            "shape of comments_test: (153164,)\n",
            "shape of seq_length_train: (153188,)\n",
            "shape of seq_length_validation: (6383,)\n",
            "shape of seq_length_test: (153164,)\n",
            "shape of sentiments_train: (153188, 6)\n",
            "shape of sentiments_test: (6383, 6)\n",
            "shape of test_id: (153164,)\n"
          ],
          "name": "stdout"
        }
      ]
    },
    {
      "metadata": {
        "id": "uW72NwLhjkk_",
        "colab_type": "code",
        "colab": {
          "autoexec": {
            "startup": false,
            "wait_interval": 0
          }
        }
      },
      "cell_type": "code",
      "source": [
        "del(train_indices, validation_indices, data, test_data, comments, sentiments, seq_length)"
      ],
      "execution_count": 0,
      "outputs": []
    },
    {
      "metadata": {
        "id": "jzMnB7S1jlYf",
        "colab_type": "text"
      },
      "cell_type": "markdown",
      "source": [
        "# Create Recurrent Neural Network (LSTM cell)"
      ]
    },
    {
      "metadata": {
        "id": "OPNAjAu5jqfl",
        "colab_type": "text"
      },
      "cell_type": "markdown",
      "source": [
        "**A function to generate fixed length sequence**"
      ]
    },
    {
      "metadata": {
        "id": "iQB-KE8hjrjS",
        "colab_type": "code",
        "colab": {
          "autoexec": {
            "startup": false,
            "wait_interval": 0
          }
        }
      },
      "cell_type": "code",
      "source": [
        "def sequence_generator(comments, max_length, size):\n",
        "    \n",
        "    sentences = []\n",
        "    for comment in comments.tolist():\n",
        "        sentences.append(str(comment).split())\n",
        "        \n",
        "    sequences = []\n",
        "    for sentence in sentences:\n",
        "        if len(sentence)>0:\n",
        "            if len(sentence)<max_length:\n",
        "                sequence = model[sentence]\n",
        "                tail = np.zeros((max_length - len(sentence), size))\n",
        "                sequence = np.concatenate((sequence, tail))\n",
        "            else:\n",
        "                sequence = model[sentence[:max_length]]\n",
        "        else:\n",
        "            sequence = np.zeros((max_length, size))        \n",
        "        sequences.append(sequence)\n",
        "    sequences = np.array(sequences)\n",
        "    \n",
        "    return sequences"
      ],
      "execution_count": 0,
      "outputs": []
    },
    {
      "metadata": {
        "id": "viZewtOfjvVF",
        "colab_type": "text"
      },
      "cell_type": "markdown",
      "source": [
        "**Parameters of sequence data**"
      ]
    },
    {
      "metadata": {
        "id": "hndR3nEijwQF",
        "colab_type": "code",
        "colab": {
          "autoexec": {
            "startup": false,
            "wait_interval": 0
          }
        }
      },
      "cell_type": "code",
      "source": [
        "max_length = n_steps = 300 \n",
        "size = n_inputs = size\n",
        "n_outputs = 6"
      ],
      "execution_count": 0,
      "outputs": []
    },
    {
      "metadata": {
        "id": "g-80e-6Wj2U9",
        "colab_type": "text"
      },
      "cell_type": "markdown",
      "source": [
        "**Function to generate batch data**"
      ]
    },
    {
      "metadata": {
        "id": "uf_3hCmLj3be",
        "colab_type": "code",
        "colab": {
          "autoexec": {
            "startup": false,
            "wait_interval": 0
          }
        }
      },
      "cell_type": "code",
      "source": [
        "def generate_train_batch(indices, comments, seq_length, sentiments, max_length, size):\n",
        "    \n",
        "    comments_batch = comments[indices]\n",
        "    seq_length_batch = seq_length[indices]\n",
        "    sentiments_batch = sentiments[indices]\n",
        "    \n",
        "    sequences_batch = sequence_generator(comments_batch, max_length, size)\n",
        "    \n",
        "    return sequences_batch, seq_length_batch, sentiments_batch"
      ],
      "execution_count": 0,
      "outputs": []
    },
    {
      "metadata": {
        "id": "F5mVpK94j8Vt",
        "colab_type": "text"
      },
      "cell_type": "markdown",
      "source": [
        "**Placeholders**"
      ]
    },
    {
      "metadata": {
        "id": "YC96FVihj9od",
        "colab_type": "code",
        "colab": {
          "autoexec": {
            "startup": false,
            "wait_interval": 0
          }
        }
      },
      "cell_type": "code",
      "source": [
        "X = tf.placeholder(tf.float32, [None, n_steps, n_inputs])\n",
        "labels = tf.placeholder(tf.float32, [None, n_outputs])\n",
        "length = tf.placeholder(tf.int32, [None])\n",
        "keep_prob = tf.placeholder(tf.float32)"
      ],
      "execution_count": 0,
      "outputs": []
    },
    {
      "metadata": {
        "id": "NGQnTsN0j_if",
        "colab_type": "text"
      },
      "cell_type": "markdown",
      "source": [
        "## Creat RNN layer"
      ]
    },
    {
      "metadata": {
        "id": "WvlSYFVFkHJv",
        "colab_type": "text"
      },
      "cell_type": "markdown",
      "source": [
        "**Create a multilayered lstm network**"
      ]
    },
    {
      "metadata": {
        "id": "AfkVIB4akI3m",
        "colab_type": "code",
        "colab": {
          "autoexec": {
            "startup": false,
            "wait_interval": 0
          }
        }
      },
      "cell_type": "code",
      "source": [
        "n_layers = 2\n",
        "n_neurons = 256"
      ],
      "execution_count": 0,
      "outputs": []
    },
    {
      "metadata": {
        "id": "mlyXTlwGkKgI",
        "colab_type": "code",
        "colab": {
          "autoexec": {
            "startup": false,
            "wait_interval": 0
          }
        }
      },
      "cell_type": "code",
      "source": [
        "lstm_cells = [tf.contrib.rnn.BasicLSTMCell(num_units=n_neurons)\n",
        "              for layer in range(n_layers)]\n",
        "lstm_cells_drop = [tf.contrib.rnn.DropoutWrapper(cell, input_keep_prob=keep_prob)\n",
        "                    for cell in lstm_cells]\n",
        "cells_across_gpu = [tf.contrib.rnn.DeviceWrapper(\"/device:GPU:0\", cell) for cell in lstm_cells_drop]\n",
        "\n",
        "multi_cell = tf.contrib.rnn.MultiRNNCell(lstm_cells)"
      ],
      "execution_count": 0,
      "outputs": []
    },
    {
      "metadata": {
        "id": "166kCAEMkOMY",
        "colab_type": "text"
      },
      "cell_type": "markdown",
      "source": [
        "**Extract the short term output of the last lstm cell**"
      ]
    },
    {
      "metadata": {
        "id": "vElCqwVLkOlc",
        "colab_type": "code",
        "colab": {
          "autoexec": {
            "startup": false,
            "wait_interval": 0
          },
          "output_extras": [
            {
              "item_id": 1
            }
          ],
          "base_uri": "https://localhost:8080/",
          "height": 34
        },
        "outputId": "01394f83-e60a-4bc6-c651-0bba0679070c",
        "executionInfo": {
          "status": "ok",
          "timestamp": 1521334476044,
          "user_tz": -360,
          "elapsed": 820,
          "user": {
            "displayName": "Itrat Rahman",
            "photoUrl": "//lh3.googleusercontent.com/-j1V_yfZD3m0/AAAAAAAAAAI/AAAAAAAAFTg/pDPmK0kE5mI/s50-c-k-no/photo.jpg",
            "userId": "116815226076340067076"
          }
        }
      },
      "cell_type": "code",
      "source": [
        "outputs, states = tf.nn.dynamic_rnn(multi_cell, X, dtype=tf.float32, sequence_length=length)\n",
        "top_layer_h_state = states[-1][1]\n",
        "top_layer_h_state"
      ],
      "execution_count": 25,
      "outputs": [
        {
          "output_type": "execute_result",
          "data": {
            "text/plain": [
              "<tf.Tensor 'rnn/while/Exit_6:0' shape=(?, 256) dtype=float32>"
            ]
          },
          "metadata": {
            "tags": []
          },
          "execution_count": 25
        }
      ]
    },
    {
      "metadata": {
        "id": "JkWGp5iVkSBX",
        "colab_type": "text"
      },
      "cell_type": "markdown",
      "source": [
        "## Create fully connected layers"
      ]
    },
    {
      "metadata": {
        "id": "xElqZrfpkVA-",
        "colab_type": "text"
      },
      "cell_type": "markdown",
      "source": [
        "**Functions to create weights and biases**"
      ]
    },
    {
      "metadata": {
        "id": "KyMNUpQKkVXV",
        "colab_type": "code",
        "colab": {
          "autoexec": {
            "startup": false,
            "wait_interval": 0
          }
        }
      },
      "cell_type": "code",
      "source": [
        "def create_weights(shape):\n",
        "    '''a function to create weight tensor'''\n",
        "    with tf.device(\"/device:CPU:0\"):\n",
        "        W = tf.Variable(tf.truncated_normal(shape, stddev=0.05))\n",
        "    return W\n",
        "\n",
        "def create_biases(size):\n",
        "    '''a function to create bias tensor'''\n",
        "    with tf.device(\"/device:CPU:0\"):\n",
        "        b = tf.Variable(tf.constant(0.05, shape=[size]))\n",
        "    return b"
      ],
      "execution_count": 0,
      "outputs": []
    },
    {
      "metadata": {
        "id": "2tcZrj1Ykbm3",
        "colab_type": "text"
      },
      "cell_type": "markdown",
      "source": [
        "**Function to create fully connected layer**"
      ]
    },
    {
      "metadata": {
        "id": "fl9wMrv7kcLe",
        "colab_type": "code",
        "colab": {
          "autoexec": {
            "startup": false,
            "wait_interval": 0
          }
        }
      },
      "cell_type": "code",
      "source": [
        "def create_fc_layer(input,          \n",
        "                    num_inputs,    \n",
        "                    num_outputs,\n",
        "                    use_relu=False,\n",
        "                    dropout = False, \n",
        "                    keep_prob = 0.2):\n",
        "    \n",
        "    '''a function for creating fully connected layer'''\n",
        "    \n",
        "    #Let's define trainable weights and biases.\n",
        "    weights = create_weights(shape=[num_inputs, num_outputs])\n",
        "    biases = create_biases(num_outputs)\n",
        "    \n",
        "    with tf.device(\"/device:GPU:0\"):\n",
        "      # matrix multiplication between input and weight matrix\n",
        "      layer = tf.matmul(input, weights)\n",
        "\n",
        "      # add the bias to the convolutional layer\n",
        "      layer += biases\n",
        "\n",
        "      # add relu activation if wanted\n",
        "      if use_relu:\n",
        "          layer = tf.nn.relu(layer)\n",
        "\n",
        "      # if dropout is wanted add dropout\n",
        "      if dropout:        \n",
        "          layer = tf.nn.dropout(layer, keep_prob)\n",
        "\n",
        "    # return layer\n",
        "    return layer"
      ],
      "execution_count": 0,
      "outputs": []
    },
    {
      "metadata": {
        "id": "zDdlS4kfkggW",
        "colab_type": "text"
      },
      "cell_type": "markdown",
      "source": [
        "**Create fully connected layer**"
      ]
    },
    {
      "metadata": {
        "id": "J-eXAbM1khDN",
        "colab_type": "code",
        "colab": {
          "autoexec": {
            "startup": false,
            "wait_interval": 0
          }
        }
      },
      "cell_type": "code",
      "source": [
        "fc_layer_size1 = 36\n",
        "# fc_layer_size2 = 64"
      ],
      "execution_count": 0,
      "outputs": []
    },
    {
      "metadata": {
        "id": "EShhG42pklqd",
        "colab_type": "code",
        "colab": {
          "autoexec": {
            "startup": false,
            "wait_interval": 0
          },
          "output_extras": [
            {
              "item_id": 1
            }
          ],
          "base_uri": "https://localhost:8080/",
          "height": 34
        },
        "outputId": "0cc81b53-1705-4b2f-f4ed-2a6413c16a4f",
        "executionInfo": {
          "status": "ok",
          "timestamp": 1521334479791,
          "user_tz": -360,
          "elapsed": 1010,
          "user": {
            "displayName": "Itrat Rahman",
            "photoUrl": "//lh3.googleusercontent.com/-j1V_yfZD3m0/AAAAAAAAAAI/AAAAAAAAFTg/pDPmK0kE5mI/s50-c-k-no/photo.jpg",
            "userId": "116815226076340067076"
          }
        }
      },
      "cell_type": "code",
      "source": [
        "layer_fc1 = create_fc_layer(input=top_layer_h_state,\n",
        "                            num_inputs=top_layer_h_state.get_shape()[1].value,\n",
        "                            num_outputs=fc_layer_size1,\n",
        "                            use_relu=True,\n",
        "                            dropout =True,\n",
        "                            keep_prob = keep_prob)\n",
        "layer_fc1"
      ],
      "execution_count": 29,
      "outputs": [
        {
          "output_type": "execute_result",
          "data": {
            "text/plain": [
              "<tf.Tensor 'dropout/mul:0' shape=(?, 36) dtype=float32>"
            ]
          },
          "metadata": {
            "tags": []
          },
          "execution_count": 29
        }
      ]
    },
    {
      "metadata": {
        "id": "y8T2olj2kn5O",
        "colab_type": "code",
        "colab": {
          "autoexec": {
            "startup": false,
            "wait_interval": 0
          }
        }
      },
      "cell_type": "code",
      "source": [
        "# layer_fc2 = create_fc_layer(input=layer_fc1,\n",
        "#                             num_inputs=fc_layer_size1,\n",
        "#                             num_outputs=fc_layer_size2,\n",
        "#                             use_relu=True,\n",
        "#                             dropout =True,\n",
        "#                             keep_prob = keep_prob)\n",
        "# layer_fc2"
      ],
      "execution_count": 0,
      "outputs": []
    },
    {
      "metadata": {
        "id": "GDPXClIukseP",
        "colab_type": "text"
      },
      "cell_type": "markdown",
      "source": [
        "**Create output layer**"
      ]
    },
    {
      "metadata": {
        "id": "kswWNTHtks5u",
        "colab_type": "code",
        "colab": {
          "autoexec": {
            "startup": false,
            "wait_interval": 0
          },
          "output_extras": [
            {
              "item_id": 1
            }
          ],
          "base_uri": "https://localhost:8080/",
          "height": 34
        },
        "outputId": "50365785-195f-4f9d-aa69-1181206ab006",
        "executionInfo": {
          "status": "ok",
          "timestamp": 1521334481566,
          "user_tz": -360,
          "elapsed": 766,
          "user": {
            "displayName": "Itrat Rahman",
            "photoUrl": "//lh3.googleusercontent.com/-j1V_yfZD3m0/AAAAAAAAAAI/AAAAAAAAFTg/pDPmK0kE5mI/s50-c-k-no/photo.jpg",
            "userId": "116815226076340067076"
          }
        }
      },
      "cell_type": "code",
      "source": [
        "output = create_fc_layer(input=layer_fc1,\n",
        "                            num_inputs=fc_layer_size1,\n",
        "                            num_outputs=n_outputs,\n",
        "                            use_relu=False,\n",
        "                            dropout =False)\n",
        "output"
      ],
      "execution_count": 31,
      "outputs": [
        {
          "output_type": "execute_result",
          "data": {
            "text/plain": [
              "<tf.Tensor 'add_1:0' shape=(?, 6) dtype=float32>"
            ]
          },
          "metadata": {
            "tags": []
          },
          "execution_count": 31
        }
      ]
    },
    {
      "metadata": {
        "id": "MCZ0TUs7kzEZ",
        "colab_type": "text"
      },
      "cell_type": "markdown",
      "source": [
        "**Sigmoid of the output**"
      ]
    },
    {
      "metadata": {
        "id": "7hKn6KZhkzmV",
        "colab_type": "code",
        "colab": {
          "autoexec": {
            "startup": false,
            "wait_interval": 0
          },
          "output_extras": [
            {
              "item_id": 1
            }
          ],
          "base_uri": "https://localhost:8080/",
          "height": 34
        },
        "outputId": "e3cd4fe2-0c6f-4350-a099-070aa80cb8b2",
        "executionInfo": {
          "status": "ok",
          "timestamp": 1521334482411,
          "user_tz": -360,
          "elapsed": 761,
          "user": {
            "displayName": "Itrat Rahman",
            "photoUrl": "//lh3.googleusercontent.com/-j1V_yfZD3m0/AAAAAAAAAAI/AAAAAAAAFTg/pDPmK0kE5mI/s50-c-k-no/photo.jpg",
            "userId": "116815226076340067076"
          }
        }
      },
      "cell_type": "code",
      "source": [
        "with tf.device(\"/device:GPU:0\"):\n",
        "    logits = tf.nn.sigmoid(output)\n",
        "logits"
      ],
      "execution_count": 32,
      "outputs": [
        {
          "output_type": "execute_result",
          "data": {
            "text/plain": [
              "<tf.Tensor 'Sigmoid:0' shape=(?, 6) dtype=float32>"
            ]
          },
          "metadata": {
            "tags": []
          },
          "execution_count": 32
        }
      ]
    },
    {
      "metadata": {
        "id": "uTd1Golwk3Tq",
        "colab_type": "text"
      },
      "cell_type": "markdown",
      "source": [
        "## Create optimization operation"
      ]
    },
    {
      "metadata": {
        "id": "3P1n6a8ok6X_",
        "colab_type": "text"
      },
      "cell_type": "markdown",
      "source": [
        "**Loss operation**"
      ]
    },
    {
      "metadata": {
        "id": "29zOQn0qk6z-",
        "colab_type": "code",
        "colab": {
          "autoexec": {
            "startup": false,
            "wait_interval": 0
          }
        }
      },
      "cell_type": "code",
      "source": [
        "with tf.device(\"/device:GPU:0\"):\n",
        "    loss = tf.losses.sigmoid_cross_entropy(multi_class_labels=labels, logits=output)"
      ],
      "execution_count": 0,
      "outputs": []
    },
    {
      "metadata": {
        "id": "HZetjH4Tk_2M",
        "colab_type": "text"
      },
      "cell_type": "markdown",
      "source": [
        "**ROC AUC calculation operations**"
      ]
    },
    {
      "metadata": {
        "id": "DxBxLexulAVd",
        "colab_type": "code",
        "colab": {
          "autoexec": {
            "startup": false,
            "wait_interval": 0
          }
        }
      },
      "cell_type": "code",
      "source": [
        "roc = tf.metrics.auc(labels=labels, predictions=logits)"
      ],
      "execution_count": 0,
      "outputs": []
    },
    {
      "metadata": {
        "id": "kMHZFWCblFEs",
        "colab_type": "text"
      },
      "cell_type": "markdown",
      "source": [
        "**Train step**"
      ]
    },
    {
      "metadata": {
        "id": "ZjOSTKRolHWV",
        "colab_type": "code",
        "colab": {
          "autoexec": {
            "startup": false,
            "wait_interval": 0
          }
        }
      },
      "cell_type": "code",
      "source": [
        "# learning rate of optimizer\n",
        "learning_rate = (1e-2)*.7\n",
        "with tf.device(\"/device:GPU:0\"):\n",
        "  # train step\n",
        "  train_step = tf.train.AdamOptimizer(learning_rate=learning_rate).minimize(loss)"
      ],
      "execution_count": 0,
      "outputs": []
    },
    {
      "metadata": {
        "id": "EnlAzcMElM7Z",
        "colab_type": "text"
      },
      "cell_type": "markdown",
      "source": [
        "# Train the model"
      ]
    },
    {
      "metadata": {
        "id": "Yxpm5CJ0lNWm",
        "colab_type": "code",
        "colab": {
          "autoexec": {
            "startup": false,
            "wait_interval": 0
          }
        }
      },
      "cell_type": "code",
      "source": [
        "# lists to store the train loss, validation loss, validation accuracy at each iteration\n",
        "train_loss = []\n",
        "valid_loss = []\n",
        "valid_roc = []\n",
        "\n",
        "# batch size\n",
        "batch_size = 200\n",
        "# max iteration\n",
        "max_iter = 5000"
      ],
      "execution_count": 0,
      "outputs": []
    },
    {
      "metadata": {
        "id": "Uyp_vOkllaUf",
        "colab_type": "text"
      },
      "cell_type": "markdown",
      "source": [
        "**Train model for few hours and save the best model along the way**"
      ]
    },
    {
      "metadata": {
        "id": "ap466OPwlarF",
        "colab_type": "code",
        "colab": {
          "autoexec": {
            "startup": false,
            "wait_interval": 0
          },
          "output_extras": [
            {
              "item_id": 39
            },
            {
              "item_id": 78
            },
            {
              "item_id": 117
            },
            {
              "item_id": 156
            },
            {
              "item_id": 195
            },
            {
              "item_id": 234
            },
            {
              "item_id": 273
            },
            {
              "item_id": 312
            },
            {
              "item_id": 351
            },
            {
              "item_id": 390
            },
            {
              "item_id": 429
            },
            {
              "item_id": 468
            },
            {
              "item_id": 507
            },
            {
              "item_id": 546
            },
            {
              "item_id": 585
            },
            {
              "item_id": 624
            },
            {
              "item_id": 663
            },
            {
              "item_id": 702
            },
            {
              "item_id": 741
            },
            {
              "item_id": 780
            },
            {
              "item_id": 819
            },
            {
              "item_id": 858
            },
            {
              "item_id": 897
            },
            {
              "item_id": 936
            },
            {
              "item_id": 975
            },
            {
              "item_id": 1014
            },
            {
              "item_id": 1053
            },
            {
              "item_id": 1092
            },
            {
              "item_id": 1131
            },
            {
              "item_id": 1170
            },
            {
              "item_id": 1209
            },
            {
              "item_id": 1248
            },
            {
              "item_id": 1287
            },
            {
              "item_id": 1326
            },
            {
              "item_id": 1365
            },
            {
              "item_id": 1404
            },
            {
              "item_id": 1443
            },
            {
              "item_id": 1482
            },
            {
              "item_id": 1521
            },
            {
              "item_id": 1560
            },
            {
              "item_id": 1599
            },
            {
              "item_id": 1638
            },
            {
              "item_id": 1677
            },
            {
              "item_id": 1716
            },
            {
              "item_id": 1755
            },
            {
              "item_id": 1794
            },
            {
              "item_id": 1833
            },
            {
              "item_id": 1845
            }
          ],
          "base_uri": "https://localhost:8080/",
          "height": 31382
        },
        "outputId": "7f8cf1f6-7d5b-4908-99cc-2440510eb9f8",
        "executionInfo": {
          "status": "ok",
          "timestamp": 1521350694044,
          "user_tz": -360,
          "elapsed": 16207786,
          "user": {
            "displayName": "Itrat Rahman",
            "photoUrl": "//lh3.googleusercontent.com/-j1V_yfZD3m0/AAAAAAAAAAI/AAAAAAAAFTg/pDPmK0kE5mI/s50-c-k-no/photo.jpg",
            "userId": "116815226076340067076"
          }
        }
      },
      "cell_type": "code",
      "source": [
        "# create a saver object\n",
        "saver = tf.train.Saver(max_to_keep=1)\n",
        "\n",
        "# variables to store the accuracy, loss, iteration of our best model\n",
        "best_accuracy = 0\n",
        "best_roc = -10\n",
        "best_iteration = None\n",
        "\n",
        "iteration = 0\n",
        "\n",
        "train_hours = 4.5\n",
        "\n",
        "# feed dictionary for validation\n",
        "feed_dict_validation =  {X:sequence_generator(comments_validation, max_length, size),\n",
        "                        labels:sentiments_validation,\n",
        "                        length:seq_length_validation,\n",
        "                        keep_prob: 1.0}\n",
        "\n",
        "t1 = time.time()\n",
        "\n",
        "# create a graph session and optimize under it\n",
        "with tf.Session() as sess:\n",
        "    \n",
        "    # initialize variables\n",
        "    sess.run(tf.global_variables_initializer())\n",
        "    sess.run(tf.local_variables_initializer())\n",
        "\n",
        "    # while minutes have not elapsed (to finish before the kernel is killed)\n",
        "    while (time.time()-t1) < train_hours*60*60:\n",
        "        \n",
        "        # break if max iteration is reached\n",
        "        if iteration >= max_iter:\n",
        "            break\n",
        "\n",
        "        # randomly choosing the indices of the batch \n",
        "        rand_index = np.random.choice(sentiments_train.shape[0], size=batch_size)\n",
        "\n",
        "        # extract the batch data\n",
        "        sequences_batch, seq_length_batch, sentiments_batch = \\\n",
        "        generate_train_batch(rand_index, comments_train, seq_length_train, sentiments_train,\n",
        "                             max_length, size)\n",
        "        \n",
        "        # feed dictionary for batch\n",
        "        feed_dict_batch =  {X:sequences_batch,\n",
        "                            labels:sentiments_batch,\n",
        "                            length:seq_length_batch,\n",
        "                            keep_prob: 0.75}\n",
        "        # feed dictionary for train\n",
        "        feed_dict_train =  {X:sequences_batch,\n",
        "                            labels:sentiments_batch,\n",
        "                            length:seq_length_batch,\n",
        "                            keep_prob: 1.0}        \n",
        "        \n",
        "        # execute optimization step\n",
        "        sess.run(train_step, feed_dict=feed_dict_batch)\n",
        "\n",
        "        # calculate temporary train loss and append it to the designated list\n",
        "        temp_train_loss = loss.eval(session=sess, feed_dict=feed_dict_train)\n",
        "        train_loss.append(temp_train_loss)\n",
        "        # calculate temporary validation loss and append it to the designated list\n",
        "        temp_validation_loss = loss.eval(session=sess, feed_dict=feed_dict_validation)\n",
        "        valid_loss.append(temp_validation_loss)\n",
        "        # calculate roc score\n",
        "        temp_roc_score = sess.run(roc, feed_dict=feed_dict_validation)[1]\n",
        "        valid_roc.append(temp_roc_score)\n",
        "        \n",
        "        # if valid loss is better than best recorded so far then\n",
        "        # update the parameters of the best model and save the model\n",
        "        if temp_roc_score > best_roc:\n",
        "            best_roc = temp_roc_score\n",
        "            best_iteration = iteration          \n",
        "            saver.save(sess, './my-model', global_step = best_iteration)\n",
        "\n",
        "        # print metric info\n",
        "        print(\"iterations:\",iteration,\n",
        "              \"| train_loss:\", temp_train_loss,\n",
        "              \"| validation_loss:\", temp_validation_loss,\n",
        "              \"| Roc Score:\", temp_roc_score,\n",
        "              \"| Time elapsed:\",str(datetime.timedelta(seconds=time.time()-t1)))\n",
        "        \n",
        "        # increment iteration\n",
        "        iteration = iteration+1"
      ],
      "execution_count": 37,
      "outputs": [
        {
          "output_type": "stream",
          "text": [
            "iterations: 0 | train_loss: 0.60234976 | validation_loss: 0.6075843 | Roc Score: 0.636173 | Time elapsed: 0:00:09.551092\n",
            "iterations: 1 | train_loss: 0.35853204 | validation_loss: 0.37167764 | Roc Score: 0.5516465 | Time elapsed: 0:00:18.367991\n",
            "iterations: 2 | train_loss: 0.21531177 | validation_loss: 0.22367182 | Roc Score: 0.5288934 | Time elapsed: 0:00:27.082225\n",
            "iterations: 3 | train_loss: 0.13953276 | validation_loss: 0.16693705 | Roc Score: 0.51799965 | Time elapsed: 0:00:36.152953\n",
            "iterations: 4 | train_loss: 0.14412381 | validation_loss: 0.1691006 | Roc Score: 0.51380664 | Time elapsed: 0:00:45.484502\n",
            "iterations: 5 | train_loss: 0.17070566 | validation_loss: 0.18390256 | Roc Score: 0.5166882 | Time elapsed: 0:00:54.260804\n",
            "iterations: 6 | train_loss: 0.19353047 | validation_loss: 0.18964165 | Roc Score: 0.5255707 | Time elapsed: 0:01:02.986751\n",
            "iterations: 7 | train_loss: 0.1622626 | validation_loss: 0.18779571 | Roc Score: 0.53531206 | Time elapsed: 0:01:12.086702\n",
            "iterations: 8 | train_loss: 0.15930972 | validation_loss: 0.18006328 | Roc Score: 0.5459706 | Time elapsed: 0:01:21.055151\n",
            "iterations: 9 | train_loss: 0.099576965 | validation_loss: 0.1718304 | Roc Score: 0.5576991 | Time elapsed: 0:01:30.001691\n",
            "iterations: 10 | train_loss: 0.09537799 | validation_loss: 0.16399615 | Roc Score: 0.5695212 | Time elapsed: 0:01:38.754414\n",
            "iterations: 11 | train_loss: 0.19224733 | validation_loss: 0.15536393 | Roc Score: 0.5821096 | Time elapsed: 0:01:46.613557\n",
            "iterations: 12 | train_loss: 0.1221424 | validation_loss: 0.14999154 | Roc Score: 0.5938663 | Time elapsed: 0:01:54.741647\n",
            "iterations: 13 | train_loss: 0.14127527 | validation_loss: 0.14747061 | Roc Score: 0.6041797 | Time elapsed: 0:02:03.787479\n",
            "iterations: 14 | train_loss: 0.16748327 | validation_loss: 0.14738202 | Roc Score: 0.61344707 | Time elapsed: 0:02:13.138726\n",
            "iterations: 15 | train_loss: 0.18410407 | validation_loss: 0.15049335 | Roc Score: 0.62119454 | Time elapsed: 0:02:21.948436\n",
            "iterations: 16 | train_loss: 0.13221556 | validation_loss: 0.15170424 | Roc Score: 0.62824506 | Time elapsed: 0:02:30.739957\n",
            "iterations: 17 | train_loss: 0.11987569 | validation_loss: 0.14867957 | Roc Score: 0.6344229 | Time elapsed: 0:02:39.824307\n",
            "iterations: 18 | train_loss: 0.12373257 | validation_loss: 0.14459908 | Roc Score: 0.6395184 | Time elapsed: 0:02:48.707070\n",
            "iterations: 19 | train_loss: 0.13517548 | validation_loss: 0.14267676 | Roc Score: 0.6437595 | Time elapsed: 0:02:57.793953\n",
            "iterations: 20 | train_loss: 0.16040905 | validation_loss: 0.14234221 | Roc Score: 0.6475225 | Time elapsed: 0:03:06.365227\n",
            "iterations: 21 | train_loss: 0.13143638 | validation_loss: 0.14293458 | Roc Score: 0.65109974 | Time elapsed: 0:03:15.398436\n",
            "iterations: 22 | train_loss: 0.12327534 | validation_loss: 0.14404593 | Roc Score: 0.6543638 | Time elapsed: 0:03:24.239931\n",
            "iterations: 23 | train_loss: 0.18189655 | validation_loss: 0.143241 | Roc Score: 0.65754735 | Time elapsed: 0:03:33.314819\n",
            "iterations: 24 | train_loss: 0.15157953 | validation_loss: 0.14173917 | Roc Score: 0.6607509 | Time elapsed: 0:03:42.174663\n",
            "iterations: 25 | train_loss: 0.13077031 | validation_loss: 0.13967055 | Roc Score: 0.66393065 | Time elapsed: 0:03:51.089328\n",
            "iterations: 26 | train_loss: 0.17833585 | validation_loss: 0.13702038 | Roc Score: 0.66705567 | Time elapsed: 0:03:59.932689\n",
            "iterations: 27 | train_loss: 0.22527161 | validation_loss: 0.13499339 | Roc Score: 0.6702055 | Time elapsed: 0:04:09.001528\n",
            "iterations: 28 | train_loss: 0.15838087 | validation_loss: 0.13461564 | Roc Score: 0.67310697 | Time elapsed: 0:04:18.075308\n",
            "iterations: 29 | train_loss: 0.14814916 | validation_loss: 0.13621482 | Roc Score: 0.67577386 | Time elapsed: 0:04:25.907327\n",
            "iterations: 30 | train_loss: 0.12970681 | validation_loss: 0.13840076 | Roc Score: 0.67777807 | Time elapsed: 0:04:34.840399\n",
            "iterations: 31 | train_loss: 0.1420377 | validation_loss: 0.13890323 | Roc Score: 0.6798255 | Time elapsed: 0:04:43.851197\n",
            "iterations: 32 | train_loss: 0.1483466 | validation_loss: 0.13883196 | Roc Score: 0.68195224 | Time elapsed: 0:04:52.890063\n",
            "iterations: 33 | train_loss: 0.13319688 | validation_loss: 0.1361722 | Roc Score: 0.6842126 | Time elapsed: 0:05:01.738852\n",
            "iterations: 34 | train_loss: 0.143011 | validation_loss: 0.1304308 | Roc Score: 0.68702286 | Time elapsed: 0:05:10.888580\n",
            "iterations: 35 | train_loss: 0.118011095 | validation_loss: 0.12495726 | Roc Score: 0.6902651 | Time elapsed: 0:05:19.887421\n",
            "iterations: 36 | train_loss: 0.123106815 | validation_loss: 0.121638305 | Roc Score: 0.6941 | Time elapsed: 0:05:28.296913\n",
            "iterations: 37 | train_loss: 0.15190169 | validation_loss: 0.11866609 | Roc Score: 0.6978691 | Time elapsed: 0:05:37.252004\n",
            "iterations: 38 | train_loss: 0.12691274 | validation_loss: 0.11783275 | Roc Score: 0.7015599 | Time elapsed: 0:05:45.332262\n"
          ],
          "name": "stdout"
        },
        {
          "output_type": "stream",
          "text": [
            "iterations: 39 | train_loss: 0.14257209 | validation_loss: 0.11786807 | Roc Score: 0.7052694 | Time elapsed: 0:05:54.451879\n",
            "iterations: 40 | train_loss: 0.15707175 | validation_loss: 0.11844187 | Roc Score: 0.7087075 | Time elapsed: 0:06:03.621896\n",
            "iterations: 41 | train_loss: 0.124238685 | validation_loss: 0.11794324 | Roc Score: 0.7120808 | Time elapsed: 0:06:12.717263\n",
            "iterations: 42 | train_loss: 0.112851344 | validation_loss: 0.11851822 | Roc Score: 0.7152683 | Time elapsed: 0:06:21.765548\n",
            "iterations: 43 | train_loss: 0.12008084 | validation_loss: 0.11896708 | Roc Score: 0.718264 | Time elapsed: 0:06:31.067335\n",
            "iterations: 44 | train_loss: 0.109966904 | validation_loss: 0.11997702 | Roc Score: 0.721089 | Time elapsed: 0:06:39.395199\n",
            "iterations: 45 | train_loss: 0.13571772 | validation_loss: 0.11996499 | Roc Score: 0.7239186 | Time elapsed: 0:06:47.267256\n",
            "iterations: 46 | train_loss: 0.116654254 | validation_loss: 0.12182205 | Roc Score: 0.72658724 | Time elapsed: 0:06:55.228481\n",
            "iterations: 47 | train_loss: 0.16212903 | validation_loss: 0.121029444 | Roc Score: 0.7291549 | Time elapsed: 0:07:03.546199\n",
            "iterations: 48 | train_loss: 0.115949236 | validation_loss: 0.11965454 | Roc Score: 0.7316688 | Time elapsed: 0:07:11.349177\n",
            "iterations: 49 | train_loss: 0.107498474 | validation_loss: 0.117707275 | Roc Score: 0.7340613 | Time elapsed: 0:07:19.294472\n",
            "iterations: 50 | train_loss: 0.15732895 | validation_loss: 0.11707627 | Roc Score: 0.73629165 | Time elapsed: 0:07:28.423518\n",
            "iterations: 51 | train_loss: 0.11584372 | validation_loss: 0.116747476 | Roc Score: 0.73824674 | Time elapsed: 0:07:36.563135\n",
            "iterations: 52 | train_loss: 0.09970832 | validation_loss: 0.117063686 | Roc Score: 0.7401272 | Time elapsed: 0:07:44.633007\n",
            "iterations: 53 | train_loss: 0.11021061 | validation_loss: 0.11648839 | Roc Score: 0.7419345 | Time elapsed: 0:07:52.325268\n",
            "iterations: 54 | train_loss: 0.09759545 | validation_loss: 0.11761953 | Roc Score: 0.7435938 | Time elapsed: 0:08:00.909218\n",
            "iterations: 55 | train_loss: 0.15165873 | validation_loss: 0.11781977 | Roc Score: 0.74514157 | Time elapsed: 0:08:09.526005\n",
            "iterations: 56 | train_loss: 0.089583725 | validation_loss: 0.11652431 | Roc Score: 0.74671 | Time elapsed: 0:08:18.565727\n",
            "iterations: 57 | train_loss: 0.11897258 | validation_loss: 0.11558731 | Roc Score: 0.74829745 | Time elapsed: 0:08:27.562233\n",
            "iterations: 58 | train_loss: 0.13801365 | validation_loss: 0.11545192 | Roc Score: 0.7498892 | Time elapsed: 0:08:36.874420\n",
            "iterations: 59 | train_loss: 0.110157035 | validation_loss: 0.11476833 | Roc Score: 0.7515573 | Time elapsed: 0:08:45.417459\n",
            "iterations: 60 | train_loss: 0.11022665 | validation_loss: 0.112816095 | Roc Score: 0.7532485 | Time elapsed: 0:08:53.971575\n",
            "iterations: 61 | train_loss: 0.15389596 | validation_loss: 0.113442585 | Roc Score: 0.754951 | Time elapsed: 0:09:02.978010\n",
            "iterations: 62 | train_loss: 0.12819156 | validation_loss: 0.11579551 | Roc Score: 0.75666505 | Time elapsed: 0:09:12.093633\n",
            "iterations: 63 | train_loss: 0.11014082 | validation_loss: 0.10903135 | Roc Score: 0.7585876 | Time elapsed: 0:09:21.164713\n",
            "iterations: 64 | train_loss: 0.0766109 | validation_loss: 0.11041475 | Roc Score: 0.7603111 | Time elapsed: 0:09:30.204217\n",
            "iterations: 65 | train_loss: 0.10094774 | validation_loss: 0.10784286 | Roc Score: 0.7621583 | Time elapsed: 0:09:39.154137\n",
            "iterations: 66 | train_loss: 0.09443845 | validation_loss: 0.10700619 | Roc Score: 0.76403564 | Time elapsed: 0:09:48.108303\n",
            "iterations: 67 | train_loss: 0.0997401 | validation_loss: 0.10684683 | Roc Score: 0.7658834 | Time elapsed: 0:09:57.128641\n",
            "iterations: 68 | train_loss: 0.116173886 | validation_loss: 0.11103546 | Roc Score: 0.7675872 | Time elapsed: 0:10:06.069113\n",
            "iterations: 69 | train_loss: 0.12270495 | validation_loss: 0.11437321 | Roc Score: 0.7691748 | Time elapsed: 0:10:14.983561\n",
            "iterations: 70 | train_loss: 0.068509616 | validation_loss: 0.109318264 | Roc Score: 0.7708216 | Time elapsed: 0:10:23.026409\n",
            "iterations: 71 | train_loss: 0.10193359 | validation_loss: 0.10830108 | Roc Score: 0.77243125 | Time elapsed: 0:10:32.470011\n",
            "iterations: 72 | train_loss: 0.13281761 | validation_loss: 0.10863193 | Roc Score: 0.7739459 | Time elapsed: 0:10:40.585392\n",
            "iterations: 73 | train_loss: 0.09926661 | validation_loss: 0.107250966 | Roc Score: 0.77547526 | Time elapsed: 0:10:49.384274\n",
            "iterations: 74 | train_loss: 0.103701696 | validation_loss: 0.1062668 | Roc Score: 0.7770007 | Time elapsed: 0:10:57.681121\n",
            "iterations: 75 | train_loss: 0.09393354 | validation_loss: 0.10401167 | Roc Score: 0.7786209 | Time elapsed: 0:11:06.482283\n",
            "iterations: 76 | train_loss: 0.11857755 | validation_loss: 0.10672423 | Roc Score: 0.780137 | Time elapsed: 0:11:15.606048\n",
            "iterations: 77 | train_loss: 0.06729384 | validation_loss: 0.103802614 | Roc Score: 0.78169084 | Time elapsed: 0:11:23.869230\n"
          ],
          "name": "stdout"
        },
        {
          "output_type": "stream",
          "text": [
            "iterations: 78 | train_loss: 0.10829346 | validation_loss: 0.10169188 | Roc Score: 0.78323436 | Time elapsed: 0:11:31.920833\n",
            "iterations: 79 | train_loss: 0.11229314 | validation_loss: 0.10260946 | Roc Score: 0.7846279 | Time elapsed: 0:11:41.000087\n",
            "iterations: 80 | train_loss: 0.09919108 | validation_loss: 0.10102238 | Roc Score: 0.7860562 | Time elapsed: 0:11:49.915057\n",
            "iterations: 81 | train_loss: 0.111012876 | validation_loss: 0.09883718 | Roc Score: 0.7875279 | Time elapsed: 0:11:59.216120\n",
            "iterations: 82 | train_loss: 0.09737064 | validation_loss: 0.097294435 | Roc Score: 0.78908783 | Time elapsed: 0:12:08.370946\n",
            "iterations: 83 | train_loss: 0.100853756 | validation_loss: 0.10026695 | Roc Score: 0.7906459 | Time elapsed: 0:12:17.233051\n",
            "iterations: 84 | train_loss: 0.1042306 | validation_loss: 0.096363604 | Roc Score: 0.7922646 | Time elapsed: 0:12:26.246543\n",
            "iterations: 85 | train_loss: 0.12528962 | validation_loss: 0.092796445 | Roc Score: 0.79388165 | Time elapsed: 0:12:35.326626\n",
            "iterations: 86 | train_loss: 0.04684053 | validation_loss: 0.09707389 | Roc Score: 0.79532105 | Time elapsed: 0:12:44.454057\n",
            "iterations: 87 | train_loss: 0.11707329 | validation_loss: 0.09315175 | Roc Score: 0.7968979 | Time elapsed: 0:12:53.319988\n",
            "iterations: 88 | train_loss: 0.09572728 | validation_loss: 0.09043107 | Roc Score: 0.7985357 | Time elapsed: 0:13:01.729240\n",
            "iterations: 89 | train_loss: 0.09001628 | validation_loss: 0.0880056 | Roc Score: 0.800235 | Time elapsed: 0:13:09.622687\n",
            "iterations: 90 | train_loss: 0.1356034 | validation_loss: 0.08766013 | Roc Score: 0.80191576 | Time elapsed: 0:13:17.963115\n",
            "iterations: 91 | train_loss: 0.08906055 | validation_loss: 0.08703935 | Roc Score: 0.8035789 | Time elapsed: 0:13:26.668553\n",
            "iterations: 92 | train_loss: 0.10168582 | validation_loss: 0.08702827 | Roc Score: 0.80518454 | Time elapsed: 0:13:35.642018\n",
            "iterations: 93 | train_loss: 0.0870287 | validation_loss: 0.08623814 | Roc Score: 0.8067792 | Time elapsed: 0:13:44.713352\n",
            "iterations: 94 | train_loss: 0.06875665 | validation_loss: 0.085810706 | Roc Score: 0.8083425 | Time elapsed: 0:13:52.839014\n",
            "iterations: 95 | train_loss: 0.10460062 | validation_loss: 0.08486953 | Roc Score: 0.80989283 | Time elapsed: 0:14:01.699229\n",
            "iterations: 96 | train_loss: 0.11698949 | validation_loss: 0.0872814 | Roc Score: 0.811374 | Time elapsed: 0:14:10.589977\n",
            "iterations: 97 | train_loss: 0.07460486 | validation_loss: 0.08295543 | Roc Score: 0.81296265 | Time elapsed: 0:14:19.513294\n",
            "iterations: 98 | train_loss: 0.07894713 | validation_loss: 0.08319203 | Roc Score: 0.81450564 | Time elapsed: 0:14:28.625314\n",
            "iterations: 99 | train_loss: 0.099324875 | validation_loss: 0.080168895 | Roc Score: 0.81611645 | Time elapsed: 0:14:37.283470\n",
            "iterations: 100 | train_loss: 0.07352816 | validation_loss: 0.0845687 | Roc Score: 0.81753844 | Time elapsed: 0:14:45.833133\n",
            "iterations: 101 | train_loss: 0.066937536 | validation_loss: 0.077262625 | Roc Score: 0.8191242 | Time elapsed: 0:14:54.643836\n",
            "iterations: 102 | train_loss: 0.068306334 | validation_loss: 0.07781818 | Roc Score: 0.82064456 | Time elapsed: 0:15:04.090911\n",
            "iterations: 103 | train_loss: 0.08856725 | validation_loss: 0.07719782 | Roc Score: 0.82214314 | Time elapsed: 0:15:13.058195\n",
            "iterations: 104 | train_loss: 0.0732423 | validation_loss: 0.07702706 | Roc Score: 0.82360977 | Time elapsed: 0:15:21.918820\n",
            "iterations: 105 | train_loss: 0.058533624 | validation_loss: 0.07589221 | Roc Score: 0.8251049 | Time elapsed: 0:15:31.113677\n",
            "iterations: 106 | train_loss: 0.091472626 | validation_loss: 0.07491924 | Roc Score: 0.82661587 | Time elapsed: 0:15:40.065707\n",
            "iterations: 107 | train_loss: 0.074018985 | validation_loss: 0.0757588 | Roc Score: 0.82814497 | Time elapsed: 0:15:48.952375\n",
            "iterations: 108 | train_loss: 0.07692865 | validation_loss: 0.07172589 | Roc Score: 0.8296495 | Time elapsed: 0:15:57.842442\n",
            "iterations: 109 | train_loss: 0.06983838 | validation_loss: 0.07330145 | Roc Score: 0.8310475 | Time elapsed: 0:16:05.770269\n",
            "iterations: 110 | train_loss: 0.072889365 | validation_loss: 0.07344852 | Roc Score: 0.8323935 | Time elapsed: 0:16:14.596197\n",
            "iterations: 111 | train_loss: 0.046075676 | validation_loss: 0.07187449 | Roc Score: 0.83375835 | Time elapsed: 0:16:23.561208\n",
            "iterations: 112 | train_loss: 0.050637785 | validation_loss: 0.072217174 | Roc Score: 0.83522403 | Time elapsed: 0:16:32.492159\n",
            "iterations: 113 | train_loss: 0.05428896 | validation_loss: 0.068860404 | Roc Score: 0.8366547 | Time elapsed: 0:16:41.485772\n",
            "iterations: 114 | train_loss: 0.0555518 | validation_loss: 0.07724498 | Roc Score: 0.83786744 | Time elapsed: 0:16:50.125595\n",
            "iterations: 115 | train_loss: 0.09513079 | validation_loss: 0.068427354 | Roc Score: 0.8392945 | Time elapsed: 0:16:58.936825\n",
            "iterations: 116 | train_loss: 0.06995273 | validation_loss: 0.07055238 | Roc Score: 0.84063977 | Time elapsed: 0:17:06.813867\n"
          ],
          "name": "stdout"
        },
        {
          "output_type": "stream",
          "text": [
            "iterations: 117 | train_loss: 0.0947258 | validation_loss: 0.07243033 | Roc Score: 0.84192914 | Time elapsed: 0:17:14.937743\n",
            "iterations: 118 | train_loss: 0.056269422 | validation_loss: 0.066368364 | Roc Score: 0.84330314 | Time elapsed: 0:17:24.159552\n",
            "iterations: 119 | train_loss: 0.082187995 | validation_loss: 0.070379645 | Roc Score: 0.84455794 | Time elapsed: 0:17:33.487968\n",
            "iterations: 120 | train_loss: 0.051905733 | validation_loss: 0.07834758 | Roc Score: 0.84557074 | Time elapsed: 0:17:41.920905\n",
            "iterations: 121 | train_loss: 0.054777604 | validation_loss: 0.08127383 | Roc Score: 0.84647053 | Time elapsed: 0:17:49.953323\n",
            "iterations: 122 | train_loss: 0.079867646 | validation_loss: 0.06956034 | Roc Score: 0.8476399 | Time elapsed: 0:17:58.880354\n",
            "iterations: 123 | train_loss: 0.08093467 | validation_loss: 0.0708751 | Roc Score: 0.8488587 | Time elapsed: 0:18:07.756257\n",
            "iterations: 124 | train_loss: 0.08815233 | validation_loss: 0.09307096 | Roc Score: 0.84981275 | Time elapsed: 0:18:17.166514\n",
            "iterations: 125 | train_loss: 0.07636253 | validation_loss: 0.07465836 | Roc Score: 0.8509178 | Time elapsed: 0:18:26.591748\n",
            "iterations: 126 | train_loss: 0.07980577 | validation_loss: 0.06652256 | Roc Score: 0.85207814 | Time elapsed: 0:18:35.706574\n",
            "iterations: 127 | train_loss: 0.066782065 | validation_loss: 0.06604768 | Roc Score: 0.8532043 | Time elapsed: 0:18:44.711065\n",
            "iterations: 128 | train_loss: 0.050365165 | validation_loss: 0.06824042 | Roc Score: 0.85426813 | Time elapsed: 0:18:53.684750\n",
            "iterations: 129 | train_loss: 0.057260107 | validation_loss: 0.066545576 | Roc Score: 0.855348 | Time elapsed: 0:19:02.984912\n",
            "iterations: 130 | train_loss: 0.09484402 | validation_loss: 0.06389538 | Roc Score: 0.85646236 | Time elapsed: 0:19:12.181889\n",
            "iterations: 131 | train_loss: 0.07582287 | validation_loss: 0.0645873 | Roc Score: 0.8575554 | Time elapsed: 0:19:21.516373\n",
            "iterations: 132 | train_loss: 0.068625085 | validation_loss: 0.06742933 | Roc Score: 0.8585882 | Time elapsed: 0:19:30.577250\n",
            "iterations: 133 | train_loss: 0.07678913 | validation_loss: 0.066589005 | Roc Score: 0.8596201 | Time elapsed: 0:19:39.775583\n",
            "iterations: 134 | train_loss: 0.04805806 | validation_loss: 0.064229086 | Roc Score: 0.8606788 | Time elapsed: 0:19:48.031615\n",
            "iterations: 135 | train_loss: 0.059467234 | validation_loss: 0.06778717 | Roc Score: 0.861661 | Time elapsed: 0:19:56.185825\n",
            "iterations: 136 | train_loss: 0.06701392 | validation_loss: 0.06882156 | Roc Score: 0.8625712 | Time elapsed: 0:20:05.123993\n",
            "iterations: 137 | train_loss: 0.055978127 | validation_loss: 0.063951924 | Roc Score: 0.8635592 | Time elapsed: 0:20:14.142948\n",
            "iterations: 138 | train_loss: 0.0624337 | validation_loss: 0.06396822 | Roc Score: 0.864568 | Time elapsed: 0:20:23.071440\n",
            "iterations: 139 | train_loss: 0.057668418 | validation_loss: 0.07011167 | Roc Score: 0.8655015 | Time elapsed: 0:20:31.837855\n",
            "iterations: 140 | train_loss: 0.08985691 | validation_loss: 0.06843248 | Roc Score: 0.8664296 | Time elapsed: 0:20:40.359704\n",
            "iterations: 141 | train_loss: 0.07208628 | validation_loss: 0.062171113 | Roc Score: 0.8674027 | Time elapsed: 0:20:49.890580\n",
            "iterations: 142 | train_loss: 0.046335965 | validation_loss: 0.064717375 | Roc Score: 0.8682985 | Time elapsed: 0:20:58.167574\n",
            "iterations: 143 | train_loss: 0.044932507 | validation_loss: 0.07330701 | Roc Score: 0.86899686 | Time elapsed: 0:21:06.929861\n",
            "iterations: 144 | train_loss: 0.06578851 | validation_loss: 0.075530685 | Roc Score: 0.86963356 | Time elapsed: 0:21:16.337755\n",
            "iterations: 145 | train_loss: 0.076419845 | validation_loss: 0.065851405 | Roc Score: 0.87047464 | Time elapsed: 0:21:25.187474\n",
            "iterations: 146 | train_loss: 0.046534266 | validation_loss: 0.061480712 | Roc Score: 0.8713678 | Time elapsed: 0:21:34.066885\n",
            "iterations: 147 | train_loss: 0.059165306 | validation_loss: 0.064220026 | Roc Score: 0.87220705 | Time elapsed: 0:21:42.334476\n",
            "iterations: 148 | train_loss: 0.06915078 | validation_loss: 0.07418058 | Roc Score: 0.87293756 | Time elapsed: 0:21:50.608836\n",
            "iterations: 149 | train_loss: 0.06089222 | validation_loss: 0.07785369 | Roc Score: 0.87364453 | Time elapsed: 0:22:00.047789\n",
            "iterations: 150 | train_loss: 0.07883349 | validation_loss: 0.06586175 | Roc Score: 0.8744593 | Time elapsed: 0:22:08.999332\n",
            "iterations: 151 | train_loss: 0.06771922 | validation_loss: 0.06082609 | Roc Score: 0.8753075 | Time elapsed: 0:22:17.900960\n",
            "iterations: 152 | train_loss: 0.03461533 | validation_loss: 0.066933624 | Roc Score: 0.8760385 | Time elapsed: 0:22:27.142653\n",
            "iterations: 153 | train_loss: 0.07403824 | validation_loss: 0.07128265 | Roc Score: 0.8766941 | Time elapsed: 0:22:36.042564\n",
            "iterations: 154 | train_loss: 0.05521256 | validation_loss: 0.07148887 | Roc Score: 0.8773538 | Time elapsed: 0:22:44.876171\n",
            "iterations: 155 | train_loss: 0.054698173 | validation_loss: 0.067452185 | Roc Score: 0.8780751 | Time elapsed: 0:22:53.114805\n"
          ],
          "name": "stdout"
        },
        {
          "output_type": "stream",
          "text": [
            "iterations: 156 | train_loss: 0.051562943 | validation_loss: 0.062219825 | Roc Score: 0.8788486 | Time elapsed: 0:23:02.445543\n",
            "iterations: 157 | train_loss: 0.09218928 | validation_loss: 0.06299859 | Roc Score: 0.8795921 | Time elapsed: 0:23:11.009806\n",
            "iterations: 158 | train_loss: 0.066063605 | validation_loss: 0.07752556 | Roc Score: 0.8801901 | Time elapsed: 0:23:19.561708\n",
            "iterations: 159 | train_loss: 0.071962774 | validation_loss: 0.075563036 | Roc Score: 0.8808074 | Time elapsed: 0:23:28.940467\n",
            "iterations: 160 | train_loss: 0.062050253 | validation_loss: 0.06297923 | Roc Score: 0.88153833 | Time elapsed: 0:23:37.362170\n",
            "iterations: 161 | train_loss: 0.09996655 | validation_loss: 0.058681212 | Roc Score: 0.88230366 | Time elapsed: 0:23:46.277443\n",
            "iterations: 162 | train_loss: 0.07344679 | validation_loss: 0.06201655 | Roc Score: 0.8830134 | Time elapsed: 0:23:55.035897\n",
            "iterations: 163 | train_loss: 0.05460129 | validation_loss: 0.063752666 | Roc Score: 0.8836832 | Time elapsed: 0:24:04.220893\n",
            "iterations: 164 | train_loss: 0.036033534 | validation_loss: 0.06575364 | Roc Score: 0.88431543 | Time elapsed: 0:24:13.197194\n",
            "iterations: 165 | train_loss: 0.05774614 | validation_loss: 0.064700015 | Roc Score: 0.88495535 | Time elapsed: 0:24:22.411159\n",
            "iterations: 166 | train_loss: 0.052796494 | validation_loss: 0.06130579 | Roc Score: 0.8856318 | Time elapsed: 0:24:31.592501\n",
            "iterations: 167 | train_loss: 0.06596061 | validation_loss: 0.05875499 | Roc Score: 0.8863197 | Time elapsed: 0:24:40.577801\n",
            "iterations: 168 | train_loss: 0.068029545 | validation_loss: 0.06078858 | Roc Score: 0.8869728 | Time elapsed: 0:24:49.259414\n",
            "iterations: 169 | train_loss: 0.061889227 | validation_loss: 0.06561669 | Roc Score: 0.8875658 | Time elapsed: 0:24:58.347661\n",
            "iterations: 170 | train_loss: 0.062362105 | validation_loss: 0.062921725 | Roc Score: 0.88817555 | Time elapsed: 0:25:07.592344\n",
            "iterations: 171 | train_loss: 0.059075996 | validation_loss: 0.057876315 | Roc Score: 0.8888338 | Time elapsed: 0:25:16.317942\n",
            "iterations: 172 | train_loss: 0.06066478 | validation_loss: 0.057155564 | Roc Score: 0.88948435 | Time elapsed: 0:25:25.569581\n",
            "iterations: 173 | train_loss: 0.06387828 | validation_loss: 0.057443004 | Roc Score: 0.89011824 | Time elapsed: 0:25:34.863104\n",
            "iterations: 174 | train_loss: 0.06618633 | validation_loss: 0.057763897 | Roc Score: 0.89073926 | Time elapsed: 0:25:43.386570\n",
            "iterations: 175 | train_loss: 0.059858825 | validation_loss: 0.05710451 | Roc Score: 0.8913588 | Time elapsed: 0:25:51.287531\n",
            "iterations: 176 | train_loss: 0.05233028 | validation_loss: 0.05635863 | Roc Score: 0.89198035 | Time elapsed: 0:26:00.397069\n",
            "iterations: 177 | train_loss: 0.07018664 | validation_loss: 0.05718953 | Roc Score: 0.8925974 | Time elapsed: 0:26:09.672507\n",
            "iterations: 178 | train_loss: 0.06312618 | validation_loss: 0.058759227 | Roc Score: 0.8931962 | Time elapsed: 0:26:18.050354\n",
            "iterations: 179 | train_loss: 0.05287588 | validation_loss: 0.05868333 | Roc Score: 0.89378947 | Time elapsed: 0:26:26.986242\n",
            "iterations: 180 | train_loss: 0.062119234 | validation_loss: 0.057035822 | Roc Score: 0.89438725 | Time elapsed: 0:26:35.565083\n",
            "iterations: 181 | train_loss: 0.050300933 | validation_loss: 0.056033168 | Roc Score: 0.89497674 | Time elapsed: 0:26:44.443119\n",
            "iterations: 182 | train_loss: 0.04749777 | validation_loss: 0.057921097 | Roc Score: 0.89552575 | Time elapsed: 0:26:52.846079\n",
            "iterations: 183 | train_loss: 0.06345067 | validation_loss: 0.059298225 | Roc Score: 0.89604825 | Time elapsed: 0:27:01.842779\n",
            "iterations: 184 | train_loss: 0.054580968 | validation_loss: 0.05869776 | Roc Score: 0.89657634 | Time elapsed: 0:27:11.014498\n",
            "iterations: 185 | train_loss: 0.058647577 | validation_loss: 0.056849524 | Roc Score: 0.8971209 | Time elapsed: 0:27:19.528292\n",
            "iterations: 186 | train_loss: 0.041707058 | validation_loss: 0.05637958 | Roc Score: 0.89766085 | Time elapsed: 0:27:27.278318\n",
            "iterations: 187 | train_loss: 0.033357035 | validation_loss: 0.056404043 | Roc Score: 0.8981927 | Time elapsed: 0:27:35.591016\n",
            "iterations: 188 | train_loss: 0.06669591 | validation_loss: 0.056717385 | Roc Score: 0.8987159 | Time elapsed: 0:27:44.247079\n",
            "iterations: 189 | train_loss: 0.0669232 | validation_loss: 0.056872595 | Roc Score: 0.89923203 | Time elapsed: 0:27:52.819236\n",
            "iterations: 190 | train_loss: 0.05529742 | validation_loss: 0.056503613 | Roc Score: 0.8997464 | Time elapsed: 0:28:02.168067\n",
            "iterations: 191 | train_loss: 0.07728727 | validation_loss: 0.056460895 | Roc Score: 0.9002547 | Time elapsed: 0:28:11.313512\n",
            "iterations: 192 | train_loss: 0.06483985 | validation_loss: 0.059648696 | Roc Score: 0.90073454 | Time elapsed: 0:28:20.631866\n",
            "iterations: 193 | train_loss: 0.05254701 | validation_loss: 0.05888546 | Roc Score: 0.90122396 | Time elapsed: 0:28:29.960952\n",
            "iterations: 194 | train_loss: 0.0562453 | validation_loss: 0.057803147 | Roc Score: 0.90172 | Time elapsed: 0:28:37.922919\n"
          ],
          "name": "stdout"
        },
        {
          "output_type": "stream",
          "text": [
            "iterations: 195 | train_loss: 0.031048195 | validation_loss: 0.055858698 | Roc Score: 0.90221673 | Time elapsed: 0:28:46.108902\n",
            "iterations: 196 | train_loss: 0.049022473 | validation_loss: 0.05696885 | Roc Score: 0.9026758 | Time elapsed: 0:28:55.283201\n",
            "iterations: 197 | train_loss: 0.041876424 | validation_loss: 0.05946894 | Roc Score: 0.9030818 | Time elapsed: 0:29:04.462904\n",
            "iterations: 198 | train_loss: 0.048342824 | validation_loss: 0.06265428 | Roc Score: 0.9034271 | Time elapsed: 0:29:13.471322\n",
            "iterations: 199 | train_loss: 0.07933336 | validation_loss: 0.060040344 | Roc Score: 0.90381336 | Time elapsed: 0:29:22.822796\n",
            "iterations: 200 | train_loss: 0.045078095 | validation_loss: 0.058842227 | Roc Score: 0.904215 | Time elapsed: 0:29:31.924141\n",
            "iterations: 201 | train_loss: 0.052035425 | validation_loss: 0.057767607 | Roc Score: 0.90463734 | Time elapsed: 0:29:40.895772\n",
            "iterations: 202 | train_loss: 0.07337845 | validation_loss: 0.055665158 | Roc Score: 0.90508616 | Time elapsed: 0:29:49.754890\n",
            "iterations: 203 | train_loss: 0.0532849 | validation_loss: 0.05617739 | Roc Score: 0.9055188 | Time elapsed: 0:29:58.538332\n",
            "iterations: 204 | train_loss: 0.066765115 | validation_loss: 0.05827454 | Roc Score: 0.9059178 | Time elapsed: 0:30:07.603463\n",
            "iterations: 205 | train_loss: 0.07676998 | validation_loss: 0.059976336 | Roc Score: 0.90628946 | Time elapsed: 0:30:16.696074\n",
            "iterations: 206 | train_loss: 0.057318617 | validation_loss: 0.058307152 | Roc Score: 0.90667295 | Time elapsed: 0:30:25.814408\n",
            "iterations: 207 | train_loss: 0.06355454 | validation_loss: 0.056121405 | Roc Score: 0.9070819 | Time elapsed: 0:30:34.101572\n",
            "iterations: 208 | train_loss: 0.076255254 | validation_loss: 0.05548782 | Roc Score: 0.9074981 | Time elapsed: 0:30:43.211553\n",
            "iterations: 209 | train_loss: 0.059293423 | validation_loss: 0.055499453 | Roc Score: 0.9079167 | Time elapsed: 0:30:52.295322\n",
            "iterations: 210 | train_loss: 0.062999815 | validation_loss: 0.055793144 | Roc Score: 0.90832865 | Time elapsed: 0:31:00.650507\n",
            "iterations: 211 | train_loss: 0.035607435 | validation_loss: 0.05589578 | Roc Score: 0.9087307 | Time elapsed: 0:31:09.150268\n",
            "iterations: 212 | train_loss: 0.05172764 | validation_loss: 0.055537652 | Roc Score: 0.9091277 | Time elapsed: 0:31:18.295022\n",
            "iterations: 213 | train_loss: 0.038880385 | validation_loss: 0.054616027 | Roc Score: 0.9095271 | Time elapsed: 0:31:26.989319\n",
            "iterations: 214 | train_loss: 0.051058322 | validation_loss: 0.05381042 | Roc Score: 0.90992886 | Time elapsed: 0:31:36.130029\n",
            "iterations: 215 | train_loss: 0.06330371 | validation_loss: 0.054720465 | Roc Score: 0.91033226 | Time elapsed: 0:31:45.089227\n",
            "iterations: 216 | train_loss: 0.044946615 | validation_loss: 0.05613809 | Roc Score: 0.9107243 | Time elapsed: 0:31:54.356432\n",
            "iterations: 217 | train_loss: 0.05516667 | validation_loss: 0.055108305 | Roc Score: 0.9111152 | Time elapsed: 0:32:03.384063\n",
            "iterations: 218 | train_loss: 0.052105572 | validation_loss: 0.05411251 | Roc Score: 0.9115042 | Time elapsed: 0:32:12.605412\n",
            "iterations: 219 | train_loss: 0.034681905 | validation_loss: 0.053460717 | Roc Score: 0.9118879 | Time elapsed: 0:32:20.877775\n",
            "iterations: 220 | train_loss: 0.05609748 | validation_loss: 0.053850073 | Roc Score: 0.9122613 | Time elapsed: 0:32:30.088885\n",
            "iterations: 221 | train_loss: 0.035793208 | validation_loss: 0.05594861 | Roc Score: 0.9126083 | Time elapsed: 0:32:39.001368\n",
            "iterations: 222 | train_loss: 0.05870311 | validation_loss: 0.056942303 | Roc Score: 0.9129402 | Time elapsed: 0:32:47.261405\n",
            "iterations: 223 | train_loss: 0.043486174 | validation_loss: 0.055336475 | Roc Score: 0.91328555 | Time elapsed: 0:32:55.564833\n",
            "iterations: 224 | train_loss: 0.04946874 | validation_loss: 0.053310074 | Roc Score: 0.91365135 | Time elapsed: 0:33:03.877269\n",
            "iterations: 225 | train_loss: 0.071534775 | validation_loss: 0.055878177 | Roc Score: 0.91400814 | Time elapsed: 0:33:12.666054\n",
            "iterations: 226 | train_loss: 0.04358012 | validation_loss: 0.05797967 | Roc Score: 0.9143516 | Time elapsed: 0:33:21.622712\n",
            "iterations: 227 | train_loss: 0.043963473 | validation_loss: 0.055957466 | Roc Score: 0.9146989 | Time elapsed: 0:33:30.001319\n",
            "iterations: 228 | train_loss: 0.052400015 | validation_loss: 0.054600473 | Roc Score: 0.9150537 | Time elapsed: 0:33:37.901943\n",
            "iterations: 229 | train_loss: 0.06789579 | validation_loss: 0.053980526 | Roc Score: 0.9154061 | Time elapsed: 0:33:45.820710\n",
            "iterations: 230 | train_loss: 0.040868726 | validation_loss: 0.053594917 | Roc Score: 0.9157526 | Time elapsed: 0:33:53.728842\n",
            "iterations: 231 | train_loss: 0.06302621 | validation_loss: 0.053860757 | Roc Score: 0.9160905 | Time elapsed: 0:34:01.528232\n",
            "iterations: 232 | train_loss: 0.05658554 | validation_loss: 0.05435735 | Roc Score: 0.9164147 | Time elapsed: 0:34:09.447068\n",
            "iterations: 233 | train_loss: 0.037162554 | validation_loss: 0.05432967 | Roc Score: 0.9167352 | Time elapsed: 0:34:17.404822\n"
          ],
          "name": "stdout"
        },
        {
          "output_type": "stream",
          "text": [
            "iterations: 234 | train_loss: 0.02903697 | validation_loss: 0.05478633 | Roc Score: 0.91704756 | Time elapsed: 0:34:25.302839\n",
            "iterations: 235 | train_loss: 0.028885944 | validation_loss: 0.05510568 | Roc Score: 0.9173478 | Time elapsed: 0:34:33.209182\n",
            "iterations: 236 | train_loss: 0.038605254 | validation_loss: 0.053843837 | Roc Score: 0.91765857 | Time elapsed: 0:34:41.122215\n",
            "iterations: 237 | train_loss: 0.057260264 | validation_loss: 0.053404164 | Roc Score: 0.91798264 | Time elapsed: 0:34:49.068972\n",
            "iterations: 238 | train_loss: 0.07012286 | validation_loss: 0.057868734 | Roc Score: 0.91828805 | Time elapsed: 0:34:56.962428\n",
            "iterations: 239 | train_loss: 0.04968644 | validation_loss: 0.060498476 | Roc Score: 0.91857946 | Time elapsed: 0:35:04.883494\n",
            "iterations: 240 | train_loss: 0.049645767 | validation_loss: 0.058168713 | Roc Score: 0.9188733 | Time elapsed: 0:35:12.805653\n",
            "iterations: 241 | train_loss: 0.05712611 | validation_loss: 0.053862013 | Roc Score: 0.91917557 | Time elapsed: 0:35:20.758696\n",
            "iterations: 242 | train_loss: 0.04938371 | validation_loss: 0.05505607 | Roc Score: 0.9194624 | Time elapsed: 0:35:28.709284\n",
            "iterations: 243 | train_loss: 0.04660522 | validation_loss: 0.057894975 | Roc Score: 0.91972846 | Time elapsed: 0:35:36.563744\n",
            "iterations: 244 | train_loss: 0.03800907 | validation_loss: 0.06123352 | Roc Score: 0.91996175 | Time elapsed: 0:35:44.504169\n",
            "iterations: 245 | train_loss: 0.058903713 | validation_loss: 0.061144788 | Roc Score: 0.92019296 | Time elapsed: 0:35:52.391679\n",
            "iterations: 246 | train_loss: 0.05553691 | validation_loss: 0.057377163 | Roc Score: 0.9204538 | Time elapsed: 0:36:00.298069\n",
            "iterations: 247 | train_loss: 0.05590338 | validation_loss: 0.05585802 | Roc Score: 0.92072916 | Time elapsed: 0:36:08.203631\n",
            "iterations: 248 | train_loss: 0.057593137 | validation_loss: 0.05733066 | Roc Score: 0.9209962 | Time elapsed: 0:36:16.409882\n",
            "iterations: 249 | train_loss: 0.04037073 | validation_loss: 0.05833558 | Roc Score: 0.9212543 | Time elapsed: 0:36:25.375286\n",
            "iterations: 250 | train_loss: 0.036452457 | validation_loss: 0.057916675 | Roc Score: 0.9215145 | Time elapsed: 0:36:34.737441\n",
            "iterations: 251 | train_loss: 0.056302827 | validation_loss: 0.056736972 | Roc Score: 0.92177486 | Time elapsed: 0:36:43.579746\n",
            "iterations: 252 | train_loss: 0.048112657 | validation_loss: 0.055105973 | Roc Score: 0.92202777 | Time elapsed: 0:36:52.563092\n",
            "iterations: 253 | train_loss: 0.038490083 | validation_loss: 0.056032293 | Roc Score: 0.9222558 | Time elapsed: 0:37:01.376078\n",
            "iterations: 254 | train_loss: 0.07008874 | validation_loss: 0.0573978 | Roc Score: 0.92246854 | Time elapsed: 0:37:10.462536\n",
            "iterations: 255 | train_loss: 0.05392357 | validation_loss: 0.05727705 | Roc Score: 0.9226815 | Time elapsed: 0:37:19.783316\n",
            "iterations: 256 | train_loss: 0.03410925 | validation_loss: 0.055962127 | Roc Score: 0.9229062 | Time elapsed: 0:37:28.758061\n",
            "iterations: 257 | train_loss: 0.06619436 | validation_loss: 0.054044843 | Roc Score: 0.92315286 | Time elapsed: 0:37:37.900347\n",
            "iterations: 258 | train_loss: 0.05623788 | validation_loss: 0.053542886 | Roc Score: 0.92340684 | Time elapsed: 0:37:47.090845\n",
            "iterations: 259 | train_loss: 0.035892066 | validation_loss: 0.05394458 | Roc Score: 0.9236626 | Time elapsed: 0:37:56.093412\n",
            "iterations: 260 | train_loss: 0.053841915 | validation_loss: 0.054100767 | Roc Score: 0.9239152 | Time elapsed: 0:38:05.460573\n",
            "iterations: 261 | train_loss: 0.053795923 | validation_loss: 0.053629912 | Roc Score: 0.92416644 | Time elapsed: 0:38:14.514865\n",
            "iterations: 262 | train_loss: 0.04577767 | validation_loss: 0.05336007 | Roc Score: 0.9244128 | Time elapsed: 0:38:23.611494\n",
            "iterations: 263 | train_loss: 0.0390453 | validation_loss: 0.053980514 | Roc Score: 0.9246459 | Time elapsed: 0:38:32.325765\n",
            "iterations: 264 | train_loss: 0.039613735 | validation_loss: 0.054859452 | Roc Score: 0.9248713 | Time elapsed: 0:38:40.238092\n",
            "iterations: 265 | train_loss: 0.04615769 | validation_loss: 0.055177834 | Roc Score: 0.9250888 | Time elapsed: 0:38:48.007147\n",
            "iterations: 266 | train_loss: 0.06303444 | validation_loss: 0.054224145 | Roc Score: 0.925312 | Time elapsed: 0:38:55.916186\n",
            "iterations: 267 | train_loss: 0.026834752 | validation_loss: 0.054162525 | Roc Score: 0.92553115 | Time elapsed: 0:39:03.816190\n",
            "iterations: 268 | train_loss: 0.050513063 | validation_loss: 0.053863134 | Roc Score: 0.9257491 | Time elapsed: 0:39:11.727228\n",
            "iterations: 269 | train_loss: 0.040137637 | validation_loss: 0.054082096 | Roc Score: 0.9259647 | Time elapsed: 0:39:19.612649\n",
            "iterations: 270 | train_loss: 0.042431813 | validation_loss: 0.054430317 | Roc Score: 0.92617446 | Time elapsed: 0:39:27.508512\n",
            "iterations: 271 | train_loss: 0.048249602 | validation_loss: 0.05463123 | Roc Score: 0.92638046 | Time elapsed: 0:39:35.429551\n",
            "iterations: 272 | train_loss: 0.051147103 | validation_loss: 0.05420129 | Roc Score: 0.92659664 | Time elapsed: 0:39:43.337919\n"
          ],
          "name": "stdout"
        },
        {
          "output_type": "stream",
          "text": [
            "iterations: 273 | train_loss: 0.041945636 | validation_loss: 0.053649385 | Roc Score: 0.92681754 | Time elapsed: 0:39:51.907710\n",
            "iterations: 274 | train_loss: 0.061049588 | validation_loss: 0.05359046 | Roc Score: 0.927044 | Time elapsed: 0:40:00.714490\n",
            "iterations: 275 | train_loss: 0.038861357 | validation_loss: 0.053175393 | Roc Score: 0.9272698 | Time elapsed: 0:40:09.986989\n",
            "iterations: 276 | train_loss: 0.046244975 | validation_loss: 0.052908916 | Roc Score: 0.9274952 | Time elapsed: 0:40:19.126255\n",
            "iterations: 277 | train_loss: 0.058832034 | validation_loss: 0.052534066 | Roc Score: 0.9277196 | Time elapsed: 0:40:28.285542\n",
            "iterations: 278 | train_loss: 0.04238779 | validation_loss: 0.05216743 | Roc Score: 0.9279451 | Time elapsed: 0:40:37.403085\n",
            "iterations: 279 | train_loss: 0.04146708 | validation_loss: 0.054500528 | Roc Score: 0.92815447 | Time elapsed: 0:40:46.519099\n",
            "iterations: 280 | train_loss: 0.053748995 | validation_loss: 0.057285618 | Roc Score: 0.92834324 | Time elapsed: 0:40:55.467076\n",
            "iterations: 281 | train_loss: 0.04732624 | validation_loss: 0.05994141 | Roc Score: 0.9285139 | Time elapsed: 0:41:04.487544\n",
            "iterations: 282 | train_loss: 0.07727101 | validation_loss: 0.057229556 | Roc Score: 0.92870027 | Time elapsed: 0:41:13.768534\n",
            "iterations: 283 | train_loss: 0.06658972 | validation_loss: 0.052884158 | Roc Score: 0.92891383 | Time elapsed: 0:41:22.958629\n",
            "iterations: 284 | train_loss: 0.053324834 | validation_loss: 0.052603394 | Roc Score: 0.92912775 | Time elapsed: 0:41:32.413715\n",
            "iterations: 285 | train_loss: 0.048967347 | validation_loss: 0.054799665 | Roc Score: 0.9293315 | Time elapsed: 0:41:41.728271\n",
            "iterations: 286 | train_loss: 0.039620694 | validation_loss: 0.05529828 | Roc Score: 0.9295331 | Time elapsed: 0:41:51.001071\n",
            "iterations: 287 | train_loss: 0.04246997 | validation_loss: 0.05408336 | Roc Score: 0.92973936 | Time elapsed: 0:41:59.987924\n",
            "iterations: 288 | train_loss: 0.05076069 | validation_loss: 0.052121248 | Roc Score: 0.92994946 | Time elapsed: 0:42:08.722741\n",
            "iterations: 289 | train_loss: 0.045780312 | validation_loss: 0.052496534 | Roc Score: 0.93014604 | Time elapsed: 0:42:17.453928\n",
            "iterations: 290 | train_loss: 0.083202146 | validation_loss: 0.0526399 | Roc Score: 0.9303395 | Time elapsed: 0:42:25.385729\n",
            "iterations: 291 | train_loss: 0.066032834 | validation_loss: 0.0522106 | Roc Score: 0.9305393 | Time elapsed: 0:42:33.307180\n",
            "iterations: 292 | train_loss: 0.048978876 | validation_loss: 0.052142497 | Roc Score: 0.93074155 | Time elapsed: 0:42:41.163345\n",
            "iterations: 293 | train_loss: 0.05397424 | validation_loss: 0.052644346 | Roc Score: 0.93094414 | Time elapsed: 0:42:49.418760\n",
            "iterations: 294 | train_loss: 0.04642336 | validation_loss: 0.05300844 | Roc Score: 0.931143 | Time elapsed: 0:42:57.498683\n",
            "iterations: 295 | train_loss: 0.045546364 | validation_loss: 0.053252228 | Roc Score: 0.93133944 | Time elapsed: 0:43:05.787808\n",
            "iterations: 296 | train_loss: 0.04804027 | validation_loss: 0.052859202 | Roc Score: 0.93153423 | Time elapsed: 0:43:13.659421\n",
            "iterations: 297 | train_loss: 0.07360469 | validation_loss: 0.052391056 | Roc Score: 0.9317246 | Time elapsed: 0:43:21.204688\n",
            "iterations: 298 | train_loss: 0.035533596 | validation_loss: 0.052431542 | Roc Score: 0.9319095 | Time elapsed: 0:43:31.097228\n",
            "iterations: 299 | train_loss: 0.037453067 | validation_loss: 0.053336345 | Roc Score: 0.93208194 | Time elapsed: 0:43:40.388794\n",
            "iterations: 300 | train_loss: 0.039517917 | validation_loss: 0.054694373 | Roc Score: 0.9322367 | Time elapsed: 0:43:49.447821\n",
            "iterations: 301 | train_loss: 0.047019593 | validation_loss: 0.05495 | Roc Score: 0.9323871 | Time elapsed: 0:43:58.502275\n",
            "iterations: 302 | train_loss: 0.044384442 | validation_loss: 0.05429446 | Roc Score: 0.9325456 | Time elapsed: 0:44:07.743381\n",
            "iterations: 303 | train_loss: 0.0626068 | validation_loss: 0.052948166 | Roc Score: 0.9327211 | Time elapsed: 0:44:16.894675\n",
            "iterations: 304 | train_loss: 0.039345257 | validation_loss: 0.052611556 | Roc Score: 0.93290234 | Time elapsed: 0:44:25.880503\n",
            "iterations: 305 | train_loss: 0.058403663 | validation_loss: 0.053698212 | Roc Score: 0.93307626 | Time elapsed: 0:44:35.172882\n",
            "iterations: 306 | train_loss: 0.046832442 | validation_loss: 0.054100525 | Roc Score: 0.9332476 | Time elapsed: 0:44:44.469004\n",
            "iterations: 307 | train_loss: 0.052255128 | validation_loss: 0.053704306 | Roc Score: 0.93342096 | Time elapsed: 0:44:53.491097\n",
            "iterations: 308 | train_loss: 0.0603236 | validation_loss: 0.053335223 | Roc Score: 0.9335963 | Time elapsed: 0:45:02.672023\n",
            "iterations: 309 | train_loss: 0.07678676 | validation_loss: 0.052988645 | Roc Score: 0.93376946 | Time elapsed: 0:45:11.880061\n",
            "iterations: 310 | train_loss: 0.056045678 | validation_loss: 0.05301796 | Roc Score: 0.93393666 | Time elapsed: 0:45:21.081190\n",
            "iterations: 311 | train_loss: 0.030238885 | validation_loss: 0.053885426 | Roc Score: 0.9340924 | Time elapsed: 0:45:29.956266\n"
          ],
          "name": "stdout"
        },
        {
          "output_type": "stream",
          "text": [
            "iterations: 312 | train_loss: 0.064493954 | validation_loss: 0.055072766 | Roc Score: 0.9342319 | Time elapsed: 0:45:39.045416\n",
            "iterations: 313 | train_loss: 0.044230085 | validation_loss: 0.056386895 | Roc Score: 0.93435895 | Time elapsed: 0:45:46.895053\n",
            "iterations: 314 | train_loss: 0.046797566 | validation_loss: 0.058416735 | Roc Score: 0.934464 | Time elapsed: 0:45:55.126995\n",
            "iterations: 315 | train_loss: 0.059989255 | validation_loss: 0.058509525 | Roc Score: 0.9345678 | Time elapsed: 0:46:03.137368\n",
            "iterations: 316 | train_loss: 0.04235686 | validation_loss: 0.05745921 | Roc Score: 0.93468094 | Time elapsed: 0:46:11.300773\n",
            "iterations: 317 | train_loss: 0.075661264 | validation_loss: 0.054568164 | Roc Score: 0.9348253 | Time elapsed: 0:46:19.633826\n",
            "iterations: 318 | train_loss: 0.06612429 | validation_loss: 0.05430753 | Roc Score: 0.93498373 | Time elapsed: 0:46:27.866366\n",
            "iterations: 319 | train_loss: 0.057366237 | validation_loss: 0.05697915 | Roc Score: 0.9351361 | Time elapsed: 0:46:35.731184\n",
            "iterations: 320 | train_loss: 0.04467365 | validation_loss: 0.058471743 | Roc Score: 0.9352818 | Time elapsed: 0:46:43.636885\n",
            "iterations: 321 | train_loss: 0.06372952 | validation_loss: 0.05772992 | Roc Score: 0.93542856 | Time elapsed: 0:46:51.767799\n",
            "iterations: 322 | train_loss: 0.05523041 | validation_loss: 0.055200648 | Roc Score: 0.9355824 | Time elapsed: 0:46:59.725981\n",
            "iterations: 323 | train_loss: 0.052729044 | validation_loss: 0.053420693 | Roc Score: 0.93573916 | Time elapsed: 0:47:07.757449\n",
            "iterations: 324 | train_loss: 0.041615434 | validation_loss: 0.05393465 | Roc Score: 0.9358869 | Time elapsed: 0:47:15.760219\n",
            "iterations: 325 | train_loss: 0.045007598 | validation_loss: 0.056016445 | Roc Score: 0.93601847 | Time elapsed: 0:47:24.743032\n",
            "iterations: 326 | train_loss: 0.06944947 | validation_loss: 0.05726094 | Roc Score: 0.9361387 | Time elapsed: 0:47:33.149767\n",
            "iterations: 327 | train_loss: 0.05182165 | validation_loss: 0.057314605 | Roc Score: 0.9362584 | Time elapsed: 0:47:41.377350\n",
            "iterations: 328 | train_loss: 0.04951385 | validation_loss: 0.056035187 | Roc Score: 0.93638563 | Time elapsed: 0:47:49.395499\n",
            "iterations: 329 | train_loss: 0.067860626 | validation_loss: 0.053732127 | Roc Score: 0.93653345 | Time elapsed: 0:47:57.993685\n",
            "iterations: 330 | train_loss: 0.058183633 | validation_loss: 0.052948046 | Roc Score: 0.93668413 | Time elapsed: 0:48:06.099287\n",
            "iterations: 331 | train_loss: 0.04927454 | validation_loss: 0.05401676 | Roc Score: 0.9368314 | Time elapsed: 0:48:14.417973\n",
            "iterations: 332 | train_loss: 0.05483785 | validation_loss: 0.05509486 | Roc Score: 0.9369741 | Time elapsed: 0:48:23.313291\n",
            "iterations: 333 | train_loss: 0.050553687 | validation_loss: 0.05477004 | Roc Score: 0.937119 | Time elapsed: 0:48:32.126714\n",
            "iterations: 334 | train_loss: 0.055362154 | validation_loss: 0.053280156 | Roc Score: 0.93726814 | Time elapsed: 0:48:40.895612\n",
            "iterations: 335 | train_loss: 0.06737222 | validation_loss: 0.05268256 | Roc Score: 0.9374184 | Time elapsed: 0:48:49.999663\n",
            "iterations: 336 | train_loss: 0.04175956 | validation_loss: 0.052538805 | Roc Score: 0.9375591 | Time elapsed: 0:48:58.399023\n",
            "iterations: 337 | train_loss: 0.043454137 | validation_loss: 0.053859737 | Roc Score: 0.93768364 | Time elapsed: 0:49:07.092900\n",
            "iterations: 338 | train_loss: 0.06426172 | validation_loss: 0.054495122 | Roc Score: 0.9377998 | Time elapsed: 0:49:16.620315\n",
            "iterations: 339 | train_loss: 0.035397258 | validation_loss: 0.055058282 | Roc Score: 0.9379119 | Time elapsed: 0:49:25.585447\n",
            "iterations: 340 | train_loss: 0.043193113 | validation_loss: 0.0552477 | Roc Score: 0.93802816 | Time elapsed: 0:49:34.734302\n",
            "iterations: 341 | train_loss: 0.06166494 | validation_loss: 0.054534033 | Roc Score: 0.93814903 | Time elapsed: 0:49:43.892419\n",
            "iterations: 342 | train_loss: 0.05199561 | validation_loss: 0.053153507 | Roc Score: 0.9382772 | Time elapsed: 0:49:52.834891\n",
            "iterations: 343 | train_loss: 0.05363133 | validation_loss: 0.052528024 | Roc Score: 0.93841094 | Time elapsed: 0:50:01.772297\n",
            "iterations: 344 | train_loss: 0.04996941 | validation_loss: 0.051944762 | Roc Score: 0.9385464 | Time elapsed: 0:50:10.998065\n",
            "iterations: 345 | train_loss: 0.04350245 | validation_loss: 0.051531002 | Roc Score: 0.93868196 | Time elapsed: 0:50:20.161112\n",
            "iterations: 346 | train_loss: 0.050198283 | validation_loss: 0.051263247 | Roc Score: 0.9388189 | Time elapsed: 0:50:29.367180\n",
            "iterations: 347 | train_loss: 0.05740594 | validation_loss: 0.05121094 | Roc Score: 0.9389555 | Time elapsed: 0:50:38.106106\n",
            "iterations: 348 | train_loss: 0.050985526 | validation_loss: 0.05108314 | Roc Score: 0.9390915 | Time elapsed: 0:50:47.411696\n",
            "iterations: 349 | train_loss: 0.032684196 | validation_loss: 0.050984543 | Roc Score: 0.9392266 | Time elapsed: 0:50:56.477074\n",
            "iterations: 350 | train_loss: 0.048622243 | validation_loss: 0.051081337 | Roc Score: 0.9393591 | Time elapsed: 0:51:05.683763\n"
          ],
          "name": "stdout"
        },
        {
          "output_type": "stream",
          "text": [
            "iterations: 351 | train_loss: 0.045646768 | validation_loss: 0.05140351 | Roc Score: 0.9394886 | Time elapsed: 0:51:14.921736\n",
            "iterations: 352 | train_loss: 0.059136122 | validation_loss: 0.051712465 | Roc Score: 0.9396134 | Time elapsed: 0:51:24.022299\n",
            "iterations: 353 | train_loss: 0.058475215 | validation_loss: 0.05170478 | Roc Score: 0.9397405 | Time elapsed: 0:51:33.419665\n",
            "iterations: 354 | train_loss: 0.06540916 | validation_loss: 0.051893305 | Roc Score: 0.9398699 | Time elapsed: 0:51:42.085367\n",
            "iterations: 355 | train_loss: 0.04973872 | validation_loss: 0.051668976 | Roc Score: 0.9400024 | Time elapsed: 0:51:51.132048\n",
            "iterations: 356 | train_loss: 0.03567846 | validation_loss: 0.051238403 | Roc Score: 0.94013625 | Time elapsed: 0:52:00.292058\n",
            "iterations: 357 | train_loss: 0.058401845 | validation_loss: 0.050443552 | Roc Score: 0.940271 | Time elapsed: 0:52:09.203692\n",
            "iterations: 358 | train_loss: 0.041953467 | validation_loss: 0.050337274 | Roc Score: 0.9404046 | Time elapsed: 0:52:18.035342\n",
            "iterations: 359 | train_loss: 0.026632328 | validation_loss: 0.05088393 | Roc Score: 0.9405321 | Time elapsed: 0:52:27.071282\n",
            "iterations: 360 | train_loss: 0.041056752 | validation_loss: 0.05180486 | Roc Score: 0.94065404 | Time elapsed: 0:52:36.135764\n",
            "iterations: 361 | train_loss: 0.057601344 | validation_loss: 0.0516885 | Roc Score: 0.9407749 | Time elapsed: 0:52:45.018022\n",
            "iterations: 362 | train_loss: 0.04748704 | validation_loss: 0.051060077 | Roc Score: 0.9408976 | Time elapsed: 0:52:54.366276\n",
            "iterations: 363 | train_loss: 0.0467461 | validation_loss: 0.05068422 | Roc Score: 0.9410205 | Time elapsed: 0:53:03.402641\n",
            "iterations: 364 | train_loss: 0.053579744 | validation_loss: 0.05042549 | Roc Score: 0.94114393 | Time elapsed: 0:53:12.360645\n",
            "iterations: 365 | train_loss: 0.06063647 | validation_loss: 0.050634604 | Roc Score: 0.94126815 | Time elapsed: 0:53:21.379755\n",
            "iterations: 366 | train_loss: 0.048159786 | validation_loss: 0.051236108 | Roc Score: 0.941391 | Time elapsed: 0:53:30.509986\n",
            "iterations: 367 | train_loss: 0.05981245 | validation_loss: 0.05178351 | Roc Score: 0.94151294 | Time elapsed: 0:53:39.200901\n",
            "iterations: 368 | train_loss: 0.0297511 | validation_loss: 0.05252961 | Roc Score: 0.94163114 | Time elapsed: 0:53:48.135510\n",
            "iterations: 369 | train_loss: 0.037669096 | validation_loss: 0.052328862 | Roc Score: 0.94174486 | Time elapsed: 0:53:57.095287\n",
            "iterations: 370 | train_loss: 0.0415765 | validation_loss: 0.052344702 | Roc Score: 0.9418457 | Time elapsed: 0:54:06.243578\n",
            "iterations: 371 | train_loss: 0.060435347 | validation_loss: 0.05332899 | Roc Score: 0.9419385 | Time elapsed: 0:54:15.186631\n",
            "iterations: 372 | train_loss: 0.049738385 | validation_loss: 0.05412202 | Roc Score: 0.942025 | Time elapsed: 0:54:24.322571\n",
            "iterations: 373 | train_loss: 0.067650944 | validation_loss: 0.05320805 | Roc Score: 0.94211996 | Time elapsed: 0:54:33.312492\n",
            "iterations: 374 | train_loss: 0.041645177 | validation_loss: 0.05278825 | Roc Score: 0.942219 | Time elapsed: 0:54:40.987973\n",
            "iterations: 375 | train_loss: 0.046936825 | validation_loss: 0.052708406 | Roc Score: 0.94232243 | Time elapsed: 0:54:49.102294\n",
            "iterations: 376 | train_loss: 0.05229641 | validation_loss: 0.053095624 | Roc Score: 0.942428 | Time elapsed: 0:54:57.414343\n",
            "iterations: 377 | train_loss: 0.050548587 | validation_loss: 0.053916015 | Roc Score: 0.9425345 | Time elapsed: 0:55:05.868614\n",
            "iterations: 378 | train_loss: 0.057059836 | validation_loss: 0.05376838 | Roc Score: 0.9426414 | Time elapsed: 0:55:14.559374\n",
            "iterations: 379 | train_loss: 0.04003405 | validation_loss: 0.053165443 | Roc Score: 0.94275075 | Time elapsed: 0:55:23.252279\n",
            "iterations: 380 | train_loss: 0.043935113 | validation_loss: 0.051684998 | Roc Score: 0.9428599 | Time elapsed: 0:55:31.125433\n",
            "iterations: 381 | train_loss: 0.05116689 | validation_loss: 0.05129911 | Roc Score: 0.94296813 | Time elapsed: 0:55:38.885830\n",
            "iterations: 382 | train_loss: 0.047139656 | validation_loss: 0.052440897 | Roc Score: 0.9430688 | Time elapsed: 0:55:46.568031\n",
            "iterations: 383 | train_loss: 0.047721203 | validation_loss: 0.052912816 | Roc Score: 0.94316536 | Time elapsed: 0:55:55.149583\n",
            "iterations: 384 | train_loss: 0.035637096 | validation_loss: 0.052780565 | Roc Score: 0.94326043 | Time elapsed: 0:56:03.408914\n",
            "iterations: 385 | train_loss: 0.055176023 | validation_loss: 0.051483054 | Roc Score: 0.9433641 | Time elapsed: 0:56:12.675039\n",
            "iterations: 386 | train_loss: 0.036304783 | validation_loss: 0.05128236 | Roc Score: 0.9434699 | Time elapsed: 0:56:21.915758\n",
            "iterations: 387 | train_loss: 0.06534591 | validation_loss: 0.051705986 | Roc Score: 0.9435781 | Time elapsed: 0:56:30.949739\n",
            "iterations: 388 | train_loss: 0.045458395 | validation_loss: 0.05217349 | Roc Score: 0.9436862 | Time elapsed: 0:56:39.140216\n",
            "iterations: 389 | train_loss: 0.047461342 | validation_loss: 0.051501475 | Roc Score: 0.9437943 | Time elapsed: 0:56:47.398503\n"
          ],
          "name": "stdout"
        },
        {
          "output_type": "stream",
          "text": [
            "iterations: 390 | train_loss: 0.059198722 | validation_loss: 0.05104369 | Roc Score: 0.9438994 | Time elapsed: 0:56:55.343164\n",
            "iterations: 391 | train_loss: 0.046662595 | validation_loss: 0.05125148 | Roc Score: 0.9440041 | Time elapsed: 0:57:03.552081\n",
            "iterations: 392 | train_loss: 0.058801543 | validation_loss: 0.051309142 | Roc Score: 0.9441052 | Time elapsed: 0:57:12.140492\n",
            "iterations: 393 | train_loss: 0.039964274 | validation_loss: 0.05168277 | Roc Score: 0.9442038 | Time elapsed: 0:57:20.486377\n",
            "iterations: 394 | train_loss: 0.02572445 | validation_loss: 0.05208403 | Roc Score: 0.9442953 | Time elapsed: 0:57:29.597272\n",
            "iterations: 395 | train_loss: 0.050493386 | validation_loss: 0.052926324 | Roc Score: 0.94437855 | Time elapsed: 0:57:38.341327\n",
            "iterations: 396 | train_loss: 0.04047219 | validation_loss: 0.05340265 | Roc Score: 0.9444563 | Time elapsed: 0:57:47.310075\n",
            "iterations: 397 | train_loss: 0.05306605 | validation_loss: 0.052720517 | Roc Score: 0.9445397 | Time elapsed: 0:57:56.790865\n",
            "iterations: 398 | train_loss: 0.054996148 | validation_loss: 0.05198307 | Roc Score: 0.9446283 | Time elapsed: 0:58:05.862823\n",
            "iterations: 399 | train_loss: 0.059690107 | validation_loss: 0.051631797 | Roc Score: 0.94472265 | Time elapsed: 0:58:14.868888\n",
            "iterations: 400 | train_loss: 0.04952371 | validation_loss: 0.051935542 | Roc Score: 0.9448188 | Time elapsed: 0:58:22.898655\n",
            "iterations: 401 | train_loss: 0.04896371 | validation_loss: 0.052325893 | Roc Score: 0.9449181 | Time elapsed: 0:58:32.182749\n",
            "iterations: 402 | train_loss: 0.052242875 | validation_loss: 0.05135408 | Roc Score: 0.9450192 | Time elapsed: 0:58:41.418968\n",
            "iterations: 403 | train_loss: 0.070137024 | validation_loss: 0.050458293 | Roc Score: 0.9451225 | Time elapsed: 0:58:50.285583\n",
            "iterations: 404 | train_loss: 0.045458395 | validation_loss: 0.050827034 | Roc Score: 0.94522274 | Time elapsed: 0:58:59.232405\n",
            "iterations: 405 | train_loss: 0.056703143 | validation_loss: 0.051945064 | Roc Score: 0.9453158 | Time elapsed: 0:59:07.215416\n",
            "iterations: 406 | train_loss: 0.043520357 | validation_loss: 0.053186122 | Roc Score: 0.9454043 | Time elapsed: 0:59:15.374422\n",
            "iterations: 407 | train_loss: 0.055996947 | validation_loss: 0.05288854 | Roc Score: 0.94549316 | Time elapsed: 0:59:24.293522\n",
            "iterations: 408 | train_loss: 0.052396737 | validation_loss: 0.051807515 | Roc Score: 0.94558537 | Time elapsed: 0:59:33.400430\n",
            "iterations: 409 | train_loss: 0.03798724 | validation_loss: 0.050814204 | Roc Score: 0.94568115 | Time elapsed: 0:59:42.264291\n",
            "iterations: 410 | train_loss: 0.0519337 | validation_loss: 0.05015361 | Roc Score: 0.94577956 | Time elapsed: 0:59:51.402499\n",
            "iterations: 411 | train_loss: 0.041565042 | validation_loss: 0.050034795 | Roc Score: 0.94587785 | Time elapsed: 1:00:00.276797\n",
            "iterations: 412 | train_loss: 0.050641928 | validation_loss: 0.050316747 | Roc Score: 0.9459767 | Time elapsed: 1:00:09.436070\n",
            "iterations: 413 | train_loss: 0.058827255 | validation_loss: 0.05066426 | Roc Score: 0.94607323 | Time elapsed: 1:00:18.660578\n",
            "iterations: 414 | train_loss: 0.05809405 | validation_loss: 0.05063101 | Roc Score: 0.9461678 | Time elapsed: 1:00:27.945490\n",
            "iterations: 415 | train_loss: 0.04412112 | validation_loss: 0.050726026 | Roc Score: 0.94626087 | Time elapsed: 1:00:37.119789\n",
            "iterations: 416 | train_loss: 0.034241095 | validation_loss: 0.05091202 | Roc Score: 0.9463539 | Time elapsed: 1:00:46.238405\n",
            "iterations: 417 | train_loss: 0.049200002 | validation_loss: 0.051684592 | Roc Score: 0.94644576 | Time elapsed: 1:00:54.893570\n",
            "iterations: 418 | train_loss: 0.07506186 | validation_loss: 0.05277689 | Roc Score: 0.94653493 | Time elapsed: 1:01:04.173521\n",
            "iterations: 419 | train_loss: 0.055257592 | validation_loss: 0.05446719 | Roc Score: 0.94662094 | Time elapsed: 1:01:13.195873\n",
            "iterations: 420 | train_loss: 0.040801547 | validation_loss: 0.054677248 | Roc Score: 0.94670564 | Time elapsed: 1:01:21.971703\n",
            "iterations: 421 | train_loss: 0.048506405 | validation_loss: 0.053210992 | Roc Score: 0.9467901 | Time elapsed: 1:01:30.901384\n",
            "iterations: 422 | train_loss: 0.03198304 | validation_loss: 0.052361116 | Roc Score: 0.94687104 | Time elapsed: 1:01:39.958769\n",
            "iterations: 423 | train_loss: 0.04797485 | validation_loss: 0.053322464 | Roc Score: 0.94693935 | Time elapsed: 1:01:49.000247\n",
            "iterations: 424 | train_loss: 0.030772636 | validation_loss: 0.055830915 | Roc Score: 0.9469934 | Time elapsed: 1:01:57.844729\n",
            "iterations: 425 | train_loss: 0.042479396 | validation_loss: 0.05627366 | Roc Score: 0.94704664 | Time elapsed: 1:02:07.167844\n",
            "iterations: 426 | train_loss: 0.05914913 | validation_loss: 0.05547243 | Roc Score: 0.9471094 | Time elapsed: 1:02:16.339290\n",
            "iterations: 427 | train_loss: 0.06218139 | validation_loss: 0.05282997 | Roc Score: 0.9471886 | Time elapsed: 1:02:25.509261\n",
            "iterations: 428 | train_loss: 0.050540365 | validation_loss: 0.051746238 | Roc Score: 0.94727576 | Time elapsed: 1:02:34.485474\n"
          ],
          "name": "stdout"
        },
        {
          "output_type": "stream",
          "text": [
            "iterations: 429 | train_loss: 0.06212214 | validation_loss: 0.05238306 | Roc Score: 0.9473646 | Time elapsed: 1:02:43.743664\n",
            "iterations: 430 | train_loss: 0.051572524 | validation_loss: 0.05409164 | Roc Score: 0.94744736 | Time elapsed: 1:02:52.821302\n",
            "iterations: 431 | train_loss: 0.061085783 | validation_loss: 0.0540454 | Roc Score: 0.94752955 | Time elapsed: 1:03:01.998871\n",
            "iterations: 432 | train_loss: 0.06167207 | validation_loss: 0.052610543 | Roc Score: 0.9476147 | Time elapsed: 1:03:11.178159\n",
            "iterations: 433 | train_loss: 0.056080308 | validation_loss: 0.050890774 | Roc Score: 0.94770426 | Time elapsed: 1:03:20.090325\n",
            "iterations: 434 | train_loss: 0.04271501 | validation_loss: 0.050828286 | Roc Score: 0.94779235 | Time elapsed: 1:03:29.232701\n",
            "iterations: 435 | train_loss: 0.043993074 | validation_loss: 0.051911082 | Roc Score: 0.9478747 | Time elapsed: 1:03:38.177196\n",
            "iterations: 436 | train_loss: 0.07313261 | validation_loss: 0.051425144 | Roc Score: 0.9479586 | Time elapsed: 1:03:46.832144\n",
            "iterations: 437 | train_loss: 0.036876056 | validation_loss: 0.050917204 | Roc Score: 0.94804376 | Time elapsed: 1:03:55.421452\n",
            "iterations: 438 | train_loss: 0.048039984 | validation_loss: 0.050886896 | Roc Score: 0.948129 | Time elapsed: 1:04:04.466345\n",
            "iterations: 439 | train_loss: 0.03583748 | validation_loss: 0.051548894 | Roc Score: 0.94821405 | Time elapsed: 1:04:13.314855\n",
            "iterations: 440 | train_loss: 0.046359442 | validation_loss: 0.05255506 | Roc Score: 0.9482974 | Time elapsed: 1:04:21.799900\n",
            "iterations: 441 | train_loss: 0.042237177 | validation_loss: 0.053057443 | Roc Score: 0.9483791 | Time elapsed: 1:04:30.225343\n",
            "iterations: 442 | train_loss: 0.04345382 | validation_loss: 0.053423464 | Roc Score: 0.9484597 | Time elapsed: 1:04:39.059356\n",
            "iterations: 443 | train_loss: 0.03999121 | validation_loss: 0.053381093 | Roc Score: 0.94854033 | Time elapsed: 1:04:47.878957\n",
            "iterations: 444 | train_loss: 0.06021754 | validation_loss: 0.05182632 | Roc Score: 0.9486194 | Time elapsed: 1:04:56.349481\n",
            "iterations: 445 | train_loss: 0.064391084 | validation_loss: 0.05082562 | Roc Score: 0.9486918 | Time elapsed: 1:05:04.563992\n",
            "iterations: 446 | train_loss: 0.043196592 | validation_loss: 0.05218388 | Roc Score: 0.9487538 | Time elapsed: 1:05:12.585328\n",
            "iterations: 447 | train_loss: 0.04893001 | validation_loss: 0.055189334 | Roc Score: 0.9488024 | Time elapsed: 1:05:20.527426\n",
            "iterations: 448 | train_loss: 0.049021367 | validation_loss: 0.056013234 | Roc Score: 0.94885105 | Time elapsed: 1:05:28.534121\n",
            "iterations: 449 | train_loss: 0.047726393 | validation_loss: 0.053980462 | Roc Score: 0.94891 | Time elapsed: 1:05:35.919711\n",
            "iterations: 450 | train_loss: 0.038889818 | validation_loss: 0.052574553 | Roc Score: 0.9489785 | Time elapsed: 1:05:44.776928\n",
            "iterations: 451 | train_loss: 0.04090034 | validation_loss: 0.05270766 | Roc Score: 0.9490523 | Time elapsed: 1:05:52.749201\n",
            "iterations: 452 | train_loss: 0.02643713 | validation_loss: 0.053887505 | Roc Score: 0.9491252 | Time elapsed: 1:06:01.085187\n",
            "iterations: 453 | train_loss: 0.06324638 | validation_loss: 0.055240586 | Roc Score: 0.94919795 | Time elapsed: 1:06:10.343823\n",
            "iterations: 454 | train_loss: 0.070519306 | validation_loss: 0.056984607 | Roc Score: 0.9492682 | Time elapsed: 1:06:19.795284\n",
            "iterations: 455 | train_loss: 0.05337152 | validation_loss: 0.05549128 | Roc Score: 0.94933903 | Time elapsed: 1:06:28.734973\n",
            "iterations: 456 | train_loss: 0.047763184 | validation_loss: 0.0531897 | Roc Score: 0.9494109 | Time elapsed: 1:06:37.146674\n",
            "iterations: 457 | train_loss: 0.044589195 | validation_loss: 0.05166308 | Roc Score: 0.9494821 | Time elapsed: 1:06:45.454387\n",
            "iterations: 458 | train_loss: 0.049320087 | validation_loss: 0.051688533 | Roc Score: 0.94954693 | Time elapsed: 1:06:53.624850\n",
            "iterations: 459 | train_loss: 0.03915027 | validation_loss: 0.052304152 | Roc Score: 0.94960445 | Time elapsed: 1:07:01.875447\n",
            "iterations: 460 | train_loss: 0.061299585 | validation_loss: 0.053993218 | Roc Score: 0.94965094 | Time elapsed: 1:07:11.024226\n",
            "iterations: 461 | train_loss: 0.0664859 | validation_loss: 0.054733373 | Roc Score: 0.9496924 | Time elapsed: 1:07:20.388246\n",
            "iterations: 462 | train_loss: 0.055685744 | validation_loss: 0.055104163 | Roc Score: 0.9497305 | Time elapsed: 1:07:29.621325\n",
            "iterations: 463 | train_loss: 0.054945696 | validation_loss: 0.053133875 | Roc Score: 0.9497842 | Time elapsed: 1:07:38.867315\n",
            "iterations: 464 | train_loss: 0.046803974 | validation_loss: 0.051840834 | Roc Score: 0.94984764 | Time elapsed: 1:07:47.419537\n",
            "iterations: 465 | train_loss: 0.04545057 | validation_loss: 0.051523 | Roc Score: 0.949916 | Time elapsed: 1:07:56.500127\n",
            "iterations: 466 | train_loss: 0.052217185 | validation_loss: 0.05155286 | Roc Score: 0.9499884 | Time elapsed: 1:08:05.410948\n",
            "iterations: 467 | train_loss: 0.043792024 | validation_loss: 0.0515638 | Roc Score: 0.95006174 | Time elapsed: 1:08:14.671500\n"
          ],
          "name": "stdout"
        },
        {
          "output_type": "stream",
          "text": [
            "iterations: 468 | train_loss: 0.04008166 | validation_loss: 0.051214643 | Roc Score: 0.9501359 | Time elapsed: 1:08:23.643236\n",
            "iterations: 469 | train_loss: 0.043823555 | validation_loss: 0.050724655 | Roc Score: 0.9502099 | Time elapsed: 1:08:32.987430\n",
            "iterations: 470 | train_loss: 0.07800773 | validation_loss: 0.051196586 | Roc Score: 0.9502822 | Time elapsed: 1:08:41.644644\n",
            "iterations: 471 | train_loss: 0.043749712 | validation_loss: 0.051053796 | Roc Score: 0.95035475 | Time elapsed: 1:08:50.851417\n",
            "iterations: 472 | train_loss: 0.07374583 | validation_loss: 0.05070278 | Roc Score: 0.95042735 | Time elapsed: 1:08:59.842634\n",
            "iterations: 473 | train_loss: 0.052098345 | validation_loss: 0.050326902 | Roc Score: 0.9505011 | Time elapsed: 1:09:09.257301\n",
            "iterations: 474 | train_loss: 0.04526285 | validation_loss: 0.050099604 | Roc Score: 0.95057446 | Time elapsed: 1:09:18.037999\n",
            "iterations: 475 | train_loss: 0.043625925 | validation_loss: 0.050368305 | Roc Score: 0.9506476 | Time elapsed: 1:09:27.027959\n",
            "iterations: 476 | train_loss: 0.039593488 | validation_loss: 0.05122552 | Roc Score: 0.9507169 | Time elapsed: 1:09:36.336715\n",
            "iterations: 477 | train_loss: 0.03907771 | validation_loss: 0.05160762 | Roc Score: 0.95078164 | Time elapsed: 1:09:44.974249\n",
            "iterations: 478 | train_loss: 0.051774833 | validation_loss: 0.051094826 | Roc Score: 0.95084727 | Time elapsed: 1:09:54.334930\n",
            "iterations: 479 | train_loss: 0.033712406 | validation_loss: 0.05132627 | Roc Score: 0.95091057 | Time elapsed: 1:10:03.516310\n",
            "iterations: 480 | train_loss: 0.02774456 | validation_loss: 0.05189744 | Roc Score: 0.9509694 | Time elapsed: 1:10:12.427788\n",
            "iterations: 481 | train_loss: 0.02990331 | validation_loss: 0.05268618 | Roc Score: 0.95102555 | Time elapsed: 1:10:21.245037\n",
            "iterations: 482 | train_loss: 0.042242233 | validation_loss: 0.052963007 | Roc Score: 0.95108104 | Time elapsed: 1:10:30.232406\n",
            "iterations: 483 | train_loss: 0.051052228 | validation_loss: 0.05273461 | Roc Score: 0.9511441 | Time elapsed: 1:10:39.252025\n",
            "iterations: 484 | train_loss: 0.025780894 | validation_loss: 0.053515065 | Roc Score: 0.951212 | Time elapsed: 1:10:48.320868\n",
            "iterations: 485 | train_loss: 0.038936924 | validation_loss: 0.054842204 | Roc Score: 0.95127994 | Time elapsed: 1:10:57.372112\n",
            "iterations: 486 | train_loss: 0.06736415 | validation_loss: 0.05454063 | Roc Score: 0.95134866 | Time elapsed: 1:11:06.251004\n",
            "iterations: 487 | train_loss: 0.050469533 | validation_loss: 0.052576136 | Roc Score: 0.95141643 | Time elapsed: 1:11:15.616593\n",
            "iterations: 488 | train_loss: 0.04808084 | validation_loss: 0.051190875 | Roc Score: 0.95148253 | Time elapsed: 1:11:24.656862\n",
            "iterations: 489 | train_loss: 0.05838174 | validation_loss: 0.050605897 | Roc Score: 0.95154554 | Time elapsed: 1:11:33.701118\n",
            "iterations: 490 | train_loss: 0.035928383 | validation_loss: 0.051522158 | Roc Score: 0.9516023 | Time elapsed: 1:11:42.468987\n",
            "iterations: 491 | train_loss: 0.025177285 | validation_loss: 0.053113744 | Roc Score: 0.9516539 | Time elapsed: 1:11:51.762877\n",
            "iterations: 492 | train_loss: 0.05406199 | validation_loss: 0.05261288 | Roc Score: 0.9517076 | Time elapsed: 1:12:00.722537\n",
            "iterations: 493 | train_loss: 0.062274285 | validation_loss: 0.050973162 | Roc Score: 0.95177 | Time elapsed: 1:12:09.884135\n",
            "iterations: 494 | train_loss: 0.063552625 | validation_loss: 0.050057117 | Roc Score: 0.9518365 | Time elapsed: 1:12:19.030817\n",
            "iterations: 495 | train_loss: 0.05321701 | validation_loss: 0.051167715 | Roc Score: 0.95190185 | Time elapsed: 1:12:27.355088\n",
            "iterations: 496 | train_loss: 0.056303404 | validation_loss: 0.05321192 | Roc Score: 0.9519637 | Time elapsed: 1:12:35.437392\n",
            "iterations: 497 | train_loss: 0.062478554 | validation_loss: 0.05423843 | Roc Score: 0.95202297 | Time elapsed: 1:12:44.582532\n",
            "iterations: 498 | train_loss: 0.06265021 | validation_loss: 0.05235868 | Roc Score: 0.9520858 | Time elapsed: 1:12:53.380799\n",
            "iterations: 499 | train_loss: 0.030013742 | validation_loss: 0.05023228 | Roc Score: 0.9521516 | Time elapsed: 1:13:02.571860\n",
            "iterations: 500 | train_loss: 0.03757122 | validation_loss: 0.050074194 | Roc Score: 0.9522134 | Time elapsed: 1:13:11.781860\n",
            "iterations: 501 | train_loss: 0.028471403 | validation_loss: 0.05226306 | Roc Score: 0.95226437 | Time elapsed: 1:13:20.614426\n",
            "iterations: 502 | train_loss: 0.04383049 | validation_loss: 0.054274652 | Roc Score: 0.9523037 | Time elapsed: 1:13:29.655930\n",
            "iterations: 503 | train_loss: 0.041888937 | validation_loss: 0.05467433 | Roc Score: 0.9523385 | Time elapsed: 1:13:38.671166\n",
            "iterations: 504 | train_loss: 0.050473783 | validation_loss: 0.05426007 | Roc Score: 0.9523731 | Time elapsed: 1:13:47.547819\n",
            "iterations: 505 | train_loss: 0.03620333 | validation_loss: 0.05304123 | Roc Score: 0.9524151 | Time elapsed: 1:13:55.636844\n",
            "iterations: 506 | train_loss: 0.017281964 | validation_loss: 0.053032383 | Roc Score: 0.9524599 | Time elapsed: 1:14:04.187670\n"
          ],
          "name": "stdout"
        },
        {
          "output_type": "stream",
          "text": [
            "iterations: 507 | train_loss: 0.058996055 | validation_loss: 0.052954253 | Roc Score: 0.95250946 | Time elapsed: 1:14:13.133942\n",
            "iterations: 508 | train_loss: 0.05262724 | validation_loss: 0.05401933 | Roc Score: 0.9525669 | Time elapsed: 1:14:21.489916\n",
            "iterations: 509 | train_loss: 0.05104016 | validation_loss: 0.055331215 | Roc Score: 0.95262593 | Time elapsed: 1:14:30.128289\n",
            "iterations: 510 | train_loss: 0.037433337 | validation_loss: 0.0539689 | Roc Score: 0.9526865 | Time elapsed: 1:14:38.855787\n",
            "iterations: 511 | train_loss: 0.03317172 | validation_loss: 0.05108325 | Roc Score: 0.9527474 | Time elapsed: 1:14:48.176184\n",
            "iterations: 512 | train_loss: 0.058164947 | validation_loss: 0.049446177 | Roc Score: 0.9528095 | Time elapsed: 1:14:57.288577\n",
            "iterations: 513 | train_loss: 0.04932842 | validation_loss: 0.050660785 | Roc Score: 0.95286345 | Time elapsed: 1:15:06.025855\n",
            "iterations: 514 | train_loss: 0.03799979 | validation_loss: 0.052979127 | Roc Score: 0.9529102 | Time elapsed: 1:15:14.528287\n",
            "iterations: 515 | train_loss: 0.07991958 | validation_loss: 0.053210672 | Roc Score: 0.95295876 | Time elapsed: 1:15:23.518634\n",
            "iterations: 516 | train_loss: 0.0683122 | validation_loss: 0.052260853 | Roc Score: 0.9530131 | Time elapsed: 1:15:31.656882\n",
            "iterations: 517 | train_loss: 0.073441885 | validation_loss: 0.0509987 | Roc Score: 0.9530728 | Time elapsed: 1:15:40.877562\n",
            "iterations: 518 | train_loss: 0.04926416 | validation_loss: 0.051215664 | Roc Score: 0.953133 | Time elapsed: 1:15:49.941621\n",
            "iterations: 519 | train_loss: 0.050644167 | validation_loss: 0.051871926 | Roc Score: 0.9531914 | Time elapsed: 1:15:58.377396\n",
            "iterations: 520 | train_loss: 0.03492026 | validation_loss: 0.051780786 | Roc Score: 0.95324963 | Time elapsed: 1:16:07.226681\n",
            "iterations: 521 | train_loss: 0.03943429 | validation_loss: 0.051246494 | Roc Score: 0.953307 | Time elapsed: 1:16:16.206254\n",
            "iterations: 522 | train_loss: 0.055043265 | validation_loss: 0.050645385 | Roc Score: 0.95336235 | Time elapsed: 1:16:25.211967\n",
            "iterations: 523 | train_loss: 0.03989764 | validation_loss: 0.050540876 | Roc Score: 0.9534135 | Time elapsed: 1:16:33.650767\n",
            "iterations: 524 | train_loss: 0.054500807 | validation_loss: 0.05135691 | Roc Score: 0.9534564 | Time elapsed: 1:16:42.970196\n",
            "iterations: 525 | train_loss: 0.055837404 | validation_loss: 0.052475948 | Roc Score: 0.95349413 | Time elapsed: 1:16:51.714998\n",
            "iterations: 526 | train_loss: 0.050962914 | validation_loss: 0.053368676 | Roc Score: 0.9535268 | Time elapsed: 1:17:00.533468\n",
            "iterations: 527 | train_loss: 0.045013793 | validation_loss: 0.05333593 | Roc Score: 0.9535604 | Time elapsed: 1:17:08.478894\n",
            "iterations: 528 | train_loss: 0.040242054 | validation_loss: 0.052961215 | Roc Score: 0.95359725 | Time elapsed: 1:17:17.247804\n",
            "iterations: 529 | train_loss: 0.041832127 | validation_loss: 0.052778386 | Roc Score: 0.95363784 | Time elapsed: 1:17:26.524536\n",
            "iterations: 530 | train_loss: 0.03903726 | validation_loss: 0.05307486 | Roc Score: 0.95368165 | Time elapsed: 1:17:35.639002\n",
            "iterations: 531 | train_loss: 0.05918492 | validation_loss: 0.05234895 | Roc Score: 0.95372754 | Time elapsed: 1:17:44.810791\n",
            "iterations: 532 | train_loss: 0.05965967 | validation_loss: 0.0512725 | Roc Score: 0.9537759 | Time elapsed: 1:17:53.586159\n",
            "iterations: 533 | train_loss: 0.047725037 | validation_loss: 0.050504174 | Roc Score: 0.9538273 | Time elapsed: 1:18:02.436788\n",
            "iterations: 534 | train_loss: 0.038710456 | validation_loss: 0.0500565 | Roc Score: 0.9538804 | Time elapsed: 1:18:11.577931\n",
            "iterations: 535 | train_loss: 0.054515038 | validation_loss: 0.049641747 | Roc Score: 0.95393425 | Time elapsed: 1:18:20.619641\n",
            "iterations: 536 | train_loss: 0.047740206 | validation_loss: 0.049271 | Roc Score: 0.95398694 | Time elapsed: 1:18:29.779252\n",
            "iterations: 537 | train_loss: 0.06164871 | validation_loss: 0.04915549 | Roc Score: 0.95404243 | Time elapsed: 1:18:38.929677\n",
            "iterations: 538 | train_loss: 0.047576223 | validation_loss: 0.04909735 | Roc Score: 0.95409775 | Time elapsed: 1:18:48.322585\n",
            "iterations: 539 | train_loss: 0.058128025 | validation_loss: 0.0490957 | Roc Score: 0.9541535 | Time elapsed: 1:18:57.506257\n",
            "iterations: 540 | train_loss: 0.052490335 | validation_loss: 0.04901975 | Roc Score: 0.95420855 | Time elapsed: 1:19:06.849398\n",
            "iterations: 541 | train_loss: 0.035573423 | validation_loss: 0.049022954 | Roc Score: 0.9542609 | Time elapsed: 1:19:16.006302\n",
            "iterations: 542 | train_loss: 0.044421628 | validation_loss: 0.04903555 | Roc Score: 0.9543139 | Time elapsed: 1:19:25.153996\n",
            "iterations: 543 | train_loss: 0.045738794 | validation_loss: 0.049072467 | Roc Score: 0.9543665 | Time elapsed: 1:19:34.264490\n",
            "iterations: 544 | train_loss: 0.042795602 | validation_loss: 0.049129605 | Roc Score: 0.95441914 | Time elapsed: 1:19:43.598903\n",
            "iterations: 545 | train_loss: 0.056493748 | validation_loss: 0.04928009 | Roc Score: 0.9544714 | Time elapsed: 1:19:52.602985\n"
          ],
          "name": "stdout"
        },
        {
          "output_type": "stream",
          "text": [
            "iterations: 546 | train_loss: 0.038389023 | validation_loss: 0.04944313 | Roc Score: 0.9545229 | Time elapsed: 1:20:01.848798\n",
            "iterations: 547 | train_loss: 0.03929585 | validation_loss: 0.049594708 | Roc Score: 0.9545732 | Time elapsed: 1:20:10.762537\n",
            "iterations: 548 | train_loss: 0.04713499 | validation_loss: 0.04981383 | Roc Score: 0.95461994 | Time elapsed: 1:20:19.785173\n",
            "iterations: 549 | train_loss: 0.06628964 | validation_loss: 0.049811278 | Roc Score: 0.95466965 | Time elapsed: 1:20:28.462706\n",
            "iterations: 550 | train_loss: 0.06739744 | validation_loss: 0.050135005 | Roc Score: 0.95471936 | Time elapsed: 1:20:36.521056\n",
            "iterations: 551 | train_loss: 0.046120867 | validation_loss: 0.05031405 | Roc Score: 0.9547686 | Time elapsed: 1:20:45.238959\n",
            "iterations: 552 | train_loss: 0.049385495 | validation_loss: 0.05030086 | Roc Score: 0.954818 | Time elapsed: 1:20:53.806596\n",
            "iterations: 553 | train_loss: 0.05444989 | validation_loss: 0.050117753 | Roc Score: 0.95486575 | Time elapsed: 1:21:02.469651\n",
            "iterations: 554 | train_loss: 0.046623062 | validation_loss: 0.050170306 | Roc Score: 0.95491195 | Time elapsed: 1:21:10.540151\n",
            "iterations: 555 | train_loss: 0.032853737 | validation_loss: 0.050607223 | Roc Score: 0.95495486 | Time elapsed: 1:21:19.119690\n",
            "iterations: 556 | train_loss: 0.06748381 | validation_loss: 0.05055434 | Roc Score: 0.95499736 | Time elapsed: 1:21:27.207879\n",
            "iterations: 557 | train_loss: 0.035508096 | validation_loss: 0.050647557 | Roc Score: 0.9550411 | Time elapsed: 1:21:36.264360\n",
            "iterations: 558 | train_loss: 0.057986297 | validation_loss: 0.050749928 | Roc Score: 0.9550853 | Time elapsed: 1:21:44.532594\n",
            "iterations: 559 | train_loss: 0.057860024 | validation_loss: 0.05077261 | Roc Score: 0.9551297 | Time elapsed: 1:21:52.434530\n",
            "iterations: 560 | train_loss: 0.033700213 | validation_loss: 0.0508267 | Roc Score: 0.95517576 | Time elapsed: 1:22:01.159590\n",
            "iterations: 561 | train_loss: 0.040170323 | validation_loss: 0.05080904 | Roc Score: 0.9552225 | Time elapsed: 1:22:09.939243\n",
            "iterations: 562 | train_loss: 0.053644083 | validation_loss: 0.050492443 | Roc Score: 0.9552721 | Time elapsed: 1:22:18.906395\n",
            "iterations: 563 | train_loss: 0.050837915 | validation_loss: 0.050281014 | Roc Score: 0.95532185 | Time elapsed: 1:22:27.437062\n",
            "iterations: 564 | train_loss: 0.038109265 | validation_loss: 0.05017109 | Roc Score: 0.95537114 | Time elapsed: 1:22:35.342948\n",
            "iterations: 565 | train_loss: 0.05562137 | validation_loss: 0.05010313 | Roc Score: 0.9554208 | Time elapsed: 1:22:43.109205\n",
            "iterations: 566 | train_loss: 0.03665251 | validation_loss: 0.04992355 | Roc Score: 0.955471 | Time elapsed: 1:22:51.839331\n",
            "iterations: 567 | train_loss: 0.058601975 | validation_loss: 0.04988285 | Roc Score: 0.9555212 | Time elapsed: 1:23:00.792356\n",
            "iterations: 568 | train_loss: 0.057331912 | validation_loss: 0.049942505 | Roc Score: 0.9555701 | Time elapsed: 1:23:10.009414\n",
            "iterations: 569 | train_loss: 0.030887837 | validation_loss: 0.0498562 | Roc Score: 0.9556182 | Time elapsed: 1:23:19.308970\n",
            "iterations: 570 | train_loss: 0.048368804 | validation_loss: 0.04980701 | Roc Score: 0.9556646 | Time elapsed: 1:23:28.500363\n",
            "iterations: 571 | train_loss: 0.043611255 | validation_loss: 0.04998681 | Roc Score: 0.9557091 | Time elapsed: 1:23:37.071621\n",
            "iterations: 572 | train_loss: 0.044014487 | validation_loss: 0.05000869 | Roc Score: 0.95575464 | Time elapsed: 1:23:45.894591\n",
            "iterations: 573 | train_loss: 0.035562973 | validation_loss: 0.05021439 | Roc Score: 0.9557988 | Time elapsed: 1:23:54.693348\n",
            "iterations: 574 | train_loss: 0.04584699 | validation_loss: 0.050565865 | Roc Score: 0.95584124 | Time elapsed: 1:24:03.266145\n",
            "iterations: 575 | train_loss: 0.050088596 | validation_loss: 0.050850153 | Roc Score: 0.95588225 | Time elapsed: 1:24:11.624298\n",
            "iterations: 576 | train_loss: 0.042450454 | validation_loss: 0.051035948 | Roc Score: 0.955922 | Time elapsed: 1:24:20.274274\n",
            "iterations: 577 | train_loss: 0.07217357 | validation_loss: 0.050379653 | Roc Score: 0.95596606 | Time elapsed: 1:24:28.997824\n",
            "iterations: 578 | train_loss: 0.06669083 | validation_loss: 0.049915034 | Roc Score: 0.9560138 | Time elapsed: 1:24:36.989675\n",
            "iterations: 579 | train_loss: 0.0462685 | validation_loss: 0.050710633 | Roc Score: 0.9560618 | Time elapsed: 1:24:45.860752\n",
            "iterations: 580 | train_loss: 0.05568623 | validation_loss: 0.051556636 | Roc Score: 0.9561074 | Time elapsed: 1:24:53.692392\n",
            "iterations: 581 | train_loss: 0.059123885 | validation_loss: 0.05248398 | Roc Score: 0.9561516 | Time elapsed: 1:25:02.450722\n",
            "iterations: 582 | train_loss: 0.05333374 | validation_loss: 0.052174017 | Roc Score: 0.95619625 | Time elapsed: 1:25:11.131052\n",
            "iterations: 583 | train_loss: 0.04550269 | validation_loss: 0.051873535 | Roc Score: 0.956241 | Time elapsed: 1:25:19.593512\n",
            "iterations: 584 | train_loss: 0.05038673 | validation_loss: 0.05039474 | Roc Score: 0.95628786 | Time elapsed: 1:25:28.283344\n"
          ],
          "name": "stdout"
        },
        {
          "output_type": "stream",
          "text": [
            "iterations: 585 | train_loss: 0.0557304 | validation_loss: 0.049706675 | Roc Score: 0.9563365 | Time elapsed: 1:25:37.260509\n",
            "iterations: 586 | train_loss: 0.053324867 | validation_loss: 0.049775753 | Roc Score: 0.9563817 | Time elapsed: 1:25:45.668910\n",
            "iterations: 587 | train_loss: 0.034029692 | validation_loss: 0.05013165 | Roc Score: 0.9564249 | Time elapsed: 1:25:54.748819\n",
            "iterations: 588 | train_loss: 0.03783278 | validation_loss: 0.05058965 | Roc Score: 0.95646423 | Time elapsed: 1:26:02.927596\n",
            "iterations: 589 | train_loss: 0.053834256 | validation_loss: 0.050725076 | Roc Score: 0.9565032 | Time elapsed: 1:26:12.460039\n",
            "iterations: 590 | train_loss: 0.045167245 | validation_loss: 0.05089118 | Roc Score: 0.95654196 | Time elapsed: 1:26:21.586309\n",
            "iterations: 591 | train_loss: 0.032081872 | validation_loss: 0.05113046 | Roc Score: 0.9565797 | Time elapsed: 1:26:30.502198\n",
            "iterations: 592 | train_loss: 0.019164346 | validation_loss: 0.05138915 | Roc Score: 0.95661813 | Time elapsed: 1:26:39.499793\n",
            "iterations: 593 | train_loss: 0.05460669 | validation_loss: 0.05212079 | Roc Score: 0.95665824 | Time elapsed: 1:26:48.606362\n",
            "iterations: 594 | train_loss: 0.04524066 | validation_loss: 0.053158212 | Roc Score: 0.95669925 | Time elapsed: 1:26:57.512801\n",
            "iterations: 595 | train_loss: 0.05239852 | validation_loss: 0.051345494 | Roc Score: 0.9567413 | Time elapsed: 1:27:06.800770\n",
            "iterations: 596 | train_loss: 0.0464243 | validation_loss: 0.050670736 | Roc Score: 0.95678043 | Time elapsed: 1:27:15.700863\n",
            "iterations: 597 | train_loss: 0.041358296 | validation_loss: 0.051370148 | Roc Score: 0.9568138 | Time elapsed: 1:27:24.446812\n",
            "iterations: 598 | train_loss: 0.0318216 | validation_loss: 0.052586224 | Roc Score: 0.9568438 | Time elapsed: 1:27:33.556404\n",
            "iterations: 599 | train_loss: 0.06448343 | validation_loss: 0.052252613 | Roc Score: 0.9568756 | Time elapsed: 1:27:42.810070\n",
            "iterations: 600 | train_loss: 0.04481517 | validation_loss: 0.051620323 | Roc Score: 0.95691216 | Time elapsed: 1:27:51.773121\n",
            "iterations: 601 | train_loss: 0.054598235 | validation_loss: 0.051144913 | Roc Score: 0.9569507 | Time elapsed: 1:28:00.975244\n",
            "iterations: 602 | train_loss: 0.041061435 | validation_loss: 0.051379405 | Roc Score: 0.95699084 | Time elapsed: 1:28:09.943438\n",
            "iterations: 603 | train_loss: 0.040010393 | validation_loss: 0.05175531 | Roc Score: 0.957032 | Time elapsed: 1:28:18.940383\n",
            "iterations: 604 | train_loss: 0.07400843 | validation_loss: 0.051801927 | Roc Score: 0.9570742 | Time elapsed: 1:28:28.184933\n",
            "iterations: 605 | train_loss: 0.034591068 | validation_loss: 0.051300276 | Roc Score: 0.95711744 | Time elapsed: 1:28:36.445246\n",
            "iterations: 606 | train_loss: 0.067096 | validation_loss: 0.05056792 | Roc Score: 0.9571588 | Time elapsed: 1:28:44.889283\n",
            "iterations: 607 | train_loss: 0.03208274 | validation_loss: 0.05002924 | Roc Score: 0.9571987 | Time elapsed: 1:28:54.052956\n",
            "iterations: 608 | train_loss: 0.030675821 | validation_loss: 0.05007079 | Roc Score: 0.9572365 | Time elapsed: 1:29:03.379644\n",
            "iterations: 609 | train_loss: 0.04904165 | validation_loss: 0.05010738 | Roc Score: 0.95727396 | Time elapsed: 1:29:12.058800\n",
            "iterations: 610 | train_loss: 0.0464345 | validation_loss: 0.0500182 | Roc Score: 0.9573124 | Time elapsed: 1:29:21.066771\n",
            "iterations: 611 | train_loss: 0.05357505 | validation_loss: 0.049936775 | Roc Score: 0.9573517 | Time elapsed: 1:29:29.893094\n",
            "iterations: 612 | train_loss: 0.045864664 | validation_loss: 0.04969127 | Roc Score: 0.95739186 | Time elapsed: 1:29:38.579484\n",
            "iterations: 613 | train_loss: 0.033031516 | validation_loss: 0.049598973 | Roc Score: 0.95743346 | Time elapsed: 1:29:46.957670\n",
            "iterations: 614 | train_loss: 0.047453515 | validation_loss: 0.04955988 | Roc Score: 0.95747626 | Time elapsed: 1:29:56.122364\n",
            "iterations: 615 | train_loss: 0.06324829 | validation_loss: 0.049351867 | Roc Score: 0.95751935 | Time elapsed: 1:30:05.301270\n",
            "iterations: 616 | train_loss: 0.042305868 | validation_loss: 0.04921374 | Roc Score: 0.95756304 | Time elapsed: 1:30:14.337853\n",
            "iterations: 617 | train_loss: 0.041001253 | validation_loss: 0.04919098 | Roc Score: 0.9576064 | Time elapsed: 1:30:23.709861\n",
            "iterations: 618 | train_loss: 0.03221593 | validation_loss: 0.04933298 | Roc Score: 0.9576492 | Time elapsed: 1:30:31.879708\n",
            "iterations: 619 | train_loss: 0.06152772 | validation_loss: 0.049152765 | Roc Score: 0.9576919 | Time elapsed: 1:30:40.600164\n",
            "iterations: 620 | train_loss: 0.04744255 | validation_loss: 0.049024194 | Roc Score: 0.95773536 | Time elapsed: 1:30:48.551425\n",
            "iterations: 621 | train_loss: 0.050324235 | validation_loss: 0.049072146 | Roc Score: 0.95777845 | Time elapsed: 1:30:56.689809\n",
            "iterations: 622 | train_loss: 0.04573678 | validation_loss: 0.049112976 | Roc Score: 0.95782244 | Time elapsed: 1:31:05.103710\n",
            "iterations: 623 | train_loss: 0.042649973 | validation_loss: 0.049223833 | Roc Score: 0.9578663 | Time elapsed: 1:31:13.698671\n"
          ],
          "name": "stdout"
        },
        {
          "output_type": "stream",
          "text": [
            "iterations: 624 | train_loss: 0.04360765 | validation_loss: 0.049413174 | Roc Score: 0.95791024 | Time elapsed: 1:31:21.617887\n",
            "iterations: 625 | train_loss: 0.061246186 | validation_loss: 0.0497841 | Roc Score: 0.9579539 | Time elapsed: 1:31:30.577724\n",
            "iterations: 626 | train_loss: 0.04867904 | validation_loss: 0.05029069 | Roc Score: 0.95799583 | Time elapsed: 1:31:39.004627\n",
            "iterations: 627 | train_loss: 0.046010017 | validation_loss: 0.050304048 | Roc Score: 0.95803714 | Time elapsed: 1:31:48.191780\n",
            "iterations: 628 | train_loss: 0.041134477 | validation_loss: 0.050311178 | Roc Score: 0.9580766 | Time elapsed: 1:31:56.450750\n",
            "iterations: 629 | train_loss: 0.03804259 | validation_loss: 0.050590128 | Roc Score: 0.95811576 | Time elapsed: 1:32:04.554375\n",
            "iterations: 630 | train_loss: 0.05216474 | validation_loss: 0.050111197 | Roc Score: 0.95815396 | Time elapsed: 1:32:12.917320\n",
            "iterations: 631 | train_loss: 0.050639354 | validation_loss: 0.05009056 | Roc Score: 0.9581893 | Time elapsed: 1:32:21.974154\n",
            "iterations: 632 | train_loss: 0.046523403 | validation_loss: 0.050550036 | Roc Score: 0.9582216 | Time elapsed: 1:32:30.884376\n",
            "iterations: 633 | train_loss: 0.033742454 | validation_loss: 0.050872702 | Roc Score: 0.9582518 | Time elapsed: 1:32:39.435060\n",
            "iterations: 634 | train_loss: 0.03603708 | validation_loss: 0.05100649 | Roc Score: 0.9582818 | Time elapsed: 1:32:47.962699\n",
            "iterations: 635 | train_loss: 0.027471209 | validation_loss: 0.051239144 | Roc Score: 0.9583088 | Time elapsed: 1:32:56.172456\n",
            "iterations: 636 | train_loss: 0.050028864 | validation_loss: 0.05085274 | Roc Score: 0.95833904 | Time elapsed: 1:33:05.058979\n",
            "iterations: 637 | train_loss: 0.053039685 | validation_loss: 0.050063122 | Roc Score: 0.95837355 | Time elapsed: 1:33:13.482690\n",
            "iterations: 638 | train_loss: 0.053574212 | validation_loss: 0.049945477 | Roc Score: 0.9584099 | Time elapsed: 1:33:21.812133\n",
            "iterations: 639 | train_loss: 0.04859026 | validation_loss: 0.050130513 | Roc Score: 0.9584477 | Time elapsed: 1:33:29.721748\n",
            "iterations: 640 | train_loss: 0.044122826 | validation_loss: 0.049932797 | Roc Score: 0.9584851 | Time elapsed: 1:33:38.587492\n",
            "iterations: 641 | train_loss: 0.041393504 | validation_loss: 0.049620595 | Roc Score: 0.9585225 | Time elapsed: 1:33:47.746413\n",
            "iterations: 642 | train_loss: 0.04267079 | validation_loss: 0.049537905 | Roc Score: 0.95855856 | Time elapsed: 1:33:56.880534\n",
            "iterations: 643 | train_loss: 0.03163169 | validation_loss: 0.04963157 | Roc Score: 0.9585946 | Time elapsed: 1:34:06.125286\n",
            "iterations: 644 | train_loss: 0.0435458 | validation_loss: 0.049637154 | Roc Score: 0.95863074 | Time elapsed: 1:34:15.126957\n",
            "iterations: 645 | train_loss: 0.025783356 | validation_loss: 0.04982543 | Roc Score: 0.9586661 | Time elapsed: 1:34:23.715270\n",
            "iterations: 646 | train_loss: 0.048100073 | validation_loss: 0.05016579 | Roc Score: 0.95869994 | Time elapsed: 1:34:32.770054\n",
            "iterations: 647 | train_loss: 0.057901777 | validation_loss: 0.05014579 | Roc Score: 0.9587339 | Time elapsed: 1:34:41.913068\n",
            "iterations: 648 | train_loss: 0.042526886 | validation_loss: 0.049836285 | Roc Score: 0.95876694 | Time elapsed: 1:34:51.117688\n",
            "iterations: 649 | train_loss: 0.034722853 | validation_loss: 0.049507484 | Roc Score: 0.9588027 | Time elapsed: 1:35:00.038525\n",
            "iterations: 650 | train_loss: 0.04083367 | validation_loss: 0.049167573 | Roc Score: 0.9588403 | Time elapsed: 1:35:08.758446\n",
            "iterations: 651 | train_loss: 0.03810424 | validation_loss: 0.04918285 | Roc Score: 0.95887786 | Time elapsed: 1:35:17.406543\n",
            "iterations: 652 | train_loss: 0.03356054 | validation_loss: 0.049147394 | Roc Score: 0.958916 | Time elapsed: 1:35:26.123159\n",
            "iterations: 653 | train_loss: 0.04901289 | validation_loss: 0.049052007 | Roc Score: 0.9589545 | Time elapsed: 1:35:35.039675\n",
            "iterations: 654 | train_loss: 0.04123399 | validation_loss: 0.048908286 | Roc Score: 0.9589936 | Time elapsed: 1:35:44.118811\n",
            "iterations: 655 | train_loss: 0.051126923 | validation_loss: 0.048750132 | Roc Score: 0.95903194 | Time elapsed: 1:35:52.993889\n",
            "iterations: 656 | train_loss: 0.06097511 | validation_loss: 0.048493475 | Roc Score: 0.95906967 | Time elapsed: 1:36:01.253960\n",
            "iterations: 657 | train_loss: 0.04709717 | validation_loss: 0.048456356 | Roc Score: 0.9591068 | Time elapsed: 1:36:09.606203\n",
            "iterations: 658 | train_loss: 0.027966363 | validation_loss: 0.048621163 | Roc Score: 0.9591414 | Time elapsed: 1:36:18.480781\n",
            "iterations: 659 | train_loss: 0.037666112 | validation_loss: 0.048906803 | Roc Score: 0.95917535 | Time elapsed: 1:36:27.788062\n",
            "iterations: 660 | train_loss: 0.049554057 | validation_loss: 0.049081452 | Roc Score: 0.9592076 | Time elapsed: 1:36:36.913296\n",
            "iterations: 661 | train_loss: 0.044712465 | validation_loss: 0.048953015 | Roc Score: 0.9592408 | Time elapsed: 1:36:45.889327\n",
            "iterations: 662 | train_loss: 0.06296137 | validation_loss: 0.04878289 | Roc Score: 0.9592775 | Time elapsed: 1:36:55.163207\n"
          ],
          "name": "stdout"
        },
        {
          "output_type": "stream",
          "text": [
            "iterations: 663 | train_loss: 0.061679244 | validation_loss: 0.049638677 | Roc Score: 0.95931524 | Time elapsed: 1:37:04.058798\n",
            "iterations: 664 | train_loss: 0.046545472 | validation_loss: 0.050990693 | Roc Score: 0.9593505 | Time elapsed: 1:37:13.149656\n",
            "iterations: 665 | train_loss: 0.048898336 | validation_loss: 0.051913776 | Roc Score: 0.95938534 | Time elapsed: 1:37:22.115548\n",
            "iterations: 666 | train_loss: 0.05642082 | validation_loss: 0.051744137 | Roc Score: 0.95941985 | Time elapsed: 1:37:31.069831\n",
            "iterations: 667 | train_loss: 0.040591404 | validation_loss: 0.050753392 | Roc Score: 0.9594551 | Time elapsed: 1:37:39.981394\n",
            "iterations: 668 | train_loss: 0.041927043 | validation_loss: 0.04997668 | Roc Score: 0.95949113 | Time elapsed: 1:37:48.889904\n",
            "iterations: 669 | train_loss: 0.04660752 | validation_loss: 0.04972709 | Roc Score: 0.9595246 | Time elapsed: 1:37:57.741193\n",
            "iterations: 670 | train_loss: 0.067932695 | validation_loss: 0.050283656 | Roc Score: 0.9595557 | Time elapsed: 1:38:06.646697\n",
            "iterations: 671 | train_loss: 0.031784598 | validation_loss: 0.050941642 | Roc Score: 0.959586 | Time elapsed: 1:38:15.546375\n",
            "iterations: 672 | train_loss: 0.050367475 | validation_loss: 0.05095355 | Roc Score: 0.9596156 | Time elapsed: 1:38:24.395907\n",
            "iterations: 673 | train_loss: 0.03522098 | validation_loss: 0.050312877 | Roc Score: 0.959646 | Time elapsed: 1:38:33.496257\n",
            "iterations: 674 | train_loss: 0.043434832 | validation_loss: 0.049796335 | Roc Score: 0.95967764 | Time elapsed: 1:38:42.396000\n",
            "iterations: 675 | train_loss: 0.06695031 | validation_loss: 0.049355693 | Roc Score: 0.95970976 | Time elapsed: 1:38:51.126418\n",
            "iterations: 676 | train_loss: 0.02775079 | validation_loss: 0.049029555 | Roc Score: 0.95974237 | Time elapsed: 1:39:00.061583\n",
            "iterations: 677 | train_loss: 0.044015218 | validation_loss: 0.048960358 | Roc Score: 0.95977664 | Time elapsed: 1:39:08.595008\n",
            "iterations: 678 | train_loss: 0.051462878 | validation_loss: 0.049516052 | Roc Score: 0.9598111 | Time elapsed: 1:39:16.498230\n",
            "iterations: 679 | train_loss: 0.045646176 | validation_loss: 0.050279792 | Roc Score: 0.95984524 | Time elapsed: 1:39:25.866433\n",
            "iterations: 680 | train_loss: 0.036143415 | validation_loss: 0.05058022 | Roc Score: 0.95987946 | Time elapsed: 1:39:35.233334\n",
            "iterations: 681 | train_loss: 0.044760056 | validation_loss: 0.050526775 | Roc Score: 0.9599138 | Time elapsed: 1:39:44.181494\n",
            "iterations: 682 | train_loss: 0.055031415 | validation_loss: 0.049946133 | Roc Score: 0.959946 | Time elapsed: 1:39:53.137957\n",
            "iterations: 683 | train_loss: 0.046078905 | validation_loss: 0.049757775 | Roc Score: 0.9599767 | Time elapsed: 1:40:02.396996\n",
            "iterations: 684 | train_loss: 0.06068391 | validation_loss: 0.049747583 | Roc Score: 0.96000385 | Time elapsed: 1:40:11.157190\n",
            "iterations: 685 | train_loss: 0.04843037 | validation_loss: 0.049789377 | Roc Score: 0.9600309 | Time elapsed: 1:40:19.740162\n",
            "iterations: 686 | train_loss: 0.07321682 | validation_loss: 0.04980265 | Roc Score: 0.9600575 | Time elapsed: 1:40:28.060954\n",
            "iterations: 687 | train_loss: 0.04448595 | validation_loss: 0.049872108 | Roc Score: 0.9600842 | Time elapsed: 1:40:36.105232\n",
            "iterations: 688 | train_loss: 0.06744561 | validation_loss: 0.049913976 | Roc Score: 0.96011066 | Time elapsed: 1:40:44.464349\n",
            "iterations: 689 | train_loss: 0.04232668 | validation_loss: 0.050015055 | Roc Score: 0.960137 | Time elapsed: 1:40:53.132105\n",
            "iterations: 690 | train_loss: 0.06772626 | validation_loss: 0.05000488 | Roc Score: 0.96016335 | Time elapsed: 1:41:02.270044\n",
            "iterations: 691 | train_loss: 0.048477042 | validation_loss: 0.05011471 | Roc Score: 0.9601899 | Time elapsed: 1:41:10.177995\n",
            "iterations: 692 | train_loss: 0.05918661 | validation_loss: 0.05044857 | Roc Score: 0.9602185 | Time elapsed: 1:41:18.927143\n",
            "iterations: 693 | train_loss: 0.055556286 | validation_loss: 0.050976586 | Roc Score: 0.9602465 | Time elapsed: 1:41:27.232082\n",
            "iterations: 694 | train_loss: 0.049484946 | validation_loss: 0.051510993 | Roc Score: 0.96027344 | Time elapsed: 1:41:36.210495\n",
            "iterations: 695 | train_loss: 0.04861908 | validation_loss: 0.051606536 | Roc Score: 0.96029913 | Time elapsed: 1:41:44.797546\n",
            "iterations: 696 | train_loss: 0.049744148 | validation_loss: 0.051783394 | Roc Score: 0.96032447 | Time elapsed: 1:41:53.718270\n",
            "iterations: 697 | train_loss: 0.04152428 | validation_loss: 0.05149624 | Roc Score: 0.9603501 | Time elapsed: 1:42:01.380014\n",
            "iterations: 698 | train_loss: 0.05339545 | validation_loss: 0.051247258 | Roc Score: 0.96037555 | Time elapsed: 1:42:09.594810\n",
            "iterations: 699 | train_loss: 0.02276794 | validation_loss: 0.051440235 | Roc Score: 0.9604006 | Time elapsed: 1:42:18.518572\n",
            "iterations: 700 | train_loss: 0.055827305 | validation_loss: 0.05199861 | Roc Score: 0.9604234 | Time elapsed: 1:42:27.715867\n",
            "iterations: 701 | train_loss: 0.054977905 | validation_loss: 0.05217898 | Roc Score: 0.960445 | Time elapsed: 1:42:35.948746\n"
          ],
          "name": "stdout"
        },
        {
          "output_type": "stream",
          "text": [
            "iterations: 702 | train_loss: 0.034521997 | validation_loss: 0.05223297 | Roc Score: 0.9604664 | Time elapsed: 1:42:43.891151\n",
            "iterations: 703 | train_loss: 0.044428587 | validation_loss: 0.052174505 | Roc Score: 0.9604871 | Time elapsed: 1:42:52.266880\n",
            "iterations: 704 | train_loss: 0.044892192 | validation_loss: 0.05151118 | Roc Score: 0.960509 | Time elapsed: 1:43:00.764972\n",
            "iterations: 705 | train_loss: 0.049227946 | validation_loss: 0.05152861 | Roc Score: 0.960533 | Time elapsed: 1:43:09.352046\n",
            "iterations: 706 | train_loss: 0.041198228 | validation_loss: 0.052214857 | Roc Score: 0.9605577 | Time elapsed: 1:43:17.247684\n",
            "iterations: 707 | train_loss: 0.055565447 | validation_loss: 0.053150043 | Roc Score: 0.9605828 | Time elapsed: 1:43:26.265225\n",
            "iterations: 708 | train_loss: 0.048148844 | validation_loss: 0.053403456 | Roc Score: 0.96060777 | Time elapsed: 1:43:34.204519\n",
            "iterations: 709 | train_loss: 0.055693682 | validation_loss: 0.051912274 | Roc Score: 0.96063477 | Time elapsed: 1:43:42.938917\n",
            "iterations: 710 | train_loss: 0.025294716 | validation_loss: 0.050547153 | Roc Score: 0.960663 | Time elapsed: 1:43:52.011070\n",
            "iterations: 711 | train_loss: 0.04672605 | validation_loss: 0.0504022 | Roc Score: 0.9606885 | Time elapsed: 1:44:00.899007\n",
            "iterations: 712 | train_loss: 0.037248116 | validation_loss: 0.05201286 | Roc Score: 0.9607099 | Time elapsed: 1:44:09.994899\n",
            "iterations: 713 | train_loss: 0.06190238 | validation_loss: 0.053364605 | Roc Score: 0.96072793 | Time elapsed: 1:44:18.896944\n",
            "iterations: 714 | train_loss: 0.03997459 | validation_loss: 0.054107077 | Roc Score: 0.9607446 | Time elapsed: 1:44:27.752615\n",
            "iterations: 715 | train_loss: 0.041792925 | validation_loss: 0.053482946 | Roc Score: 0.9607629 | Time elapsed: 1:44:36.635745\n",
            "iterations: 716 | train_loss: 0.046562728 | validation_loss: 0.05221008 | Roc Score: 0.9607854 | Time elapsed: 1:44:45.934455\n",
            "iterations: 717 | train_loss: 0.031041356 | validation_loss: 0.051212113 | Roc Score: 0.9608102 | Time elapsed: 1:44:55.001816\n",
            "iterations: 718 | train_loss: 0.046622608 | validation_loss: 0.050252497 | Roc Score: 0.96083784 | Time elapsed: 1:45:04.082996\n",
            "iterations: 719 | train_loss: 0.05201747 | validation_loss: 0.049970455 | Roc Score: 0.9608667 | Time elapsed: 1:45:12.817933\n",
            "iterations: 720 | train_loss: 0.05563244 | validation_loss: 0.05102892 | Roc Score: 0.9608946 | Time elapsed: 1:45:21.865422\n",
            "iterations: 721 | train_loss: 0.04685861 | validation_loss: 0.05198825 | Roc Score: 0.96092165 | Time elapsed: 1:45:30.727157\n",
            "iterations: 722 | train_loss: 0.047924493 | validation_loss: 0.05195271 | Roc Score: 0.9609493 | Time elapsed: 1:45:39.651149\n",
            "iterations: 723 | train_loss: 0.047726903 | validation_loss: 0.051795546 | Roc Score: 0.9609773 | Time elapsed: 1:45:48.525036\n",
            "iterations: 724 | train_loss: 0.043708757 | validation_loss: 0.050793026 | Roc Score: 0.9610066 | Time elapsed: 1:45:57.276071\n",
            "iterations: 725 | train_loss: 0.03640473 | validation_loss: 0.050056797 | Roc Score: 0.9610347 | Time elapsed: 1:46:06.243850\n",
            "iterations: 726 | train_loss: 0.040944178 | validation_loss: 0.049819767 | Roc Score: 0.9610605 | Time elapsed: 1:46:15.113621\n",
            "iterations: 727 | train_loss: 0.038379963 | validation_loss: 0.05028166 | Roc Score: 0.96108353 | Time elapsed: 1:46:24.010153\n",
            "iterations: 728 | train_loss: 0.03898776 | validation_loss: 0.05137945 | Roc Score: 0.96110356 | Time elapsed: 1:46:33.125782\n",
            "iterations: 729 | train_loss: 0.06245677 | validation_loss: 0.05194162 | Roc Score: 0.9611216 | Time elapsed: 1:46:42.057636\n",
            "iterations: 730 | train_loss: 0.048612926 | validation_loss: 0.05194118 | Roc Score: 0.9611395 | Time elapsed: 1:46:50.920058\n",
            "iterations: 731 | train_loss: 0.0639709 | validation_loss: 0.050254967 | Roc Score: 0.96116275 | Time elapsed: 1:46:59.741906\n",
            "iterations: 732 | train_loss: 0.040074367 | validation_loss: 0.04931125 | Roc Score: 0.9611904 | Time elapsed: 1:47:08.738679\n",
            "iterations: 733 | train_loss: 0.040111624 | validation_loss: 0.04989988 | Roc Score: 0.96121913 | Time elapsed: 1:47:17.671513\n",
            "iterations: 734 | train_loss: 0.046959326 | validation_loss: 0.050470162 | Roc Score: 0.96124715 | Time elapsed: 1:47:26.593609\n",
            "iterations: 735 | train_loss: 0.055829857 | validation_loss: 0.05079301 | Roc Score: 0.96127576 | Time elapsed: 1:47:35.562653\n",
            "iterations: 736 | train_loss: 0.028524507 | validation_loss: 0.050244328 | Roc Score: 0.9613037 | Time elapsed: 1:47:44.903144\n",
            "iterations: 737 | train_loss: 0.06731419 | validation_loss: 0.05003999 | Roc Score: 0.9613317 | Time elapsed: 1:47:53.919766\n",
            "iterations: 738 | train_loss: 0.057273198 | validation_loss: 0.050279804 | Roc Score: 0.96136034 | Time elapsed: 1:48:02.703737\n",
            "iterations: 739 | train_loss: 0.03962246 | validation_loss: 0.050360166 | Roc Score: 0.96138763 | Time elapsed: 1:48:11.880276\n",
            "iterations: 740 | train_loss: 0.048936814 | validation_loss: 0.05043552 | Roc Score: 0.96141386 | Time elapsed: 1:48:20.705119\n"
          ],
          "name": "stdout"
        },
        {
          "output_type": "stream",
          "text": [
            "iterations: 741 | train_loss: 0.062181283 | validation_loss: 0.050254885 | Roc Score: 0.9614393 | Time elapsed: 1:48:29.611399\n",
            "iterations: 742 | train_loss: 0.032975662 | validation_loss: 0.050091453 | Roc Score: 0.961464 | Time elapsed: 1:48:38.800881\n",
            "iterations: 743 | train_loss: 0.04057568 | validation_loss: 0.050291166 | Roc Score: 0.96148735 | Time elapsed: 1:48:47.991511\n",
            "iterations: 744 | train_loss: 0.045457587 | validation_loss: 0.050330155 | Roc Score: 0.9615095 | Time elapsed: 1:48:56.828978\n",
            "iterations: 745 | train_loss: 0.03855198 | validation_loss: 0.05017051 | Roc Score: 0.9615317 | Time elapsed: 1:49:05.557712\n",
            "iterations: 746 | train_loss: 0.03302289 | validation_loss: 0.049817003 | Roc Score: 0.96155524 | Time elapsed: 1:49:14.469033\n",
            "iterations: 747 | train_loss: 0.061021563 | validation_loss: 0.049332988 | Roc Score: 0.96158046 | Time elapsed: 1:49:22.775276\n",
            "iterations: 748 | train_loss: 0.05248329 | validation_loss: 0.049169265 | Roc Score: 0.9616068 | Time elapsed: 1:49:31.405584\n",
            "iterations: 749 | train_loss: 0.044141877 | validation_loss: 0.04919957 | Roc Score: 0.96163213 | Time elapsed: 1:49:39.958201\n",
            "iterations: 750 | train_loss: 0.057304457 | validation_loss: 0.049392045 | Roc Score: 0.961658 | Time elapsed: 1:49:48.625624\n",
            "iterations: 751 | train_loss: 0.05676884 | validation_loss: 0.050007496 | Roc Score: 0.9616839 | Time elapsed: 1:49:57.380490\n",
            "iterations: 752 | train_loss: 0.038231317 | validation_loss: 0.050168023 | Roc Score: 0.96171016 | Time elapsed: 1:50:06.029493\n",
            "iterations: 753 | train_loss: 0.040708505 | validation_loss: 0.04997158 | Roc Score: 0.96173704 | Time elapsed: 1:50:14.880458\n",
            "iterations: 754 | train_loss: 0.0316758 | validation_loss: 0.04943522 | Roc Score: 0.961764 | Time elapsed: 1:50:23.026344\n",
            "iterations: 755 | train_loss: 0.043242324 | validation_loss: 0.049076628 | Roc Score: 0.96179175 | Time elapsed: 1:50:31.262498\n",
            "iterations: 756 | train_loss: 0.028942639 | validation_loss: 0.048849437 | Roc Score: 0.9618187 | Time elapsed: 1:50:39.241169\n",
            "iterations: 757 | train_loss: 0.029272763 | validation_loss: 0.04938153 | Roc Score: 0.9618436 | Time elapsed: 1:50:47.419680\n",
            "iterations: 758 | train_loss: 0.034431897 | validation_loss: 0.050417252 | Roc Score: 0.96186596 | Time elapsed: 1:50:55.313578\n",
            "iterations: 759 | train_loss: 0.030017052 | validation_loss: 0.051804256 | Roc Score: 0.9618858 | Time elapsed: 1:51:03.836986\n",
            "iterations: 760 | train_loss: 0.046849824 | validation_loss: 0.05274202 | Roc Score: 0.9619026 | Time elapsed: 1:51:12.078181\n",
            "iterations: 761 | train_loss: 0.062922 | validation_loss: 0.053143498 | Roc Score: 0.9619189 | Time elapsed: 1:51:21.299286\n",
            "iterations: 762 | train_loss: 0.058016643 | validation_loss: 0.053058825 | Roc Score: 0.96193606 | Time elapsed: 1:51:30.284656\n",
            "iterations: 763 | train_loss: 0.049544297 | validation_loss: 0.052132457 | Roc Score: 0.961956 | Time elapsed: 1:51:38.534585\n",
            "iterations: 764 | train_loss: 0.048675306 | validation_loss: 0.050759677 | Roc Score: 0.9619798 | Time elapsed: 1:51:47.704671\n",
            "iterations: 765 | train_loss: 0.029228967 | validation_loss: 0.049844045 | Roc Score: 0.96200514 | Time elapsed: 1:51:56.619527\n",
            "iterations: 766 | train_loss: 0.042178232 | validation_loss: 0.04928281 | Roc Score: 0.9620314 | Time elapsed: 1:52:05.948626\n",
            "iterations: 767 | train_loss: 0.056023967 | validation_loss: 0.049309906 | Roc Score: 0.9620593 | Time elapsed: 1:52:14.561278\n",
            "iterations: 768 | train_loss: 0.05354569 | validation_loss: 0.05004879 | Roc Score: 0.9620864 | Time elapsed: 1:52:22.979829\n",
            "iterations: 769 | train_loss: 0.041378472 | validation_loss: 0.050162036 | Roc Score: 0.9621134 | Time elapsed: 1:52:31.833352\n",
            "iterations: 770 | train_loss: 0.036805857 | validation_loss: 0.04981805 | Roc Score: 0.9621408 | Time elapsed: 1:52:40.130847\n",
            "iterations: 771 | train_loss: 0.055232372 | validation_loss: 0.049326256 | Roc Score: 0.9621681 | Time elapsed: 1:52:49.245510\n",
            "iterations: 772 | train_loss: 0.06009327 | validation_loss: 0.04917405 | Roc Score: 0.9621959 | Time elapsed: 1:52:58.466020\n",
            "iterations: 773 | train_loss: 0.05058424 | validation_loss: 0.04926285 | Roc Score: 0.9622213 | Time elapsed: 1:53:07.452078\n",
            "iterations: 774 | train_loss: 0.04859899 | validation_loss: 0.049473282 | Roc Score: 0.9622454 | Time elapsed: 1:53:16.705666\n",
            "iterations: 775 | train_loss: 0.0502231 | validation_loss: 0.04952266 | Roc Score: 0.9622685 | Time elapsed: 1:53:25.527580\n",
            "iterations: 776 | train_loss: 0.034433167 | validation_loss: 0.049793977 | Roc Score: 0.96229047 | Time elapsed: 1:53:34.472067\n",
            "iterations: 777 | train_loss: 0.049838148 | validation_loss: 0.050085668 | Roc Score: 0.96231186 | Time elapsed: 1:53:43.190272\n",
            "iterations: 778 | train_loss: 0.03883406 | validation_loss: 0.050139207 | Roc Score: 0.9623336 | Time elapsed: 1:53:51.907478\n",
            "iterations: 779 | train_loss: 0.045643285 | validation_loss: 0.049670342 | Roc Score: 0.96235603 | Time elapsed: 1:54:00.963673\n"
          ],
          "name": "stdout"
        },
        {
          "output_type": "stream",
          "text": [
            "iterations: 780 | train_loss: 0.036686067 | validation_loss: 0.04947021 | Roc Score: 0.9623787 | Time elapsed: 1:54:10.096253\n",
            "iterations: 781 | train_loss: 0.043117557 | validation_loss: 0.049194522 | Roc Score: 0.9624029 | Time elapsed: 1:54:19.174766\n",
            "iterations: 782 | train_loss: 0.0355264 | validation_loss: 0.048941582 | Roc Score: 0.9624279 | Time elapsed: 1:54:28.280190\n",
            "iterations: 783 | train_loss: 0.030436736 | validation_loss: 0.048829067 | Roc Score: 0.9624544 | Time elapsed: 1:54:37.545874\n",
            "iterations: 784 | train_loss: 0.045348674 | validation_loss: 0.048810784 | Roc Score: 0.9624811 | Time elapsed: 1:54:46.283780\n",
            "iterations: 785 | train_loss: 0.05897988 | validation_loss: 0.048847433 | Roc Score: 0.96250844 | Time elapsed: 1:54:54.859865\n",
            "iterations: 786 | train_loss: 0.05243686 | validation_loss: 0.04887881 | Roc Score: 0.9625356 | Time elapsed: 1:55:02.770725\n",
            "iterations: 787 | train_loss: 0.05809936 | validation_loss: 0.04910662 | Roc Score: 0.9625624 | Time elapsed: 1:55:11.709668\n",
            "iterations: 788 | train_loss: 0.048878126 | validation_loss: 0.049063776 | Roc Score: 0.96258867 | Time elapsed: 1:55:20.351708\n",
            "iterations: 789 | train_loss: 0.039060302 | validation_loss: 0.049094696 | Roc Score: 0.96261495 | Time elapsed: 1:55:29.393952\n",
            "iterations: 790 | train_loss: 0.03419122 | validation_loss: 0.048950326 | Roc Score: 0.96264076 | Time elapsed: 1:55:38.391618\n",
            "iterations: 791 | train_loss: 0.054869596 | validation_loss: 0.048932612 | Roc Score: 0.962666 | Time elapsed: 1:55:46.808070\n",
            "iterations: 792 | train_loss: 0.053319704 | validation_loss: 0.048985664 | Roc Score: 0.9626911 | Time elapsed: 1:55:55.476487\n",
            "iterations: 793 | train_loss: 0.04537252 | validation_loss: 0.04910394 | Roc Score: 0.962716 | Time elapsed: 1:56:04.357556\n",
            "iterations: 794 | train_loss: 0.051932562 | validation_loss: 0.049214017 | Roc Score: 0.9627407 | Time elapsed: 1:56:13.404242\n",
            "iterations: 795 | train_loss: 0.036796596 | validation_loss: 0.04949733 | Roc Score: 0.9627643 | Time elapsed: 1:56:22.351193\n",
            "iterations: 796 | train_loss: 0.0717983 | validation_loss: 0.049364142 | Roc Score: 0.9627875 | Time elapsed: 1:56:31.155679\n",
            "iterations: 797 | train_loss: 0.053712476 | validation_loss: 0.04907301 | Roc Score: 0.96281177 | Time elapsed: 1:56:40.248591\n",
            "iterations: 798 | train_loss: 0.029283095 | validation_loss: 0.04890583 | Roc Score: 0.96283644 | Time elapsed: 1:56:49.054031\n",
            "iterations: 799 | train_loss: 0.045667086 | validation_loss: 0.048710633 | Roc Score: 0.9628616 | Time elapsed: 1:56:58.205380\n",
            "iterations: 800 | train_loss: 0.03543787 | validation_loss: 0.04862488 | Roc Score: 0.9628865 | Time elapsed: 1:57:06.921376\n",
            "iterations: 801 | train_loss: 0.033115357 | validation_loss: 0.048625477 | Roc Score: 0.96291184 | Time elapsed: 1:57:16.014506\n",
            "iterations: 802 | train_loss: 0.047233246 | validation_loss: 0.048710447 | Roc Score: 0.9629373 | Time elapsed: 1:57:25.158794\n",
            "iterations: 803 | train_loss: 0.03976123 | validation_loss: 0.048716724 | Roc Score: 0.9629621 | Time elapsed: 1:57:34.250801\n",
            "iterations: 804 | train_loss: 0.03904501 | validation_loss: 0.04875043 | Roc Score: 0.9629863 | Time elapsed: 1:57:42.241198\n",
            "iterations: 805 | train_loss: 0.03678677 | validation_loss: 0.04893478 | Roc Score: 0.9630092 | Time elapsed: 1:57:51.254110\n",
            "iterations: 806 | train_loss: 0.05802472 | validation_loss: 0.048948 | Roc Score: 0.9630318 | Time elapsed: 1:57:59.745666\n",
            "iterations: 807 | train_loss: 0.043851778 | validation_loss: 0.048989426 | Roc Score: 0.96305466 | Time elapsed: 1:58:08.992636\n",
            "iterations: 808 | train_loss: 0.045083955 | validation_loss: 0.048888687 | Roc Score: 0.9630771 | Time elapsed: 1:58:17.877088\n",
            "iterations: 809 | train_loss: 0.035697103 | validation_loss: 0.049107637 | Roc Score: 0.9630986 | Time elapsed: 1:58:26.554918\n",
            "iterations: 810 | train_loss: 0.04309617 | validation_loss: 0.049420558 | Roc Score: 0.9631191 | Time elapsed: 1:58:34.661052\n",
            "iterations: 811 | train_loss: 0.05836717 | validation_loss: 0.04919891 | Roc Score: 0.9631401 | Time elapsed: 1:58:42.579282\n",
            "iterations: 812 | train_loss: 0.052312493 | validation_loss: 0.048875067 | Roc Score: 0.96316165 | Time elapsed: 1:58:51.189331\n",
            "iterations: 813 | train_loss: 0.044320695 | validation_loss: 0.049264204 | Roc Score: 0.963185 | Time elapsed: 1:58:59.076038\n",
            "iterations: 814 | train_loss: 0.046194863 | validation_loss: 0.049624357 | Roc Score: 0.9632083 | Time elapsed: 1:59:07.518398\n",
            "iterations: 815 | train_loss: 0.042461142 | validation_loss: 0.04937119 | Roc Score: 0.96323115 | Time elapsed: 1:59:16.437537\n",
            "iterations: 816 | train_loss: 0.035480812 | validation_loss: 0.049543496 | Roc Score: 0.963253 | Time elapsed: 1:59:25.268469\n",
            "iterations: 817 | train_loss: 0.05107213 | validation_loss: 0.04969158 | Roc Score: 0.9632746 | Time elapsed: 1:59:34.670812\n",
            "iterations: 818 | train_loss: 0.034294866 | validation_loss: 0.049744446 | Roc Score: 0.96329546 | Time elapsed: 1:59:42.904422\n"
          ],
          "name": "stdout"
        },
        {
          "output_type": "stream",
          "text": [
            "iterations: 819 | train_loss: 0.03517585 | validation_loss: 0.04978652 | Roc Score: 0.96331626 | Time elapsed: 1:59:52.133792\n",
            "iterations: 820 | train_loss: 0.047999978 | validation_loss: 0.049980834 | Roc Score: 0.96333647 | Time elapsed: 2:00:01.426183\n",
            "iterations: 821 | train_loss: 0.040993426 | validation_loss: 0.050283242 | Roc Score: 0.9633546 | Time elapsed: 2:00:10.425115\n",
            "iterations: 822 | train_loss: 0.03813657 | validation_loss: 0.050677598 | Roc Score: 0.963372 | Time elapsed: 2:00:19.705031\n",
            "iterations: 823 | train_loss: 0.034329206 | validation_loss: 0.050850447 | Roc Score: 0.96338814 | Time elapsed: 2:00:29.036166\n",
            "iterations: 824 | train_loss: 0.06774879 | validation_loss: 0.05008983 | Roc Score: 0.9634065 | Time elapsed: 2:00:37.699410\n",
            "iterations: 825 | train_loss: 0.04405526 | validation_loss: 0.0495597 | Roc Score: 0.9634256 | Time elapsed: 2:00:46.363646\n",
            "iterations: 826 | train_loss: 0.049010105 | validation_loss: 0.049306232 | Roc Score: 0.9634448 | Time elapsed: 2:00:54.901208\n",
            "iterations: 827 | train_loss: 0.036941063 | validation_loss: 0.049134497 | Roc Score: 0.963465 | Time elapsed: 2:01:03.622517\n",
            "iterations: 828 | train_loss: 0.057618376 | validation_loss: 0.04884808 | Roc Score: 0.9634866 | Time elapsed: 2:01:11.912995\n",
            "iterations: 829 | train_loss: 0.027854685 | validation_loss: 0.04870722 | Roc Score: 0.96350753 | Time elapsed: 2:01:21.130021\n",
            "iterations: 830 | train_loss: 0.02960923 | validation_loss: 0.048633106 | Roc Score: 0.9635282 | Time elapsed: 2:01:29.580371\n",
            "iterations: 831 | train_loss: 0.04202734 | validation_loss: 0.048787408 | Roc Score: 0.9635499 | Time elapsed: 2:01:38.110497\n",
            "iterations: 832 | train_loss: 0.051838927 | validation_loss: 0.048949454 | Roc Score: 0.96357167 | Time elapsed: 2:01:47.095439\n",
            "iterations: 833 | train_loss: 0.06785877 | validation_loss: 0.04926779 | Roc Score: 0.9635941 | Time elapsed: 2:01:56.016345\n",
            "iterations: 834 | train_loss: 0.047632832 | validation_loss: 0.049131718 | Roc Score: 0.96361595 | Time elapsed: 2:02:04.180346\n",
            "iterations: 835 | train_loss: 0.044488773 | validation_loss: 0.04852952 | Roc Score: 0.9636378 | Time elapsed: 2:02:13.065050\n",
            "iterations: 836 | train_loss: 0.032549053 | validation_loss: 0.048584744 | Roc Score: 0.963659 | Time elapsed: 2:02:21.844492\n",
            "iterations: 837 | train_loss: 0.034602527 | validation_loss: 0.049318917 | Roc Score: 0.963678 | Time elapsed: 2:02:31.017193\n",
            "iterations: 838 | train_loss: 0.045813333 | validation_loss: 0.05026157 | Roc Score: 0.9636945 | Time elapsed: 2:02:39.869292\n",
            "iterations: 839 | train_loss: 0.04594624 | validation_loss: 0.05010351 | Roc Score: 0.96371114 | Time elapsed: 2:02:48.629641\n",
            "iterations: 840 | train_loss: 0.08801388 | validation_loss: 0.049088214 | Roc Score: 0.9637313 | Time elapsed: 2:02:57.602659\n",
            "iterations: 841 | train_loss: 0.0409594 | validation_loss: 0.04929901 | Roc Score: 0.96375287 | Time elapsed: 2:03:06.594025\n",
            "iterations: 842 | train_loss: 0.0492015 | validation_loss: 0.05033258 | Roc Score: 0.96377385 | Time elapsed: 2:03:15.397578\n",
            "iterations: 843 | train_loss: 0.051690638 | validation_loss: 0.049926084 | Roc Score: 0.9637945 | Time elapsed: 2:03:24.413244\n",
            "iterations: 844 | train_loss: 0.039846014 | validation_loss: 0.049665738 | Roc Score: 0.96381533 | Time elapsed: 2:03:33.605918\n",
            "iterations: 845 | train_loss: 0.047731824 | validation_loss: 0.049593672 | Roc Score: 0.96383625 | Time elapsed: 2:03:42.507157\n",
            "iterations: 846 | train_loss: 0.060494907 | validation_loss: 0.04926834 | Roc Score: 0.9638569 | Time elapsed: 2:03:51.347608\n",
            "iterations: 847 | train_loss: 0.057204347 | validation_loss: 0.04893116 | Roc Score: 0.96387684 | Time elapsed: 2:04:00.267502\n",
            "iterations: 848 | train_loss: 0.04022453 | validation_loss: 0.048929468 | Roc Score: 0.96389705 | Time elapsed: 2:04:09.402345\n",
            "iterations: 849 | train_loss: 0.032425713 | validation_loss: 0.049053058 | Roc Score: 0.9639162 | Time elapsed: 2:04:18.184428\n",
            "iterations: 850 | train_loss: 0.044301536 | validation_loss: 0.04916606 | Roc Score: 0.9639353 | Time elapsed: 2:04:27.438524\n",
            "iterations: 851 | train_loss: 0.051057905 | validation_loss: 0.049206663 | Roc Score: 0.9639534 | Time elapsed: 2:04:36.098680\n",
            "iterations: 852 | train_loss: 0.03639927 | validation_loss: 0.049429417 | Roc Score: 0.9639702 | Time elapsed: 2:04:45.241891\n",
            "iterations: 853 | train_loss: 0.051689293 | validation_loss: 0.049407724 | Roc Score: 0.96398807 | Time elapsed: 2:04:53.917541\n",
            "iterations: 854 | train_loss: 0.05492916 | validation_loss: 0.049305115 | Roc Score: 0.96400654 | Time elapsed: 2:05:01.922699\n",
            "iterations: 855 | train_loss: 0.045691777 | validation_loss: 0.049523495 | Roc Score: 0.96402544 | Time elapsed: 2:05:11.088882\n",
            "iterations: 856 | train_loss: 0.06528328 | validation_loss: 0.050039414 | Roc Score: 0.9640449 | Time elapsed: 2:05:19.092153\n",
            "iterations: 857 | train_loss: 0.037655286 | validation_loss: 0.05094156 | Roc Score: 0.9640642 | Time elapsed: 2:05:27.616764\n"
          ],
          "name": "stdout"
        },
        {
          "output_type": "stream",
          "text": [
            "iterations: 858 | train_loss: 0.05470481 | validation_loss: 0.051981747 | Roc Score: 0.9640835 | Time elapsed: 2:05:36.456840\n",
            "iterations: 859 | train_loss: 0.04767722 | validation_loss: 0.052543353 | Roc Score: 0.9641018 | Time elapsed: 2:05:45.454845\n",
            "iterations: 860 | train_loss: 0.03868826 | validation_loss: 0.05109725 | Roc Score: 0.96411926 | Time elapsed: 2:05:54.742144\n",
            "iterations: 861 | train_loss: 0.054209378 | validation_loss: 0.050621454 | Roc Score: 0.964134 | Time elapsed: 2:06:03.804747\n",
            "iterations: 862 | train_loss: 0.032852575 | validation_loss: 0.052509516 | Roc Score: 0.96414214 | Time elapsed: 2:06:12.435969\n",
            "iterations: 863 | train_loss: 0.04388912 | validation_loss: 0.054256253 | Roc Score: 0.96414495 | Time elapsed: 2:06:21.301586\n",
            "iterations: 864 | train_loss: 0.0422882 | validation_loss: 0.055628613 | Roc Score: 0.96414346 | Time elapsed: 2:06:30.058537\n",
            "iterations: 865 | train_loss: 0.041288625 | validation_loss: 0.054755963 | Roc Score: 0.9641453 | Time elapsed: 2:06:39.187121\n",
            "iterations: 866 | train_loss: 0.046663247 | validation_loss: 0.051456083 | Roc Score: 0.9641571 | Time elapsed: 2:06:48.062156\n",
            "iterations: 867 | train_loss: 0.043933682 | validation_loss: 0.049629122 | Roc Score: 0.96417695 | Time elapsed: 2:06:57.027757\n",
            "iterations: 868 | train_loss: 0.047328092 | validation_loss: 0.050924957 | Roc Score: 0.9641976 | Time elapsed: 2:07:06.077775\n",
            "iterations: 869 | train_loss: 0.06970736 | validation_loss: 0.05318419 | Roc Score: 0.96421576 | Time elapsed: 2:07:14.752017\n",
            "iterations: 870 | train_loss: 0.04464683 | validation_loss: 0.05227156 | Roc Score: 0.96423477 | Time elapsed: 2:07:22.756363\n",
            "iterations: 871 | train_loss: 0.05952054 | validation_loss: 0.050766215 | Roc Score: 0.964254 | Time elapsed: 2:07:30.685873\n",
            "iterations: 872 | train_loss: 0.0501176 | validation_loss: 0.049976386 | Roc Score: 0.9642748 | Time elapsed: 2:07:39.891070\n",
            "iterations: 873 | train_loss: 0.052996736 | validation_loss: 0.049962174 | Roc Score: 0.9642945 | Time elapsed: 2:07:49.053936\n",
            "iterations: 874 | train_loss: 0.04454271 | validation_loss: 0.050537888 | Roc Score: 0.9643129 | Time elapsed: 2:07:57.967914\n",
            "iterations: 875 | train_loss: 0.048014212 | validation_loss: 0.05126834 | Roc Score: 0.96433026 | Time elapsed: 2:08:06.942665\n",
            "iterations: 876 | train_loss: 0.043143485 | validation_loss: 0.05142263 | Roc Score: 0.96434665 | Time elapsed: 2:08:14.838374\n",
            "iterations: 877 | train_loss: 0.044595335 | validation_loss: 0.05125034 | Roc Score: 0.9643635 | Time elapsed: 2:08:24.059813\n",
            "iterations: 878 | train_loss: 0.07363668 | validation_loss: 0.050087005 | Roc Score: 0.9643823 | Time elapsed: 2:08:32.253457\n",
            "iterations: 879 | train_loss: 0.06436951 | validation_loss: 0.049692407 | Roc Score: 0.96440214 | Time elapsed: 2:08:40.529388\n",
            "iterations: 880 | train_loss: 0.041302275 | validation_loss: 0.04985402 | Roc Score: 0.9644221 | Time elapsed: 2:08:48.446137\n",
            "iterations: 881 | train_loss: 0.03881165 | validation_loss: 0.049932726 | Roc Score: 0.96444184 | Time elapsed: 2:08:57.541036\n",
            "iterations: 882 | train_loss: 0.041992765 | validation_loss: 0.049908575 | Roc Score: 0.96446157 | Time elapsed: 2:09:06.105430\n",
            "iterations: 883 | train_loss: 0.04143755 | validation_loss: 0.05043251 | Roc Score: 0.96447974 | Time elapsed: 2:09:14.438768\n",
            "iterations: 884 | train_loss: 0.044866532 | validation_loss: 0.05079946 | Roc Score: 0.96449727 | Time elapsed: 2:09:23.099596\n",
            "iterations: 885 | train_loss: 0.065316275 | validation_loss: 0.050726797 | Roc Score: 0.9645145 | Time elapsed: 2:09:31.522957\n",
            "iterations: 886 | train_loss: 0.055320624 | validation_loss: 0.050412115 | Roc Score: 0.9645324 | Time elapsed: 2:09:40.834473\n",
            "iterations: 887 | train_loss: 0.042655505 | validation_loss: 0.050276667 | Roc Score: 0.96455 | Time elapsed: 2:09:49.631366\n",
            "iterations: 888 | train_loss: 0.038821872 | validation_loss: 0.050162546 | Roc Score: 0.9645676 | Time elapsed: 2:09:57.572876\n",
            "iterations: 889 | train_loss: 0.0442079 | validation_loss: 0.04998564 | Roc Score: 0.9645852 | Time elapsed: 2:10:06.287841\n",
            "iterations: 890 | train_loss: 0.05809432 | validation_loss: 0.049804877 | Roc Score: 0.9646027 | Time elapsed: 2:10:14.849075\n",
            "iterations: 891 | train_loss: 0.01563776 | validation_loss: 0.049758956 | Roc Score: 0.96462035 | Time elapsed: 2:10:24.046513\n",
            "iterations: 892 | train_loss: 0.075144514 | validation_loss: 0.049682803 | Roc Score: 0.96463734 | Time elapsed: 2:10:32.997967\n",
            "iterations: 893 | train_loss: 0.062368944 | validation_loss: 0.049575943 | Roc Score: 0.964655 | Time elapsed: 2:10:42.015247\n",
            "iterations: 894 | train_loss: 0.06501641 | validation_loss: 0.049442537 | Roc Score: 0.9646732 | Time elapsed: 2:10:51.000550\n",
            "iterations: 895 | train_loss: 0.05303191 | validation_loss: 0.049198054 | Roc Score: 0.96469104 | Time elapsed: 2:11:00.176808\n",
            "iterations: 896 | train_loss: 0.035208955 | validation_loss: 0.049033068 | Roc Score: 0.964709 | Time elapsed: 2:11:09.026153\n"
          ],
          "name": "stdout"
        },
        {
          "output_type": "stream",
          "text": [
            "iterations: 897 | train_loss: 0.037143953 | validation_loss: 0.04901272 | Roc Score: 0.9647265 | Time elapsed: 2:11:18.088290\n",
            "iterations: 898 | train_loss: 0.049444582 | validation_loss: 0.049057953 | Roc Score: 0.9647427 | Time elapsed: 2:11:27.108742\n",
            "iterations: 899 | train_loss: 0.047393993 | validation_loss: 0.0491561 | Roc Score: 0.9647578 | Time elapsed: 2:11:35.725970\n",
            "iterations: 900 | train_loss: 0.03532928 | validation_loss: 0.0495397 | Roc Score: 0.9647718 | Time elapsed: 2:11:44.646856\n",
            "iterations: 901 | train_loss: 0.0526891 | validation_loss: 0.04963857 | Roc Score: 0.9647872 | Time elapsed: 2:11:53.916883\n",
            "iterations: 902 | train_loss: 0.044911075 | validation_loss: 0.049751014 | Roc Score: 0.96480215 | Time elapsed: 2:12:02.513076\n",
            "iterations: 903 | train_loss: 0.04333446 | validation_loss: 0.049545333 | Roc Score: 0.9648175 | Time elapsed: 2:12:11.687618\n",
            "iterations: 904 | train_loss: 0.037731018 | validation_loss: 0.04937692 | Roc Score: 0.9648341 | Time elapsed: 2:12:20.503896\n",
            "iterations: 905 | train_loss: 0.060958315 | validation_loss: 0.04929381 | Roc Score: 0.9648509 | Time elapsed: 2:12:29.359198\n",
            "iterations: 906 | train_loss: 0.04258228 | validation_loss: 0.04975935 | Roc Score: 0.96486914 | Time elapsed: 2:12:38.440130\n",
            "iterations: 907 | train_loss: 0.03838292 | validation_loss: 0.05019742 | Roc Score: 0.96488756 | Time elapsed: 2:12:47.444142\n",
            "iterations: 908 | train_loss: 0.040180724 | validation_loss: 0.05005369 | Roc Score: 0.9649066 | Time elapsed: 2:12:56.545428\n",
            "iterations: 909 | train_loss: 0.048036944 | validation_loss: 0.049906697 | Roc Score: 0.9649247 | Time elapsed: 2:13:05.783146\n",
            "iterations: 910 | train_loss: 0.05581925 | validation_loss: 0.049286783 | Roc Score: 0.9649432 | Time elapsed: 2:13:14.772404\n",
            "iterations: 911 | train_loss: 0.032301676 | validation_loss: 0.04971817 | Roc Score: 0.96495706 | Time elapsed: 2:13:23.910174\n",
            "iterations: 912 | train_loss: 0.04149923 | validation_loss: 0.051335134 | Roc Score: 0.964967 | Time elapsed: 2:13:32.487907\n",
            "iterations: 913 | train_loss: 0.04500841 | validation_loss: 0.052864976 | Roc Score: 0.9649738 | Time elapsed: 2:13:41.461213\n",
            "iterations: 914 | train_loss: 0.04679221 | validation_loss: 0.0538732 | Roc Score: 0.9649788 | Time elapsed: 2:13:50.899712\n",
            "iterations: 915 | train_loss: 0.03725841 | validation_loss: 0.054405417 | Roc Score: 0.9649824 | Time elapsed: 2:13:59.709499\n",
            "iterations: 916 | train_loss: 0.043759868 | validation_loss: 0.054473944 | Roc Score: 0.9649868 | Time elapsed: 2:14:08.624381\n",
            "iterations: 917 | train_loss: 0.029247496 | validation_loss: 0.054954525 | Roc Score: 0.96498954 | Time elapsed: 2:14:16.787143\n",
            "iterations: 918 | train_loss: 0.07099691 | validation_loss: 0.053952552 | Roc Score: 0.9649977 | Time elapsed: 2:14:24.619129\n",
            "iterations: 919 | train_loss: 0.053369712 | validation_loss: 0.053579323 | Roc Score: 0.9650072 | Time elapsed: 2:14:33.242271\n",
            "iterations: 920 | train_loss: 0.053754665 | validation_loss: 0.052752238 | Roc Score: 0.9650196 | Time elapsed: 2:14:41.577956\n",
            "iterations: 921 | train_loss: 0.04446483 | validation_loss: 0.052094057 | Roc Score: 0.96503407 | Time elapsed: 2:14:49.575969\n",
            "iterations: 922 | train_loss: 0.055845134 | validation_loss: 0.051420536 | Roc Score: 0.96505016 | Time elapsed: 2:14:58.150303\n",
            "iterations: 923 | train_loss: 0.038101062 | validation_loss: 0.05087479 | Roc Score: 0.96506745 | Time elapsed: 2:15:06.540319\n",
            "iterations: 924 | train_loss: 0.05085199 | validation_loss: 0.050148766 | Roc Score: 0.9650851 | Time elapsed: 2:15:14.788064\n",
            "iterations: 925 | train_loss: 0.05556568 | validation_loss: 0.049619008 | Roc Score: 0.96510327 | Time elapsed: 2:15:23.711956\n",
            "iterations: 926 | train_loss: 0.043051552 | validation_loss: 0.049436048 | Roc Score: 0.9651201 | Time elapsed: 2:15:32.353431\n",
            "iterations: 927 | train_loss: 0.0474843 | validation_loss: 0.049898732 | Roc Score: 0.96513486 | Time elapsed: 2:15:41.200647\n",
            "iterations: 928 | train_loss: 0.0428927 | validation_loss: 0.050190687 | Roc Score: 0.96514964 | Time elapsed: 2:15:49.983737\n",
            "iterations: 929 | train_loss: 0.046653453 | validation_loss: 0.04976074 | Roc Score: 0.96516484 | Time elapsed: 2:15:59.227110\n",
            "iterations: 930 | train_loss: 0.04627206 | validation_loss: 0.04958406 | Roc Score: 0.96518016 | Time elapsed: 2:16:08.475888\n",
            "iterations: 931 | train_loss: 0.03611845 | validation_loss: 0.049331814 | Roc Score: 0.9651961 | Time elapsed: 2:16:17.482758\n",
            "iterations: 932 | train_loss: 0.045963645 | validation_loss: 0.049302522 | Roc Score: 0.9652121 | Time elapsed: 2:16:26.464399\n",
            "iterations: 933 | train_loss: 0.04026904 | validation_loss: 0.04946292 | Roc Score: 0.965229 | Time elapsed: 2:16:35.542358\n",
            "iterations: 934 | train_loss: 0.049490966 | validation_loss: 0.049509376 | Roc Score: 0.9652448 | Time elapsed: 2:16:44.376948\n",
            "iterations: 935 | train_loss: 0.04017498 | validation_loss: 0.04942471 | Roc Score: 0.9652601 | Time elapsed: 2:16:52.990930\n"
          ],
          "name": "stdout"
        },
        {
          "output_type": "stream",
          "text": [
            "iterations: 936 | train_loss: 0.0519021 | validation_loss: 0.04957131 | Roc Score: 0.9652752 | Time elapsed: 2:17:02.346945\n",
            "iterations: 937 | train_loss: 0.03620185 | validation_loss: 0.049576193 | Roc Score: 0.9652904 | Time elapsed: 2:17:10.709506\n",
            "iterations: 938 | train_loss: 0.06371382 | validation_loss: 0.049828716 | Roc Score: 0.9653071 | Time elapsed: 2:17:18.654907\n",
            "iterations: 939 | train_loss: 0.048084468 | validation_loss: 0.049757343 | Roc Score: 0.9653238 | Time elapsed: 2:17:26.749145\n",
            "iterations: 940 | train_loss: 0.032877434 | validation_loss: 0.04995901 | Roc Score: 0.9653403 | Time elapsed: 2:17:35.255122\n",
            "iterations: 941 | train_loss: 0.039923582 | validation_loss: 0.04997222 | Roc Score: 0.9653571 | Time elapsed: 2:17:43.310304\n",
            "iterations: 942 | train_loss: 0.03570464 | validation_loss: 0.049579322 | Roc Score: 0.96537423 | Time elapsed: 2:17:51.992566\n",
            "iterations: 943 | train_loss: 0.04528984 | validation_loss: 0.049311146 | Roc Score: 0.96539104 | Time elapsed: 2:18:01.197866\n",
            "iterations: 944 | train_loss: 0.040646955 | validation_loss: 0.049408674 | Roc Score: 0.96540713 | Time elapsed: 2:18:09.217517\n",
            "iterations: 945 | train_loss: 0.04911531 | validation_loss: 0.049597647 | Roc Score: 0.9654229 | Time elapsed: 2:18:17.623555\n",
            "iterations: 946 | train_loss: 0.03847818 | validation_loss: 0.04963459 | Roc Score: 0.9654387 | Time elapsed: 2:18:25.879948\n",
            "iterations: 947 | train_loss: 0.05290486 | validation_loss: 0.04959243 | Roc Score: 0.96545506 | Time elapsed: 2:18:34.736808\n",
            "iterations: 948 | train_loss: 0.040843643 | validation_loss: 0.04961528 | Roc Score: 0.96547097 | Time elapsed: 2:18:43.210725\n",
            "iterations: 949 | train_loss: 0.06652558 | validation_loss: 0.049806066 | Roc Score: 0.9654867 | Time elapsed: 2:18:51.463430\n",
            "iterations: 950 | train_loss: 0.036763426 | validation_loss: 0.04990039 | Roc Score: 0.96550184 | Time elapsed: 2:18:59.578795\n",
            "iterations: 951 | train_loss: 0.04062761 | validation_loss: 0.04974848 | Roc Score: 0.96551716 | Time elapsed: 2:19:07.977782\n",
            "iterations: 952 | train_loss: 0.040598836 | validation_loss: 0.04946974 | Roc Score: 0.96553296 | Time elapsed: 2:19:16.421413\n",
            "iterations: 953 | train_loss: 0.047589775 | validation_loss: 0.049322546 | Roc Score: 0.96554804 | Time elapsed: 2:19:25.260552\n",
            "iterations: 954 | train_loss: 0.034909815 | validation_loss: 0.049004663 | Roc Score: 0.9655636 | Time elapsed: 2:19:34.406399\n",
            "iterations: 955 | train_loss: 0.035718467 | validation_loss: 0.048475746 | Roc Score: 0.9655803 | Time elapsed: 2:19:43.639879\n",
            "iterations: 956 | train_loss: 0.054520175 | validation_loss: 0.048347086 | Roc Score: 0.96559685 | Time elapsed: 2:19:52.905023\n",
            "iterations: 957 | train_loss: 0.04580033 | validation_loss: 0.04923586 | Roc Score: 0.9656157 | Time elapsed: 2:20:02.129268\n",
            "iterations: 958 | train_loss: 0.042458393 | validation_loss: 0.050504457 | Roc Score: 0.9656343 | Time elapsed: 2:20:11.286176\n",
            "iterations: 959 | train_loss: 0.04960322 | validation_loss: 0.050723184 | Roc Score: 0.9656526 | Time elapsed: 2:20:20.530794\n",
            "iterations: 960 | train_loss: 0.05953777 | validation_loss: 0.049749207 | Roc Score: 0.96566975 | Time elapsed: 2:20:29.593024\n",
            "iterations: 961 | train_loss: 0.042710043 | validation_loss: 0.049210887 | Roc Score: 0.9656863 | Time elapsed: 2:20:38.337467\n",
            "iterations: 962 | train_loss: 0.03541092 | validation_loss: 0.04898891 | Roc Score: 0.9657016 | Time elapsed: 2:20:47.390594\n",
            "iterations: 963 | train_loss: 0.04647815 | validation_loss: 0.049539734 | Roc Score: 0.96571374 | Time elapsed: 2:20:56.578161\n",
            "iterations: 964 | train_loss: 0.03681575 | validation_loss: 0.050362855 | Roc Score: 0.9657233 | Time elapsed: 2:21:05.194618\n",
            "iterations: 965 | train_loss: 0.068397395 | validation_loss: 0.050243355 | Roc Score: 0.9657346 | Time elapsed: 2:21:14.307053\n",
            "iterations: 966 | train_loss: 0.055466894 | validation_loss: 0.04957644 | Roc Score: 0.9657495 | Time elapsed: 2:21:23.107101\n",
            "iterations: 967 | train_loss: 0.040620063 | validation_loss: 0.049395714 | Roc Score: 0.9657649 | Time elapsed: 2:21:32.257927\n",
            "iterations: 968 | train_loss: 0.04799103 | validation_loss: 0.049297765 | Roc Score: 0.96578115 | Time elapsed: 2:21:41.373417\n",
            "iterations: 969 | train_loss: 0.041539893 | validation_loss: 0.049371243 | Roc Score: 0.96579784 | Time elapsed: 2:21:50.509590\n",
            "iterations: 970 | train_loss: 0.047991406 | validation_loss: 0.049504206 | Roc Score: 0.9658141 | Time elapsed: 2:21:59.672784\n",
            "iterations: 971 | train_loss: 0.057875536 | validation_loss: 0.050078727 | Roc Score: 0.96583 | Time elapsed: 2:22:08.787428\n",
            "iterations: 972 | train_loss: 0.049504247 | validation_loss: 0.05090713 | Roc Score: 0.9658454 | Time elapsed: 2:22:17.941676\n",
            "iterations: 973 | train_loss: 0.05793308 | validation_loss: 0.051241893 | Roc Score: 0.96586025 | Time elapsed: 2:22:26.787549\n",
            "iterations: 974 | train_loss: 0.043280844 | validation_loss: 0.05106613 | Roc Score: 0.96587515 | Time elapsed: 2:22:35.864746\n"
          ],
          "name": "stdout"
        },
        {
          "output_type": "stream",
          "text": [
            "iterations: 975 | train_loss: 0.03353527 | validation_loss: 0.05011135 | Roc Score: 0.96589035 | Time elapsed: 2:22:44.796150\n",
            "iterations: 976 | train_loss: 0.05557259 | validation_loss: 0.049272414 | Roc Score: 0.96590567 | Time elapsed: 2:22:53.933591\n",
            "iterations: 977 | train_loss: 0.037770316 | validation_loss: 0.049058564 | Roc Score: 0.96592057 | Time elapsed: 2:23:03.069904\n",
            "iterations: 978 | train_loss: 0.04438421 | validation_loss: 0.049370043 | Roc Score: 0.9659345 | Time elapsed: 2:23:12.015109\n",
            "iterations: 979 | train_loss: 0.0584312 | validation_loss: 0.05004348 | Roc Score: 0.96594703 | Time elapsed: 2:23:21.031130\n",
            "iterations: 980 | train_loss: 0.04835542 | validation_loss: 0.050978076 | Roc Score: 0.96595865 | Time elapsed: 2:23:30.071100\n",
            "iterations: 981 | train_loss: 0.04575304 | validation_loss: 0.0509604 | Roc Score: 0.96597046 | Time elapsed: 2:23:39.342985\n",
            "iterations: 982 | train_loss: 0.059049893 | validation_loss: 0.050260752 | Roc Score: 0.9659842 | Time elapsed: 2:23:48.391142\n",
            "iterations: 983 | train_loss: 0.051407546 | validation_loss: 0.049481932 | Roc Score: 0.9659987 | Time elapsed: 2:23:57.369038\n",
            "iterations: 984 | train_loss: 0.045133058 | validation_loss: 0.04913639 | Roc Score: 0.9660145 | Time elapsed: 2:24:06.903428\n",
            "iterations: 985 | train_loss: 0.038922925 | validation_loss: 0.048881818 | Roc Score: 0.96603006 | Time elapsed: 2:24:15.898240\n",
            "iterations: 986 | train_loss: 0.05409534 | validation_loss: 0.04891879 | Roc Score: 0.9660448 | Time elapsed: 2:24:23.788692\n",
            "iterations: 987 | train_loss: 0.054468226 | validation_loss: 0.048925627 | Roc Score: 0.9660597 | Time elapsed: 2:24:32.338420\n",
            "iterations: 988 | train_loss: 0.049497943 | validation_loss: 0.04896813 | Roc Score: 0.9660744 | Time elapsed: 2:24:41.645040\n",
            "iterations: 989 | train_loss: 0.0547825 | validation_loss: 0.048896212 | Roc Score: 0.9660889 | Time elapsed: 2:24:50.607654\n",
            "iterations: 990 | train_loss: 0.04246521 | validation_loss: 0.048772786 | Roc Score: 0.9661035 | Time elapsed: 2:24:59.690087\n",
            "iterations: 991 | train_loss: 0.03286464 | validation_loss: 0.048691403 | Roc Score: 0.96611804 | Time elapsed: 2:25:08.660368\n",
            "iterations: 992 | train_loss: 0.036701 | validation_loss: 0.048622604 | Roc Score: 0.96613216 | Time elapsed: 2:25:17.533254\n",
            "iterations: 993 | train_loss: 0.06880613 | validation_loss: 0.04841638 | Roc Score: 0.9661469 | Time elapsed: 2:25:26.474103\n",
            "iterations: 994 | train_loss: 0.04524289 | validation_loss: 0.04834533 | Roc Score: 0.9661619 | Time elapsed: 2:25:34.517859\n",
            "iterations: 995 | train_loss: 0.06665272 | validation_loss: 0.048303895 | Roc Score: 0.96617746 | Time elapsed: 2:25:42.770140\n",
            "iterations: 996 | train_loss: 0.03968109 | validation_loss: 0.04832399 | Roc Score: 0.9661934 | Time elapsed: 2:25:51.601184\n",
            "iterations: 997 | train_loss: 0.043000367 | validation_loss: 0.048382368 | Roc Score: 0.9662088 | Time elapsed: 2:26:00.537295\n",
            "iterations: 998 | train_loss: 0.052203823 | validation_loss: 0.04845246 | Roc Score: 0.9662246 | Time elapsed: 2:26:08.698390\n",
            "iterations: 999 | train_loss: 0.055426057 | validation_loss: 0.04882342 | Roc Score: 0.9662405 | Time elapsed: 2:26:17.272537\n",
            "iterations: 1000 | train_loss: 0.037959713 | validation_loss: 0.049239494 | Roc Score: 0.9662561 | Time elapsed: 2:26:26.619150\n",
            "iterations: 1001 | train_loss: 0.0514308 | validation_loss: 0.049623862 | Roc Score: 0.96627176 | Time elapsed: 2:26:35.575077\n",
            "iterations: 1002 | train_loss: 0.047056034 | validation_loss: 0.04985195 | Roc Score: 0.96628696 | Time elapsed: 2:26:44.632950\n",
            "iterations: 1003 | train_loss: 0.032954115 | validation_loss: 0.050022505 | Roc Score: 0.9663024 | Time elapsed: 2:26:52.808656\n",
            "iterations: 1004 | train_loss: 0.061248653 | validation_loss: 0.049978837 | Roc Score: 0.9663177 | Time elapsed: 2:27:01.440010\n",
            "iterations: 1005 | train_loss: 0.042000167 | validation_loss: 0.049806274 | Roc Score: 0.9663331 | Time elapsed: 2:27:09.451332\n",
            "iterations: 1006 | train_loss: 0.04011541 | validation_loss: 0.049628813 | Roc Score: 0.96634626 | Time elapsed: 2:27:17.364814\n",
            "iterations: 1007 | train_loss: 0.028720055 | validation_loss: 0.049698446 | Roc Score: 0.96635866 | Time elapsed: 2:27:25.132438\n",
            "iterations: 1008 | train_loss: 0.036288954 | validation_loss: 0.050108336 | Roc Score: 0.9663695 | Time elapsed: 2:27:33.127887\n",
            "iterations: 1009 | train_loss: 0.04955194 | validation_loss: 0.050477263 | Roc Score: 0.9663817 | Time elapsed: 2:27:41.114403\n",
            "iterations: 1010 | train_loss: 0.039537687 | validation_loss: 0.050677948 | Roc Score: 0.96639407 | Time elapsed: 2:27:49.126761\n",
            "iterations: 1011 | train_loss: 0.049688395 | validation_loss: 0.050832458 | Roc Score: 0.9664066 | Time elapsed: 2:27:57.844396\n",
            "iterations: 1012 | train_loss: 0.045520708 | validation_loss: 0.0508276 | Roc Score: 0.96641916 | Time elapsed: 2:28:06.973099\n",
            "iterations: 1013 | train_loss: 0.05318905 | validation_loss: 0.050075933 | Roc Score: 0.9664322 | Time elapsed: 2:28:15.760628\n"
          ],
          "name": "stdout"
        },
        {
          "output_type": "stream",
          "text": [
            "iterations: 1014 | train_loss: 0.04806623 | validation_loss: 0.049321853 | Roc Score: 0.9664455 | Time elapsed: 2:28:23.808369\n",
            "iterations: 1015 | train_loss: 0.039908074 | validation_loss: 0.04877081 | Roc Score: 0.966458 | Time elapsed: 2:28:33.212587\n",
            "iterations: 1016 | train_loss: 0.070773974 | validation_loss: 0.04845002 | Roc Score: 0.9664704 | Time elapsed: 2:28:41.998681\n",
            "iterations: 1017 | train_loss: 0.039110888 | validation_loss: 0.048671752 | Roc Score: 0.9664822 | Time elapsed: 2:28:51.222407\n",
            "iterations: 1018 | train_loss: 0.054490145 | validation_loss: 0.04888031 | Roc Score: 0.96649295 | Time elapsed: 2:29:00.096791\n",
            "iterations: 1019 | train_loss: 0.038969442 | validation_loss: 0.049200073 | Roc Score: 0.96650416 | Time elapsed: 2:29:09.417619\n",
            "iterations: 1020 | train_loss: 0.0362898 | validation_loss: 0.04976417 | Roc Score: 0.96651554 | Time elapsed: 2:29:18.385367\n",
            "iterations: 1021 | train_loss: 0.040399846 | validation_loss: 0.050105333 | Roc Score: 0.9665266 | Time elapsed: 2:29:27.397130\n",
            "iterations: 1022 | train_loss: 0.04255681 | validation_loss: 0.049777064 | Roc Score: 0.9665392 | Time elapsed: 2:29:36.322787\n",
            "iterations: 1023 | train_loss: 0.041259974 | validation_loss: 0.04909603 | Roc Score: 0.96655285 | Time elapsed: 2:29:45.428124\n",
            "iterations: 1024 | train_loss: 0.044938754 | validation_loss: 0.048692904 | Roc Score: 0.96656716 | Time elapsed: 2:29:54.608397\n",
            "iterations: 1025 | train_loss: 0.03728998 | validation_loss: 0.048425347 | Roc Score: 0.9665816 | Time elapsed: 2:30:03.987570\n",
            "iterations: 1026 | train_loss: 0.060453296 | validation_loss: 0.048495714 | Roc Score: 0.96659595 | Time elapsed: 2:30:13.033522\n",
            "iterations: 1027 | train_loss: 0.056330618 | validation_loss: 0.049024694 | Roc Score: 0.96661097 | Time elapsed: 2:30:21.856125\n",
            "iterations: 1028 | train_loss: 0.052708674 | validation_loss: 0.049219612 | Roc Score: 0.966626 | Time elapsed: 2:30:30.720397\n",
            "iterations: 1029 | train_loss: 0.042032454 | validation_loss: 0.049213 | Roc Score: 0.96664095 | Time elapsed: 2:30:39.917903\n",
            "iterations: 1030 | train_loss: 0.032693222 | validation_loss: 0.04863332 | Roc Score: 0.96665484 | Time elapsed: 2:30:48.446117\n",
            "iterations: 1031 | train_loss: 0.06263588 | validation_loss: 0.048522454 | Roc Score: 0.96666884 | Time elapsed: 2:30:57.478995\n",
            "iterations: 1032 | train_loss: 0.051231965 | validation_loss: 0.04823825 | Roc Score: 0.9666823 | Time elapsed: 2:31:06.466588\n",
            "iterations: 1033 | train_loss: 0.043211047 | validation_loss: 0.048063938 | Roc Score: 0.9666953 | Time elapsed: 2:31:15.691903\n",
            "iterations: 1034 | train_loss: 0.03557679 | validation_loss: 0.047947217 | Roc Score: 0.96670866 | Time elapsed: 2:31:24.814781\n",
            "iterations: 1035 | train_loss: 0.053177983 | validation_loss: 0.047870155 | Roc Score: 0.966723 | Time elapsed: 2:31:33.609511\n",
            "iterations: 1036 | train_loss: 0.03937437 | validation_loss: 0.04775954 | Roc Score: 0.9667379 | Time elapsed: 2:31:42.526143\n",
            "iterations: 1037 | train_loss: 0.036678605 | validation_loss: 0.04774374 | Roc Score: 0.966753 | Time elapsed: 2:31:50.718435\n",
            "iterations: 1038 | train_loss: 0.05959355 | validation_loss: 0.047742616 | Roc Score: 0.96676815 | Time elapsed: 2:31:59.735555\n",
            "iterations: 1039 | train_loss: 0.04825778 | validation_loss: 0.047723826 | Roc Score: 0.9667831 | Time elapsed: 2:32:08.473212\n",
            "iterations: 1040 | train_loss: 0.03749448 | validation_loss: 0.0478684 | Roc Score: 0.9667979 | Time elapsed: 2:32:17.617445\n",
            "iterations: 1041 | train_loss: 0.06268377 | validation_loss: 0.04799699 | Roc Score: 0.966813 | Time elapsed: 2:32:26.442328\n",
            "iterations: 1042 | train_loss: 0.034410376 | validation_loss: 0.0482752 | Roc Score: 0.96682787 | Time elapsed: 2:32:35.243845\n",
            "iterations: 1043 | train_loss: 0.048272964 | validation_loss: 0.048412222 | Roc Score: 0.9668428 | Time elapsed: 2:32:44.146401\n",
            "iterations: 1044 | train_loss: 0.08095162 | validation_loss: 0.048108205 | Roc Score: 0.9668579 | Time elapsed: 2:32:52.937643\n",
            "iterations: 1045 | train_loss: 0.035400618 | validation_loss: 0.048056733 | Roc Score: 0.96687335 | Time elapsed: 2:33:02.004299\n",
            "iterations: 1046 | train_loss: 0.027396841 | validation_loss: 0.04812525 | Roc Score: 0.96688807 | Time elapsed: 2:33:10.947116\n",
            "iterations: 1047 | train_loss: 0.033665422 | validation_loss: 0.048510578 | Roc Score: 0.96690226 | Time elapsed: 2:33:19.778879\n",
            "iterations: 1048 | train_loss: 0.04808687 | validation_loss: 0.04915336 | Roc Score: 0.96691483 | Time elapsed: 2:33:28.431158\n",
            "iterations: 1049 | train_loss: 0.05062808 | validation_loss: 0.049796574 | Roc Score: 0.9669264 | Time elapsed: 2:33:37.327664\n",
            "iterations: 1050 | train_loss: 0.061026357 | validation_loss: 0.049593043 | Roc Score: 0.96693814 | Time elapsed: 2:33:46.119458\n",
            "iterations: 1051 | train_loss: 0.037826307 | validation_loss: 0.04909452 | Roc Score: 0.9669506 | Time elapsed: 2:33:54.161980\n",
            "iterations: 1052 | train_loss: 0.054395296 | validation_loss: 0.04876732 | Roc Score: 0.9669638 | Time elapsed: 2:34:02.895099\n"
          ],
          "name": "stdout"
        },
        {
          "output_type": "stream",
          "text": [
            "iterations: 1053 | train_loss: 0.042359967 | validation_loss: 0.04844365 | Roc Score: 0.96697783 | Time elapsed: 2:34:12.096728\n",
            "iterations: 1054 | train_loss: 0.050829593 | validation_loss: 0.048421104 | Roc Score: 0.9669927 | Time elapsed: 2:34:21.037791\n",
            "iterations: 1055 | train_loss: 0.038364444 | validation_loss: 0.048714932 | Roc Score: 0.96700674 | Time elapsed: 2:34:29.433667\n",
            "iterations: 1056 | train_loss: 0.049711883 | validation_loss: 0.04920129 | Roc Score: 0.96702075 | Time elapsed: 2:34:37.545074\n",
            "iterations: 1057 | train_loss: 0.05574873 | validation_loss: 0.04907131 | Roc Score: 0.9670351 | Time elapsed: 2:34:45.597092\n",
            "iterations: 1058 | train_loss: 0.07580483 | validation_loss: 0.049112827 | Roc Score: 0.9670495 | Time elapsed: 2:34:53.771547\n",
            "iterations: 1059 | train_loss: 0.04281085 | validation_loss: 0.048760757 | Roc Score: 0.967064 | Time elapsed: 2:35:02.557369\n",
            "iterations: 1060 | train_loss: 0.050620023 | validation_loss: 0.048551742 | Roc Score: 0.96707904 | Time elapsed: 2:35:11.464228\n",
            "iterations: 1061 | train_loss: 0.03239577 | validation_loss: 0.048107345 | Roc Score: 0.9670942 | Time elapsed: 2:35:20.292975\n",
            "iterations: 1062 | train_loss: 0.036081087 | validation_loss: 0.04758847 | Roc Score: 0.96710867 | Time elapsed: 2:35:29.611022\n",
            "iterations: 1063 | train_loss: 0.048553508 | validation_loss: 0.047618162 | Roc Score: 0.96712196 | Time elapsed: 2:35:38.624382\n",
            "iterations: 1064 | train_loss: 0.051245924 | validation_loss: 0.048093803 | Roc Score: 0.96713245 | Time elapsed: 2:35:48.141237\n",
            "iterations: 1065 | train_loss: 0.04911412 | validation_loss: 0.048627313 | Roc Score: 0.9671421 | Time elapsed: 2:35:56.860934\n",
            "iterations: 1066 | train_loss: 0.042126358 | validation_loss: 0.049132317 | Roc Score: 0.96715003 | Time elapsed: 2:36:04.876002\n",
            "iterations: 1067 | train_loss: 0.042055327 | validation_loss: 0.049039487 | Roc Score: 0.96715873 | Time elapsed: 2:36:12.972319\n",
            "iterations: 1068 | train_loss: 0.049722772 | validation_loss: 0.048565976 | Roc Score: 0.96716833 | Time elapsed: 2:36:21.280824\n",
            "iterations: 1069 | train_loss: 0.04612015 | validation_loss: 0.0479689 | Roc Score: 0.96717936 | Time elapsed: 2:36:29.993732\n",
            "iterations: 1070 | train_loss: 0.057567786 | validation_loss: 0.047597088 | Roc Score: 0.9671929 | Time elapsed: 2:36:38.439790\n",
            "iterations: 1071 | train_loss: 0.046532188 | validation_loss: 0.048037533 | Roc Score: 0.9672065 | Time elapsed: 2:36:47.207029\n",
            "iterations: 1072 | train_loss: 0.05490884 | validation_loss: 0.04857487 | Roc Score: 0.96721995 | Time elapsed: 2:36:55.368248\n",
            "iterations: 1073 | train_loss: 0.049236298 | validation_loss: 0.0480546 | Roc Score: 0.96723396 | Time elapsed: 2:37:03.296530\n",
            "iterations: 1074 | train_loss: 0.059322223 | validation_loss: 0.047863472 | Roc Score: 0.9672476 | Time elapsed: 2:37:12.253329\n",
            "iterations: 1075 | train_loss: 0.046129767 | validation_loss: 0.047455672 | Roc Score: 0.9672616 | Time elapsed: 2:37:20.706663\n",
            "iterations: 1076 | train_loss: 0.04815861 | validation_loss: 0.0472455 | Roc Score: 0.9672757 | Time elapsed: 2:37:29.826477\n",
            "iterations: 1077 | train_loss: 0.037151687 | validation_loss: 0.047086943 | Roc Score: 0.96728957 | Time elapsed: 2:37:38.293368\n",
            "iterations: 1078 | train_loss: 0.057489082 | validation_loss: 0.047357712 | Roc Score: 0.9673031 | Time elapsed: 2:37:47.255826\n",
            "iterations: 1079 | train_loss: 0.049600534 | validation_loss: 0.04788023 | Roc Score: 0.96731603 | Time elapsed: 2:37:56.468053\n",
            "iterations: 1080 | train_loss: 0.054683972 | validation_loss: 0.04844024 | Roc Score: 0.9673278 | Time elapsed: 2:38:04.430534\n",
            "iterations: 1081 | train_loss: 0.047266837 | validation_loss: 0.048721418 | Roc Score: 0.9673386 | Time elapsed: 2:38:12.294537\n",
            "iterations: 1082 | train_loss: 0.048253536 | validation_loss: 0.049048003 | Roc Score: 0.96734905 | Time elapsed: 2:38:20.481247\n",
            "iterations: 1083 | train_loss: 0.043227937 | validation_loss: 0.04921555 | Roc Score: 0.96735954 | Time elapsed: 2:38:28.375942\n",
            "iterations: 1084 | train_loss: 0.037875473 | validation_loss: 0.049437374 | Roc Score: 0.96736854 | Time elapsed: 2:38:37.349267\n",
            "iterations: 1085 | train_loss: 0.053796086 | validation_loss: 0.048961688 | Roc Score: 0.9673791 | Time elapsed: 2:38:46.942425\n",
            "iterations: 1086 | train_loss: 0.035982676 | validation_loss: 0.0488056 | Roc Score: 0.96739006 | Time elapsed: 2:38:56.085967\n",
            "iterations: 1087 | train_loss: 0.033221938 | validation_loss: 0.048790954 | Roc Score: 0.9674009 | Time elapsed: 2:39:05.308037\n",
            "iterations: 1088 | train_loss: 0.050430194 | validation_loss: 0.048826084 | Roc Score: 0.9674119 | Time elapsed: 2:39:14.375708\n",
            "iterations: 1089 | train_loss: 0.042428587 | validation_loss: 0.04887891 | Roc Score: 0.9674228 | Time elapsed: 2:39:23.258390\n",
            "iterations: 1090 | train_loss: 0.04695257 | validation_loss: 0.04909081 | Roc Score: 0.96743375 | Time elapsed: 2:39:32.592413\n",
            "iterations: 1091 | train_loss: 0.037046622 | validation_loss: 0.049436253 | Roc Score: 0.96744573 | Time elapsed: 2:39:41.650012\n"
          ],
          "name": "stdout"
        },
        {
          "output_type": "stream",
          "text": [
            "iterations: 1092 | train_loss: 0.0699694 | validation_loss: 0.04916577 | Roc Score: 0.96745783 | Time elapsed: 2:39:50.762144\n",
            "iterations: 1093 | train_loss: 0.05950599 | validation_loss: 0.048486087 | Roc Score: 0.96747017 | Time elapsed: 2:39:59.750162\n",
            "iterations: 1094 | train_loss: 0.034489647 | validation_loss: 0.047855273 | Roc Score: 0.9674826 | Time elapsed: 2:40:08.642210\n",
            "iterations: 1095 | train_loss: 0.042692415 | validation_loss: 0.047817387 | Roc Score: 0.96749526 | Time elapsed: 2:40:17.601404\n",
            "iterations: 1096 | train_loss: 0.04012096 | validation_loss: 0.048501194 | Roc Score: 0.9675056 | Time elapsed: 2:40:25.874050\n",
            "iterations: 1097 | train_loss: 0.04383497 | validation_loss: 0.049507115 | Roc Score: 0.9675148 | Time elapsed: 2:40:34.015083\n",
            "iterations: 1098 | train_loss: 0.04651387 | validation_loss: 0.050210405 | Roc Score: 0.96752197 | Time elapsed: 2:40:42.297115\n",
            "iterations: 1099 | train_loss: 0.04350063 | validation_loss: 0.05065715 | Roc Score: 0.9675291 | Time elapsed: 2:40:51.182914\n",
            "iterations: 1100 | train_loss: 0.04315881 | validation_loss: 0.05035478 | Roc Score: 0.9675363 | Time elapsed: 2:41:00.379166\n",
            "iterations: 1101 | train_loss: 0.041114606 | validation_loss: 0.049737044 | Roc Score: 0.9675445 | Time elapsed: 2:41:08.892389\n",
            "iterations: 1102 | train_loss: 0.048733395 | validation_loss: 0.04898979 | Roc Score: 0.96755403 | Time elapsed: 2:41:16.820252\n",
            "iterations: 1103 | train_loss: 0.047891084 | validation_loss: 0.048233747 | Roc Score: 0.96756566 | Time elapsed: 2:41:25.809140\n",
            "iterations: 1104 | train_loss: 0.051080447 | validation_loss: 0.04795819 | Roc Score: 0.96757734 | Time elapsed: 2:41:35.112994\n",
            "iterations: 1105 | train_loss: 0.06819487 | validation_loss: 0.048294634 | Roc Score: 0.9675893 | Time elapsed: 2:41:43.945095\n",
            "iterations: 1106 | train_loss: 0.035515428 | validation_loss: 0.048916023 | Roc Score: 0.96760195 | Time elapsed: 2:41:53.047674\n",
            "iterations: 1107 | train_loss: 0.03598378 | validation_loss: 0.049444105 | Roc Score: 0.9676143 | Time elapsed: 2:42:02.146833\n",
            "iterations: 1108 | train_loss: 0.029189128 | validation_loss: 0.04934385 | Roc Score: 0.96762675 | Time elapsed: 2:42:11.091162\n",
            "iterations: 1109 | train_loss: 0.035792477 | validation_loss: 0.04921074 | Roc Score: 0.9676392 | Time elapsed: 2:42:20.240779\n",
            "iterations: 1110 | train_loss: 0.033074122 | validation_loss: 0.048950847 | Roc Score: 0.9676509 | Time elapsed: 2:42:29.143997\n",
            "iterations: 1111 | train_loss: 0.050978526 | validation_loss: 0.048685785 | Roc Score: 0.9676621 | Time elapsed: 2:42:38.194499\n",
            "iterations: 1112 | train_loss: 0.040341116 | validation_loss: 0.048635684 | Roc Score: 0.9676737 | Time elapsed: 2:42:47.005287\n",
            "iterations: 1113 | train_loss: 0.06032093 | validation_loss: 0.048636265 | Roc Score: 0.96768486 | Time elapsed: 2:42:55.736066\n",
            "iterations: 1114 | train_loss: 0.04307143 | validation_loss: 0.04898639 | Roc Score: 0.96769494 | Time elapsed: 2:43:04.835544\n",
            "iterations: 1115 | train_loss: 0.041526154 | validation_loss: 0.049715307 | Roc Score: 0.9677044 | Time elapsed: 2:43:13.659301\n",
            "iterations: 1116 | train_loss: 0.035002626 | validation_loss: 0.050324295 | Roc Score: 0.9677129 | Time elapsed: 2:43:22.430715\n",
            "iterations: 1117 | train_loss: 0.046725508 | validation_loss: 0.05033839 | Roc Score: 0.9677212 | Time elapsed: 2:43:31.709431\n",
            "iterations: 1118 | train_loss: 0.052118592 | validation_loss: 0.049943563 | Roc Score: 0.9677304 | Time elapsed: 2:43:40.496559\n",
            "iterations: 1119 | train_loss: 0.058731504 | validation_loss: 0.04939099 | Roc Score: 0.96774065 | Time elapsed: 2:43:49.314072\n",
            "iterations: 1120 | train_loss: 0.03905056 | validation_loss: 0.049245678 | Roc Score: 0.9677525 | Time elapsed: 2:43:58.365431\n",
            "iterations: 1121 | train_loss: 0.034078334 | validation_loss: 0.04964601 | Roc Score: 0.9677647 | Time elapsed: 2:44:07.140857\n",
            "iterations: 1122 | train_loss: 0.050273843 | validation_loss: 0.05000832 | Roc Score: 0.96777695 | Time elapsed: 2:44:16.347085\n",
            "iterations: 1123 | train_loss: 0.056450177 | validation_loss: 0.05026731 | Roc Score: 0.9677888 | Time elapsed: 2:44:25.544128\n",
            "iterations: 1124 | train_loss: 0.05050063 | validation_loss: 0.049985327 | Roc Score: 0.96780115 | Time elapsed: 2:44:34.804257\n",
            "iterations: 1125 | train_loss: 0.044740822 | validation_loss: 0.04968086 | Roc Score: 0.96781254 | Time elapsed: 2:44:44.184219\n",
            "iterations: 1126 | train_loss: 0.051363684 | validation_loss: 0.049463782 | Roc Score: 0.9678224 | Time elapsed: 2:44:53.328153\n",
            "iterations: 1127 | train_loss: 0.0448567 | validation_loss: 0.049334988 | Roc Score: 0.96783066 | Time elapsed: 2:45:02.231784\n",
            "iterations: 1128 | train_loss: 0.050001394 | validation_loss: 0.049343262 | Roc Score: 0.96783876 | Time elapsed: 2:45:10.403703\n",
            "iterations: 1129 | train_loss: 0.038245097 | validation_loss: 0.04948177 | Roc Score: 0.9678466 | Time elapsed: 2:45:19.234640\n",
            "iterations: 1130 | train_loss: 0.052853417 | validation_loss: 0.04973595 | Roc Score: 0.9678535 | Time elapsed: 2:45:27.907727\n"
          ],
          "name": "stdout"
        },
        {
          "output_type": "stream",
          "text": [
            "iterations: 1131 | train_loss: 0.04414225 | validation_loss: 0.05016716 | Roc Score: 0.9678586 | Time elapsed: 2:45:36.004532\n",
            "iterations: 1132 | train_loss: 0.0419672 | validation_loss: 0.050922275 | Roc Score: 0.96786183 | Time elapsed: 2:45:44.656525\n",
            "iterations: 1133 | train_loss: 0.02602603 | validation_loss: 0.0517848 | Roc Score: 0.9678633 | Time elapsed: 2:45:53.454250\n",
            "iterations: 1134 | train_loss: 0.054483682 | validation_loss: 0.05191911 | Roc Score: 0.9678639 | Time elapsed: 2:46:01.995644\n",
            "iterations: 1135 | train_loss: 0.054532763 | validation_loss: 0.051405367 | Roc Score: 0.96786606 | Time elapsed: 2:46:10.195452\n",
            "iterations: 1136 | train_loss: 0.052166965 | validation_loss: 0.050524868 | Roc Score: 0.9678706 | Time elapsed: 2:46:18.494489\n",
            "iterations: 1137 | train_loss: 0.050773215 | validation_loss: 0.049715746 | Roc Score: 0.9678775 | Time elapsed: 2:46:26.705367\n",
            "iterations: 1138 | train_loss: 0.038308546 | validation_loss: 0.04955727 | Roc Score: 0.96788526 | Time elapsed: 2:46:34.924926\n",
            "iterations: 1139 | train_loss: 0.029690675 | validation_loss: 0.049623735 | Roc Score: 0.9678928 | Time elapsed: 2:46:43.575947\n",
            "iterations: 1140 | train_loss: 0.034114674 | validation_loss: 0.049681418 | Roc Score: 0.96790075 | Time elapsed: 2:46:52.155833\n",
            "iterations: 1141 | train_loss: 0.05116767 | validation_loss: 0.049757235 | Roc Score: 0.96791023 | Time elapsed: 2:47:01.354435\n",
            "iterations: 1142 | train_loss: 0.047456954 | validation_loss: 0.049625054 | Roc Score: 0.9679203 | Time elapsed: 2:47:10.321642\n",
            "iterations: 1143 | train_loss: 0.036948863 | validation_loss: 0.04961212 | Roc Score: 0.96793044 | Time elapsed: 2:47:19.075955\n",
            "iterations: 1144 | train_loss: 0.026191661 | validation_loss: 0.049608525 | Roc Score: 0.9679406 | Time elapsed: 2:47:27.974551\n",
            "iterations: 1145 | train_loss: 0.04700002 | validation_loss: 0.04979828 | Roc Score: 0.96795034 | Time elapsed: 2:47:37.056294\n",
            "iterations: 1146 | train_loss: 0.04745002 | validation_loss: 0.049882792 | Roc Score: 0.96795994 | Time elapsed: 2:47:45.614267\n",
            "iterations: 1147 | train_loss: 0.047147077 | validation_loss: 0.05008211 | Roc Score: 0.96796906 | Time elapsed: 2:47:55.027513\n",
            "iterations: 1148 | train_loss: 0.04985731 | validation_loss: 0.050157465 | Roc Score: 0.9679779 | Time elapsed: 2:48:03.759217\n",
            "iterations: 1149 | train_loss: 0.04292799 | validation_loss: 0.050228205 | Roc Score: 0.9679868 | Time elapsed: 2:48:12.356902\n",
            "iterations: 1150 | train_loss: 0.03941224 | validation_loss: 0.050408676 | Roc Score: 0.9679953 | Time elapsed: 2:48:20.965548\n",
            "iterations: 1151 | train_loss: 0.071787946 | validation_loss: 0.049826276 | Roc Score: 0.96800506 | Time elapsed: 2:48:30.083156\n",
            "iterations: 1152 | train_loss: 0.0403719 | validation_loss: 0.04941065 | Roc Score: 0.9680165 | Time elapsed: 2:48:38.776087\n",
            "iterations: 1153 | train_loss: 0.060223505 | validation_loss: 0.049123805 | Roc Score: 0.9680286 | Time elapsed: 2:48:47.987861\n",
            "iterations: 1154 | train_loss: 0.03109204 | validation_loss: 0.048872378 | Roc Score: 0.9680406 | Time elapsed: 2:48:56.968320\n",
            "iterations: 1155 | train_loss: 0.04364823 | validation_loss: 0.048579447 | Roc Score: 0.9680524 | Time elapsed: 2:49:05.760345\n",
            "iterations: 1156 | train_loss: 0.03033414 | validation_loss: 0.04838994 | Roc Score: 0.9680641 | Time elapsed: 2:49:14.055142\n",
            "iterations: 1157 | train_loss: 0.035093818 | validation_loss: 0.048372094 | Roc Score: 0.96807474 | Time elapsed: 2:49:22.204570\n",
            "iterations: 1158 | train_loss: 0.03229021 | validation_loss: 0.048547633 | Roc Score: 0.96808493 | Time elapsed: 2:49:30.770650\n",
            "iterations: 1159 | train_loss: 0.04017465 | validation_loss: 0.048793282 | Roc Score: 0.96809405 | Time elapsed: 2:49:38.641855\n",
            "iterations: 1160 | train_loss: 0.069362104 | validation_loss: 0.048499666 | Roc Score: 0.9681037 | Time elapsed: 2:49:47.238737\n",
            "iterations: 1161 | train_loss: 0.04053539 | validation_loss: 0.048248578 | Roc Score: 0.9681134 | Time elapsed: 2:49:55.932134\n",
            "iterations: 1162 | train_loss: 0.05225445 | validation_loss: 0.048072863 | Roc Score: 0.96812326 | Time elapsed: 2:50:05.027210\n",
            "iterations: 1163 | train_loss: 0.02775078 | validation_loss: 0.04810776 | Roc Score: 0.9681326 | Time elapsed: 2:50:13.985157\n",
            "iterations: 1164 | train_loss: 0.052239068 | validation_loss: 0.04814267 | Roc Score: 0.96814203 | Time elapsed: 2:50:23.229252\n",
            "iterations: 1165 | train_loss: 0.06464607 | validation_loss: 0.04802179 | Roc Score: 0.96815294 | Time elapsed: 2:50:32.266013\n",
            "iterations: 1166 | train_loss: 0.034589756 | validation_loss: 0.04802086 | Roc Score: 0.9681637 | Time elapsed: 2:50:41.225529\n",
            "iterations: 1167 | train_loss: 0.038203496 | validation_loss: 0.04830143 | Roc Score: 0.96817523 | Time elapsed: 2:50:50.505115\n",
            "iterations: 1168 | train_loss: 0.04721373 | validation_loss: 0.0485411 | Roc Score: 0.9681861 | Time elapsed: 2:50:59.524402\n",
            "iterations: 1169 | train_loss: 0.038908277 | validation_loss: 0.04881648 | Roc Score: 0.9681961 | Time elapsed: 2:51:08.616326\n"
          ],
          "name": "stdout"
        },
        {
          "output_type": "stream",
          "text": [
            "iterations: 1170 | train_loss: 0.0417874 | validation_loss: 0.049067892 | Roc Score: 0.9682057 | Time elapsed: 2:51:17.439220\n",
            "iterations: 1171 | train_loss: 0.053536694 | validation_loss: 0.049067885 | Roc Score: 0.96821415 | Time elapsed: 2:51:26.638273\n",
            "iterations: 1172 | train_loss: 0.048018966 | validation_loss: 0.049223807 | Roc Score: 0.9682223 | Time elapsed: 2:51:35.840574\n",
            "iterations: 1173 | train_loss: 0.041943237 | validation_loss: 0.049628943 | Roc Score: 0.96822983 | Time elapsed: 2:51:44.795465\n",
            "iterations: 1174 | train_loss: 0.03214878 | validation_loss: 0.049960867 | Roc Score: 0.96823657 | Time elapsed: 2:51:54.128393\n",
            "iterations: 1175 | train_loss: 0.039162233 | validation_loss: 0.050031316 | Roc Score: 0.9682428 | Time elapsed: 2:52:03.222070\n",
            "iterations: 1176 | train_loss: 0.033961296 | validation_loss: 0.049870215 | Roc Score: 0.9682491 | Time elapsed: 2:52:11.914099\n",
            "iterations: 1177 | train_loss: 0.04587202 | validation_loss: 0.04906907 | Roc Score: 0.9682568 | Time elapsed: 2:52:21.219961\n",
            "iterations: 1178 | train_loss: 0.037895523 | validation_loss: 0.04832119 | Roc Score: 0.9682652 | Time elapsed: 2:52:30.044471\n",
            "iterations: 1179 | train_loss: 0.03555411 | validation_loss: 0.04892336 | Roc Score: 0.9682754 | Time elapsed: 2:52:39.118304\n",
            "iterations: 1180 | train_loss: 0.046146523 | validation_loss: 0.0499858 | Roc Score: 0.96828616 | Time elapsed: 2:52:48.192393\n",
            "iterations: 1181 | train_loss: 0.04044467 | validation_loss: 0.050670836 | Roc Score: 0.96829695 | Time elapsed: 2:52:56.976776\n",
            "iterations: 1182 | train_loss: 0.045543466 | validation_loss: 0.050024625 | Roc Score: 0.9683072 | Time elapsed: 2:53:04.954638\n",
            "iterations: 1183 | train_loss: 0.048417985 | validation_loss: 0.048750844 | Roc Score: 0.968316 | Time elapsed: 2:53:13.900083\n",
            "iterations: 1184 | train_loss: 0.048370536 | validation_loss: 0.048815593 | Roc Score: 0.9683236 | Time elapsed: 2:53:22.264487\n",
            "iterations: 1185 | train_loss: 0.031662 | validation_loss: 0.049737148 | Roc Score: 0.96832985 | Time elapsed: 2:53:30.518691\n",
            "iterations: 1186 | train_loss: 0.0677379 | validation_loss: 0.049887694 | Roc Score: 0.96833485 | Time elapsed: 2:53:40.166776\n",
            "iterations: 1187 | train_loss: 0.044302206 | validation_loss: 0.049825795 | Roc Score: 0.9683401 | Time elapsed: 2:53:48.217479\n",
            "iterations: 1188 | train_loss: 0.04033433 | validation_loss: 0.049848992 | Roc Score: 0.9683453 | Time elapsed: 2:53:56.153234\n",
            "iterations: 1189 | train_loss: 0.048679724 | validation_loss: 0.04972375 | Roc Score: 0.9683512 | Time elapsed: 2:54:04.120285\n",
            "iterations: 1190 | train_loss: 0.0442464 | validation_loss: 0.050307225 | Roc Score: 0.96835846 | Time elapsed: 2:54:12.742256\n",
            "iterations: 1191 | train_loss: 0.031049566 | validation_loss: 0.05113739 | Roc Score: 0.96836644 | Time elapsed: 2:54:21.456455\n",
            "iterations: 1192 | train_loss: 0.05886193 | validation_loss: 0.051150795 | Roc Score: 0.96837443 | Time elapsed: 2:54:30.605562\n",
            "iterations: 1193 | train_loss: 0.034100868 | validation_loss: 0.050635085 | Roc Score: 0.9683822 | Time elapsed: 2:54:39.852250\n",
            "iterations: 1194 | train_loss: 0.05585605 | validation_loss: 0.050197177 | Roc Score: 0.96838915 | Time elapsed: 2:54:49.337893\n",
            "iterations: 1195 | train_loss: 0.043335397 | validation_loss: 0.0500934 | Roc Score: 0.96839535 | Time elapsed: 2:54:58.516811\n",
            "iterations: 1196 | train_loss: 0.05127488 | validation_loss: 0.0499341 | Roc Score: 0.9684019 | Time elapsed: 2:55:07.754810\n",
            "iterations: 1197 | train_loss: 0.04737728 | validation_loss: 0.049740948 | Roc Score: 0.9684089 | Time elapsed: 2:55:15.953959\n",
            "iterations: 1198 | train_loss: 0.06277173 | validation_loss: 0.04889794 | Roc Score: 0.9684169 | Time elapsed: 2:55:24.753784\n",
            "iterations: 1199 | train_loss: 0.06678605 | validation_loss: 0.048082624 | Roc Score: 0.96842855 | Time elapsed: 2:55:33.510422\n",
            "iterations: 1200 | train_loss: 0.049634017 | validation_loss: 0.048113395 | Roc Score: 0.96844125 | Time elapsed: 2:55:42.610524\n",
            "iterations: 1201 | train_loss: 0.046296846 | validation_loss: 0.048926875 | Roc Score: 0.9684534 | Time elapsed: 2:55:52.116419\n",
            "iterations: 1202 | train_loss: 0.04674845 | validation_loss: 0.049536355 | Roc Score: 0.9684653 | Time elapsed: 2:56:01.417854\n",
            "iterations: 1203 | train_loss: 0.049189832 | validation_loss: 0.04937941 | Roc Score: 0.96847695 | Time elapsed: 2:56:09.785505\n",
            "iterations: 1204 | train_loss: 0.050162293 | validation_loss: 0.048820984 | Roc Score: 0.9684889 | Time elapsed: 2:56:18.948957\n",
            "iterations: 1205 | train_loss: 0.058783278 | validation_loss: 0.04815358 | Roc Score: 0.9685013 | Time elapsed: 2:56:27.871513\n",
            "iterations: 1206 | train_loss: 0.040586285 | validation_loss: 0.047476474 | Roc Score: 0.9685143 | Time elapsed: 2:56:36.597416\n",
            "iterations: 1207 | train_loss: 0.05062683 | validation_loss: 0.04736915 | Roc Score: 0.96852577 | Time elapsed: 2:56:45.683988\n",
            "iterations: 1208 | train_loss: 0.04105394 | validation_loss: 0.047766205 | Roc Score: 0.9685345 | Time elapsed: 2:56:54.596431\n"
          ],
          "name": "stdout"
        },
        {
          "output_type": "stream",
          "text": [
            "iterations: 1209 | train_loss: 0.044752855 | validation_loss: 0.04820153 | Roc Score: 0.96854186 | Time elapsed: 2:57:02.483497\n",
            "iterations: 1210 | train_loss: 0.024277292 | validation_loss: 0.048804972 | Roc Score: 0.9685479 | Time elapsed: 2:57:11.345763\n",
            "iterations: 1211 | train_loss: 0.037309654 | validation_loss: 0.049330477 | Roc Score: 0.9685529 | Time elapsed: 2:57:20.085243\n",
            "iterations: 1212 | train_loss: 0.03367516 | validation_loss: 0.049642734 | Roc Score: 0.9685578 | Time elapsed: 2:57:29.124960\n",
            "iterations: 1213 | train_loss: 0.04449642 | validation_loss: 0.05010275 | Roc Score: 0.9685606 | Time elapsed: 2:57:37.987699\n",
            "iterations: 1214 | train_loss: 0.047514427 | validation_loss: 0.05022448 | Roc Score: 0.9685638 | Time elapsed: 2:57:47.218885\n",
            "iterations: 1215 | train_loss: 0.05304731 | validation_loss: 0.05013146 | Roc Score: 0.96856666 | Time elapsed: 2:57:56.583646\n",
            "iterations: 1216 | train_loss: 0.03598585 | validation_loss: 0.049523197 | Roc Score: 0.9685715 | Time elapsed: 2:58:05.366740\n",
            "iterations: 1217 | train_loss: 0.023122953 | validation_loss: 0.049241442 | Roc Score: 0.9685755 | Time elapsed: 2:58:13.325983\n",
            "iterations: 1218 | train_loss: 0.04369181 | validation_loss: 0.048963714 | Roc Score: 0.96858126 | Time elapsed: 2:58:22.146497\n",
            "iterations: 1219 | train_loss: 0.050784778 | validation_loss: 0.04873474 | Roc Score: 0.9685872 | Time elapsed: 2:58:31.033325\n",
            "iterations: 1220 | train_loss: 0.050819177 | validation_loss: 0.04824679 | Roc Score: 0.9685953 | Time elapsed: 2:58:39.997711\n",
            "iterations: 1221 | train_loss: 0.043357655 | validation_loss: 0.0480168 | Roc Score: 0.9686048 | Time elapsed: 2:58:49.077838\n",
            "iterations: 1222 | train_loss: 0.04567713 | validation_loss: 0.04819321 | Roc Score: 0.96861553 | Time elapsed: 2:58:57.801959\n",
            "iterations: 1223 | train_loss: 0.05579319 | validation_loss: 0.04869825 | Roc Score: 0.9686266 | Time elapsed: 2:59:05.458891\n",
            "iterations: 1224 | train_loss: 0.03829267 | validation_loss: 0.04919367 | Roc Score: 0.9686372 | Time elapsed: 2:59:13.483920\n",
            "iterations: 1225 | train_loss: 0.040019248 | validation_loss: 0.04932958 | Roc Score: 0.9686479 | Time elapsed: 2:59:22.561291\n",
            "iterations: 1226 | train_loss: 0.050173324 | validation_loss: 0.049224406 | Roc Score: 0.9686585 | Time elapsed: 2:59:31.657702\n",
            "iterations: 1227 | train_loss: 0.03146977 | validation_loss: 0.048826147 | Roc Score: 0.9686684 | Time elapsed: 2:59:40.351057\n",
            "iterations: 1228 | train_loss: 0.037454497 | validation_loss: 0.048611052 | Roc Score: 0.96867806 | Time elapsed: 2:59:49.594976\n",
            "iterations: 1229 | train_loss: 0.04851188 | validation_loss: 0.04885832 | Roc Score: 0.9686853 | Time elapsed: 2:59:59.135453\n",
            "iterations: 1230 | train_loss: 0.069969445 | validation_loss: 0.04897356 | Roc Score: 0.9686923 | Time elapsed: 3:00:08.462575\n",
            "iterations: 1231 | train_loss: 0.042477254 | validation_loss: 0.048769686 | Roc Score: 0.9686996 | Time elapsed: 3:00:17.467391\n",
            "iterations: 1232 | train_loss: 0.040257886 | validation_loss: 0.04866397 | Roc Score: 0.9687063 | Time elapsed: 3:00:26.447547\n",
            "iterations: 1233 | train_loss: 0.07165625 | validation_loss: 0.048508115 | Roc Score: 0.96871364 | Time elapsed: 3:00:35.273525\n",
            "iterations: 1234 | train_loss: 0.05574122 | validation_loss: 0.048370317 | Roc Score: 0.9687213 | Time elapsed: 3:00:44.126432\n",
            "iterations: 1235 | train_loss: 0.04341281 | validation_loss: 0.04820849 | Roc Score: 0.9687287 | Time elapsed: 3:00:53.158220\n",
            "iterations: 1236 | train_loss: 0.04192873 | validation_loss: 0.048188433 | Roc Score: 0.9687374 | Time elapsed: 3:01:02.119471\n",
            "iterations: 1237 | train_loss: 0.033566635 | validation_loss: 0.048249412 | Roc Score: 0.968747 | Time elapsed: 3:01:11.129740\n",
            "iterations: 1238 | train_loss: 0.039043732 | validation_loss: 0.04870248 | Roc Score: 0.96875674 | Time elapsed: 3:01:20.042904\n",
            "iterations: 1239 | train_loss: 0.04997803 | validation_loss: 0.04926561 | Roc Score: 0.9687665 | Time elapsed: 3:01:29.249352\n",
            "iterations: 1240 | train_loss: 0.046741977 | validation_loss: 0.049229074 | Roc Score: 0.9687765 | Time elapsed: 3:01:37.118106\n",
            "iterations: 1241 | train_loss: 0.04361234 | validation_loss: 0.048785936 | Roc Score: 0.96878684 | Time elapsed: 3:01:45.942781\n",
            "iterations: 1242 | train_loss: 0.03670773 | validation_loss: 0.0481336 | Roc Score: 0.96879655 | Time elapsed: 3:01:54.300863\n",
            "iterations: 1243 | train_loss: 0.05139095 | validation_loss: 0.04790228 | Roc Score: 0.96880543 | Time elapsed: 3:02:02.305901\n",
            "iterations: 1244 | train_loss: 0.053782176 | validation_loss: 0.048050582 | Roc Score: 0.96881413 | Time elapsed: 3:02:11.536213\n",
            "iterations: 1245 | train_loss: 0.06194053 | validation_loss: 0.04802328 | Roc Score: 0.9688227 | Time elapsed: 3:02:21.087026\n",
            "iterations: 1246 | train_loss: 0.030211445 | validation_loss: 0.04809324 | Roc Score: 0.9688315 | Time elapsed: 3:02:30.266352\n",
            "iterations: 1247 | train_loss: 0.037817575 | validation_loss: 0.048091363 | Roc Score: 0.96884 | Time elapsed: 3:02:39.167712\n"
          ],
          "name": "stdout"
        },
        {
          "output_type": "stream",
          "text": [
            "iterations: 1248 | train_loss: 0.0456493 | validation_loss: 0.047992047 | Roc Score: 0.9688488 | Time elapsed: 3:02:48.493402\n",
            "iterations: 1249 | train_loss: 0.04752817 | validation_loss: 0.047979224 | Roc Score: 0.96885824 | Time elapsed: 3:02:57.499215\n",
            "iterations: 1250 | train_loss: 0.052023686 | validation_loss: 0.048266392 | Roc Score: 0.9688679 | Time elapsed: 3:03:06.418343\n",
            "iterations: 1251 | train_loss: 0.060171712 | validation_loss: 0.04869019 | Roc Score: 0.9688783 | Time elapsed: 3:03:15.046015\n",
            "iterations: 1252 | train_loss: 0.04613441 | validation_loss: 0.049231894 | Roc Score: 0.9688882 | Time elapsed: 3:03:24.128933\n",
            "iterations: 1253 | train_loss: 0.050174106 | validation_loss: 0.049210012 | Roc Score: 0.9688983 | Time elapsed: 3:03:32.714482\n",
            "iterations: 1254 | train_loss: 0.03893513 | validation_loss: 0.048836235 | Roc Score: 0.9689079 | Time elapsed: 3:03:40.820152\n",
            "iterations: 1255 | train_loss: 0.028355738 | validation_loss: 0.048488293 | Roc Score: 0.9689169 | Time elapsed: 3:03:48.994305\n",
            "iterations: 1256 | train_loss: 0.058931865 | validation_loss: 0.048482254 | Roc Score: 0.96892536 | Time elapsed: 3:03:57.045215\n",
            "iterations: 1257 | train_loss: 0.057738747 | validation_loss: 0.048443176 | Roc Score: 0.96893424 | Time elapsed: 3:04:05.405019\n",
            "iterations: 1258 | train_loss: 0.055298608 | validation_loss: 0.048152003 | Roc Score: 0.96894276 | Time elapsed: 3:04:14.196399\n",
            "iterations: 1259 | train_loss: 0.022541735 | validation_loss: 0.04797763 | Roc Score: 0.9689514 | Time elapsed: 3:04:22.928046\n",
            "iterations: 1260 | train_loss: 0.043160178 | validation_loss: 0.047886476 | Roc Score: 0.9689602 | Time elapsed: 3:04:31.967494\n",
            "iterations: 1261 | train_loss: 0.03182024 | validation_loss: 0.047881167 | Roc Score: 0.9689686 | Time elapsed: 3:04:40.514204\n",
            "iterations: 1262 | train_loss: 0.059571646 | validation_loss: 0.0478536 | Roc Score: 0.96897674 | Time elapsed: 3:04:49.329744\n",
            "iterations: 1263 | train_loss: 0.038767766 | validation_loss: 0.047866996 | Roc Score: 0.96898556 | Time elapsed: 3:04:57.221184\n",
            "iterations: 1264 | train_loss: 0.050801013 | validation_loss: 0.047893245 | Roc Score: 0.9689946 | Time elapsed: 3:05:05.500982\n",
            "iterations: 1265 | train_loss: 0.03407532 | validation_loss: 0.048044793 | Roc Score: 0.9690037 | Time elapsed: 3:05:14.300734\n",
            "iterations: 1266 | train_loss: 0.043683276 | validation_loss: 0.04821183 | Roc Score: 0.9690125 | Time elapsed: 3:05:23.376757\n",
            "iterations: 1267 | train_loss: 0.044390555 | validation_loss: 0.048330028 | Roc Score: 0.9690216 | Time elapsed: 3:05:32.124957\n",
            "iterations: 1268 | train_loss: 0.0372422 | validation_loss: 0.0483445 | Roc Score: 0.9690306 | Time elapsed: 3:05:40.361949\n",
            "iterations: 1269 | train_loss: 0.026873192 | validation_loss: 0.04824264 | Roc Score: 0.9690399 | Time elapsed: 3:05:49.523168\n",
            "iterations: 1270 | train_loss: 0.038424153 | validation_loss: 0.048237547 | Roc Score: 0.9690476 | Time elapsed: 3:05:58.544081\n",
            "iterations: 1271 | train_loss: 0.027824322 | validation_loss: 0.048434228 | Roc Score: 0.9690547 | Time elapsed: 3:06:07.509988\n",
            "iterations: 1272 | train_loss: 0.042487662 | validation_loss: 0.04889558 | Roc Score: 0.9690611 | Time elapsed: 3:06:16.510375\n",
            "iterations: 1273 | train_loss: 0.047544487 | validation_loss: 0.049313933 | Roc Score: 0.96906596 | Time elapsed: 3:06:25.176970\n",
            "iterations: 1274 | train_loss: 0.060282003 | validation_loss: 0.04897584 | Roc Score: 0.9690712 | Time elapsed: 3:06:34.194856\n",
            "iterations: 1275 | train_loss: 0.047368623 | validation_loss: 0.048237585 | Roc Score: 0.96907836 | Time elapsed: 3:06:43.425276\n",
            "iterations: 1276 | train_loss: 0.022643754 | validation_loss: 0.047948267 | Roc Score: 0.9690867 | Time elapsed: 3:06:52.282689\n",
            "iterations: 1277 | train_loss: 0.039953656 | validation_loss: 0.047709957 | Roc Score: 0.9690959 | Time elapsed: 3:07:00.737416\n",
            "iterations: 1278 | train_loss: 0.045557503 | validation_loss: 0.047627535 | Roc Score: 0.9691059 | Time elapsed: 3:07:09.383665\n",
            "iterations: 1279 | train_loss: 0.037411567 | validation_loss: 0.04775063 | Roc Score: 0.9691165 | Time elapsed: 3:07:18.538569\n",
            "iterations: 1280 | train_loss: 0.024599025 | validation_loss: 0.047861397 | Roc Score: 0.9691275 | Time elapsed: 3:07:27.234699\n",
            "iterations: 1281 | train_loss: 0.034369525 | validation_loss: 0.047828615 | Roc Score: 0.96913755 | Time elapsed: 3:07:36.046808\n",
            "iterations: 1282 | train_loss: 0.0366574 | validation_loss: 0.047905978 | Roc Score: 0.96914744 | Time elapsed: 3:07:45.238240\n",
            "iterations: 1283 | train_loss: 0.052654494 | validation_loss: 0.047913983 | Roc Score: 0.969157 | Time elapsed: 3:07:53.989104\n",
            "iterations: 1284 | train_loss: 0.0682979 | validation_loss: 0.04801982 | Roc Score: 0.9691666 | Time elapsed: 3:08:02.160721\n",
            "iterations: 1285 | train_loss: 0.04627808 | validation_loss: 0.04824651 | Roc Score: 0.96917623 | Time elapsed: 3:08:10.785632\n",
            "iterations: 1286 | train_loss: 0.04885473 | validation_loss: 0.04843336 | Roc Score: 0.96918565 | Time elapsed: 3:08:19.940270\n"
          ],
          "name": "stdout"
        },
        {
          "output_type": "stream",
          "text": [
            "iterations: 1287 | train_loss: 0.037738077 | validation_loss: 0.048609853 | Roc Score: 0.96919525 | Time elapsed: 3:08:28.460981\n",
            "iterations: 1288 | train_loss: 0.032980368 | validation_loss: 0.04849386 | Roc Score: 0.96920496 | Time elapsed: 3:08:37.364469\n",
            "iterations: 1289 | train_loss: 0.043019664 | validation_loss: 0.048339635 | Roc Score: 0.96921396 | Time elapsed: 3:08:46.963589\n",
            "iterations: 1290 | train_loss: 0.04418345 | validation_loss: 0.048199877 | Roc Score: 0.9692226 | Time elapsed: 3:08:55.950775\n",
            "iterations: 1291 | train_loss: 0.040802475 | validation_loss: 0.04808605 | Roc Score: 0.969231 | Time elapsed: 3:09:04.959735\n",
            "iterations: 1292 | train_loss: 0.04193264 | validation_loss: 0.048088837 | Roc Score: 0.9692392 | Time elapsed: 3:09:13.908080\n",
            "iterations: 1293 | train_loss: 0.06426995 | validation_loss: 0.048024938 | Roc Score: 0.969247 | Time elapsed: 3:09:22.924293\n",
            "iterations: 1294 | train_loss: 0.023439733 | validation_loss: 0.04809306 | Roc Score: 0.96925414 | Time elapsed: 3:09:31.655879\n",
            "iterations: 1295 | train_loss: 0.06792765 | validation_loss: 0.048094433 | Roc Score: 0.9692613 | Time elapsed: 3:09:40.832414\n",
            "iterations: 1296 | train_loss: 0.0440865 | validation_loss: 0.048125535 | Roc Score: 0.9692687 | Time elapsed: 3:09:49.748747\n",
            "iterations: 1297 | train_loss: 0.05142669 | validation_loss: 0.04806799 | Roc Score: 0.96927667 | Time elapsed: 3:09:58.740783\n",
            "iterations: 1298 | train_loss: 0.030038541 | validation_loss: 0.04802635 | Roc Score: 0.9692846 | Time elapsed: 3:10:07.961869\n",
            "iterations: 1299 | train_loss: 0.05841447 | validation_loss: 0.048058704 | Roc Score: 0.9692925 | Time elapsed: 3:10:16.940747\n",
            "iterations: 1300 | train_loss: 0.052976653 | validation_loss: 0.047946338 | Roc Score: 0.96930045 | Time elapsed: 3:10:26.030652\n",
            "iterations: 1301 | train_loss: 0.033102687 | validation_loss: 0.047853146 | Roc Score: 0.9693094 | Time elapsed: 3:10:35.053864\n",
            "iterations: 1302 | train_loss: 0.04487973 | validation_loss: 0.047816183 | Roc Score: 0.9693183 | Time elapsed: 3:10:42.998662\n",
            "iterations: 1303 | train_loss: 0.03503182 | validation_loss: 0.04782027 | Roc Score: 0.96932703 | Time elapsed: 3:10:51.920132\n",
            "iterations: 1304 | train_loss: 0.05582095 | validation_loss: 0.047719862 | Roc Score: 0.9693361 | Time elapsed: 3:11:00.867010\n",
            "iterations: 1305 | train_loss: 0.0339227 | validation_loss: 0.047795087 | Roc Score: 0.9693452 | Time elapsed: 3:11:09.445305\n",
            "iterations: 1306 | train_loss: 0.037218366 | validation_loss: 0.047975313 | Roc Score: 0.96935433 | Time elapsed: 3:11:19.043880\n",
            "iterations: 1307 | train_loss: 0.045577087 | validation_loss: 0.04793423 | Roc Score: 0.9693637 | Time elapsed: 3:11:28.262890\n",
            "iterations: 1308 | train_loss: 0.04634804 | validation_loss: 0.04792202 | Roc Score: 0.9693726 | Time elapsed: 3:11:37.289489\n",
            "iterations: 1309 | train_loss: 0.04236294 | validation_loss: 0.047827166 | Roc Score: 0.96938235 | Time elapsed: 3:11:46.236659\n",
            "iterations: 1310 | train_loss: 0.034658913 | validation_loss: 0.047721002 | Roc Score: 0.9693918 | Time elapsed: 3:11:54.994116\n",
            "iterations: 1311 | train_loss: 0.041849 | validation_loss: 0.047646914 | Roc Score: 0.9694017 | Time elapsed: 3:12:03.503056\n",
            "iterations: 1312 | train_loss: 0.051183116 | validation_loss: 0.04767417 | Roc Score: 0.96941143 | Time elapsed: 3:12:12.625429\n",
            "iterations: 1313 | train_loss: 0.044457946 | validation_loss: 0.047704324 | Roc Score: 0.96942115 | Time elapsed: 3:12:21.664726\n",
            "iterations: 1314 | train_loss: 0.045178957 | validation_loss: 0.04776456 | Roc Score: 0.96943116 | Time elapsed: 3:12:30.571670\n",
            "iterations: 1315 | train_loss: 0.037619382 | validation_loss: 0.04769735 | Roc Score: 0.96944046 | Time elapsed: 3:12:38.797973\n",
            "iterations: 1316 | train_loss: 0.043344185 | validation_loss: 0.047758475 | Roc Score: 0.9694492 | Time elapsed: 3:12:47.564860\n",
            "iterations: 1317 | train_loss: 0.049361236 | validation_loss: 0.047893297 | Roc Score: 0.9694573 | Time elapsed: 3:12:56.236443\n",
            "iterations: 1318 | train_loss: 0.045414407 | validation_loss: 0.04804494 | Roc Score: 0.96946526 | Time elapsed: 3:13:04.888479\n",
            "iterations: 1319 | train_loss: 0.03249575 | validation_loss: 0.04815041 | Roc Score: 0.9694732 | Time elapsed: 3:13:13.760458\n",
            "iterations: 1320 | train_loss: 0.024020977 | validation_loss: 0.048378456 | Roc Score: 0.9694807 | Time elapsed: 3:13:22.802633\n",
            "iterations: 1321 | train_loss: 0.043614265 | validation_loss: 0.048539404 | Roc Score: 0.9694872 | Time elapsed: 3:13:31.026544\n",
            "iterations: 1322 | train_loss: 0.039852902 | validation_loss: 0.048569623 | Roc Score: 0.96949357 | Time elapsed: 3:13:39.996384\n",
            "iterations: 1323 | train_loss: 0.032540035 | validation_loss: 0.04852335 | Roc Score: 0.9694996 | Time elapsed: 3:13:49.050837\n",
            "iterations: 1324 | train_loss: 0.037076175 | validation_loss: 0.048636883 | Roc Score: 0.9695053 | Time elapsed: 3:13:58.068530\n",
            "iterations: 1325 | train_loss: 0.04214483 | validation_loss: 0.048572227 | Roc Score: 0.9695111 | Time elapsed: 3:14:07.448212\n"
          ],
          "name": "stdout"
        },
        {
          "output_type": "stream",
          "text": [
            "iterations: 1326 | train_loss: 0.05371496 | validation_loss: 0.04823752 | Roc Score: 0.9695181 | Time elapsed: 3:14:16.621406\n",
            "iterations: 1327 | train_loss: 0.026672192 | validation_loss: 0.048178438 | Roc Score: 0.9695259 | Time elapsed: 3:14:25.230035\n",
            "iterations: 1328 | train_loss: 0.05818908 | validation_loss: 0.048174117 | Roc Score: 0.96953464 | Time elapsed: 3:14:33.600720\n",
            "iterations: 1329 | train_loss: 0.039018728 | validation_loss: 0.048337582 | Roc Score: 0.96954393 | Time elapsed: 3:14:41.993420\n",
            "iterations: 1330 | train_loss: 0.042844273 | validation_loss: 0.048265997 | Roc Score: 0.96955353 | Time elapsed: 3:14:50.214081\n",
            "iterations: 1331 | train_loss: 0.044116877 | validation_loss: 0.048172485 | Roc Score: 0.96956295 | Time elapsed: 3:14:58.230501\n",
            "iterations: 1332 | train_loss: 0.031706866 | validation_loss: 0.0477775 | Roc Score: 0.96957123 | Time elapsed: 3:15:06.394856\n",
            "iterations: 1333 | train_loss: 0.028863447 | validation_loss: 0.047733307 | Roc Score: 0.9695792 | Time elapsed: 3:15:14.656049\n",
            "iterations: 1334 | train_loss: 0.050104253 | validation_loss: 0.047869768 | Roc Score: 0.96958613 | Time elapsed: 3:15:23.328691\n",
            "iterations: 1335 | train_loss: 0.05862235 | validation_loss: 0.048052628 | Roc Score: 0.9695927 | Time elapsed: 3:15:32.238249\n",
            "iterations: 1336 | train_loss: 0.045177422 | validation_loss: 0.04823027 | Roc Score: 0.9695987 | Time elapsed: 3:15:41.413063\n",
            "iterations: 1337 | train_loss: 0.020539878 | validation_loss: 0.048488975 | Roc Score: 0.9696043 | Time elapsed: 3:15:50.513893\n",
            "iterations: 1338 | train_loss: 0.05299204 | validation_loss: 0.048487548 | Roc Score: 0.9696102 | Time elapsed: 3:15:59.717648\n",
            "iterations: 1339 | train_loss: 0.037369736 | validation_loss: 0.04863712 | Roc Score: 0.9696156 | Time elapsed: 3:16:08.592706\n",
            "iterations: 1340 | train_loss: 0.070136085 | validation_loss: 0.048664447 | Roc Score: 0.96962124 | Time elapsed: 3:16:17.598970\n",
            "iterations: 1341 | train_loss: 0.044207774 | validation_loss: 0.048952438 | Roc Score: 0.96962684 | Time elapsed: 3:16:26.351521\n",
            "iterations: 1342 | train_loss: 0.036280293 | validation_loss: 0.048920352 | Roc Score: 0.96963257 | Time elapsed: 3:16:35.438426\n",
            "iterations: 1343 | train_loss: 0.0458612 | validation_loss: 0.048808243 | Roc Score: 0.9696387 | Time elapsed: 3:16:44.331547\n",
            "iterations: 1344 | train_loss: 0.053396326 | validation_loss: 0.048267256 | Roc Score: 0.9696457 | Time elapsed: 3:16:53.357056\n",
            "iterations: 1345 | train_loss: 0.04436906 | validation_loss: 0.04827246 | Roc Score: 0.9696535 | Time elapsed: 3:17:02.361189\n",
            "iterations: 1346 | train_loss: 0.03853791 | validation_loss: 0.048516337 | Roc Score: 0.9696618 | Time elapsed: 3:17:11.741404\n",
            "iterations: 1347 | train_loss: 0.033694267 | validation_loss: 0.048787538 | Roc Score: 0.96966964 | Time elapsed: 3:17:20.735277\n",
            "iterations: 1348 | train_loss: 0.03967314 | validation_loss: 0.048981134 | Roc Score: 0.9696767 | Time elapsed: 3:17:29.413884\n",
            "iterations: 1349 | train_loss: 0.03546241 | validation_loss: 0.049126144 | Roc Score: 0.9696828 | Time elapsed: 3:17:38.997825\n",
            "iterations: 1350 | train_loss: 0.034214765 | validation_loss: 0.049737263 | Roc Score: 0.96968704 | Time elapsed: 3:17:47.109352\n",
            "iterations: 1351 | train_loss: 0.05056794 | validation_loss: 0.05020176 | Roc Score: 0.96969044 | Time elapsed: 3:17:55.691182\n",
            "iterations: 1352 | train_loss: 0.026143188 | validation_loss: 0.05059505 | Roc Score: 0.9696936 | Time elapsed: 3:18:04.756519\n",
            "iterations: 1353 | train_loss: 0.024238516 | validation_loss: 0.05111173 | Roc Score: 0.96969545 | Time elapsed: 3:18:13.773809\n",
            "iterations: 1354 | train_loss: 0.045923684 | validation_loss: 0.05157419 | Roc Score: 0.96969664 | Time elapsed: 3:18:22.706106\n",
            "iterations: 1355 | train_loss: 0.041530687 | validation_loss: 0.051344804 | Roc Score: 0.9696979 | Time elapsed: 3:18:31.949918\n",
            "iterations: 1356 | train_loss: 0.036675025 | validation_loss: 0.05087005 | Roc Score: 0.9696997 | Time elapsed: 3:18:40.947052\n",
            "iterations: 1357 | train_loss: 0.033126935 | validation_loss: 0.050650243 | Roc Score: 0.9697017 | Time elapsed: 3:18:50.174783\n",
            "iterations: 1358 | train_loss: 0.03346831 | validation_loss: 0.05042419 | Roc Score: 0.9697034 | Time elapsed: 3:18:59.028386\n",
            "iterations: 1359 | train_loss: 0.051036455 | validation_loss: 0.04985735 | Roc Score: 0.9697055 | Time elapsed: 3:19:07.957952\n",
            "iterations: 1360 | train_loss: 0.034827225 | validation_loss: 0.049558744 | Roc Score: 0.9697085 | Time elapsed: 3:19:16.624788\n",
            "iterations: 1361 | train_loss: 0.03986976 | validation_loss: 0.049067307 | Roc Score: 0.96971315 | Time elapsed: 3:19:25.186551\n",
            "iterations: 1362 | train_loss: 0.052038103 | validation_loss: 0.048604473 | Roc Score: 0.9697194 | Time elapsed: 3:19:34.158001\n",
            "iterations: 1363 | train_loss: 0.031336296 | validation_loss: 0.048625752 | Roc Score: 0.9697261 | Time elapsed: 3:19:43.350581\n",
            "iterations: 1364 | train_loss: 0.037896525 | validation_loss: 0.048703175 | Roc Score: 0.96973354 | Time elapsed: 3:19:52.349367\n"
          ],
          "name": "stdout"
        },
        {
          "output_type": "stream",
          "text": [
            "iterations: 1365 | train_loss: 0.04092379 | validation_loss: 0.04872183 | Roc Score: 0.96974087 | Time elapsed: 3:20:00.936752\n",
            "iterations: 1366 | train_loss: 0.044197485 | validation_loss: 0.0486166 | Roc Score: 0.9697487 | Time elapsed: 3:20:10.149546\n",
            "iterations: 1367 | train_loss: 0.04914676 | validation_loss: 0.048582714 | Roc Score: 0.9697568 | Time elapsed: 3:20:19.140955\n",
            "iterations: 1368 | train_loss: 0.043057255 | validation_loss: 0.048523787 | Roc Score: 0.96976435 | Time elapsed: 3:20:27.522101\n",
            "iterations: 1369 | train_loss: 0.062004503 | validation_loss: 0.04867478 | Roc Score: 0.9697715 | Time elapsed: 3:20:36.221694\n",
            "iterations: 1370 | train_loss: 0.066007644 | validation_loss: 0.048841733 | Roc Score: 0.9697787 | Time elapsed: 3:20:44.882148\n",
            "iterations: 1371 | train_loss: 0.06265818 | validation_loss: 0.048923254 | Roc Score: 0.9697858 | Time elapsed: 3:20:53.866032\n",
            "iterations: 1372 | train_loss: 0.055421963 | validation_loss: 0.04906206 | Roc Score: 0.96979314 | Time elapsed: 3:21:03.088075\n",
            "iterations: 1373 | train_loss: 0.03645214 | validation_loss: 0.048967928 | Roc Score: 0.9698003 | Time elapsed: 3:21:12.164994\n",
            "iterations: 1374 | train_loss: 0.031030308 | validation_loss: 0.048982322 | Roc Score: 0.9698073 | Time elapsed: 3:21:20.113029\n",
            "iterations: 1375 | train_loss: 0.04868407 | validation_loss: 0.04914137 | Roc Score: 0.96981394 | Time elapsed: 3:21:29.046743\n",
            "iterations: 1376 | train_loss: 0.042042285 | validation_loss: 0.04957134 | Roc Score: 0.9698194 | Time elapsed: 3:21:37.911297\n",
            "iterations: 1377 | train_loss: 0.05187505 | validation_loss: 0.04977015 | Roc Score: 0.96982443 | Time elapsed: 3:21:46.707207\n",
            "iterations: 1378 | train_loss: 0.03953686 | validation_loss: 0.049794085 | Roc Score: 0.96982944 | Time elapsed: 3:21:54.820719\n",
            "iterations: 1379 | train_loss: 0.046249703 | validation_loss: 0.04955837 | Roc Score: 0.96983474 | Time elapsed: 3:22:03.513359\n",
            "iterations: 1380 | train_loss: 0.033007525 | validation_loss: 0.049205594 | Roc Score: 0.9698406 | Time elapsed: 3:22:12.708942\n",
            "iterations: 1381 | train_loss: 0.029379575 | validation_loss: 0.048720945 | Roc Score: 0.9698472 | Time elapsed: 3:22:21.580312\n",
            "iterations: 1382 | train_loss: 0.03480571 | validation_loss: 0.048375506 | Roc Score: 0.9698538 | Time elapsed: 3:22:30.310549\n",
            "iterations: 1383 | train_loss: 0.03299682 | validation_loss: 0.04819024 | Roc Score: 0.96986055 | Time elapsed: 3:22:38.971032\n",
            "iterations: 1384 | train_loss: 0.052936986 | validation_loss: 0.048080977 | Roc Score: 0.9698676 | Time elapsed: 3:22:47.007255\n",
            "iterations: 1385 | train_loss: 0.030110788 | validation_loss: 0.047978092 | Roc Score: 0.9698751 | Time elapsed: 3:22:55.389918\n",
            "iterations: 1386 | train_loss: 0.043981552 | validation_loss: 0.04787603 | Roc Score: 0.96988285 | Time elapsed: 3:23:04.078485\n",
            "iterations: 1387 | train_loss: 0.03953787 | validation_loss: 0.047922138 | Roc Score: 0.96989053 | Time elapsed: 3:23:11.943722\n",
            "iterations: 1388 | train_loss: 0.035168357 | validation_loss: 0.048001654 | Roc Score: 0.9698984 | Time elapsed: 3:23:20.658878\n",
            "iterations: 1389 | train_loss: 0.028503755 | validation_loss: 0.048023112 | Roc Score: 0.96990603 | Time elapsed: 3:23:28.599535\n",
            "iterations: 1390 | train_loss: 0.051572114 | validation_loss: 0.047988314 | Roc Score: 0.96991384 | Time elapsed: 3:23:36.992234\n",
            "iterations: 1391 | train_loss: 0.050932463 | validation_loss: 0.047985643 | Roc Score: 0.96992177 | Time elapsed: 3:23:45.982383\n",
            "iterations: 1392 | train_loss: 0.03423086 | validation_loss: 0.047975607 | Roc Score: 0.9699298 | Time elapsed: 3:23:54.057840\n",
            "iterations: 1393 | train_loss: 0.053496648 | validation_loss: 0.047962267 | Roc Score: 0.969937 | Time elapsed: 3:24:02.092814\n",
            "iterations: 1394 | train_loss: 0.030812101 | validation_loss: 0.048150934 | Roc Score: 0.96994394 | Time elapsed: 3:24:10.674059\n",
            "iterations: 1395 | train_loss: 0.039299686 | validation_loss: 0.048392158 | Roc Score: 0.9699506 | Time elapsed: 3:24:19.730745\n",
            "iterations: 1396 | train_loss: 0.040826187 | validation_loss: 0.04873694 | Roc Score: 0.9699573 | Time elapsed: 3:24:28.832387\n",
            "iterations: 1397 | train_loss: 0.0295616 | validation_loss: 0.048933737 | Roc Score: 0.96996355 | Time elapsed: 3:24:37.390700\n",
            "iterations: 1398 | train_loss: 0.042331953 | validation_loss: 0.049074765 | Roc Score: 0.96997005 | Time elapsed: 3:24:46.030955\n",
            "iterations: 1399 | train_loss: 0.040317968 | validation_loss: 0.049107485 | Roc Score: 0.96997595 | Time elapsed: 3:24:54.412073\n",
            "iterations: 1400 | train_loss: 0.071693055 | validation_loss: 0.04904643 | Roc Score: 0.9699821 | Time elapsed: 3:25:02.619312\n",
            "iterations: 1401 | train_loss: 0.042085506 | validation_loss: 0.04892277 | Roc Score: 0.9699884 | Time elapsed: 3:25:10.767105\n",
            "iterations: 1402 | train_loss: 0.032534108 | validation_loss: 0.04865127 | Roc Score: 0.96999425 | Time elapsed: 3:25:20.082774\n",
            "iterations: 1403 | train_loss: 0.035605863 | validation_loss: 0.04837967 | Roc Score: 0.9700004 | Time elapsed: 3:25:29.416086\n"
          ],
          "name": "stdout"
        },
        {
          "output_type": "stream",
          "text": [
            "iterations: 1404 | train_loss: 0.03570404 | validation_loss: 0.04808879 | Roc Score: 0.9700066 | Time elapsed: 3:25:37.734924\n",
            "iterations: 1405 | train_loss: 0.052917022 | validation_loss: 0.0480609 | Roc Score: 0.97001356 | Time elapsed: 3:25:46.682284\n",
            "iterations: 1406 | train_loss: 0.028866274 | validation_loss: 0.048094943 | Roc Score: 0.97002083 | Time elapsed: 3:25:55.824433\n",
            "iterations: 1407 | train_loss: 0.061553344 | validation_loss: 0.048117846 | Roc Score: 0.9700281 | Time elapsed: 3:26:04.814027\n",
            "iterations: 1408 | train_loss: 0.050061394 | validation_loss: 0.048296113 | Roc Score: 0.9700352 | Time elapsed: 3:26:13.500608\n",
            "iterations: 1409 | train_loss: 0.06469382 | validation_loss: 0.04830954 | Roc Score: 0.9700414 | Time elapsed: 3:26:22.642385\n",
            "iterations: 1410 | train_loss: 0.03726003 | validation_loss: 0.048498232 | Roc Score: 0.9700474 | Time elapsed: 3:26:31.608309\n",
            "iterations: 1411 | train_loss: 0.04714315 | validation_loss: 0.04863522 | Roc Score: 0.97005254 | Time elapsed: 3:26:40.895531\n",
            "iterations: 1412 | train_loss: 0.051424623 | validation_loss: 0.048622694 | Roc Score: 0.9700586 | Time elapsed: 3:26:49.926959\n",
            "iterations: 1413 | train_loss: 0.04566037 | validation_loss: 0.048574876 | Roc Score: 0.97006494 | Time elapsed: 3:26:59.202359\n",
            "iterations: 1414 | train_loss: 0.042838138 | validation_loss: 0.048406985 | Roc Score: 0.970071 | Time elapsed: 3:27:08.372098\n",
            "iterations: 1415 | train_loss: 0.042245407 | validation_loss: 0.0483372 | Roc Score: 0.9700766 | Time elapsed: 3:27:17.532652\n",
            "iterations: 1416 | train_loss: 0.0385711 | validation_loss: 0.04819518 | Roc Score: 0.9700821 | Time elapsed: 3:27:26.244821\n",
            "iterations: 1417 | train_loss: 0.033464283 | validation_loss: 0.048235055 | Roc Score: 0.97008723 | Time elapsed: 3:27:35.390504\n",
            "iterations: 1418 | train_loss: 0.042093527 | validation_loss: 0.04830075 | Roc Score: 0.97009236 | Time elapsed: 3:27:43.768636\n",
            "iterations: 1419 | train_loss: 0.03590426 | validation_loss: 0.048439603 | Roc Score: 0.9700967 | Time elapsed: 3:27:52.654371\n",
            "iterations: 1420 | train_loss: 0.02932859 | validation_loss: 0.048368618 | Roc Score: 0.97010154 | Time elapsed: 3:28:01.046338\n",
            "iterations: 1421 | train_loss: 0.033301342 | validation_loss: 0.048329256 | Roc Score: 0.9701061 | Time elapsed: 3:28:09.319438\n",
            "iterations: 1422 | train_loss: 0.053147133 | validation_loss: 0.048093166 | Roc Score: 0.9701114 | Time elapsed: 3:28:17.457881\n",
            "iterations: 1423 | train_loss: 0.033284396 | validation_loss: 0.04805856 | Roc Score: 0.97011685 | Time elapsed: 3:28:26.561930\n",
            "iterations: 1424 | train_loss: 0.030677233 | validation_loss: 0.048078343 | Roc Score: 0.97012216 | Time elapsed: 3:28:35.305375\n",
            "iterations: 1425 | train_loss: 0.046988614 | validation_loss: 0.048133418 | Roc Score: 0.9701273 | Time elapsed: 3:28:44.705339\n",
            "iterations: 1426 | train_loss: 0.042988334 | validation_loss: 0.04814222 | Roc Score: 0.97013193 | Time elapsed: 3:28:53.675434\n",
            "iterations: 1427 | train_loss: 0.03448601 | validation_loss: 0.048282612 | Roc Score: 0.97013676 | Time elapsed: 3:29:02.473442\n",
            "iterations: 1428 | train_loss: 0.03593158 | validation_loss: 0.048322137 | Roc Score: 0.9701417 | Time elapsed: 3:29:11.360185\n",
            "iterations: 1429 | train_loss: 0.048967533 | validation_loss: 0.04851842 | Roc Score: 0.9701464 | Time elapsed: 3:29:20.781912\n",
            "iterations: 1430 | train_loss: 0.045928728 | validation_loss: 0.048615016 | Roc Score: 0.970151 | Time elapsed: 3:29:29.812737\n",
            "iterations: 1431 | train_loss: 0.043334153 | validation_loss: 0.049207736 | Roc Score: 0.97015685 | Time elapsed: 3:29:38.817800\n",
            "iterations: 1432 | train_loss: 0.04960123 | validation_loss: 0.050653085 | Roc Score: 0.97016364 | Time elapsed: 3:29:47.074141\n",
            "iterations: 1433 | train_loss: 0.04333508 | validation_loss: 0.052371383 | Roc Score: 0.97017086 | Time elapsed: 3:29:55.557372\n",
            "iterations: 1434 | train_loss: 0.033858795 | validation_loss: 0.053237177 | Roc Score: 0.97017723 | Time elapsed: 3:30:04.230661\n",
            "iterations: 1435 | train_loss: 0.03256875 | validation_loss: 0.0528411 | Roc Score: 0.9701836 | Time elapsed: 3:30:13.360116\n",
            "iterations: 1436 | train_loss: 0.04358898 | validation_loss: 0.05156644 | Roc Score: 0.97018933 | Time elapsed: 3:30:21.618095\n",
            "iterations: 1437 | train_loss: 0.0415909 | validation_loss: 0.050297566 | Roc Score: 0.9701939 | Time elapsed: 3:30:30.008796\n",
            "iterations: 1438 | train_loss: 0.03602651 | validation_loss: 0.04959473 | Roc Score: 0.9701974 | Time elapsed: 3:30:38.535251\n",
            "iterations: 1439 | train_loss: 0.034740675 | validation_loss: 0.04950023 | Roc Score: 0.9702004 | Time elapsed: 3:30:47.444940\n",
            "iterations: 1440 | train_loss: 0.049158845 | validation_loss: 0.049580302 | Roc Score: 0.97020245 | Time elapsed: 3:30:56.875180\n",
            "iterations: 1441 | train_loss: 0.038016066 | validation_loss: 0.04947784 | Roc Score: 0.97020435 | Time elapsed: 3:31:05.816221\n",
            "iterations: 1442 | train_loss: 0.046785038 | validation_loss: 0.049334202 | Roc Score: 0.9702066 | Time elapsed: 3:31:15.105393\n"
          ],
          "name": "stdout"
        },
        {
          "output_type": "stream",
          "text": [
            "iterations: 1443 | train_loss: 0.046323825 | validation_loss: 0.048620913 | Roc Score: 0.97021073 | Time elapsed: 3:31:22.854222\n",
            "iterations: 1444 | train_loss: 0.047352664 | validation_loss: 0.04777601 | Roc Score: 0.9702171 | Time elapsed: 3:31:32.126984\n",
            "iterations: 1445 | train_loss: 0.043457214 | validation_loss: 0.047347244 | Roc Score: 0.9702247 | Time elapsed: 3:31:41.040026\n",
            "iterations: 1446 | train_loss: 0.043438066 | validation_loss: 0.047507282 | Roc Score: 0.9702324 | Time elapsed: 3:31:49.561167\n",
            "iterations: 1447 | train_loss: 0.039108787 | validation_loss: 0.047791142 | Roc Score: 0.9702404 | Time elapsed: 3:31:58.581515\n",
            "iterations: 1448 | train_loss: 0.047718056 | validation_loss: 0.047957435 | Roc Score: 0.97024894 | Time elapsed: 3:32:06.975566\n",
            "iterations: 1449 | train_loss: 0.04610922 | validation_loss: 0.047888547 | Roc Score: 0.9702576 | Time elapsed: 3:32:15.560718\n",
            "iterations: 1450 | train_loss: 0.042161364 | validation_loss: 0.047512382 | Roc Score: 0.970266 | Time elapsed: 3:32:23.989115\n",
            "iterations: 1451 | train_loss: 0.028149806 | validation_loss: 0.047147993 | Roc Score: 0.97027427 | Time elapsed: 3:32:32.877507\n",
            "iterations: 1452 | train_loss: 0.042385273 | validation_loss: 0.04705481 | Roc Score: 0.9702822 | Time elapsed: 3:32:41.533081\n",
            "iterations: 1453 | train_loss: 0.05182743 | validation_loss: 0.04725875 | Roc Score: 0.9702897 | Time elapsed: 3:32:50.732426\n",
            "iterations: 1454 | train_loss: 0.03644825 | validation_loss: 0.048005965 | Roc Score: 0.9702956 | Time elapsed: 3:32:59.653027\n",
            "iterations: 1455 | train_loss: 0.043327212 | validation_loss: 0.048987642 | Roc Score: 0.9702994 | Time elapsed: 3:33:07.545205\n",
            "iterations: 1456 | train_loss: 0.044649556 | validation_loss: 0.049329877 | Roc Score: 0.9703026 | Time elapsed: 3:33:15.811895\n",
            "iterations: 1457 | train_loss: 0.028433664 | validation_loss: 0.049400005 | Roc Score: 0.97030604 | Time elapsed: 3:33:24.215055\n",
            "iterations: 1458 | train_loss: 0.037759274 | validation_loss: 0.04910432 | Roc Score: 0.9703097 | Time elapsed: 3:33:33.118389\n",
            "iterations: 1459 | train_loss: 0.052763473 | validation_loss: 0.04839469 | Roc Score: 0.97031564 | Time elapsed: 3:33:41.387626\n",
            "iterations: 1460 | train_loss: 0.0314333 | validation_loss: 0.047915254 | Roc Score: 0.9703224 | Time elapsed: 3:33:49.833645\n",
            "iterations: 1461 | train_loss: 0.037130356 | validation_loss: 0.047648907 | Roc Score: 0.9703298 | Time elapsed: 3:33:57.861788\n",
            "iterations: 1462 | train_loss: 0.035589382 | validation_loss: 0.04770734 | Roc Score: 0.9703373 | Time elapsed: 3:34:06.435066\n",
            "iterations: 1463 | train_loss: 0.049232446 | validation_loss: 0.047934946 | Roc Score: 0.9703452 | Time elapsed: 3:34:15.610003\n",
            "iterations: 1464 | train_loss: 0.038318302 | validation_loss: 0.0481659 | Roc Score: 0.97035295 | Time elapsed: 3:34:24.193671\n",
            "iterations: 1465 | train_loss: 0.033829402 | validation_loss: 0.04806704 | Roc Score: 0.9703608 | Time elapsed: 3:34:33.464921\n",
            "iterations: 1466 | train_loss: 0.036241625 | validation_loss: 0.047998074 | Roc Score: 0.97036815 | Time elapsed: 3:34:41.891398\n",
            "iterations: 1467 | train_loss: 0.045294035 | validation_loss: 0.047982194 | Roc Score: 0.9703755 | Time elapsed: 3:34:50.696275\n",
            "iterations: 1468 | train_loss: 0.033982202 | validation_loss: 0.04805673 | Roc Score: 0.970382 | Time elapsed: 3:34:59.587615\n",
            "iterations: 1469 | train_loss: 0.043502133 | validation_loss: 0.048118558 | Roc Score: 0.97038734 | Time elapsed: 3:35:08.350105\n",
            "iterations: 1470 | train_loss: 0.040013824 | validation_loss: 0.048365768 | Roc Score: 0.97039163 | Time elapsed: 3:35:17.319381\n",
            "iterations: 1471 | train_loss: 0.042496122 | validation_loss: 0.04891078 | Roc Score: 0.9703953 | Time elapsed: 3:35:26.240088\n",
            "iterations: 1472 | train_loss: 0.054644357 | validation_loss: 0.04912348 | Roc Score: 0.9703986 | Time elapsed: 3:35:35.321820\n",
            "iterations: 1473 | train_loss: 0.04261515 | validation_loss: 0.04912468 | Roc Score: 0.9704017 | Time elapsed: 3:35:44.228555\n",
            "iterations: 1474 | train_loss: 0.043882646 | validation_loss: 0.04837641 | Roc Score: 0.97040606 | Time elapsed: 3:35:53.237019\n",
            "iterations: 1475 | train_loss: 0.024208833 | validation_loss: 0.04808996 | Roc Score: 0.9704112 | Time elapsed: 3:36:02.351254\n",
            "iterations: 1476 | train_loss: 0.041021027 | validation_loss: 0.04781533 | Roc Score: 0.97041684 | Time elapsed: 3:36:11.654067\n",
            "iterations: 1477 | train_loss: 0.041470256 | validation_loss: 0.04761758 | Roc Score: 0.97042274 | Time elapsed: 3:36:20.735662\n",
            "iterations: 1478 | train_loss: 0.0544724 | validation_loss: 0.047504522 | Roc Score: 0.970429 | Time elapsed: 3:36:29.066744\n",
            "iterations: 1479 | train_loss: 0.035273973 | validation_loss: 0.04733188 | Roc Score: 0.97043645 | Time elapsed: 3:36:37.016262\n",
            "iterations: 1480 | train_loss: 0.04594629 | validation_loss: 0.04746742 | Roc Score: 0.97044414 | Time elapsed: 3:36:45.609648\n",
            "iterations: 1481 | train_loss: 0.023749076 | validation_loss: 0.047620147 | Roc Score: 0.9704518 | Time elapsed: 3:36:53.984292\n"
          ],
          "name": "stdout"
        },
        {
          "output_type": "stream",
          "text": [
            "iterations: 1482 | train_loss: 0.044814005 | validation_loss: 0.04764937 | Roc Score: 0.970459 | Time elapsed: 3:37:03.288485\n",
            "iterations: 1483 | train_loss: 0.03258012 | validation_loss: 0.04744829 | Roc Score: 0.9704657 | Time elapsed: 3:37:11.700942\n",
            "iterations: 1484 | train_loss: 0.026329568 | validation_loss: 0.047587417 | Roc Score: 0.9704709 | Time elapsed: 3:37:20.801027\n",
            "iterations: 1485 | train_loss: 0.029246505 | validation_loss: 0.048260983 | Roc Score: 0.97047496 | Time elapsed: 3:37:30.226442\n",
            "iterations: 1486 | train_loss: 0.026054006 | validation_loss: 0.049289465 | Roc Score: 0.97047687 | Time elapsed: 3:37:39.165051\n",
            "iterations: 1487 | train_loss: 0.042025153 | validation_loss: 0.04990105 | Roc Score: 0.97047776 | Time elapsed: 3:37:47.976516\n",
            "iterations: 1488 | train_loss: 0.032012057 | validation_loss: 0.05021992 | Roc Score: 0.97047806 | Time elapsed: 3:37:57.320895\n",
            "iterations: 1489 | train_loss: 0.021491148 | validation_loss: 0.050687976 | Roc Score: 0.97047794 | Time elapsed: 3:38:06.390626\n",
            "iterations: 1490 | train_loss: 0.050521635 | validation_loss: 0.050447963 | Roc Score: 0.97047836 | Time elapsed: 3:38:15.485003\n",
            "iterations: 1491 | train_loss: 0.04300251 | validation_loss: 0.049756687 | Roc Score: 0.9704808 | Time elapsed: 3:38:24.510313\n",
            "iterations: 1492 | train_loss: 0.04052203 | validation_loss: 0.04935302 | Roc Score: 0.9704855 | Time elapsed: 3:38:33.857897\n",
            "iterations: 1493 | train_loss: 0.030743213 | validation_loss: 0.04974643 | Roc Score: 0.9704915 | Time elapsed: 3:38:43.034291\n",
            "iterations: 1494 | train_loss: 0.04511832 | validation_loss: 0.050161414 | Roc Score: 0.97049814 | Time elapsed: 3:38:52.036187\n",
            "iterations: 1495 | train_loss: 0.03447019 | validation_loss: 0.04990975 | Roc Score: 0.97050524 | Time elapsed: 3:39:01.204722\n",
            "iterations: 1496 | train_loss: 0.030987123 | validation_loss: 0.049430452 | Roc Score: 0.97051185 | Time elapsed: 3:39:10.172440\n",
            "iterations: 1497 | train_loss: 0.043569177 | validation_loss: 0.048509065 | Roc Score: 0.97051877 | Time elapsed: 3:39:18.953402\n",
            "iterations: 1498 | train_loss: 0.047649104 | validation_loss: 0.048149686 | Roc Score: 0.97052443 | Time elapsed: 3:39:27.792521\n",
            "iterations: 1499 | train_loss: 0.044916604 | validation_loss: 0.048731036 | Roc Score: 0.9705278 | Time elapsed: 3:39:35.725027\n",
            "iterations: 1500 | train_loss: 0.04700762 | validation_loss: 0.04979655 | Roc Score: 0.97052956 | Time elapsed: 3:39:44.057552\n",
            "iterations: 1501 | train_loss: 0.05993585 | validation_loss: 0.050088555 | Roc Score: 0.97053075 | Time elapsed: 3:39:51.986460\n",
            "iterations: 1502 | train_loss: 0.024320196 | validation_loss: 0.050392136 | Roc Score: 0.97053206 | Time elapsed: 3:40:00.314341\n",
            "iterations: 1503 | train_loss: 0.022825189 | validation_loss: 0.050860558 | Roc Score: 0.97053266 | Time elapsed: 3:40:09.058941\n",
            "iterations: 1504 | train_loss: 0.0338329 | validation_loss: 0.050605055 | Roc Score: 0.9705338 | Time elapsed: 3:40:18.433788\n",
            "iterations: 1505 | train_loss: 0.042798974 | validation_loss: 0.04999507 | Roc Score: 0.97053546 | Time elapsed: 3:40:26.546398\n",
            "iterations: 1506 | train_loss: 0.04457739 | validation_loss: 0.049462274 | Roc Score: 0.9705376 | Time elapsed: 3:40:35.449531\n",
            "iterations: 1507 | train_loss: 0.032094017 | validation_loss: 0.04881884 | Roc Score: 0.9705403 | Time elapsed: 3:40:44.528107\n",
            "iterations: 1508 | train_loss: 0.043999113 | validation_loss: 0.048154607 | Roc Score: 0.9705451 | Time elapsed: 3:40:53.395625\n",
            "iterations: 1509 | train_loss: 0.033434372 | validation_loss: 0.0480036 | Roc Score: 0.97055024 | Time elapsed: 3:41:02.550839\n",
            "iterations: 1510 | train_loss: 0.059627507 | validation_loss: 0.04825695 | Roc Score: 0.9705561 | Time elapsed: 3:41:11.589644\n",
            "iterations: 1511 | train_loss: 0.032065418 | validation_loss: 0.048803654 | Roc Score: 0.9705623 | Time elapsed: 3:41:20.562152\n",
            "iterations: 1512 | train_loss: 0.06222819 | validation_loss: 0.04902572 | Roc Score: 0.97056895 | Time elapsed: 3:41:29.191818\n",
            "iterations: 1513 | train_loss: 0.052133087 | validation_loss: 0.049280614 | Roc Score: 0.97057563 | Time elapsed: 3:41:38.257407\n",
            "iterations: 1514 | train_loss: 0.04822526 | validation_loss: 0.04933476 | Roc Score: 0.9705822 | Time elapsed: 3:41:46.289012\n",
            "iterations: 1515 | train_loss: 0.046306048 | validation_loss: 0.049703665 | Roc Score: 0.9705891 | Time elapsed: 3:41:54.319947\n",
            "iterations: 1516 | train_loss: 0.035698716 | validation_loss: 0.049344998 | Roc Score: 0.9705959 | Time elapsed: 3:42:02.981071\n",
            "iterations: 1517 | train_loss: 0.04607191 | validation_loss: 0.049043816 | Roc Score: 0.9706029 | Time elapsed: 3:42:12.051107\n",
            "iterations: 1518 | train_loss: 0.039122637 | validation_loss: 0.048406325 | Roc Score: 0.97060996 | Time elapsed: 3:42:20.716359\n",
            "iterations: 1519 | train_loss: 0.042654414 | validation_loss: 0.048008077 | Roc Score: 0.9706163 | Time elapsed: 3:42:29.936163\n",
            "iterations: 1520 | train_loss: 0.04244565 | validation_loss: 0.047946412 | Roc Score: 0.9706222 | Time elapsed: 3:42:38.955774\n"
          ],
          "name": "stdout"
        },
        {
          "output_type": "stream",
          "text": [
            "iterations: 1521 | train_loss: 0.049374595 | validation_loss: 0.04816654 | Roc Score: 0.9706273 | Time elapsed: 3:42:47.940304\n",
            "iterations: 1522 | train_loss: 0.043690924 | validation_loss: 0.048334204 | Roc Score: 0.9706325 | Time elapsed: 3:42:56.373461\n",
            "iterations: 1523 | train_loss: 0.044240206 | validation_loss: 0.048298478 | Roc Score: 0.9706376 | Time elapsed: 3:43:04.423340\n",
            "iterations: 1524 | train_loss: 0.033452153 | validation_loss: 0.04829087 | Roc Score: 0.9706423 | Time elapsed: 3:43:12.865196\n",
            "iterations: 1525 | train_loss: 0.046440914 | validation_loss: 0.047998182 | Roc Score: 0.97064793 | Time elapsed: 3:43:20.861610\n",
            "iterations: 1526 | train_loss: 0.038109455 | validation_loss: 0.0478422 | Roc Score: 0.9706538 | Time elapsed: 3:43:29.524384\n",
            "iterations: 1527 | train_loss: 0.042271096 | validation_loss: 0.047580663 | Roc Score: 0.9706602 | Time elapsed: 3:43:38.567064\n",
            "iterations: 1528 | train_loss: 0.043477423 | validation_loss: 0.047588896 | Roc Score: 0.9706672 | Time elapsed: 3:43:47.623687\n",
            "iterations: 1529 | train_loss: 0.049981844 | validation_loss: 0.047954217 | Roc Score: 0.97067446 | Time elapsed: 3:43:55.852852\n",
            "iterations: 1530 | train_loss: 0.04098885 | validation_loss: 0.04831871 | Roc Score: 0.97068113 | Time elapsed: 3:44:03.949884\n",
            "iterations: 1531 | train_loss: 0.038252506 | validation_loss: 0.048797935 | Roc Score: 0.9706878 | Time elapsed: 3:44:12.867002\n",
            "iterations: 1532 | train_loss: 0.03342972 | validation_loss: 0.04885194 | Roc Score: 0.97069454 | Time elapsed: 3:44:21.799792\n",
            "iterations: 1533 | train_loss: 0.039242 | validation_loss: 0.048766457 | Roc Score: 0.9707016 | Time elapsed: 3:44:30.926750\n",
            "iterations: 1534 | train_loss: 0.043387987 | validation_loss: 0.04838499 | Roc Score: 0.9707085 | Time elapsed: 3:44:39.974038\n",
            "iterations: 1535 | train_loss: 0.031778976 | validation_loss: 0.04838451 | Roc Score: 0.97071475 | Time elapsed: 3:44:48.775527\n",
            "iterations: 1536 | train_loss: 0.027758809 | validation_loss: 0.048940647 | Roc Score: 0.9707205 | Time elapsed: 3:44:57.595893\n",
            "iterations: 1537 | train_loss: 0.037279096 | validation_loss: 0.049830355 | Roc Score: 0.9707249 | Time elapsed: 3:45:06.516012\n",
            "iterations: 1538 | train_loss: 0.038387775 | validation_loss: 0.05053789 | Roc Score: 0.97072786 | Time elapsed: 3:45:15.263908\n",
            "iterations: 1539 | train_loss: 0.037596762 | validation_loss: 0.050896026 | Roc Score: 0.9707308 | Time elapsed: 3:45:24.200972\n",
            "iterations: 1540 | train_loss: 0.032652825 | validation_loss: 0.051298726 | Roc Score: 0.9707326 | Time elapsed: 3:45:32.899888\n",
            "iterations: 1541 | train_loss: 0.040113896 | validation_loss: 0.051083818 | Roc Score: 0.9707352 | Time elapsed: 3:45:42.035357\n",
            "iterations: 1542 | train_loss: 0.042200208 | validation_loss: 0.050325435 | Roc Score: 0.97073877 | Time elapsed: 3:45:49.962182\n",
            "iterations: 1543 | train_loss: 0.035349924 | validation_loss: 0.049708556 | Roc Score: 0.9707435 | Time elapsed: 3:45:57.915960\n",
            "iterations: 1544 | train_loss: 0.047925305 | validation_loss: 0.049196243 | Roc Score: 0.97074896 | Time elapsed: 3:46:06.093992\n",
            "iterations: 1545 | train_loss: 0.047138873 | validation_loss: 0.048806105 | Roc Score: 0.9707542 | Time elapsed: 3:46:14.608858\n",
            "iterations: 1546 | train_loss: 0.041494012 | validation_loss: 0.04840811 | Roc Score: 0.97076 | Time elapsed: 3:46:23.153208\n",
            "iterations: 1547 | train_loss: 0.04295549 | validation_loss: 0.048025467 | Roc Score: 0.97076577 | Time elapsed: 3:46:32.384145\n",
            "iterations: 1548 | train_loss: 0.028994178 | validation_loss: 0.04779696 | Roc Score: 0.97077155 | Time elapsed: 3:46:41.653719\n",
            "iterations: 1549 | train_loss: 0.05167431 | validation_loss: 0.04771979 | Roc Score: 0.9707777 | Time elapsed: 3:46:50.425140\n",
            "iterations: 1550 | train_loss: 0.069691196 | validation_loss: 0.04747034 | Roc Score: 0.9707845 | Time elapsed: 3:46:59.174969\n",
            "iterations: 1551 | train_loss: 0.05955265 | validation_loss: 0.047396787 | Roc Score: 0.9707917 | Time elapsed: 3:47:08.366748\n",
            "iterations: 1552 | train_loss: 0.041409396 | validation_loss: 0.047500253 | Roc Score: 0.97079885 | Time elapsed: 3:47:17.412914\n",
            "iterations: 1553 | train_loss: 0.044406187 | validation_loss: 0.04756645 | Roc Score: 0.970806 | Time elapsed: 3:47:26.600143\n",
            "iterations: 1554 | train_loss: 0.044543654 | validation_loss: 0.047548622 | Roc Score: 0.97081333 | Time elapsed: 3:47:35.700735\n",
            "iterations: 1555 | train_loss: 0.041179214 | validation_loss: 0.047437258 | Roc Score: 0.9708203 | Time elapsed: 3:47:45.148402\n",
            "iterations: 1556 | train_loss: 0.047545705 | validation_loss: 0.047454096 | Roc Score: 0.97082746 | Time elapsed: 3:47:53.920788\n",
            "iterations: 1557 | train_loss: 0.049130082 | validation_loss: 0.047729813 | Roc Score: 0.9708342 | Time elapsed: 3:48:01.559035\n",
            "iterations: 1558 | train_loss: 0.024163336 | validation_loss: 0.048143577 | Roc Score: 0.9708402 | Time elapsed: 3:48:10.501034\n",
            "iterations: 1559 | train_loss: 0.035327874 | validation_loss: 0.04847285 | Roc Score: 0.9708461 | Time elapsed: 3:48:19.734631\n"
          ],
          "name": "stdout"
        },
        {
          "output_type": "stream",
          "text": [
            "iterations: 1560 | train_loss: 0.03358894 | validation_loss: 0.048891902 | Roc Score: 0.97085124 | Time elapsed: 3:48:28.824346\n",
            "iterations: 1561 | train_loss: 0.043610837 | validation_loss: 0.0488687 | Roc Score: 0.97085637 | Time elapsed: 3:48:37.781296\n",
            "iterations: 1562 | train_loss: 0.034785185 | validation_loss: 0.048797894 | Roc Score: 0.9708611 | Time elapsed: 3:48:46.061684\n",
            "iterations: 1563 | train_loss: 0.045919545 | validation_loss: 0.048475303 | Roc Score: 0.97086626 | Time elapsed: 3:48:54.874359\n",
            "iterations: 1564 | train_loss: 0.05683492 | validation_loss: 0.0478879 | Roc Score: 0.9708721 | Time elapsed: 3:49:04.002243\n",
            "iterations: 1565 | train_loss: 0.03328433 | validation_loss: 0.04767617 | Roc Score: 0.9708786 | Time elapsed: 3:49:12.692533\n",
            "iterations: 1566 | train_loss: 0.033862296 | validation_loss: 0.047790326 | Roc Score: 0.97088474 | Time elapsed: 3:49:21.557106\n",
            "iterations: 1567 | train_loss: 0.018666046 | validation_loss: 0.048068874 | Roc Score: 0.9708905 | Time elapsed: 3:49:30.461364\n",
            "iterations: 1568 | train_loss: 0.047131144 | validation_loss: 0.04831363 | Roc Score: 0.9708963 | Time elapsed: 3:49:39.132086\n",
            "iterations: 1569 | train_loss: 0.048186887 | validation_loss: 0.048620064 | Roc Score: 0.9709022 | Time elapsed: 3:49:48.074989\n",
            "iterations: 1570 | train_loss: 0.041010268 | validation_loss: 0.048790947 | Roc Score: 0.97090787 | Time elapsed: 3:49:56.336835\n",
            "iterations: 1571 | train_loss: 0.05141799 | validation_loss: 0.04869592 | Roc Score: 0.9709135 | Time elapsed: 3:50:05.275793\n",
            "iterations: 1572 | train_loss: 0.04436631 | validation_loss: 0.048490822 | Roc Score: 0.97091895 | Time elapsed: 3:50:14.219138\n",
            "iterations: 1573 | train_loss: 0.05401101 | validation_loss: 0.04820997 | Roc Score: 0.97092426 | Time elapsed: 3:50:23.264319\n",
            "iterations: 1574 | train_loss: 0.04475919 | validation_loss: 0.04811241 | Roc Score: 0.97093 | Time elapsed: 3:50:32.282374\n",
            "iterations: 1575 | train_loss: 0.046341397 | validation_loss: 0.04798563 | Roc Score: 0.9709355 | Time elapsed: 3:50:41.206807\n",
            "iterations: 1576 | train_loss: 0.047134638 | validation_loss: 0.04779063 | Roc Score: 0.9709412 | Time elapsed: 3:50:50.091339\n",
            "iterations: 1577 | train_loss: 0.03221983 | validation_loss: 0.04770019 | Roc Score: 0.97094685 | Time elapsed: 3:50:58.056644\n",
            "iterations: 1578 | train_loss: 0.038936865 | validation_loss: 0.047686048 | Roc Score: 0.9709524 | Time elapsed: 3:51:06.885226\n",
            "iterations: 1579 | train_loss: 0.053705744 | validation_loss: 0.047633268 | Roc Score: 0.9709583 | Time elapsed: 3:51:16.025260\n",
            "iterations: 1580 | train_loss: 0.037723668 | validation_loss: 0.047676142 | Roc Score: 0.97096395 | Time elapsed: 3:51:24.897038\n",
            "iterations: 1581 | train_loss: 0.046666957 | validation_loss: 0.047703072 | Roc Score: 0.9709697 | Time elapsed: 3:51:33.914301\n",
            "iterations: 1582 | train_loss: 0.04396933 | validation_loss: 0.047746837 | Roc Score: 0.9709755 | Time elapsed: 3:51:43.219793\n",
            "iterations: 1583 | train_loss: 0.031347483 | validation_loss: 0.047770116 | Roc Score: 0.9709815 | Time elapsed: 3:51:51.869257\n",
            "iterations: 1584 | train_loss: 0.03074027 | validation_loss: 0.04776992 | Roc Score: 0.9709873 | Time elapsed: 3:52:00.154303\n",
            "iterations: 1585 | train_loss: 0.04314325 | validation_loss: 0.047745243 | Roc Score: 0.9709928 | Time elapsed: 3:52:08.456294\n",
            "iterations: 1586 | train_loss: 0.03406718 | validation_loss: 0.047919482 | Roc Score: 0.9709976 | Time elapsed: 3:52:17.382922\n",
            "iterations: 1587 | train_loss: 0.04732446 | validation_loss: 0.048062894 | Roc Score: 0.97100186 | Time elapsed: 3:52:26.472520\n",
            "iterations: 1588 | train_loss: 0.03528262 | validation_loss: 0.048078075 | Roc Score: 0.97100633 | Time elapsed: 3:52:34.982481\n",
            "iterations: 1589 | train_loss: 0.039972514 | validation_loss: 0.048203923 | Roc Score: 0.9710105 | Time elapsed: 3:52:43.610616\n",
            "iterations: 1590 | train_loss: 0.040560674 | validation_loss: 0.048273634 | Roc Score: 0.9710143 | Time elapsed: 3:52:51.816227\n",
            "iterations: 1591 | train_loss: 0.086557105 | validation_loss: 0.047900558 | Roc Score: 0.9710197 | Time elapsed: 3:53:00.710056\n",
            "iterations: 1592 | train_loss: 0.050714202 | validation_loss: 0.047978964 | Roc Score: 0.9710255 | Time elapsed: 3:53:09.926329\n",
            "iterations: 1593 | train_loss: 0.027428227 | validation_loss: 0.048159648 | Roc Score: 0.9710316 | Time elapsed: 3:53:18.865709\n",
            "iterations: 1594 | train_loss: 0.04780583 | validation_loss: 0.047893405 | Roc Score: 0.9710376 | Time elapsed: 3:53:27.827139\n",
            "iterations: 1595 | train_loss: 0.038827714 | validation_loss: 0.047670506 | Roc Score: 0.971044 | Time elapsed: 3:53:37.213954\n",
            "iterations: 1596 | train_loss: 0.04224384 | validation_loss: 0.047514636 | Roc Score: 0.97105 | Time elapsed: 3:53:46.232959\n",
            "iterations: 1597 | train_loss: 0.02657184 | validation_loss: 0.047498934 | Roc Score: 0.97105557 | Time elapsed: 3:53:55.357223\n",
            "iterations: 1598 | train_loss: 0.043317255 | validation_loss: 0.047581565 | Roc Score: 0.9710613 | Time elapsed: 3:54:04.640947\n"
          ],
          "name": "stdout"
        },
        {
          "output_type": "stream",
          "text": [
            "iterations: 1599 | train_loss: 0.042539883 | validation_loss: 0.047761973 | Roc Score: 0.97106653 | Time elapsed: 3:54:13.773522\n",
            "iterations: 1600 | train_loss: 0.028155493 | validation_loss: 0.047955237 | Roc Score: 0.97107124 | Time elapsed: 3:54:22.626117\n",
            "iterations: 1601 | train_loss: 0.045355015 | validation_loss: 0.0478393 | Roc Score: 0.97107595 | Time elapsed: 3:54:31.452300\n",
            "iterations: 1602 | train_loss: 0.037561152 | validation_loss: 0.047806576 | Roc Score: 0.9710806 | Time elapsed: 3:54:40.715555\n",
            "iterations: 1603 | train_loss: 0.04229432 | validation_loss: 0.047888663 | Roc Score: 0.9710854 | Time elapsed: 3:54:49.313553\n",
            "iterations: 1604 | train_loss: 0.038872696 | validation_loss: 0.047951207 | Roc Score: 0.9710901 | Time elapsed: 3:54:57.942413\n",
            "iterations: 1605 | train_loss: 0.041998938 | validation_loss: 0.048047096 | Roc Score: 0.97109485 | Time elapsed: 3:55:07.026686\n",
            "iterations: 1606 | train_loss: 0.029046644 | validation_loss: 0.04819109 | Roc Score: 0.9710993 | Time elapsed: 3:55:15.246049\n",
            "iterations: 1607 | train_loss: 0.042578552 | validation_loss: 0.04834806 | Roc Score: 0.9711037 | Time elapsed: 3:55:24.158531\n",
            "iterations: 1608 | train_loss: 0.05069809 | validation_loss: 0.048354425 | Roc Score: 0.9711086 | Time elapsed: 3:55:32.897498\n",
            "iterations: 1609 | train_loss: 0.04440431 | validation_loss: 0.048446212 | Roc Score: 0.9711135 | Time elapsed: 3:55:41.547049\n",
            "iterations: 1610 | train_loss: 0.042470265 | validation_loss: 0.04843344 | Roc Score: 0.9711187 | Time elapsed: 3:55:49.950885\n",
            "iterations: 1611 | train_loss: 0.05440038 | validation_loss: 0.048440732 | Roc Score: 0.97112364 | Time elapsed: 3:55:57.965128\n",
            "iterations: 1612 | train_loss: 0.040776554 | validation_loss: 0.04841525 | Roc Score: 0.97112894 | Time elapsed: 3:56:05.915060\n",
            "iterations: 1613 | train_loss: 0.020325338 | validation_loss: 0.048200566 | Roc Score: 0.9711344 | Time elapsed: 3:56:13.855106\n",
            "iterations: 1614 | train_loss: 0.038264327 | validation_loss: 0.048033096 | Roc Score: 0.97113985 | Time elapsed: 3:56:22.233947\n",
            "iterations: 1615 | train_loss: 0.033935618 | validation_loss: 0.04785894 | Roc Score: 0.9711452 | Time elapsed: 3:56:30.132510\n",
            "iterations: 1616 | train_loss: 0.028743487 | validation_loss: 0.047831573 | Roc Score: 0.97115046 | Time elapsed: 3:56:39.148567\n",
            "iterations: 1617 | train_loss: 0.057024155 | validation_loss: 0.04787781 | Roc Score: 0.9711548 | Time elapsed: 3:56:48.048954\n",
            "iterations: 1618 | train_loss: 0.062279627 | validation_loss: 0.047854308 | Roc Score: 0.97115856 | Time elapsed: 3:56:56.669608\n",
            "iterations: 1619 | train_loss: 0.049878865 | validation_loss: 0.047812656 | Roc Score: 0.97116303 | Time elapsed: 3:57:05.254470\n",
            "iterations: 1620 | train_loss: 0.027725872 | validation_loss: 0.04789179 | Roc Score: 0.97116727 | Time elapsed: 3:57:13.973363\n",
            "iterations: 1621 | train_loss: 0.044346493 | validation_loss: 0.04788577 | Roc Score: 0.9711715 | Time elapsed: 3:57:23.301802\n",
            "iterations: 1622 | train_loss: 0.0454492 | validation_loss: 0.047972362 | Roc Score: 0.97117573 | Time elapsed: 3:57:32.396015\n",
            "iterations: 1623 | train_loss: 0.041049648 | validation_loss: 0.047789898 | Roc Score: 0.9711807 | Time elapsed: 3:57:41.184006\n",
            "iterations: 1624 | train_loss: 0.05521752 | validation_loss: 0.047457352 | Roc Score: 0.97118574 | Time elapsed: 3:57:50.369976\n",
            "iterations: 1625 | train_loss: 0.05433878 | validation_loss: 0.04731029 | Roc Score: 0.9711913 | Time elapsed: 3:57:59.141703\n",
            "iterations: 1626 | train_loss: 0.058310058 | validation_loss: 0.04746467 | Roc Score: 0.97119755 | Time elapsed: 3:58:07.478647\n",
            "iterations: 1627 | train_loss: 0.031026129 | validation_loss: 0.04750368 | Roc Score: 0.9712042 | Time elapsed: 3:58:16.372835\n",
            "iterations: 1628 | train_loss: 0.03879096 | validation_loss: 0.047339547 | Roc Score: 0.9712108 | Time elapsed: 3:58:25.440366\n",
            "iterations: 1629 | train_loss: 0.050025478 | validation_loss: 0.04713608 | Roc Score: 0.97121686 | Time elapsed: 3:58:34.093858\n",
            "iterations: 1630 | train_loss: 0.0407892 | validation_loss: 0.047012385 | Roc Score: 0.97122264 | Time elapsed: 3:58:42.383479\n",
            "iterations: 1631 | train_loss: 0.0331338 | validation_loss: 0.04703476 | Roc Score: 0.9712277 | Time elapsed: 3:58:50.696619\n",
            "iterations: 1632 | train_loss: 0.041403197 | validation_loss: 0.04715838 | Roc Score: 0.97123307 | Time elapsed: 3:58:58.637847\n",
            "iterations: 1633 | train_loss: 0.040202353 | validation_loss: 0.047448933 | Roc Score: 0.9712375 | Time elapsed: 3:59:06.752736\n",
            "iterations: 1634 | train_loss: 0.03614119 | validation_loss: 0.04760287 | Roc Score: 0.9712415 | Time elapsed: 3:59:15.132494\n",
            "iterations: 1635 | train_loss: 0.053708546 | validation_loss: 0.04734396 | Roc Score: 0.97124606 | Time elapsed: 3:59:23.789938\n",
            "iterations: 1636 | train_loss: 0.034033 | validation_loss: 0.047316473 | Roc Score: 0.97125113 | Time elapsed: 3:59:32.231163\n",
            "iterations: 1637 | train_loss: 0.038605805 | validation_loss: 0.047473557 | Roc Score: 0.971256 | Time elapsed: 3:59:40.202885\n"
          ],
          "name": "stdout"
        },
        {
          "output_type": "stream",
          "text": [
            "iterations: 1638 | train_loss: 0.029276164 | validation_loss: 0.047718886 | Roc Score: 0.9712611 | Time elapsed: 3:59:48.670088\n",
            "iterations: 1639 | train_loss: 0.028761584 | validation_loss: 0.04790473 | Roc Score: 0.9712657 | Time elapsed: 3:59:57.010369\n",
            "iterations: 1640 | train_loss: 0.02500329 | validation_loss: 0.048092384 | Roc Score: 0.97127014 | Time elapsed: 4:00:05.522026\n",
            "iterations: 1641 | train_loss: 0.04326608 | validation_loss: 0.048221204 | Roc Score: 0.97127384 | Time elapsed: 4:00:14.482481\n",
            "iterations: 1642 | train_loss: 0.027457116 | validation_loss: 0.048696056 | Roc Score: 0.97127664 | Time elapsed: 4:00:23.211798\n",
            "iterations: 1643 | train_loss: 0.048750922 | validation_loss: 0.049244586 | Roc Score: 0.97127855 | Time elapsed: 4:00:32.260868\n",
            "iterations: 1644 | train_loss: 0.042993817 | validation_loss: 0.04952916 | Roc Score: 0.97128004 | Time elapsed: 4:00:41.429413\n",
            "iterations: 1645 | train_loss: 0.03764909 | validation_loss: 0.04968279 | Roc Score: 0.9712817 | Time elapsed: 4:00:50.248311\n",
            "iterations: 1646 | train_loss: 0.057273705 | validation_loss: 0.049343314 | Roc Score: 0.97128403 | Time elapsed: 4:00:59.344362\n",
            "iterations: 1647 | train_loss: 0.027907219 | validation_loss: 0.049399998 | Roc Score: 0.9712876 | Time elapsed: 4:01:08.369786\n",
            "iterations: 1648 | train_loss: 0.031638455 | validation_loss: 0.049451377 | Roc Score: 0.97129124 | Time elapsed: 4:01:17.346932\n",
            "iterations: 1649 | train_loss: 0.039942384 | validation_loss: 0.049150154 | Roc Score: 0.9712951 | Time elapsed: 4:01:26.441452\n",
            "iterations: 1650 | train_loss: 0.035572678 | validation_loss: 0.04885889 | Roc Score: 0.97129947 | Time elapsed: 4:01:35.265854\n",
            "iterations: 1651 | train_loss: 0.029468168 | validation_loss: 0.048370335 | Roc Score: 0.9713047 | Time elapsed: 4:01:44.187672\n",
            "iterations: 1652 | train_loss: 0.04996452 | validation_loss: 0.048370186 | Roc Score: 0.9713103 | Time elapsed: 4:01:53.413689\n",
            "iterations: 1653 | train_loss: 0.023825705 | validation_loss: 0.048381466 | Roc Score: 0.97131604 | Time elapsed: 4:02:02.566362\n",
            "iterations: 1654 | train_loss: 0.040573306 | validation_loss: 0.048234593 | Roc Score: 0.9713212 | Time elapsed: 4:02:11.484889\n",
            "iterations: 1655 | train_loss: 0.040898062 | validation_loss: 0.048046134 | Roc Score: 0.97132665 | Time elapsed: 4:02:20.543838\n",
            "iterations: 1656 | train_loss: 0.03795883 | validation_loss: 0.048237734 | Roc Score: 0.9713313 | Time elapsed: 4:02:28.714034\n",
            "iterations: 1657 | train_loss: 0.04226312 | validation_loss: 0.048699763 | Roc Score: 0.9713355 | Time elapsed: 4:02:37.171752\n",
            "iterations: 1658 | train_loss: 0.053270277 | validation_loss: 0.04883123 | Roc Score: 0.97133976 | Time elapsed: 4:02:45.562767\n",
            "iterations: 1659 | train_loss: 0.037499722 | validation_loss: 0.04907431 | Roc Score: 0.9713438 | Time elapsed: 4:02:54.142909\n",
            "iterations: 1660 | train_loss: 0.05755169 | validation_loss: 0.048738815 | Roc Score: 0.9713485 | Time elapsed: 4:03:02.948352\n",
            "iterations: 1661 | train_loss: 0.034206644 | validation_loss: 0.048637655 | Roc Score: 0.9713533 | Time elapsed: 4:03:12.233980\n",
            "iterations: 1662 | train_loss: 0.042451154 | validation_loss: 0.04874675 | Roc Score: 0.97135854 | Time elapsed: 4:03:21.362396\n",
            "iterations: 1663 | train_loss: 0.035628513 | validation_loss: 0.04893344 | Roc Score: 0.971364 | Time elapsed: 4:03:29.869200\n",
            "iterations: 1664 | train_loss: 0.047921233 | validation_loss: 0.049169667 | Roc Score: 0.9713693 | Time elapsed: 4:03:39.043861\n",
            "iterations: 1665 | train_loss: 0.0428833 | validation_loss: 0.049127936 | Roc Score: 0.9713749 | Time elapsed: 4:03:48.289204\n",
            "iterations: 1666 | train_loss: 0.054377384 | validation_loss: 0.048864253 | Roc Score: 0.9713804 | Time elapsed: 4:03:57.047892\n",
            "iterations: 1667 | train_loss: 0.044435598 | validation_loss: 0.048736673 | Roc Score: 0.9713857 | Time elapsed: 4:04:06.255556\n",
            "iterations: 1668 | train_loss: 0.048573364 | validation_loss: 0.04874802 | Roc Score: 0.97139084 | Time elapsed: 4:04:15.298048\n",
            "iterations: 1669 | train_loss: 0.0410913 | validation_loss: 0.048948582 | Roc Score: 0.97139496 | Time elapsed: 4:04:24.341774\n",
            "iterations: 1670 | train_loss: 0.044171497 | validation_loss: 0.049084947 | Roc Score: 0.9713987 | Time elapsed: 4:04:33.058681\n",
            "iterations: 1671 | train_loss: 0.033754803 | validation_loss: 0.04914918 | Roc Score: 0.9714023 | Time elapsed: 4:04:41.718401\n",
            "iterations: 1672 | train_loss: 0.05954038 | validation_loss: 0.048971772 | Roc Score: 0.9714064 | Time elapsed: 4:04:50.738936\n",
            "iterations: 1673 | train_loss: 0.036044568 | validation_loss: 0.048717756 | Roc Score: 0.9714107 | Time elapsed: 4:04:59.436923\n",
            "iterations: 1674 | train_loss: 0.040794846 | validation_loss: 0.048488636 | Roc Score: 0.971415 | Time elapsed: 4:05:07.945296\n",
            "iterations: 1675 | train_loss: 0.044727877 | validation_loss: 0.04823148 | Roc Score: 0.97142 | Time elapsed: 4:05:15.856634\n",
            "iterations: 1676 | train_loss: 0.042278513 | validation_loss: 0.047997292 | Roc Score: 0.9714252 | Time elapsed: 4:05:24.065092\n"
          ],
          "name": "stdout"
        },
        {
          "output_type": "stream",
          "text": [
            "iterations: 1677 | train_loss: 0.043091338 | validation_loss: 0.04771292 | Roc Score: 0.9714308 | Time elapsed: 4:05:32.692875\n",
            "iterations: 1678 | train_loss: 0.03280066 | validation_loss: 0.047641646 | Roc Score: 0.9714367 | Time elapsed: 4:05:41.526997\n",
            "iterations: 1679 | train_loss: 0.035284672 | validation_loss: 0.047560748 | Roc Score: 0.9714427 | Time elapsed: 4:05:50.652432\n",
            "iterations: 1680 | train_loss: 0.05423385 | validation_loss: 0.047559977 | Roc Score: 0.9714487 | Time elapsed: 4:05:59.739229\n",
            "iterations: 1681 | train_loss: 0.04479147 | validation_loss: 0.047612958 | Roc Score: 0.97145474 | Time elapsed: 4:06:08.694125\n",
            "iterations: 1682 | train_loss: 0.045504265 | validation_loss: 0.047920752 | Roc Score: 0.97146076 | Time elapsed: 4:06:17.577433\n",
            "iterations: 1683 | train_loss: 0.048427943 | validation_loss: 0.047832157 | Roc Score: 0.9714669 | Time elapsed: 4:06:26.058205\n",
            "iterations: 1684 | train_loss: 0.030543732 | validation_loss: 0.047921125 | Roc Score: 0.9714726 | Time elapsed: 4:06:35.198726\n",
            "iterations: 1685 | train_loss: 0.048913933 | validation_loss: 0.047912654 | Roc Score: 0.97147804 | Time elapsed: 4:06:44.482543\n",
            "iterations: 1686 | train_loss: 0.043594442 | validation_loss: 0.047947086 | Roc Score: 0.9714833 | Time elapsed: 4:06:53.528040\n",
            "iterations: 1687 | train_loss: 0.028592475 | validation_loss: 0.048014812 | Roc Score: 0.9714885 | Time elapsed: 4:07:02.791752\n",
            "iterations: 1688 | train_loss: 0.047369383 | validation_loss: 0.04802457 | Roc Score: 0.97149307 | Time elapsed: 4:07:11.831806\n",
            "iterations: 1689 | train_loss: 0.053168036 | validation_loss: 0.047606524 | Roc Score: 0.9714982 | Time elapsed: 4:07:20.873672\n",
            "iterations: 1690 | train_loss: 0.04412304 | validation_loss: 0.047228795 | Roc Score: 0.9715036 | Time elapsed: 4:07:29.835390\n",
            "iterations: 1691 | train_loss: 0.027820997 | validation_loss: 0.047039412 | Roc Score: 0.97150934 | Time elapsed: 4:07:39.039491\n",
            "iterations: 1692 | train_loss: 0.03827468 | validation_loss: 0.046988763 | Roc Score: 0.9715152 | Time elapsed: 4:07:47.800841\n",
            "iterations: 1693 | train_loss: 0.043020107 | validation_loss: 0.04709897 | Roc Score: 0.9715207 | Time elapsed: 4:07:56.049127\n",
            "iterations: 1694 | train_loss: 0.041389193 | validation_loss: 0.04726588 | Roc Score: 0.9715257 | Time elapsed: 4:08:04.360545\n",
            "iterations: 1695 | train_loss: 0.04219643 | validation_loss: 0.047439735 | Roc Score: 0.97153085 | Time elapsed: 4:08:13.138952\n",
            "iterations: 1696 | train_loss: 0.039791916 | validation_loss: 0.04758609 | Roc Score: 0.9715364 | Time elapsed: 4:08:21.497875\n",
            "iterations: 1697 | train_loss: 0.047594674 | validation_loss: 0.04774338 | Roc Score: 0.9715416 | Time elapsed: 4:08:29.599453\n",
            "iterations: 1698 | train_loss: 0.04524662 | validation_loss: 0.047940712 | Roc Score: 0.97154665 | Time elapsed: 4:08:37.652230\n",
            "iterations: 1699 | train_loss: 0.034988545 | validation_loss: 0.048275955 | Roc Score: 0.97155166 | Time elapsed: 4:08:45.594350\n",
            "iterations: 1700 | train_loss: 0.03459249 | validation_loss: 0.048683897 | Roc Score: 0.9715559 | Time elapsed: 4:08:53.845687\n",
            "iterations: 1701 | train_loss: 0.047814496 | validation_loss: 0.0492657 | Roc Score: 0.9715599 | Time elapsed: 4:09:01.556331\n",
            "iterations: 1702 | train_loss: 0.047911037 | validation_loss: 0.04990322 | Roc Score: 0.9715637 | Time elapsed: 4:09:09.654367\n",
            "iterations: 1703 | train_loss: 0.04110371 | validation_loss: 0.05037657 | Roc Score: 0.9715672 | Time elapsed: 4:09:18.206563\n",
            "iterations: 1704 | train_loss: 0.043353863 | validation_loss: 0.05059544 | Roc Score: 0.9715706 | Time elapsed: 4:09:26.348321\n",
            "iterations: 1705 | train_loss: 0.048873622 | validation_loss: 0.050610904 | Roc Score: 0.971574 | Time elapsed: 4:09:34.266783\n",
            "iterations: 1706 | train_loss: 0.040814642 | validation_loss: 0.050574087 | Roc Score: 0.9715771 | Time elapsed: 4:09:42.737182\n",
            "iterations: 1707 | train_loss: 0.058781624 | validation_loss: 0.050496455 | Roc Score: 0.9715807 | Time elapsed: 4:09:51.757629\n",
            "iterations: 1708 | train_loss: 0.05516386 | validation_loss: 0.0501625 | Roc Score: 0.9715847 | Time elapsed: 4:10:00.783650\n",
            "iterations: 1709 | train_loss: 0.04723121 | validation_loss: 0.049695585 | Roc Score: 0.97158915 | Time elapsed: 4:10:09.814263\n",
            "iterations: 1710 | train_loss: 0.028277798 | validation_loss: 0.048695985 | Roc Score: 0.971594 | Time elapsed: 4:10:18.677011\n",
            "iterations: 1711 | train_loss: 0.029360084 | validation_loss: 0.047968738 | Roc Score: 0.9715986 | Time elapsed: 4:10:27.858135\n",
            "iterations: 1712 | train_loss: 0.04252695 | validation_loss: 0.047680788 | Roc Score: 0.9716034 | Time elapsed: 4:10:37.058975\n",
            "iterations: 1713 | train_loss: 0.03267324 | validation_loss: 0.048027217 | Roc Score: 0.9716076 | Time elapsed: 4:10:46.082066\n",
            "iterations: 1714 | train_loss: 0.055722147 | validation_loss: 0.04852114 | Roc Score: 0.9716112 | Time elapsed: 4:10:54.680644\n",
            "iterations: 1715 | train_loss: 0.05638542 | validation_loss: 0.04868346 | Roc Score: 0.9716146 | Time elapsed: 4:11:03.511915\n"
          ],
          "name": "stdout"
        },
        {
          "output_type": "stream",
          "text": [
            "iterations: 1716 | train_loss: 0.041175786 | validation_loss: 0.04841568 | Roc Score: 0.97161853 | Time elapsed: 4:11:12.756192\n",
            "iterations: 1717 | train_loss: 0.028285611 | validation_loss: 0.048428897 | Roc Score: 0.9716219 | Time elapsed: 4:11:22.174920\n",
            "iterations: 1718 | train_loss: 0.044246554 | validation_loss: 0.047723792 | Roc Score: 0.9716264 | Time elapsed: 4:11:31.236760\n",
            "iterations: 1719 | train_loss: 0.030128349 | validation_loss: 0.04745218 | Roc Score: 0.971631 | Time elapsed: 4:11:40.206424\n",
            "iterations: 1720 | train_loss: 0.053717297 | validation_loss: 0.04743391 | Roc Score: 0.97163653 | Time elapsed: 4:11:48.614152\n",
            "iterations: 1721 | train_loss: 0.051884033 | validation_loss: 0.047869094 | Roc Score: 0.971642 | Time elapsed: 4:11:56.845905\n",
            "iterations: 1722 | train_loss: 0.037830103 | validation_loss: 0.048433 | Roc Score: 0.9716474 | Time elapsed: 4:12:05.656062\n",
            "iterations: 1723 | train_loss: 0.04105324 | validation_loss: 0.04881971 | Roc Score: 0.9716525 | Time elapsed: 4:12:14.250009\n",
            "iterations: 1724 | train_loss: 0.039132506 | validation_loss: 0.04870912 | Roc Score: 0.9716579 | Time elapsed: 4:12:23.238294\n",
            "iterations: 1725 | train_loss: 0.049060494 | validation_loss: 0.048435435 | Roc Score: 0.9716632 | Time elapsed: 4:12:32.254453\n",
            "iterations: 1726 | train_loss: 0.053229712 | validation_loss: 0.048361752 | Roc Score: 0.9716686 | Time elapsed: 4:12:41.484684\n",
            "iterations: 1727 | train_loss: 0.044567287 | validation_loss: 0.048232686 | Roc Score: 0.9716739 | Time elapsed: 4:12:49.809996\n",
            "iterations: 1728 | train_loss: 0.021690378 | validation_loss: 0.04830479 | Roc Score: 0.9716786 | Time elapsed: 4:12:58.861290\n",
            "iterations: 1729 | train_loss: 0.024587585 | validation_loss: 0.048467863 | Roc Score: 0.97168267 | Time elapsed: 4:13:08.007555\n",
            "iterations: 1730 | train_loss: 0.040128 | validation_loss: 0.048432887 | Roc Score: 0.9716865 | Time elapsed: 4:13:16.986211\n",
            "iterations: 1731 | train_loss: 0.03853144 | validation_loss: 0.04845192 | Roc Score: 0.97169006 | Time elapsed: 4:13:26.319353\n",
            "iterations: 1732 | train_loss: 0.03617786 | validation_loss: 0.04855328 | Roc Score: 0.97169334 | Time elapsed: 4:13:35.154311\n",
            "iterations: 1733 | train_loss: 0.043790195 | validation_loss: 0.048444856 | Roc Score: 0.9716967 | Time elapsed: 4:13:44.180318\n",
            "iterations: 1734 | train_loss: 0.024600068 | validation_loss: 0.04850066 | Roc Score: 0.9716999 | Time elapsed: 4:13:52.669567\n",
            "iterations: 1735 | train_loss: 0.039721724 | validation_loss: 0.048628766 | Roc Score: 0.9717032 | Time elapsed: 4:14:01.483197\n",
            "iterations: 1736 | train_loss: 0.03297781 | validation_loss: 0.04841634 | Roc Score: 0.97170764 | Time elapsed: 4:14:10.707547\n",
            "iterations: 1737 | train_loss: 0.047989935 | validation_loss: 0.048453603 | Roc Score: 0.97171247 | Time elapsed: 4:14:19.814729\n",
            "iterations: 1738 | train_loss: 0.044875916 | validation_loss: 0.0487041 | Roc Score: 0.97171754 | Time elapsed: 4:14:28.747336\n",
            "iterations: 1739 | train_loss: 0.027717523 | validation_loss: 0.049005184 | Roc Score: 0.9717224 | Time elapsed: 4:14:37.577143\n",
            "iterations: 1740 | train_loss: 0.035748485 | validation_loss: 0.04945842 | Roc Score: 0.97172725 | Time elapsed: 4:14:46.471651\n",
            "iterations: 1741 | train_loss: 0.056831785 | validation_loss: 0.04953916 | Roc Score: 0.97173214 | Time elapsed: 4:14:54.392018\n",
            "iterations: 1742 | train_loss: 0.037613504 | validation_loss: 0.049114052 | Roc Score: 0.9717373 | Time elapsed: 4:15:02.934284\n",
            "iterations: 1743 | train_loss: 0.047152985 | validation_loss: 0.04845747 | Roc Score: 0.9717424 | Time elapsed: 4:15:11.721947\n",
            "iterations: 1744 | train_loss: 0.036602497 | validation_loss: 0.048485998 | Roc Score: 0.9717461 | Time elapsed: 4:15:20.265954\n",
            "iterations: 1745 | train_loss: 0.039913632 | validation_loss: 0.04901998 | Roc Score: 0.971749 | Time elapsed: 4:15:28.598667\n",
            "iterations: 1746 | train_loss: 0.043737564 | validation_loss: 0.049548198 | Roc Score: 0.97175115 | Time elapsed: 4:15:37.303001\n",
            "iterations: 1747 | train_loss: 0.036757655 | validation_loss: 0.05030729 | Roc Score: 0.97175276 | Time elapsed: 4:15:46.390217\n",
            "iterations: 1748 | train_loss: 0.055960115 | validation_loss: 0.05008591 | Roc Score: 0.9717546 | Time elapsed: 4:15:55.472398\n",
            "iterations: 1749 | train_loss: 0.06034701 | validation_loss: 0.049058083 | Roc Score: 0.97175795 | Time elapsed: 4:16:04.325678\n",
            "iterations: 1750 | train_loss: 0.046965256 | validation_loss: 0.04880318 | Roc Score: 0.9717622 | Time elapsed: 4:16:13.181615\n",
            "iterations: 1751 | train_loss: 0.054732054 | validation_loss: 0.049245995 | Roc Score: 0.971767 | Time elapsed: 4:16:22.020535\n",
            "iterations: 1752 | train_loss: 0.042945515 | validation_loss: 0.04985 | Roc Score: 0.971772 | Time elapsed: 4:16:30.977118\n",
            "iterations: 1753 | train_loss: 0.044620305 | validation_loss: 0.05029491 | Roc Score: 0.97177696 | Time elapsed: 4:16:39.902392\n",
            "iterations: 1754 | train_loss: 0.0463317 | validation_loss: 0.050796468 | Roc Score: 0.97178197 | Time elapsed: 4:16:48.597156\n"
          ],
          "name": "stdout"
        },
        {
          "output_type": "stream",
          "text": [
            "iterations: 1755 | train_loss: 0.05378697 | validation_loss: 0.050916046 | Roc Score: 0.9717866 | Time elapsed: 4:16:57.059706\n",
            "iterations: 1756 | train_loss: 0.048815355 | validation_loss: 0.05043758 | Roc Score: 0.9717915 | Time elapsed: 4:17:05.747930\n",
            "iterations: 1757 | train_loss: 0.05412852 | validation_loss: 0.050481934 | Roc Score: 0.9717963 | Time elapsed: 4:17:14.843870\n",
            "iterations: 1758 | train_loss: 0.033437528 | validation_loss: 0.049833205 | Roc Score: 0.9718009 | Time elapsed: 4:17:23.740181\n",
            "iterations: 1759 | train_loss: 0.04728614 | validation_loss: 0.049481 | Roc Score: 0.971805 | Time elapsed: 4:17:31.655048\n",
            "iterations: 1760 | train_loss: 0.030935323 | validation_loss: 0.049393743 | Roc Score: 0.9718085 | Time elapsed: 4:17:40.812988\n",
            "iterations: 1761 | train_loss: 0.028684292 | validation_loss: 0.049648933 | Roc Score: 0.9718116 | Time elapsed: 4:17:50.131753\n",
            "iterations: 1762 | train_loss: 0.060567837 | validation_loss: 0.049589247 | Roc Score: 0.97181445 | Time elapsed: 4:17:58.499533\n",
            "iterations: 1763 | train_loss: 0.039008535 | validation_loss: 0.049356006 | Roc Score: 0.9718174 | Time elapsed: 4:18:07.485199\n",
            "iterations: 1764 | train_loss: 0.03594326 | validation_loss: 0.049631834 | Roc Score: 0.9718191 | Time elapsed: 4:18:15.634326\n",
            "iterations: 1765 | train_loss: 0.04085455 | validation_loss: 0.05000661 | Roc Score: 0.9718207 | Time elapsed: 4:18:24.361905\n",
            "iterations: 1766 | train_loss: 0.040799387 | validation_loss: 0.049589608 | Roc Score: 0.97182286 | Time elapsed: 4:18:33.147866\n",
            "iterations: 1767 | train_loss: 0.050837837 | validation_loss: 0.04885502 | Roc Score: 0.971826 | Time elapsed: 4:18:42.535688\n",
            "iterations: 1768 | train_loss: 0.054102734 | validation_loss: 0.04815502 | Roc Score: 0.97183 | Time elapsed: 4:18:51.550709\n",
            "iterations: 1769 | train_loss: 0.0417332 | validation_loss: 0.047993604 | Roc Score: 0.9718348 | Time elapsed: 4:19:00.529322\n",
            "iterations: 1770 | train_loss: 0.03665508 | validation_loss: 0.0481111 | Roc Score: 0.97184026 | Time elapsed: 4:19:09.777799\n",
            "iterations: 1771 | train_loss: 0.030115318 | validation_loss: 0.048349675 | Roc Score: 0.9718456 | Time elapsed: 4:19:18.715990\n",
            "iterations: 1772 | train_loss: 0.029044885 | validation_loss: 0.048350457 | Roc Score: 0.9718509 | Time elapsed: 4:19:27.268205\n",
            "iterations: 1773 | train_loss: 0.030015418 | validation_loss: 0.048236135 | Roc Score: 0.9718558 | Time elapsed: 4:19:35.414357\n",
            "iterations: 1774 | train_loss: 0.045529384 | validation_loss: 0.04827791 | Roc Score: 0.971861 | Time elapsed: 4:19:43.996133\n",
            "iterations: 1775 | train_loss: 0.062595636 | validation_loss: 0.048280194 | Roc Score: 0.97186613 | Time elapsed: 4:19:52.821525\n",
            "iterations: 1776 | train_loss: 0.054599233 | validation_loss: 0.048144653 | Roc Score: 0.9718712 | Time elapsed: 4:20:01.816923\n",
            "iterations: 1777 | train_loss: 0.030702416 | validation_loss: 0.047942843 | Roc Score: 0.9718763 | Time elapsed: 4:20:10.468283\n",
            "iterations: 1778 | train_loss: 0.030671718 | validation_loss: 0.047789417 | Roc Score: 0.9718811 | Time elapsed: 4:20:18.709083\n",
            "iterations: 1779 | train_loss: 0.03913296 | validation_loss: 0.04775639 | Roc Score: 0.9718853 | Time elapsed: 4:20:27.624676\n",
            "iterations: 1780 | train_loss: 0.033863258 | validation_loss: 0.047843672 | Roc Score: 0.97188926 | Time elapsed: 4:20:36.836857\n",
            "iterations: 1781 | train_loss: 0.047406603 | validation_loss: 0.04788513 | Roc Score: 0.9718931 | Time elapsed: 4:20:45.907356\n",
            "iterations: 1782 | train_loss: 0.048092883 | validation_loss: 0.047935493 | Roc Score: 0.97189707 | Time elapsed: 4:20:54.842640\n",
            "iterations: 1783 | train_loss: 0.029509302 | validation_loss: 0.04794237 | Roc Score: 0.9719007 | Time elapsed: 4:21:03.904384\n",
            "iterations: 1784 | train_loss: 0.051747732 | validation_loss: 0.048026327 | Roc Score: 0.97190434 | Time elapsed: 4:21:12.912214\n",
            "iterations: 1785 | train_loss: 0.055187747 | validation_loss: 0.04817232 | Roc Score: 0.97190803 | Time elapsed: 4:21:21.944274\n",
            "iterations: 1786 | train_loss: 0.04031919 | validation_loss: 0.0482748 | Roc Score: 0.97191167 | Time elapsed: 4:21:30.846385\n",
            "iterations: 1787 | train_loss: 0.029513538 | validation_loss: 0.04846252 | Roc Score: 0.97191525 | Time elapsed: 4:21:39.681126\n",
            "iterations: 1788 | train_loss: 0.022569856 | validation_loss: 0.048738405 | Roc Score: 0.971919 | Time elapsed: 4:21:48.330958\n",
            "iterations: 1789 | train_loss: 0.039165553 | validation_loss: 0.04898773 | Roc Score: 0.97192246 | Time elapsed: 4:21:57.328110\n",
            "iterations: 1790 | train_loss: 0.042211253 | validation_loss: 0.04906688 | Roc Score: 0.97192585 | Time elapsed: 4:22:06.175222\n",
            "iterations: 1791 | train_loss: 0.048336245 | validation_loss: 0.048889093 | Roc Score: 0.97192997 | Time elapsed: 4:22:15.303934\n",
            "iterations: 1792 | train_loss: 0.050743956 | validation_loss: 0.048717845 | Roc Score: 0.971934 | Time elapsed: 4:22:24.043006\n",
            "iterations: 1793 | train_loss: 0.04718223 | validation_loss: 0.048605084 | Roc Score: 0.9719383 | Time elapsed: 4:22:33.023443\n"
          ],
          "name": "stdout"
        },
        {
          "output_type": "stream",
          "text": [
            "iterations: 1794 | train_loss: 0.03057255 | validation_loss: 0.048567314 | Roc Score: 0.97194237 | Time elapsed: 4:22:42.041623\n",
            "iterations: 1795 | train_loss: 0.04642511 | validation_loss: 0.048439946 | Roc Score: 0.97194636 | Time elapsed: 4:22:51.027181\n",
            "iterations: 1796 | train_loss: 0.023660038 | validation_loss: 0.048315205 | Roc Score: 0.9719506 | Time elapsed: 4:23:00.650043\n",
            "iterations: 1797 | train_loss: 0.044469953 | validation_loss: 0.04832785 | Roc Score: 0.97195464 | Time elapsed: 4:23:09.790716\n",
            "iterations: 1798 | train_loss: 0.036231816 | validation_loss: 0.048352662 | Roc Score: 0.97195864 | Time elapsed: 4:23:18.832983\n",
            "iterations: 1799 | train_loss: 0.04470726 | validation_loss: 0.048378285 | Roc Score: 0.97196263 | Time elapsed: 4:23:27.922060\n",
            "iterations: 1800 | train_loss: 0.035373263 | validation_loss: 0.0485774 | Roc Score: 0.9719662 | Time elapsed: 4:23:36.621247\n",
            "iterations: 1801 | train_loss: 0.04423967 | validation_loss: 0.048687868 | Roc Score: 0.97196996 | Time elapsed: 4:23:45.569446\n",
            "iterations: 1802 | train_loss: 0.04397937 | validation_loss: 0.048874866 | Roc Score: 0.97197306 | Time elapsed: 4:23:54.378726\n",
            "iterations: 1803 | train_loss: 0.056516163 | validation_loss: 0.04919838 | Roc Score: 0.9719765 | Time elapsed: 4:24:03.342827\n",
            "iterations: 1804 | train_loss: 0.03756397 | validation_loss: 0.049233973 | Roc Score: 0.9719796 | Time elapsed: 4:24:12.380913\n",
            "iterations: 1805 | train_loss: 0.036349423 | validation_loss: 0.049216036 | Roc Score: 0.9719824 | Time elapsed: 4:24:21.416889\n",
            "iterations: 1806 | train_loss: 0.032137018 | validation_loss: 0.049256843 | Roc Score: 0.97198534 | Time elapsed: 4:24:30.375438\n",
            "iterations: 1807 | train_loss: 0.033824947 | validation_loss: 0.049119897 | Roc Score: 0.9719883 | Time elapsed: 4:24:39.137960\n",
            "iterations: 1808 | train_loss: 0.042210598 | validation_loss: 0.049014047 | Roc Score: 0.97199136 | Time elapsed: 4:24:48.155077\n",
            "iterations: 1809 | train_loss: 0.04448839 | validation_loss: 0.049027774 | Roc Score: 0.97199404 | Time elapsed: 4:24:56.069034\n",
            "iterations: 1810 | train_loss: 0.050080907 | validation_loss: 0.048895773 | Roc Score: 0.9719971 | Time elapsed: 4:25:04.397060\n",
            "iterations: 1811 | train_loss: 0.038627386 | validation_loss: 0.04879529 | Roc Score: 0.9720001 | Time elapsed: 4:25:12.297577\n",
            "iterations: 1812 | train_loss: 0.047696408 | validation_loss: 0.04864364 | Roc Score: 0.9720036 | Time elapsed: 4:25:21.659162\n",
            "iterations: 1813 | train_loss: 0.030070916 | validation_loss: 0.048649166 | Roc Score: 0.9720068 | Time elapsed: 4:25:30.124985\n",
            "iterations: 1814 | train_loss: 0.04106813 | validation_loss: 0.04869284 | Roc Score: 0.97201014 | Time elapsed: 4:25:38.203942\n",
            "iterations: 1815 | train_loss: 0.037141267 | validation_loss: 0.048691314 | Roc Score: 0.9720138 | Time elapsed: 4:25:47.079438\n",
            "iterations: 1816 | train_loss: 0.047554765 | validation_loss: 0.04867533 | Roc Score: 0.97201717 | Time elapsed: 4:25:55.048231\n",
            "iterations: 1817 | train_loss: 0.034732267 | validation_loss: 0.048689753 | Roc Score: 0.9720208 | Time elapsed: 4:26:03.028535\n",
            "iterations: 1818 | train_loss: 0.04393857 | validation_loss: 0.04852468 | Roc Score: 0.9720243 | Time elapsed: 4:26:12.320910\n",
            "iterations: 1819 | train_loss: 0.05734708 | validation_loss: 0.048286907 | Roc Score: 0.97202826 | Time elapsed: 4:26:20.591763\n",
            "iterations: 1820 | train_loss: 0.04253748 | validation_loss: 0.048059717 | Roc Score: 0.9720325 | Time elapsed: 4:26:29.877644\n",
            "iterations: 1821 | train_loss: 0.050661758 | validation_loss: 0.04791023 | Roc Score: 0.97203726 | Time elapsed: 4:26:38.915364\n",
            "iterations: 1822 | train_loss: 0.03223178 | validation_loss: 0.047712933 | Roc Score: 0.97204226 | Time elapsed: 4:26:47.095692\n",
            "iterations: 1823 | train_loss: 0.04965552 | validation_loss: 0.047401965 | Roc Score: 0.9720474 | Time elapsed: 4:26:56.139457\n",
            "iterations: 1824 | train_loss: 0.0424703 | validation_loss: 0.047282014 | Roc Score: 0.97205323 | Time elapsed: 4:27:05.573326\n",
            "iterations: 1825 | train_loss: 0.042233333 | validation_loss: 0.047219776 | Roc Score: 0.97205895 | Time elapsed: 4:27:14.743728\n",
            "iterations: 1826 | train_loss: 0.03696166 | validation_loss: 0.047272436 | Roc Score: 0.97206455 | Time elapsed: 4:27:24.092004\n",
            "iterations: 1827 | train_loss: 0.040701564 | validation_loss: 0.047295064 | Roc Score: 0.9720707 | Time elapsed: 4:27:33.272540\n",
            "iterations: 1828 | train_loss: 0.04193804 | validation_loss: 0.04753758 | Roc Score: 0.97207665 | Time elapsed: 4:27:42.300287\n",
            "iterations: 1829 | train_loss: 0.0385857 | validation_loss: 0.047687046 | Roc Score: 0.9720826 | Time elapsed: 4:27:51.395011\n",
            "iterations: 1830 | train_loss: 0.033594914 | validation_loss: 0.04766331 | Roc Score: 0.9720886 | Time elapsed: 4:28:00.552932\n",
            "iterations: 1831 | train_loss: 0.0411119 | validation_loss: 0.047522247 | Roc Score: 0.9720937 | Time elapsed: 4:28:09.725372\n",
            "iterations: 1832 | train_loss: 0.037141424 | validation_loss: 0.04747395 | Roc Score: 0.97209847 | Time elapsed: 4:28:18.350532\n"
          ],
          "name": "stdout"
        },
        {
          "output_type": "stream",
          "text": [
            "iterations: 1833 | train_loss: 0.044268843 | validation_loss: 0.047668714 | Roc Score: 0.97210205 | Time elapsed: 4:28:27.450245\n",
            "iterations: 1834 | train_loss: 0.061969783 | validation_loss: 0.04761773 | Roc Score: 0.9721057 | Time elapsed: 4:28:36.528271\n",
            "iterations: 1835 | train_loss: 0.043574702 | validation_loss: 0.04765584 | Roc Score: 0.97210896 | Time elapsed: 4:28:45.450796\n",
            "iterations: 1836 | train_loss: 0.041816004 | validation_loss: 0.04793625 | Roc Score: 0.97211206 | Time elapsed: 4:28:53.995414\n",
            "iterations: 1837 | train_loss: 0.036455706 | validation_loss: 0.048197553 | Roc Score: 0.97211516 | Time elapsed: 4:29:02.619243\n",
            "iterations: 1838 | train_loss: 0.036905322 | validation_loss: 0.04836851 | Roc Score: 0.97211796 | Time elapsed: 4:29:11.541699\n",
            "iterations: 1839 | train_loss: 0.038328465 | validation_loss: 0.048753325 | Roc Score: 0.9721205 | Time elapsed: 4:29:20.572759\n",
            "iterations: 1840 | train_loss: 0.02471446 | validation_loss: 0.04922023 | Roc Score: 0.9721227 | Time elapsed: 4:29:29.668180\n",
            "iterations: 1841 | train_loss: 0.058373224 | validation_loss: 0.04966752 | Roc Score: 0.9721251 | Time elapsed: 4:29:37.944580\n",
            "iterations: 1842 | train_loss: 0.035164252 | validation_loss: 0.050236363 | Roc Score: 0.9721272 | Time elapsed: 4:29:46.729543\n",
            "iterations: 1843 | train_loss: 0.039561003 | validation_loss: 0.050806977 | Roc Score: 0.97212887 | Time elapsed: 4:29:55.544517\n",
            "iterations: 1844 | train_loss: 0.034160927 | validation_loss: 0.051257223 | Roc Score: 0.97213066 | Time elapsed: 4:30:04.511059\n"
          ],
          "name": "stdout"
        }
      ]
    },
    {
      "metadata": {
        "id": "UOpH6rE9lglu",
        "colab_type": "text"
      },
      "cell_type": "markdown",
      "source": [
        "# Visualization of performance"
      ]
    },
    {
      "metadata": {
        "id": "WM8vuH7LlmBn",
        "colab_type": "text"
      },
      "cell_type": "markdown",
      "source": [
        "**Plot of loss vs iteration**"
      ]
    },
    {
      "metadata": {
        "id": "qZLKi41glmd9",
        "colab_type": "code",
        "colab": {
          "autoexec": {
            "startup": false,
            "wait_interval": 0
          },
          "output_extras": [
            {
              "item_id": 1
            }
          ],
          "base_uri": "https://localhost:8080/",
          "height": 566
        },
        "outputId": "cf60878c-7efb-49c6-c1b4-508781c54fd4",
        "executionInfo": {
          "status": "ok",
          "timestamp": 1521350696264,
          "user_tz": -360,
          "elapsed": 2181,
          "user": {
            "displayName": "Itrat Rahman",
            "photoUrl": "//lh3.googleusercontent.com/-j1V_yfZD3m0/AAAAAAAAAAI/AAAAAAAAFTg/pDPmK0kE5mI/s50-c-k-no/photo.jpg",
            "userId": "116815226076340067076"
          }
        }
      },
      "cell_type": "code",
      "source": [
        "plt.figure(figsize=(16, 8), dpi= 80, facecolor='w', edgecolor='k')\n",
        "iterations = list(range(1,iteration+1))\n",
        "plt.plot(iterations, train_loss, label = \"train loss\")\n",
        "plt.plot(iterations, valid_loss, label = \"valid loss\")\n",
        "plt.title(\"Loss\")\n",
        "plt.xlabel(\"iter\")\n",
        "plt.ylabel(\"loss\")\n",
        "plt.legend()\n",
        "plt.grid()\n",
        "plt.show()"
      ],
      "execution_count": 38,
      "outputs": [
        {
          "output_type": "display_data",
          "data": {
            "image/png": "[encoded data removed]",
            "text/plain": [
              "<matplotlib.figure.Figure at 0x7fcbe81e3f98>"
            ]
          },
          "metadata": {
            "tags": []
          }
        }
      ]
    },
    {
      "metadata": {
        "id": "ZOtq5onjlqF9",
        "colab_type": "text"
      },
      "cell_type": "markdown",
      "source": [
        "**Plot of ROC AUC vs iteration**"
      ]
    },
    {
      "metadata": {
        "id": "T8l8VwhLlqdl",
        "colab_type": "code",
        "colab": {
          "autoexec": {
            "startup": false,
            "wait_interval": 0
          },
          "output_extras": [
            {
              "item_id": 1
            }
          ],
          "base_uri": "https://localhost:8080/",
          "height": 566
        },
        "outputId": "b3a5aa58-4518-4bc0-a6fa-22b3264b65ee",
        "executionInfo": {
          "status": "ok",
          "timestamp": 1521350697174,
          "user_tz": -360,
          "elapsed": 793,
          "user": {
            "displayName": "Itrat Rahman",
            "photoUrl": "//lh3.googleusercontent.com/-j1V_yfZD3m0/AAAAAAAAAAI/AAAAAAAAFTg/pDPmK0kE5mI/s50-c-k-no/photo.jpg",
            "userId": "116815226076340067076"
          }
        }
      },
      "cell_type": "code",
      "source": [
        "plt.figure(figsize=(16, 8), dpi= 80, facecolor='w', edgecolor='k')\n",
        "plt.plot(iterations, valid_roc)\n",
        "plt.title(\"ROC AUC\")\n",
        "plt.xlabel(\"iter\")\n",
        "plt.ylabel(\"Auc\")\n",
        "plt.grid()\n",
        "plt.show()"
      ],
      "execution_count": 39,
      "outputs": [
        {
          "output_type": "display_data",
          "data": {
            "image/png": "[encoded data removed]",
            "text/plain": [
              "<matplotlib.figure.Figure at 0x7fcbe81e3c50>"
            ]
          },
          "metadata": {
            "tags": []
          }
        }
      ]
    },
    {
      "metadata": {
        "id": "sOUBh4Tolu0A",
        "colab_type": "text"
      },
      "cell_type": "markdown",
      "source": [
        "# Create and Save submission file"
      ]
    },
    {
      "metadata": {
        "id": "FVpQSQn1lvK2",
        "colab_type": "code",
        "colab": {
          "autoexec": {
            "startup": false,
            "wait_interval": 0
          }
        }
      },
      "cell_type": "code",
      "source": [
        "del(comments_train, sentiments_train, seq_length_train, comments_validation, sentiments_validation, seq_length_validation)"
      ],
      "execution_count": 0,
      "outputs": []
    },
    {
      "metadata": {
        "id": "r4Ab9VaalyO3",
        "colab_type": "text"
      },
      "cell_type": "markdown",
      "source": [
        "**Create predictions matrix in folds and save the predictions in a csv file**"
      ]
    },
    {
      "metadata": {
        "id": "tH7BF8kSl2bt",
        "colab_type": "code",
        "colab": {
          "autoexec": {
            "startup": false,
            "wait_interval": 0
          },
          "output_extras": [
            {
              "item_id": 41
            }
          ],
          "base_uri": "https://localhost:8080/",
          "height": 714
        },
        "outputId": "c69acfb5-5be2-41aa-c4bd-d176341b01b7",
        "executionInfo": {
          "status": "ok",
          "timestamp": 1521350826183,
          "user_tz": -360,
          "elapsed": 128091,
          "user": {
            "displayName": "Itrat Rahman",
            "photoUrl": "//lh3.googleusercontent.com/-j1V_yfZD3m0/AAAAAAAAAAI/AAAAAAAAFTg/pDPmK0kE5mI/s50-c-k-no/photo.jpg",
            "userId": "116815226076340067076"
          }
        }
      },
      "cell_type": "code",
      "source": [
        "with tf.Session() as sess:  \n",
        "    \n",
        "    # restore the best model\n",
        "    model_path = \"./\"+\"my-model-\"+str(best_iteration)\n",
        "    saver.restore(sess, model_path)\n",
        "    \n",
        "    # break the test set into k folds other wise kernel will be out of memory\n",
        "    n = len(test_id)\n",
        "    k = 40\n",
        "    step = n//k\n",
        "    \n",
        "    # array to store the prediction\n",
        "    preds = np.array([])\n",
        "\n",
        "    # iterate through each fold\n",
        "    for i in range(k):\n",
        "\n",
        "        # start and end indices of the fold\n",
        "        if i != (k-1):\n",
        "            start = (step*i)\n",
        "            end = (step*(i+1)) \n",
        "        else:\n",
        "            start = (step*i)\n",
        "            end = len(test_id)\n",
        "            \n",
        "        \n",
        "\n",
        "        # feed dictionary for the fold\n",
        "        feed_dict_test =  {X:sequence_generator(comments_test[start:end], max_length, size),\n",
        "                            length:seq_length_test[start:end],\n",
        "                            keep_prob: 1.0}\n",
        "\n",
        "        # evaluate predictions of the fold\n",
        "        fold_preds = logits.eval(session=sess, feed_dict = feed_dict_test)\n",
        "        if i == 0:\n",
        "            preds  = fold_preds\n",
        "        else:\n",
        "            preds = np.append(preds, fold_preds, axis=0)\n",
        "        \n",
        "        print(\"Computed predictions for fold\",i)\n",
        "        \n",
        "    del(model, comments_test, seq_length_test)\n",
        "    \n",
        "    submission_matrix = np.append(np.transpose([test_id]), preds, axis=1)\n",
        "    del(test_id)\n",
        "    \n",
        "    # save the submission csv file\n",
        "    submission_path = \"./submission.csv\"\n",
        "    columns = [\"id\",\"toxic\",\"severe_toxic\",\"obscene\",\"threat\",\"insult\",\"identity_hate\"]\n",
        "    submission = pd.DataFrame(submission_matrix, columns= columns)\n",
        "    del(submission_matrix)\n",
        "    submission.to_csv(submission_path, header = True, index=False)"
      ],
      "execution_count": 41,
      "outputs": [
        {
          "output_type": "stream",
          "text": [
            "INFO:tensorflow:Restoring parameters from ./my-model-1844\n",
            "Computed predictions for fold 0\n",
            "Computed predictions for fold 1\n",
            "Computed predictions for fold 2\n",
            "Computed predictions for fold 3\n",
            "Computed predictions for fold 4\n",
            "Computed predictions for fold 5\n",
            "Computed predictions for fold 6\n",
            "Computed predictions for fold 7\n",
            "Computed predictions for fold 8\n",
            "Computed predictions for fold 9\n",
            "Computed predictions for fold 10\n",
            "Computed predictions for fold 11\n",
            "Computed predictions for fold 12\n",
            "Computed predictions for fold 13\n",
            "Computed predictions for fold 14\n",
            "Computed predictions for fold 15\n",
            "Computed predictions for fold 16\n",
            "Computed predictions for fold 17\n",
            "Computed predictions for fold 18\n",
            "Computed predictions for fold 19\n",
            "Computed predictions for fold 20\n",
            "Computed predictions for fold 21\n",
            "Computed predictions for fold 22\n",
            "Computed predictions for fold 23\n",
            "Computed predictions for fold 24\n",
            "Computed predictions for fold 25\n",
            "Computed predictions for fold 26\n",
            "Computed predictions for fold 27\n",
            "Computed predictions for fold 28\n",
            "Computed predictions for fold 29\n",
            "Computed predictions for fold 30\n",
            "Computed predictions for fold 31\n",
            "Computed predictions for fold 32\n",
            "Computed predictions for fold 33\n",
            "Computed predictions for fold 34\n",
            "Computed predictions for fold 35\n",
            "Computed predictions for fold 36\n",
            "Computed predictions for fold 37\n",
            "Computed predictions for fold 38\n",
            "Computed predictions for fold 39\n"
          ],
          "name": "stdout"
        }
      ]
    },
    {
      "metadata": {
        "id": "u_p1B5cVl7vT",
        "colab_type": "text"
      },
      "cell_type": "markdown",
      "source": [
        "**Save the submission file in google drive**"
      ]
    },
    {
      "metadata": {
        "id": "U72a7M0el8L1",
        "colab_type": "code",
        "colab": {
          "autoexec": {
            "startup": false,
            "wait_interval": 0
          }
        }
      },
      "cell_type": "code",
      "source": [
        "# Code to read csv file into colaboratory:\n",
        "!pip install -U -q PyDrive\n",
        "from pydrive.auth import GoogleAuth\n",
        "from pydrive.drive import GoogleDrive\n",
        "from google.colab import auth\n",
        "from oauth2client.client import GoogleCredentials\n",
        "\n",
        "# 1. Authenticate and create the PyDrive client.\n",
        "auth.authenticate_user()\n",
        "gauth = GoogleAuth()\n",
        "gauth.credentials = GoogleCredentials.get_application_default()\n",
        "drive = GoogleDrive(gauth)"
      ],
      "execution_count": 0,
      "outputs": []
    },
    {
      "metadata": {
        "id": "oUueiHk8l-Lb",
        "colab_type": "code",
        "colab": {
          "autoexec": {
            "startup": false,
            "wait_interval": 0
          }
        }
      },
      "cell_type": "code",
      "source": [
        "# Create & upload a text file.\n",
        "uploaded = drive.CreateFile({'title': 'submission.csv', 'parents':[{u'id': file_id_data[\"download_folder2_id\"]}]})\n",
        "uploaded.SetContentFile(\"submission.csv\")\n",
        "uploaded.Upload()"
      ],
      "execution_count": 0,
      "outputs": []
    }
  ]
}