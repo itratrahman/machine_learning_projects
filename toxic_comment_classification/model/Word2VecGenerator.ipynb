{
  "nbformat": 4,
  "nbformat_minor": 0,
  "metadata": {
    "colab": {
      "name": "Word2VecGenerator.ipynb",
      "version": "0.3.2",
      "views": {},
      "default_view": {},
      "provenance": [],
      "collapsed_sections": [],
      "toc_visible": true
    },
    "kernelspec": {
      "name": "python3",
      "display_name": "Python 3"
    }
  },
  "cells": [
    {
      "metadata": {
        "id": "xdHxh6bwnEtN",
        "colab_type": "text"
      },
      "cell_type": "markdown",
      "source": [
        "# Import libraries"
      ]
    },
    {
      "metadata": {
        "id": "jwdNE2EdnFML",
        "colab_type": "code",
        "colab": {
          "autoexec": {
            "startup": false,
            "wait_interval": 0
          }
        }
      },
      "cell_type": "code",
      "source": [
        "import time\n",
        "t = time.time()\n",
        "import string\n",
        "import random\n",
        "import json\n",
        "import math\n",
        "import random\n",
        "import pandas as pd\n",
        "import numpy as np\n",
        "from sklearn.preprocessing import LabelBinarizer\n",
        "import tensorflow as tf\n",
        "import matplotlib\n",
        "from matplotlib import pyplot as plt\n",
        "%matplotlib inline"
      ],
      "execution_count": 0,
      "outputs": []
    },
    {
      "metadata": {
        "id": "DeWOZzimnIdr",
        "colab_type": "code",
        "colab": {
          "autoexec": {
            "startup": false,
            "wait_interval": 0
          },
          "output_extras": [
            {
              "item_id": 32
            }
          ],
          "base_uri": "https://localhost:8080/",
          "height": 870
        },
        "outputId": "36505c02-8c92-488d-bc27-3ea5e2278219",
        "executionInfo": {
          "status": "ok",
          "timestamp": 1522559909904,
          "user_tz": -360,
          "elapsed": 63303,
          "user": {
            "displayName": "Itrat Rahman",
            "photoUrl": "//lh3.googleusercontent.com/-j1V_yfZD3m0/AAAAAAAAAAI/AAAAAAAAFTg/pDPmK0kE5mI/s50-c-k-no/photo.jpg",
            "userId": "116815226076340067076"
          }
        }
      },
      "cell_type": "code",
      "source": [
        "# pip intall gensim library\n",
        "!pip install --upgrade gensim\n",
        "from gensim.models import Word2Vec"
      ],
      "execution_count": 2,
      "outputs": [
        {
          "output_type": "stream",
          "text": [
            "Collecting gensim\n",
            "  Downloading gensim-3.4.0-cp36-cp36m-manylinux1_x86_64.whl (22.6MB)\n",
            "\u001b[K    100% |████████████████████████████████| 22.6MB 60kB/s \n",
            "\u001b[?25hRequirement already up-to-date: numpy>=1.11.3 in /usr/local/lib/python3.6/dist-packages (from gensim)\n",
            "Collecting scipy>=0.18.1 (from gensim)\n",
            "  Downloading scipy-1.0.1-cp36-cp36m-manylinux1_x86_64.whl (50.0MB)\n",
            "\u001b[K    100% |████████████████████████████████| 50.0MB 27kB/s \n",
            "\u001b[?25hCollecting smart-open>=1.2.1 (from gensim)\n",
            "  Using cached smart_open-1.5.7.tar.gz\n",
            "Requirement already up-to-date: six>=1.5.0 in /usr/local/lib/python3.6/dist-packages (from gensim)\n",
            "Collecting boto3 (from smart-open>=1.2.1->gensim)\n",
            "  Using cached boto3-1.6.21-py2.py3-none-any.whl\n",
            "Collecting boto>=2.32 (from smart-open>=1.2.1->gensim)\n",
            "  Using cached boto-2.48.0-py2.py3-none-any.whl\n",
            "Collecting bz2file (from smart-open>=1.2.1->gensim)\n",
            "  Using cached bz2file-0.98.tar.gz\n",
            "Requirement already up-to-date: requests in /usr/local/lib/python3.6/dist-packages (from smart-open>=1.2.1->gensim)\n",
            "Collecting jmespath<1.0.0,>=0.7.1 (from boto3->smart-open>=1.2.1->gensim)\n",
            "  Downloading jmespath-0.9.3-py2.py3-none-any.whl\n",
            "Collecting s3transfer<0.2.0,>=0.1.10 (from boto3->smart-open>=1.2.1->gensim)\n",
            "  Downloading s3transfer-0.1.13-py2.py3-none-any.whl (59kB)\n",
            "\u001b[K    100% |████████████████████████████████| 61kB 9.1MB/s \n",
            "\u001b[?25hCollecting botocore<1.10.0,>=1.9.21 (from boto3->smart-open>=1.2.1->gensim)\n",
            "  Downloading botocore-1.9.21-py2.py3-none-any.whl (4.1MB)\n",
            "\u001b[K    100% |████████████████████████████████| 4.1MB 311kB/s \n",
            "\u001b[?25hRequirement already up-to-date: urllib3<1.23,>=1.21.1 in /usr/local/lib/python3.6/dist-packages (from requests->smart-open>=1.2.1->gensim)\n",
            "Requirement already up-to-date: certifi>=2017.4.17 in /usr/local/lib/python3.6/dist-packages (from requests->smart-open>=1.2.1->gensim)\n",
            "Requirement already up-to-date: chardet<3.1.0,>=3.0.2 in /usr/local/lib/python3.6/dist-packages (from requests->smart-open>=1.2.1->gensim)\n",
            "Requirement already up-to-date: idna<2.7,>=2.5 in /usr/local/lib/python3.6/dist-packages (from requests->smart-open>=1.2.1->gensim)\n",
            "Collecting python-dateutil<2.7.0,>=2.1 (from botocore<1.10.0,>=1.9.21->boto3->smart-open>=1.2.1->gensim)\n",
            "  Downloading python_dateutil-2.6.1-py2.py3-none-any.whl (194kB)\n",
            "\u001b[K    100% |████████████████████████████████| 194kB 4.6MB/s \n",
            "\u001b[?25hCollecting docutils>=0.10 (from botocore<1.10.0,>=1.9.21->boto3->smart-open>=1.2.1->gensim)\n",
            "  Downloading docutils-0.14-py3-none-any.whl (543kB)\n",
            "\u001b[K    100% |████████████████████████████████| 552kB 2.1MB/s \n",
            "\u001b[?25hBuilding wheels for collected packages: smart-open, bz2file\n",
            "  Running setup.py bdist_wheel for smart-open ... \u001b[?25l-\b \bdone\n",
            "\u001b[?25h  Stored in directory: /content/.cache/pip/wheels/cf/54/36/b003d8c2d26aadffc21f0677009ed53cf9575a97fc71fbba76\n",
            "  Running setup.py bdist_wheel for bz2file ... \u001b[?25l-\b \bdone\n",
            "\u001b[?25h  Stored in directory: /content/.cache/pip/wheels/31/9c/20/996d65ca104cbca940b1b053299b68459391c01c774d073126\n",
            "Successfully built smart-open bz2file\n",
            "Installing collected packages: scipy, jmespath, python-dateutil, docutils, botocore, s3transfer, boto3, boto, bz2file, smart-open, gensim\n",
            "  Found existing installation: scipy 0.19.1\n",
            "    Uninstalling scipy-0.19.1:\n",
            "      Successfully uninstalled scipy-0.19.1\n",
            "  Found existing installation: python-dateutil 2.5.3\n",
            "    Uninstalling python-dateutil-2.5.3:\n",
            "      Successfully uninstalled python-dateutil-2.5.3\n",
            "Successfully installed boto-2.48.0 boto3-1.6.21 botocore-1.9.21 bz2file-0.98 docutils-0.14 gensim-3.4.0 jmespath-0.9.3 python-dateutil-2.6.1 s3transfer-0.1.13 scipy-1.0.1 smart-open-1.5.7\n"
          ],
          "name": "stdout"
        }
      ]
    },
    {
      "metadata": {
        "id": "2cP8_r_7nKup",
        "colab_type": "text"
      },
      "cell_type": "markdown",
      "source": [
        "# Load and Inspect Cleaned Data"
      ]
    },
    {
      "metadata": {
        "id": "VlkcJ8pBnNRO",
        "colab_type": "text"
      },
      "cell_type": "markdown",
      "source": [
        "**Authentication via google auth**"
      ]
    },
    {
      "metadata": {
        "id": "pOvflrz3nN9z",
        "colab_type": "code",
        "colab": {
          "autoexec": {
            "startup": false,
            "wait_interval": 0
          }
        }
      },
      "cell_type": "code",
      "source": [
        "# Code to read csv file into colaboratory:\n",
        "!pip install -U -q PyDrive\n",
        "from pydrive.auth import GoogleAuth\n",
        "from pydrive.drive import GoogleDrive\n",
        "from google.colab import auth\n",
        "from oauth2client.client import GoogleCredentials\n",
        "\n",
        "# 1. Authenticate and create the PyDrive client.\n",
        "auth.authenticate_user()\n",
        "gauth = GoogleAuth()\n",
        "gauth.credentials = GoogleCredentials.get_application_default()\n",
        "drive = GoogleDrive(gauth)"
      ],
      "execution_count": 0,
      "outputs": []
    },
    {
      "metadata": {
        "id": "TzIS33uHnR_Y",
        "colab_type": "text"
      },
      "cell_type": "markdown",
      "source": [
        "**Upload a file from google cloud where file ids are stored as a json**"
      ]
    },
    {
      "metadata": {
        "id": "rlxFOVvEnSXq",
        "colab_type": "code",
        "colab": {
          "autoexec": {
            "startup": false,
            "wait_interval": 0
          },
          "output_extras": [
            {
              "item_id": 1
            },
            {
              "item_id": 3
            }
          ],
          "resources": {
            "http://localhost:8080/nbextensions/google.colab/files.js": {
              "data": "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",
              "ok": true,
              "headers": [
                [
                  "content-type",
                  "application/javascript"
                ]
              ],
              "status": 200,
              "status_text": ""
            }
          },
          "base_uri": "https://localhost:8080/",
          "height": 89
        },
        "outputId": "cfc59406-a5e2-4919-da28-e07ac01ccf56",
        "executionInfo": {
          "status": "ok",
          "timestamp": 1522559960231,
          "user_tz": -360,
          "elapsed": 19280,
          "user": {
            "displayName": "Itrat Rahman",
            "photoUrl": "//lh3.googleusercontent.com/-j1V_yfZD3m0/AAAAAAAAAAI/AAAAAAAAFTg/pDPmK0kE5mI/s50-c-k-no/photo.jpg",
            "userId": "116815226076340067076"
          }
        }
      },
      "cell_type": "code",
      "source": [
        "from google.colab import files\n",
        "\n",
        "uploaded = files.upload()\n",
        "\n",
        "for fn in uploaded.keys():\n",
        "  print('User uploaded file \"{name}\" with length {length} bytes'.format(\n",
        "      name=fn, length=len(uploaded[fn])))\n",
        "  \n",
        "file_id_data= json.loads(uploaded['file_id.json'])"
      ],
      "execution_count": 4,
      "outputs": [
        {
          "output_type": "display_data",
          "data": {
            "text/html": [
              "\n",
              "     <input type=\"file\" id=\"files-76e25883-019e-44ee-9e4d-35df7fab0b41\" name=\"files[]\" multiple disabled />\n",
              "     <output id=\"result-76e25883-019e-44ee-9e4d-35df7fab0b41\">\n",
              "      Upload widget is only available when the cell has been executed in the\n",
              "      current browser session. Please rerun this cell to enable.\n",
              "      </output>\n",
              "      <script src=\"/nbextensions/google.colab/files.js\"></script> "
            ],
            "text/plain": [
              "<IPython.core.display.HTML object>"
            ]
          },
          "metadata": {
            "tags": []
          }
        },
        {
          "output_type": "stream",
          "text": [
            "Saving file_id.json to file_id.json\n",
            "User uploaded file \"file_id.json\" with length 489 bytes\n"
          ],
          "name": "stdout"
        }
      ]
    },
    {
      "metadata": {
        "id": "rMgOiaFsnWCW",
        "colab_type": "text"
      },
      "cell_type": "markdown",
      "source": [
        "**Download files to the kernel**"
      ]
    },
    {
      "metadata": {
        "id": "_V89mJIlnX0L",
        "colab_type": "code",
        "colab": {
          "autoexec": {
            "startup": false,
            "wait_interval": 0
          }
        }
      },
      "cell_type": "code",
      "source": [
        "downloaded1 = drive.CreateFile({'id':file_id_data[\"modified_train_file_id\"]}) \n",
        "downloaded1.GetContentFile('train.csv')  \n",
        "downloaded2 = drive.CreateFile({'id':file_id_data[\"modified_test_file_id\"]}) \n",
        "downloaded2.GetContentFile('test.csv') "
      ],
      "execution_count": 0,
      "outputs": []
    },
    {
      "metadata": {
        "id": "BzUSkEBlnaR4",
        "colab_type": "text"
      },
      "cell_type": "markdown",
      "source": [
        "**Load train and test data to notebook**"
      ]
    },
    {
      "metadata": {
        "id": "knhx45rgna2r",
        "colab_type": "code",
        "colab": {
          "autoexec": {
            "startup": false,
            "wait_interval": 0
          }
        }
      },
      "cell_type": "code",
      "source": [
        "train_data = pd.read_csv('train.csv') \n",
        "test_data = pd.read_csv('test.csv')"
      ],
      "execution_count": 0,
      "outputs": []
    },
    {
      "metadata": {
        "id": "QZQoGMvwnerr",
        "colab_type": "text"
      },
      "cell_type": "markdown",
      "source": [
        "**Inspect train and test data**"
      ]
    },
    {
      "metadata": {
        "id": "ms6lv6CEnf0r",
        "colab_type": "code",
        "colab": {
          "autoexec": {
            "startup": false,
            "wait_interval": 0
          },
          "output_extras": [
            {
              "item_id": 1
            }
          ],
          "base_uri": "https://localhost:8080/",
          "height": 669
        },
        "outputId": "4abb3dd1-070f-4c4c-8990-a3553165ed1a",
        "executionInfo": {
          "status": "ok",
          "timestamp": 1522559966521,
          "user_tz": -360,
          "elapsed": 790,
          "user": {
            "displayName": "Itrat Rahman",
            "photoUrl": "//lh3.googleusercontent.com/-j1V_yfZD3m0/AAAAAAAAAAI/AAAAAAAAFTg/pDPmK0kE5mI/s50-c-k-no/photo.jpg",
            "userId": "116815226076340067076"
          }
        }
      },
      "cell_type": "code",
      "source": [
        "train_data.head(20)"
      ],
      "execution_count": 7,
      "outputs": [
        {
          "output_type": "execute_result",
          "data": {
            "text/html": [
              "<div>\n",
              "<style scoped>\n",
              "    .dataframe tbody tr th:only-of-type {\n",
              "        vertical-align: middle;\n",
              "    }\n",
              "\n",
              "    .dataframe tbody tr th {\n",
              "        vertical-align: top;\n",
              "    }\n",
              "\n",
              "    .dataframe thead th {\n",
              "        text-align: right;\n",
              "    }\n",
              "</style>\n",
              "<table border=\"1\" class=\"dataframe\">\n",
              "  <thead>\n",
              "    <tr style=\"text-align: right;\">\n",
              "      <th></th>\n",
              "      <th>id</th>\n",
              "      <th>comment_text</th>\n",
              "      <th>toxic</th>\n",
              "      <th>severe_toxic</th>\n",
              "      <th>obscene</th>\n",
              "      <th>threat</th>\n",
              "      <th>insult</th>\n",
              "      <th>identity_hate</th>\n",
              "      <th>length</th>\n",
              "    </tr>\n",
              "  </thead>\n",
              "  <tbody>\n",
              "    <tr>\n",
              "      <th>0</th>\n",
              "      <td>0000997932d777bf</td>\n",
              "      <td>explan edit made usernam hardcor metallica fan...</td>\n",
              "      <td>0</td>\n",
              "      <td>0</td>\n",
              "      <td>0</td>\n",
              "      <td>0</td>\n",
              "      <td>0</td>\n",
              "      <td>0</td>\n",
              "      <td>23</td>\n",
              "    </tr>\n",
              "    <tr>\n",
              "      <th>1</th>\n",
              "      <td>000103f0d9cfb60f</td>\n",
              "      <td>aww match background colour seem stuck thank t...</td>\n",
              "      <td>0</td>\n",
              "      <td>0</td>\n",
              "      <td>0</td>\n",
              "      <td>0</td>\n",
              "      <td>0</td>\n",
              "      <td>0</td>\n",
              "      <td>10</td>\n",
              "    </tr>\n",
              "    <tr>\n",
              "      <th>2</th>\n",
              "      <td>000113f07ec002fd</td>\n",
              "      <td>hey man realli tri edit war guy constant remov...</td>\n",
              "      <td>0</td>\n",
              "      <td>0</td>\n",
              "      <td>0</td>\n",
              "      <td>0</td>\n",
              "      <td>0</td>\n",
              "      <td>0</td>\n",
              "      <td>21</td>\n",
              "    </tr>\n",
              "    <tr>\n",
              "      <th>3</th>\n",
              "      <td>0001b41b1c6bb37e</td>\n",
              "      <td>make real suggest improv wonder section statis...</td>\n",
              "      <td>0</td>\n",
              "      <td>0</td>\n",
              "      <td>0</td>\n",
              "      <td>0</td>\n",
              "      <td>0</td>\n",
              "      <td>0</td>\n",
              "      <td>52</td>\n",
              "    </tr>\n",
              "    <tr>\n",
              "      <th>4</th>\n",
              "      <td>0001d958c54c6e35</td>\n",
              "      <td>sir hero chanc rememb page</td>\n",
              "      <td>0</td>\n",
              "      <td>0</td>\n",
              "      <td>0</td>\n",
              "      <td>0</td>\n",
              "      <td>0</td>\n",
              "      <td>0</td>\n",
              "      <td>5</td>\n",
              "    </tr>\n",
              "    <tr>\n",
              "      <th>5</th>\n",
              "      <td>00025465d4725e87</td>\n",
              "      <td>congratul well use tool well talk</td>\n",
              "      <td>0</td>\n",
              "      <td>0</td>\n",
              "      <td>0</td>\n",
              "      <td>0</td>\n",
              "      <td>0</td>\n",
              "      <td>0</td>\n",
              "      <td>6</td>\n",
              "    </tr>\n",
              "    <tr>\n",
              "      <th>6</th>\n",
              "      <td>0002bcb3da6cb337</td>\n",
              "      <td>cocksuck piss around work</td>\n",
              "      <td>1</td>\n",
              "      <td>1</td>\n",
              "      <td>1</td>\n",
              "      <td>0</td>\n",
              "      <td>1</td>\n",
              "      <td>0</td>\n",
              "      <td>4</td>\n",
              "    </tr>\n",
              "    <tr>\n",
              "      <th>7</th>\n",
              "      <td>00031b1e95af7921</td>\n",
              "      <td>vandal matt shirvington articl revert plea ban</td>\n",
              "      <td>0</td>\n",
              "      <td>0</td>\n",
              "      <td>0</td>\n",
              "      <td>0</td>\n",
              "      <td>0</td>\n",
              "      <td>0</td>\n",
              "      <td>7</td>\n",
              "    </tr>\n",
              "    <tr>\n",
              "      <th>8</th>\n",
              "      <td>00037261f536c51d</td>\n",
              "      <td>sorri word nonsen offen anyway intend write an...</td>\n",
              "      <td>0</td>\n",
              "      <td>0</td>\n",
              "      <td>0</td>\n",
              "      <td>0</td>\n",
              "      <td>0</td>\n",
              "      <td>0</td>\n",
              "      <td>38</td>\n",
              "    </tr>\n",
              "    <tr>\n",
              "      <th>9</th>\n",
              "      <td>00040093b2687caa</td>\n",
              "      <td>align subject contrari dulithgow</td>\n",
              "      <td>0</td>\n",
              "      <td>0</td>\n",
              "      <td>0</td>\n",
              "      <td>0</td>\n",
              "      <td>0</td>\n",
              "      <td>0</td>\n",
              "      <td>4</td>\n",
              "    </tr>\n",
              "    <tr>\n",
              "      <th>10</th>\n",
              "      <td>0005300084f90edc</td>\n",
              "      <td>fair use ration imag wonju jpg thank upload im...</td>\n",
              "      <td>0</td>\n",
              "      <td>0</td>\n",
              "      <td>0</td>\n",
              "      <td>0</td>\n",
              "      <td>0</td>\n",
              "      <td>0</td>\n",
              "      <td>257</td>\n",
              "    </tr>\n",
              "    <tr>\n",
              "      <th>11</th>\n",
              "      <td>00054a5e18b50dd4</td>\n",
              "      <td>bbq man let discuss mayb phone</td>\n",
              "      <td>0</td>\n",
              "      <td>0</td>\n",
              "      <td>0</td>\n",
              "      <td>0</td>\n",
              "      <td>0</td>\n",
              "      <td>0</td>\n",
              "      <td>6</td>\n",
              "    </tr>\n",
              "    <tr>\n",
              "      <th>12</th>\n",
              "      <td>0005c987bdfc9d4b</td>\n",
              "      <td>hey talk exclus group wp taliban good destroy ...</td>\n",
              "      <td>1</td>\n",
              "      <td>0</td>\n",
              "      <td>0</td>\n",
              "      <td>0</td>\n",
              "      <td>0</td>\n",
              "      <td>0</td>\n",
              "      <td>29</td>\n",
              "    </tr>\n",
              "    <tr>\n",
              "      <th>13</th>\n",
              "      <td>0006f16e4e9f292e</td>\n",
              "      <td>start throw accus warn let review edit make ad...</td>\n",
              "      <td>0</td>\n",
              "      <td>0</td>\n",
              "      <td>0</td>\n",
              "      <td>0</td>\n",
              "      <td>0</td>\n",
              "      <td>0</td>\n",
              "      <td>66</td>\n",
              "    </tr>\n",
              "    <tr>\n",
              "      <th>14</th>\n",
              "      <td>00070ef96486d6f9</td>\n",
              "      <td>oh girl start argument stuck nose belong belie...</td>\n",
              "      <td>0</td>\n",
              "      <td>0</td>\n",
              "      <td>0</td>\n",
              "      <td>0</td>\n",
              "      <td>0</td>\n",
              "      <td>0</td>\n",
              "      <td>16</td>\n",
              "    </tr>\n",
              "    <tr>\n",
              "      <th>15</th>\n",
              "      <td>00078f8ce7eb276d</td>\n",
              "      <td>juelz santana age juelz santana year old came ...</td>\n",
              "      <td>0</td>\n",
              "      <td>0</td>\n",
              "      <td>0</td>\n",
              "      <td>0</td>\n",
              "      <td>0</td>\n",
              "      <td>0</td>\n",
              "      <td>56</td>\n",
              "    </tr>\n",
              "    <tr>\n",
              "      <th>16</th>\n",
              "      <td>0007e25b2121310b</td>\n",
              "      <td>bye look come think com back tosser</td>\n",
              "      <td>1</td>\n",
              "      <td>0</td>\n",
              "      <td>0</td>\n",
              "      <td>0</td>\n",
              "      <td>0</td>\n",
              "      <td>0</td>\n",
              "      <td>7</td>\n",
              "    </tr>\n",
              "    <tr>\n",
              "      <th>17</th>\n",
              "      <td>000897889268bc93</td>\n",
              "      <td>redirect talk voydan pop georgiev chernodrinski</td>\n",
              "      <td>0</td>\n",
              "      <td>0</td>\n",
              "      <td>0</td>\n",
              "      <td>0</td>\n",
              "      <td>0</td>\n",
              "      <td>0</td>\n",
              "      <td>6</td>\n",
              "    </tr>\n",
              "    <tr>\n",
              "      <th>18</th>\n",
              "      <td>0009801bd85e5806</td>\n",
              "      <td>mitsurugi point made sen argu includ hindi ryo...</td>\n",
              "      <td>0</td>\n",
              "      <td>0</td>\n",
              "      <td>0</td>\n",
              "      <td>0</td>\n",
              "      <td>0</td>\n",
              "      <td>0</td>\n",
              "      <td>12</td>\n",
              "    </tr>\n",
              "    <tr>\n",
              "      <th>19</th>\n",
              "      <td>0009eaea3325de8c</td>\n",
              "      <td>mean bother see write someth regard remov anyt...</td>\n",
              "      <td>0</td>\n",
              "      <td>0</td>\n",
              "      <td>0</td>\n",
              "      <td>0</td>\n",
              "      <td>0</td>\n",
              "      <td>0</td>\n",
              "      <td>36</td>\n",
              "    </tr>\n",
              "  </tbody>\n",
              "</table>\n",
              "</div>"
            ],
            "text/plain": [
              "                  id                                       comment_text  \\\n",
              "0   0000997932d777bf  explan edit made usernam hardcor metallica fan...   \n",
              "1   000103f0d9cfb60f  aww match background colour seem stuck thank t...   \n",
              "2   000113f07ec002fd  hey man realli tri edit war guy constant remov...   \n",
              "3   0001b41b1c6bb37e  make real suggest improv wonder section statis...   \n",
              "4   0001d958c54c6e35                         sir hero chanc rememb page   \n",
              "5   00025465d4725e87                  congratul well use tool well talk   \n",
              "6   0002bcb3da6cb337                          cocksuck piss around work   \n",
              "7   00031b1e95af7921     vandal matt shirvington articl revert plea ban   \n",
              "8   00037261f536c51d  sorri word nonsen offen anyway intend write an...   \n",
              "9   00040093b2687caa                   align subject contrari dulithgow   \n",
              "10  0005300084f90edc  fair use ration imag wonju jpg thank upload im...   \n",
              "11  00054a5e18b50dd4                     bbq man let discuss mayb phone   \n",
              "12  0005c987bdfc9d4b  hey talk exclus group wp taliban good destroy ...   \n",
              "13  0006f16e4e9f292e  start throw accus warn let review edit make ad...   \n",
              "14  00070ef96486d6f9  oh girl start argument stuck nose belong belie...   \n",
              "15  00078f8ce7eb276d  juelz santana age juelz santana year old came ...   \n",
              "16  0007e25b2121310b                bye look come think com back tosser   \n",
              "17  000897889268bc93    redirect talk voydan pop georgiev chernodrinski   \n",
              "18  0009801bd85e5806  mitsurugi point made sen argu includ hindi ryo...   \n",
              "19  0009eaea3325de8c  mean bother see write someth regard remov anyt...   \n",
              "\n",
              "    toxic  severe_toxic  obscene  threat  insult  identity_hate  length  \n",
              "0       0             0        0       0       0              0      23  \n",
              "1       0             0        0       0       0              0      10  \n",
              "2       0             0        0       0       0              0      21  \n",
              "3       0             0        0       0       0              0      52  \n",
              "4       0             0        0       0       0              0       5  \n",
              "5       0             0        0       0       0              0       6  \n",
              "6       1             1        1       0       1              0       4  \n",
              "7       0             0        0       0       0              0       7  \n",
              "8       0             0        0       0       0              0      38  \n",
              "9       0             0        0       0       0              0       4  \n",
              "10      0             0        0       0       0              0     257  \n",
              "11      0             0        0       0       0              0       6  \n",
              "12      1             0        0       0       0              0      29  \n",
              "13      0             0        0       0       0              0      66  \n",
              "14      0             0        0       0       0              0      16  \n",
              "15      0             0        0       0       0              0      56  \n",
              "16      1             0        0       0       0              0       7  \n",
              "17      0             0        0       0       0              0       6  \n",
              "18      0             0        0       0       0              0      12  \n",
              "19      0             0        0       0       0              0      36  "
            ]
          },
          "metadata": {
            "tags": []
          },
          "execution_count": 7
        }
      ]
    },
    {
      "metadata": {
        "id": "7eB-pdjwnkPb",
        "colab_type": "code",
        "colab": {
          "autoexec": {
            "startup": false,
            "wait_interval": 0
          },
          "output_extras": [
            {
              "item_id": 1
            }
          ],
          "base_uri": "https://localhost:8080/",
          "height": 34
        },
        "outputId": "0def93b7-dc79-4ca2-cb75-b637ef68ba66",
        "executionInfo": {
          "status": "ok",
          "timestamp": 1522559967385,
          "user_tz": -360,
          "elapsed": 759,
          "user": {
            "displayName": "Itrat Rahman",
            "photoUrl": "//lh3.googleusercontent.com/-j1V_yfZD3m0/AAAAAAAAAAI/AAAAAAAAFTg/pDPmK0kE5mI/s50-c-k-no/photo.jpg",
            "userId": "116815226076340067076"
          }
        }
      },
      "cell_type": "code",
      "source": [
        "print(\"Shape of train data:\", train_data.shape)"
      ],
      "execution_count": 8,
      "outputs": [
        {
          "output_type": "stream",
          "text": [
            "Shape of train data: (159571, 9)\n"
          ],
          "name": "stdout"
        }
      ]
    },
    {
      "metadata": {
        "id": "v2pQRqtfno0P",
        "colab_type": "code",
        "colab": {
          "autoexec": {
            "startup": false,
            "wait_interval": 0
          },
          "output_extras": [
            {
              "item_id": 1
            }
          ],
          "base_uri": "https://localhost:8080/",
          "height": 669
        },
        "outputId": "9910b4c2-dcdf-40c7-ec34-579a058bf27d",
        "executionInfo": {
          "status": "ok",
          "timestamp": 1522559968274,
          "user_tz": -360,
          "elapsed": 783,
          "user": {
            "displayName": "Itrat Rahman",
            "photoUrl": "//lh3.googleusercontent.com/-j1V_yfZD3m0/AAAAAAAAAAI/AAAAAAAAFTg/pDPmK0kE5mI/s50-c-k-no/photo.jpg",
            "userId": "116815226076340067076"
          }
        }
      },
      "cell_type": "code",
      "source": [
        "test_data.head(20)"
      ],
      "execution_count": 9,
      "outputs": [
        {
          "output_type": "execute_result",
          "data": {
            "text/html": [
              "<div>\n",
              "<style scoped>\n",
              "    .dataframe tbody tr th:only-of-type {\n",
              "        vertical-align: middle;\n",
              "    }\n",
              "\n",
              "    .dataframe tbody tr th {\n",
              "        vertical-align: top;\n",
              "    }\n",
              "\n",
              "    .dataframe thead th {\n",
              "        text-align: right;\n",
              "    }\n",
              "</style>\n",
              "<table border=\"1\" class=\"dataframe\">\n",
              "  <thead>\n",
              "    <tr style=\"text-align: right;\">\n",
              "      <th></th>\n",
              "      <th>id</th>\n",
              "      <th>comment_text</th>\n",
              "      <th>length</th>\n",
              "    </tr>\n",
              "  </thead>\n",
              "  <tbody>\n",
              "    <tr>\n",
              "      <th>0</th>\n",
              "      <td>00001cee341fdb12</td>\n",
              "      <td>yo bitch ja rule succ ever hate sad mofucka bi...</td>\n",
              "      <td>43</td>\n",
              "    </tr>\n",
              "    <tr>\n",
              "      <th>1</th>\n",
              "      <td>0000247867823ef7</td>\n",
              "      <td>rfc titl fine imo</td>\n",
              "      <td>4</td>\n",
              "    </tr>\n",
              "    <tr>\n",
              "      <th>2</th>\n",
              "      <td>00013b17ad220c46</td>\n",
              "      <td>sourc zaw ashton lapland</td>\n",
              "      <td>4</td>\n",
              "    </tr>\n",
              "    <tr>\n",
              "      <th>3</th>\n",
              "      <td>00017563c3f7919a</td>\n",
              "      <td>look back sourc inform updat correct form gues...</td>\n",
              "      <td>15</td>\n",
              "    </tr>\n",
              "    <tr>\n",
              "      <th>4</th>\n",
              "      <td>00017695ad8997eb</td>\n",
              "      <td>anonym edit articl</td>\n",
              "      <td>3</td>\n",
              "    </tr>\n",
              "    <tr>\n",
              "      <th>5</th>\n",
              "      <td>0001ea8717f6de06</td>\n",
              "      <td>thank understand think high would revert witho...</td>\n",
              "      <td>8</td>\n",
              "    </tr>\n",
              "    <tr>\n",
              "      <th>6</th>\n",
              "      <td>00024115d4cbde0f</td>\n",
              "      <td>plea add nonsen wikipedia edit consid vandal q...</td>\n",
              "      <td>17</td>\n",
              "    </tr>\n",
              "    <tr>\n",
              "      <th>7</th>\n",
              "      <td>000247e83dcc1211</td>\n",
              "      <td>dear god site horribl</td>\n",
              "      <td>4</td>\n",
              "    </tr>\n",
              "    <tr>\n",
              "      <th>8</th>\n",
              "      <td>00025358d4737918</td>\n",
              "      <td>fool believ number correct number lie ponder n...</td>\n",
              "      <td>44</td>\n",
              "    </tr>\n",
              "    <tr>\n",
              "      <th>9</th>\n",
              "      <td>00026d1092fe71cc</td>\n",
              "      <td>doubl redirect fix doubl redirect blank outer ...</td>\n",
              "      <td>21</td>\n",
              "    </tr>\n",
              "    <tr>\n",
              "      <th>10</th>\n",
              "      <td>0002eadc3b301559</td>\n",
              "      <td>think crap link roggenbi articl somebodi know ...</td>\n",
              "      <td>9</td>\n",
              "    </tr>\n",
              "    <tr>\n",
              "      <th>11</th>\n",
              "      <td>0002f87b16116a7f</td>\n",
              "      <td>somebodi invari tri add religion realli mean w...</td>\n",
              "      <td>39</td>\n",
              "    </tr>\n",
              "    <tr>\n",
              "      <th>12</th>\n",
              "      <td>0003806b11932181</td>\n",
              "      <td>februari utc look clear ban sockpuppet ignor c...</td>\n",
              "      <td>24</td>\n",
              "    </tr>\n",
              "    <tr>\n",
              "      <th>13</th>\n",
              "      <td>0003e1cccfd5a40a</td>\n",
              "      <td>say right type type institut need case three l...</td>\n",
              "      <td>45</td>\n",
              "    </tr>\n",
              "    <tr>\n",
              "      <th>14</th>\n",
              "      <td>00059ace3e3e9a53</td>\n",
              "      <td>ad new product list make sure relev ad new pro...</td>\n",
              "      <td>30</td>\n",
              "    </tr>\n",
              "    <tr>\n",
              "      <th>15</th>\n",
              "      <td>000634272d0d44eb</td>\n",
              "      <td>current posit anyon confirm sir alfr longer ai...</td>\n",
              "      <td>9</td>\n",
              "    </tr>\n",
              "    <tr>\n",
              "      <th>16</th>\n",
              "      <td>000663aff0fffc80</td>\n",
              "      <td>one</td>\n",
              "      <td>1</td>\n",
              "    </tr>\n",
              "    <tr>\n",
              "      <th>17</th>\n",
              "      <td>000689dd34e20979</td>\n",
              "      <td>reason ban throw articl need section throw ban...</td>\n",
              "      <td>15</td>\n",
              "    </tr>\n",
              "    <tr>\n",
              "      <th>18</th>\n",
              "      <td>000834769115370c</td>\n",
              "      <td>wallamoo chang cite materi say thing origin so...</td>\n",
              "      <td>29</td>\n",
              "    </tr>\n",
              "    <tr>\n",
              "      <th>19</th>\n",
              "      <td>000844b52dee5f3f</td>\n",
              "      <td>block edit wikipedia</td>\n",
              "      <td>3</td>\n",
              "    </tr>\n",
              "  </tbody>\n",
              "</table>\n",
              "</div>"
            ],
            "text/plain": [
              "                  id                                       comment_text  \\\n",
              "0   00001cee341fdb12  yo bitch ja rule succ ever hate sad mofucka bi...   \n",
              "1   0000247867823ef7                                  rfc titl fine imo   \n",
              "2   00013b17ad220c46                           sourc zaw ashton lapland   \n",
              "3   00017563c3f7919a  look back sourc inform updat correct form gues...   \n",
              "4   00017695ad8997eb                                 anonym edit articl   \n",
              "5   0001ea8717f6de06  thank understand think high would revert witho...   \n",
              "6   00024115d4cbde0f  plea add nonsen wikipedia edit consid vandal q...   \n",
              "7   000247e83dcc1211                              dear god site horribl   \n",
              "8   00025358d4737918  fool believ number correct number lie ponder n...   \n",
              "9   00026d1092fe71cc  doubl redirect fix doubl redirect blank outer ...   \n",
              "10  0002eadc3b301559  think crap link roggenbi articl somebodi know ...   \n",
              "11  0002f87b16116a7f  somebodi invari tri add religion realli mean w...   \n",
              "12  0003806b11932181  februari utc look clear ban sockpuppet ignor c...   \n",
              "13  0003e1cccfd5a40a  say right type type institut need case three l...   \n",
              "14  00059ace3e3e9a53  ad new product list make sure relev ad new pro...   \n",
              "15  000634272d0d44eb  current posit anyon confirm sir alfr longer ai...   \n",
              "16  000663aff0fffc80                                                one   \n",
              "17  000689dd34e20979  reason ban throw articl need section throw ban...   \n",
              "18  000834769115370c  wallamoo chang cite materi say thing origin so...   \n",
              "19  000844b52dee5f3f                               block edit wikipedia   \n",
              "\n",
              "    length  \n",
              "0       43  \n",
              "1        4  \n",
              "2        4  \n",
              "3       15  \n",
              "4        3  \n",
              "5        8  \n",
              "6       17  \n",
              "7        4  \n",
              "8       44  \n",
              "9       21  \n",
              "10       9  \n",
              "11      39  \n",
              "12      24  \n",
              "13      45  \n",
              "14      30  \n",
              "15       9  \n",
              "16       1  \n",
              "17      15  \n",
              "18      29  \n",
              "19       3  "
            ]
          },
          "metadata": {
            "tags": []
          },
          "execution_count": 9
        }
      ]
    },
    {
      "metadata": {
        "id": "f7eEYAXHnrED",
        "colab_type": "code",
        "colab": {
          "autoexec": {
            "startup": false,
            "wait_interval": 0
          },
          "output_extras": [
            {
              "item_id": 1
            }
          ],
          "base_uri": "https://localhost:8080/",
          "height": 34
        },
        "outputId": "32af9b6e-c5dc-415c-8bf9-6a34bfa9ab30",
        "executionInfo": {
          "status": "ok",
          "timestamp": 1522559969146,
          "user_tz": -360,
          "elapsed": 700,
          "user": {
            "displayName": "Itrat Rahman",
            "photoUrl": "//lh3.googleusercontent.com/-j1V_yfZD3m0/AAAAAAAAAAI/AAAAAAAAFTg/pDPmK0kE5mI/s50-c-k-no/photo.jpg",
            "userId": "116815226076340067076"
          }
        }
      },
      "cell_type": "code",
      "source": [
        "print(\"Shape of test data:\", test_data.shape)"
      ],
      "execution_count": 10,
      "outputs": [
        {
          "output_type": "stream",
          "text": [
            "Shape of test data: (153164, 3)\n"
          ],
          "name": "stdout"
        }
      ]
    },
    {
      "metadata": {
        "id": "xpA8sErenuTS",
        "colab_type": "text"
      },
      "cell_type": "markdown",
      "source": [
        "# Create Word2Vec Model"
      ]
    },
    {
      "metadata": {
        "id": "0EyKkq06nxtE",
        "colab_type": "text"
      },
      "cell_type": "markdown",
      "source": [
        "**Aggregrate all the comments from train and test data in a list**"
      ]
    },
    {
      "metadata": {
        "id": "gHV4v0g4nu1h",
        "colab_type": "code",
        "colab": {
          "autoexec": {
            "startup": false,
            "wait_interval": 0
          },
          "output_extras": [
            {
              "item_id": 1
            }
          ],
          "base_uri": "https://localhost:8080/",
          "height": 34
        },
        "outputId": "6f4697ef-99d5-405b-f2ac-dd5669eb8a6c",
        "executionInfo": {
          "status": "ok",
          "timestamp": 1522559970189,
          "user_tz": -360,
          "elapsed": 981,
          "user": {
            "displayName": "Itrat Rahman",
            "photoUrl": "//lh3.googleusercontent.com/-j1V_yfZD3m0/AAAAAAAAAAI/AAAAAAAAFTg/pDPmK0kE5mI/s50-c-k-no/photo.jpg",
            "userId": "116815226076340067076"
          }
        }
      },
      "cell_type": "code",
      "source": [
        "train_comment = train_data[\"comment_text\"].as_matrix()\n",
        "test_comment = test_data[\"comment_text\"].as_matrix()\n",
        "all_comments = np.concatenate((train_comment, test_comment), axis = 0)\n",
        "print(\"Shape of all comments:\",all_comments.shape)\n",
        "del(train_comment, test_comment)\n",
        "all_comments = all_comments.tolist()"
      ],
      "execution_count": 11,
      "outputs": [
        {
          "output_type": "stream",
          "text": [
            "Shape of all comments: (312735,)\n"
          ],
          "name": "stdout"
        }
      ]
    },
    {
      "metadata": {
        "id": "GAl0ILbWn4r_",
        "colab_type": "text"
      },
      "cell_type": "markdown",
      "source": [
        "**Break each comment into list of words**"
      ]
    },
    {
      "metadata": {
        "id": "WYyn7uvWn32I",
        "colab_type": "code",
        "colab": {
          "autoexec": {
            "startup": false,
            "wait_interval": 0
          }
        }
      },
      "cell_type": "code",
      "source": [
        "sentences = []\n",
        "for comment in all_comments:\n",
        "  comment = str(comment)\n",
        "  sentences.append(comment.split())\n",
        "del(all_comments)"
      ],
      "execution_count": 0,
      "outputs": []
    },
    {
      "metadata": {
        "id": "2F5jQ0-dn9lI",
        "colab_type": "text"
      },
      "cell_type": "markdown",
      "source": [
        "**Create Word2Vec (Skip-Gram) model using gensim**"
      ]
    },
    {
      "metadata": {
        "id": "Jh4MzTtZn-AR",
        "colab_type": "code",
        "colab": {
          "autoexec": {
            "startup": false,
            "wait_interval": 0
          },
          "output_extras": [
            {
              "item_id": 1
            }
          ],
          "base_uri": "https://localhost:8080/",
          "height": 34
        },
        "outputId": "5f3e09e9-1f0d-44cc-908c-198f46f54a37",
        "executionInfo": {
          "status": "ok",
          "timestamp": 1522561019811,
          "user_tz": -360,
          "elapsed": 1045755,
          "user": {
            "displayName": "Itrat Rahman",
            "photoUrl": "//lh3.googleusercontent.com/-j1V_yfZD3m0/AAAAAAAAAAI/AAAAAAAAFTg/pDPmK0kE5mI/s50-c-k-no/photo.jpg",
            "userId": "116815226076340067076"
          }
        }
      },
      "cell_type": "code",
      "source": [
        "t3 = time.time()\n",
        "size = 100\n",
        "window = 25\n",
        "model = Word2Vec(sentences, sg = 1, size=size, window=window, min_count=1, workers=4)\n",
        "print(\"Finished creating word2vec model.\", \"Time needed: \", time.time()-t3)"
      ],
      "execution_count": 13,
      "outputs": [
        {
          "output_type": "stream",
          "text": [
            "Finished creating word2vec model. Time needed:  1044.8663897514343\n"
          ],
          "name": "stdout"
        }
      ]
    },
    {
      "metadata": {
        "id": "MsCqCV42oLJh",
        "colab_type": "text"
      },
      "cell_type": "markdown",
      "source": [
        "**Save the model to the kernel**"
      ]
    },
    {
      "metadata": {
        "id": "xV0_Z5LSoLiK",
        "colab_type": "code",
        "colab": {
          "autoexec": {
            "startup": false,
            "wait_interval": 0
          }
        }
      },
      "cell_type": "code",
      "source": [
        "fname = \"word2vec_model\"\n",
        "model.wv.save_word2vec_format(fname)"
      ],
      "execution_count": 0,
      "outputs": []
    },
    {
      "metadata": {
        "id": "skRNfEgzoOAa",
        "colab_type": "text"
      },
      "cell_type": "markdown",
      "source": [
        "**Save the model paramters in a json**"
      ]
    },
    {
      "metadata": {
        "id": "FhOWt_3UoPti",
        "colab_type": "code",
        "colab": {
          "autoexec": {
            "startup": false,
            "wait_interval": 0
          }
        }
      },
      "cell_type": "code",
      "source": [
        "import json\n",
        "data = {\"size\": size, \"window\":window}\n",
        "with open('data.json', 'w') as outfile:\n",
        "    json.dump(data, outfile)"
      ],
      "execution_count": 0,
      "outputs": []
    },
    {
      "metadata": {
        "id": "5rLCY_RqoR3X",
        "colab_type": "text"
      },
      "cell_type": "markdown",
      "source": [
        "**Save the Word2Vec model in google drive directory**"
      ]
    },
    {
      "metadata": {
        "id": "M0IEg0vNoTaK",
        "colab_type": "code",
        "colab": {
          "autoexec": {
            "startup": false,
            "wait_interval": 0
          }
        }
      },
      "cell_type": "code",
      "source": [
        "# Create & upload a text file.\n",
        "uploaded = drive.CreateFile({'title': 'word2vec_model', 'parents':[{u'id': file_id_data[\"download_folder2_id\"]}]})\n",
        "uploaded.SetContentFile(\"word2vec_model\")\n",
        "uploaded.Upload()"
      ],
      "execution_count": 0,
      "outputs": []
    },
    {
      "metadata": {
        "id": "EyL32yHsoVgI",
        "colab_type": "text"
      },
      "cell_type": "markdown",
      "source": [
        "**Save the json file in google drive directory**"
      ]
    },
    {
      "metadata": {
        "id": "CQe4ebxdoW_x",
        "colab_type": "code",
        "colab": {
          "autoexec": {
            "startup": false,
            "wait_interval": 0
          }
        }
      },
      "cell_type": "code",
      "source": [
        "# Create & upload a text file.\n",
        "uploaded = drive.CreateFile({'title': 'data.json', 'parents':[{u'id': file_id_data[\"download_folder2_id\"]}]})\n",
        "uploaded.SetContentFile(\"data.json\")\n",
        "uploaded.Upload()"
      ],
      "execution_count": 0,
      "outputs": []
    }
  ]
}