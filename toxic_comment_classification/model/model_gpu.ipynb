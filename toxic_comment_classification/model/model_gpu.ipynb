{
 "cells": [
  {
   "cell_type": "markdown",
   "metadata": {},
   "source": [
    "# Import libraries"
   ]
  },
  {
   "cell_type": "code",
   "execution_count": 0,
   "metadata": {
    "colab": {
     "autoexec": {
      "startup": false,
      "wait_interval": 0
     }
    },
    "colab_type": "code",
    "collapsed": true,
    "id": "p7QgagN7IXyb"
   },
   "outputs": [],
   "source": [
    "import os\n",
    "import time\n",
    "import datetime\n",
    "import string\n",
    "import random\n",
    "import math\n",
    "import json\n",
    "import random\n",
    "import pandas as pd\n",
    "import numpy as np\n",
    "from sklearn.preprocessing import LabelBinarizer\n",
    "import tensorflow as tf\n",
    "tf.reset_default_graph()\n",
    "import matplotlib\n",
    "from matplotlib import pyplot as plt\n",
    "%matplotlib inline"
   ]
  },
  {
   "cell_type": "markdown",
   "metadata": {},
   "source": [
    "**List the devices available to tensorflow**"
   ]
  },
  {
   "cell_type": "code",
   "execution_count": 2,
   "metadata": {
    "colab": {
     "autoexec": {
      "startup": false,
      "wait_interval": 0
     },
     "base_uri": "https://localhost:8080/",
     "height": 238,
     "output_extras": [
      {
       "item_id": 1
      }
     ]
    },
    "colab_type": "code",
    "executionInfo": {
     "elapsed": 1063,
     "status": "ok",
     "timestamp": 1520332150525,
     "user": {
      "displayName": "Itrat Rahman",
      "photoUrl": "//lh3.googleusercontent.com/-j1V_yfZD3m0/AAAAAAAAAAI/AAAAAAAAFTg/pDPmK0kE5mI/s50-c-k-no/photo.jpg",
      "userId": "116815226076340067076"
     },
     "user_tz": -360
    },
    "id": "1s0fELB1EWF0",
    "outputId": "c5e4c2d1-d94d-40b4-ba1c-e2a7d51d6774"
   },
   "outputs": [
    {
     "data": {
      "text/plain": [
       "[name: \"/device:CPU:0\"\n",
       " device_type: \"CPU\"\n",
       " memory_limit: 268435456\n",
       " locality {\n",
       " }\n",
       " incarnation: 5381542240454213764, name: \"/device:GPU:0\"\n",
       " device_type: \"GPU\"\n",
       " memory_limit: 11297803469\n",
       " locality {\n",
       "   bus_id: 1\n",
       " }\n",
       " incarnation: 12932021769274050543\n",
       " physical_device_desc: \"device: 0, name: Tesla K80, pci bus id: 0000:00:04.0, compute capability: 3.7\"]"
      ]
     },
     "execution_count": 2,
     "metadata": {
      "tags": []
     },
     "output_type": "execute_result"
    }
   ],
   "source": [
    "from tensorflow.python.client import device_lib\n",
    "device_lib.list_local_devices()"
   ]
  },
  {
   "cell_type": "code",
   "execution_count": 3,
   "metadata": {
    "colab": {
     "autoexec": {
      "startup": false,
      "wait_interval": 0
     },
     "base_uri": "https://localhost:8080/",
     "height": 323,
     "output_extras": [
      {
       "item_id": 4
      }
     ]
    },
    "colab_type": "code",
    "executionInfo": {
     "elapsed": 3370,
     "status": "ok",
     "timestamp": 1520332154050,
     "user": {
      "displayName": "Itrat Rahman",
      "photoUrl": "//lh3.googleusercontent.com/-j1V_yfZD3m0/AAAAAAAAAAI/AAAAAAAAFTg/pDPmK0kE5mI/s50-c-k-no/photo.jpg",
      "userId": "116815226076340067076"
     },
     "user_tz": -360
    },
    "id": "rOz2zlZ9MGMG",
    "outputId": "cdf13237-9712-40e8-8658-19a7ca92fa6c"
   },
   "outputs": [
    {
     "name": "stdout",
     "output_type": "stream",
     "text": [
      "Requirement already up-to-date: gensim in /usr/local/lib/python3.6/dist-packages\n",
      "Requirement already up-to-date: numpy>=1.11.3 in /usr/local/lib/python3.6/dist-packages (from gensim)\n",
      "Requirement already up-to-date: scipy>=0.18.1 in /usr/local/lib/python3.6/dist-packages (from gensim)\n",
      "Requirement already up-to-date: six>=1.5.0 in /usr/local/lib/python3.6/dist-packages (from gensim)\n",
      "Requirement already up-to-date: smart-open>=1.2.1 in /usr/local/lib/python3.6/dist-packages (from gensim)\n",
      "Requirement already up-to-date: requests in /usr/local/lib/python3.6/dist-packages (from smart-open>=1.2.1->gensim)\n",
      "Requirement already up-to-date: bz2file in /usr/local/lib/python3.6/dist-packages (from smart-open>=1.2.1->gensim)\n",
      "Requirement already up-to-date: boto>=2.32 in /usr/local/lib/python3.6/dist-packages (from smart-open>=1.2.1->gensim)\n",
      "Requirement already up-to-date: boto3 in /usr/local/lib/python3.6/dist-packages (from smart-open>=1.2.1->gensim)\n",
      "Requirement already up-to-date: idna<2.7,>=2.5 in /usr/local/lib/python3.6/dist-packages (from requests->smart-open>=1.2.1->gensim)\n",
      "Requirement already up-to-date: chardet<3.1.0,>=3.0.2 in /usr/local/lib/python3.6/dist-packages (from requests->smart-open>=1.2.1->gensim)\n",
      "Requirement already up-to-date: certifi>=2017.4.17 in /usr/local/lib/python3.6/dist-packages (from requests->smart-open>=1.2.1->gensim)\n",
      "Requirement already up-to-date: urllib3<1.23,>=1.21.1 in /usr/local/lib/python3.6/dist-packages (from requests->smart-open>=1.2.1->gensim)\n",
      "Requirement already up-to-date: jmespath<1.0.0,>=0.7.1 in /usr/local/lib/python3.6/dist-packages (from boto3->smart-open>=1.2.1->gensim)\n",
      "Requirement already up-to-date: botocore<1.10.0,>=1.9.3 in /usr/local/lib/python3.6/dist-packages (from boto3->smart-open>=1.2.1->gensim)\n",
      "Requirement already up-to-date: s3transfer<0.2.0,>=0.1.10 in /usr/local/lib/python3.6/dist-packages (from boto3->smart-open>=1.2.1->gensim)\n",
      "Requirement already up-to-date: python-dateutil<3.0.0,>=2.1 in /usr/local/lib/python3.6/dist-packages (from botocore<1.10.0,>=1.9.3->boto3->smart-open>=1.2.1->gensim)\n",
      "Requirement already up-to-date: docutils>=0.10 in /usr/local/lib/python3.6/dist-packages (from botocore<1.10.0,>=1.9.3->boto3->smart-open>=1.2.1->gensim)\n"
     ]
    }
   ],
   "source": [
    "!pip install --upgrade gensim\n",
    "from gensim.models.word2vec import Word2VecKeyedVectors"
   ]
  },
  {
   "cell_type": "markdown",
   "metadata": {},
   "source": [
    "**Make the result reproducible by setting the seed of numpy and tensorflow**"
   ]
  },
  {
   "cell_type": "code",
   "execution_count": 4,
   "metadata": {
    "colab": {
     "autoexec": {
      "startup": false,
      "wait_interval": 0
     },
     "base_uri": "https://localhost:8080/",
     "height": 51,
     "output_extras": [
      {
       "item_id": 1
      }
     ]
    },
    "colab_type": "code",
    "executionInfo": {
     "elapsed": 815,
     "status": "ok",
     "timestamp": 1520332154924,
     "user": {
      "displayName": "Itrat Rahman",
      "photoUrl": "//lh3.googleusercontent.com/-j1V_yfZD3m0/AAAAAAAAAAI/AAAAAAAAFTg/pDPmK0kE5mI/s50-c-k-no/photo.jpg",
      "userId": "116815226076340067076"
     },
     "user_tz": -360
    },
    "id": "VxUgUNVSI8qB",
    "outputId": "a02c7895-1ca4-45a1-eca5-eeab315898ac"
   },
   "outputs": [
    {
     "name": "stdout",
     "output_type": "stream",
     "text": [
      "numpy random seed:  95\n",
      "tensorflow random seed:  63\n"
     ]
    }
   ],
   "source": [
    "# np_rand_seed = random.randint(0,100)\n",
    "# tf_rand_seed = random.randint(0,100)\n",
    "np_rand_seed = 95\n",
    "tf_rand_seed = 63\n",
    "np.random.seed(np_rand_seed)\n",
    "tf.set_random_seed(tf_rand_seed)\n",
    "print(\"numpy random seed: \",np_rand_seed)\n",
    "print(\"tensorflow random seed: \", tf_rand_seed)"
   ]
  },
  {
   "cell_type": "markdown",
   "metadata": {},
   "source": [
    "# Load the cleaned data"
   ]
  },
  {
   "cell_type": "markdown",
   "metadata": {},
   "source": [
    "**Authentication via google auth**"
   ]
  },
  {
   "cell_type": "code",
   "execution_count": 0,
   "metadata": {
    "colab": {
     "autoexec": {
      "startup": false,
      "wait_interval": 0
     }
    },
    "colab_type": "code",
    "collapsed": true,
    "id": "5MIeUc1nJBTR"
   },
   "outputs": [],
   "source": [
    "# Code to read csv file into colaboratory:\n",
    "!pip install -U -q PyDrive\n",
    "from pydrive.auth import GoogleAuth\n",
    "from pydrive.drive import GoogleDrive\n",
    "from google.colab import auth\n",
    "from oauth2client.client import GoogleCredentials\n",
    "\n",
    "# 1. Authenticate and create the PyDrive client.\n",
    "auth.authenticate_user()\n",
    "gauth = GoogleAuth()\n",
    "gauth.credentials = GoogleCredentials.get_application_default()\n",
    "drive = GoogleDrive(gauth)"
   ]
  },
  {
   "cell_type": "markdown",
   "metadata": {},
   "source": [
    "**Upload a file from google cloud where file ids are stored as a json**"
   ]
  },
  {
   "cell_type": "code",
   "execution_count": 6,
   "metadata": {
    "colab": {
     "autoexec": {
      "startup": false,
      "wait_interval": 0
     },
     "base_uri": "https://localhost:8080/",
     "height": 72,
     "output_extras": [
      {
       "item_id": 1
      },
      {
       "item_id": 2
      }
     ],
     "resources": {
      "http://localhost:8080/nbextensions/google.colab/files.js": {
       "data": "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",
       "headers": [
        [
         "content-type",
         "application/javascript"
        ]
       ],
       "ok": true,
       "status": 200,
       "status_text": ""
      }
     }
    },
    "colab_type": "code",
    "executionInfo": {
     "elapsed": 7367,
     "status": "ok",
     "timestamp": 1520332168370,
     "user": {
      "displayName": "Itrat Rahman",
      "photoUrl": "//lh3.googleusercontent.com/-j1V_yfZD3m0/AAAAAAAAAAI/AAAAAAAAFTg/pDPmK0kE5mI/s50-c-k-no/photo.jpg",
      "userId": "116815226076340067076"
     },
     "user_tz": -360
    },
    "id": "CVk0IfEQUY1U",
    "outputId": "d7879910-d08b-4512-9bb0-f8a319a22b63"
   },
   "outputs": [
    {
     "data": {
      "text/html": [
       "\n",
       "     <input type=\"file\" id=\"files-e57a8fbb-1f55-458f-b5ee-1f73643a4873\" name=\"files[]\" multiple disabled />\n",
       "     <output id=\"result-e57a8fbb-1f55-458f-b5ee-1f73643a4873\">\n",
       "      Upload widget is only available when the cell has been executed in the\n",
       "      current browser session. Please rerun this cell to enable.\n",
       "      </output>\n",
       "      <script src=\"/nbextensions/google.colab/files.js\"</script> "
      ],
      "text/plain": [
       "<IPython.core.display.HTML object>"
      ]
     },
     "metadata": {
      "tags": []
     },
     "output_type": "display_data"
    },
    {
     "name": "stdout",
     "output_type": "stream",
     "text": [
      "User uploaded file \"file_id.json\" with length 489 bytes\n"
     ]
    }
   ],
   "source": [
    "from google.colab import files\n",
    "\n",
    "uploaded = files.upload()\n",
    "\n",
    "for fn in uploaded.keys():\n",
    "    print('User uploaded file \"{name}\" with length {length} bytes'.format(\n",
    "      name=fn, length=len(uploaded[fn])))\n",
    "\n",
    "file_id_data= json.loads(uploaded['file_id.json'])"
   ]
  },
  {
   "cell_type": "markdown",
   "metadata": {},
   "source": [
    "**Download files to the kernel**"
   ]
  },
  {
   "cell_type": "code",
   "execution_count": 0,
   "metadata": {
    "colab": {
     "autoexec": {
      "startup": false,
      "wait_interval": 0
     }
    },
    "colab_type": "code",
    "collapsed": true,
    "id": "1REKyLQCJEU4"
   },
   "outputs": [],
   "source": [
    "downloaded1 = drive.CreateFile({'id':file_id_data[\"modified_train_file_id\"]}) \n",
    "downloaded1.GetContentFile('modified_train_data.csv')  \n",
    "downloaded2 = drive.CreateFile({'id':file_id_data[\"modified_test_file_id\"]}) \n",
    "downloaded2.GetContentFile('modified_test_data.csv')\n",
    "downloaded3 = drive.CreateFile({'id':file_id_data[\"word2vec_model\"]}) \n",
    "downloaded3.GetContentFile('word2vec_model')  \n",
    "downloaded4 = drive.CreateFile({'id':file_id_data[\"data\"]}) \n",
    "downloaded4.GetContentFile('data.json')"
   ]
  },
  {
   "cell_type": "markdown",
   "metadata": {},
   "source": [
    "**Load train and test data to notebook**"
   ]
  },
  {
   "cell_type": "code",
   "execution_count": 0,
   "metadata": {
    "colab": {
     "autoexec": {
      "startup": false,
      "wait_interval": 0
     }
    },
    "colab_type": "code",
    "collapsed": true,
    "id": "E5ZZSx8iJwhR"
   },
   "outputs": [],
   "source": [
    "#3. Read file as panda dataframe\n",
    "data = pd.read_csv('modified_train_data.csv') \n",
    "test_data = pd.read_csv('modified_test_data.csv')"
   ]
  },
  {
   "cell_type": "markdown",
   "metadata": {},
   "source": [
    "**remove the csv files from kernel**"
   ]
  },
  {
   "cell_type": "code",
   "execution_count": 0,
   "metadata": {
    "colab": {
     "autoexec": {
      "startup": false,
      "wait_interval": 0
     }
    },
    "colab_type": "code",
    "collapsed": true,
    "id": "j6uXWWJxxazw"
   },
   "outputs": [],
   "source": [
    "os.remove(\"modified_train_data.csv\")\n",
    "os.remove(\"modified_test_data.csv\")"
   ]
  },
  {
   "cell_type": "markdown",
   "metadata": {},
   "source": [
    "**Extract the size of Word2Vec model**"
   ]
  },
  {
   "cell_type": "code",
   "execution_count": 0,
   "metadata": {
    "colab": {
     "autoexec": {
      "startup": false,
      "wait_interval": 0
     }
    },
    "colab_type": "code",
    "collapsed": true,
    "id": "vIFv72HKJ3CZ"
   },
   "outputs": [],
   "source": [
    "metadata= json.loads(open(\"data.json\").read())\n",
    "size = metadata['size']"
   ]
  },
  {
   "cell_type": "markdown",
   "metadata": {},
   "source": [
    "**Load the saved Word2Vec model**"
   ]
  },
  {
   "cell_type": "code",
   "execution_count": 0,
   "metadata": {
    "colab": {
     "autoexec": {
      "startup": false,
      "wait_interval": 0
     }
    },
    "colab_type": "code",
    "collapsed": true,
    "id": "hqJ2e07PJ9Ii"
   },
   "outputs": [],
   "source": [
    "fname = \"word2vec_model\"\n",
    "model = Word2VecKeyedVectors.load_word2vec_format(fname)"
   ]
  },
  {
   "cell_type": "code",
   "execution_count": 0,
   "metadata": {
    "colab": {
     "autoexec": {
      "startup": false,
      "wait_interval": 0
     }
    },
    "colab_type": "code",
    "collapsed": true,
    "id": "7ReEijxHxnFf"
   },
   "outputs": [],
   "source": [
    "os.remove(\"word2vec_model\")"
   ]
  },
  {
   "cell_type": "markdown",
   "metadata": {},
   "source": [
    "# Inspect the distribution of #words in the sentences"
   ]
  },
  {
   "cell_type": "markdown",
   "metadata": {},
   "source": [
    "**Distribution of #words in train data**"
   ]
  },
  {
   "cell_type": "code",
   "execution_count": 13,
   "metadata": {
    "colab": {
     "autoexec": {
      "startup": false,
      "wait_interval": 0
     },
     "base_uri": "https://localhost:8080/",
     "height": 512,
     "output_extras": [
      {
       "item_id": 1
      }
     ]
    },
    "colab_type": "code",
    "executionInfo": {
     "elapsed": 2218,
     "status": "ok",
     "timestamp": 1520332206467,
     "user": {
      "displayName": "Itrat Rahman",
      "photoUrl": "//lh3.googleusercontent.com/-j1V_yfZD3m0/AAAAAAAAAAI/AAAAAAAAFTg/pDPmK0kE5mI/s50-c-k-no/photo.jpg",
      "userId": "116815226076340067076"
     },
     "user_tz": -360
    },
    "id": "hu3m9qizKkuR",
    "outputId": "9d614dc0-21b4-4a36-9613-66c805aec294"
   },
   "outputs": [
    {
     "data": {
      "image/png": "[encoded data removed]",
      "text/plain": [
       "<matplotlib.figure.Figure at 0x7fb74f185828>"
      ]
     },
     "metadata": {
      "tags": []
     },
     "output_type": "display_data"
    }
   ],
   "source": [
    "data.hist(\"length\", bins=500, figsize=(16,8))\n",
    "plt.xlabel(\"#words\")\n",
    "plt.xlim(0,300)\n",
    "plt.show()"
   ]
  },
  {
   "cell_type": "markdown",
   "metadata": {},
   "source": [
    "**Distribution of #words in test data**"
   ]
  },
  {
   "cell_type": "code",
   "execution_count": 14,
   "metadata": {
    "colab": {
     "autoexec": {
      "startup": false,
      "wait_interval": 0
     },
     "base_uri": "https://localhost:8080/",
     "height": 512,
     "output_extras": [
      {
       "item_id": 1
      }
     ]
    },
    "colab_type": "code",
    "executionInfo": {
     "elapsed": 1942,
     "status": "ok",
     "timestamp": 1520332208435,
     "user": {
      "displayName": "Itrat Rahman",
      "photoUrl": "//lh3.googleusercontent.com/-j1V_yfZD3m0/AAAAAAAAAAI/AAAAAAAAFTg/pDPmK0kE5mI/s50-c-k-no/photo.jpg",
      "userId": "116815226076340067076"
     },
     "user_tz": -360
    },
    "id": "Q4F_uInHKnRp",
    "outputId": "30cf1509-d5d2-4251-873f-809a11ac03f5"
   },
   "outputs": [
    {
     "data": {
      "image/png": "[encoded data removed]",
      "text/plain": [
       "<matplotlib.figure.Figure at 0x7fb74f048e48>"
      ]
     },
     "metadata": {
      "tags": []
     },
     "output_type": "display_data"
    }
   ],
   "source": [
    "test_data.hist(\"length\", bins=500, figsize=(16,8))\n",
    "plt.xlabel(\"#words\")\n",
    "plt.xlim(0,300)\n",
    "plt.show()"
   ]
  },
  {
   "cell_type": "markdown",
   "metadata": {},
   "source": [
    "**Distribution of #words in all data**"
   ]
  },
  {
   "cell_type": "code",
   "execution_count": 15,
   "metadata": {
    "colab": {
     "autoexec": {
      "startup": false,
      "wait_interval": 0
     },
     "base_uri": "https://localhost:8080/",
     "height": 497,
     "output_extras": [
      {
       "item_id": 1
      }
     ]
    },
    "colab_type": "code",
    "executionInfo": {
     "elapsed": 2065,
     "status": "ok",
     "timestamp": 1520332210508,
     "user": {
      "displayName": "Itrat Rahman",
      "photoUrl": "//lh3.googleusercontent.com/-j1V_yfZD3m0/AAAAAAAAAAI/AAAAAAAAFTg/pDPmK0kE5mI/s50-c-k-no/photo.jpg",
      "userId": "116815226076340067076"
     },
     "user_tz": -360
    },
    "id": "JoXXSM1nKpQh",
    "outputId": "36d0f2f8-7e9e-4ed6-8a0e-7fff2143be9a"
   },
   "outputs": [
    {
     "data": {
      "image/png": "[encoded data removed]",
      "text/plain": [
       "<matplotlib.figure.Figure at 0x7fb74cc29438>"
      ]
     },
     "metadata": {
      "tags": []
     },
     "output_type": "display_data"
    }
   ],
   "source": [
    "all_length = pd.concat([data['length'], test_data['length']])\n",
    "all_length.hist(bins=500, figsize=(16,8))\n",
    "plt.xlim(0,300)\n",
    "plt.xlabel(\"#words\")\n",
    "plt.show()\n",
    "del(all_length)"
   ]
  },
  {
   "cell_type": "markdown",
   "metadata": {},
   "source": [
    "# Train validation split"
   ]
  },
  {
   "cell_type": "markdown",
   "metadata": {},
   "source": [
    "**Extract the train, validation, and test data in numpy arrays**"
   ]
  },
  {
   "cell_type": "code",
   "execution_count": 0,
   "metadata": {
    "colab": {
     "autoexec": {
      "startup": false,
      "wait_interval": 0
     }
    },
    "colab_type": "code",
    "collapsed": true,
    "id": "9Kv_IvqfKq15"
   },
   "outputs": [],
   "source": [
    "comments = data[\"comment_text\"].as_matrix()\n",
    "sentiments = data[[\"toxic\",\"severe_toxic\",\"obscene\",\"threat\",\"insult\",\"identity_hate\"]].as_matrix()\n",
    "seq_length = data['length'].as_matrix()\n",
    "\n",
    "# randomly generate train and validation indices\n",
    "train_indices = np.random.choice(len(seq_length), round(len(seq_length)*0.96), replace=False)\n",
    "validation_indices = np.array(list(set(range(len(seq_length))) - set(train_indices)))\n",
    "\n",
    "comments_train = comments[train_indices]\n",
    "comments_validation = comments[validation_indices]\n",
    "comments_test = test_data[\"comment_text\"].as_matrix()\n",
    "\n",
    "seq_length_train = seq_length[train_indices]\n",
    "seq_length_validation = seq_length[validation_indices]\n",
    "seq_length_test = test_data['length'].as_matrix()\n",
    "\n",
    "sentiments_train = sentiments[train_indices]\n",
    "sentiments_validation = sentiments[validation_indices]\n",
    "\n",
    "test_id = test_data['id'].as_matrix()"
   ]
  },
  {
   "cell_type": "code",
   "execution_count": 17,
   "metadata": {
    "colab": {
     "autoexec": {
      "startup": false,
      "wait_interval": 0
     },
     "base_uri": "https://localhost:8080/",
     "height": 168,
     "output_extras": [
      {
       "item_id": 1
      }
     ]
    },
    "colab_type": "code",
    "executionInfo": {
     "elapsed": 829,
     "status": "ok",
     "timestamp": 1520332212282,
     "user": {
      "displayName": "Itrat Rahman",
      "photoUrl": "//lh3.googleusercontent.com/-j1V_yfZD3m0/AAAAAAAAAAI/AAAAAAAAFTg/pDPmK0kE5mI/s50-c-k-no/photo.jpg",
      "userId": "116815226076340067076"
     },
     "user_tz": -360
    },
    "id": "LeyR-q6BKtTJ",
    "outputId": "051c2dd9-ea20-453f-ee74-dba9040c76a4"
   },
   "outputs": [
    {
     "name": "stdout",
     "output_type": "stream",
     "text": [
      "shape of comments_train: (153188,)\n",
      "shape of comments_validation: (6383,)\n",
      "shape of comments_test: (153164,)\n",
      "shape of seq_length_train: (153188,)\n",
      "shape of seq_length_validation: (6383,)\n",
      "shape of seq_length_test: (153164,)\n",
      "shape of sentiments_train: (153188, 6)\n",
      "shape of sentiments_test: (6383, 6)\n",
      "shape of test_id: (153164,)\n"
     ]
    }
   ],
   "source": [
    "print(\"shape of comments_train:\",comments_train.shape)\n",
    "print(\"shape of comments_validation:\",comments_validation.shape)\n",
    "print(\"shape of comments_test:\",comments_test.shape)\n",
    "print(\"shape of seq_length_train:\",seq_length_train.shape)\n",
    "print(\"shape of seq_length_validation:\",seq_length_validation.shape)\n",
    "print(\"shape of seq_length_test:\",seq_length_test.shape)\n",
    "print(\"shape of sentiments_train:\",sentiments_train.shape)\n",
    "print(\"shape of sentiments_test:\",sentiments_validation.shape)\n",
    "print(\"shape of test_id:\",test_id.shape)"
   ]
  },
  {
   "cell_type": "code",
   "execution_count": 0,
   "metadata": {
    "colab": {
     "autoexec": {
      "startup": false,
      "wait_interval": 0
     }
    },
    "colab_type": "code",
    "collapsed": true,
    "id": "sXTXrdE8KvFx"
   },
   "outputs": [],
   "source": [
    "del(train_indices, validation_indices, data, test_data, comments, sentiments, seq_length)"
   ]
  },
  {
   "cell_type": "markdown",
   "metadata": {},
   "source": [
    "# Create Recurrent Neural Network (LSTM cell)"
   ]
  },
  {
   "cell_type": "markdown",
   "metadata": {},
   "source": [
    "**A function to generate fixed length sequence**"
   ]
  },
  {
   "cell_type": "code",
   "execution_count": 0,
   "metadata": {
    "colab": {
     "autoexec": {
      "startup": false,
      "wait_interval": 0
     }
    },
    "colab_type": "code",
    "collapsed": true,
    "id": "fZ-ZwL-wKyWp"
   },
   "outputs": [],
   "source": [
    "def sequence_generator(comments, max_length, size):\n",
    "    \n",
    "    sentences = []\n",
    "    for comment in comments.tolist():\n",
    "        sentences.append(str(comment).split())\n",
    "        \n",
    "    sequences = []\n",
    "    for sentence in sentences:\n",
    "        if len(sentence)>0:\n",
    "            if len(sentence)<max_length:\n",
    "                sequence = model[sentence]\n",
    "                tail = np.zeros((max_length - len(sentence), size))\n",
    "                sequence = np.concatenate((sequence, tail))\n",
    "            else:\n",
    "                sequence = model[sentence[:max_length]]\n",
    "        else:\n",
    "            sequence = np.zeros((max_length, size))        \n",
    "        sequences.append(sequence)\n",
    "    sequences = np.array(sequences)\n",
    "    \n",
    "    return sequences"
   ]
  },
  {
   "cell_type": "markdown",
   "metadata": {},
   "source": [
    "**Parameters of sequence data**"
   ]
  },
  {
   "cell_type": "code",
   "execution_count": 0,
   "metadata": {
    "colab": {
     "autoexec": {
      "startup": false,
      "wait_interval": 0
     }
    },
    "colab_type": "code",
    "collapsed": true,
    "id": "HUe49cJOK7vo"
   },
   "outputs": [],
   "source": [
    "max_length = n_steps =250 \n",
    "size = n_inputs = size\n",
    "n_outputs = 6"
   ]
  },
  {
   "cell_type": "markdown",
   "metadata": {},
   "source": [
    "**Function to generate batch data**"
   ]
  },
  {
   "cell_type": "code",
   "execution_count": 0,
   "metadata": {
    "colab": {
     "autoexec": {
      "startup": false,
      "wait_interval": 0
     }
    },
    "colab_type": "code",
    "collapsed": true,
    "id": "tZHiJO4uK4mB"
   },
   "outputs": [],
   "source": [
    "def generate_train_batch(indices, comments, seq_length, sentiments, max_length, size):\n",
    "    \n",
    "    comments_batch = comments[indices]\n",
    "    seq_length_batch = seq_length[indices]\n",
    "    sentiments_batch = sentiments[indices]\n",
    "    \n",
    "    sequences_batch = sequence_generator(comments_batch, max_length, size)\n",
    "    \n",
    "    return sequences_batch, seq_length_batch, sentiments_batch"
   ]
  },
  {
   "cell_type": "markdown",
   "metadata": {},
   "source": [
    "**Placeholders**"
   ]
  },
  {
   "cell_type": "code",
   "execution_count": 0,
   "metadata": {
    "colab": {
     "autoexec": {
      "startup": false,
      "wait_interval": 0
     }
    },
    "colab_type": "code",
    "collapsed": true,
    "id": "WVBnM79uK_vx"
   },
   "outputs": [],
   "source": [
    "X = tf.placeholder(tf.float32, [None, n_steps, n_inputs])\n",
    "labels = tf.placeholder(tf.float32, [None, n_outputs])\n",
    "length = tf.placeholder(tf.int32, [None])\n",
    "keep_prob = tf.placeholder(tf.float32)"
   ]
  },
  {
   "cell_type": "markdown",
   "metadata": {},
   "source": [
    "## Creat RNN layer"
   ]
  },
  {
   "cell_type": "markdown",
   "metadata": {},
   "source": [
    "**Create a multilayered lstm network**"
   ]
  },
  {
   "cell_type": "code",
   "execution_count": 0,
   "metadata": {
    "colab": {
     "autoexec": {
      "startup": false,
      "wait_interval": 0
     }
    },
    "colab_type": "code",
    "collapsed": true,
    "id": "SZ2IgXgmLBZi"
   },
   "outputs": [],
   "source": [
    "n_layers = 2\n",
    "n_neurons = 128"
   ]
  },
  {
   "cell_type": "code",
   "execution_count": 0,
   "metadata": {
    "colab": {
     "autoexec": {
      "startup": false,
      "wait_interval": 0
     }
    },
    "colab_type": "code",
    "collapsed": true,
    "id": "vf-GZbQKLCvZ"
   },
   "outputs": [],
   "source": [
    "lstm_cells = [tf.contrib.rnn.BasicLSTMCell(num_units=n_neurons)\n",
    "              for layer in range(n_layers)]\n",
    "lstm_cells_drop = [tf.contrib.rnn.DropoutWrapper(cell, input_keep_prob=keep_prob)\n",
    "                    for cell in lstm_cells]\n",
    "cells_across_gpu = [tf.contrib.rnn.DeviceWrapper(\"/device:GPU:0\", cell) for cell in lstm_cells_drop]\n",
    "\n",
    "multi_cell = tf.contrib.rnn.MultiRNNCell(lstm_cells)"
   ]
  },
  {
   "cell_type": "markdown",
   "metadata": {},
   "source": [
    "**Extract the short term output of the last lstm cell**"
   ]
  },
  {
   "cell_type": "code",
   "execution_count": 25,
   "metadata": {
    "colab": {
     "autoexec": {
      "startup": false,
      "wait_interval": 0
     },
     "base_uri": "https://localhost:8080/",
     "height": 34,
     "output_extras": [
      {
       "item_id": 1
      }
     ]
    },
    "colab_type": "code",
    "executionInfo": {
     "elapsed": 637,
     "status": "ok",
     "timestamp": 1520332219393,
     "user": {
      "displayName": "Itrat Rahman",
      "photoUrl": "//lh3.googleusercontent.com/-j1V_yfZD3m0/AAAAAAAAAAI/AAAAAAAAFTg/pDPmK0kE5mI/s50-c-k-no/photo.jpg",
      "userId": "116815226076340067076"
     },
     "user_tz": -360
    },
    "id": "zsYqauYlLEKh",
    "outputId": "1b6a3551-932a-4d5c-d497-6c465a1034ac"
   },
   "outputs": [
    {
     "data": {
      "text/plain": [
       "<tf.Tensor 'rnn/while/Exit_6:0' shape=(?, 128) dtype=float32>"
      ]
     },
     "execution_count": 25,
     "metadata": {
      "tags": []
     },
     "output_type": "execute_result"
    }
   ],
   "source": [
    "outputs, states = tf.nn.dynamic_rnn(multi_cell, X, dtype=tf.float32, sequence_length=length)\n",
    "top_layer_h_state = states[-1][1]\n",
    "top_layer_h_state"
   ]
  },
  {
   "cell_type": "markdown",
   "metadata": {},
   "source": [
    "## Create fully connected layers"
   ]
  },
  {
   "cell_type": "markdown",
   "metadata": {},
   "source": [
    "**Functions to create weights and biases**"
   ]
  },
  {
   "cell_type": "code",
   "execution_count": 0,
   "metadata": {
    "colab": {
     "autoexec": {
      "startup": false,
      "wait_interval": 0
     }
    },
    "colab_type": "code",
    "collapsed": true,
    "id": "viIrdXC_LGnR"
   },
   "outputs": [],
   "source": [
    "def create_weights(shape):\n",
    "    '''a function to create weight tensor'''\n",
    "    with tf.device(\"/device:CPU:0\"):\n",
    "        W = tf.Variable(tf.truncated_normal(shape, stddev=0.05))\n",
    "    return W\n",
    "\n",
    "def create_biases(size):\n",
    "    '''a function to create bias tensor'''\n",
    "    with tf.device(\"/device:CPU:0\"):\n",
    "        b = tf.Variable(tf.constant(0.05, shape=[size]))\n",
    "    return b"
   ]
  },
  {
   "cell_type": "markdown",
   "metadata": {},
   "source": [
    "**Function to create fully connected layer**"
   ]
  },
  {
   "cell_type": "code",
   "execution_count": 0,
   "metadata": {
    "colab": {
     "autoexec": {
      "startup": false,
      "wait_interval": 0
     }
    },
    "colab_type": "code",
    "collapsed": true,
    "id": "tTviHem1LH9h"
   },
   "outputs": [],
   "source": [
    "def create_fc_layer(input,          \n",
    "                    num_inputs,    \n",
    "                    num_outputs,\n",
    "                    use_relu=False,\n",
    "                    dropout = False, \n",
    "                    keep_prob = 0.2):\n",
    "    \n",
    "    '''a function for creating fully connected layer'''\n",
    "    \n",
    "    #Let's define trainable weights and biases.\n",
    "    weights = create_weights(shape=[num_inputs, num_outputs])\n",
    "    biases = create_biases(num_outputs)\n",
    "    \n",
    "    with tf.device(\"/device:GPU:0\"):\n",
    "      # matrix multiplication between input and weight matrix\n",
    "      layer = tf.matmul(input, weights)\n",
    "\n",
    "      # add the bias to the convolutional layer\n",
    "      layer += biases\n",
    "\n",
    "      # add relu activation if wanted\n",
    "      if use_relu:\n",
    "          layer = tf.nn.relu(layer)\n",
    "\n",
    "      # if dropout is wanted add dropout\n",
    "      if dropout:        \n",
    "          layer = tf.nn.dropout(layer, keep_prob)\n",
    "\n",
    "    # return layer\n",
    "    return layer"
   ]
  },
  {
   "cell_type": "markdown",
   "metadata": {},
   "source": [
    "**Create fully connected layer**"
   ]
  },
  {
   "cell_type": "code",
   "execution_count": 0,
   "metadata": {
    "colab": {
     "autoexec": {
      "startup": false,
      "wait_interval": 0
     }
    },
    "colab_type": "code",
    "collapsed": true,
    "id": "1F-4_yCVLMfJ"
   },
   "outputs": [],
   "source": [
    "fc_layer_size1 = 64\n",
    "# fc_layer_size2 = 64"
   ]
  },
  {
   "cell_type": "code",
   "execution_count": 29,
   "metadata": {
    "colab": {
     "autoexec": {
      "startup": false,
      "wait_interval": 0
     },
     "base_uri": "https://localhost:8080/",
     "height": 34,
     "output_extras": [
      {
       "item_id": 1
      }
     ]
    },
    "colab_type": "code",
    "executionInfo": {
     "elapsed": 784,
     "status": "ok",
     "timestamp": 1520332222980,
     "user": {
      "displayName": "Itrat Rahman",
      "photoUrl": "//lh3.googleusercontent.com/-j1V_yfZD3m0/AAAAAAAAAAI/AAAAAAAAFTg/pDPmK0kE5mI/s50-c-k-no/photo.jpg",
      "userId": "116815226076340067076"
     },
     "user_tz": -360
    },
    "id": "4nv8RuWILOBh",
    "outputId": "f3f6d870-9c7d-4656-fa3f-b9f893c33997"
   },
   "outputs": [
    {
     "data": {
      "text/plain": [
       "<tf.Tensor 'dropout/mul:0' shape=(?, 64) dtype=float32>"
      ]
     },
     "execution_count": 29,
     "metadata": {
      "tags": []
     },
     "output_type": "execute_result"
    }
   ],
   "source": [
    "layer_fc1 = create_fc_layer(input=top_layer_h_state,\n",
    "                            num_inputs=top_layer_h_state.get_shape()[1].value,\n",
    "                            num_outputs=fc_layer_size1,\n",
    "                            use_relu=True,\n",
    "                            dropout =True,\n",
    "                            keep_prob = keep_prob)\n",
    "layer_fc1"
   ]
  },
  {
   "cell_type": "code",
   "execution_count": 0,
   "metadata": {
    "colab": {
     "autoexec": {
      "startup": false,
      "wait_interval": 0
     }
    },
    "colab_type": "code",
    "collapsed": true,
    "id": "iaLiYN7kLPah"
   },
   "outputs": [],
   "source": [
    "# layer_fc2 = create_fc_layer(input=layer_fc1,\n",
    "#                             num_inputs=fc_layer_size1,\n",
    "#                             num_outputs=fc_layer_size2,\n",
    "#                             use_relu=True,\n",
    "#                             dropout =True,\n",
    "#                             keep_prob = keep_prob)\n",
    "# layer_fc2"
   ]
  },
  {
   "cell_type": "markdown",
   "metadata": {},
   "source": [
    "**Create output layer**"
   ]
  },
  {
   "cell_type": "code",
   "execution_count": 31,
   "metadata": {
    "colab": {
     "autoexec": {
      "startup": false,
      "wait_interval": 0
     },
     "base_uri": "https://localhost:8080/",
     "height": 34,
     "output_extras": [
      {
       "item_id": 1
      }
     ]
    },
    "colab_type": "code",
    "executionInfo": {
     "elapsed": 805,
     "status": "ok",
     "timestamp": 1520332224682,
     "user": {
      "displayName": "Itrat Rahman",
      "photoUrl": "//lh3.googleusercontent.com/-j1V_yfZD3m0/AAAAAAAAAAI/AAAAAAAAFTg/pDPmK0kE5mI/s50-c-k-no/photo.jpg",
      "userId": "116815226076340067076"
     },
     "user_tz": -360
    },
    "id": "JhDrGOPbLRfB",
    "outputId": "fc22c5e8-19fd-4f07-fccc-532126c75815"
   },
   "outputs": [
    {
     "data": {
      "text/plain": [
       "<tf.Tensor 'add_1:0' shape=(?, 6) dtype=float32>"
      ]
     },
     "execution_count": 31,
     "metadata": {
      "tags": []
     },
     "output_type": "execute_result"
    }
   ],
   "source": [
    "output = create_fc_layer(input=layer_fc1,\n",
    "                            num_inputs=fc_layer_size1,\n",
    "                            num_outputs=n_outputs,\n",
    "                            use_relu=False,\n",
    "                            dropout =False)\n",
    "output"
   ]
  },
  {
   "cell_type": "markdown",
   "metadata": {},
   "source": [
    "**Sigmoid of the output**"
   ]
  },
  {
   "cell_type": "code",
   "execution_count": 32,
   "metadata": {
    "colab": {
     "autoexec": {
      "startup": false,
      "wait_interval": 0
     },
     "base_uri": "https://localhost:8080/",
     "height": 34,
     "output_extras": [
      {
       "item_id": 1
      }
     ]
    },
    "colab_type": "code",
    "executionInfo": {
     "elapsed": 843,
     "status": "ok",
     "timestamp": 1520332225609,
     "user": {
      "displayName": "Itrat Rahman",
      "photoUrl": "//lh3.googleusercontent.com/-j1V_yfZD3m0/AAAAAAAAAAI/AAAAAAAAFTg/pDPmK0kE5mI/s50-c-k-no/photo.jpg",
      "userId": "116815226076340067076"
     },
     "user_tz": -360
    },
    "id": "h8AXHNJbLS6R",
    "outputId": "cc25f893-e6ad-4721-a411-4805c40322ff"
   },
   "outputs": [
    {
     "data": {
      "text/plain": [
       "<tf.Tensor 'Sigmoid:0' shape=(?, 6) dtype=float32>"
      ]
     },
     "execution_count": 32,
     "metadata": {
      "tags": []
     },
     "output_type": "execute_result"
    }
   ],
   "source": [
    "with tf.device(\"/device:GPU:0\"):\n",
    "    logits = tf.nn.sigmoid(output)\n",
    "logits"
   ]
  },
  {
   "cell_type": "markdown",
   "metadata": {},
   "source": [
    "## Create optimization operation"
   ]
  },
  {
   "cell_type": "markdown",
   "metadata": {},
   "source": [
    "**Loss operation**"
   ]
  },
  {
   "cell_type": "code",
   "execution_count": 0,
   "metadata": {
    "colab": {
     "autoexec": {
      "startup": false,
      "wait_interval": 0
     }
    },
    "colab_type": "code",
    "collapsed": true,
    "id": "AxxJlMJALWkZ"
   },
   "outputs": [],
   "source": [
    "with tf.device(\"/device:GPU:0\"):\n",
    "    loss = tf.losses.sigmoid_cross_entropy(multi_class_labels=labels, logits=output)"
   ]
  },
  {
   "cell_type": "markdown",
   "metadata": {},
   "source": [
    "**ROC AUC calculation operations**"
   ]
  },
  {
   "cell_type": "code",
   "execution_count": 0,
   "metadata": {
    "colab": {
     "autoexec": {
      "startup": false,
      "wait_interval": 0
     }
    },
    "colab_type": "code",
    "collapsed": true,
    "id": "IenpUAVILYDZ"
   },
   "outputs": [],
   "source": [
    "roc = tf.metrics.auc(labels=labels, predictions=logits)"
   ]
  },
  {
   "cell_type": "markdown",
   "metadata": {},
   "source": [
    "**Train step**"
   ]
  },
  {
   "cell_type": "code",
   "execution_count": 0,
   "metadata": {
    "colab": {
     "autoexec": {
      "startup": false,
      "wait_interval": 0
     }
    },
    "colab_type": "code",
    "collapsed": true,
    "id": "4_fVRSuBLZXR"
   },
   "outputs": [],
   "source": [
    "# learning rate of optimizer\n",
    "learning_rate = (1e-2)*1.5\n",
    "with tf.device(\"/device:GPU:0\"):\n",
    "  # train step\n",
    "  train_step = tf.train.AdamOptimizer(learning_rate=learning_rate).minimize(loss)"
   ]
  },
  {
   "cell_type": "markdown",
   "metadata": {},
   "source": [
    "# Train the model"
   ]
  },
  {
   "cell_type": "code",
   "execution_count": 0,
   "metadata": {
    "colab": {
     "autoexec": {
      "startup": false,
      "wait_interval": 0
     }
    },
    "colab_type": "code",
    "collapsed": true,
    "id": "eiIyqonXLbN6"
   },
   "outputs": [],
   "source": [
    "# lists to store the train loss, validation loss, validation accuracy at each iteration\n",
    "train_loss = []\n",
    "valid_loss = []\n",
    "valid_roc = []\n",
    "\n",
    "# batch size\n",
    "batch_size = 200\n",
    "# max iteration\n",
    "max_iter = 10000"
   ]
  },
  {
   "cell_type": "markdown",
   "metadata": {},
   "source": [
    "**Train model for few hours and save the best model along the way**"
   ]
  },
  {
   "cell_type": "code",
   "execution_count": 37,
   "metadata": {
    "colab": {
     "autoexec": {
      "startup": false,
      "wait_interval": 0
     },
     "base_uri": "https://localhost:8080/",
     "height": 62093,
     "output_extras": [
      {
       "item_id": 39
      },
      {
       "item_id": 78
      },
      {
       "item_id": 117
      },
      {
       "item_id": 156
      },
      {
       "item_id": 195
      },
      {
       "item_id": 234
      },
      {
       "item_id": 273
      },
      {
       "item_id": 312
      },
      {
       "item_id": 351
      },
      {
       "item_id": 390
      },
      {
       "item_id": 429
      },
      {
       "item_id": 468
      },
      {
       "item_id": 507
      },
      {
       "item_id": 546
      },
      {
       "item_id": 585
      },
      {
       "item_id": 624
      },
      {
       "item_id": 663
      },
      {
       "item_id": 702
      },
      {
       "item_id": 741
      },
      {
       "item_id": 780
      },
      {
       "item_id": 819
      },
      {
       "item_id": 858
      },
      {
       "item_id": 897
      },
      {
       "item_id": 936
      },
      {
       "item_id": 975
      },
      {
       "item_id": 1014
      },
      {
       "item_id": 1053
      },
      {
       "item_id": 1092
      },
      {
       "item_id": 1131
      },
      {
       "item_id": 1170
      },
      {
       "item_id": 1209
      },
      {
       "item_id": 1248
      },
      {
       "item_id": 1287
      },
      {
       "item_id": 1326
      },
      {
       "item_id": 1365
      },
      {
       "item_id": 1404
      },
      {
       "item_id": 1443
      },
      {
       "item_id": 1482
      },
      {
       "item_id": 1521
      },
      {
       "item_id": 1560
      },
      {
       "item_id": 1599
      },
      {
       "item_id": 1638
      },
      {
       "item_id": 1677
      },
      {
       "item_id": 1716
      },
      {
       "item_id": 1755
      },
      {
       "item_id": 1794
      },
      {
       "item_id": 1833
      },
      {
       "item_id": 1872
      },
      {
       "item_id": 1911
      },
      {
       "item_id": 1950
      },
      {
       "item_id": 1989
      },
      {
       "item_id": 2028
      },
      {
       "item_id": 2067
      },
      {
       "item_id": 2106
      },
      {
       "item_id": 2145
      },
      {
       "item_id": 2184
      },
      {
       "item_id": 2223
      },
      {
       "item_id": 2262
      },
      {
       "item_id": 2301
      },
      {
       "item_id": 2340
      },
      {
       "item_id": 2379
      },
      {
       "item_id": 2418
      },
      {
       "item_id": 2457
      },
      {
       "item_id": 2496
      },
      {
       "item_id": 2535
      },
      {
       "item_id": 2574
      },
      {
       "item_id": 2613
      },
      {
       "item_id": 2652
      },
      {
       "item_id": 2691
      },
      {
       "item_id": 2730
      },
      {
       "item_id": 2769
      },
      {
       "item_id": 2808
      },
      {
       "item_id": 2847
      },
      {
       "item_id": 2886
      },
      {
       "item_id": 2925
      },
      {
       "item_id": 2964
      },
      {
       "item_id": 3003
      },
      {
       "item_id": 3042
      },
      {
       "item_id": 3081
      },
      {
       "item_id": 3120
      },
      {
       "item_id": 3159
      },
      {
       "item_id": 3198
      },
      {
       "item_id": 3237
      },
      {
       "item_id": 3276
      },
      {
       "item_id": 3315
      },
      {
       "item_id": 3354
      },
      {
       "item_id": 3393
      },
      {
       "item_id": 3432
      },
      {
       "item_id": 3471
      },
      {
       "item_id": 3510
      },
      {
       "item_id": 3549
      },
      {
       "item_id": 3588
      },
      {
       "item_id": 3627
      },
      {
       "item_id": 3666
      },
      {
       "item_id": 3695
      }
     ]
    },
    "colab_type": "code",
    "executionInfo": {
     "elapsed": 14403659,
     "status": "ok",
     "timestamp": 1520346633586,
     "user": {
      "displayName": "Itrat Rahman",
      "photoUrl": "//lh3.googleusercontent.com/-j1V_yfZD3m0/AAAAAAAAAAI/AAAAAAAAFTg/pDPmK0kE5mI/s50-c-k-no/photo.jpg",
      "userId": "116815226076340067076"
     },
     "user_tz": -360
    },
    "id": "yet1CuI7Ld59",
    "outputId": "f047427d-d03d-4128-983b-b7d0f19aaff8"
   },
   "outputs": [
    {
     "name": "stdout",
     "output_type": "stream",
     "text": [
      "iterations: 0 | train_loss: 0.48448765 | validation_loss: 0.49085554 | Roc Score: 0.5986242 | Time elapsed: 0:00:04.408242\n",
      "iterations: 1 | train_loss: 0.17204307 | validation_loss: 0.19217731 | Roc Score: 0.5201364 | Time elapsed: 0:00:08.232821\n",
      "iterations: 2 | train_loss: 0.1554768 | validation_loss: 0.18152359 | Roc Score: 0.4992172 | Time elapsed: 0:00:12.010513\n",
      "iterations: 3 | train_loss: 0.17880297 | validation_loss: 0.22378254 | Roc Score: 0.49971405 | Time elapsed: 0:00:15.771984\n",
      "iterations: 4 | train_loss: 0.19757749 | validation_loss: 0.22850215 | Roc Score: 0.5009507 | Time elapsed: 0:00:19.594676\n",
      "iterations: 5 | train_loss: 0.18305013 | validation_loss: 0.20804897 | Roc Score: 0.5183123 | Time elapsed: 0:00:23.390193\n",
      "iterations: 6 | train_loss: 0.19798213 | validation_loss: 0.1765757 | Roc Score: 0.538178 | Time elapsed: 0:00:27.202319\n",
      "iterations: 7 | train_loss: 0.12611595 | validation_loss: 0.16378632 | Roc Score: 0.5622341 | Time elapsed: 0:00:31.021518\n",
      "iterations: 8 | train_loss: 0.15084814 | validation_loss: 0.16769524 | Roc Score: 0.58138245 | Time elapsed: 0:00:34.835664\n",
      "iterations: 9 | train_loss: 0.12253733 | validation_loss: 0.15982607 | Roc Score: 0.5972912 | Time elapsed: 0:00:38.634538\n",
      "iterations: 10 | train_loss: 0.106232494 | validation_loss: 0.15116437 | Roc Score: 0.6095391 | Time elapsed: 0:00:42.468322\n",
      "iterations: 11 | train_loss: 0.18415862 | validation_loss: 0.14996707 | Roc Score: 0.61742693 | Time elapsed: 0:00:46.369056\n",
      "iterations: 12 | train_loss: 0.12674545 | validation_loss: 0.15120095 | Roc Score: 0.62348205 | Time elapsed: 0:00:50.281869\n",
      "iterations: 13 | train_loss: 0.15876924 | validation_loss: 0.15384579 | Roc Score: 0.6288943 | Time elapsed: 0:00:54.174450\n",
      "iterations: 14 | train_loss: 0.18334332 | validation_loss: 0.1520631 | Roc Score: 0.6337845 | Time elapsed: 0:00:58.067622\n",
      "iterations: 15 | train_loss: 0.19539395 | validation_loss: 0.14727566 | Roc Score: 0.63814855 | Time elapsed: 0:01:01.973015\n",
      "iterations: 16 | train_loss: 0.123455085 | validation_loss: 0.14268157 | Roc Score: 0.6427385 | Time elapsed: 0:01:05.813528\n",
      "iterations: 17 | train_loss: 0.10924017 | validation_loss: 0.13968533 | Roc Score: 0.6477103 | Time elapsed: 0:01:09.680876\n",
      "iterations: 18 | train_loss: 0.11514705 | validation_loss: 0.1382111 | Roc Score: 0.652579 | Time elapsed: 0:01:13.586016\n",
      "iterations: 19 | train_loss: 0.13588263 | validation_loss: 0.1377928 | Roc Score: 0.65655243 | Time elapsed: 0:01:17.530943\n",
      "iterations: 20 | train_loss: 0.15605003 | validation_loss: 0.1387251 | Roc Score: 0.6595421 | Time elapsed: 0:01:21.400203\n",
      "iterations: 21 | train_loss: 0.13168964 | validation_loss: 0.13982533 | Roc Score: 0.6622687 | Time elapsed: 0:01:25.312284\n",
      "iterations: 22 | train_loss: 0.14418083 | validation_loss: 0.14027831 | Roc Score: 0.6646411 | Time elapsed: 0:01:29.170995\n",
      "iterations: 23 | train_loss: 0.16221625 | validation_loss: 0.14020136 | Roc Score: 0.6669301 | Time elapsed: 0:01:33.021648\n",
      "iterations: 24 | train_loss: 0.15683857 | validation_loss: 0.13961129 | Roc Score: 0.6691291 | Time elapsed: 0:01:36.919931\n",
      "iterations: 25 | train_loss: 0.15327111 | validation_loss: 0.138675 | Roc Score: 0.67114997 | Time elapsed: 0:01:40.842266\n",
      "iterations: 26 | train_loss: 0.17813565 | validation_loss: 0.13796586 | Roc Score: 0.67295486 | Time elapsed: 0:01:44.685527\n",
      "iterations: 27 | train_loss: 0.21990468 | validation_loss: 0.13840695 | Roc Score: 0.6746759 | Time elapsed: 0:01:48.583139\n",
      "iterations: 28 | train_loss: 0.17159645 | validation_loss: 0.13918881 | Roc Score: 0.6763041 | Time elapsed: 0:01:52.485751\n",
      "iterations: 29 | train_loss: 0.14928699 | validation_loss: 0.13886032 | Roc Score: 0.6778297 | Time elapsed: 0:01:56.365188\n",
      "iterations: 30 | train_loss: 0.13392848 | validation_loss: 0.13793059 | Roc Score: 0.6793293 | Time elapsed: 0:02:00.276945\n",
      "iterations: 31 | train_loss: 0.16107424 | validation_loss: 0.13728462 | Roc Score: 0.68096244 | Time elapsed: 0:02:04.178430\n",
      "iterations: 32 | train_loss: 0.15618299 | validation_loss: 0.13682048 | Roc Score: 0.682458 | Time elapsed: 0:02:08.054029\n",
      "iterations: 33 | train_loss: 0.15135604 | validation_loss: 0.13663423 | Roc Score: 0.68405646 | Time elapsed: 0:02:11.903548\n",
      "iterations: 34 | train_loss: 0.16408318 | validation_loss: 0.13653636 | Roc Score: 0.6857021 | Time elapsed: 0:02:15.816252\n",
      "iterations: 35 | train_loss: 0.13880657 | validation_loss: 0.13652945 | Roc Score: 0.68732584 | Time elapsed: 0:02:19.740978\n",
      "iterations: 36 | train_loss: 0.11995623 | validation_loss: 0.13665722 | Roc Score: 0.6889334 | Time elapsed: 0:02:23.477509\n",
      "iterations: 37 | train_loss: 0.17635076 | validation_loss: 0.13678332 | Roc Score: 0.69047475 | Time elapsed: 0:02:27.416363\n",
      "iterations: 38 | train_loss: 0.1443191 | validation_loss: 0.13695258 | Roc Score: 0.6919535 | Time elapsed: 0:02:31.265815\n",
      "iterations: 39 | train_loss: 0.15310565 | validation_loss: 0.13721979 | Roc Score: 0.69348985 | Time elapsed: 0:02:35.155425\n",
      "iterations: 40 | train_loss: 0.14894152 | validation_loss: 0.1372227 | Roc Score: 0.69476175 | Time elapsed: 0:02:39.046728\n",
      "iterations: 41 | train_loss: 0.14982623 | validation_loss: 0.13713966 | Roc Score: 0.69573504 | Time elapsed: 0:02:42.918977\n",
      "iterations: 42 | train_loss: 0.13419543 | validation_loss: 0.13660097 | Roc Score: 0.696902 | Time elapsed: 0:02:46.895177\n",
      "iterations: 43 | train_loss: 0.14847939 | validation_loss: 0.13658378 | Roc Score: 0.69812053 | Time elapsed: 0:02:50.792080\n",
      "iterations: 44 | train_loss: 0.13587251 | validation_loss: 0.13700444 | Roc Score: 0.69923234 | Time elapsed: 0:02:54.659235\n",
      "iterations: 45 | train_loss: 0.16379078 | validation_loss: 0.13678385 | Roc Score: 0.7000473 | Time elapsed: 0:02:58.521628\n",
      "iterations: 46 | train_loss: 0.1516067 | validation_loss: 0.13654178 | Roc Score: 0.70082265 | Time elapsed: 0:03:02.469639\n",
      "iterations: 47 | train_loss: 0.1602588 | validation_loss: 0.13712694 | Roc Score: 0.7015211 | Time elapsed: 0:03:06.337734\n",
      "iterations: 48 | train_loss: 0.14921026 | validation_loss: 0.13864678 | Roc Score: 0.7020659 | Time elapsed: 0:03:10.203272\n",
      "iterations: 49 | train_loss: 0.124073476 | validation_loss: 0.13769859 | Roc Score: 0.7027511 | Time elapsed: 0:03:14.123167\n",
      "iterations: 50 | train_loss: 0.18738054 | validation_loss: 0.13751923 | Roc Score: 0.7034665 | Time elapsed: 0:03:18.016972\n",
      "iterations: 51 | train_loss: 0.1300648 | validation_loss: 0.1362824 | Roc Score: 0.70412713 | Time elapsed: 0:03:21.897794\n",
      "iterations: 52 | train_loss: 0.12842607 | validation_loss: 0.13624014 | Roc Score: 0.7048968 | Time elapsed: 0:03:25.782135\n",
      "iterations: 53 | train_loss: 0.122017935 | validation_loss: 0.13764848 | Roc Score: 0.7056037 | Time elapsed: 0:03:29.551213\n",
      "iterations: 54 | train_loss: 0.10421872 | validation_loss: 0.14039049 | Roc Score: 0.70619535 | Time elapsed: 0:03:33.471395\n",
      "iterations: 55 | train_loss: 0.17080325 | validation_loss: 0.13948098 | Roc Score: 0.70688623 | Time elapsed: 0:03:37.415874\n",
      "iterations: 56 | train_loss: 0.11106056 | validation_loss: 0.13785966 | Roc Score: 0.7076929 | Time elapsed: 0:03:41.293129\n",
      "iterations: 57 | train_loss: 0.14578842 | validation_loss: 0.1359209 | Roc Score: 0.70874196 | Time elapsed: 0:03:45.223991\n",
      "iterations: 58 | train_loss: 0.15023208 | validation_loss: 0.1363726 | Roc Score: 0.7095116 | Time elapsed: 0:03:49.141554\n",
      "iterations: 59 | train_loss: 0.14075023 | validation_loss: 0.13881142 | Roc Score: 0.71016884 | Time elapsed: 0:03:53.018099\n",
      "iterations: 60 | train_loss: 0.14824925 | validation_loss: 0.13878272 | Roc Score: 0.71095437 | Time elapsed: 0:03:56.913311\n",
      "iterations: 61 | train_loss: 0.20689741 | validation_loss: 0.14037499 | Roc Score: 0.7115 | Time elapsed: 0:04:00.831946\n",
      "iterations: 62 | train_loss: 0.16175954 | validation_loss: 0.14043143 | Roc Score: 0.7120631 | Time elapsed: 0:04:04.696400\n",
      "iterations: 63 | train_loss: 0.14777735 | validation_loss: 0.13745315 | Roc Score: 0.71278983 | Time elapsed: 0:04:08.607597\n",
      "iterations: 64 | train_loss: 0.09463496 | validation_loss: 0.13507873 | Roc Score: 0.7135231 | Time elapsed: 0:04:12.502011\n",
      "iterations: 65 | train_loss: 0.14643231 | validation_loss: 0.13675694 | Roc Score: 0.71413696 | Time elapsed: 0:04:16.410669\n",
      "iterations: 66 | train_loss: 0.10244978 | validation_loss: 0.14096786 | Roc Score: 0.7145308 | Time elapsed: 0:04:20.330380\n",
      "iterations: 67 | train_loss: 0.13253208 | validation_loss: 0.14327896 | Roc Score: 0.7148351 | Time elapsed: 0:04:24.236931\n",
      "iterations: 68 | train_loss: 0.1486978 | validation_loss: 0.14163265 | Roc Score: 0.715251 | Time elapsed: 0:04:28.129914\n",
      "iterations: 69 | train_loss: 0.17910504 | validation_loss: 0.13674723 | Roc Score: 0.71591604 | Time elapsed: 0:04:32.016094\n",
      "iterations: 70 | train_loss: 0.091106154 | validation_loss: 0.13550709 | Roc Score: 0.71660376 | Time elapsed: 0:04:35.939851\n",
      "iterations: 71 | train_loss: 0.14990899 | validation_loss: 0.1347885 | Roc Score: 0.71732414 | Time elapsed: 0:04:39.902236\n",
      "iterations: 72 | train_loss: 0.1686156 | validation_loss: 0.13463314 | Roc Score: 0.71810484 | Time elapsed: 0:04:43.830649\n",
      "iterations: 73 | train_loss: 0.13294683 | validation_loss: 0.13552484 | Roc Score: 0.7187498 | Time elapsed: 0:04:47.748897\n",
      "iterations: 74 | train_loss: 0.13547103 | validation_loss: 0.13520792 | Roc Score: 0.71933085 | Time elapsed: 0:04:51.577198\n",
      "iterations: 75 | train_loss: 0.1328703 | validation_loss: 0.13349456 | Roc Score: 0.720116 | Time elapsed: 0:04:55.478126\n",
      "iterations: 76 | train_loss: 0.15410614 | validation_loss: 0.13174498 | Roc Score: 0.7210559 | Time elapsed: 0:04:59.402171\n",
      "iterations: 77 | train_loss: 0.094302826 | validation_loss: 0.13211659 | Roc Score: 0.7219459 | Time elapsed: 0:05:03.404269\n"
     ]
    },
    {
     "name": "stdout",
     "output_type": "stream",
     "text": [
      "iterations: 78 | train_loss: 0.13843922 | validation_loss: 0.13297033 | Roc Score: 0.7225969 | Time elapsed: 0:05:07.268659\n",
      "iterations: 79 | train_loss: 0.1415975 | validation_loss: 0.13261409 | Roc Score: 0.7233021 | Time elapsed: 0:05:11.147561\n",
      "iterations: 80 | train_loss: 0.15981929 | validation_loss: 0.1312563 | Roc Score: 0.724246 | Time elapsed: 0:05:15.023912\n",
      "iterations: 81 | train_loss: 0.1628509 | validation_loss: 0.13271339 | Roc Score: 0.7249798 | Time elapsed: 0:05:18.931683\n",
      "iterations: 82 | train_loss: 0.13694763 | validation_loss: 0.13318163 | Roc Score: 0.72572774 | Time elapsed: 0:05:22.848541\n",
      "iterations: 83 | train_loss: 0.15822934 | validation_loss: 0.1315996 | Roc Score: 0.72656363 | Time elapsed: 0:05:26.730133\n",
      "iterations: 84 | train_loss: 0.14874706 | validation_loss: 0.12953171 | Roc Score: 0.7275533 | Time elapsed: 0:05:30.614053\n",
      "iterations: 85 | train_loss: 0.17038263 | validation_loss: 0.12901819 | Roc Score: 0.7285386 | Time elapsed: 0:05:34.504445\n",
      "iterations: 86 | train_loss: 0.07223996 | validation_loss: 0.12898585 | Roc Score: 0.7296432 | Time elapsed: 0:05:38.389724\n",
      "iterations: 87 | train_loss: 0.16810262 | validation_loss: 0.13092409 | Roc Score: 0.7305078 | Time elapsed: 0:05:42.237717\n",
      "iterations: 88 | train_loss: 0.14930284 | validation_loss: 0.12995093 | Roc Score: 0.731434 | Time elapsed: 0:05:46.140034\n",
      "iterations: 89 | train_loss: 0.13769901 | validation_loss: 0.12720203 | Roc Score: 0.7325953 | Time elapsed: 0:05:50.030382\n",
      "iterations: 90 | train_loss: 0.18980986 | validation_loss: 0.12595062 | Roc Score: 0.73369163 | Time elapsed: 0:05:53.876399\n",
      "iterations: 91 | train_loss: 0.12708642 | validation_loss: 0.13235994 | Roc Score: 0.73415154 | Time elapsed: 0:05:57.818771\n",
      "iterations: 92 | train_loss: 0.14797525 | validation_loss: 0.13737443 | Roc Score: 0.7343747 | Time elapsed: 0:06:01.703635\n",
      "iterations: 93 | train_loss: 0.17301753 | validation_loss: 0.13210888 | Roc Score: 0.7350297 | Time elapsed: 0:06:05.540660\n",
      "iterations: 94 | train_loss: 0.10153725 | validation_loss: 0.12337321 | Roc Score: 0.736362 | Time elapsed: 0:06:09.406585\n",
      "iterations: 95 | train_loss: 0.1686602 | validation_loss: 0.12432471 | Roc Score: 0.7375172 | Time elapsed: 0:06:13.323181\n",
      "iterations: 96 | train_loss: 0.16844897 | validation_loss: 0.1247407 | Roc Score: 0.73861504 | Time elapsed: 0:06:17.237741\n",
      "iterations: 97 | train_loss: 0.14788418 | validation_loss: 0.1221649 | Roc Score: 0.73994714 | Time elapsed: 0:06:21.182388\n",
      "iterations: 98 | train_loss: 0.12606204 | validation_loss: 0.11993918 | Roc Score: 0.74141717 | Time elapsed: 0:06:25.112971\n",
      "iterations: 99 | train_loss: 0.14186735 | validation_loss: 0.119737774 | Roc Score: 0.74281937 | Time elapsed: 0:06:28.976829\n",
      "iterations: 100 | train_loss: 0.11737713 | validation_loss: 0.12020707 | Roc Score: 0.74404573 | Time elapsed: 0:06:32.861931\n",
      "iterations: 101 | train_loss: 0.1123256 | validation_loss: 0.11831178 | Roc Score: 0.7454078 | Time elapsed: 0:06:36.704826\n",
      "iterations: 102 | train_loss: 0.106407925 | validation_loss: 0.117392816 | Roc Score: 0.7469598 | Time elapsed: 0:06:40.526724\n",
      "iterations: 103 | train_loss: 0.13195823 | validation_loss: 0.118230924 | Roc Score: 0.7483597 | Time elapsed: 0:06:44.473072\n",
      "iterations: 104 | train_loss: 0.11782844 | validation_loss: 0.11889673 | Roc Score: 0.74972785 | Time elapsed: 0:06:48.344356\n",
      "iterations: 105 | train_loss: 0.11350745 | validation_loss: 0.11678617 | Roc Score: 0.75118536 | Time elapsed: 0:06:52.197973\n",
      "iterations: 106 | train_loss: 0.15774783 | validation_loss: 0.11491068 | Roc Score: 0.75257593 | Time elapsed: 0:06:56.150625\n",
      "iterations: 107 | train_loss: 0.12628797 | validation_loss: 0.123101555 | Roc Score: 0.753267 | Time elapsed: 0:07:00.036889\n",
      "iterations: 108 | train_loss: 0.1350257 | validation_loss: 0.118838996 | Roc Score: 0.754313 | Time elapsed: 0:07:03.921189\n",
      "iterations: 109 | train_loss: 0.10614939 | validation_loss: 0.111120574 | Roc Score: 0.75598913 | Time elapsed: 0:07:07.817276\n",
      "iterations: 110 | train_loss: 0.1223887 | validation_loss: 0.11383132 | Roc Score: 0.7574109 | Time elapsed: 0:07:11.676044\n",
      "iterations: 111 | train_loss: 0.10721615 | validation_loss: 0.11777721 | Roc Score: 0.7585062 | Time elapsed: 0:07:15.518670\n",
      "iterations: 112 | train_loss: 0.11107024 | validation_loss: 0.11624032 | Roc Score: 0.7597143 | Time elapsed: 0:07:19.427592\n",
      "iterations: 113 | train_loss: 0.09270283 | validation_loss: 0.11285577 | Roc Score: 0.7611268 | Time elapsed: 0:07:23.326712\n",
      "iterations: 114 | train_loss: 0.09230416 | validation_loss: 0.109463304 | Roc Score: 0.76266015 | Time elapsed: 0:07:27.275606\n",
      "iterations: 115 | train_loss: 0.13645 | validation_loss: 0.10911091 | Roc Score: 0.76398444 | Time elapsed: 0:07:31.214416\n",
      "iterations: 116 | train_loss: 0.11848882 | validation_loss: 0.11100953 | Roc Score: 0.76503164 | Time elapsed: 0:07:35.177741\n",
      "iterations: 117 | train_loss: 0.12539284 | validation_loss: 0.107950866 | Roc Score: 0.766132 | Time elapsed: 0:07:39.039343\n",
      "iterations: 118 | train_loss: 0.08976805 | validation_loss: 0.10433482 | Roc Score: 0.76767606 | Time elapsed: 0:07:42.929010\n",
      "iterations: 119 | train_loss: 0.099976055 | validation_loss: 0.10444377 | Roc Score: 0.76924455 | Time elapsed: 0:07:46.838769\n",
      "iterations: 120 | train_loss: 0.072702035 | validation_loss: 0.105215855 | Roc Score: 0.77081037 | Time elapsed: 0:07:50.775259\n",
      "iterations: 121 | train_loss: 0.08627125 | validation_loss: 0.1027898 | Roc Score: 0.7724962 | Time elapsed: 0:07:54.723186\n",
      "iterations: 122 | train_loss: 0.10941461 | validation_loss: 0.098351955 | Roc Score: 0.7743314 | Time elapsed: 0:07:58.608189\n",
      "iterations: 123 | train_loss: 0.09995993 | validation_loss: 0.10170289 | Roc Score: 0.7758627 | Time elapsed: 0:08:02.414047\n",
      "iterations: 124 | train_loss: 0.10685735 | validation_loss: 0.101739325 | Roc Score: 0.7772885 | Time elapsed: 0:08:06.321480\n",
      "iterations: 125 | train_loss: 0.110785246 | validation_loss: 0.094670996 | Roc Score: 0.7790164 | Time elapsed: 0:08:10.152790\n",
      "iterations: 126 | train_loss: 0.11090707 | validation_loss: 0.09394385 | Roc Score: 0.7807341 | Time elapsed: 0:08:14.025129\n",
      "iterations: 127 | train_loss: 0.07630377 | validation_loss: 0.0940393 | Roc Score: 0.78244245 | Time elapsed: 0:08:17.903945\n",
      "iterations: 128 | train_loss: 0.09509944 | validation_loss: 0.09169478 | Roc Score: 0.78409666 | Time elapsed: 0:08:21.764570\n",
      "iterations: 129 | train_loss: 0.085979 | validation_loss: 0.09133328 | Roc Score: 0.78562576 | Time elapsed: 0:08:25.710635\n",
      "iterations: 130 | train_loss: 0.106380165 | validation_loss: 0.09489065 | Roc Score: 0.7869958 | Time elapsed: 0:08:29.581260\n",
      "iterations: 131 | train_loss: 0.08355943 | validation_loss: 0.09130417 | Roc Score: 0.7885109 | Time elapsed: 0:08:33.456383\n",
      "iterations: 132 | train_loss: 0.09313939 | validation_loss: 0.09026636 | Roc Score: 0.790216 | Time elapsed: 0:08:37.338452\n",
      "iterations: 133 | train_loss: 0.09379816 | validation_loss: 0.09203316 | Roc Score: 0.7918952 | Time elapsed: 0:08:41.228422\n",
      "iterations: 134 | train_loss: 0.069987275 | validation_loss: 0.093644105 | Roc Score: 0.7935079 | Time elapsed: 0:08:45.098659\n",
      "iterations: 135 | train_loss: 0.08194644 | validation_loss: 0.09212181 | Roc Score: 0.79513264 | Time elapsed: 0:08:49.021079\n",
      "iterations: 136 | train_loss: 0.07792428 | validation_loss: 0.08849451 | Roc Score: 0.79673904 | Time elapsed: 0:08:52.876901\n",
      "iterations: 137 | train_loss: 0.07780374 | validation_loss: 0.0850228 | Roc Score: 0.7983065 | Time elapsed: 0:08:56.808779\n",
      "iterations: 138 | train_loss: 0.089235306 | validation_loss: 0.084111534 | Roc Score: 0.79978406 | Time elapsed: 0:09:00.822869\n",
      "iterations: 139 | train_loss: 0.07895667 | validation_loss: 0.08502581 | Roc Score: 0.80116826 | Time elapsed: 0:09:04.729251\n",
      "iterations: 140 | train_loss: 0.10091036 | validation_loss: 0.08657068 | Roc Score: 0.8024557 | Time elapsed: 0:09:08.593951\n",
      "iterations: 141 | train_loss: 0.09738504 | validation_loss: 0.087272726 | Roc Score: 0.8036968 | Time elapsed: 0:09:12.491646\n",
      "iterations: 142 | train_loss: 0.06294979 | validation_loss: 0.0866103 | Roc Score: 0.8049712 | Time elapsed: 0:09:16.342746\n",
      "iterations: 143 | train_loss: 0.059205245 | validation_loss: 0.08381429 | Roc Score: 0.80633366 | Time elapsed: 0:09:20.262818\n",
      "iterations: 144 | train_loss: 0.068931945 | validation_loss: 0.081619546 | Roc Score: 0.8077653 | Time elapsed: 0:09:24.140022\n",
      "iterations: 145 | train_loss: 0.092858955 | validation_loss: 0.08483584 | Roc Score: 0.8090779 | Time elapsed: 0:09:28.022114\n",
      "iterations: 146 | train_loss: 0.066183425 | validation_loss: 0.08534306 | Roc Score: 0.8105048 | Time elapsed: 0:09:31.923922\n",
      "iterations: 147 | train_loss: 0.08394675 | validation_loss: 0.09065632 | Roc Score: 0.81181103 | Time elapsed: 0:09:35.828016\n",
      "iterations: 148 | train_loss: 0.10388091 | validation_loss: 0.0825154 | Roc Score: 0.8131986 | Time elapsed: 0:09:39.734254\n",
      "iterations: 149 | train_loss: 0.07122267 | validation_loss: 0.08064778 | Roc Score: 0.8145102 | Time elapsed: 0:09:43.649195\n",
      "iterations: 150 | train_loss: 0.087050036 | validation_loss: 0.07972095 | Roc Score: 0.81577325 | Time elapsed: 0:09:47.518411\n",
      "iterations: 151 | train_loss: 0.08858688 | validation_loss: 0.082943134 | Roc Score: 0.81693697 | Time elapsed: 0:09:51.424847\n",
      "iterations: 152 | train_loss: 0.052764732 | validation_loss: 0.08014187 | Roc Score: 0.8181236 | Time elapsed: 0:09:55.339560\n",
      "iterations: 153 | train_loss: 0.061914235 | validation_loss: 0.08013723 | Roc Score: 0.81931853 | Time elapsed: 0:09:59.290174\n",
      "iterations: 154 | train_loss: 0.06459038 | validation_loss: 0.08005765 | Roc Score: 0.820526 | Time elapsed: 0:10:03.201628\n",
      "iterations: 155 | train_loss: 0.06608166 | validation_loss: 0.081570186 | Roc Score: 0.8216975 | Time elapsed: 0:10:07.086236\n"
     ]
    },
    {
     "name": "stdout",
     "output_type": "stream",
     "text": [
      "iterations: 156 | train_loss: 0.07327115 | validation_loss: 0.07864583 | Roc Score: 0.82290006 | Time elapsed: 0:10:10.958937\n",
      "iterations: 157 | train_loss: 0.12200872 | validation_loss: 0.0875886 | Roc Score: 0.8238394 | Time elapsed: 0:10:14.911631\n",
      "iterations: 158 | train_loss: 0.073459156 | validation_loss: 0.088948935 | Roc Score: 0.8247491 | Time elapsed: 0:10:18.766093\n",
      "iterations: 159 | train_loss: 0.084646404 | validation_loss: 0.07626504 | Roc Score: 0.8259061 | Time elapsed: 0:10:22.624827\n",
      "iterations: 160 | train_loss: 0.08932635 | validation_loss: 0.08348442 | Roc Score: 0.82690406 | Time elapsed: 0:10:26.466913\n",
      "iterations: 161 | train_loss: 0.1183234 | validation_loss: 0.0831905 | Roc Score: 0.8279188 | Time elapsed: 0:10:30.364733\n",
      "iterations: 162 | train_loss: 0.09116668 | validation_loss: 0.076407254 | Roc Score: 0.8290307 | Time elapsed: 0:10:34.290257\n",
      "iterations: 163 | train_loss: 0.085881606 | validation_loss: 0.081203155 | Roc Score: 0.8300102 | Time elapsed: 0:10:38.151481\n",
      "iterations: 164 | train_loss: 0.058474682 | validation_loss: 0.08179045 | Roc Score: 0.8309657 | Time elapsed: 0:10:42.135215\n",
      "iterations: 165 | train_loss: 0.06818471 | validation_loss: 0.07514062 | Roc Score: 0.8320416 | Time elapsed: 0:10:45.975100\n",
      "iterations: 166 | train_loss: 0.06085736 | validation_loss: 0.08453402 | Roc Score: 0.8329254 | Time elapsed: 0:10:49.884754\n",
      "iterations: 167 | train_loss: 0.08987456 | validation_loss: 0.08045303 | Roc Score: 0.83387667 | Time elapsed: 0:10:53.764784\n",
      "iterations: 168 | train_loss: 0.11029528 | validation_loss: 0.075448394 | Roc Score: 0.83490115 | Time elapsed: 0:10:57.528397\n",
      "iterations: 169 | train_loss: 0.07464898 | validation_loss: 0.08059301 | Roc Score: 0.83580023 | Time elapsed: 0:11:01.459164\n",
      "iterations: 170 | train_loss: 0.06415259 | validation_loss: 0.078652196 | Roc Score: 0.8367262 | Time elapsed: 0:11:05.380848\n",
      "iterations: 171 | train_loss: 0.07774447 | validation_loss: 0.07392508 | Roc Score: 0.8377066 | Time elapsed: 0:11:09.257917\n",
      "iterations: 172 | train_loss: 0.07524143 | validation_loss: 0.07844404 | Roc Score: 0.8385777 | Time elapsed: 0:11:13.156395\n",
      "iterations: 173 | train_loss: 0.08290221 | validation_loss: 0.07867698 | Roc Score: 0.8394273 | Time elapsed: 0:11:17.077774\n",
      "iterations: 174 | train_loss: 0.07484715 | validation_loss: 0.07370905 | Roc Score: 0.8403782 | Time elapsed: 0:11:20.982450\n",
      "iterations: 175 | train_loss: 0.07564148 | validation_loss: 0.0727251 | Roc Score: 0.84133124 | Time elapsed: 0:11:24.917899\n",
      "iterations: 176 | train_loss: 0.06735292 | validation_loss: 0.076284654 | Roc Score: 0.84220034 | Time elapsed: 0:11:28.822201\n",
      "iterations: 177 | train_loss: 0.0859145 | validation_loss: 0.0752756 | Roc Score: 0.8430726 | Time elapsed: 0:11:32.748942\n",
      "iterations: 178 | train_loss: 0.08119583 | validation_loss: 0.07152837 | Roc Score: 0.84403485 | Time elapsed: 0:11:36.629263\n",
      "iterations: 179 | train_loss: 0.06742328 | validation_loss: 0.073401496 | Roc Score: 0.84495354 | Time elapsed: 0:11:40.511726\n",
      "iterations: 180 | train_loss: 0.07865858 | validation_loss: 0.07432791 | Roc Score: 0.8458314 | Time elapsed: 0:11:44.471831\n",
      "iterations: 181 | train_loss: 0.063738085 | validation_loss: 0.07223526 | Roc Score: 0.84672153 | Time elapsed: 0:11:48.306001\n",
      "iterations: 182 | train_loss: 0.05485435 | validation_loss: 0.07083533 | Roc Score: 0.8476107 | Time elapsed: 0:11:52.243710\n",
      "iterations: 183 | train_loss: 0.06542489 | validation_loss: 0.07148824 | Roc Score: 0.84849703 | Time elapsed: 0:11:56.117833\n",
      "iterations: 184 | train_loss: 0.06435833 | validation_loss: 0.07238096 | Roc Score: 0.8493674 | Time elapsed: 0:12:00.045340\n",
      "iterations: 185 | train_loss: 0.07194775 | validation_loss: 0.07352993 | Roc Score: 0.85021806 | Time elapsed: 0:12:03.968280\n",
      "iterations: 186 | train_loss: 0.057697233 | validation_loss: 0.07096282 | Roc Score: 0.8510794 | Time elapsed: 0:12:07.918879\n",
      "iterations: 187 | train_loss: 0.038643938 | validation_loss: 0.072975375 | Roc Score: 0.8518705 | Time elapsed: 0:12:11.784346\n",
      "iterations: 188 | train_loss: 0.09575905 | validation_loss: 0.08205253 | Roc Score: 0.85248846 | Time elapsed: 0:12:15.668106\n",
      "iterations: 189 | train_loss: 0.087125525 | validation_loss: 0.07708218 | Roc Score: 0.853199 | Time elapsed: 0:12:19.543735\n",
      "iterations: 190 | train_loss: 0.076467335 | validation_loss: 0.07037148 | Roc Score: 0.85399157 | Time elapsed: 0:12:23.432523\n",
      "iterations: 191 | train_loss: 0.1151482 | validation_loss: 0.08580478 | Roc Score: 0.8544693 | Time elapsed: 0:12:27.312406\n",
      "iterations: 192 | train_loss: 0.1025646 | validation_loss: 0.09733852 | Roc Score: 0.854837 | Time elapsed: 0:12:31.249720\n",
      "iterations: 193 | train_loss: 0.063271925 | validation_loss: 0.07154621 | Roc Score: 0.8555927 | Time elapsed: 0:12:35.118910\n",
      "iterations: 194 | train_loss: 0.086531065 | validation_loss: 0.071344055 | Roc Score: 0.8563088 | Time elapsed: 0:12:38.746107\n",
      "iterations: 195 | train_loss: 0.052214526 | validation_loss: 0.082949914 | Roc Score: 0.85678905 | Time elapsed: 0:12:42.688199\n",
      "iterations: 196 | train_loss: 0.0744855 | validation_loss: 0.08526864 | Roc Score: 0.85721874 | Time elapsed: 0:12:46.570428\n",
      "iterations: 197 | train_loss: 0.056349374 | validation_loss: 0.07791971 | Roc Score: 0.85776865 | Time elapsed: 0:12:50.480110\n",
      "iterations: 198 | train_loss: 0.05480372 | validation_loss: 0.07023069 | Roc Score: 0.85848534 | Time elapsed: 0:12:54.413099\n",
      "iterations: 199 | train_loss: 0.09274527 | validation_loss: 0.074092366 | Roc Score: 0.8591997 | Time elapsed: 0:12:58.327481\n",
      "iterations: 200 | train_loss: 0.062637605 | validation_loss: 0.074936405 | Roc Score: 0.8599008 | Time elapsed: 0:13:02.246586\n",
      "iterations: 201 | train_loss: 0.082059376 | validation_loss: 0.068914846 | Roc Score: 0.860648 | Time elapsed: 0:13:06.157839\n",
      "iterations: 202 | train_loss: 0.08799221 | validation_loss: 0.06887128 | Roc Score: 0.86137545 | Time elapsed: 0:13:10.075261\n",
      "iterations: 203 | train_loss: 0.080239534 | validation_loss: 0.070757024 | Roc Score: 0.8620694 | Time elapsed: 0:13:13.968007\n",
      "iterations: 204 | train_loss: 0.076513834 | validation_loss: 0.07022912 | Roc Score: 0.86275136 | Time elapsed: 0:13:17.888366\n",
      "iterations: 205 | train_loss: 0.086150676 | validation_loss: 0.06783461 | Roc Score: 0.8634623 | Time elapsed: 0:13:21.806109\n",
      "iterations: 206 | train_loss: 0.06454193 | validation_loss: 0.0735974 | Roc Score: 0.86407715 | Time elapsed: 0:13:25.701314\n",
      "iterations: 207 | train_loss: 0.076928824 | validation_loss: 0.073344104 | Roc Score: 0.86469656 | Time elapsed: 0:13:29.604077\n",
      "iterations: 208 | train_loss: 0.10601357 | validation_loss: 0.07060806 | Roc Score: 0.86534834 | Time elapsed: 0:13:33.497795\n",
      "iterations: 209 | train_loss: 0.081803344 | validation_loss: 0.06809689 | Roc Score: 0.8660195 | Time elapsed: 0:13:37.377605\n",
      "iterations: 210 | train_loss: 0.074581295 | validation_loss: 0.071835965 | Roc Score: 0.8666459 | Time elapsed: 0:13:41.254212\n",
      "iterations: 211 | train_loss: 0.049153842 | validation_loss: 0.08342087 | Roc Score: 0.8670928 | Time elapsed: 0:13:45.131960\n",
      "iterations: 212 | train_loss: 0.07130742 | validation_loss: 0.082151964 | Roc Score: 0.8675223 | Time elapsed: 0:13:49.033923\n",
      "iterations: 213 | train_loss: 0.045700066 | validation_loss: 0.07612051 | Roc Score: 0.86804426 | Time elapsed: 0:13:52.885112\n",
      "iterations: 214 | train_loss: 0.069241896 | validation_loss: 0.06879183 | Roc Score: 0.8686545 | Time elapsed: 0:13:56.836176\n",
      "iterations: 215 | train_loss: 0.0772462 | validation_loss: 0.07284666 | Roc Score: 0.86923647 | Time elapsed: 0:14:00.732916\n",
      "iterations: 216 | train_loss: 0.05737643 | validation_loss: 0.07321098 | Roc Score: 0.8698054 | Time elapsed: 0:14:04.614781\n",
      "iterations: 217 | train_loss: 0.07262245 | validation_loss: 0.06970988 | Roc Score: 0.8704001 | Time elapsed: 0:14:08.504231\n",
      "iterations: 218 | train_loss: 0.0605357 | validation_loss: 0.07021193 | Roc Score: 0.87096906 | Time elapsed: 0:14:12.414452\n",
      "iterations: 219 | train_loss: 0.049467366 | validation_loss: 0.07135021 | Roc Score: 0.8715089 | Time elapsed: 0:14:16.324744\n",
      "iterations: 220 | train_loss: 0.07771222 | validation_loss: 0.07158332 | Roc Score: 0.8720361 | Time elapsed: 0:14:20.221421\n",
      "iterations: 221 | train_loss: 0.049397018 | validation_loss: 0.073440365 | Roc Score: 0.8725318 | Time elapsed: 0:14:24.074499\n",
      "iterations: 222 | train_loss: 0.07715654 | validation_loss: 0.069977455 | Roc Score: 0.8730675 | Time elapsed: 0:14:27.977476\n",
      "iterations: 223 | train_loss: 0.059263427 | validation_loss: 0.0678976 | Roc Score: 0.8736241 | Time elapsed: 0:14:31.871081\n",
      "iterations: 224 | train_loss: 0.07236653 | validation_loss: 0.0723826 | Roc Score: 0.8741537 | Time elapsed: 0:14:35.749510\n",
      "iterations: 225 | train_loss: 0.076980025 | validation_loss: 0.07887379 | Roc Score: 0.8746209 | Time elapsed: 0:14:39.640181\n",
      "iterations: 226 | train_loss: 0.051698867 | validation_loss: 0.06839514 | Roc Score: 0.87516266 | Time elapsed: 0:14:43.549467\n",
      "iterations: 227 | train_loss: 0.048337825 | validation_loss: 0.073110454 | Roc Score: 0.87562925 | Time elapsed: 0:14:47.453260\n",
      "iterations: 228 | train_loss: 0.08658444 | validation_loss: 0.07706723 | Roc Score: 0.87603956 | Time elapsed: 0:14:51.328478\n",
      "iterations: 229 | train_loss: 0.08316515 | validation_loss: 0.07136191 | Roc Score: 0.8764967 | Time elapsed: 0:14:55.202878\n",
      "iterations: 230 | train_loss: 0.057399455 | validation_loss: 0.06926717 | Roc Score: 0.8769644 | Time elapsed: 0:14:59.082748\n",
      "iterations: 231 | train_loss: 0.06763207 | validation_loss: 0.069585025 | Roc Score: 0.87745166 | Time elapsed: 0:15:02.957475\n",
      "iterations: 232 | train_loss: 0.063030355 | validation_loss: 0.07136077 | Roc Score: 0.8779216 | Time elapsed: 0:15:06.856421\n",
      "iterations: 233 | train_loss: 0.04413311 | validation_loss: 0.069681644 | Roc Score: 0.87838304 | Time elapsed: 0:15:10.804826\n"
     ]
    },
    {
     "name": "stdout",
     "output_type": "stream",
     "text": [
      "iterations: 234 | train_loss: 0.034158397 | validation_loss: 0.06976571 | Roc Score: 0.87880886 | Time elapsed: 0:15:14.622265\n",
      "iterations: 235 | train_loss: 0.038663823 | validation_loss: 0.07490828 | Roc Score: 0.87912345 | Time elapsed: 0:15:18.504944\n",
      "iterations: 236 | train_loss: 0.06007 | validation_loss: 0.077595174 | Roc Score: 0.8793878 | Time elapsed: 0:15:22.410322\n",
      "iterations: 237 | train_loss: 0.10981263 | validation_loss: 0.07207457 | Roc Score: 0.87974864 | Time elapsed: 0:15:26.306890\n",
      "iterations: 238 | train_loss: 0.086495325 | validation_loss: 0.069560684 | Roc Score: 0.8801947 | Time elapsed: 0:15:30.195223\n",
      "iterations: 239 | train_loss: 0.06758283 | validation_loss: 0.079263724 | Roc Score: 0.88057303 | Time elapsed: 0:15:34.046168\n",
      "iterations: 240 | train_loss: 0.08041761 | validation_loss: 0.0895905 | Roc Score: 0.88090116 | Time elapsed: 0:15:37.921574\n",
      "iterations: 241 | train_loss: 0.080327876 | validation_loss: 0.081620164 | Roc Score: 0.8813004 | Time elapsed: 0:15:41.809705\n",
      "iterations: 242 | train_loss: 0.057560407 | validation_loss: 0.071951866 | Roc Score: 0.8817427 | Time elapsed: 0:15:45.686689\n",
      "iterations: 243 | train_loss: 0.054823022 | validation_loss: 0.07289996 | Roc Score: 0.8820808 | Time elapsed: 0:15:49.580855\n",
      "iterations: 244 | train_loss: 0.04869011 | validation_loss: 0.084266305 | Roc Score: 0.88227296 | Time elapsed: 0:15:53.522634\n",
      "iterations: 245 | train_loss: 0.07772161 | validation_loss: 0.08836349 | Roc Score: 0.88243705 | Time elapsed: 0:15:57.412541\n",
      "iterations: 246 | train_loss: 0.08216274 | validation_loss: 0.081888236 | Roc Score: 0.8826476 | Time elapsed: 0:16:01.287454\n",
      "iterations: 247 | train_loss: 0.059666425 | validation_loss: 0.07161007 | Roc Score: 0.88299304 | Time elapsed: 0:16:05.172995\n",
      "iterations: 248 | train_loss: 0.0764112 | validation_loss: 0.0689831 | Roc Score: 0.8834194 | Time elapsed: 0:16:09.016506\n",
      "iterations: 249 | train_loss: 0.05423276 | validation_loss: 0.07073975 | Roc Score: 0.88384086 | Time elapsed: 0:16:12.904710\n",
      "iterations: 250 | train_loss: 0.04419165 | validation_loss: 0.06855069 | Roc Score: 0.88427186 | Time elapsed: 0:16:16.852209\n",
      "iterations: 251 | train_loss: 0.063485086 | validation_loss: 0.06620567 | Roc Score: 0.8847125 | Time elapsed: 0:16:20.759451\n",
      "iterations: 252 | train_loss: 0.050089434 | validation_loss: 0.06957392 | Roc Score: 0.88510126 | Time elapsed: 0:16:24.667889\n",
      "iterations: 253 | train_loss: 0.05357577 | validation_loss: 0.074831925 | Roc Score: 0.8854155 | Time elapsed: 0:16:28.604777\n",
      "iterations: 254 | train_loss: 0.08524875 | validation_loss: 0.070368215 | Roc Score: 0.88577706 | Time elapsed: 0:16:32.501200\n",
      "iterations: 255 | train_loss: 0.06526696 | validation_loss: 0.06489652 | Roc Score: 0.8862003 | Time elapsed: 0:16:36.405716\n",
      "iterations: 256 | train_loss: 0.053611673 | validation_loss: 0.06592344 | Roc Score: 0.8866063 | Time elapsed: 0:16:40.313872\n",
      "iterations: 257 | train_loss: 0.0815813 | validation_loss: 0.06568524 | Roc Score: 0.88700855 | Time elapsed: 0:16:44.228971\n",
      "iterations: 258 | train_loss: 0.07399916 | validation_loss: 0.06394694 | Roc Score: 0.88742685 | Time elapsed: 0:16:48.076307\n",
      "iterations: 259 | train_loss: 0.04029175 | validation_loss: 0.06479187 | Roc Score: 0.8878171 | Time elapsed: 0:16:51.964051\n",
      "iterations: 260 | train_loss: 0.07183274 | validation_loss: 0.06831085 | Roc Score: 0.88815445 | Time elapsed: 0:16:55.877073\n",
      "iterations: 261 | train_loss: 0.06100614 | validation_loss: 0.06829158 | Roc Score: 0.88848597 | Time elapsed: 0:16:59.852452\n",
      "iterations: 262 | train_loss: 0.050370716 | validation_loss: 0.06878174 | Roc Score: 0.8888105 | Time elapsed: 0:17:03.794704\n",
      "iterations: 263 | train_loss: 0.049330603 | validation_loss: 0.06545747 | Roc Score: 0.8891745 | Time elapsed: 0:17:07.665462\n",
      "iterations: 264 | train_loss: 0.05805322 | validation_loss: 0.06365234 | Roc Score: 0.88956475 | Time elapsed: 0:17:11.558072\n",
      "iterations: 265 | train_loss: 0.06091727 | validation_loss: 0.06445047 | Roc Score: 0.8899542 | Time elapsed: 0:17:15.477567\n",
      "iterations: 266 | train_loss: 0.06574464 | validation_loss: 0.06519947 | Roc Score: 0.8903373 | Time elapsed: 0:17:19.397536\n",
      "iterations: 267 | train_loss: 0.033619132 | validation_loss: 0.063740954 | Roc Score: 0.8907247 | Time elapsed: 0:17:23.330004\n",
      "iterations: 268 | train_loss: 0.065858334 | validation_loss: 0.06640781 | Roc Score: 0.89108205 | Time elapsed: 0:17:27.232085\n",
      "iterations: 269 | train_loss: 0.053474095 | validation_loss: 0.06725574 | Roc Score: 0.89143336 | Time elapsed: 0:17:31.124934\n",
      "iterations: 270 | train_loss: 0.047069337 | validation_loss: 0.067575864 | Roc Score: 0.8917735 | Time elapsed: 0:17:35.010582\n",
      "iterations: 271 | train_loss: 0.06720675 | validation_loss: 0.064464994 | Roc Score: 0.8921407 | Time elapsed: 0:17:38.910982\n",
      "iterations: 272 | train_loss: 0.05675954 | validation_loss: 0.06341756 | Roc Score: 0.892521 | Time elapsed: 0:17:42.769655\n",
      "iterations: 273 | train_loss: 0.054457564 | validation_loss: 0.063999675 | Roc Score: 0.8928973 | Time elapsed: 0:17:46.657259\n",
      "iterations: 274 | train_loss: 0.079561785 | validation_loss: 0.06495941 | Roc Score: 0.8932652 | Time elapsed: 0:17:50.538653\n",
      "iterations: 275 | train_loss: 0.045322787 | validation_loss: 0.0637496 | Roc Score: 0.89363164 | Time elapsed: 0:17:54.486182\n",
      "iterations: 276 | train_loss: 0.04362403 | validation_loss: 0.06316428 | Roc Score: 0.8940005 | Time elapsed: 0:17:58.359841\n",
      "iterations: 277 | train_loss: 0.07687745 | validation_loss: 0.06335368 | Roc Score: 0.894364 | Time elapsed: 0:18:02.220848\n",
      "iterations: 278 | train_loss: 0.045905564 | validation_loss: 0.065409355 | Roc Score: 0.8947054 | Time elapsed: 0:18:06.124950\n",
      "iterations: 279 | train_loss: 0.045535117 | validation_loss: 0.069733724 | Roc Score: 0.89499813 | Time elapsed: 0:18:10.037016\n",
      "iterations: 280 | train_loss: 0.060686555 | validation_loss: 0.069393374 | Roc Score: 0.8952892 | Time elapsed: 0:18:13.977929\n",
      "iterations: 281 | train_loss: 0.047962524 | validation_loss: 0.067921 | Roc Score: 0.8955858 | Time elapsed: 0:18:17.963179\n",
      "iterations: 282 | train_loss: 0.08462946 | validation_loss: 0.06283605 | Roc Score: 0.8959339 | Time elapsed: 0:18:21.815262\n",
      "iterations: 283 | train_loss: 0.08238585 | validation_loss: 0.06797748 | Roc Score: 0.89624566 | Time elapsed: 0:18:25.710397\n",
      "iterations: 284 | train_loss: 0.056943778 | validation_loss: 0.068705976 | Roc Score: 0.8965519 | Time elapsed: 0:18:29.603255\n",
      "iterations: 285 | train_loss: 0.052660283 | validation_loss: 0.062651016 | Roc Score: 0.8968922 | Time elapsed: 0:18:33.538145\n",
      "iterations: 286 | train_loss: 0.051669307 | validation_loss: 0.06376099 | Roc Score: 0.89720887 | Time elapsed: 0:18:37.460518\n",
      "iterations: 287 | train_loss: 0.05619382 | validation_loss: 0.068021394 | Roc Score: 0.89746374 | Time elapsed: 0:18:41.357833\n",
      "iterations: 288 | train_loss: 0.0712256 | validation_loss: 0.068298884 | Roc Score: 0.89770365 | Time elapsed: 0:18:45.230116\n",
      "iterations: 289 | train_loss: 0.052417878 | validation_loss: 0.06502304 | Roc Score: 0.8979907 | Time elapsed: 0:18:49.099568\n",
      "iterations: 290 | train_loss: 0.090517156 | validation_loss: 0.06377481 | Roc Score: 0.8983123 | Time elapsed: 0:18:53.008884\n",
      "iterations: 291 | train_loss: 0.07595133 | validation_loss: 0.07002453 | Roc Score: 0.89860594 | Time elapsed: 0:18:56.852271\n",
      "iterations: 292 | train_loss: 0.063415125 | validation_loss: 0.06905782 | Roc Score: 0.898897 | Time elapsed: 0:19:00.713283\n",
      "iterations: 293 | train_loss: 0.060207266 | validation_loss: 0.06396191 | Roc Score: 0.89920723 | Time elapsed: 0:19:04.614551\n",
      "iterations: 294 | train_loss: 0.057842724 | validation_loss: 0.06466 | Roc Score: 0.89950204 | Time elapsed: 0:19:08.479170\n",
      "iterations: 295 | train_loss: 0.06519401 | validation_loss: 0.06844754 | Roc Score: 0.89976305 | Time elapsed: 0:19:12.373777\n",
      "iterations: 296 | train_loss: 0.06276926 | validation_loss: 0.07023952 | Roc Score: 0.899996 | Time elapsed: 0:19:16.294822\n",
      "iterations: 297 | train_loss: 0.088551715 | validation_loss: 0.067080684 | Roc Score: 0.90025896 | Time elapsed: 0:19:20.045487\n",
      "iterations: 298 | train_loss: 0.04882786 | validation_loss: 0.06604823 | Roc Score: 0.90053374 | Time elapsed: 0:19:23.960150\n",
      "iterations: 299 | train_loss: 0.04723393 | validation_loss: 0.06522102 | Roc Score: 0.90082043 | Time elapsed: 0:19:27.815367\n",
      "iterations: 300 | train_loss: 0.047079623 | validation_loss: 0.06544265 | Roc Score: 0.9011049 | Time elapsed: 0:19:31.714452\n",
      "iterations: 301 | train_loss: 0.059278253 | validation_loss: 0.065205805 | Roc Score: 0.9013868 | Time elapsed: 0:19:35.594227\n",
      "iterations: 302 | train_loss: 0.04963649 | validation_loss: 0.06478661 | Roc Score: 0.90166706 | Time elapsed: 0:19:39.528987\n",
      "iterations: 303 | train_loss: 0.06190544 | validation_loss: 0.064352 | Roc Score: 0.9019441 | Time elapsed: 0:19:43.409835\n",
      "iterations: 304 | train_loss: 0.0478206 | validation_loss: 0.063922465 | Roc Score: 0.9022172 | Time elapsed: 0:19:47.280484\n",
      "iterations: 305 | train_loss: 0.07650176 | validation_loss: 0.06437143 | Roc Score: 0.90248394 | Time elapsed: 0:19:51.169462\n",
      "iterations: 306 | train_loss: 0.06508394 | validation_loss: 0.06453732 | Roc Score: 0.90274096 | Time elapsed: 0:19:55.061897\n",
      "iterations: 307 | train_loss: 0.05541041 | validation_loss: 0.06348992 | Roc Score: 0.90300506 | Time elapsed: 0:19:58.948762\n",
      "iterations: 308 | train_loss: 0.060779497 | validation_loss: 0.06226885 | Roc Score: 0.9032782 | Time elapsed: 0:20:02.866231\n",
      "iterations: 309 | train_loss: 0.085792325 | validation_loss: 0.062118303 | Roc Score: 0.9035509 | Time elapsed: 0:20:06.774761\n",
      "iterations: 310 | train_loss: 0.065224454 | validation_loss: 0.06423754 | Roc Score: 0.9038165 | Time elapsed: 0:20:10.765732\n",
      "iterations: 311 | train_loss: 0.04236119 | validation_loss: 0.063983165 | Roc Score: 0.9040766 | Time elapsed: 0:20:14.689676\n"
     ]
    },
    {
     "name": "stdout",
     "output_type": "stream",
     "text": [
      "iterations: 312 | train_loss: 0.069977954 | validation_loss: 0.064315386 | Roc Score: 0.9043182 | Time elapsed: 0:20:18.633641\n",
      "iterations: 313 | train_loss: 0.040561732 | validation_loss: 0.06537558 | Roc Score: 0.9045368 | Time elapsed: 0:20:22.509808\n",
      "iterations: 314 | train_loss: 0.053300478 | validation_loss: 0.068239294 | Roc Score: 0.904706 | Time elapsed: 0:20:26.352773\n",
      "iterations: 315 | train_loss: 0.07806104 | validation_loss: 0.07085156 | Roc Score: 0.904843 | Time elapsed: 0:20:30.260885\n",
      "iterations: 316 | train_loss: 0.05956005 | validation_loss: 0.07087634 | Roc Score: 0.9049797 | Time elapsed: 0:20:34.174090\n",
      "iterations: 317 | train_loss: 0.08777528 | validation_loss: 0.06605154 | Roc Score: 0.90518785 | Time elapsed: 0:20:38.130869\n",
      "iterations: 318 | train_loss: 0.06754944 | validation_loss: 0.065066114 | Roc Score: 0.905422 | Time elapsed: 0:20:42.163453\n",
      "iterations: 319 | train_loss: 0.060412634 | validation_loss: 0.0673648 | Roc Score: 0.90564907 | Time elapsed: 0:20:46.118189\n",
      "iterations: 320 | train_loss: 0.047012087 | validation_loss: 0.06791053 | Roc Score: 0.90587324 | Time elapsed: 0:20:50.051196\n",
      "iterations: 321 | train_loss: 0.07326951 | validation_loss: 0.06673673 | Roc Score: 0.906099 | Time elapsed: 0:20:53.997856\n",
      "iterations: 322 | train_loss: 0.06372767 | validation_loss: 0.06495158 | Roc Score: 0.906332 | Time elapsed: 0:20:57.984927\n",
      "iterations: 323 | train_loss: 0.068208404 | validation_loss: 0.06467789 | Roc Score: 0.90655607 | Time elapsed: 0:21:01.965084\n",
      "iterations: 324 | train_loss: 0.0558676 | validation_loss: 0.066694774 | Roc Score: 0.90675545 | Time elapsed: 0:21:05.908242\n",
      "iterations: 325 | train_loss: 0.05551249 | validation_loss: 0.06862747 | Roc Score: 0.90692765 | Time elapsed: 0:21:09.838358\n",
      "iterations: 326 | train_loss: 0.08093982 | validation_loss: 0.068488926 | Roc Score: 0.9071002 | Time elapsed: 0:21:13.747071\n",
      "iterations: 327 | train_loss: 0.059000593 | validation_loss: 0.06713741 | Roc Score: 0.90728754 | Time elapsed: 0:21:17.718152\n",
      "iterations: 328 | train_loss: 0.056778222 | validation_loss: 0.063385 | Roc Score: 0.9075111 | Time elapsed: 0:21:21.660372\n",
      "iterations: 329 | train_loss: 0.083205275 | validation_loss: 0.06438204 | Roc Score: 0.90774053 | Time elapsed: 0:21:25.752289\n",
      "iterations: 330 | train_loss: 0.07659889 | validation_loss: 0.0702944 | Roc Score: 0.907939 | Time elapsed: 0:21:29.697553\n",
      "iterations: 331 | train_loss: 0.06395538 | validation_loss: 0.0663858 | Roc Score: 0.90815324 | Time elapsed: 0:21:33.686903\n",
      "iterations: 332 | train_loss: 0.059478816 | validation_loss: 0.061882783 | Roc Score: 0.9083863 | Time elapsed: 0:21:37.657392\n",
      "iterations: 333 | train_loss: 0.06225218 | validation_loss: 0.062897444 | Roc Score: 0.90860105 | Time elapsed: 0:21:41.621681\n",
      "iterations: 334 | train_loss: 0.054141764 | validation_loss: 0.06671957 | Roc Score: 0.908772 | Time elapsed: 0:21:45.562741\n",
      "iterations: 335 | train_loss: 0.08211294 | validation_loss: 0.064631686 | Roc Score: 0.9089628 | Time elapsed: 0:21:49.498611\n",
      "iterations: 336 | train_loss: 0.053614564 | validation_loss: 0.063614115 | Roc Score: 0.90916413 | Time elapsed: 0:21:53.507811\n",
      "iterations: 337 | train_loss: 0.049704194 | validation_loss: 0.06259906 | Roc Score: 0.9093758 | Time elapsed: 0:21:57.429027\n",
      "iterations: 338 | train_loss: 0.07451769 | validation_loss: 0.062426332 | Roc Score: 0.909596 | Time elapsed: 0:22:01.344667\n",
      "iterations: 339 | train_loss: 0.040648356 | validation_loss: 0.064141475 | Roc Score: 0.9098098 | Time elapsed: 0:22:05.318122\n",
      "iterations: 340 | train_loss: 0.062816255 | validation_loss: 0.0639123 | Roc Score: 0.91002715 | Time elapsed: 0:22:09.233361\n",
      "iterations: 341 | train_loss: 0.062407456 | validation_loss: 0.06254194 | Roc Score: 0.9102462 | Time elapsed: 0:22:13.136461\n",
      "iterations: 342 | train_loss: 0.06408309 | validation_loss: 0.062224902 | Roc Score: 0.9104677 | Time elapsed: 0:22:17.061104\n",
      "iterations: 343 | train_loss: 0.06473035 | validation_loss: 0.06283162 | Roc Score: 0.91068685 | Time elapsed: 0:22:20.950786\n",
      "iterations: 344 | train_loss: 0.05491281 | validation_loss: 0.06304154 | Roc Score: 0.9109048 | Time elapsed: 0:22:24.913899\n",
      "iterations: 345 | train_loss: 0.051821783 | validation_loss: 0.0632352 | Roc Score: 0.91112095 | Time elapsed: 0:22:28.821808\n",
      "iterations: 346 | train_loss: 0.06535621 | validation_loss: 0.06314674 | Roc Score: 0.91133547 | Time elapsed: 0:22:32.796085\n",
      "iterations: 347 | train_loss: 0.071078956 | validation_loss: 0.062423725 | Roc Score: 0.9115484 | Time elapsed: 0:22:36.727153\n",
      "iterations: 348 | train_loss: 0.066342905 | validation_loss: 0.06290307 | Roc Score: 0.9117567 | Time elapsed: 0:22:40.706947\n",
      "iterations: 349 | train_loss: 0.047157038 | validation_loss: 0.06410517 | Roc Score: 0.9119569 | Time elapsed: 0:22:44.661908\n",
      "iterations: 350 | train_loss: 0.060182948 | validation_loss: 0.063723065 | Roc Score: 0.91215295 | Time elapsed: 0:22:48.527526\n",
      "iterations: 351 | train_loss: 0.05163006 | validation_loss: 0.06354514 | Roc Score: 0.91234165 | Time elapsed: 0:22:52.482812\n",
      "iterations: 352 | train_loss: 0.06972505 | validation_loss: 0.06387041 | Roc Score: 0.91251814 | Time elapsed: 0:22:56.447325\n",
      "iterations: 353 | train_loss: 0.076489285 | validation_loss: 0.06244129 | Roc Score: 0.91270703 | Time elapsed: 0:23:00.416009\n",
      "iterations: 354 | train_loss: 0.06701272 | validation_loss: 0.06073185 | Roc Score: 0.9129159 | Time elapsed: 0:23:04.100723\n",
      "iterations: 355 | train_loss: 0.05136104 | validation_loss: 0.0598961 | Roc Score: 0.91313386 | Time elapsed: 0:23:07.994247\n",
      "iterations: 356 | train_loss: 0.045726094 | validation_loss: 0.059488613 | Roc Score: 0.9133547 | Time elapsed: 0:23:11.916769\n",
      "iterations: 357 | train_loss: 0.06881903 | validation_loss: 0.059468087 | Roc Score: 0.91357476 | Time elapsed: 0:23:15.826602\n",
      "iterations: 358 | train_loss: 0.051794972 | validation_loss: 0.059521258 | Roc Score: 0.913792 | Time elapsed: 0:23:19.805038\n",
      "iterations: 359 | train_loss: 0.032256063 | validation_loss: 0.060035918 | Roc Score: 0.91400427 | Time elapsed: 0:23:23.743434\n",
      "iterations: 360 | train_loss: 0.056335244 | validation_loss: 0.060395125 | Roc Score: 0.91421103 | Time elapsed: 0:23:27.661321\n",
      "iterations: 361 | train_loss: 0.061220672 | validation_loss: 0.060298044 | Roc Score: 0.914415 | Time elapsed: 0:23:31.563904\n",
      "iterations: 362 | train_loss: 0.05610341 | validation_loss: 0.05955529 | Roc Score: 0.9146194 | Time elapsed: 0:23:35.532562\n",
      "iterations: 363 | train_loss: 0.05676932 | validation_loss: 0.05977758 | Roc Score: 0.9148228 | Time elapsed: 0:23:39.470869\n",
      "iterations: 364 | train_loss: 0.06587499 | validation_loss: 0.059498824 | Roc Score: 0.91502583 | Time elapsed: 0:23:43.371086\n",
      "iterations: 365 | train_loss: 0.076734185 | validation_loss: 0.059535842 | Roc Score: 0.9152285 | Time elapsed: 0:23:47.206577\n",
      "iterations: 366 | train_loss: 0.049643133 | validation_loss: 0.0595499 | Roc Score: 0.91543 | Time elapsed: 0:23:51.078456\n",
      "iterations: 367 | train_loss: 0.0688715 | validation_loss: 0.059361324 | Roc Score: 0.91562897 | Time elapsed: 0:23:54.993201\n",
      "iterations: 368 | train_loss: 0.0390044 | validation_loss: 0.059396435 | Roc Score: 0.9158207 | Time elapsed: 0:23:58.844131\n",
      "iterations: 369 | train_loss: 0.04120758 | validation_loss: 0.0615778 | Roc Score: 0.9159881 | Time elapsed: 0:24:02.765698\n",
      "iterations: 370 | train_loss: 0.049835153 | validation_loss: 0.06513194 | Roc Score: 0.9161202 | Time elapsed: 0:24:06.618868\n",
      "iterations: 371 | train_loss: 0.063484825 | validation_loss: 0.065936774 | Roc Score: 0.9162399 | Time elapsed: 0:24:10.496668\n",
      "iterations: 372 | train_loss: 0.05909368 | validation_loss: 0.063441016 | Roc Score: 0.91638243 | Time elapsed: 0:24:14.411772\n",
      "iterations: 373 | train_loss: 0.08522885 | validation_loss: 0.06482675 | Roc Score: 0.91654426 | Time elapsed: 0:24:18.347066\n",
      "iterations: 374 | train_loss: 0.05232916 | validation_loss: 0.06798776 | Roc Score: 0.91670364 | Time elapsed: 0:24:22.162570\n",
      "iterations: 375 | train_loss: 0.056684423 | validation_loss: 0.066978194 | Roc Score: 0.91686386 | Time elapsed: 0:24:26.021905\n",
      "iterations: 376 | train_loss: 0.06626816 | validation_loss: 0.063360594 | Roc Score: 0.91702825 | Time elapsed: 0:24:29.863860\n",
      "iterations: 377 | train_loss: 0.06453603 | validation_loss: 0.061254434 | Roc Score: 0.9171991 | Time elapsed: 0:24:33.816742\n",
      "iterations: 378 | train_loss: 0.064373 | validation_loss: 0.060224224 | Roc Score: 0.91736656 | Time elapsed: 0:24:37.703646\n",
      "iterations: 379 | train_loss: 0.0489501 | validation_loss: 0.060281686 | Roc Score: 0.91753376 | Time elapsed: 0:24:41.584571\n",
      "iterations: 380 | train_loss: 0.045594234 | validation_loss: 0.061525375 | Roc Score: 0.917697 | Time elapsed: 0:24:45.473260\n",
      "iterations: 381 | train_loss: 0.06392814 | validation_loss: 0.06243388 | Roc Score: 0.9178557 | Time elapsed: 0:24:49.242996\n",
      "iterations: 382 | train_loss: 0.062167484 | validation_loss: 0.062177308 | Roc Score: 0.91801846 | Time elapsed: 0:24:52.947047\n",
      "iterations: 383 | train_loss: 0.050856955 | validation_loss: 0.062069435 | Roc Score: 0.91818446 | Time elapsed: 0:24:56.858840\n",
      "iterations: 384 | train_loss: 0.049273293 | validation_loss: 0.062367506 | Roc Score: 0.9183467 | Time elapsed: 0:25:00.740284\n",
      "iterations: 385 | train_loss: 0.06886857 | validation_loss: 0.062331088 | Roc Score: 0.91851 | Time elapsed: 0:25:04.630697\n",
      "iterations: 386 | train_loss: 0.052856628 | validation_loss: 0.06266837 | Roc Score: 0.91867185 | Time elapsed: 0:25:08.514148\n",
      "iterations: 387 | train_loss: 0.06908365 | validation_loss: 0.0621821 | Roc Score: 0.9188345 | Time elapsed: 0:25:12.380988\n",
      "iterations: 388 | train_loss: 0.053913496 | validation_loss: 0.06165192 | Roc Score: 0.91899586 | Time elapsed: 0:25:16.314477\n",
      "iterations: 389 | train_loss: 0.050678287 | validation_loss: 0.062195376 | Roc Score: 0.9191457 | Time elapsed: 0:25:20.169447\n"
     ]
    },
    {
     "name": "stdout",
     "output_type": "stream",
     "text": [
      "iterations: 390 | train_loss: 0.06463336 | validation_loss: 0.06245971 | Roc Score: 0.9192935 | Time elapsed: 0:25:24.052620\n",
      "iterations: 391 | train_loss: 0.05677504 | validation_loss: 0.06254329 | Roc Score: 0.9194458 | Time elapsed: 0:25:27.920749\n",
      "iterations: 392 | train_loss: 0.065096356 | validation_loss: 0.06381008 | Roc Score: 0.91959715 | Time elapsed: 0:25:31.793869\n",
      "iterations: 393 | train_loss: 0.058442783 | validation_loss: 0.06434444 | Roc Score: 0.91974413 | Time elapsed: 0:25:35.743225\n",
      "iterations: 394 | train_loss: 0.031687375 | validation_loss: 0.064067684 | Roc Score: 0.919879 | Time elapsed: 0:25:39.631775\n",
      "iterations: 395 | train_loss: 0.05874587 | validation_loss: 0.065500155 | Roc Score: 0.91998416 | Time elapsed: 0:25:43.480584\n",
      "iterations: 396 | train_loss: 0.050161395 | validation_loss: 0.066981964 | Roc Score: 0.92006904 | Time elapsed: 0:25:47.385251\n",
      "iterations: 397 | train_loss: 0.057954688 | validation_loss: 0.06477784 | Roc Score: 0.92018205 | Time elapsed: 0:25:51.301435\n",
      "iterations: 398 | train_loss: 0.06841917 | validation_loss: 0.06372599 | Roc Score: 0.9203154 | Time elapsed: 0:25:55.248129\n",
      "iterations: 399 | train_loss: 0.05962683 | validation_loss: 0.06280256 | Roc Score: 0.92046165 | Time elapsed: 0:25:59.136972\n",
      "iterations: 400 | train_loss: 0.06377113 | validation_loss: 0.0625856 | Roc Score: 0.9206155 | Time elapsed: 0:26:03.133628\n",
      "iterations: 401 | train_loss: 0.051536616 | validation_loss: 0.061507996 | Roc Score: 0.92077285 | Time elapsed: 0:26:07.039925\n",
      "iterations: 402 | train_loss: 0.06593633 | validation_loss: 0.059858885 | Roc Score: 0.9209321 | Time elapsed: 0:26:10.910233\n",
      "iterations: 403 | train_loss: 0.079813816 | validation_loss: 0.06041173 | Roc Score: 0.9210888 | Time elapsed: 0:26:14.825412\n",
      "iterations: 404 | train_loss: 0.05460534 | validation_loss: 0.060804237 | Roc Score: 0.92124325 | Time elapsed: 0:26:18.752082\n",
      "iterations: 405 | train_loss: 0.06643285 | validation_loss: 0.060766365 | Roc Score: 0.92139554 | Time elapsed: 0:26:22.610604\n",
      "iterations: 406 | train_loss: 0.03945185 | validation_loss: 0.060880575 | Roc Score: 0.9215473 | Time elapsed: 0:26:26.499032\n",
      "iterations: 407 | train_loss: 0.054229412 | validation_loss: 0.06023319 | Roc Score: 0.92169994 | Time elapsed: 0:26:30.380537\n",
      "iterations: 408 | train_loss: 0.061095085 | validation_loss: 0.059557065 | Roc Score: 0.92185247 | Time elapsed: 0:26:34.257328\n",
      "iterations: 409 | train_loss: 0.04227431 | validation_loss: 0.05983906 | Roc Score: 0.9219963 | Time elapsed: 0:26:38.150999\n",
      "iterations: 410 | train_loss: 0.056370348 | validation_loss: 0.060426176 | Roc Score: 0.92213225 | Time elapsed: 0:26:42.003971\n",
      "iterations: 411 | train_loss: 0.046188097 | validation_loss: 0.06132483 | Roc Score: 0.92225844 | Time elapsed: 0:26:45.914120\n",
      "iterations: 412 | train_loss: 0.06266873 | validation_loss: 0.06103433 | Roc Score: 0.9223896 | Time elapsed: 0:26:49.947857\n",
      "iterations: 413 | train_loss: 0.06590246 | validation_loss: 0.060466755 | Roc Score: 0.92252666 | Time elapsed: 0:26:53.853941\n",
      "iterations: 414 | train_loss: 0.063148916 | validation_loss: 0.060687546 | Roc Score: 0.9226636 | Time elapsed: 0:26:57.775394\n",
      "iterations: 415 | train_loss: 0.05016299 | validation_loss: 0.06115305 | Roc Score: 0.9227986 | Time elapsed: 0:27:01.738030\n",
      "iterations: 416 | train_loss: 0.046841934 | validation_loss: 0.06149832 | Roc Score: 0.9229323 | Time elapsed: 0:27:05.692142\n",
      "iterations: 417 | train_loss: 0.053305585 | validation_loss: 0.06210283 | Roc Score: 0.9230657 | Time elapsed: 0:27:09.548058\n",
      "iterations: 418 | train_loss: 0.08704387 | validation_loss: 0.062009603 | Roc Score: 0.9231974 | Time elapsed: 0:27:13.462673\n",
      "iterations: 419 | train_loss: 0.066941686 | validation_loss: 0.06210043 | Roc Score: 0.92333066 | Time elapsed: 0:27:17.378603\n",
      "iterations: 420 | train_loss: 0.054432373 | validation_loss: 0.06120623 | Roc Score: 0.92346275 | Time elapsed: 0:27:21.300268\n",
      "iterations: 421 | train_loss: 0.07409313 | validation_loss: 0.06062916 | Roc Score: 0.9235952 | Time elapsed: 0:27:25.164615\n",
      "iterations: 422 | train_loss: 0.041230142 | validation_loss: 0.06156441 | Roc Score: 0.9237244 | Time elapsed: 0:27:29.033242\n",
      "iterations: 423 | train_loss: 0.055032678 | validation_loss: 0.06656663 | Roc Score: 0.9238402 | Time elapsed: 0:27:32.917972\n",
      "iterations: 424 | train_loss: 0.03697758 | validation_loss: 0.06580413 | Roc Score: 0.92394334 | Time elapsed: 0:27:36.850160\n",
      "iterations: 425 | train_loss: 0.045541476 | validation_loss: 0.066083476 | Roc Score: 0.9240398 | Time elapsed: 0:27:40.729095\n",
      "iterations: 426 | train_loss: 0.064283535 | validation_loss: 0.063012026 | Roc Score: 0.92415667 | Time elapsed: 0:27:44.616183\n",
      "iterations: 427 | train_loss: 0.07236677 | validation_loss: 0.059631415 | Roc Score: 0.92428935 | Time elapsed: 0:27:48.552527\n",
      "iterations: 428 | train_loss: 0.060972393 | validation_loss: 0.060962528 | Roc Score: 0.9244206 | Time elapsed: 0:27:52.441783\n",
      "iterations: 429 | train_loss: 0.06296365 | validation_loss: 0.063049406 | Roc Score: 0.9245449 | Time elapsed: 0:27:56.278862\n",
      "iterations: 430 | train_loss: 0.054979388 | validation_loss: 0.06071826 | Roc Score: 0.9246763 | Time elapsed: 0:28:00.138372\n",
      "iterations: 431 | train_loss: 0.061884154 | validation_loss: 0.059008952 | Roc Score: 0.92480916 | Time elapsed: 0:28:04.058641\n",
      "iterations: 432 | train_loss: 0.08280098 | validation_loss: 0.060887095 | Roc Score: 0.92492145 | Time elapsed: 0:28:07.966456\n",
      "iterations: 433 | train_loss: 0.0599283 | validation_loss: 0.062577456 | Roc Score: 0.9250236 | Time elapsed: 0:28:11.861550\n",
      "iterations: 434 | train_loss: 0.048747335 | validation_loss: 0.06235388 | Roc Score: 0.92512476 | Time elapsed: 0:28:15.798757\n",
      "iterations: 435 | train_loss: 0.045456782 | validation_loss: 0.06016335 | Roc Score: 0.9252404 | Time elapsed: 0:28:19.737150\n",
      "iterations: 436 | train_loss: 0.06964203 | validation_loss: 0.059972394 | Roc Score: 0.92537475 | Time elapsed: 0:28:23.596792\n",
      "iterations: 437 | train_loss: 0.054758135 | validation_loss: 0.06550815 | Roc Score: 0.925493 | Time elapsed: 0:28:27.488478\n",
      "iterations: 438 | train_loss: 0.068097435 | validation_loss: 0.06485054 | Roc Score: 0.9256126 | Time elapsed: 0:28:31.339820\n",
      "iterations: 439 | train_loss: 0.044669215 | validation_loss: 0.0597544 | Roc Score: 0.92574334 | Time elapsed: 0:28:35.296529\n",
      "iterations: 440 | train_loss: 0.042299267 | validation_loss: 0.060623467 | Roc Score: 0.9258558 | Time elapsed: 0:28:39.257497\n",
      "iterations: 441 | train_loss: 0.047607183 | validation_loss: 0.062758155 | Roc Score: 0.92594945 | Time elapsed: 0:28:43.160619\n",
      "iterations: 442 | train_loss: 0.0561121 | validation_loss: 0.06346201 | Roc Score: 0.9260397 | Time elapsed: 0:28:47.036850\n",
      "iterations: 443 | train_loss: 0.045154992 | validation_loss: 0.0633231 | Roc Score: 0.92614114 | Time elapsed: 0:28:50.933037\n",
      "iterations: 444 | train_loss: 0.07900677 | validation_loss: 0.063717075 | Roc Score: 0.9262462 | Time elapsed: 0:28:54.770405\n",
      "iterations: 445 | train_loss: 0.073865786 | validation_loss: 0.063676044 | Roc Score: 0.92635685 | Time elapsed: 0:28:58.715303\n",
      "iterations: 446 | train_loss: 0.061418757 | validation_loss: 0.06237165 | Roc Score: 0.9264757 | Time elapsed: 0:29:02.556931\n",
      "iterations: 447 | train_loss: 0.04869338 | validation_loss: 0.06153917 | Roc Score: 0.9265964 | Time elapsed: 0:29:06.465899\n",
      "iterations: 448 | train_loss: 0.053189877 | validation_loss: 0.063273415 | Roc Score: 0.92671126 | Time elapsed: 0:29:10.435595\n",
      "iterations: 449 | train_loss: 0.05994551 | validation_loss: 0.06355888 | Roc Score: 0.9268254 | Time elapsed: 0:29:14.053693\n",
      "iterations: 450 | train_loss: 0.050568853 | validation_loss: 0.06236514 | Roc Score: 0.9269416 | Time elapsed: 0:29:17.908266\n",
      "iterations: 451 | train_loss: 0.04236021 | validation_loss: 0.06138534 | Roc Score: 0.9270607 | Time elapsed: 0:29:21.764853\n",
      "iterations: 452 | train_loss: 0.033075605 | validation_loss: 0.06083073 | Roc Score: 0.9271795 | Time elapsed: 0:29:25.676155\n",
      "iterations: 453 | train_loss: 0.07352508 | validation_loss: 0.06076331 | Roc Score: 0.92729855 | Time elapsed: 0:29:29.580381\n",
      "iterations: 454 | train_loss: 0.076378234 | validation_loss: 0.062033296 | Roc Score: 0.927414 | Time elapsed: 0:29:33.495669\n",
      "iterations: 455 | train_loss: 0.05231529 | validation_loss: 0.06261621 | Roc Score: 0.9275248 | Time elapsed: 0:29:37.475618\n",
      "iterations: 456 | train_loss: 0.04660709 | validation_loss: 0.061361615 | Roc Score: 0.9276346 | Time elapsed: 0:29:41.351326\n",
      "iterations: 457 | train_loss: 0.053569894 | validation_loss: 0.06131956 | Roc Score: 0.92773443 | Time elapsed: 0:29:45.251246\n",
      "iterations: 458 | train_loss: 0.056248028 | validation_loss: 0.062062692 | Roc Score: 0.9278277 | Time elapsed: 0:29:49.128464\n",
      "iterations: 459 | train_loss: 0.048682455 | validation_loss: 0.062432326 | Roc Score: 0.9279141 | Time elapsed: 0:29:52.971226\n",
      "iterations: 460 | train_loss: 0.072491266 | validation_loss: 0.06159523 | Roc Score: 0.92800426 | Time elapsed: 0:29:56.819766\n",
      "iterations: 461 | train_loss: 0.08256084 | validation_loss: 0.05939164 | Roc Score: 0.9281152 | Time elapsed: 0:30:00.733441\n",
      "iterations: 462 | train_loss: 0.06177751 | validation_loss: 0.059043642 | Roc Score: 0.9282369 | Time elapsed: 0:30:04.626142\n",
      "iterations: 463 | train_loss: 0.056614175 | validation_loss: 0.059492815 | Roc Score: 0.92835677 | Time elapsed: 0:30:08.568032\n",
      "iterations: 464 | train_loss: 0.06253417 | validation_loss: 0.059700396 | Roc Score: 0.9284739 | Time elapsed: 0:30:12.507447\n",
      "iterations: 465 | train_loss: 0.054949634 | validation_loss: 0.059621233 | Roc Score: 0.92858905 | Time elapsed: 0:30:16.367655\n",
      "iterations: 466 | train_loss: 0.05252621 | validation_loss: 0.060468964 | Roc Score: 0.9286976 | Time elapsed: 0:30:20.134544\n",
      "iterations: 467 | train_loss: 0.05373852 | validation_loss: 0.062112276 | Roc Score: 0.9287949 | Time elapsed: 0:30:24.001234\n"
     ]
    },
    {
     "name": "stdout",
     "output_type": "stream",
     "text": [
      "iterations: 468 | train_loss: 0.043502286 | validation_loss: 0.06390579 | Roc Score: 0.9288763 | Time elapsed: 0:30:27.900109\n",
      "iterations: 469 | train_loss: 0.051862873 | validation_loss: 0.06353869 | Roc Score: 0.92895603 | Time elapsed: 0:30:31.813968\n",
      "iterations: 470 | train_loss: 0.102879845 | validation_loss: 0.06094921 | Roc Score: 0.9290622 | Time elapsed: 0:30:35.726240\n",
      "iterations: 471 | train_loss: 0.05869355 | validation_loss: 0.06255513 | Roc Score: 0.92916787 | Time elapsed: 0:30:39.638893\n",
      "iterations: 472 | train_loss: 0.09040692 | validation_loss: 0.06416606 | Roc Score: 0.9292696 | Time elapsed: 0:30:43.606057\n",
      "iterations: 473 | train_loss: 0.054755427 | validation_loss: 0.061565097 | Roc Score: 0.9293762 | Time elapsed: 0:30:47.464413\n",
      "iterations: 474 | train_loss: 0.04609369 | validation_loss: 0.059552003 | Roc Score: 0.9294803 | Time elapsed: 0:30:51.344439\n",
      "iterations: 475 | train_loss: 0.059608992 | validation_loss: 0.06282205 | Roc Score: 0.9295574 | Time elapsed: 0:30:55.260750\n",
      "iterations: 476 | train_loss: 0.049299803 | validation_loss: 0.06794502 | Roc Score: 0.92961186 | Time elapsed: 0:30:59.234872\n",
      "iterations: 477 | train_loss: 0.05109838 | validation_loss: 0.06612928 | Roc Score: 0.92967045 | Time elapsed: 0:31:03.014644\n",
      "iterations: 478 | train_loss: 0.065821685 | validation_loss: 0.060551643 | Roc Score: 0.92975736 | Time elapsed: 0:31:06.917418\n",
      "iterations: 479 | train_loss: 0.043529052 | validation_loss: 0.05879595 | Roc Score: 0.9298583 | Time elapsed: 0:31:10.761586\n",
      "iterations: 480 | train_loss: 0.0333474 | validation_loss: 0.058595594 | Roc Score: 0.92996174 | Time elapsed: 0:31:14.664036\n",
      "iterations: 481 | train_loss: 0.038059935 | validation_loss: 0.058856893 | Roc Score: 0.9300674 | Time elapsed: 0:31:18.579882\n",
      "iterations: 482 | train_loss: 0.047391262 | validation_loss: 0.058213215 | Roc Score: 0.93017393 | Time elapsed: 0:31:22.480085\n",
      "iterations: 483 | train_loss: 0.05223189 | validation_loss: 0.05823512 | Roc Score: 0.9302802 | Time elapsed: 0:31:26.404594\n",
      "iterations: 484 | train_loss: 0.028015416 | validation_loss: 0.05799894 | Roc Score: 0.9303865 | Time elapsed: 0:31:30.303940\n",
      "iterations: 485 | train_loss: 0.05735087 | validation_loss: 0.05860349 | Roc Score: 0.93048817 | Time elapsed: 0:31:34.219268\n",
      "iterations: 486 | train_loss: 0.06752524 | validation_loss: 0.060378216 | Roc Score: 0.9305774 | Time elapsed: 0:31:38.120827\n",
      "iterations: 487 | train_loss: 0.07012575 | validation_loss: 0.06214508 | Roc Score: 0.93065345 | Time elapsed: 0:31:42.042917\n",
      "iterations: 488 | train_loss: 0.06686612 | validation_loss: 0.062113203 | Roc Score: 0.9307292 | Time elapsed: 0:31:45.987863\n",
      "iterations: 489 | train_loss: 0.06248759 | validation_loss: 0.061573327 | Roc Score: 0.93080866 | Time elapsed: 0:31:49.887734\n",
      "iterations: 490 | train_loss: 0.04699914 | validation_loss: 0.059598643 | Roc Score: 0.9309032 | Time elapsed: 0:31:53.408206\n",
      "iterations: 491 | train_loss: 0.03179702 | validation_loss: 0.059783738 | Roc Score: 0.9310022 | Time elapsed: 0:31:57.390119\n",
      "iterations: 492 | train_loss: 0.057976082 | validation_loss: 0.062125612 | Roc Score: 0.93109435 | Time elapsed: 0:32:01.338718\n",
      "iterations: 493 | train_loss: 0.06931403 | validation_loss: 0.0633897 | Roc Score: 0.9311839 | Time elapsed: 0:32:05.261202\n",
      "iterations: 494 | train_loss: 0.06943211 | validation_loss: 0.063252434 | Roc Score: 0.93127346 | Time elapsed: 0:32:09.180349\n",
      "iterations: 495 | train_loss: 0.0644522 | validation_loss: 0.059566908 | Roc Score: 0.93137324 | Time elapsed: 0:32:13.073198\n",
      "iterations: 496 | train_loss: 0.07463096 | validation_loss: 0.05956103 | Roc Score: 0.9314739 | Time elapsed: 0:32:16.961543\n",
      "iterations: 497 | train_loss: 0.06639918 | validation_loss: 0.059875038 | Roc Score: 0.93157285 | Time elapsed: 0:32:20.901282\n",
      "iterations: 498 | train_loss: 0.060726803 | validation_loss: 0.059980683 | Roc Score: 0.9316686 | Time elapsed: 0:32:24.755555\n",
      "iterations: 499 | train_loss: 0.035693087 | validation_loss: 0.059592854 | Roc Score: 0.9317654 | Time elapsed: 0:32:28.685427\n",
      "iterations: 500 | train_loss: 0.04565382 | validation_loss: 0.059117347 | Roc Score: 0.9318616 | Time elapsed: 0:32:32.625998\n",
      "iterations: 501 | train_loss: 0.03954447 | validation_loss: 0.059029542 | Roc Score: 0.9319542 | Time elapsed: 0:32:36.478647\n",
      "iterations: 502 | train_loss: 0.05596391 | validation_loss: 0.059157692 | Roc Score: 0.93204373 | Time elapsed: 0:32:40.391746\n",
      "iterations: 503 | train_loss: 0.046100207 | validation_loss: 0.059613544 | Roc Score: 0.93213135 | Time elapsed: 0:32:44.286148\n",
      "iterations: 504 | train_loss: 0.0534254 | validation_loss: 0.05985137 | Roc Score: 0.93221784 | Time elapsed: 0:32:48.222914\n",
      "iterations: 505 | train_loss: 0.05188738 | validation_loss: 0.059613317 | Roc Score: 0.9323052 | Time elapsed: 0:32:52.143300\n",
      "iterations: 506 | train_loss: 0.020807896 | validation_loss: 0.059925105 | Roc Score: 0.9323877 | Time elapsed: 0:32:56.019011\n",
      "iterations: 507 | train_loss: 0.05879083 | validation_loss: 0.060183972 | Roc Score: 0.93246955 | Time elapsed: 0:32:59.895605\n",
      "iterations: 508 | train_loss: 0.060709 | validation_loss: 0.05999382 | Roc Score: 0.9325523 | Time elapsed: 0:33:03.751922\n",
      "iterations: 509 | train_loss: 0.055034492 | validation_loss: 0.059225988 | Roc Score: 0.9326424 | Time elapsed: 0:33:07.652003\n",
      "iterations: 510 | train_loss: 0.04787683 | validation_loss: 0.058810312 | Roc Score: 0.9327338 | Time elapsed: 0:33:11.604737\n",
      "iterations: 511 | train_loss: 0.03299042 | validation_loss: 0.058691233 | Roc Score: 0.9328243 | Time elapsed: 0:33:15.464756\n",
      "iterations: 512 | train_loss: 0.069611244 | validation_loss: 0.058716834 | Roc Score: 0.93291503 | Time elapsed: 0:33:19.377152\n",
      "iterations: 513 | train_loss: 0.06046039 | validation_loss: 0.059359454 | Roc Score: 0.93300223 | Time elapsed: 0:33:23.263135\n",
      "iterations: 514 | train_loss: 0.041650128 | validation_loss: 0.059574164 | Roc Score: 0.93308794 | Time elapsed: 0:33:27.204250\n",
      "iterations: 515 | train_loss: 0.06762047 | validation_loss: 0.058603376 | Roc Score: 0.9331791 | Time elapsed: 0:33:31.105500\n",
      "iterations: 516 | train_loss: 0.0740278 | validation_loss: 0.05895227 | Roc Score: 0.9332705 | Time elapsed: 0:33:35.024903\n",
      "iterations: 517 | train_loss: 0.08532765 | validation_loss: 0.061932366 | Roc Score: 0.9333568 | Time elapsed: 0:33:38.941163\n",
      "iterations: 518 | train_loss: 0.06495883 | validation_loss: 0.061808772 | Roc Score: 0.9334436 | Time elapsed: 0:33:42.864870\n",
      "iterations: 519 | train_loss: 0.057488702 | validation_loss: 0.05997919 | Roc Score: 0.93353206 | Time elapsed: 0:33:46.653048\n",
      "iterations: 520 | train_loss: 0.030714817 | validation_loss: 0.059260454 | Roc Score: 0.933614 | Time elapsed: 0:33:50.558562\n",
      "iterations: 521 | train_loss: 0.04690762 | validation_loss: 0.06258398 | Roc Score: 0.93367624 | Time elapsed: 0:33:54.449881\n",
      "iterations: 522 | train_loss: 0.071415536 | validation_loss: 0.063007906 | Roc Score: 0.9337356 | Time elapsed: 0:33:58.410888\n",
      "iterations: 523 | train_loss: 0.04357105 | validation_loss: 0.061762694 | Roc Score: 0.9337996 | Time elapsed: 0:34:02.186301\n",
      "iterations: 524 | train_loss: 0.067566864 | validation_loss: 0.06090993 | Roc Score: 0.93386495 | Time elapsed: 0:34:06.099541\n",
      "iterations: 525 | train_loss: 0.06835981 | validation_loss: 0.05953584 | Roc Score: 0.9339389 | Time elapsed: 0:34:09.975747\n",
      "iterations: 526 | train_loss: 0.06523201 | validation_loss: 0.05969035 | Roc Score: 0.93401855 | Time elapsed: 0:34:13.899400\n",
      "iterations: 527 | train_loss: 0.057305977 | validation_loss: 0.06094635 | Roc Score: 0.9341033 | Time elapsed: 0:34:17.816290\n",
      "iterations: 528 | train_loss: 0.04619718 | validation_loss: 0.06055937 | Roc Score: 0.9341889 | Time elapsed: 0:34:21.679410\n",
      "iterations: 529 | train_loss: 0.059192244 | validation_loss: 0.059539445 | Roc Score: 0.9342753 | Time elapsed: 0:34:25.590628\n",
      "iterations: 530 | train_loss: 0.048174992 | validation_loss: 0.05874443 | Roc Score: 0.9343628 | Time elapsed: 0:34:29.521124\n",
      "iterations: 531 | train_loss: 0.057535615 | validation_loss: 0.0582985 | Roc Score: 0.93444866 | Time elapsed: 0:34:33.402015\n",
      "iterations: 532 | train_loss: 0.06420345 | validation_loss: 0.058114573 | Roc Score: 0.93453336 | Time elapsed: 0:34:37.253868\n",
      "iterations: 533 | train_loss: 0.06525804 | validation_loss: 0.057867486 | Roc Score: 0.9346198 | Time elapsed: 0:34:41.128968\n",
      "iterations: 534 | train_loss: 0.043288484 | validation_loss: 0.05780588 | Roc Score: 0.9347037 | Time elapsed: 0:34:45.081300\n",
      "iterations: 535 | train_loss: 0.06344659 | validation_loss: 0.05838342 | Roc Score: 0.9347859 | Time elapsed: 0:34:48.956966\n",
      "iterations: 536 | train_loss: 0.048597414 | validation_loss: 0.058569737 | Roc Score: 0.9348626 | Time elapsed: 0:34:52.857945\n",
      "iterations: 537 | train_loss: 0.06937272 | validation_loss: 0.05653614 | Roc Score: 0.93495107 | Time elapsed: 0:34:56.765784\n",
      "iterations: 538 | train_loss: 0.05143379 | validation_loss: 0.05808461 | Roc Score: 0.93503827 | Time elapsed: 0:35:00.604915\n",
      "iterations: 539 | train_loss: 0.059240982 | validation_loss: 0.060253143 | Roc Score: 0.9351223 | Time elapsed: 0:35:04.455862\n",
      "iterations: 540 | train_loss: 0.057712942 | validation_loss: 0.060289986 | Roc Score: 0.9352047 | Time elapsed: 0:35:08.359942\n",
      "iterations: 541 | train_loss: 0.038815085 | validation_loss: 0.057923988 | Roc Score: 0.9352883 | Time elapsed: 0:35:12.225795\n",
      "iterations: 542 | train_loss: 0.04974091 | validation_loss: 0.057479262 | Roc Score: 0.9353694 | Time elapsed: 0:35:16.108467\n",
      "iterations: 543 | train_loss: 0.05817013 | validation_loss: 0.057614956 | Roc Score: 0.93544966 | Time elapsed: 0:35:20.020427\n",
      "iterations: 544 | train_loss: 0.05165207 | validation_loss: 0.057570513 | Roc Score: 0.9355312 | Time elapsed: 0:35:23.893978\n",
      "iterations: 545 | train_loss: 0.05058553 | validation_loss: 0.05769111 | Roc Score: 0.93561333 | Time elapsed: 0:35:27.781631\n"
     ]
    },
    {
     "name": "stdout",
     "output_type": "stream",
     "text": [
      "iterations: 546 | train_loss: 0.04265604 | validation_loss: 0.057993893 | Roc Score: 0.93569416 | Time elapsed: 0:35:31.666107\n",
      "iterations: 547 | train_loss: 0.05208165 | validation_loss: 0.058019307 | Roc Score: 0.9357735 | Time elapsed: 0:35:35.550176\n",
      "iterations: 548 | train_loss: 0.051308274 | validation_loss: 0.057644527 | Roc Score: 0.9358533 | Time elapsed: 0:35:39.451775\n",
      "iterations: 549 | train_loss: 0.06948721 | validation_loss: 0.05728414 | Roc Score: 0.93593353 | Time elapsed: 0:35:43.359881\n",
      "iterations: 550 | train_loss: 0.07129767 | validation_loss: 0.057987154 | Roc Score: 0.936015 | Time elapsed: 0:35:47.259097\n",
      "iterations: 551 | train_loss: 0.053227793 | validation_loss: 0.058275204 | Roc Score: 0.93609524 | Time elapsed: 0:35:51.140155\n",
      "iterations: 552 | train_loss: 0.050632246 | validation_loss: 0.05746091 | Roc Score: 0.9361719 | Time elapsed: 0:35:55.058985\n",
      "iterations: 553 | train_loss: 0.052856207 | validation_loss: 0.057088476 | Roc Score: 0.9362452 | Time elapsed: 0:35:58.993764\n",
      "iterations: 554 | train_loss: 0.05251931 | validation_loss: 0.057990506 | Roc Score: 0.9363107 | Time elapsed: 0:36:02.943401\n",
      "iterations: 555 | train_loss: 0.04341196 | validation_loss: 0.05975951 | Roc Score: 0.9363667 | Time elapsed: 0:36:06.875624\n",
      "iterations: 556 | train_loss: 0.075620085 | validation_loss: 0.058716465 | Roc Score: 0.93643117 | Time elapsed: 0:36:10.785541\n",
      "iterations: 557 | train_loss: 0.034801364 | validation_loss: 0.05831993 | Roc Score: 0.9365016 | Time elapsed: 0:36:14.649045\n",
      "iterations: 558 | train_loss: 0.065549895 | validation_loss: 0.05827908 | Roc Score: 0.9365733 | Time elapsed: 0:36:18.531585\n",
      "iterations: 559 | train_loss: 0.06858429 | validation_loss: 0.058161173 | Roc Score: 0.9366474 | Time elapsed: 0:36:22.298795\n",
      "iterations: 560 | train_loss: 0.034914415 | validation_loss: 0.05827693 | Roc Score: 0.93672335 | Time elapsed: 0:36:26.173170\n",
      "iterations: 561 | train_loss: 0.040464 | validation_loss: 0.05855216 | Roc Score: 0.936798 | Time elapsed: 0:36:30.082531\n",
      "iterations: 562 | train_loss: 0.06606831 | validation_loss: 0.058662146 | Roc Score: 0.9368732 | Time elapsed: 0:36:33.980066\n",
      "iterations: 563 | train_loss: 0.056254074 | validation_loss: 0.059031855 | Roc Score: 0.9369473 | Time elapsed: 0:36:37.861317\n",
      "iterations: 564 | train_loss: 0.044513155 | validation_loss: 0.059074994 | Roc Score: 0.93702096 | Time elapsed: 0:36:41.716000\n",
      "iterations: 565 | train_loss: 0.05876677 | validation_loss: 0.059462395 | Roc Score: 0.9370915 | Time elapsed: 0:36:45.332264\n",
      "iterations: 566 | train_loss: 0.04309697 | validation_loss: 0.060968373 | Roc Score: 0.9371545 | Time elapsed: 0:36:49.256867\n",
      "iterations: 567 | train_loss: 0.0772522 | validation_loss: 0.060254782 | Roc Score: 0.9372199 | Time elapsed: 0:36:53.167051\n",
      "iterations: 568 | train_loss: 0.06443179 | validation_loss: 0.058314588 | Roc Score: 0.93729275 | Time elapsed: 0:36:57.095310\n",
      "iterations: 569 | train_loss: 0.03856415 | validation_loss: 0.058016993 | Roc Score: 0.9373664 | Time elapsed: 0:37:01.047092\n",
      "iterations: 570 | train_loss: 0.061210535 | validation_loss: 0.0588632 | Roc Score: 0.93743944 | Time elapsed: 0:37:04.968740\n",
      "iterations: 571 | train_loss: 0.04663535 | validation_loss: 0.06008837 | Roc Score: 0.93751127 | Time elapsed: 0:37:08.872605\n",
      "iterations: 572 | train_loss: 0.056785986 | validation_loss: 0.060088288 | Roc Score: 0.937582 | Time elapsed: 0:37:12.742382\n",
      "iterations: 573 | train_loss: 0.045097563 | validation_loss: 0.059905276 | Roc Score: 0.9376485 | Time elapsed: 0:37:16.658990\n",
      "iterations: 574 | train_loss: 0.06199571 | validation_loss: 0.06046443 | Roc Score: 0.9377019 | Time elapsed: 0:37:20.616852\n",
      "iterations: 575 | train_loss: 0.057335116 | validation_loss: 0.06357481 | Roc Score: 0.9377416 | Time elapsed: 0:37:24.382063\n",
      "iterations: 576 | train_loss: 0.054329522 | validation_loss: 0.06407815 | Roc Score: 0.9377799 | Time elapsed: 0:37:28.294395\n",
      "iterations: 577 | train_loss: 0.084931456 | validation_loss: 0.060288 | Roc Score: 0.9378333 | Time elapsed: 0:37:32.175892\n",
      "iterations: 578 | train_loss: 0.079844415 | validation_loss: 0.05802493 | Roc Score: 0.93790394 | Time elapsed: 0:37:36.044399\n",
      "iterations: 579 | train_loss: 0.050120905 | validation_loss: 0.05843744 | Roc Score: 0.9379756 | Time elapsed: 0:37:39.933721\n",
      "iterations: 580 | train_loss: 0.06708985 | validation_loss: 0.059564613 | Roc Score: 0.93804437 | Time elapsed: 0:37:43.850370\n",
      "iterations: 581 | train_loss: 0.067695044 | validation_loss: 0.062276386 | Roc Score: 0.9381063 | Time elapsed: 0:37:47.810034\n",
      "iterations: 582 | train_loss: 0.059101745 | validation_loss: 0.06097976 | Roc Score: 0.9381721 | Time elapsed: 0:37:51.704018\n",
      "iterations: 583 | train_loss: 0.06183347 | validation_loss: 0.059632283 | Roc Score: 0.9382414 | Time elapsed: 0:37:55.581777\n",
      "iterations: 584 | train_loss: 0.05808816 | validation_loss: 0.05726606 | Roc Score: 0.93831563 | Time elapsed: 0:37:59.509652\n",
      "iterations: 585 | train_loss: 0.06735383 | validation_loss: 0.0582138 | Roc Score: 0.9383813 | Time elapsed: 0:38:03.435799\n",
      "iterations: 586 | train_loss: 0.055267066 | validation_loss: 0.06120535 | Roc Score: 0.93842995 | Time elapsed: 0:38:07.366259\n",
      "iterations: 587 | train_loss: 0.041693483 | validation_loss: 0.06406065 | Roc Score: 0.9384668 | Time elapsed: 0:38:11.301157\n",
      "iterations: 588 | train_loss: 0.04426528 | validation_loss: 0.06535942 | Roc Score: 0.9384972 | Time elapsed: 0:38:15.193986\n",
      "iterations: 589 | train_loss: 0.06594356 | validation_loss: 0.06300517 | Roc Score: 0.938533 | Time elapsed: 0:38:19.063839\n",
      "iterations: 590 | train_loss: 0.055306982 | validation_loss: 0.060401734 | Roc Score: 0.93857884 | Time elapsed: 0:38:23.029214\n",
      "iterations: 591 | train_loss: 0.034504414 | validation_loss: 0.060295418 | Roc Score: 0.938633 | Time elapsed: 0:38:26.880890\n",
      "iterations: 592 | train_loss: 0.027477238 | validation_loss: 0.062598616 | Roc Score: 0.9386912 | Time elapsed: 0:38:30.736800\n",
      "iterations: 593 | train_loss: 0.06422197 | validation_loss: 0.06494148 | Roc Score: 0.93874997 | Time elapsed: 0:38:34.647392\n",
      "iterations: 594 | train_loss: 0.061090413 | validation_loss: 0.06447263 | Roc Score: 0.93880904 | Time elapsed: 0:38:38.533795\n",
      "iterations: 595 | train_loss: 0.064515956 | validation_loss: 0.061051648 | Roc Score: 0.9388667 | Time elapsed: 0:38:42.454884\n",
      "iterations: 596 | train_loss: 0.05563672 | validation_loss: 0.060478915 | Roc Score: 0.9389173 | Time elapsed: 0:38:46.358614\n",
      "iterations: 597 | train_loss: 0.04520776 | validation_loss: 0.063048854 | Roc Score: 0.9389547 | Time elapsed: 0:38:50.209217\n",
      "iterations: 598 | train_loss: 0.045699086 | validation_loss: 0.063694544 | Roc Score: 0.93899155 | Time elapsed: 0:38:54.132284\n",
      "iterations: 599 | train_loss: 0.07321286 | validation_loss: 0.06113925 | Roc Score: 0.93904483 | Time elapsed: 0:38:58.017110\n",
      "iterations: 600 | train_loss: 0.057393532 | validation_loss: 0.05876935 | Roc Score: 0.93910867 | Time elapsed: 0:39:01.858639\n",
      "iterations: 601 | train_loss: 0.05212035 | validation_loss: 0.059103783 | Roc Score: 0.93917596 | Time elapsed: 0:39:05.726938\n",
      "iterations: 602 | train_loss: 0.04705877 | validation_loss: 0.06113575 | Roc Score: 0.93923974 | Time elapsed: 0:39:09.589687\n",
      "iterations: 603 | train_loss: 0.040746875 | validation_loss: 0.061149877 | Roc Score: 0.93930256 | Time elapsed: 0:39:13.424180\n",
      "iterations: 604 | train_loss: 0.070651725 | validation_loss: 0.059674513 | Roc Score: 0.93936837 | Time elapsed: 0:39:17.291350\n",
      "iterations: 605 | train_loss: 0.041628473 | validation_loss: 0.057935264 | Roc Score: 0.9394363 | Time elapsed: 0:39:21.262891\n",
      "iterations: 606 | train_loss: 0.068012215 | validation_loss: 0.058898248 | Roc Score: 0.9395022 | Time elapsed: 0:39:25.161383\n",
      "iterations: 607 | train_loss: 0.042739064 | validation_loss: 0.062463038 | Roc Score: 0.9395478 | Time elapsed: 0:39:29.114035\n",
      "iterations: 608 | train_loss: 0.035834584 | validation_loss: 0.06833468 | Roc Score: 0.9395761 | Time elapsed: 0:39:33.043305\n",
      "iterations: 609 | train_loss: 0.07474653 | validation_loss: 0.065368734 | Roc Score: 0.93961364 | Time elapsed: 0:39:36.797748\n",
      "iterations: 610 | train_loss: 0.053036913 | validation_loss: 0.061873928 | Roc Score: 0.93966526 | Time elapsed: 0:39:40.689079\n",
      "iterations: 611 | train_loss: 0.055163052 | validation_loss: 0.058419928 | Roc Score: 0.9397305 | Time elapsed: 0:39:44.530066\n",
      "iterations: 612 | train_loss: 0.059474695 | validation_loss: 0.05788251 | Roc Score: 0.93979794 | Time elapsed: 0:39:48.442845\n",
      "iterations: 613 | train_loss: 0.037704244 | validation_loss: 0.05879931 | Roc Score: 0.9398626 | Time elapsed: 0:39:52.321123\n",
      "iterations: 614 | train_loss: 0.06135882 | validation_loss: 0.05910511 | Roc Score: 0.93992645 | Time elapsed: 0:39:56.230452\n",
      "iterations: 615 | train_loss: 0.069330774 | validation_loss: 0.05830985 | Roc Score: 0.9399912 | Time elapsed: 0:40:00.137689\n",
      "iterations: 616 | train_loss: 0.04779215 | validation_loss: 0.05728788 | Roc Score: 0.9400565 | Time elapsed: 0:40:04.068030\n",
      "iterations: 617 | train_loss: 0.041502338 | validation_loss: 0.0580215 | Roc Score: 0.940115 | Time elapsed: 0:40:08.015827\n",
      "iterations: 618 | train_loss: 0.03830907 | validation_loss: 0.060997304 | Roc Score: 0.9401562 | Time elapsed: 0:40:11.882853\n",
      "iterations: 619 | train_loss: 0.070624635 | validation_loss: 0.06130959 | Roc Score: 0.9401971 | Time elapsed: 0:40:15.778980\n",
      "iterations: 620 | train_loss: 0.05568024 | validation_loss: 0.058203466 | Roc Score: 0.940246 | Time elapsed: 0:40:19.660816\n",
      "iterations: 621 | train_loss: 0.04633046 | validation_loss: 0.05747183 | Roc Score: 0.94030684 | Time elapsed: 0:40:23.550216\n",
      "iterations: 622 | train_loss: 0.04978613 | validation_loss: 0.060088873 | Roc Score: 0.9403663 | Time elapsed: 0:40:27.444696\n",
      "iterations: 623 | train_loss: 0.058868617 | validation_loss: 0.062090587 | Roc Score: 0.94042236 | Time elapsed: 0:40:31.326622\n"
     ]
    },
    {
     "name": "stdout",
     "output_type": "stream",
     "text": [
      "iterations: 624 | train_loss: 0.047714937 | validation_loss: 0.06335404 | Roc Score: 0.940477 | Time elapsed: 0:40:35.265627\n",
      "iterations: 625 | train_loss: 0.068860486 | validation_loss: 0.061423365 | Roc Score: 0.94053304 | Time elapsed: 0:40:39.204471\n",
      "iterations: 626 | train_loss: 0.04514635 | validation_loss: 0.0589604 | Roc Score: 0.9405932 | Time elapsed: 0:40:43.092058\n",
      "iterations: 627 | train_loss: 0.06421456 | validation_loss: 0.057422675 | Roc Score: 0.9406435 | Time elapsed: 0:40:47.026320\n",
      "iterations: 628 | train_loss: 0.049639948 | validation_loss: 0.058581945 | Roc Score: 0.94068706 | Time elapsed: 0:40:50.916940\n",
      "iterations: 629 | train_loss: 0.04988136 | validation_loss: 0.059113357 | Roc Score: 0.9407279 | Time elapsed: 0:40:54.831556\n",
      "iterations: 630 | train_loss: 0.048137017 | validation_loss: 0.059885543 | Roc Score: 0.9407657 | Time elapsed: 0:40:58.716336\n",
      "iterations: 631 | train_loss: 0.06759863 | validation_loss: 0.06020817 | Roc Score: 0.9408018 | Time elapsed: 0:41:02.608372\n",
      "iterations: 632 | train_loss: 0.057035655 | validation_loss: 0.05978499 | Roc Score: 0.94084036 | Time elapsed: 0:41:06.550822\n",
      "iterations: 633 | train_loss: 0.0453961 | validation_loss: 0.058273252 | Roc Score: 0.94088554 | Time elapsed: 0:41:10.446694\n",
      "iterations: 634 | train_loss: 0.04454458 | validation_loss: 0.05717651 | Roc Score: 0.94093764 | Time elapsed: 0:41:14.532115\n",
      "iterations: 635 | train_loss: 0.03471397 | validation_loss: 0.05687653 | Roc Score: 0.94099265 | Time elapsed: 0:41:18.423192\n",
      "iterations: 636 | train_loss: 0.054431673 | validation_loss: 0.05674449 | Roc Score: 0.94105166 | Time elapsed: 0:41:22.356898\n",
      "iterations: 637 | train_loss: 0.047262307 | validation_loss: 0.058098063 | Roc Score: 0.941111 | Time elapsed: 0:41:26.278327\n",
      "iterations: 638 | train_loss: 0.06726402 | validation_loss: 0.05923583 | Roc Score: 0.94116956 | Time elapsed: 0:41:30.173210\n",
      "iterations: 639 | train_loss: 0.058753654 | validation_loss: 0.05848326 | Roc Score: 0.94122887 | Time elapsed: 0:41:34.072615\n",
      "iterations: 640 | train_loss: 0.049500573 | validation_loss: 0.05696316 | Roc Score: 0.94128966 | Time elapsed: 0:41:37.994488\n",
      "iterations: 641 | train_loss: 0.051983483 | validation_loss: 0.057068232 | Roc Score: 0.941345 | Time elapsed: 0:41:41.929986\n",
      "iterations: 642 | train_loss: 0.0403545 | validation_loss: 0.059537023 | Roc Score: 0.9413894 | Time elapsed: 0:41:45.903715\n",
      "iterations: 643 | train_loss: 0.041138638 | validation_loss: 0.062030066 | Roc Score: 0.9414244 | Time elapsed: 0:41:49.798306\n",
      "iterations: 644 | train_loss: 0.05288639 | validation_loss: 0.06046093 | Roc Score: 0.94146407 | Time elapsed: 0:41:53.725417\n",
      "iterations: 645 | train_loss: 0.026986841 | validation_loss: 0.05885986 | Roc Score: 0.9415073 | Time elapsed: 0:41:57.606269\n",
      "iterations: 646 | train_loss: 0.057648238 | validation_loss: 0.056839745 | Roc Score: 0.941559 | Time elapsed: 0:42:01.481987\n",
      "iterations: 647 | train_loss: 0.06349731 | validation_loss: 0.0566795 | Roc Score: 0.9416174 | Time elapsed: 0:42:05.404498\n",
      "iterations: 648 | train_loss: 0.048113644 | validation_loss: 0.05900114 | Roc Score: 0.9416714 | Time elapsed: 0:42:09.299885\n",
      "iterations: 649 | train_loss: 0.044723313 | validation_loss: 0.05975976 | Roc Score: 0.94172376 | Time elapsed: 0:42:13.196460\n",
      "iterations: 650 | train_loss: 0.04897151 | validation_loss: 0.059353374 | Roc Score: 0.9417749 | Time elapsed: 0:42:17.050188\n",
      "iterations: 651 | train_loss: 0.045361694 | validation_loss: 0.058593873 | Roc Score: 0.94182676 | Time elapsed: 0:42:20.951630\n",
      "iterations: 652 | train_loss: 0.034804318 | validation_loss: 0.05783935 | Roc Score: 0.94188017 | Time elapsed: 0:42:24.843429\n",
      "iterations: 653 | train_loss: 0.057410896 | validation_loss: 0.059314124 | Roc Score: 0.9419265 | Time elapsed: 0:42:28.711089\n",
      "iterations: 654 | train_loss: 0.03955139 | validation_loss: 0.06273464 | Roc Score: 0.94196147 | Time elapsed: 0:42:32.613169\n",
      "iterations: 655 | train_loss: 0.06415042 | validation_loss: 0.06358251 | Roc Score: 0.9419932 | Time elapsed: 0:42:36.546829\n",
      "iterations: 656 | train_loss: 0.07801604 | validation_loss: 0.05952867 | Roc Score: 0.9420365 | Time elapsed: 0:42:40.422657\n",
      "iterations: 657 | train_loss: 0.055406824 | validation_loss: 0.057882376 | Roc Score: 0.9420826 | Time elapsed: 0:42:44.290158\n",
      "iterations: 658 | train_loss: 0.03258868 | validation_loss: 0.057556666 | Roc Score: 0.94213074 | Time elapsed: 0:42:48.157241\n",
      "iterations: 659 | train_loss: 0.06873809 | validation_loss: 0.058436677 | Roc Score: 0.9421806 | Time elapsed: 0:42:52.079165\n",
      "iterations: 660 | train_loss: 0.063267775 | validation_loss: 0.059174657 | Roc Score: 0.94222957 | Time elapsed: 0:42:56.030668\n",
      "iterations: 661 | train_loss: 0.049457755 | validation_loss: 0.05890181 | Roc Score: 0.9422791 | Time elapsed: 0:42:59.927536\n",
      "iterations: 662 | train_loss: 0.054546986 | validation_loss: 0.058271542 | Roc Score: 0.94232965 | Time elapsed: 0:43:03.803824\n",
      "iterations: 663 | train_loss: 0.06162049 | validation_loss: 0.0579443 | Roc Score: 0.94238114 | Time elapsed: 0:43:07.691789\n",
      "iterations: 664 | train_loss: 0.056744467 | validation_loss: 0.057769377 | Roc Score: 0.94243187 | Time elapsed: 0:43:11.597814\n",
      "iterations: 665 | train_loss: 0.05170342 | validation_loss: 0.057698607 | Roc Score: 0.9424845 | Time elapsed: 0:43:15.522683\n",
      "iterations: 666 | train_loss: 0.060289923 | validation_loss: 0.05772777 | Roc Score: 0.9425359 | Time elapsed: 0:43:19.420218\n",
      "iterations: 667 | train_loss: 0.04447453 | validation_loss: 0.058026727 | Roc Score: 0.94258595 | Time elapsed: 0:43:23.306459\n",
      "iterations: 668 | train_loss: 0.05093919 | validation_loss: 0.058579348 | Roc Score: 0.942634 | Time elapsed: 0:43:27.199535\n",
      "iterations: 669 | train_loss: 0.048942707 | validation_loss: 0.05909891 | Roc Score: 0.9426787 | Time elapsed: 0:43:31.149440\n",
      "iterations: 670 | train_loss: 0.07574865 | validation_loss: 0.058705628 | Roc Score: 0.94272476 | Time elapsed: 0:43:35.059711\n",
      "iterations: 671 | train_loss: 0.035923433 | validation_loss: 0.057697676 | Roc Score: 0.942773 | Time elapsed: 0:43:38.988507\n",
      "iterations: 672 | train_loss: 0.053888485 | validation_loss: 0.05752926 | Roc Score: 0.9428222 | Time elapsed: 0:43:42.847130\n",
      "iterations: 673 | train_loss: 0.04262393 | validation_loss: 0.058126774 | Roc Score: 0.9428716 | Time elapsed: 0:43:46.754882\n",
      "iterations: 674 | train_loss: 0.054851614 | validation_loss: 0.05833639 | Roc Score: 0.9429202 | Time elapsed: 0:43:50.587141\n",
      "iterations: 675 | train_loss: 0.06285182 | validation_loss: 0.05748117 | Roc Score: 0.94296896 | Time elapsed: 0:43:54.501935\n",
      "iterations: 676 | train_loss: 0.029194959 | validation_loss: 0.056924157 | Roc Score: 0.94301736 | Time elapsed: 0:43:58.379787\n",
      "iterations: 677 | train_loss: 0.050974727 | validation_loss: 0.05752622 | Roc Score: 0.94306326 | Time elapsed: 0:44:02.280708\n",
      "iterations: 678 | train_loss: 0.06713094 | validation_loss: 0.05759649 | Roc Score: 0.9431098 | Time elapsed: 0:44:06.162201\n",
      "iterations: 679 | train_loss: 0.054296017 | validation_loss: 0.057333358 | Roc Score: 0.9431568 | Time elapsed: 0:44:10.064620\n",
      "iterations: 680 | train_loss: 0.04100627 | validation_loss: 0.056770913 | Roc Score: 0.94320583 | Time elapsed: 0:44:13.979000\n",
      "iterations: 681 | train_loss: 0.054169413 | validation_loss: 0.056126475 | Roc Score: 0.94325596 | Time elapsed: 0:44:17.887745\n",
      "iterations: 682 | train_loss: 0.058309887 | validation_loss: 0.055923056 | Roc Score: 0.94330573 | Time elapsed: 0:44:21.866534\n",
      "iterations: 683 | train_loss: 0.048129976 | validation_loss: 0.05674276 | Roc Score: 0.94335467 | Time elapsed: 0:44:25.752083\n",
      "iterations: 684 | train_loss: 0.06368824 | validation_loss: 0.057631824 | Roc Score: 0.9434029 | Time elapsed: 0:44:29.660794\n",
      "iterations: 685 | train_loss: 0.052118834 | validation_loss: 0.057611227 | Roc Score: 0.94345146 | Time elapsed: 0:44:33.609529\n",
      "iterations: 686 | train_loss: 0.074604236 | validation_loss: 0.05621592 | Roc Score: 0.9435023 | Time elapsed: 0:44:37.467673\n",
      "iterations: 687 | train_loss: 0.04122037 | validation_loss: 0.05595771 | Roc Score: 0.9435489 | Time elapsed: 0:44:41.361215\n",
      "iterations: 688 | train_loss: 0.06985691 | validation_loss: 0.057154004 | Roc Score: 0.9435873 | Time elapsed: 0:44:45.279951\n",
      "iterations: 689 | train_loss: 0.05337241 | validation_loss: 0.059263177 | Roc Score: 0.9436202 | Time elapsed: 0:44:49.171341\n",
      "iterations: 690 | train_loss: 0.07981691 | validation_loss: 0.05826749 | Roc Score: 0.9436614 | Time elapsed: 0:44:53.109307\n",
      "iterations: 691 | train_loss: 0.050556146 | validation_loss: 0.05665525 | Roc Score: 0.9437098 | Time elapsed: 0:44:57.026006\n",
      "iterations: 692 | train_loss: 0.058584787 | validation_loss: 0.056149334 | Roc Score: 0.9437608 | Time elapsed: 0:45:00.977901\n",
      "iterations: 693 | train_loss: 0.058476765 | validation_loss: 0.057281468 | Roc Score: 0.943809 | Time elapsed: 0:45:04.917910\n",
      "iterations: 694 | train_loss: 0.05029393 | validation_loss: 0.058766775 | Roc Score: 0.94385505 | Time elapsed: 0:45:08.802809\n",
      "iterations: 695 | train_loss: 0.055621784 | validation_loss: 0.057953335 | Roc Score: 0.94390243 | Time elapsed: 0:45:12.501371\n",
      "iterations: 696 | train_loss: 0.052054413 | validation_loss: 0.05623575 | Roc Score: 0.94395286 | Time elapsed: 0:45:16.398996\n",
      "iterations: 697 | train_loss: 0.04554323 | validation_loss: 0.055592626 | Roc Score: 0.9439997 | Time elapsed: 0:45:20.217021\n",
      "iterations: 698 | train_loss: 0.064398676 | validation_loss: 0.056095187 | Roc Score: 0.9440424 | Time elapsed: 0:45:24.063200\n",
      "iterations: 699 | train_loss: 0.023898857 | validation_loss: 0.05829357 | Roc Score: 0.9440713 | Time elapsed: 0:45:27.961233\n",
      "iterations: 700 | train_loss: 0.055016506 | validation_loss: 0.0599019 | Roc Score: 0.94409454 | Time elapsed: 0:45:31.876737\n",
      "iterations: 701 | train_loss: 0.06381932 | validation_loss: 0.05972075 | Roc Score: 0.9441176 | Time elapsed: 0:45:35.861022\n"
     ]
    },
    {
     "name": "stdout",
     "output_type": "stream",
     "text": [
      "iterations: 702 | train_loss: 0.035342667 | validation_loss: 0.05818583 | Roc Score: 0.9441428 | Time elapsed: 0:45:39.766944\n",
      "iterations: 703 | train_loss: 0.05389514 | validation_loss: 0.056782458 | Roc Score: 0.9441751 | Time elapsed: 0:45:43.669576\n",
      "iterations: 704 | train_loss: 0.049518555 | validation_loss: 0.056467794 | Roc Score: 0.94421625 | Time elapsed: 0:45:47.533119\n",
      "iterations: 705 | train_loss: 0.055657916 | validation_loss: 0.058833268 | Roc Score: 0.94426143 | Time elapsed: 0:45:51.430594\n",
      "iterations: 706 | train_loss: 0.044505198 | validation_loss: 0.060007483 | Roc Score: 0.9443051 | Time elapsed: 0:45:55.332113\n",
      "iterations: 707 | train_loss: 0.06388888 | validation_loss: 0.05937497 | Roc Score: 0.9443483 | Time elapsed: 0:45:59.288106\n",
      "iterations: 708 | train_loss: 0.049584206 | validation_loss: 0.057213366 | Roc Score: 0.9443885 | Time elapsed: 0:46:03.223013\n",
      "iterations: 709 | train_loss: 0.057908434 | validation_loss: 0.05681961 | Roc Score: 0.9444216 | Time elapsed: 0:46:07.086103\n",
      "iterations: 710 | train_loss: 0.02461829 | validation_loss: 0.06279383 | Roc Score: 0.94442755 | Time elapsed: 0:46:10.948942\n",
      "iterations: 711 | train_loss: 0.058390535 | validation_loss: 0.0670814 | Roc Score: 0.94441867 | Time elapsed: 0:46:14.702133\n",
      "iterations: 712 | train_loss: 0.0512741 | validation_loss: 0.0655961 | Roc Score: 0.94441694 | Time elapsed: 0:46:18.500984\n",
      "iterations: 713 | train_loss: 0.066502415 | validation_loss: 0.06102441 | Roc Score: 0.944439 | Time elapsed: 0:46:22.423694\n",
      "iterations: 714 | train_loss: 0.04247863 | validation_loss: 0.058136735 | Roc Score: 0.94447076 | Time elapsed: 0:46:26.326777\n",
      "iterations: 715 | train_loss: 0.043880414 | validation_loss: 0.05718152 | Roc Score: 0.94450676 | Time elapsed: 0:46:30.284204\n",
      "iterations: 716 | train_loss: 0.05609065 | validation_loss: 0.0575703 | Roc Score: 0.94454396 | Time elapsed: 0:46:34.228367\n",
      "iterations: 717 | train_loss: 0.039884824 | validation_loss: 0.057951607 | Roc Score: 0.94458103 | Time elapsed: 0:46:38.095099\n",
      "iterations: 718 | train_loss: 0.05429671 | validation_loss: 0.058320127 | Roc Score: 0.94461715 | Time elapsed: 0:46:41.919454\n",
      "iterations: 719 | train_loss: 0.062124692 | validation_loss: 0.0587659 | Roc Score: 0.9446524 | Time elapsed: 0:46:45.835991\n",
      "iterations: 720 | train_loss: 0.05614975 | validation_loss: 0.05924274 | Roc Score: 0.9446889 | Time elapsed: 0:46:49.698814\n",
      "iterations: 721 | train_loss: 0.05169289 | validation_loss: 0.05873179 | Roc Score: 0.9447263 | Time elapsed: 0:46:53.596062\n",
      "iterations: 722 | train_loss: 0.057105955 | validation_loss: 0.057844345 | Roc Score: 0.9447646 | Time elapsed: 0:46:57.519868\n",
      "iterations: 723 | train_loss: 0.05404131 | validation_loss: 0.057480883 | Roc Score: 0.944803 | Time elapsed: 0:47:01.404497\n",
      "iterations: 724 | train_loss: 0.052581817 | validation_loss: 0.057670876 | Roc Score: 0.94483906 | Time elapsed: 0:47:05.290573\n",
      "iterations: 725 | train_loss: 0.038004056 | validation_loss: 0.058219768 | Roc Score: 0.9448726 | Time elapsed: 0:47:09.117915\n",
      "iterations: 726 | train_loss: 0.049458552 | validation_loss: 0.058065027 | Roc Score: 0.9449071 | Time elapsed: 0:47:13.038943\n",
      "iterations: 727 | train_loss: 0.062207617 | validation_loss: 0.0576485 | Roc Score: 0.9449432 | Time elapsed: 0:47:16.986094\n",
      "iterations: 728 | train_loss: 0.040261135 | validation_loss: 0.057681013 | Roc Score: 0.94497806 | Time elapsed: 0:47:20.878136\n",
      "iterations: 729 | train_loss: 0.062804826 | validation_loss: 0.057528146 | Roc Score: 0.9450138 | Time elapsed: 0:47:24.834275\n",
      "iterations: 730 | train_loss: 0.060034852 | validation_loss: 0.05733077 | Roc Score: 0.94505125 | Time elapsed: 0:47:28.716782\n",
      "iterations: 731 | train_loss: 0.08109521 | validation_loss: 0.055948384 | Roc Score: 0.94509447 | Time elapsed: 0:47:32.582584\n",
      "iterations: 732 | train_loss: 0.06068817 | validation_loss: 0.055797424 | Roc Score: 0.94513917 | Time elapsed: 0:47:36.455731\n",
      "iterations: 733 | train_loss: 0.04142126 | validation_loss: 0.056297235 | Roc Score: 0.9451829 | Time elapsed: 0:47:40.361662\n",
      "iterations: 734 | train_loss: 0.056617755 | validation_loss: 0.056348883 | Roc Score: 0.94522643 | Time elapsed: 0:47:44.219804\n",
      "iterations: 735 | train_loss: 0.06924211 | validation_loss: 0.056305677 | Roc Score: 0.94526887 | Time elapsed: 0:47:48.091995\n",
      "iterations: 736 | train_loss: 0.030897113 | validation_loss: 0.056159444 | Roc Score: 0.94531095 | Time elapsed: 0:47:52.042927\n",
      "iterations: 737 | train_loss: 0.07348497 | validation_loss: 0.056054115 | Roc Score: 0.94535285 | Time elapsed: 0:47:56.004225\n",
      "iterations: 738 | train_loss: 0.06484627 | validation_loss: 0.05589247 | Roc Score: 0.9453943 | Time elapsed: 0:47:59.867825\n",
      "iterations: 739 | train_loss: 0.0443818 | validation_loss: 0.056060784 | Roc Score: 0.94543535 | Time elapsed: 0:48:03.754198\n",
      "iterations: 740 | train_loss: 0.04568081 | validation_loss: 0.056503594 | Roc Score: 0.94547606 | Time elapsed: 0:48:07.712571\n",
      "iterations: 741 | train_loss: 0.06448838 | validation_loss: 0.057058275 | Roc Score: 0.94551736 | Time elapsed: 0:48:11.681558\n",
      "iterations: 742 | train_loss: 0.03807369 | validation_loss: 0.05749276 | Roc Score: 0.9455601 | Time elapsed: 0:48:15.566991\n",
      "iterations: 743 | train_loss: 0.048434716 | validation_loss: 0.05689749 | Roc Score: 0.9456008 | Time elapsed: 0:48:19.482009\n",
      "iterations: 744 | train_loss: 0.054024536 | validation_loss: 0.055909995 | Roc Score: 0.9456428 | Time elapsed: 0:48:23.372967\n",
      "iterations: 745 | train_loss: 0.044139538 | validation_loss: 0.05499827 | Roc Score: 0.94568336 | Time elapsed: 0:48:27.267617\n",
      "iterations: 746 | train_loss: 0.03467103 | validation_loss: 0.054736357 | Roc Score: 0.9457228 | Time elapsed: 0:48:31.199560\n",
      "iterations: 747 | train_loss: 0.06407851 | validation_loss: 0.05531894 | Roc Score: 0.94575983 | Time elapsed: 0:48:35.129372\n",
      "iterations: 748 | train_loss: 0.06605534 | validation_loss: 0.055802394 | Roc Score: 0.9457967 | Time elapsed: 0:48:39.031644\n",
      "iterations: 749 | train_loss: 0.053753663 | validation_loss: 0.056402322 | Roc Score: 0.94583285 | Time elapsed: 0:48:42.957267\n",
      "iterations: 750 | train_loss: 0.05908968 | validation_loss: 0.055050798 | Roc Score: 0.9458746 | Time elapsed: 0:48:46.803745\n",
      "iterations: 751 | train_loss: 0.064903535 | validation_loss: 0.054317355 | Roc Score: 0.94591963 | Time elapsed: 0:48:50.786013\n",
      "iterations: 752 | train_loss: 0.04227896 | validation_loss: 0.054917347 | Roc Score: 0.94596404 | Time elapsed: 0:48:54.688425\n",
      "iterations: 753 | train_loss: 0.04906464 | validation_loss: 0.055959024 | Roc Score: 0.94600713 | Time elapsed: 0:48:58.584324\n",
      "iterations: 754 | train_loss: 0.033324715 | validation_loss: 0.055891413 | Roc Score: 0.94604963 | Time elapsed: 0:49:02.460908\n",
      "iterations: 755 | train_loss: 0.04696509 | validation_loss: 0.05546463 | Roc Score: 0.9460932 | Time elapsed: 0:49:06.375993\n",
      "iterations: 756 | train_loss: 0.03257009 | validation_loss: 0.055301312 | Roc Score: 0.9461351 | Time elapsed: 0:49:10.292589\n",
      "iterations: 757 | train_loss: 0.028810376 | validation_loss: 0.056802224 | Roc Score: 0.94617057 | Time elapsed: 0:49:14.232114\n",
      "iterations: 758 | train_loss: 0.040589366 | validation_loss: 0.059709754 | Roc Score: 0.9461972 | Time elapsed: 0:49:18.094486\n",
      "iterations: 759 | train_loss: 0.03197129 | validation_loss: 0.06286623 | Roc Score: 0.946214 | Time elapsed: 0:49:21.975317\n",
      "iterations: 760 | train_loss: 0.050676934 | validation_loss: 0.06225524 | Roc Score: 0.9462295 | Time elapsed: 0:49:25.886455\n",
      "iterations: 761 | train_loss: 0.060673505 | validation_loss: 0.06042398 | Roc Score: 0.94625187 | Time elapsed: 0:49:29.787874\n",
      "iterations: 762 | train_loss: 0.06518492 | validation_loss: 0.05897232 | Roc Score: 0.9462799 | Time elapsed: 0:49:33.757519\n",
      "iterations: 763 | train_loss: 0.06143406 | validation_loss: 0.058728762 | Roc Score: 0.9463114 | Time elapsed: 0:49:37.667665\n",
      "iterations: 764 | train_loss: 0.05571986 | validation_loss: 0.058450725 | Roc Score: 0.94634503 | Time elapsed: 0:49:41.605629\n",
      "iterations: 765 | train_loss: 0.03886427 | validation_loss: 0.05790889 | Roc Score: 0.9463784 | Time elapsed: 0:49:45.531599\n",
      "iterations: 766 | train_loss: 0.040724806 | validation_loss: 0.05739931 | Roc Score: 0.9464136 | Time elapsed: 0:49:49.426656\n",
      "iterations: 767 | train_loss: 0.06034251 | validation_loss: 0.057119712 | Roc Score: 0.94644725 | Time elapsed: 0:49:53.337338\n",
      "iterations: 768 | train_loss: 0.054578837 | validation_loss: 0.056990203 | Roc Score: 0.94648075 | Time elapsed: 0:49:57.234072\n",
      "iterations: 769 | train_loss: 0.042295676 | validation_loss: 0.057251353 | Roc Score: 0.94651324 | Time elapsed: 0:50:01.109024\n",
      "iterations: 770 | train_loss: 0.040778257 | validation_loss: 0.057083383 | Roc Score: 0.94654757 | Time elapsed: 0:50:04.954346\n",
      "iterations: 771 | train_loss: 0.061465643 | validation_loss: 0.056626447 | Roc Score: 0.946584 | Time elapsed: 0:50:08.830590\n",
      "iterations: 772 | train_loss: 0.07091464 | validation_loss: 0.05610517 | Roc Score: 0.9466221 | Time elapsed: 0:50:12.696272\n",
      "iterations: 773 | train_loss: 0.061783586 | validation_loss: 0.05617044 | Roc Score: 0.9466615 | Time elapsed: 0:50:16.580251\n",
      "iterations: 774 | train_loss: 0.05844451 | validation_loss: 0.055859122 | Roc Score: 0.9467011 | Time elapsed: 0:50:20.474874\n",
      "iterations: 775 | train_loss: 0.050842397 | validation_loss: 0.055586483 | Roc Score: 0.9467395 | Time elapsed: 0:50:24.360764\n",
      "iterations: 776 | train_loss: 0.041732304 | validation_loss: 0.055598237 | Roc Score: 0.9467756 | Time elapsed: 0:50:28.262661\n",
      "iterations: 777 | train_loss: 0.05582633 | validation_loss: 0.055712268 | Roc Score: 0.9468085 | Time elapsed: 0:50:32.196020\n",
      "iterations: 778 | train_loss: 0.037556138 | validation_loss: 0.05574763 | Roc Score: 0.9468408 | Time elapsed: 0:50:36.119705\n",
      "iterations: 779 | train_loss: 0.04212698 | validation_loss: 0.056057476 | Roc Score: 0.9468702 | Time elapsed: 0:50:40.034107\n"
     ]
    },
    {
     "name": "stdout",
     "output_type": "stream",
     "text": [
      "iterations: 780 | train_loss: 0.04067217 | validation_loss: 0.05693746 | Roc Score: 0.9468955 | Time elapsed: 0:50:43.954036\n",
      "iterations: 781 | train_loss: 0.04411702 | validation_loss: 0.057830244 | Roc Score: 0.94691765 | Time elapsed: 0:50:47.826759\n",
      "iterations: 782 | train_loss: 0.056605306 | validation_loss: 0.057637937 | Roc Score: 0.9469411 | Time elapsed: 0:50:51.713747\n",
      "iterations: 783 | train_loss: 0.039589956 | validation_loss: 0.057301763 | Roc Score: 0.9469648 | Time elapsed: 0:50:55.681135\n",
      "iterations: 784 | train_loss: 0.055619005 | validation_loss: 0.055912163 | Roc Score: 0.9469982 | Time elapsed: 0:50:59.537748\n",
      "iterations: 785 | train_loss: 0.07440786 | validation_loss: 0.05518546 | Roc Score: 0.94703746 | Time elapsed: 0:51:03.399940\n",
      "iterations: 786 | train_loss: 0.057231154 | validation_loss: 0.055364322 | Roc Score: 0.94707716 | Time elapsed: 0:51:07.315741\n",
      "iterations: 787 | train_loss: 0.06400444 | validation_loss: 0.05637066 | Roc Score: 0.9471159 | Time elapsed: 0:51:11.145259\n",
      "iterations: 788 | train_loss: 0.056361333 | validation_loss: 0.05695716 | Roc Score: 0.9471553 | Time elapsed: 0:51:15.029625\n",
      "iterations: 789 | train_loss: 0.047206823 | validation_loss: 0.05668719 | Roc Score: 0.94719356 | Time elapsed: 0:51:18.961158\n",
      "iterations: 790 | train_loss: 0.043539777 | validation_loss: 0.055380907 | Roc Score: 0.9472317 | Time elapsed: 0:51:22.871472\n",
      "iterations: 791 | train_loss: 0.061468072 | validation_loss: 0.055321686 | Roc Score: 0.947271 | Time elapsed: 0:51:26.770045\n",
      "iterations: 792 | train_loss: 0.05618389 | validation_loss: 0.055180423 | Roc Score: 0.9473099 | Time elapsed: 0:51:30.608012\n",
      "iterations: 793 | train_loss: 0.052014764 | validation_loss: 0.05512458 | Roc Score: 0.9473454 | Time elapsed: 0:51:34.527693\n",
      "iterations: 794 | train_loss: 0.06303724 | validation_loss: 0.055317014 | Roc Score: 0.9473788 | Time elapsed: 0:51:38.450273\n",
      "iterations: 795 | train_loss: 0.04974779 | validation_loss: 0.054811016 | Roc Score: 0.9474135 | Time elapsed: 0:51:42.354583\n",
      "iterations: 796 | train_loss: 0.084955156 | validation_loss: 0.054450206 | Roc Score: 0.9474523 | Time elapsed: 0:51:46.226688\n",
      "iterations: 797 | train_loss: 0.057589173 | validation_loss: 0.054783173 | Roc Score: 0.9474915 | Time elapsed: 0:51:50.168178\n",
      "iterations: 798 | train_loss: 0.03923097 | validation_loss: 0.054493323 | Roc Score: 0.9475304 | Time elapsed: 0:51:54.084661\n",
      "iterations: 799 | train_loss: 0.04716597 | validation_loss: 0.054236818 | Roc Score: 0.9475682 | Time elapsed: 0:51:57.952401\n",
      "iterations: 800 | train_loss: 0.045537353 | validation_loss: 0.054233108 | Roc Score: 0.9476056 | Time elapsed: 0:52:01.844256\n",
      "iterations: 801 | train_loss: 0.04108325 | validation_loss: 0.053901423 | Roc Score: 0.94764274 | Time elapsed: 0:52:05.739857\n",
      "iterations: 802 | train_loss: 0.050019175 | validation_loss: 0.053865597 | Roc Score: 0.9476799 | Time elapsed: 0:52:09.595133\n",
      "iterations: 803 | train_loss: 0.04096985 | validation_loss: 0.05411907 | Roc Score: 0.9477166 | Time elapsed: 0:52:13.519594\n",
      "iterations: 804 | train_loss: 0.04216765 | validation_loss: 0.054451138 | Roc Score: 0.947751 | Time elapsed: 0:52:17.409105\n",
      "iterations: 805 | train_loss: 0.04131141 | validation_loss: 0.055172242 | Roc Score: 0.94778216 | Time elapsed: 0:52:21.255299\n",
      "iterations: 806 | train_loss: 0.07084979 | validation_loss: 0.05526949 | Roc Score: 0.9478135 | Time elapsed: 0:52:25.195239\n",
      "iterations: 807 | train_loss: 0.04668863 | validation_loss: 0.055153355 | Roc Score: 0.94784653 | Time elapsed: 0:52:29.128865\n",
      "iterations: 808 | train_loss: 0.04382252 | validation_loss: 0.054769926 | Roc Score: 0.9478827 | Time elapsed: 0:52:33.032400\n",
      "iterations: 809 | train_loss: 0.040908046 | validation_loss: 0.054863952 | Roc Score: 0.94791895 | Time elapsed: 0:52:36.849920\n",
      "iterations: 810 | train_loss: 0.049213905 | validation_loss: 0.054794736 | Roc Score: 0.94795525 | Time elapsed: 0:52:40.709704\n",
      "iterations: 811 | train_loss: 0.07389283 | validation_loss: 0.054475877 | Roc Score: 0.9479926 | Time elapsed: 0:52:44.629254\n",
      "iterations: 812 | train_loss: 0.061466224 | validation_loss: 0.055000577 | Roc Score: 0.9480307 | Time elapsed: 0:52:48.524762\n",
      "iterations: 813 | train_loss: 0.063316345 | validation_loss: 0.05604898 | Roc Score: 0.94806695 | Time elapsed: 0:52:52.069273\n",
      "iterations: 814 | train_loss: 0.055527136 | validation_loss: 0.05618518 | Roc Score: 0.9481028 | Time elapsed: 0:52:56.022357\n",
      "iterations: 815 | train_loss: 0.055059902 | validation_loss: 0.05526736 | Roc Score: 0.94813937 | Time elapsed: 0:52:59.951477\n",
      "iterations: 816 | train_loss: 0.045601808 | validation_loss: 0.05444582 | Roc Score: 0.9481768 | Time elapsed: 0:53:03.870382\n",
      "iterations: 817 | train_loss: 0.0530053 | validation_loss: 0.054415934 | Roc Score: 0.9482143 | Time elapsed: 0:53:07.772815\n",
      "iterations: 818 | train_loss: 0.039857246 | validation_loss: 0.054856654 | Roc Score: 0.94824827 | Time elapsed: 0:53:11.671679\n",
      "iterations: 819 | train_loss: 0.041240294 | validation_loss: 0.055127237 | Roc Score: 0.9482788 | Time elapsed: 0:53:15.574790\n",
      "iterations: 820 | train_loss: 0.050311916 | validation_loss: 0.05527436 | Roc Score: 0.9483088 | Time elapsed: 0:53:19.413444\n",
      "iterations: 821 | train_loss: 0.051846787 | validation_loss: 0.055291682 | Roc Score: 0.9483383 | Time elapsed: 0:53:23.289600\n",
      "iterations: 822 | train_loss: 0.03777739 | validation_loss: 0.055147402 | Roc Score: 0.94836825 | Time elapsed: 0:53:27.160192\n",
      "iterations: 823 | train_loss: 0.03355893 | validation_loss: 0.05509192 | Roc Score: 0.9483978 | Time elapsed: 0:53:31.033111\n",
      "iterations: 824 | train_loss: 0.096792325 | validation_loss: 0.0546396 | Roc Score: 0.94843143 | Time elapsed: 0:53:34.852805\n",
      "iterations: 825 | train_loss: 0.0570363 | validation_loss: 0.05480651 | Roc Score: 0.948467 | Time elapsed: 0:53:38.682494\n",
      "iterations: 826 | train_loss: 0.04952231 | validation_loss: 0.055053085 | Roc Score: 0.9485034 | Time elapsed: 0:53:42.740063\n",
      "iterations: 827 | train_loss: 0.03879143 | validation_loss: 0.054722216 | Roc Score: 0.94853914 | Time elapsed: 0:53:46.593442\n",
      "iterations: 828 | train_loss: 0.057112657 | validation_loss: 0.0546695 | Roc Score: 0.94857186 | Time elapsed: 0:53:50.256288\n",
      "iterations: 829 | train_loss: 0.029124819 | validation_loss: 0.05618895 | Roc Score: 0.9485976 | Time elapsed: 0:53:54.133230\n",
      "iterations: 830 | train_loss: 0.029322106 | validation_loss: 0.05898995 | Roc Score: 0.94861066 | Time elapsed: 0:53:58.047893\n",
      "iterations: 831 | train_loss: 0.055273183 | validation_loss: 0.05864882 | Roc Score: 0.9486244 | Time elapsed: 0:54:01.958637\n",
      "iterations: 832 | train_loss: 0.052911784 | validation_loss: 0.056236256 | Roc Score: 0.9486493 | Time elapsed: 0:54:05.884169\n",
      "iterations: 833 | train_loss: 0.071566544 | validation_loss: 0.053870365 | Roc Score: 0.948685 | Time elapsed: 0:54:09.769670\n",
      "iterations: 834 | train_loss: 0.053715922 | validation_loss: 0.054780055 | Roc Score: 0.9487215 | Time elapsed: 0:54:13.620890\n",
      "iterations: 835 | train_loss: 0.054636873 | validation_loss: 0.055649173 | Roc Score: 0.948757 | Time elapsed: 0:54:17.511767\n",
      "iterations: 836 | train_loss: 0.04360204 | validation_loss: 0.055509947 | Roc Score: 0.94879234 | Time elapsed: 0:54:21.450080\n",
      "iterations: 837 | train_loss: 0.037768446 | validation_loss: 0.054385252 | Roc Score: 0.9488284 | Time elapsed: 0:54:25.380093\n",
      "iterations: 838 | train_loss: 0.053595614 | validation_loss: 0.053893078 | Roc Score: 0.94886446 | Time elapsed: 0:54:29.204617\n",
      "iterations: 839 | train_loss: 0.048603535 | validation_loss: 0.054084912 | Roc Score: 0.94889945 | Time elapsed: 0:54:33.112399\n",
      "iterations: 840 | train_loss: 0.09280303 | validation_loss: 0.05431403 | Roc Score: 0.94893503 | Time elapsed: 0:54:37.019289\n",
      "iterations: 841 | train_loss: 0.041945428 | validation_loss: 0.05433174 | Roc Score: 0.9489709 | Time elapsed: 0:54:40.905370\n",
      "iterations: 842 | train_loss: 0.049947415 | validation_loss: 0.05421669 | Roc Score: 0.94900686 | Time elapsed: 0:54:44.762131\n",
      "iterations: 843 | train_loss: 0.05291742 | validation_loss: 0.05426006 | Roc Score: 0.94904053 | Time elapsed: 0:54:48.622892\n",
      "iterations: 844 | train_loss: 0.049821645 | validation_loss: 0.054320224 | Roc Score: 0.9490739 | Time elapsed: 0:54:52.516042\n",
      "iterations: 845 | train_loss: 0.055586852 | validation_loss: 0.05417257 | Roc Score: 0.94910836 | Time elapsed: 0:54:56.435221\n",
      "iterations: 846 | train_loss: 0.06466712 | validation_loss: 0.054244358 | Roc Score: 0.94914305 | Time elapsed: 0:55:00.364848\n",
      "iterations: 847 | train_loss: 0.057005353 | validation_loss: 0.054432128 | Roc Score: 0.949179 | Time elapsed: 0:55:04.257990\n",
      "iterations: 848 | train_loss: 0.048542943 | validation_loss: 0.054394115 | Roc Score: 0.9492147 | Time elapsed: 0:55:08.172985\n",
      "iterations: 849 | train_loss: 0.03720964 | validation_loss: 0.053811014 | Roc Score: 0.9492513 | Time elapsed: 0:55:12.025425\n",
      "iterations: 850 | train_loss: 0.046999183 | validation_loss: 0.053554107 | Roc Score: 0.9492872 | Time elapsed: 0:55:15.944055\n",
      "iterations: 851 | train_loss: 0.057383303 | validation_loss: 0.053519063 | Roc Score: 0.9493219 | Time elapsed: 0:55:19.824537\n",
      "iterations: 852 | train_loss: 0.045965414 | validation_loss: 0.05375236 | Roc Score: 0.94935334 | Time elapsed: 0:55:23.722965\n",
      "iterations: 853 | train_loss: 0.05424093 | validation_loss: 0.054034878 | Roc Score: 0.9493852 | Time elapsed: 0:55:27.610872\n",
      "iterations: 854 | train_loss: 0.05948066 | validation_loss: 0.05480802 | Roc Score: 0.9494183 | Time elapsed: 0:55:31.562996\n",
      "iterations: 855 | train_loss: 0.04809056 | validation_loss: 0.05609362 | Roc Score: 0.9494501 | Time elapsed: 0:55:35.496386\n",
      "iterations: 856 | train_loss: 0.07703944 | validation_loss: 0.05518593 | Roc Score: 0.9494833 | Time elapsed: 0:55:39.419861\n",
      "iterations: 857 | train_loss: 0.03841195 | validation_loss: 0.05448944 | Roc Score: 0.9495159 | Time elapsed: 0:55:43.345898\n"
     ]
    },
    {
     "name": "stdout",
     "output_type": "stream",
     "text": [
      "iterations: 858 | train_loss: 0.05929772 | validation_loss: 0.05437618 | Roc Score: 0.9495496 | Time elapsed: 0:55:47.231506\n",
      "iterations: 859 | train_loss: 0.059785005 | validation_loss: 0.054763157 | Roc Score: 0.94958246 | Time elapsed: 0:55:51.140686\n",
      "iterations: 860 | train_loss: 0.038288005 | validation_loss: 0.055880766 | Roc Score: 0.9496143 | Time elapsed: 0:55:55.029372\n",
      "iterations: 861 | train_loss: 0.05967219 | validation_loss: 0.057087902 | Roc Score: 0.9496443 | Time elapsed: 0:55:58.925653\n",
      "iterations: 862 | train_loss: 0.04162969 | validation_loss: 0.058284637 | Roc Score: 0.94967234 | Time elapsed: 0:56:02.846940\n",
      "iterations: 863 | train_loss: 0.060298886 | validation_loss: 0.058186404 | Roc Score: 0.94970196 | Time elapsed: 0:56:06.760684\n",
      "iterations: 864 | train_loss: 0.047984388 | validation_loss: 0.05791281 | Roc Score: 0.9497307 | Time elapsed: 0:56:10.645621\n",
      "iterations: 865 | train_loss: 0.049598653 | validation_loss: 0.057068583 | Roc Score: 0.94975984 | Time elapsed: 0:56:14.542652\n",
      "iterations: 866 | train_loss: 0.052996017 | validation_loss: 0.056504395 | Roc Score: 0.94978964 | Time elapsed: 0:56:18.449468\n",
      "iterations: 867 | train_loss: 0.049286105 | validation_loss: 0.056340393 | Roc Score: 0.9498192 | Time elapsed: 0:56:22.387801\n",
      "iterations: 868 | train_loss: 0.051238988 | validation_loss: 0.05652635 | Roc Score: 0.9498475 | Time elapsed: 0:56:26.297840\n",
      "iterations: 869 | train_loss: 0.07044595 | validation_loss: 0.056791298 | Roc Score: 0.9498742 | Time elapsed: 0:56:30.148225\n",
      "iterations: 870 | train_loss: 0.042788398 | validation_loss: 0.05702107 | Roc Score: 0.9498986 | Time elapsed: 0:56:34.060676\n",
      "iterations: 871 | train_loss: 0.06660038 | validation_loss: 0.056704387 | Roc Score: 0.9499244 | Time elapsed: 0:56:37.936889\n",
      "iterations: 872 | train_loss: 0.06445243 | validation_loss: 0.05614002 | Roc Score: 0.9499526 | Time elapsed: 0:56:41.852759\n",
      "iterations: 873 | train_loss: 0.074437335 | validation_loss: 0.05602726 | Roc Score: 0.9499833 | Time elapsed: 0:56:45.781516\n",
      "iterations: 874 | train_loss: 0.05448812 | validation_loss: 0.056348816 | Roc Score: 0.95001346 | Time elapsed: 0:56:49.704680\n",
      "iterations: 875 | train_loss: 0.05640638 | validation_loss: 0.056589212 | Roc Score: 0.95004326 | Time elapsed: 0:56:53.587207\n",
      "iterations: 876 | train_loss: 0.04346753 | validation_loss: 0.05562709 | Roc Score: 0.9500742 | Time elapsed: 0:56:57.518052\n",
      "iterations: 877 | train_loss: 0.041453846 | validation_loss: 0.054869436 | Roc Score: 0.9501043 | Time elapsed: 0:57:01.403240\n",
      "iterations: 878 | train_loss: 0.068041466 | validation_loss: 0.054756384 | Roc Score: 0.95013463 | Time elapsed: 0:57:05.304348\n",
      "iterations: 879 | train_loss: 0.06590425 | validation_loss: 0.05494133 | Roc Score: 0.95016575 | Time elapsed: 0:57:09.208968\n",
      "iterations: 880 | train_loss: 0.054117538 | validation_loss: 0.05498672 | Roc Score: 0.95019674 | Time elapsed: 0:57:13.089548\n",
      "iterations: 881 | train_loss: 0.04459855 | validation_loss: 0.05439567 | Roc Score: 0.95022714 | Time elapsed: 0:57:16.989435\n",
      "iterations: 882 | train_loss: 0.040306006 | validation_loss: 0.0548664 | Roc Score: 0.9502558 | Time elapsed: 0:57:20.860759\n",
      "iterations: 883 | train_loss: 0.05059113 | validation_loss: 0.056855224 | Roc Score: 0.9502787 | Time elapsed: 0:57:24.750373\n",
      "iterations: 884 | train_loss: 0.047086194 | validation_loss: 0.057544462 | Roc Score: 0.95029795 | Time elapsed: 0:57:28.639107\n",
      "iterations: 885 | train_loss: 0.065368265 | validation_loss: 0.056299016 | Roc Score: 0.9503218 | Time elapsed: 0:57:32.582618\n",
      "iterations: 886 | train_loss: 0.064849354 | validation_loss: 0.05416246 | Roc Score: 0.95035386 | Time elapsed: 0:57:36.541906\n",
      "iterations: 887 | train_loss: 0.04149929 | validation_loss: 0.054579172 | Roc Score: 0.95038486 | Time elapsed: 0:57:40.462303\n",
      "iterations: 888 | train_loss: 0.045872085 | validation_loss: 0.05595387 | Roc Score: 0.95041555 | Time elapsed: 0:57:44.355480\n",
      "iterations: 889 | train_loss: 0.044347502 | validation_loss: 0.056047384 | Roc Score: 0.9504458 | Time elapsed: 0:57:48.218250\n",
      "iterations: 890 | train_loss: 0.057773527 | validation_loss: 0.056475334 | Roc Score: 0.95047635 | Time elapsed: 0:57:52.139623\n",
      "iterations: 891 | train_loss: 0.021954834 | validation_loss: 0.055045687 | Roc Score: 0.9505078 | Time elapsed: 0:57:56.007622\n",
      "iterations: 892 | train_loss: 0.08227637 | validation_loss: 0.054247003 | Roc Score: 0.9505385 | Time elapsed: 0:57:59.900509\n",
      "iterations: 893 | train_loss: 0.057355043 | validation_loss: 0.054091517 | Roc Score: 0.950566 | Time elapsed: 0:58:03.814628\n",
      "iterations: 894 | train_loss: 0.070355535 | validation_loss: 0.05477526 | Roc Score: 0.95059013 | Time elapsed: 0:58:07.713594\n",
      "iterations: 895 | train_loss: 0.06309407 | validation_loss: 0.055469077 | Roc Score: 0.9506123 | Time elapsed: 0:58:11.656827\n",
      "iterations: 896 | train_loss: 0.040180173 | validation_loss: 0.055364233 | Roc Score: 0.9506342 | Time elapsed: 0:58:15.567034\n",
      "iterations: 897 | train_loss: 0.04376504 | validation_loss: 0.054360576 | Roc Score: 0.95066005 | Time elapsed: 0:58:19.460323\n",
      "iterations: 898 | train_loss: 0.052694228 | validation_loss: 0.054218102 | Roc Score: 0.9506905 | Time elapsed: 0:58:23.303926\n",
      "iterations: 899 | train_loss: 0.059886664 | validation_loss: 0.055004593 | Roc Score: 0.9507218 | Time elapsed: 0:58:27.221031\n",
      "iterations: 900 | train_loss: 0.0454049 | validation_loss: 0.056327056 | Roc Score: 0.95075244 | Time elapsed: 0:58:31.156856\n",
      "iterations: 901 | train_loss: 0.054497197 | validation_loss: 0.05554509 | Roc Score: 0.9507841 | Time elapsed: 0:58:35.111999\n",
      "iterations: 902 | train_loss: 0.04741961 | validation_loss: 0.054353066 | Roc Score: 0.95081544 | Time elapsed: 0:58:38.994733\n",
      "iterations: 903 | train_loss: 0.04496503 | validation_loss: 0.054604467 | Roc Score: 0.9508457 | Time elapsed: 0:58:42.849724\n",
      "iterations: 904 | train_loss: 0.04244444 | validation_loss: 0.05549911 | Roc Score: 0.95087385 | Time elapsed: 0:58:46.784614\n",
      "iterations: 905 | train_loss: 0.06275292 | validation_loss: 0.055516634 | Roc Score: 0.95090246 | Time elapsed: 0:58:50.724613\n",
      "iterations: 906 | train_loss: 0.04323798 | validation_loss: 0.054966614 | Roc Score: 0.95093143 | Time elapsed: 0:58:54.607880\n",
      "iterations: 907 | train_loss: 0.056805342 | validation_loss: 0.054461144 | Roc Score: 0.95096153 | Time elapsed: 0:58:58.522553\n",
      "iterations: 908 | train_loss: 0.05424029 | validation_loss: 0.05456895 | Roc Score: 0.9509932 | Time elapsed: 0:59:02.373713\n",
      "iterations: 909 | train_loss: 0.05225608 | validation_loss: 0.054981027 | Roc Score: 0.951025 | Time elapsed: 0:59:06.248986\n",
      "iterations: 910 | train_loss: 0.056225687 | validation_loss: 0.054514 | Roc Score: 0.9510567 | Time elapsed: 0:59:10.148129\n",
      "iterations: 911 | train_loss: 0.040670253 | validation_loss: 0.05384706 | Roc Score: 0.9510871 | Time elapsed: 0:59:14.049114\n",
      "iterations: 912 | train_loss: 0.05510682 | validation_loss: 0.054123648 | Roc Score: 0.95111346 | Time elapsed: 0:59:17.967000\n",
      "iterations: 913 | train_loss: 0.04669418 | validation_loss: 0.05443931 | Roc Score: 0.9511373 | Time elapsed: 0:59:21.873643\n",
      "iterations: 914 | train_loss: 0.04124473 | validation_loss: 0.054423325 | Roc Score: 0.9511609 | Time elapsed: 0:59:25.767057\n",
      "iterations: 915 | train_loss: 0.04616589 | validation_loss: 0.054530304 | Roc Score: 0.9511835 | Time elapsed: 0:59:29.632432\n",
      "iterations: 916 | train_loss: 0.049471844 | validation_loss: 0.054590076 | Roc Score: 0.9512073 | Time elapsed: 0:59:33.560761\n",
      "iterations: 917 | train_loss: 0.03366936 | validation_loss: 0.055142086 | Roc Score: 0.9512288 | Time elapsed: 0:59:37.434191\n",
      "iterations: 918 | train_loss: 0.08583924 | validation_loss: 0.05556157 | Roc Score: 0.95125103 | Time elapsed: 0:59:41.303453\n",
      "iterations: 919 | train_loss: 0.05482109 | validation_loss: 0.055541515 | Roc Score: 0.95127285 | Time elapsed: 0:59:45.248845\n",
      "iterations: 920 | train_loss: 0.053767134 | validation_loss: 0.05487085 | Roc Score: 0.9512965 | Time elapsed: 0:59:49.154470\n",
      "iterations: 921 | train_loss: 0.045334607 | validation_loss: 0.054118864 | Roc Score: 0.95132333 | Time elapsed: 0:59:53.070564\n",
      "iterations: 922 | train_loss: 0.05934635 | validation_loss: 0.05360024 | Roc Score: 0.951355 | Time elapsed: 0:59:56.978313\n",
      "iterations: 923 | train_loss: 0.04308195 | validation_loss: 0.05386687 | Roc Score: 0.9513867 | Time elapsed: 1:00:00.928445\n",
      "iterations: 924 | train_loss: 0.054145265 | validation_loss: 0.054027583 | Roc Score: 0.9514189 | Time elapsed: 1:00:04.850025\n",
      "iterations: 925 | train_loss: 0.06626586 | validation_loss: 0.05414804 | Roc Score: 0.9514513 | Time elapsed: 1:00:08.696146\n",
      "iterations: 926 | train_loss: 0.052384153 | validation_loss: 0.053772006 | Roc Score: 0.95148426 | Time elapsed: 1:00:12.613968\n",
      "iterations: 927 | train_loss: 0.050493117 | validation_loss: 0.053747106 | Roc Score: 0.9515158 | Time elapsed: 1:00:16.513101\n",
      "iterations: 928 | train_loss: 0.050515193 | validation_loss: 0.053793658 | Roc Score: 0.95154506 | Time elapsed: 1:00:20.436671\n",
      "iterations: 929 | train_loss: 0.052391645 | validation_loss: 0.053442176 | Roc Score: 0.95157397 | Time elapsed: 1:00:24.349350\n",
      "iterations: 930 | train_loss: 0.059878513 | validation_loss: 0.05332922 | Roc Score: 0.9516028 | Time elapsed: 1:00:28.226035\n",
      "iterations: 931 | train_loss: 0.04217588 | validation_loss: 0.05285924 | Roc Score: 0.9516338 | Time elapsed: 1:00:32.137329\n",
      "iterations: 932 | train_loss: 0.052691344 | validation_loss: 0.052514594 | Roc Score: 0.9516646 | Time elapsed: 1:00:36.015143\n",
      "iterations: 933 | train_loss: 0.044487603 | validation_loss: 0.05246025 | Roc Score: 0.9516955 | Time elapsed: 1:00:39.993911\n",
      "iterations: 934 | train_loss: 0.04531963 | validation_loss: 0.052525263 | Roc Score: 0.95172536 | Time elapsed: 1:00:43.873083\n",
      "iterations: 935 | train_loss: 0.043307453 | validation_loss: 0.05311372 | Roc Score: 0.9517516 | Time elapsed: 1:00:47.765946\n"
     ]
    },
    {
     "name": "stdout",
     "output_type": "stream",
     "text": [
      "iterations: 936 | train_loss: 0.055003878 | validation_loss: 0.053714138 | Roc Score: 0.9517756 | Time elapsed: 1:00:51.641355\n",
      "iterations: 937 | train_loss: 0.04650346 | validation_loss: 0.053375244 | Roc Score: 0.9518007 | Time elapsed: 1:00:55.539664\n",
      "iterations: 938 | train_loss: 0.07234277 | validation_loss: 0.053575575 | Roc Score: 0.9518298 | Time elapsed: 1:00:59.425991\n",
      "iterations: 939 | train_loss: 0.056864522 | validation_loss: 0.053643227 | Roc Score: 0.95186 | Time elapsed: 1:01:03.331627\n",
      "iterations: 940 | train_loss: 0.041562293 | validation_loss: 0.05374447 | Roc Score: 0.95189005 | Time elapsed: 1:01:07.243045\n",
      "iterations: 941 | train_loss: 0.04334728 | validation_loss: 0.053048234 | Roc Score: 0.95192015 | Time elapsed: 1:01:11.069707\n",
      "iterations: 942 | train_loss: 0.037212536 | validation_loss: 0.052726287 | Roc Score: 0.95194954 | Time elapsed: 1:01:14.955378\n",
      "iterations: 943 | train_loss: 0.043090653 | validation_loss: 0.052638594 | Roc Score: 0.95197636 | Time elapsed: 1:01:18.871867\n",
      "iterations: 944 | train_loss: 0.045705914 | validation_loss: 0.052875552 | Roc Score: 0.95200205 | Time elapsed: 1:01:22.698838\n",
      "iterations: 945 | train_loss: 0.052502412 | validation_loss: 0.053048342 | Roc Score: 0.952028 | Time elapsed: 1:01:26.581699\n",
      "iterations: 946 | train_loss: 0.049215943 | validation_loss: 0.052703373 | Roc Score: 0.9520546 | Time elapsed: 1:01:30.411724\n",
      "iterations: 947 | train_loss: 0.06396499 | validation_loss: 0.052784357 | Roc Score: 0.95208246 | Time elapsed: 1:01:34.298689\n",
      "iterations: 948 | train_loss: 0.041111123 | validation_loss: 0.053477008 | Roc Score: 0.9521121 | Time elapsed: 1:01:38.194811\n",
      "iterations: 949 | train_loss: 0.07902906 | validation_loss: 0.055212233 | Roc Score: 0.95214087 | Time elapsed: 1:01:42.050074\n",
      "iterations: 950 | train_loss: 0.043140303 | validation_loss: 0.052724358 | Roc Score: 0.9521715 | Time elapsed: 1:01:45.914510\n",
      "iterations: 951 | train_loss: 0.04377105 | validation_loss: 0.05241037 | Roc Score: 0.95220155 | Time elapsed: 1:01:49.808820\n",
      "iterations: 952 | train_loss: 0.0448831 | validation_loss: 0.05266508 | Roc Score: 0.95223016 | Time elapsed: 1:01:53.678937\n",
      "iterations: 953 | train_loss: 0.058601182 | validation_loss: 0.052168526 | Roc Score: 0.95225906 | Time elapsed: 1:01:57.532534\n",
      "iterations: 954 | train_loss: 0.033640496 | validation_loss: 0.052139554 | Roc Score: 0.9522863 | Time elapsed: 1:02:01.416238\n",
      "iterations: 955 | train_loss: 0.046929598 | validation_loss: 0.052117057 | Roc Score: 0.95231515 | Time elapsed: 1:02:05.333822\n",
      "iterations: 956 | train_loss: 0.05334524 | validation_loss: 0.05279781 | Roc Score: 0.95234424 | Time elapsed: 1:02:09.259031\n",
      "iterations: 957 | train_loss: 0.049732246 | validation_loss: 0.053814873 | Roc Score: 0.95237315 | Time elapsed: 1:02:13.159705\n",
      "iterations: 958 | train_loss: 0.048392937 | validation_loss: 0.054057688 | Roc Score: 0.95240253 | Time elapsed: 1:02:17.025812\n",
      "iterations: 959 | train_loss: 0.050966594 | validation_loss: 0.05341737 | Roc Score: 0.95243037 | Time elapsed: 1:02:20.846512\n",
      "iterations: 960 | train_loss: 0.06011292 | validation_loss: 0.05244431 | Roc Score: 0.95245767 | Time elapsed: 1:02:24.756534\n",
      "iterations: 961 | train_loss: 0.04833947 | validation_loss: 0.052442737 | Roc Score: 0.952482 | Time elapsed: 1:02:28.649331\n",
      "iterations: 962 | train_loss: 0.036288057 | validation_loss: 0.05266171 | Roc Score: 0.9525043 | Time elapsed: 1:02:32.490629\n",
      "iterations: 963 | train_loss: 0.05006037 | validation_loss: 0.053182494 | Roc Score: 0.9525259 | Time elapsed: 1:02:36.338125\n",
      "iterations: 964 | train_loss: 0.04028176 | validation_loss: 0.053391613 | Roc Score: 0.952547 | Time elapsed: 1:02:40.218030\n",
      "iterations: 965 | train_loss: 0.062287167 | validation_loss: 0.05274889 | Roc Score: 0.9525711 | Time elapsed: 1:02:44.118818\n",
      "iterations: 966 | train_loss: 0.064782016 | validation_loss: 0.053590797 | Roc Score: 0.95259905 | Time elapsed: 1:02:48.047291\n",
      "iterations: 967 | train_loss: 0.052114334 | validation_loss: 0.054924738 | Roc Score: 0.9526273 | Time elapsed: 1:02:51.968782\n",
      "iterations: 968 | train_loss: 0.054058716 | validation_loss: 0.055253446 | Roc Score: 0.9526552 | Time elapsed: 1:02:55.827299\n",
      "iterations: 969 | train_loss: 0.05135525 | validation_loss: 0.05476007 | Roc Score: 0.95268375 | Time elapsed: 1:02:59.714708\n",
      "iterations: 970 | train_loss: 0.049755834 | validation_loss: 0.053914 | Roc Score: 0.9527104 | Time elapsed: 1:03:03.642214\n",
      "iterations: 971 | train_loss: 0.07914464 | validation_loss: 0.05403833 | Roc Score: 0.95273715 | Time elapsed: 1:03:07.531148\n",
      "iterations: 972 | train_loss: 0.05891138 | validation_loss: 0.053898048 | Roc Score: 0.9527636 | Time elapsed: 1:03:11.420352\n",
      "iterations: 973 | train_loss: 0.066858746 | validation_loss: 0.05308903 | Roc Score: 0.9527906 | Time elapsed: 1:03:15.305708\n",
      "iterations: 974 | train_loss: 0.046954922 | validation_loss: 0.05259714 | Roc Score: 0.95281863 | Time elapsed: 1:03:19.236014\n",
      "iterations: 975 | train_loss: 0.035097692 | validation_loss: 0.05264247 | Roc Score: 0.952844 | Time elapsed: 1:03:23.093148\n",
      "iterations: 976 | train_loss: 0.0654517 | validation_loss: 0.05298572 | Roc Score: 0.9528688 | Time elapsed: 1:03:27.027904\n",
      "iterations: 977 | train_loss: 0.043174297 | validation_loss: 0.054119553 | Roc Score: 0.9528914 | Time elapsed: 1:03:30.947377\n",
      "iterations: 978 | train_loss: 0.045248847 | validation_loss: 0.055467706 | Roc Score: 0.9529121 | Time elapsed: 1:03:34.820324\n",
      "iterations: 979 | train_loss: 0.05432001 | validation_loss: 0.056341134 | Roc Score: 0.9529326 | Time elapsed: 1:03:38.709983\n",
      "iterations: 980 | train_loss: 0.059888095 | validation_loss: 0.054903604 | Roc Score: 0.9529573 | Time elapsed: 1:03:42.557824\n",
      "iterations: 981 | train_loss: 0.0502474 | validation_loss: 0.053739566 | Roc Score: 0.9529851 | Time elapsed: 1:03:46.394127\n",
      "iterations: 982 | train_loss: 0.06613213 | validation_loss: 0.05482745 | Roc Score: 0.9530117 | Time elapsed: 1:03:50.375072\n",
      "iterations: 983 | train_loss: 0.0578788 | validation_loss: 0.056685712 | Roc Score: 0.95303595 | Time elapsed: 1:03:54.242131\n",
      "iterations: 984 | train_loss: 0.04797124 | validation_loss: 0.055911366 | Roc Score: 0.95306146 | Time elapsed: 1:03:58.104451\n",
      "iterations: 985 | train_loss: 0.052729424 | validation_loss: 0.053870063 | Roc Score: 0.953089 | Time elapsed: 1:04:02.019065\n",
      "iterations: 986 | train_loss: 0.061982606 | validation_loss: 0.052730724 | Roc Score: 0.95311606 | Time elapsed: 1:04:05.966387\n",
      "iterations: 987 | train_loss: 0.058656726 | validation_loss: 0.05373942 | Roc Score: 0.95313555 | Time elapsed: 1:04:09.899641\n",
      "iterations: 988 | train_loss: 0.05291555 | validation_loss: 0.054837383 | Roc Score: 0.9531509 | Time elapsed: 1:04:13.780704\n",
      "iterations: 989 | train_loss: 0.05920924 | validation_loss: 0.05543939 | Roc Score: 0.95316464 | Time elapsed: 1:04:17.704586\n",
      "iterations: 990 | train_loss: 0.056428444 | validation_loss: 0.054755125 | Roc Score: 0.95317906 | Time elapsed: 1:04:21.597289\n",
      "iterations: 991 | train_loss: 0.033400785 | validation_loss: 0.053877037 | Roc Score: 0.95319676 | Time elapsed: 1:04:25.510558\n",
      "iterations: 992 | train_loss: 0.04146662 | validation_loss: 0.053744443 | Roc Score: 0.95321643 | Time elapsed: 1:04:29.418982\n",
      "iterations: 993 | train_loss: 0.07697363 | validation_loss: 0.05384509 | Roc Score: 0.95323914 | Time elapsed: 1:04:33.365606\n",
      "iterations: 994 | train_loss: 0.04749177 | validation_loss: 0.054513507 | Roc Score: 0.9532639 | Time elapsed: 1:04:37.295569\n",
      "iterations: 995 | train_loss: 0.07321659 | validation_loss: 0.054971877 | Roc Score: 0.95329016 | Time elapsed: 1:04:41.197895\n",
      "iterations: 996 | train_loss: 0.053056337 | validation_loss: 0.054706823 | Roc Score: 0.9533165 | Time elapsed: 1:04:45.146446\n",
      "iterations: 997 | train_loss: 0.041524593 | validation_loss: 0.0533129 | Roc Score: 0.95334184 | Time elapsed: 1:04:49.050998\n",
      "iterations: 998 | train_loss: 0.048790816 | validation_loss: 0.05256462 | Roc Score: 0.9533658 | Time elapsed: 1:04:52.896949\n",
      "iterations: 999 | train_loss: 0.060898233 | validation_loss: 0.052303042 | Roc Score: 0.953391 | Time elapsed: 1:04:56.766023\n",
      "iterations: 1000 | train_loss: 0.044883408 | validation_loss: 0.052180234 | Roc Score: 0.95341676 | Time elapsed: 1:05:00.602855\n",
      "iterations: 1001 | train_loss: 0.062469564 | validation_loss: 0.052036703 | Roc Score: 0.9534446 | Time elapsed: 1:05:04.530861\n",
      "iterations: 1002 | train_loss: 0.051210977 | validation_loss: 0.052337475 | Roc Score: 0.95347196 | Time elapsed: 1:05:08.378110\n",
      "iterations: 1003 | train_loss: 0.04633664 | validation_loss: 0.052935526 | Roc Score: 0.953499 | Time elapsed: 1:05:12.274421\n",
      "iterations: 1004 | train_loss: 0.06973686 | validation_loss: 0.05454157 | Roc Score: 0.95352507 | Time elapsed: 1:05:16.152509\n",
      "iterations: 1005 | train_loss: 0.058408223 | validation_loss: 0.054923512 | Roc Score: 0.95355034 | Time elapsed: 1:05:20.033883\n",
      "iterations: 1006 | train_loss: 0.04849048 | validation_loss: 0.053345125 | Roc Score: 0.95357764 | Time elapsed: 1:05:23.909878\n",
      "iterations: 1007 | train_loss: 0.032607663 | validation_loss: 0.052201338 | Roc Score: 0.95360506 | Time elapsed: 1:05:27.712609\n",
      "iterations: 1008 | train_loss: 0.04385547 | validation_loss: 0.05225133 | Roc Score: 0.95363206 | Time elapsed: 1:05:31.595451\n",
      "iterations: 1009 | train_loss: 0.054013304 | validation_loss: 0.05261755 | Roc Score: 0.9536569 | Time elapsed: 1:05:35.485023\n",
      "iterations: 1010 | train_loss: 0.040881515 | validation_loss: 0.053241674 | Roc Score: 0.9536796 | Time elapsed: 1:05:39.402741\n",
      "iterations: 1011 | train_loss: 0.05590152 | validation_loss: 0.053503923 | Roc Score: 0.9537024 | Time elapsed: 1:05:43.252340\n",
      "iterations: 1012 | train_loss: 0.048421416 | validation_loss: 0.054204836 | Roc Score: 0.95372516 | Time elapsed: 1:05:47.174150\n",
      "iterations: 1013 | train_loss: 0.055514716 | validation_loss: 0.054989778 | Roc Score: 0.9537477 | Time elapsed: 1:05:51.083684\n"
     ]
    },
    {
     "name": "stdout",
     "output_type": "stream",
     "text": [
      "iterations: 1014 | train_loss: 0.051875744 | validation_loss: 0.055108834 | Roc Score: 0.95377105 | Time elapsed: 1:05:54.956188\n",
      "iterations: 1015 | train_loss: 0.041261707 | validation_loss: 0.054828886 | Roc Score: 0.9537942 | Time elapsed: 1:05:58.872858\n",
      "iterations: 1016 | train_loss: 0.07456886 | validation_loss: 0.053643335 | Roc Score: 0.95381624 | Time elapsed: 1:06:02.771243\n",
      "iterations: 1017 | train_loss: 0.050116464 | validation_loss: 0.053451378 | Roc Score: 0.9538376 | Time elapsed: 1:06:06.663352\n",
      "iterations: 1018 | train_loss: 0.06355633 | validation_loss: 0.053201232 | Roc Score: 0.953859 | Time elapsed: 1:06:10.571406\n",
      "iterations: 1019 | train_loss: 0.0427081 | validation_loss: 0.05352623 | Roc Score: 0.95388025 | Time elapsed: 1:06:14.455226\n",
      "iterations: 1020 | train_loss: 0.038217265 | validation_loss: 0.053934883 | Roc Score: 0.9539022 | Time elapsed: 1:06:18.303003\n",
      "iterations: 1021 | train_loss: 0.04545536 | validation_loss: 0.053932346 | Roc Score: 0.95392466 | Time elapsed: 1:06:22.160923\n",
      "iterations: 1022 | train_loss: 0.052935667 | validation_loss: 0.053694803 | Roc Score: 0.9539482 | Time elapsed: 1:06:26.113048\n",
      "iterations: 1023 | train_loss: 0.04599153 | validation_loss: 0.054016344 | Roc Score: 0.95397264 | Time elapsed: 1:06:30.002995\n",
      "iterations: 1024 | train_loss: 0.05102446 | validation_loss: 0.05444785 | Roc Score: 0.9539969 | Time elapsed: 1:06:33.870250\n",
      "iterations: 1025 | train_loss: 0.047106054 | validation_loss: 0.053821452 | Roc Score: 0.95402026 | Time elapsed: 1:06:37.768326\n",
      "iterations: 1026 | train_loss: 0.075552255 | validation_loss: 0.053495012 | Roc Score: 0.95404273 | Time elapsed: 1:06:41.604042\n",
      "iterations: 1027 | train_loss: 0.06277491 | validation_loss: 0.053525336 | Roc Score: 0.9540668 | Time elapsed: 1:06:45.509231\n",
      "iterations: 1028 | train_loss: 0.061928622 | validation_loss: 0.053716 | Roc Score: 0.95409155 | Time elapsed: 1:06:49.393088\n",
      "iterations: 1029 | train_loss: 0.044805884 | validation_loss: 0.053128786 | Roc Score: 0.95411706 | Time elapsed: 1:06:53.292835\n",
      "iterations: 1030 | train_loss: 0.036584605 | validation_loss: 0.052226633 | Roc Score: 0.9541424 | Time elapsed: 1:06:57.186389\n",
      "iterations: 1031 | train_loss: 0.07169937 | validation_loss: 0.052022785 | Roc Score: 0.95416725 | Time elapsed: 1:07:01.086729\n",
      "iterations: 1032 | train_loss: 0.049905095 | validation_loss: 0.052098874 | Roc Score: 0.95419234 | Time elapsed: 1:07:04.925653\n",
      "iterations: 1033 | train_loss: 0.049602382 | validation_loss: 0.052158006 | Roc Score: 0.9542165 | Time elapsed: 1:07:08.806856\n",
      "iterations: 1034 | train_loss: 0.040409602 | validation_loss: 0.052293062 | Roc Score: 0.95424086 | Time elapsed: 1:07:12.723950\n",
      "iterations: 1035 | train_loss: 0.064453796 | validation_loss: 0.05167401 | Roc Score: 0.9542663 | Time elapsed: 1:07:16.667805\n",
      "iterations: 1036 | train_loss: 0.046075933 | validation_loss: 0.051452603 | Roc Score: 0.9542926 | Time elapsed: 1:07:20.541872\n",
      "iterations: 1037 | train_loss: 0.04019077 | validation_loss: 0.051447738 | Roc Score: 0.95431846 | Time elapsed: 1:07:24.454772\n",
      "iterations: 1038 | train_loss: 0.068681486 | validation_loss: 0.05147318 | Roc Score: 0.9543443 | Time elapsed: 1:07:28.362537\n",
      "iterations: 1039 | train_loss: 0.050374947 | validation_loss: 0.05176155 | Roc Score: 0.95436996 | Time elapsed: 1:07:32.273741\n",
      "iterations: 1040 | train_loss: 0.04389448 | validation_loss: 0.052121446 | Roc Score: 0.9543947 | Time elapsed: 1:07:36.198986\n",
      "iterations: 1041 | train_loss: 0.07026049 | validation_loss: 0.052395526 | Roc Score: 0.95441985 | Time elapsed: 1:07:40.125405\n",
      "iterations: 1042 | train_loss: 0.040006474 | validation_loss: 0.052652698 | Roc Score: 0.9544435 | Time elapsed: 1:07:43.924548\n",
      "iterations: 1043 | train_loss: 0.04528183 | validation_loss: 0.053116463 | Roc Score: 0.9544647 | Time elapsed: 1:07:47.850563\n",
      "iterations: 1044 | train_loss: 0.075065844 | validation_loss: 0.053459447 | Roc Score: 0.9544841 | Time elapsed: 1:07:51.670208\n",
      "iterations: 1045 | train_loss: 0.036106467 | validation_loss: 0.053723 | Roc Score: 0.9545032 | Time elapsed: 1:07:55.571156\n",
      "iterations: 1046 | train_loss: 0.029646438 | validation_loss: 0.054159783 | Roc Score: 0.95452076 | Time elapsed: 1:07:59.477015\n",
      "iterations: 1047 | train_loss: 0.03288157 | validation_loss: 0.05509351 | Roc Score: 0.9545349 | Time elapsed: 1:08:03.391667\n",
      "iterations: 1048 | train_loss: 0.04718029 | validation_loss: 0.05539365 | Roc Score: 0.95454866 | Time elapsed: 1:08:07.267260\n",
      "iterations: 1049 | train_loss: 0.055879835 | validation_loss: 0.055550937 | Roc Score: 0.9545633 | Time elapsed: 1:08:11.178270\n",
      "iterations: 1050 | train_loss: 0.061260406 | validation_loss: 0.054044664 | Roc Score: 0.95458215 | Time elapsed: 1:08:15.109803\n",
      "iterations: 1051 | train_loss: 0.03929105 | validation_loss: 0.05321917 | Roc Score: 0.954604 | Time elapsed: 1:08:18.998668\n",
      "iterations: 1052 | train_loss: 0.05771536 | validation_loss: 0.05332258 | Roc Score: 0.9546265 | Time elapsed: 1:08:22.906029\n",
      "iterations: 1053 | train_loss: 0.04640342 | validation_loss: 0.054082368 | Roc Score: 0.95464814 | Time elapsed: 1:08:26.797254\n",
      "iterations: 1054 | train_loss: 0.05937936 | validation_loss: 0.054675974 | Roc Score: 0.9546696 | Time elapsed: 1:08:30.743760\n",
      "iterations: 1055 | train_loss: 0.046723083 | validation_loss: 0.05343521 | Roc Score: 0.95469284 | Time elapsed: 1:08:34.627984\n",
      "iterations: 1056 | train_loss: 0.05941491 | validation_loss: 0.052968107 | Roc Score: 0.95471627 | Time elapsed: 1:08:38.516991\n",
      "iterations: 1057 | train_loss: 0.05683745 | validation_loss: 0.053106017 | Roc Score: 0.954738 | Time elapsed: 1:08:42.410142\n",
      "iterations: 1058 | train_loss: 0.08888632 | validation_loss: 0.05323376 | Roc Score: 0.9547595 | Time elapsed: 1:08:46.127645\n",
      "iterations: 1059 | train_loss: 0.04572421 | validation_loss: 0.053301755 | Roc Score: 0.9547797 | Time elapsed: 1:08:49.984788\n",
      "iterations: 1060 | train_loss: 0.053814467 | validation_loss: 0.05290439 | Roc Score: 0.95480263 | Time elapsed: 1:08:53.862388\n",
      "iterations: 1061 | train_loss: 0.03570297 | validation_loss: 0.05292709 | Roc Score: 0.9548259 | Time elapsed: 1:08:57.759948\n",
      "iterations: 1062 | train_loss: 0.045401584 | validation_loss: 0.052858822 | Roc Score: 0.9548494 | Time elapsed: 1:09:01.644124\n",
      "iterations: 1063 | train_loss: 0.04989095 | validation_loss: 0.052858338 | Roc Score: 0.95487136 | Time elapsed: 1:09:05.529682\n",
      "iterations: 1064 | train_loss: 0.054625574 | validation_loss: 0.052831363 | Roc Score: 0.95489174 | Time elapsed: 1:09:09.421756\n",
      "iterations: 1065 | train_loss: 0.052998118 | validation_loss: 0.052673463 | Roc Score: 0.9549128 | Time elapsed: 1:09:13.323766\n",
      "iterations: 1066 | train_loss: 0.050077323 | validation_loss: 0.052729726 | Roc Score: 0.9549347 | Time elapsed: 1:09:17.141595\n",
      "iterations: 1067 | train_loss: 0.04871633 | validation_loss: 0.053018536 | Roc Score: 0.9549557 | Time elapsed: 1:09:21.093845\n",
      "iterations: 1068 | train_loss: 0.05406385 | validation_loss: 0.053411666 | Roc Score: 0.95497614 | Time elapsed: 1:09:25.011504\n",
      "iterations: 1069 | train_loss: 0.047025405 | validation_loss: 0.05327441 | Roc Score: 0.9549964 | Time elapsed: 1:09:28.871471\n",
      "iterations: 1070 | train_loss: 0.060720786 | validation_loss: 0.053283054 | Roc Score: 0.95501655 | Time elapsed: 1:09:32.758339\n",
      "iterations: 1071 | train_loss: 0.05685138 | validation_loss: 0.053757217 | Roc Score: 0.955037 | Time elapsed: 1:09:36.685302\n",
      "iterations: 1072 | train_loss: 0.06002479 | validation_loss: 0.054018065 | Roc Score: 0.9550556 | Time elapsed: 1:09:40.585642\n",
      "iterations: 1073 | train_loss: 0.05542121 | validation_loss: 0.053935394 | Roc Score: 0.95507383 | Time elapsed: 1:09:44.517919\n",
      "iterations: 1074 | train_loss: 0.0754282 | validation_loss: 0.053261556 | Roc Score: 0.95509464 | Time elapsed: 1:09:48.378613\n",
      "iterations: 1075 | train_loss: 0.0465408 | validation_loss: 0.0529823 | Roc Score: 0.95511514 | Time elapsed: 1:09:52.220906\n",
      "iterations: 1076 | train_loss: 0.045493763 | validation_loss: 0.053033028 | Roc Score: 0.9551356 | Time elapsed: 1:09:56.102230\n",
      "iterations: 1077 | train_loss: 0.040200766 | validation_loss: 0.053708885 | Roc Score: 0.95515263 | Time elapsed: 1:09:59.982889\n",
      "iterations: 1078 | train_loss: 0.06323869 | validation_loss: 0.05344176 | Roc Score: 0.9551702 | Time elapsed: 1:10:03.909132\n",
      "iterations: 1079 | train_loss: 0.051589776 | validation_loss: 0.05337124 | Roc Score: 0.9551882 | Time elapsed: 1:10:07.790904\n",
      "iterations: 1080 | train_loss: 0.05163527 | validation_loss: 0.05324272 | Roc Score: 0.95520777 | Time elapsed: 1:10:11.732458\n",
      "iterations: 1081 | train_loss: 0.06312096 | validation_loss: 0.05316501 | Roc Score: 0.9552287 | Time elapsed: 1:10:15.598290\n",
      "iterations: 1082 | train_loss: 0.055799115 | validation_loss: 0.053267963 | Roc Score: 0.9552505 | Time elapsed: 1:10:19.460599\n",
      "iterations: 1083 | train_loss: 0.04956968 | validation_loss: 0.053156976 | Roc Score: 0.9552728 | Time elapsed: 1:10:23.339814\n",
      "iterations: 1084 | train_loss: 0.041234616 | validation_loss: 0.05284147 | Roc Score: 0.95529497 | Time elapsed: 1:10:27.253718\n",
      "iterations: 1085 | train_loss: 0.05498172 | validation_loss: 0.052629974 | Roc Score: 0.9553172 | Time elapsed: 1:10:31.156593\n",
      "iterations: 1086 | train_loss: 0.045474887 | validation_loss: 0.052569073 | Roc Score: 0.955339 | Time elapsed: 1:10:35.057063\n",
      "iterations: 1087 | train_loss: 0.04039157 | validation_loss: 0.052840393 | Roc Score: 0.95535934 | Time elapsed: 1:10:38.967912\n",
      "iterations: 1088 | train_loss: 0.05264106 | validation_loss: 0.053173672 | Roc Score: 0.95537883 | Time elapsed: 1:10:42.868363\n",
      "iterations: 1089 | train_loss: 0.055280425 | validation_loss: 0.053156443 | Roc Score: 0.9553987 | Time elapsed: 1:10:46.794911\n",
      "iterations: 1090 | train_loss: 0.05483067 | validation_loss: 0.05243517 | Roc Score: 0.9554203 | Time elapsed: 1:10:50.742155\n",
      "iterations: 1091 | train_loss: 0.044068065 | validation_loss: 0.05203942 | Roc Score: 0.9554437 | Time elapsed: 1:10:54.651708\n"
     ]
    },
    {
     "name": "stdout",
     "output_type": "stream",
     "text": [
      "iterations: 1092 | train_loss: 0.07516198 | validation_loss: 0.05287972 | Roc Score: 0.95546716 | Time elapsed: 1:10:58.526699\n",
      "iterations: 1093 | train_loss: 0.05953293 | validation_loss: 0.05379604 | Roc Score: 0.9554892 | Time elapsed: 1:11:02.393659\n",
      "iterations: 1094 | train_loss: 0.040330824 | validation_loss: 0.05330948 | Roc Score: 0.95551157 | Time elapsed: 1:11:06.313244\n",
      "iterations: 1095 | train_loss: 0.04533656 | validation_loss: 0.05220518 | Roc Score: 0.9555352 | Time elapsed: 1:11:10.239280\n",
      "iterations: 1096 | train_loss: 0.042073555 | validation_loss: 0.05197012 | Roc Score: 0.9555575 | Time elapsed: 1:11:14.055712\n",
      "iterations: 1097 | train_loss: 0.0535886 | validation_loss: 0.052664295 | Roc Score: 0.9555773 | Time elapsed: 1:11:17.961861\n",
      "iterations: 1098 | train_loss: 0.052576628 | validation_loss: 0.053771034 | Roc Score: 0.95559275 | Time elapsed: 1:11:21.874947\n",
      "iterations: 1099 | train_loss: 0.046746608 | validation_loss: 0.054936875 | Roc Score: 0.95560426 | Time elapsed: 1:11:25.944067\n",
      "iterations: 1100 | train_loss: 0.043322098 | validation_loss: 0.054826315 | Roc Score: 0.9556152 | Time elapsed: 1:11:29.870040\n",
      "iterations: 1101 | train_loss: 0.0471328 | validation_loss: 0.054165833 | Roc Score: 0.95562834 | Time elapsed: 1:11:33.866012\n",
      "iterations: 1102 | train_loss: 0.052735902 | validation_loss: 0.05353447 | Roc Score: 0.9556425 | Time elapsed: 1:11:37.752791\n",
      "iterations: 1103 | train_loss: 0.05039307 | validation_loss: 0.05273483 | Roc Score: 0.955659 | Time elapsed: 1:11:41.637181\n",
      "iterations: 1104 | train_loss: 0.050052624 | validation_loss: 0.05202019 | Roc Score: 0.95567644 | Time elapsed: 1:11:45.540735\n",
      "iterations: 1105 | train_loss: 0.07373266 | validation_loss: 0.051524784 | Roc Score: 0.9556969 | Time elapsed: 1:11:49.502265\n",
      "iterations: 1106 | train_loss: 0.03634248 | validation_loss: 0.051766954 | Roc Score: 0.9557205 | Time elapsed: 1:11:53.454064\n",
      "iterations: 1107 | train_loss: 0.03554622 | validation_loss: 0.05225067 | Roc Score: 0.9557438 | Time elapsed: 1:11:57.373993\n",
      "iterations: 1108 | train_loss: 0.033124328 | validation_loss: 0.051571053 | Roc Score: 0.9557673 | Time elapsed: 1:12:01.211173\n",
      "iterations: 1109 | train_loss: 0.037958283 | validation_loss: 0.051213693 | Roc Score: 0.955791 | Time elapsed: 1:12:05.133291\n",
      "iterations: 1110 | train_loss: 0.0411863 | validation_loss: 0.050920952 | Roc Score: 0.9558147 | Time elapsed: 1:12:09.016942\n",
      "iterations: 1111 | train_loss: 0.05493426 | validation_loss: 0.05088636 | Roc Score: 0.9558378 | Time elapsed: 1:12:12.959976\n",
      "iterations: 1112 | train_loss: 0.043602545 | validation_loss: 0.051079202 | Roc Score: 0.95585984 | Time elapsed: 1:12:16.816276\n",
      "iterations: 1113 | train_loss: 0.061052054 | validation_loss: 0.05139014 | Roc Score: 0.95588017 | Time elapsed: 1:12:20.484937\n",
      "iterations: 1114 | train_loss: 0.042372696 | validation_loss: 0.05154028 | Roc Score: 0.9558997 | Time elapsed: 1:12:24.330129\n",
      "iterations: 1115 | train_loss: 0.047623534 | validation_loss: 0.052140832 | Roc Score: 0.9559176 | Time elapsed: 1:12:28.210819\n",
      "iterations: 1116 | train_loss: 0.032227937 | validation_loss: 0.05298726 | Roc Score: 0.95593274 | Time elapsed: 1:12:32.145946\n",
      "iterations: 1117 | train_loss: 0.056892797 | validation_loss: 0.053159166 | Roc Score: 0.9559486 | Time elapsed: 1:12:36.003907\n",
      "iterations: 1118 | train_loss: 0.056100115 | validation_loss: 0.053485576 | Roc Score: 0.9559652 | Time elapsed: 1:12:39.912169\n",
      "iterations: 1119 | train_loss: 0.063717216 | validation_loss: 0.054333944 | Roc Score: 0.9559838 | Time elapsed: 1:12:43.823431\n",
      "iterations: 1120 | train_loss: 0.04792823 | validation_loss: 0.055081822 | Roc Score: 0.9560035 | Time elapsed: 1:12:47.693746\n",
      "iterations: 1121 | train_loss: 0.038826197 | validation_loss: 0.055634134 | Roc Score: 0.95602363 | Time elapsed: 1:12:51.553638\n",
      "iterations: 1122 | train_loss: 0.05410061 | validation_loss: 0.054717787 | Roc Score: 0.95604396 | Time elapsed: 1:12:55.423262\n",
      "iterations: 1123 | train_loss: 0.07170385 | validation_loss: 0.05385544 | Roc Score: 0.95606506 | Time elapsed: 1:12:59.333320\n",
      "iterations: 1124 | train_loss: 0.05801695 | validation_loss: 0.052594386 | Roc Score: 0.9560865 | Time elapsed: 1:13:03.240095\n",
      "iterations: 1125 | train_loss: 0.04845887 | validation_loss: 0.052007444 | Roc Score: 0.9561068 | Time elapsed: 1:13:07.143701\n",
      "iterations: 1126 | train_loss: 0.059133727 | validation_loss: 0.051756676 | Roc Score: 0.95612586 | Time elapsed: 1:13:11.034465\n",
      "iterations: 1127 | train_loss: 0.045576803 | validation_loss: 0.052094486 | Roc Score: 0.95614344 | Time elapsed: 1:13:14.918939\n",
      "iterations: 1128 | train_loss: 0.060358666 | validation_loss: 0.052289702 | Roc Score: 0.9561609 | Time elapsed: 1:13:18.835991\n",
      "iterations: 1129 | train_loss: 0.05200637 | validation_loss: 0.052016724 | Roc Score: 0.95617944 | Time elapsed: 1:13:22.773507\n",
      "iterations: 1130 | train_loss: 0.056202915 | validation_loss: 0.051908426 | Roc Score: 0.9561987 | Time elapsed: 1:13:26.593550\n",
      "iterations: 1131 | train_loss: 0.043017942 | validation_loss: 0.05174222 | Roc Score: 0.95621824 | Time elapsed: 1:13:30.540062\n",
      "iterations: 1132 | train_loss: 0.053319108 | validation_loss: 0.05149145 | Roc Score: 0.95624 | Time elapsed: 1:13:34.417660\n",
      "iterations: 1133 | train_loss: 0.03473323 | validation_loss: 0.05144434 | Roc Score: 0.95626175 | Time elapsed: 1:13:38.316785\n",
      "iterations: 1134 | train_loss: 0.058393404 | validation_loss: 0.051491085 | Roc Score: 0.956283 | Time elapsed: 1:13:42.184969\n",
      "iterations: 1135 | train_loss: 0.06507399 | validation_loss: 0.051463887 | Roc Score: 0.95630413 | Time elapsed: 1:13:46.057456\n",
      "iterations: 1136 | train_loss: 0.05716943 | validation_loss: 0.05144288 | Roc Score: 0.9563247 | Time elapsed: 1:13:49.990543\n",
      "iterations: 1137 | train_loss: 0.053852227 | validation_loss: 0.051214643 | Roc Score: 0.95634496 | Time elapsed: 1:13:53.956130\n",
      "iterations: 1138 | train_loss: 0.036430426 | validation_loss: 0.051182106 | Roc Score: 0.95636433 | Time elapsed: 1:13:57.928430\n",
      "iterations: 1139 | train_loss: 0.030450929 | validation_loss: 0.05184434 | Roc Score: 0.95638025 | Time elapsed: 1:14:01.869673\n",
      "iterations: 1140 | train_loss: 0.039358724 | validation_loss: 0.052738097 | Roc Score: 0.956392 | Time elapsed: 1:14:05.847643\n",
      "iterations: 1141 | train_loss: 0.057646282 | validation_loss: 0.052114055 | Roc Score: 0.956407 | Time elapsed: 1:14:09.723583\n",
      "iterations: 1142 | train_loss: 0.04875847 | validation_loss: 0.05182624 | Roc Score: 0.95642316 | Time elapsed: 1:14:13.664798\n",
      "iterations: 1143 | train_loss: 0.041013334 | validation_loss: 0.05164425 | Roc Score: 0.95644087 | Time elapsed: 1:14:17.579107\n",
      "iterations: 1144 | train_loss: 0.032212894 | validation_loss: 0.051921643 | Roc Score: 0.95646113 | Time elapsed: 1:14:21.519664\n",
      "iterations: 1145 | train_loss: 0.04875749 | validation_loss: 0.052376818 | Roc Score: 0.95648086 | Time elapsed: 1:14:25.393723\n",
      "iterations: 1146 | train_loss: 0.04866412 | validation_loss: 0.053263042 | Roc Score: 0.9564999 | Time elapsed: 1:14:29.380100\n",
      "iterations: 1147 | train_loss: 0.052141417 | validation_loss: 0.05340966 | Roc Score: 0.956519 | Time elapsed: 1:14:33.251158\n",
      "iterations: 1148 | train_loss: 0.054655887 | validation_loss: 0.05268384 | Roc Score: 0.95653844 | Time elapsed: 1:14:37.096395\n",
      "iterations: 1149 | train_loss: 0.04209125 | validation_loss: 0.05323083 | Roc Score: 0.9565517 | Time elapsed: 1:14:40.930923\n",
      "iterations: 1150 | train_loss: 0.049479347 | validation_loss: 0.054494586 | Roc Score: 0.9565603 | Time elapsed: 1:14:44.819675\n",
      "iterations: 1151 | train_loss: 0.09611242 | validation_loss: 0.0537875 | Roc Score: 0.95657134 | Time elapsed: 1:14:48.729831\n",
      "iterations: 1152 | train_loss: 0.044032887 | validation_loss: 0.05270973 | Roc Score: 0.9565847 | Time elapsed: 1:14:52.630409\n",
      "iterations: 1153 | train_loss: 0.062033273 | validation_loss: 0.051588487 | Roc Score: 0.9566028 | Time elapsed: 1:14:56.530656\n",
      "iterations: 1154 | train_loss: 0.032780316 | validation_loss: 0.051291198 | Roc Score: 0.9566217 | Time elapsed: 1:15:00.404231\n",
      "iterations: 1155 | train_loss: 0.04292642 | validation_loss: 0.051189605 | Roc Score: 0.95664096 | Time elapsed: 1:15:04.307153\n",
      "iterations: 1156 | train_loss: 0.032690525 | validation_loss: 0.051100034 | Roc Score: 0.95666003 | Time elapsed: 1:15:08.245507\n",
      "iterations: 1157 | train_loss: 0.03329724 | validation_loss: 0.051242318 | Roc Score: 0.9566785 | Time elapsed: 1:15:12.135047\n",
      "iterations: 1158 | train_loss: 0.037620112 | validation_loss: 0.0516859 | Roc Score: 0.9566968 | Time elapsed: 1:15:16.040068\n",
      "iterations: 1159 | train_loss: 0.04242675 | validation_loss: 0.0525494 | Roc Score: 0.9567128 | Time elapsed: 1:15:19.613384\n",
      "iterations: 1160 | train_loss: 0.077345245 | validation_loss: 0.052449826 | Roc Score: 0.9567295 | Time elapsed: 1:15:23.482169\n",
      "iterations: 1161 | train_loss: 0.04560242 | validation_loss: 0.05224906 | Roc Score: 0.95674706 | Time elapsed: 1:15:27.401209\n",
      "iterations: 1162 | train_loss: 0.050783895 | validation_loss: 0.05214707 | Roc Score: 0.9567644 | Time elapsed: 1:15:31.288552\n",
      "iterations: 1163 | train_loss: 0.026573315 | validation_loss: 0.05232043 | Roc Score: 0.9567816 | Time elapsed: 1:15:35.183608\n",
      "iterations: 1164 | train_loss: 0.06500907 | validation_loss: 0.052148014 | Roc Score: 0.95679915 | Time elapsed: 1:15:39.072504\n",
      "iterations: 1165 | train_loss: 0.068711825 | validation_loss: 0.05138366 | Roc Score: 0.95681804 | Time elapsed: 1:15:43.000628\n",
      "iterations: 1166 | train_loss: 0.04210986 | validation_loss: 0.05117094 | Roc Score: 0.9568386 | Time elapsed: 1:15:46.847729\n",
      "iterations: 1167 | train_loss: 0.039085135 | validation_loss: 0.051353116 | Roc Score: 0.9568592 | Time elapsed: 1:15:50.785570\n",
      "iterations: 1168 | train_loss: 0.05560985 | validation_loss: 0.051593114 | Roc Score: 0.9568798 | Time elapsed: 1:15:54.695316\n",
      "iterations: 1169 | train_loss: 0.041989204 | validation_loss: 0.05178027 | Roc Score: 0.95689976 | Time elapsed: 1:15:58.564107\n"
     ]
    },
    {
     "name": "stdout",
     "output_type": "stream",
     "text": [
      "iterations: 1170 | train_loss: 0.046899192 | validation_loss: 0.051916484 | Roc Score: 0.9569184 | Time elapsed: 1:16:02.476208\n",
      "iterations: 1171 | train_loss: 0.058442917 | validation_loss: 0.05234652 | Roc Score: 0.9569356 | Time elapsed: 1:16:06.375118\n",
      "iterations: 1172 | train_loss: 0.061695512 | validation_loss: 0.052386183 | Roc Score: 0.9569516 | Time elapsed: 1:16:10.284790\n",
      "iterations: 1173 | train_loss: 0.04836628 | validation_loss: 0.052558284 | Roc Score: 0.95696735 | Time elapsed: 1:16:14.195900\n",
      "iterations: 1174 | train_loss: 0.03541207 | validation_loss: 0.052390635 | Roc Score: 0.9569839 | Time elapsed: 1:16:18.037444\n",
      "iterations: 1175 | train_loss: 0.035034835 | validation_loss: 0.052136872 | Roc Score: 0.9570009 | Time elapsed: 1:16:21.940178\n",
      "iterations: 1176 | train_loss: 0.039963778 | validation_loss: 0.052073747 | Roc Score: 0.9570177 | Time elapsed: 1:16:25.834933\n",
      "iterations: 1177 | train_loss: 0.05525331 | validation_loss: 0.051497705 | Roc Score: 0.95703596 | Time elapsed: 1:16:29.686112\n",
      "iterations: 1178 | train_loss: 0.05249392 | validation_loss: 0.051163316 | Roc Score: 0.95705605 | Time elapsed: 1:16:33.569365\n",
      "iterations: 1179 | train_loss: 0.036490306 | validation_loss: 0.051506955 | Roc Score: 0.9570766 | Time elapsed: 1:16:37.449430\n",
      "iterations: 1180 | train_loss: 0.050442044 | validation_loss: 0.05174851 | Roc Score: 0.957097 | Time elapsed: 1:16:41.295736\n",
      "iterations: 1181 | train_loss: 0.046003405 | validation_loss: 0.051411867 | Roc Score: 0.95711726 | Time elapsed: 1:16:45.152813\n",
      "iterations: 1182 | train_loss: 0.043507826 | validation_loss: 0.05135508 | Roc Score: 0.9571358 | Time elapsed: 1:16:49.074352\n",
      "iterations: 1183 | train_loss: 0.0452317 | validation_loss: 0.054210234 | Roc Score: 0.9571487 | Time elapsed: 1:16:52.930081\n",
      "iterations: 1184 | train_loss: 0.05919529 | validation_loss: 0.055977855 | Roc Score: 0.95715714 | Time elapsed: 1:16:56.847995\n",
      "iterations: 1185 | train_loss: 0.036277343 | validation_loss: 0.055782188 | Roc Score: 0.9571647 | Time elapsed: 1:17:00.708932\n",
      "iterations: 1186 | train_loss: 0.06596027 | validation_loss: 0.054223116 | Roc Score: 0.9571747 | Time elapsed: 1:17:04.578728\n",
      "iterations: 1187 | train_loss: 0.044640984 | validation_loss: 0.05367358 | Roc Score: 0.95718634 | Time elapsed: 1:17:08.417639\n",
      "iterations: 1188 | train_loss: 0.039502807 | validation_loss: 0.052999947 | Roc Score: 0.95720094 | Time elapsed: 1:17:12.340797\n",
      "iterations: 1189 | train_loss: 0.05995782 | validation_loss: 0.05291089 | Roc Score: 0.9572194 | Time elapsed: 1:17:16.206826\n",
      "iterations: 1190 | train_loss: 0.051783726 | validation_loss: 0.053399485 | Roc Score: 0.95723987 | Time elapsed: 1:17:20.081169\n",
      "iterations: 1191 | train_loss: 0.036998402 | validation_loss: 0.053363435 | Roc Score: 0.95726097 | Time elapsed: 1:17:23.927348\n",
      "iterations: 1192 | train_loss: 0.07120568 | validation_loss: 0.051797226 | Roc Score: 0.9572827 | Time elapsed: 1:17:27.801268\n",
      "iterations: 1193 | train_loss: 0.036422648 | validation_loss: 0.05063502 | Roc Score: 0.9573039 | Time elapsed: 1:17:31.720713\n",
      "iterations: 1194 | train_loss: 0.055308532 | validation_loss: 0.051056735 | Roc Score: 0.9573221 | Time elapsed: 1:17:35.616522\n",
      "iterations: 1195 | train_loss: 0.051867705 | validation_loss: 0.052842643 | Roc Score: 0.95733714 | Time elapsed: 1:17:39.545099\n",
      "iterations: 1196 | train_loss: 0.05873951 | validation_loss: 0.054169856 | Roc Score: 0.95734954 | Time elapsed: 1:17:43.416673\n",
      "iterations: 1197 | train_loss: 0.055152036 | validation_loss: 0.05377904 | Roc Score: 0.95736337 | Time elapsed: 1:17:47.351295\n",
      "iterations: 1198 | train_loss: 0.061795417 | validation_loss: 0.051861033 | Roc Score: 0.9573815 | Time elapsed: 1:17:51.282072\n",
      "iterations: 1199 | train_loss: 0.07486111 | validation_loss: 0.051073246 | Roc Score: 0.9574018 | Time elapsed: 1:17:55.146738\n",
      "iterations: 1200 | train_loss: 0.05543337 | validation_loss: 0.0521621 | Roc Score: 0.9574232 | Time elapsed: 1:17:59.004513\n",
      "iterations: 1201 | train_loss: 0.05028398 | validation_loss: 0.05356618 | Roc Score: 0.9574431 | Time elapsed: 1:18:02.858459\n",
      "iterations: 1202 | train_loss: 0.050990295 | validation_loss: 0.05311426 | Roc Score: 0.95746356 | Time elapsed: 1:18:06.766466\n",
      "iterations: 1203 | train_loss: 0.046892945 | validation_loss: 0.052367143 | Roc Score: 0.95748496 | Time elapsed: 1:18:10.712825\n",
      "iterations: 1204 | train_loss: 0.059344824 | validation_loss: 0.052091718 | Roc Score: 0.95750666 | Time elapsed: 1:18:14.673670\n",
      "iterations: 1205 | train_loss: 0.06477789 | validation_loss: 0.051683705 | Roc Score: 0.9575275 | Time elapsed: 1:18:18.601852\n",
      "iterations: 1206 | train_loss: 0.047761526 | validation_loss: 0.051936585 | Roc Score: 0.95754725 | Time elapsed: 1:18:22.583864\n",
      "iterations: 1207 | train_loss: 0.058248423 | validation_loss: 0.052582793 | Roc Score: 0.9575634 | Time elapsed: 1:18:26.509747\n",
      "iterations: 1208 | train_loss: 0.049666878 | validation_loss: 0.05374596 | Roc Score: 0.9575765 | Time elapsed: 1:18:30.384126\n",
      "iterations: 1209 | train_loss: 0.048118126 | validation_loss: 0.0540212 | Roc Score: 0.9575877 | Time elapsed: 1:18:34.313246\n",
      "iterations: 1210 | train_loss: 0.02654761 | validation_loss: 0.054119166 | Roc Score: 0.95759916 | Time elapsed: 1:18:38.235775\n",
      "iterations: 1211 | train_loss: 0.04003037 | validation_loss: 0.054288115 | Roc Score: 0.957609 | Time elapsed: 1:18:42.098239\n",
      "iterations: 1212 | train_loss: 0.041366074 | validation_loss: 0.05411022 | Roc Score: 0.95761853 | Time elapsed: 1:18:45.948618\n",
      "iterations: 1213 | train_loss: 0.04451225 | validation_loss: 0.05411641 | Roc Score: 0.95762837 | Time elapsed: 1:18:49.821609\n",
      "iterations: 1214 | train_loss: 0.052770294 | validation_loss: 0.053776048 | Roc Score: 0.95763886 | Time elapsed: 1:18:53.816033\n",
      "iterations: 1215 | train_loss: 0.050833307 | validation_loss: 0.05276514 | Roc Score: 0.9576516 | Time elapsed: 1:18:57.721400\n",
      "iterations: 1216 | train_loss: 0.034825638 | validation_loss: 0.051933967 | Roc Score: 0.9576672 | Time elapsed: 1:19:01.601208\n",
      "iterations: 1217 | train_loss: 0.030278461 | validation_loss: 0.05177277 | Roc Score: 0.95768285 | Time elapsed: 1:19:05.566732\n",
      "iterations: 1218 | train_loss: 0.048613407 | validation_loss: 0.051746447 | Roc Score: 0.95769924 | Time elapsed: 1:19:09.457263\n",
      "iterations: 1219 | train_loss: 0.059627667 | validation_loss: 0.051681742 | Roc Score: 0.95771575 | Time elapsed: 1:19:13.346564\n",
      "iterations: 1220 | train_loss: 0.050622422 | validation_loss: 0.05196355 | Roc Score: 0.95773286 | Time elapsed: 1:19:17.236615\n",
      "iterations: 1221 | train_loss: 0.047722816 | validation_loss: 0.052451245 | Roc Score: 0.95774984 | Time elapsed: 1:19:21.113726\n",
      "iterations: 1222 | train_loss: 0.04671355 | validation_loss: 0.053213973 | Roc Score: 0.9577666 | Time elapsed: 1:19:25.004692\n",
      "iterations: 1223 | train_loss: 0.06120168 | validation_loss: 0.053068526 | Roc Score: 0.9577829 | Time elapsed: 1:19:28.778796\n",
      "iterations: 1224 | train_loss: 0.044105858 | validation_loss: 0.0522914 | Roc Score: 0.9578 | Time elapsed: 1:19:32.715235\n",
      "iterations: 1225 | train_loss: 0.034886394 | validation_loss: 0.051633347 | Roc Score: 0.95781666 | Time elapsed: 1:19:36.702123\n",
      "iterations: 1226 | train_loss: 0.048661765 | validation_loss: 0.052097555 | Roc Score: 0.9578315 | Time elapsed: 1:19:40.559015\n",
      "iterations: 1227 | train_loss: 0.026268754 | validation_loss: 0.05311577 | Roc Score: 0.9578428 | Time elapsed: 1:19:44.476429\n",
      "iterations: 1228 | train_loss: 0.037221882 | validation_loss: 0.05453716 | Roc Score: 0.95785064 | Time elapsed: 1:19:48.438863\n",
      "iterations: 1229 | train_loss: 0.052311275 | validation_loss: 0.055421043 | Roc Score: 0.9578568 | Time elapsed: 1:19:52.365033\n",
      "iterations: 1230 | train_loss: 0.08241708 | validation_loss: 0.054210603 | Roc Score: 0.95786583 | Time elapsed: 1:19:56.277232\n",
      "iterations: 1231 | train_loss: 0.04774704 | validation_loss: 0.052432243 | Roc Score: 0.9578803 | Time elapsed: 1:20:00.139358\n",
      "iterations: 1232 | train_loss: 0.040339973 | validation_loss: 0.05199557 | Roc Score: 0.95789653 | Time elapsed: 1:20:04.029702\n",
      "iterations: 1233 | train_loss: 0.07639827 | validation_loss: 0.052121814 | Roc Score: 0.9579136 | Time elapsed: 1:20:07.922262\n",
      "iterations: 1234 | train_loss: 0.06843336 | validation_loss: 0.052055594 | Roc Score: 0.9579315 | Time elapsed: 1:20:11.802446\n",
      "iterations: 1235 | train_loss: 0.04444434 | validation_loss: 0.051559635 | Roc Score: 0.9579499 | Time elapsed: 1:20:15.686686\n",
      "iterations: 1236 | train_loss: 0.052714635 | validation_loss: 0.05109492 | Roc Score: 0.9579685 | Time elapsed: 1:20:19.659826\n",
      "iterations: 1237 | train_loss: 0.037526835 | validation_loss: 0.050802253 | Roc Score: 0.9579869 | Time elapsed: 1:20:23.582538\n",
      "iterations: 1238 | train_loss: 0.05006284 | validation_loss: 0.05071092 | Roc Score: 0.95800465 | Time elapsed: 1:20:27.476080\n",
      "iterations: 1239 | train_loss: 0.056422614 | validation_loss: 0.05064913 | Roc Score: 0.9580227 | Time elapsed: 1:20:31.371051\n",
      "iterations: 1240 | train_loss: 0.057381704 | validation_loss: 0.05057822 | Roc Score: 0.9580413 | Time elapsed: 1:20:35.334763\n",
      "iterations: 1241 | train_loss: 0.0478503 | validation_loss: 0.050758556 | Roc Score: 0.9580599 | Time elapsed: 1:20:39.231617\n",
      "iterations: 1242 | train_loss: 0.043708842 | validation_loss: 0.05057129 | Roc Score: 0.9580788 | Time elapsed: 1:20:43.181056\n",
      "iterations: 1243 | train_loss: 0.04906325 | validation_loss: 0.050384484 | Roc Score: 0.9580978 | Time elapsed: 1:20:47.074104\n",
      "iterations: 1244 | train_loss: 0.060458954 | validation_loss: 0.05028639 | Roc Score: 0.9581167 | Time elapsed: 1:20:50.944119\n",
      "iterations: 1245 | train_loss: 0.06744991 | validation_loss: 0.05071508 | Roc Score: 0.9581367 | Time elapsed: 1:20:54.836377\n",
      "iterations: 1246 | train_loss: 0.036385424 | validation_loss: 0.050662458 | Roc Score: 0.95815676 | Time elapsed: 1:20:58.743768\n",
      "iterations: 1247 | train_loss: 0.046112496 | validation_loss: 0.050348584 | Roc Score: 0.9581762 | Time elapsed: 1:21:02.652987\n"
     ]
    },
    {
     "name": "stdout",
     "output_type": "stream",
     "text": [
      "iterations: 1248 | train_loss: 0.05104645 | validation_loss: 0.05009252 | Roc Score: 0.9581956 | Time elapsed: 1:21:06.559575\n",
      "iterations: 1249 | train_loss: 0.059306145 | validation_loss: 0.04989664 | Roc Score: 0.95821506 | Time elapsed: 1:21:10.500479\n",
      "iterations: 1250 | train_loss: 0.05506258 | validation_loss: 0.04979213 | Roc Score: 0.9582333 | Time elapsed: 1:21:14.394273\n",
      "iterations: 1251 | train_loss: 0.06411771 | validation_loss: 0.04984825 | Roc Score: 0.9582512 | Time elapsed: 1:21:18.124051\n",
      "iterations: 1252 | train_loss: 0.049443487 | validation_loss: 0.049852777 | Roc Score: 0.95826936 | Time elapsed: 1:21:21.988040\n",
      "iterations: 1253 | train_loss: 0.054833017 | validation_loss: 0.049816914 | Roc Score: 0.95828766 | Time elapsed: 1:21:25.899665\n",
      "iterations: 1254 | train_loss: 0.04377196 | validation_loss: 0.049873598 | Roc Score: 0.9583061 | Time elapsed: 1:21:29.786729\n",
      "iterations: 1255 | train_loss: 0.03128082 | validation_loss: 0.050235804 | Roc Score: 0.9583229 | Time elapsed: 1:21:33.736475\n",
      "iterations: 1256 | train_loss: 0.055494428 | validation_loss: 0.050207246 | Roc Score: 0.9583398 | Time elapsed: 1:21:37.640770\n",
      "iterations: 1257 | train_loss: 0.06745378 | validation_loss: 0.049977724 | Roc Score: 0.9583582 | Time elapsed: 1:21:41.506914\n",
      "iterations: 1258 | train_loss: 0.056919996 | validation_loss: 0.04994782 | Roc Score: 0.95837665 | Time elapsed: 1:21:45.418051\n",
      "iterations: 1259 | train_loss: 0.026860565 | validation_loss: 0.049924683 | Roc Score: 0.9583951 | Time elapsed: 1:21:49.332665\n",
      "iterations: 1260 | train_loss: 0.039582178 | validation_loss: 0.05001569 | Roc Score: 0.95841336 | Time elapsed: 1:21:53.233001\n",
      "iterations: 1261 | train_loss: 0.037810355 | validation_loss: 0.05014668 | Roc Score: 0.9584317 | Time elapsed: 1:21:57.116862\n",
      "iterations: 1262 | train_loss: 0.06683871 | validation_loss: 0.05013933 | Roc Score: 0.9584505 | Time elapsed: 1:22:00.971531\n",
      "iterations: 1263 | train_loss: 0.041170273 | validation_loss: 0.050136685 | Roc Score: 0.95846933 | Time elapsed: 1:22:04.872582\n",
      "iterations: 1264 | train_loss: 0.055094764 | validation_loss: 0.050079737 | Roc Score: 0.95848835 | Time elapsed: 1:22:08.772320\n",
      "iterations: 1265 | train_loss: 0.033440348 | validation_loss: 0.05008981 | Roc Score: 0.9585072 | Time elapsed: 1:22:12.668514\n",
      "iterations: 1266 | train_loss: 0.048835244 | validation_loss: 0.05009396 | Roc Score: 0.9585259 | Time elapsed: 1:22:16.567665\n",
      "iterations: 1267 | train_loss: 0.04314911 | validation_loss: 0.04996476 | Roc Score: 0.95854443 | Time elapsed: 1:22:20.333850\n",
      "iterations: 1268 | train_loss: 0.041988384 | validation_loss: 0.049998607 | Roc Score: 0.95856243 | Time elapsed: 1:22:24.291477\n",
      "iterations: 1269 | train_loss: 0.029990915 | validation_loss: 0.050275348 | Roc Score: 0.9585789 | Time elapsed: 1:22:28.211431\n",
      "iterations: 1270 | train_loss: 0.043121766 | validation_loss: 0.050218582 | Roc Score: 0.958596 | Time elapsed: 1:22:32.145351\n",
      "iterations: 1271 | train_loss: 0.03225691 | validation_loss: 0.05017697 | Roc Score: 0.95861286 | Time elapsed: 1:22:36.070209\n",
      "iterations: 1272 | train_loss: 0.042616572 | validation_loss: 0.05038134 | Roc Score: 0.9586293 | Time elapsed: 1:22:39.971153\n",
      "iterations: 1273 | train_loss: 0.05348533 | validation_loss: 0.050287224 | Roc Score: 0.95864654 | Time elapsed: 1:22:43.861593\n",
      "iterations: 1274 | train_loss: 0.06275583 | validation_loss: 0.050661076 | Roc Score: 0.9586648 | Time elapsed: 1:22:47.786202\n",
      "iterations: 1275 | train_loss: 0.057761002 | validation_loss: 0.051630322 | Roc Score: 0.95868343 | Time elapsed: 1:22:51.679649\n",
      "iterations: 1276 | train_loss: 0.02896278 | validation_loss: 0.05128265 | Roc Score: 0.9587023 | Time elapsed: 1:22:55.569127\n",
      "iterations: 1277 | train_loss: 0.043355692 | validation_loss: 0.050820746 | Roc Score: 0.9587205 | Time elapsed: 1:22:59.424085\n",
      "iterations: 1278 | train_loss: 0.05405159 | validation_loss: 0.050819486 | Roc Score: 0.9587378 | Time elapsed: 1:23:03.292083\n",
      "iterations: 1279 | train_loss: 0.044683877 | validation_loss: 0.050354242 | Roc Score: 0.95875394 | Time elapsed: 1:23:07.163944\n",
      "iterations: 1280 | train_loss: 0.030287532 | validation_loss: 0.05101096 | Roc Score: 0.95876694 | Time elapsed: 1:23:11.085429\n",
      "iterations: 1281 | train_loss: 0.028098987 | validation_loss: 0.053745713 | Roc Score: 0.9587747 | Time elapsed: 1:23:14.972949\n",
      "iterations: 1282 | train_loss: 0.04311328 | validation_loss: 0.054497227 | Roc Score: 0.95878035 | Time elapsed: 1:23:18.928753\n",
      "iterations: 1283 | train_loss: 0.056995194 | validation_loss: 0.05248544 | Roc Score: 0.9587892 | Time elapsed: 1:23:22.817685\n",
      "iterations: 1284 | train_loss: 0.06921478 | validation_loss: 0.05044864 | Roc Score: 0.95880437 | Time elapsed: 1:23:26.717236\n",
      "iterations: 1285 | train_loss: 0.056250013 | validation_loss: 0.050889496 | Roc Score: 0.95882255 | Time elapsed: 1:23:30.664081\n",
      "iterations: 1286 | train_loss: 0.05636989 | validation_loss: 0.053961083 | Roc Score: 0.9588397 | Time elapsed: 1:23:34.554521\n",
      "iterations: 1287 | train_loss: 0.047941465 | validation_loss: 0.05652537 | Roc Score: 0.9588552 | Time elapsed: 1:23:38.453640\n",
      "iterations: 1288 | train_loss: 0.037163727 | validation_loss: 0.05552387 | Roc Score: 0.95887077 | Time elapsed: 1:23:42.298451\n",
      "iterations: 1289 | train_loss: 0.047303695 | validation_loss: 0.0528162 | Roc Score: 0.95888823 | Time elapsed: 1:23:46.199742\n",
      "iterations: 1290 | train_loss: 0.046916466 | validation_loss: 0.0511235 | Roc Score: 0.9589059 | Time elapsed: 1:23:50.081235\n",
      "iterations: 1291 | train_loss: 0.0434886 | validation_loss: 0.05139494 | Roc Score: 0.9589218 | Time elapsed: 1:23:54.014498\n",
      "iterations: 1292 | train_loss: 0.045020234 | validation_loss: 0.052907534 | Roc Score: 0.95893294 | Time elapsed: 1:23:57.918667\n",
      "iterations: 1293 | train_loss: 0.07787564 | validation_loss: 0.05337515 | Roc Score: 0.95894337 | Time elapsed: 1:24:01.812128\n",
      "iterations: 1294 | train_loss: 0.03541569 | validation_loss: 0.053489223 | Roc Score: 0.95895314 | Time elapsed: 1:24:05.690485\n",
      "iterations: 1295 | train_loss: 0.08294699 | validation_loss: 0.052140016 | Roc Score: 0.9589656 | Time elapsed: 1:24:09.609682\n",
      "iterations: 1296 | train_loss: 0.043746177 | validation_loss: 0.051610313 | Roc Score: 0.95898116 | Time elapsed: 1:24:13.446563\n",
      "iterations: 1297 | train_loss: 0.06453572 | validation_loss: 0.05233714 | Roc Score: 0.9589981 | Time elapsed: 1:24:17.342980\n",
      "iterations: 1298 | train_loss: 0.036149375 | validation_loss: 0.052605316 | Roc Score: 0.9590152 | Time elapsed: 1:24:21.236980\n",
      "iterations: 1299 | train_loss: 0.06564079 | validation_loss: 0.052346118 | Roc Score: 0.959032 | Time elapsed: 1:24:25.112516\n",
      "iterations: 1300 | train_loss: 0.055536855 | validation_loss: 0.05234793 | Roc Score: 0.95904905 | Time elapsed: 1:24:29.023634\n",
      "iterations: 1301 | train_loss: 0.037819926 | validation_loss: 0.051798623 | Roc Score: 0.95906657 | Time elapsed: 1:24:32.938464\n",
      "iterations: 1302 | train_loss: 0.05132282 | validation_loss: 0.05088796 | Roc Score: 0.9590845 | Time elapsed: 1:24:36.829428\n",
      "iterations: 1303 | train_loss: 0.043905854 | validation_loss: 0.050399307 | Roc Score: 0.9591026 | Time elapsed: 1:24:40.731205\n",
      "iterations: 1304 | train_loss: 0.061010487 | validation_loss: 0.05032 | Roc Score: 0.95911944 | Time elapsed: 1:24:44.602995\n",
      "iterations: 1305 | train_loss: 0.0339177 | validation_loss: 0.050769743 | Roc Score: 0.9591356 | Time elapsed: 1:24:48.474721\n",
      "iterations: 1306 | train_loss: 0.043799095 | validation_loss: 0.05162865 | Roc Score: 0.95915025 | Time elapsed: 1:24:52.337125\n",
      "iterations: 1307 | train_loss: 0.0517976 | validation_loss: 0.05160996 | Roc Score: 0.95916474 | Time elapsed: 1:24:56.235374\n",
      "iterations: 1308 | train_loss: 0.04856071 | validation_loss: 0.051528893 | Roc Score: 0.9591794 | Time elapsed: 1:25:00.188583\n",
      "iterations: 1309 | train_loss: 0.046821605 | validation_loss: 0.05097445 | Roc Score: 0.9591944 | Time elapsed: 1:25:04.044765\n",
      "iterations: 1310 | train_loss: 0.04320182 | validation_loss: 0.05047349 | Roc Score: 0.9592109 | Time elapsed: 1:25:07.986855\n",
      "iterations: 1311 | train_loss: 0.04325277 | validation_loss: 0.05034631 | Roc Score: 0.9592279 | Time elapsed: 1:25:11.854118\n",
      "iterations: 1312 | train_loss: 0.058281824 | validation_loss: 0.05059025 | Roc Score: 0.9592455 | Time elapsed: 1:25:15.778611\n",
      "iterations: 1313 | train_loss: 0.05400198 | validation_loss: 0.05122197 | Roc Score: 0.95926356 | Time elapsed: 1:25:19.726439\n",
      "iterations: 1314 | train_loss: 0.04575349 | validation_loss: 0.051518127 | Roc Score: 0.95928115 | Time elapsed: 1:25:23.586425\n",
      "iterations: 1315 | train_loss: 0.044475827 | validation_loss: 0.050682396 | Roc Score: 0.9592985 | Time elapsed: 1:25:27.519138\n",
      "iterations: 1316 | train_loss: 0.041404516 | validation_loss: 0.05045291 | Roc Score: 0.9593137 | Time elapsed: 1:25:31.431532\n",
      "iterations: 1317 | train_loss: 0.051911227 | validation_loss: 0.05071006 | Roc Score: 0.959327 | Time elapsed: 1:25:35.311683\n",
      "iterations: 1318 | train_loss: 0.04329522 | validation_loss: 0.05124495 | Roc Score: 0.9593391 | Time elapsed: 1:25:39.226551\n",
      "iterations: 1319 | train_loss: 0.038749922 | validation_loss: 0.051175926 | Roc Score: 0.95935106 | Time elapsed: 1:25:43.125281\n",
      "iterations: 1320 | train_loss: 0.029042352 | validation_loss: 0.05152612 | Roc Score: 0.9593618 | Time elapsed: 1:25:47.072716\n",
      "iterations: 1321 | train_loss: 0.048157416 | validation_loss: 0.051734377 | Roc Score: 0.95937204 | Time elapsed: 1:25:50.863084\n",
      "iterations: 1322 | train_loss: 0.046523817 | validation_loss: 0.051673636 | Roc Score: 0.95938253 | Time elapsed: 1:25:54.731672\n",
      "iterations: 1323 | train_loss: 0.02816726 | validation_loss: 0.051540747 | Roc Score: 0.9593945 | Time elapsed: 1:25:58.780723\n",
      "iterations: 1324 | train_loss: 0.04242185 | validation_loss: 0.051663946 | Roc Score: 0.959407 | Time elapsed: 1:26:02.644996\n",
      "iterations: 1325 | train_loss: 0.055853933 | validation_loss: 0.051724818 | Roc Score: 0.9594197 | Time elapsed: 1:26:06.555369\n"
     ]
    },
    {
     "name": "stdout",
     "output_type": "stream",
     "text": [
      "iterations: 1326 | train_loss: 0.055962354 | validation_loss: 0.05139912 | Roc Score: 0.9594335 | Time elapsed: 1:26:10.443003\n",
      "iterations: 1327 | train_loss: 0.035177547 | validation_loss: 0.051324163 | Roc Score: 0.95944864 | Time elapsed: 1:26:14.341945\n",
      "iterations: 1328 | train_loss: 0.06211934 | validation_loss: 0.051566496 | Roc Score: 0.95946443 | Time elapsed: 1:26:18.253365\n",
      "iterations: 1329 | train_loss: 0.04427485 | validation_loss: 0.051838946 | Roc Score: 0.9594803 | Time elapsed: 1:26:22.126878\n",
      "iterations: 1330 | train_loss: 0.0482258 | validation_loss: 0.05153927 | Roc Score: 0.95949596 | Time elapsed: 1:26:26.026263\n",
      "iterations: 1331 | train_loss: 0.045496643 | validation_loss: 0.051184714 | Roc Score: 0.9595105 | Time elapsed: 1:26:29.748644\n",
      "iterations: 1332 | train_loss: 0.037083115 | validation_loss: 0.051166095 | Roc Score: 0.95952386 | Time elapsed: 1:26:33.635297\n",
      "iterations: 1333 | train_loss: 0.032036923 | validation_loss: 0.051469725 | Roc Score: 0.9595361 | Time elapsed: 1:26:37.514774\n",
      "iterations: 1334 | train_loss: 0.05658265 | validation_loss: 0.05165295 | Roc Score: 0.9595479 | Time elapsed: 1:26:41.441056\n",
      "iterations: 1335 | train_loss: 0.06372779 | validation_loss: 0.05162175 | Roc Score: 0.9595592 | Time elapsed: 1:26:45.347080\n",
      "iterations: 1336 | train_loss: 0.060553137 | validation_loss: 0.051470745 | Roc Score: 0.95957035 | Time elapsed: 1:26:49.247223\n",
      "iterations: 1337 | train_loss: 0.02476584 | validation_loss: 0.051399868 | Roc Score: 0.95958143 | Time elapsed: 1:26:53.155531\n",
      "iterations: 1338 | train_loss: 0.05939294 | validation_loss: 0.050982945 | Roc Score: 0.959594 | Time elapsed: 1:26:57.062284\n",
      "iterations: 1339 | train_loss: 0.036383033 | validation_loss: 0.05079863 | Roc Score: 0.95960784 | Time elapsed: 1:27:00.923949\n",
      "iterations: 1340 | train_loss: 0.08496245 | validation_loss: 0.050559282 | Roc Score: 0.95962375 | Time elapsed: 1:27:04.810065\n",
      "iterations: 1341 | train_loss: 0.05068843 | validation_loss: 0.050709646 | Roc Score: 0.9596394 | Time elapsed: 1:27:08.759187\n",
      "iterations: 1342 | train_loss: 0.038082276 | validation_loss: 0.050836492 | Roc Score: 0.95965475 | Time elapsed: 1:27:12.701883\n",
      "iterations: 1343 | train_loss: 0.049470093 | validation_loss: 0.050922453 | Roc Score: 0.95966977 | Time elapsed: 1:27:16.654437\n",
      "iterations: 1344 | train_loss: 0.06667186 | validation_loss: 0.050771795 | Roc Score: 0.959686 | Time elapsed: 1:27:20.546263\n",
      "iterations: 1345 | train_loss: 0.048237696 | validation_loss: 0.050885417 | Roc Score: 0.95970225 | Time elapsed: 1:27:24.441663\n",
      "iterations: 1346 | train_loss: 0.049047813 | validation_loss: 0.051129196 | Roc Score: 0.95971817 | Time elapsed: 1:27:28.373796\n",
      "iterations: 1347 | train_loss: 0.037402544 | validation_loss: 0.051304795 | Roc Score: 0.9597341 | Time elapsed: 1:27:32.274497\n",
      "iterations: 1348 | train_loss: 0.042908505 | validation_loss: 0.0518194 | Roc Score: 0.95974797 | Time elapsed: 1:27:36.072053\n",
      "iterations: 1349 | train_loss: 0.03633214 | validation_loss: 0.053032506 | Roc Score: 0.9597581 | Time elapsed: 1:27:39.983994\n",
      "iterations: 1350 | train_loss: 0.037679575 | validation_loss: 0.056026652 | Roc Score: 0.9597623 | Time elapsed: 1:27:43.898393\n",
      "iterations: 1351 | train_loss: 0.06647797 | validation_loss: 0.0571781 | Roc Score: 0.9597643 | Time elapsed: 1:27:47.851225\n",
      "iterations: 1352 | train_loss: 0.04154458 | validation_loss: 0.057513878 | Roc Score: 0.95976615 | Time elapsed: 1:27:51.722429\n",
      "iterations: 1353 | train_loss: 0.02682195 | validation_loss: 0.05701797 | Roc Score: 0.95976895 | Time elapsed: 1:27:55.602947\n",
      "iterations: 1354 | train_loss: 0.046815112 | validation_loss: 0.054562572 | Roc Score: 0.9597761 | Time elapsed: 1:27:59.532547\n",
      "iterations: 1355 | train_loss: 0.049612094 | validation_loss: 0.052734967 | Roc Score: 0.9597877 | Time elapsed: 1:28:03.490598\n",
      "iterations: 1356 | train_loss: 0.0427539 | validation_loss: 0.05169332 | Roc Score: 0.95980227 | Time elapsed: 1:28:07.410007\n",
      "iterations: 1357 | train_loss: 0.040098973 | validation_loss: 0.051443376 | Roc Score: 0.959817 | Time elapsed: 1:28:11.304387\n",
      "iterations: 1358 | train_loss: 0.041318152 | validation_loss: 0.05140026 | Roc Score: 0.9598317 | Time elapsed: 1:28:15.205834\n",
      "iterations: 1359 | train_loss: 0.051728345 | validation_loss: 0.05141722 | Roc Score: 0.95984685 | Time elapsed: 1:28:19.080446\n",
      "iterations: 1360 | train_loss: 0.04222554 | validation_loss: 0.05159061 | Roc Score: 0.95986164 | Time elapsed: 1:28:23.046693\n",
      "iterations: 1361 | train_loss: 0.041554984 | validation_loss: 0.05119515 | Roc Score: 0.95987666 | Time elapsed: 1:28:26.769884\n",
      "iterations: 1362 | train_loss: 0.060369525 | validation_loss: 0.05104167 | Roc Score: 0.9598927 | Time elapsed: 1:28:30.694235\n",
      "iterations: 1363 | train_loss: 0.037796628 | validation_loss: 0.051271826 | Roc Score: 0.95990866 | Time elapsed: 1:28:34.568698\n",
      "iterations: 1364 | train_loss: 0.040075302 | validation_loss: 0.050950885 | Roc Score: 0.9599241 | Time elapsed: 1:28:38.472087\n",
      "iterations: 1365 | train_loss: 0.04775975 | validation_loss: 0.050386548 | Roc Score: 0.95994055 | Time elapsed: 1:28:42.087199\n",
      "iterations: 1366 | train_loss: 0.04746459 | validation_loss: 0.050214298 | Roc Score: 0.9599563 | Time elapsed: 1:28:46.051454\n",
      "iterations: 1367 | train_loss: 0.050176892 | validation_loss: 0.05050818 | Roc Score: 0.9599708 | Time elapsed: 1:28:49.927948\n",
      "iterations: 1368 | train_loss: 0.047488615 | validation_loss: 0.05051602 | Roc Score: 0.9599854 | Time elapsed: 1:28:53.843098\n",
      "iterations: 1369 | train_loss: 0.06423844 | validation_loss: 0.050653674 | Roc Score: 0.96000123 | Time elapsed: 1:28:57.644983\n",
      "iterations: 1370 | train_loss: 0.06406261 | validation_loss: 0.052030995 | Roc Score: 0.96001726 | Time elapsed: 1:29:01.542555\n",
      "iterations: 1371 | train_loss: 0.06319057 | validation_loss: 0.05497644 | Roc Score: 0.9600323 | Time elapsed: 1:29:05.465393\n",
      "iterations: 1372 | train_loss: 0.06462925 | validation_loss: 0.055537038 | Roc Score: 0.9600466 | Time elapsed: 1:29:09.383445\n",
      "iterations: 1373 | train_loss: 0.043547343 | validation_loss: 0.053139776 | Roc Score: 0.9600623 | Time elapsed: 1:29:13.324277\n",
      "iterations: 1374 | train_loss: 0.03993042 | validation_loss: 0.05109617 | Roc Score: 0.96007943 | Time elapsed: 1:29:17.251508\n",
      "iterations: 1375 | train_loss: 0.053244084 | validation_loss: 0.050877623 | Roc Score: 0.9600942 | Time elapsed: 1:29:21.157567\n",
      "iterations: 1376 | train_loss: 0.056333724 | validation_loss: 0.051920727 | Roc Score: 0.9601074 | Time elapsed: 1:29:25.014671\n",
      "iterations: 1377 | train_loss: 0.06467463 | validation_loss: 0.053370122 | Roc Score: 0.96011835 | Time elapsed: 1:29:28.874281\n",
      "iterations: 1378 | train_loss: 0.037290197 | validation_loss: 0.054200824 | Roc Score: 0.96012837 | Time elapsed: 1:29:32.777563\n",
      "iterations: 1379 | train_loss: 0.051291086 | validation_loss: 0.053374805 | Roc Score: 0.96014005 | Time elapsed: 1:29:36.690798\n",
      "iterations: 1380 | train_loss: 0.041925147 | validation_loss: 0.05174648 | Roc Score: 0.9601541 | Time elapsed: 1:29:40.550379\n",
      "iterations: 1381 | train_loss: 0.028912716 | validation_loss: 0.050706673 | Roc Score: 0.96017 | Time elapsed: 1:29:44.446701\n",
      "iterations: 1382 | train_loss: 0.041049127 | validation_loss: 0.050635044 | Roc Score: 0.9601866 | Time elapsed: 1:29:48.213516\n",
      "iterations: 1383 | train_loss: 0.033648673 | validation_loss: 0.050961338 | Roc Score: 0.96020323 | Time elapsed: 1:29:52.127516\n",
      "iterations: 1384 | train_loss: 0.05473073 | validation_loss: 0.051218707 | Roc Score: 0.9602199 | Time elapsed: 1:29:56.041777\n",
      "iterations: 1385 | train_loss: 0.029433247 | validation_loss: 0.051035047 | Roc Score: 0.96023566 | Time elapsed: 1:30:00.001587\n",
      "iterations: 1386 | train_loss: 0.054197673 | validation_loss: 0.051039375 | Roc Score: 0.96025103 | Time elapsed: 1:30:03.912242\n",
      "iterations: 1387 | train_loss: 0.04151937 | validation_loss: 0.05104094 | Roc Score: 0.9602659 | Time elapsed: 1:30:07.818631\n",
      "iterations: 1388 | train_loss: 0.035661772 | validation_loss: 0.05103048 | Roc Score: 0.96027976 | Time elapsed: 1:30:11.744207\n",
      "iterations: 1389 | train_loss: 0.031003978 | validation_loss: 0.051265635 | Roc Score: 0.96029323 | Time elapsed: 1:30:15.673564\n",
      "iterations: 1390 | train_loss: 0.052428342 | validation_loss: 0.051165003 | Roc Score: 0.9603064 | Time elapsed: 1:30:19.556489\n",
      "iterations: 1391 | train_loss: 0.060822677 | validation_loss: 0.050980493 | Roc Score: 0.9603215 | Time elapsed: 1:30:23.464075\n",
      "iterations: 1392 | train_loss: 0.04083077 | validation_loss: 0.051600304 | Roc Score: 0.96033776 | Time elapsed: 1:30:27.391750\n",
      "iterations: 1393 | train_loss: 0.057975024 | validation_loss: 0.05215458 | Roc Score: 0.9603537 | Time elapsed: 1:30:31.336815\n",
      "iterations: 1394 | train_loss: 0.038930196 | validation_loss: 0.052427083 | Roc Score: 0.96036935 | Time elapsed: 1:30:35.223613\n",
      "iterations: 1395 | train_loss: 0.050182756 | validation_loss: 0.052546557 | Roc Score: 0.9603848 | Time elapsed: 1:30:39.120482\n",
      "iterations: 1396 | train_loss: 0.049285557 | validation_loss: 0.052185304 | Roc Score: 0.9604006 | Time elapsed: 1:30:43.036234\n",
      "iterations: 1397 | train_loss: 0.036866885 | validation_loss: 0.05140842 | Roc Score: 0.96041614 | Time elapsed: 1:30:46.961803\n",
      "iterations: 1398 | train_loss: 0.045758612 | validation_loss: 0.051155012 | Roc Score: 0.9604303 | Time elapsed: 1:30:50.846637\n",
      "iterations: 1399 | train_loss: 0.045269225 | validation_loss: 0.051501535 | Roc Score: 0.96044326 | Time elapsed: 1:30:54.736139\n",
      "iterations: 1400 | train_loss: 0.07439921 | validation_loss: 0.0516287 | Roc Score: 0.9604551 | Time elapsed: 1:30:58.661459\n",
      "iterations: 1401 | train_loss: 0.04664421 | validation_loss: 0.05186398 | Roc Score: 0.96046627 | Time elapsed: 1:31:02.537818\n",
      "iterations: 1402 | train_loss: 0.035078634 | validation_loss: 0.051969115 | Roc Score: 0.9604776 | Time elapsed: 1:31:06.391749\n",
      "iterations: 1403 | train_loss: 0.03746488 | validation_loss: 0.051817987 | Roc Score: 0.9604888 | Time elapsed: 1:31:10.320315\n"
     ]
    },
    {
     "name": "stdout",
     "output_type": "stream",
     "text": [
      "iterations: 1404 | train_loss: 0.0428166 | validation_loss: 0.05158391 | Roc Score: 0.96050096 | Time elapsed: 1:31:14.112292\n",
      "iterations: 1405 | train_loss: 0.051384646 | validation_loss: 0.051541477 | Roc Score: 0.9605145 | Time elapsed: 1:31:18.013768\n",
      "iterations: 1406 | train_loss: 0.034912515 | validation_loss: 0.05186586 | Roc Score: 0.9605284 | Time elapsed: 1:31:21.956797\n",
      "iterations: 1407 | train_loss: 0.06971426 | validation_loss: 0.05245945 | Roc Score: 0.9605426 | Time elapsed: 1:31:25.887247\n",
      "iterations: 1408 | train_loss: 0.05790868 | validation_loss: 0.052938297 | Roc Score: 0.96055686 | Time elapsed: 1:31:29.711917\n",
      "iterations: 1409 | train_loss: 0.0708575 | validation_loss: 0.052774798 | Roc Score: 0.96057034 | Time elapsed: 1:31:33.606472\n",
      "iterations: 1410 | train_loss: 0.042880885 | validation_loss: 0.052378792 | Roc Score: 0.9605831 | Time elapsed: 1:31:37.485536\n",
      "iterations: 1411 | train_loss: 0.059180442 | validation_loss: 0.05213516 | Roc Score: 0.9605945 | Time elapsed: 1:31:41.320253\n",
      "iterations: 1412 | train_loss: 0.060346056 | validation_loss: 0.05215405 | Roc Score: 0.96060514 | Time elapsed: 1:31:45.206335\n",
      "iterations: 1413 | train_loss: 0.05977553 | validation_loss: 0.052315827 | Roc Score: 0.9606156 | Time elapsed: 1:31:49.068880\n",
      "iterations: 1414 | train_loss: 0.04964201 | validation_loss: 0.0526196 | Roc Score: 0.9606251 | Time elapsed: 1:31:52.937246\n",
      "iterations: 1415 | train_loss: 0.04568316 | validation_loss: 0.052523028 | Roc Score: 0.9606351 | Time elapsed: 1:31:56.853311\n",
      "iterations: 1416 | train_loss: 0.045962274 | validation_loss: 0.052221425 | Roc Score: 0.9606466 | Time elapsed: 1:32:00.714723\n",
      "iterations: 1417 | train_loss: 0.04104985 | validation_loss: 0.05195403 | Roc Score: 0.96065897 | Time elapsed: 1:32:04.611431\n",
      "iterations: 1418 | train_loss: 0.04884955 | validation_loss: 0.051626388 | Roc Score: 0.9606717 | Time elapsed: 1:32:08.533894\n",
      "iterations: 1419 | train_loss: 0.041518044 | validation_loss: 0.051396713 | Roc Score: 0.96068454 | Time elapsed: 1:32:12.415479\n",
      "iterations: 1420 | train_loss: 0.030607412 | validation_loss: 0.051227625 | Roc Score: 0.96069825 | Time elapsed: 1:32:16.361845\n",
      "iterations: 1421 | train_loss: 0.041108288 | validation_loss: 0.051252764 | Roc Score: 0.9607123 | Time elapsed: 1:32:20.260813\n",
      "iterations: 1422 | train_loss: 0.05362848 | validation_loss: 0.051536266 | Roc Score: 0.9607263 | Time elapsed: 1:32:24.136619\n",
      "iterations: 1423 | train_loss: 0.03982568 | validation_loss: 0.051581945 | Roc Score: 0.9607407 | Time elapsed: 1:32:27.972794\n",
      "iterations: 1424 | train_loss: 0.033235006 | validation_loss: 0.051131282 | Roc Score: 0.96075445 | Time elapsed: 1:32:31.868136\n",
      "iterations: 1425 | train_loss: 0.0521429 | validation_loss: 0.051136434 | Roc Score: 0.9607676 | Time elapsed: 1:32:35.772668\n",
      "iterations: 1426 | train_loss: 0.04403162 | validation_loss: 0.05159737 | Roc Score: 0.9607789 | Time elapsed: 1:32:39.679570\n",
      "iterations: 1427 | train_loss: 0.037789118 | validation_loss: 0.052679002 | Roc Score: 0.96078736 | Time elapsed: 1:32:43.634014\n",
      "iterations: 1428 | train_loss: 0.039268672 | validation_loss: 0.05380443 | Roc Score: 0.96079427 | Time elapsed: 1:32:47.578526\n",
      "iterations: 1429 | train_loss: 0.05563502 | validation_loss: 0.054161 | Roc Score: 0.9608003 | Time elapsed: 1:32:51.499185\n",
      "iterations: 1430 | train_loss: 0.057581957 | validation_loss: 0.052901465 | Roc Score: 0.96080816 | Time elapsed: 1:32:55.366205\n",
      "iterations: 1431 | train_loss: 0.053970236 | validation_loss: 0.05149892 | Roc Score: 0.96081895 | Time elapsed: 1:32:59.240832\n",
      "iterations: 1432 | train_loss: 0.05394465 | validation_loss: 0.05226776 | Roc Score: 0.9608325 | Time elapsed: 1:33:03.191736\n",
      "iterations: 1433 | train_loss: 0.04625185 | validation_loss: 0.053923115 | Roc Score: 0.9608461 | Time elapsed: 1:33:07.054211\n",
      "iterations: 1434 | train_loss: 0.03800372 | validation_loss: 0.05452098 | Roc Score: 0.96085906 | Time elapsed: 1:33:10.939409\n",
      "iterations: 1435 | train_loss: 0.038522203 | validation_loss: 0.054342076 | Roc Score: 0.9608707 | Time elapsed: 1:33:14.923583\n",
      "iterations: 1436 | train_loss: 0.047023103 | validation_loss: 0.05435475 | Roc Score: 0.96087956 | Time elapsed: 1:33:18.867601\n",
      "iterations: 1437 | train_loss: 0.0498616 | validation_loss: 0.054744616 | Roc Score: 0.96088636 | Time elapsed: 1:33:22.786077\n",
      "iterations: 1438 | train_loss: 0.03841494 | validation_loss: 0.05487537 | Roc Score: 0.96089137 | Time elapsed: 1:33:26.679205\n",
      "iterations: 1439 | train_loss: 0.04840682 | validation_loss: 0.05466061 | Roc Score: 0.96089613 | Time elapsed: 1:33:30.617466\n",
      "iterations: 1440 | train_loss: 0.06147345 | validation_loss: 0.053744525 | Roc Score: 0.9609031 | Time elapsed: 1:33:34.517730\n",
      "iterations: 1441 | train_loss: 0.044476174 | validation_loss: 0.052457556 | Roc Score: 0.9609133 | Time elapsed: 1:33:38.419830\n",
      "iterations: 1442 | train_loss: 0.050948754 | validation_loss: 0.05181229 | Roc Score: 0.9609242 | Time elapsed: 1:33:42.332200\n",
      "iterations: 1443 | train_loss: 0.05105777 | validation_loss: 0.051352896 | Roc Score: 0.96093595 | Time elapsed: 1:33:46.267114\n",
      "iterations: 1444 | train_loss: 0.053810515 | validation_loss: 0.051186085 | Roc Score: 0.96094865 | Time elapsed: 1:33:50.212896\n",
      "iterations: 1445 | train_loss: 0.0532038 | validation_loss: 0.051339522 | Roc Score: 0.96096116 | Time elapsed: 1:33:54.121608\n",
      "iterations: 1446 | train_loss: 0.056813184 | validation_loss: 0.05153282 | Roc Score: 0.9609743 | Time elapsed: 1:33:58.028037\n",
      "iterations: 1447 | train_loss: 0.04546056 | validation_loss: 0.052003752 | Roc Score: 0.9609873 | Time elapsed: 1:34:01.924412\n",
      "iterations: 1448 | train_loss: 0.05524954 | validation_loss: 0.05222339 | Roc Score: 0.9610003 | Time elapsed: 1:34:05.877351\n",
      "iterations: 1449 | train_loss: 0.049462695 | validation_loss: 0.052506085 | Roc Score: 0.96101326 | Time elapsed: 1:34:09.749649\n",
      "iterations: 1450 | train_loss: 0.044010248 | validation_loss: 0.05270952 | Roc Score: 0.96102613 | Time elapsed: 1:34:13.667706\n",
      "iterations: 1451 | train_loss: 0.040178414 | validation_loss: 0.052478403 | Roc Score: 0.9610392 | Time elapsed: 1:34:17.580988\n",
      "iterations: 1452 | train_loss: 0.05472231 | validation_loss: 0.052189 | Roc Score: 0.96105254 | Time elapsed: 1:34:21.445206\n",
      "iterations: 1453 | train_loss: 0.04754179 | validation_loss: 0.051929817 | Roc Score: 0.96106523 | Time elapsed: 1:34:25.358269\n",
      "iterations: 1454 | train_loss: 0.04198401 | validation_loss: 0.05198522 | Roc Score: 0.9610766 | Time elapsed: 1:34:29.274425\n",
      "iterations: 1455 | train_loss: 0.04248647 | validation_loss: 0.052675292 | Roc Score: 0.9610851 | Time elapsed: 1:34:33.286080\n",
      "iterations: 1456 | train_loss: 0.04428402 | validation_loss: 0.052628152 | Roc Score: 0.9610934 | Time elapsed: 1:34:37.175248\n",
      "iterations: 1457 | train_loss: 0.02925351 | validation_loss: 0.05301575 | Roc Score: 0.9611021 | Time elapsed: 1:34:41.098280\n",
      "iterations: 1458 | train_loss: 0.04763446 | validation_loss: 0.053060256 | Roc Score: 0.9611118 | Time elapsed: 1:34:44.999391\n",
      "iterations: 1459 | train_loss: 0.058026053 | validation_loss: 0.05326718 | Roc Score: 0.9611229 | Time elapsed: 1:34:48.841046\n",
      "iterations: 1460 | train_loss: 0.037480768 | validation_loss: 0.053726487 | Roc Score: 0.96113384 | Time elapsed: 1:34:52.741484\n",
      "iterations: 1461 | train_loss: 0.042686135 | validation_loss: 0.05400771 | Roc Score: 0.9611459 | Time elapsed: 1:34:56.664664\n",
      "iterations: 1462 | train_loss: 0.045555472 | validation_loss: 0.053517196 | Roc Score: 0.96115774 | Time elapsed: 1:35:00.556780\n",
      "iterations: 1463 | train_loss: 0.05143752 | validation_loss: 0.052815974 | Roc Score: 0.9611697 | Time elapsed: 1:35:04.492923\n",
      "iterations: 1464 | train_loss: 0.038475227 | validation_loss: 0.052316725 | Roc Score: 0.9611805 | Time elapsed: 1:35:08.370104\n",
      "iterations: 1465 | train_loss: 0.040013596 | validation_loss: 0.051875077 | Roc Score: 0.9611912 | Time elapsed: 1:35:12.279455\n",
      "iterations: 1466 | train_loss: 0.044840366 | validation_loss: 0.051533505 | Roc Score: 0.96120244 | Time elapsed: 1:35:16.162081\n",
      "iterations: 1467 | train_loss: 0.055670567 | validation_loss: 0.05134122 | Roc Score: 0.96121454 | Time elapsed: 1:35:20.089165\n",
      "iterations: 1468 | train_loss: 0.045706537 | validation_loss: 0.051208377 | Roc Score: 0.96122676 | Time elapsed: 1:35:24.049546\n",
      "iterations: 1469 | train_loss: 0.04498472 | validation_loss: 0.05102902 | Roc Score: 0.96123946 | Time elapsed: 1:35:27.955020\n",
      "iterations: 1470 | train_loss: 0.042827073 | validation_loss: 0.051011182 | Roc Score: 0.96125203 | Time elapsed: 1:35:31.813034\n",
      "iterations: 1471 | train_loss: 0.044612505 | validation_loss: 0.051109053 | Roc Score: 0.9612645 | Time elapsed: 1:35:35.763316\n",
      "iterations: 1472 | train_loss: 0.061727423 | validation_loss: 0.05102037 | Roc Score: 0.9612771 | Time elapsed: 1:35:39.645696\n",
      "iterations: 1473 | train_loss: 0.047731828 | validation_loss: 0.050930463 | Roc Score: 0.9612898 | Time elapsed: 1:35:43.552227\n",
      "iterations: 1474 | train_loss: 0.05918932 | validation_loss: 0.050852984 | Roc Score: 0.96130294 | Time elapsed: 1:35:47.513376\n",
      "iterations: 1475 | train_loss: 0.03255881 | validation_loss: 0.050820112 | Roc Score: 0.9613151 | Time elapsed: 1:35:51.432945\n",
      "iterations: 1476 | train_loss: 0.044188563 | validation_loss: 0.051192727 | Roc Score: 0.9613247 | Time elapsed: 1:35:55.350697\n",
      "iterations: 1477 | train_loss: 0.045699444 | validation_loss: 0.05189495 | Roc Score: 0.96133286 | Time elapsed: 1:35:59.216477\n",
      "iterations: 1478 | train_loss: 0.057364013 | validation_loss: 0.051434744 | Roc Score: 0.96134233 | Time elapsed: 1:36:03.185539\n",
      "iterations: 1479 | train_loss: 0.055390358 | validation_loss: 0.05097519 | Roc Score: 0.9613529 | Time elapsed: 1:36:07.030059\n",
      "iterations: 1480 | train_loss: 0.055119082 | validation_loss: 0.050715536 | Roc Score: 0.96136516 | Time elapsed: 1:36:10.935057\n",
      "iterations: 1481 | train_loss: 0.025888171 | validation_loss: 0.050822783 | Roc Score: 0.9613778 | Time elapsed: 1:36:14.684109\n"
     ]
    },
    {
     "name": "stdout",
     "output_type": "stream",
     "text": [
      "iterations: 1482 | train_loss: 0.04469955 | validation_loss: 0.050916325 | Roc Score: 0.9613903 | Time elapsed: 1:36:18.636926\n",
      "iterations: 1483 | train_loss: 0.03315684 | validation_loss: 0.051131424 | Roc Score: 0.9614011 | Time elapsed: 1:36:22.298571\n",
      "iterations: 1484 | train_loss: 0.032243326 | validation_loss: 0.051998585 | Roc Score: 0.96140903 | Time elapsed: 1:36:26.203877\n",
      "iterations: 1485 | train_loss: 0.031928778 | validation_loss: 0.053336482 | Roc Score: 0.96141374 | Time elapsed: 1:36:30.057398\n",
      "iterations: 1486 | train_loss: 0.032481335 | validation_loss: 0.05489424 | Roc Score: 0.9614159 | Time elapsed: 1:36:33.930856\n",
      "iterations: 1487 | train_loss: 0.047767494 | validation_loss: 0.05575086 | Roc Score: 0.96141607 | Time elapsed: 1:36:37.826074\n",
      "iterations: 1488 | train_loss: 0.039923873 | validation_loss: 0.054861717 | Roc Score: 0.96141773 | Time elapsed: 1:36:41.736254\n",
      "iterations: 1489 | train_loss: 0.023943674 | validation_loss: 0.053904496 | Roc Score: 0.9614217 | Time elapsed: 1:36:45.603306\n",
      "iterations: 1490 | train_loss: 0.073518895 | validation_loss: 0.051831614 | Roc Score: 0.9614296 | Time elapsed: 1:36:49.542312\n",
      "iterations: 1491 | train_loss: 0.049286548 | validation_loss: 0.051342208 | Roc Score: 0.9614417 | Time elapsed: 1:36:53.482516\n",
      "iterations: 1492 | train_loss: 0.042051956 | validation_loss: 0.052587304 | Roc Score: 0.96145445 | Time elapsed: 1:36:57.350615\n",
      "iterations: 1493 | train_loss: 0.04089393 | validation_loss: 0.053533133 | Roc Score: 0.9614669 | Time elapsed: 1:37:01.286971\n",
      "iterations: 1494 | train_loss: 0.051111743 | validation_loss: 0.053548362 | Roc Score: 0.9614793 | Time elapsed: 1:37:05.205688\n",
      "iterations: 1495 | train_loss: 0.042927526 | validation_loss: 0.05225634 | Roc Score: 0.96149194 | Time elapsed: 1:37:09.096152\n",
      "iterations: 1496 | train_loss: 0.041188933 | validation_loss: 0.051305998 | Roc Score: 0.9615037 | Time elapsed: 1:37:12.950190\n",
      "iterations: 1497 | train_loss: 0.04122161 | validation_loss: 0.0521711 | Roc Score: 0.9615105 | Time elapsed: 1:37:16.856667\n",
      "iterations: 1498 | train_loss: 0.050868314 | validation_loss: 0.055337656 | Roc Score: 0.9615111 | Time elapsed: 1:37:20.818162\n",
      "iterations: 1499 | train_loss: 0.054366406 | validation_loss: 0.05890137 | Roc Score: 0.96150535 | Time elapsed: 1:37:24.607453\n",
      "iterations: 1500 | train_loss: 0.05913389 | validation_loss: 0.059036057 | Roc Score: 0.9614987 | Time elapsed: 1:37:28.403268\n",
      "iterations: 1501 | train_loss: 0.06798499 | validation_loss: 0.053822003 | Roc Score: 0.96150136 | Time elapsed: 1:37:32.231939\n",
      "iterations: 1502 | train_loss: 0.031145101 | validation_loss: 0.05161381 | Roc Score: 0.96150994 | Time elapsed: 1:37:36.049142\n",
      "iterations: 1503 | train_loss: 0.027190609 | validation_loss: 0.051440086 | Roc Score: 0.9615206 | Time elapsed: 1:37:39.955209\n",
      "iterations: 1504 | train_loss: 0.038107403 | validation_loss: 0.051950105 | Roc Score: 0.9615319 | Time elapsed: 1:37:43.848710\n",
      "iterations: 1505 | train_loss: 0.04485028 | validation_loss: 0.052339617 | Roc Score: 0.9615429 | Time elapsed: 1:37:47.786332\n",
      "iterations: 1506 | train_loss: 0.05084494 | validation_loss: 0.052015822 | Roc Score: 0.96155405 | Time elapsed: 1:37:51.643133\n",
      "iterations: 1507 | train_loss: 0.043868653 | validation_loss: 0.051642388 | Roc Score: 0.9615636 | Time elapsed: 1:37:55.506524\n",
      "iterations: 1508 | train_loss: 0.04524399 | validation_loss: 0.051929455 | Roc Score: 0.9615714 | Time elapsed: 1:37:59.342791\n",
      "iterations: 1509 | train_loss: 0.037579786 | validation_loss: 0.05281456 | Roc Score: 0.9615767 | Time elapsed: 1:38:03.236612\n",
      "iterations: 1510 | train_loss: 0.06259263 | validation_loss: 0.053044066 | Roc Score: 0.9615815 | Time elapsed: 1:38:07.170305\n",
      "iterations: 1511 | train_loss: 0.030166922 | validation_loss: 0.05310099 | Roc Score: 0.96158594 | Time elapsed: 1:38:11.091838\n",
      "iterations: 1512 | train_loss: 0.074164584 | validation_loss: 0.051834475 | Roc Score: 0.96159303 | Time elapsed: 1:38:15.030706\n",
      "iterations: 1513 | train_loss: 0.061571103 | validation_loss: 0.05101055 | Roc Score: 0.9616032 | Time elapsed: 1:38:18.910237\n",
      "iterations: 1514 | train_loss: 0.05094865 | validation_loss: 0.05181175 | Roc Score: 0.96161455 | Time elapsed: 1:38:22.653833\n",
      "iterations: 1515 | train_loss: 0.05197097 | validation_loss: 0.053703632 | Roc Score: 0.96162564 | Time elapsed: 1:38:26.524125\n",
      "iterations: 1516 | train_loss: 0.05027129 | validation_loss: 0.054176014 | Roc Score: 0.961637 | Time elapsed: 1:38:30.357221\n",
      "iterations: 1517 | train_loss: 0.044884987 | validation_loss: 0.053706285 | Roc Score: 0.96164834 | Time elapsed: 1:38:34.347419\n",
      "iterations: 1518 | train_loss: 0.046088647 | validation_loss: 0.051875643 | Roc Score: 0.96166 | Time elapsed: 1:38:38.243258\n",
      "iterations: 1519 | train_loss: 0.047504712 | validation_loss: 0.05064124 | Roc Score: 0.961671 | Time elapsed: 1:38:42.148242\n",
      "iterations: 1520 | train_loss: 0.049517307 | validation_loss: 0.050549775 | Roc Score: 0.96168095 | Time elapsed: 1:38:46.040075\n",
      "iterations: 1521 | train_loss: 0.051465023 | validation_loss: 0.051125836 | Roc Score: 0.9616894 | Time elapsed: 1:38:49.968935\n",
      "iterations: 1522 | train_loss: 0.04574783 | validation_loss: 0.051851824 | Roc Score: 0.9616962 | Time elapsed: 1:38:53.893649\n",
      "iterations: 1523 | train_loss: 0.05927644 | validation_loss: 0.05187813 | Roc Score: 0.96170366 | Time elapsed: 1:38:57.806258\n",
      "iterations: 1524 | train_loss: 0.0402732 | validation_loss: 0.052205767 | Roc Score: 0.96171194 | Time elapsed: 1:39:01.742601\n",
      "iterations: 1525 | train_loss: 0.05272482 | validation_loss: 0.0528538 | Roc Score: 0.9617213 | Time elapsed: 1:39:05.648400\n",
      "iterations: 1526 | train_loss: 0.046207096 | validation_loss: 0.05382314 | Roc Score: 0.9617312 | Time elapsed: 1:39:09.543421\n",
      "iterations: 1527 | train_loss: 0.046841357 | validation_loss: 0.0539968 | Roc Score: 0.96174115 | Time elapsed: 1:39:13.432388\n",
      "iterations: 1528 | train_loss: 0.04415025 | validation_loss: 0.05396814 | Roc Score: 0.9617513 | Time elapsed: 1:39:17.444786\n",
      "iterations: 1529 | train_loss: 0.046043813 | validation_loss: 0.053371366 | Roc Score: 0.9617622 | Time elapsed: 1:39:21.338327\n",
      "iterations: 1530 | train_loss: 0.045782074 | validation_loss: 0.05243774 | Roc Score: 0.96177346 | Time elapsed: 1:39:25.205663\n",
      "iterations: 1531 | train_loss: 0.045182247 | validation_loss: 0.051435806 | Roc Score: 0.9617841 | Time elapsed: 1:39:29.146357\n",
      "iterations: 1532 | train_loss: 0.035696127 | validation_loss: 0.051072884 | Roc Score: 0.96179354 | Time elapsed: 1:39:33.090368\n",
      "iterations: 1533 | train_loss: 0.040526465 | validation_loss: 0.05114878 | Roc Score: 0.96180236 | Time elapsed: 1:39:37.009548\n",
      "iterations: 1534 | train_loss: 0.042010054 | validation_loss: 0.05169983 | Roc Score: 0.9618103 | Time elapsed: 1:39:40.937061\n",
      "iterations: 1535 | train_loss: 0.033717748 | validation_loss: 0.052755754 | Roc Score: 0.96181625 | Time elapsed: 1:39:44.850387\n",
      "iterations: 1536 | train_loss: 0.035156667 | validation_loss: 0.05398894 | Roc Score: 0.96182054 | Time elapsed: 1:39:48.758029\n",
      "iterations: 1537 | train_loss: 0.042220764 | validation_loss: 0.054715257 | Roc Score: 0.9618231 | Time elapsed: 1:39:52.686492\n",
      "iterations: 1538 | train_loss: 0.03894586 | validation_loss: 0.053564955 | Roc Score: 0.96182823 | Time elapsed: 1:39:56.597261\n",
      "iterations: 1539 | train_loss: 0.04822956 | validation_loss: 0.051960003 | Roc Score: 0.96183556 | Time elapsed: 1:40:00.511964\n",
      "iterations: 1540 | train_loss: 0.038352672 | validation_loss: 0.051180247 | Roc Score: 0.9618446 | Time elapsed: 1:40:04.564028\n",
      "iterations: 1541 | train_loss: 0.04204215 | validation_loss: 0.05084119 | Roc Score: 0.96185446 | Time elapsed: 1:40:08.486733\n",
      "iterations: 1542 | train_loss: 0.04707626 | validation_loss: 0.05097317 | Roc Score: 0.96186566 | Time elapsed: 1:40:12.478867\n",
      "iterations: 1543 | train_loss: 0.03910018 | validation_loss: 0.051276013 | Roc Score: 0.9618767 | Time elapsed: 1:40:16.380630\n",
      "iterations: 1544 | train_loss: 0.057033017 | validation_loss: 0.05105153 | Roc Score: 0.9618879 | Time elapsed: 1:40:20.285734\n",
      "iterations: 1545 | train_loss: 0.04673205 | validation_loss: 0.05080529 | Roc Score: 0.96189904 | Time elapsed: 1:40:24.141639\n",
      "iterations: 1546 | train_loss: 0.052140255 | validation_loss: 0.05063204 | Roc Score: 0.9619091 | Time elapsed: 1:40:27.980922\n",
      "iterations: 1547 | train_loss: 0.04901716 | validation_loss: 0.050751936 | Roc Score: 0.9619183 | Time elapsed: 1:40:31.845500\n",
      "iterations: 1548 | train_loss: 0.039262287 | validation_loss: 0.05094292 | Roc Score: 0.9619272 | Time elapsed: 1:40:35.755681\n",
      "iterations: 1549 | train_loss: 0.060343426 | validation_loss: 0.050915163 | Roc Score: 0.9619355 | Time elapsed: 1:40:39.675586\n",
      "iterations: 1550 | train_loss: 0.06655342 | validation_loss: 0.050256293 | Roc Score: 0.9619455 | Time elapsed: 1:40:43.576822\n",
      "iterations: 1551 | train_loss: 0.06690213 | validation_loss: 0.049963877 | Roc Score: 0.96195614 | Time elapsed: 1:40:47.449673\n",
      "iterations: 1552 | train_loss: 0.053368658 | validation_loss: 0.05007344 | Roc Score: 0.96196765 | Time elapsed: 1:40:51.405238\n",
      "iterations: 1553 | train_loss: 0.05196451 | validation_loss: 0.05046839 | Roc Score: 0.9619796 | Time elapsed: 1:40:55.360205\n",
      "iterations: 1554 | train_loss: 0.0553152 | validation_loss: 0.05077142 | Roc Score: 0.96199155 | Time elapsed: 1:40:59.239212\n",
      "iterations: 1555 | train_loss: 0.04448351 | validation_loss: 0.050791807 | Roc Score: 0.9620029 | Time elapsed: 1:41:03.216521\n",
      "iterations: 1556 | train_loss: 0.049345233 | validation_loss: 0.050874315 | Roc Score: 0.9620138 | Time elapsed: 1:41:07.108549\n",
      "iterations: 1557 | train_loss: 0.060771205 | validation_loss: 0.051030625 | Roc Score: 0.9620239 | Time elapsed: 1:41:10.966759\n",
      "iterations: 1558 | train_loss: 0.029083084 | validation_loss: 0.051318288 | Roc Score: 0.96203315 | Time elapsed: 1:41:14.973674\n",
      "iterations: 1559 | train_loss: 0.042059965 | validation_loss: 0.051584445 | Roc Score: 0.9620426 | Time elapsed: 1:41:18.993984\n"
     ]
    },
    {
     "name": "stdout",
     "output_type": "stream",
     "text": [
      "iterations: 1560 | train_loss: 0.038201865 | validation_loss: 0.051848084 | Roc Score: 0.9620521 | Time elapsed: 1:41:22.879947\n",
      "iterations: 1561 | train_loss: 0.045076314 | validation_loss: 0.052134294 | Roc Score: 0.96206087 | Time elapsed: 1:41:26.755132\n",
      "iterations: 1562 | train_loss: 0.03725792 | validation_loss: 0.052413233 | Roc Score: 0.96206963 | Time elapsed: 1:41:30.679250\n",
      "iterations: 1563 | train_loss: 0.05009074 | validation_loss: 0.05218562 | Roc Score: 0.9620783 | Time elapsed: 1:41:34.648890\n",
      "iterations: 1564 | train_loss: 0.068403326 | validation_loss: 0.051326957 | Roc Score: 0.9620883 | Time elapsed: 1:41:38.560209\n",
      "iterations: 1565 | train_loss: 0.040108737 | validation_loss: 0.05099298 | Roc Score: 0.962099 | Time elapsed: 1:41:42.485628\n",
      "iterations: 1566 | train_loss: 0.03949858 | validation_loss: 0.05090068 | Roc Score: 0.9621095 | Time elapsed: 1:41:46.336701\n",
      "iterations: 1567 | train_loss: 0.020705003 | validation_loss: 0.050837226 | Roc Score: 0.9621196 | Time elapsed: 1:41:50.216738\n",
      "iterations: 1568 | train_loss: 0.051894598 | validation_loss: 0.050745282 | Roc Score: 0.96212983 | Time elapsed: 1:41:54.128014\n",
      "iterations: 1569 | train_loss: 0.053928927 | validation_loss: 0.050783403 | Roc Score: 0.96213996 | Time elapsed: 1:41:58.012355\n",
      "iterations: 1570 | train_loss: 0.04494672 | validation_loss: 0.05080611 | Roc Score: 0.96214956 | Time elapsed: 1:42:01.907950\n",
      "iterations: 1571 | train_loss: 0.056667443 | validation_loss: 0.05103593 | Roc Score: 0.96215874 | Time elapsed: 1:42:05.668766\n",
      "iterations: 1572 | train_loss: 0.044492785 | validation_loss: 0.051402006 | Roc Score: 0.9621673 | Time elapsed: 1:42:09.602100\n",
      "iterations: 1573 | train_loss: 0.059056904 | validation_loss: 0.051624235 | Roc Score: 0.96217614 | Time elapsed: 1:42:13.495262\n",
      "iterations: 1574 | train_loss: 0.053406265 | validation_loss: 0.051686548 | Roc Score: 0.96218526 | Time elapsed: 1:42:17.417925\n",
      "iterations: 1575 | train_loss: 0.044186782 | validation_loss: 0.05190741 | Roc Score: 0.96219546 | Time elapsed: 1:42:21.353076\n",
      "iterations: 1576 | train_loss: 0.04682763 | validation_loss: 0.052149978 | Roc Score: 0.96220624 | Time elapsed: 1:42:25.288416\n",
      "iterations: 1577 | train_loss: 0.03317717 | validation_loss: 0.05268978 | Roc Score: 0.96221775 | Time elapsed: 1:42:29.288756\n",
      "iterations: 1578 | train_loss: 0.048595075 | validation_loss: 0.052372463 | Roc Score: 0.96222913 | Time elapsed: 1:42:33.209888\n",
      "iterations: 1579 | train_loss: 0.050304204 | validation_loss: 0.051992998 | Roc Score: 0.9622406 | Time elapsed: 1:42:37.146857\n",
      "iterations: 1580 | train_loss: 0.045008067 | validation_loss: 0.05155964 | Roc Score: 0.9622517 | Time elapsed: 1:42:41.037435\n",
      "iterations: 1581 | train_loss: 0.06397897 | validation_loss: 0.051261663 | Roc Score: 0.9622629 | Time elapsed: 1:42:44.984537\n",
      "iterations: 1582 | train_loss: 0.049336813 | validation_loss: 0.051337793 | Roc Score: 0.9622731 | Time elapsed: 1:42:48.819218\n",
      "iterations: 1583 | train_loss: 0.037557006 | validation_loss: 0.051723145 | Roc Score: 0.96228194 | Time elapsed: 1:42:52.699404\n",
      "iterations: 1584 | train_loss: 0.039393917 | validation_loss: 0.052245386 | Roc Score: 0.96229005 | Time elapsed: 1:42:56.572360\n",
      "iterations: 1585 | train_loss: 0.052446973 | validation_loss: 0.052568913 | Roc Score: 0.9622975 | Time elapsed: 1:43:00.406141\n",
      "iterations: 1586 | train_loss: 0.037760045 | validation_loss: 0.053129073 | Roc Score: 0.96230483 | Time elapsed: 1:43:04.288171\n",
      "iterations: 1587 | train_loss: 0.058011666 | validation_loss: 0.052411664 | Roc Score: 0.96231323 | Time elapsed: 1:43:08.195947\n",
      "iterations: 1588 | train_loss: 0.04030765 | validation_loss: 0.051351056 | Roc Score: 0.962323 | Time elapsed: 1:43:12.076969\n",
      "iterations: 1589 | train_loss: 0.04336577 | validation_loss: 0.05092894 | Roc Score: 0.9623341 | Time elapsed: 1:43:15.982544\n",
      "iterations: 1590 | train_loss: 0.04866902 | validation_loss: 0.050990988 | Roc Score: 0.96234536 | Time elapsed: 1:43:19.898771\n",
      "iterations: 1591 | train_loss: 0.08288018 | validation_loss: 0.051615503 | Roc Score: 0.9623566 | Time elapsed: 1:43:23.814491\n",
      "iterations: 1592 | train_loss: 0.06304296 | validation_loss: 0.051903542 | Roc Score: 0.9623679 | Time elapsed: 1:43:27.722426\n",
      "iterations: 1593 | train_loss: 0.03205957 | validation_loss: 0.05117323 | Roc Score: 0.962379 | Time elapsed: 1:43:31.631181\n",
      "iterations: 1594 | train_loss: 0.042927407 | validation_loss: 0.050368294 | Roc Score: 0.96239 | Time elapsed: 1:43:35.501208\n",
      "iterations: 1595 | train_loss: 0.051310655 | validation_loss: 0.050532665 | Roc Score: 0.96239936 | Time elapsed: 1:43:39.430983\n",
      "iterations: 1596 | train_loss: 0.043075226 | validation_loss: 0.0509707 | Roc Score: 0.96240747 | Time elapsed: 1:43:43.355134\n",
      "iterations: 1597 | train_loss: 0.030562496 | validation_loss: 0.051479153 | Roc Score: 0.96241426 | Time elapsed: 1:43:47.219163\n",
      "iterations: 1598 | train_loss: 0.05140927 | validation_loss: 0.051708687 | Roc Score: 0.96242124 | Time elapsed: 1:43:51.114566\n",
      "iterations: 1599 | train_loss: 0.051010907 | validation_loss: 0.05167803 | Roc Score: 0.96242815 | Time elapsed: 1:43:55.027069\n",
      "iterations: 1600 | train_loss: 0.03906381 | validation_loss: 0.051446307 | Roc Score: 0.9624352 | Time elapsed: 1:43:58.892611\n",
      "iterations: 1601 | train_loss: 0.04444151 | validation_loss: 0.051112883 | Roc Score: 0.9624434 | Time elapsed: 1:44:02.800420\n",
      "iterations: 1602 | train_loss: 0.038244225 | validation_loss: 0.051014785 | Roc Score: 0.9624525 | Time elapsed: 1:44:06.624849\n",
      "iterations: 1603 | train_loss: 0.049928576 | validation_loss: 0.051028356 | Roc Score: 0.96246195 | Time elapsed: 1:44:10.529183\n",
      "iterations: 1604 | train_loss: 0.04357499 | validation_loss: 0.051038004 | Roc Score: 0.96247196 | Time elapsed: 1:44:14.422780\n",
      "iterations: 1605 | train_loss: 0.046057954 | validation_loss: 0.05099326 | Roc Score: 0.96248245 | Time elapsed: 1:44:18.409920\n",
      "iterations: 1606 | train_loss: 0.031159054 | validation_loss: 0.051003695 | Roc Score: 0.96249324 | Time elapsed: 1:44:22.321138\n",
      "iterations: 1607 | train_loss: 0.050924305 | validation_loss: 0.05108163 | Roc Score: 0.9625041 | Time elapsed: 1:44:26.194950\n",
      "iterations: 1608 | train_loss: 0.0523921 | validation_loss: 0.051192615 | Roc Score: 0.9625145 | Time elapsed: 1:44:30.074389\n",
      "iterations: 1609 | train_loss: 0.04940687 | validation_loss: 0.05129072 | Roc Score: 0.96252507 | Time elapsed: 1:44:33.870117\n",
      "iterations: 1610 | train_loss: 0.04870325 | validation_loss: 0.051269628 | Roc Score: 0.9625356 | Time elapsed: 1:44:37.749092\n",
      "iterations: 1611 | train_loss: 0.06012572 | validation_loss: 0.051274866 | Roc Score: 0.9625459 | Time elapsed: 1:44:41.628730\n",
      "iterations: 1612 | train_loss: 0.04493607 | validation_loss: 0.05118157 | Roc Score: 0.962556 | Time elapsed: 1:44:45.560719\n",
      "iterations: 1613 | train_loss: 0.022852302 | validation_loss: 0.051322717 | Roc Score: 0.96256584 | Time elapsed: 1:44:49.436778\n",
      "iterations: 1614 | train_loss: 0.044943858 | validation_loss: 0.051455438 | Roc Score: 0.9625746 | Time elapsed: 1:44:53.322088\n",
      "iterations: 1615 | train_loss: 0.036673065 | validation_loss: 0.05150247 | Roc Score: 0.9625835 | Time elapsed: 1:44:57.017215\n",
      "iterations: 1616 | train_loss: 0.03662661 | validation_loss: 0.051558774 | Roc Score: 0.9625911 | Time elapsed: 1:45:00.933574\n",
      "iterations: 1617 | train_loss: 0.065910965 | validation_loss: 0.05119874 | Roc Score: 0.9625996 | Time elapsed: 1:45:04.841815\n",
      "iterations: 1618 | train_loss: 0.06674971 | validation_loss: 0.050993994 | Roc Score: 0.9626094 | Time elapsed: 1:45:08.546453\n",
      "iterations: 1619 | train_loss: 0.052581813 | validation_loss: 0.051567476 | Roc Score: 0.96262044 | Time elapsed: 1:45:12.428384\n",
      "iterations: 1620 | train_loss: 0.035184298 | validation_loss: 0.05162103 | Roc Score: 0.96263105 | Time elapsed: 1:45:16.304611\n",
      "iterations: 1621 | train_loss: 0.05083246 | validation_loss: 0.05135539 | Roc Score: 0.9626414 | Time elapsed: 1:45:20.183241\n",
      "iterations: 1622 | train_loss: 0.04884278 | validation_loss: 0.051323965 | Roc Score: 0.96265113 | Time elapsed: 1:45:24.102084\n",
      "iterations: 1623 | train_loss: 0.041210003 | validation_loss: 0.051552445 | Roc Score: 0.9626597 | Time elapsed: 1:45:28.016144\n",
      "iterations: 1624 | train_loss: 0.07238221 | validation_loss: 0.05158845 | Roc Score: 0.96267 | Time elapsed: 1:45:31.905194\n",
      "iterations: 1625 | train_loss: 0.056370944 | validation_loss: 0.05174493 | Roc Score: 0.96268094 | Time elapsed: 1:45:35.782359\n",
      "iterations: 1626 | train_loss: 0.061684754 | validation_loss: 0.052838027 | Roc Score: 0.96269137 | Time elapsed: 1:45:39.690868\n",
      "iterations: 1627 | train_loss: 0.034412086 | validation_loss: 0.053083424 | Roc Score: 0.9627019 | Time elapsed: 1:45:43.571388\n",
      "iterations: 1628 | train_loss: 0.04852706 | validation_loss: 0.05273455 | Roc Score: 0.96271235 | Time elapsed: 1:45:47.482361\n",
      "iterations: 1629 | train_loss: 0.054057375 | validation_loss: 0.051475495 | Roc Score: 0.9627233 | Time elapsed: 1:45:51.389935\n",
      "iterations: 1630 | train_loss: 0.04196122 | validation_loss: 0.051182713 | Roc Score: 0.9627328 | Time elapsed: 1:45:55.284100\n",
      "iterations: 1631 | train_loss: 0.039417405 | validation_loss: 0.052013982 | Roc Score: 0.9627404 | Time elapsed: 1:45:59.191795\n",
      "iterations: 1632 | train_loss: 0.046338655 | validation_loss: 0.053108275 | Roc Score: 0.9627457 | Time elapsed: 1:46:03.046376\n",
      "iterations: 1633 | train_loss: 0.048598547 | validation_loss: 0.053509228 | Roc Score: 0.96275026 | Time elapsed: 1:46:06.901471\n",
      "iterations: 1634 | train_loss: 0.048660684 | validation_loss: 0.052853063 | Roc Score: 0.96275586 | Time elapsed: 1:46:10.785095\n",
      "iterations: 1635 | train_loss: 0.06442 | validation_loss: 0.05138097 | Roc Score: 0.9627646 | Time elapsed: 1:46:14.659174\n",
      "iterations: 1636 | train_loss: 0.03863782 | validation_loss: 0.050888244 | Roc Score: 0.96277416 | Time elapsed: 1:46:18.501734\n",
      "iterations: 1637 | train_loss: 0.038886443 | validation_loss: 0.050885014 | Roc Score: 0.9627842 | Time elapsed: 1:46:22.397642\n"
     ]
    },
    {
     "name": "stdout",
     "output_type": "stream",
     "text": [
      "iterations: 1638 | train_loss: 0.029446099 | validation_loss: 0.050928283 | Roc Score: 0.9627944 | Time elapsed: 1:46:26.343276\n",
      "iterations: 1639 | train_loss: 0.036461126 | validation_loss: 0.050809618 | Roc Score: 0.96280354 | Time elapsed: 1:46:30.240317\n",
      "iterations: 1640 | train_loss: 0.02884071 | validation_loss: 0.050885297 | Roc Score: 0.9628114 | Time elapsed: 1:46:34.129251\n",
      "iterations: 1641 | train_loss: 0.049223956 | validation_loss: 0.05167413 | Roc Score: 0.96281695 | Time elapsed: 1:46:38.034978\n",
      "iterations: 1642 | train_loss: 0.033149134 | validation_loss: 0.05238379 | Roc Score: 0.96282095 | Time elapsed: 1:46:41.957082\n",
      "iterations: 1643 | train_loss: 0.054467373 | validation_loss: 0.05294452 | Roc Score: 0.9628241 | Time elapsed: 1:46:45.858866\n",
      "iterations: 1644 | train_loss: 0.0473852 | validation_loss: 0.05288294 | Roc Score: 0.96282727 | Time elapsed: 1:46:49.732036\n",
      "iterations: 1645 | train_loss: 0.041061368 | validation_loss: 0.05248649 | Roc Score: 0.9628313 | Time elapsed: 1:46:53.649635\n",
      "iterations: 1646 | train_loss: 0.061604466 | validation_loss: 0.051874787 | Roc Score: 0.9628378 | Time elapsed: 1:46:57.546310\n",
      "iterations: 1647 | train_loss: 0.0343803 | validation_loss: 0.052206546 | Roc Score: 0.96284515 | Time elapsed: 1:47:01.475038\n",
      "iterations: 1648 | train_loss: 0.036646865 | validation_loss: 0.052412633 | Roc Score: 0.9628526 | Time elapsed: 1:47:05.401656\n",
      "iterations: 1649 | train_loss: 0.049553487 | validation_loss: 0.05246133 | Roc Score: 0.96286017 | Time elapsed: 1:47:09.272088\n",
      "iterations: 1650 | train_loss: 0.048074596 | validation_loss: 0.052361045 | Roc Score: 0.96286875 | Time elapsed: 1:47:13.156809\n",
      "iterations: 1651 | train_loss: 0.03867798 | validation_loss: 0.05172215 | Roc Score: 0.96287775 | Time elapsed: 1:47:17.067443\n",
      "iterations: 1652 | train_loss: 0.054721564 | validation_loss: 0.051560335 | Roc Score: 0.96288705 | Time elapsed: 1:47:20.945860\n",
      "iterations: 1653 | train_loss: 0.027201748 | validation_loss: 0.05107407 | Roc Score: 0.9628966 | Time elapsed: 1:47:24.927732\n",
      "iterations: 1654 | train_loss: 0.050762206 | validation_loss: 0.050588787 | Roc Score: 0.96290606 | Time elapsed: 1:47:28.835014\n",
      "iterations: 1655 | train_loss: 0.04181038 | validation_loss: 0.050713148 | Roc Score: 0.9629144 | Time elapsed: 1:47:32.741497\n",
      "iterations: 1656 | train_loss: 0.044125684 | validation_loss: 0.05148146 | Roc Score: 0.9629216 | Time elapsed: 1:47:36.678886\n",
      "iterations: 1657 | train_loss: 0.04309596 | validation_loss: 0.052404713 | Roc Score: 0.96292734 | Time elapsed: 1:47:40.586454\n",
      "iterations: 1658 | train_loss: 0.06392601 | validation_loss: 0.05266628 | Roc Score: 0.96293294 | Time elapsed: 1:47:44.509681\n",
      "iterations: 1659 | train_loss: 0.040161517 | validation_loss: 0.052284647 | Roc Score: 0.9629395 | Time elapsed: 1:47:48.369026\n",
      "iterations: 1660 | train_loss: 0.0638959 | validation_loss: 0.051300462 | Roc Score: 0.96294856 | Time elapsed: 1:47:52.254371\n",
      "iterations: 1661 | train_loss: 0.03800859 | validation_loss: 0.051047284 | Roc Score: 0.96295744 | Time elapsed: 1:47:56.151022\n",
      "iterations: 1662 | train_loss: 0.045819018 | validation_loss: 0.05134279 | Roc Score: 0.9629673 | Time elapsed: 1:48:00.044334\n",
      "iterations: 1663 | train_loss: 0.04161566 | validation_loss: 0.051867828 | Roc Score: 0.9629773 | Time elapsed: 1:48:03.968920\n",
      "iterations: 1664 | train_loss: 0.051505774 | validation_loss: 0.05220935 | Roc Score: 0.96298754 | Time elapsed: 1:48:07.852439\n",
      "iterations: 1665 | train_loss: 0.05150376 | validation_loss: 0.05178026 | Roc Score: 0.96299756 | Time elapsed: 1:48:11.768064\n",
      "iterations: 1666 | train_loss: 0.05018602 | validation_loss: 0.051297113 | Roc Score: 0.96300673 | Time elapsed: 1:48:15.687027\n",
      "iterations: 1667 | train_loss: 0.050290845 | validation_loss: 0.05135789 | Roc Score: 0.9630148 | Time elapsed: 1:48:19.627532\n",
      "iterations: 1668 | train_loss: 0.053784188 | validation_loss: 0.051548705 | Roc Score: 0.9630221 | Time elapsed: 1:48:23.570043\n",
      "iterations: 1669 | train_loss: 0.046588413 | validation_loss: 0.051858857 | Roc Score: 0.96302766 | Time elapsed: 1:48:27.505324\n",
      "iterations: 1670 | train_loss: 0.04819403 | validation_loss: 0.05218942 | Roc Score: 0.9630326 | Time elapsed: 1:48:31.412292\n",
      "iterations: 1671 | train_loss: 0.041266274 | validation_loss: 0.052231845 | Roc Score: 0.9630384 | Time elapsed: 1:48:35.194591\n",
      "iterations: 1672 | train_loss: 0.065996036 | validation_loss: 0.051699445 | Roc Score: 0.9630462 | Time elapsed: 1:48:39.126366\n",
      "iterations: 1673 | train_loss: 0.037830576 | validation_loss: 0.05152 | Roc Score: 0.9630549 | Time elapsed: 1:48:43.067937\n",
      "iterations: 1674 | train_loss: 0.045255613 | validation_loss: 0.051480092 | Roc Score: 0.9630648 | Time elapsed: 1:48:46.972227\n",
      "iterations: 1675 | train_loss: 0.05422032 | validation_loss: 0.051420443 | Roc Score: 0.96307474 | Time elapsed: 1:48:50.867979\n",
      "iterations: 1676 | train_loss: 0.04657811 | validation_loss: 0.05126141 | Roc Score: 0.96308494 | Time elapsed: 1:48:54.771023\n",
      "iterations: 1677 | train_loss: 0.048723 | validation_loss: 0.051110275 | Roc Score: 0.96309453 | Time elapsed: 1:48:58.673916\n",
      "iterations: 1678 | train_loss: 0.04014659 | validation_loss: 0.051040567 | Roc Score: 0.9631048 | Time elapsed: 1:49:02.563607\n",
      "iterations: 1679 | train_loss: 0.041016504 | validation_loss: 0.050949555 | Roc Score: 0.96311414 | Time elapsed: 1:49:06.439479\n",
      "iterations: 1680 | train_loss: 0.06559755 | validation_loss: 0.050913375 | Roc Score: 0.9631233 | Time elapsed: 1:49:10.377844\n",
      "iterations: 1681 | train_loss: 0.048743237 | validation_loss: 0.050927106 | Roc Score: 0.9631337 | Time elapsed: 1:49:14.286921\n",
      "iterations: 1682 | train_loss: 0.04899356 | validation_loss: 0.050993714 | Roc Score: 0.9631446 | Time elapsed: 1:49:18.199520\n",
      "iterations: 1683 | train_loss: 0.046396486 | validation_loss: 0.050950106 | Roc Score: 0.9631549 | Time elapsed: 1:49:22.096525\n",
      "iterations: 1684 | train_loss: 0.040148232 | validation_loss: 0.05095183 | Roc Score: 0.9631652 | Time elapsed: 1:49:26.046226\n",
      "iterations: 1685 | train_loss: 0.05078922 | validation_loss: 0.05091369 | Roc Score: 0.9631759 | Time elapsed: 1:49:29.946658\n",
      "iterations: 1686 | train_loss: 0.047189396 | validation_loss: 0.05074539 | Roc Score: 0.9631862 | Time elapsed: 1:49:33.878416\n",
      "iterations: 1687 | train_loss: 0.03967352 | validation_loss: 0.050779514 | Roc Score: 0.963196 | Time elapsed: 1:49:37.789988\n",
      "iterations: 1688 | train_loss: 0.04617809 | validation_loss: 0.051229876 | Roc Score: 0.9632051 | Time elapsed: 1:49:41.702518\n",
      "iterations: 1689 | train_loss: 0.06877126 | validation_loss: 0.051111337 | Roc Score: 0.9632145 | Time elapsed: 1:49:45.623560\n",
      "iterations: 1690 | train_loss: 0.049911816 | validation_loss: 0.050931565 | Roc Score: 0.96322435 | Time elapsed: 1:49:49.524536\n",
      "iterations: 1691 | train_loss: 0.03673949 | validation_loss: 0.05085008 | Roc Score: 0.963234 | Time elapsed: 1:49:53.459790\n",
      "iterations: 1692 | train_loss: 0.047267176 | validation_loss: 0.05081798 | Roc Score: 0.9632441 | Time elapsed: 1:49:57.355363\n",
      "iterations: 1693 | train_loss: 0.048647422 | validation_loss: 0.05091285 | Roc Score: 0.96325433 | Time elapsed: 1:50:01.248155\n",
      "iterations: 1694 | train_loss: 0.04107164 | validation_loss: 0.051133655 | Roc Score: 0.9632635 | Time elapsed: 1:50:05.190742\n",
      "iterations: 1695 | train_loss: 0.049504485 | validation_loss: 0.051562246 | Roc Score: 0.9632717 | Time elapsed: 1:50:09.067505\n",
      "iterations: 1696 | train_loss: 0.04950167 | validation_loss: 0.051754095 | Roc Score: 0.96327955 | Time elapsed: 1:50:12.963562\n",
      "iterations: 1697 | train_loss: 0.04612328 | validation_loss: 0.05209175 | Roc Score: 0.96328676 | Time elapsed: 1:50:16.857001\n",
      "iterations: 1698 | train_loss: 0.05283253 | validation_loss: 0.052330118 | Roc Score: 0.9632936 | Time elapsed: 1:50:20.751986\n",
      "iterations: 1699 | train_loss: 0.035221875 | validation_loss: 0.052781627 | Roc Score: 0.96330005 | Time elapsed: 1:50:24.607193\n",
      "iterations: 1700 | train_loss: 0.04061052 | validation_loss: 0.053113572 | Roc Score: 0.9633074 | Time elapsed: 1:50:28.519258\n",
      "iterations: 1701 | train_loss: 0.05407794 | validation_loss: 0.054106764 | Roc Score: 0.96331435 | Time elapsed: 1:50:32.298151\n",
      "iterations: 1702 | train_loss: 0.04810591 | validation_loss: 0.055552732 | Roc Score: 0.9633211 | Time elapsed: 1:50:36.152714\n",
      "iterations: 1703 | train_loss: 0.043194056 | validation_loss: 0.05700835 | Roc Score: 0.96332735 | Time elapsed: 1:50:40.167197\n",
      "iterations: 1704 | train_loss: 0.048427597 | validation_loss: 0.057099335 | Roc Score: 0.9633339 | Time elapsed: 1:50:44.036827\n",
      "iterations: 1705 | train_loss: 0.060157117 | validation_loss: 0.056395523 | Roc Score: 0.9633407 | Time elapsed: 1:50:47.984125\n",
      "iterations: 1706 | train_loss: 0.047869477 | validation_loss: 0.055166412 | Roc Score: 0.9633478 | Time elapsed: 1:50:51.836649\n",
      "iterations: 1707 | train_loss: 0.065789506 | validation_loss: 0.053846795 | Roc Score: 0.9633551 | Time elapsed: 1:50:55.748345\n",
      "iterations: 1708 | train_loss: 0.06061842 | validation_loss: 0.052748226 | Roc Score: 0.9633636 | Time elapsed: 1:50:59.683199\n",
      "iterations: 1709 | train_loss: 0.054504845 | validation_loss: 0.052074406 | Roc Score: 0.963372 | Time elapsed: 1:51:03.550313\n",
      "iterations: 1710 | train_loss: 0.028878104 | validation_loss: 0.051953264 | Roc Score: 0.9633804 | Time elapsed: 1:51:07.437116\n",
      "iterations: 1711 | train_loss: 0.03481755 | validation_loss: 0.052712623 | Roc Score: 0.96338737 | Time elapsed: 1:51:11.321766\n",
      "iterations: 1712 | train_loss: 0.044784855 | validation_loss: 0.054257344 | Roc Score: 0.96339244 | Time elapsed: 1:51:15.217734\n",
      "iterations: 1713 | train_loss: 0.051086854 | validation_loss: 0.05494115 | Roc Score: 0.9633967 | Time elapsed: 1:51:19.108858\n",
      "iterations: 1714 | train_loss: 0.06412469 | validation_loss: 0.054386828 | Roc Score: 0.96340203 | Time elapsed: 1:51:22.820574\n",
      "iterations: 1715 | train_loss: 0.06058274 | validation_loss: 0.053673077 | Roc Score: 0.96340925 | Time elapsed: 1:51:26.708396\n"
     ]
    },
    {
     "name": "stdout",
     "output_type": "stream",
     "text": [
      "iterations: 1716 | train_loss: 0.054785836 | validation_loss: 0.052931745 | Roc Score: 0.96341723 | Time elapsed: 1:51:30.587272\n",
      "iterations: 1717 | train_loss: 0.03782787 | validation_loss: 0.0523739 | Roc Score: 0.9634258 | Time elapsed: 1:51:34.476494\n",
      "iterations: 1718 | train_loss: 0.04408654 | validation_loss: 0.052218433 | Roc Score: 0.9634349 | Time elapsed: 1:51:38.369158\n",
      "iterations: 1719 | train_loss: 0.03846538 | validation_loss: 0.051984224 | Roc Score: 0.9634436 | Time elapsed: 1:51:42.307665\n",
      "iterations: 1720 | train_loss: 0.06381857 | validation_loss: 0.051705945 | Roc Score: 0.9634514 | Time elapsed: 1:51:46.177834\n",
      "iterations: 1721 | train_loss: 0.060726568 | validation_loss: 0.051625103 | Roc Score: 0.96345913 | Time elapsed: 1:51:50.095361\n",
      "iterations: 1722 | train_loss: 0.040411983 | validation_loss: 0.05174599 | Roc Score: 0.96346575 | Time elapsed: 1:51:54.014997\n",
      "iterations: 1723 | train_loss: 0.047676794 | validation_loss: 0.051937286 | Roc Score: 0.9634718 | Time elapsed: 1:51:57.963707\n",
      "iterations: 1724 | train_loss: 0.03811902 | validation_loss: 0.052110523 | Roc Score: 0.9634777 | Time elapsed: 1:52:01.849286\n",
      "iterations: 1725 | train_loss: 0.06854448 | validation_loss: 0.051981293 | Roc Score: 0.9634841 | Time elapsed: 1:52:05.787239\n",
      "iterations: 1726 | train_loss: 0.05215585 | validation_loss: 0.051891856 | Roc Score: 0.9634907 | Time elapsed: 1:52:09.667520\n",
      "iterations: 1727 | train_loss: 0.05875664 | validation_loss: 0.051900577 | Roc Score: 0.96349776 | Time elapsed: 1:52:13.334183\n",
      "iterations: 1728 | train_loss: 0.0241855 | validation_loss: 0.051896714 | Roc Score: 0.9635051 | Time elapsed: 1:52:17.283980\n",
      "iterations: 1729 | train_loss: 0.02588048 | validation_loss: 0.05202135 | Roc Score: 0.9635134 | Time elapsed: 1:52:21.149426\n",
      "iterations: 1730 | train_loss: 0.04127763 | validation_loss: 0.051580742 | Roc Score: 0.9635212 | Time elapsed: 1:52:25.083565\n",
      "iterations: 1731 | train_loss: 0.05137249 | validation_loss: 0.0509971 | Roc Score: 0.96352834 | Time elapsed: 1:52:29.015605\n",
      "iterations: 1732 | train_loss: 0.036935028 | validation_loss: 0.051245123 | Roc Score: 0.96353525 | Time elapsed: 1:52:32.947324\n",
      "iterations: 1733 | train_loss: 0.057891298 | validation_loss: 0.05139203 | Roc Score: 0.96354216 | Time elapsed: 1:52:36.839936\n",
      "iterations: 1734 | train_loss: 0.03312873 | validation_loss: 0.051453356 | Roc Score: 0.9635493 | Time elapsed: 1:52:40.489405\n",
      "iterations: 1735 | train_loss: 0.04924596 | validation_loss: 0.05139148 | Roc Score: 0.96355677 | Time elapsed: 1:52:44.476491\n",
      "iterations: 1736 | train_loss: 0.036150344 | validation_loss: 0.0511609 | Roc Score: 0.96356475 | Time elapsed: 1:52:48.473358\n",
      "iterations: 1737 | train_loss: 0.05464185 | validation_loss: 0.051432036 | Roc Score: 0.9635733 | Time elapsed: 1:52:52.385349\n",
      "iterations: 1738 | train_loss: 0.043073833 | validation_loss: 0.052145295 | Roc Score: 0.9635819 | Time elapsed: 1:52:56.366311\n",
      "iterations: 1739 | train_loss: 0.037235267 | validation_loss: 0.052758563 | Roc Score: 0.96359015 | Time elapsed: 1:53:00.314931\n",
      "iterations: 1740 | train_loss: 0.043697212 | validation_loss: 0.052771937 | Roc Score: 0.9635993 | Time elapsed: 1:53:04.207772\n",
      "iterations: 1741 | train_loss: 0.05594827 | validation_loss: 0.05206533 | Roc Score: 0.9636078 | Time elapsed: 1:53:08.154754\n",
      "iterations: 1742 | train_loss: 0.036962897 | validation_loss: 0.05125617 | Roc Score: 0.9636164 | Time elapsed: 1:53:12.104826\n",
      "iterations: 1743 | train_loss: 0.049663197 | validation_loss: 0.05100927 | Roc Score: 0.96362454 | Time elapsed: 1:53:16.063875\n",
      "iterations: 1744 | train_loss: 0.047861155 | validation_loss: 0.051072706 | Roc Score: 0.9636321 | Time elapsed: 1:53:20.050794\n",
      "iterations: 1745 | train_loss: 0.05044499 | validation_loss: 0.051001996 | Roc Score: 0.9636397 | Time elapsed: 1:53:23.967749\n",
      "iterations: 1746 | train_loss: 0.05226908 | validation_loss: 0.050625946 | Roc Score: 0.96364737 | Time elapsed: 1:53:27.852350\n",
      "iterations: 1747 | train_loss: 0.04636041 | validation_loss: 0.050393887 | Roc Score: 0.9636556 | Time elapsed: 1:53:31.862557\n",
      "iterations: 1748 | train_loss: 0.054318734 | validation_loss: 0.050301522 | Roc Score: 0.9636636 | Time elapsed: 1:53:35.843641\n",
      "iterations: 1749 | train_loss: 0.06666918 | validation_loss: 0.05071063 | Roc Score: 0.9636729 | Time elapsed: 1:53:39.850477\n",
      "iterations: 1750 | train_loss: 0.051938124 | validation_loss: 0.051473618 | Roc Score: 0.96368164 | Time elapsed: 1:53:43.780921\n",
      "iterations: 1751 | train_loss: 0.060073122 | validation_loss: 0.051743105 | Roc Score: 0.9636906 | Time elapsed: 1:53:47.757250\n",
      "iterations: 1752 | train_loss: 0.048707865 | validation_loss: 0.051632874 | Roc Score: 0.9636991 | Time elapsed: 1:53:51.704755\n",
      "iterations: 1753 | train_loss: 0.05120052 | validation_loss: 0.05113785 | Roc Score: 0.96370786 | Time elapsed: 1:53:55.606024\n",
      "iterations: 1754 | train_loss: 0.056650456 | validation_loss: 0.05096156 | Roc Score: 0.9637163 | Time elapsed: 1:53:59.296798\n",
      "iterations: 1755 | train_loss: 0.053386915 | validation_loss: 0.050737698 | Roc Score: 0.9637247 | Time elapsed: 1:54:03.245109\n",
      "iterations: 1756 | train_loss: 0.054242898 | validation_loss: 0.050577767 | Roc Score: 0.9637336 | Time elapsed: 1:54:07.233631\n",
      "iterations: 1757 | train_loss: 0.057025313 | validation_loss: 0.050866693 | Roc Score: 0.9637423 | Time elapsed: 1:54:11.205380\n",
      "iterations: 1758 | train_loss: 0.035604965 | validation_loss: 0.05084641 | Roc Score: 0.9637509 | Time elapsed: 1:54:15.203502\n",
      "iterations: 1759 | train_loss: 0.049102183 | validation_loss: 0.05065249 | Roc Score: 0.96375895 | Time elapsed: 1:54:19.165894\n",
      "iterations: 1760 | train_loss: 0.0372316 | validation_loss: 0.050641075 | Roc Score: 0.9637661 | Time elapsed: 1:54:23.121101\n",
      "iterations: 1761 | train_loss: 0.034172326 | validation_loss: 0.05062756 | Roc Score: 0.9637727 | Time elapsed: 1:54:27.086159\n",
      "iterations: 1762 | train_loss: 0.06030007 | validation_loss: 0.05041714 | Roc Score: 0.9637799 | Time elapsed: 1:54:31.025449\n",
      "iterations: 1763 | train_loss: 0.045092385 | validation_loss: 0.0501045 | Roc Score: 0.96378756 | Time elapsed: 1:54:35.006067\n",
      "iterations: 1764 | train_loss: 0.036467586 | validation_loss: 0.050014507 | Roc Score: 0.96379477 | Time elapsed: 1:54:38.900902\n",
      "iterations: 1765 | train_loss: 0.037993237 | validation_loss: 0.05004598 | Roc Score: 0.96380144 | Time elapsed: 1:54:42.824692\n",
      "iterations: 1766 | train_loss: 0.041574404 | validation_loss: 0.049973015 | Roc Score: 0.9638072 | Time elapsed: 1:54:46.779749\n",
      "iterations: 1767 | train_loss: 0.059287127 | validation_loss: 0.05000732 | Roc Score: 0.96381354 | Time elapsed: 1:54:50.681160\n",
      "iterations: 1768 | train_loss: 0.04265348 | validation_loss: 0.049978856 | Roc Score: 0.9638198 | Time elapsed: 1:54:54.622391\n",
      "iterations: 1769 | train_loss: 0.044574242 | validation_loss: 0.050033413 | Roc Score: 0.96382636 | Time elapsed: 1:54:58.531842\n",
      "iterations: 1770 | train_loss: 0.040465523 | validation_loss: 0.05004949 | Roc Score: 0.96383315 | Time elapsed: 1:55:02.484004\n",
      "iterations: 1771 | train_loss: 0.03330975 | validation_loss: 0.05012309 | Roc Score: 0.96384 | Time elapsed: 1:55:06.420665\n",
      "iterations: 1772 | train_loss: 0.026339589 | validation_loss: 0.050353676 | Roc Score: 0.96384645 | Time elapsed: 1:55:10.321673\n",
      "iterations: 1773 | train_loss: 0.023998303 | validation_loss: 0.05085431 | Roc Score: 0.9638524 | Time elapsed: 1:55:14.194592\n",
      "iterations: 1774 | train_loss: 0.0530512 | validation_loss: 0.05112112 | Roc Score: 0.9638577 | Time elapsed: 1:55:18.091465\n",
      "iterations: 1775 | train_loss: 0.059305765 | validation_loss: 0.050965052 | Roc Score: 0.96386313 | Time elapsed: 1:55:21.958619\n",
      "iterations: 1776 | train_loss: 0.062342014 | validation_loss: 0.050673254 | Roc Score: 0.96386915 | Time elapsed: 1:55:25.854246\n",
      "iterations: 1777 | train_loss: 0.031530697 | validation_loss: 0.05074497 | Roc Score: 0.9638755 | Time elapsed: 1:55:29.752885\n",
      "iterations: 1778 | train_loss: 0.034005824 | validation_loss: 0.050910957 | Roc Score: 0.963882 | Time elapsed: 1:55:33.665893\n",
      "iterations: 1779 | train_loss: 0.039093554 | validation_loss: 0.05103845 | Roc Score: 0.96388876 | Time elapsed: 1:55:37.594104\n",
      "iterations: 1780 | train_loss: 0.041255105 | validation_loss: 0.050858807 | Roc Score: 0.9638948 | Time elapsed: 1:55:41.529651\n",
      "iterations: 1781 | train_loss: 0.04973166 | validation_loss: 0.050698604 | Roc Score: 0.96390057 | Time elapsed: 1:55:45.436774\n",
      "iterations: 1782 | train_loss: 0.061073054 | validation_loss: 0.050656516 | Roc Score: 0.9639061 | Time elapsed: 1:55:49.374801\n",
      "iterations: 1783 | train_loss: 0.036543824 | validation_loss: 0.050602384 | Roc Score: 0.9639119 | Time elapsed: 1:55:53.316319\n",
      "iterations: 1784 | train_loss: 0.067023404 | validation_loss: 0.05036516 | Roc Score: 0.9639179 | Time elapsed: 1:55:57.208760\n",
      "iterations: 1785 | train_loss: 0.06019413 | validation_loss: 0.05026513 | Roc Score: 0.9639242 | Time elapsed: 1:56:01.129333\n",
      "iterations: 1786 | train_loss: 0.046156276 | validation_loss: 0.050277453 | Roc Score: 0.9639305 | Time elapsed: 1:56:04.991560\n",
      "iterations: 1787 | train_loss: 0.036837623 | validation_loss: 0.050254244 | Roc Score: 0.9639366 | Time elapsed: 1:56:08.872747\n",
      "iterations: 1788 | train_loss: 0.026996212 | validation_loss: 0.050392367 | Roc Score: 0.96394247 | Time elapsed: 1:56:12.761429\n",
      "iterations: 1789 | train_loss: 0.04852401 | validation_loss: 0.050542165 | Roc Score: 0.9639483 | Time elapsed: 1:56:16.699778\n",
      "iterations: 1790 | train_loss: 0.046256505 | validation_loss: 0.05068988 | Roc Score: 0.9639539 | Time elapsed: 1:56:20.799385\n",
      "iterations: 1791 | train_loss: 0.052840374 | validation_loss: 0.050242174 | Roc Score: 0.96396023 | Time elapsed: 1:56:24.685116\n",
      "iterations: 1792 | train_loss: 0.052627206 | validation_loss: 0.049896408 | Roc Score: 0.96396697 | Time elapsed: 1:56:28.537739\n",
      "iterations: 1793 | train_loss: 0.053720094 | validation_loss: 0.049880303 | Roc Score: 0.9639743 | Time elapsed: 1:56:32.389087\n"
     ]
    },
    {
     "name": "stdout",
     "output_type": "stream",
     "text": [
      "iterations: 1794 | train_loss: 0.03435483 | validation_loss: 0.050011683 | Roc Score: 0.96398157 | Time elapsed: 1:56:36.291820\n",
      "iterations: 1795 | train_loss: 0.05088289 | validation_loss: 0.050212275 | Roc Score: 0.9639891 | Time elapsed: 1:56:40.190420\n",
      "iterations: 1796 | train_loss: 0.028147789 | validation_loss: 0.05038145 | Roc Score: 0.963997 | Time elapsed: 1:56:44.140406\n",
      "iterations: 1797 | train_loss: 0.046296928 | validation_loss: 0.050357312 | Roc Score: 0.96400493 | Time elapsed: 1:56:48.076515\n",
      "iterations: 1798 | train_loss: 0.04052671 | validation_loss: 0.050277557 | Roc Score: 0.9640125 | Time elapsed: 1:56:51.998140\n",
      "iterations: 1799 | train_loss: 0.04489687 | validation_loss: 0.05043727 | Roc Score: 0.9640197 | Time elapsed: 1:56:55.871140\n",
      "iterations: 1800 | train_loss: 0.042081334 | validation_loss: 0.05071123 | Roc Score: 0.96402603 | Time elapsed: 1:56:59.724940\n",
      "iterations: 1801 | train_loss: 0.043683913 | validation_loss: 0.050892152 | Roc Score: 0.9640312 | Time elapsed: 1:57:03.644413\n",
      "iterations: 1802 | train_loss: 0.049285885 | validation_loss: 0.05119888 | Roc Score: 0.96403575 | Time elapsed: 1:57:07.559868\n",
      "iterations: 1803 | train_loss: 0.061878674 | validation_loss: 0.051062156 | Roc Score: 0.96404076 | Time elapsed: 1:57:11.466727\n",
      "iterations: 1804 | train_loss: 0.04177377 | validation_loss: 0.050451923 | Roc Score: 0.96404606 | Time elapsed: 1:57:15.393095\n",
      "iterations: 1805 | train_loss: 0.044970892 | validation_loss: 0.04960893 | Roc Score: 0.9640536 | Time elapsed: 1:57:19.253632\n",
      "iterations: 1806 | train_loss: 0.038912125 | validation_loss: 0.04924993 | Roc Score: 0.9640613 | Time elapsed: 1:57:23.171715\n",
      "iterations: 1807 | train_loss: 0.04447861 | validation_loss: 0.049037047 | Roc Score: 0.9640701 | Time elapsed: 1:57:27.067394\n",
      "iterations: 1808 | train_loss: 0.047146995 | validation_loss: 0.049133755 | Roc Score: 0.9640796 | Time elapsed: 1:57:30.981550\n",
      "iterations: 1809 | train_loss: 0.05351833 | validation_loss: 0.049246207 | Roc Score: 0.96408963 | Time elapsed: 1:57:34.889984\n",
      "iterations: 1810 | train_loss: 0.051769853 | validation_loss: 0.049142696 | Roc Score: 0.9640997 | Time elapsed: 1:57:38.799401\n",
      "iterations: 1811 | train_loss: 0.04114688 | validation_loss: 0.04906428 | Roc Score: 0.96410936 | Time elapsed: 1:57:42.706801\n",
      "iterations: 1812 | train_loss: 0.053901665 | validation_loss: 0.04904369 | Roc Score: 0.964119 | Time elapsed: 1:57:46.591160\n",
      "iterations: 1813 | train_loss: 0.040917125 | validation_loss: 0.049251903 | Roc Score: 0.9641274 | Time elapsed: 1:57:50.556483\n",
      "iterations: 1814 | train_loss: 0.041981295 | validation_loss: 0.04989212 | Roc Score: 0.96413356 | Time elapsed: 1:57:54.464446\n",
      "iterations: 1815 | train_loss: 0.049178995 | validation_loss: 0.050377272 | Roc Score: 0.96413916 | Time elapsed: 1:57:58.328514\n",
      "iterations: 1816 | train_loss: 0.052121587 | validation_loss: 0.05085058 | Roc Score: 0.964144 | Time elapsed: 1:58:02.245572\n",
      "iterations: 1817 | train_loss: 0.04454989 | validation_loss: 0.050615367 | Roc Score: 0.9641494 | Time elapsed: 1:58:06.132714\n",
      "iterations: 1818 | train_loss: 0.049934037 | validation_loss: 0.04985188 | Roc Score: 0.9641553 | Time elapsed: 1:58:10.052298\n",
      "iterations: 1819 | train_loss: 0.06379952 | validation_loss: 0.049274985 | Roc Score: 0.9641626 | Time elapsed: 1:58:13.985208\n",
      "iterations: 1820 | train_loss: 0.04610231 | validation_loss: 0.049064342 | Roc Score: 0.9641711 | Time elapsed: 1:58:17.860667\n",
      "iterations: 1821 | train_loss: 0.05764676 | validation_loss: 0.049185447 | Roc Score: 0.9641805 | Time elapsed: 1:58:21.798037\n",
      "iterations: 1822 | train_loss: 0.03651854 | validation_loss: 0.0490985 | Roc Score: 0.9641898 | Time elapsed: 1:58:25.794559\n",
      "iterations: 1823 | train_loss: 0.05247773 | validation_loss: 0.048923593 | Roc Score: 0.9641991 | Time elapsed: 1:58:29.712860\n",
      "iterations: 1824 | train_loss: 0.04500128 | validation_loss: 0.048693765 | Roc Score: 0.9642087 | Time elapsed: 1:58:33.669974\n",
      "iterations: 1825 | train_loss: 0.048126187 | validation_loss: 0.048397608 | Roc Score: 0.96421826 | Time elapsed: 1:58:37.594497\n",
      "iterations: 1826 | train_loss: 0.043114673 | validation_loss: 0.04823306 | Roc Score: 0.9642278 | Time elapsed: 1:58:41.565998\n",
      "iterations: 1827 | train_loss: 0.04755816 | validation_loss: 0.04823733 | Roc Score: 0.9642369 | Time elapsed: 1:58:45.499017\n",
      "iterations: 1828 | train_loss: 0.051456407 | validation_loss: 0.048407823 | Roc Score: 0.96424574 | Time elapsed: 1:58:49.342697\n",
      "iterations: 1829 | train_loss: 0.036292538 | validation_loss: 0.04868215 | Roc Score: 0.9642545 | Time elapsed: 1:58:53.219379\n",
      "iterations: 1830 | train_loss: 0.045280922 | validation_loss: 0.04888799 | Roc Score: 0.9642626 | Time elapsed: 1:58:57.085345\n",
      "iterations: 1831 | train_loss: 0.038304117 | validation_loss: 0.049026515 | Roc Score: 0.9642703 | Time elapsed: 1:59:00.984939\n",
      "iterations: 1832 | train_loss: 0.03740269 | validation_loss: 0.049157813 | Roc Score: 0.9642775 | Time elapsed: 1:59:04.597392\n",
      "iterations: 1833 | train_loss: 0.047559965 | validation_loss: 0.049006034 | Roc Score: 0.96428466 | Time elapsed: 1:59:08.576401\n",
      "iterations: 1834 | train_loss: 0.062041536 | validation_loss: 0.048697498 | Roc Score: 0.9642934 | Time elapsed: 1:59:12.463721\n",
      "iterations: 1835 | train_loss: 0.050998256 | validation_loss: 0.04886277 | Roc Score: 0.964302 | Time elapsed: 1:59:16.420109\n",
      "iterations: 1836 | train_loss: 0.05478187 | validation_loss: 0.049144767 | Roc Score: 0.9643107 | Time elapsed: 1:59:20.318073\n",
      "iterations: 1837 | train_loss: 0.040586103 | validation_loss: 0.049294136 | Roc Score: 0.96431917 | Time elapsed: 1:59:24.246206\n",
      "iterations: 1838 | train_loss: 0.04114151 | validation_loss: 0.0491999 | Roc Score: 0.9643276 | Time elapsed: 1:59:28.144581\n",
      "iterations: 1839 | train_loss: 0.04504014 | validation_loss: 0.049210932 | Roc Score: 0.96433485 | Time elapsed: 1:59:32.152189\n",
      "iterations: 1840 | train_loss: 0.032613773 | validation_loss: 0.04950149 | Roc Score: 0.9643413 | Time elapsed: 1:59:36.050707\n",
      "iterations: 1841 | train_loss: 0.06128993 | validation_loss: 0.049804796 | Roc Score: 0.9643468 | Time elapsed: 1:59:39.969625\n",
      "iterations: 1842 | train_loss: 0.04518757 | validation_loss: 0.05032508 | Roc Score: 0.96435195 | Time elapsed: 1:59:43.829884\n",
      "iterations: 1843 | train_loss: 0.04417593 | validation_loss: 0.05098859 | Roc Score: 0.9643569 | Time elapsed: 1:59:47.724645\n",
      "iterations: 1844 | train_loss: 0.037715234 | validation_loss: 0.051688652 | Roc Score: 0.9643613 | Time elapsed: 1:59:51.626934\n",
      "iterations: 1845 | train_loss: 0.027517084 | validation_loss: 0.05246343 | Roc Score: 0.96436435 | Time elapsed: 1:59:55.498079\n",
      "iterations: 1846 | train_loss: 0.052196685 | validation_loss: 0.05291445 | Roc Score: 0.9643675 | Time elapsed: 1:59:59.368691\n",
      "iterations: 1847 | train_loss: 0.041206043 | validation_loss: 0.053033892 | Roc Score: 0.9643704 | Time elapsed: 2:00:03.312707\n",
      "iterations: 1848 | train_loss: 0.035220228 | validation_loss: 0.053042527 | Roc Score: 0.9643725 | Time elapsed: 2:00:07.218880\n",
      "iterations: 1849 | train_loss: 0.051087953 | validation_loss: 0.053197082 | Roc Score: 0.9643738 | Time elapsed: 2:00:11.186187\n",
      "iterations: 1850 | train_loss: 0.052470386 | validation_loss: 0.052681938 | Roc Score: 0.9643755 | Time elapsed: 2:00:15.047825\n",
      "iterations: 1851 | train_loss: 0.056138396 | validation_loss: 0.051533926 | Roc Score: 0.96437865 | Time elapsed: 2:00:18.991175\n",
      "iterations: 1852 | train_loss: 0.06255836 | validation_loss: 0.050738875 | Roc Score: 0.96438414 | Time elapsed: 2:00:22.901911\n",
      "iterations: 1853 | train_loss: 0.04150705 | validation_loss: 0.050774843 | Roc Score: 0.96439147 | Time elapsed: 2:00:26.759057\n",
      "iterations: 1854 | train_loss: 0.051480774 | validation_loss: 0.051023055 | Roc Score: 0.9643996 | Time elapsed: 2:00:30.659046\n",
      "iterations: 1855 | train_loss: 0.03206631 | validation_loss: 0.05127167 | Roc Score: 0.96440786 | Time elapsed: 2:00:34.477269\n",
      "iterations: 1856 | train_loss: 0.050041936 | validation_loss: 0.051615458 | Roc Score: 0.9644157 | Time elapsed: 2:00:38.425913\n",
      "iterations: 1857 | train_loss: 0.027610725 | validation_loss: 0.051462732 | Roc Score: 0.96442354 | Time elapsed: 2:00:42.325112\n",
      "iterations: 1858 | train_loss: 0.054557465 | validation_loss: 0.051094662 | Roc Score: 0.96443146 | Time elapsed: 2:00:46.207552\n",
      "iterations: 1859 | train_loss: 0.043903235 | validation_loss: 0.050883207 | Roc Score: 0.9644386 | Time elapsed: 2:00:50.050883\n",
      "iterations: 1860 | train_loss: 0.043044765 | validation_loss: 0.051008884 | Roc Score: 0.96444416 | Time elapsed: 2:00:53.915523\n",
      "iterations: 1861 | train_loss: 0.041112326 | validation_loss: 0.051276345 | Roc Score: 0.9644481 | Time elapsed: 2:00:57.792359\n",
      "iterations: 1862 | train_loss: 0.0568083 | validation_loss: 0.051080238 | Roc Score: 0.964452 | Time elapsed: 2:01:01.745378\n",
      "iterations: 1863 | train_loss: 0.06208205 | validation_loss: 0.05081426 | Roc Score: 0.96445626 | Time elapsed: 2:01:05.614094\n",
      "iterations: 1864 | train_loss: 0.053906422 | validation_loss: 0.050796695 | Roc Score: 0.96446145 | Time elapsed: 2:01:09.516281\n",
      "iterations: 1865 | train_loss: 0.04085674 | validation_loss: 0.050836757 | Roc Score: 0.9644675 | Time elapsed: 2:01:13.415588\n",
      "iterations: 1866 | train_loss: 0.048017558 | validation_loss: 0.050740946 | Roc Score: 0.9644743 | Time elapsed: 2:01:17.317149\n",
      "iterations: 1867 | train_loss: 0.040224675 | validation_loss: 0.050621048 | Roc Score: 0.9644814 | Time elapsed: 2:01:21.230642\n",
      "iterations: 1868 | train_loss: 0.034979746 | validation_loss: 0.050469033 | Roc Score: 0.96448857 | Time elapsed: 2:01:25.139215\n",
      "iterations: 1869 | train_loss: 0.046638764 | validation_loss: 0.050456323 | Roc Score: 0.9644964 | Time elapsed: 2:01:29.099326\n",
      "iterations: 1870 | train_loss: 0.04342807 | validation_loss: 0.0505695 | Roc Score: 0.9645041 | Time elapsed: 2:01:33.005445\n",
      "iterations: 1871 | train_loss: 0.056306005 | validation_loss: 0.050751355 | Roc Score: 0.96451217 | Time elapsed: 2:01:36.860258\n"
     ]
    },
    {
     "name": "stdout",
     "output_type": "stream",
     "text": [
      "iterations: 1872 | train_loss: 0.05326039 | validation_loss: 0.050913457 | Roc Score: 0.9645205 | Time elapsed: 2:01:40.777448\n",
      "iterations: 1873 | train_loss: 0.037097916 | validation_loss: 0.05074208 | Roc Score: 0.96452874 | Time elapsed: 2:01:44.706415\n",
      "iterations: 1874 | train_loss: 0.036980256 | validation_loss: 0.050147932 | Roc Score: 0.96453667 | Time elapsed: 2:01:48.567295\n",
      "iterations: 1875 | train_loss: 0.050364397 | validation_loss: 0.049995206 | Roc Score: 0.96454364 | Time elapsed: 2:01:52.179425\n",
      "iterations: 1876 | train_loss: 0.05114402 | validation_loss: 0.050065164 | Roc Score: 0.96455044 | Time elapsed: 2:01:55.962873\n",
      "iterations: 1877 | train_loss: 0.048334733 | validation_loss: 0.05017888 | Roc Score: 0.9645562 | Time elapsed: 2:01:59.838499\n",
      "iterations: 1878 | train_loss: 0.029506566 | validation_loss: 0.05041836 | Roc Score: 0.96456164 | Time elapsed: 2:02:03.775136\n",
      "iterations: 1879 | train_loss: 0.04004177 | validation_loss: 0.050637204 | Roc Score: 0.9645664 | Time elapsed: 2:02:07.716706\n",
      "iterations: 1880 | train_loss: 0.0326463 | validation_loss: 0.050753716 | Roc Score: 0.96457106 | Time elapsed: 2:02:11.631098\n",
      "iterations: 1881 | train_loss: 0.045483902 | validation_loss: 0.050749496 | Roc Score: 0.9645756 | Time elapsed: 2:02:15.496553\n",
      "iterations: 1882 | train_loss: 0.046616443 | validation_loss: 0.05049464 | Roc Score: 0.9645809 | Time elapsed: 2:02:19.358524\n",
      "iterations: 1883 | train_loss: 0.06967329 | validation_loss: 0.050025485 | Roc Score: 0.96458673 | Time elapsed: 2:02:23.296271\n",
      "iterations: 1884 | train_loss: 0.036673464 | validation_loss: 0.049971238 | Roc Score: 0.96459377 | Time elapsed: 2:02:27.177349\n",
      "iterations: 1885 | train_loss: 0.060483444 | validation_loss: 0.050167907 | Roc Score: 0.96460134 | Time elapsed: 2:02:31.067514\n",
      "iterations: 1886 | train_loss: 0.057732314 | validation_loss: 0.0506937 | Roc Score: 0.9646094 | Time elapsed: 2:02:34.898824\n",
      "iterations: 1887 | train_loss: 0.053298015 | validation_loss: 0.051077254 | Roc Score: 0.964618 | Time elapsed: 2:02:38.797100\n",
      "iterations: 1888 | train_loss: 0.044692338 | validation_loss: 0.050402608 | Roc Score: 0.9646266 | Time elapsed: 2:02:42.722759\n",
      "iterations: 1889 | train_loss: 0.034584638 | validation_loss: 0.04960848 | Roc Score: 0.96463495 | Time elapsed: 2:02:46.634594\n",
      "iterations: 1890 | train_loss: 0.021671584 | validation_loss: 0.049371235 | Roc Score: 0.9646421 | Time elapsed: 2:02:50.546769\n",
      "iterations: 1891 | train_loss: 0.050556563 | validation_loss: 0.04962768 | Roc Score: 0.9646488 | Time elapsed: 2:02:54.467148\n",
      "iterations: 1892 | train_loss: 0.03312719 | validation_loss: 0.050376765 | Roc Score: 0.96465325 | Time elapsed: 2:02:58.404699\n",
      "iterations: 1893 | train_loss: 0.049172543 | validation_loss: 0.050296444 | Roc Score: 0.9646584 | Time elapsed: 2:03:02.310148\n",
      "iterations: 1894 | train_loss: 0.038322605 | validation_loss: 0.04988534 | Roc Score: 0.9646641 | Time elapsed: 2:03:06.162447\n",
      "iterations: 1895 | train_loss: 0.052579578 | validation_loss: 0.049504124 | Roc Score: 0.9646702 | Time elapsed: 2:03:10.018358\n",
      "iterations: 1896 | train_loss: 0.034978386 | validation_loss: 0.049276054 | Roc Score: 0.9646771 | Time elapsed: 2:03:13.920719\n",
      "iterations: 1897 | train_loss: 0.048132896 | validation_loss: 0.049232733 | Roc Score: 0.964685 | Time elapsed: 2:03:17.824821\n",
      "iterations: 1898 | train_loss: 0.03906945 | validation_loss: 0.049390648 | Roc Score: 0.964693 | Time elapsed: 2:03:21.690036\n",
      "iterations: 1899 | train_loss: 0.046969112 | validation_loss: 0.049568083 | Roc Score: 0.96470094 | Time elapsed: 2:03:25.652080\n",
      "iterations: 1900 | train_loss: 0.04734049 | validation_loss: 0.049763355 | Roc Score: 0.96470875 | Time elapsed: 2:03:29.575081\n",
      "iterations: 1901 | train_loss: 0.03832327 | validation_loss: 0.04990804 | Roc Score: 0.9647167 | Time elapsed: 2:03:33.489030\n",
      "iterations: 1902 | train_loss: 0.04115829 | validation_loss: 0.050001144 | Roc Score: 0.96472454 | Time elapsed: 2:03:37.388933\n",
      "iterations: 1903 | train_loss: 0.055512447 | validation_loss: 0.0501329 | Roc Score: 0.9647316 | Time elapsed: 2:03:41.260761\n",
      "iterations: 1904 | train_loss: 0.03298165 | validation_loss: 0.050162766 | Roc Score: 0.9647381 | Time elapsed: 2:03:45.172457\n",
      "iterations: 1905 | train_loss: 0.037391834 | validation_loss: 0.050375693 | Roc Score: 0.9647439 | Time elapsed: 2:03:49.068596\n",
      "iterations: 1906 | train_loss: 0.045806747 | validation_loss: 0.050822496 | Roc Score: 0.96474814 | Time elapsed: 2:03:52.953224\n",
      "iterations: 1907 | train_loss: 0.035820298 | validation_loss: 0.05143498 | Roc Score: 0.9647514 | Time elapsed: 2:03:56.809072\n",
      "iterations: 1908 | train_loss: 0.029726924 | validation_loss: 0.051899876 | Roc Score: 0.96475387 | Time elapsed: 2:04:00.739441\n",
      "iterations: 1909 | train_loss: 0.03835523 | validation_loss: 0.051816486 | Roc Score: 0.9647565 | Time elapsed: 2:04:04.636430\n",
      "iterations: 1910 | train_loss: 0.04933372 | validation_loss: 0.051558584 | Roc Score: 0.9647595 | Time elapsed: 2:04:08.535025\n",
      "iterations: 1911 | train_loss: 0.050599486 | validation_loss: 0.051221862 | Roc Score: 0.964763 | Time elapsed: 2:04:12.492994\n",
      "iterations: 1912 | train_loss: 0.034470852 | validation_loss: 0.051190313 | Roc Score: 0.9647664 | Time elapsed: 2:04:16.427116\n",
      "iterations: 1913 | train_loss: 0.04738553 | validation_loss: 0.05078925 | Roc Score: 0.96477044 | Time elapsed: 2:04:20.297104\n",
      "iterations: 1914 | train_loss: 0.044372354 | validation_loss: 0.050319716 | Roc Score: 0.9647757 | Time elapsed: 2:04:24.157908\n",
      "iterations: 1915 | train_loss: 0.032441754 | validation_loss: 0.050164893 | Roc Score: 0.9647823 | Time elapsed: 2:04:28.122220\n",
      "iterations: 1916 | train_loss: 0.060584527 | validation_loss: 0.050684825 | Roc Score: 0.9647893 | Time elapsed: 2:04:32.015209\n",
      "iterations: 1917 | train_loss: 0.04451003 | validation_loss: 0.05173578 | Roc Score: 0.9647969 | Time elapsed: 2:04:35.911765\n",
      "iterations: 1918 | train_loss: 0.043973517 | validation_loss: 0.05315052 | Roc Score: 0.96480435 | Time elapsed: 2:04:39.820861\n",
      "iterations: 1919 | train_loss: 0.02997841 | validation_loss: 0.05258531 | Roc Score: 0.96481156 | Time elapsed: 2:04:43.762355\n",
      "iterations: 1920 | train_loss: 0.05279276 | validation_loss: 0.051020175 | Roc Score: 0.964819 | Time elapsed: 2:04:47.661153\n",
      "iterations: 1921 | train_loss: 0.047550227 | validation_loss: 0.050190847 | Roc Score: 0.9648253 | Time elapsed: 2:04:51.531403\n",
      "iterations: 1922 | train_loss: 0.041710082 | validation_loss: 0.05057213 | Roc Score: 0.9648292 | Time elapsed: 2:04:55.447432\n",
      "iterations: 1923 | train_loss: 0.042734567 | validation_loss: 0.05146534 | Roc Score: 0.9648312 | Time elapsed: 2:04:59.150156\n",
      "iterations: 1924 | train_loss: 0.066172846 | validation_loss: 0.05170809 | Roc Score: 0.9648329 | Time elapsed: 2:05:03.026195\n",
      "iterations: 1925 | train_loss: 0.047423482 | validation_loss: 0.051299527 | Roc Score: 0.96483517 | Time elapsed: 2:05:06.920462\n",
      "iterations: 1926 | train_loss: 0.03427355 | validation_loss: 0.050827507 | Roc Score: 0.9648382 | Time elapsed: 2:05:10.861533\n",
      "iterations: 1927 | train_loss: 0.048192184 | validation_loss: 0.049742922 | Roc Score: 0.9648436 | Time elapsed: 2:05:14.764410\n",
      "iterations: 1928 | train_loss: 0.048517767 | validation_loss: 0.049229622 | Roc Score: 0.9648504 | Time elapsed: 2:05:18.670806\n",
      "iterations: 1929 | train_loss: 0.05421878 | validation_loss: 0.05003215 | Roc Score: 0.9648591 | Time elapsed: 2:05:22.546467\n",
      "iterations: 1930 | train_loss: 0.03508493 | validation_loss: 0.050972547 | Roc Score: 0.96486753 | Time elapsed: 2:05:26.473993\n",
      "iterations: 1931 | train_loss: 0.051751904 | validation_loss: 0.051029567 | Roc Score: 0.96487594 | Time elapsed: 2:05:30.353434\n",
      "iterations: 1932 | train_loss: 0.04278018 | validation_loss: 0.050271526 | Roc Score: 0.9648844 | Time elapsed: 2:05:34.308043\n",
      "iterations: 1933 | train_loss: 0.038371067 | validation_loss: 0.049300596 | Roc Score: 0.9648928 | Time elapsed: 2:05:38.194566\n",
      "iterations: 1934 | train_loss: 0.052838378 | validation_loss: 0.049056448 | Roc Score: 0.96490055 | Time elapsed: 2:05:42.090038\n",
      "iterations: 1935 | train_loss: 0.05019399 | validation_loss: 0.049993362 | Roc Score: 0.9649067 | Time elapsed: 2:05:46.017883\n",
      "iterations: 1936 | train_loss: 0.031088542 | validation_loss: 0.052024692 | Roc Score: 0.96491003 | Time elapsed: 2:05:49.947028\n",
      "iterations: 1937 | train_loss: 0.06178753 | validation_loss: 0.05457329 | Roc Score: 0.9649103 | Time elapsed: 2:05:53.831292\n",
      "iterations: 1938 | train_loss: 0.04630679 | validation_loss: 0.05603088 | Roc Score: 0.964909 | Time elapsed: 2:05:57.613885\n",
      "iterations: 1939 | train_loss: 0.03810588 | validation_loss: 0.055640355 | Roc Score: 0.9649082 | Time elapsed: 2:06:01.413932\n",
      "iterations: 1940 | train_loss: 0.03190253 | validation_loss: 0.054633353 | Roc Score: 0.9649087 | Time elapsed: 2:06:05.218974\n",
      "iterations: 1941 | train_loss: 0.01974269 | validation_loss: 0.053499456 | Roc Score: 0.9649105 | Time elapsed: 2:06:09.134654\n",
      "iterations: 1942 | train_loss: 0.051336095 | validation_loss: 0.052064836 | Roc Score: 0.9649135 | Time elapsed: 2:06:13.044714\n",
      "iterations: 1943 | train_loss: 0.049647473 | validation_loss: 0.050671265 | Roc Score: 0.9649185 | Time elapsed: 2:06:16.863756\n",
      "iterations: 1944 | train_loss: 0.04763416 | validation_loss: 0.049651425 | Roc Score: 0.9649256 | Time elapsed: 2:06:20.773123\n",
      "iterations: 1945 | train_loss: 0.0634732 | validation_loss: 0.049423337 | Roc Score: 0.96493345 | Time elapsed: 2:06:24.698171\n",
      "iterations: 1946 | train_loss: 0.046033517 | validation_loss: 0.05001149 | Roc Score: 0.9649417 | Time elapsed: 2:06:28.572389\n",
      "iterations: 1947 | train_loss: 0.033826187 | validation_loss: 0.050702848 | Roc Score: 0.9649504 | Time elapsed: 2:06:32.424577\n",
      "iterations: 1948 | train_loss: 0.045624215 | validation_loss: 0.05028314 | Roc Score: 0.9649591 | Time elapsed: 2:06:36.328279\n",
      "iterations: 1949 | train_loss: 0.04244105 | validation_loss: 0.049447827 | Roc Score: 0.96496737 | Time elapsed: 2:06:40.263594\n"
     ]
    },
    {
     "name": "stdout",
     "output_type": "stream",
     "text": [
      "iterations: 1950 | train_loss: 0.033042416 | validation_loss: 0.04928859 | Roc Score: 0.9649748 | Time elapsed: 2:06:44.195945\n",
      "iterations: 1951 | train_loss: 0.046373904 | validation_loss: 0.050149187 | Roc Score: 0.9649803 | Time elapsed: 2:06:48.079600\n",
      "iterations: 1952 | train_loss: 0.046437565 | validation_loss: 0.05114476 | Roc Score: 0.96498406 | Time elapsed: 2:06:51.976726\n",
      "iterations: 1953 | train_loss: 0.05811418 | validation_loss: 0.050418846 | Roc Score: 0.96498877 | Time elapsed: 2:06:55.850801\n",
      "iterations: 1954 | train_loss: 0.041855145 | validation_loss: 0.049907893 | Roc Score: 0.96499425 | Time elapsed: 2:06:59.774697\n",
      "iterations: 1955 | train_loss: 0.05496781 | validation_loss: 0.04905386 | Roc Score: 0.96500087 | Time elapsed: 2:07:03.702524\n",
      "iterations: 1956 | train_loss: 0.06750668 | validation_loss: 0.04866538 | Roc Score: 0.9650095 | Time elapsed: 2:07:07.571518\n",
      "iterations: 1957 | train_loss: 0.044556983 | validation_loss: 0.049307328 | Roc Score: 0.9650187 | Time elapsed: 2:07:11.482926\n",
      "iterations: 1958 | train_loss: 0.06191335 | validation_loss: 0.050293665 | Roc Score: 0.96502787 | Time elapsed: 2:07:15.341676\n",
      "iterations: 1959 | train_loss: 0.035190914 | validation_loss: 0.050075788 | Roc Score: 0.965037 | Time elapsed: 2:07:19.221364\n",
      "iterations: 1960 | train_loss: 0.03169219 | validation_loss: 0.04911311 | Roc Score: 0.96504575 | Time elapsed: 2:07:23.063060\n",
      "iterations: 1961 | train_loss: 0.03991899 | validation_loss: 0.048789635 | Roc Score: 0.9650537 | Time elapsed: 2:07:26.929497\n",
      "iterations: 1962 | train_loss: 0.045195624 | validation_loss: 0.05009299 | Roc Score: 0.96505904 | Time elapsed: 2:07:30.801667\n",
      "iterations: 1963 | train_loss: 0.07477589 | validation_loss: 0.05048659 | Roc Score: 0.9650638 | Time elapsed: 2:07:34.737542\n",
      "iterations: 1964 | train_loss: 0.04957849 | validation_loss: 0.051035687 | Roc Score: 0.96506757 | Time elapsed: 2:07:38.626775\n",
      "iterations: 1965 | train_loss: 0.04500114 | validation_loss: 0.05058049 | Roc Score: 0.9650724 | Time elapsed: 2:07:42.520923\n",
      "iterations: 1966 | train_loss: 0.069889136 | validation_loss: 0.049749453 | Roc Score: 0.96507925 | Time elapsed: 2:07:46.442224\n",
      "iterations: 1967 | train_loss: 0.04327235 | validation_loss: 0.049403485 | Roc Score: 0.9650874 | Time elapsed: 2:07:50.357748\n",
      "iterations: 1968 | train_loss: 0.035630647 | validation_loss: 0.04928854 | Roc Score: 0.9650957 | Time elapsed: 2:07:54.139498\n",
      "iterations: 1969 | train_loss: 0.035284545 | validation_loss: 0.04925707 | Roc Score: 0.96510404 | Time elapsed: 2:07:57.994914\n",
      "iterations: 1970 | train_loss: 0.042273827 | validation_loss: 0.049170967 | Roc Score: 0.9651125 | Time elapsed: 2:08:01.870638\n",
      "iterations: 1971 | train_loss: 0.033701997 | validation_loss: 0.04900227 | Roc Score: 0.96512085 | Time elapsed: 2:08:05.770475\n",
      "iterations: 1972 | train_loss: 0.054321237 | validation_loss: 0.048829522 | Roc Score: 0.9651292 | Time elapsed: 2:08:09.620898\n",
      "iterations: 1973 | train_loss: 0.053920478 | validation_loss: 0.0487009 | Roc Score: 0.96513766 | Time elapsed: 2:08:13.538115\n",
      "iterations: 1974 | train_loss: 0.05141993 | validation_loss: 0.04853127 | Roc Score: 0.965146 | Time elapsed: 2:08:17.434865\n",
      "iterations: 1975 | train_loss: 0.039803583 | validation_loss: 0.04838707 | Roc Score: 0.9651544 | Time elapsed: 2:08:21.359138\n",
      "iterations: 1976 | train_loss: 0.02890796 | validation_loss: 0.048264112 | Roc Score: 0.9651628 | Time elapsed: 2:08:25.075008\n",
      "iterations: 1977 | train_loss: 0.054815177 | validation_loss: 0.04823655 | Roc Score: 0.9651712 | Time elapsed: 2:08:29.006000\n",
      "iterations: 1978 | train_loss: 0.04842897 | validation_loss: 0.04818147 | Roc Score: 0.9651797 | Time elapsed: 2:08:32.876404\n",
      "iterations: 1979 | train_loss: 0.0584987 | validation_loss: 0.048149806 | Roc Score: 0.965188 | Time elapsed: 2:08:36.750708\n",
      "iterations: 1980 | train_loss: 0.04397996 | validation_loss: 0.048276894 | Roc Score: 0.96519655 | Time elapsed: 2:08:40.710329\n",
      "iterations: 1981 | train_loss: 0.05465619 | validation_loss: 0.0485036 | Roc Score: 0.9652049 | Time elapsed: 2:08:44.589848\n",
      "iterations: 1982 | train_loss: 0.034361452 | validation_loss: 0.048650697 | Roc Score: 0.9652135 | Time elapsed: 2:08:48.541578\n",
      "iterations: 1983 | train_loss: 0.044599965 | validation_loss: 0.04882723 | Roc Score: 0.96522194 | Time elapsed: 2:08:52.433914\n",
      "iterations: 1984 | train_loss: 0.052910846 | validation_loss: 0.04892738 | Roc Score: 0.9652305 | Time elapsed: 2:08:56.309951\n",
      "iterations: 1985 | train_loss: 0.029234027 | validation_loss: 0.048802786 | Roc Score: 0.9652387 | Time elapsed: 2:09:00.199944\n",
      "iterations: 1986 | train_loss: 0.038719147 | validation_loss: 0.04887557 | Roc Score: 0.96524566 | Time elapsed: 2:09:04.050136\n",
      "iterations: 1987 | train_loss: 0.037020434 | validation_loss: 0.04907956 | Roc Score: 0.9652519 | Time elapsed: 2:09:07.940248\n",
      "iterations: 1988 | train_loss: 0.029622586 | validation_loss: 0.04939904 | Roc Score: 0.9652573 | Time elapsed: 2:09:11.861797\n",
      "iterations: 1989 | train_loss: 0.05370205 | validation_loss: 0.049705543 | Roc Score: 0.9652627 | Time elapsed: 2:09:15.729256\n",
      "iterations: 1990 | train_loss: 0.037420966 | validation_loss: 0.04988647 | Roc Score: 0.96526724 | Time elapsed: 2:09:19.627852\n",
      "iterations: 1991 | train_loss: 0.04355928 | validation_loss: 0.050070636 | Roc Score: 0.9652715 | Time elapsed: 2:09:23.568074\n",
      "iterations: 1992 | train_loss: 0.07369202 | validation_loss: 0.04905763 | Roc Score: 0.9652774 | Time elapsed: 2:09:27.474054\n",
      "iterations: 1993 | train_loss: 0.039504245 | validation_loss: 0.04857583 | Roc Score: 0.9652842 | Time elapsed: 2:09:31.321684\n",
      "iterations: 1994 | train_loss: 0.037002902 | validation_loss: 0.048410803 | Roc Score: 0.96529144 | Time elapsed: 2:09:35.223333\n",
      "iterations: 1995 | train_loss: 0.047972724 | validation_loss: 0.048397154 | Roc Score: 0.9652997 | Time elapsed: 2:09:39.159369\n",
      "iterations: 1996 | train_loss: 0.04177572 | validation_loss: 0.04866086 | Roc Score: 0.9653077 | Time elapsed: 2:09:43.071554\n",
      "iterations: 1997 | train_loss: 0.041152027 | validation_loss: 0.048771426 | Roc Score: 0.965316 | Time elapsed: 2:09:46.864996\n",
      "iterations: 1998 | train_loss: 0.03649416 | validation_loss: 0.048535593 | Roc Score: 0.9653241 | Time elapsed: 2:09:50.707619\n",
      "iterations: 1999 | train_loss: 0.039493114 | validation_loss: 0.048290476 | Roc Score: 0.9653324 | Time elapsed: 2:09:54.560153\n",
      "iterations: 2000 | train_loss: 0.054687817 | validation_loss: 0.048255976 | Roc Score: 0.9653404 | Time elapsed: 2:09:58.430249\n",
      "iterations: 2001 | train_loss: 0.060072385 | validation_loss: 0.048289247 | Roc Score: 0.96534777 | Time elapsed: 2:10:02.366353\n",
      "iterations: 2002 | train_loss: 0.037043355 | validation_loss: 0.048377763 | Roc Score: 0.96535516 | Time elapsed: 2:10:06.255032\n",
      "iterations: 2003 | train_loss: 0.048729997 | validation_loss: 0.04826511 | Roc Score: 0.96536285 | Time elapsed: 2:10:10.140089\n",
      "iterations: 2004 | train_loss: 0.032530107 | validation_loss: 0.04827158 | Roc Score: 0.9653708 | Time elapsed: 2:10:14.061223\n",
      "iterations: 2005 | train_loss: 0.0485457 | validation_loss: 0.04832519 | Roc Score: 0.9653781 | Time elapsed: 2:10:17.974626\n",
      "iterations: 2006 | train_loss: 0.04057571 | validation_loss: 0.048508476 | Roc Score: 0.9653853 | Time elapsed: 2:10:21.841371\n",
      "iterations: 2007 | train_loss: 0.04480484 | validation_loss: 0.0486789 | Roc Score: 0.9653921 | Time elapsed: 2:10:25.729231\n",
      "iterations: 2008 | train_loss: 0.050512783 | validation_loss: 0.048572175 | Roc Score: 0.96539897 | Time elapsed: 2:10:29.633567\n",
      "iterations: 2009 | train_loss: 0.041579906 | validation_loss: 0.048552454 | Roc Score: 0.9654069 | Time elapsed: 2:10:33.543856\n",
      "iterations: 2010 | train_loss: 0.04507328 | validation_loss: 0.048883516 | Roc Score: 0.965415 | Time elapsed: 2:10:37.447223\n",
      "iterations: 2011 | train_loss: 0.03758866 | validation_loss: 0.049154304 | Roc Score: 0.9654229 | Time elapsed: 2:10:41.320651\n",
      "iterations: 2012 | train_loss: 0.048280858 | validation_loss: 0.049540658 | Roc Score: 0.9654308 | Time elapsed: 2:10:45.232072\n",
      "iterations: 2013 | train_loss: 0.041894175 | validation_loss: 0.049655594 | Roc Score: 0.9654384 | Time elapsed: 2:10:49.139417\n",
      "iterations: 2014 | train_loss: 0.02358446 | validation_loss: 0.0497264 | Roc Score: 0.9654453 | Time elapsed: 2:10:52.999661\n",
      "iterations: 2015 | train_loss: 0.03787538 | validation_loss: 0.050391644 | Roc Score: 0.9654505 | Time elapsed: 2:10:56.883858\n",
      "iterations: 2016 | train_loss: 0.042023994 | validation_loss: 0.05153119 | Roc Score: 0.96545404 | Time elapsed: 2:11:00.701751\n",
      "iterations: 2017 | train_loss: 0.025538232 | validation_loss: 0.05319036 | Roc Score: 0.9654551 | Time elapsed: 2:11:04.767273\n",
      "iterations: 2018 | train_loss: 0.03521725 | validation_loss: 0.054230448 | Roc Score: 0.9654543 | Time elapsed: 2:11:08.559735\n",
      "iterations: 2019 | train_loss: 0.051433507 | validation_loss: 0.053254053 | Roc Score: 0.96545446 | Time elapsed: 2:11:12.334785\n",
      "iterations: 2020 | train_loss: 0.02339531 | validation_loss: 0.052366037 | Roc Score: 0.9654565 | Time elapsed: 2:11:16.251529\n",
      "iterations: 2021 | train_loss: 0.05489603 | validation_loss: 0.05095154 | Roc Score: 0.9654602 | Time elapsed: 2:11:20.181451\n",
      "iterations: 2022 | train_loss: 0.029994749 | validation_loss: 0.050183855 | Roc Score: 0.96546537 | Time elapsed: 2:11:24.016672\n",
      "iterations: 2023 | train_loss: 0.036713913 | validation_loss: 0.04969348 | Roc Score: 0.96547157 | Time elapsed: 2:11:27.906174\n",
      "iterations: 2024 | train_loss: 0.04606748 | validation_loss: 0.049337003 | Roc Score: 0.96547806 | Time elapsed: 2:11:31.803374\n",
      "iterations: 2025 | train_loss: 0.051187642 | validation_loss: 0.049471755 | Roc Score: 0.9654853 | Time elapsed: 2:11:35.733410\n",
      "iterations: 2026 | train_loss: 0.037581813 | validation_loss: 0.049875952 | Roc Score: 0.96549296 | Time elapsed: 2:11:39.654923\n",
      "iterations: 2027 | train_loss: 0.037784018 | validation_loss: 0.04994454 | Roc Score: 0.9655004 | Time elapsed: 2:11:43.584014\n"
     ]
    },
    {
     "name": "stdout",
     "output_type": "stream",
     "text": [
      "iterations: 2028 | train_loss: 0.037499525 | validation_loss: 0.04970304 | Roc Score: 0.9655081 | Time elapsed: 2:11:47.479918\n",
      "iterations: 2029 | train_loss: 0.045830462 | validation_loss: 0.049374714 | Roc Score: 0.96551555 | Time elapsed: 2:11:51.386125\n",
      "iterations: 2030 | train_loss: 0.040347528 | validation_loss: 0.049121693 | Roc Score: 0.96552324 | Time elapsed: 2:11:55.299326\n",
      "iterations: 2031 | train_loss: 0.054735877 | validation_loss: 0.04894047 | Roc Score: 0.9655307 | Time elapsed: 2:11:59.233330\n",
      "iterations: 2032 | train_loss: 0.052015387 | validation_loss: 0.04892112 | Roc Score: 0.9655378 | Time elapsed: 2:12:03.124662\n",
      "iterations: 2033 | train_loss: 0.046592094 | validation_loss: 0.04918923 | Roc Score: 0.9655447 | Time elapsed: 2:12:07.006117\n",
      "iterations: 2034 | train_loss: 0.05502238 | validation_loss: 0.049457494 | Roc Score: 0.9655506 | Time elapsed: 2:12:10.944287\n",
      "iterations: 2035 | train_loss: 0.07039559 | validation_loss: 0.049274433 | Roc Score: 0.96555704 | Time elapsed: 2:12:14.737203\n",
      "iterations: 2036 | train_loss: 0.03803633 | validation_loss: 0.049167834 | Roc Score: 0.96556324 | Time elapsed: 2:12:18.655647\n",
      "iterations: 2037 | train_loss: 0.035765957 | validation_loss: 0.048997786 | Roc Score: 0.96556956 | Time elapsed: 2:12:22.547596\n",
      "iterations: 2038 | train_loss: 0.030007903 | validation_loss: 0.04896526 | Roc Score: 0.9655762 | Time elapsed: 2:12:26.397604\n",
      "iterations: 2039 | train_loss: 0.047601376 | validation_loss: 0.048909824 | Roc Score: 0.96558255 | Time elapsed: 2:12:30.295176\n",
      "iterations: 2040 | train_loss: 0.036656607 | validation_loss: 0.048984792 | Roc Score: 0.96558946 | Time elapsed: 2:12:34.220119\n",
      "iterations: 2041 | train_loss: 0.05604688 | validation_loss: 0.049212325 | Roc Score: 0.9655964 | Time elapsed: 2:12:37.999069\n",
      "iterations: 2042 | train_loss: 0.039317075 | validation_loss: 0.049703833 | Roc Score: 0.9656037 | Time elapsed: 2:12:41.977756\n",
      "iterations: 2043 | train_loss: 0.035366867 | validation_loss: 0.050095707 | Roc Score: 0.9656108 | Time elapsed: 2:12:45.884746\n",
      "iterations: 2044 | train_loss: 0.041119955 | validation_loss: 0.050362498 | Roc Score: 0.965618 | Time elapsed: 2:12:49.799548\n",
      "iterations: 2045 | train_loss: 0.050149318 | validation_loss: 0.050585575 | Roc Score: 0.965625 | Time elapsed: 2:12:53.703920\n",
      "iterations: 2046 | train_loss: 0.05556283 | validation_loss: 0.05085197 | Roc Score: 0.9656323 | Time elapsed: 2:12:57.554133\n",
      "iterations: 2047 | train_loss: 0.040360164 | validation_loss: 0.050127853 | Roc Score: 0.96563905 | Time elapsed: 2:13:01.423993\n",
      "iterations: 2048 | train_loss: 0.02821055 | validation_loss: 0.04963072 | Roc Score: 0.9656459 | Time elapsed: 2:13:05.269717\n",
      "iterations: 2049 | train_loss: 0.04017448 | validation_loss: 0.049545415 | Roc Score: 0.96565163 | Time elapsed: 2:13:09.110935\n",
      "iterations: 2050 | train_loss: 0.053674996 | validation_loss: 0.049762376 | Roc Score: 0.965657 | Time elapsed: 2:13:13.022764\n",
      "iterations: 2051 | train_loss: 0.038876165 | validation_loss: 0.050209343 | Roc Score: 0.96566117 | Time elapsed: 2:13:16.971930\n",
      "iterations: 2052 | train_loss: 0.04300496 | validation_loss: 0.05054119 | Roc Score: 0.9656644 | Time elapsed: 2:13:20.881063\n",
      "iterations: 2053 | train_loss: 0.021588037 | validation_loss: 0.051263668 | Roc Score: 0.9656661 | Time elapsed: 2:13:24.776534\n",
      "iterations: 2054 | train_loss: 0.032471508 | validation_loss: 0.052367166 | Roc Score: 0.9656664 | Time elapsed: 2:13:28.684261\n",
      "iterations: 2055 | train_loss: 0.051376708 | validation_loss: 0.052547373 | Roc Score: 0.9656667 | Time elapsed: 2:13:32.646822\n",
      "iterations: 2056 | train_loss: 0.044319976 | validation_loss: 0.051513966 | Roc Score: 0.9656684 | Time elapsed: 2:13:36.535408\n",
      "iterations: 2057 | train_loss: 0.023924528 | validation_loss: 0.050475363 | Roc Score: 0.9656729 | Time elapsed: 2:13:40.454213\n",
      "iterations: 2058 | train_loss: 0.044805355 | validation_loss: 0.049678594 | Roc Score: 0.9656781 | Time elapsed: 2:13:44.354680\n",
      "iterations: 2059 | train_loss: 0.041338 | validation_loss: 0.049472068 | Roc Score: 0.96568453 | Time elapsed: 2:13:48.246291\n",
      "iterations: 2060 | train_loss: 0.033376966 | validation_loss: 0.049503613 | Roc Score: 0.965691 | Time elapsed: 2:13:52.095782\n",
      "iterations: 2061 | train_loss: 0.047412436 | validation_loss: 0.04954547 | Roc Score: 0.96569747 | Time elapsed: 2:13:55.991530\n",
      "iterations: 2062 | train_loss: 0.03315114 | validation_loss: 0.04953492 | Roc Score: 0.9657038 | Time elapsed: 2:13:59.855427\n",
      "iterations: 2063 | train_loss: 0.058699023 | validation_loss: 0.04956362 | Roc Score: 0.9657101 | Time elapsed: 2:14:03.762540\n",
      "iterations: 2064 | train_loss: 0.03892219 | validation_loss: 0.04962239 | Roc Score: 0.9657164 | Time elapsed: 2:14:07.648700\n",
      "iterations: 2065 | train_loss: 0.039775603 | validation_loss: 0.04968987 | Roc Score: 0.96572226 | Time elapsed: 2:14:11.577074\n",
      "iterations: 2066 | train_loss: 0.05905945 | validation_loss: 0.049781013 | Roc Score: 0.96572787 | Time elapsed: 2:14:15.481040\n",
      "iterations: 2067 | train_loss: 0.056850802 | validation_loss: 0.049671166 | Roc Score: 0.9657335 | Time elapsed: 2:14:19.386759\n",
      "iterations: 2068 | train_loss: 0.056776904 | validation_loss: 0.049629584 | Roc Score: 0.9657396 | Time elapsed: 2:14:23.268463\n",
      "iterations: 2069 | train_loss: 0.03650216 | validation_loss: 0.049552813 | Roc Score: 0.9657456 | Time elapsed: 2:14:27.151615\n",
      "iterations: 2070 | train_loss: 0.03972345 | validation_loss: 0.049498707 | Roc Score: 0.9657511 | Time elapsed: 2:14:31.072268\n",
      "iterations: 2071 | train_loss: 0.019149382 | validation_loss: 0.049724422 | Roc Score: 0.9657561 | Time elapsed: 2:14:34.944258\n",
      "iterations: 2072 | train_loss: 0.034974553 | validation_loss: 0.050414227 | Roc Score: 0.9657592 | Time elapsed: 2:14:38.859031\n",
      "iterations: 2073 | train_loss: 0.03592036 | validation_loss: 0.051027022 | Roc Score: 0.96576154 | Time elapsed: 2:14:42.784569\n",
      "iterations: 2074 | train_loss: 0.07061933 | validation_loss: 0.050505895 | Roc Score: 0.965765 | Time elapsed: 2:14:46.665673\n",
      "iterations: 2075 | train_loss: 0.031177687 | validation_loss: 0.04996712 | Roc Score: 0.9657694 | Time elapsed: 2:14:50.542154\n",
      "iterations: 2076 | train_loss: 0.0307374 | validation_loss: 0.04972713 | Roc Score: 0.96577436 | Time elapsed: 2:14:54.428723\n",
      "iterations: 2077 | train_loss: 0.040877156 | validation_loss: 0.049651317 | Roc Score: 0.96577936 | Time elapsed: 2:14:58.276144\n",
      "iterations: 2078 | train_loss: 0.03717284 | validation_loss: 0.04962905 | Roc Score: 0.9657845 | Time elapsed: 2:15:02.204126\n",
      "iterations: 2079 | train_loss: 0.04664023 | validation_loss: 0.049547184 | Roc Score: 0.96579015 | Time elapsed: 2:15:06.112683\n",
      "iterations: 2080 | train_loss: 0.029836956 | validation_loss: 0.04956364 | Roc Score: 0.9657959 | Time elapsed: 2:15:09.997765\n",
      "iterations: 2081 | train_loss: 0.034683216 | validation_loss: 0.049686316 | Roc Score: 0.9658014 | Time elapsed: 2:15:13.938533\n",
      "iterations: 2082 | train_loss: 0.035762783 | validation_loss: 0.049853776 | Roc Score: 0.96580654 | Time elapsed: 2:15:17.846192\n",
      "iterations: 2083 | train_loss: 0.041613907 | validation_loss: 0.0496461 | Roc Score: 0.96581227 | Time elapsed: 2:15:21.740380\n",
      "iterations: 2084 | train_loss: 0.04005658 | validation_loss: 0.049589626 | Roc Score: 0.965818 | Time elapsed: 2:15:25.654423\n",
      "iterations: 2085 | train_loss: 0.053365897 | validation_loss: 0.04955112 | Roc Score: 0.96582407 | Time elapsed: 2:15:29.525759\n",
      "iterations: 2086 | train_loss: 0.045447964 | validation_loss: 0.04970802 | Roc Score: 0.96582985 | Time elapsed: 2:15:33.454604\n",
      "iterations: 2087 | train_loss: 0.049176227 | validation_loss: 0.05026588 | Roc Score: 0.9658361 | Time elapsed: 2:15:37.382065\n",
      "iterations: 2088 | train_loss: 0.055415943 | validation_loss: 0.050694637 | Roc Score: 0.9658427 | Time elapsed: 2:15:41.316841\n",
      "iterations: 2089 | train_loss: 0.041460518 | validation_loss: 0.050914783 | Roc Score: 0.96584946 | Time elapsed: 2:15:45.253047\n",
      "iterations: 2090 | train_loss: 0.059046052 | validation_loss: 0.050957862 | Roc Score: 0.96585584 | Time elapsed: 2:15:49.151437\n",
      "iterations: 2091 | train_loss: 0.038224652 | validation_loss: 0.050625194 | Roc Score: 0.9658623 | Time elapsed: 2:15:53.068683\n",
      "iterations: 2092 | train_loss: 0.046751495 | validation_loss: 0.050262235 | Roc Score: 0.96586853 | Time elapsed: 2:15:56.938432\n",
      "iterations: 2093 | train_loss: 0.03594005 | validation_loss: 0.049942415 | Roc Score: 0.9658745 | Time elapsed: 2:16:00.892757\n",
      "iterations: 2094 | train_loss: 0.046516616 | validation_loss: 0.049777288 | Roc Score: 0.96587986 | Time elapsed: 2:16:04.741554\n",
      "iterations: 2095 | train_loss: 0.060700428 | validation_loss: 0.049650956 | Roc Score: 0.96588516 | Time elapsed: 2:16:08.559913\n",
      "iterations: 2096 | train_loss: 0.0499789 | validation_loss: 0.049438663 | Roc Score: 0.9658907 | Time elapsed: 2:16:12.459913\n",
      "iterations: 2097 | train_loss: 0.04882495 | validation_loss: 0.049374405 | Roc Score: 0.9658956 | Time elapsed: 2:16:16.316792\n",
      "iterations: 2098 | train_loss: 0.050355967 | validation_loss: 0.04921929 | Roc Score: 0.9659007 | Time elapsed: 2:16:20.158323\n",
      "iterations: 2099 | train_loss: 0.06501026 | validation_loss: 0.04897778 | Roc Score: 0.96590674 | Time elapsed: 2:16:24.070907\n",
      "iterations: 2100 | train_loss: 0.054849695 | validation_loss: 0.04899508 | Roc Score: 0.96591324 | Time elapsed: 2:16:27.822530\n",
      "iterations: 2101 | train_loss: 0.059264064 | validation_loss: 0.049209584 | Roc Score: 0.9659199 | Time elapsed: 2:16:31.695266\n",
      "iterations: 2102 | train_loss: 0.048987333 | validation_loss: 0.04970275 | Roc Score: 0.96592706 | Time elapsed: 2:16:35.579513\n",
      "iterations: 2103 | train_loss: 0.054556012 | validation_loss: 0.05029978 | Roc Score: 0.9659341 | Time elapsed: 2:16:39.620056\n",
      "iterations: 2104 | train_loss: 0.052585296 | validation_loss: 0.05003906 | Roc Score: 0.96594095 | Time elapsed: 2:16:43.512155\n",
      "iterations: 2105 | train_loss: 0.057868514 | validation_loss: 0.049486198 | Roc Score: 0.965948 | Time elapsed: 2:16:47.425468\n"
     ]
    },
    {
     "name": "stdout",
     "output_type": "stream",
     "text": [
      "iterations: 2106 | train_loss: 0.038934067 | validation_loss: 0.049051974 | Roc Score: 0.9659549 | Time elapsed: 2:16:51.336524\n",
      "iterations: 2107 | train_loss: 0.04529414 | validation_loss: 0.04888116 | Roc Score: 0.96596104 | Time elapsed: 2:16:55.220909\n",
      "iterations: 2108 | train_loss: 0.031034457 | validation_loss: 0.04925326 | Roc Score: 0.9659667 | Time elapsed: 2:16:59.140554\n",
      "iterations: 2109 | train_loss: 0.0485247 | validation_loss: 0.04967214 | Roc Score: 0.96597177 | Time elapsed: 2:17:03.027521\n",
      "iterations: 2110 | train_loss: 0.04007967 | validation_loss: 0.049862314 | Roc Score: 0.9659768 | Time elapsed: 2:17:06.909687\n",
      "iterations: 2111 | train_loss: 0.049776755 | validation_loss: 0.049597163 | Roc Score: 0.9659825 | Time elapsed: 2:17:10.813479\n",
      "iterations: 2112 | train_loss: 0.047142982 | validation_loss: 0.049298856 | Roc Score: 0.9659881 | Time elapsed: 2:17:14.709568\n",
      "iterations: 2113 | train_loss: 0.057634037 | validation_loss: 0.04913759 | Roc Score: 0.96599483 | Time elapsed: 2:17:18.541599\n",
      "iterations: 2114 | train_loss: 0.037058193 | validation_loss: 0.049266282 | Roc Score: 0.9660013 | Time elapsed: 2:17:22.421540\n",
      "iterations: 2115 | train_loss: 0.048506 | validation_loss: 0.049491655 | Roc Score: 0.96600825 | Time elapsed: 2:17:26.354851\n",
      "iterations: 2116 | train_loss: 0.048916098 | validation_loss: 0.04970395 | Roc Score: 0.9660149 | Time elapsed: 2:17:30.264113\n",
      "iterations: 2117 | train_loss: 0.058599785 | validation_loss: 0.04985086 | Roc Score: 0.9660221 | Time elapsed: 2:17:34.140074\n",
      "iterations: 2118 | train_loss: 0.03490481 | validation_loss: 0.049901195 | Roc Score: 0.9660287 | Time elapsed: 2:17:38.008419\n",
      "iterations: 2119 | train_loss: 0.05163251 | validation_loss: 0.04985687 | Roc Score: 0.9660352 | Time elapsed: 2:17:41.871240\n",
      "iterations: 2120 | train_loss: 0.06782863 | validation_loss: 0.05001258 | Roc Score: 0.9660419 | Time elapsed: 2:17:45.787314\n",
      "iterations: 2121 | train_loss: 0.04621465 | validation_loss: 0.050102826 | Roc Score: 0.9660488 | Time elapsed: 2:17:49.734074\n",
      "iterations: 2122 | train_loss: 0.04866263 | validation_loss: 0.050496776 | Roc Score: 0.96605563 | Time elapsed: 2:17:53.585438\n",
      "iterations: 2123 | train_loss: 0.035057105 | validation_loss: 0.05004912 | Roc Score: 0.9660628 | Time elapsed: 2:17:57.488434\n",
      "iterations: 2124 | train_loss: 0.04919442 | validation_loss: 0.049561184 | Roc Score: 0.96606976 | Time elapsed: 2:18:01.384263\n",
      "iterations: 2125 | train_loss: 0.07283431 | validation_loss: 0.04917936 | Roc Score: 0.96607685 | Time elapsed: 2:18:05.306157\n",
      "iterations: 2126 | train_loss: 0.050696492 | validation_loss: 0.04907 | Roc Score: 0.9660839 | Time elapsed: 2:18:09.237237\n",
      "iterations: 2127 | train_loss: 0.058374647 | validation_loss: 0.04894393 | Roc Score: 0.96609086 | Time elapsed: 2:18:13.188226\n",
      "iterations: 2128 | train_loss: 0.057185028 | validation_loss: 0.04888468 | Roc Score: 0.966097 | Time elapsed: 2:18:17.113539\n",
      "iterations: 2129 | train_loss: 0.03590663 | validation_loss: 0.048961572 | Roc Score: 0.9661031 | Time elapsed: 2:18:20.946456\n",
      "iterations: 2130 | train_loss: 0.047489014 | validation_loss: 0.049109384 | Roc Score: 0.9661087 | Time elapsed: 2:18:24.873062\n",
      "iterations: 2131 | train_loss: 0.031369224 | validation_loss: 0.049246002 | Roc Score: 0.96611375 | Time elapsed: 2:18:28.759747\n",
      "iterations: 2132 | train_loss: 0.03559356 | validation_loss: 0.049423985 | Roc Score: 0.9661186 | Time elapsed: 2:18:32.652358\n",
      "iterations: 2133 | train_loss: 0.042986084 | validation_loss: 0.049631227 | Roc Score: 0.9661233 | Time elapsed: 2:18:36.555719\n",
      "iterations: 2134 | train_loss: 0.03669494 | validation_loss: 0.049880635 | Roc Score: 0.9661276 | Time elapsed: 2:18:40.481669\n",
      "iterations: 2135 | train_loss: 0.048836615 | validation_loss: 0.049742386 | Roc Score: 0.96613216 | Time elapsed: 2:18:44.390291\n",
      "iterations: 2136 | train_loss: 0.07302993 | validation_loss: 0.04938119 | Roc Score: 0.96613735 | Time elapsed: 2:18:48.282283\n",
      "iterations: 2137 | train_loss: 0.067707546 | validation_loss: 0.049658515 | Roc Score: 0.9661433 | Time elapsed: 2:18:52.068995\n",
      "iterations: 2138 | train_loss: 0.041921668 | validation_loss: 0.05030128 | Roc Score: 0.96614987 | Time elapsed: 2:18:55.923373\n",
      "iterations: 2139 | train_loss: 0.050574083 | validation_loss: 0.051197756 | Roc Score: 0.96615624 | Time elapsed: 2:18:59.848742\n",
      "iterations: 2140 | train_loss: 0.06489618 | validation_loss: 0.05177774 | Roc Score: 0.96616256 | Time elapsed: 2:19:03.720427\n",
      "iterations: 2141 | train_loss: 0.047988042 | validation_loss: 0.051550202 | Roc Score: 0.9661693 | Time elapsed: 2:19:07.609439\n",
      "iterations: 2142 | train_loss: 0.04851242 | validation_loss: 0.050143726 | Roc Score: 0.9661762 | Time elapsed: 2:19:11.543808\n",
      "iterations: 2143 | train_loss: 0.05244715 | validation_loss: 0.04884663 | Roc Score: 0.9661833 | Time elapsed: 2:19:15.474385\n",
      "iterations: 2144 | train_loss: 0.041766834 | validation_loss: 0.048466258 | Roc Score: 0.96618915 | Time elapsed: 2:19:19.352397\n",
      "iterations: 2145 | train_loss: 0.05972121 | validation_loss: 0.04878805 | Roc Score: 0.9661938 | Time elapsed: 2:19:23.299636\n",
      "iterations: 2146 | train_loss: 0.039161205 | validation_loss: 0.049520645 | Roc Score: 0.96619695 | Time elapsed: 2:19:27.205110\n",
      "iterations: 2147 | train_loss: 0.038198143 | validation_loss: 0.05052127 | Roc Score: 0.9661989 | Time elapsed: 2:19:31.080422\n",
      "iterations: 2148 | train_loss: 0.04811437 | validation_loss: 0.050904524 | Roc Score: 0.9662004 | Time elapsed: 2:19:34.962493\n",
      "iterations: 2149 | train_loss: 0.037417445 | validation_loss: 0.05097157 | Roc Score: 0.9662019 | Time elapsed: 2:19:38.822586\n",
      "iterations: 2150 | train_loss: 0.039893597 | validation_loss: 0.05057012 | Roc Score: 0.96620494 | Time elapsed: 2:19:42.727601\n",
      "iterations: 2151 | train_loss: 0.061358623 | validation_loss: 0.049630973 | Roc Score: 0.9662093 | Time elapsed: 2:19:46.660096\n",
      "iterations: 2152 | train_loss: 0.023435162 | validation_loss: 0.04946853 | Roc Score: 0.96621495 | Time elapsed: 2:19:50.565416\n",
      "iterations: 2153 | train_loss: 0.044608437 | validation_loss: 0.04949853 | Roc Score: 0.966221 | Time elapsed: 2:19:54.467409\n",
      "iterations: 2154 | train_loss: 0.045270793 | validation_loss: 0.049653966 | Roc Score: 0.96622694 | Time elapsed: 2:19:58.400495\n",
      "iterations: 2155 | train_loss: 0.05542136 | validation_loss: 0.050096985 | Roc Score: 0.9662327 | Time elapsed: 2:20:02.301581\n",
      "iterations: 2156 | train_loss: 0.054642156 | validation_loss: 0.050328273 | Roc Score: 0.96623886 | Time elapsed: 2:20:06.212037\n",
      "iterations: 2157 | train_loss: 0.06260579 | validation_loss: 0.050521236 | Roc Score: 0.96624494 | Time elapsed: 2:20:10.102169\n",
      "iterations: 2158 | train_loss: 0.049157605 | validation_loss: 0.050012607 | Roc Score: 0.96625155 | Time elapsed: 2:20:14.021897\n",
      "iterations: 2159 | train_loss: 0.052886873 | validation_loss: 0.049245186 | Roc Score: 0.9662582 | Time elapsed: 2:20:18.011414\n",
      "iterations: 2160 | train_loss: 0.039412048 | validation_loss: 0.048664972 | Roc Score: 0.96626526 | Time elapsed: 2:20:21.927439\n",
      "iterations: 2161 | train_loss: 0.044553984 | validation_loss: 0.048510224 | Roc Score: 0.96627194 | Time elapsed: 2:20:25.744491\n",
      "iterations: 2162 | train_loss: 0.040958256 | validation_loss: 0.048692387 | Roc Score: 0.9662775 | Time elapsed: 2:20:29.680176\n",
      "iterations: 2163 | train_loss: 0.03218288 | validation_loss: 0.049599055 | Roc Score: 0.9662813 | Time elapsed: 2:20:33.563108\n",
      "iterations: 2164 | train_loss: 0.056300543 | validation_loss: 0.05038831 | Roc Score: 0.9662846 | Time elapsed: 2:20:37.473120\n",
      "iterations: 2165 | train_loss: 0.049017463 | validation_loss: 0.050319444 | Roc Score: 0.9662876 | Time elapsed: 2:20:41.440172\n",
      "iterations: 2166 | train_loss: 0.05020959 | validation_loss: 0.050126832 | Roc Score: 0.9662909 | Time elapsed: 2:20:45.297920\n",
      "iterations: 2167 | train_loss: 0.041210916 | validation_loss: 0.049824156 | Roc Score: 0.9662945 | Time elapsed: 2:20:49.219872\n",
      "iterations: 2168 | train_loss: 0.06975199 | validation_loss: 0.049172744 | Roc Score: 0.96629936 | Time elapsed: 2:20:53.130650\n",
      "iterations: 2169 | train_loss: 0.056168187 | validation_loss: 0.049360495 | Roc Score: 0.96630555 | Time elapsed: 2:20:57.040760\n",
      "iterations: 2170 | train_loss: 0.055501904 | validation_loss: 0.0509784 | Roc Score: 0.96631193 | Time elapsed: 2:21:01.045152\n",
      "iterations: 2171 | train_loss: 0.05779134 | validation_loss: 0.0532444 | Roc Score: 0.96631813 | Time elapsed: 2:21:04.962051\n",
      "iterations: 2172 | train_loss: 0.06712747 | validation_loss: 0.054285318 | Roc Score: 0.96632403 | Time elapsed: 2:21:08.839899\n",
      "iterations: 2173 | train_loss: 0.053359617 | validation_loss: 0.05400345 | Roc Score: 0.96633005 | Time elapsed: 2:21:12.733651\n",
      "iterations: 2174 | train_loss: 0.055619296 | validation_loss: 0.052138567 | Roc Score: 0.9663359 | Time elapsed: 2:21:16.625298\n",
      "iterations: 2175 | train_loss: 0.03206487 | validation_loss: 0.050043147 | Roc Score: 0.96634156 | Time elapsed: 2:21:20.554889\n",
      "iterations: 2176 | train_loss: 0.029434653 | validation_loss: 0.049379237 | Roc Score: 0.96634626 | Time elapsed: 2:21:24.475727\n",
      "iterations: 2177 | train_loss: 0.038880073 | validation_loss: 0.05040313 | Roc Score: 0.9663491 | Time elapsed: 2:21:28.399086\n",
      "iterations: 2178 | train_loss: 0.03227491 | validation_loss: 0.052484937 | Roc Score: 0.9663494 | Time elapsed: 2:21:32.342503\n",
      "iterations: 2179 | train_loss: 0.053026967 | validation_loss: 0.05411473 | Roc Score: 0.96634865 | Time elapsed: 2:21:36.152310\n",
      "iterations: 2180 | train_loss: 0.05549249 | validation_loss: 0.054406118 | Roc Score: 0.9663475 | Time elapsed: 2:21:39.937254\n",
      "iterations: 2181 | train_loss: 0.04873592 | validation_loss: 0.053220768 | Roc Score: 0.9663473 | Time elapsed: 2:21:43.774243\n",
      "iterations: 2182 | train_loss: 0.0417393 | validation_loss: 0.05180576 | Roc Score: 0.966348 | Time elapsed: 2:21:47.589863\n",
      "iterations: 2183 | train_loss: 0.047676124 | validation_loss: 0.05078283 | Roc Score: 0.9663505 | Time elapsed: 2:21:51.540936\n"
     ]
    },
    {
     "name": "stdout",
     "output_type": "stream",
     "text": [
      "iterations: 2184 | train_loss: 0.041498497 | validation_loss: 0.050042287 | Roc Score: 0.96635395 | Time elapsed: 2:21:55.460393\n",
      "iterations: 2185 | train_loss: 0.036378838 | validation_loss: 0.049661446 | Roc Score: 0.96635795 | Time elapsed: 2:21:59.396250\n",
      "iterations: 2186 | train_loss: 0.036407057 | validation_loss: 0.049461223 | Roc Score: 0.9663623 | Time elapsed: 2:22:03.326878\n",
      "iterations: 2187 | train_loss: 0.035771552 | validation_loss: 0.049399085 | Roc Score: 0.96636677 | Time elapsed: 2:22:07.240609\n",
      "iterations: 2188 | train_loss: 0.03737229 | validation_loss: 0.0495051 | Roc Score: 0.96637166 | Time elapsed: 2:22:11.147237\n",
      "iterations: 2189 | train_loss: 0.055830903 | validation_loss: 0.049871676 | Roc Score: 0.9663764 | Time elapsed: 2:22:14.904421\n",
      "iterations: 2190 | train_loss: 0.04917926 | validation_loss: 0.050229855 | Roc Score: 0.9663816 | Time elapsed: 2:22:18.753885\n",
      "iterations: 2191 | train_loss: 0.032635987 | validation_loss: 0.050401073 | Roc Score: 0.9663868 | Time elapsed: 2:22:22.613196\n",
      "iterations: 2192 | train_loss: 0.053701654 | validation_loss: 0.05059363 | Roc Score: 0.96639186 | Time elapsed: 2:22:26.519126\n",
      "iterations: 2193 | train_loss: 0.038628303 | validation_loss: 0.050819144 | Roc Score: 0.966397 | Time elapsed: 2:22:30.399549\n",
      "iterations: 2194 | train_loss: 0.049655255 | validation_loss: 0.05068872 | Roc Score: 0.9664016 | Time elapsed: 2:22:34.299870\n",
      "iterations: 2195 | train_loss: 0.067665935 | validation_loss: 0.05035767 | Roc Score: 0.96640605 | Time elapsed: 2:22:38.231802\n",
      "iterations: 2196 | train_loss: 0.052423123 | validation_loss: 0.049963947 | Roc Score: 0.9664104 | Time elapsed: 2:22:42.107475\n",
      "iterations: 2197 | train_loss: 0.047156483 | validation_loss: 0.049656715 | Roc Score: 0.9664153 | Time elapsed: 2:22:46.101517\n",
      "iterations: 2198 | train_loss: 0.032816123 | validation_loss: 0.049694195 | Roc Score: 0.96641946 | Time elapsed: 2:22:50.007291\n",
      "iterations: 2199 | train_loss: 0.04274298 | validation_loss: 0.04995912 | Roc Score: 0.96642345 | Time elapsed: 2:22:53.977692\n",
      "iterations: 2200 | train_loss: 0.036695093 | validation_loss: 0.05009789 | Roc Score: 0.96642715 | Time elapsed: 2:22:57.846372\n",
      "iterations: 2201 | train_loss: 0.04624115 | validation_loss: 0.050291676 | Roc Score: 0.9664312 | Time elapsed: 2:23:01.721635\n",
      "iterations: 2202 | train_loss: 0.030877976 | validation_loss: 0.050631627 | Roc Score: 0.96643484 | Time elapsed: 2:23:05.587351\n",
      "iterations: 2203 | train_loss: 0.053874977 | validation_loss: 0.050819337 | Roc Score: 0.9664385 | Time elapsed: 2:23:09.487283\n",
      "iterations: 2204 | train_loss: 0.05860843 | validation_loss: 0.05066494 | Roc Score: 0.96644217 | Time elapsed: 2:23:13.351048\n",
      "iterations: 2205 | train_loss: 0.069618374 | validation_loss: 0.05020601 | Roc Score: 0.966447 | Time elapsed: 2:23:17.234665\n",
      "iterations: 2206 | train_loss: 0.036135815 | validation_loss: 0.050084673 | Roc Score: 0.96645236 | Time elapsed: 2:23:21.192736\n",
      "iterations: 2207 | train_loss: 0.066078424 | validation_loss: 0.049868934 | Roc Score: 0.9664585 | Time elapsed: 2:23:25.143906\n",
      "iterations: 2208 | train_loss: 0.053987537 | validation_loss: 0.04985403 | Roc Score: 0.9664641 | Time elapsed: 2:23:29.047243\n",
      "iterations: 2209 | train_loss: 0.06164161 | validation_loss: 0.049902394 | Roc Score: 0.96647006 | Time elapsed: 2:23:32.953262\n",
      "iterations: 2210 | train_loss: 0.04088554 | validation_loss: 0.049622823 | Roc Score: 0.9664762 | Time elapsed: 2:23:36.873146\n",
      "iterations: 2211 | train_loss: 0.034399647 | validation_loss: 0.049710814 | Roc Score: 0.96648157 | Time elapsed: 2:23:40.742421\n",
      "iterations: 2212 | train_loss: 0.046810333 | validation_loss: 0.050142832 | Roc Score: 0.9664868 | Time elapsed: 2:23:44.680769\n",
      "iterations: 2213 | train_loss: 0.03065914 | validation_loss: 0.05045976 | Roc Score: 0.9664911 | Time elapsed: 2:23:48.738416\n",
      "iterations: 2214 | train_loss: 0.035947222 | validation_loss: 0.050282247 | Roc Score: 0.96649504 | Time elapsed: 2:23:52.678969\n",
      "iterations: 2215 | train_loss: 0.05926968 | validation_loss: 0.049725205 | Roc Score: 0.9664999 | Time elapsed: 2:23:56.571604\n",
      "iterations: 2216 | train_loss: 0.034480043 | validation_loss: 0.049830772 | Roc Score: 0.96650505 | Time elapsed: 2:24:00.456852\n",
      "iterations: 2217 | train_loss: 0.060821936 | validation_loss: 0.049860906 | Roc Score: 0.9665106 | Time elapsed: 2:24:04.336014\n",
      "iterations: 2218 | train_loss: 0.04366701 | validation_loss: 0.05017327 | Roc Score: 0.9665162 | Time elapsed: 2:24:08.251276\n",
      "iterations: 2219 | train_loss: 0.051890705 | validation_loss: 0.050519247 | Roc Score: 0.96652186 | Time elapsed: 2:24:12.166800\n",
      "iterations: 2220 | train_loss: 0.033111148 | validation_loss: 0.050940257 | Roc Score: 0.9665277 | Time elapsed: 2:24:16.019912\n",
      "iterations: 2221 | train_loss: 0.029838854 | validation_loss: 0.05122851 | Roc Score: 0.9665335 | Time elapsed: 2:24:19.924035\n",
      "iterations: 2222 | train_loss: 0.055631604 | validation_loss: 0.051422246 | Roc Score: 0.96653914 | Time elapsed: 2:24:23.823986\n",
      "iterations: 2223 | train_loss: 0.051434733 | validation_loss: 0.050753985 | Roc Score: 0.9665447 | Time elapsed: 2:24:27.763612\n",
      "iterations: 2224 | train_loss: 0.042697717 | validation_loss: 0.050002806 | Roc Score: 0.96654975 | Time elapsed: 2:24:31.564164\n",
      "iterations: 2225 | train_loss: 0.04162357 | validation_loss: 0.05118262 | Roc Score: 0.96655214 | Time elapsed: 2:24:35.485104\n",
      "iterations: 2226 | train_loss: 0.04336846 | validation_loss: 0.052940067 | Roc Score: 0.96655196 | Time elapsed: 2:24:39.261566\n",
      "iterations: 2227 | train_loss: 0.0356346 | validation_loss: 0.053881694 | Roc Score: 0.9665506 | Time elapsed: 2:24:43.082466\n",
      "iterations: 2228 | train_loss: 0.038076952 | validation_loss: 0.05485471 | Roc Score: 0.96654826 | Time elapsed: 2:24:46.920887\n",
      "iterations: 2229 | train_loss: 0.06991187 | validation_loss: 0.053275343 | Roc Score: 0.96654797 | Time elapsed: 2:24:50.768159\n",
      "iterations: 2230 | train_loss: 0.052197248 | validation_loss: 0.050935514 | Roc Score: 0.9665508 | Time elapsed: 2:24:54.642567\n",
      "iterations: 2231 | train_loss: 0.035118103 | validation_loss: 0.049254168 | Roc Score: 0.9665563 | Time elapsed: 2:24:58.560315\n",
      "iterations: 2232 | train_loss: 0.040494226 | validation_loss: 0.048626333 | Roc Score: 0.9665625 | Time elapsed: 2:25:02.452724\n",
      "iterations: 2233 | train_loss: 0.049285315 | validation_loss: 0.049726337 | Roc Score: 0.96656895 | Time elapsed: 2:25:06.325991\n",
      "iterations: 2234 | train_loss: 0.08195114 | validation_loss: 0.053648993 | Roc Score: 0.9665739 | Time elapsed: 2:25:10.250973\n",
      "iterations: 2235 | train_loss: 0.04262908 | validation_loss: 0.056304 | Roc Score: 0.9665775 | Time elapsed: 2:25:14.130576\n",
      "iterations: 2236 | train_loss: 0.039584253 | validation_loss: 0.054852847 | Roc Score: 0.9665819 | Time elapsed: 2:25:18.033833\n",
      "iterations: 2237 | train_loss: 0.0488452 | validation_loss: 0.051580556 | Roc Score: 0.96658754 | Time elapsed: 2:25:21.908430\n",
      "iterations: 2238 | train_loss: 0.046536677 | validation_loss: 0.049547955 | Roc Score: 0.96659404 | Time elapsed: 2:25:25.769094\n",
      "iterations: 2239 | train_loss: 0.049550563 | validation_loss: 0.04905461 | Roc Score: 0.9665996 | Time elapsed: 2:25:29.618224\n",
      "iterations: 2240 | train_loss: 0.03421252 | validation_loss: 0.04977017 | Roc Score: 0.966604 | Time elapsed: 2:25:33.485475\n",
      "iterations: 2241 | train_loss: 0.026079495 | validation_loss: 0.051371288 | Roc Score: 0.966606 | Time elapsed: 2:25:37.333543\n",
      "iterations: 2242 | train_loss: 0.034264144 | validation_loss: 0.05284553 | Roc Score: 0.9666059 | Time elapsed: 2:25:41.107311\n",
      "iterations: 2243 | train_loss: 0.029618807 | validation_loss: 0.05390104 | Roc Score: 0.9666043 | Time elapsed: 2:25:44.899489\n",
      "iterations: 2244 | train_loss: 0.06003573 | validation_loss: 0.053462304 | Roc Score: 0.9666029 | Time elapsed: 2:25:48.700744\n",
      "iterations: 2245 | train_loss: 0.045460917 | validation_loss: 0.052061904 | Roc Score: 0.966603 | Time elapsed: 2:25:52.536408\n",
      "iterations: 2246 | train_loss: 0.03760674 | validation_loss: 0.05139565 | Roc Score: 0.9666045 | Time elapsed: 2:25:56.360981\n",
      "iterations: 2247 | train_loss: 0.033090673 | validation_loss: 0.051232815 | Roc Score: 0.96660715 | Time elapsed: 2:26:00.191777\n",
      "iterations: 2248 | train_loss: 0.041037615 | validation_loss: 0.05127338 | Roc Score: 0.9666108 | Time elapsed: 2:26:04.058007\n",
      "iterations: 2249 | train_loss: 0.047126293 | validation_loss: 0.051585954 | Roc Score: 0.9666148 | Time elapsed: 2:26:07.964310\n",
      "iterations: 2250 | train_loss: 0.033147 | validation_loss: 0.05164381 | Roc Score: 0.96661884 | Time elapsed: 2:26:11.875390\n",
      "iterations: 2251 | train_loss: 0.042463716 | validation_loss: 0.051374193 | Roc Score: 0.9666229 | Time elapsed: 2:26:15.791762\n",
      "iterations: 2252 | train_loss: 0.047991917 | validation_loss: 0.05104343 | Roc Score: 0.966627 | Time elapsed: 2:26:19.727251\n",
      "iterations: 2253 | train_loss: 0.032397646 | validation_loss: 0.05077325 | Roc Score: 0.966631 | Time elapsed: 2:26:23.653238\n",
      "iterations: 2254 | train_loss: 0.051818285 | validation_loss: 0.050526854 | Roc Score: 0.96663445 | Time elapsed: 2:26:27.551125\n",
      "iterations: 2255 | train_loss: 0.034798667 | validation_loss: 0.050350804 | Roc Score: 0.9666378 | Time elapsed: 2:26:31.466039\n",
      "iterations: 2256 | train_loss: 0.055437546 | validation_loss: 0.049822196 | Roc Score: 0.9666411 | Time elapsed: 2:26:35.332356\n",
      "iterations: 2257 | train_loss: 0.05185683 | validation_loss: 0.049384803 | Roc Score: 0.96664584 | Time elapsed: 2:26:39.224827\n",
      "iterations: 2258 | train_loss: 0.08533505 | validation_loss: 0.049793575 | Roc Score: 0.9666509 | Time elapsed: 2:26:43.160627\n",
      "iterations: 2259 | train_loss: 0.06967516 | validation_loss: 0.051320307 | Roc Score: 0.96665597 | Time elapsed: 2:26:47.021180\n",
      "iterations: 2260 | train_loss: 0.05145996 | validation_loss: 0.052120574 | Roc Score: 0.96666086 | Time elapsed: 2:26:50.924604\n",
      "iterations: 2261 | train_loss: 0.03247796 | validation_loss: 0.051330768 | Roc Score: 0.9666659 | Time elapsed: 2:26:54.858695\n"
     ]
    },
    {
     "name": "stdout",
     "output_type": "stream",
     "text": [
      "iterations: 2262 | train_loss: 0.044156864 | validation_loss: 0.05003788 | Roc Score: 0.9666717 | Time elapsed: 2:26:58.733219\n",
      "iterations: 2263 | train_loss: 0.05574819 | validation_loss: 0.049029723 | Roc Score: 0.9666778 | Time elapsed: 2:27:02.663010\n",
      "iterations: 2264 | train_loss: 0.08198808 | validation_loss: 0.048872583 | Roc Score: 0.9666837 | Time elapsed: 2:27:06.544183\n",
      "iterations: 2265 | train_loss: 0.037939873 | validation_loss: 0.048843507 | Roc Score: 0.966689 | Time elapsed: 2:27:10.415484\n",
      "iterations: 2266 | train_loss: 0.046592336 | validation_loss: 0.049086757 | Roc Score: 0.9666937 | Time elapsed: 2:27:14.397503\n",
      "iterations: 2267 | train_loss: 0.03439629 | validation_loss: 0.049619447 | Roc Score: 0.9666977 | Time elapsed: 2:27:18.280380\n",
      "iterations: 2268 | train_loss: 0.046811733 | validation_loss: 0.049932018 | Roc Score: 0.96670127 | Time elapsed: 2:27:22.199895\n",
      "iterations: 2269 | train_loss: 0.04166268 | validation_loss: 0.050375264 | Roc Score: 0.9667045 | Time elapsed: 2:27:26.077834\n",
      "iterations: 2270 | train_loss: 0.04338443 | validation_loss: 0.050404526 | Roc Score: 0.96670765 | Time elapsed: 2:27:29.995150\n",
      "iterations: 2271 | train_loss: 0.047820024 | validation_loss: 0.049957275 | Roc Score: 0.9667117 | Time elapsed: 2:27:33.909691\n",
      "iterations: 2272 | train_loss: 0.051596917 | validation_loss: 0.049353722 | Roc Score: 0.96671635 | Time elapsed: 2:27:37.813568\n",
      "iterations: 2273 | train_loss: 0.037764035 | validation_loss: 0.049376726 | Roc Score: 0.9667215 | Time elapsed: 2:27:41.688028\n",
      "iterations: 2274 | train_loss: 0.047503956 | validation_loss: 0.049721036 | Roc Score: 0.96672696 | Time elapsed: 2:27:45.555348\n",
      "iterations: 2275 | train_loss: 0.066924006 | validation_loss: 0.05004468 | Roc Score: 0.9667327 | Time elapsed: 2:27:49.524539\n",
      "iterations: 2276 | train_loss: 0.043555453 | validation_loss: 0.05039527 | Roc Score: 0.9667385 | Time elapsed: 2:27:53.454314\n",
      "iterations: 2277 | train_loss: 0.035246618 | validation_loss: 0.050874047 | Roc Score: 0.9667446 | Time elapsed: 2:27:57.376442\n",
      "iterations: 2278 | train_loss: 0.03814065 | validation_loss: 0.050706502 | Roc Score: 0.9667503 | Time elapsed: 2:28:01.326149\n",
      "iterations: 2279 | train_loss: 0.047333486 | validation_loss: 0.05047024 | Roc Score: 0.966756 | Time elapsed: 2:28:05.240388\n",
      "iterations: 2280 | train_loss: 0.045916684 | validation_loss: 0.050283153 | Roc Score: 0.9667617 | Time elapsed: 2:28:09.118242\n",
      "iterations: 2281 | train_loss: 0.036610585 | validation_loss: 0.050144356 | Roc Score: 0.9667674 | Time elapsed: 2:28:13.048700\n",
      "iterations: 2282 | train_loss: 0.052366033 | validation_loss: 0.04991505 | Roc Score: 0.9667729 | Time elapsed: 2:28:16.945611\n",
      "iterations: 2283 | train_loss: 0.037213925 | validation_loss: 0.049457718 | Roc Score: 0.96677864 | Time elapsed: 2:28:20.856824\n",
      "iterations: 2284 | train_loss: 0.044322774 | validation_loss: 0.049040023 | Roc Score: 0.96678436 | Time elapsed: 2:28:24.736409\n",
      "iterations: 2285 | train_loss: 0.06323895 | validation_loss: 0.04882012 | Roc Score: 0.9667897 | Time elapsed: 2:28:28.596023\n",
      "iterations: 2286 | train_loss: 0.034724165 | validation_loss: 0.04900926 | Roc Score: 0.9667945 | Time elapsed: 2:28:32.489907\n",
      "iterations: 2287 | train_loss: 0.047159467 | validation_loss: 0.049392596 | Roc Score: 0.9667987 | Time elapsed: 2:28:36.360483\n",
      "iterations: 2288 | train_loss: 0.07231094 | validation_loss: 0.049308445 | Roc Score: 0.9668036 | Time elapsed: 2:28:40.257082\n",
      "iterations: 2289 | train_loss: 0.047999803 | validation_loss: 0.049414944 | Roc Score: 0.9668088 | Time elapsed: 2:28:44.155182\n",
      "iterations: 2290 | train_loss: 0.040107474 | validation_loss: 0.049703974 | Roc Score: 0.96681416 | Time elapsed: 2:28:48.076712\n",
      "iterations: 2291 | train_loss: 0.060001448 | validation_loss: 0.049748674 | Roc Score: 0.96681976 | Time elapsed: 2:28:51.994978\n",
      "iterations: 2292 | train_loss: 0.04038636 | validation_loss: 0.04976595 | Roc Score: 0.9668252 | Time elapsed: 2:28:55.902231\n",
      "iterations: 2293 | train_loss: 0.048588157 | validation_loss: 0.04967324 | Roc Score: 0.9668307 | Time elapsed: 2:28:59.820543\n",
      "iterations: 2294 | train_loss: 0.03194189 | validation_loss: 0.04969973 | Roc Score: 0.96683615 | Time elapsed: 2:29:03.685263\n",
      "iterations: 2295 | train_loss: 0.049798906 | validation_loss: 0.049877077 | Roc Score: 0.96684074 | Time elapsed: 2:29:07.595906\n",
      "iterations: 2296 | train_loss: 0.03776016 | validation_loss: 0.050130203 | Roc Score: 0.9668446 | Time elapsed: 2:29:11.500053\n",
      "iterations: 2297 | train_loss: 0.03243097 | validation_loss: 0.050274406 | Roc Score: 0.9668482 | Time elapsed: 2:29:15.367913\n",
      "iterations: 2298 | train_loss: 0.04746822 | validation_loss: 0.050446175 | Roc Score: 0.9668517 | Time elapsed: 2:29:19.279979\n",
      "iterations: 2299 | train_loss: 0.06814616 | validation_loss: 0.050525114 | Roc Score: 0.96685505 | Time elapsed: 2:29:23.141241\n",
      "iterations: 2300 | train_loss: 0.061200753 | validation_loss: 0.050548136 | Roc Score: 0.9668582 | Time elapsed: 2:29:27.038936\n",
      "iterations: 2301 | train_loss: 0.045763902 | validation_loss: 0.05042581 | Roc Score: 0.9668617 | Time elapsed: 2:29:30.957189\n",
      "iterations: 2302 | train_loss: 0.04352284 | validation_loss: 0.05032512 | Roc Score: 0.9668655 | Time elapsed: 2:29:34.862873\n",
      "iterations: 2303 | train_loss: 0.08194349 | validation_loss: 0.05082609 | Roc Score: 0.9668704 | Time elapsed: 2:29:38.753561\n",
      "iterations: 2304 | train_loss: 0.06500888 | validation_loss: 0.05266918 | Roc Score: 0.9668758 | Time elapsed: 2:29:42.609976\n",
      "iterations: 2305 | train_loss: 0.05204399 | validation_loss: 0.053349257 | Roc Score: 0.9668811 | Time elapsed: 2:29:46.501237\n",
      "iterations: 2306 | train_loss: 0.045249484 | validation_loss: 0.05445774 | Roc Score: 0.96688616 | Time elapsed: 2:29:50.401969\n",
      "iterations: 2307 | train_loss: 0.04356481 | validation_loss: 0.052559376 | Roc Score: 0.9668916 | Time elapsed: 2:29:54.278883\n",
      "iterations: 2308 | train_loss: 0.03597925 | validation_loss: 0.050282545 | Roc Score: 0.96689725 | Time elapsed: 2:29:58.144254\n",
      "iterations: 2309 | train_loss: 0.05338023 | validation_loss: 0.049438093 | Roc Score: 0.9669024 | Time elapsed: 2:30:02.099786\n",
      "iterations: 2310 | train_loss: 0.041637603 | validation_loss: 0.049522966 | Roc Score: 0.9669066 | Time elapsed: 2:30:05.954193\n",
      "iterations: 2311 | train_loss: 0.04999021 | validation_loss: 0.050492946 | Roc Score: 0.96690947 | Time elapsed: 2:30:09.817574\n",
      "iterations: 2312 | train_loss: 0.027916633 | validation_loss: 0.052152805 | Roc Score: 0.9669101 | Time elapsed: 2:30:13.759743\n",
      "iterations: 2313 | train_loss: 0.05125734 | validation_loss: 0.053008433 | Roc Score: 0.9669096 | Time elapsed: 2:30:17.553470\n",
      "iterations: 2314 | train_loss: 0.047917493 | validation_loss: 0.05376234 | Roc Score: 0.966908 | Time elapsed: 2:30:21.365995\n",
      "iterations: 2315 | train_loss: 0.05438409 | validation_loss: 0.053299226 | Roc Score: 0.96690756 | Time elapsed: 2:30:25.167447\n",
      "iterations: 2316 | train_loss: 0.049320187 | validation_loss: 0.05177845 | Roc Score: 0.9669089 | Time elapsed: 2:30:28.965954\n",
      "iterations: 2317 | train_loss: 0.043354712 | validation_loss: 0.050896276 | Roc Score: 0.9669114 | Time elapsed: 2:30:32.908243\n",
      "iterations: 2318 | train_loss: 0.055451985 | validation_loss: 0.049551234 | Roc Score: 0.96691555 | Time elapsed: 2:30:36.786479\n",
      "iterations: 2319 | train_loss: 0.04115018 | validation_loss: 0.04903016 | Roc Score: 0.96692145 | Time elapsed: 2:30:40.661443\n",
      "iterations: 2320 | train_loss: 0.044769734 | validation_loss: 0.049116984 | Roc Score: 0.9669277 | Time elapsed: 2:30:44.580653\n",
      "iterations: 2321 | train_loss: 0.029720297 | validation_loss: 0.04929987 | Roc Score: 0.96693397 | Time elapsed: 2:30:48.479889\n",
      "iterations: 2322 | train_loss: 0.040506493 | validation_loss: 0.049238253 | Roc Score: 0.9669402 | Time elapsed: 2:30:52.407243\n",
      "iterations: 2323 | train_loss: 0.035783842 | validation_loss: 0.04893218 | Roc Score: 0.9669462 | Time elapsed: 2:30:56.335729\n",
      "iterations: 2324 | train_loss: 0.026363311 | validation_loss: 0.04874395 | Roc Score: 0.9669523 | Time elapsed: 2:31:00.271871\n",
      "iterations: 2325 | train_loss: 0.054212824 | validation_loss: 0.048910342 | Roc Score: 0.96695757 | Time elapsed: 2:31:04.120423\n",
      "iterations: 2326 | train_loss: 0.046452586 | validation_loss: 0.04948619 | Roc Score: 0.966962 | Time elapsed: 2:31:07.971007\n",
      "iterations: 2327 | train_loss: 0.039667726 | validation_loss: 0.05037672 | Roc Score: 0.9669652 | Time elapsed: 2:31:11.851333\n",
      "iterations: 2328 | train_loss: 0.03699034 | validation_loss: 0.051157337 | Roc Score: 0.9669682 | Time elapsed: 2:31:15.802803\n",
      "iterations: 2329 | train_loss: 0.038876645 | validation_loss: 0.051904794 | Roc Score: 0.96697 | Time elapsed: 2:31:19.697756\n",
      "iterations: 2330 | train_loss: 0.04149501 | validation_loss: 0.051308315 | Roc Score: 0.9669724 | Time elapsed: 2:31:23.602536\n",
      "iterations: 2331 | train_loss: 0.037390392 | validation_loss: 0.050183766 | Roc Score: 0.9669764 | Time elapsed: 2:31:27.530563\n",
      "iterations: 2332 | train_loss: 0.047978368 | validation_loss: 0.049024858 | Roc Score: 0.9669815 | Time elapsed: 2:31:31.419855\n",
      "iterations: 2333 | train_loss: 0.032738183 | validation_loss: 0.048818454 | Roc Score: 0.966987 | Time elapsed: 2:31:35.290558\n",
      "iterations: 2334 | train_loss: 0.06842887 | validation_loss: 0.049230378 | Roc Score: 0.9669929 | Time elapsed: 2:31:39.157443\n",
      "iterations: 2335 | train_loss: 0.054935176 | validation_loss: 0.049840424 | Roc Score: 0.9669986 | Time elapsed: 2:31:43.029194\n",
      "iterations: 2336 | train_loss: 0.03921822 | validation_loss: 0.050490122 | Roc Score: 0.96700436 | Time elapsed: 2:31:46.933109\n",
      "iterations: 2337 | train_loss: 0.04006789 | validation_loss: 0.05041794 | Roc Score: 0.96701014 | Time elapsed: 2:31:50.784025\n",
      "iterations: 2338 | train_loss: 0.04470212 | validation_loss: 0.049770717 | Roc Score: 0.9670162 | Time elapsed: 2:31:54.629461\n",
      "iterations: 2339 | train_loss: 0.059261385 | validation_loss: 0.04925236 | Roc Score: 0.9670222 | Time elapsed: 2:31:58.529527\n"
     ]
    },
    {
     "name": "stdout",
     "output_type": "stream",
     "text": [
      "iterations: 2340 | train_loss: 0.05728009 | validation_loss: 0.04893844 | Roc Score: 0.9670278 | Time elapsed: 2:32:02.424184\n",
      "iterations: 2341 | train_loss: 0.058654383 | validation_loss: 0.048853595 | Roc Score: 0.9670335 | Time elapsed: 2:32:06.321821\n",
      "iterations: 2342 | train_loss: 0.03572447 | validation_loss: 0.048907317 | Roc Score: 0.96703887 | Time elapsed: 2:32:10.229888\n",
      "iterations: 2343 | train_loss: 0.02533246 | validation_loss: 0.049201153 | Roc Score: 0.9670435 | Time elapsed: 2:32:14.158600\n",
      "iterations: 2344 | train_loss: 0.035932116 | validation_loss: 0.049551815 | Roc Score: 0.9670474 | Time elapsed: 2:32:18.070677\n",
      "iterations: 2345 | train_loss: 0.034077052 | validation_loss: 0.0501099 | Roc Score: 0.9670503 | Time elapsed: 2:32:21.960171\n",
      "iterations: 2346 | train_loss: 0.048112184 | validation_loss: 0.050455965 | Roc Score: 0.96705264 | Time elapsed: 2:32:25.921127\n",
      "iterations: 2347 | train_loss: 0.04612434 | validation_loss: 0.05012096 | Roc Score: 0.96705526 | Time elapsed: 2:32:29.757895\n",
      "iterations: 2348 | train_loss: 0.037794646 | validation_loss: 0.04970374 | Roc Score: 0.9670587 | Time elapsed: 2:32:33.669038\n",
      "iterations: 2349 | train_loss: 0.055064455 | validation_loss: 0.04930754 | Roc Score: 0.9670625 | Time elapsed: 2:32:37.582738\n",
      "iterations: 2350 | train_loss: 0.040887 | validation_loss: 0.04892418 | Roc Score: 0.9670671 | Time elapsed: 2:32:41.439343\n",
      "iterations: 2351 | train_loss: 0.025199225 | validation_loss: 0.048638433 | Roc Score: 0.9670719 | Time elapsed: 2:32:45.327556\n",
      "iterations: 2352 | train_loss: 0.028624427 | validation_loss: 0.048523825 | Roc Score: 0.96707666 | Time elapsed: 2:32:49.258852\n",
      "iterations: 2353 | train_loss: 0.045118343 | validation_loss: 0.048524298 | Roc Score: 0.967081 | Time elapsed: 2:32:53.147867\n",
      "iterations: 2354 | train_loss: 0.065006204 | validation_loss: 0.04828502 | Roc Score: 0.9670865 | Time elapsed: 2:32:57.061085\n",
      "iterations: 2355 | train_loss: 0.059156686 | validation_loss: 0.048221495 | Roc Score: 0.9670922 | Time elapsed: 2:33:00.974871\n",
      "iterations: 2356 | train_loss: 0.059495144 | validation_loss: 0.04841002 | Roc Score: 0.96709853 | Time elapsed: 2:33:04.813282\n",
      "iterations: 2357 | train_loss: 0.03036698 | validation_loss: 0.048571084 | Roc Score: 0.9671047 | Time elapsed: 2:33:08.677836\n",
      "iterations: 2358 | train_loss: 0.02489055 | validation_loss: 0.04834765 | Roc Score: 0.9671108 | Time elapsed: 2:33:12.607948\n",
      "iterations: 2359 | train_loss: 0.03503996 | validation_loss: 0.048101526 | Roc Score: 0.96711725 | Time elapsed: 2:33:16.483408\n",
      "iterations: 2360 | train_loss: 0.058098845 | validation_loss: 0.047976118 | Roc Score: 0.96712357 | Time elapsed: 2:33:20.255628\n",
      "iterations: 2361 | train_loss: 0.032137413 | validation_loss: 0.047994163 | Roc Score: 0.9671295 | Time elapsed: 2:33:24.142377\n",
      "iterations: 2362 | train_loss: 0.031054156 | validation_loss: 0.048112888 | Roc Score: 0.9671355 | Time elapsed: 2:33:28.024134\n",
      "iterations: 2363 | train_loss: 0.057105858 | validation_loss: 0.048168935 | Roc Score: 0.9671415 | Time elapsed: 2:33:31.921662\n",
      "iterations: 2364 | train_loss: 0.03967531 | validation_loss: 0.04826494 | Roc Score: 0.9671475 | Time elapsed: 2:33:35.838262\n",
      "iterations: 2365 | train_loss: 0.04078397 | validation_loss: 0.04836952 | Roc Score: 0.9671536 | Time elapsed: 2:33:39.772290\n",
      "iterations: 2366 | train_loss: 0.03142656 | validation_loss: 0.04855254 | Roc Score: 0.9671597 | Time elapsed: 2:33:43.595917\n",
      "iterations: 2367 | train_loss: 0.04689373 | validation_loss: 0.048714124 | Roc Score: 0.9671659 | Time elapsed: 2:33:47.392608\n",
      "iterations: 2368 | train_loss: 0.036552384 | validation_loss: 0.04866945 | Roc Score: 0.96717155 | Time elapsed: 2:33:51.249044\n",
      "iterations: 2369 | train_loss: 0.05806366 | validation_loss: 0.04853042 | Roc Score: 0.96717745 | Time elapsed: 2:33:55.222753\n",
      "iterations: 2370 | train_loss: 0.033950735 | validation_loss: 0.048415657 | Roc Score: 0.96718305 | Time elapsed: 2:33:59.094121\n",
      "iterations: 2371 | train_loss: 0.029417088 | validation_loss: 0.048389155 | Roc Score: 0.96718836 | Time elapsed: 2:34:02.899365\n",
      "iterations: 2372 | train_loss: 0.06608855 | validation_loss: 0.0482454 | Roc Score: 0.9671939 | Time elapsed: 2:34:06.812088\n",
      "iterations: 2373 | train_loss: 0.032850906 | validation_loss: 0.04815147 | Roc Score: 0.96719944 | Time elapsed: 2:34:10.656455\n",
      "iterations: 2374 | train_loss: 0.055588506 | validation_loss: 0.04812434 | Roc Score: 0.9672049 | Time elapsed: 2:34:14.601413\n",
      "iterations: 2375 | train_loss: 0.03896937 | validation_loss: 0.04815432 | Roc Score: 0.96721035 | Time elapsed: 2:34:18.502774\n",
      "iterations: 2376 | train_loss: 0.033948977 | validation_loss: 0.04824428 | Roc Score: 0.9672156 | Time elapsed: 2:34:22.076483\n",
      "iterations: 2377 | train_loss: 0.03332375 | validation_loss: 0.0483384 | Roc Score: 0.9672206 | Time elapsed: 2:34:25.953565\n",
      "iterations: 2378 | train_loss: 0.041543227 | validation_loss: 0.048326675 | Roc Score: 0.96722585 | Time elapsed: 2:34:29.799301\n",
      "iterations: 2379 | train_loss: 0.043315455 | validation_loss: 0.048388764 | Roc Score: 0.96723104 | Time elapsed: 2:34:33.687876\n",
      "iterations: 2380 | train_loss: 0.034609802 | validation_loss: 0.04858678 | Roc Score: 0.9672357 | Time elapsed: 2:34:37.574213\n",
      "iterations: 2381 | train_loss: 0.05088412 | validation_loss: 0.04886544 | Roc Score: 0.9672403 | Time elapsed: 2:34:41.500539\n",
      "iterations: 2382 | train_loss: 0.04163957 | validation_loss: 0.048994634 | Roc Score: 0.9672446 | Time elapsed: 2:34:45.362769\n",
      "iterations: 2383 | train_loss: 0.027861306 | validation_loss: 0.04896434 | Roc Score: 0.967249 | Time elapsed: 2:34:49.277830\n",
      "iterations: 2384 | train_loss: 0.040173423 | validation_loss: 0.04891398 | Roc Score: 0.9672539 | Time elapsed: 2:34:53.134495\n",
      "iterations: 2385 | train_loss: 0.05686772 | validation_loss: 0.048884112 | Roc Score: 0.967259 | Time elapsed: 2:34:57.020305\n",
      "iterations: 2386 | train_loss: 0.027706759 | validation_loss: 0.04877732 | Roc Score: 0.96726406 | Time elapsed: 2:35:00.929357\n",
      "iterations: 2387 | train_loss: 0.043900024 | validation_loss: 0.048686113 | Roc Score: 0.967269 | Time elapsed: 2:35:04.848445\n",
      "iterations: 2388 | train_loss: 0.04339744 | validation_loss: 0.048656553 | Roc Score: 0.9672738 | Time elapsed: 2:35:08.765899\n",
      "iterations: 2389 | train_loss: 0.04775133 | validation_loss: 0.048713934 | Roc Score: 0.96727854 | Time elapsed: 2:35:12.661547\n",
      "iterations: 2390 | train_loss: 0.033634104 | validation_loss: 0.048757292 | Roc Score: 0.96728295 | Time elapsed: 2:35:16.614376\n",
      "iterations: 2391 | train_loss: 0.030450227 | validation_loss: 0.048943922 | Roc Score: 0.96728736 | Time elapsed: 2:35:20.518780\n",
      "iterations: 2392 | train_loss: 0.018565001 | validation_loss: 0.04950536 | Roc Score: 0.9672913 | Time elapsed: 2:35:24.473546\n",
      "iterations: 2393 | train_loss: 0.047277402 | validation_loss: 0.049578346 | Roc Score: 0.96729517 | Time elapsed: 2:35:28.435018\n",
      "iterations: 2394 | train_loss: 0.04105532 | validation_loss: 0.049459524 | Roc Score: 0.96729887 | Time elapsed: 2:35:32.394158\n",
      "iterations: 2395 | train_loss: 0.037794083 | validation_loss: 0.048995174 | Roc Score: 0.96730363 | Time elapsed: 2:35:36.242218\n",
      "iterations: 2396 | train_loss: 0.04206814 | validation_loss: 0.048614092 | Roc Score: 0.9673086 | Time elapsed: 2:35:40.088810\n",
      "iterations: 2397 | train_loss: 0.04160128 | validation_loss: 0.04861195 | Roc Score: 0.96731436 | Time elapsed: 2:35:43.982239\n",
      "iterations: 2398 | train_loss: 0.03996482 | validation_loss: 0.048771054 | Roc Score: 0.96732026 | Time elapsed: 2:35:47.893256\n",
      "iterations: 2399 | train_loss: 0.03662203 | validation_loss: 0.048819844 | Roc Score: 0.9673263 | Time elapsed: 2:35:51.795764\n",
      "iterations: 2400 | train_loss: 0.04649475 | validation_loss: 0.049122207 | Roc Score: 0.9673323 | Time elapsed: 2:35:55.699070\n",
      "iterations: 2401 | train_loss: 0.03473266 | validation_loss: 0.049151897 | Roc Score: 0.9673385 | Time elapsed: 2:35:59.582597\n",
      "iterations: 2402 | train_loss: 0.041750737 | validation_loss: 0.04864694 | Roc Score: 0.9673445 | Time elapsed: 2:36:03.449687\n",
      "iterations: 2403 | train_loss: 0.036921006 | validation_loss: 0.04823139 | Roc Score: 0.9673501 | Time elapsed: 2:36:07.349716\n",
      "iterations: 2404 | train_loss: 0.04560085 | validation_loss: 0.048483122 | Roc Score: 0.9673549 | Time elapsed: 2:36:11.192871\n",
      "iterations: 2405 | train_loss: 0.038978413 | validation_loss: 0.048835672 | Roc Score: 0.9673595 | Time elapsed: 2:36:15.066233\n",
      "iterations: 2406 | train_loss: 0.040479247 | validation_loss: 0.049254227 | Roc Score: 0.9673639 | Time elapsed: 2:36:18.986124\n",
      "iterations: 2407 | train_loss: 0.045376528 | validation_loss: 0.048910968 | Roc Score: 0.9673685 | Time elapsed: 2:36:22.889236\n",
      "iterations: 2408 | train_loss: 0.056614432 | validation_loss: 0.0487684 | Roc Score: 0.96737295 | Time elapsed: 2:36:26.787709\n",
      "iterations: 2409 | train_loss: 0.044852663 | validation_loss: 0.048451703 | Roc Score: 0.96737784 | Time elapsed: 2:36:30.683074\n",
      "iterations: 2410 | train_loss: 0.034906972 | validation_loss: 0.048232496 | Roc Score: 0.96738285 | Time elapsed: 2:36:34.647643\n",
      "iterations: 2411 | train_loss: 0.029963836 | validation_loss: 0.04849397 | Roc Score: 0.96738845 | Time elapsed: 2:36:38.568426\n",
      "iterations: 2412 | train_loss: 0.049457043 | validation_loss: 0.048637055 | Roc Score: 0.96739423 | Time elapsed: 2:36:42.463845\n",
      "iterations: 2413 | train_loss: 0.025915416 | validation_loss: 0.04866753 | Roc Score: 0.96740013 | Time elapsed: 2:36:46.318921\n",
      "iterations: 2414 | train_loss: 0.04984045 | validation_loss: 0.048480682 | Roc Score: 0.96740603 | Time elapsed: 2:36:50.204444\n",
      "iterations: 2415 | train_loss: 0.041939225 | validation_loss: 0.048027538 | Roc Score: 0.9674117 | Time elapsed: 2:36:54.085500\n",
      "iterations: 2416 | train_loss: 0.046355687 | validation_loss: 0.047730822 | Roc Score: 0.96741706 | Time elapsed: 2:36:57.976209\n",
      "iterations: 2417 | train_loss: 0.032070972 | validation_loss: 0.0478784 | Roc Score: 0.9674222 | Time elapsed: 2:37:01.832124\n"
     ]
    },
    {
     "name": "stdout",
     "output_type": "stream",
     "text": [
      "iterations: 2418 | train_loss: 0.06127983 | validation_loss: 0.048106365 | Roc Score: 0.96742713 | Time elapsed: 2:37:05.756448\n",
      "iterations: 2419 | train_loss: 0.0819571 | validation_loss: 0.047911167 | Roc Score: 0.96743274 | Time elapsed: 2:37:09.660069\n",
      "iterations: 2420 | train_loss: 0.0426058 | validation_loss: 0.04782877 | Roc Score: 0.9674384 | Time elapsed: 2:37:13.607472\n",
      "iterations: 2421 | train_loss: 0.033762917 | validation_loss: 0.047808185 | Roc Score: 0.9674444 | Time elapsed: 2:37:17.494942\n",
      "iterations: 2422 | train_loss: 0.039379437 | validation_loss: 0.047688592 | Roc Score: 0.9674503 | Time elapsed: 2:37:21.442249\n",
      "iterations: 2423 | train_loss: 0.06011083 | validation_loss: 0.04761567 | Roc Score: 0.9674565 | Time elapsed: 2:37:25.348928\n",
      "iterations: 2424 | train_loss: 0.04752144 | validation_loss: 0.04765156 | Roc Score: 0.96746266 | Time elapsed: 2:37:29.234896\n",
      "iterations: 2425 | train_loss: 0.04380021 | validation_loss: 0.047620732 | Roc Score: 0.9674685 | Time elapsed: 2:37:33.160613\n",
      "iterations: 2426 | train_loss: 0.04900018 | validation_loss: 0.04767562 | Roc Score: 0.9674743 | Time elapsed: 2:37:37.034880\n",
      "iterations: 2427 | train_loss: 0.05498475 | validation_loss: 0.04768703 | Roc Score: 0.9674802 | Time elapsed: 2:37:40.943389\n",
      "iterations: 2428 | train_loss: 0.039800446 | validation_loss: 0.047728248 | Roc Score: 0.96748596 | Time elapsed: 2:37:44.812737\n",
      "iterations: 2429 | train_loss: 0.040657822 | validation_loss: 0.04779435 | Roc Score: 0.96749145 | Time elapsed: 2:37:48.687661\n",
      "iterations: 2430 | train_loss: 0.044686183 | validation_loss: 0.047780164 | Roc Score: 0.96749693 | Time elapsed: 2:37:52.610846\n",
      "iterations: 2431 | train_loss: 0.042201687 | validation_loss: 0.04795091 | Roc Score: 0.96750206 | Time elapsed: 2:37:56.519155\n",
      "iterations: 2432 | train_loss: 0.036512364 | validation_loss: 0.04834176 | Roc Score: 0.96750677 | Time elapsed: 2:38:00.398236\n",
      "iterations: 2433 | train_loss: 0.046964005 | validation_loss: 0.04836047 | Roc Score: 0.9675113 | Time elapsed: 2:38:04.300343\n",
      "iterations: 2434 | train_loss: 0.04168866 | validation_loss: 0.048311643 | Roc Score: 0.96751636 | Time elapsed: 2:38:08.200757\n",
      "iterations: 2435 | train_loss: 0.031162888 | validation_loss: 0.04822038 | Roc Score: 0.96752185 | Time elapsed: 2:38:12.095805\n",
      "iterations: 2436 | train_loss: 0.06062954 | validation_loss: 0.048059072 | Roc Score: 0.9675276 | Time elapsed: 2:38:15.957579\n",
      "iterations: 2437 | train_loss: 0.04358612 | validation_loss: 0.048083268 | Roc Score: 0.9675331 | Time elapsed: 2:38:19.857896\n",
      "iterations: 2438 | train_loss: 0.04357607 | validation_loss: 0.04823708 | Roc Score: 0.96753895 | Time elapsed: 2:38:23.766886\n",
      "iterations: 2439 | train_loss: 0.03844381 | validation_loss: 0.04830247 | Roc Score: 0.9675445 | Time elapsed: 2:38:27.655304\n",
      "iterations: 2440 | train_loss: 0.038386602 | validation_loss: 0.048390057 | Roc Score: 0.9675503 | Time elapsed: 2:38:31.555283\n",
      "iterations: 2441 | train_loss: 0.042013995 | validation_loss: 0.048378155 | Roc Score: 0.9675558 | Time elapsed: 2:38:35.435683\n",
      "iterations: 2442 | train_loss: 0.047339495 | validation_loss: 0.048444696 | Roc Score: 0.9675616 | Time elapsed: 2:38:39.091913\n",
      "iterations: 2443 | train_loss: 0.045995694 | validation_loss: 0.048542473 | Roc Score: 0.96756655 | Time elapsed: 2:38:43.001395\n",
      "iterations: 2444 | train_loss: 0.05189303 | validation_loss: 0.048724808 | Roc Score: 0.96757174 | Time elapsed: 2:38:46.876889\n",
      "iterations: 2445 | train_loss: 0.048629384 | validation_loss: 0.048816614 | Roc Score: 0.96757656 | Time elapsed: 2:38:50.800181\n",
      "iterations: 2446 | train_loss: 0.03469501 | validation_loss: 0.048940025 | Roc Score: 0.9675811 | Time elapsed: 2:38:54.737262\n",
      "iterations: 2447 | train_loss: 0.04134385 | validation_loss: 0.049135555 | Roc Score: 0.96758527 | Time elapsed: 2:38:58.671057\n",
      "iterations: 2448 | train_loss: 0.050621953 | validation_loss: 0.049368937 | Roc Score: 0.9675892 | Time elapsed: 2:39:02.599746\n",
      "iterations: 2449 | train_loss: 0.044084273 | validation_loss: 0.049432617 | Roc Score: 0.96759325 | Time elapsed: 2:39:06.468464\n",
      "iterations: 2450 | train_loss: 0.041929152 | validation_loss: 0.049551774 | Roc Score: 0.9675972 | Time elapsed: 2:39:10.351416\n",
      "iterations: 2451 | train_loss: 0.02607273 | validation_loss: 0.04976583 | Roc Score: 0.96760064 | Time elapsed: 2:39:14.242583\n",
      "iterations: 2452 | train_loss: 0.035327237 | validation_loss: 0.0501044 | Roc Score: 0.9676038 | Time elapsed: 2:39:18.181017\n",
      "iterations: 2453 | train_loss: 0.06212869 | validation_loss: 0.050274353 | Roc Score: 0.96760637 | Time elapsed: 2:39:22.047073\n",
      "iterations: 2454 | train_loss: 0.026184969 | validation_loss: 0.050335634 | Roc Score: 0.9676093 | Time elapsed: 2:39:25.926219\n",
      "iterations: 2455 | train_loss: 0.047958322 | validation_loss: 0.050362743 | Roc Score: 0.96761227 | Time elapsed: 2:39:29.867691\n",
      "iterations: 2456 | train_loss: 0.05664903 | validation_loss: 0.050252605 | Roc Score: 0.96761507 | Time elapsed: 2:39:33.812661\n",
      "iterations: 2457 | train_loss: 0.043985505 | validation_loss: 0.049952276 | Roc Score: 0.9676185 | Time elapsed: 2:39:37.721683\n",
      "iterations: 2458 | train_loss: 0.04252356 | validation_loss: 0.04955802 | Roc Score: 0.96762246 | Time elapsed: 2:39:41.585927\n",
      "iterations: 2459 | train_loss: 0.03487892 | validation_loss: 0.049462307 | Roc Score: 0.96762717 | Time elapsed: 2:39:45.506581\n",
      "iterations: 2460 | train_loss: 0.05638915 | validation_loss: 0.04942902 | Roc Score: 0.9676321 | Time elapsed: 2:39:49.390412\n",
      "iterations: 2461 | train_loss: 0.049249124 | validation_loss: 0.049518205 | Roc Score: 0.9676375 | Time elapsed: 2:39:53.305568\n",
      "iterations: 2462 | train_loss: 0.04291602 | validation_loss: 0.04970805 | Roc Score: 0.96764314 | Time elapsed: 2:39:57.130000\n",
      "iterations: 2463 | train_loss: 0.034091678 | validation_loss: 0.049568355 | Roc Score: 0.967649 | Time elapsed: 2:40:01.000987\n",
      "iterations: 2464 | train_loss: 0.04491751 | validation_loss: 0.049302567 | Roc Score: 0.96765465 | Time elapsed: 2:40:04.897331\n",
      "iterations: 2465 | train_loss: 0.06543196 | validation_loss: 0.0493227 | Roc Score: 0.9676605 | Time elapsed: 2:40:08.795643\n",
      "iterations: 2466 | train_loss: 0.032454893 | validation_loss: 0.049196336 | Roc Score: 0.9676664 | Time elapsed: 2:40:12.746666\n",
      "iterations: 2467 | train_loss: 0.03163902 | validation_loss: 0.04926682 | Roc Score: 0.9676719 | Time elapsed: 2:40:16.596425\n",
      "iterations: 2468 | train_loss: 0.033651147 | validation_loss: 0.050529663 | Roc Score: 0.967676 | Time elapsed: 2:40:20.465861\n",
      "iterations: 2469 | train_loss: 0.03628941 | validation_loss: 0.051861912 | Roc Score: 0.9676787 | Time elapsed: 2:40:24.373556\n",
      "iterations: 2470 | train_loss: 0.044257198 | validation_loss: 0.052432302 | Roc Score: 0.96768117 | Time elapsed: 2:40:28.258954\n",
      "iterations: 2471 | train_loss: 0.050180342 | validation_loss: 0.051066585 | Roc Score: 0.9676844 | Time elapsed: 2:40:32.133177\n",
      "iterations: 2472 | train_loss: 0.03775877 | validation_loss: 0.050305363 | Roc Score: 0.96768814 | Time elapsed: 2:40:36.075346\n",
      "iterations: 2473 | train_loss: 0.05594959 | validation_loss: 0.04957751 | Roc Score: 0.96769243 | Time elapsed: 2:40:39.988786\n",
      "iterations: 2474 | train_loss: 0.055755407 | validation_loss: 0.0492988 | Roc Score: 0.9676972 | Time elapsed: 2:40:43.871889\n",
      "iterations: 2475 | train_loss: 0.056073766 | validation_loss: 0.049081944 | Roc Score: 0.96770215 | Time elapsed: 2:40:47.788345\n",
      "iterations: 2476 | train_loss: 0.055240408 | validation_loss: 0.048889767 | Roc Score: 0.9677076 | Time elapsed: 2:40:51.661361\n",
      "iterations: 2477 | train_loss: 0.039024472 | validation_loss: 0.04869762 | Roc Score: 0.9677127 | Time elapsed: 2:40:55.559095\n",
      "iterations: 2478 | train_loss: 0.04006748 | validation_loss: 0.048586182 | Roc Score: 0.9677179 | Time elapsed: 2:40:59.418909\n",
      "iterations: 2479 | train_loss: 0.044989068 | validation_loss: 0.048529584 | Roc Score: 0.96772337 | Time elapsed: 2:41:03.323998\n",
      "iterations: 2480 | train_loss: 0.06115432 | validation_loss: 0.048332315 | Roc Score: 0.9677289 | Time elapsed: 2:41:07.228330\n",
      "iterations: 2481 | train_loss: 0.035413012 | validation_loss: 0.04822322 | Roc Score: 0.96773463 | Time elapsed: 2:41:11.070211\n",
      "iterations: 2482 | train_loss: 0.034011085 | validation_loss: 0.04815995 | Roc Score: 0.9677403 | Time elapsed: 2:41:14.938651\n",
      "iterations: 2483 | train_loss: 0.036443908 | validation_loss: 0.048151247 | Roc Score: 0.96774554 | Time elapsed: 2:41:18.891940\n",
      "iterations: 2484 | train_loss: 0.062998794 | validation_loss: 0.04801877 | Roc Score: 0.9677512 | Time elapsed: 2:41:22.823828\n",
      "iterations: 2485 | train_loss: 0.03148989 | validation_loss: 0.047958136 | Roc Score: 0.967757 | Time elapsed: 2:41:26.741068\n",
      "iterations: 2486 | train_loss: 0.051339056 | validation_loss: 0.04798647 | Roc Score: 0.9677626 | Time elapsed: 2:41:30.592990\n",
      "iterations: 2487 | train_loss: 0.047582798 | validation_loss: 0.048211787 | Roc Score: 0.96776843 | Time elapsed: 2:41:34.532182\n",
      "iterations: 2488 | train_loss: 0.058920328 | validation_loss: 0.048502423 | Roc Score: 0.9677746 | Time elapsed: 2:41:38.462399\n",
      "iterations: 2489 | train_loss: 0.04342293 | validation_loss: 0.04849626 | Roc Score: 0.9677808 | Time elapsed: 2:41:42.414029\n",
      "iterations: 2490 | train_loss: 0.044440627 | validation_loss: 0.048218984 | Roc Score: 0.96778697 | Time elapsed: 2:41:46.306735\n",
      "iterations: 2491 | train_loss: 0.039552633 | validation_loss: 0.047726214 | Roc Score: 0.9677927 | Time elapsed: 2:41:50.267798\n",
      "iterations: 2492 | train_loss: 0.040843282 | validation_loss: 0.0475522 | Roc Score: 0.9677985 | Time elapsed: 2:41:54.139153\n",
      "iterations: 2493 | train_loss: 0.046576098 | validation_loss: 0.047660876 | Roc Score: 0.96780384 | Time elapsed: 2:41:58.006700\n",
      "iterations: 2494 | train_loss: 0.031373013 | validation_loss: 0.048004445 | Roc Score: 0.96780854 | Time elapsed: 2:42:01.942222\n",
      "iterations: 2495 | train_loss: 0.04904889 | validation_loss: 0.048401654 | Roc Score: 0.96781266 | Time elapsed: 2:42:05.788661\n"
     ]
    },
    {
     "name": "stdout",
     "output_type": "stream",
     "text": [
      "iterations: 2496 | train_loss: 0.050075717 | validation_loss: 0.04874544 | Roc Score: 0.96781653 | Time elapsed: 2:42:09.655855\n",
      "iterations: 2497 | train_loss: 0.040482923 | validation_loss: 0.049099404 | Roc Score: 0.96782005 | Time elapsed: 2:42:13.547971\n",
      "iterations: 2498 | train_loss: 0.05408931 | validation_loss: 0.048902284 | Roc Score: 0.9678236 | Time elapsed: 2:42:17.441907\n",
      "iterations: 2499 | train_loss: 0.037171267 | validation_loss: 0.04887409 | Roc Score: 0.96782696 | Time elapsed: 2:42:21.346537\n",
      "iterations: 2500 | train_loss: 0.057447076 | validation_loss: 0.048664115 | Roc Score: 0.9678308 | Time elapsed: 2:42:25.362745\n",
      "iterations: 2501 | train_loss: 0.051295914 | validation_loss: 0.04842192 | Roc Score: 0.96783465 | Time elapsed: 2:42:29.246439\n",
      "iterations: 2502 | train_loss: 0.0453118 | validation_loss: 0.048268024 | Roc Score: 0.9678387 | Time elapsed: 2:42:33.125536\n",
      "iterations: 2503 | train_loss: 0.049531735 | validation_loss: 0.04808146 | Roc Score: 0.9678436 | Time elapsed: 2:42:37.019201\n",
      "iterations: 2504 | train_loss: 0.051749475 | validation_loss: 0.048215415 | Roc Score: 0.9678486 | Time elapsed: 2:42:40.918853\n",
      "iterations: 2505 | train_loss: 0.040478636 | validation_loss: 0.048663817 | Roc Score: 0.9678538 | Time elapsed: 2:42:44.849393\n",
      "iterations: 2506 | train_loss: 0.055218536 | validation_loss: 0.04904115 | Roc Score: 0.9678592 | Time elapsed: 2:42:48.757726\n",
      "iterations: 2507 | train_loss: 0.055682667 | validation_loss: 0.049067777 | Roc Score: 0.96786433 | Time elapsed: 2:42:52.661982\n",
      "iterations: 2508 | train_loss: 0.05553468 | validation_loss: 0.048899073 | Roc Score: 0.9678693 | Time elapsed: 2:42:56.555503\n",
      "iterations: 2509 | train_loss: 0.061606243 | validation_loss: 0.048768155 | Roc Score: 0.96787363 | Time elapsed: 2:43:00.496040\n",
      "iterations: 2510 | train_loss: 0.04654785 | validation_loss: 0.04884182 | Roc Score: 0.967878 | Time elapsed: 2:43:04.418056\n",
      "iterations: 2511 | train_loss: 0.03183621 | validation_loss: 0.04910138 | Roc Score: 0.96788174 | Time elapsed: 2:43:08.302857\n",
      "iterations: 2512 | train_loss: 0.033290233 | validation_loss: 0.04948727 | Roc Score: 0.9678857 | Time elapsed: 2:43:11.957292\n",
      "iterations: 2513 | train_loss: 0.06758809 | validation_loss: 0.04959347 | Roc Score: 0.9678891 | Time elapsed: 2:43:15.806136\n",
      "iterations: 2514 | train_loss: 0.047241613 | validation_loss: 0.049288522 | Roc Score: 0.96789294 | Time elapsed: 2:43:19.670906\n",
      "iterations: 2515 | train_loss: 0.019189779 | validation_loss: 0.049414612 | Roc Score: 0.9678974 | Time elapsed: 2:43:23.598245\n",
      "iterations: 2516 | train_loss: 0.03857685 | validation_loss: 0.04958523 | Roc Score: 0.9679021 | Time elapsed: 2:43:27.501624\n",
      "iterations: 2517 | train_loss: 0.042704113 | validation_loss: 0.0497814 | Roc Score: 0.96790665 | Time elapsed: 2:43:31.394185\n",
      "iterations: 2518 | train_loss: 0.05836101 | validation_loss: 0.049972598 | Roc Score: 0.9679116 | Time elapsed: 2:43:35.280763\n",
      "iterations: 2519 | train_loss: 0.05473808 | validation_loss: 0.050158106 | Roc Score: 0.9679165 | Time elapsed: 2:43:39.192871\n",
      "iterations: 2520 | train_loss: 0.062684275 | validation_loss: 0.049965598 | Roc Score: 0.9679216 | Time elapsed: 2:43:43.048583\n",
      "iterations: 2521 | train_loss: 0.0388135 | validation_loss: 0.04958998 | Roc Score: 0.9679266 | Time elapsed: 2:43:46.937885\n",
      "iterations: 2522 | train_loss: 0.059202816 | validation_loss: 0.049986284 | Roc Score: 0.9679319 | Time elapsed: 2:43:50.839592\n",
      "iterations: 2523 | train_loss: 0.04704104 | validation_loss: 0.05012031 | Roc Score: 0.9679374 | Time elapsed: 2:43:54.741088\n",
      "iterations: 2524 | train_loss: 0.04958971 | validation_loss: 0.049950887 | Roc Score: 0.9679428 | Time elapsed: 2:43:58.658096\n",
      "iterations: 2525 | train_loss: 0.021950832 | validation_loss: 0.049388397 | Roc Score: 0.967948 | Time elapsed: 2:44:02.561559\n",
      "iterations: 2526 | train_loss: 0.06433665 | validation_loss: 0.049405526 | Roc Score: 0.967953 | Time elapsed: 2:44:06.495829\n",
      "iterations: 2527 | train_loss: 0.06304834 | validation_loss: 0.04936957 | Roc Score: 0.9679581 | Time elapsed: 2:44:10.382490\n",
      "iterations: 2528 | train_loss: 0.058368932 | validation_loss: 0.049308565 | Roc Score: 0.96796304 | Time elapsed: 2:44:14.291646\n",
      "iterations: 2529 | train_loss: 0.043668944 | validation_loss: 0.04934033 | Roc Score: 0.9679678 | Time elapsed: 2:44:18.199587\n",
      "iterations: 2530 | train_loss: 0.052941997 | validation_loss: 0.049179133 | Roc Score: 0.96797276 | Time elapsed: 2:44:22.090474\n",
      "iterations: 2531 | train_loss: 0.029449603 | validation_loss: 0.049068313 | Roc Score: 0.96797746 | Time elapsed: 2:44:25.989792\n",
      "iterations: 2532 | train_loss: 0.04859462 | validation_loss: 0.048876695 | Roc Score: 0.96798223 | Time elapsed: 2:44:29.884145\n",
      "iterations: 2533 | train_loss: 0.03950682 | validation_loss: 0.049157068 | Roc Score: 0.9679866 | Time elapsed: 2:44:33.766515\n",
      "iterations: 2534 | train_loss: 0.0438728 | validation_loss: 0.04981244 | Roc Score: 0.96799016 | Time elapsed: 2:44:37.674260\n",
      "iterations: 2535 | train_loss: 0.038929123 | validation_loss: 0.050015092 | Roc Score: 0.9679933 | Time elapsed: 2:44:41.550729\n",
      "iterations: 2536 | train_loss: 0.058104075 | validation_loss: 0.04950415 | Roc Score: 0.967997 | Time elapsed: 2:44:45.495032\n",
      "iterations: 2537 | train_loss: 0.04044328 | validation_loss: 0.049345125 | Roc Score: 0.9680008 | Time elapsed: 2:44:49.422418\n",
      "iterations: 2538 | train_loss: 0.030611407 | validation_loss: 0.049317114 | Roc Score: 0.9680048 | Time elapsed: 2:44:53.377203\n",
      "iterations: 2539 | train_loss: 0.065750465 | validation_loss: 0.04948249 | Roc Score: 0.9680092 | Time elapsed: 2:44:57.284765\n",
      "iterations: 2540 | train_loss: 0.049073756 | validation_loss: 0.049940635 | Roc Score: 0.9680142 | Time elapsed: 2:45:01.172798\n",
      "iterations: 2541 | train_loss: 0.047901206 | validation_loss: 0.050596967 | Roc Score: 0.96801907 | Time elapsed: 2:45:05.108394\n",
      "iterations: 2542 | train_loss: 0.04744947 | validation_loss: 0.050202504 | Roc Score: 0.968024 | Time elapsed: 2:45:09.011315\n",
      "iterations: 2543 | train_loss: 0.04834099 | validation_loss: 0.049245764 | Roc Score: 0.968029 | Time elapsed: 2:45:12.888561\n",
      "iterations: 2544 | train_loss: 0.051929403 | validation_loss: 0.048937514 | Roc Score: 0.96803313 | Time elapsed: 2:45:16.777287\n",
      "iterations: 2545 | train_loss: 0.043856826 | validation_loss: 0.04924163 | Roc Score: 0.9680366 | Time elapsed: 2:45:20.626322\n",
      "iterations: 2546 | train_loss: 0.042938296 | validation_loss: 0.04963625 | Roc Score: 0.96803975 | Time elapsed: 2:45:24.529429\n",
      "iterations: 2547 | train_loss: 0.045604 | validation_loss: 0.0493764 | Roc Score: 0.9680431 | Time elapsed: 2:45:28.439486\n",
      "iterations: 2548 | train_loss: 0.046056673 | validation_loss: 0.048927255 | Roc Score: 0.9680471 | Time elapsed: 2:45:32.351570\n",
      "iterations: 2549 | train_loss: 0.037551146 | validation_loss: 0.048795402 | Roc Score: 0.96805143 | Time elapsed: 2:45:36.245499\n",
      "iterations: 2550 | train_loss: 0.040743772 | validation_loss: 0.048873793 | Roc Score: 0.9680557 | Time elapsed: 2:45:40.203281\n",
      "iterations: 2551 | train_loss: 0.06276485 | validation_loss: 0.048907083 | Roc Score: 0.96806014 | Time elapsed: 2:45:44.085501\n",
      "iterations: 2552 | train_loss: 0.046497658 | validation_loss: 0.048869044 | Roc Score: 0.9680644 | Time elapsed: 2:45:47.990582\n",
      "iterations: 2553 | train_loss: 0.0359581 | validation_loss: 0.04871141 | Roc Score: 0.9680689 | Time elapsed: 2:45:51.920143\n",
      "iterations: 2554 | train_loss: 0.044855744 | validation_loss: 0.04862783 | Roc Score: 0.9680733 | Time elapsed: 2:45:55.816642\n",
      "iterations: 2555 | train_loss: 0.05575868 | validation_loss: 0.04861317 | Roc Score: 0.96807784 | Time elapsed: 2:45:59.704846\n",
      "iterations: 2556 | train_loss: 0.029840833 | validation_loss: 0.048595846 | Roc Score: 0.9680823 | Time elapsed: 2:46:03.569878\n",
      "iterations: 2557 | train_loss: 0.029416122 | validation_loss: 0.048813827 | Roc Score: 0.96808624 | Time elapsed: 2:46:07.518774\n",
      "iterations: 2558 | train_loss: 0.023973297 | validation_loss: 0.04905115 | Roc Score: 0.96808976 | Time elapsed: 2:46:11.410157\n",
      "iterations: 2559 | train_loss: 0.07050219 | validation_loss: 0.048870683 | Roc Score: 0.96809334 | Time elapsed: 2:46:15.312429\n",
      "iterations: 2560 | train_loss: 0.04688944 | validation_loss: 0.048644546 | Roc Score: 0.96809787 | Time elapsed: 2:46:19.228983\n",
      "iterations: 2561 | train_loss: 0.059993017 | validation_loss: 0.048573446 | Roc Score: 0.9681025 | Time elapsed: 2:46:23.107646\n",
      "iterations: 2562 | train_loss: 0.045198046 | validation_loss: 0.04855284 | Roc Score: 0.9681073 | Time elapsed: 2:46:26.975388\n",
      "iterations: 2563 | train_loss: 0.045289095 | validation_loss: 0.04862714 | Roc Score: 0.968112 | Time elapsed: 2:46:30.868248\n",
      "iterations: 2564 | train_loss: 0.06997756 | validation_loss: 0.04896634 | Roc Score: 0.96811694 | Time elapsed: 2:46:34.752993\n",
      "iterations: 2565 | train_loss: 0.042123176 | validation_loss: 0.049783636 | Roc Score: 0.968122 | Time elapsed: 2:46:38.626163\n",
      "iterations: 2566 | train_loss: 0.034907673 | validation_loss: 0.04997225 | Roc Score: 0.9681269 | Time elapsed: 2:46:42.524942\n",
      "iterations: 2567 | train_loss: 0.052258007 | validation_loss: 0.049639348 | Roc Score: 0.96813184 | Time elapsed: 2:46:46.390296\n",
      "iterations: 2568 | train_loss: 0.03388081 | validation_loss: 0.048708785 | Roc Score: 0.9681367 | Time elapsed: 2:46:50.305637\n",
      "iterations: 2569 | train_loss: 0.050843015 | validation_loss: 0.04850841 | Roc Score: 0.96814114 | Time elapsed: 2:46:54.275583\n",
      "iterations: 2570 | train_loss: 0.06037849 | validation_loss: 0.04884074 | Roc Score: 0.9681455 | Time elapsed: 2:46:58.155855\n",
      "iterations: 2571 | train_loss: 0.039380815 | validation_loss: 0.04950853 | Roc Score: 0.968149 | Time elapsed: 2:47:02.066616\n",
      "iterations: 2572 | train_loss: 0.02551323 | validation_loss: 0.0503413 | Roc Score: 0.9681512 | Time elapsed: 2:47:05.914523\n",
      "iterations: 2573 | train_loss: 0.04477959 | validation_loss: 0.05060822 | Roc Score: 0.968153 | Time elapsed: 2:47:09.742143\n"
     ]
    },
    {
     "name": "stdout",
     "output_type": "stream",
     "text": [
      "iterations: 2574 | train_loss: 0.024057256 | validation_loss: 0.050814435 | Roc Score: 0.96815455 | Time elapsed: 2:47:13.665524\n",
      "iterations: 2575 | train_loss: 0.03779077 | validation_loss: 0.050974444 | Roc Score: 0.968156 | Time elapsed: 2:47:17.555775\n",
      "iterations: 2576 | train_loss: 0.041293792 | validation_loss: 0.050823934 | Roc Score: 0.96815765 | Time elapsed: 2:47:21.530127\n",
      "iterations: 2577 | train_loss: 0.030797087 | validation_loss: 0.05046263 | Roc Score: 0.96815914 | Time elapsed: 2:47:25.406087\n",
      "iterations: 2578 | train_loss: 0.05095838 | validation_loss: 0.049803577 | Roc Score: 0.9681616 | Time elapsed: 2:47:29.312290\n",
      "iterations: 2579 | train_loss: 0.05682051 | validation_loss: 0.04902564 | Roc Score: 0.96816564 | Time elapsed: 2:47:33.149614\n",
      "iterations: 2580 | train_loss: 0.043789633 | validation_loss: 0.04916513 | Roc Score: 0.9681703 | Time elapsed: 2:47:37.070896\n",
      "iterations: 2581 | train_loss: 0.052027963 | validation_loss: 0.049945958 | Roc Score: 0.9681745 | Time elapsed: 2:47:40.960627\n",
      "iterations: 2582 | train_loss: 0.038863398 | validation_loss: 0.05076388 | Roc Score: 0.96817917 | Time elapsed: 2:47:44.853498\n",
      "iterations: 2583 | train_loss: 0.037545588 | validation_loss: 0.0509036 | Roc Score: 0.9681836 | Time elapsed: 2:47:48.759692\n",
      "iterations: 2584 | train_loss: 0.05152442 | validation_loss: 0.05012899 | Roc Score: 0.9681882 | Time elapsed: 2:47:52.591638\n",
      "iterations: 2585 | train_loss: 0.04946549 | validation_loss: 0.049520295 | Roc Score: 0.9681928 | Time elapsed: 2:47:56.503081\n",
      "iterations: 2586 | train_loss: 0.034152295 | validation_loss: 0.04904069 | Roc Score: 0.96819735 | Time elapsed: 2:48:00.340098\n",
      "iterations: 2587 | train_loss: 0.05260637 | validation_loss: 0.048827603 | Roc Score: 0.9682018 | Time elapsed: 2:48:04.209476\n",
      "iterations: 2588 | train_loss: 0.04959449 | validation_loss: 0.049004156 | Roc Score: 0.96820533 | Time elapsed: 2:48:08.134017\n",
      "iterations: 2589 | train_loss: 0.045097757 | validation_loss: 0.049450956 | Roc Score: 0.9682088 | Time elapsed: 2:48:12.041594\n",
      "iterations: 2590 | train_loss: 0.042541362 | validation_loss: 0.049975242 | Roc Score: 0.9682113 | Time elapsed: 2:48:15.952480\n",
      "iterations: 2591 | train_loss: 0.055376448 | validation_loss: 0.05034622 | Roc Score: 0.96821344 | Time elapsed: 2:48:19.846672\n",
      "iterations: 2592 | train_loss: 0.052046895 | validation_loss: 0.050420515 | Roc Score: 0.96821564 | Time elapsed: 2:48:23.733831\n",
      "iterations: 2593 | train_loss: 0.03621482 | validation_loss: 0.050322637 | Roc Score: 0.9682178 | Time elapsed: 2:48:27.640573\n",
      "iterations: 2594 | train_loss: 0.052746627 | validation_loss: 0.050325207 | Roc Score: 0.96822006 | Time elapsed: 2:48:31.544599\n",
      "iterations: 2595 | train_loss: 0.0594174 | validation_loss: 0.049840298 | Roc Score: 0.9682227 | Time elapsed: 2:48:35.511631\n",
      "iterations: 2596 | train_loss: 0.04892424 | validation_loss: 0.049354017 | Roc Score: 0.9682257 | Time elapsed: 2:48:39.454640\n",
      "iterations: 2597 | train_loss: 0.04423431 | validation_loss: 0.04887016 | Roc Score: 0.96822923 | Time elapsed: 2:48:43.313046\n",
      "iterations: 2598 | train_loss: 0.04507625 | validation_loss: 0.04876412 | Roc Score: 0.96823335 | Time elapsed: 2:48:47.238201\n",
      "iterations: 2599 | train_loss: 0.022662645 | validation_loss: 0.048866875 | Roc Score: 0.96823716 | Time elapsed: 2:48:51.112338\n",
      "iterations: 2600 | train_loss: 0.037799537 | validation_loss: 0.049022786 | Roc Score: 0.9682412 | Time elapsed: 2:48:54.990597\n",
      "iterations: 2601 | train_loss: 0.054686 | validation_loss: 0.049017206 | Roc Score: 0.9682448 | Time elapsed: 2:48:58.851984\n",
      "iterations: 2602 | train_loss: 0.03945937 | validation_loss: 0.049006842 | Roc Score: 0.9682487 | Time elapsed: 2:49:02.794544\n",
      "iterations: 2603 | train_loss: 0.07387454 | validation_loss: 0.048964877 | Roc Score: 0.9682529 | Time elapsed: 2:49:06.663907\n",
      "iterations: 2604 | train_loss: 0.04166985 | validation_loss: 0.04892141 | Roc Score: 0.96825725 | Time elapsed: 2:49:10.542856\n",
      "iterations: 2605 | train_loss: 0.044183034 | validation_loss: 0.048820853 | Roc Score: 0.9682615 | Time elapsed: 2:49:14.399490\n",
      "iterations: 2606 | train_loss: 0.07426258 | validation_loss: 0.048899945 | Roc Score: 0.96826607 | Time elapsed: 2:49:18.327751\n",
      "iterations: 2607 | train_loss: 0.054885425 | validation_loss: 0.04877831 | Roc Score: 0.9682707 | Time elapsed: 2:49:22.250164\n",
      "iterations: 2608 | train_loss: 0.06469551 | validation_loss: 0.048624426 | Roc Score: 0.9682754 | Time elapsed: 2:49:26.124793\n",
      "iterations: 2609 | train_loss: 0.059192523 | validation_loss: 0.048524827 | Roc Score: 0.9682801 | Time elapsed: 2:49:29.987556\n",
      "iterations: 2610 | train_loss: 0.035927724 | validation_loss: 0.04847719 | Roc Score: 0.96828437 | Time elapsed: 2:49:33.873947\n",
      "iterations: 2611 | train_loss: 0.04244486 | validation_loss: 0.048506156 | Roc Score: 0.9682891 | Time elapsed: 2:49:37.790629\n",
      "iterations: 2612 | train_loss: 0.049347285 | validation_loss: 0.04860272 | Roc Score: 0.9682941 | Time elapsed: 2:49:41.697273\n",
      "iterations: 2613 | train_loss: 0.04038331 | validation_loss: 0.048661247 | Roc Score: 0.96829903 | Time elapsed: 2:49:45.604181\n",
      "iterations: 2614 | train_loss: 0.050260987 | validation_loss: 0.0484552 | Roc Score: 0.9683042 | Time elapsed: 2:49:49.474627\n",
      "iterations: 2615 | train_loss: 0.040269755 | validation_loss: 0.048338678 | Roc Score: 0.96830875 | Time elapsed: 2:49:53.328836\n",
      "iterations: 2616 | train_loss: 0.037752926 | validation_loss: 0.04835823 | Roc Score: 0.96831316 | Time elapsed: 2:49:57.254732\n",
      "iterations: 2617 | train_loss: 0.045347765 | validation_loss: 0.048485234 | Roc Score: 0.96831703 | Time elapsed: 2:50:01.150259\n",
      "iterations: 2618 | train_loss: 0.04381128 | validation_loss: 0.048727892 | Roc Score: 0.9683207 | Time elapsed: 2:50:05.012860\n",
      "iterations: 2619 | train_loss: 0.061809935 | validation_loss: 0.04869112 | Roc Score: 0.9683242 | Time elapsed: 2:50:08.947888\n",
      "iterations: 2620 | train_loss: 0.05666739 | validation_loss: 0.04849614 | Roc Score: 0.9683284 | Time elapsed: 2:50:12.813376\n",
      "iterations: 2621 | train_loss: 0.049494624 | validation_loss: 0.048315264 | Roc Score: 0.96833307 | Time elapsed: 2:50:16.749925\n",
      "iterations: 2622 | train_loss: 0.04146723 | validation_loss: 0.048236616 | Roc Score: 0.9683378 | Time elapsed: 2:50:20.620266\n",
      "iterations: 2623 | train_loss: 0.050631415 | validation_loss: 0.04818573 | Roc Score: 0.9683426 | Time elapsed: 2:50:24.560180\n",
      "iterations: 2624 | train_loss: 0.027990237 | validation_loss: 0.048255462 | Roc Score: 0.96834743 | Time elapsed: 2:50:28.477228\n",
      "iterations: 2625 | train_loss: 0.05531024 | validation_loss: 0.0483654 | Roc Score: 0.96835226 | Time elapsed: 2:50:32.410171\n",
      "iterations: 2626 | train_loss: 0.034993988 | validation_loss: 0.04843861 | Roc Score: 0.968357 | Time elapsed: 2:50:36.312335\n",
      "iterations: 2627 | train_loss: 0.03648231 | validation_loss: 0.048617236 | Roc Score: 0.96836114 | Time elapsed: 2:50:40.218318\n",
      "iterations: 2628 | train_loss: 0.02675691 | validation_loss: 0.049381733 | Roc Score: 0.96836394 | Time elapsed: 2:50:44.128923\n",
      "iterations: 2629 | train_loss: 0.047978353 | validation_loss: 0.049715754 | Roc Score: 0.9683666 | Time elapsed: 2:50:48.023312\n",
      "iterations: 2630 | train_loss: 0.047121387 | validation_loss: 0.049503762 | Roc Score: 0.9683699 | Time elapsed: 2:50:51.927424\n",
      "iterations: 2631 | train_loss: 0.047675904 | validation_loss: 0.04919693 | Roc Score: 0.9683732 | Time elapsed: 2:50:55.838061\n",
      "iterations: 2632 | train_loss: 0.057084505 | validation_loss: 0.048919678 | Roc Score: 0.96837723 | Time elapsed: 2:50:59.737113\n",
      "iterations: 2633 | train_loss: 0.038693402 | validation_loss: 0.04899123 | Roc Score: 0.9683817 | Time elapsed: 2:51:03.718343\n",
      "iterations: 2634 | train_loss: 0.062031467 | validation_loss: 0.049144283 | Roc Score: 0.96838653 | Time elapsed: 2:51:07.736828\n",
      "iterations: 2635 | train_loss: 0.03355808 | validation_loss: 0.049343348 | Roc Score: 0.96839124 | Time elapsed: 2:51:11.584818\n",
      "iterations: 2636 | train_loss: 0.03883757 | validation_loss: 0.049323257 | Roc Score: 0.9683962 | Time elapsed: 2:51:15.492218\n",
      "iterations: 2637 | train_loss: 0.04077595 | validation_loss: 0.049238794 | Roc Score: 0.9684005 | Time elapsed: 2:51:19.470409\n",
      "iterations: 2638 | train_loss: 0.0473262 | validation_loss: 0.049145915 | Roc Score: 0.96840435 | Time elapsed: 2:51:23.370874\n",
      "iterations: 2639 | train_loss: 0.03351409 | validation_loss: 0.049273085 | Roc Score: 0.96840787 | Time elapsed: 2:51:27.303092\n",
      "iterations: 2640 | train_loss: 0.03371307 | validation_loss: 0.049728587 | Roc Score: 0.96841013 | Time elapsed: 2:51:31.228339\n",
      "iterations: 2641 | train_loss: 0.047765516 | validation_loss: 0.050313406 | Roc Score: 0.96841127 | Time elapsed: 2:51:35.119158\n",
      "iterations: 2642 | train_loss: 0.037234817 | validation_loss: 0.050223745 | Roc Score: 0.9684127 | Time elapsed: 2:51:39.032025\n",
      "iterations: 2643 | train_loss: 0.024847092 | validation_loss: 0.050126564 | Roc Score: 0.96841484 | Time elapsed: 2:51:42.950651\n",
      "iterations: 2644 | train_loss: 0.034334477 | validation_loss: 0.050178938 | Roc Score: 0.9684175 | Time elapsed: 2:51:46.832425\n",
      "iterations: 2645 | train_loss: 0.04118946 | validation_loss: 0.050220203 | Roc Score: 0.96842086 | Time elapsed: 2:51:50.739758\n",
      "iterations: 2646 | train_loss: 0.054402377 | validation_loss: 0.05018982 | Roc Score: 0.96842456 | Time elapsed: 2:51:54.466279\n",
      "iterations: 2647 | train_loss: 0.029759124 | validation_loss: 0.049943127 | Roc Score: 0.9684277 | Time elapsed: 2:51:58.344272\n",
      "iterations: 2648 | train_loss: 0.051206037 | validation_loss: 0.049658164 | Roc Score: 0.968431 | Time elapsed: 2:52:02.166215\n",
      "iterations: 2649 | train_loss: 0.049733475 | validation_loss: 0.049357995 | Roc Score: 0.968435 | Time elapsed: 2:52:06.069295\n",
      "iterations: 2650 | train_loss: 0.044541456 | validation_loss: 0.049443074 | Roc Score: 0.9684391 | Time elapsed: 2:52:09.947063\n",
      "iterations: 2651 | train_loss: 0.03998853 | validation_loss: 0.04944445 | Roc Score: 0.9684434 | Time elapsed: 2:52:13.850264\n"
     ]
    },
    {
     "name": "stdout",
     "output_type": "stream",
     "text": [
      "iterations: 2652 | train_loss: 0.045325287 | validation_loss: 0.049321406 | Roc Score: 0.96844786 | Time elapsed: 2:52:17.730882\n",
      "iterations: 2653 | train_loss: 0.040874686 | validation_loss: 0.048970014 | Roc Score: 0.9684519 | Time elapsed: 2:52:21.602314\n",
      "iterations: 2654 | train_loss: 0.03142924 | validation_loss: 0.048690967 | Roc Score: 0.9684559 | Time elapsed: 2:52:25.553906\n",
      "iterations: 2655 | train_loss: 0.047582403 | validation_loss: 0.048681587 | Roc Score: 0.9684591 | Time elapsed: 2:52:29.440474\n",
      "iterations: 2656 | train_loss: 0.049509656 | validation_loss: 0.048817843 | Roc Score: 0.96846205 | Time elapsed: 2:52:33.368102\n",
      "iterations: 2657 | train_loss: 0.03593506 | validation_loss: 0.04925362 | Roc Score: 0.96846455 | Time elapsed: 2:52:37.306787\n",
      "iterations: 2658 | train_loss: 0.046211336 | validation_loss: 0.04929804 | Roc Score: 0.9684667 | Time elapsed: 2:52:41.246329\n",
      "iterations: 2659 | train_loss: 0.04266785 | validation_loss: 0.04930421 | Roc Score: 0.9684689 | Time elapsed: 2:52:45.143591\n",
      "iterations: 2660 | train_loss: 0.06363316 | validation_loss: 0.048372462 | Roc Score: 0.96847224 | Time elapsed: 2:52:49.092469\n",
      "iterations: 2661 | train_loss: 0.041189596 | validation_loss: 0.04785039 | Roc Score: 0.968477 | Time elapsed: 2:52:53.052198\n",
      "iterations: 2662 | train_loss: 0.047841962 | validation_loss: 0.04849367 | Roc Score: 0.9684819 | Time elapsed: 2:52:56.950010\n",
      "iterations: 2663 | train_loss: 0.039956618 | validation_loss: 0.04938862 | Roc Score: 0.96848685 | Time elapsed: 2:53:00.839212\n",
      "iterations: 2664 | train_loss: 0.052620724 | validation_loss: 0.049770698 | Roc Score: 0.968492 | Time elapsed: 2:53:04.755072\n",
      "iterations: 2665 | train_loss: 0.026448103 | validation_loss: 0.04880198 | Roc Score: 0.9684972 | Time elapsed: 2:53:08.656485\n",
      "iterations: 2666 | train_loss: 0.043444924 | validation_loss: 0.04791644 | Roc Score: 0.9685022 | Time elapsed: 2:53:12.550702\n",
      "iterations: 2667 | train_loss: 0.04047273 | validation_loss: 0.04753629 | Roc Score: 0.9685067 | Time elapsed: 2:53:16.414024\n",
      "iterations: 2668 | train_loss: 0.055562217 | validation_loss: 0.048041683 | Roc Score: 0.96851045 | Time elapsed: 2:53:20.351101\n",
      "iterations: 2669 | train_loss: 0.03748997 | validation_loss: 0.049286414 | Roc Score: 0.96851295 | Time elapsed: 2:53:24.286065\n",
      "iterations: 2670 | train_loss: 0.034530673 | validation_loss: 0.050852552 | Roc Score: 0.9685146 | Time elapsed: 2:53:28.210141\n",
      "iterations: 2671 | train_loss: 0.042108066 | validation_loss: 0.051227823 | Roc Score: 0.9685163 | Time elapsed: 2:53:32.181477\n",
      "iterations: 2672 | train_loss: 0.043477867 | validation_loss: 0.050377887 | Roc Score: 0.96851796 | Time elapsed: 2:53:36.066759\n",
      "iterations: 2673 | train_loss: 0.048507996 | validation_loss: 0.048741102 | Roc Score: 0.96852094 | Time elapsed: 2:53:39.988929\n",
      "iterations: 2674 | train_loss: 0.061756935 | validation_loss: 0.047433175 | Roc Score: 0.9685256 | Time elapsed: 2:53:43.930682\n",
      "iterations: 2675 | train_loss: 0.048048686 | validation_loss: 0.048441704 | Roc Score: 0.9685306 | Time elapsed: 2:53:47.828578\n",
      "iterations: 2676 | train_loss: 0.04136637 | validation_loss: 0.05038873 | Roc Score: 0.968535 | Time elapsed: 2:53:51.735483\n",
      "iterations: 2677 | train_loss: 0.03790705 | validation_loss: 0.0509885 | Roc Score: 0.9685394 | Time elapsed: 2:53:55.638456\n",
      "iterations: 2678 | train_loss: 0.05906395 | validation_loss: 0.0502697 | Roc Score: 0.96854395 | Time elapsed: 2:53:59.517948\n",
      "iterations: 2679 | train_loss: 0.05667809 | validation_loss: 0.048718333 | Roc Score: 0.9685485 | Time elapsed: 2:54:03.476601\n",
      "iterations: 2680 | train_loss: 0.04559165 | validation_loss: 0.04818881 | Roc Score: 0.9685525 | Time elapsed: 2:54:07.335555\n",
      "iterations: 2681 | train_loss: 0.030874558 | validation_loss: 0.04840149 | Roc Score: 0.9685563 | Time elapsed: 2:54:11.214279\n",
      "iterations: 2682 | train_loss: 0.04365906 | validation_loss: 0.049112905 | Roc Score: 0.96855915 | Time elapsed: 2:54:15.081710\n",
      "iterations: 2683 | train_loss: 0.037254434 | validation_loss: 0.049989015 | Roc Score: 0.9685614 | Time elapsed: 2:54:18.993783\n",
      "iterations: 2684 | train_loss: 0.046423264 | validation_loss: 0.050002504 | Roc Score: 0.96856356 | Time elapsed: 2:54:22.915529\n",
      "iterations: 2685 | train_loss: 0.063859746 | validation_loss: 0.048851565 | Roc Score: 0.96856636 | Time elapsed: 2:54:26.750577\n",
      "iterations: 2686 | train_loss: 0.034043845 | validation_loss: 0.048138548 | Roc Score: 0.9685699 | Time elapsed: 2:54:30.629339\n",
      "iterations: 2687 | train_loss: 0.041421816 | validation_loss: 0.04793373 | Roc Score: 0.9685738 | Time elapsed: 2:54:34.516637\n",
      "iterations: 2688 | train_loss: 0.029636886 | validation_loss: 0.04797133 | Roc Score: 0.9685782 | Time elapsed: 2:54:38.396353\n",
      "iterations: 2689 | train_loss: 0.036875546 | validation_loss: 0.048144534 | Roc Score: 0.9685827 | Time elapsed: 2:54:42.283565\n",
      "iterations: 2690 | train_loss: 0.04102602 | validation_loss: 0.04825388 | Roc Score: 0.96858734 | Time elapsed: 2:54:46.135407\n",
      "iterations: 2691 | train_loss: 0.031795695 | validation_loss: 0.048066016 | Roc Score: 0.96859175 | Time elapsed: 2:54:50.007561\n",
      "iterations: 2692 | train_loss: 0.041107547 | validation_loss: 0.047958907 | Roc Score: 0.96859586 | Time elapsed: 2:54:53.892687\n",
      "iterations: 2693 | train_loss: 0.07038632 | validation_loss: 0.047928207 | Roc Score: 0.9685999 | Time elapsed: 2:54:57.816913\n",
      "iterations: 2694 | train_loss: 0.031866368 | validation_loss: 0.04791216 | Roc Score: 0.96860373 | Time elapsed: 2:55:01.651765\n",
      "iterations: 2695 | train_loss: 0.04404608 | validation_loss: 0.047862135 | Roc Score: 0.96860766 | Time elapsed: 2:55:05.492523\n",
      "iterations: 2696 | train_loss: 0.0403198 | validation_loss: 0.047895193 | Roc Score: 0.96861154 | Time elapsed: 2:55:09.318920\n",
      "iterations: 2697 | train_loss: 0.030913759 | validation_loss: 0.048053533 | Roc Score: 0.9686155 | Time elapsed: 2:55:13.168111\n",
      "iterations: 2698 | train_loss: 0.055209026 | validation_loss: 0.048161875 | Roc Score: 0.9686193 | Time elapsed: 2:55:17.064778\n",
      "iterations: 2699 | train_loss: 0.049132954 | validation_loss: 0.04827394 | Roc Score: 0.96862346 | Time elapsed: 2:55:20.951842\n",
      "iterations: 2700 | train_loss: 0.032132816 | validation_loss: 0.048124243 | Roc Score: 0.96862745 | Time elapsed: 2:55:24.871521\n",
      "iterations: 2701 | train_loss: 0.049594503 | validation_loss: 0.047974326 | Roc Score: 0.96863157 | Time elapsed: 2:55:28.768152\n",
      "iterations: 2702 | train_loss: 0.045180723 | validation_loss: 0.047704596 | Roc Score: 0.9686359 | Time elapsed: 2:55:32.663662\n",
      "iterations: 2703 | train_loss: 0.05635421 | validation_loss: 0.047559272 | Roc Score: 0.9686404 | Time elapsed: 2:55:36.544747\n",
      "iterations: 2704 | train_loss: 0.041776713 | validation_loss: 0.047462642 | Roc Score: 0.9686449 | Time elapsed: 2:55:40.438056\n",
      "iterations: 2705 | train_loss: 0.03145847 | validation_loss: 0.047417816 | Roc Score: 0.96864927 | Time elapsed: 2:55:44.382124\n",
      "iterations: 2706 | train_loss: 0.062324613 | validation_loss: 0.047326982 | Roc Score: 0.9686535 | Time elapsed: 2:55:48.239343\n",
      "iterations: 2707 | train_loss: 0.04419166 | validation_loss: 0.047300108 | Roc Score: 0.96865755 | Time elapsed: 2:55:52.235028\n",
      "iterations: 2708 | train_loss: 0.056409214 | validation_loss: 0.047170617 | Roc Score: 0.96866226 | Time elapsed: 2:55:56.145266\n",
      "iterations: 2709 | train_loss: 0.036646593 | validation_loss: 0.047230627 | Roc Score: 0.9686671 | Time elapsed: 2:56:00.061262\n",
      "iterations: 2710 | train_loss: 0.061981183 | validation_loss: 0.047478 | Roc Score: 0.9686717 | Time elapsed: 2:56:03.966991\n",
      "iterations: 2711 | train_loss: 0.039870165 | validation_loss: 0.04759487 | Roc Score: 0.9686765 | Time elapsed: 2:56:07.854668\n",
      "iterations: 2712 | train_loss: 0.051807754 | validation_loss: 0.04784579 | Roc Score: 0.9686811 | Time elapsed: 2:56:11.744489\n",
      "iterations: 2713 | train_loss: 0.032916866 | validation_loss: 0.04769074 | Roc Score: 0.96868587 | Time elapsed: 2:56:15.645865\n",
      "iterations: 2714 | train_loss: 0.029854877 | validation_loss: 0.04757014 | Roc Score: 0.96869063 | Time elapsed: 2:56:19.503658\n",
      "iterations: 2715 | train_loss: 0.027806047 | validation_loss: 0.04755832 | Roc Score: 0.9686951 | Time elapsed: 2:56:23.406329\n",
      "iterations: 2716 | train_loss: 0.0468672 | validation_loss: 0.047444012 | Roc Score: 0.96869916 | Time elapsed: 2:56:27.316170\n",
      "iterations: 2717 | train_loss: 0.028003162 | validation_loss: 0.047400665 | Roc Score: 0.968703 | Time elapsed: 2:56:31.200865\n",
      "iterations: 2718 | train_loss: 0.043617886 | validation_loss: 0.047339823 | Roc Score: 0.968707 | Time elapsed: 2:56:35.075741\n",
      "iterations: 2719 | train_loss: 0.06264255 | validation_loss: 0.047238432 | Roc Score: 0.96871156 | Time elapsed: 2:56:38.984819\n",
      "iterations: 2720 | train_loss: 0.027597683 | validation_loss: 0.047266606 | Roc Score: 0.9687159 | Time elapsed: 2:56:42.882987\n",
      "iterations: 2721 | train_loss: 0.051275972 | validation_loss: 0.047273297 | Roc Score: 0.96872026 | Time elapsed: 2:56:46.777444\n",
      "iterations: 2722 | train_loss: 0.03405772 | validation_loss: 0.047351494 | Roc Score: 0.9687248 | Time elapsed: 2:56:50.647978\n",
      "iterations: 2723 | train_loss: 0.03997354 | validation_loss: 0.047306385 | Roc Score: 0.96872926 | Time elapsed: 2:56:54.526119\n",
      "iterations: 2724 | train_loss: 0.028210135 | validation_loss: 0.047187276 | Roc Score: 0.96873385 | Time elapsed: 2:56:58.559502\n",
      "iterations: 2725 | train_loss: 0.044955842 | validation_loss: 0.047063693 | Roc Score: 0.9687384 | Time elapsed: 2:57:02.418669\n",
      "iterations: 2726 | train_loss: 0.036942113 | validation_loss: 0.04699824 | Roc Score: 0.96874285 | Time elapsed: 2:57:06.267664\n",
      "iterations: 2727 | train_loss: 0.04382842 | validation_loss: 0.04689801 | Roc Score: 0.96874714 | Time elapsed: 2:57:10.148517\n",
      "iterations: 2728 | train_loss: 0.029423524 | validation_loss: 0.046792403 | Roc Score: 0.96875167 | Time elapsed: 2:57:14.025531\n",
      "iterations: 2729 | train_loss: 0.04178198 | validation_loss: 0.04677634 | Roc Score: 0.96875626 | Time elapsed: 2:57:17.923749\n"
     ]
    },
    {
     "name": "stdout",
     "output_type": "stream",
     "text": [
      "iterations: 2730 | train_loss: 0.0422366 | validation_loss: 0.04679633 | Roc Score: 0.9687603 | Time elapsed: 2:57:21.803046\n",
      "iterations: 2731 | train_loss: 0.03924009 | validation_loss: 0.04678692 | Roc Score: 0.9687645 | Time elapsed: 2:57:25.730179\n",
      "iterations: 2732 | train_loss: 0.057896227 | validation_loss: 0.046809334 | Roc Score: 0.9687694 | Time elapsed: 2:57:29.634198\n",
      "iterations: 2733 | train_loss: 0.046874635 | validation_loss: 0.047125038 | Roc Score: 0.968774 | Time elapsed: 2:57:33.538490\n",
      "iterations: 2734 | train_loss: 0.06874313 | validation_loss: 0.04749772 | Roc Score: 0.9687786 | Time elapsed: 2:57:37.452117\n",
      "iterations: 2735 | train_loss: 0.051064074 | validation_loss: 0.047554217 | Roc Score: 0.9687834 | Time elapsed: 2:57:41.355974\n",
      "iterations: 2736 | train_loss: 0.04731911 | validation_loss: 0.047257666 | Roc Score: 0.96878856 | Time elapsed: 2:57:45.278549\n",
      "iterations: 2737 | train_loss: 0.043078717 | validation_loss: 0.047005396 | Roc Score: 0.96879363 | Time elapsed: 2:57:49.201103\n",
      "iterations: 2738 | train_loss: 0.04058531 | validation_loss: 0.04662444 | Roc Score: 0.9687986 | Time elapsed: 2:57:53.062702\n",
      "iterations: 2739 | train_loss: 0.03291439 | validation_loss: 0.046495337 | Roc Score: 0.96880376 | Time elapsed: 2:57:57.001445\n",
      "iterations: 2740 | train_loss: 0.03302584 | validation_loss: 0.046604216 | Roc Score: 0.9688084 | Time elapsed: 2:58:00.875246\n",
      "iterations: 2741 | train_loss: 0.038528174 | validation_loss: 0.046869006 | Roc Score: 0.9688127 | Time elapsed: 2:58:04.772848\n",
      "iterations: 2742 | train_loss: 0.052445475 | validation_loss: 0.047003217 | Roc Score: 0.96881676 | Time elapsed: 2:58:08.691034\n",
      "iterations: 2743 | train_loss: 0.031345315 | validation_loss: 0.047120098 | Roc Score: 0.9688208 | Time elapsed: 2:58:12.612491\n",
      "iterations: 2744 | train_loss: 0.052350357 | validation_loss: 0.047235437 | Roc Score: 0.9688246 | Time elapsed: 2:58:16.509778\n",
      "iterations: 2745 | train_loss: 0.028420506 | validation_loss: 0.047380842 | Roc Score: 0.9688283 | Time elapsed: 2:58:20.387586\n",
      "iterations: 2746 | train_loss: 0.051506877 | validation_loss: 0.04752165 | Roc Score: 0.96883214 | Time elapsed: 2:58:24.264603\n",
      "iterations: 2747 | train_loss: 0.044883694 | validation_loss: 0.04750049 | Roc Score: 0.968836 | Time elapsed: 2:58:28.117623\n",
      "iterations: 2748 | train_loss: 0.02514087 | validation_loss: 0.047517855 | Roc Score: 0.96883994 | Time elapsed: 2:58:32.002139\n",
      "iterations: 2749 | train_loss: 0.04362169 | validation_loss: 0.047498032 | Roc Score: 0.9688438 | Time elapsed: 2:58:35.895095\n",
      "iterations: 2750 | train_loss: 0.03265556 | validation_loss: 0.047551554 | Roc Score: 0.96884793 | Time elapsed: 2:58:39.756998\n",
      "iterations: 2751 | train_loss: 0.04736649 | validation_loss: 0.04738169 | Roc Score: 0.968852 | Time elapsed: 2:58:43.683383\n",
      "iterations: 2752 | train_loss: 0.030724436 | validation_loss: 0.04715781 | Roc Score: 0.9688562 | Time elapsed: 2:58:47.569458\n",
      "iterations: 2753 | train_loss: 0.050140873 | validation_loss: 0.046813283 | Roc Score: 0.9688603 | Time elapsed: 2:58:51.505869\n",
      "iterations: 2754 | train_loss: 0.046980835 | validation_loss: 0.04655315 | Roc Score: 0.9688652 | Time elapsed: 2:58:55.339219\n",
      "iterations: 2755 | train_loss: 0.039077558 | validation_loss: 0.046409458 | Roc Score: 0.96886986 | Time elapsed: 2:58:59.252314\n",
      "iterations: 2756 | train_loss: 0.04332775 | validation_loss: 0.04638205 | Roc Score: 0.96887475 | Time elapsed: 2:59:03.112752\n",
      "iterations: 2757 | train_loss: 0.034639504 | validation_loss: 0.046472307 | Roc Score: 0.96887946 | Time elapsed: 2:59:07.010859\n",
      "iterations: 2758 | train_loss: 0.038732033 | validation_loss: 0.04653706 | Roc Score: 0.968884 | Time elapsed: 2:59:10.883112\n",
      "iterations: 2759 | train_loss: 0.042865083 | validation_loss: 0.04653617 | Roc Score: 0.96888816 | Time elapsed: 2:59:14.794456\n",
      "iterations: 2760 | train_loss: 0.04753476 | validation_loss: 0.046455566 | Roc Score: 0.9688926 | Time elapsed: 2:59:18.668756\n",
      "iterations: 2761 | train_loss: 0.05089468 | validation_loss: 0.046403855 | Roc Score: 0.968897 | Time elapsed: 2:59:22.526897\n",
      "iterations: 2762 | train_loss: 0.050797675 | validation_loss: 0.04630267 | Roc Score: 0.9689016 | Time elapsed: 2:59:26.384721\n",
      "iterations: 2763 | train_loss: 0.038623307 | validation_loss: 0.04629203 | Roc Score: 0.96890634 | Time elapsed: 2:59:30.283442\n",
      "iterations: 2764 | train_loss: 0.03568669 | validation_loss: 0.046314813 | Roc Score: 0.96891105 | Time elapsed: 2:59:34.239399\n",
      "iterations: 2765 | train_loss: 0.03589021 | validation_loss: 0.046400834 | Roc Score: 0.9689159 | Time elapsed: 2:59:38.091915\n",
      "iterations: 2766 | train_loss: 0.05942027 | validation_loss: 0.04642787 | Roc Score: 0.9689202 | Time elapsed: 2:59:41.985559\n",
      "iterations: 2767 | train_loss: 0.04084016 | validation_loss: 0.046574872 | Roc Score: 0.9689245 | Time elapsed: 2:59:45.886148\n",
      "iterations: 2768 | train_loss: 0.04324091 | validation_loss: 0.046788067 | Roc Score: 0.9689287 | Time elapsed: 2:59:49.747485\n",
      "iterations: 2769 | train_loss: 0.04409269 | validation_loss: 0.04715628 | Roc Score: 0.9689328 | Time elapsed: 2:59:53.614206\n",
      "iterations: 2770 | train_loss: 0.025555678 | validation_loss: 0.047448162 | Roc Score: 0.9689371 | Time elapsed: 2:59:57.538275\n",
      "iterations: 2771 | train_loss: 0.057226866 | validation_loss: 0.04753197 | Roc Score: 0.96894115 | Time elapsed: 3:00:01.482670\n",
      "iterations: 2772 | train_loss: 0.05226433 | validation_loss: 0.047610935 | Roc Score: 0.9689453 | Time elapsed: 3:00:05.363215\n",
      "iterations: 2773 | train_loss: 0.03604697 | validation_loss: 0.047621675 | Roc Score: 0.9689496 | Time elapsed: 3:00:09.263399\n",
      "iterations: 2774 | train_loss: 0.05507726 | validation_loss: 0.04771178 | Roc Score: 0.9689536 | Time elapsed: 3:00:13.177633\n",
      "iterations: 2775 | train_loss: 0.042147275 | validation_loss: 0.047650658 | Roc Score: 0.9689575 | Time elapsed: 3:00:17.064591\n",
      "iterations: 2776 | train_loss: 0.049885724 | validation_loss: 0.047596585 | Roc Score: 0.96896124 | Time elapsed: 3:00:20.983268\n",
      "iterations: 2777 | train_loss: 0.029144071 | validation_loss: 0.047444023 | Roc Score: 0.9689647 | Time elapsed: 3:00:24.887271\n",
      "iterations: 2778 | train_loss: 0.024128309 | validation_loss: 0.047360487 | Roc Score: 0.9689683 | Time elapsed: 3:00:28.837445\n",
      "iterations: 2779 | train_loss: 0.029674059 | validation_loss: 0.047601983 | Roc Score: 0.9689713 | Time elapsed: 3:00:32.772917\n",
      "iterations: 2780 | train_loss: 0.048740074 | validation_loss: 0.048347484 | Roc Score: 0.96897405 | Time elapsed: 3:00:36.707644\n",
      "iterations: 2781 | train_loss: 0.038722828 | validation_loss: 0.049100734 | Roc Score: 0.9689763 | Time elapsed: 3:00:40.610803\n",
      "iterations: 2782 | train_loss: 0.043134734 | validation_loss: 0.04944174 | Roc Score: 0.9689783 | Time elapsed: 3:00:44.555527\n",
      "iterations: 2783 | train_loss: 0.027030302 | validation_loss: 0.04965657 | Roc Score: 0.9689801 | Time elapsed: 3:00:48.476680\n",
      "iterations: 2784 | train_loss: 0.05376086 | validation_loss: 0.048676804 | Roc Score: 0.9689826 | Time elapsed: 3:00:52.370252\n",
      "iterations: 2785 | train_loss: 0.057339102 | validation_loss: 0.04751724 | Roc Score: 0.96898687 | Time elapsed: 3:00:56.278323\n",
      "iterations: 2786 | train_loss: 0.037307076 | validation_loss: 0.047359813 | Roc Score: 0.96899116 | Time elapsed: 3:01:00.198810\n",
      "iterations: 2787 | train_loss: 0.055155225 | validation_loss: 0.048086677 | Roc Score: 0.96899563 | Time elapsed: 3:01:04.115599\n",
      "iterations: 2788 | train_loss: 0.044789184 | validation_loss: 0.048958022 | Roc Score: 0.96900016 | Time elapsed: 3:01:07.959745\n",
      "iterations: 2789 | train_loss: 0.036655497 | validation_loss: 0.048992608 | Roc Score: 0.9690044 | Time elapsed: 3:01:11.772731\n",
      "iterations: 2790 | train_loss: 0.057940356 | validation_loss: 0.049060963 | Roc Score: 0.9690085 | Time elapsed: 3:01:15.726917\n",
      "iterations: 2791 | train_loss: 0.0377862 | validation_loss: 0.049037963 | Roc Score: 0.9690129 | Time elapsed: 3:01:19.646977\n",
      "iterations: 2792 | train_loss: 0.051437628 | validation_loss: 0.04861174 | Roc Score: 0.96901715 | Time elapsed: 3:01:23.555795\n",
      "iterations: 2793 | train_loss: 0.04268262 | validation_loss: 0.04813675 | Roc Score: 0.96902096 | Time elapsed: 3:01:27.425818\n",
      "iterations: 2794 | train_loss: 0.02897496 | validation_loss: 0.048123695 | Roc Score: 0.96902436 | Time elapsed: 3:01:31.325801\n",
      "iterations: 2795 | train_loss: 0.031093732 | validation_loss: 0.048896655 | Roc Score: 0.96902674 | Time elapsed: 3:01:35.235041\n",
      "iterations: 2796 | train_loss: 0.052193914 | validation_loss: 0.04975301 | Roc Score: 0.96902794 | Time elapsed: 3:01:39.139374\n",
      "iterations: 2797 | train_loss: 0.040734757 | validation_loss: 0.050551843 | Roc Score: 0.9690288 | Time elapsed: 3:01:43.151909\n",
      "iterations: 2798 | train_loss: 0.054443393 | validation_loss: 0.05072541 | Roc Score: 0.9690293 | Time elapsed: 3:01:47.042770\n",
      "iterations: 2799 | train_loss: 0.045346722 | validation_loss: 0.050239105 | Roc Score: 0.9690304 | Time elapsed: 3:01:50.924849\n",
      "iterations: 2800 | train_loss: 0.0448493 | validation_loss: 0.049131855 | Roc Score: 0.96903247 | Time elapsed: 3:01:54.837165\n",
      "iterations: 2801 | train_loss: 0.04037138 | validation_loss: 0.047856916 | Roc Score: 0.96903545 | Time elapsed: 3:01:58.724236\n",
      "iterations: 2802 | train_loss: 0.04785778 | validation_loss: 0.04740115 | Roc Score: 0.9690399 | Time elapsed: 3:02:02.614583\n",
      "iterations: 2803 | train_loss: 0.043959387 | validation_loss: 0.04857036 | Roc Score: 0.96904445 | Time elapsed: 3:02:06.517096\n",
      "iterations: 2804 | train_loss: 0.05177931 | validation_loss: 0.0500828 | Roc Score: 0.969049 | Time elapsed: 3:02:10.433722\n",
      "iterations: 2805 | train_loss: 0.050161038 | validation_loss: 0.050931823 | Roc Score: 0.9690532 | Time elapsed: 3:02:14.323674\n",
      "iterations: 2806 | train_loss: 0.06147634 | validation_loss: 0.052104674 | Roc Score: 0.96905744 | Time elapsed: 3:02:18.224385\n",
      "iterations: 2807 | train_loss: 0.056696665 | validation_loss: 0.05144008 | Roc Score: 0.96906155 | Time elapsed: 3:02:22.154845\n"
     ]
    },
    {
     "name": "stdout",
     "output_type": "stream",
     "text": [
      "iterations: 2808 | train_loss: 0.026332863 | validation_loss: 0.049451843 | Roc Score: 0.969066 | Time elapsed: 3:02:26.096312\n",
      "iterations: 2809 | train_loss: 0.060460407 | validation_loss: 0.04813058 | Roc Score: 0.9690703 | Time elapsed: 3:02:29.968702\n",
      "iterations: 2810 | train_loss: 0.037070606 | validation_loss: 0.047316216 | Roc Score: 0.9690743 | Time elapsed: 3:02:33.884091\n",
      "iterations: 2811 | train_loss: 0.055707105 | validation_loss: 0.047458123 | Roc Score: 0.9690779 | Time elapsed: 3:02:37.765973\n",
      "iterations: 2812 | train_loss: 0.04933889 | validation_loss: 0.048217785 | Roc Score: 0.9690803 | Time elapsed: 3:02:41.522658\n",
      "iterations: 2813 | train_loss: 0.030202748 | validation_loss: 0.048944753 | Roc Score: 0.96908176 | Time elapsed: 3:02:45.387982\n",
      "iterations: 2814 | train_loss: 0.036064528 | validation_loss: 0.04990377 | Roc Score: 0.96908265 | Time elapsed: 3:02:49.247543\n",
      "iterations: 2815 | train_loss: 0.053000532 | validation_loss: 0.05031922 | Roc Score: 0.9690835 | Time elapsed: 3:02:53.140221\n",
      "iterations: 2816 | train_loss: 0.04969077 | validation_loss: 0.049932815 | Roc Score: 0.9690844 | Time elapsed: 3:02:56.981507\n",
      "iterations: 2817 | train_loss: 0.031339012 | validation_loss: 0.049502842 | Roc Score: 0.96908563 | Time elapsed: 3:03:00.904934\n",
      "iterations: 2818 | train_loss: 0.055098567 | validation_loss: 0.047730308 | Roc Score: 0.9690891 | Time elapsed: 3:03:04.867587\n",
      "iterations: 2819 | train_loss: 0.04102917 | validation_loss: 0.046850648 | Roc Score: 0.9690935 | Time elapsed: 3:03:08.741784\n",
      "iterations: 2820 | train_loss: 0.034898154 | validation_loss: 0.04722713 | Roc Score: 0.96909803 | Time elapsed: 3:03:12.655541\n",
      "iterations: 2821 | train_loss: 0.042737864 | validation_loss: 0.04817934 | Roc Score: 0.96910304 | Time elapsed: 3:03:16.591248\n",
      "iterations: 2822 | train_loss: 0.04016094 | validation_loss: 0.048360363 | Roc Score: 0.9691081 | Time elapsed: 3:03:20.492620\n",
      "iterations: 2823 | train_loss: 0.044500288 | validation_loss: 0.047984585 | Roc Score: 0.969113 | Time elapsed: 3:03:24.153994\n",
      "iterations: 2824 | train_loss: 0.032591462 | validation_loss: 0.04738697 | Roc Score: 0.9691176 | Time elapsed: 3:03:28.055135\n",
      "iterations: 2825 | train_loss: 0.026090864 | validation_loss: 0.046860926 | Roc Score: 0.9691223 | Time elapsed: 3:03:31.994865\n",
      "iterations: 2826 | train_loss: 0.045175318 | validation_loss: 0.046693116 | Roc Score: 0.96912664 | Time elapsed: 3:03:35.898588\n",
      "iterations: 2827 | train_loss: 0.06943303 | validation_loss: 0.046702817 | Roc Score: 0.9691307 | Time elapsed: 3:03:39.807099\n",
      "iterations: 2828 | train_loss: 0.03260132 | validation_loss: 0.046813738 | Roc Score: 0.9691347 | Time elapsed: 3:03:43.691316\n",
      "iterations: 2829 | train_loss: 0.056702364 | validation_loss: 0.046916187 | Roc Score: 0.96913844 | Time elapsed: 3:03:47.565917\n",
      "iterations: 2830 | train_loss: 0.013074699 | validation_loss: 0.047225505 | Roc Score: 0.96914154 | Time elapsed: 3:03:51.521760\n",
      "iterations: 2831 | train_loss: 0.047528844 | validation_loss: 0.04705964 | Roc Score: 0.9691449 | Time elapsed: 3:03:55.423361\n",
      "iterations: 2832 | train_loss: 0.043732546 | validation_loss: 0.046714794 | Roc Score: 0.96914905 | Time elapsed: 3:03:59.253027\n",
      "iterations: 2833 | train_loss: 0.048873328 | validation_loss: 0.046464354 | Roc Score: 0.9691532 | Time elapsed: 3:04:03.235502\n",
      "iterations: 2834 | train_loss: 0.05623021 | validation_loss: 0.046458926 | Roc Score: 0.9691579 | Time elapsed: 3:04:07.182944\n",
      "iterations: 2835 | train_loss: 0.042075884 | validation_loss: 0.046698928 | Roc Score: 0.9691628 | Time elapsed: 3:04:11.049154\n",
      "iterations: 2836 | train_loss: 0.054137185 | validation_loss: 0.046900257 | Roc Score: 0.9691677 | Time elapsed: 3:04:14.927344\n",
      "iterations: 2837 | train_loss: 0.044811975 | validation_loss: 0.046828724 | Roc Score: 0.96917266 | Time elapsed: 3:04:18.900671\n",
      "iterations: 2838 | train_loss: 0.033443134 | validation_loss: 0.046746675 | Roc Score: 0.9691771 | Time elapsed: 3:04:22.734191\n",
      "iterations: 2839 | train_loss: 0.042714477 | validation_loss: 0.04674899 | Roc Score: 0.96918166 | Time elapsed: 3:04:26.600502\n",
      "iterations: 2840 | train_loss: 0.024920253 | validation_loss: 0.04714698 | Roc Score: 0.9691852 | Time elapsed: 3:04:30.508007\n",
      "iterations: 2841 | train_loss: 0.051441733 | validation_loss: 0.047630776 | Roc Score: 0.9691885 | Time elapsed: 3:04:34.385658\n",
      "iterations: 2842 | train_loss: 0.037744895 | validation_loss: 0.04809752 | Roc Score: 0.96919155 | Time elapsed: 3:04:38.243445\n",
      "iterations: 2843 | train_loss: 0.05185835 | validation_loss: 0.048371475 | Roc Score: 0.9691946 | Time elapsed: 3:04:42.156752\n",
      "iterations: 2844 | train_loss: 0.05768209 | validation_loss: 0.048389066 | Roc Score: 0.969198 | Time elapsed: 3:04:46.078159\n",
      "iterations: 2845 | train_loss: 0.038480073 | validation_loss: 0.04844535 | Roc Score: 0.9692012 | Time elapsed: 3:04:50.045657\n",
      "iterations: 2846 | train_loss: 0.035054397 | validation_loss: 0.048417654 | Roc Score: 0.9692045 | Time elapsed: 3:04:54.002175\n",
      "iterations: 2847 | train_loss: 0.050990485 | validation_loss: 0.048408996 | Roc Score: 0.9692077 | Time elapsed: 3:04:57.933400\n",
      "iterations: 2848 | train_loss: 0.05170762 | validation_loss: 0.04820061 | Roc Score: 0.9692107 | Time elapsed: 3:05:01.856948\n",
      "iterations: 2849 | train_loss: 0.0446301 | validation_loss: 0.04805748 | Roc Score: 0.96921384 | Time elapsed: 3:05:05.779102\n",
      "iterations: 2850 | train_loss: 0.04515754 | validation_loss: 0.0479491 | Roc Score: 0.96921694 | Time elapsed: 3:05:09.686567\n",
      "iterations: 2851 | train_loss: 0.03589545 | validation_loss: 0.04796293 | Roc Score: 0.96921986 | Time elapsed: 3:05:13.558616\n",
      "iterations: 2852 | train_loss: 0.03289089 | validation_loss: 0.048066474 | Roc Score: 0.9692227 | Time elapsed: 3:05:17.481099\n",
      "iterations: 2853 | train_loss: 0.049787983 | validation_loss: 0.04816036 | Roc Score: 0.9692254 | Time elapsed: 3:05:21.371149\n",
      "iterations: 2854 | train_loss: 0.035551596 | validation_loss: 0.048292812 | Roc Score: 0.96922845 | Time elapsed: 3:05:25.243169\n",
      "iterations: 2855 | train_loss: 0.033742253 | validation_loss: 0.048353195 | Roc Score: 0.9692313 | Time elapsed: 3:05:29.144056\n",
      "iterations: 2856 | train_loss: 0.056275655 | validation_loss: 0.048383147 | Roc Score: 0.96923435 | Time elapsed: 3:05:33.102397\n",
      "iterations: 2857 | train_loss: 0.03587609 | validation_loss: 0.04845122 | Roc Score: 0.96923727 | Time elapsed: 3:05:36.983225\n",
      "iterations: 2858 | train_loss: 0.036202636 | validation_loss: 0.048429236 | Roc Score: 0.96924037 | Time elapsed: 3:05:40.878248\n",
      "iterations: 2859 | train_loss: 0.0706052 | validation_loss: 0.048356105 | Roc Score: 0.9692433 | Time elapsed: 3:05:44.844604\n",
      "iterations: 2860 | train_loss: 0.054567978 | validation_loss: 0.048223734 | Roc Score: 0.9692461 | Time elapsed: 3:05:48.791653\n",
      "iterations: 2861 | train_loss: 0.041257624 | validation_loss: 0.048178423 | Roc Score: 0.969249 | Time elapsed: 3:05:52.479613\n",
      "iterations: 2862 | train_loss: 0.06435323 | validation_loss: 0.0480959 | Roc Score: 0.9692518 | Time elapsed: 3:05:56.393934\n",
      "iterations: 2863 | train_loss: 0.03903778 | validation_loss: 0.04778035 | Roc Score: 0.9692549 | Time elapsed: 3:06:00.262500\n",
      "iterations: 2864 | train_loss: 0.033730827 | validation_loss: 0.04764015 | Roc Score: 0.9692576 | Time elapsed: 3:06:04.161481\n",
      "iterations: 2865 | train_loss: 0.04371708 | validation_loss: 0.047459558 | Roc Score: 0.96926063 | Time elapsed: 3:06:08.062784\n",
      "iterations: 2866 | train_loss: 0.036283113 | validation_loss: 0.047328323 | Roc Score: 0.9692641 | Time elapsed: 3:06:11.980635\n",
      "iterations: 2867 | train_loss: 0.042337123 | validation_loss: 0.047096867 | Roc Score: 0.96926796 | Time elapsed: 3:06:15.908655\n",
      "iterations: 2868 | train_loss: 0.044563863 | validation_loss: 0.046830438 | Roc Score: 0.96927166 | Time elapsed: 3:06:19.711813\n",
      "iterations: 2869 | train_loss: 0.046971943 | validation_loss: 0.046762593 | Roc Score: 0.96927565 | Time elapsed: 3:06:23.585693\n",
      "iterations: 2870 | train_loss: 0.04486484 | validation_loss: 0.0467874 | Roc Score: 0.96927965 | Time elapsed: 3:06:27.499786\n",
      "iterations: 2871 | train_loss: 0.044240437 | validation_loss: 0.04702967 | Roc Score: 0.9692839 | Time elapsed: 3:06:31.455168\n",
      "iterations: 2872 | train_loss: 0.042901233 | validation_loss: 0.047332045 | Roc Score: 0.96928805 | Time elapsed: 3:06:35.374922\n",
      "iterations: 2873 | train_loss: 0.04320077 | validation_loss: 0.047352444 | Roc Score: 0.96929216 | Time elapsed: 3:06:39.353357\n",
      "iterations: 2874 | train_loss: 0.036686808 | validation_loss: 0.047415808 | Roc Score: 0.9692961 | Time elapsed: 3:06:43.263439\n",
      "iterations: 2875 | train_loss: 0.036934566 | validation_loss: 0.04748453 | Roc Score: 0.9692994 | Time elapsed: 3:06:47.216017\n",
      "iterations: 2876 | train_loss: 0.039870612 | validation_loss: 0.047646195 | Roc Score: 0.9693024 | Time elapsed: 3:06:51.185788\n",
      "iterations: 2877 | train_loss: 0.045666303 | validation_loss: 0.047744382 | Roc Score: 0.96930534 | Time elapsed: 3:06:55.101424\n",
      "iterations: 2878 | train_loss: 0.042756855 | validation_loss: 0.047872394 | Roc Score: 0.96930826 | Time elapsed: 3:06:59.025417\n",
      "iterations: 2879 | train_loss: 0.048172794 | validation_loss: 0.048206355 | Roc Score: 0.9693109 | Time elapsed: 3:07:02.885339\n",
      "iterations: 2880 | train_loss: 0.05311684 | validation_loss: 0.048350997 | Roc Score: 0.9693133 | Time elapsed: 3:07:06.811828\n",
      "iterations: 2881 | train_loss: 0.061136086 | validation_loss: 0.04814069 | Roc Score: 0.96931624 | Time elapsed: 3:07:10.697675\n",
      "iterations: 2882 | train_loss: 0.047175612 | validation_loss: 0.047939315 | Roc Score: 0.9693191 | Time elapsed: 3:07:14.598066\n",
      "iterations: 2883 | train_loss: 0.043147802 | validation_loss: 0.047825415 | Roc Score: 0.9693226 | Time elapsed: 3:07:18.446604\n",
      "iterations: 2884 | train_loss: 0.047182485 | validation_loss: 0.047799278 | Roc Score: 0.96932614 | Time elapsed: 3:07:22.348880\n",
      "iterations: 2885 | train_loss: 0.03928322 | validation_loss: 0.04780763 | Roc Score: 0.9693298 | Time elapsed: 3:07:26.220099\n"
     ]
    },
    {
     "name": "stdout",
     "output_type": "stream",
     "text": [
      "iterations: 2886 | train_loss: 0.038542755 | validation_loss: 0.04784363 | Roc Score: 0.96933323 | Time elapsed: 3:07:30.127027\n",
      "iterations: 2887 | train_loss: 0.03615266 | validation_loss: 0.048001148 | Roc Score: 0.9693364 | Time elapsed: 3:07:34.062686\n",
      "iterations: 2888 | train_loss: 0.059951935 | validation_loss: 0.048267413 | Roc Score: 0.96933913 | Time elapsed: 3:07:37.996967\n",
      "iterations: 2889 | train_loss: 0.06396466 | validation_loss: 0.048295874 | Roc Score: 0.9693418 | Time elapsed: 3:07:41.880284\n",
      "iterations: 2890 | train_loss: 0.029599054 | validation_loss: 0.048129566 | Roc Score: 0.96934474 | Time elapsed: 3:07:45.653951\n",
      "iterations: 2891 | train_loss: 0.051813617 | validation_loss: 0.04841244 | Roc Score: 0.96934825 | Time elapsed: 3:07:49.579769\n",
      "iterations: 2892 | train_loss: 0.05516511 | validation_loss: 0.049383223 | Roc Score: 0.9693523 | Time elapsed: 3:07:53.483888\n",
      "iterations: 2893 | train_loss: 0.042110108 | validation_loss: 0.049753085 | Roc Score: 0.9693563 | Time elapsed: 3:07:57.462071\n",
      "iterations: 2894 | train_loss: 0.04704399 | validation_loss: 0.049701743 | Roc Score: 0.9693601 | Time elapsed: 3:08:01.370514\n",
      "iterations: 2895 | train_loss: 0.03653882 | validation_loss: 0.04909934 | Roc Score: 0.9693642 | Time elapsed: 3:08:05.316283\n",
      "iterations: 2896 | train_loss: 0.031256985 | validation_loss: 0.04847254 | Roc Score: 0.96936834 | Time elapsed: 3:08:09.227304\n",
      "iterations: 2897 | train_loss: 0.047262724 | validation_loss: 0.048357148 | Roc Score: 0.969372 | Time elapsed: 3:08:13.114261\n",
      "iterations: 2898 | train_loss: 0.04362783 | validation_loss: 0.0487597 | Roc Score: 0.96937454 | Time elapsed: 3:08:17.053053\n",
      "iterations: 2899 | train_loss: 0.052539434 | validation_loss: 0.04907674 | Roc Score: 0.96937674 | Time elapsed: 3:08:21.003226\n",
      "iterations: 2900 | train_loss: 0.027733056 | validation_loss: 0.049546856 | Roc Score: 0.96937793 | Time elapsed: 3:08:24.954285\n",
      "iterations: 2901 | train_loss: 0.035825904 | validation_loss: 0.04990076 | Roc Score: 0.9693792 | Time elapsed: 3:08:28.829337\n",
      "iterations: 2902 | train_loss: 0.048675675 | validation_loss: 0.049987707 | Roc Score: 0.96938056 | Time elapsed: 3:08:32.739653\n",
      "iterations: 2903 | train_loss: 0.038550645 | validation_loss: 0.050060324 | Roc Score: 0.96938103 | Time elapsed: 3:08:36.631849\n",
      "iterations: 2904 | train_loss: 0.04673717 | validation_loss: 0.049651284 | Roc Score: 0.96938235 | Time elapsed: 3:08:40.510492\n",
      "iterations: 2905 | train_loss: 0.04218731 | validation_loss: 0.048991274 | Roc Score: 0.96938443 | Time elapsed: 3:08:44.401006\n",
      "iterations: 2906 | train_loss: 0.028693942 | validation_loss: 0.048264068 | Roc Score: 0.9693869 | Time elapsed: 3:08:48.301798\n",
      "iterations: 2907 | train_loss: 0.03951892 | validation_loss: 0.04771968 | Roc Score: 0.9693906 | Time elapsed: 3:08:52.204534\n",
      "iterations: 2908 | train_loss: 0.053154927 | validation_loss: 0.047670998 | Roc Score: 0.9693947 | Time elapsed: 3:08:56.126705\n",
      "iterations: 2909 | train_loss: 0.047082335 | validation_loss: 0.047742937 | Roc Score: 0.9693991 | Time elapsed: 3:09:00.011477\n",
      "iterations: 2910 | train_loss: 0.056244634 | validation_loss: 0.048085935 | Roc Score: 0.96940327 | Time elapsed: 3:09:03.841187\n",
      "iterations: 2911 | train_loss: 0.03145697 | validation_loss: 0.048473697 | Roc Score: 0.96940804 | Time elapsed: 3:09:07.675460\n",
      "iterations: 2912 | train_loss: 0.050683625 | validation_loss: 0.048162885 | Roc Score: 0.96941245 | Time elapsed: 3:09:11.531862\n",
      "iterations: 2913 | train_loss: 0.033617996 | validation_loss: 0.047576673 | Roc Score: 0.96941674 | Time elapsed: 3:09:15.442143\n",
      "iterations: 2914 | train_loss: 0.03937599 | validation_loss: 0.047190208 | Roc Score: 0.969421 | Time elapsed: 3:09:19.538085\n",
      "iterations: 2915 | train_loss: 0.041637097 | validation_loss: 0.047117498 | Roc Score: 0.96942496 | Time elapsed: 3:09:23.402887\n",
      "iterations: 2916 | train_loss: 0.030385764 | validation_loss: 0.047186088 | Roc Score: 0.96942866 | Time elapsed: 3:09:27.314310\n",
      "iterations: 2917 | train_loss: 0.041574907 | validation_loss: 0.047293235 | Roc Score: 0.96943223 | Time elapsed: 3:09:31.194853\n",
      "iterations: 2918 | train_loss: 0.04907135 | validation_loss: 0.047275208 | Roc Score: 0.9694358 | Time elapsed: 3:09:35.082090\n",
      "iterations: 2919 | train_loss: 0.050379973 | validation_loss: 0.047189195 | Roc Score: 0.9694393 | Time elapsed: 3:09:38.994317\n",
      "iterations: 2920 | train_loss: 0.055980988 | validation_loss: 0.047168422 | Roc Score: 0.96944326 | Time elapsed: 3:09:42.929406\n",
      "iterations: 2921 | train_loss: 0.03399504 | validation_loss: 0.04717207 | Roc Score: 0.96944726 | Time elapsed: 3:09:46.809416\n",
      "iterations: 2922 | train_loss: 0.043129396 | validation_loss: 0.04716917 | Roc Score: 0.9694512 | Time elapsed: 3:09:50.686547\n",
      "iterations: 2923 | train_loss: 0.037284732 | validation_loss: 0.047339376 | Roc Score: 0.96945477 | Time elapsed: 3:09:54.589705\n",
      "iterations: 2924 | train_loss: 0.03841035 | validation_loss: 0.04759074 | Roc Score: 0.96945786 | Time elapsed: 3:09:58.571184\n",
      "iterations: 2925 | train_loss: 0.040215563 | validation_loss: 0.04753392 | Roc Score: 0.96946114 | Time elapsed: 3:10:02.471890\n",
      "iterations: 2926 | train_loss: 0.048448704 | validation_loss: 0.04740513 | Roc Score: 0.96946466 | Time elapsed: 3:10:06.384493\n",
      "iterations: 2927 | train_loss: 0.05830511 | validation_loss: 0.04689504 | Roc Score: 0.9694682 | Time elapsed: 3:10:10.162663\n",
      "iterations: 2928 | train_loss: 0.050036673 | validation_loss: 0.04657999 | Roc Score: 0.96947265 | Time elapsed: 3:10:14.052073\n",
      "iterations: 2929 | train_loss: 0.028738756 | validation_loss: 0.04655957 | Roc Score: 0.96947706 | Time elapsed: 3:10:17.963906\n",
      "iterations: 2930 | train_loss: 0.038068537 | validation_loss: 0.046601377 | Roc Score: 0.9694814 | Time elapsed: 3:10:21.860239\n",
      "iterations: 2931 | train_loss: 0.07030597 | validation_loss: 0.04700833 | Roc Score: 0.96948594 | Time elapsed: 3:10:25.781092\n",
      "iterations: 2932 | train_loss: 0.050822563 | validation_loss: 0.047430344 | Roc Score: 0.9694906 | Time elapsed: 3:10:29.641041\n",
      "iterations: 2933 | train_loss: 0.040430482 | validation_loss: 0.04797666 | Roc Score: 0.9694955 | Time elapsed: 3:10:33.541503\n",
      "iterations: 2934 | train_loss: 0.044399135 | validation_loss: 0.048486732 | Roc Score: 0.9694994 | Time elapsed: 3:10:37.405816\n",
      "iterations: 2935 | train_loss: 0.05169607 | validation_loss: 0.04873545 | Roc Score: 0.96950364 | Time elapsed: 3:10:41.318675\n",
      "iterations: 2936 | train_loss: 0.048840947 | validation_loss: 0.048850887 | Roc Score: 0.96950746 | Time elapsed: 3:10:45.189257\n",
      "iterations: 2937 | train_loss: 0.048736807 | validation_loss: 0.048423827 | Roc Score: 0.96951103 | Time elapsed: 3:10:49.072581\n",
      "iterations: 2938 | train_loss: 0.033039816 | validation_loss: 0.0481551 | Roc Score: 0.9695144 | Time elapsed: 3:10:53.013874\n",
      "iterations: 2939 | train_loss: 0.03556218 | validation_loss: 0.048310965 | Roc Score: 0.96951747 | Time elapsed: 3:10:56.905879\n",
      "iterations: 2940 | train_loss: 0.053078536 | validation_loss: 0.04856944 | Roc Score: 0.96952 | Time elapsed: 3:11:00.797640\n",
      "iterations: 2941 | train_loss: 0.055733483 | validation_loss: 0.048792046 | Roc Score: 0.9695222 | Time elapsed: 3:11:04.726966\n",
      "iterations: 2942 | train_loss: 0.042618595 | validation_loss: 0.048569955 | Roc Score: 0.9695247 | Time elapsed: 3:11:08.619970\n",
      "iterations: 2943 | train_loss: 0.041730322 | validation_loss: 0.048251074 | Roc Score: 0.96952766 | Time elapsed: 3:11:12.489364\n",
      "iterations: 2944 | train_loss: 0.05082308 | validation_loss: 0.047868907 | Roc Score: 0.96953094 | Time elapsed: 3:11:16.362918\n",
      "iterations: 2945 | train_loss: 0.04663047 | validation_loss: 0.047685213 | Roc Score: 0.96953446 | Time elapsed: 3:11:20.252176\n",
      "iterations: 2946 | train_loss: 0.048376795 | validation_loss: 0.047679316 | Roc Score: 0.9695383 | Time elapsed: 3:11:24.100685\n",
      "iterations: 2947 | train_loss: 0.056356527 | validation_loss: 0.047881994 | Roc Score: 0.96954274 | Time elapsed: 3:11:28.006686\n",
      "iterations: 2948 | train_loss: 0.041851208 | validation_loss: 0.048069224 | Roc Score: 0.96954703 | Time elapsed: 3:11:31.908712\n",
      "iterations: 2949 | train_loss: 0.034007788 | validation_loss: 0.047787257 | Roc Score: 0.9695514 | Time elapsed: 3:11:35.848036\n",
      "iterations: 2950 | train_loss: 0.03647194 | validation_loss: 0.04743477 | Roc Score: 0.9695555 | Time elapsed: 3:11:39.688191\n",
      "iterations: 2951 | train_loss: 0.03501669 | validation_loss: 0.047237124 | Roc Score: 0.96955913 | Time elapsed: 3:11:43.589390\n",
      "iterations: 2952 | train_loss: 0.025699068 | validation_loss: 0.047428034 | Roc Score: 0.9695627 | Time elapsed: 3:11:47.524291\n",
      "iterations: 2953 | train_loss: 0.046938565 | validation_loss: 0.04786214 | Roc Score: 0.96956563 | Time elapsed: 3:11:51.447435\n",
      "iterations: 2954 | train_loss: 0.055423576 | validation_loss: 0.04783621 | Roc Score: 0.96956855 | Time elapsed: 3:11:55.428424\n",
      "iterations: 2955 | train_loss: 0.05277267 | validation_loss: 0.04793558 | Roc Score: 0.9695714 | Time elapsed: 3:11:59.357445\n",
      "iterations: 2956 | train_loss: 0.05385964 | validation_loss: 0.04755722 | Roc Score: 0.9695747 | Time elapsed: 3:12:03.228587\n",
      "iterations: 2957 | train_loss: 0.038091514 | validation_loss: 0.04744716 | Roc Score: 0.969578 | Time elapsed: 3:12:07.136272\n",
      "iterations: 2958 | train_loss: 0.046817485 | validation_loss: 0.04742671 | Roc Score: 0.96958154 | Time elapsed: 3:12:11.077128\n",
      "iterations: 2959 | train_loss: 0.050182346 | validation_loss: 0.047412936 | Roc Score: 0.9695852 | Time elapsed: 3:12:14.999279\n",
      "iterations: 2960 | train_loss: 0.04204816 | validation_loss: 0.047633756 | Roc Score: 0.969589 | Time elapsed: 3:12:18.878673\n",
      "iterations: 2961 | train_loss: 0.04290249 | validation_loss: 0.04795338 | Roc Score: 0.96959287 | Time elapsed: 3:12:22.825695\n",
      "iterations: 2962 | train_loss: 0.048597448 | validation_loss: 0.04792793 | Roc Score: 0.9695967 | Time elapsed: 3:12:26.742535\n",
      "iterations: 2963 | train_loss: 0.04551823 | validation_loss: 0.047825318 | Roc Score: 0.9696007 | Time elapsed: 3:12:30.588262\n"
     ]
    },
    {
     "name": "stdout",
     "output_type": "stream",
     "text": [
      "iterations: 2964 | train_loss: 0.051927097 | validation_loss: 0.0476784 | Roc Score: 0.9696045 | Time elapsed: 3:12:34.512508\n",
      "iterations: 2965 | train_loss: 0.03371569 | validation_loss: 0.047728222 | Roc Score: 0.9696076 | Time elapsed: 3:12:38.420721\n",
      "iterations: 2966 | train_loss: 0.036874793 | validation_loss: 0.048135888 | Roc Score: 0.96961063 | Time elapsed: 3:12:42.303659\n",
      "iterations: 2967 | train_loss: 0.032663412 | validation_loss: 0.04885342 | Roc Score: 0.9696129 | Time elapsed: 3:12:46.199662\n",
      "iterations: 2968 | train_loss: 0.052661803 | validation_loss: 0.049176525 | Roc Score: 0.9696153 | Time elapsed: 3:12:50.131236\n",
      "iterations: 2969 | train_loss: 0.051887676 | validation_loss: 0.0491934 | Roc Score: 0.9696175 | Time elapsed: 3:12:54.040859\n",
      "iterations: 2970 | train_loss: 0.037507027 | validation_loss: 0.049070384 | Roc Score: 0.96961987 | Time elapsed: 3:12:57.920434\n",
      "iterations: 2971 | train_loss: 0.053410646 | validation_loss: 0.048454072 | Roc Score: 0.9696227 | Time elapsed: 3:13:01.807103\n",
      "iterations: 2972 | train_loss: 0.04328281 | validation_loss: 0.048139855 | Roc Score: 0.96962583 | Time elapsed: 3:13:05.706835\n",
      "iterations: 2973 | train_loss: 0.040790625 | validation_loss: 0.04782866 | Roc Score: 0.96962905 | Time elapsed: 3:13:09.661825\n",
      "iterations: 2974 | train_loss: 0.0554861 | validation_loss: 0.047457602 | Roc Score: 0.96963286 | Time elapsed: 3:13:13.583642\n",
      "iterations: 2975 | train_loss: 0.04230002 | validation_loss: 0.0471267 | Roc Score: 0.9696367 | Time elapsed: 3:13:17.460449\n",
      "iterations: 2976 | train_loss: 0.038148914 | validation_loss: 0.0469509 | Roc Score: 0.9696406 | Time elapsed: 3:13:21.354831\n",
      "iterations: 2977 | train_loss: 0.0321077 | validation_loss: 0.046840664 | Roc Score: 0.9696448 | Time elapsed: 3:13:25.305607\n",
      "iterations: 2978 | train_loss: 0.060669433 | validation_loss: 0.04677281 | Roc Score: 0.96964914 | Time elapsed: 3:13:29.227691\n",
      "iterations: 2979 | train_loss: 0.035878234 | validation_loss: 0.046769585 | Roc Score: 0.96965337 | Time elapsed: 3:13:33.136352\n",
      "iterations: 2980 | train_loss: 0.03779768 | validation_loss: 0.04688254 | Roc Score: 0.96965736 | Time elapsed: 3:13:37.030030\n",
      "iterations: 2981 | train_loss: 0.03167848 | validation_loss: 0.047043957 | Roc Score: 0.9696615 | Time elapsed: 3:13:40.925507\n",
      "iterations: 2982 | train_loss: 0.04473204 | validation_loss: 0.04717606 | Roc Score: 0.9696652 | Time elapsed: 3:13:44.826294\n",
      "iterations: 2983 | train_loss: 0.03319271 | validation_loss: 0.04728255 | Roc Score: 0.9696692 | Time elapsed: 3:13:48.719075\n",
      "iterations: 2984 | train_loss: 0.047360953 | validation_loss: 0.047448933 | Roc Score: 0.96967316 | Time elapsed: 3:13:52.621454\n",
      "iterations: 2985 | train_loss: 0.035144158 | validation_loss: 0.047596134 | Roc Score: 0.969677 | Time elapsed: 3:13:56.514177\n",
      "iterations: 2986 | train_loss: 0.048032664 | validation_loss: 0.047800675 | Roc Score: 0.9696803 | Time elapsed: 3:14:00.387522\n",
      "iterations: 2987 | train_loss: 0.056429997 | validation_loss: 0.047835015 | Roc Score: 0.9696841 | Time elapsed: 3:14:04.299342\n",
      "iterations: 2988 | train_loss: 0.03618069 | validation_loss: 0.047915965 | Roc Score: 0.96968824 | Time elapsed: 3:14:08.173304\n",
      "iterations: 2989 | train_loss: 0.024659012 | validation_loss: 0.048201468 | Roc Score: 0.9696919 | Time elapsed: 3:14:12.064350\n",
      "iterations: 2990 | train_loss: 0.046955366 | validation_loss: 0.048605237 | Roc Score: 0.9696959 | Time elapsed: 3:14:15.935132\n",
      "iterations: 2991 | train_loss: 0.037699305 | validation_loss: 0.04860843 | Roc Score: 0.96969944 | Time elapsed: 3:14:19.843888\n",
      "iterations: 2992 | train_loss: 0.05276206 | validation_loss: 0.04855361 | Roc Score: 0.96970326 | Time elapsed: 3:14:23.744193\n",
      "iterations: 2993 | train_loss: 0.04773847 | validation_loss: 0.048685517 | Roc Score: 0.96970695 | Time elapsed: 3:14:27.647801\n",
      "iterations: 2994 | train_loss: 0.052775078 | validation_loss: 0.048463598 | Roc Score: 0.96971047 | Time elapsed: 3:14:31.691537\n",
      "iterations: 2995 | train_loss: 0.03800325 | validation_loss: 0.048242684 | Roc Score: 0.96971416 | Time elapsed: 3:14:35.603053\n",
      "iterations: 2996 | train_loss: 0.043028235 | validation_loss: 0.048633087 | Roc Score: 0.9697174 | Time elapsed: 3:14:39.496556\n",
      "iterations: 2997 | train_loss: 0.06124673 | validation_loss: 0.049181413 | Roc Score: 0.9697197 | Time elapsed: 3:14:43.418762\n",
      "iterations: 2998 | train_loss: 0.03711292 | validation_loss: 0.049344275 | Roc Score: 0.96972215 | Time elapsed: 3:14:47.365076\n",
      "iterations: 2999 | train_loss: 0.053237405 | validation_loss: 0.049117144 | Roc Score: 0.9697249 | Time elapsed: 3:14:51.259854\n",
      "iterations: 3000 | train_loss: 0.038618658 | validation_loss: 0.048939448 | Roc Score: 0.9697279 | Time elapsed: 3:14:54.986979\n",
      "iterations: 3001 | train_loss: 0.041993212 | validation_loss: 0.048524756 | Roc Score: 0.96973073 | Time elapsed: 3:14:58.894965\n",
      "iterations: 3002 | train_loss: 0.024168259 | validation_loss: 0.048465077 | Roc Score: 0.9697335 | Time elapsed: 3:15:02.794400\n",
      "iterations: 3003 | train_loss: 0.04626463 | validation_loss: 0.047805194 | Roc Score: 0.9697367 | Time elapsed: 3:15:06.620317\n",
      "iterations: 3004 | train_loss: 0.034804404 | validation_loss: 0.04782616 | Roc Score: 0.9697396 | Time elapsed: 3:15:10.476433\n",
      "iterations: 3005 | train_loss: 0.049770575 | validation_loss: 0.047826324 | Roc Score: 0.96974266 | Time elapsed: 3:15:14.363286\n",
      "iterations: 3006 | train_loss: 0.02890735 | validation_loss: 0.047821905 | Roc Score: 0.96974546 | Time elapsed: 3:15:18.283387\n",
      "iterations: 3007 | train_loss: 0.054988287 | validation_loss: 0.047586456 | Roc Score: 0.9697488 | Time elapsed: 3:15:22.175142\n",
      "iterations: 3008 | train_loss: 0.032111272 | validation_loss: 0.047500107 | Roc Score: 0.96975225 | Time elapsed: 3:15:26.088836\n",
      "iterations: 3009 | train_loss: 0.0275844 | validation_loss: 0.047561254 | Roc Score: 0.9697558 | Time elapsed: 3:15:30.088012\n",
      "iterations: 3010 | train_loss: 0.041413996 | validation_loss: 0.04760803 | Roc Score: 0.9697595 | Time elapsed: 3:15:34.004157\n",
      "iterations: 3011 | train_loss: 0.05143 | validation_loss: 0.047692582 | Roc Score: 0.96976304 | Time elapsed: 3:15:37.901551\n",
      "iterations: 3012 | train_loss: 0.0410428 | validation_loss: 0.047763303 | Roc Score: 0.96976656 | Time elapsed: 3:15:41.794932\n",
      "iterations: 3013 | train_loss: 0.04470751 | validation_loss: 0.047956534 | Roc Score: 0.9697696 | Time elapsed: 3:15:45.711773\n",
      "iterations: 3014 | train_loss: 0.04379111 | validation_loss: 0.04813652 | Roc Score: 0.96977246 | Time elapsed: 3:15:49.589138\n",
      "iterations: 3015 | train_loss: 0.06065439 | validation_loss: 0.048295677 | Roc Score: 0.9697753 | Time elapsed: 3:15:53.505589\n",
      "iterations: 3016 | train_loss: 0.044134963 | validation_loss: 0.048397344 | Roc Score: 0.9697782 | Time elapsed: 3:15:57.397377\n",
      "iterations: 3017 | train_loss: 0.04134992 | validation_loss: 0.04836633 | Roc Score: 0.96978104 | Time elapsed: 3:16:01.283208\n",
      "iterations: 3018 | train_loss: 0.045115147 | validation_loss: 0.048264693 | Roc Score: 0.96978396 | Time elapsed: 3:16:05.111096\n",
      "iterations: 3019 | train_loss: 0.01808076 | validation_loss: 0.04820959 | Roc Score: 0.9697869 | Time elapsed: 3:16:08.967263\n",
      "iterations: 3020 | train_loss: 0.02511122 | validation_loss: 0.048261672 | Roc Score: 0.96979016 | Time elapsed: 3:16:12.837660\n",
      "iterations: 3021 | train_loss: 0.036963474 | validation_loss: 0.048265327 | Roc Score: 0.9697934 | Time elapsed: 3:16:16.699019\n",
      "iterations: 3022 | train_loss: 0.04973383 | validation_loss: 0.048368707 | Roc Score: 0.9697965 | Time elapsed: 3:16:20.596297\n",
      "iterations: 3023 | train_loss: 0.036388993 | validation_loss: 0.048617706 | Roc Score: 0.96979976 | Time elapsed: 3:16:24.492986\n",
      "iterations: 3024 | train_loss: 0.041262124 | validation_loss: 0.049034253 | Roc Score: 0.9698033 | Time elapsed: 3:16:28.400942\n",
      "iterations: 3025 | train_loss: 0.03897351 | validation_loss: 0.04949634 | Roc Score: 0.9698068 | Time elapsed: 3:16:32.328419\n",
      "iterations: 3026 | train_loss: 0.06226654 | validation_loss: 0.049821135 | Roc Score: 0.9698105 | Time elapsed: 3:16:36.304026\n",
      "iterations: 3027 | train_loss: 0.036687266 | validation_loss: 0.049466543 | Roc Score: 0.969814 | Time elapsed: 3:16:40.186871\n",
      "iterations: 3028 | train_loss: 0.037917543 | validation_loss: 0.049239375 | Roc Score: 0.9698179 | Time elapsed: 3:16:44.084456\n",
      "iterations: 3029 | train_loss: 0.041877225 | validation_loss: 0.049343877 | Roc Score: 0.9698215 | Time elapsed: 3:16:47.926628\n",
      "iterations: 3030 | train_loss: 0.054954603 | validation_loss: 0.049243633 | Roc Score: 0.96982527 | Time elapsed: 3:16:51.845133\n",
      "iterations: 3031 | train_loss: 0.056260623 | validation_loss: 0.048752002 | Roc Score: 0.9698289 | Time elapsed: 3:16:55.780499\n",
      "iterations: 3032 | train_loss: 0.058638807 | validation_loss: 0.04822696 | Roc Score: 0.96983266 | Time elapsed: 3:16:59.639865\n",
      "iterations: 3033 | train_loss: 0.047382213 | validation_loss: 0.047908317 | Roc Score: 0.9698364 | Time elapsed: 3:17:03.570624\n",
      "iterations: 3034 | train_loss: 0.047292758 | validation_loss: 0.047670864 | Roc Score: 0.9698404 | Time elapsed: 3:17:07.465476\n",
      "iterations: 3035 | train_loss: 0.047629368 | validation_loss: 0.047357704 | Roc Score: 0.9698442 | Time elapsed: 3:17:11.331635\n",
      "iterations: 3036 | train_loss: 0.047477003 | validation_loss: 0.04728852 | Roc Score: 0.9698477 | Time elapsed: 3:17:15.252699\n",
      "iterations: 3037 | train_loss: 0.051919542 | validation_loss: 0.047338683 | Roc Score: 0.96985114 | Time elapsed: 3:17:19.159072\n",
      "iterations: 3038 | train_loss: 0.052341014 | validation_loss: 0.047368336 | Roc Score: 0.9698545 | Time elapsed: 3:17:23.108741\n",
      "iterations: 3039 | train_loss: 0.0368192 | validation_loss: 0.04749884 | Roc Score: 0.96985745 | Time elapsed: 3:17:27.040590\n",
      "iterations: 3040 | train_loss: 0.037373967 | validation_loss: 0.04756519 | Roc Score: 0.9698603 | Time elapsed: 3:17:30.924925\n",
      "iterations: 3041 | train_loss: 0.033995967 | validation_loss: 0.04771792 | Roc Score: 0.9698628 | Time elapsed: 3:17:34.880162\n"
     ]
    },
    {
     "name": "stdout",
     "output_type": "stream",
     "text": [
      "iterations: 3042 | train_loss: 0.037992727 | validation_loss: 0.048041053 | Roc Score: 0.9698652 | Time elapsed: 3:17:38.764816\n",
      "iterations: 3043 | train_loss: 0.03304038 | validation_loss: 0.048226137 | Roc Score: 0.9698678 | Time elapsed: 3:17:42.718184\n",
      "iterations: 3044 | train_loss: 0.04058099 | validation_loss: 0.04822124 | Roc Score: 0.96987057 | Time elapsed: 3:17:46.639040\n",
      "iterations: 3045 | train_loss: 0.056965515 | validation_loss: 0.04811237 | Roc Score: 0.96987313 | Time elapsed: 3:17:50.556785\n",
      "iterations: 3046 | train_loss: 0.030465923 | validation_loss: 0.04817039 | Roc Score: 0.9698761 | Time elapsed: 3:17:54.492043\n",
      "iterations: 3047 | train_loss: 0.03791518 | validation_loss: 0.04820959 | Roc Score: 0.9698788 | Time elapsed: 3:17:58.344557\n",
      "iterations: 3048 | train_loss: 0.03617876 | validation_loss: 0.04825142 | Roc Score: 0.9698815 | Time elapsed: 3:18:02.172542\n",
      "iterations: 3049 | train_loss: 0.045641463 | validation_loss: 0.048236087 | Roc Score: 0.9698842 | Time elapsed: 3:18:06.058558\n",
      "iterations: 3050 | train_loss: 0.034815107 | validation_loss: 0.0482265 | Roc Score: 0.9698871 | Time elapsed: 3:18:09.930850\n",
      "iterations: 3051 | train_loss: 0.029294586 | validation_loss: 0.048206788 | Roc Score: 0.9698899 | Time elapsed: 3:18:13.828670\n",
      "iterations: 3052 | train_loss: 0.04379077 | validation_loss: 0.04811023 | Roc Score: 0.9698927 | Time elapsed: 3:18:17.695027\n",
      "iterations: 3053 | train_loss: 0.04692521 | validation_loss: 0.047924533 | Roc Score: 0.9698959 | Time elapsed: 3:18:21.620970\n",
      "iterations: 3054 | train_loss: 0.04955058 | validation_loss: 0.047732286 | Roc Score: 0.96989924 | Time elapsed: 3:18:25.522901\n",
      "iterations: 3055 | train_loss: 0.041669272 | validation_loss: 0.047562417 | Roc Score: 0.96990263 | Time elapsed: 3:18:29.431552\n",
      "iterations: 3056 | train_loss: 0.042894874 | validation_loss: 0.047547538 | Roc Score: 0.9699063 | Time elapsed: 3:18:33.275808\n",
      "iterations: 3057 | train_loss: 0.046999674 | validation_loss: 0.047655 | Roc Score: 0.96991 | Time elapsed: 3:18:37.201787\n",
      "iterations: 3058 | train_loss: 0.06782863 | validation_loss: 0.04795134 | Roc Score: 0.9699139 | Time elapsed: 3:18:41.123265\n",
      "iterations: 3059 | train_loss: 0.03216916 | validation_loss: 0.048150238 | Roc Score: 0.9699179 | Time elapsed: 3:18:44.981869\n",
      "iterations: 3060 | train_loss: 0.0643974 | validation_loss: 0.048196506 | Roc Score: 0.969922 | Time elapsed: 3:18:48.901047\n",
      "iterations: 3061 | train_loss: 0.064566515 | validation_loss: 0.04784652 | Roc Score: 0.96992606 | Time elapsed: 3:18:52.839723\n",
      "iterations: 3062 | train_loss: 0.0522587 | validation_loss: 0.047724623 | Roc Score: 0.96993035 | Time elapsed: 3:18:56.746356\n",
      "iterations: 3063 | train_loss: 0.054792177 | validation_loss: 0.04778284 | Roc Score: 0.9699345 | Time elapsed: 3:19:00.585143\n",
      "iterations: 3064 | train_loss: 0.0402595 | validation_loss: 0.04753151 | Roc Score: 0.96993864 | Time elapsed: 3:19:04.496432\n",
      "iterations: 3065 | train_loss: 0.049273547 | validation_loss: 0.047347866 | Roc Score: 0.96994275 | Time elapsed: 3:19:08.394254\n",
      "iterations: 3066 | train_loss: 0.04239824 | validation_loss: 0.047304742 | Roc Score: 0.9699464 | Time elapsed: 3:19:12.278521\n",
      "iterations: 3067 | train_loss: 0.049757082 | validation_loss: 0.047275342 | Roc Score: 0.96995014 | Time elapsed: 3:19:16.153860\n",
      "iterations: 3068 | train_loss: 0.04247177 | validation_loss: 0.04728087 | Roc Score: 0.9699538 | Time elapsed: 3:19:20.057642\n",
      "iterations: 3069 | train_loss: 0.049984727 | validation_loss: 0.04730841 | Roc Score: 0.96995735 | Time elapsed: 3:19:23.969255\n",
      "iterations: 3070 | train_loss: 0.060113743 | validation_loss: 0.04728254 | Roc Score: 0.9699608 | Time elapsed: 3:19:27.849091\n",
      "iterations: 3071 | train_loss: 0.03926056 | validation_loss: 0.047277577 | Roc Score: 0.9699644 | Time elapsed: 3:19:31.724890\n",
      "iterations: 3072 | train_loss: 0.026705284 | validation_loss: 0.047294173 | Roc Score: 0.96996784 | Time elapsed: 3:19:35.609743\n",
      "iterations: 3073 | train_loss: 0.03131818 | validation_loss: 0.04741572 | Roc Score: 0.9699711 | Time elapsed: 3:19:39.440275\n",
      "iterations: 3074 | train_loss: 0.04087476 | validation_loss: 0.047722254 | Roc Score: 0.9699737 | Time elapsed: 3:19:43.360291\n",
      "iterations: 3075 | train_loss: 0.05009637 | validation_loss: 0.047799855 | Roc Score: 0.9699763 | Time elapsed: 3:19:47.252216\n",
      "iterations: 3076 | train_loss: 0.035224732 | validation_loss: 0.04800157 | Roc Score: 0.96997875 | Time elapsed: 3:19:51.156384\n",
      "iterations: 3077 | train_loss: 0.038674995 | validation_loss: 0.048230167 | Roc Score: 0.969981 | Time elapsed: 3:19:55.027186\n",
      "iterations: 3078 | train_loss: 0.030276867 | validation_loss: 0.048576742 | Roc Score: 0.9699829 | Time elapsed: 3:19:58.905217\n",
      "iterations: 3079 | train_loss: 0.03988108 | validation_loss: 0.0489779 | Roc Score: 0.9699845 | Time elapsed: 3:20:02.792841\n",
      "iterations: 3080 | train_loss: 0.020875916 | validation_loss: 0.049375776 | Roc Score: 0.9699858 | Time elapsed: 3:20:06.658178\n",
      "iterations: 3081 | train_loss: 0.04202522 | validation_loss: 0.049258262 | Roc Score: 0.96998715 | Time elapsed: 3:20:10.567807\n",
      "iterations: 3082 | train_loss: 0.050074242 | validation_loss: 0.04884756 | Roc Score: 0.96998954 | Time elapsed: 3:20:14.486763\n",
      "iterations: 3083 | train_loss: 0.05994462 | validation_loss: 0.048477393 | Roc Score: 0.96999246 | Time elapsed: 3:20:18.346391\n",
      "iterations: 3084 | train_loss: 0.04062952 | validation_loss: 0.048018366 | Roc Score: 0.9699957 | Time elapsed: 3:20:22.265312\n",
      "iterations: 3085 | train_loss: 0.046738073 | validation_loss: 0.04773512 | Roc Score: 0.969999 | Time elapsed: 3:20:26.214939\n",
      "iterations: 3086 | train_loss: 0.056881785 | validation_loss: 0.047526613 | Roc Score: 0.9700029 | Time elapsed: 3:20:30.089802\n",
      "iterations: 3087 | train_loss: 0.039248876 | validation_loss: 0.047433533 | Roc Score: 0.97000647 | Time elapsed: 3:20:33.987103\n",
      "iterations: 3088 | train_loss: 0.04377553 | validation_loss: 0.047369275 | Roc Score: 0.9700097 | Time elapsed: 3:20:37.866323\n",
      "iterations: 3089 | train_loss: 0.02976094 | validation_loss: 0.04761405 | Roc Score: 0.9700129 | Time elapsed: 3:20:41.748297\n",
      "iterations: 3090 | train_loss: 0.038007483 | validation_loss: 0.04824738 | Roc Score: 0.9700151 | Time elapsed: 3:20:45.632930\n",
      "iterations: 3091 | train_loss: 0.055293597 | validation_loss: 0.04835689 | Roc Score: 0.9700176 | Time elapsed: 3:20:49.507394\n",
      "iterations: 3092 | train_loss: 0.04849335 | validation_loss: 0.048146077 | Roc Score: 0.9700202 | Time elapsed: 3:20:53.404576\n",
      "iterations: 3093 | train_loss: 0.038289238 | validation_loss: 0.04790796 | Roc Score: 0.9700232 | Time elapsed: 3:20:57.301930\n",
      "iterations: 3094 | train_loss: 0.046213295 | validation_loss: 0.047619335 | Roc Score: 0.9700266 | Time elapsed: 3:21:01.219997\n",
      "iterations: 3095 | train_loss: 0.037294842 | validation_loss: 0.0474898 | Roc Score: 0.97003 | Time elapsed: 3:21:05.119059\n",
      "iterations: 3096 | train_loss: 0.04993277 | validation_loss: 0.04766113 | Roc Score: 0.97003365 | Time elapsed: 3:21:08.973477\n",
      "iterations: 3097 | train_loss: 0.044069123 | validation_loss: 0.047577567 | Roc Score: 0.9700374 | Time elapsed: 3:21:12.891877\n",
      "iterations: 3098 | train_loss: 0.05295787 | validation_loss: 0.047587343 | Roc Score: 0.97004116 | Time elapsed: 3:21:16.772095\n",
      "iterations: 3099 | train_loss: 0.057401557 | validation_loss: 0.047392555 | Roc Score: 0.9700448 | Time elapsed: 3:21:20.668183\n",
      "iterations: 3100 | train_loss: 0.033136643 | validation_loss: 0.047316413 | Roc Score: 0.9700481 | Time elapsed: 3:21:24.612967\n",
      "iterations: 3101 | train_loss: 0.055157814 | validation_loss: 0.047487676 | Roc Score: 0.97005135 | Time elapsed: 3:21:28.573965\n",
      "iterations: 3102 | train_loss: 0.041876167 | validation_loss: 0.047672763 | Roc Score: 0.97005385 | Time elapsed: 3:21:32.517650\n",
      "iterations: 3103 | train_loss: 0.039884064 | validation_loss: 0.04775476 | Roc Score: 0.97005624 | Time elapsed: 3:21:36.428418\n",
      "iterations: 3104 | train_loss: 0.038466275 | validation_loss: 0.047822744 | Roc Score: 0.9700587 | Time elapsed: 3:21:40.326944\n",
      "iterations: 3105 | train_loss: 0.04580655 | validation_loss: 0.0476071 | Roc Score: 0.97006136 | Time elapsed: 3:21:44.192076\n",
      "iterations: 3106 | train_loss: 0.047202457 | validation_loss: 0.047618628 | Roc Score: 0.9700638 | Time elapsed: 3:21:48.049269\n",
      "iterations: 3107 | train_loss: 0.03710492 | validation_loss: 0.047708925 | Roc Score: 0.970066 | Time elapsed: 3:21:51.939295\n",
      "iterations: 3108 | train_loss: 0.062079735 | validation_loss: 0.047686916 | Roc Score: 0.9700687 | Time elapsed: 3:21:55.817041\n",
      "iterations: 3109 | train_loss: 0.050185107 | validation_loss: 0.0476007 | Roc Score: 0.97007203 | Time elapsed: 3:21:59.694166\n",
      "iterations: 3110 | train_loss: 0.046079364 | validation_loss: 0.04777609 | Roc Score: 0.9700755 | Time elapsed: 3:22:03.583197\n",
      "iterations: 3111 | train_loss: 0.039295826 | validation_loss: 0.047850933 | Roc Score: 0.97007906 | Time elapsed: 3:22:07.497278\n",
      "iterations: 3112 | train_loss: 0.042209487 | validation_loss: 0.047675375 | Roc Score: 0.97008294 | Time elapsed: 3:22:11.387506\n",
      "iterations: 3113 | train_loss: 0.050196845 | validation_loss: 0.047406837 | Roc Score: 0.9700865 | Time elapsed: 3:22:15.275327\n",
      "iterations: 3114 | train_loss: 0.047030438 | validation_loss: 0.047244005 | Roc Score: 0.9700897 | Time elapsed: 3:22:19.167109\n",
      "iterations: 3115 | train_loss: 0.042602763 | validation_loss: 0.04716451 | Roc Score: 0.970093 | Time elapsed: 3:22:23.003916\n",
      "iterations: 3116 | train_loss: 0.049265143 | validation_loss: 0.04704056 | Roc Score: 0.97009623 | Time elapsed: 3:22:26.924058\n",
      "iterations: 3117 | train_loss: 0.040119372 | validation_loss: 0.047172993 | Roc Score: 0.9700995 | Time elapsed: 3:22:30.799150\n",
      "iterations: 3118 | train_loss: 0.051966645 | validation_loss: 0.04728784 | Roc Score: 0.9701026 | Time elapsed: 3:22:34.720357\n",
      "iterations: 3119 | train_loss: 0.043343544 | validation_loss: 0.0474565 | Roc Score: 0.97010577 | Time elapsed: 3:22:38.608448\n"
     ]
    },
    {
     "name": "stdout",
     "output_type": "stream",
     "text": [
      "iterations: 3120 | train_loss: 0.043258395 | validation_loss: 0.047420245 | Roc Score: 0.9701085 | Time elapsed: 3:22:42.508512\n",
      "iterations: 3121 | train_loss: 0.048445396 | validation_loss: 0.047291905 | Roc Score: 0.9701118 | Time elapsed: 3:22:46.396971\n",
      "iterations: 3122 | train_loss: 0.036824495 | validation_loss: 0.047252435 | Roc Score: 0.970115 | Time elapsed: 3:22:50.258812\n",
      "iterations: 3123 | train_loss: 0.048551884 | validation_loss: 0.047286846 | Roc Score: 0.97011817 | Time elapsed: 3:22:54.143752\n",
      "iterations: 3124 | train_loss: 0.052678265 | validation_loss: 0.047231022 | Roc Score: 0.9701219 | Time elapsed: 3:22:58.017133\n",
      "iterations: 3125 | train_loss: 0.048834212 | validation_loss: 0.0474869 | Roc Score: 0.97012585 | Time elapsed: 3:23:01.769077\n",
      "iterations: 3126 | train_loss: 0.05230156 | validation_loss: 0.047910504 | Roc Score: 0.9701299 | Time elapsed: 3:23:05.603464\n",
      "iterations: 3127 | train_loss: 0.06034715 | validation_loss: 0.04802025 | Roc Score: 0.9701339 | Time elapsed: 3:23:09.457824\n",
      "iterations: 3128 | train_loss: 0.036414 | validation_loss: 0.04761856 | Roc Score: 0.9701377 | Time elapsed: 3:23:13.344409\n",
      "iterations: 3129 | train_loss: 0.024509454 | validation_loss: 0.047168545 | Roc Score: 0.97014105 | Time elapsed: 3:23:17.242427\n",
      "iterations: 3130 | train_loss: 0.04563373 | validation_loss: 0.047371056 | Roc Score: 0.9701438 | Time elapsed: 3:23:21.081484\n",
      "iterations: 3131 | train_loss: 0.04952652 | validation_loss: 0.04769242 | Roc Score: 0.9701465 | Time elapsed: 3:23:24.967267\n",
      "iterations: 3132 | train_loss: 0.04547596 | validation_loss: 0.04806708 | Roc Score: 0.9701484 | Time elapsed: 3:23:28.880795\n",
      "iterations: 3133 | train_loss: 0.041926656 | validation_loss: 0.048323873 | Roc Score: 0.9701506 | Time elapsed: 3:23:32.816497\n",
      "iterations: 3134 | train_loss: 0.05407788 | validation_loss: 0.04821191 | Roc Score: 0.97015256 | Time elapsed: 3:23:36.702005\n",
      "iterations: 3135 | train_loss: 0.027457071 | validation_loss: 0.048237056 | Roc Score: 0.97015476 | Time elapsed: 3:23:40.735041\n",
      "iterations: 3136 | train_loss: 0.055599034 | validation_loss: 0.047785692 | Roc Score: 0.97015786 | Time elapsed: 3:23:44.616768\n",
      "iterations: 3137 | train_loss: 0.037481975 | validation_loss: 0.047332186 | Roc Score: 0.9701613 | Time elapsed: 3:23:48.462850\n",
      "iterations: 3138 | train_loss: 0.049171276 | validation_loss: 0.04706581 | Roc Score: 0.97016525 | Time elapsed: 3:23:52.411931\n",
      "iterations: 3139 | train_loss: 0.040875435 | validation_loss: 0.04696681 | Roc Score: 0.97016954 | Time elapsed: 3:23:56.371863\n",
      "iterations: 3140 | train_loss: 0.029153233 | validation_loss: 0.046909627 | Roc Score: 0.9701738 | Time elapsed: 3:24:00.315228\n",
      "iterations: 3141 | train_loss: 0.053056728 | validation_loss: 0.04709018 | Roc Score: 0.97017807 | Time elapsed: 3:24:04.228220\n",
      "iterations: 3142 | train_loss: 0.046589546 | validation_loss: 0.047204867 | Roc Score: 0.9701826 | Time elapsed: 3:24:08.168233\n",
      "iterations: 3143 | train_loss: 0.036513776 | validation_loss: 0.047317863 | Roc Score: 0.970187 | Time elapsed: 3:24:12.053239\n",
      "iterations: 3144 | train_loss: 0.05419653 | validation_loss: 0.047205027 | Roc Score: 0.97019136 | Time elapsed: 3:24:15.985682\n",
      "iterations: 3145 | train_loss: 0.057486013 | validation_loss: 0.04677638 | Roc Score: 0.9701959 | Time elapsed: 3:24:19.921883\n",
      "iterations: 3146 | train_loss: 0.038365345 | validation_loss: 0.04638608 | Roc Score: 0.97020006 | Time elapsed: 3:24:23.877223\n",
      "iterations: 3147 | train_loss: 0.031551432 | validation_loss: 0.04630342 | Roc Score: 0.9702043 | Time elapsed: 3:24:27.792064\n",
      "iterations: 3148 | train_loss: 0.0608214 | validation_loss: 0.046610046 | Roc Score: 0.9702082 | Time elapsed: 3:24:31.709639\n",
      "iterations: 3149 | train_loss: 0.020677693 | validation_loss: 0.04754096 | Roc Score: 0.97021115 | Time elapsed: 3:24:35.705544\n",
      "iterations: 3150 | train_loss: 0.033292305 | validation_loss: 0.048191648 | Roc Score: 0.9702131 | Time elapsed: 3:24:39.722398\n",
      "iterations: 3151 | train_loss: 0.05478444 | validation_loss: 0.048287828 | Roc Score: 0.9702153 | Time elapsed: 3:24:43.617139\n",
      "iterations: 3152 | train_loss: 0.038705684 | validation_loss: 0.047961645 | Roc Score: 0.97021776 | Time elapsed: 3:24:47.600093\n",
      "iterations: 3153 | train_loss: 0.059550304 | validation_loss: 0.047429495 | Roc Score: 0.9702209 | Time elapsed: 3:24:51.508413\n",
      "iterations: 3154 | train_loss: 0.05345751 | validation_loss: 0.046614103 | Roc Score: 0.9702248 | Time elapsed: 3:24:55.255699\n",
      "iterations: 3155 | train_loss: 0.03505577 | validation_loss: 0.046361014 | Roc Score: 0.970229 | Time elapsed: 3:24:59.190072\n",
      "iterations: 3156 | train_loss: 0.06458535 | validation_loss: 0.04653039 | Roc Score: 0.9702335 | Time elapsed: 3:25:03.054075\n",
      "iterations: 3157 | train_loss: 0.04321695 | validation_loss: 0.046984673 | Roc Score: 0.97023815 | Time elapsed: 3:25:06.979476\n",
      "iterations: 3158 | train_loss: 0.046986967 | validation_loss: 0.04679306 | Roc Score: 0.9702427 | Time elapsed: 3:25:10.939718\n",
      "iterations: 3159 | train_loss: 0.04815574 | validation_loss: 0.04671915 | Roc Score: 0.97024745 | Time elapsed: 3:25:14.854462\n",
      "iterations: 3160 | train_loss: 0.040078375 | validation_loss: 0.04662275 | Roc Score: 0.9702519 | Time elapsed: 3:25:18.775063\n",
      "iterations: 3161 | train_loss: 0.046806034 | validation_loss: 0.04663155 | Roc Score: 0.97025603 | Time elapsed: 3:25:22.779640\n",
      "iterations: 3162 | train_loss: 0.049366493 | validation_loss: 0.046925485 | Roc Score: 0.9702601 | Time elapsed: 3:25:26.781543\n",
      "iterations: 3163 | train_loss: 0.04112741 | validation_loss: 0.04735152 | Roc Score: 0.9702635 | Time elapsed: 3:25:30.691567\n",
      "iterations: 3164 | train_loss: 0.038519558 | validation_loss: 0.047473267 | Roc Score: 0.97026706 | Time elapsed: 3:25:34.654682\n",
      "iterations: 3165 | train_loss: 0.062147498 | validation_loss: 0.047286127 | Roc Score: 0.9702705 | Time elapsed: 3:25:38.577945\n",
      "iterations: 3166 | train_loss: 0.046876863 | validation_loss: 0.047359362 | Roc Score: 0.97027445 | Time elapsed: 3:25:42.517657\n",
      "iterations: 3167 | train_loss: 0.032474056 | validation_loss: 0.04749828 | Roc Score: 0.9702786 | Time elapsed: 3:25:46.435906\n",
      "iterations: 3168 | train_loss: 0.041650098 | validation_loss: 0.04760082 | Roc Score: 0.97028255 | Time elapsed: 3:25:50.329342\n",
      "iterations: 3169 | train_loss: 0.052588902 | validation_loss: 0.047727317 | Roc Score: 0.9702867 | Time elapsed: 3:25:54.280143\n",
      "iterations: 3170 | train_loss: 0.058651112 | validation_loss: 0.047749426 | Roc Score: 0.9702907 | Time elapsed: 3:25:58.215240\n",
      "iterations: 3171 | train_loss: 0.031535123 | validation_loss: 0.04772531 | Roc Score: 0.9702946 | Time elapsed: 3:26:02.140190\n",
      "iterations: 3172 | train_loss: 0.06126481 | validation_loss: 0.047808215 | Roc Score: 0.97029847 | Time elapsed: 3:26:06.000429\n",
      "iterations: 3173 | train_loss: 0.054741286 | validation_loss: 0.048013225 | Roc Score: 0.9703023 | Time elapsed: 3:26:09.897899\n",
      "iterations: 3174 | train_loss: 0.05324122 | validation_loss: 0.048285898 | Roc Score: 0.9703062 | Time elapsed: 3:26:13.792928\n",
      "iterations: 3175 | train_loss: 0.035404347 | validation_loss: 0.048157226 | Roc Score: 0.9703103 | Time elapsed: 3:26:17.724587\n",
      "iterations: 3176 | train_loss: 0.055207595 | validation_loss: 0.0478639 | Roc Score: 0.970314 | Time elapsed: 3:26:21.728703\n",
      "iterations: 3177 | train_loss: 0.07568848 | validation_loss: 0.047850102 | Roc Score: 0.9703174 | Time elapsed: 3:26:25.691066\n",
      "iterations: 3178 | train_loss: 0.03428373 | validation_loss: 0.047727745 | Roc Score: 0.970321 | Time elapsed: 3:26:29.588170\n",
      "iterations: 3179 | train_loss: 0.051131878 | validation_loss: 0.04763935 | Roc Score: 0.9703244 | Time elapsed: 3:26:33.488533\n",
      "iterations: 3180 | train_loss: 0.051958956 | validation_loss: 0.0476441 | Roc Score: 0.97032773 | Time elapsed: 3:26:37.351600\n",
      "iterations: 3181 | train_loss: 0.043006863 | validation_loss: 0.047632046 | Roc Score: 0.97033143 | Time elapsed: 3:26:41.256003\n",
      "iterations: 3182 | train_loss: 0.061927985 | validation_loss: 0.047478765 | Roc Score: 0.9703349 | Time elapsed: 3:26:45.134411\n",
      "iterations: 3183 | train_loss: 0.046150424 | validation_loss: 0.047365807 | Roc Score: 0.97033834 | Time elapsed: 3:26:49.003103\n",
      "iterations: 3184 | train_loss: 0.048534486 | validation_loss: 0.04744518 | Roc Score: 0.9703416 | Time elapsed: 3:26:52.924682\n",
      "iterations: 3185 | train_loss: 0.03029233 | validation_loss: 0.04776141 | Roc Score: 0.97034436 | Time elapsed: 3:26:56.897034\n",
      "iterations: 3186 | train_loss: 0.04353715 | validation_loss: 0.048167408 | Roc Score: 0.97034687 | Time elapsed: 3:27:00.827946\n",
      "iterations: 3187 | train_loss: 0.051793728 | validation_loss: 0.04814232 | Roc Score: 0.9703493 | Time elapsed: 3:27:04.781806\n",
      "iterations: 3188 | train_loss: 0.06765993 | validation_loss: 0.04805021 | Roc Score: 0.97035223 | Time elapsed: 3:27:08.695271\n",
      "iterations: 3189 | train_loss: 0.047075912 | validation_loss: 0.047970746 | Roc Score: 0.9703555 | Time elapsed: 3:27:12.569792\n",
      "iterations: 3190 | train_loss: 0.04179455 | validation_loss: 0.048149813 | Roc Score: 0.97035885 | Time elapsed: 3:27:16.475854\n",
      "iterations: 3191 | train_loss: 0.06806216 | validation_loss: 0.04842555 | Roc Score: 0.970362 | Time elapsed: 3:27:20.375016\n",
      "iterations: 3192 | train_loss: 0.03794501 | validation_loss: 0.048766002 | Roc Score: 0.9703654 | Time elapsed: 3:27:24.311157\n",
      "iterations: 3193 | train_loss: 0.046794802 | validation_loss: 0.0489109 | Roc Score: 0.97036856 | Time elapsed: 3:27:28.192991\n",
      "iterations: 3194 | train_loss: 0.0489794 | validation_loss: 0.048757028 | Roc Score: 0.970372 | Time elapsed: 3:27:32.091684\n",
      "iterations: 3195 | train_loss: 0.05420961 | validation_loss: 0.048496943 | Roc Score: 0.9703754 | Time elapsed: 3:27:36.041725\n",
      "iterations: 3196 | train_loss: 0.05358457 | validation_loss: 0.048444632 | Roc Score: 0.9703787 | Time elapsed: 3:27:39.966715\n",
      "iterations: 3197 | train_loss: 0.040973995 | validation_loss: 0.048335362 | Roc Score: 0.9703821 | Time elapsed: 3:27:43.828454\n"
     ]
    },
    {
     "name": "stdout",
     "output_type": "stream",
     "text": [
      "iterations: 3198 | train_loss: 0.04413871 | validation_loss: 0.048358727 | Roc Score: 0.97038454 | Time elapsed: 3:27:47.746272\n",
      "iterations: 3199 | train_loss: 0.039540194 | validation_loss: 0.0487949 | Roc Score: 0.9703866 | Time elapsed: 3:27:51.653715\n",
      "iterations: 3200 | train_loss: 0.034251466 | validation_loss: 0.049572352 | Roc Score: 0.9703877 | Time elapsed: 3:27:55.485322\n",
      "iterations: 3201 | train_loss: 0.048481613 | validation_loss: 0.049151048 | Roc Score: 0.9703893 | Time elapsed: 3:27:59.418721\n",
      "iterations: 3202 | train_loss: 0.035755172 | validation_loss: 0.04909928 | Roc Score: 0.9703905 | Time elapsed: 3:28:03.350077\n",
      "iterations: 3203 | train_loss: 0.04087392 | validation_loss: 0.04900248 | Roc Score: 0.9703919 | Time elapsed: 3:28:07.276074\n",
      "iterations: 3204 | train_loss: 0.037587453 | validation_loss: 0.049066942 | Roc Score: 0.9703935 | Time elapsed: 3:28:11.204216\n",
      "iterations: 3205 | train_loss: 0.051733594 | validation_loss: 0.04868027 | Roc Score: 0.9703953 | Time elapsed: 3:28:15.082117\n",
      "iterations: 3206 | train_loss: 0.03781289 | validation_loss: 0.048384633 | Roc Score: 0.9703974 | Time elapsed: 3:28:19.007241\n",
      "iterations: 3207 | train_loss: 0.034766663 | validation_loss: 0.04815467 | Roc Score: 0.9703999 | Time elapsed: 3:28:22.920299\n",
      "iterations: 3208 | train_loss: 0.06376911 | validation_loss: 0.048084937 | Roc Score: 0.97040313 | Time elapsed: 3:28:26.774727\n",
      "iterations: 3209 | train_loss: 0.036009274 | validation_loss: 0.048559092 | Roc Score: 0.9704062 | Time elapsed: 3:28:30.649553\n",
      "iterations: 3210 | train_loss: 0.03311399 | validation_loss: 0.049094126 | Roc Score: 0.9704093 | Time elapsed: 3:28:34.522234\n",
      "iterations: 3211 | train_loss: 0.044050097 | validation_loss: 0.04918572 | Roc Score: 0.9704124 | Time elapsed: 3:28:38.431600\n",
      "iterations: 3212 | train_loss: 0.054779574 | validation_loss: 0.049066205 | Roc Score: 0.97041535 | Time elapsed: 3:28:42.339072\n",
      "iterations: 3213 | train_loss: 0.04385761 | validation_loss: 0.04945057 | Roc Score: 0.97041714 | Time elapsed: 3:28:46.234205\n",
      "iterations: 3214 | train_loss: 0.03377348 | validation_loss: 0.050563093 | Roc Score: 0.9704183 | Time elapsed: 3:28:50.108388\n",
      "iterations: 3215 | train_loss: 0.06298375 | validation_loss: 0.050674193 | Roc Score: 0.97041905 | Time elapsed: 3:28:54.003332\n",
      "iterations: 3216 | train_loss: 0.060838107 | validation_loss: 0.04991368 | Roc Score: 0.9704201 | Time elapsed: 3:28:57.790972\n",
      "iterations: 3217 | train_loss: 0.028779713 | validation_loss: 0.04911457 | Roc Score: 0.9704215 | Time elapsed: 3:29:01.704192\n",
      "iterations: 3218 | train_loss: 0.043016426 | validation_loss: 0.048062064 | Roc Score: 0.9704234 | Time elapsed: 3:29:05.586994\n",
      "iterations: 3219 | train_loss: 0.036447383 | validation_loss: 0.04771782 | Roc Score: 0.97042596 | Time elapsed: 3:29:09.505631\n",
      "iterations: 3220 | train_loss: 0.049254797 | validation_loss: 0.04784283 | Roc Score: 0.9704292 | Time elapsed: 3:29:13.387000\n",
      "iterations: 3221 | train_loss: 0.040656686 | validation_loss: 0.04814857 | Roc Score: 0.9704321 | Time elapsed: 3:29:17.323315\n",
      "iterations: 3222 | train_loss: 0.025757333 | validation_loss: 0.048184216 | Roc Score: 0.9704352 | Time elapsed: 3:29:21.205684\n",
      "iterations: 3223 | train_loss: 0.040953215 | validation_loss: 0.048198555 | Roc Score: 0.9704378 | Time elapsed: 3:29:25.152762\n",
      "iterations: 3224 | train_loss: 0.042794086 | validation_loss: 0.048364375 | Roc Score: 0.97044003 | Time elapsed: 3:29:29.064807\n",
      "iterations: 3225 | train_loss: 0.032560837 | validation_loss: 0.048767146 | Roc Score: 0.9704422 | Time elapsed: 3:29:33.009525\n",
      "iterations: 3226 | train_loss: 0.036206063 | validation_loss: 0.04913982 | Roc Score: 0.97044396 | Time elapsed: 3:29:36.970772\n",
      "iterations: 3227 | train_loss: 0.028777864 | validation_loss: 0.049565736 | Roc Score: 0.9704454 | Time elapsed: 3:29:40.836742\n",
      "iterations: 3228 | train_loss: 0.04541443 | validation_loss: 0.049834713 | Roc Score: 0.9704465 | Time elapsed: 3:29:44.759872\n",
      "iterations: 3229 | train_loss: 0.040826675 | validation_loss: 0.049934994 | Roc Score: 0.97044706 | Time elapsed: 3:29:48.684368\n",
      "iterations: 3230 | train_loss: 0.04249311 | validation_loss: 0.049474683 | Roc Score: 0.9704484 | Time elapsed: 3:29:52.603502\n",
      "iterations: 3231 | train_loss: 0.025730759 | validation_loss: 0.049017012 | Roc Score: 0.9704501 | Time elapsed: 3:29:56.547418\n",
      "iterations: 3232 | train_loss: 0.04978725 | validation_loss: 0.048738267 | Roc Score: 0.97045225 | Time elapsed: 3:30:00.454661\n",
      "iterations: 3233 | train_loss: 0.059015222 | validation_loss: 0.048516583 | Roc Score: 0.97045463 | Time elapsed: 3:30:04.362506\n",
      "iterations: 3234 | train_loss: 0.044341817 | validation_loss: 0.048426796 | Roc Score: 0.97045743 | Time elapsed: 3:30:08.222623\n",
      "iterations: 3235 | train_loss: 0.03696709 | validation_loss: 0.04861576 | Roc Score: 0.9704604 | Time elapsed: 3:30:12.020553\n",
      "iterations: 3236 | train_loss: 0.03627558 | validation_loss: 0.048705276 | Roc Score: 0.9704634 | Time elapsed: 3:30:15.901271\n",
      "iterations: 3237 | train_loss: 0.036363088 | validation_loss: 0.048621073 | Roc Score: 0.9704663 | Time elapsed: 3:30:19.781805\n",
      "iterations: 3238 | train_loss: 0.050248858 | validation_loss: 0.048530754 | Roc Score: 0.9704694 | Time elapsed: 3:30:23.702665\n",
      "iterations: 3239 | train_loss: 0.049669188 | validation_loss: 0.04870507 | Roc Score: 0.97047246 | Time elapsed: 3:30:27.596693\n",
      "iterations: 3240 | train_loss: 0.032339018 | validation_loss: 0.048411533 | Roc Score: 0.9704754 | Time elapsed: 3:30:31.505210\n",
      "iterations: 3241 | train_loss: 0.051663563 | validation_loss: 0.048369415 | Roc Score: 0.97047853 | Time elapsed: 3:30:35.396136\n",
      "iterations: 3242 | train_loss: 0.04056908 | validation_loss: 0.04808873 | Roc Score: 0.9704814 | Time elapsed: 3:30:39.305771\n",
      "iterations: 3243 | train_loss: 0.0444054 | validation_loss: 0.047960162 | Roc Score: 0.9704843 | Time elapsed: 3:30:43.235053\n",
      "iterations: 3244 | train_loss: 0.044347197 | validation_loss: 0.047920965 | Roc Score: 0.97048676 | Time elapsed: 3:30:47.147070\n",
      "iterations: 3245 | train_loss: 0.028429355 | validation_loss: 0.048044655 | Roc Score: 0.9704885 | Time elapsed: 3:30:51.057831\n",
      "iterations: 3246 | train_loss: 0.035503082 | validation_loss: 0.048459478 | Roc Score: 0.9704902 | Time elapsed: 3:30:54.900318\n",
      "iterations: 3247 | train_loss: 0.047377504 | validation_loss: 0.048826143 | Roc Score: 0.9704917 | Time elapsed: 3:30:58.547849\n",
      "iterations: 3248 | train_loss: 0.04620584 | validation_loss: 0.04897244 | Roc Score: 0.9704931 | Time elapsed: 3:31:02.429975\n",
      "iterations: 3249 | train_loss: 0.028186375 | validation_loss: 0.04889711 | Roc Score: 0.97049403 | Time elapsed: 3:31:06.320055\n",
      "iterations: 3250 | train_loss: 0.037472453 | validation_loss: 0.048901487 | Roc Score: 0.9704953 | Time elapsed: 3:31:10.148671\n",
      "iterations: 3251 | train_loss: 0.030682405 | validation_loss: 0.048805322 | Roc Score: 0.9704964 | Time elapsed: 3:31:14.074410\n",
      "iterations: 3252 | train_loss: 0.05177614 | validation_loss: 0.048652466 | Roc Score: 0.9704978 | Time elapsed: 3:31:18.011952\n",
      "iterations: 3253 | train_loss: 0.054466877 | validation_loss: 0.04848961 | Roc Score: 0.97049946 | Time elapsed: 3:31:21.923646\n",
      "iterations: 3254 | train_loss: 0.04986322 | validation_loss: 0.048621353 | Roc Score: 0.9705015 | Time elapsed: 3:31:25.852660\n",
      "iterations: 3255 | train_loss: 0.042772967 | validation_loss: 0.04883668 | Roc Score: 0.9705033 | Time elapsed: 3:31:29.786187\n",
      "iterations: 3256 | train_loss: 0.059300054 | validation_loss: 0.04893588 | Roc Score: 0.9705056 | Time elapsed: 3:31:33.683682\n",
      "iterations: 3257 | train_loss: 0.037224114 | validation_loss: 0.04915743 | Roc Score: 0.9705083 | Time elapsed: 3:31:37.564818\n",
      "iterations: 3258 | train_loss: 0.024850477 | validation_loss: 0.04885712 | Roc Score: 0.9705108 | Time elapsed: 3:31:41.482937\n",
      "iterations: 3259 | train_loss: 0.03580359 | validation_loss: 0.048667148 | Roc Score: 0.97051316 | Time elapsed: 3:31:45.359101\n",
      "iterations: 3260 | train_loss: 0.034311403 | validation_loss: 0.04851556 | Roc Score: 0.97051543 | Time elapsed: 3:31:49.253759\n",
      "iterations: 3261 | train_loss: 0.034429178 | validation_loss: 0.048526242 | Roc Score: 0.970518 | Time elapsed: 3:31:53.206096\n",
      "iterations: 3262 | train_loss: 0.04777289 | validation_loss: 0.0485998 | Roc Score: 0.97051996 | Time elapsed: 3:31:57.125951\n",
      "iterations: 3263 | train_loss: 0.034627456 | validation_loss: 0.04877692 | Roc Score: 0.97052145 | Time elapsed: 3:32:01.001587\n",
      "iterations: 3264 | train_loss: 0.03854887 | validation_loss: 0.048769988 | Roc Score: 0.97052306 | Time elapsed: 3:32:04.851783\n",
      "iterations: 3265 | train_loss: 0.04386526 | validation_loss: 0.048523556 | Roc Score: 0.970525 | Time elapsed: 3:32:08.770993\n",
      "iterations: 3266 | train_loss: 0.062241465 | validation_loss: 0.048177235 | Roc Score: 0.97052735 | Time elapsed: 3:32:12.720341\n",
      "iterations: 3267 | train_loss: 0.041866027 | validation_loss: 0.04811708 | Roc Score: 0.9705299 | Time elapsed: 3:32:16.604159\n",
      "iterations: 3268 | train_loss: 0.03719746 | validation_loss: 0.048327543 | Roc Score: 0.9705329 | Time elapsed: 3:32:20.378870\n",
      "iterations: 3269 | train_loss: 0.018636938 | validation_loss: 0.04857372 | Roc Score: 0.97053576 | Time elapsed: 3:32:24.143094\n",
      "iterations: 3270 | train_loss: 0.0460139 | validation_loss: 0.048729368 | Roc Score: 0.97053874 | Time elapsed: 3:32:27.998832\n",
      "iterations: 3271 | train_loss: 0.030383613 | validation_loss: 0.048425086 | Roc Score: 0.9705416 | Time elapsed: 3:32:31.759609\n",
      "iterations: 3272 | train_loss: 0.06503096 | validation_loss: 0.048286684 | Roc Score: 0.9705445 | Time elapsed: 3:32:35.698303\n",
      "iterations: 3273 | train_loss: 0.05963619 | validation_loss: 0.048091084 | Roc Score: 0.9705477 | Time elapsed: 3:32:39.594490\n",
      "iterations: 3274 | train_loss: 0.02286282 | validation_loss: 0.047781643 | Roc Score: 0.97055054 | Time elapsed: 3:32:43.383365\n",
      "iterations: 3275 | train_loss: 0.04965122 | validation_loss: 0.047698185 | Roc Score: 0.9705531 | Time elapsed: 3:32:47.237387\n"
     ]
    },
    {
     "name": "stdout",
     "output_type": "stream",
     "text": [
      "iterations: 3276 | train_loss: 0.044446025 | validation_loss: 0.047711313 | Roc Score: 0.9705556 | Time elapsed: 3:32:51.119481\n",
      "iterations: 3277 | train_loss: 0.033324134 | validation_loss: 0.047768995 | Roc Score: 0.97055775 | Time elapsed: 3:32:55.039318\n",
      "iterations: 3278 | train_loss: 0.042158693 | validation_loss: 0.047705952 | Roc Score: 0.9705601 | Time elapsed: 3:32:58.942720\n",
      "iterations: 3279 | train_loss: 0.04711269 | validation_loss: 0.047653414 | Roc Score: 0.9705625 | Time elapsed: 3:33:02.826240\n",
      "iterations: 3280 | train_loss: 0.054601427 | validation_loss: 0.04767904 | Roc Score: 0.97056496 | Time elapsed: 3:33:06.676439\n",
      "iterations: 3281 | train_loss: 0.033059355 | validation_loss: 0.047738124 | Roc Score: 0.9705674 | Time elapsed: 3:33:10.629843\n",
      "iterations: 3282 | train_loss: 0.044288147 | validation_loss: 0.047844805 | Roc Score: 0.9705697 | Time elapsed: 3:33:14.573560\n",
      "iterations: 3283 | train_loss: 0.021507308 | validation_loss: 0.048243977 | Roc Score: 0.97057116 | Time elapsed: 3:33:18.525218\n",
      "iterations: 3284 | train_loss: 0.036664415 | validation_loss: 0.048360027 | Roc Score: 0.9705729 | Time elapsed: 3:33:22.396770\n",
      "iterations: 3285 | train_loss: 0.048715916 | validation_loss: 0.048107166 | Roc Score: 0.9705743 | Time elapsed: 3:33:26.323486\n",
      "iterations: 3286 | train_loss: 0.049847253 | validation_loss: 0.047889605 | Roc Score: 0.97057617 | Time elapsed: 3:33:30.260862\n",
      "iterations: 3287 | train_loss: 0.034410454 | validation_loss: 0.048159674 | Roc Score: 0.9705783 | Time elapsed: 3:33:34.166306\n",
      "iterations: 3288 | train_loss: 0.041420206 | validation_loss: 0.04870019 | Roc Score: 0.9705804 | Time elapsed: 3:33:38.070486\n",
      "iterations: 3289 | train_loss: 0.03670228 | validation_loss: 0.04927481 | Roc Score: 0.97058207 | Time elapsed: 3:33:41.999152\n",
      "iterations: 3290 | train_loss: 0.042832088 | validation_loss: 0.049807012 | Roc Score: 0.97058356 | Time elapsed: 3:33:45.846722\n",
      "iterations: 3291 | train_loss: 0.061473116 | validation_loss: 0.050263062 | Roc Score: 0.9705857 | Time elapsed: 3:33:49.725683\n",
      "iterations: 3292 | train_loss: 0.029302021 | validation_loss: 0.050722327 | Roc Score: 0.97058773 | Time elapsed: 3:33:53.691421\n",
      "iterations: 3293 | train_loss: 0.04650616 | validation_loss: 0.050690845 | Roc Score: 0.97058976 | Time elapsed: 3:33:57.601897\n",
      "iterations: 3294 | train_loss: 0.04878863 | validation_loss: 0.05056441 | Roc Score: 0.9705917 | Time elapsed: 3:34:01.502417\n",
      "iterations: 3295 | train_loss: 0.037236225 | validation_loss: 0.05055984 | Roc Score: 0.9705939 | Time elapsed: 3:34:05.399314\n",
      "iterations: 3296 | train_loss: 0.046825703 | validation_loss: 0.050686274 | Roc Score: 0.9705959 | Time elapsed: 3:34:09.236205\n",
      "iterations: 3297 | train_loss: 0.058923345 | validation_loss: 0.050567 | Roc Score: 0.97059774 | Time elapsed: 3:34:13.138756\n",
      "iterations: 3298 | train_loss: 0.054209907 | validation_loss: 0.050146088 | Roc Score: 0.9706 | Time elapsed: 3:34:17.078071\n",
      "iterations: 3299 | train_loss: 0.04255017 | validation_loss: 0.049859084 | Roc Score: 0.9706024 | Time elapsed: 3:34:20.931719\n",
      "iterations: 3300 | train_loss: 0.049023658 | validation_loss: 0.049413808 | Roc Score: 0.9706048 | Time elapsed: 3:34:24.827190\n",
      "iterations: 3301 | train_loss: 0.034680326 | validation_loss: 0.048878446 | Roc Score: 0.9706072 | Time elapsed: 3:34:28.736157\n",
      "iterations: 3302 | train_loss: 0.04113736 | validation_loss: 0.04843805 | Roc Score: 0.97060984 | Time elapsed: 3:34:32.353326\n",
      "iterations: 3303 | train_loss: 0.039385546 | validation_loss: 0.0480429 | Roc Score: 0.97061235 | Time elapsed: 3:34:36.209663\n",
      "iterations: 3304 | train_loss: 0.042269703 | validation_loss: 0.048278302 | Roc Score: 0.9706143 | Time elapsed: 3:34:40.158504\n",
      "iterations: 3305 | train_loss: 0.027080571 | validation_loss: 0.049156923 | Roc Score: 0.9706159 | Time elapsed: 3:34:44.098799\n",
      "iterations: 3306 | train_loss: 0.03768744 | validation_loss: 0.049790837 | Roc Score: 0.9706174 | Time elapsed: 3:34:47.970821\n",
      "iterations: 3307 | train_loss: 0.04283041 | validation_loss: 0.04985499 | Roc Score: 0.97061867 | Time elapsed: 3:34:52.004777\n",
      "iterations: 3308 | train_loss: 0.04201219 | validation_loss: 0.04961423 | Roc Score: 0.9706202 | Time elapsed: 3:34:55.894584\n",
      "iterations: 3309 | train_loss: 0.061423633 | validation_loss: 0.048752908 | Roc Score: 0.9706225 | Time elapsed: 3:34:59.800055\n",
      "iterations: 3310 | train_loss: 0.03376702 | validation_loss: 0.04820701 | Roc Score: 0.970625 | Time elapsed: 3:35:03.737797\n",
      "iterations: 3311 | train_loss: 0.039889 | validation_loss: 0.04779892 | Roc Score: 0.9706282 | Time elapsed: 3:35:07.659665\n",
      "iterations: 3312 | train_loss: 0.07578701 | validation_loss: 0.04802666 | Roc Score: 0.9706321 | Time elapsed: 3:35:11.550972\n",
      "iterations: 3313 | train_loss: 0.04144127 | validation_loss: 0.048448432 | Roc Score: 0.9706356 | Time elapsed: 3:35:15.512408\n",
      "iterations: 3314 | train_loss: 0.05327516 | validation_loss: 0.048424907 | Roc Score: 0.9706393 | Time elapsed: 3:35:19.439137\n",
      "iterations: 3315 | train_loss: 0.033912975 | validation_loss: 0.04821219 | Roc Score: 0.97064304 | Time elapsed: 3:35:23.343374\n",
      "iterations: 3316 | train_loss: 0.040306307 | validation_loss: 0.04784972 | Roc Score: 0.9706466 | Time elapsed: 3:35:27.224642\n",
      "iterations: 3317 | train_loss: 0.03500102 | validation_loss: 0.04765807 | Roc Score: 0.97064996 | Time elapsed: 3:35:31.160641\n",
      "iterations: 3318 | train_loss: 0.038619567 | validation_loss: 0.047929242 | Roc Score: 0.97065306 | Time elapsed: 3:35:35.061898\n",
      "iterations: 3319 | train_loss: 0.049543757 | validation_loss: 0.048507422 | Roc Score: 0.9706557 | Time elapsed: 3:35:38.985137\n",
      "iterations: 3320 | train_loss: 0.044512272 | validation_loss: 0.049066477 | Roc Score: 0.970658 | Time elapsed: 3:35:42.891617\n",
      "iterations: 3321 | train_loss: 0.027958406 | validation_loss: 0.049730994 | Roc Score: 0.9706598 | Time elapsed: 3:35:46.820935\n",
      "iterations: 3322 | train_loss: 0.046468817 | validation_loss: 0.050381668 | Roc Score: 0.97066116 | Time elapsed: 3:35:50.701768\n",
      "iterations: 3323 | train_loss: 0.03859662 | validation_loss: 0.050890878 | Roc Score: 0.9706619 | Time elapsed: 3:35:54.612725\n",
      "iterations: 3324 | train_loss: 0.049837474 | validation_loss: 0.051177654 | Roc Score: 0.97066253 | Time elapsed: 3:35:58.554382\n",
      "iterations: 3325 | train_loss: 0.050474443 | validation_loss: 0.05107485 | Roc Score: 0.9706638 | Time elapsed: 3:36:02.437910\n",
      "iterations: 3326 | train_loss: 0.055548247 | validation_loss: 0.051039442 | Roc Score: 0.9706654 | Time elapsed: 3:36:06.319648\n",
      "iterations: 3327 | train_loss: 0.04554279 | validation_loss: 0.05121683 | Roc Score: 0.9706672 | Time elapsed: 3:36:10.072309\n",
      "iterations: 3328 | train_loss: 0.03541607 | validation_loss: 0.050897017 | Roc Score: 0.97066927 | Time elapsed: 3:36:14.009765\n",
      "iterations: 3329 | train_loss: 0.041810665 | validation_loss: 0.05014297 | Roc Score: 0.970671 | Time elapsed: 3:36:17.947802\n",
      "iterations: 3330 | train_loss: 0.040519204 | validation_loss: 0.04976709 | Roc Score: 0.9706725 | Time elapsed: 3:36:21.818046\n",
      "iterations: 3331 | train_loss: 0.05254394 | validation_loss: 0.049697127 | Roc Score: 0.97067344 | Time elapsed: 3:36:25.681148\n",
      "iterations: 3332 | train_loss: 0.078744054 | validation_loss: 0.04923572 | Roc Score: 0.97067505 | Time elapsed: 3:36:29.545477\n",
      "iterations: 3333 | train_loss: 0.046610843 | validation_loss: 0.048869167 | Roc Score: 0.97067696 | Time elapsed: 3:36:33.461796\n",
      "iterations: 3334 | train_loss: 0.03711373 | validation_loss: 0.04862989 | Roc Score: 0.9706791 | Time elapsed: 3:36:37.329270\n",
      "iterations: 3335 | train_loss: 0.03646222 | validation_loss: 0.04852142 | Roc Score: 0.97068125 | Time elapsed: 3:36:41.265117\n",
      "iterations: 3336 | train_loss: 0.05630809 | validation_loss: 0.04840471 | Roc Score: 0.9706833 | Time elapsed: 3:36:45.177360\n",
      "iterations: 3337 | train_loss: 0.058801282 | validation_loss: 0.048569508 | Roc Score: 0.9706853 | Time elapsed: 3:36:49.105173\n",
      "iterations: 3338 | train_loss: 0.032335833 | validation_loss: 0.04863089 | Roc Score: 0.9706873 | Time elapsed: 3:36:53.040546\n",
      "iterations: 3339 | train_loss: 0.029322507 | validation_loss: 0.048876323 | Roc Score: 0.9706893 | Time elapsed: 3:36:56.969402\n",
      "iterations: 3340 | train_loss: 0.039664693 | validation_loss: 0.049230788 | Roc Score: 0.97069114 | Time elapsed: 3:37:00.807678\n",
      "iterations: 3341 | train_loss: 0.041361813 | validation_loss: 0.04924328 | Roc Score: 0.97069293 | Time elapsed: 3:37:04.700463\n",
      "iterations: 3342 | train_loss: 0.041755397 | validation_loss: 0.04867157 | Roc Score: 0.97069514 | Time elapsed: 3:37:08.610639\n",
      "iterations: 3343 | train_loss: 0.05376203 | validation_loss: 0.048318733 | Roc Score: 0.97069764 | Time elapsed: 3:37:12.512876\n",
      "iterations: 3344 | train_loss: 0.035830002 | validation_loss: 0.04832407 | Roc Score: 0.97070044 | Time elapsed: 3:37:16.478754\n",
      "iterations: 3345 | train_loss: 0.047307502 | validation_loss: 0.048341673 | Roc Score: 0.9707033 | Time elapsed: 3:37:20.386267\n",
      "iterations: 3346 | train_loss: 0.041404873 | validation_loss: 0.048449505 | Roc Score: 0.9707058 | Time elapsed: 3:37:24.301993\n",
      "iterations: 3347 | train_loss: 0.03322822 | validation_loss: 0.048624016 | Roc Score: 0.9707086 | Time elapsed: 3:37:28.239595\n",
      "iterations: 3348 | train_loss: 0.053006392 | validation_loss: 0.048937496 | Roc Score: 0.9707118 | Time elapsed: 3:37:32.142237\n",
      "iterations: 3349 | train_loss: 0.03911744 | validation_loss: 0.04937672 | Roc Score: 0.97071505 | Time elapsed: 3:37:36.028790\n",
      "iterations: 3350 | train_loss: 0.043375917 | validation_loss: 0.049303696 | Roc Score: 0.9707181 | Time elapsed: 3:37:39.922989\n",
      "iterations: 3351 | train_loss: 0.035312448 | validation_loss: 0.048866495 | Roc Score: 0.9707207 | Time elapsed: 3:37:43.798201\n",
      "iterations: 3352 | train_loss: 0.022041295 | validation_loss: 0.048859168 | Roc Score: 0.9707233 | Time elapsed: 3:37:47.690643\n",
      "iterations: 3353 | train_loss: 0.043641955 | validation_loss: 0.04944215 | Roc Score: 0.97072446 | Time elapsed: 3:37:51.597759\n"
     ]
    },
    {
     "name": "stdout",
     "output_type": "stream",
     "text": [
      "iterations: 3354 | train_loss: 0.04392532 | validation_loss: 0.051083766 | Roc Score: 0.97072446 | Time elapsed: 3:37:55.329230\n",
      "iterations: 3355 | train_loss: 0.051667634 | validation_loss: 0.052556563 | Roc Score: 0.97072315 | Time elapsed: 3:37:59.106228\n",
      "iterations: 3356 | train_loss: 0.05654935 | validation_loss: 0.052891538 | Roc Score: 0.9707214 | Time elapsed: 3:38:02.959164\n",
      "iterations: 3357 | train_loss: 0.049938597 | validation_loss: 0.05223937 | Roc Score: 0.9707204 | Time elapsed: 3:38:06.762953\n",
      "iterations: 3358 | train_loss: 0.031208808 | validation_loss: 0.05187676 | Roc Score: 0.9707192 | Time elapsed: 3:38:10.618690\n",
      "iterations: 3359 | train_loss: 0.047759164 | validation_loss: 0.05070653 | Roc Score: 0.9707193 | Time elapsed: 3:38:14.436381\n",
      "iterations: 3360 | train_loss: 0.07887652 | validation_loss: 0.048680328 | Roc Score: 0.9707215 | Time elapsed: 3:38:18.181683\n",
      "iterations: 3361 | train_loss: 0.037068475 | validation_loss: 0.048582498 | Roc Score: 0.97072446 | Time elapsed: 3:38:21.999213\n",
      "iterations: 3362 | train_loss: 0.052350845 | validation_loss: 0.049828246 | Roc Score: 0.9707276 | Time elapsed: 3:38:25.951985\n",
      "iterations: 3363 | train_loss: 0.025556197 | validation_loss: 0.050602153 | Roc Score: 0.97073066 | Time elapsed: 3:38:29.878634\n",
      "iterations: 3364 | train_loss: 0.04816445 | validation_loss: 0.05047856 | Roc Score: 0.9707337 | Time elapsed: 3:38:33.651617\n",
      "iterations: 3365 | train_loss: 0.06446776 | validation_loss: 0.04960399 | Roc Score: 0.9707371 | Time elapsed: 3:38:37.542422\n",
      "iterations: 3366 | train_loss: 0.03768344 | validation_loss: 0.048436306 | Roc Score: 0.97074 | Time elapsed: 3:38:41.404015\n",
      "iterations: 3367 | train_loss: 0.03865773 | validation_loss: 0.048234023 | Roc Score: 0.9707426 | Time elapsed: 3:38:45.261939\n",
      "iterations: 3368 | train_loss: 0.048529398 | validation_loss: 0.048835497 | Roc Score: 0.9707438 | Time elapsed: 3:38:49.129051\n",
      "iterations: 3369 | train_loss: 0.03480298 | validation_loss: 0.049677838 | Roc Score: 0.9707443 | Time elapsed: 3:38:53.026521\n",
      "iterations: 3370 | train_loss: 0.044973608 | validation_loss: 0.050528664 | Roc Score: 0.97074443 | Time elapsed: 3:38:56.948635\n",
      "iterations: 3371 | train_loss: 0.026056487 | validation_loss: 0.051296163 | Roc Score: 0.9707442 | Time elapsed: 3:39:00.731364\n",
      "iterations: 3372 | train_loss: 0.035510078 | validation_loss: 0.05194785 | Roc Score: 0.97074354 | Time elapsed: 3:39:04.508034\n",
      "iterations: 3373 | train_loss: 0.033838548 | validation_loss: 0.05184556 | Roc Score: 0.97074306 | Time elapsed: 3:39:08.306377\n",
      "iterations: 3374 | train_loss: 0.061253384 | validation_loss: 0.050940055 | Roc Score: 0.97074294 | Time elapsed: 3:39:12.081433\n",
      "iterations: 3375 | train_loss: 0.049554624 | validation_loss: 0.049347874 | Roc Score: 0.97074383 | Time elapsed: 3:39:15.645397\n",
      "iterations: 3376 | train_loss: 0.051761262 | validation_loss: 0.048532482 | Roc Score: 0.9707464 | Time elapsed: 3:39:19.526807\n",
      "iterations: 3377 | train_loss: 0.04060582 | validation_loss: 0.04861385 | Roc Score: 0.97074926 | Time elapsed: 3:39:23.424178\n",
      "iterations: 3378 | train_loss: 0.0492187 | validation_loss: 0.049108014 | Roc Score: 0.9707524 | Time elapsed: 3:39:27.286791\n",
      "iterations: 3379 | train_loss: 0.030670747 | validation_loss: 0.049263075 | Roc Score: 0.9707556 | Time elapsed: 3:39:31.211056\n",
      "iterations: 3380 | train_loss: 0.04788246 | validation_loss: 0.049354482 | Roc Score: 0.97075856 | Time elapsed: 3:39:35.115875\n",
      "iterations: 3381 | train_loss: 0.042347226 | validation_loss: 0.048831917 | Roc Score: 0.97076124 | Time elapsed: 3:39:39.060560\n",
      "iterations: 3382 | train_loss: 0.039504327 | validation_loss: 0.0483416 | Roc Score: 0.97076404 | Time elapsed: 3:39:42.945507\n",
      "iterations: 3383 | train_loss: 0.04051487 | validation_loss: 0.048290566 | Roc Score: 0.9707658 | Time elapsed: 3:39:46.899131\n",
      "iterations: 3384 | train_loss: 0.023745984 | validation_loss: 0.048742354 | Roc Score: 0.97076756 | Time elapsed: 3:39:50.823997\n",
      "iterations: 3385 | train_loss: 0.05246772 | validation_loss: 0.04894296 | Roc Score: 0.97076887 | Time elapsed: 3:39:54.732910\n",
      "iterations: 3386 | train_loss: 0.03819994 | validation_loss: 0.049703877 | Roc Score: 0.9707699 | Time elapsed: 3:39:58.630231\n",
      "iterations: 3387 | train_loss: 0.053098176 | validation_loss: 0.04941907 | Roc Score: 0.97077084 | Time elapsed: 3:40:02.562063\n",
      "iterations: 3388 | train_loss: 0.043041423 | validation_loss: 0.048857592 | Roc Score: 0.97077256 | Time elapsed: 3:40:06.427445\n",
      "iterations: 3389 | train_loss: 0.027184188 | validation_loss: 0.04836802 | Roc Score: 0.9707745 | Time elapsed: 3:40:10.285294\n",
      "iterations: 3390 | train_loss: 0.03971252 | validation_loss: 0.04784261 | Roc Score: 0.970777 | Time elapsed: 3:40:14.121193\n",
      "iterations: 3391 | train_loss: 0.05386473 | validation_loss: 0.04767435 | Roc Score: 0.97077984 | Time elapsed: 3:40:18.003137\n",
      "iterations: 3392 | train_loss: 0.025715021 | validation_loss: 0.047959782 | Roc Score: 0.97078323 | Time elapsed: 3:40:21.935838\n",
      "iterations: 3393 | train_loss: 0.042864345 | validation_loss: 0.048331447 | Roc Score: 0.9707864 | Time elapsed: 3:40:25.881501\n",
      "iterations: 3394 | train_loss: 0.033364367 | validation_loss: 0.04835805 | Roc Score: 0.9707896 | Time elapsed: 3:40:29.750260\n",
      "iterations: 3395 | train_loss: 0.028660895 | validation_loss: 0.047798116 | Roc Score: 0.97079283 | Time elapsed: 3:40:33.682727\n",
      "iterations: 3396 | train_loss: 0.0339882 | validation_loss: 0.047378626 | Roc Score: 0.9707959 | Time elapsed: 3:40:37.663000\n",
      "iterations: 3397 | train_loss: 0.052742362 | validation_loss: 0.04752419 | Roc Score: 0.9707987 | Time elapsed: 3:40:41.578943\n",
      "iterations: 3398 | train_loss: 0.03695097 | validation_loss: 0.047921117 | Roc Score: 0.9708009 | Time elapsed: 3:40:45.478056\n",
      "iterations: 3399 | train_loss: 0.054465886 | validation_loss: 0.04811361 | Roc Score: 0.97080314 | Time elapsed: 3:40:49.425172\n",
      "iterations: 3400 | train_loss: 0.04626053 | validation_loss: 0.048293006 | Roc Score: 0.9708051 | Time elapsed: 3:40:53.261240\n",
      "iterations: 3401 | train_loss: 0.040269215 | validation_loss: 0.048406377 | Roc Score: 0.9708074 | Time elapsed: 3:40:57.125530\n",
      "iterations: 3402 | train_loss: 0.033900317 | validation_loss: 0.04861185 | Roc Score: 0.9708096 | Time elapsed: 3:41:00.979175\n",
      "iterations: 3403 | train_loss: 0.055579223 | validation_loss: 0.048604786 | Roc Score: 0.9708118 | Time elapsed: 3:41:04.939769\n",
      "iterations: 3404 | train_loss: 0.053429153 | validation_loss: 0.048452396 | Roc Score: 0.9708142 | Time elapsed: 3:41:08.862571\n",
      "iterations: 3405 | train_loss: 0.0561174 | validation_loss: 0.048303604 | Roc Score: 0.9708166 | Time elapsed: 3:41:12.768857\n",
      "iterations: 3406 | train_loss: 0.04294305 | validation_loss: 0.048196107 | Roc Score: 0.97081894 | Time elapsed: 3:41:16.708863\n",
      "iterations: 3407 | train_loss: 0.051205106 | validation_loss: 0.048057396 | Roc Score: 0.9708212 | Time elapsed: 3:41:20.609355\n",
      "iterations: 3408 | train_loss: 0.035789732 | validation_loss: 0.047981717 | Roc Score: 0.97082317 | Time elapsed: 3:41:24.566092\n",
      "iterations: 3409 | train_loss: 0.04208215 | validation_loss: 0.047895007 | Roc Score: 0.97082514 | Time elapsed: 3:41:28.471845\n",
      "iterations: 3410 | train_loss: 0.053228237 | validation_loss: 0.047625672 | Roc Score: 0.97082764 | Time elapsed: 3:41:32.384116\n",
      "iterations: 3411 | train_loss: 0.041574635 | validation_loss: 0.047494672 | Roc Score: 0.9708302 | Time elapsed: 3:41:36.268487\n",
      "iterations: 3412 | train_loss: 0.040968947 | validation_loss: 0.047500435 | Roc Score: 0.9708331 | Time elapsed: 3:41:40.163518\n",
      "iterations: 3413 | train_loss: 0.044775996 | validation_loss: 0.047668926 | Roc Score: 0.9708358 | Time elapsed: 3:41:44.073137\n",
      "iterations: 3414 | train_loss: 0.031199882 | validation_loss: 0.047691442 | Roc Score: 0.97083867 | Time elapsed: 3:41:48.005751\n",
      "iterations: 3415 | train_loss: 0.037276518 | validation_loss: 0.047711216 | Roc Score: 0.97084147 | Time elapsed: 3:41:51.940613\n",
      "iterations: 3416 | train_loss: 0.045554224 | validation_loss: 0.047764312 | Roc Score: 0.97084427 | Time elapsed: 3:41:55.769058\n",
      "iterations: 3417 | train_loss: 0.03797652 | validation_loss: 0.04794241 | Roc Score: 0.9708468 | Time elapsed: 3:41:59.687409\n",
      "iterations: 3418 | train_loss: 0.03855691 | validation_loss: 0.048251975 | Roc Score: 0.97084904 | Time elapsed: 3:42:03.578614\n",
      "iterations: 3419 | train_loss: 0.05132924 | validation_loss: 0.04797086 | Roc Score: 0.97085154 | Time elapsed: 3:42:07.424129\n",
      "iterations: 3420 | train_loss: 0.035465788 | validation_loss: 0.047879025 | Roc Score: 0.97085416 | Time elapsed: 3:42:11.348924\n",
      "iterations: 3421 | train_loss: 0.042356312 | validation_loss: 0.04784598 | Roc Score: 0.9708568 | Time elapsed: 3:42:15.211349\n",
      "iterations: 3422 | train_loss: 0.041899804 | validation_loss: 0.0478182 | Roc Score: 0.9708595 | Time elapsed: 3:42:19.121843\n",
      "iterations: 3423 | train_loss: 0.045779433 | validation_loss: 0.04785707 | Roc Score: 0.97086215 | Time elapsed: 3:42:23.037306\n",
      "iterations: 3424 | train_loss: 0.04779453 | validation_loss: 0.047941137 | Roc Score: 0.9708648 | Time elapsed: 3:42:27.097978\n",
      "iterations: 3425 | train_loss: 0.036526475 | validation_loss: 0.047957454 | Roc Score: 0.9708676 | Time elapsed: 3:42:31.021698\n",
      "iterations: 3426 | train_loss: 0.05761141 | validation_loss: 0.04795042 | Roc Score: 0.9708703 | Time elapsed: 3:42:34.949651\n",
      "iterations: 3427 | train_loss: 0.0417501 | validation_loss: 0.047885355 | Roc Score: 0.97087294 | Time elapsed: 3:42:38.852654\n",
      "iterations: 3428 | train_loss: 0.03879761 | validation_loss: 0.047991656 | Roc Score: 0.9708752 | Time elapsed: 3:42:42.768935\n",
      "iterations: 3429 | train_loss: 0.029136041 | validation_loss: 0.048223488 | Roc Score: 0.97087777 | Time elapsed: 3:42:46.627852\n",
      "iterations: 3430 | train_loss: 0.05464604 | validation_loss: 0.048492238 | Roc Score: 0.9708799 | Time elapsed: 3:42:50.499501\n",
      "iterations: 3431 | train_loss: 0.06716973 | validation_loss: 0.048295263 | Roc Score: 0.970882 | Time elapsed: 3:42:54.419354\n"
     ]
    },
    {
     "name": "stdout",
     "output_type": "stream",
     "text": [
      "iterations: 3432 | train_loss: 0.032083914 | validation_loss: 0.04798806 | Roc Score: 0.9708844 | Time elapsed: 3:42:58.351167\n",
      "iterations: 3433 | train_loss: 0.042497788 | validation_loss: 0.047822054 | Roc Score: 0.9708871 | Time elapsed: 3:43:02.200415\n",
      "iterations: 3434 | train_loss: 0.05726577 | validation_loss: 0.04785215 | Roc Score: 0.97089005 | Time elapsed: 3:43:06.118008\n",
      "iterations: 3435 | train_loss: 0.028720891 | validation_loss: 0.04805468 | Roc Score: 0.9708931 | Time elapsed: 3:43:10.052602\n",
      "iterations: 3436 | train_loss: 0.049480632 | validation_loss: 0.04803578 | Roc Score: 0.970896 | Time elapsed: 3:43:13.982869\n",
      "iterations: 3437 | train_loss: 0.032936886 | validation_loss: 0.04796986 | Roc Score: 0.9708991 | Time elapsed: 3:43:17.896090\n",
      "iterations: 3438 | train_loss: 0.04831729 | validation_loss: 0.047767647 | Roc Score: 0.9709019 | Time elapsed: 3:43:21.802777\n",
      "iterations: 3439 | train_loss: 0.047023084 | validation_loss: 0.0477777 | Roc Score: 0.9709045 | Time elapsed: 3:43:25.742636\n",
      "iterations: 3440 | train_loss: 0.045193378 | validation_loss: 0.04791867 | Roc Score: 0.9709072 | Time elapsed: 3:43:29.660859\n",
      "iterations: 3441 | train_loss: 0.04581301 | validation_loss: 0.048053972 | Roc Score: 0.9709096 | Time elapsed: 3:43:33.574329\n",
      "iterations: 3442 | train_loss: 0.03742283 | validation_loss: 0.048408374 | Roc Score: 0.97091216 | Time elapsed: 3:43:37.491260\n",
      "iterations: 3443 | train_loss: 0.04382451 | validation_loss: 0.04903468 | Roc Score: 0.97091407 | Time elapsed: 3:43:41.369505\n",
      "iterations: 3444 | train_loss: 0.046035353 | validation_loss: 0.049051374 | Roc Score: 0.97091603 | Time elapsed: 3:43:45.231206\n",
      "iterations: 3445 | train_loss: 0.04717943 | validation_loss: 0.048230994 | Roc Score: 0.9709186 | Time elapsed: 3:43:49.076772\n",
      "iterations: 3446 | train_loss: 0.021977844 | validation_loss: 0.04768533 | Roc Score: 0.9709216 | Time elapsed: 3:43:52.938398\n",
      "iterations: 3447 | train_loss: 0.036916073 | validation_loss: 0.04736691 | Roc Score: 0.9709247 | Time elapsed: 3:43:56.857387\n",
      "iterations: 3448 | train_loss: 0.05902258 | validation_loss: 0.047108598 | Roc Score: 0.9709279 | Time elapsed: 3:44:00.721249\n",
      "iterations: 3449 | train_loss: 0.044363804 | validation_loss: 0.04730119 | Roc Score: 0.97093093 | Time elapsed: 3:44:04.634283\n",
      "iterations: 3450 | train_loss: 0.047832146 | validation_loss: 0.04801599 | Roc Score: 0.970934 | Time elapsed: 3:44:08.569644\n",
      "iterations: 3451 | train_loss: 0.053760562 | validation_loss: 0.049466237 | Roc Score: 0.9709371 | Time elapsed: 3:44:12.468720\n",
      "iterations: 3452 | train_loss: 0.04005502 | validation_loss: 0.049223255 | Roc Score: 0.9709402 | Time elapsed: 3:44:16.340555\n",
      "iterations: 3453 | train_loss: 0.0522369 | validation_loss: 0.048385564 | Roc Score: 0.9709435 | Time elapsed: 3:44:20.329575\n",
      "iterations: 3454 | train_loss: 0.04941261 | validation_loss: 0.047618054 | Roc Score: 0.97094667 | Time elapsed: 3:44:24.269997\n",
      "iterations: 3455 | train_loss: 0.043051794 | validation_loss: 0.04744134 | Roc Score: 0.9709499 | Time elapsed: 3:44:28.174530\n",
      "iterations: 3456 | train_loss: 0.035894718 | validation_loss: 0.047827452 | Roc Score: 0.97095287 | Time elapsed: 3:44:32.134159\n",
      "iterations: 3457 | train_loss: 0.025910368 | validation_loss: 0.048569083 | Roc Score: 0.9709552 | Time elapsed: 3:44:36.073332\n",
      "iterations: 3458 | train_loss: 0.037427578 | validation_loss: 0.049583074 | Roc Score: 0.97095674 | Time elapsed: 3:44:39.988768\n",
      "iterations: 3459 | train_loss: 0.03771286 | validation_loss: 0.050532132 | Roc Score: 0.9709577 | Time elapsed: 3:44:43.966140\n",
      "iterations: 3460 | train_loss: 0.03749675 | validation_loss: 0.051323965 | Roc Score: 0.9709582 | Time elapsed: 3:44:47.902727\n",
      "iterations: 3461 | train_loss: 0.041441184 | validation_loss: 0.05176311 | Roc Score: 0.9709583 | Time elapsed: 3:44:51.805163\n",
      "iterations: 3462 | train_loss: 0.025988406 | validation_loss: 0.05223998 | Roc Score: 0.97095805 | Time elapsed: 3:44:55.661777\n",
      "iterations: 3463 | train_loss: 0.035751637 | validation_loss: 0.052169852 | Roc Score: 0.9709581 | Time elapsed: 3:44:59.475126\n",
      "iterations: 3464 | train_loss: 0.052583255 | validation_loss: 0.05175975 | Roc Score: 0.9709583 | Time elapsed: 3:45:03.222111\n",
      "iterations: 3465 | train_loss: 0.051166903 | validation_loss: 0.050717726 | Roc Score: 0.97095907 | Time elapsed: 3:45:07.110602\n",
      "iterations: 3466 | train_loss: 0.043511014 | validation_loss: 0.04977179 | Roc Score: 0.9709609 | Time elapsed: 3:45:11.042700\n",
      "iterations: 3467 | train_loss: 0.045857985 | validation_loss: 0.049078107 | Roc Score: 0.97096324 | Time elapsed: 3:45:14.904975\n",
      "iterations: 3468 | train_loss: 0.046927735 | validation_loss: 0.048608188 | Roc Score: 0.9709659 | Time elapsed: 3:45:18.804374\n",
      "iterations: 3469 | train_loss: 0.04876977 | validation_loss: 0.04847534 | Roc Score: 0.97096896 | Time elapsed: 3:45:22.651198\n",
      "iterations: 3470 | train_loss: 0.033353187 | validation_loss: 0.048314586 | Roc Score: 0.9709719 | Time elapsed: 3:45:26.572049\n",
      "iterations: 3471 | train_loss: 0.051827498 | validation_loss: 0.048150755 | Roc Score: 0.97097486 | Time elapsed: 3:45:30.503839\n",
      "iterations: 3472 | train_loss: 0.044844165 | validation_loss: 0.04798294 | Roc Score: 0.9709777 | Time elapsed: 3:45:34.419097\n",
      "iterations: 3473 | train_loss: 0.050308283 | validation_loss: 0.04792572 | Roc Score: 0.9709805 | Time elapsed: 3:45:38.299697\n",
      "iterations: 3474 | train_loss: 0.036069904 | validation_loss: 0.047958322 | Roc Score: 0.9709832 | Time elapsed: 3:45:42.196358\n",
      "iterations: 3475 | train_loss: 0.039652467 | validation_loss: 0.048028067 | Roc Score: 0.9709857 | Time elapsed: 3:45:46.091032\n",
      "iterations: 3476 | train_loss: 0.051220383 | validation_loss: 0.048078474 | Roc Score: 0.9709886 | Time elapsed: 3:45:49.980630\n",
      "iterations: 3477 | train_loss: 0.03821606 | validation_loss: 0.048119985 | Roc Score: 0.97099096 | Time elapsed: 3:45:53.990067\n",
      "iterations: 3478 | train_loss: 0.05076221 | validation_loss: 0.04796944 | Roc Score: 0.97099364 | Time elapsed: 3:45:57.917257\n",
      "iterations: 3479 | train_loss: 0.056379307 | validation_loss: 0.048069756 | Roc Score: 0.9709967 | Time elapsed: 3:46:01.781300\n",
      "iterations: 3480 | train_loss: 0.032668278 | validation_loss: 0.048249368 | Roc Score: 0.97099966 | Time elapsed: 3:46:05.734095\n",
      "iterations: 3481 | train_loss: 0.052435413 | validation_loss: 0.048145793 | Roc Score: 0.97100264 | Time elapsed: 3:46:09.639448\n",
      "iterations: 3482 | train_loss: 0.035928823 | validation_loss: 0.047833044 | Roc Score: 0.97100574 | Time elapsed: 3:46:13.482944\n",
      "iterations: 3483 | train_loss: 0.046576176 | validation_loss: 0.04775366 | Roc Score: 0.9710089 | Time elapsed: 3:46:17.409428\n",
      "iterations: 3484 | train_loss: 0.055636488 | validation_loss: 0.047642756 | Roc Score: 0.97101223 | Time elapsed: 3:46:21.330630\n",
      "iterations: 3485 | train_loss: 0.05250261 | validation_loss: 0.047601715 | Roc Score: 0.97101545 | Time elapsed: 3:46:25.210215\n",
      "iterations: 3486 | train_loss: 0.033408426 | validation_loss: 0.04755366 | Roc Score: 0.9710187 | Time elapsed: 3:46:29.102727\n",
      "iterations: 3487 | train_loss: 0.052471522 | validation_loss: 0.047380775 | Roc Score: 0.97102195 | Time elapsed: 3:46:33.056482\n",
      "iterations: 3488 | train_loss: 0.04513731 | validation_loss: 0.047204874 | Roc Score: 0.97102517 | Time elapsed: 3:46:36.982334\n",
      "iterations: 3489 | train_loss: 0.043187797 | validation_loss: 0.047082104 | Roc Score: 0.9710284 | Time elapsed: 3:46:40.885426\n",
      "iterations: 3490 | train_loss: 0.03882594 | validation_loss: 0.0470746 | Roc Score: 0.9710316 | Time elapsed: 3:46:44.806636\n",
      "iterations: 3491 | train_loss: 0.052115697 | validation_loss: 0.04689611 | Roc Score: 0.9710349 | Time elapsed: 3:46:48.818470\n",
      "iterations: 3492 | train_loss: 0.04886559 | validation_loss: 0.046747774 | Roc Score: 0.9710383 | Time elapsed: 3:46:52.716657\n",
      "iterations: 3493 | train_loss: 0.044296697 | validation_loss: 0.04669517 | Roc Score: 0.97104156 | Time elapsed: 3:46:56.627348\n",
      "iterations: 3494 | train_loss: 0.042612627 | validation_loss: 0.04665648 | Roc Score: 0.97104484 | Time elapsed: 3:47:00.568476\n",
      "iterations: 3495 | train_loss: 0.053524747 | validation_loss: 0.0466993 | Roc Score: 0.9710479 | Time elapsed: 3:47:04.480665\n",
      "iterations: 3496 | train_loss: 0.042539306 | validation_loss: 0.04681316 | Roc Score: 0.9710511 | Time elapsed: 3:47:08.402707\n",
      "iterations: 3497 | train_loss: 0.03435454 | validation_loss: 0.046858024 | Roc Score: 0.9710541 | Time elapsed: 3:47:12.265018\n",
      "iterations: 3498 | train_loss: 0.04413337 | validation_loss: 0.046910793 | Roc Score: 0.9710571 | Time elapsed: 3:47:16.146882\n",
      "iterations: 3499 | train_loss: 0.04992521 | validation_loss: 0.047039445 | Roc Score: 0.9710602 | Time elapsed: 3:47:20.048605\n",
      "iterations: 3500 | train_loss: 0.04632301 | validation_loss: 0.047107264 | Roc Score: 0.97106326 | Time elapsed: 3:47:23.967807\n",
      "iterations: 3501 | train_loss: 0.060727563 | validation_loss: 0.0472586 | Roc Score: 0.9710661 | Time elapsed: 3:47:27.837820\n",
      "iterations: 3502 | train_loss: 0.02603314 | validation_loss: 0.04754994 | Roc Score: 0.9710689 | Time elapsed: 3:47:31.753167\n",
      "iterations: 3503 | train_loss: 0.037828382 | validation_loss: 0.047898028 | Roc Score: 0.9710718 | Time elapsed: 3:47:35.695519\n",
      "iterations: 3504 | train_loss: 0.053663496 | validation_loss: 0.04804022 | Roc Score: 0.97107416 | Time elapsed: 3:47:39.552215\n",
      "iterations: 3505 | train_loss: 0.01884861 | validation_loss: 0.048307844 | Roc Score: 0.9710767 | Time elapsed: 3:47:43.457241\n",
      "iterations: 3506 | train_loss: 0.040210634 | validation_loss: 0.048508964 | Roc Score: 0.9710789 | Time elapsed: 3:47:47.369499\n",
      "iterations: 3507 | train_loss: 0.038517144 | validation_loss: 0.048599705 | Roc Score: 0.97108084 | Time elapsed: 3:47:51.330219\n",
      "iterations: 3508 | train_loss: 0.037608873 | validation_loss: 0.04873771 | Roc Score: 0.9710827 | Time elapsed: 3:47:55.206885\n",
      "iterations: 3509 | train_loss: 0.042579986 | validation_loss: 0.04857798 | Roc Score: 0.97108465 | Time elapsed: 3:47:59.042421\n"
     ]
    },
    {
     "name": "stdout",
     "output_type": "stream",
     "text": [
      "iterations: 3510 | train_loss: 0.030770123 | validation_loss: 0.04831325 | Roc Score: 0.97108656 | Time elapsed: 3:48:02.915880\n",
      "iterations: 3511 | train_loss: 0.031112926 | validation_loss: 0.04817077 | Roc Score: 0.9710891 | Time elapsed: 3:48:06.796938\n",
      "iterations: 3512 | train_loss: 0.034156855 | validation_loss: 0.04812432 | Roc Score: 0.9710917 | Time elapsed: 3:48:10.672088\n",
      "iterations: 3513 | train_loss: 0.04366311 | validation_loss: 0.0481207 | Roc Score: 0.97109425 | Time elapsed: 3:48:14.584752\n",
      "iterations: 3514 | train_loss: 0.040074553 | validation_loss: 0.047933407 | Roc Score: 0.97109693 | Time elapsed: 3:48:18.515466\n",
      "iterations: 3515 | train_loss: 0.054139253 | validation_loss: 0.047690667 | Roc Score: 0.9710993 | Time elapsed: 3:48:22.425324\n",
      "iterations: 3516 | train_loss: 0.06479154 | validation_loss: 0.047659043 | Roc Score: 0.9711019 | Time elapsed: 3:48:26.361253\n",
      "iterations: 3517 | train_loss: 0.036530487 | validation_loss: 0.04768418 | Roc Score: 0.97110426 | Time elapsed: 3:48:30.299077\n",
      "iterations: 3518 | train_loss: 0.04341376 | validation_loss: 0.047607686 | Roc Score: 0.97110695 | Time elapsed: 3:48:34.192065\n",
      "iterations: 3519 | train_loss: 0.030247813 | validation_loss: 0.04763542 | Roc Score: 0.97110957 | Time elapsed: 3:48:38.092874\n",
      "iterations: 3520 | train_loss: 0.028476944 | validation_loss: 0.047678493 | Roc Score: 0.97111225 | Time elapsed: 3:48:42.017168\n",
      "iterations: 3521 | train_loss: 0.044567462 | validation_loss: 0.047667243 | Roc Score: 0.97111493 | Time elapsed: 3:48:45.913326\n",
      "iterations: 3522 | train_loss: 0.042209297 | validation_loss: 0.0476311 | Roc Score: 0.9711175 | Time elapsed: 3:48:49.835714\n",
      "iterations: 3523 | train_loss: 0.039466146 | validation_loss: 0.047613725 | Roc Score: 0.9711203 | Time elapsed: 3:48:53.714630\n",
      "iterations: 3524 | train_loss: 0.029403906 | validation_loss: 0.04767468 | Roc Score: 0.971123 | Time elapsed: 3:48:57.525015\n",
      "iterations: 3525 | train_loss: 0.033618256 | validation_loss: 0.047765937 | Roc Score: 0.9711256 | Time elapsed: 3:49:01.458912\n",
      "iterations: 3526 | train_loss: 0.044690028 | validation_loss: 0.047827087 | Roc Score: 0.97112817 | Time elapsed: 3:49:05.335074\n",
      "iterations: 3527 | train_loss: 0.04960828 | validation_loss: 0.047814462 | Roc Score: 0.9711308 | Time elapsed: 3:49:09.218755\n",
      "iterations: 3528 | train_loss: 0.051470738 | validation_loss: 0.047806606 | Roc Score: 0.97113323 | Time elapsed: 3:49:13.096983\n",
      "iterations: 3529 | train_loss: 0.05754589 | validation_loss: 0.04774764 | Roc Score: 0.9711356 | Time elapsed: 3:49:16.976007\n",
      "iterations: 3530 | train_loss: 0.04005525 | validation_loss: 0.047678027 | Roc Score: 0.97113824 | Time elapsed: 3:49:20.896288\n",
      "iterations: 3531 | train_loss: 0.027350413 | validation_loss: 0.047688056 | Roc Score: 0.9711405 | Time elapsed: 3:49:24.802666\n",
      "iterations: 3532 | train_loss: 0.02551197 | validation_loss: 0.0477214 | Roc Score: 0.9711429 | Time elapsed: 3:49:28.665917\n",
      "iterations: 3533 | train_loss: 0.05818381 | validation_loss: 0.04766511 | Roc Score: 0.97114545 | Time elapsed: 3:49:32.568121\n",
      "iterations: 3534 | train_loss: 0.062393494 | validation_loss: 0.047632795 | Roc Score: 0.971148 | Time elapsed: 3:49:36.442596\n",
      "iterations: 3535 | train_loss: 0.029438544 | validation_loss: 0.047667153 | Roc Score: 0.9711509 | Time elapsed: 3:49:40.300774\n",
      "iterations: 3536 | train_loss: 0.0373602 | validation_loss: 0.04768486 | Roc Score: 0.9711537 | Time elapsed: 3:49:44.184105\n",
      "iterations: 3537 | train_loss: 0.045525387 | validation_loss: 0.047730766 | Roc Score: 0.9711565 | Time elapsed: 3:49:48.092313\n",
      "iterations: 3538 | train_loss: 0.027145863 | validation_loss: 0.04775694 | Roc Score: 0.9711593 | Time elapsed: 3:49:51.967072\n",
      "iterations: 3539 | train_loss: 0.0468902 | validation_loss: 0.04781244 | Roc Score: 0.9711622 | Time elapsed: 3:49:55.826002\n",
      "iterations: 3540 | train_loss: 0.042379957 | validation_loss: 0.04770668 | Roc Score: 0.9711649 | Time elapsed: 3:49:59.692837\n",
      "iterations: 3541 | train_loss: 0.03388494 | validation_loss: 0.047445714 | Roc Score: 0.9711677 | Time elapsed: 3:50:03.634169\n",
      "iterations: 3542 | train_loss: 0.036674593 | validation_loss: 0.047423333 | Roc Score: 0.97117025 | Time elapsed: 3:50:07.592065\n",
      "iterations: 3543 | train_loss: 0.057788968 | validation_loss: 0.04752174 | Roc Score: 0.97117275 | Time elapsed: 3:50:11.452657\n",
      "iterations: 3544 | train_loss: 0.06630528 | validation_loss: 0.047502134 | Roc Score: 0.97117555 | Time elapsed: 3:50:15.319066\n",
      "iterations: 3545 | train_loss: 0.03553361 | validation_loss: 0.04755177 | Roc Score: 0.9711783 | Time elapsed: 3:50:19.169337\n",
      "iterations: 3546 | train_loss: 0.040745694 | validation_loss: 0.047504984 | Roc Score: 0.971181 | Time elapsed: 3:50:23.014314\n",
      "iterations: 3547 | train_loss: 0.0303849 | validation_loss: 0.04752981 | Roc Score: 0.97118384 | Time elapsed: 3:50:26.923332\n",
      "iterations: 3548 | train_loss: 0.03582001 | validation_loss: 0.04768886 | Roc Score: 0.9711864 | Time elapsed: 3:50:30.796915\n",
      "iterations: 3549 | train_loss: 0.0388167 | validation_loss: 0.04772545 | Roc Score: 0.9711887 | Time elapsed: 3:50:34.747170\n",
      "iterations: 3550 | train_loss: 0.027296992 | validation_loss: 0.04778074 | Roc Score: 0.9711913 | Time elapsed: 3:50:38.648454\n",
      "iterations: 3551 | train_loss: 0.038341273 | validation_loss: 0.04775654 | Roc Score: 0.97119385 | Time elapsed: 3:50:42.544186\n",
      "iterations: 3552 | train_loss: 0.053463753 | validation_loss: 0.047690485 | Roc Score: 0.97119653 | Time elapsed: 3:50:46.487651\n",
      "iterations: 3553 | train_loss: 0.048462942 | validation_loss: 0.047628462 | Roc Score: 0.9711991 | Time elapsed: 3:50:50.424577\n",
      "iterations: 3554 | train_loss: 0.03488414 | validation_loss: 0.047513716 | Roc Score: 0.9712016 | Time elapsed: 3:50:54.368670\n",
      "iterations: 3555 | train_loss: 0.021571701 | validation_loss: 0.047603533 | Roc Score: 0.97120386 | Time elapsed: 3:50:58.322908\n",
      "iterations: 3556 | train_loss: 0.054332796 | validation_loss: 0.047781136 | Roc Score: 0.97120595 | Time elapsed: 3:51:02.205221\n",
      "iterations: 3557 | train_loss: 0.033562705 | validation_loss: 0.04800914 | Roc Score: 0.97120774 | Time elapsed: 3:51:06.126104\n",
      "iterations: 3558 | train_loss: 0.025293695 | validation_loss: 0.04841481 | Roc Score: 0.9712094 | Time elapsed: 3:51:10.012908\n",
      "iterations: 3559 | train_loss: 0.057075683 | validation_loss: 0.048373494 | Roc Score: 0.971211 | Time elapsed: 3:51:13.889401\n",
      "iterations: 3560 | train_loss: 0.049049076 | validation_loss: 0.047972135 | Roc Score: 0.9712129 | Time elapsed: 3:51:17.800401\n",
      "iterations: 3561 | train_loss: 0.037227314 | validation_loss: 0.047605358 | Roc Score: 0.9712154 | Time elapsed: 3:51:21.672401\n",
      "iterations: 3562 | train_loss: 0.04499284 | validation_loss: 0.047770828 | Roc Score: 0.97121817 | Time elapsed: 3:51:25.584124\n",
      "iterations: 3563 | train_loss: 0.039397564 | validation_loss: 0.048167955 | Roc Score: 0.9712209 | Time elapsed: 3:51:29.507530\n",
      "iterations: 3564 | train_loss: 0.038223755 | validation_loss: 0.04795854 | Roc Score: 0.9712234 | Time elapsed: 3:51:33.389995\n",
      "iterations: 3565 | train_loss: 0.05998101 | validation_loss: 0.04771552 | Roc Score: 0.97122604 | Time elapsed: 3:51:37.284151\n",
      "iterations: 3566 | train_loss: 0.04424191 | validation_loss: 0.047624998 | Roc Score: 0.9712284 | Time elapsed: 3:51:41.171038\n",
      "iterations: 3567 | train_loss: 0.05496152 | validation_loss: 0.0475329 | Roc Score: 0.971231 | Time elapsed: 3:51:45.084522\n",
      "iterations: 3568 | train_loss: 0.044703666 | validation_loss: 0.04752942 | Roc Score: 0.9712332 | Time elapsed: 3:51:49.027544\n",
      "iterations: 3569 | train_loss: 0.047882006 | validation_loss: 0.047427557 | Roc Score: 0.97123545 | Time elapsed: 3:51:52.925689\n",
      "iterations: 3570 | train_loss: 0.036450326 | validation_loss: 0.04758696 | Roc Score: 0.9712374 | Time elapsed: 3:51:56.809191\n",
      "iterations: 3571 | train_loss: 0.051973183 | validation_loss: 0.047446202 | Roc Score: 0.97123957 | Time elapsed: 3:52:00.727535\n",
      "iterations: 3572 | train_loss: 0.028542496 | validation_loss: 0.04746204 | Roc Score: 0.9712423 | Time elapsed: 3:52:04.670282\n",
      "iterations: 3573 | train_loss: 0.048924856 | validation_loss: 0.0475811 | Roc Score: 0.9712445 | Time elapsed: 3:52:08.635026\n",
      "iterations: 3574 | train_loss: 0.06324873 | validation_loss: 0.047675934 | Roc Score: 0.9712466 | Time elapsed: 3:52:12.432655\n",
      "iterations: 3575 | train_loss: 0.049296815 | validation_loss: 0.047765605 | Roc Score: 0.9712485 | Time elapsed: 3:52:16.345629\n",
      "iterations: 3576 | train_loss: 0.05393756 | validation_loss: 0.047761913 | Roc Score: 0.9712507 | Time elapsed: 3:52:20.244378\n",
      "iterations: 3577 | train_loss: 0.03773379 | validation_loss: 0.047856584 | Roc Score: 0.971253 | Time elapsed: 3:52:24.172439\n",
      "iterations: 3578 | train_loss: 0.044790167 | validation_loss: 0.04798942 | Roc Score: 0.9712556 | Time elapsed: 3:52:28.042092\n",
      "iterations: 3579 | train_loss: 0.0344078 | validation_loss: 0.047984943 | Roc Score: 0.97125816 | Time elapsed: 3:52:31.968353\n",
      "iterations: 3580 | train_loss: 0.03329846 | validation_loss: 0.0478513 | Roc Score: 0.9712609 | Time elapsed: 3:52:35.936702\n",
      "iterations: 3581 | train_loss: 0.044323765 | validation_loss: 0.04766637 | Roc Score: 0.97126365 | Time elapsed: 3:52:39.819908\n",
      "iterations: 3582 | train_loss: 0.04422718 | validation_loss: 0.047489513 | Roc Score: 0.9712665 | Time elapsed: 3:52:43.699772\n",
      "iterations: 3583 | train_loss: 0.024079593 | validation_loss: 0.0474436 | Roc Score: 0.97126913 | Time elapsed: 3:52:47.575209\n",
      "iterations: 3584 | train_loss: 0.051955577 | validation_loss: 0.047614362 | Roc Score: 0.9712712 | Time elapsed: 3:52:51.443243\n",
      "iterations: 3585 | train_loss: 0.039122775 | validation_loss: 0.04780888 | Roc Score: 0.9712732 | Time elapsed: 3:52:55.360589\n",
      "iterations: 3586 | train_loss: 0.043212447 | validation_loss: 0.04797314 | Roc Score: 0.971275 | Time elapsed: 3:52:59.244819\n",
      "iterations: 3587 | train_loss: 0.0558494 | validation_loss: 0.04774414 | Roc Score: 0.97127694 | Time elapsed: 3:53:03.186113\n"
     ]
    },
    {
     "name": "stdout",
     "output_type": "stream",
     "text": [
      "iterations: 3588 | train_loss: 0.0339809 | validation_loss: 0.04774007 | Roc Score: 0.9712792 | Time elapsed: 3:53:07.052647\n",
      "iterations: 3589 | train_loss: 0.03859298 | validation_loss: 0.047762487 | Roc Score: 0.9712816 | Time elapsed: 3:53:10.969339\n",
      "iterations: 3590 | train_loss: 0.04599139 | validation_loss: 0.04771174 | Roc Score: 0.971284 | Time elapsed: 3:53:14.838210\n",
      "iterations: 3591 | train_loss: 0.05269463 | validation_loss: 0.04767805 | Roc Score: 0.9712867 | Time elapsed: 3:53:18.755798\n",
      "iterations: 3592 | train_loss: 0.04511477 | validation_loss: 0.047663823 | Roc Score: 0.9712898 | Time elapsed: 3:53:22.656592\n",
      "iterations: 3593 | train_loss: 0.035103038 | validation_loss: 0.04752864 | Roc Score: 0.97129285 | Time elapsed: 3:53:26.533466\n",
      "iterations: 3594 | train_loss: 0.04541776 | validation_loss: 0.047689695 | Roc Score: 0.971296 | Time elapsed: 3:53:30.453475\n",
      "iterations: 3595 | train_loss: 0.0563819 | validation_loss: 0.04784509 | Roc Score: 0.97129923 | Time elapsed: 3:53:34.354704\n",
      "iterations: 3596 | train_loss: 0.047597516 | validation_loss: 0.04787959 | Roc Score: 0.97130245 | Time elapsed: 3:53:38.292547\n",
      "iterations: 3597 | train_loss: 0.05820608 | validation_loss: 0.047369108 | Roc Score: 0.97130585 | Time elapsed: 3:53:42.128058\n",
      "iterations: 3598 | train_loss: 0.037896067 | validation_loss: 0.04711905 | Roc Score: 0.9713089 | Time elapsed: 3:53:46.031428\n",
      "iterations: 3599 | train_loss: 0.035732925 | validation_loss: 0.047032773 | Roc Score: 0.9713117 | Time elapsed: 3:53:49.942894\n",
      "iterations: 3600 | train_loss: 0.047391072 | validation_loss: 0.047024656 | Roc Score: 0.9713145 | Time elapsed: 3:53:53.877484\n",
      "iterations: 3601 | train_loss: 0.038529087 | validation_loss: 0.04718611 | Roc Score: 0.9713172 | Time elapsed: 3:53:57.681447\n",
      "iterations: 3602 | train_loss: 0.027667096 | validation_loss: 0.047400005 | Roc Score: 0.97132 | Time elapsed: 3:54:01.537228\n",
      "iterations: 3603 | train_loss: 0.041056354 | validation_loss: 0.047723673 | Roc Score: 0.9713226 | Time elapsed: 3:54:05.415837\n",
      "iterations: 3604 | train_loss: 0.029323542 | validation_loss: 0.04809762 | Roc Score: 0.9713249 | Time elapsed: 3:54:09.272454\n",
      "iterations: 3605 | train_loss: 0.05019905 | validation_loss: 0.048600808 | Roc Score: 0.9713276 | Time elapsed: 3:54:13.168697\n",
      "iterations: 3606 | train_loss: 0.028832009 | validation_loss: 0.04900055 | Roc Score: 0.97133 | Time elapsed: 3:54:17.093256\n",
      "iterations: 3607 | train_loss: 0.03149786 | validation_loss: 0.049313497 | Roc Score: 0.97133243 | Time elapsed: 3:54:21.014859\n",
      "iterations: 3608 | train_loss: 0.031468183 | validation_loss: 0.049184818 | Roc Score: 0.97133434 | Time elapsed: 3:54:24.874670\n",
      "iterations: 3609 | train_loss: 0.070837036 | validation_loss: 0.04898909 | Roc Score: 0.971336 | Time elapsed: 3:54:28.782355\n",
      "iterations: 3610 | train_loss: 0.06203503 | validation_loss: 0.048733216 | Roc Score: 0.97133785 | Time elapsed: 3:54:32.724518\n",
      "iterations: 3611 | train_loss: 0.053514536 | validation_loss: 0.048653465 | Roc Score: 0.9713405 | Time elapsed: 3:54:36.689483\n",
      "iterations: 3612 | train_loss: 0.038605314 | validation_loss: 0.04888581 | Roc Score: 0.9713436 | Time elapsed: 3:54:40.563929\n",
      "iterations: 3613 | train_loss: 0.04581996 | validation_loss: 0.04887999 | Roc Score: 0.97134644 | Time elapsed: 3:54:44.540458\n",
      "iterations: 3614 | train_loss: 0.035414793 | validation_loss: 0.048418064 | Roc Score: 0.9713496 | Time elapsed: 3:54:48.485007\n",
      "iterations: 3615 | train_loss: 0.06491161 | validation_loss: 0.048119415 | Roc Score: 0.9713526 | Time elapsed: 3:54:52.396491\n",
      "iterations: 3616 | train_loss: 0.027948875 | validation_loss: 0.04791996 | Roc Score: 0.97135586 | Time elapsed: 3:54:56.357292\n",
      "iterations: 3617 | train_loss: 0.03352153 | validation_loss: 0.047832884 | Roc Score: 0.97135854 | Time elapsed: 3:55:00.418161\n",
      "iterations: 3618 | train_loss: 0.049788233 | validation_loss: 0.047856987 | Roc Score: 0.97136116 | Time elapsed: 3:55:04.355146\n",
      "iterations: 3619 | train_loss: 0.06365723 | validation_loss: 0.047665764 | Roc Score: 0.971364 | Time elapsed: 3:55:08.239685\n",
      "iterations: 3620 | train_loss: 0.03915299 | validation_loss: 0.047621403 | Roc Score: 0.9713664 | Time elapsed: 3:55:12.173878\n",
      "iterations: 3621 | train_loss: 0.036871664 | validation_loss: 0.047893163 | Roc Score: 0.97136825 | Time elapsed: 3:55:16.020022\n",
      "iterations: 3622 | train_loss: 0.021148134 | validation_loss: 0.048198007 | Roc Score: 0.97137 | Time elapsed: 3:55:19.905839\n",
      "iterations: 3623 | train_loss: 0.038885076 | validation_loss: 0.048252337 | Roc Score: 0.97137153 | Time elapsed: 3:55:23.799154\n",
      "iterations: 3624 | train_loss: 0.031771626 | validation_loss: 0.04831034 | Roc Score: 0.97137284 | Time elapsed: 3:55:27.685322\n",
      "iterations: 3625 | train_loss: 0.04675487 | validation_loss: 0.04811328 | Roc Score: 0.97137403 | Time elapsed: 3:55:31.587051\n",
      "iterations: 3626 | train_loss: 0.06456729 | validation_loss: 0.047846437 | Roc Score: 0.97137594 | Time elapsed: 3:55:35.450280\n",
      "iterations: 3627 | train_loss: 0.042979702 | validation_loss: 0.047732215 | Roc Score: 0.971378 | Time elapsed: 3:55:39.298075\n",
      "iterations: 3628 | train_loss: 0.043556247 | validation_loss: 0.047370497 | Roc Score: 0.9713802 | Time elapsed: 3:55:43.205325\n",
      "iterations: 3629 | train_loss: 0.049439944 | validation_loss: 0.046848886 | Roc Score: 0.9713831 | Time elapsed: 3:55:47.103817\n",
      "iterations: 3630 | train_loss: 0.04877476 | validation_loss: 0.046864066 | Roc Score: 0.9713862 | Time elapsed: 3:55:51.057177\n",
      "iterations: 3631 | train_loss: 0.04733289 | validation_loss: 0.047860924 | Roc Score: 0.9713893 | Time elapsed: 3:55:54.954572\n",
      "iterations: 3632 | train_loss: 0.044876315 | validation_loss: 0.04929143 | Roc Score: 0.9713924 | Time elapsed: 3:55:58.853229\n",
      "iterations: 3633 | train_loss: 0.039019614 | validation_loss: 0.048970215 | Roc Score: 0.9713955 | Time elapsed: 3:56:02.742032\n",
      "iterations: 3634 | train_loss: 0.060193926 | validation_loss: 0.04763516 | Roc Score: 0.9713986 | Time elapsed: 3:56:06.624007\n",
      "iterations: 3635 | train_loss: 0.036520112 | validation_loss: 0.04697893 | Roc Score: 0.9714013 | Time elapsed: 3:56:10.470763\n",
      "iterations: 3636 | train_loss: 0.03128979 | validation_loss: 0.04747693 | Roc Score: 0.97140336 | Time elapsed: 3:56:14.323090\n",
      "iterations: 3637 | train_loss: 0.04109871 | validation_loss: 0.049223494 | Roc Score: 0.9714048 | Time elapsed: 3:56:18.235733\n",
      "iterations: 3638 | train_loss: 0.049615197 | validation_loss: 0.05034178 | Roc Score: 0.971405 | Time elapsed: 3:56:22.156137\n",
      "iterations: 3639 | train_loss: 0.051242355 | validation_loss: 0.050458007 | Roc Score: 0.9714054 | Time elapsed: 3:56:26.028982\n",
      "iterations: 3640 | train_loss: 0.06491748 | validation_loss: 0.04980449 | Roc Score: 0.97140634 | Time elapsed: 3:56:29.857453\n",
      "iterations: 3641 | train_loss: 0.05736716 | validation_loss: 0.048126724 | Roc Score: 0.97140825 | Time elapsed: 3:56:33.770517\n",
      "iterations: 3642 | train_loss: 0.04503325 | validation_loss: 0.047129948 | Roc Score: 0.97141093 | Time elapsed: 3:56:37.664105\n",
      "iterations: 3643 | train_loss: 0.033614654 | validation_loss: 0.04687827 | Roc Score: 0.9714141 | Time elapsed: 3:56:41.615294\n",
      "iterations: 3644 | train_loss: 0.05299856 | validation_loss: 0.04695805 | Roc Score: 0.9714173 | Time elapsed: 3:56:45.540613\n",
      "iterations: 3645 | train_loss: 0.035851702 | validation_loss: 0.04722993 | Roc Score: 0.97142047 | Time elapsed: 3:56:49.485940\n",
      "iterations: 3646 | train_loss: 0.03627449 | validation_loss: 0.047245376 | Roc Score: 0.9714236 | Time elapsed: 3:56:53.375635\n",
      "iterations: 3647 | train_loss: 0.048269 | validation_loss: 0.047074717 | Roc Score: 0.97142684 | Time elapsed: 3:56:57.265296\n",
      "iterations: 3648 | train_loss: 0.04506679 | validation_loss: 0.046953652 | Roc Score: 0.9714297 | Time elapsed: 3:57:01.180203\n",
      "iterations: 3649 | train_loss: 0.033919908 | validation_loss: 0.047465254 | Roc Score: 0.97143155 | Time elapsed: 3:57:04.950051\n",
      "iterations: 3650 | train_loss: 0.04507159 | validation_loss: 0.04828136 | Roc Score: 0.9714328 | Time elapsed: 3:57:08.865278\n",
      "iterations: 3651 | train_loss: 0.0359853 | validation_loss: 0.04860532 | Roc Score: 0.97143406 | Time elapsed: 3:57:12.627268\n",
      "iterations: 3652 | train_loss: 0.05525088 | validation_loss: 0.047812402 | Roc Score: 0.9714352 | Time elapsed: 3:57:16.534365\n",
      "iterations: 3653 | train_loss: 0.05588103 | validation_loss: 0.047215395 | Roc Score: 0.97143793 | Time elapsed: 3:57:20.402502\n",
      "iterations: 3654 | train_loss: 0.06377058 | validation_loss: 0.0475452 | Roc Score: 0.97144085 | Time elapsed: 3:57:24.355269\n",
      "iterations: 3655 | train_loss: 0.0368848 | validation_loss: 0.0489478 | Roc Score: 0.971444 | Time elapsed: 3:57:28.299615\n",
      "iterations: 3656 | train_loss: 0.03602047 | validation_loss: 0.0494488 | Roc Score: 0.97144705 | Time elapsed: 3:57:32.206332\n",
      "iterations: 3657 | train_loss: 0.030665392 | validation_loss: 0.04895084 | Roc Score: 0.97145027 | Time elapsed: 3:57:36.136296\n",
      "iterations: 3658 | train_loss: 0.055370763 | validation_loss: 0.048586633 | Roc Score: 0.97145337 | Time elapsed: 3:57:40.063118\n",
      "iterations: 3659 | train_loss: 0.042580724 | validation_loss: 0.048603334 | Roc Score: 0.97145647 | Time elapsed: 3:57:43.971574\n",
      "iterations: 3660 | train_loss: 0.052518204 | validation_loss: 0.048588675 | Roc Score: 0.9714593 | Time elapsed: 3:57:47.871242\n",
      "iterations: 3661 | train_loss: 0.027149227 | validation_loss: 0.04933233 | Roc Score: 0.9714613 | Time elapsed: 3:57:51.749343\n",
      "iterations: 3662 | train_loss: 0.047314588 | validation_loss: 0.049464233 | Roc Score: 0.97146285 | Time elapsed: 3:57:55.663112\n",
      "iterations: 3663 | train_loss: 0.059812557 | validation_loss: 0.04911854 | Roc Score: 0.97146434 | Time elapsed: 3:57:59.585945\n",
      "iterations: 3664 | train_loss: 0.04828736 | validation_loss: 0.048667364 | Roc Score: 0.9714665 | Time elapsed: 3:58:03.479696\n",
      "iterations: 3665 | train_loss: 0.053429164 | validation_loss: 0.048546337 | Roc Score: 0.97146887 | Time elapsed: 3:58:07.351946\n"
     ]
    },
    {
     "name": "stdout",
     "output_type": "stream",
     "text": [
      "iterations: 3666 | train_loss: 0.040983126 | validation_loss: 0.048572555 | Roc Score: 0.97147125 | Time elapsed: 3:58:11.264653\n",
      "iterations: 3667 | train_loss: 0.053051405 | validation_loss: 0.048400678 | Roc Score: 0.9714736 | Time elapsed: 3:58:15.203029\n",
      "iterations: 3668 | train_loss: 0.056129813 | validation_loss: 0.048087113 | Roc Score: 0.9714764 | Time elapsed: 3:58:19.079635\n",
      "iterations: 3669 | train_loss: 0.036285315 | validation_loss: 0.047753256 | Roc Score: 0.971479 | Time elapsed: 3:58:23.040681\n",
      "iterations: 3670 | train_loss: 0.042341784 | validation_loss: 0.047586665 | Roc Score: 0.9714816 | Time elapsed: 3:58:27.001172\n",
      "iterations: 3671 | train_loss: 0.06112133 | validation_loss: 0.047546457 | Roc Score: 0.9714839 | Time elapsed: 3:58:30.893352\n",
      "iterations: 3672 | train_loss: 0.038788415 | validation_loss: 0.04735738 | Roc Score: 0.9714862 | Time elapsed: 3:58:34.775186\n",
      "iterations: 3673 | train_loss: 0.050144862 | validation_loss: 0.04722832 | Roc Score: 0.9714887 | Time elapsed: 3:58:38.688093\n",
      "iterations: 3674 | train_loss: 0.0626691 | validation_loss: 0.04722548 | Roc Score: 0.97149116 | Time elapsed: 3:58:42.595025\n",
      "iterations: 3675 | train_loss: 0.04197612 | validation_loss: 0.047228154 | Roc Score: 0.9714938 | Time elapsed: 3:58:46.490093\n",
      "iterations: 3676 | train_loss: 0.048627518 | validation_loss: 0.04721235 | Roc Score: 0.9714964 | Time elapsed: 3:58:50.312239\n",
      "iterations: 3677 | train_loss: 0.021043532 | validation_loss: 0.047214057 | Roc Score: 0.9714991 | Time elapsed: 3:58:54.189651\n",
      "iterations: 3678 | train_loss: 0.035380155 | validation_loss: 0.04722739 | Roc Score: 0.97150165 | Time elapsed: 3:58:58.083017\n",
      "iterations: 3679 | train_loss: 0.044961754 | validation_loss: 0.047280945 | Roc Score: 0.9715043 | Time elapsed: 3:59:02.058761\n",
      "iterations: 3680 | train_loss: 0.028388549 | validation_loss: 0.047463115 | Roc Score: 0.97150654 | Time elapsed: 3:59:06.001414\n",
      "iterations: 3681 | train_loss: 0.07513817 | validation_loss: 0.047449987 | Roc Score: 0.97150886 | Time elapsed: 3:59:09.899020\n",
      "iterations: 3682 | train_loss: 0.04370009 | validation_loss: 0.04749518 | Roc Score: 0.9715115 | Time elapsed: 3:59:13.810842\n",
      "iterations: 3683 | train_loss: 0.03984974 | validation_loss: 0.04750047 | Roc Score: 0.97151405 | Time elapsed: 3:59:17.669385\n",
      "iterations: 3684 | train_loss: 0.031909347 | validation_loss: 0.047384772 | Roc Score: 0.9715165 | Time elapsed: 3:59:21.581934\n",
      "iterations: 3685 | train_loss: 0.058302563 | validation_loss: 0.047174815 | Roc Score: 0.9715193 | Time elapsed: 3:59:25.480568\n",
      "iterations: 3686 | train_loss: 0.04320038 | validation_loss: 0.04707385 | Roc Score: 0.97152185 | Time elapsed: 3:59:29.378569\n",
      "iterations: 3687 | train_loss: 0.034711506 | validation_loss: 0.047061097 | Roc Score: 0.9715243 | Time elapsed: 3:59:33.287113\n",
      "iterations: 3688 | train_loss: 0.038461354 | validation_loss: 0.04711812 | Roc Score: 0.9715268 | Time elapsed: 3:59:37.182673\n",
      "iterations: 3689 | train_loss: 0.045245614 | validation_loss: 0.047177337 | Roc Score: 0.9715292 | Time elapsed: 3:59:41.101730\n",
      "iterations: 3690 | train_loss: 0.061407316 | validation_loss: 0.047138896 | Roc Score: 0.971532 | Time elapsed: 3:59:45.035916\n",
      "iterations: 3691 | train_loss: 0.040664352 | validation_loss: 0.047194667 | Roc Score: 0.97153497 | Time elapsed: 3:59:48.924460\n",
      "iterations: 3692 | train_loss: 0.03976146 | validation_loss: 0.047307 | Roc Score: 0.97153777 | Time elapsed: 3:59:52.812552\n",
      "iterations: 3693 | train_loss: 0.048943616 | validation_loss: 0.04742261 | Roc Score: 0.97154075 | Time elapsed: 3:59:56.732798\n",
      "iterations: 3694 | train_loss: 0.069426954 | validation_loss: 0.04800617 | Roc Score: 0.97154397 | Time elapsed: 4:00:00.599591\n"
     ]
    }
   ],
   "source": [
    "# create a saver object\n",
    "saver = tf.train.Saver(max_to_keep=1)\n",
    "\n",
    "# variables to store the accuracy, loss, iteration of our best model\n",
    "best_accuracy = 0\n",
    "best_roc = -10\n",
    "best_iteration = None\n",
    "\n",
    "iteration = 0\n",
    "\n",
    "# number of hours for training\n",
    "train_hours = 4\n",
    "\n",
    "# feed dictionary for validation\n",
    "feed_dict_validation =  {X:sequence_generator(comments_validation, max_length, size),\n",
    "                        labels:sentiments_validation,\n",
    "                        length:seq_length_validation,\n",
    "                        keep_prob: 1.0}\n",
    "\n",
    "t1 = time.time()\n",
    "\n",
    "# create a graph session and optimize under it\n",
    "with tf.Session() as sess:\n",
    "    \n",
    "    # initialize variables\n",
    "    sess.run(tf.global_variables_initializer())\n",
    "    sess.run(tf.local_variables_initializer())\n",
    "\n",
    "    # while minutes have not elapsed \n",
    "    while (time.time()-t1) < train_hours*60*60:\n",
    "        \n",
    "        # break if max iteration is reached\n",
    "        if iteration >= max_iter:\n",
    "            break\n",
    "\n",
    "        # randomly choosing the indices of the batch \n",
    "        rand_index = np.random.choice(sentiments_train.shape[0], size=batch_size)\n",
    "\n",
    "        # extract the batch data\n",
    "        sequences_batch, seq_length_batch, sentiments_batch = \\\n",
    "        generate_train_batch(rand_index, comments_train, seq_length_train, sentiments_train,\n",
    "                             max_length, size)\n",
    "        \n",
    "        # feed dictionary for batch\n",
    "        feed_dict_batch =  {X:sequences_batch,\n",
    "                            labels:sentiments_batch,\n",
    "                            length:seq_length_batch,\n",
    "                            keep_prob: 0.75}\n",
    "        # feed dictionary for train\n",
    "        feed_dict_train =  {X:sequences_batch,\n",
    "                            labels:sentiments_batch,\n",
    "                            length:seq_length_batch,\n",
    "                            keep_prob: 1.0}        \n",
    "        \n",
    "        # execute optimization step\n",
    "        sess.run(train_step, feed_dict=feed_dict_batch)\n",
    "\n",
    "        # calculate temporary train loss and append it to the designated list\n",
    "        temp_train_loss = loss.eval(session=sess, feed_dict=feed_dict_train)\n",
    "        train_loss.append(temp_train_loss)\n",
    "        # calculate temporary validation loss and append it to the designated list\n",
    "        temp_validation_loss = loss.eval(session=sess, feed_dict=feed_dict_validation)\n",
    "        valid_loss.append(temp_validation_loss)\n",
    "        # calculate roc score\n",
    "        temp_roc_score = sess.run(roc, feed_dict=feed_dict_validation)[1]\n",
    "        valid_roc.append(temp_roc_score)\n",
    "        \n",
    "        # if valid loss is better than best recorded so far then\n",
    "        # update the parameters of the best model and save the model\n",
    "        if temp_roc_score > best_roc:\n",
    "            best_roc = temp_roc_score\n",
    "            best_iteration = iteration          \n",
    "            saver.save(sess, './my-model', global_step = best_iteration)\n",
    "\n",
    "        # print metric info\n",
    "        print(\"iterations:\",iteration,\n",
    "              \"| train_loss:\", temp_train_loss,\n",
    "              \"| validation_loss:\", temp_validation_loss,\n",
    "              \"| Roc Score:\", temp_roc_score,\n",
    "              \"| Time elapsed:\",str(datetime.timedelta(seconds=time.time()-t1)))\n",
    "        \n",
    "        # increment iteration\n",
    "        iteration = iteration+1"
   ]
  },
  {
   "cell_type": "markdown",
   "metadata": {},
   "source": [
    "# Visualization of performance"
   ]
  },
  {
   "cell_type": "markdown",
   "metadata": {},
   "source": [
    "**Plot of loss vs iteration**"
   ]
  },
  {
   "cell_type": "code",
   "execution_count": 38,
   "metadata": {
    "colab": {
     "autoexec": {
      "startup": false,
      "wait_interval": 0
     },
     "base_uri": "https://localhost:8080/",
     "height": 566,
     "output_extras": [
      {
       "item_id": 1
      }
     ]
    },
    "colab_type": "code",
    "executionInfo": {
     "elapsed": 2207,
     "status": "ok",
     "timestamp": 1520346635831,
     "user": {
      "displayName": "Itrat Rahman",
      "photoUrl": "//lh3.googleusercontent.com/-j1V_yfZD3m0/AAAAAAAAAAI/AAAAAAAAFTg/pDPmK0kE5mI/s50-c-k-no/photo.jpg",
      "userId": "116815226076340067076"
     },
     "user_tz": -360
    },
    "id": "itTuW2qCLiL5",
    "outputId": "78fbde79-5d17-45c9-b90e-0aebf4214613"
   },
   "outputs": [
    {
     "data": {
      "image/png": "[encoded data removed]",
      "text/plain": [
       "<matplotlib.figure.Figure at 0x7fb7464078d0>"
      ]
     },
     "metadata": {
      "tags": []
     },
     "output_type": "display_data"
    }
   ],
   "source": [
    "plt.figure(figsize=(16, 8), dpi= 80, facecolor='w', edgecolor='k')\n",
    "iterations = list(range(1,iteration+1))\n",
    "plt.plot(iterations, train_loss, label = \"train loss\")\n",
    "plt.plot(iterations, valid_loss, label = \"valid loss\")\n",
    "plt.title(\"Loss\")\n",
    "plt.xlabel(\"iter\")\n",
    "plt.ylabel(\"loss\")\n",
    "plt.legend()\n",
    "plt.grid()\n",
    "plt.show()"
   ]
  },
  {
   "cell_type": "markdown",
   "metadata": {},
   "source": [
    "**Plot of ROC AUC vs iteration**"
   ]
  },
  {
   "cell_type": "code",
   "execution_count": 39,
   "metadata": {
    "colab": {
     "autoexec": {
      "startup": false,
      "wait_interval": 0
     },
     "base_uri": "https://localhost:8080/",
     "height": 566,
     "output_extras": [
      {
       "item_id": 1
      }
     ]
    },
    "colab_type": "code",
    "executionInfo": {
     "elapsed": 822,
     "status": "ok",
     "timestamp": 1520346636800,
     "user": {
      "displayName": "Itrat Rahman",
      "photoUrl": "//lh3.googleusercontent.com/-j1V_yfZD3m0/AAAAAAAAAAI/AAAAAAAAFTg/pDPmK0kE5mI/s50-c-k-no/photo.jpg",
      "userId": "116815226076340067076"
     },
     "user_tz": -360
    },
    "id": "ok-5IW8xL87J",
    "outputId": "09d817b2-1f1a-4baf-9f31-eecb29bfd229"
   },
   "outputs": [
    {
     "data": {
      "image/png": "[encoded data removed]",
      "text/plain": [
       "<matplotlib.figure.Figure at 0x7fb74cb98a20>"
      ]
     },
     "metadata": {
      "tags": []
     },
     "output_type": "display_data"
    }
   ],
   "source": [
    "plt.figure(figsize=(16, 8), dpi= 80, facecolor='w', edgecolor='k')\n",
    "plt.plot(iterations, valid_roc)\n",
    "plt.title(\"ROC AUC\")\n",
    "plt.xlabel(\"iter\")\n",
    "plt.ylabel(\"Auc\")\n",
    "plt.grid()\n",
    "plt.show()"
   ]
  },
  {
   "cell_type": "markdown",
   "metadata": {},
   "source": [
    "# Create a submission file"
   ]
  },
  {
   "cell_type": "code",
   "execution_count": 0,
   "metadata": {
    "colab": {
     "autoexec": {
      "startup": false,
      "wait_interval": 0
     }
    },
    "colab_type": "code",
    "collapsed": true,
    "id": "cpu2T-5AVYjM"
   },
   "outputs": [],
   "source": [
    "del(comments_train, sentiments_train, seq_length_train, comments_validation, sentiments_validation, seq_length_validation)"
   ]
  },
  {
   "cell_type": "markdown",
   "metadata": {},
   "source": [
    "**Create predictions matrix in folds and save the predictions in a csv file**"
   ]
  },
  {
   "cell_type": "code",
   "execution_count": 41,
   "metadata": {
    "colab": {
     "autoexec": {
      "startup": false,
      "wait_interval": 0
     },
     "base_uri": "https://localhost:8080/",
     "height": 706,
     "output_extras": [
      {
       "item_id": 41
      }
     ]
    },
    "colab_type": "code",
    "executionInfo": {
     "elapsed": 76394,
     "status": "ok",
     "timestamp": 1520346713879,
     "user": {
      "displayName": "Itrat Rahman",
      "photoUrl": "//lh3.googleusercontent.com/-j1V_yfZD3m0/AAAAAAAAAAI/AAAAAAAAFTg/pDPmK0kE5mI/s50-c-k-no/photo.jpg",
      "userId": "116815226076340067076"
     },
     "user_tz": -360
    },
    "id": "IN0I-JfrL-Uj",
    "outputId": "57d80b0d-f890-4df6-fd85-e3eef4e87d6a"
   },
   "outputs": [
    {
     "name": "stdout",
     "output_type": "stream",
     "text": [
      "INFO:tensorflow:Restoring parameters from ./my-model-3694\n",
      "Computed predictions for fold 0\n",
      "Computed predictions for fold 1\n",
      "Computed predictions for fold 2\n",
      "Computed predictions for fold 3\n",
      "Computed predictions for fold 4\n",
      "Computed predictions for fold 5\n",
      "Computed predictions for fold 6\n",
      "Computed predictions for fold 7\n",
      "Computed predictions for fold 8\n",
      "Computed predictions for fold 9\n",
      "Computed predictions for fold 10\n",
      "Computed predictions for fold 11\n",
      "Computed predictions for fold 12\n",
      "Computed predictions for fold 13\n",
      "Computed predictions for fold 14\n",
      "Computed predictions for fold 15\n",
      "Computed predictions for fold 16\n",
      "Computed predictions for fold 17\n",
      "Computed predictions for fold 18\n",
      "Computed predictions for fold 19\n",
      "Computed predictions for fold 20\n",
      "Computed predictions for fold 21\n",
      "Computed predictions for fold 22\n",
      "Computed predictions for fold 23\n",
      "Computed predictions for fold 24\n",
      "Computed predictions for fold 25\n",
      "Computed predictions for fold 26\n",
      "Computed predictions for fold 27\n",
      "Computed predictions for fold 28\n",
      "Computed predictions for fold 29\n",
      "Computed predictions for fold 30\n",
      "Computed predictions for fold 31\n",
      "Computed predictions for fold 32\n",
      "Computed predictions for fold 33\n",
      "Computed predictions for fold 34\n",
      "Computed predictions for fold 35\n",
      "Computed predictions for fold 36\n",
      "Computed predictions for fold 37\n",
      "Computed predictions for fold 38\n",
      "Computed predictions for fold 39\n"
     ]
    }
   ],
   "source": [
    "with tf.Session() as sess:  \n",
    "    \n",
    "    # restore the best model\n",
    "    model_path = \"./\"+\"my-model-\"+str(best_iteration)\n",
    "    saver.restore(sess, model_path)\n",
    "    \n",
    "    # break the test set into k folds other wise kernel will be out of memory\n",
    "    n = len(test_id)\n",
    "    k = 40\n",
    "    step = n//k\n",
    "    \n",
    "    # array to store the prediction\n",
    "    preds = np.array([])\n",
    "\n",
    "    # iterate through each fold\n",
    "    for i in range(k):\n",
    "\n",
    "        # start and end indices of the fold\n",
    "        if i != (k-1):\n",
    "            start = (step*i)\n",
    "            end = (step*(i+1)) \n",
    "        else:\n",
    "            start = (step*i)\n",
    "            end = len(test_id)\n",
    "            \n",
    "        \n",
    "\n",
    "        # feed dictionary for the fold\n",
    "        feed_dict_test =  {X:sequence_generator(comments_test[start:end], max_length, size),\n",
    "                            length:seq_length_test[start:end],\n",
    "                            keep_prob: 1.0}\n",
    "\n",
    "        # evaluate predictions of the fold\n",
    "        fold_preds = logits.eval(session=sess, feed_dict = feed_dict_test)\n",
    "        if i == 0:\n",
    "            preds  = fold_preds\n",
    "        else:\n",
    "            preds = np.append(preds, fold_preds, axis=0)\n",
    "        \n",
    "        print(\"Computed predictions for fold\",i)\n",
    "        \n",
    "    del(model, comments_test, seq_length_test)\n",
    "    \n",
    "    submission_matrix = np.append(np.transpose([test_id]), preds, axis=1)\n",
    "    del(test_id)\n",
    "    \n",
    "    # save the submission csv file\n",
    "    submission_path = \"./submission.csv\"\n",
    "    columns = [\"id\",\"toxic\",\"severe_toxic\",\"obscene\",\"threat\",\"insult\",\"identity_hate\"]\n",
    "    submission = pd.DataFrame(submission_matrix, columns= columns)\n",
    "    del(submission_matrix)\n",
    "    submission.to_csv(submission_path, header = True, index=False)"
   ]
  },
  {
   "cell_type": "markdown",
   "metadata": {},
   "source": [
    "**Save the submission file in google drive**"
   ]
  },
  {
   "cell_type": "code",
   "execution_count": 0,
   "metadata": {
    "colab": {
     "autoexec": {
      "startup": false,
      "wait_interval": 0
     }
    },
    "colab_type": "code",
    "collapsed": true,
    "id": "G3We-QgPlfnE"
   },
   "outputs": [],
   "source": [
    "# Code to read csv file into colaboratory:\n",
    "!pip install -U -q PyDrive\n",
    "from pydrive.auth import GoogleAuth\n",
    "from pydrive.drive import GoogleDrive\n",
    "from google.colab import auth\n",
    "from oauth2client.client import GoogleCredentials\n",
    "\n",
    "# 1. Authenticate and create the PyDrive client.\n",
    "auth.authenticate_user()\n",
    "gauth = GoogleAuth()\n",
    "gauth.credentials = GoogleCredentials.get_application_default()\n",
    "drive = GoogleDrive(gauth)"
   ]
  },
  {
   "cell_type": "code",
   "execution_count": 0,
   "metadata": {
    "colab": {
     "autoexec": {
      "startup": false,
      "wait_interval": 0
     }
    },
    "colab_type": "code",
    "collapsed": true,
    "id": "0VJypPxoMC6q"
   },
   "outputs": [],
   "source": [
    "# Create & upload a text file.\n",
    "uploaded = drive.CreateFile({'title': 'submission.csv', 'parents':[{u'id': file_id_data[\"download_folder2_id\"]}]})\n",
    "uploaded.SetContentFile(\"submission.csv\")\n",
    "uploaded.Upload()"
   ]
  }
 ],
 "metadata": {
  "accelerator": "GPU",
  "colab": {
   "collapsed_sections": [],
   "default_view": {},
   "name": "model4.ipynb",
   "provenance": [],
   "toc_visible": true,
   "version": "0.3.2",
   "views": {}
  },
  "kernelspec": {
   "display_name": "Python 3",
   "language": "python",
   "name": "python3"
  },
  "language_info": {
   "codemirror_mode": {
    "name": "ipython",
    "version": 3
   },
   "file_extension": ".py",
   "mimetype": "text/x-python",
   "name": "python",
   "nbconvert_exporter": "python",
   "pygments_lexer": "ipython3",
   "version": "3.6.3"
  }
 },
 "nbformat": 4,
 "nbformat_minor": 1
}
