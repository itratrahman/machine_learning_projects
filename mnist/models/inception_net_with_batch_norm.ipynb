{
 "cells": [
  {
   "cell_type": "markdown",
   "metadata": {
    "_uuid": "edbb2b5b9057be54610813a14f565ad288ea7b27"
   },
   "source": [
    "# DIGIT CLASSIFICATION USING MNIST DATA (INCEPTION NETWORK)"
   ]
  },
  {
   "cell_type": "markdown",
   "metadata": {
    "_cell_guid": "b1e0d8aa-349b-4117-b498-e065268eea3e",
    "_uuid": "18d43621382e4603b7196bf7920bc02da7c6c11c"
   },
   "source": [
    "**Import necessary packages and modules**"
   ]
  },
  {
   "cell_type": "code",
   "execution_count": 1,
   "metadata": {
    "_cell_guid": "09957a86-b2c4-4bcc-a9f1-d8ff647547e8",
    "_uuid": "028401104b1ae64de70c5dc82d32ad70c2cfea95"
   },
   "outputs": [],
   "source": [
    "import time\n",
    "import random\n",
    "import math\n",
    "import numpy as np\n",
    "import pandas as pd\n",
    "import tensorflow as tf\n",
    "import progressbar\n",
    "import matplotlib\n",
    "import matplotlib.pyplot as plt\n",
    "import cv2\n",
    "%matplotlib inline"
   ]
  },
  {
   "cell_type": "markdown",
   "metadata": {
    "_cell_guid": "6d4349c9-3191-4613-9c5a-5f3c145f2289",
    "_uuid": "319ebb51a4ac5215f2fa24c1cd3b126e282fa083"
   },
   "source": [
    "**Set random seed of numpy and tensorflow to make the result reproducible**"
   ]
  },
  {
   "cell_type": "code",
   "execution_count": 2,
   "metadata": {
    "_cell_guid": "f025deb4-89cd-47bc-aa93-4b190013b7f4",
    "_uuid": "8f0bc50ab5d0c7fd6d20c729d053b34a97d1c28d"
   },
   "outputs": [
    {
     "name": "stdout",
     "output_type": "stream",
     "text": [
      "random seed of numpy:  88\n",
      "random seed of tensorflow:  33\n"
     ]
    }
   ],
   "source": [
    "# np_rand_seed = random.randint(0,100)\n",
    "# tf_rand_seed = random.randint(0,100)\n",
    "np_rand_seed = 88\n",
    "tf_rand_seed = 33\n",
    "np.random.seed(np_rand_seed)\n",
    "tf.set_random_seed(tf_rand_seed)\n",
    "print(\"random seed of numpy: \", np_rand_seed)\n",
    "print(\"random seed of tensorflow: \", tf_rand_seed)"
   ]
  },
  {
   "cell_type": "markdown",
   "metadata": {
    "_cell_guid": "4bb8d5aa-aacb-415b-9f74-a7983cc76925",
    "_uuid": "531ab95c13471380fdf0a542fe02774e6c67d92b"
   },
   "source": [
    "## 1. Loading and preprocess training data"
   ]
  },
  {
   "cell_type": "markdown",
   "metadata": {
    "_cell_guid": "ed7292a8-d565-4604-a503-0d3bf4923b5c",
    "_uuid": "264b31c4822adcdf4eec19124409628502347e28"
   },
   "source": [
    "**Load data**"
   ]
  },
  {
   "cell_type": "code",
   "execution_count": 3,
   "metadata": {
    "_cell_guid": "0d2e7f08-222e-4138-92b9-f716272f75ae",
    "_uuid": "2077c8a83c8aee00fbf7e470668fa7f61c69b147"
   },
   "outputs": [],
   "source": [
    "# read the train data\n",
    "train_data = pd.read_csv('../input/train.csv')"
   ]
  },
  {
   "cell_type": "code",
   "execution_count": 4,
   "metadata": {
    "_cell_guid": "0c5054fe-677b-4649-9d6c-1791e34be6b8",
    "_uuid": "fcb2e4b57898ccb61b8195fa3836a86cadb5c5fb"
   },
   "outputs": [
    {
     "name": "stdout",
     "output_type": "stream",
     "text": [
      "shape of train_data: (42000, 785)\n"
     ]
    }
   ],
   "source": [
    "print(\"shape of train_data:\",train_data.shape)"
   ]
  },
  {
   "cell_type": "code",
   "execution_count": 5,
   "metadata": {
    "_cell_guid": "84573ca2-9342-4568-a424-346e2cc1b2cf",
    "_uuid": "b4f2040247f6d18cb53d1935efb87737053ae0a7"
   },
   "outputs": [
    {
     "data": {
      "text/html": [
       "<div>\n",
       "<style scoped>\n",
       "    .dataframe tbody tr th:only-of-type {\n",
       "        vertical-align: middle;\n",
       "    }\n",
       "\n",
       "    .dataframe tbody tr th {\n",
       "        vertical-align: top;\n",
       "    }\n",
       "\n",
       "    .dataframe thead th {\n",
       "        text-align: right;\n",
       "    }\n",
       "</style>\n",
       "<table border=\"1\" class=\"dataframe\">\n",
       "  <thead>\n",
       "    <tr style=\"text-align: right;\">\n",
       "      <th></th>\n",
       "      <th>label</th>\n",
       "      <th>pixel0</th>\n",
       "      <th>pixel1</th>\n",
       "      <th>pixel2</th>\n",
       "      <th>pixel3</th>\n",
       "      <th>pixel4</th>\n",
       "      <th>pixel5</th>\n",
       "      <th>pixel6</th>\n",
       "      <th>pixel7</th>\n",
       "      <th>pixel8</th>\n",
       "      <th>...</th>\n",
       "      <th>pixel774</th>\n",
       "      <th>pixel775</th>\n",
       "      <th>pixel776</th>\n",
       "      <th>pixel777</th>\n",
       "      <th>pixel778</th>\n",
       "      <th>pixel779</th>\n",
       "      <th>pixel780</th>\n",
       "      <th>pixel781</th>\n",
       "      <th>pixel782</th>\n",
       "      <th>pixel783</th>\n",
       "    </tr>\n",
       "  </thead>\n",
       "  <tbody>\n",
       "    <tr>\n",
       "      <th>0</th>\n",
       "      <td>1</td>\n",
       "      <td>0</td>\n",
       "      <td>0</td>\n",
       "      <td>0</td>\n",
       "      <td>0</td>\n",
       "      <td>0</td>\n",
       "      <td>0</td>\n",
       "      <td>0</td>\n",
       "      <td>0</td>\n",
       "      <td>0</td>\n",
       "      <td>...</td>\n",
       "      <td>0</td>\n",
       "      <td>0</td>\n",
       "      <td>0</td>\n",
       "      <td>0</td>\n",
       "      <td>0</td>\n",
       "      <td>0</td>\n",
       "      <td>0</td>\n",
       "      <td>0</td>\n",
       "      <td>0</td>\n",
       "      <td>0</td>\n",
       "    </tr>\n",
       "    <tr>\n",
       "      <th>1</th>\n",
       "      <td>0</td>\n",
       "      <td>0</td>\n",
       "      <td>0</td>\n",
       "      <td>0</td>\n",
       "      <td>0</td>\n",
       "      <td>0</td>\n",
       "      <td>0</td>\n",
       "      <td>0</td>\n",
       "      <td>0</td>\n",
       "      <td>0</td>\n",
       "      <td>...</td>\n",
       "      <td>0</td>\n",
       "      <td>0</td>\n",
       "      <td>0</td>\n",
       "      <td>0</td>\n",
       "      <td>0</td>\n",
       "      <td>0</td>\n",
       "      <td>0</td>\n",
       "      <td>0</td>\n",
       "      <td>0</td>\n",
       "      <td>0</td>\n",
       "    </tr>\n",
       "    <tr>\n",
       "      <th>2</th>\n",
       "      <td>1</td>\n",
       "      <td>0</td>\n",
       "      <td>0</td>\n",
       "      <td>0</td>\n",
       "      <td>0</td>\n",
       "      <td>0</td>\n",
       "      <td>0</td>\n",
       "      <td>0</td>\n",
       "      <td>0</td>\n",
       "      <td>0</td>\n",
       "      <td>...</td>\n",
       "      <td>0</td>\n",
       "      <td>0</td>\n",
       "      <td>0</td>\n",
       "      <td>0</td>\n",
       "      <td>0</td>\n",
       "      <td>0</td>\n",
       "      <td>0</td>\n",
       "      <td>0</td>\n",
       "      <td>0</td>\n",
       "      <td>0</td>\n",
       "    </tr>\n",
       "    <tr>\n",
       "      <th>3</th>\n",
       "      <td>4</td>\n",
       "      <td>0</td>\n",
       "      <td>0</td>\n",
       "      <td>0</td>\n",
       "      <td>0</td>\n",
       "      <td>0</td>\n",
       "      <td>0</td>\n",
       "      <td>0</td>\n",
       "      <td>0</td>\n",
       "      <td>0</td>\n",
       "      <td>...</td>\n",
       "      <td>0</td>\n",
       "      <td>0</td>\n",
       "      <td>0</td>\n",
       "      <td>0</td>\n",
       "      <td>0</td>\n",
       "      <td>0</td>\n",
       "      <td>0</td>\n",
       "      <td>0</td>\n",
       "      <td>0</td>\n",
       "      <td>0</td>\n",
       "    </tr>\n",
       "    <tr>\n",
       "      <th>4</th>\n",
       "      <td>0</td>\n",
       "      <td>0</td>\n",
       "      <td>0</td>\n",
       "      <td>0</td>\n",
       "      <td>0</td>\n",
       "      <td>0</td>\n",
       "      <td>0</td>\n",
       "      <td>0</td>\n",
       "      <td>0</td>\n",
       "      <td>0</td>\n",
       "      <td>...</td>\n",
       "      <td>0</td>\n",
       "      <td>0</td>\n",
       "      <td>0</td>\n",
       "      <td>0</td>\n",
       "      <td>0</td>\n",
       "      <td>0</td>\n",
       "      <td>0</td>\n",
       "      <td>0</td>\n",
       "      <td>0</td>\n",
       "      <td>0</td>\n",
       "    </tr>\n",
       "    <tr>\n",
       "      <th>5</th>\n",
       "      <td>0</td>\n",
       "      <td>0</td>\n",
       "      <td>0</td>\n",
       "      <td>0</td>\n",
       "      <td>0</td>\n",
       "      <td>0</td>\n",
       "      <td>0</td>\n",
       "      <td>0</td>\n",
       "      <td>0</td>\n",
       "      <td>0</td>\n",
       "      <td>...</td>\n",
       "      <td>0</td>\n",
       "      <td>0</td>\n",
       "      <td>0</td>\n",
       "      <td>0</td>\n",
       "      <td>0</td>\n",
       "      <td>0</td>\n",
       "      <td>0</td>\n",
       "      <td>0</td>\n",
       "      <td>0</td>\n",
       "      <td>0</td>\n",
       "    </tr>\n",
       "    <tr>\n",
       "      <th>6</th>\n",
       "      <td>7</td>\n",
       "      <td>0</td>\n",
       "      <td>0</td>\n",
       "      <td>0</td>\n",
       "      <td>0</td>\n",
       "      <td>0</td>\n",
       "      <td>0</td>\n",
       "      <td>0</td>\n",
       "      <td>0</td>\n",
       "      <td>0</td>\n",
       "      <td>...</td>\n",
       "      <td>0</td>\n",
       "      <td>0</td>\n",
       "      <td>0</td>\n",
       "      <td>0</td>\n",
       "      <td>0</td>\n",
       "      <td>0</td>\n",
       "      <td>0</td>\n",
       "      <td>0</td>\n",
       "      <td>0</td>\n",
       "      <td>0</td>\n",
       "    </tr>\n",
       "    <tr>\n",
       "      <th>7</th>\n",
       "      <td>3</td>\n",
       "      <td>0</td>\n",
       "      <td>0</td>\n",
       "      <td>0</td>\n",
       "      <td>0</td>\n",
       "      <td>0</td>\n",
       "      <td>0</td>\n",
       "      <td>0</td>\n",
       "      <td>0</td>\n",
       "      <td>0</td>\n",
       "      <td>...</td>\n",
       "      <td>0</td>\n",
       "      <td>0</td>\n",
       "      <td>0</td>\n",
       "      <td>0</td>\n",
       "      <td>0</td>\n",
       "      <td>0</td>\n",
       "      <td>0</td>\n",
       "      <td>0</td>\n",
       "      <td>0</td>\n",
       "      <td>0</td>\n",
       "    </tr>\n",
       "    <tr>\n",
       "      <th>8</th>\n",
       "      <td>5</td>\n",
       "      <td>0</td>\n",
       "      <td>0</td>\n",
       "      <td>0</td>\n",
       "      <td>0</td>\n",
       "      <td>0</td>\n",
       "      <td>0</td>\n",
       "      <td>0</td>\n",
       "      <td>0</td>\n",
       "      <td>0</td>\n",
       "      <td>...</td>\n",
       "      <td>0</td>\n",
       "      <td>0</td>\n",
       "      <td>0</td>\n",
       "      <td>0</td>\n",
       "      <td>0</td>\n",
       "      <td>0</td>\n",
       "      <td>0</td>\n",
       "      <td>0</td>\n",
       "      <td>0</td>\n",
       "      <td>0</td>\n",
       "    </tr>\n",
       "    <tr>\n",
       "      <th>9</th>\n",
       "      <td>3</td>\n",
       "      <td>0</td>\n",
       "      <td>0</td>\n",
       "      <td>0</td>\n",
       "      <td>0</td>\n",
       "      <td>0</td>\n",
       "      <td>0</td>\n",
       "      <td>0</td>\n",
       "      <td>0</td>\n",
       "      <td>0</td>\n",
       "      <td>...</td>\n",
       "      <td>0</td>\n",
       "      <td>0</td>\n",
       "      <td>0</td>\n",
       "      <td>0</td>\n",
       "      <td>0</td>\n",
       "      <td>0</td>\n",
       "      <td>0</td>\n",
       "      <td>0</td>\n",
       "      <td>0</td>\n",
       "      <td>0</td>\n",
       "    </tr>\n",
       "  </tbody>\n",
       "</table>\n",
       "<p>10 rows × 785 columns</p>\n",
       "</div>"
      ],
      "text/plain": [
       "   label  pixel0  pixel1  pixel2  pixel3  pixel4  pixel5  pixel6  pixel7  \\\n",
       "0      1       0       0       0       0       0       0       0       0   \n",
       "1      0       0       0       0       0       0       0       0       0   \n",
       "2      1       0       0       0       0       0       0       0       0   \n",
       "3      4       0       0       0       0       0       0       0       0   \n",
       "4      0       0       0       0       0       0       0       0       0   \n",
       "5      0       0       0       0       0       0       0       0       0   \n",
       "6      7       0       0       0       0       0       0       0       0   \n",
       "7      3       0       0       0       0       0       0       0       0   \n",
       "8      5       0       0       0       0       0       0       0       0   \n",
       "9      3       0       0       0       0       0       0       0       0   \n",
       "\n",
       "   pixel8    ...     pixel774  pixel775  pixel776  pixel777  pixel778  \\\n",
       "0       0    ...            0         0         0         0         0   \n",
       "1       0    ...            0         0         0         0         0   \n",
       "2       0    ...            0         0         0         0         0   \n",
       "3       0    ...            0         0         0         0         0   \n",
       "4       0    ...            0         0         0         0         0   \n",
       "5       0    ...            0         0         0         0         0   \n",
       "6       0    ...            0         0         0         0         0   \n",
       "7       0    ...            0         0         0         0         0   \n",
       "8       0    ...            0         0         0         0         0   \n",
       "9       0    ...            0         0         0         0         0   \n",
       "\n",
       "   pixel779  pixel780  pixel781  pixel782  pixel783  \n",
       "0         0         0         0         0         0  \n",
       "1         0         0         0         0         0  \n",
       "2         0         0         0         0         0  \n",
       "3         0         0         0         0         0  \n",
       "4         0         0         0         0         0  \n",
       "5         0         0         0         0         0  \n",
       "6         0         0         0         0         0  \n",
       "7         0         0         0         0         0  \n",
       "8         0         0         0         0         0  \n",
       "9         0         0         0         0         0  \n",
       "\n",
       "[10 rows x 785 columns]"
      ]
     },
     "execution_count": 5,
     "metadata": {},
     "output_type": "execute_result"
    }
   ],
   "source": [
    "# display the head of data\n",
    "train_data.head(10)"
   ]
  },
  {
   "cell_type": "markdown",
   "metadata": {
    "_cell_guid": "53443eb1-5f22-4312-81cf-52e3dd246834",
    "_uuid": "7a8ba2e2f306b17e9929ec1aba3bc377a87bf39f"
   },
   "source": [
    "**Extract the features and output of the data**"
   ]
  },
  {
   "cell_type": "code",
   "execution_count": 6,
   "metadata": {
    "_cell_guid": "961c84ff-70af-4298-9aac-33df3af69770",
    "_uuid": "b766952c12be5cb090c9ccff099023203cc36dd9"
   },
   "outputs": [],
   "source": [
    "# extract features and output \n",
    "features = train_data.columns.tolist()\n",
    "output = \"label\"\n",
    "features.remove(output)"
   ]
  },
  {
   "cell_type": "markdown",
   "metadata": {
    "_uuid": "2d36032f4d028f3a1cb9c047c5b0c708fbc148fd"
   },
   "source": [
    "**Dimension of images**"
   ]
  },
  {
   "cell_type": "code",
   "execution_count": 7,
   "metadata": {
    "_cell_guid": "ab887e44-db24-412d-bea9-00b63b8baa14",
    "_uuid": "114296784c06a2818a2e30f1b2b21c503bfc066c"
   },
   "outputs": [],
   "source": [
    "# image dimensions\n",
    "width = 28\n",
    "height = 28"
   ]
  },
  {
   "cell_type": "markdown",
   "metadata": {
    "_uuid": "37e65604aaa55189f8fd9dfa09105c194c1a913e"
   },
   "source": [
    "**Reshape the features data into images**"
   ]
  },
  {
   "cell_type": "code",
   "execution_count": 8,
   "metadata": {
    "_cell_guid": "5f91c96c-a1b4-4ede-8629-f00c5fe9e70e",
    "_uuid": "3d3f3a982a68cc0c8a004fb324764170e0acfc5d"
   },
   "outputs": [],
   "source": [
    "# extract feature matrix\n",
    "train_X = train_data[features].values\n",
    "train_X = train_X/255.0\n",
    "# reshape the data into image\n",
    "train_X = train_X.reshape((-1, 28,28))"
   ]
  },
  {
   "cell_type": "markdown",
   "metadata": {
    "_uuid": "e354c2cc8f3c11dda3471a45e14e6722fe156a19"
   },
   "source": [
    "**Extract the labels and one hot encode the labels**"
   ]
  },
  {
   "cell_type": "code",
   "execution_count": 9,
   "metadata": {
    "_cell_guid": "7f429e16-4f4d-4a10-92c2-be35a15f0128",
    "_uuid": "2cf3a2489c1f97d1b7a19e66a9b15183bb129be2"
   },
   "outputs": [],
   "source": [
    "# extract labels\n",
    "train_y = train_data[output].values\n",
    "train_y = train_y.astype(int)\n",
    "# one hot enncode the labels\n",
    "train_y = pd.get_dummies(train_y).values"
   ]
  },
  {
   "cell_type": "markdown",
   "metadata": {
    "_uuid": "d817941f2ea39b2d818e6735eff45931544b89ad"
   },
   "source": [
    "**Shape of Xy data of training set**"
   ]
  },
  {
   "cell_type": "code",
   "execution_count": 10,
   "metadata": {
    "_cell_guid": "4b411126-628f-480d-8c5c-65d8e010a2e4",
    "_uuid": "1fccc45e3b70aa2b574369afb0ea09b87c5b94ec"
   },
   "outputs": [
    {
     "name": "stdout",
     "output_type": "stream",
     "text": [
      "shape of train_X: (42000, 28, 28)\n",
      "shape of train_y: (42000, 10)\n"
     ]
    }
   ],
   "source": [
    "print(\"shape of train_X:\",train_X.shape)\n",
    "print(\"shape of train_y:\",train_y.shape)"
   ]
  },
  {
   "cell_type": "markdown",
   "metadata": {
    "_cell_guid": "d6e09501-9ccf-4de7-ab90-dd9b9d4dc1ed",
    "_uuid": "f3c994a4ea0e26b5a1ebb4b3b1a44a024c8cce2a"
   },
   "source": [
    "**Train validation split**"
   ]
  },
  {
   "cell_type": "code",
   "execution_count": 11,
   "metadata": {
    "_cell_guid": "a8890da3-cd73-4655-be86-c358b41c627e",
    "_uuid": "538d28a9f9af8426dca6c91b584d1e7444934081"
   },
   "outputs": [],
   "source": [
    "# generate indices for training and validation sets randomly\n",
    "train_indices = np.random.choice(len(train_y), round(len(train_y)*0.95), replace=False)\n",
    "validation_indices = np.array(list(set(range(len(train_y))) - set(train_indices)))\n",
    "# extract images for train and validation set\n",
    "image_train = train_X[train_indices]\n",
    "image_validation = train_X[validation_indices]\n",
    "# extract labels for train and validation set\n",
    "labels_train = train_y[train_indices]\n",
    "labels_validation = train_y[validation_indices]"
   ]
  },
  {
   "cell_type": "markdown",
   "metadata": {
    "_cell_guid": "af6c42d6-d9f7-4f54-bcb7-01841833ee18",
    "_uuid": "dd41f9f567d3097430d9ee1c4d4e7b1bc58346fc"
   },
   "source": [
    "## 2. Augment Training set"
   ]
  },
  {
   "cell_type": "markdown",
   "metadata": {
    "_uuid": "c35e2588242431424d066a0568a3d3e843f7e531"
   },
   "source": [
    "### 2.1 Functions to carry out different types of image augmentation**"
   ]
  },
  {
   "cell_type": "markdown",
   "metadata": {
    "_cell_guid": "6430b899-dfef-4135-96b7-0ddb7abc6a1e",
    "_uuid": "db1619c37c2281b8e387cbb924cb4cd0116f16b4"
   },
   "source": [
    "**Image Rotation**"
   ]
  },
  {
   "cell_type": "code",
   "execution_count": 12,
   "metadata": {
    "_cell_guid": "9e49a784-93a4-41c9-b7e5-009def937ac4",
    "_uuid": "6d98af15017803223fcca5aefecf0e6755834457"
   },
   "outputs": [],
   "source": [
    "def rotate_image(img, angle = 20):    \n",
    "    '''\n",
    "    a function to rotate image by a given degree\n",
    "    '''    \n",
    "    # rotate image\n",
    "    copy = img.copy()\n",
    "    M_rotate = cv2.getRotationMatrix2D((14,14),angle,1)\n",
    "    img_new = cv2.warpAffine(copy,M_rotate,(28,28))\n",
    "    return img_new"
   ]
  },
  {
   "cell_type": "markdown",
   "metadata": {
    "_cell_guid": "de0d2ccf-2aff-4f37-9c9c-489534a2a56b",
    "_uuid": "7a2632087efe404bb503a617967ba6d9c69831c7"
   },
   "source": [
    "**Horizontal translation**"
   ]
  },
  {
   "cell_type": "code",
   "execution_count": 13,
   "metadata": {
    "_cell_guid": "efed7e29-fe10-4dc1-8249-82b5f09389ad",
    "_uuid": "38fcbdbbe12956b618a8ff6cad729249d5ed49bc"
   },
   "outputs": [],
   "source": [
    "def translate_horizontal(image, shift_horizontal = 5):\n",
    "    '''\n",
    "    A function to translate image horizontally by a shift\n",
    "    '''\n",
    "    # horizontally shift image\n",
    "    img = image.copy()\n",
    "    \n",
    "    shift_vertical = 0\n",
    "    M_translate = np.float32([[1,0,shift_horizontal],[0,1,shift_vertical]])\n",
    "    img_new = cv2.warpAffine(img,M_translate,(28,28))\n",
    "    \n",
    "    return img_new.reshape(28,28).astype(np.float32)"
   ]
  },
  {
   "cell_type": "markdown",
   "metadata": {
    "_cell_guid": "259330cc-79d2-47a2-a8e9-47b97c510709",
    "_uuid": "87234598a9a58094298bed369a9266179bb46ecf"
   },
   "source": [
    "**Vertical translation**"
   ]
  },
  {
   "cell_type": "code",
   "execution_count": 14,
   "metadata": {
    "_cell_guid": "748d85b9-be41-4aad-8107-8ff052ad059d",
    "_uuid": "86985e8d17e502c2bcc750f17c16d4dc1f680a09"
   },
   "outputs": [],
   "source": [
    "def translate_vertical(image, shift_vertical = 5):\n",
    "    \n",
    "    '''a function to translate image vertically by a shift'''\n",
    "    \n",
    "    # vertically shift image\n",
    "    img = image.copy()\n",
    "    \n",
    "    shift_horizontal = 0;\n",
    "    if shift_vertical<0:\n",
    "        image_slice = img[shift_vertical:,:].copy()\n",
    "    if shift_vertical>0:\n",
    "        image_slice = img[:shift_vertical,:].copy()\n",
    "    M_translate = np.float32([[1,0,shift_horizontal],[0,1,shift_vertical]])\n",
    "    img_new = cv2.warpAffine(img,M_translate,(28,28))\n",
    "    \n",
    "    return img_new.reshape(28,28).astype(np.float32)"
   ]
  },
  {
   "cell_type": "markdown",
   "metadata": {
    "_cell_guid": "94b4fad7-2ec9-46a5-8cbc-8f817acc2c3a",
    "_uuid": "ab1dd1b06178e5ad719ec01908774cb76ee6dcb8"
   },
   "source": [
    "**Translation along positive diagonal**"
   ]
  },
  {
   "cell_type": "code",
   "execution_count": 15,
   "metadata": {
    "_cell_guid": "96116195-aad5-48d5-9a60-d81a57f9130d",
    "_uuid": "f80ea7b7dd81f53ef6d990a295fed47b83663a69"
   },
   "outputs": [],
   "source": [
    "def translate_positive_diagonal(image, shift_diagonal = 5):\n",
    "    \n",
    "    '''a function to translate image along positive diagonal'''\n",
    "    \n",
    "    # translate image along positive diagonal\n",
    "    img = image.copy()\n",
    "    \n",
    "    if shift_diagonal<0:\n",
    "        hor_slice = img[shift_diagonal:,:].copy()\n",
    "        ver_slice = img[:,shift_diagonal:].copy()\n",
    "    else:\n",
    "        hor_slice = img[:shift_diagonal,:].copy()\n",
    "        ver_slice = img[:,:shift_diagonal].copy()\n",
    "    M_translate = np.float32([[1,0,shift_diagonal],[0,1,shift_diagonal]])\n",
    "    img_new = cv2.warpAffine(img,M_translate,(28,28))\n",
    "    \n",
    "    return img_new.reshape(28,28).astype(np.float32)"
   ]
  },
  {
   "cell_type": "markdown",
   "metadata": {
    "_cell_guid": "05386af9-e8f5-4c82-afbb-77a0c7fca5bf",
    "_uuid": "95ac5621f89c4a3c5f203753439e5134e82d1d35"
   },
   "source": [
    "**Translation along negative diagonal**"
   ]
  },
  {
   "cell_type": "code",
   "execution_count": 16,
   "metadata": {
    "_cell_guid": "f318e7dd-d95d-40ec-859f-ea09213c6451",
    "_uuid": "a8a3f6132445e2e6361a13be6d33b414bace09ed"
   },
   "outputs": [],
   "source": [
    "def translate_negative_diagonal(image, shift_diagonal = 5):\n",
    "    \n",
    "    '''a function to translate image along negative diagonal'''\n",
    "    \n",
    "    # translate image along negative diagonal\n",
    "    img = image.copy()\n",
    "    \n",
    "    if shift_diagonal<0:\n",
    "        hor_slice = img[:-shift_diagonal,:].copy()\n",
    "        ver_slice = img[:,shift_diagonal:].copy()\n",
    "    if shift_diagonal>0:\n",
    "        hor_slice = img[-shift_diagonal:,:].copy()\n",
    "        ver_slice = img[:,:shift_diagonal].copy()\n",
    "    M_translate = np.float32([[1,0,shift_diagonal],[0,1,-shift_diagonal]])\n",
    "    img_new = cv2.warpAffine(img,M_translate,(28,28))\n",
    "        \n",
    "    return img_new.reshape(28,28).astype(np.float32)"
   ]
  },
  {
   "cell_type": "markdown",
   "metadata": {
    "_cell_guid": "113e9ec0-96bd-41bb-90ef-c8a28d0dc9aa",
    "_uuid": "8e3c0beb21b4d5942e53de86a48610a81b650d87"
   },
   "source": [
    "**Zoom image**"
   ]
  },
  {
   "cell_type": "code",
   "execution_count": 17,
   "metadata": {
    "_cell_guid": "a052beb9-6d46-4a19-8c9a-6404cea20bbe",
    "_uuid": "68d07ea01098dffac2737481112472d48308ea31"
   },
   "outputs": [],
   "source": [
    "def zoom(image, zoom_shift = 5):\n",
    "    \n",
    "    '''a function to zoom image'''\n",
    "    \n",
    "    # zoom image\n",
    "    img = image.copy()\n",
    "    \n",
    "    # zoom in \n",
    "    if zoom_shift>0:\n",
    "        # scale\n",
    "        img_new = cv2.resize(img, (28+zoom_shift*2,28+zoom_shift*2)) \n",
    "        # crop\n",
    "        img_new = img_new[zoom_shift:-zoom_shift,zoom_shift:-zoom_shift] \n",
    "    # zoom out\n",
    "    else:\n",
    "        zoom_shift *=-1        \n",
    "        # scale\n",
    "        img_new = cv2.resize(img, (28-zoom_shift*2,28-zoom_shift*2)) \n",
    "        # zero padding\n",
    "        img_new = cv2.copyMakeBorder(img_new,zoom_shift,zoom_shift,zoom_shift,zoom_shift,\n",
    "                                     cv2.BORDER_CONSTANT,value=0.0) \n",
    "        \n",
    "    return img_new.reshape(28,28).astype(np.float32)"
   ]
  },
  {
   "cell_type": "markdown",
   "metadata": {
    "_cell_guid": "b91b0b00-0793-4516-a1bd-7f4979c70efb",
    "_uuid": "d7679c2ce8190afa9d8105e2011c4ef63a331153"
   },
   "source": [
    "**Visualize the image transformations**"
   ]
  },
  {
   "cell_type": "code",
   "execution_count": 18,
   "metadata": {
    "_cell_guid": "28ec893e-0dfe-42a4-a115-55436f311bb1",
    "_uuid": "df11c3c78c4166022701465967a9aa58644f7cb6"
   },
   "outputs": [
    {
     "data": {
      "image/png": "[encoded data removed]",
      "text/plain": [
       "<Figure size 432x288 with 1 Axes>"
      ]
     },
     "metadata": {
      "needs_background": "light"
     },
     "output_type": "display_data"
    },
    {
     "data": {
      "image/png": "[encoded data removed]",
      "text/plain": [
       "<Figure size 1440x1008 with 12 Axes>"
      ]
     },
     "metadata": {
      "needs_background": "light"
     },
     "output_type": "display_data"
    }
   ],
   "source": [
    "image = train_X[3]\n",
    "matplotlib.rcParams['figure.figsize'] = (6.0, 4.0)\n",
    "plt.imshow(image, cmap='gray')\n",
    "plt.title(\"Original Image\")\n",
    "plt.show()\n",
    "matplotlib.rcParams['figure.figsize'] = (20.0, 14.0)\n",
    "generated_image = rotate_image(image,10)\n",
    "plt.subplot(3,4,1)\n",
    "plt.title(\"Positive rotation\")\n",
    "plt.imshow(generated_image, cmap='gray')\n",
    "generated_image = rotate_image(image,-10)\n",
    "plt.subplot(3,4,2)\n",
    "plt.title(\"Negative rotation\")\n",
    "plt.imshow(generated_image, cmap='gray')\n",
    "generated_image = translate_horizontal(image,5)\n",
    "plt.subplot(3,4,3)\n",
    "plt.title(\"Rightward translation\")\n",
    "plt.imshow(generated_image, cmap='gray')\n",
    "generated_image = translate_horizontal(image,-5)\n",
    "plt.subplot(3,4,4)\n",
    "plt.title(\"Leftward translation\")\n",
    "plt.imshow(generated_image, cmap='gray')\n",
    "generated_image = translate_vertical(image,5)\n",
    "plt.subplot(3,4,5)\n",
    "plt.title(\"Downward translation\")\n",
    "plt.imshow(generated_image, cmap='gray')\n",
    "generated_image = translate_vertical(image,-5)\n",
    "plt.subplot(3,4,6)\n",
    "plt.title(\"Upward translation\")\n",
    "plt.imshow(generated_image, cmap='gray')\n",
    "generated_image = translate_positive_diagonal(image,5)\n",
    "plt.subplot(3,4,7)\n",
    "plt.title(\"SE translation\")\n",
    "plt.imshow(generated_image, cmap='gray')\n",
    "generated_image = translate_positive_diagonal(image,-5)\n",
    "plt.subplot(3,4,8)\n",
    "plt.title(\"NW translation\")\n",
    "plt.imshow(generated_image, cmap='gray')\n",
    "generated_image = translate_negative_diagonal(image,5)\n",
    "plt.subplot(3,4,9)\n",
    "plt.title(\"NE translation\")\n",
    "plt.imshow(generated_image, cmap='gray')\n",
    "generated_image = translate_negative_diagonal(image,-5)\n",
    "plt.subplot(3,4,10)\n",
    "plt.title(\"SW translation\")\n",
    "plt.imshow(generated_image, cmap='gray')\n",
    "generated_image = zoom(image,5)\n",
    "plt.subplot(3,4,11)\n",
    "plt.title(\"Zoom in\")\n",
    "plt.imshow(generated_image, cmap='gray')\n",
    "generated_image = zoom(image,-5)\n",
    "plt.subplot(3,4,12)\n",
    "plt.title(\"Zoom Out\")\n",
    "plt.imshow(generated_image, cmap='gray')\n",
    "plt.show()"
   ]
  },
  {
   "cell_type": "markdown",
   "metadata": {
    "_cell_guid": "45a07715-e863-4928-b028-85bef963f009",
    "_uuid": "be46889e5c939228b9734d23164fbd004029f046"
   },
   "source": [
    "### 2.2 Augment training set"
   ]
  },
  {
   "cell_type": "code",
   "execution_count": 19,
   "metadata": {
    "_cell_guid": "b7876bf6-7eaf-416b-960b-93f55a37b833",
    "_uuid": "47f53372d17963fa7713a86d13f8093f95351051"
   },
   "outputs": [],
   "source": [
    "def augment_data(image, labels):\n",
    "    \n",
    "    '''a function to augment band1 and band2 image'''\n",
    "    \n",
    "    # list to store the generated data\n",
    "    image_generated = []\n",
    "    labels_generated = []\n",
    "    \n",
    "    # iterate through each point in train set\n",
    "    for i in range(labels.shape[0]):\n",
    "        \n",
    "        # rotate by positive degree\n",
    "        angle = np.random.randint(1,8)\n",
    "        image_generated.append(rotate_image(image[i],angle)) \n",
    "        labels_generated.append(labels[i])\n",
    "        \n",
    "        # rotate by negative degree\n",
    "        angle = np.random.randint(1,8)\n",
    "        image_generated.append(rotate_image(image[i],-angle)) \n",
    "        labels_generated.append(labels[i])\n",
    "        \n",
    "        # positive horizontal shift\n",
    "        shift = np.random.randint(1,5)\n",
    "        image_generated.append(translate_horizontal(image[i],+shift)) \n",
    "        labels_generated.append(labels[i])\n",
    "        \n",
    "        # negative horizontal shift\n",
    "        shift = np.random.randint(1,5)\n",
    "        image_generated.append(translate_horizontal(image[i],-shift)) \n",
    "        labels_generated.append(labels[i])\n",
    "        \n",
    "        # positive vertical shift\n",
    "        shift = np.random.randint(1,5)\n",
    "        image_generated.append(translate_vertical(image[i],+shift)) \n",
    "        labels_generated.append(labels[i])\n",
    "        \n",
    "        # negative vertical shift\n",
    "        shift = np.random.randint(1,5)\n",
    "        image_generated.append(translate_vertical(image[i],-shift)) \n",
    "        labels_generated.append(labels[i])\n",
    "        \n",
    "        # translate along positive diagonal in positive direction\n",
    "        shift = np.random.randint(1,5)\n",
    "        image_generated.append(translate_positive_diagonal(image[i],+shift)) \n",
    "        labels_generated.append(labels[i])\n",
    "        \n",
    "        # translate along positive diagonal in negative direction\n",
    "        shift = np.random.randint(1,5)\n",
    "        image_generated.append(translate_positive_diagonal(image[i],-shift)) \n",
    "        labels_generated.append(labels[i])\n",
    "        \n",
    "        # translate along negative diagonal in positive direction\n",
    "        shift = np.random.randint(1,5)\n",
    "        image_generated.append(translate_negative_diagonal(image[i],+shift)) \n",
    "        labels_generated.append(labels[i])\n",
    "        \n",
    "        # translate along negative diagonal in negative direction\n",
    "        shift = np.random.randint(1,5)\n",
    "        image_generated.append(translate_negative_diagonal(image[i],-shift)) \n",
    "        labels_generated.append(labels[i])\n",
    "        \n",
    "        # zoom in image\n",
    "        zoom_shift = np.random.randint(1,3)\n",
    "        image_generated.append(zoom(image[i],zoom_shift)) \n",
    "        labels_generated.append(labels[i])\n",
    "        \n",
    "        # zoom out image\n",
    "        zoom_shift = np.random.randint(1,3)\n",
    "        image_generated.append(zoom(image[i],-zoom_shift)) \n",
    "        labels_generated.append(labels[i])        \n",
    "        \n",
    "    # convert the generated data into numpy array\n",
    "    image_generated = np.array(image_generated)\n",
    "    labels_generated = np.array(labels_generated)\n",
    "    \n",
    "    # concatenate the generated data to original train set\n",
    "    image_augmented = np.concatenate((image, image_generated),axis=0)\n",
    "    labels_augmented = np.concatenate((labels, labels_generated),axis=0)\n",
    "    \n",
    "    return image_augmented, labels_augmented"
   ]
  },
  {
   "cell_type": "markdown",
   "metadata": {
    "_cell_guid": "94a37d69-6e83-4a6a-b132-1f8f02b1ef8f",
    "_uuid": "9e209a818e35eba36499e5b118667f770ba02dad"
   },
   "source": [
    "**Augment image and labels of training set**"
   ]
  },
  {
   "cell_type": "code",
   "execution_count": 20,
   "metadata": {
    "_cell_guid": "97a939f0-e364-44c8-9c7c-f47c11762bd9",
    "_uuid": "422d4150386c03e611baf089bdc6baaa9bea22f9"
   },
   "outputs": [],
   "source": [
    "image_train, labels_train = augment_data(image_train, labels_train)"
   ]
  },
  {
   "cell_type": "code",
   "execution_count": 21,
   "metadata": {
    "_cell_guid": "df2cad47-6c93-488b-adde-61e190a6e00f",
    "_uuid": "41e658c99af01b65c7508f7fc08be92cc7c07f64"
   },
   "outputs": [
    {
     "name": "stdout",
     "output_type": "stream",
     "text": [
      "Shape of image_train: (518700, 28, 28)\n",
      "Shape of image_validation: (2100, 28, 28)\n"
     ]
    }
   ],
   "source": [
    "print(\"Shape of image_train:\",image_train.shape)\n",
    "print(\"Shape of image_validation:\",image_validation.shape)"
   ]
  },
  {
   "cell_type": "code",
   "execution_count": 22,
   "metadata": {
    "_cell_guid": "6289741e-336f-48c0-8d4f-bdd94a380e0e",
    "_uuid": "a977f2018085c27c41032843629bbd98d25c5721"
   },
   "outputs": [],
   "source": [
    "image_train = image_train[:,:,:,np.newaxis]\n",
    "image_validation = image_validation[:,:,:,np.newaxis]"
   ]
  },
  {
   "cell_type": "code",
   "execution_count": 23,
   "metadata": {
    "_cell_guid": "c4935463-f0a2-40ca-b9fe-6d7a87853a75",
    "_uuid": "5ae642c44dccb2ea4708c1dd1cd27b8864cdf307"
   },
   "outputs": [
    {
     "name": "stdout",
     "output_type": "stream",
     "text": [
      "Shape of image_train: (518700, 28, 28, 1)\n",
      "Shape of image_validation: (2100, 28, 28, 1)\n"
     ]
    }
   ],
   "source": [
    "print(\"Shape of image_train:\",image_train.shape)\n",
    "print(\"Shape of image_validation:\",image_validation.shape)"
   ]
  },
  {
   "cell_type": "markdown",
   "metadata": {
    "_cell_guid": "eb973dcd-3c50-431e-b6c4-5a851170b9fb",
    "_uuid": "c1a7ab20edc23cf06b182da940dd0ea68f4b0965"
   },
   "source": [
    "## 3. Create functions to create & train Inception network, and to create submission file"
   ]
  },
  {
   "cell_type": "markdown",
   "metadata": {
    "_uuid": "6163e9ba2a79c81e5d8dec09a4e6d0bed7fa7399"
   },
   "source": [
    "**If a GPU is available then set our device of choice to the available GPU**"
   ]
  },
  {
   "cell_type": "code",
   "execution_count": 24,
   "metadata": {
    "_uuid": "5bb21dc3685c3ef11dc33b3eb61de08590fa7d92"
   },
   "outputs": [
    {
     "name": "stdout",
     "output_type": "stream",
     "text": [
      "[name: \"/device:CPU:0\"\n",
      "device_type: \"CPU\"\n",
      "memory_limit: 268435456\n",
      "locality {\n",
      "}\n",
      "incarnation: 6511942191083726385\n",
      ", name: \"/device:GPU:0\"\n",
      "device_type: \"GPU\"\n",
      "memory_limit: 15864515789\n",
      "locality {\n",
      "  bus_id: 1\n",
      "  links {\n",
      "  }\n",
      "}\n",
      "incarnation: 6277664635923015555\n",
      "physical_device_desc: \"device: 0, name: Tesla P100-PCIE-16GB, pci bus id: 0000:00:04.0, compute capability: 6.0\"\n",
      "]\n"
     ]
    }
   ],
   "source": [
    "from tensorflow.python.client import device_lib\n",
    "devices = device_lib.list_local_devices()\n",
    "print(devices)\n",
    "if len(devices)>1:\n",
    "    device = devices[1].name\n",
    "else:\n",
    "    device = devices[0].name"
   ]
  },
  {
   "cell_type": "markdown",
   "metadata": {
    "_uuid": "23e4b171d81e80bb43286119fdf7352f56180302"
   },
   "source": [
    "**Reset the default graph**"
   ]
  },
  {
   "cell_type": "code",
   "execution_count": 25,
   "metadata": {
    "_uuid": "7be4ead124cfbc5fa67db8f4a302ca555a2a0791"
   },
   "outputs": [],
   "source": [
    "tf.reset_default_graph()"
   ]
  },
  {
   "cell_type": "markdown",
   "metadata": {
    "_uuid": "a88c809b1f3b0bd3f2ad64a8bfa2d56229a0debc"
   },
   "source": [
    "### 3.1 A function to create inception module"
   ]
  },
  {
   "cell_type": "code",
   "execution_count": 26,
   "metadata": {
    "_uuid": "13e2277683dd4ea6614b93c5e298ab6eb490cca3"
   },
   "outputs": [],
   "source": [
    "def create_inception_module(X, num_filters):    \n",
    "    '''\n",
    "    A function which creates inception modules given input and number of filters\n",
    "    '''\n",
    "    num_filters_single_conv = num_filters//4\n",
    "\n",
    "    with tf.device(device):\n",
    "        one_by_one_1 = tf.layers.conv2d(X, filters=num_filters_single_conv, kernel_size=1, strides=[1,1],\n",
    "                                        kernel_initializer=tf.variance_scaling_initializer(),padding=\"SAME\")\n",
    "\n",
    "    with tf.device(device):\n",
    "        three_by_three = tf.layers.conv2d(X, filters=num_filters_single_conv, kernel_size=1, strides=[1,1],\n",
    "                                          kernel_initializer=tf.variance_scaling_initializer(),padding=\"SAME\")\n",
    "        three_by_three = tf.layers.conv2d(three_by_three, filters=num_filters_single_conv, kernel_size=3, strides=[1,1],\n",
    "                                          kernel_initializer=tf.variance_scaling_initializer(),padding=\"SAME\")\n",
    "\n",
    "    with tf.device(device):\n",
    "        five_by_five = tf.layers.conv2d(X, filters=num_filters_single_conv, kernel_size=1, strides=[1,1],\n",
    "                                        kernel_initializer=tf.variance_scaling_initializer(),padding=\"SAME\")\n",
    "        five_by_five = tf.layers.conv2d(five_by_five, filters=num_filters_single_conv, kernel_size=5, strides=[1,1],\n",
    "                                        kernel_initializer=tf.variance_scaling_initializer(),padding=\"SAME\")\n",
    "\n",
    "    with tf.device(device):\n",
    "        one_by_one_2 = tf.layers.max_pooling2d(X, 3, 1, padding='SAME')\n",
    "        one_by_one_2 = tf.layers.conv2d(one_by_one_2, filters=num_filters_single_conv, kernel_size=1, strides=[1,1],\n",
    "                                        kernel_initializer=tf.variance_scaling_initializer(),padding=\"SAME\")\n",
    "\n",
    "    with tf.device(device):\n",
    "        conv = tf.concat((one_by_one_1, three_by_three, five_by_five, one_by_one_2), axis=3)\n",
    "\n",
    "    return conv"
   ]
  },
  {
   "cell_type": "markdown",
   "metadata": {
    "_cell_guid": "ea202242-e5b4-4015-b086-5fa2e7f3464d",
    "_uuid": "cef80bae3846700e5d509b03ae3bb2c025236361"
   },
   "source": [
    "### 3.2 A function to create Inception CNN Network by embedding a number of inception modules**"
   ]
  },
  {
   "cell_type": "code",
   "execution_count": 27,
   "metadata": {
    "_uuid": "dd10f8a998406d9d45a60230c02e3d632850fd70"
   },
   "outputs": [],
   "source": [
    "def create_cnn_net(IMG_HEIGHT, IMG_WIDTH, IMG_CHANNELS, NUM_CLASSES,\n",
    "                   conv_filters, max_pool_kernel_size, max_pool_strides, dense_layers, learning_rate):\n",
    "    '''\n",
    "    A function to create Inception CNN Network by embedding a number of inception modules\n",
    "    '''    \n",
    "    # placeholders for image and prediction data\n",
    "    X = tf.placeholder(tf.float32, shape=[None,IMG_HEIGHT, IMG_WIDTH, IMG_CHANNELS])\n",
    "    Y = tf.placeholder(tf.int32, shape=[None, NUM_CLASSES])\n",
    "    # keep probability for dropout\n",
    "    keep_prob = tf.placeholder(tf.float32)\n",
    "     # placeholder for mode of batch normalization\n",
    "    training = tf.placeholder(tf.bool)\n",
    "    \n",
    "    print(\"####################################### DNN LAYERS #######################################\")\n",
    "    \n",
    "    # iterate and create inception layers\n",
    "    for n, conv_filter in enumerate(conv_filters):\n",
    "        # first inception layer (with batch normalization)\n",
    "        if n == 0:            \n",
    "            conv = create_inception_module(X, conv_filter)\n",
    "            print(conv)\n",
    "            conv = tf.nn.elu(conv)\n",
    "            print(conv)\n",
    "            conv = tf.layers.batch_normalization(conv, training=training)\n",
    "            print(conv)\n",
    "            conv = tf.layers.max_pooling2d(conv, max_pool_kernel_size, max_pool_strides, padding='SAME')\n",
    "            print(conv)\n",
    "        # last inception layer (with batch normalization)\n",
    "        elif n == len(conv_filters)-1:            \n",
    "            conv = create_inception_module(conv, conv_filter)\n",
    "            print(conv)\n",
    "            conv = tf.nn.elu(conv)\n",
    "            print(conv)\n",
    "        # last inception layer (with batch normalization)\n",
    "        else:\n",
    "            conv = create_inception_module(conv, conv_filter)\n",
    "            print(conv)\n",
    "            conv = tf.nn.elu(conv)\n",
    "            print(conv)\n",
    "            conv = tf.layers.batch_normalization(conv, training=training)\n",
    "            print(conv)\n",
    "            conv = tf.layers.max_pooling2d(conv, max_pool_kernel_size, max_pool_strides, padding='SAME')\n",
    "            print(conv)\n",
    "    \n",
    "    # flatten the last layer of convolution\n",
    "    with tf.device(device):\n",
    "        conv_flatten = tf.layers.Flatten()(conv)\n",
    "    print(conv_flatten)    \n",
    "     \n",
    "     # iterate and create the dense layer\n",
    "    for n, dense_layer in enumerate(dense_layers):\n",
    "        # first dense layer (with dropout)\n",
    "        if n == 0:\n",
    "            with tf.device(device):\n",
    "                Y_ = tf.layers.dense(conv_flatten, dense_layer, kernel_initializer=tf.variance_scaling_initializer(), activation=tf.nn.elu)\n",
    "                print(Y_)\n",
    "                Y_ = tf.nn.dropout(Y_, keep_prob=keep_prob)\n",
    "                print(Y_)\n",
    "         # last dense layer (without dropout)\n",
    "        elif n == len(dense_layers)-1:\n",
    "            with tf.device(device):\n",
    "                Y_ = tf.layers.dense(Y_, dense_layer, kernel_initializer=tf.variance_scaling_initializer())\n",
    "                print(Y_)\n",
    "        # middle dense layers (with droput)\n",
    "        else:\n",
    "            with tf.device(device):\n",
    "                Y_ = tf.layers.dense(Y_, dense_layer, kernel_initializer=tf.variance_scaling_initializer(), activation=tf.nn.elu)\n",
    "                print(Y_)\n",
    "                Y_ = tf.nn.dropout(Y_, keep_prob=keep_prob)\n",
    "                print(Y_)\n",
    "                \n",
    "    print(\"############################################################################################\")\n",
    "    \n",
    "    # softmax of output\n",
    "    Y_pred = tf.nn.softmax(Y_)\n",
    "    # compute predicted class\n",
    "    Y_pred_cls = tf.argmax(Y_pred, axis=1, output_type=tf.int32)\n",
    "    # compute true class\n",
    "    Y_true_cls = tf.argmax(Y, axis=1, output_type=tf.int32)\n",
    "    # compute correct prediction\n",
    "    correct_prediction = tf.equal(Y_pred_cls, Y_true_cls)\n",
    "    # compute accuracy\n",
    "    accuracy = tf.reduce_mean(tf.cast(correct_prediction, tf.float32))\n",
    "\n",
    "    # cross entropy cost operation           \n",
    "    with tf.device(device):\n",
    "        cross_entropy = tf.nn.softmax_cross_entropy_with_logits_v2(logits=Y_,labels=Y)\n",
    "        cost = tf.reduce_mean(cross_entropy)\n",
    "        \n",
    "    # update operation\n",
    "    update_ops = tf.get_collection(tf.GraphKeys.UPDATE_OPS)\n",
    "    # optimizer\n",
    "    optimizer = tf.train.AdamOptimizer(learning_rate=learning_rate)\n",
    "    # train step\n",
    "    with tf.control_dependencies(update_ops):\n",
    "        with tf.device(device):\n",
    "            # train step\n",
    "            train_step = optimizer.minimize(cost)\n",
    "                \n",
    "    return X, Y, Y_pred_cls, keep_prob , training, train_step, cost, accuracy"
   ]
  },
  {
   "cell_type": "markdown",
   "metadata": {
    "_uuid": "aa25e939c1da4ce2e2be3e8f344f271106f5ef61"
   },
   "source": [
    "### 3.2 A function to train CNN network"
   ]
  },
  {
   "cell_type": "code",
   "execution_count": 28,
   "metadata": {
    "_uuid": "f0f2b275c4c62150d47952f765dd3bf8e616df3d"
   },
   "outputs": [],
   "source": [
    "def train_cnn_net(max_iter,batch_size,\n",
    "                  X, Y, keep_prob, training, train_step,cost, accuracy,\n",
    "                  image_train, image_validation,labels_train, \n",
    "                  labels_validation, train_indices, model_dir, model_name):    \n",
    "    '''\n",
    "    A function to train CNN network\n",
    "    '''\n",
    "    # start the timer\n",
    "    start_time = time.time()\n",
    "    # create a saver object\n",
    "    saver = tf.train.Saver(max_to_keep=1)    \n",
    "    # lists to store the train cost, validation cost, validation accuracy at each iteration\n",
    "    train_cost = []\n",
    "    valid_cost = []\n",
    "    valid_acc = []\n",
    "    # variables to store the accuracy and iteration of our best model\n",
    "    best_accuracy = 0\n",
    "    best_iteration = None\n",
    "    # number of training data\n",
    "    N = image_train.shape[0]\n",
    "    # number of complete batches\n",
    "    num_complete_mini_batches = math.floor(N/batch_size)\n",
    "    # model path\n",
    "    model_path = model_dir + model_name\n",
    "\n",
    "    # create a graph session and optimize under it\n",
    "    with tf.Session() as sess:\n",
    "        # initialize global variables\n",
    "        sess.run(tf.global_variables_initializer())\n",
    "        # progress bar\n",
    "        bar = progressbar.ProgressBar(maxval=max_iter, widgets=[\n",
    "            '[',progressbar.Percentage(),']',\n",
    "            progressbar.Bar(),\n",
    "            '(',progressbar.DynamicMessage(\"train_cost\"),')',\n",
    "            '(',progressbar.DynamicMessage(\"valid_cost\"),')',\n",
    "            '(',progressbar.DynamicMessage(\"valid_accuracy\"),')',\n",
    "            '(',progressbar.DynamicMessage(\"best_accuracy\"),')',\n",
    "            '(',progressbar.DynamicMessage(\"time_elapsed\"),'mins)'\n",
    "        ])\n",
    "        # start the progressbar\n",
    "        bar.start()\n",
    "        # counter variable to track the number of iterations\n",
    "        counter = 0        \n",
    "         # iterate until maximum number of iterations is reached\n",
    "        while True:\n",
    "            # break out of the inner for loop if maximum number of iterations is reached\n",
    "            if counter>=max_iter:\n",
    "                break\n",
    "            # iterate through the mini batches\n",
    "            for k in range(0, num_complete_mini_batches+1):\n",
    "                # if the mini batch is a complete batch\n",
    "                if k < num_complete_mini_batches:\n",
    "                    batch_indices = np.array(list(range(k * batch_size, k * batch_size + batch_size)))\n",
    "                # handling the end case when the last mini batch is less than the batch_size\n",
    "                elif N % batch_size != 0:\n",
    "                    batch_indices = np.array(list(range(num_complete_mini_batches * batch_size, N)))\n",
    "\n",
    "                # extract images and labels of the batch\n",
    "                image_rand_train = image_train[batch_indices]    \n",
    "                labels_rand_train = labels_train[batch_indices]\n",
    "\n",
    "                # feed dict for the batch\n",
    "                feed_dict_batch =  {X: image_rand_train,\n",
    "                                    Y: labels_rand_train,\n",
    "                                    keep_prob: 0.6,\n",
    "                                    training: True}\n",
    "\n",
    "                # feed dict for validation set\n",
    "                feed_dict_validation =  {X: image_validation,\n",
    "                                         Y: labels_validation,\n",
    "                                         keep_prob:1.0,\n",
    "                                         training: False}\n",
    "\n",
    "                # run optimizer step\n",
    "                sess.run(train_step, feed_dict=feed_dict_batch)\n",
    "                # compute train cost and append it to the designated list\n",
    "                temp_train_cost = cost.eval(session=sess, feed_dict=feed_dict_batch)\n",
    "                train_cost.append(temp_train_cost)\n",
    "                # compute validation cost and append it to the designated list\n",
    "                temp_validation_cost = cost.eval(session=sess, feed_dict=feed_dict_validation)\n",
    "                valid_cost.append(temp_validation_cost)\n",
    "                # compute validation accuracy and append it to the designated list\n",
    "                temp_validation_accuracy = accuracy.eval(session=sess, feed_dict=feed_dict_validation)\n",
    "                valid_acc.append(temp_validation_accuracy)   \n",
    "\n",
    "                # if validation accuracy is better than best recorded so far then update the best valid accuracy\n",
    "                if temp_validation_accuracy > best_accuracy:\n",
    "                    best_accuracy = temp_validation_accuracy\n",
    "                    best_iteration = counter+1\n",
    "                    saver.save(sess, model_path, global_step = best_iteration)\n",
    "                \n",
    "                # calculate the elapsed time since training started \n",
    "                time_diff = (time.time()-start_time)/60\n",
    "\n",
    "                # print metric info\n",
    "                # update the progress bar\n",
    "                bar.update(counter+1, train_cost = temp_train_cost, valid_cost = temp_validation_cost, \n",
    "                           valid_accuracy = temp_validation_accuracy,best_accuracy = best_accuracy, time_elapsed = time_diff)\n",
    "                \n",
    "                # increment counter variable\n",
    "                counter += 1\n",
    "                # break out of the inner for loop if maximum number of iterations is reached\n",
    "                if counter>=max_iter:\n",
    "                    break\n",
    "        # finish the progress bar\n",
    "        bar.finish()\n",
    "            \n",
    "    return saver, train_cost, valid_cost, valid_acc, best_accuracy, best_iteration"
   ]
  },
  {
   "cell_type": "markdown",
   "metadata": {
    "_uuid": "7bb0c9cb8275608f03ce1af4185fd7476cdc5b03"
   },
   "source": [
    "### 3.4 A function to create submission csv file"
   ]
  },
  {
   "cell_type": "code",
   "execution_count": 37,
   "metadata": {
    "_uuid": "2b8fa4b94e8496ad6e55352aafb2775caaed61f3"
   },
   "outputs": [],
   "source": [
    "def create_predictions(model_path, X, Y_pred_cls, training, image_test, \n",
    "                       test_ids, n_folds, submission_dir, submission_file):\n",
    "    '''\n",
    "    A function to create predictions and submission file\n",
    "    '''\n",
    "    # submission path\n",
    "    submission_path = submission_dir + submission_file\n",
    "    \n",
    "    with tf.Session() as sess:        \n",
    "        # restore the best model\n",
    "        saver.restore(sess, model_path)\n",
    "        # break the test set into folds other wise kernel will be out of memory\n",
    "        n = image_test.shape[0]\n",
    "        step = n//n_folds\n",
    "        # array to store the prediction\n",
    "        preds = np.array([])\n",
    "        \n",
    "        # iterate through each fold\n",
    "        for i in range(n_folds):\n",
    "            # start and end indices of the fold\n",
    "            start = (step*i)\n",
    "            end = (step*(i+1)) \n",
    "            # feed dictionary for the fold\n",
    "            feed_dict_test =  {X: image_test[start:end],\n",
    "                               keep_prob: 1.0,\n",
    "                               training: False}\n",
    "            # evaluate predictions of the fold\n",
    "            fold_preds = Y_pred_cls.eval(session=sess, feed_dict = feed_dict_test)\n",
    "            # append the predictions of the fold to the designated array\n",
    "            preds = np.append(preds, fold_preds)\n",
    "            print(\"Finished computing predictions for fold\", i)\n",
    "\n",
    "        # convert the prediction vector to int\n",
    "        preds = preds.astype(np.int)\n",
    "        # save the submission csv file\n",
    "        submission = pd.DataFrame({\"ImageId\": test_ids, \"Label\": preds})\n",
    "        submission.to_csv(submission_path, header = True, index=False)"
   ]
  },
  {
   "cell_type": "markdown",
   "metadata": {
    "_uuid": "08f8e32255997b107aac5ea99f487c5362b6350e"
   },
   "source": [
    "## 4. Create & train Inception Network and make a submission csv file"
   ]
  },
  {
   "cell_type": "markdown",
   "metadata": {
    "_uuid": "b2aa21e1beb175ce6ffc75c47b20a3ee8d6743b3"
   },
   "source": [
    "**Create Inception network**"
   ]
  },
  {
   "cell_type": "code",
   "execution_count": 30,
   "metadata": {
    "_uuid": "27628db63478bde1f461a40a3fb1e70f7d320093"
   },
   "outputs": [
    {
     "name": "stdout",
     "output_type": "stream",
     "text": [
      "####################################### DNN LAYERS #######################################\n",
      "Tensor(\"concat:0\", shape=(?, 28, 28, 256), dtype=float32, device=/device:GPU:0)\n",
      "Tensor(\"Elu:0\", shape=(?, 28, 28, 256), dtype=float32)\n",
      "Tensor(\"batch_normalization/cond/Merge:0\", shape=(?, 28, 28, 256), dtype=float32)\n",
      "Tensor(\"max_pooling2d_1/MaxPool:0\", shape=(?, 14, 14, 256), dtype=float32)\n",
      "Tensor(\"concat_1:0\", shape=(?, 14, 14, 512), dtype=float32, device=/device:GPU:0)\n",
      "Tensor(\"Elu_1:0\", shape=(?, 14, 14, 512), dtype=float32)\n",
      "Tensor(\"batch_normalization_1/cond/Merge:0\", shape=(?, 14, 14, 512), dtype=float32)\n",
      "Tensor(\"max_pooling2d_3/MaxPool:0\", shape=(?, 7, 7, 512), dtype=float32)\n",
      "Tensor(\"concat_2:0\", shape=(?, 7, 7, 1024), dtype=float32, device=/device:GPU:0)\n",
      "Tensor(\"Elu_2:0\", shape=(?, 7, 7, 1024), dtype=float32)\n",
      "Tensor(\"flatten/Reshape:0\", shape=(?, 50176), dtype=float32, device=/device:GPU:0)\n",
      "Tensor(\"dense/Elu:0\", shape=(?, 2048), dtype=float32, device=/device:GPU:0)\n",
      "Tensor(\"dropout/mul:0\", shape=(?, 2048), dtype=float32, device=/device:GPU:0)\n",
      "Tensor(\"dense_1/Elu:0\", shape=(?, 1024), dtype=float32, device=/device:GPU:0)\n",
      "Tensor(\"dropout_1/mul:0\", shape=(?, 1024), dtype=float32, device=/device:GPU:0)\n",
      "Tensor(\"dense_2/Elu:0\", shape=(?, 512), dtype=float32, device=/device:GPU:0)\n",
      "Tensor(\"dropout_2/mul:0\", shape=(?, 512), dtype=float32, device=/device:GPU:0)\n",
      "Tensor(\"dense_3/Elu:0\", shape=(?, 256), dtype=float32, device=/device:GPU:0)\n",
      "Tensor(\"dropout_3/mul:0\", shape=(?, 256), dtype=float32, device=/device:GPU:0)\n",
      "Tensor(\"dense_4/BiasAdd:0\", shape=(?, 10), dtype=float32, device=/device:GPU:0)\n",
      "############################################################################################\n"
     ]
    }
   ],
   "source": [
    "IMG_HEIGHT, IMG_WIDTH, IMG_CHANNELS, NUM_CLASSES = 28,28,1,10\n",
    "conv_filters = [256,512,1024]\n",
    "dense_layers = [2048,1024,512,256,10]\n",
    "max_pool_kernel_size = 2\n",
    "max_pool_strides = 2\n",
    "learning_rate=0.00001*5\n",
    "max_iter,batch_size = 2000, 512\n",
    "X, Y, Y_pred_cls, keep_prob , training, train_step, cost, accuracy  = create_cnn_net(IMG_HEIGHT, IMG_WIDTH, IMG_CHANNELS, NUM_CLASSES,\n",
    "                                                                                     conv_filters, max_pool_kernel_size, max_pool_strides, \n",
    "                                                                                     dense_layers, learning_rate)"
   ]
  },
  {
   "cell_type": "markdown",
   "metadata": {
    "_uuid": "eda72dd9eb1269a74f345ca19da393939924a253"
   },
   "source": [
    "**Train incpetion network**"
   ]
  },
  {
   "cell_type": "code",
   "execution_count": 31,
   "metadata": {
    "_uuid": "ad0e771ecf15ce52c5ab996bc3ca7654c2dc6c8e"
   },
   "outputs": [
    {
     "name": "stderr",
     "output_type": "stream",
     "text": [
      "[100%]||(train_cost: 0.0223)(valid_cost: 0.0235)(valid_accuracy:   0.99)(best_accuracy:  0.996)(time_elapsed:   30.7mins))\n"
     ]
    }
   ],
   "source": [
    "model_dir, model_name = \"./model_files/\", \"model\"\n",
    "saver, train_cost, valid_cost, valid_acc, best_accuracy, best_iteration = train_cnn_net(max_iter,batch_size,\n",
    "                                                                                        X, Y, keep_prob, training, train_step,cost, accuracy,\n",
    "                                                                                        image_train, image_validation,labels_train, \n",
    "                                                                                        labels_validation, train_indices, model_dir, model_name)"
   ]
  },
  {
   "cell_type": "markdown",
   "metadata": {
    "_uuid": "d2ebd9e2049f9a0e02937dd1942d98434d9672a4"
   },
   "source": [
    "**Plot of Cost vs Iterations**"
   ]
  },
  {
   "cell_type": "code",
   "execution_count": 32,
   "metadata": {
    "_uuid": "4ba485bee0a47848c2290f890f7195543e25f3c8"
   },
   "outputs": [
    {
     "data": {
      "image/png": "[encoded data removed]",
      "text/plain": [
       "<Figure size 1280x640 with 1 Axes>"
      ]
     },
     "metadata": {},
     "output_type": "display_data"
    },
    {
     "data": {
      "text/plain": [
       "<Figure size 1440x1008 with 0 Axes>"
      ]
     },
     "metadata": {},
     "output_type": "display_data"
    }
   ],
   "source": [
    "figure_dir = \"./model_cost_figures/\"\n",
    "plt.figure(figsize=(16, 8), dpi= 80, facecolor='w', edgecolor='k')\n",
    "plt.plot(train_cost, label = \"train cost\")\n",
    "plt.plot(valid_cost, label = \"valid cost\")\n",
    "plt.title(\"Cost vs Iterations\", fontsize=20)\n",
    "plt.xlabel(\"iter\", fontsize=16)\n",
    "plt.ylabel(\"cost\",fontsize=16)\n",
    "plt.legend()\n",
    "plt.grid()\n",
    "plt.show()\n",
    "# save the figure in the designated directory\n",
    "plt.savefig(figure_dir + 'cost_vs_iterations.png', bbox_inches='tight')"
   ]
  },
  {
   "cell_type": "markdown",
   "metadata": {
    "_uuid": "00ca096723453ea8d5134793f0d97283ae235cee"
   },
   "source": [
    "**Plot of Accuracy vs Iterations**"
   ]
  },
  {
   "cell_type": "code",
   "execution_count": 33,
   "metadata": {
    "_uuid": "48950109aa89d56a75e2e7d3f779ac828d49171a"
   },
   "outputs": [
    {
     "data": {
      "image/png": "[encoded data removed]",
      "text/plain": [
       "<Figure size 1280x640 with 1 Axes>"
      ]
     },
     "metadata": {},
     "output_type": "display_data"
    },
    {
     "data": {
      "text/plain": [
       "<Figure size 1440x1008 with 0 Axes>"
      ]
     },
     "metadata": {},
     "output_type": "display_data"
    }
   ],
   "source": [
    "plt.figure(figsize=(16, 8), dpi= 80, facecolor='w', edgecolor='k')\n",
    "plt.plot(valid_acc,)\n",
    "plt.title(\"Accuracy vs Iterations | \"+\"Best Acc: \"+str(best_accuracy)+\" | Best Iteration: \"+str(best_iteration), fontsize =20)\n",
    "plt.xlabel(\"iter\", fontsize =16)\n",
    "plt.ylabel(\"valid accuracy\", fontsize =16)\n",
    "plt.grid()\n",
    "plt.show()\n",
    "# save the figure in the designated directory\n",
    "plt.savefig(figure_dir + 'acc_vs_iterations.png', bbox_inches='tight')"
   ]
  },
  {
   "cell_type": "markdown",
   "metadata": {
    "_uuid": "8eb626a6d2544c47239181365fc58281402f5f85"
   },
   "source": [
    "**Load and preprocess test data**"
   ]
  },
  {
   "cell_type": "code",
   "execution_count": 34,
   "metadata": {
    "_uuid": "f2f5f23c8fbbae7ad27e2b5cf0a490c271bdcd09"
   },
   "outputs": [
    {
     "name": "stdout",
     "output_type": "stream",
     "text": [
      "(28000, 28, 28, 1)\n"
     ]
    }
   ],
   "source": [
    "test_data = pd.read_csv('../input/test.csv')\n",
    "image_test = test_data[features].values\n",
    "image_test = image_test.reshape((-1,28,28,1))\n",
    "test_ids = test_data.index.tolist()\n",
    "print(image_test.shape)\n",
    "del(test_data)"
   ]
  },
  {
   "cell_type": "markdown",
   "metadata": {
    "_uuid": "7555cca134d7fd463f6dc4edff042d76ad72c6cb"
   },
   "source": [
    "**Create submission csv**"
   ]
  },
  {
   "cell_type": "code",
   "execution_count": 38,
   "metadata": {
    "_uuid": "e34ceff67d3060f6901e6a89e23e8163f22f4390"
   },
   "outputs": [
    {
     "name": "stdout",
     "output_type": "stream",
     "text": [
      "INFO:tensorflow:Restoring parameters from ./model_files/model-1071\n",
      "Finished computing predictions for fold 0\n",
      "Finished computing predictions for fold 1\n",
      "Finished computing predictions for fold 2\n",
      "Finished computing predictions for fold 3\n",
      "Finished computing predictions for fold 4\n",
      "Finished computing predictions for fold 5\n",
      "Finished computing predictions for fold 6\n",
      "Finished computing predictions for fold 7\n",
      "Finished computing predictions for fold 8\n",
      "Finished computing predictions for fold 9\n"
     ]
    }
   ],
   "source": [
    "model_path = model_dir+model_name+\"-\"+str(best_iteration)\n",
    "submission_dir = \"./submission_files/\"\n",
    "submission_file = \"submission.csv\"\n",
    "n_folds = 10\n",
    "create_predictions(model_path, X, Y_pred_cls, training, image_test,\n",
    "                   test_ids, n_folds, submission_dir, submission_file)"
   ]
  },
  {
   "cell_type": "markdown",
   "metadata": {
    "_uuid": "a8a531c1fd073eef038147dafaf483712baf2e13"
   },
   "source": [
    "**Display the submission file**"
   ]
  },
  {
   "cell_type": "code",
   "execution_count": 39,
   "metadata": {
    "_uuid": "b9a0c0ca27e0486b9ef742ad690c2e8aafcde26c"
   },
   "outputs": [
    {
     "data": {
      "text/html": [
       "<div>\n",
       "<style scoped>\n",
       "    .dataframe tbody tr th:only-of-type {\n",
       "        vertical-align: middle;\n",
       "    }\n",
       "\n",
       "    .dataframe tbody tr th {\n",
       "        vertical-align: top;\n",
       "    }\n",
       "\n",
       "    .dataframe thead th {\n",
       "        text-align: right;\n",
       "    }\n",
       "</style>\n",
       "<table border=\"1\" class=\"dataframe\">\n",
       "  <thead>\n",
       "    <tr style=\"text-align: right;\">\n",
       "      <th></th>\n",
       "      <th>ImageId</th>\n",
       "      <th>Label</th>\n",
       "    </tr>\n",
       "  </thead>\n",
       "  <tbody>\n",
       "    <tr>\n",
       "      <th>0</th>\n",
       "      <td>0</td>\n",
       "      <td>2</td>\n",
       "    </tr>\n",
       "    <tr>\n",
       "      <th>1</th>\n",
       "      <td>1</td>\n",
       "      <td>0</td>\n",
       "    </tr>\n",
       "    <tr>\n",
       "      <th>2</th>\n",
       "      <td>2</td>\n",
       "      <td>9</td>\n",
       "    </tr>\n",
       "    <tr>\n",
       "      <th>3</th>\n",
       "      <td>3</td>\n",
       "      <td>0</td>\n",
       "    </tr>\n",
       "    <tr>\n",
       "      <th>4</th>\n",
       "      <td>4</td>\n",
       "      <td>3</td>\n",
       "    </tr>\n",
       "    <tr>\n",
       "      <th>5</th>\n",
       "      <td>5</td>\n",
       "      <td>7</td>\n",
       "    </tr>\n",
       "    <tr>\n",
       "      <th>6</th>\n",
       "      <td>6</td>\n",
       "      <td>0</td>\n",
       "    </tr>\n",
       "    <tr>\n",
       "      <th>7</th>\n",
       "      <td>7</td>\n",
       "      <td>3</td>\n",
       "    </tr>\n",
       "    <tr>\n",
       "      <th>8</th>\n",
       "      <td>8</td>\n",
       "      <td>0</td>\n",
       "    </tr>\n",
       "    <tr>\n",
       "      <th>9</th>\n",
       "      <td>9</td>\n",
       "      <td>3</td>\n",
       "    </tr>\n",
       "    <tr>\n",
       "      <th>10</th>\n",
       "      <td>10</td>\n",
       "      <td>5</td>\n",
       "    </tr>\n",
       "    <tr>\n",
       "      <th>11</th>\n",
       "      <td>11</td>\n",
       "      <td>7</td>\n",
       "    </tr>\n",
       "    <tr>\n",
       "      <th>12</th>\n",
       "      <td>12</td>\n",
       "      <td>4</td>\n",
       "    </tr>\n",
       "    <tr>\n",
       "      <th>13</th>\n",
       "      <td>13</td>\n",
       "      <td>0</td>\n",
       "    </tr>\n",
       "    <tr>\n",
       "      <th>14</th>\n",
       "      <td>14</td>\n",
       "      <td>4</td>\n",
       "    </tr>\n",
       "    <tr>\n",
       "      <th>15</th>\n",
       "      <td>15</td>\n",
       "      <td>3</td>\n",
       "    </tr>\n",
       "    <tr>\n",
       "      <th>16</th>\n",
       "      <td>16</td>\n",
       "      <td>3</td>\n",
       "    </tr>\n",
       "    <tr>\n",
       "      <th>17</th>\n",
       "      <td>17</td>\n",
       "      <td>1</td>\n",
       "    </tr>\n",
       "    <tr>\n",
       "      <th>18</th>\n",
       "      <td>18</td>\n",
       "      <td>9</td>\n",
       "    </tr>\n",
       "    <tr>\n",
       "      <th>19</th>\n",
       "      <td>19</td>\n",
       "      <td>0</td>\n",
       "    </tr>\n",
       "  </tbody>\n",
       "</table>\n",
       "</div>"
      ],
      "text/plain": [
       "    ImageId  Label\n",
       "0         0      2\n",
       "1         1      0\n",
       "2         2      9\n",
       "3         3      0\n",
       "4         4      3\n",
       "5         5      7\n",
       "6         6      0\n",
       "7         7      3\n",
       "8         8      0\n",
       "9         9      3\n",
       "10       10      5\n",
       "11       11      7\n",
       "12       12      4\n",
       "13       13      0\n",
       "14       14      4\n",
       "15       15      3\n",
       "16       16      3\n",
       "17       17      1\n",
       "18       18      9\n",
       "19       19      0"
      ]
     },
     "execution_count": 39,
     "metadata": {},
     "output_type": "execute_result"
    }
   ],
   "source": [
    "pd.read_csv(submission_dir+submission_file).head(20)"
   ]
  }
 ],
 "metadata": {
  "kernelspec": {
   "display_name": "Python 3",
   "language": "python",
   "name": "python3"
  },
  "language_info": {
   "codemirror_mode": {
    "name": "ipython",
    "version": 3
   },
   "file_extension": ".py",
   "mimetype": "text/x-python",
   "name": "python",
   "nbconvert_exporter": "python",
   "pygments_lexer": "ipython3",
   "version": "3.6.6"
  }
 },
 "nbformat": 4,
 "nbformat_minor": 1
}
