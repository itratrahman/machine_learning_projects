{
 "cells": [
  {
   "cell_type": "markdown",
   "metadata": {
    "_cell_guid": "b1e0d8aa-349b-4117-b498-e065268eea3e",
    "_uuid": "18d43621382e4603b7196bf7920bc02da7c6c11c"
   },
   "source": [
    "## **Import statements and set random seed**"
   ]
  },
  {
   "cell_type": "code",
   "execution_count": 1,
   "metadata": {
    "_cell_guid": "9d5d0eac-842e-4a60-8a20-c7090d3b0834",
    "_uuid": "83444623dbe590b53f27687339816ec4a0c1a633",
    "collapsed": true
   },
   "outputs": [],
   "source": [
    "# import time\n",
    "import time\n",
    "t1 = time.time()"
   ]
  },
  {
   "cell_type": "code",
   "execution_count": 2,
   "metadata": {
    "_cell_guid": "09957a86-b2c4-4bcc-a9f1-d8ff647547e8",
    "_uuid": "028401104b1ae64de70c5dc82d32ad70c2cfea95",
    "collapsed": true
   },
   "outputs": [],
   "source": [
    "import random\n",
    "import numpy as np\n",
    "import pandas as pd\n",
    "import matplotlib\n",
    "import matplotlib.pyplot as plt\n",
    "import cv2\n",
    "%matplotlib inline"
   ]
  },
  {
   "cell_type": "markdown",
   "metadata": {
    "_cell_guid": "6d4349c9-3191-4613-9c5a-5f3c145f2289",
    "_uuid": "319ebb51a4ac5215f2fa24c1cd3b126e282fa083"
   },
   "source": [
    "**Set random seed of numpy and tensorflow to make the result reproducible**"
   ]
  },
  {
   "cell_type": "code",
   "execution_count": 3,
   "metadata": {
    "_cell_guid": "f025deb4-89cd-47bc-aa93-4b190013b7f4",
    "_uuid": "8f0bc50ab5d0c7fd6d20c729d053b34a97d1c28d",
    "collapsed": true
   },
   "outputs": [],
   "source": [
    "# np_rand_seed = random.randint(0,100)\n",
    "# tf_rand_seed = random.randint(0,100)\n",
    "np_rand_seed = 88\n",
    "tf_rand_seed = 33\n",
    "np.random.seed(np_rand_seed)\n",
    "# print(\"random seed of numpy: \", np_rand_seed)\n",
    "# print(\"random seed of tensorflow: \", tf_rand_seed)"
   ]
  },
  {
   "cell_type": "markdown",
   "metadata": {
    "_cell_guid": "4bb8d5aa-aacb-415b-9f74-a7983cc76925",
    "_uuid": "531ab95c13471380fdf0a542fe02774e6c67d92b"
   },
   "source": [
    "# **Loading training data**"
   ]
  },
  {
   "cell_type": "markdown",
   "metadata": {
    "_cell_guid": "ed7292a8-d565-4604-a503-0d3bf4923b5c",
    "_uuid": "264b31c4822adcdf4eec19124409628502347e28"
   },
   "source": [
    "**Load data**"
   ]
  },
  {
   "cell_type": "code",
   "execution_count": 4,
   "metadata": {
    "_cell_guid": "0d2e7f08-222e-4138-92b9-f716272f75ae",
    "_uuid": "2077c8a83c8aee00fbf7e470668fa7f61c69b147",
    "collapsed": true
   },
   "outputs": [],
   "source": [
    "# read the train data\n",
    "train_data = pd.read_csv('../input/train.csv')"
   ]
  },
  {
   "cell_type": "code",
   "execution_count": 5,
   "metadata": {
    "_cell_guid": "0c5054fe-677b-4649-9d6c-1791e34be6b8",
    "_uuid": "fcb2e4b57898ccb61b8195fa3836a86cadb5c5fb"
   },
   "outputs": [
    {
     "name": "stdout",
     "output_type": "stream",
     "text": [
      "shape of train_data: (42000, 785)\n"
     ]
    }
   ],
   "source": [
    "print(\"shape of train_data:\",train_data.shape)"
   ]
  },
  {
   "cell_type": "code",
   "execution_count": 6,
   "metadata": {
    "_cell_guid": "84573ca2-9342-4568-a424-346e2cc1b2cf",
    "_uuid": "b4f2040247f6d18cb53d1935efb87737053ae0a7"
   },
   "outputs": [
    {
     "data": {
      "text/html": [
       "<div>\n",
       "<style>\n",
       "    .dataframe thead tr:only-child th {\n",
       "        text-align: right;\n",
       "    }\n",
       "\n",
       "    .dataframe thead th {\n",
       "        text-align: left;\n",
       "    }\n",
       "\n",
       "    .dataframe tbody tr th {\n",
       "        vertical-align: top;\n",
       "    }\n",
       "</style>\n",
       "<table border=\"1\" class=\"dataframe\">\n",
       "  <thead>\n",
       "    <tr style=\"text-align: right;\">\n",
       "      <th></th>\n",
       "      <th>label</th>\n",
       "      <th>pixel0</th>\n",
       "      <th>pixel1</th>\n",
       "      <th>pixel2</th>\n",
       "      <th>pixel3</th>\n",
       "      <th>pixel4</th>\n",
       "      <th>pixel5</th>\n",
       "      <th>pixel6</th>\n",
       "      <th>pixel7</th>\n",
       "      <th>pixel8</th>\n",
       "      <th>...</th>\n",
       "      <th>pixel774</th>\n",
       "      <th>pixel775</th>\n",
       "      <th>pixel776</th>\n",
       "      <th>pixel777</th>\n",
       "      <th>pixel778</th>\n",
       "      <th>pixel779</th>\n",
       "      <th>pixel780</th>\n",
       "      <th>pixel781</th>\n",
       "      <th>pixel782</th>\n",
       "      <th>pixel783</th>\n",
       "    </tr>\n",
       "  </thead>\n",
       "  <tbody>\n",
       "    <tr>\n",
       "      <th>0</th>\n",
       "      <td>1</td>\n",
       "      <td>0</td>\n",
       "      <td>0</td>\n",
       "      <td>0</td>\n",
       "      <td>0</td>\n",
       "      <td>0</td>\n",
       "      <td>0</td>\n",
       "      <td>0</td>\n",
       "      <td>0</td>\n",
       "      <td>0</td>\n",
       "      <td>...</td>\n",
       "      <td>0</td>\n",
       "      <td>0</td>\n",
       "      <td>0</td>\n",
       "      <td>0</td>\n",
       "      <td>0</td>\n",
       "      <td>0</td>\n",
       "      <td>0</td>\n",
       "      <td>0</td>\n",
       "      <td>0</td>\n",
       "      <td>0</td>\n",
       "    </tr>\n",
       "    <tr>\n",
       "      <th>1</th>\n",
       "      <td>0</td>\n",
       "      <td>0</td>\n",
       "      <td>0</td>\n",
       "      <td>0</td>\n",
       "      <td>0</td>\n",
       "      <td>0</td>\n",
       "      <td>0</td>\n",
       "      <td>0</td>\n",
       "      <td>0</td>\n",
       "      <td>0</td>\n",
       "      <td>...</td>\n",
       "      <td>0</td>\n",
       "      <td>0</td>\n",
       "      <td>0</td>\n",
       "      <td>0</td>\n",
       "      <td>0</td>\n",
       "      <td>0</td>\n",
       "      <td>0</td>\n",
       "      <td>0</td>\n",
       "      <td>0</td>\n",
       "      <td>0</td>\n",
       "    </tr>\n",
       "    <tr>\n",
       "      <th>2</th>\n",
       "      <td>1</td>\n",
       "      <td>0</td>\n",
       "      <td>0</td>\n",
       "      <td>0</td>\n",
       "      <td>0</td>\n",
       "      <td>0</td>\n",
       "      <td>0</td>\n",
       "      <td>0</td>\n",
       "      <td>0</td>\n",
       "      <td>0</td>\n",
       "      <td>...</td>\n",
       "      <td>0</td>\n",
       "      <td>0</td>\n",
       "      <td>0</td>\n",
       "      <td>0</td>\n",
       "      <td>0</td>\n",
       "      <td>0</td>\n",
       "      <td>0</td>\n",
       "      <td>0</td>\n",
       "      <td>0</td>\n",
       "      <td>0</td>\n",
       "    </tr>\n",
       "    <tr>\n",
       "      <th>3</th>\n",
       "      <td>4</td>\n",
       "      <td>0</td>\n",
       "      <td>0</td>\n",
       "      <td>0</td>\n",
       "      <td>0</td>\n",
       "      <td>0</td>\n",
       "      <td>0</td>\n",
       "      <td>0</td>\n",
       "      <td>0</td>\n",
       "      <td>0</td>\n",
       "      <td>...</td>\n",
       "      <td>0</td>\n",
       "      <td>0</td>\n",
       "      <td>0</td>\n",
       "      <td>0</td>\n",
       "      <td>0</td>\n",
       "      <td>0</td>\n",
       "      <td>0</td>\n",
       "      <td>0</td>\n",
       "      <td>0</td>\n",
       "      <td>0</td>\n",
       "    </tr>\n",
       "    <tr>\n",
       "      <th>4</th>\n",
       "      <td>0</td>\n",
       "      <td>0</td>\n",
       "      <td>0</td>\n",
       "      <td>0</td>\n",
       "      <td>0</td>\n",
       "      <td>0</td>\n",
       "      <td>0</td>\n",
       "      <td>0</td>\n",
       "      <td>0</td>\n",
       "      <td>0</td>\n",
       "      <td>...</td>\n",
       "      <td>0</td>\n",
       "      <td>0</td>\n",
       "      <td>0</td>\n",
       "      <td>0</td>\n",
       "      <td>0</td>\n",
       "      <td>0</td>\n",
       "      <td>0</td>\n",
       "      <td>0</td>\n",
       "      <td>0</td>\n",
       "      <td>0</td>\n",
       "    </tr>\n",
       "    <tr>\n",
       "      <th>5</th>\n",
       "      <td>0</td>\n",
       "      <td>0</td>\n",
       "      <td>0</td>\n",
       "      <td>0</td>\n",
       "      <td>0</td>\n",
       "      <td>0</td>\n",
       "      <td>0</td>\n",
       "      <td>0</td>\n",
       "      <td>0</td>\n",
       "      <td>0</td>\n",
       "      <td>...</td>\n",
       "      <td>0</td>\n",
       "      <td>0</td>\n",
       "      <td>0</td>\n",
       "      <td>0</td>\n",
       "      <td>0</td>\n",
       "      <td>0</td>\n",
       "      <td>0</td>\n",
       "      <td>0</td>\n",
       "      <td>0</td>\n",
       "      <td>0</td>\n",
       "    </tr>\n",
       "    <tr>\n",
       "      <th>6</th>\n",
       "      <td>7</td>\n",
       "      <td>0</td>\n",
       "      <td>0</td>\n",
       "      <td>0</td>\n",
       "      <td>0</td>\n",
       "      <td>0</td>\n",
       "      <td>0</td>\n",
       "      <td>0</td>\n",
       "      <td>0</td>\n",
       "      <td>0</td>\n",
       "      <td>...</td>\n",
       "      <td>0</td>\n",
       "      <td>0</td>\n",
       "      <td>0</td>\n",
       "      <td>0</td>\n",
       "      <td>0</td>\n",
       "      <td>0</td>\n",
       "      <td>0</td>\n",
       "      <td>0</td>\n",
       "      <td>0</td>\n",
       "      <td>0</td>\n",
       "    </tr>\n",
       "    <tr>\n",
       "      <th>7</th>\n",
       "      <td>3</td>\n",
       "      <td>0</td>\n",
       "      <td>0</td>\n",
       "      <td>0</td>\n",
       "      <td>0</td>\n",
       "      <td>0</td>\n",
       "      <td>0</td>\n",
       "      <td>0</td>\n",
       "      <td>0</td>\n",
       "      <td>0</td>\n",
       "      <td>...</td>\n",
       "      <td>0</td>\n",
       "      <td>0</td>\n",
       "      <td>0</td>\n",
       "      <td>0</td>\n",
       "      <td>0</td>\n",
       "      <td>0</td>\n",
       "      <td>0</td>\n",
       "      <td>0</td>\n",
       "      <td>0</td>\n",
       "      <td>0</td>\n",
       "    </tr>\n",
       "    <tr>\n",
       "      <th>8</th>\n",
       "      <td>5</td>\n",
       "      <td>0</td>\n",
       "      <td>0</td>\n",
       "      <td>0</td>\n",
       "      <td>0</td>\n",
       "      <td>0</td>\n",
       "      <td>0</td>\n",
       "      <td>0</td>\n",
       "      <td>0</td>\n",
       "      <td>0</td>\n",
       "      <td>...</td>\n",
       "      <td>0</td>\n",
       "      <td>0</td>\n",
       "      <td>0</td>\n",
       "      <td>0</td>\n",
       "      <td>0</td>\n",
       "      <td>0</td>\n",
       "      <td>0</td>\n",
       "      <td>0</td>\n",
       "      <td>0</td>\n",
       "      <td>0</td>\n",
       "    </tr>\n",
       "    <tr>\n",
       "      <th>9</th>\n",
       "      <td>3</td>\n",
       "      <td>0</td>\n",
       "      <td>0</td>\n",
       "      <td>0</td>\n",
       "      <td>0</td>\n",
       "      <td>0</td>\n",
       "      <td>0</td>\n",
       "      <td>0</td>\n",
       "      <td>0</td>\n",
       "      <td>0</td>\n",
       "      <td>...</td>\n",
       "      <td>0</td>\n",
       "      <td>0</td>\n",
       "      <td>0</td>\n",
       "      <td>0</td>\n",
       "      <td>0</td>\n",
       "      <td>0</td>\n",
       "      <td>0</td>\n",
       "      <td>0</td>\n",
       "      <td>0</td>\n",
       "      <td>0</td>\n",
       "    </tr>\n",
       "  </tbody>\n",
       "</table>\n",
       "<p>10 rows × 785 columns</p>\n",
       "</div>"
      ],
      "text/plain": [
       "   label  pixel0  pixel1  pixel2  pixel3  pixel4  pixel5  pixel6  pixel7  \\\n",
       "0      1       0       0       0       0       0       0       0       0   \n",
       "1      0       0       0       0       0       0       0       0       0   \n",
       "2      1       0       0       0       0       0       0       0       0   \n",
       "3      4       0       0       0       0       0       0       0       0   \n",
       "4      0       0       0       0       0       0       0       0       0   \n",
       "5      0       0       0       0       0       0       0       0       0   \n",
       "6      7       0       0       0       0       0       0       0       0   \n",
       "7      3       0       0       0       0       0       0       0       0   \n",
       "8      5       0       0       0       0       0       0       0       0   \n",
       "9      3       0       0       0       0       0       0       0       0   \n",
       "\n",
       "   pixel8    ...     pixel774  pixel775  pixel776  pixel777  pixel778  \\\n",
       "0       0    ...            0         0         0         0         0   \n",
       "1       0    ...            0         0         0         0         0   \n",
       "2       0    ...            0         0         0         0         0   \n",
       "3       0    ...            0         0         0         0         0   \n",
       "4       0    ...            0         0         0         0         0   \n",
       "5       0    ...            0         0         0         0         0   \n",
       "6       0    ...            0         0         0         0         0   \n",
       "7       0    ...            0         0         0         0         0   \n",
       "8       0    ...            0         0         0         0         0   \n",
       "9       0    ...            0         0         0         0         0   \n",
       "\n",
       "   pixel779  pixel780  pixel781  pixel782  pixel783  \n",
       "0         0         0         0         0         0  \n",
       "1         0         0         0         0         0  \n",
       "2         0         0         0         0         0  \n",
       "3         0         0         0         0         0  \n",
       "4         0         0         0         0         0  \n",
       "5         0         0         0         0         0  \n",
       "6         0         0         0         0         0  \n",
       "7         0         0         0         0         0  \n",
       "8         0         0         0         0         0  \n",
       "9         0         0         0         0         0  \n",
       "\n",
       "[10 rows x 785 columns]"
      ]
     },
     "execution_count": 6,
     "metadata": {},
     "output_type": "execute_result"
    }
   ],
   "source": [
    "# display the head of data\n",
    "train_data.head(10)"
   ]
  },
  {
   "cell_type": "markdown",
   "metadata": {
    "_cell_guid": "53443eb1-5f22-4312-81cf-52e3dd246834",
    "_uuid": "7a8ba2e2f306b17e9929ec1aba3bc377a87bf39f"
   },
   "source": [
    "**Feature engineer data**"
   ]
  },
  {
   "cell_type": "code",
   "execution_count": 7,
   "metadata": {
    "_cell_guid": "961c84ff-70af-4298-9aac-33df3af69770",
    "_uuid": "b766952c12be5cb090c9ccff099023203cc36dd9",
    "collapsed": true
   },
   "outputs": [],
   "source": [
    "# extract features and output \n",
    "features = train_data.columns.tolist()\n",
    "output = \"label\"\n",
    "features.remove(output)"
   ]
  },
  {
   "cell_type": "code",
   "execution_count": 8,
   "metadata": {
    "_cell_guid": "ab887e44-db24-412d-bea9-00b63b8baa14",
    "_uuid": "114296784c06a2818a2e30f1b2b21c503bfc066c",
    "collapsed": true
   },
   "outputs": [],
   "source": [
    "# image dimensions\n",
    "width = 28\n",
    "height = 28"
   ]
  },
  {
   "cell_type": "code",
   "execution_count": 9,
   "metadata": {
    "_cell_guid": "5f91c96c-a1b4-4ede-8629-f00c5fe9e70e",
    "_uuid": "3d3f3a982a68cc0c8a004fb324764170e0acfc5d",
    "collapsed": true
   },
   "outputs": [],
   "source": [
    "# extract feature matrix\n",
    "train_X = train_data[features].as_matrix()\n",
    "train_X = train_X/255.0\n",
    "# reshape the data into image\n",
    "train_X = train_X.reshape((-1, 28,28))"
   ]
  },
  {
   "cell_type": "code",
   "execution_count": 10,
   "metadata": {
    "_cell_guid": "7f429e16-4f4d-4a10-92c2-be35a15f0128",
    "_uuid": "2cf3a2489c1f97d1b7a19e66a9b15183bb129be2",
    "collapsed": true
   },
   "outputs": [],
   "source": [
    "# extract labels\n",
    "train_y = train_data[output].as_matrix()\n",
    "train_y = train_y.astype(int)\n",
    "# one hot enncode the labels\n",
    "train_y = pd.get_dummies(train_y).as_matrix()"
   ]
  },
  {
   "cell_type": "code",
   "execution_count": 11,
   "metadata": {
    "_cell_guid": "4b411126-628f-480d-8c5c-65d8e010a2e4",
    "_uuid": "1fccc45e3b70aa2b574369afb0ea09b87c5b94ec"
   },
   "outputs": [
    {
     "name": "stdout",
     "output_type": "stream",
     "text": [
      "shape of train_X: (42000, 28, 28)\n"
     ]
    }
   ],
   "source": [
    "print(\"shape of train_X:\",train_X.shape)"
   ]
  },
  {
   "cell_type": "code",
   "execution_count": 12,
   "metadata": {
    "_cell_guid": "1e4ef2b2-8bf4-44e7-866c-198116a5112f",
    "_uuid": "2fe98ef8d1dcbe93ef814731d709aed221f326d7"
   },
   "outputs": [
    {
     "name": "stdout",
     "output_type": "stream",
     "text": [
      "shape of train_y: (42000, 10)\n"
     ]
    }
   ],
   "source": [
    "print(\"shape of train_y:\",train_y.shape)"
   ]
  },
  {
   "cell_type": "markdown",
   "metadata": {
    "_cell_guid": "d6e09501-9ccf-4de7-ab90-dd9b9d4dc1ed",
    "_uuid": "f3c994a4ea0e26b5a1ebb4b3b1a44a024c8cce2a"
   },
   "source": [
    "**Train validation split**"
   ]
  },
  {
   "cell_type": "code",
   "execution_count": 13,
   "metadata": {
    "_cell_guid": "a8890da3-cd73-4655-be86-c358b41c627e",
    "_uuid": "538d28a9f9af8426dca6c91b584d1e7444934081",
    "collapsed": true
   },
   "outputs": [],
   "source": [
    "# generate training and validation indexes\n",
    "train_indices = np.random.choice(len(train_y), round(len(train_y)*0.95), replace=False)\n",
    "validation_indices = np.array(list(set(range(len(train_y))) - set(train_indices)))\n",
    "# extract images for train and validation set\n",
    "image_train = train_X[train_indices]\n",
    "image_validation = train_X[validation_indices]\n",
    "# extract labels for train and validation set\n",
    "labels_train = train_y[train_indices]\n",
    "labels_validation = train_y[validation_indices]"
   ]
  },
  {
   "cell_type": "markdown",
   "metadata": {
    "_cell_guid": "af6c42d6-d9f7-4f54-bcb7-01841833ee18",
    "_uuid": "dd41f9f567d3097430d9ee1c4d4e7b1bc58346fc"
   },
   "source": [
    "# **Augment Training set**"
   ]
  },
  {
   "cell_type": "markdown",
   "metadata": {
    "_cell_guid": "6430b899-dfef-4135-96b7-0ddb7abc6a1e",
    "_uuid": "db1619c37c2281b8e387cbb924cb4cd0116f16b4"
   },
   "source": [
    "** Image Rotation**"
   ]
  },
  {
   "cell_type": "code",
   "execution_count": 14,
   "metadata": {
    "_cell_guid": "9e49a784-93a4-41c9-b7e5-009def937ac4",
    "_uuid": "6d98af15017803223fcca5aefecf0e6755834457",
    "collapsed": true
   },
   "outputs": [],
   "source": [
    "def rotate_image(img, angle = 20):\n",
    "    \n",
    "    '''a function to rotate image by a given degree'''\n",
    "    \n",
    "    # rotate image\n",
    "    copy = img.copy()\n",
    "\n",
    "    M_rotate = cv2.getRotationMatrix2D((14,14),angle,1)\n",
    "    img_new = cv2.warpAffine(copy,M_rotate,(28,28))\n",
    "\n",
    "    return img_new"
   ]
  },
  {
   "cell_type": "markdown",
   "metadata": {
    "_cell_guid": "de0d2ccf-2aff-4f37-9c9c-489534a2a56b",
    "_uuid": "7a2632087efe404bb503a617967ba6d9c69831c7"
   },
   "source": [
    "**Horizontal translation**"
   ]
  },
  {
   "cell_type": "code",
   "execution_count": 15,
   "metadata": {
    "_cell_guid": "efed7e29-fe10-4dc1-8249-82b5f09389ad",
    "_uuid": "38fcbdbbe12956b618a8ff6cad729249d5ed49bc",
    "collapsed": true
   },
   "outputs": [],
   "source": [
    "def translate_horizontal(image, shift_horizontal = 5):\n",
    "    \n",
    "    '''a function to translate image horizontally by a shift'''\n",
    "    \n",
    "    # horizontally shift image\n",
    "    img = image.copy()\n",
    "    \n",
    "    shift_vertical = 0\n",
    "    M_translate = np.float32([[1,0,shift_horizontal],[0,1,shift_vertical]])\n",
    "    img_new = cv2.warpAffine(img,M_translate,(28,28))\n",
    "    \n",
    "    return img_new.reshape(28,28).astype(np.float32)"
   ]
  },
  {
   "cell_type": "markdown",
   "metadata": {
    "_cell_guid": "259330cc-79d2-47a2-a8e9-47b97c510709",
    "_uuid": "87234598a9a58094298bed369a9266179bb46ecf"
   },
   "source": [
    "**Vertical translation**"
   ]
  },
  {
   "cell_type": "code",
   "execution_count": 16,
   "metadata": {
    "_cell_guid": "748d85b9-be41-4aad-8107-8ff052ad059d",
    "_uuid": "86985e8d17e502c2bcc750f17c16d4dc1f680a09",
    "collapsed": true
   },
   "outputs": [],
   "source": [
    "def translate_vertical(image, shift_vertical = 5):\n",
    "    \n",
    "    '''a function to translate image vertically by a shift'''\n",
    "    \n",
    "    # vertically shift image\n",
    "    img = image.copy()\n",
    "    \n",
    "    shift_horizontal = 0;\n",
    "    if shift_vertical<0:\n",
    "        image_slice = img[shift_vertical:,:].copy()\n",
    "    if shift_vertical>0:\n",
    "        image_slice = img[:shift_vertical,:].copy()\n",
    "    M_translate = np.float32([[1,0,shift_horizontal],[0,1,shift_vertical]])\n",
    "    img_new = cv2.warpAffine(img,M_translate,(28,28))\n",
    "    \n",
    "    return img_new.reshape(28,28).astype(np.float32)"
   ]
  },
  {
   "cell_type": "markdown",
   "metadata": {
    "_cell_guid": "94b4fad7-2ec9-46a5-8cbc-8f817acc2c3a",
    "_uuid": "ab1dd1b06178e5ad719ec01908774cb76ee6dcb8"
   },
   "source": [
    "**Translation along positive diagonal**"
   ]
  },
  {
   "cell_type": "code",
   "execution_count": 17,
   "metadata": {
    "_cell_guid": "96116195-aad5-48d5-9a60-d81a57f9130d",
    "_uuid": "f80ea7b7dd81f53ef6d990a295fed47b83663a69",
    "collapsed": true
   },
   "outputs": [],
   "source": [
    "def translate_positive_diagonal(image, shift_diagonal = 5):\n",
    "    \n",
    "    '''a function to translate image along positive diagonal'''\n",
    "    \n",
    "    # translate image along positive diagonal\n",
    "    img = image.copy()\n",
    "    \n",
    "    if shift_diagonal<0:\n",
    "        hor_slice = img[shift_diagonal:,:].copy()\n",
    "        ver_slice = img[:,shift_diagonal:].copy()\n",
    "    else:\n",
    "        hor_slice = img[:shift_diagonal,:].copy()\n",
    "        ver_slice = img[:,:shift_diagonal].copy()\n",
    "    M_translate = np.float32([[1,0,shift_diagonal],[0,1,shift_diagonal]])\n",
    "    img_new = cv2.warpAffine(img,M_translate,(28,28))\n",
    "    \n",
    "    return img_new.reshape(28,28).astype(np.float32)"
   ]
  },
  {
   "cell_type": "markdown",
   "metadata": {
    "_cell_guid": "05386af9-e8f5-4c82-afbb-77a0c7fca5bf",
    "_uuid": "95ac5621f89c4a3c5f203753439e5134e82d1d35"
   },
   "source": [
    "**Translation along negative diagonal**"
   ]
  },
  {
   "cell_type": "code",
   "execution_count": 18,
   "metadata": {
    "_cell_guid": "f318e7dd-d95d-40ec-859f-ea09213c6451",
    "_uuid": "a8a3f6132445e2e6361a13be6d33b414bace09ed",
    "collapsed": true
   },
   "outputs": [],
   "source": [
    "def translate_negative_diagonal(image, shift_diagonal = 5):\n",
    "    \n",
    "    '''a function to translate image along negative diagonal'''\n",
    "    \n",
    "    # translate image along negative diagonal\n",
    "    img = image.copy()\n",
    "    \n",
    "    if shift_diagonal<0:\n",
    "        hor_slice = img[:-shift_diagonal,:].copy()\n",
    "        ver_slice = img[:,shift_diagonal:].copy()\n",
    "    if shift_diagonal>0:\n",
    "        hor_slice = img[-shift_diagonal:,:].copy()\n",
    "        ver_slice = img[:,:shift_diagonal].copy()\n",
    "    M_translate = np.float32([[1,0,shift_diagonal],[0,1,-shift_diagonal]])\n",
    "    img_new = cv2.warpAffine(img,M_translate,(28,28))\n",
    "        \n",
    "    return img_new.reshape(28,28).astype(np.float32)"
   ]
  },
  {
   "cell_type": "markdown",
   "metadata": {
    "_cell_guid": "113e9ec0-96bd-41bb-90ef-c8a28d0dc9aa",
    "_uuid": "8e3c0beb21b4d5942e53de86a48610a81b650d87"
   },
   "source": [
    "**Zoom image**"
   ]
  },
  {
   "cell_type": "code",
   "execution_count": 19,
   "metadata": {
    "_cell_guid": "a052beb9-6d46-4a19-8c9a-6404cea20bbe",
    "_uuid": "68d07ea01098dffac2737481112472d48308ea31",
    "collapsed": true
   },
   "outputs": [],
   "source": [
    "def zoom(image, zoom_shift = 5):\n",
    "    \n",
    "    '''a function to zoom image'''\n",
    "    \n",
    "    # zoom image\n",
    "    img = image.copy()\n",
    "    \n",
    "    # zoom in \n",
    "    if zoom_shift>0:\n",
    "        # scale\n",
    "        img_new = cv2.resize(img, (28+zoom_shift*2,28+zoom_shift*2)) \n",
    "        # crop\n",
    "        img_new = img_new[zoom_shift:-zoom_shift,zoom_shift:-zoom_shift] \n",
    "    # zoom out\n",
    "    else:\n",
    "        zoom_shift *=-1        \n",
    "        # scale\n",
    "        img_new = cv2.resize(img, (28-zoom_shift*2,28-zoom_shift*2)) \n",
    "        # zero padding\n",
    "        img_new = cv2.copyMakeBorder(img_new,zoom_shift,zoom_shift,zoom_shift,zoom_shift,\n",
    "                                     cv2.BORDER_CONSTANT,value=0.0) \n",
    "        \n",
    "    return img_new.reshape(28,28).astype(np.float32)"
   ]
  },
  {
   "cell_type": "markdown",
   "metadata": {
    "_cell_guid": "b91b0b00-0793-4516-a1bd-7f4979c70efb",
    "_uuid": "d7679c2ce8190afa9d8105e2011c4ef63a331153"
   },
   "source": [
    "**Visualize the image transformations**"
   ]
  },
  {
   "cell_type": "code",
   "execution_count": 20,
   "metadata": {
    "_cell_guid": "28ec893e-0dfe-42a4-a115-55436f311bb1",
    "_uuid": "df11c3c78c4166022701465967a9aa58644f7cb6"
   },
   "outputs": [
    {
     "data": {
      "image/png": "[encoded data removed]",
      "text/plain": [
       "<matplotlib.figure.Figure at 0x7fef6bb709b0>"
      ]
     },
     "metadata": {},
     "output_type": "display_data"
    },
    {
     "data": {
      "image/png": "[encoded data removed]",
      "text/plain": [
       "<matplotlib.figure.Figure at 0x7fef6bb70978>"
      ]
     },
     "metadata": {},
     "output_type": "display_data"
    }
   ],
   "source": [
    "image = train_X[3]\n",
    "matplotlib.rcParams['figure.figsize'] = (6.0, 4.0)\n",
    "plt.imshow(image, cmap='gray')\n",
    "plt.title(\"Original Image\")\n",
    "plt.show()\n",
    "matplotlib.rcParams['figure.figsize'] = (20.0, 14.0)\n",
    "generated_image = rotate_image(image,10)\n",
    "plt.subplot(3,4,1)\n",
    "plt.title(\"Positive rotation\")\n",
    "plt.imshow(generated_image, cmap='gray')\n",
    "generated_image = rotate_image(image,-10)\n",
    "plt.subplot(3,4,2)\n",
    "plt.title(\"Negative rotation\")\n",
    "plt.imshow(generated_image, cmap='gray')\n",
    "generated_image = translate_horizontal(image,5)\n",
    "plt.subplot(3,4,3)\n",
    "plt.title(\"Rightward translation\")\n",
    "plt.imshow(generated_image, cmap='gray')\n",
    "generated_image = translate_horizontal(image,-5)\n",
    "plt.subplot(3,4,4)\n",
    "plt.title(\"Leftward translation\")\n",
    "plt.imshow(generated_image, cmap='gray')\n",
    "generated_image = translate_vertical(image,5)\n",
    "plt.subplot(3,4,5)\n",
    "plt.title(\"Downward translation\")\n",
    "plt.imshow(generated_image, cmap='gray')\n",
    "generated_image = translate_vertical(image,-5)\n",
    "plt.subplot(3,4,6)\n",
    "plt.title(\"Upward translation\")\n",
    "plt.imshow(generated_image, cmap='gray')\n",
    "generated_image = translate_positive_diagonal(image,5)\n",
    "plt.subplot(3,4,7)\n",
    "plt.title(\"SE translation\")\n",
    "plt.imshow(generated_image, cmap='gray')\n",
    "generated_image = translate_positive_diagonal(image,-5)\n",
    "plt.subplot(3,4,8)\n",
    "plt.title(\"NW translation\")\n",
    "plt.imshow(generated_image, cmap='gray')\n",
    "generated_image = translate_negative_diagonal(image,5)\n",
    "plt.subplot(3,4,9)\n",
    "plt.title(\"NE translation\")\n",
    "plt.imshow(generated_image, cmap='gray')\n",
    "generated_image = translate_negative_diagonal(image,-5)\n",
    "plt.subplot(3,4,10)\n",
    "plt.title(\"SW translation\")\n",
    "plt.imshow(generated_image, cmap='gray')\n",
    "generated_image = zoom(image,5)\n",
    "plt.subplot(3,4,11)\n",
    "plt.title(\"Zoom in\")\n",
    "plt.imshow(generated_image, cmap='gray')\n",
    "generated_image = zoom(image,-5)\n",
    "plt.subplot(3,4,12)\n",
    "plt.title(\"Zoom Out\")\n",
    "plt.imshow(generated_image, cmap='gray')\n",
    "plt.show()"
   ]
  },
  {
   "cell_type": "markdown",
   "metadata": {
    "_cell_guid": "45a07715-e863-4928-b028-85bef963f009",
    "_uuid": "be46889e5c939228b9734d23164fbd004029f046"
   },
   "source": [
    "**Function to augment data**"
   ]
  },
  {
   "cell_type": "code",
   "execution_count": 21,
   "metadata": {
    "_cell_guid": "b7876bf6-7eaf-416b-960b-93f55a37b833",
    "_uuid": "47f53372d17963fa7713a86d13f8093f95351051",
    "collapsed": true
   },
   "outputs": [],
   "source": [
    "def augment_data(image, labels):\n",
    "    \n",
    "    '''a function to augment band1 and band2 image'''\n",
    "    \n",
    "    # list to store the generated data\n",
    "    image_generated = []\n",
    "    labels_generated = []\n",
    "    \n",
    "    # iterate through each point in train set\n",
    "    for i in range(labels.shape[0]):\n",
    "        \n",
    "        # rotate by positive degree\n",
    "        angle = np.random.randint(1,6)\n",
    "        image_generated.append(rotate_image(image[i],angle)) \n",
    "        labels_generated.append(labels[i])\n",
    "        \n",
    "        # rotate by negative degree\n",
    "        angle = np.random.randint(1,6)\n",
    "        image_generated.append(rotate_image(image[i],-angle)) \n",
    "        labels_generated.append(labels[i])\n",
    "        \n",
    "        # positive horizontal shift\n",
    "        shift = np.random.randint(1,3)\n",
    "        image_generated.append(translate_horizontal(image[i],+shift)) \n",
    "        labels_generated.append(labels[i])\n",
    "        \n",
    "        # negative horizontal shift\n",
    "        shift = np.random.randint(1,3)\n",
    "        image_generated.append(translate_horizontal(image[i],-shift)) \n",
    "        labels_generated.append(labels[i])\n",
    "        \n",
    "        # positive vertical shift\n",
    "        shift = np.random.randint(1,3)\n",
    "        image_generated.append(translate_vertical(image[i],+shift)) \n",
    "        labels_generated.append(labels[i])\n",
    "        \n",
    "        # negative vertical shift\n",
    "        shift = np.random.randint(1,3)\n",
    "        image_generated.append(translate_vertical(image[i],-shift)) \n",
    "        labels_generated.append(labels[i])\n",
    "        \n",
    "        # translate along positive diagonal in positive direction\n",
    "        shift = np.random.randint(1,3)\n",
    "        image_generated.append(translate_positive_diagonal(image[i],+shift)) \n",
    "        labels_generated.append(labels[i])\n",
    "        \n",
    "        # translate along positive diagonal in negative direction\n",
    "        shift = np.random.randint(1,3)\n",
    "        image_generated.append(translate_positive_diagonal(image[i],-shift)) \n",
    "        labels_generated.append(labels[i])\n",
    "        \n",
    "        # translate along negative diagonal in positive direction\n",
    "        shift = np.random.randint(1,3)\n",
    "        image_generated.append(translate_negative_diagonal(image[i],+shift)) \n",
    "        labels_generated.append(labels[i])\n",
    "        \n",
    "        # translate along negative diagonal in negative direction\n",
    "        shift = np.random.randint(1,3)\n",
    "        image_generated.append(translate_negative_diagonal(image[i],-shift)) \n",
    "        labels_generated.append(labels[i])\n",
    "        \n",
    "        # zoom in image\n",
    "        zoom_shift = 2\n",
    "        image_generated.append(zoom(image[i],zoom_shift)) \n",
    "        labels_generated.append(labels[i])\n",
    "        \n",
    "        # zoom out image\n",
    "        zoom_shift = 2\n",
    "        image_generated.append(zoom(image[i],-zoom_shift)) \n",
    "        labels_generated.append(labels[i])        \n",
    "        \n",
    "    # convert the generated data into numpy array\n",
    "    image_generated = np.array(image_generated)\n",
    "    labels_generated = np.array(labels_generated)\n",
    "    \n",
    "    # concatenate the generated data to original train set\n",
    "    image_augmented = np.concatenate((image, image_generated),axis=0)\n",
    "    labels_augmented = np.concatenate((labels, labels_generated),axis=0)\n",
    "    \n",
    "    return image_augmented, labels_augmented"
   ]
  },
  {
   "cell_type": "markdown",
   "metadata": {
    "_cell_guid": "94a37d69-6e83-4a6a-b132-1f8f02b1ef8f",
    "_uuid": "9e209a818e35eba36499e5b118667f770ba02dad"
   },
   "source": [
    "**Augment image and labels of training set**"
   ]
  },
  {
   "cell_type": "code",
   "execution_count": 22,
   "metadata": {
    "_cell_guid": "97a939f0-e364-44c8-9c7c-f47c11762bd9",
    "_uuid": "422d4150386c03e611baf089bdc6baaa9bea22f9",
    "collapsed": true
   },
   "outputs": [],
   "source": [
    "image_train, labels_train = augment_data(image_train, labels_train)"
   ]
  },
  {
   "cell_type": "code",
   "execution_count": 23,
   "metadata": {
    "_cell_guid": "df2cad47-6c93-488b-adde-61e190a6e00f",
    "_uuid": "41e658c99af01b65c7508f7fc08be92cc7c07f64"
   },
   "outputs": [
    {
     "name": "stdout",
     "output_type": "stream",
     "text": [
      "Shape of image_train: (518700, 28, 28)\n",
      "Shape of image_validation: (2100, 28, 28)\n"
     ]
    }
   ],
   "source": [
    "print(\"Shape of image_train:\",image_train.shape)\n",
    "print(\"Shape of image_validation:\",image_validation.shape)"
   ]
  },
  {
   "cell_type": "code",
   "execution_count": 24,
   "metadata": {
    "_cell_guid": "6289741e-336f-48c0-8d4f-bdd94a380e0e",
    "_uuid": "a977f2018085c27c41032843629bbd98d25c5721",
    "collapsed": true
   },
   "outputs": [],
   "source": [
    "image_train = image_train[:,:,:,np.newaxis]\n",
    "image_validation = image_validation[:,:,:,np.newaxis]"
   ]
  },
  {
   "cell_type": "code",
   "execution_count": 25,
   "metadata": {
    "_cell_guid": "c4935463-f0a2-40ca-b9fe-6d7a87853a75",
    "_uuid": "5ae642c44dccb2ea4708c1dd1cd27b8864cdf307"
   },
   "outputs": [
    {
     "name": "stdout",
     "output_type": "stream",
     "text": [
      "Shape of image_train: (518700, 28, 28, 1)\n",
      "Shape of image_validation: (2100, 28, 28, 1)\n"
     ]
    }
   ],
   "source": [
    "print(\"Shape of image_train:\",image_train.shape)\n",
    "print(\"Shape of image_validation:\",image_validation.shape)"
   ]
  },
  {
   "cell_type": "markdown",
   "metadata": {
    "_cell_guid": "eb973dcd-3c50-431e-b6c4-5a851170b9fb",
    "_uuid": "c1a7ab20edc23cf06b182da940dd0ea68f4b0965"
   },
   "source": [
    "# **Creating Convolutional Neural Network**"
   ]
  },
  {
   "cell_type": "code",
   "execution_count": 26,
   "metadata": {
    "_cell_guid": "12a1afc6-4415-4c8c-a60b-9ddd1cde5aa2",
    "_uuid": "3c07d6b5e529515e99218786a48f2dc86229c208",
    "collapsed": true
   },
   "outputs": [],
   "source": [
    "import tensorflow as tf\n",
    "from tensorflow.python.framework import ops\n",
    "ops.reset_default_graph()\n",
    "# sess = tf.InteractiveSession()"
   ]
  },
  {
   "cell_type": "code",
   "execution_count": 27,
   "metadata": {
    "_cell_guid": "f3d709ab-b215-4c3f-a6f7-40e08dc0c57c",
    "_uuid": "ae8151d93e8dcc65e644dc703b38f8b718fb07a5",
    "collapsed": true
   },
   "outputs": [],
   "source": [
    "# image dimensions\n",
    "width = 28\n",
    "height = 28\n",
    "num_channels = 1\n",
    "flat = width * height\n",
    "num_classes = 10"
   ]
  },
  {
   "cell_type": "markdown",
   "metadata": {
    "_cell_guid": "ea202242-e5b4-4015-b086-5fa2e7f3464d",
    "_uuid": "cef80bae3846700e5d509b03ae3bb2c025236361"
   },
   "source": [
    "**Create Placeholder**"
   ]
  },
  {
   "cell_type": "code",
   "execution_count": 28,
   "metadata": {
    "_cell_guid": "f9abe8f1-ae4a-4d70-851f-8d4c9c8b03e3",
    "_uuid": "c28bb2b5c171e5f6c1dbf1221081694c18b43fc1",
    "collapsed": true
   },
   "outputs": [],
   "source": [
    "x_image = tf.placeholder(tf.float32, shape=[None,height, width, num_channels])\n",
    "labels = tf.placeholder(tf.int32, shape=[None, num_classes])\n",
    "keep_prob = tf.placeholder(tf.float32)"
   ]
  },
  {
   "cell_type": "markdown",
   "metadata": {
    "_cell_guid": "341c2eda-18f2-49ce-bd3e-cbf689ac140f",
    "_uuid": "976e1929f603e10d3c4ab98e085b3e9b4ae9848e"
   },
   "source": [
    "## **Create functions for creating deep learning layers**"
   ]
  },
  {
   "cell_type": "code",
   "execution_count": 29,
   "metadata": {
    "_cell_guid": "446ce80d-bda8-48db-a70f-ebb5eda46a33",
    "_uuid": "43e841c2f647ecf3f14f660823b065138ff852c7",
    "collapsed": true
   },
   "outputs": [],
   "source": [
    "def create_weights(shape):\n",
    "    '''a function to create weight tensor'''\n",
    "    return tf.Variable(tf.truncated_normal(shape, stddev=0.05))\n",
    " \n",
    "def create_biases(size):\n",
    "    '''a function to create bias tensor'''\n",
    "    return tf.Variable(tf.constant(0.05, shape=[size]))"
   ]
  },
  {
   "cell_type": "code",
   "execution_count": 30,
   "metadata": {
    "_cell_guid": "5bef8d90-fa3b-443a-ab2b-5e79bea7579a",
    "_uuid": "65fd42be1569174a0cfd8be468fc1fe7fb4a0b43",
    "collapsed": true
   },
   "outputs": [],
   "source": [
    "def create_convolutional_layer(input,\n",
    "                               num_input_channels,\n",
    "                               conv_filter_size,\n",
    "                               max_pool_filter_size,\n",
    "                               num_filters):  \n",
    "    \n",
    "    '''a function to create convoutional layer'''\n",
    "    \n",
    "    # create filter for the convolutional layer\n",
    "    weights = create_weights(shape=[conv_filter_size, conv_filter_size, num_input_channels, num_filters])\n",
    "    \n",
    "    # create biases\n",
    "    biases = create_biases(num_filters)\n",
    "    \n",
    "    # create covolutional layer\n",
    "    layer = tf.nn.conv2d(input=input,\n",
    "                     filter=weights,\n",
    "                     strides=[1, 1, 1, 1],\n",
    "                     padding='SAME')\n",
    "    \n",
    "    # add the bias to the convolutional layer\n",
    "    layer += biases\n",
    "    \n",
    "    # relu activation layer fed into layer\n",
    "    layer = tf.nn.relu(layer)\n",
    "    \n",
    "    # max pooling to half the size of the image\n",
    "    layer = tf.nn.max_pool(value=layer,\n",
    "                            ksize=[1, max_pool_filter_size, max_pool_filter_size, 1],\n",
    "                            strides=[1, 2, 2, 1],\n",
    "                            padding='SAME')\n",
    "        \n",
    "    # return the output layer of the convolution\n",
    "    return layer"
   ]
  },
  {
   "cell_type": "code",
   "execution_count": 31,
   "metadata": {
    "_cell_guid": "848b1ac2-f2bb-4f20-8bb1-3f5789697b9e",
    "_uuid": "244e487415da490958858566ec596700e283ce99",
    "collapsed": true
   },
   "outputs": [],
   "source": [
    "def create_flatten_layer(layer):\n",
    "    \n",
    "    '''a function for creating flattened layer from convolutional output'''\n",
    "    \n",
    "    # extract the shape of the layer\n",
    "    layer_shape = layer.get_shape()\n",
    "    # calculate the number features of the flattened layer\n",
    "    num_features = layer_shape[1:4].num_elements()\n",
    "    # create the flattened layer\n",
    "    layer = tf.reshape(layer, [-1, num_features])\n",
    "    # return the layer\n",
    "    return layer"
   ]
  },
  {
   "cell_type": "code",
   "execution_count": 32,
   "metadata": {
    "_cell_guid": "07004ae5-70db-464b-929d-99b9de51ec02",
    "_uuid": "e2bc686de773f8115f844bed58b2eaf7f46de635",
    "collapsed": true
   },
   "outputs": [],
   "source": [
    "def create_fc_layer(input,          \n",
    "                    num_inputs,    \n",
    "                    num_outputs,\n",
    "                    use_relu=True,\n",
    "                    dropout = False, \n",
    "                    keep_prob = 0.2):\n",
    "    \n",
    "    '''a function for creating fully connected layer'''\n",
    "    \n",
    "    #Let's define trainable weights and biases.\n",
    "    weights = create_weights(shape=[num_inputs, num_outputs])\n",
    "    biases = create_biases(num_outputs)\n",
    "    \n",
    "    # matrix multiplication between input and weight matrix\n",
    "    layer = tf.matmul(input, weights) + biases\n",
    "    \n",
    "    # add relu activation if wanted\n",
    "    if use_relu:\n",
    "        layer = tf.nn.relu(layer)\n",
    "        \n",
    "    # if dropout is wanted add dropout\n",
    "    if dropout:        \n",
    "        layer = tf.nn.dropout(layer, keep_prob)\n",
    "    \n",
    "    # return layer\n",
    "    return layer"
   ]
  },
  {
   "cell_type": "markdown",
   "metadata": {
    "_cell_guid": "1134114f-f853-425d-9246-c0d51426dbaf",
    "_uuid": "de320b35940705c5e36e2dfb0efdd45c1bab6959"
   },
   "source": [
    "## **Create Layers of Covnet**"
   ]
  },
  {
   "cell_type": "markdown",
   "metadata": {
    "_cell_guid": "1072760c-5749-4280-9559-e4b9769a9d2a",
    "_uuid": "2031ca67fbf716c0e6bc343e2b136389df756362"
   },
   "source": [
    "**Parameters of deep learning layers**"
   ]
  },
  {
   "cell_type": "code",
   "execution_count": 33,
   "metadata": {
    "_cell_guid": "bae548b5-27f6-42f5-94af-65ee32d5bcc1",
    "_kg_hide-input": false,
    "_kg_hide-output": false,
    "_uuid": "b737ded92b997beb4d7ca4e6aee8baefd2389285",
    "collapsed": true
   },
   "outputs": [],
   "source": [
    "conv1_features = 64\n",
    "conv1_filter_size = 5\n",
    "max_pool_size1 = 2\n",
    "\n",
    "conv2_features = 128\n",
    "conv2_filter_size = 5\n",
    "max_pool_size2 = 2\n",
    "\n",
    "fc_layer_size1 = 1024\n",
    "fc_layer_size2 = 512"
   ]
  },
  {
   "cell_type": "markdown",
   "metadata": {
    "_cell_guid": "53dd9437-1548-4ba0-92bd-986d515dfbe4",
    "_uuid": "f82d8d1b16a568bcb327130cafa8210c7882fb9a"
   },
   "source": [
    "**Create First convolutional layer**"
   ]
  },
  {
   "cell_type": "code",
   "execution_count": 34,
   "metadata": {
    "_cell_guid": "4586cec6-fff4-4511-94c3-68fc2da89f25",
    "_uuid": "74450a2a5f9274152d998539dbcde13de71554c0"
   },
   "outputs": [
    {
     "data": {
      "text/plain": [
       "<tf.Tensor 'MaxPool:0' shape=(?, 14, 14, 64) dtype=float32>"
      ]
     },
     "execution_count": 34,
     "metadata": {},
     "output_type": "execute_result"
    }
   ],
   "source": [
    "layer_conv1 = create_convolutional_layer(input=x_image,\n",
    "                                         num_input_channels= num_channels,\n",
    "                                         conv_filter_size = conv1_filter_size,\n",
    "                                         max_pool_filter_size = max_pool_size1,\n",
    "                                         num_filters = conv1_features)\n",
    "layer_conv1"
   ]
  },
  {
   "cell_type": "markdown",
   "metadata": {
    "_cell_guid": "36422e3d-1e08-4328-84ae-921a950ab2cb",
    "_uuid": "007bfd63b1b8d5b724f7175ef2be9f97175f4695"
   },
   "source": [
    "**Create second convolutional layer**"
   ]
  },
  {
   "cell_type": "code",
   "execution_count": 35,
   "metadata": {
    "_cell_guid": "a0b63c98-36fa-4bda-8605-d93223f410be",
    "_uuid": "3fea2d3cb28017ff8187580b75451fb82ccabcd5"
   },
   "outputs": [
    {
     "data": {
      "text/plain": [
       "<tf.Tensor 'MaxPool_1:0' shape=(?, 7, 7, 128) dtype=float32>"
      ]
     },
     "execution_count": 35,
     "metadata": {},
     "output_type": "execute_result"
    }
   ],
   "source": [
    "layer_conv2 = create_convolutional_layer(input=layer_conv1,\n",
    "                                         num_input_channels= conv1_features,\n",
    "                                         conv_filter_size = conv2_filter_size,\n",
    "                                         max_pool_filter_size = max_pool_size2,\n",
    "                                         num_filters = conv2_features)\n",
    "layer_conv2"
   ]
  },
  {
   "cell_type": "markdown",
   "metadata": {
    "_cell_guid": "8724df2f-c6e1-48d0-bfd3-a9468809bc3c",
    "_uuid": "ec5b23f6efb05fc7db1913cbb123837379c03b45"
   },
   "source": [
    "**Flatten the output of convolutional layer**"
   ]
  },
  {
   "cell_type": "code",
   "execution_count": 36,
   "metadata": {
    "_cell_guid": "74d2c47a-16b7-40e2-8edc-48cc1b8b3d1c",
    "_uuid": "628814cff60c3b21fe6ec5da3fb574fe2f6626ca"
   },
   "outputs": [
    {
     "data": {
      "text/plain": [
       "<tf.Tensor 'Reshape:0' shape=(?, 6272) dtype=float32>"
      ]
     },
     "execution_count": 36,
     "metadata": {},
     "output_type": "execute_result"
    }
   ],
   "source": [
    "layer_flat = create_flatten_layer(layer_conv2)\n",
    "layer_flat"
   ]
  },
  {
   "cell_type": "markdown",
   "metadata": {
    "_cell_guid": "965725a7-b4b2-484b-9700-7378a481b530",
    "_uuid": "dad949003a8f0f3dc352b40557f68a99db02393d"
   },
   "source": [
    "**Create first fully connected layer**"
   ]
  },
  {
   "cell_type": "code",
   "execution_count": 37,
   "metadata": {
    "_cell_guid": "cab7af66-34ab-49a9-ab5f-3cd9a91f0d6a",
    "_uuid": "331699c5024bb45a131bd417d3c39de2ff34c2fe"
   },
   "outputs": [
    {
     "data": {
      "text/plain": [
       "<tf.Tensor 'dropout/mul:0' shape=(?, 1024) dtype=float32>"
      ]
     },
     "execution_count": 37,
     "metadata": {},
     "output_type": "execute_result"
    }
   ],
   "source": [
    "layer_fc1 = create_fc_layer(input=layer_flat,\n",
    "                            num_inputs=layer_flat.get_shape()[1:4].num_elements(),\n",
    "                            num_outputs=fc_layer_size1,\n",
    "                            use_relu=True,\n",
    "                            dropout=True,\n",
    "                            keep_prob=keep_prob)\n",
    "layer_fc1"
   ]
  },
  {
   "cell_type": "markdown",
   "metadata": {
    "_cell_guid": "9521983c-9357-4641-865c-d20cd6e4588b",
    "_uuid": "f415c166cfd990d7596eb207fae919c55e5cc0a7"
   },
   "source": [
    "**Create second fully connected layer**"
   ]
  },
  {
   "cell_type": "code",
   "execution_count": 38,
   "metadata": {
    "_cell_guid": "6aa9e97e-1189-4d11-adfe-bfd3cd1d6001",
    "_uuid": "057b57b4e7f185a1761da0516e86be1dcd849af1"
   },
   "outputs": [
    {
     "data": {
      "text/plain": [
       "<tf.Tensor 'dropout_1/mul:0' shape=(?, 512) dtype=float32>"
      ]
     },
     "execution_count": 38,
     "metadata": {},
     "output_type": "execute_result"
    }
   ],
   "source": [
    "layer_fc2 = create_fc_layer(input=layer_fc1,\n",
    "                            num_inputs=fc_layer_size1,\n",
    "                            num_outputs=fc_layer_size2,\n",
    "                            use_relu=True,\n",
    "                            dropout=True,\n",
    "                            keep_prob=keep_prob)\n",
    "layer_fc2"
   ]
  },
  {
   "cell_type": "markdown",
   "metadata": {
    "_cell_guid": "27ac62e6-c951-4b8b-b04b-25447f566ae6",
    "_uuid": "a5092f75ef493cb1706b7fff0fb554149a29f3c0"
   },
   "source": [
    "**Create output layer**"
   ]
  },
  {
   "cell_type": "code",
   "execution_count": 39,
   "metadata": {
    "_cell_guid": "72b5153c-cb49-480a-bfc9-1ec734981bf7",
    "_uuid": "71be9920cbc7f93fe1d34bc4ac470806f9edfb5c"
   },
   "outputs": [
    {
     "data": {
      "text/plain": [
       "<tf.Tensor 'add_4:0' shape=(?, 10) dtype=float32>"
      ]
     },
     "execution_count": 39,
     "metadata": {},
     "output_type": "execute_result"
    }
   ],
   "source": [
    "output_layer = create_fc_layer(input=layer_fc2,\n",
    "                     num_inputs = fc_layer_size2,\n",
    "                     num_outputs = num_classes,\n",
    "                     use_relu=False)\n",
    "output_layer"
   ]
  },
  {
   "cell_type": "markdown",
   "metadata": {
    "_cell_guid": "a48ecf68-9a72-4016-982b-ed555e396d0b",
    "_uuid": "cc8657cce4a7fee4a57d6cc3b5d4f55d9d6beffe"
   },
   "source": [
    "**Create prediction & accuracy metric**"
   ]
  },
  {
   "cell_type": "code",
   "execution_count": 40,
   "metadata": {
    "_cell_guid": "24f3296b-860e-4a9e-b6ec-b70be2077ffc",
    "_uuid": "46c2aa01f1b81ce93bc02c2d1841fadb8751ca49",
    "collapsed": true
   },
   "outputs": [],
   "source": [
    "y_pred = tf.nn.softmax(output_layer)\n",
    "# compute predicted class\n",
    "y_pred_cls = tf.argmax(y_pred, axis=1, output_type=tf.int32)\n",
    "# compute true class\n",
    "y_true_cls = tf.argmax(labels, axis=1, output_type=tf.int32)"
   ]
  },
  {
   "cell_type": "code",
   "execution_count": 41,
   "metadata": {
    "_cell_guid": "f321f973-91ad-4e9d-91d3-805b6d1ef8be",
    "_uuid": "94fe76c548a560b48c2b0bb372813526c0bc1928",
    "collapsed": true
   },
   "outputs": [],
   "source": [
    "# compute correct prediction\n",
    "correct_prediction = tf.equal(y_pred_cls, y_true_cls)\n",
    "# compute accuracy\n",
    "accuracy = tf.reduce_mean(tf.cast(correct_prediction, tf.float32))"
   ]
  },
  {
   "cell_type": "markdown",
   "metadata": {
    "_cell_guid": "42ccd4f0-e353-41c7-86be-ee391e3a89e3",
    "_uuid": "0d33bd48bfd88a697061380f18052da77382a200"
   },
   "source": [
    "**Create loss operation**"
   ]
  },
  {
   "cell_type": "code",
   "execution_count": 42,
   "metadata": {
    "_cell_guid": "e2a90806-05cf-474c-b12c-1a965a1aac34",
    "_uuid": "3605934a036b8bbed0bd926667fd9c19bd57ec0e",
    "collapsed": true
   },
   "outputs": [],
   "source": [
    "cross_entropy = tf.nn.softmax_cross_entropy_with_logits_v2(logits=output_layer,\n",
    "                                                    labels=labels)\n",
    "loss = tf.reduce_mean(cross_entropy)"
   ]
  },
  {
   "cell_type": "markdown",
   "metadata": {
    "_cell_guid": "b82525b1-83c9-4e49-8187-2a75fba4fce1",
    "_uuid": "2af251f9d483a7451006890e8a18e126b2d5e354"
   },
   "source": [
    "**Create optimizer**"
   ]
  },
  {
   "cell_type": "code",
   "execution_count": 43,
   "metadata": {
    "_cell_guid": "54c45e46-4fd4-48f4-96db-5e0ff89545c5",
    "_uuid": "2732f5f1e96cc5eae33781f5bc2d1f17082e27c5",
    "collapsed": true
   },
   "outputs": [],
   "source": [
    "learning_rate = 1e-4\n",
    "train_step = tf.train.AdamOptimizer(learning_rate=learning_rate).minimize(loss)"
   ]
  },
  {
   "cell_type": "markdown",
   "metadata": {
    "_cell_guid": "9bbafcc2-944d-4760-ad06-2ef69532bedf",
    "_uuid": "d5f50da9ce6a9424cd237287910e149b6199c283"
   },
   "source": [
    "# **Train Model**"
   ]
  },
  {
   "cell_type": "code",
   "execution_count": 44,
   "metadata": {
    "_cell_guid": "9a31c53b-d0f0-4539-a59a-4d1adff1e961",
    "_uuid": "bf8d02f84a25329d3c18c83a3a32b6ddbe545d26",
    "collapsed": true
   },
   "outputs": [],
   "source": [
    "# list to store performance metrics at each iteration\n",
    "train_loss = []\n",
    "valid_loss = []\n",
    "valid_acc = []\n",
    "\n",
    "# training paramters\n",
    "train_batch_size = 250\n",
    "max_iter = 700"
   ]
  },
  {
   "cell_type": "code",
   "execution_count": 45,
   "metadata": {
    "_cell_guid": "f0ca1811-8e45-4a6b-ad4b-7593b82f328d",
    "_uuid": "99e3acada90dfb8ea8e9f976d0f6f39bef6fbda7",
    "scrolled": false
   },
   "outputs": [
    {
     "name": "stdout",
     "output_type": "stream",
     "text": [
      "iterations: 0 , train_loss: 2.26309 , valid_loss: 2.30378 , valid_accuracy: 0.119524\n",
      "iterations: 1 , train_loss: 2.22229 , valid_loss: 2.24069 , valid_accuracy: 0.189048\n",
      "iterations: 2 , train_loss: 2.20742 , valid_loss: 2.20136 , valid_accuracy: 0.254762\n",
      "iterations: 3 , train_loss: 2.16654 , valid_loss: 2.166 , valid_accuracy: 0.325714\n",
      "iterations: 4 , train_loss: 2.12971 , valid_loss: 2.11903 , valid_accuracy: 0.314762\n",
      "iterations: 5 , train_loss: 2.11922 , valid_loss: 2.06544 , valid_accuracy: 0.320952\n",
      "iterations: 6 , train_loss: 2.03138 , valid_loss: 2.01346 , valid_accuracy: 0.36\n",
      "iterations: 7 , train_loss: 2.01408 , valid_loss: 1.96442 , valid_accuracy: 0.47619\n",
      "iterations: 8 , train_loss: 1.94399 , valid_loss: 1.92007 , valid_accuracy: 0.577143\n",
      "iterations: 9 , train_loss: 1.95726 , valid_loss: 1.8793 , valid_accuracy: 0.593333\n",
      "iterations: 10 , train_loss: 1.91957 , valid_loss: 1.83805 , valid_accuracy: 0.614286\n",
      "iterations: 11 , train_loss: 1.89064 , valid_loss: 1.79974 , valid_accuracy: 0.624762\n",
      "iterations: 12 , train_loss: 1.84 , valid_loss: 1.76221 , valid_accuracy: 0.621429\n",
      "iterations: 13 , train_loss: 1.79065 , valid_loss: 1.72594 , valid_accuracy: 0.612381\n",
      "iterations: 14 , train_loss: 1.75898 , valid_loss: 1.68916 , valid_accuracy: 0.591905\n",
      "iterations: 15 , train_loss: 1.72947 , valid_loss: 1.65039 , valid_accuracy: 0.581905\n",
      "iterations: 16 , train_loss: 1.72388 , valid_loss: 1.60674 , valid_accuracy: 0.6\n",
      "iterations: 17 , train_loss: 1.61591 , valid_loss: 1.56065 , valid_accuracy: 0.628571\n",
      "iterations: 18 , train_loss: 1.65076 , valid_loss: 1.50958 , valid_accuracy: 0.668095\n",
      "iterations: 19 , train_loss: 1.59827 , valid_loss: 1.45803 , valid_accuracy: 0.710952\n",
      "iterations: 20 , train_loss: 1.55019 , valid_loss: 1.40942 , valid_accuracy: 0.75\n",
      "iterations: 21 , train_loss: 1.54692 , valid_loss: 1.36692 , valid_accuracy: 0.772381\n",
      "iterations: 22 , train_loss: 1.47769 , valid_loss: 1.32705 , valid_accuracy: 0.78381\n",
      "iterations: 23 , train_loss: 1.40936 , valid_loss: 1.28605 , valid_accuracy: 0.784762\n",
      "iterations: 24 , train_loss: 1.40978 , valid_loss: 1.23998 , valid_accuracy: 0.784286\n",
      "iterations: 25 , train_loss: 1.3587 , valid_loss: 1.19331 , valid_accuracy: 0.791429\n",
      "iterations: 26 , train_loss: 1.34505 , valid_loss: 1.15375 , valid_accuracy: 0.79\n",
      "iterations: 27 , train_loss: 1.31207 , valid_loss: 1.12207 , valid_accuracy: 0.77619\n",
      "iterations: 28 , train_loss: 1.19214 , valid_loss: 1.09641 , valid_accuracy: 0.751429\n",
      "iterations: 29 , train_loss: 1.22278 , valid_loss: 1.06591 , valid_accuracy: 0.745238\n",
      "iterations: 30 , train_loss: 1.19578 , valid_loss: 1.0283 , valid_accuracy: 0.747619\n",
      "iterations: 31 , train_loss: 1.12119 , valid_loss: 0.985301 , valid_accuracy: 0.763333\n",
      "iterations: 32 , train_loss: 1.12187 , valid_loss: 0.943028 , valid_accuracy: 0.779524\n",
      "iterations: 33 , train_loss: 1.05278 , valid_loss: 0.904777 , valid_accuracy: 0.802857\n",
      "iterations: 34 , train_loss: 1.08704 , valid_loss: 0.873929 , valid_accuracy: 0.811429\n",
      "iterations: 35 , train_loss: 1.0574 , valid_loss: 0.84513 , valid_accuracy: 0.815238\n",
      "iterations: 36 , train_loss: 0.990199 , valid_loss: 0.814525 , valid_accuracy: 0.818095\n",
      "iterations: 37 , train_loss: 1.01615 , valid_loss: 0.788807 , valid_accuracy: 0.809524\n",
      "iterations: 38 , train_loss: 1.00924 , valid_loss: 0.772335 , valid_accuracy: 0.809048\n",
      "iterations: 39 , train_loss: 0.920864 , valid_loss: 0.765451 , valid_accuracy: 0.797143\n",
      "iterations: 40 , train_loss: 0.951319 , valid_loss: 0.758825 , valid_accuracy: 0.789048\n",
      "iterations: 41 , train_loss: 0.992476 , valid_loss: 0.749687 , valid_accuracy: 0.784286\n",
      "iterations: 42 , train_loss: 0.883276 , valid_loss: 0.719437 , valid_accuracy: 0.8\n",
      "iterations: 43 , train_loss: 0.892952 , valid_loss: 0.6783 , valid_accuracy: 0.816667\n",
      "iterations: 44 , train_loss: 0.846165 , valid_loss: 0.647557 , valid_accuracy: 0.834762\n",
      "iterations: 45 , train_loss: 0.806938 , valid_loss: 0.630428 , valid_accuracy: 0.838571\n",
      "iterations: 46 , train_loss: 0.818427 , valid_loss: 0.62201 , valid_accuracy: 0.838571\n",
      "iterations: 47 , train_loss: 0.775216 , valid_loss: 0.609307 , valid_accuracy: 0.840952\n",
      "iterations: 48 , train_loss: 0.756354 , valid_loss: 0.592835 , valid_accuracy: 0.840476\n",
      "iterations: 49 , train_loss: 0.774182 , valid_loss: 0.580711 , valid_accuracy: 0.84\n",
      "iterations: 50 , train_loss: 0.767332 , valid_loss: 0.574877 , valid_accuracy: 0.835714\n",
      "iterations: 51 , train_loss: 0.739343 , valid_loss: 0.565176 , valid_accuracy: 0.84\n",
      "iterations: 52 , train_loss: 0.740618 , valid_loss: 0.557619 , valid_accuracy: 0.837619\n",
      "iterations: 53 , train_loss: 0.744171 , valid_loss: 0.546313 , valid_accuracy: 0.84\n",
      "iterations: 54 , train_loss: 0.689102 , valid_loss: 0.533408 , valid_accuracy: 0.851429\n",
      "iterations: 55 , train_loss: 0.789522 , valid_loss: 0.525758 , valid_accuracy: 0.85\n",
      "iterations: 56 , train_loss: 0.729295 , valid_loss: 0.515249 , valid_accuracy: 0.851905\n",
      "iterations: 57 , train_loss: 0.703452 , valid_loss: 0.504932 , valid_accuracy: 0.855714\n",
      "iterations: 58 , train_loss: 0.692152 , valid_loss: 0.496765 , valid_accuracy: 0.858095\n",
      "iterations: 59 , train_loss: 0.778784 , valid_loss: 0.48726 , valid_accuracy: 0.860952\n",
      "iterations: 60 , train_loss: 0.753496 , valid_loss: 0.478059 , valid_accuracy: 0.865714\n",
      "iterations: 61 , train_loss: 0.646545 , valid_loss: 0.467815 , valid_accuracy: 0.871905\n",
      "iterations: 62 , train_loss: 0.612985 , valid_loss: 0.464188 , valid_accuracy: 0.867143\n",
      "iterations: 63 , train_loss: 0.677047 , valid_loss: 0.459019 , valid_accuracy: 0.865714\n",
      "iterations: 64 , train_loss: 0.613273 , valid_loss: 0.450589 , valid_accuracy: 0.870952\n",
      "iterations: 65 , train_loss: 0.6652 , valid_loss: 0.442156 , valid_accuracy: 0.875714\n",
      "iterations: 66 , train_loss: 0.638604 , valid_loss: 0.435229 , valid_accuracy: 0.876667\n",
      "iterations: 67 , train_loss: 0.619256 , valid_loss: 0.431881 , valid_accuracy: 0.879048\n",
      "iterations: 68 , train_loss: 0.587789 , valid_loss: 0.430084 , valid_accuracy: 0.876667\n",
      "iterations: 69 , train_loss: 0.655327 , valid_loss: 0.422209 , valid_accuracy: 0.880952\n",
      "iterations: 70 , train_loss: 0.599776 , valid_loss: 0.413823 , valid_accuracy: 0.885238\n",
      "iterations: 71 , train_loss: 0.652305 , valid_loss: 0.406986 , valid_accuracy: 0.89\n",
      "iterations: 72 , train_loss: 0.589385 , valid_loss: 0.401762 , valid_accuracy: 0.888571\n",
      "iterations: 73 , train_loss: 0.592579 , valid_loss: 0.397006 , valid_accuracy: 0.892381\n",
      "iterations: 74 , train_loss: 0.466201 , valid_loss: 0.393358 , valid_accuracy: 0.892857\n",
      "iterations: 75 , train_loss: 0.607847 , valid_loss: 0.392476 , valid_accuracy: 0.887619\n",
      "iterations: 76 , train_loss: 0.617502 , valid_loss: 0.389129 , valid_accuracy: 0.884762\n",
      "iterations: 77 , train_loss: 0.530797 , valid_loss: 0.382079 , valid_accuracy: 0.884762\n",
      "iterations: 78 , train_loss: 0.535743 , valid_loss: 0.376262 , valid_accuracy: 0.888095\n",
      "iterations: 79 , train_loss: 0.547079 , valid_loss: 0.368641 , valid_accuracy: 0.892381\n",
      "iterations: 80 , train_loss: 0.476512 , valid_loss: 0.36121 , valid_accuracy: 0.897619\n",
      "iterations: 81 , train_loss: 0.493787 , valid_loss: 0.351714 , valid_accuracy: 0.902857\n",
      "iterations: 82 , train_loss: 0.531322 , valid_loss: 0.343604 , valid_accuracy: 0.905714\n",
      "iterations: 83 , train_loss: 0.539627 , valid_loss: 0.338768 , valid_accuracy: 0.906667\n",
      "iterations: 84 , train_loss: 0.494652 , valid_loss: 0.335233 , valid_accuracy: 0.909048\n",
      "iterations: 85 , train_loss: 0.545644 , valid_loss: 0.333942 , valid_accuracy: 0.906667\n",
      "iterations: 86 , train_loss: 0.503399 , valid_loss: 0.332508 , valid_accuracy: 0.905714\n",
      "iterations: 87 , train_loss: 0.483659 , valid_loss: 0.335007 , valid_accuracy: 0.899048\n",
      "iterations: 88 , train_loss: 0.464844 , valid_loss: 0.339557 , valid_accuracy: 0.895714\n",
      "iterations: 89 , train_loss: 0.564448 , valid_loss: 0.34044 , valid_accuracy: 0.891429\n",
      "iterations: 90 , train_loss: 0.459833 , valid_loss: 0.33197 , valid_accuracy: 0.895714\n",
      "iterations: 91 , train_loss: 0.523023 , valid_loss: 0.322179 , valid_accuracy: 0.901905\n",
      "iterations: 92 , train_loss: 0.533221 , valid_loss: 0.313402 , valid_accuracy: 0.907619\n",
      "iterations: 93 , train_loss: 0.453527 , valid_loss: 0.30903 , valid_accuracy: 0.910952\n",
      "iterations: 94 , train_loss: 0.489024 , valid_loss: 0.308231 , valid_accuracy: 0.908571\n"
     ]
    },
    {
     "name": "stdout",
     "output_type": "stream",
     "text": [
      "iterations: 95 , train_loss: 0.412491 , valid_loss: 0.301502 , valid_accuracy: 0.910476\n",
      "iterations: 96 , train_loss: 0.452266 , valid_loss: 0.296188 , valid_accuracy: 0.912381\n",
      "iterations: 97 , train_loss: 0.549584 , valid_loss: 0.292477 , valid_accuracy: 0.912381\n",
      "iterations: 98 , train_loss: 0.406452 , valid_loss: 0.293916 , valid_accuracy: 0.912381\n",
      "iterations: 99 , train_loss: 0.52615 , valid_loss: 0.293527 , valid_accuracy: 0.912857\n",
      "iterations: 100 , train_loss: 0.489975 , valid_loss: 0.289044 , valid_accuracy: 0.915238\n",
      "iterations: 101 , train_loss: 0.435762 , valid_loss: 0.27993 , valid_accuracy: 0.921429\n",
      "iterations: 102 , train_loss: 0.441739 , valid_loss: 0.274754 , valid_accuracy: 0.920952\n",
      "iterations: 103 , train_loss: 0.421637 , valid_loss: 0.272166 , valid_accuracy: 0.925238\n",
      "iterations: 104 , train_loss: 0.457298 , valid_loss: 0.271516 , valid_accuracy: 0.921429\n",
      "iterations: 105 , train_loss: 0.474334 , valid_loss: 0.270149 , valid_accuracy: 0.92\n",
      "iterations: 106 , train_loss: 0.455335 , valid_loss: 0.270519 , valid_accuracy: 0.920952\n",
      "iterations: 107 , train_loss: 0.327945 , valid_loss: 0.274671 , valid_accuracy: 0.917619\n",
      "iterations: 108 , train_loss: 0.406409 , valid_loss: 0.279216 , valid_accuracy: 0.914762\n",
      "iterations: 109 , train_loss: 0.425257 , valid_loss: 0.275255 , valid_accuracy: 0.916667\n",
      "iterations: 110 , train_loss: 0.39469 , valid_loss: 0.270558 , valid_accuracy: 0.919524\n",
      "iterations: 111 , train_loss: 0.374092 , valid_loss: 0.264129 , valid_accuracy: 0.920952\n",
      "iterations: 112 , train_loss: 0.442453 , valid_loss: 0.258604 , valid_accuracy: 0.924286\n",
      "iterations: 113 , train_loss: 0.44228 , valid_loss: 0.253283 , valid_accuracy: 0.925714\n",
      "iterations: 114 , train_loss: 0.411349 , valid_loss: 0.250834 , valid_accuracy: 0.926667\n",
      "iterations: 115 , train_loss: 0.368045 , valid_loss: 0.250383 , valid_accuracy: 0.927619\n",
      "iterations: 116 , train_loss: 0.440319 , valid_loss: 0.249393 , valid_accuracy: 0.92619\n",
      "iterations: 117 , train_loss: 0.359987 , valid_loss: 0.249385 , valid_accuracy: 0.924762\n",
      "iterations: 118 , train_loss: 0.45703 , valid_loss: 0.244892 , valid_accuracy: 0.92619\n",
      "iterations: 119 , train_loss: 0.353821 , valid_loss: 0.241239 , valid_accuracy: 0.930952\n",
      "iterations: 120 , train_loss: 0.379944 , valid_loss: 0.24079 , valid_accuracy: 0.929048\n",
      "iterations: 121 , train_loss: 0.336977 , valid_loss: 0.237184 , valid_accuracy: 0.93\n",
      "iterations: 122 , train_loss: 0.408813 , valid_loss: 0.232475 , valid_accuracy: 0.931905\n",
      "iterations: 123 , train_loss: 0.360706 , valid_loss: 0.227293 , valid_accuracy: 0.934762\n",
      "iterations: 124 , train_loss: 0.313278 , valid_loss: 0.222747 , valid_accuracy: 0.937619\n",
      "iterations: 125 , train_loss: 0.384648 , valid_loss: 0.222685 , valid_accuracy: 0.935714\n",
      "iterations: 126 , train_loss: 0.336591 , valid_loss: 0.223052 , valid_accuracy: 0.932381\n",
      "iterations: 127 , train_loss: 0.309965 , valid_loss: 0.221215 , valid_accuracy: 0.934286\n",
      "iterations: 128 , train_loss: 0.2636 , valid_loss: 0.219738 , valid_accuracy: 0.934762\n",
      "iterations: 129 , train_loss: 0.378053 , valid_loss: 0.220223 , valid_accuracy: 0.935238\n",
      "iterations: 130 , train_loss: 0.380017 , valid_loss: 0.220824 , valid_accuracy: 0.934762\n",
      "iterations: 131 , train_loss: 0.374171 , valid_loss: 0.223623 , valid_accuracy: 0.93381\n",
      "iterations: 132 , train_loss: 0.371016 , valid_loss: 0.222524 , valid_accuracy: 0.931905\n",
      "iterations: 133 , train_loss: 0.379642 , valid_loss: 0.217958 , valid_accuracy: 0.932857\n",
      "iterations: 134 , train_loss: 0.335461 , valid_loss: 0.210957 , valid_accuracy: 0.938571\n",
      "iterations: 135 , train_loss: 0.313125 , valid_loss: 0.20547 , valid_accuracy: 0.94\n",
      "iterations: 136 , train_loss: 0.21465 , valid_loss: 0.20559 , valid_accuracy: 0.94\n",
      "iterations: 137 , train_loss: 0.291232 , valid_loss: 0.208558 , valid_accuracy: 0.937143\n",
      "iterations: 138 , train_loss: 0.378325 , valid_loss: 0.210067 , valid_accuracy: 0.939524\n",
      "iterations: 139 , train_loss: 0.290562 , valid_loss: 0.208315 , valid_accuracy: 0.939048\n",
      "iterations: 140 , train_loss: 0.376384 , valid_loss: 0.203372 , valid_accuracy: 0.939524\n",
      "iterations: 141 , train_loss: 0.352296 , valid_loss: 0.199522 , valid_accuracy: 0.939524\n",
      "iterations: 142 , train_loss: 0.358621 , valid_loss: 0.19699 , valid_accuracy: 0.938571\n",
      "iterations: 143 , train_loss: 0.301244 , valid_loss: 0.198482 , valid_accuracy: 0.939048\n",
      "iterations: 144 , train_loss: 0.26245 , valid_loss: 0.204247 , valid_accuracy: 0.937143\n",
      "iterations: 145 , train_loss: 0.325817 , valid_loss: 0.212577 , valid_accuracy: 0.932381\n",
      "iterations: 146 , train_loss: 0.43514 , valid_loss: 0.212276 , valid_accuracy: 0.934286\n",
      "iterations: 147 , train_loss: 0.346698 , valid_loss: 0.206222 , valid_accuracy: 0.939048\n",
      "iterations: 148 , train_loss: 0.325863 , valid_loss: 0.200981 , valid_accuracy: 0.940952\n",
      "iterations: 149 , train_loss: 0.230384 , valid_loss: 0.190591 , valid_accuracy: 0.947619\n",
      "iterations: 150 , train_loss: 0.276379 , valid_loss: 0.183869 , valid_accuracy: 0.950476\n",
      "iterations: 151 , train_loss: 0.245513 , valid_loss: 0.183397 , valid_accuracy: 0.951429\n",
      "iterations: 152 , train_loss: 0.307717 , valid_loss: 0.185635 , valid_accuracy: 0.949524\n",
      "iterations: 153 , train_loss: 0.315588 , valid_loss: 0.187286 , valid_accuracy: 0.948571\n",
      "iterations: 154 , train_loss: 0.35316 , valid_loss: 0.186847 , valid_accuracy: 0.946667\n",
      "iterations: 155 , train_loss: 0.352749 , valid_loss: 0.182678 , valid_accuracy: 0.946667\n",
      "iterations: 156 , train_loss: 0.278892 , valid_loss: 0.178459 , valid_accuracy: 0.950476\n",
      "iterations: 157 , train_loss: 0.3113 , valid_loss: 0.179749 , valid_accuracy: 0.948571\n",
      "iterations: 158 , train_loss: 0.272727 , valid_loss: 0.184379 , valid_accuracy: 0.942381\n",
      "iterations: 159 , train_loss: 0.287701 , valid_loss: 0.191033 , valid_accuracy: 0.939524\n",
      "iterations: 160 , train_loss: 0.235279 , valid_loss: 0.193991 , valid_accuracy: 0.938571\n",
      "iterations: 161 , train_loss: 0.263994 , valid_loss: 0.189196 , valid_accuracy: 0.941905\n",
      "iterations: 162 , train_loss: 0.301362 , valid_loss: 0.181076 , valid_accuracy: 0.944286\n",
      "iterations: 163 , train_loss: 0.288256 , valid_loss: 0.174738 , valid_accuracy: 0.947619\n",
      "iterations: 164 , train_loss: 0.238295 , valid_loss: 0.170984 , valid_accuracy: 0.951429\n",
      "iterations: 165 , train_loss: 0.277736 , valid_loss: 0.170432 , valid_accuracy: 0.955238\n",
      "iterations: 166 , train_loss: 0.333067 , valid_loss: 0.16968 , valid_accuracy: 0.952857\n",
      "iterations: 167 , train_loss: 0.304528 , valid_loss: 0.167615 , valid_accuracy: 0.951905\n",
      "iterations: 168 , train_loss: 0.233535 , valid_loss: 0.165326 , valid_accuracy: 0.952381\n",
      "iterations: 169 , train_loss: 0.356905 , valid_loss: 0.162786 , valid_accuracy: 0.954286\n",
      "iterations: 170 , train_loss: 0.297748 , valid_loss: 0.162984 , valid_accuracy: 0.954762\n",
      "iterations: 171 , train_loss: 0.240896 , valid_loss: 0.16229 , valid_accuracy: 0.952857\n",
      "iterations: 172 , train_loss: 0.265939 , valid_loss: 0.162747 , valid_accuracy: 0.953809\n",
      "iterations: 173 , train_loss: 0.282669 , valid_loss: 0.163134 , valid_accuracy: 0.951429\n",
      "iterations: 174 , train_loss: 0.282543 , valid_loss: 0.162311 , valid_accuracy: 0.951905\n",
      "iterations: 175 , train_loss: 0.268693 , valid_loss: 0.159655 , valid_accuracy: 0.953333\n",
      "iterations: 176 , train_loss: 0.265786 , valid_loss: 0.156143 , valid_accuracy: 0.952381\n",
      "iterations: 177 , train_loss: 0.222994 , valid_loss: 0.154872 , valid_accuracy: 0.954286\n",
      "iterations: 178 , train_loss: 0.210395 , valid_loss: 0.15435 , valid_accuracy: 0.957143\n",
      "iterations: 179 , train_loss: 0.322638 , valid_loss: 0.151831 , valid_accuracy: 0.957143\n",
      "iterations: 180 , train_loss: 0.242769 , valid_loss: 0.150032 , valid_accuracy: 0.956667\n",
      "iterations: 181 , train_loss: 0.243838 , valid_loss: 0.14942 , valid_accuracy: 0.956667\n",
      "iterations: 182 , train_loss: 0.213317 , valid_loss: 0.14983 , valid_accuracy: 0.95619\n",
      "iterations: 183 , train_loss: 0.245374 , valid_loss: 0.152864 , valid_accuracy: 0.954762\n",
      "iterations: 184 , train_loss: 0.224493 , valid_loss: 0.157549 , valid_accuracy: 0.951429\n",
      "iterations: 185 , train_loss: 0.258059 , valid_loss: 0.160677 , valid_accuracy: 0.951905\n",
      "iterations: 186 , train_loss: 0.215849 , valid_loss: 0.159189 , valid_accuracy: 0.952857\n",
      "iterations: 187 , train_loss: 0.248983 , valid_loss: 0.156021 , valid_accuracy: 0.952381\n"
     ]
    },
    {
     "name": "stdout",
     "output_type": "stream",
     "text": [
      "iterations: 188 , train_loss: 0.282882 , valid_loss: 0.153489 , valid_accuracy: 0.95619\n",
      "iterations: 189 , train_loss: 0.229174 , valid_loss: 0.150498 , valid_accuracy: 0.957143\n",
      "iterations: 190 , train_loss: 0.295856 , valid_loss: 0.146951 , valid_accuracy: 0.954762\n",
      "iterations: 191 , train_loss: 0.260172 , valid_loss: 0.143994 , valid_accuracy: 0.957143\n",
      "iterations: 192 , train_loss: 0.192555 , valid_loss: 0.142158 , valid_accuracy: 0.957619\n",
      "iterations: 193 , train_loss: 0.288712 , valid_loss: 0.140661 , valid_accuracy: 0.961905\n",
      "iterations: 194 , train_loss: 0.222852 , valid_loss: 0.141145 , valid_accuracy: 0.961429\n",
      "iterations: 195 , train_loss: 0.265062 , valid_loss: 0.141122 , valid_accuracy: 0.962381\n",
      "iterations: 196 , train_loss: 0.211069 , valid_loss: 0.140719 , valid_accuracy: 0.962381\n",
      "iterations: 197 , train_loss: 0.273892 , valid_loss: 0.141382 , valid_accuracy: 0.960476\n",
      "iterations: 198 , train_loss: 0.21563 , valid_loss: 0.147005 , valid_accuracy: 0.954286\n",
      "iterations: 199 , train_loss: 0.208487 , valid_loss: 0.152541 , valid_accuracy: 0.954286\n",
      "iterations: 200 , train_loss: 0.245999 , valid_loss: 0.152737 , valid_accuracy: 0.951905\n",
      "iterations: 201 , train_loss: 0.243855 , valid_loss: 0.148861 , valid_accuracy: 0.954286\n",
      "iterations: 202 , train_loss: 0.277827 , valid_loss: 0.145475 , valid_accuracy: 0.957143\n",
      "iterations: 203 , train_loss: 0.276003 , valid_loss: 0.142942 , valid_accuracy: 0.959524\n",
      "iterations: 204 , train_loss: 0.232307 , valid_loss: 0.141288 , valid_accuracy: 0.960952\n",
      "iterations: 205 , train_loss: 0.184164 , valid_loss: 0.139864 , valid_accuracy: 0.963333\n",
      "iterations: 206 , train_loss: 0.242167 , valid_loss: 0.137949 , valid_accuracy: 0.962381\n",
      "iterations: 207 , train_loss: 0.189246 , valid_loss: 0.13857 , valid_accuracy: 0.961429\n",
      "iterations: 208 , train_loss: 0.230576 , valid_loss: 0.140244 , valid_accuracy: 0.96\n",
      "iterations: 209 , train_loss: 0.211588 , valid_loss: 0.141254 , valid_accuracy: 0.957619\n",
      "iterations: 210 , train_loss: 0.232822 , valid_loss: 0.141118 , valid_accuracy: 0.958095\n",
      "iterations: 211 , train_loss: 0.204625 , valid_loss: 0.138765 , valid_accuracy: 0.959524\n",
      "iterations: 212 , train_loss: 0.222749 , valid_loss: 0.137269 , valid_accuracy: 0.958571\n",
      "iterations: 213 , train_loss: 0.222184 , valid_loss: 0.135014 , valid_accuracy: 0.960952\n",
      "iterations: 214 , train_loss: 0.229245 , valid_loss: 0.133734 , valid_accuracy: 0.960952\n",
      "iterations: 215 , train_loss: 0.178651 , valid_loss: 0.133586 , valid_accuracy: 0.960476\n",
      "iterations: 216 , train_loss: 0.218809 , valid_loss: 0.132903 , valid_accuracy: 0.956667\n",
      "iterations: 217 , train_loss: 0.181597 , valid_loss: 0.131848 , valid_accuracy: 0.959048\n",
      "iterations: 218 , train_loss: 0.251426 , valid_loss: 0.129286 , valid_accuracy: 0.958571\n",
      "iterations: 219 , train_loss: 0.192703 , valid_loss: 0.127857 , valid_accuracy: 0.960952\n",
      "iterations: 220 , train_loss: 0.235015 , valid_loss: 0.126702 , valid_accuracy: 0.96619\n",
      "iterations: 221 , train_loss: 0.204396 , valid_loss: 0.125496 , valid_accuracy: 0.966667\n",
      "iterations: 222 , train_loss: 0.215978 , valid_loss: 0.123983 , valid_accuracy: 0.967143\n",
      "iterations: 223 , train_loss: 0.189463 , valid_loss: 0.122927 , valid_accuracy: 0.96619\n",
      "iterations: 224 , train_loss: 0.241007 , valid_loss: 0.122481 , valid_accuracy: 0.96619\n",
      "iterations: 225 , train_loss: 0.163168 , valid_loss: 0.121514 , valid_accuracy: 0.96619\n",
      "iterations: 226 , train_loss: 0.245825 , valid_loss: 0.120403 , valid_accuracy: 0.964762\n",
      "iterations: 227 , train_loss: 0.222632 , valid_loss: 0.120908 , valid_accuracy: 0.964762\n",
      "iterations: 228 , train_loss: 0.237114 , valid_loss: 0.12261 , valid_accuracy: 0.96381\n",
      "iterations: 229 , train_loss: 0.202625 , valid_loss: 0.124968 , valid_accuracy: 0.962381\n",
      "iterations: 230 , train_loss: 0.241635 , valid_loss: 0.125769 , valid_accuracy: 0.960476\n",
      "iterations: 231 , train_loss: 0.226798 , valid_loss: 0.122731 , valid_accuracy: 0.962381\n",
      "iterations: 232 , train_loss: 0.188889 , valid_loss: 0.118902 , valid_accuracy: 0.96381\n",
      "iterations: 233 , train_loss: 0.155686 , valid_loss: 0.11503 , valid_accuracy: 0.964762\n",
      "iterations: 234 , train_loss: 0.168159 , valid_loss: 0.112838 , valid_accuracy: 0.966667\n",
      "iterations: 235 , train_loss: 0.203602 , valid_loss: 0.111851 , valid_accuracy: 0.966667\n",
      "iterations: 236 , train_loss: 0.237667 , valid_loss: 0.112369 , valid_accuracy: 0.966667\n",
      "iterations: 237 , train_loss: 0.183267 , valid_loss: 0.113563 , valid_accuracy: 0.967143\n",
      "iterations: 238 , train_loss: 0.162653 , valid_loss: 0.113978 , valid_accuracy: 0.967619\n",
      "iterations: 239 , train_loss: 0.149091 , valid_loss: 0.11288 , valid_accuracy: 0.968571\n",
      "iterations: 240 , train_loss: 0.180681 , valid_loss: 0.111126 , valid_accuracy: 0.968571\n",
      "iterations: 241 , train_loss: 0.237889 , valid_loss: 0.111628 , valid_accuracy: 0.969048\n",
      "iterations: 242 , train_loss: 0.144464 , valid_loss: 0.114571 , valid_accuracy: 0.966667\n",
      "iterations: 243 , train_loss: 0.220744 , valid_loss: 0.116098 , valid_accuracy: 0.965238\n",
      "iterations: 244 , train_loss: 0.184858 , valid_loss: 0.115218 , valid_accuracy: 0.96619\n",
      "iterations: 245 , train_loss: 0.172851 , valid_loss: 0.114344 , valid_accuracy: 0.96619\n",
      "iterations: 246 , train_loss: 0.149113 , valid_loss: 0.111485 , valid_accuracy: 0.968095\n",
      "iterations: 247 , train_loss: 0.159234 , valid_loss: 0.108743 , valid_accuracy: 0.968095\n",
      "iterations: 248 , train_loss: 0.127717 , valid_loss: 0.106631 , valid_accuracy: 0.968095\n",
      "iterations: 249 , train_loss: 0.163695 , valid_loss: 0.105726 , valid_accuracy: 0.969048\n",
      "iterations: 250 , train_loss: 0.224234 , valid_loss: 0.106176 , valid_accuracy: 0.967619\n",
      "iterations: 251 , train_loss: 0.245774 , valid_loss: 0.105859 , valid_accuracy: 0.968095\n",
      "iterations: 252 , train_loss: 0.203556 , valid_loss: 0.105909 , valid_accuracy: 0.968095\n",
      "iterations: 253 , train_loss: 0.154055 , valid_loss: 0.106392 , valid_accuracy: 0.967143\n",
      "iterations: 254 , train_loss: 0.231631 , valid_loss: 0.106416 , valid_accuracy: 0.969524\n",
      "iterations: 255 , train_loss: 0.269398 , valid_loss: 0.108377 , valid_accuracy: 0.966667\n",
      "iterations: 256 , train_loss: 0.144045 , valid_loss: 0.109959 , valid_accuracy: 0.965238\n",
      "iterations: 257 , train_loss: 0.211202 , valid_loss: 0.111666 , valid_accuracy: 0.964762\n",
      "iterations: 258 , train_loss: 0.167169 , valid_loss: 0.114285 , valid_accuracy: 0.96381\n",
      "iterations: 259 , train_loss: 0.208672 , valid_loss: 0.113769 , valid_accuracy: 0.964286\n",
      "iterations: 260 , train_loss: 0.159566 , valid_loss: 0.109797 , valid_accuracy: 0.966667\n",
      "iterations: 261 , train_loss: 0.21586 , valid_loss: 0.105778 , valid_accuracy: 0.969048\n",
      "iterations: 262 , train_loss: 0.173766 , valid_loss: 0.104495 , valid_accuracy: 0.97\n",
      "iterations: 263 , train_loss: 0.172683 , valid_loss: 0.104916 , valid_accuracy: 0.97\n",
      "iterations: 264 , train_loss: 0.161167 , valid_loss: 0.104656 , valid_accuracy: 0.969048\n",
      "iterations: 265 , train_loss: 0.166572 , valid_loss: 0.104137 , valid_accuracy: 0.969524\n",
      "iterations: 266 , train_loss: 0.242415 , valid_loss: 0.10301 , valid_accuracy: 0.970476\n",
      "iterations: 267 , train_loss: 0.161036 , valid_loss: 0.103099 , valid_accuracy: 0.968571\n",
      "iterations: 268 , train_loss: 0.125954 , valid_loss: 0.104446 , valid_accuracy: 0.968095\n",
      "iterations: 269 , train_loss: 0.270486 , valid_loss: 0.104372 , valid_accuracy: 0.968571\n",
      "iterations: 270 , train_loss: 0.185673 , valid_loss: 0.105071 , valid_accuracy: 0.968571\n",
      "iterations: 271 , train_loss: 0.211868 , valid_loss: 0.105708 , valid_accuracy: 0.969048\n",
      "iterations: 272 , train_loss: 0.144155 , valid_loss: 0.106889 , valid_accuracy: 0.966667\n",
      "iterations: 273 , train_loss: 0.181866 , valid_loss: 0.104437 , valid_accuracy: 0.970952\n",
      "iterations: 274 , train_loss: 0.20557 , valid_loss: 0.100957 , valid_accuracy: 0.970952\n",
      "iterations: 275 , train_loss: 0.176965 , valid_loss: 0.0997989 , valid_accuracy: 0.97\n",
      "iterations: 276 , train_loss: 0.142056 , valid_loss: 0.101152 , valid_accuracy: 0.969048\n",
      "iterations: 277 , train_loss: 0.209941 , valid_loss: 0.101504 , valid_accuracy: 0.97\n",
      "iterations: 278 , train_loss: 0.150907 , valid_loss: 0.10131 , valid_accuracy: 0.969524\n",
      "iterations: 279 , train_loss: 0.16236 , valid_loss: 0.100683 , valid_accuracy: 0.97\n",
      "iterations: 280 , train_loss: 0.165886 , valid_loss: 0.101371 , valid_accuracy: 0.968095\n"
     ]
    },
    {
     "name": "stdout",
     "output_type": "stream",
     "text": [
      "iterations: 281 , train_loss: 0.190747 , valid_loss: 0.102022 , valid_accuracy: 0.969048\n",
      "iterations: 282 , train_loss: 0.190762 , valid_loss: 0.101026 , valid_accuracy: 0.969048\n",
      "iterations: 283 , train_loss: 0.208333 , valid_loss: 0.101149 , valid_accuracy: 0.967619\n",
      "iterations: 284 , train_loss: 0.190208 , valid_loss: 0.0993643 , valid_accuracy: 0.969524\n",
      "iterations: 285 , train_loss: 0.180268 , valid_loss: 0.0985537 , valid_accuracy: 0.970952\n",
      "iterations: 286 , train_loss: 0.224758 , valid_loss: 0.0986307 , valid_accuracy: 0.972381\n",
      "iterations: 287 , train_loss: 0.101753 , valid_loss: 0.100975 , valid_accuracy: 0.972381\n",
      "iterations: 288 , train_loss: 0.166336 , valid_loss: 0.103505 , valid_accuracy: 0.971429\n",
      "iterations: 289 , train_loss: 0.21569 , valid_loss: 0.10233 , valid_accuracy: 0.971429\n",
      "iterations: 290 , train_loss: 0.165068 , valid_loss: 0.0986484 , valid_accuracy: 0.972381\n",
      "iterations: 291 , train_loss: 0.158518 , valid_loss: 0.0957269 , valid_accuracy: 0.974286\n",
      "iterations: 292 , train_loss: 0.156758 , valid_loss: 0.09435 , valid_accuracy: 0.975238\n",
      "iterations: 293 , train_loss: 0.151245 , valid_loss: 0.0977477 , valid_accuracy: 0.97381\n",
      "iterations: 294 , train_loss: 0.177085 , valid_loss: 0.105541 , valid_accuracy: 0.97\n",
      "iterations: 295 , train_loss: 0.222837 , valid_loss: 0.109191 , valid_accuracy: 0.968095\n",
      "iterations: 296 , train_loss: 0.185368 , valid_loss: 0.106664 , valid_accuracy: 0.969524\n",
      "iterations: 297 , train_loss: 0.141826 , valid_loss: 0.10129 , valid_accuracy: 0.969048\n",
      "iterations: 298 , train_loss: 0.140675 , valid_loss: 0.0985349 , valid_accuracy: 0.969048\n",
      "iterations: 299 , train_loss: 0.151188 , valid_loss: 0.0988942 , valid_accuracy: 0.97\n",
      "iterations: 300 , train_loss: 0.157448 , valid_loss: 0.100612 , valid_accuracy: 0.970476\n",
      "iterations: 301 , train_loss: 0.157097 , valid_loss: 0.102817 , valid_accuracy: 0.969048\n",
      "iterations: 302 , train_loss: 0.165892 , valid_loss: 0.102717 , valid_accuracy: 0.97\n",
      "iterations: 303 , train_loss: 0.163655 , valid_loss: 0.097371 , valid_accuracy: 0.972381\n",
      "iterations: 304 , train_loss: 0.143147 , valid_loss: 0.0924762 , valid_accuracy: 0.973333\n",
      "iterations: 305 , train_loss: 0.179891 , valid_loss: 0.0899456 , valid_accuracy: 0.974286\n",
      "iterations: 306 , train_loss: 0.175964 , valid_loss: 0.0894484 , valid_accuracy: 0.974762\n",
      "iterations: 307 , train_loss: 0.145177 , valid_loss: 0.0909676 , valid_accuracy: 0.974286\n",
      "iterations: 308 , train_loss: 0.143597 , valid_loss: 0.0925604 , valid_accuracy: 0.973333\n",
      "iterations: 309 , train_loss: 0.134473 , valid_loss: 0.0930764 , valid_accuracy: 0.972857\n",
      "iterations: 310 , train_loss: 0.138501 , valid_loss: 0.0929707 , valid_accuracy: 0.972381\n",
      "iterations: 311 , train_loss: 0.167476 , valid_loss: 0.0913713 , valid_accuracy: 0.973333\n",
      "iterations: 312 , train_loss: 0.147569 , valid_loss: 0.0894584 , valid_accuracy: 0.972381\n",
      "iterations: 313 , train_loss: 0.193952 , valid_loss: 0.0896886 , valid_accuracy: 0.970952\n",
      "iterations: 314 , train_loss: 0.133264 , valid_loss: 0.0913477 , valid_accuracy: 0.972381\n",
      "iterations: 315 , train_loss: 0.186215 , valid_loss: 0.0933807 , valid_accuracy: 0.973333\n",
      "iterations: 316 , train_loss: 0.13912 , valid_loss: 0.0945317 , valid_accuracy: 0.972381\n",
      "iterations: 317 , train_loss: 0.176046 , valid_loss: 0.0943345 , valid_accuracy: 0.972381\n",
      "iterations: 318 , train_loss: 0.221373 , valid_loss: 0.0937636 , valid_accuracy: 0.972857\n",
      "iterations: 319 , train_loss: 0.134351 , valid_loss: 0.0929435 , valid_accuracy: 0.970952\n",
      "iterations: 320 , train_loss: 0.0912821 , valid_loss: 0.0930577 , valid_accuracy: 0.971429\n",
      "iterations: 321 , train_loss: 0.116426 , valid_loss: 0.0925579 , valid_accuracy: 0.970476\n",
      "iterations: 322 , train_loss: 0.160907 , valid_loss: 0.0919063 , valid_accuracy: 0.972381\n",
      "iterations: 323 , train_loss: 0.159256 , valid_loss: 0.0920414 , valid_accuracy: 0.972381\n",
      "iterations: 324 , train_loss: 0.126826 , valid_loss: 0.0913747 , valid_accuracy: 0.971429\n",
      "iterations: 325 , train_loss: 0.14581 , valid_loss: 0.0902213 , valid_accuracy: 0.971429\n",
      "iterations: 326 , train_loss: 0.137378 , valid_loss: 0.0898119 , valid_accuracy: 0.973333\n",
      "iterations: 327 , train_loss: 0.126475 , valid_loss: 0.0906897 , valid_accuracy: 0.974286\n",
      "iterations: 328 , train_loss: 0.200711 , valid_loss: 0.0904716 , valid_accuracy: 0.974762\n",
      "iterations: 329 , train_loss: 0.16167 , valid_loss: 0.0894906 , valid_accuracy: 0.974762\n",
      "iterations: 330 , train_loss: 0.0992832 , valid_loss: 0.0888171 , valid_accuracy: 0.973333\n",
      "iterations: 331 , train_loss: 0.167418 , valid_loss: 0.0887505 , valid_accuracy: 0.972381\n",
      "iterations: 332 , train_loss: 0.168847 , valid_loss: 0.088643 , valid_accuracy: 0.971429\n",
      "iterations: 333 , train_loss: 0.144717 , valid_loss: 0.088585 , valid_accuracy: 0.971905\n",
      "iterations: 334 , train_loss: 0.109826 , valid_loss: 0.0881359 , valid_accuracy: 0.972857\n",
      "iterations: 335 , train_loss: 0.120823 , valid_loss: 0.0873383 , valid_accuracy: 0.972381\n",
      "iterations: 336 , train_loss: 0.147036 , valid_loss: 0.0885708 , valid_accuracy: 0.972857\n",
      "iterations: 337 , train_loss: 0.182367 , valid_loss: 0.0897085 , valid_accuracy: 0.970952\n",
      "iterations: 338 , train_loss: 0.0982562 , valid_loss: 0.0898024 , valid_accuracy: 0.973333\n",
      "iterations: 339 , train_loss: 0.114799 , valid_loss: 0.0896479 , valid_accuracy: 0.974286\n",
      "iterations: 340 , train_loss: 0.130287 , valid_loss: 0.0897735 , valid_accuracy: 0.974286\n",
      "iterations: 341 , train_loss: 0.106253 , valid_loss: 0.0897494 , valid_accuracy: 0.972381\n",
      "iterations: 342 , train_loss: 0.136206 , valid_loss: 0.0888075 , valid_accuracy: 0.973333\n",
      "iterations: 343 , train_loss: 0.0874295 , valid_loss: 0.0878678 , valid_accuracy: 0.973333\n",
      "iterations: 344 , train_loss: 0.154221 , valid_loss: 0.0868711 , valid_accuracy: 0.973333\n",
      "iterations: 345 , train_loss: 0.129783 , valid_loss: 0.0858191 , valid_accuracy: 0.974286\n",
      "iterations: 346 , train_loss: 0.12546 , valid_loss: 0.0852914 , valid_accuracy: 0.97381\n",
      "iterations: 347 , train_loss: 0.112222 , valid_loss: 0.0850636 , valid_accuracy: 0.974286\n",
      "iterations: 348 , train_loss: 0.103918 , valid_loss: 0.0839976 , valid_accuracy: 0.97381\n",
      "iterations: 349 , train_loss: 0.116234 , valid_loss: 0.0829423 , valid_accuracy: 0.974286\n",
      "iterations: 350 , train_loss: 0.141826 , valid_loss: 0.082065 , valid_accuracy: 0.97381\n",
      "iterations: 351 , train_loss: 0.112558 , valid_loss: 0.0818958 , valid_accuracy: 0.974286\n",
      "iterations: 352 , train_loss: 0.103655 , valid_loss: 0.0821109 , valid_accuracy: 0.972857\n",
      "iterations: 353 , train_loss: 0.16629 , valid_loss: 0.0822555 , valid_accuracy: 0.972857\n",
      "iterations: 354 , train_loss: 0.113549 , valid_loss: 0.0827538 , valid_accuracy: 0.972857\n",
      "iterations: 355 , train_loss: 0.170684 , valid_loss: 0.0824456 , valid_accuracy: 0.972857\n",
      "iterations: 356 , train_loss: 0.111536 , valid_loss: 0.0826893 , valid_accuracy: 0.973333\n",
      "iterations: 357 , train_loss: 0.151408 , valid_loss: 0.0831837 , valid_accuracy: 0.97381\n",
      "iterations: 358 , train_loss: 0.107151 , valid_loss: 0.0838193 , valid_accuracy: 0.973333\n",
      "iterations: 359 , train_loss: 0.12913 , valid_loss: 0.0843114 , valid_accuracy: 0.974762\n",
      "iterations: 360 , train_loss: 0.10622 , valid_loss: 0.0844676 , valid_accuracy: 0.974286\n",
      "iterations: 361 , train_loss: 0.117084 , valid_loss: 0.0838418 , valid_accuracy: 0.97619\n",
      "iterations: 362 , train_loss: 0.0923308 , valid_loss: 0.0817958 , valid_accuracy: 0.975238\n",
      "iterations: 363 , train_loss: 0.150363 , valid_loss: 0.0806529 , valid_accuracy: 0.974762\n",
      "iterations: 364 , train_loss: 0.178451 , valid_loss: 0.0807397 , valid_accuracy: 0.97381\n",
      "iterations: 365 , train_loss: 0.128936 , valid_loss: 0.0823662 , valid_accuracy: 0.973333\n",
      "iterations: 366 , train_loss: 0.114188 , valid_loss: 0.0845189 , valid_accuracy: 0.973333\n",
      "iterations: 367 , train_loss: 0.117034 , valid_loss: 0.0857882 , valid_accuracy: 0.973333\n",
      "iterations: 368 , train_loss: 0.111788 , valid_loss: 0.0843043 , valid_accuracy: 0.974286\n",
      "iterations: 369 , train_loss: 0.160546 , valid_loss: 0.0824344 , valid_accuracy: 0.975714\n",
      "iterations: 370 , train_loss: 0.130065 , valid_loss: 0.0812497 , valid_accuracy: 0.975238\n",
      "iterations: 371 , train_loss: 0.096277 , valid_loss: 0.0808378 , valid_accuracy: 0.97381\n",
      "iterations: 372 , train_loss: 0.0740046 , valid_loss: 0.0812355 , valid_accuracy: 0.974762\n"
     ]
    },
    {
     "name": "stdout",
     "output_type": "stream",
     "text": [
      "iterations: 373 , train_loss: 0.169581 , valid_loss: 0.0833469 , valid_accuracy: 0.975238\n",
      "iterations: 374 , train_loss: 0.115619 , valid_loss: 0.0828785 , valid_accuracy: 0.974286\n",
      "iterations: 375 , train_loss: 0.116386 , valid_loss: 0.0822722 , valid_accuracy: 0.97619\n",
      "iterations: 376 , train_loss: 0.0861229 , valid_loss: 0.0817233 , valid_accuracy: 0.977143\n",
      "iterations: 377 , train_loss: 0.0825002 , valid_loss: 0.0820118 , valid_accuracy: 0.977619\n",
      "iterations: 378 , train_loss: 0.152415 , valid_loss: 0.0815035 , valid_accuracy: 0.977143\n",
      "iterations: 379 , train_loss: 0.176332 , valid_loss: 0.0797042 , valid_accuracy: 0.977143\n",
      "iterations: 380 , train_loss: 0.120841 , valid_loss: 0.0787126 , valid_accuracy: 0.976667\n",
      "iterations: 381 , train_loss: 0.113983 , valid_loss: 0.0786284 , valid_accuracy: 0.975714\n",
      "iterations: 382 , train_loss: 0.134611 , valid_loss: 0.0792475 , valid_accuracy: 0.974286\n",
      "iterations: 383 , train_loss: 0.0740338 , valid_loss: 0.0805237 , valid_accuracy: 0.972857\n",
      "iterations: 384 , train_loss: 0.154543 , valid_loss: 0.0814339 , valid_accuracy: 0.972381\n",
      "iterations: 385 , train_loss: 0.11831 , valid_loss: 0.0818236 , valid_accuracy: 0.97381\n",
      "iterations: 386 , train_loss: 0.106892 , valid_loss: 0.0818873 , valid_accuracy: 0.974762\n",
      "iterations: 387 , train_loss: 0.167059 , valid_loss: 0.0813985 , valid_accuracy: 0.974762\n",
      "iterations: 388 , train_loss: 0.115216 , valid_loss: 0.0823987 , valid_accuracy: 0.974286\n",
      "iterations: 389 , train_loss: 0.0889291 , valid_loss: 0.0842406 , valid_accuracy: 0.97381\n",
      "iterations: 390 , train_loss: 0.167986 , valid_loss: 0.0851623 , valid_accuracy: 0.97381\n",
      "iterations: 391 , train_loss: 0.0922958 , valid_loss: 0.0852914 , valid_accuracy: 0.971429\n",
      "iterations: 392 , train_loss: 0.0710801 , valid_loss: 0.0837943 , valid_accuracy: 0.973333\n",
      "iterations: 393 , train_loss: 0.0957714 , valid_loss: 0.0814935 , valid_accuracy: 0.975238\n",
      "iterations: 394 , train_loss: 0.124306 , valid_loss: 0.0784521 , valid_accuracy: 0.974762\n",
      "iterations: 395 , train_loss: 0.134208 , valid_loss: 0.0777646 , valid_accuracy: 0.975714\n",
      "iterations: 396 , train_loss: 0.0877915 , valid_loss: 0.0791858 , valid_accuracy: 0.975238\n",
      "iterations: 397 , train_loss: 0.149668 , valid_loss: 0.0806578 , valid_accuracy: 0.974286\n",
      "iterations: 398 , train_loss: 0.129841 , valid_loss: 0.0824993 , valid_accuracy: 0.97381\n",
      "iterations: 399 , train_loss: 0.11492 , valid_loss: 0.0806195 , valid_accuracy: 0.973333\n",
      "iterations: 400 , train_loss: 0.10255 , valid_loss: 0.0778477 , valid_accuracy: 0.971429\n",
      "iterations: 401 , train_loss: 0.0636792 , valid_loss: 0.076376 , valid_accuracy: 0.975238\n",
      "iterations: 402 , train_loss: 0.19387 , valid_loss: 0.0773226 , valid_accuracy: 0.975238\n",
      "iterations: 403 , train_loss: 0.125418 , valid_loss: 0.0805844 , valid_accuracy: 0.974762\n",
      "iterations: 404 , train_loss: 0.0954698 , valid_loss: 0.0832028 , valid_accuracy: 0.972857\n",
      "iterations: 405 , train_loss: 0.121198 , valid_loss: 0.0836959 , valid_accuracy: 0.971905\n",
      "iterations: 406 , train_loss: 0.0935038 , valid_loss: 0.0828901 , valid_accuracy: 0.972857\n",
      "iterations: 407 , train_loss: 0.127925 , valid_loss: 0.0802307 , valid_accuracy: 0.974286\n",
      "iterations: 408 , train_loss: 0.122126 , valid_loss: 0.0777632 , valid_accuracy: 0.97381\n",
      "iterations: 409 , train_loss: 0.0827166 , valid_loss: 0.0768484 , valid_accuracy: 0.97381\n",
      "iterations: 410 , train_loss: 0.180896 , valid_loss: 0.0763344 , valid_accuracy: 0.974762\n",
      "iterations: 411 , train_loss: 0.0995319 , valid_loss: 0.0766023 , valid_accuracy: 0.975714\n",
      "iterations: 412 , train_loss: 0.140738 , valid_loss: 0.0764705 , valid_accuracy: 0.97619\n",
      "iterations: 413 , train_loss: 0.0883911 , valid_loss: 0.0763842 , valid_accuracy: 0.97619\n",
      "iterations: 414 , train_loss: 0.136078 , valid_loss: 0.0760948 , valid_accuracy: 0.976667\n",
      "iterations: 415 , train_loss: 0.101571 , valid_loss: 0.0755414 , valid_accuracy: 0.977619\n",
      "iterations: 416 , train_loss: 0.117588 , valid_loss: 0.0753423 , valid_accuracy: 0.97619\n",
      "iterations: 417 , train_loss: 0.115478 , valid_loss: 0.0755827 , valid_accuracy: 0.977619\n",
      "iterations: 418 , train_loss: 0.157759 , valid_loss: 0.0754998 , valid_accuracy: 0.977143\n",
      "iterations: 419 , train_loss: 0.18417 , valid_loss: 0.0762033 , valid_accuracy: 0.977619\n",
      "iterations: 420 , train_loss: 0.103406 , valid_loss: 0.0766391 , valid_accuracy: 0.977143\n",
      "iterations: 421 , train_loss: 0.142803 , valid_loss: 0.0764865 , valid_accuracy: 0.977619\n",
      "iterations: 422 , train_loss: 0.0767038 , valid_loss: 0.0772708 , valid_accuracy: 0.976667\n",
      "iterations: 423 , train_loss: 0.0858562 , valid_loss: 0.0776043 , valid_accuracy: 0.977619\n",
      "iterations: 424 , train_loss: 0.113974 , valid_loss: 0.0777227 , valid_accuracy: 0.977143\n",
      "iterations: 425 , train_loss: 0.120614 , valid_loss: 0.0766931 , valid_accuracy: 0.977619\n",
      "iterations: 426 , train_loss: 0.113743 , valid_loss: 0.0768879 , valid_accuracy: 0.978095\n",
      "iterations: 427 , train_loss: 0.0596782 , valid_loss: 0.0754802 , valid_accuracy: 0.979524\n",
      "iterations: 428 , train_loss: 0.0934037 , valid_loss: 0.0735191 , valid_accuracy: 0.977619\n",
      "iterations: 429 , train_loss: 0.107627 , valid_loss: 0.073279 , valid_accuracy: 0.976667\n",
      "iterations: 430 , train_loss: 0.118813 , valid_loss: 0.0746422 , valid_accuracy: 0.977619\n",
      "iterations: 431 , train_loss: 0.10106 , valid_loss: 0.0767785 , valid_accuracy: 0.977143\n",
      "iterations: 432 , train_loss: 0.105487 , valid_loss: 0.0788987 , valid_accuracy: 0.976667\n",
      "iterations: 433 , train_loss: 0.144699 , valid_loss: 0.0787175 , valid_accuracy: 0.975714\n",
      "iterations: 434 , train_loss: 0.0908915 , valid_loss: 0.0768333 , valid_accuracy: 0.97619\n",
      "iterations: 435 , train_loss: 0.0726729 , valid_loss: 0.075705 , valid_accuracy: 0.976667\n",
      "iterations: 436 , train_loss: 0.0872347 , valid_loss: 0.0776074 , valid_accuracy: 0.975714\n",
      "iterations: 437 , train_loss: 0.10775 , valid_loss: 0.0830204 , valid_accuracy: 0.974286\n",
      "iterations: 438 , train_loss: 0.1161 , valid_loss: 0.0887292 , valid_accuracy: 0.972857\n",
      "iterations: 439 , train_loss: 0.115074 , valid_loss: 0.0905199 , valid_accuracy: 0.970952\n",
      "iterations: 440 , train_loss: 0.119605 , valid_loss: 0.0868424 , valid_accuracy: 0.973333\n",
      "iterations: 441 , train_loss: 0.195866 , valid_loss: 0.0828469 , valid_accuracy: 0.974286\n",
      "iterations: 442 , train_loss: 0.115984 , valid_loss: 0.0781683 , valid_accuracy: 0.978095\n",
      "iterations: 443 , train_loss: 0.110306 , valid_loss: 0.0737852 , valid_accuracy: 0.979048\n",
      "iterations: 444 , train_loss: 0.167473 , valid_loss: 0.0713945 , valid_accuracy: 0.98\n",
      "iterations: 445 , train_loss: 0.188425 , valid_loss: 0.0709908 , valid_accuracy: 0.979048\n",
      "iterations: 446 , train_loss: 0.093423 , valid_loss: 0.0713585 , valid_accuracy: 0.977619\n",
      "iterations: 447 , train_loss: 0.0645794 , valid_loss: 0.0715268 , valid_accuracy: 0.978095\n",
      "iterations: 448 , train_loss: 0.089996 , valid_loss: 0.0713821 , valid_accuracy: 0.977619\n",
      "iterations: 449 , train_loss: 0.120656 , valid_loss: 0.0706351 , valid_accuracy: 0.979048\n",
      "iterations: 450 , train_loss: 0.146942 , valid_loss: 0.070003 , valid_accuracy: 0.978095\n",
      "iterations: 451 , train_loss: 0.170252 , valid_loss: 0.0692334 , valid_accuracy: 0.977619\n",
      "iterations: 452 , train_loss: 0.164395 , valid_loss: 0.0684805 , valid_accuracy: 0.978095\n",
      "iterations: 453 , train_loss: 0.0854352 , valid_loss: 0.0681256 , valid_accuracy: 0.977619\n",
      "iterations: 454 , train_loss: 0.120363 , valid_loss: 0.0684261 , valid_accuracy: 0.978095\n",
      "iterations: 455 , train_loss: 0.0619503 , valid_loss: 0.0691014 , valid_accuracy: 0.978095\n"
     ]
    }
   ],
   "source": [
    "# iteration coutner variable\n",
    "iteration = 0\n",
    "# var to store the best iteration and accuracy\n",
    "best_accuracy = 0\n",
    "best_iteration = 0\n",
    "# create a saver object\n",
    "saver = tf.train.Saver(max_to_keep=1)\n",
    "\n",
    "with tf.Session() as sess:\n",
    "    \n",
    "    # initialize variables\n",
    "    sess.run(tf.global_variables_initializer())\n",
    "\n",
    "    # while 58 minutes have not elapsed (to finish before the kernel is killed)\n",
    "    while (time.time()-t1) < 58*60:\n",
    "        \n",
    "        # break if max iteration is reached\n",
    "        if iteration >= max_iter:\n",
    "            break\n",
    "\n",
    "        # randmly generate index for batch \n",
    "        rand_index_train = np.random.choice(labels_train.shape[0], size=train_batch_size)\n",
    "        # extract images and labels of the batch\n",
    "        image_rand_train = image_train[rand_index_train]    \n",
    "        labels_rand_train = labels_train[rand_index_train]\n",
    "\n",
    "        # feed dict for batch\n",
    "        feed_dict_batch =  {x_image: image_rand_train,\n",
    "                            labels: labels_rand_train,\n",
    "                            keep_prob: 0.7}\n",
    "        # feed dict for training\n",
    "        feed_dict_train =  {x_image: image_rand_train,\n",
    "                            labels: labels_rand_train,\n",
    "                            keep_prob: 1.0}\n",
    "        # feed dict for validation\n",
    "        feed_dict_validation =  {x_image: image_validation,\n",
    "                                 labels: labels_validation,\n",
    "                                 keep_prob:1.0}\n",
    "\n",
    "        # run optimizer step\n",
    "        sess.run(train_step, feed_dict=feed_dict_batch)\n",
    "\n",
    "        # compute train loss and append it to the designated list\n",
    "        temp_train_loss = loss.eval(session=sess, feed_dict=feed_dict_train)\n",
    "        train_loss.append(temp_train_loss)\n",
    "        # compute validation loss and append it to the designated list\n",
    "        temp_validation_loss = loss.eval(session=sess, feed_dict=feed_dict_validation)\n",
    "        valid_loss.append(temp_validation_loss)\n",
    "        # compute validation accuracy and append it to the designated list\n",
    "        temp_validation_accuracy = accuracy.eval(session=sess, feed_dict=feed_dict_validation)\n",
    "        valid_acc.append(temp_validation_accuracy)   \n",
    "        \n",
    "        # if validation accuracy is better than best recorded so far then update the best valid accuracy\n",
    "        if temp_validation_accuracy > best_accuracy:\n",
    "            best_accuracy = temp_validation_accuracy\n",
    "            best_iteration = iteration\n",
    "            saver.save(sess, './my-model', global_step = best_iteration)\n",
    "        \n",
    "        # print performance information\n",
    "        print(\"iterations:\",iteration,\n",
    "              \", train_loss:\",temp_train_loss,\n",
    "              \", valid_loss:\", temp_validation_loss,\n",
    "              \", valid_accuracy:\", temp_validation_accuracy)\n",
    "\n",
    "        iteration += 1"
   ]
  },
  {
   "cell_type": "code",
   "execution_count": 46,
   "metadata": {
    "_cell_guid": "8bc48b13-2d3c-4713-8e67-60c116360f8c",
    "_uuid": "c99cad06c789a07add543f2bc350a840ab293808"
   },
   "outputs": [
    {
     "name": "stdout",
     "output_type": "stream",
     "text": [
      "Best accuracy is 0.98 attained at iteration 444\n"
     ]
    }
   ],
   "source": [
    "print(\"Best accuracy is\",best_accuracy,\"attained at iteration\", best_iteration)"
   ]
  },
  {
   "cell_type": "code",
   "execution_count": 47,
   "metadata": {
    "_cell_guid": "f2aa8d44-7d30-440c-9385-9d7a81b4970f",
    "_uuid": "b1b6cc94b87e5e9176f0446ed33d220e744f872d",
    "collapsed": true
   },
   "outputs": [],
   "source": [
    "# delete unnecessary variables\n",
    "del(train_data,train_X,train_y,image_train, image_validation, labels_train, labels_validation)"
   ]
  },
  {
   "cell_type": "markdown",
   "metadata": {
    "_cell_guid": "c09ebc9c-6b72-4313-92b4-dbd636822064",
    "_uuid": "18b6573ce15a2787cb8debd4a3128188beb4d8ee"
   },
   "source": [
    "# **Create submission file**"
   ]
  },
  {
   "cell_type": "markdown",
   "metadata": {
    "_cell_guid": "376a60ef-3246-4122-8e58-8a2f1db17fd2",
    "_uuid": "94ab9166bba03474085cf0574a5153332192e36e"
   },
   "source": [
    "**Extract and format test data**"
   ]
  },
  {
   "cell_type": "code",
   "execution_count": 48,
   "metadata": {
    "_cell_guid": "7051923a-c986-46a3-b42f-0a6da3bd43a6",
    "_uuid": "1c5b5dff1c719d7a332b26825916a686fd8b9dbb"
   },
   "outputs": [
    {
     "name": "stdout",
     "output_type": "stream",
     "text": [
      "(28000, 28, 28, 1)\n"
     ]
    }
   ],
   "source": [
    "test_data = pd.read_csv('../input/test.csv')\n",
    "test_X = test_data[features].as_matrix()\n",
    "test_X = test_X.reshape((-1,28,28,1))\n",
    "iD = test_data.index.tolist()\n",
    "print(test_X.shape)\n",
    "del(test_data)"
   ]
  },
  {
   "cell_type": "markdown",
   "metadata": {
    "_cell_guid": "ba6f4f8a-27cb-42bd-bbf0-8488326c7d64",
    "_uuid": "e2ba182aed377a23c569a34b49514063ea9b683c"
   },
   "source": [
    "**Create and save submission csv**"
   ]
  },
  {
   "cell_type": "code",
   "execution_count": 49,
   "metadata": {
    "_cell_guid": "47bb621c-39a1-4d1c-babc-eb445f060e7e",
    "_uuid": "57783bceae569b9448222429147f3b25c6e8d42c"
   },
   "outputs": [
    {
     "name": "stdout",
     "output_type": "stream",
     "text": [
      "INFO:tensorflow:Restoring parameters from ./my-model-444\n",
      "Finished computing prediction for fold 0\n",
      "Finished computing prediction for fold 1\n",
      "Finished computing prediction for fold 2\n",
      "Finished computing prediction for fold 3\n",
      "Finished computing prediction for fold 4\n",
      "Finished computing prediction for fold 5\n",
      "Finished computing prediction for fold 6\n",
      "Finished computing prediction for fold 7\n",
      "Finished computing prediction for fold 8\n",
      "Finished computing prediction for fold 9\n"
     ]
    }
   ],
   "source": [
    "with tf.Session() as sess:    \n",
    "    \n",
    "    # restore the best model\n",
    "    model_path = \"./\"+\"my-model-\"+str(best_iteration)\n",
    "    saver.restore(sess, model_path)\n",
    "    \n",
    "    # break the test set into k folds other wise kernel will be out of memory\n",
    "    n = test_X.shape[0]\n",
    "    k = 10\n",
    "    step = n//k\n",
    "    \n",
    "    # array to store the prediction\n",
    "    preds = np.array([])\n",
    "\n",
    "    # iterate through each fold\n",
    "    for i in range(k):\n",
    "\n",
    "        # start and end indices of the fold\n",
    "        start = (step*i)\n",
    "        end = (step*(i+1)) \n",
    "    \n",
    "        # feed dictionary for the fold\n",
    "        feed_dict_test =  {x_image: test_X[start:end],\n",
    "                           keep_prob: 1.0}\n",
    "\n",
    "        # evaluate predictions of the fold\n",
    "        fold_preds = y_pred_cls.eval(session=sess, feed_dict = feed_dict_test)\n",
    "        \n",
    "        # append the predictions of the fold to the designated array\n",
    "        preds = np.append(preds, fold_preds)\n",
    "        \n",
    "        print(\"Finished computing prediction for fold\", i)\n",
    "        \n",
    "    # convert the prediction vector to int\n",
    "    preds = preds.astype(np.int)\n",
    "    \n",
    "    # save the submission csv file\n",
    "    submission_path = \"./submission.csv\"\n",
    "    submission = pd.DataFrame({\"ImageId\": iD, \"Label\": preds})\n",
    "    submission.to_csv(submission_path, header = True, index=False)"
   ]
  },
  {
   "cell_type": "markdown",
   "metadata": {
    "_cell_guid": "257d8b96-f1a9-4fe6-95ac-5b9437d52300",
    "_uuid": "e0ff329718c831f80d865e8d35d4da37fe5a5430"
   },
   "source": [
    "# **Visualize Performance**"
   ]
  },
  {
   "cell_type": "markdown",
   "metadata": {
    "_cell_guid": "33d37d6e-81ed-4380-9864-6470dcff285b",
    "_uuid": "df34767d698952029b96142a4a30e5ff72eecfcd"
   },
   "source": [
    "**Visualize loss over iteration**"
   ]
  },
  {
   "cell_type": "code",
   "execution_count": 50,
   "metadata": {
    "_cell_guid": "41382646-b461-4c41-931e-1a3feff3d3aa",
    "_uuid": "fc0e04dbd1a60bc1f2e52af7185b946a04802b02"
   },
   "outputs": [
    {
     "data": {
      "image/png": "[encoded data removed]",
      "text/plain": [
       "<matplotlib.figure.Figure at 0x7feee34056a0>"
      ]
     },
     "metadata": {},
     "output_type": "display_data"
    }
   ],
   "source": [
    "plt.figure(figsize=(16, 8), dpi= 80, facecolor='w', edgecolor='k')\n",
    "iterations = list(range(1,iteration+1))\n",
    "plt.plot(iterations, train_loss, label = \"train loss\")\n",
    "plt.plot(iterations, valid_loss, label = \"valid loss\")\n",
    "plt.title(\"Loss\")\n",
    "plt.xlabel(\"iter\")\n",
    "plt.ylabel(\"loss\")\n",
    "plt.legend()\n",
    "plt.grid()\n",
    "plt.show()"
   ]
  },
  {
   "cell_type": "markdown",
   "metadata": {
    "_cell_guid": "e332bfa9-8058-4055-9d68-15571812484f",
    "_uuid": "d1b57c60cfdf6cc6ec2ed86eb0774365b9f5fc8c"
   },
   "source": [
    "**Visualize accuracy over iteration**"
   ]
  },
  {
   "cell_type": "code",
   "execution_count": 51,
   "metadata": {
    "_cell_guid": "54427731-b0ad-4c4f-a016-9544b984310d",
    "_uuid": "b8fcc3fec29364acaa7f858cbc775135f14f033c"
   },
   "outputs": [
    {
     "data": {
      "image/png": "[encoded data removed]",
      "text/plain": [
       "<matplotlib.figure.Figure at 0x7feee3a7b7f0>"
      ]
     },
     "metadata": {},
     "output_type": "display_data"
    }
   ],
   "source": [
    "plt.figure(figsize=(16, 8), dpi= 80, facecolor='w', edgecolor='k')\n",
    "plt.plot(iterations, valid_acc, label = \"train loss\")\n",
    "plt.title(\"Accuracy\")\n",
    "plt.xlabel(\"iter\")\n",
    "plt.ylabel(\"accuracy\")\n",
    "plt.grid()\n",
    "plt.show()"
   ]
  }
 ],
 "metadata": {
  "kernelspec": {
   "display_name": "Python 3",
   "language": "python",
   "name": "python3"
  },
  "language_info": {
   "codemirror_mode": {
    "name": "ipython",
    "version": 3
   },
   "file_extension": ".py",
   "mimetype": "text/x-python",
   "name": "python",
   "nbconvert_exporter": "python",
   "pygments_lexer": "ipython3",
   "version": "3.6.3"
  }
 },
 "nbformat": 4,
 "nbformat_minor": 1
}
