{
 "cells": [
  {
   "cell_type": "markdown",
   "metadata": {
    "_cell_guid": "65d51e1a-2e3d-4a46-8ec1-4c385fbac150",
    "_uuid": "ce931d91e1360582fa34153541dd7bb16506c718"
   },
   "source": [
    "## **Import the required libraries**"
   ]
  },
  {
   "cell_type": "code",
   "execution_count": 1,
   "metadata": {
    "_cell_guid": "889c4901-bc13-4e7b-a145-00c215705449",
    "_uuid": "aef0e4375a10846ed786632417e6b3a668b23ef6",
    "collapsed": true
   },
   "outputs": [],
   "source": [
    "# import time\n",
    "import time\n",
    "t1 = time.time()"
   ]
  },
  {
   "cell_type": "code",
   "execution_count": 2,
   "metadata": {
    "_cell_guid": "f8f8118b-359d-4ae2-be59-72ee88394c0f",
    "_uuid": "a5a1bd0306fb34c97bd6cc32415537bdba8805fd",
    "collapsed": true
   },
   "outputs": [],
   "source": [
    "import math\n",
    "import random\n",
    "import pandas as pd\n",
    "import numpy as np\n",
    "import cv2\n",
    "from sklearn.preprocessing import MinMaxScaler\n",
    "import matplotlib\n",
    "from matplotlib import pyplot as plt\n",
    "%matplotlib inline"
   ]
  },
  {
   "cell_type": "markdown",
   "metadata": {
    "_cell_guid": "d5729310-ffdf-4ad9-bfc8-54bd936f07cd",
    "_uuid": "fef65d3b2657cbdd5f807ddf329f435b189368b9"
   },
   "source": [
    "**Making the results reproducible (knowing the random seed of the two libraries)**"
   ]
  },
  {
   "cell_type": "code",
   "execution_count": 3,
   "metadata": {
    "_cell_guid": "b10559f1-6fbd-4aff-a0a1-8418024c5f4d",
    "_uuid": "6587e64d2d239b5f3ccac05832fdc9fadf3acf4b",
    "collapsed": true
   },
   "outputs": [
    {
     "name": "stdout",
     "output_type": "stream",
     "text": [
      "numpy random seed:  7\n",
      "tensorflow random seed:  60\n"
     ]
    }
   ],
   "source": [
    "np_rand_seed = random.randint(0,100)\n",
    "tf_rand_seed = random.randint(0,100)\n",
    "np.random.seed(np_rand_seed)\n",
    "print(\"numpy random seed: \",np_rand_seed)\n",
    "print(\"tensorflow random seed: \", tf_rand_seed)"
   ]
  },
  {
   "cell_type": "markdown",
   "metadata": {
    "_cell_guid": "ba8e27a4-4f25-40d5-90c1-df3b74e30175",
    "_uuid": "234dc6007bd963e70e10376d46a35672d22cedca"
   },
   "source": [
    "# **1. Load and Inspect the data**"
   ]
  },
  {
   "cell_type": "code",
   "execution_count": 4,
   "metadata": {
    "_cell_guid": "0a1ed763-ec52-4e6f-88e7-2a10538c2a6c",
    "_uuid": "275ac153352eaca867bf60fe8eecc7d07f4f69c7",
    "collapsed": true
   },
   "outputs": [],
   "source": [
    "data = pd.read_json('../input/train.json')\n",
    "test_data = pd.read_json('../input/test.json')"
   ]
  },
  {
   "cell_type": "code",
   "execution_count": 5,
   "metadata": {
    "_cell_guid": "59fa9cc3-a66c-4003-a988-99ebc9ebf741",
    "_uuid": "978c8bee78d52a1953b1484c162e698d4dbf4339",
    "collapsed": true
   },
   "outputs": [
    {
     "data": {
      "text/html": [
       "<div>\n",
       "<style>\n",
       "    .dataframe thead tr:only-child th {\n",
       "        text-align: right;\n",
       "    }\n",
       "\n",
       "    .dataframe thead th {\n",
       "        text-align: left;\n",
       "    }\n",
       "\n",
       "    .dataframe tbody tr th {\n",
       "        vertical-align: top;\n",
       "    }\n",
       "</style>\n",
       "<table border=\"1\" class=\"dataframe\">\n",
       "  <thead>\n",
       "    <tr style=\"text-align: right;\">\n",
       "      <th></th>\n",
       "      <th>band_1</th>\n",
       "      <th>band_2</th>\n",
       "      <th>id</th>\n",
       "      <th>inc_angle</th>\n",
       "      <th>is_iceberg</th>\n",
       "    </tr>\n",
       "  </thead>\n",
       "  <tbody>\n",
       "    <tr>\n",
       "      <th>0</th>\n",
       "      <td>[-27.878360999999998, -27.15416, -28.668615, -...</td>\n",
       "      <td>[-27.154118, -29.537888, -31.0306, -32.190483,...</td>\n",
       "      <td>dfd5f913</td>\n",
       "      <td>43.9239</td>\n",
       "      <td>0</td>\n",
       "    </tr>\n",
       "    <tr>\n",
       "      <th>1</th>\n",
       "      <td>[-12.242375, -14.920304999999999, -14.920363, ...</td>\n",
       "      <td>[-31.506321, -27.984554, -26.645678, -23.76760...</td>\n",
       "      <td>e25388fd</td>\n",
       "      <td>38.1562</td>\n",
       "      <td>0</td>\n",
       "    </tr>\n",
       "    <tr>\n",
       "      <th>2</th>\n",
       "      <td>[-24.603676, -24.603714, -24.871029, -23.15277...</td>\n",
       "      <td>[-24.870956, -24.092632, -20.653963, -19.41104...</td>\n",
       "      <td>58b2aaa0</td>\n",
       "      <td>45.2859</td>\n",
       "      <td>1</td>\n",
       "    </tr>\n",
       "    <tr>\n",
       "      <th>3</th>\n",
       "      <td>[-22.454607, -23.082819, -23.998013, -23.99805...</td>\n",
       "      <td>[-27.889421, -27.519794, -27.165262, -29.10350...</td>\n",
       "      <td>4cfc3a18</td>\n",
       "      <td>43.8306</td>\n",
       "      <td>0</td>\n",
       "    </tr>\n",
       "    <tr>\n",
       "      <th>4</th>\n",
       "      <td>[-26.006956, -23.164886, -23.164886, -26.89116...</td>\n",
       "      <td>[-27.206915, -30.259186, -30.259186, -23.16495...</td>\n",
       "      <td>271f93f4</td>\n",
       "      <td>35.6256</td>\n",
       "      <td>0</td>\n",
       "    </tr>\n",
       "  </tbody>\n",
       "</table>\n",
       "</div>"
      ],
      "text/plain": [
       "                                              band_1  \\\n",
       "0  [-27.878360999999998, -27.15416, -28.668615, -...   \n",
       "1  [-12.242375, -14.920304999999999, -14.920363, ...   \n",
       "2  [-24.603676, -24.603714, -24.871029, -23.15277...   \n",
       "3  [-22.454607, -23.082819, -23.998013, -23.99805...   \n",
       "4  [-26.006956, -23.164886, -23.164886, -26.89116...   \n",
       "\n",
       "                                              band_2        id inc_angle  \\\n",
       "0  [-27.154118, -29.537888, -31.0306, -32.190483,...  dfd5f913   43.9239   \n",
       "1  [-31.506321, -27.984554, -26.645678, -23.76760...  e25388fd   38.1562   \n",
       "2  [-24.870956, -24.092632, -20.653963, -19.41104...  58b2aaa0   45.2859   \n",
       "3  [-27.889421, -27.519794, -27.165262, -29.10350...  4cfc3a18   43.8306   \n",
       "4  [-27.206915, -30.259186, -30.259186, -23.16495...  271f93f4   35.6256   \n",
       "\n",
       "   is_iceberg  \n",
       "0           0  \n",
       "1           0  \n",
       "2           1  \n",
       "3           0  \n",
       "4           0  "
      ]
     },
     "execution_count": 5,
     "metadata": {},
     "output_type": "execute_result"
    }
   ],
   "source": [
    "data.head(5)"
   ]
  },
  {
   "cell_type": "code",
   "execution_count": 6,
   "metadata": {
    "_cell_guid": "72fefb0a-3087-4ab2-8043-cccc54bef7d4",
    "_uuid": "db9cedd6992ff0eea8d6bc56069cd90482eebcb1",
    "collapsed": true
   },
   "outputs": [
    {
     "data": {
      "text/html": [
       "<div>\n",
       "<style>\n",
       "    .dataframe thead tr:only-child th {\n",
       "        text-align: right;\n",
       "    }\n",
       "\n",
       "    .dataframe thead th {\n",
       "        text-align: left;\n",
       "    }\n",
       "\n",
       "    .dataframe tbody tr th {\n",
       "        vertical-align: top;\n",
       "    }\n",
       "</style>\n",
       "<table border=\"1\" class=\"dataframe\">\n",
       "  <thead>\n",
       "    <tr style=\"text-align: right;\">\n",
       "      <th></th>\n",
       "      <th>band_1</th>\n",
       "      <th>band_2</th>\n",
       "      <th>id</th>\n",
       "      <th>inc_angle</th>\n",
       "    </tr>\n",
       "  </thead>\n",
       "  <tbody>\n",
       "    <tr>\n",
       "      <th>0</th>\n",
       "      <td>[-15.863251, -15.201077, -17.887735, -19.17248...</td>\n",
       "      <td>[-21.629612, -21.142353, -23.908337, -28.34524...</td>\n",
       "      <td>5941774d</td>\n",
       "      <td>34.966400</td>\n",
       "    </tr>\n",
       "    <tr>\n",
       "      <th>1</th>\n",
       "      <td>[-26.058969497680664, -26.058969497680664, -26...</td>\n",
       "      <td>[-25.754207611083984, -25.754207611083984, -25...</td>\n",
       "      <td>4023181e</td>\n",
       "      <td>32.615072</td>\n",
       "    </tr>\n",
       "    <tr>\n",
       "      <th>2</th>\n",
       "      <td>[-14.14109992980957, -15.064241409301758, -17....</td>\n",
       "      <td>[-14.74563980102539, -14.590410232543945, -14....</td>\n",
       "      <td>b20200e4</td>\n",
       "      <td>37.505433</td>\n",
       "    </tr>\n",
       "    <tr>\n",
       "      <th>3</th>\n",
       "      <td>[-12.167478, -13.706167, -16.54837, -13.572674...</td>\n",
       "      <td>[-24.32222, -26.375538, -24.096739, -23.8769, ...</td>\n",
       "      <td>e7f018bb</td>\n",
       "      <td>34.473900</td>\n",
       "    </tr>\n",
       "    <tr>\n",
       "      <th>4</th>\n",
       "      <td>[-23.37459373474121, -26.02718162536621, -28.1...</td>\n",
       "      <td>[-25.72234344482422, -27.011577606201172, -23....</td>\n",
       "      <td>4371c8c3</td>\n",
       "      <td>43.918874</td>\n",
       "    </tr>\n",
       "  </tbody>\n",
       "</table>\n",
       "</div>"
      ],
      "text/plain": [
       "                                              band_1  \\\n",
       "0  [-15.863251, -15.201077, -17.887735, -19.17248...   \n",
       "1  [-26.058969497680664, -26.058969497680664, -26...   \n",
       "2  [-14.14109992980957, -15.064241409301758, -17....   \n",
       "3  [-12.167478, -13.706167, -16.54837, -13.572674...   \n",
       "4  [-23.37459373474121, -26.02718162536621, -28.1...   \n",
       "\n",
       "                                              band_2        id  inc_angle  \n",
       "0  [-21.629612, -21.142353, -23.908337, -28.34524...  5941774d  34.966400  \n",
       "1  [-25.754207611083984, -25.754207611083984, -25...  4023181e  32.615072  \n",
       "2  [-14.74563980102539, -14.590410232543945, -14....  b20200e4  37.505433  \n",
       "3  [-24.32222, -26.375538, -24.096739, -23.8769, ...  e7f018bb  34.473900  \n",
       "4  [-25.72234344482422, -27.011577606201172, -23....  4371c8c3  43.918874  "
      ]
     },
     "execution_count": 6,
     "metadata": {},
     "output_type": "execute_result"
    }
   ],
   "source": [
    "test_data.head(5)"
   ]
  },
  {
   "cell_type": "code",
   "execution_count": 7,
   "metadata": {
    "_cell_guid": "b8d12566-2ba4-4ebc-a4c8-4f48e4075e9d",
    "_uuid": "5d1f5b7b7cc8b917742709041c3cc79754c56f31",
    "collapsed": true
   },
   "outputs": [
    {
     "name": "stdout",
     "output_type": "stream",
     "text": [
      "Shape of train set: (1604, 5)\n",
      "Shape of test set: (8424, 4)\n"
     ]
    }
   ],
   "source": [
    "print(\"Shape of train set:\", data.shape)\n",
    "print(\"Shape of test set:\", test_data.shape)"
   ]
  },
  {
   "cell_type": "code",
   "execution_count": 8,
   "metadata": {
    "_cell_guid": "2ea9679c-9474-4733-9b78-93a2e6d89e8b",
    "_uuid": "6768152bc325662c30599994df4dcd6e452fb93c",
    "collapsed": true
   },
   "outputs": [
    {
     "name": "stdout",
     "output_type": "stream",
     "text": [
      "Shape of band 1: (5625,)\n",
      "Shape of band 2: (5625,)\n"
     ]
    }
   ],
   "source": [
    "print(\"Shape of band 1:\",  np.shape(data.band_1.iloc[0]))\n",
    "print(\"Shape of band 2:\",  np.shape(data.band_2.iloc[0]))"
   ]
  },
  {
   "cell_type": "code",
   "execution_count": 9,
   "metadata": {
    "_cell_guid": "c425a835-5ce7-405f-ac72-f47945d117e9",
    "_uuid": "69f8276d8dc39b2b01f145d23fb42a98c61f4379",
    "collapsed": true
   },
   "outputs": [
    {
     "name": "stdout",
     "output_type": "stream",
     "text": [
      "Type of band 1: <class 'list'>\n",
      "Type of band 2: <class 'list'>\n"
     ]
    }
   ],
   "source": [
    "print(\"Type of band 1:\",  type(data.band_1.iloc[0]))\n",
    "print(\"Type of band 2:\",  type(data.band_2.iloc[0]))"
   ]
  },
  {
   "cell_type": "markdown",
   "metadata": {
    "_cell_guid": "8e75b4f3-473e-465f-8ac2-b3c4d67a0020",
    "_uuid": "8081c747d268ee030c1e3b659944ef82954e4f90"
   },
   "source": [
    "# **2. Feature Engineering**"
   ]
  },
  {
   "cell_type": "markdown",
   "metadata": {
    "_cell_guid": "ceb662b0-8aa3-4617-89bd-f5f2329ea6fa",
    "_uuid": "1c4a6498d16f4b82d4c115dc482442990bb9762c"
   },
   "source": [
    "## **2.1 Feature engineering on train set**"
   ]
  },
  {
   "cell_type": "markdown",
   "metadata": {
    "_cell_guid": "f8061808-806b-4a9d-a426-f39609522309",
    "_uuid": "1de83b66887477e0d31f1c33a3bb4532ceff5176"
   },
   "source": [
    "### **2.1.1 Replacing the na in inc_anlge with mean**********"
   ]
  },
  {
   "cell_type": "code",
   "execution_count": 10,
   "metadata": {
    "_cell_guid": "f59f93d3-cab1-4972-bed9-7626ba490076",
    "_uuid": "c73144f16395cdb9b98c384d114003f44efba614",
    "collapsed": true
   },
   "outputs": [],
   "source": [
    "data[data['inc_angle']=='na'] = data[data['inc_angle']!='na']['inc_angle'].mean()"
   ]
  },
  {
   "cell_type": "markdown",
   "metadata": {
    "_cell_guid": "d62e4721-33f2-48e8-8697-4e2b4d17223f",
    "_uuid": "0286b0e9b9b7e49a2371eadc85ae0859f5dcdeb7"
   },
   "source": [
    "### **2.1.2 Converting the angle from degrees to radian******"
   ]
  },
  {
   "cell_type": "code",
   "execution_count": 11,
   "metadata": {
    "_cell_guid": "b7ed5263-5d98-4608-8d13-a5d41bd30525",
    "_uuid": "d220ec6223601124059fb6f28913d37a3697d52f",
    "collapsed": true
   },
   "outputs": [],
   "source": [
    "data['inc_angle'] = data['inc_angle'].apply(lambda x: math.radians(x))"
   ]
  },
  {
   "cell_type": "code",
   "execution_count": 12,
   "metadata": {
    "_cell_guid": "9f73a210-4cab-4322-968e-0b8c3e64e419",
    "_uuid": "cd3a3bd9aca879bcdac06427cfe644e50e489ad6",
    "collapsed": true
   },
   "outputs": [
    {
     "data": {
      "text/plain": [
       "0    0.766617\n",
       "1    0.665951\n",
       "2    0.790388\n",
       "3    0.764988\n",
       "4    0.621784\n",
       "Name: inc_angle, dtype: float64"
      ]
     },
     "execution_count": 12,
     "metadata": {},
     "output_type": "execute_result"
    }
   ],
   "source": [
    "data.inc_angle.head()"
   ]
  },
  {
   "cell_type": "markdown",
   "metadata": {
    "_cell_guid": "ba7060dd-56f8-41ed-a07c-43720d857869",
    "_uuid": "d432da654082ba4241baf62c5b35935718359556"
   },
   "source": [
    "### ** 2.1.3 Finding and droping points with mismatch band1 and band2 data**"
   ]
  },
  {
   "cell_type": "markdown",
   "metadata": {
    "_cell_guid": "457faa33-d2f1-441e-a2a6-88fa45b9b716",
    "_uuid": "52cf51e1f8957ccc549a664b1fbded8c218acddd"
   },
   "source": [
    "**Function which return the count and the index of mismatched data**"
   ]
  },
  {
   "cell_type": "code",
   "execution_count": 13,
   "metadata": {
    "_cell_guid": "17ff47b5-5ab8-4caa-8c5a-ddef625e326a",
    "_uuid": "108fc6ac01471d76325d9adf608449a6f97a9532",
    "collapsed": true
   },
   "outputs": [],
   "source": [
    "def find_missing_data(series, shape):\n",
    "    \n",
    "    '''function which return the count and the index of mismatched data'''    \n",
    "    count = 0\n",
    "    missing_list = []\n",
    "    for i,x in enumerate(series):   \n",
    "        if np.shape(series.iloc[i]) != shape:\n",
    "            missing_list.append(i)\n",
    "            count += 1\n",
    "            \n",
    "    return missing_list, count"
   ]
  },
  {
   "cell_type": "markdown",
   "metadata": {
    "_cell_guid": "d0345f6b-9d38-43db-85c2-1a9622694eff",
    "_uuid": "ca85acfd8187174e0d3113dddcc7fa9d36d72ad9"
   },
   "source": [
    "**Count and list of mismatched points in band1**"
   ]
  },
  {
   "cell_type": "code",
   "execution_count": 14,
   "metadata": {
    "_cell_guid": "fa6205fe-16f0-4840-8565-1f09b98178c4",
    "_uuid": "ecc12a319af2e9f6215935ff1f92e787a4988fff",
    "collapsed": true
   },
   "outputs": [
    {
     "name": "stdout",
     "output_type": "stream",
     "text": [
      "count:  133\n",
      "missing data:  [101, 126, 142, 145, 176, 179, 191, 278, 286, 342, 412, 431, 440, 493, 642, 666, 667, 730, 741, 742, 763, 822, 863, 868, 906, 916, 996, 1041, 1065, 1095, 1199, 1228, 1247, 1257, 1268, 1290, 1345, 1403, 1509, 1510, 1511, 1512, 1513, 1514, 1515, 1516, 1517, 1518, 1519, 1520, 1521, 1522, 1523, 1524, 1525, 1526, 1527, 1528, 1529, 1530, 1531, 1532, 1533, 1534, 1535, 1536, 1537, 1538, 1539, 1540, 1541, 1542, 1543, 1544, 1545, 1546, 1547, 1548, 1549, 1550, 1551, 1552, 1553, 1554, 1555, 1556, 1557, 1558, 1559, 1560, 1561, 1562, 1563, 1564, 1565, 1566, 1567, 1568, 1569, 1570, 1571, 1572, 1573, 1574, 1575, 1576, 1577, 1578, 1579, 1580, 1581, 1582, 1583, 1584, 1585, 1586, 1587, 1588, 1589, 1590, 1591, 1592, 1593, 1594, 1595, 1596, 1597, 1598, 1599, 1600, 1601, 1602, 1603]\n"
     ]
    }
   ],
   "source": [
    "missing_list1, count1 = find_missing_data(data.band_1, (5625,))\n",
    "print(\"count: \", count1)\n",
    "print(\"missing data: \", missing_list1)"
   ]
  },
  {
   "cell_type": "markdown",
   "metadata": {
    "_cell_guid": "2c0cf47e-da7e-4d7c-927d-05cf1dae77f1",
    "_uuid": "3d27c3e17cf67f027f9a51ef658eb57d0b6181ea"
   },
   "source": [
    "**Count and list of mismatched points in band2**"
   ]
  },
  {
   "cell_type": "code",
   "execution_count": 15,
   "metadata": {
    "_cell_guid": "aff2c169-e2d2-428d-abbc-462dd9e79609",
    "_uuid": "3de25d4fa2159ef52651a58ccb16b6ef8a6ea4b5",
    "collapsed": true
   },
   "outputs": [
    {
     "name": "stdout",
     "output_type": "stream",
     "text": [
      "count:  133\n",
      "missing data:  [101, 126, 142, 145, 176, 179, 191, 278, 286, 342, 412, 431, 440, 493, 642, 666, 667, 730, 741, 742, 763, 822, 863, 868, 906, 916, 996, 1041, 1065, 1095, 1199, 1228, 1247, 1257, 1268, 1290, 1345, 1403, 1509, 1510, 1511, 1512, 1513, 1514, 1515, 1516, 1517, 1518, 1519, 1520, 1521, 1522, 1523, 1524, 1525, 1526, 1527, 1528, 1529, 1530, 1531, 1532, 1533, 1534, 1535, 1536, 1537, 1538, 1539, 1540, 1541, 1542, 1543, 1544, 1545, 1546, 1547, 1548, 1549, 1550, 1551, 1552, 1553, 1554, 1555, 1556, 1557, 1558, 1559, 1560, 1561, 1562, 1563, 1564, 1565, 1566, 1567, 1568, 1569, 1570, 1571, 1572, 1573, 1574, 1575, 1576, 1577, 1578, 1579, 1580, 1581, 1582, 1583, 1584, 1585, 1586, 1587, 1588, 1589, 1590, 1591, 1592, 1593, 1594, 1595, 1596, 1597, 1598, 1599, 1600, 1601, 1602, 1603]\n"
     ]
    }
   ],
   "source": [
    "missing_list2, count2 = find_missing_data(data.band_2, (5625,))\n",
    "print(\"count: \", count1)\n",
    "print(\"missing data: \", missing_list2)"
   ]
  },
  {
   "cell_type": "markdown",
   "metadata": {
    "_cell_guid": "c35645ad-3710-4986-b42d-d5f8d3ab8f1a",
    "_uuid": "e4eb2fdc12ce78db5527af4fdf3a662c11187231"
   },
   "source": [
    "**Check if the missing points are same**"
   ]
  },
  {
   "cell_type": "code",
   "execution_count": 16,
   "metadata": {
    "_cell_guid": "4082937c-1ce6-4409-b240-1cf375129e28",
    "_uuid": "be124d3032e55a5efac2ed60ec56e4935ac53868",
    "collapsed": true
   },
   "outputs": [
    {
     "data": {
      "text/plain": [
       "True"
      ]
     },
     "execution_count": 16,
     "metadata": {},
     "output_type": "execute_result"
    }
   ],
   "source": [
    "missing_list1 == missing_list2"
   ]
  },
  {
   "cell_type": "markdown",
   "metadata": {
    "_cell_guid": "0edffb63-a8b7-4dcf-be24-8a99213ea394",
    "_uuid": "00966316ba5e1384602a25fe93a941ec5a14b1d0"
   },
   "source": [
    "**Function to drop data by index**"
   ]
  },
  {
   "cell_type": "code",
   "execution_count": 17,
   "metadata": {
    "_cell_guid": "f9e21d9b-5aa7-4045-be32-15db73520c14",
    "_uuid": "6b89b6728e54c7424cf5b290248294f9a17f296c",
    "collapsed": true
   },
   "outputs": [],
   "source": [
    "def drop_data(df, index):\n",
    "    \n",
    "    '''function to drop data by index'''\n",
    "    return df.drop(df.index[index])"
   ]
  },
  {
   "cell_type": "markdown",
   "metadata": {
    "_cell_guid": "f1c234e4-738b-44c5-b690-049b76a2221c",
    "_uuid": "90b67ffa52acd981973b1fbb9a52d9b25acbd076"
   },
   "source": [
    "**Drop the points with mismatched images**"
   ]
  },
  {
   "cell_type": "code",
   "execution_count": 18,
   "metadata": {
    "_cell_guid": "7aa9a271-8ce5-4d09-9643-870f5a82cd56",
    "_uuid": "0e32bbc67ca5298a9e9ee5cbe4a809266cba0e68",
    "collapsed": true
   },
   "outputs": [],
   "source": [
    "data = drop_data(data, missing_list1)"
   ]
  },
  {
   "cell_type": "code",
   "execution_count": 19,
   "metadata": {
    "_cell_guid": "f3b24d67-fd94-421c-bcd2-8a7d9e27183c",
    "_uuid": "f7c91ddad5c7b348a37307dac2e03ff630392e3b",
    "collapsed": true
   },
   "outputs": [
    {
     "data": {
      "text/plain": [
       "(1471, 5)"
      ]
     },
     "execution_count": 19,
     "metadata": {},
     "output_type": "execute_result"
    }
   ],
   "source": [
    "data.shape"
   ]
  },
  {
   "cell_type": "code",
   "execution_count": 20,
   "metadata": {
    "_cell_guid": "46f737e0-2445-42bf-b7d8-33285d4ea9b4",
    "_uuid": "f3ac6619b44f579ad48781185d72a2588766afc4",
    "collapsed": true
   },
   "outputs": [
    {
     "name": "stdout",
     "output_type": "stream",
     "text": [
      "Number of positive classes:  753\n",
      "Number of negative classes:  718\n"
     ]
    }
   ],
   "source": [
    "print(\"Number of positive classes: \", len(data[data['is_iceberg'] == 1.0]))\n",
    "print(\"Number of negative classes: \", len(data[data['is_iceberg'] == 0.0]))"
   ]
  },
  {
   "cell_type": "markdown",
   "metadata": {
    "_cell_guid": "5a025763-89f2-4c70-9d77-a06bdcce9838",
    "_uuid": "ce7741f7f35d38618b49733084efda42f9f13024"
   },
   "source": [
    "### 2.1.4 Scale the image data"
   ]
  },
  {
   "cell_type": "markdown",
   "metadata": {
    "_cell_guid": "19a77444-9f8e-4d4d-948e-3a90e9a1f6a7",
    "_uuid": "f1cb3b6f7cb2963f7026eef6b164b4ac28cf6b90"
   },
   "source": [
    "**3 standardization to technique we can try on**"
   ]
  },
  {
   "cell_type": "code",
   "execution_count": 21,
   "metadata": {
    "_cell_guid": "93cde433-87d7-476a-b084-9eaa82433c9d",
    "_uuid": "ae053563db3757bb4dc6eb3bd49992160b05af6b",
    "collapsed": true
   },
   "outputs": [],
   "source": [
    "def standardise_vector(vector):\n",
    "    '''standardise vector'''\n",
    "    standardised_vector = (np.array(vector) - np.mean(vector)) / np.std(vector)\n",
    "    return standardised_vector.tolist()"
   ]
  },
  {
   "cell_type": "code",
   "execution_count": 22,
   "metadata": {
    "_cell_guid": "bb29a86b-d6d0-44dd-9271-3c53a7154989",
    "_uuid": "ead913b3576c08b41c8edfbe560cc5a0b53b6aa0",
    "collapsed": true
   },
   "outputs": [],
   "source": [
    "def mean_normalise_vector(vector):\n",
    "    '''mean normalize vector'''\n",
    "    normalised_vector = (np.array(vector) - np.mean(vector)) / (np.max(vector) - np.min(vector))\n",
    "    return normalised_vector.tolist()"
   ]
  },
  {
   "cell_type": "code",
   "execution_count": 23,
   "metadata": {
    "_cell_guid": "ed1b04db-4ef2-4406-9521-6f32fa901ce7",
    "_uuid": "896c3ccb0591a713b201f928a585a3a48cfc1d50",
    "collapsed": true
   },
   "outputs": [],
   "source": [
    "def min_max_scaler(vector, minimum = 0, maximum = 1):\n",
    "    '''minmaxscaler'''\n",
    "    X_std  = (np.array(vector) - np.min(vector)) / (np.max(vector) - np.min(vector))\n",
    "    scaled_vector = X_std * (maximum - minimum) + minimum\n",
    "    return scaled_vector.tolist()"
   ]
  },
  {
   "cell_type": "markdown",
   "metadata": {
    "_cell_guid": "03254dfd-4e0b-40bb-b6eb-4fc69ed7f483",
    "_uuid": "4ca25f567f80d7dc562326a8c5f50ef8fbc2afa3"
   },
   "source": [
    "**We will use standardisation as the  normalization technique since this works well with images**"
   ]
  },
  {
   "cell_type": "code",
   "execution_count": 24,
   "metadata": {
    "_cell_guid": "d80c077d-8d1f-4b9c-8341-02ec60cddefe",
    "_uuid": "bb8239e956b43e0ace7d20357002c6e602b0ed48",
    "collapsed": true
   },
   "outputs": [],
   "source": [
    "data['band_1'] = data['band_1'].apply(standardise_vector)\n",
    "data['band_2'] = data['band_2'].apply(standardise_vector)"
   ]
  },
  {
   "cell_type": "code",
   "execution_count": 25,
   "metadata": {
    "_cell_guid": "9bc78ba9-ece5-4c01-a75c-f54d5ecafdf3",
    "_uuid": "723505e0b9dbaaf4ac9f6c605a7bd127f0a8c534",
    "collapsed": true
   },
   "outputs": [
    {
     "data": {
      "text/html": [
       "<div>\n",
       "<style>\n",
       "    .dataframe thead tr:only-child th {\n",
       "        text-align: right;\n",
       "    }\n",
       "\n",
       "    .dataframe thead th {\n",
       "        text-align: left;\n",
       "    }\n",
       "\n",
       "    .dataframe tbody tr th {\n",
       "        vertical-align: top;\n",
       "    }\n",
       "</style>\n",
       "<table border=\"1\" class=\"dataframe\">\n",
       "  <thead>\n",
       "    <tr style=\"text-align: right;\">\n",
       "      <th></th>\n",
       "      <th>band_1</th>\n",
       "      <th>band_2</th>\n",
       "      <th>id</th>\n",
       "      <th>inc_angle</th>\n",
       "      <th>is_iceberg</th>\n",
       "    </tr>\n",
       "  </thead>\n",
       "  <tbody>\n",
       "    <tr>\n",
       "      <th>0</th>\n",
       "      <td>[0.01182174564467684, 0.27378275943768166, -0....</td>\n",
       "      <td>[1.1573585860406173, 0.15631457838356574, -0.4...</td>\n",
       "      <td>dfd5f913</td>\n",
       "      <td>0.766617</td>\n",
       "      <td>0.0</td>\n",
       "    </tr>\n",
       "    <tr>\n",
       "      <th>1</th>\n",
       "      <td>[0.42137323598577087, -0.43078366534450846, -0...</td>\n",
       "      <td>[-2.0950953014724543, -0.8948057535299927, -0....</td>\n",
       "      <td>e25388fd</td>\n",
       "      <td>0.665951</td>\n",
       "      <td>0.0</td>\n",
       "    </tr>\n",
       "    <tr>\n",
       "      <th>2</th>\n",
       "      <td>[-0.6969623073924855, -0.6969793944501068, -0....</td>\n",
       "      <td>[-0.014649839717716016, 0.35157292381049343, 1...</td>\n",
       "      <td>58b2aaa0</td>\n",
       "      <td>0.790388</td>\n",
       "      <td>1.0</td>\n",
       "    </tr>\n",
       "    <tr>\n",
       "      <th>3</th>\n",
       "      <td>[0.2946591706447792, 0.04985985071106006, -0.3...</td>\n",
       "      <td>[0.7023040788844376, 0.8569610477684707, 1.005...</td>\n",
       "      <td>4cfc3a18</td>\n",
       "      <td>0.764988</td>\n",
       "      <td>0.0</td>\n",
       "    </tr>\n",
       "    <tr>\n",
       "      <th>4</th>\n",
       "      <td>[-0.31533024179271146, 0.9175181439939705, 0.9...</td>\n",
       "      <td>[-0.693769690678262, -2.0346940986353044, -2.0...</td>\n",
       "      <td>271f93f4</td>\n",
       "      <td>0.621784</td>\n",
       "      <td>0.0</td>\n",
       "    </tr>\n",
       "  </tbody>\n",
       "</table>\n",
       "</div>"
      ],
      "text/plain": [
       "                                              band_1  \\\n",
       "0  [0.01182174564467684, 0.27378275943768166, -0....   \n",
       "1  [0.42137323598577087, -0.43078366534450846, -0...   \n",
       "2  [-0.6969623073924855, -0.6969793944501068, -0....   \n",
       "3  [0.2946591706447792, 0.04985985071106006, -0.3...   \n",
       "4  [-0.31533024179271146, 0.9175181439939705, 0.9...   \n",
       "\n",
       "                                              band_2        id  inc_angle  \\\n",
       "0  [1.1573585860406173, 0.15631457838356574, -0.4...  dfd5f913   0.766617   \n",
       "1  [-2.0950953014724543, -0.8948057535299927, -0....  e25388fd   0.665951   \n",
       "2  [-0.014649839717716016, 0.35157292381049343, 1...  58b2aaa0   0.790388   \n",
       "3  [0.7023040788844376, 0.8569610477684707, 1.005...  4cfc3a18   0.764988   \n",
       "4  [-0.693769690678262, -2.0346940986353044, -2.0...  271f93f4   0.621784   \n",
       "\n",
       "   is_iceberg  \n",
       "0         0.0  \n",
       "1         0.0  \n",
       "2         1.0  \n",
       "3         0.0  \n",
       "4         0.0  "
      ]
     },
     "execution_count": 25,
     "metadata": {},
     "output_type": "execute_result"
    }
   ],
   "source": [
    "data.head(5)"
   ]
  },
  {
   "cell_type": "markdown",
   "metadata": {
    "_cell_guid": "7b76f88f-da1a-403c-81ad-8df9254e7f34",
    "_uuid": "83ccc60bfc074d301861eef82c0f73bc8c65c06e"
   },
   "source": [
    "### **2.1.5 Reshaping the band1 and band2 data into 2D image**"
   ]
  },
  {
   "cell_type": "code",
   "execution_count": 26,
   "metadata": {
    "_cell_guid": "cb679236-ed88-419f-9605-1adc84ab3e23",
    "_uuid": "2934df8b01da177eab5a0c74dbdabb5cb18681e5",
    "collapsed": true
   },
   "outputs": [],
   "source": [
    "band_1 = np.array([np.array(band).astype(np.float32).reshape(75, 75) for band in data[\"band_1\"]])\n",
    "band_2 = np.array([np.array(band).astype(np.float32).reshape(75, 75) for band in data[\"band_2\"]])"
   ]
  },
  {
   "cell_type": "code",
   "execution_count": 27,
   "metadata": {
    "_cell_guid": "389a1644-5a04-4fc7-9ca5-75b3f9224fd8",
    "_uuid": "f9ac3e0531f4e7990884f830421a52aabe003cc7",
    "collapsed": true
   },
   "outputs": [
    {
     "name": "stdout",
     "output_type": "stream",
     "text": [
      "Shape of band 1 image: (1471, 75, 75)\n",
      "Shape of band 2 image: (1471, 75, 75)\n"
     ]
    }
   ],
   "source": [
    "print(\"Shape of band 1 image:\",band_1.shape)\n",
    "print(\"Shape of band 2 image:\",band_2.shape)"
   ]
  },
  {
   "cell_type": "markdown",
   "metadata": {
    "_cell_guid": "f1e0c9c9-9c64-4c89-98d9-c7156d410630",
    "_uuid": "9bc360c6c90d27c127adadfe448af1a3e0d74945"
   },
   "source": [
    "## **2.2 Feature engieering on test Set**"
   ]
  },
  {
   "cell_type": "markdown",
   "metadata": {
    "_cell_guid": "fb903267-cd31-47a8-9143-cef67abd06e9",
    "_uuid": "0e2f0ba8f4b69b9c60ba2622dd2afcf1ae70cfd4"
   },
   "source": [
    "**We carry out the same feature engineering as carried out on train set**"
   ]
  },
  {
   "cell_type": "code",
   "execution_count": 28,
   "metadata": {
    "_cell_guid": "2147cc9a-20c7-45bd-a8b5-4495c1e5fb92",
    "_uuid": "cf760c092267e45eba0aed886c08ad3ec5073153",
    "collapsed": true
   },
   "outputs": [],
   "source": [
    "test_data['inc_angle'] = test_data['inc_angle'].apply(lambda x: math.radians(x))"
   ]
  },
  {
   "cell_type": "code",
   "execution_count": 29,
   "metadata": {
    "_cell_guid": "f84fd6d1-e5fe-4dec-89ad-4da9c9d1e5fb",
    "_uuid": "c324bd680dc6f9f62460bcdcb0f0e1c4c7e046af",
    "collapsed": true
   },
   "outputs": [
    {
     "data": {
      "text/plain": [
       "0    0.610279\n",
       "1    0.569240\n",
       "2    0.654593\n",
       "3    0.601683\n",
       "4    0.766529\n",
       "Name: inc_angle, dtype: float64"
      ]
     },
     "execution_count": 29,
     "metadata": {},
     "output_type": "execute_result"
    }
   ],
   "source": [
    "test_data.inc_angle.head()"
   ]
  },
  {
   "cell_type": "code",
   "execution_count": 30,
   "metadata": {
    "_cell_guid": "7b9ca0a8-ffba-45fa-91f8-f33158cf773e",
    "_uuid": "74df1a531cd18eb052f8a55d29611841c4f70109",
    "collapsed": true
   },
   "outputs": [
    {
     "name": "stdout",
     "output_type": "stream",
     "text": [
      "count:  0\n",
      "missing data:  []\n"
     ]
    }
   ],
   "source": [
    "missing_list3, count3 = find_missing_data(test_data.band_1, (5625,))\n",
    "print(\"count: \", count3)\n",
    "print(\"missing data: \", missing_list3)"
   ]
  },
  {
   "cell_type": "code",
   "execution_count": 31,
   "metadata": {
    "_cell_guid": "e7f908ce-df6e-46b3-9afa-c7152b13fd9a",
    "_uuid": "8d23205eef621cc8256b9091ddb731be5013e923",
    "collapsed": true
   },
   "outputs": [
    {
     "name": "stdout",
     "output_type": "stream",
     "text": [
      "count:  0\n",
      "missing data:  []\n"
     ]
    }
   ],
   "source": [
    "missing_list4, count4 = find_missing_data(test_data.band_2, (5625,))\n",
    "print(\"count: \", count4)\n",
    "print(\"missing data: \", missing_list4)"
   ]
  },
  {
   "cell_type": "code",
   "execution_count": 32,
   "metadata": {
    "_cell_guid": "acf46313-3ce4-4c6e-86e4-961154808436",
    "_uuid": "d1b7a5ca054dbf81d451abded28176387ad86600",
    "collapsed": true
   },
   "outputs": [],
   "source": [
    "test_data['band_1'] = test_data['band_1'].apply(standardise_vector)\n",
    "test_data['band_2'] = test_data['band_2'].apply(standardise_vector)"
   ]
  },
  {
   "cell_type": "code",
   "execution_count": 33,
   "metadata": {
    "_cell_guid": "2c0a7e57-a905-49fd-86a2-2c99eca4a384",
    "_uuid": "ff9e919cd13673bd61e5213a83abd8c8041f3c18",
    "collapsed": true
   },
   "outputs": [],
   "source": [
    "band_1_test = np.array([np.array(band).astype(np.float32).reshape(75, 75) for band in test_data[\"band_1\"]])\n",
    "band_2_test = np.array([np.array(band).astype(np.float32).reshape(75, 75) for band in test_data[\"band_2\"]])"
   ]
  },
  {
   "cell_type": "code",
   "execution_count": 34,
   "metadata": {
    "_cell_guid": "84bb2815-ce50-4b68-9550-42fa2847c63b",
    "_uuid": "08645230a05d6e67487a9ce7a4ce40c3e5e24761",
    "collapsed": true
   },
   "outputs": [
    {
     "name": "stdout",
     "output_type": "stream",
     "text": [
      "Shape of test set band 1 image: (8424, 75, 75)\n",
      "Shape of test set band 2 image: (8424, 75, 75)\n"
     ]
    }
   ],
   "source": [
    "print(\"Shape of test set band 1 image:\",band_1_test.shape)\n",
    "print(\"Shape of test set band 2 image:\",band_2_test.shape)"
   ]
  },
  {
   "cell_type": "markdown",
   "metadata": {
    "_cell_guid": "b515cf3e-2f33-4456-8cea-c803b8a02284",
    "_uuid": "aa4007a853e9e5b2d04e525fcf00256085e813b9"
   },
   "source": [
    "# **3. Train/test/validation split**"
   ]
  },
  {
   "cell_type": "markdown",
   "metadata": {
    "_cell_guid": "54b33859-8b8d-4020-9626-1902ca025b16",
    "_uuid": "341ac6593b7cb1bef50eb528d501ce79149c63fa"
   },
   "source": [
    "**Extract the labels and angles of train set**"
   ]
  },
  {
   "cell_type": "code",
   "execution_count": 35,
   "metadata": {
    "_cell_guid": "d21487a5-9d5f-4244-af13-2146b569609b",
    "_uuid": "eecb2f52fe1b5d7370071c5d165f164ad11d13e0",
    "collapsed": true
   },
   "outputs": [],
   "source": [
    "labels = data.is_iceberg.as_matrix()\n",
    "angles = data.inc_angle.as_matrix()"
   ]
  },
  {
   "cell_type": "markdown",
   "metadata": {
    "_cell_guid": "0d1ba57c-c175-4138-9066-d5f409846490",
    "_uuid": "0a1abe75df22a926d19a5ace9636b8f143b03003"
   },
   "source": [
    "**Carry out splits**"
   ]
  },
  {
   "cell_type": "code",
   "execution_count": 36,
   "metadata": {
    "_cell_guid": "d5438945-8391-4459-81fa-f472d78c5a85",
    "_uuid": "6072b7af745245422c114e630a79beadf9a12a9d",
    "collapsed": true
   },
   "outputs": [],
   "source": [
    "# randomly choosing the train and validation indices\n",
    "train_indices = np.random.choice(len(labels), round(len(labels)*0.75), replace=False)\n",
    "validation_indices = np.array(list(set(range(len(labels))) - set(train_indices)))\n",
    "\n",
    "# extract train set\n",
    "band_1_train = band_1[train_indices]\n",
    "band_2_train = band_2[train_indices]\n",
    "angles_train = angles[train_indices]\n",
    "labels_train = labels[train_indices]\n",
    "\n",
    "# extract validation set\n",
    "band_1_validation = band_1[validation_indices]\n",
    "band_2_validation = band_2[validation_indices]\n",
    "angles_validation = angles[validation_indices]\n",
    "labels_validation = labels[validation_indices]\n",
    "\n",
    "# extract test set\n",
    "band_1_test = band_1_test\n",
    "band_2_test = band_2_test\n",
    "angles_test = test_data.inc_angle.as_matrix()\n",
    "iD = test_data.id.as_matrix()"
   ]
  },
  {
   "cell_type": "markdown",
   "metadata": {
    "_cell_guid": "60149af0-ec55-413f-b16e-610a136a73d9",
    "_uuid": "50af9ec23f4f918c97a2cd43a209e48b33a18a3b"
   },
   "source": [
    "**Covert the types of all data to float**"
   ]
  },
  {
   "cell_type": "code",
   "execution_count": 37,
   "metadata": {
    "_cell_guid": "9a984565-5eaa-4b40-be0d-4be3589c4d44",
    "_uuid": "dbe2f5278d4818cf31580778297009d2bcf1f0bf",
    "collapsed": true
   },
   "outputs": [],
   "source": [
    "band_1_train = band_1_train.astype(np.float32)\n",
    "band_1_validation = band_1_validation.astype(np.float32)\n",
    "band_1_test = band_1_test.astype(np.float32)\n",
    "band_2_train = band_2_train.astype(np.float32)\n",
    "band_2_validation = band_2_validation.astype(np.float32)\n",
    "band_2_test = band_2_test.astype(np.float32)\n",
    "angles_train = angles_train.astype(np.float32)\n",
    "angles_validation = angles_validation.astype(np.float32)\n",
    "angles_test = angles_test.astype(np.float32)\n",
    "labels_train = labels_train.astype(np.float32)\n",
    "labels_validation = labels_validation.astype(np.float32)\n",
    "iD = iD.astype(np.str)"
   ]
  },
  {
   "cell_type": "code",
   "execution_count": 38,
   "metadata": {
    "_cell_guid": "be173599-cd4e-4233-a3f1-185da3cfa522",
    "_uuid": "f2ac78b986ec9532267e0ec9cc3b081a383119ed",
    "collapsed": true
   },
   "outputs": [],
   "source": [
    "# delete the unnecessary variables out of memory\n",
    "del(data, test_data, band_1, band_2)"
   ]
  },
  {
   "cell_type": "markdown",
   "metadata": {
    "_cell_guid": "b68af081-f7a2-45f4-bc3a-36e39dd81ed4",
    "_uuid": "4e96cdb17e2195e1e1572d7ff665280149d9df2a"
   },
   "source": [
    "**Examine the shape of the data**"
   ]
  },
  {
   "cell_type": "code",
   "execution_count": 39,
   "metadata": {
    "_cell_guid": "dd1e910a-6992-4177-82bd-6718a853fa93",
    "_uuid": "623e269a6e5250e02f0340b7c0fbe1f86252c16c",
    "collapsed": true
   },
   "outputs": [
    {
     "name": "stdout",
     "output_type": "stream",
     "text": [
      "Shape of band_1_train: (1103, 75, 75)\n",
      "Shape of band_2_train: (1103, 75, 75)\n",
      "Shape of angles_train: (1103,)\n",
      "Shape of labels_train: (1103,)\n",
      "Shape of band_1_validation: (368, 75, 75)\n",
      "Shape of band_2_validation: (368, 75, 75)\n",
      "Shape of angles_validation: (368,)\n",
      "Shape of labels_validation: (368,)\n",
      "Shape of band_1_test: (8424, 75, 75)\n",
      "Shape of band_2_test: (8424, 75, 75)\n",
      "Shape of angles_test: (8424,)\n",
      "Shape of iD: (8424,)\n"
     ]
    }
   ],
   "source": [
    "print(\"Shape of band_1_train:\",band_1_train.shape)\n",
    "print(\"Shape of band_2_train:\",band_1_train.shape)\n",
    "print(\"Shape of angles_train:\",angles_train.shape)\n",
    "print(\"Shape of labels_train:\",labels_train.shape)\n",
    "print(\"Shape of band_1_validation:\",band_1_validation.shape)\n",
    "print(\"Shape of band_2_validation:\",band_2_validation.shape)\n",
    "print(\"Shape of angles_validation:\",angles_validation.shape)\n",
    "print(\"Shape of labels_validation:\",labels_validation.shape)\n",
    "print(\"Shape of band_1_test:\",band_1_test.shape)\n",
    "print(\"Shape of band_2_test:\",band_2_test.shape)\n",
    "print(\"Shape of angles_test:\",angles_test.shape)\n",
    "print(\"Shape of iD:\",iD.shape)"
   ]
  },
  {
   "cell_type": "markdown",
   "metadata": {
    "_cell_guid": "86e1abbe-f6b5-43f3-9602-eef233c5f039",
    "_uuid": "e78640113bdcc73128e5d56a25fa2e604d3ac864"
   },
   "source": [
    "# **4. Augmenting train set**"
   ]
  },
  {
   "cell_type": "markdown",
   "metadata": {
    "_cell_guid": "9a9dc260-45f0-44e7-b1e1-1cbe4836e406",
    "_uuid": "83c14ab3ff90f386d3a7dc8dffd556d071814da5"
   },
   "source": [
    "## **4.1 Functions to carry out different augmentation technique**"
   ]
  },
  {
   "cell_type": "markdown",
   "metadata": {
    "_cell_guid": "fd49957d-2d31-41f6-9b47-4fb12cca4253",
    "_uuid": "c7666a5de11bd07b089511a6400e17463065f06b"
   },
   "source": [
    "**4.1.1 Image Rotation**"
   ]
  },
  {
   "cell_type": "code",
   "execution_count": 40,
   "metadata": {
    "_cell_guid": "aa517240-36a6-4587-a23a-7fed50b60ead",
    "_uuid": "fd7746aea0c8488c5351ad1db740afe1232cb7c3",
    "collapsed": true
   },
   "outputs": [],
   "source": [
    "def rotate_image(img, angle = 20):\n",
    "    \n",
    "    '''a function to rotate image by a given degree'''\n",
    "    \n",
    "    # rotate image\n",
    "    original = img.copy()\n",
    "\n",
    "    M_rotate = cv2.getRotationMatrix2D((37,37),angle,1)\n",
    "    img_new = cv2.warpAffine(img,M_rotate,(75,75))\n",
    "    \n",
    "    length_row = 0\n",
    "    length_column = 0\n",
    "    boundary_step = 5\n",
    "    \n",
    "    for i in range(len(img_new)):\n",
    "        if img_new[0,i]!=float(0.0):\n",
    "            length_row = i\n",
    "            break\n",
    "    for i in range(len(img_new)):\n",
    "        if img_new[i,0]!=float(0.0):\n",
    "            length_column = i\n",
    "            break\n",
    "    \n",
    "    # subsitute the padding from original image\n",
    "    img_new[:length_column+boundary_step,:length_row+boundary_step] = \\\n",
    "    original[:length_column+boundary_step,:length_row+boundary_step] \n",
    "    img_new[-(length_row+boundary_step):,:length_column+boundary_step] = \\\n",
    "    original[-(length_row+boundary_step):,:length_column+boundary_step]\n",
    "    img_new[:length_row+boundary_step,-(length_column+boundary_step):] = \\\n",
    "    original[:length_row+boundary_step,-(length_column+boundary_step):]\n",
    "    img_new[-(length_column+boundary_step):,-(length_row+boundary_step):] = \\\n",
    "    original[-(length_column+boundary_step):,-(length_row+boundary_step):]\n",
    "    \n",
    "    return img_new"
   ]
  },
  {
   "cell_type": "markdown",
   "metadata": {
    "_cell_guid": "3e60279c-b4c8-42f7-8966-8145fb08377e",
    "_uuid": "c21f91a272323162b3eb158613166bb0fd0aff65"
   },
   "source": [
    "**4.1.2 Horizontal translation**"
   ]
  },
  {
   "cell_type": "code",
   "execution_count": 41,
   "metadata": {
    "_cell_guid": "af97ae17-8fdd-4946-8826-5ef7f6d51e1e",
    "_uuid": "53905416438c9e6e9d111f4cafb40b6b2f939324",
    "collapsed": true
   },
   "outputs": [],
   "source": [
    "def translate_horizontal(image, shift_horizontal = 5):\n",
    "    \n",
    "    '''a function to translate image horizontally by a shift'''\n",
    "    \n",
    "    # horizontally shift image\n",
    "    img = image.copy()\n",
    "    \n",
    "    shift_vertical = 0; \n",
    "    if shift_horizontal<0:\n",
    "        image_slice = img[:,shift_horizontal:].copy()\n",
    "    if shift_horizontal>0:\n",
    "        image_slice = img[:,:shift_horizontal].copy()\n",
    "    M_translate = np.float32([[1,0,shift_horizontal],[0,1,shift_vertical]])\n",
    "    img_new = cv2.warpAffine(img,M_translate,(75,75))\n",
    "    \n",
    "    # subsitute the padding from original image\n",
    "    if shift_horizontal<0:\n",
    "        img_new[:,shift_horizontal:] = image_slice\n",
    "    if shift_horizontal>0:\n",
    "        img_new[:,:shift_horizontal] = image_slice\n",
    "        \n",
    "    return img_new.reshape(75,75).astype(np.float32)"
   ]
  },
  {
   "cell_type": "markdown",
   "metadata": {
    "_cell_guid": "321a68c5-6f8d-42ee-b43f-c2382428741f",
    "_uuid": "92955ef9fcabb5138ef4cccdfad99612bc27d9c7"
   },
   "source": [
    "**4.1.3 Vertical translation**"
   ]
  },
  {
   "cell_type": "code",
   "execution_count": 42,
   "metadata": {
    "_cell_guid": "69fe4098-9461-4eb4-bbc7-495122f8ab2e",
    "_uuid": "a77c02ec97ea12e072cbbdac6f6c9ddccb7c31c0",
    "collapsed": true
   },
   "outputs": [],
   "source": [
    "def translate_vertical(image, shift_vertical = 5):\n",
    "    \n",
    "    '''a function to translate image vertically by a shift'''\n",
    "    \n",
    "    # vertically shift image\n",
    "    img = image.copy()\n",
    "    \n",
    "    shift_horizontal = 0;\n",
    "    if shift_vertical<0:\n",
    "        image_slice = img[shift_vertical:,:].copy()\n",
    "    if shift_vertical>0:\n",
    "        image_slice = img[:shift_vertical,:].copy()\n",
    "    M_translate = np.float32([[1,0,shift_horizontal],[0,1,shift_vertical]])\n",
    "    img_new = cv2.warpAffine(img,M_translate,(75,75))\n",
    "    \n",
    "    # subsitute the padding from original image\n",
    "    if shift_vertical<0:\n",
    "        img_new[shift_vertical:,:] = image_slice\n",
    "    if shift_vertical>0:\n",
    "        img_new[:shift_vertical,:] = image_slice\n",
    "        \n",
    "    return img_new.reshape(75,75).astype(np.float32)"
   ]
  },
  {
   "cell_type": "markdown",
   "metadata": {
    "_cell_guid": "b0873b41-4d91-4c58-9523-0db20e2b23c1",
    "_uuid": "26557ae31f21790006c18b4506191938b8275998"
   },
   "source": [
    "**4.1.4 Translation along positive diagonal**"
   ]
  },
  {
   "cell_type": "code",
   "execution_count": 43,
   "metadata": {
    "_cell_guid": "e645346d-d086-45b6-92cd-aeece998da23",
    "_uuid": "c3913e63bb74b6a3c2acde54ad51b601e39dc4e1",
    "collapsed": true
   },
   "outputs": [],
   "source": [
    "def translate_positive_diagonal(image, shift_diagonal = 5):\n",
    "    \n",
    "    '''a function to translate image along positive diagonal'''\n",
    "    \n",
    "    # translate image along positive diagonal\n",
    "    img = image.copy()\n",
    "    \n",
    "    if shift_diagonal<0:\n",
    "        hor_slice = img[shift_diagonal:,:].copy()\n",
    "        ver_slice = img[:,shift_diagonal:].copy()\n",
    "    else:\n",
    "        hor_slice = img[:shift_diagonal,:].copy()\n",
    "        ver_slice = img[:,:shift_diagonal].copy()\n",
    "    M_translate = np.float32([[1,0,shift_diagonal],[0,1,shift_diagonal]])\n",
    "    img_new = cv2.warpAffine(img,M_translate,(75,75))\n",
    "    \n",
    "    # subsitute the padding from original image\n",
    "    if shift_diagonal<0:\n",
    "        img_new[shift_diagonal:,:] = hor_slice\n",
    "        img_new[:,shift_diagonal:] = ver_slice\n",
    "    else:\n",
    "        img_new[:shift_diagonal,:] = hor_slice\n",
    "        img_new[:,:shift_diagonal] = ver_slice\n",
    "    \n",
    "    return img_new.reshape(75,75).astype(np.float32)"
   ]
  },
  {
   "cell_type": "markdown",
   "metadata": {
    "_cell_guid": "ad345409-8ef3-4464-8698-a9d5ae079e80",
    "_uuid": "dea2e30274189b2854e5c51c77732ff9fea35497"
   },
   "source": [
    "**4.1.5 Translation along negative diagonal**"
   ]
  },
  {
   "cell_type": "code",
   "execution_count": 44,
   "metadata": {
    "_cell_guid": "96e91234-edd2-4276-aaab-2659233677af",
    "_uuid": "9786b54ebed361eba2f97a332abc119bb2790e03",
    "collapsed": true
   },
   "outputs": [],
   "source": [
    "def translate_negative_diagonal(image, shift_diagonal = 5):\n",
    "    \n",
    "    '''a function to translate image along negative diagonal'''\n",
    "    \n",
    "    # translate image along negative diagonal\n",
    "    img = image.copy()\n",
    "    \n",
    "    if shift_diagonal<0:\n",
    "        hor_slice = img[:-shift_diagonal,:].copy()\n",
    "        ver_slice = img[:,shift_diagonal:].copy()\n",
    "    if shift_diagonal>0:\n",
    "        hor_slice = img[-shift_diagonal:,:].copy()\n",
    "        ver_slice = img[:,:shift_diagonal].copy()\n",
    "    M_translate = np.float32([[1,0,shift_diagonal],[0,1,-shift_diagonal]])\n",
    "    img_new = cv2.warpAffine(img,M_translate,(75,75))\n",
    "    \n",
    "    # subsitute the padding from original image\n",
    "    if shift_diagonal<0:\n",
    "        img_new[:-shift_diagonal,:] = hor_slice\n",
    "        img_new[:,shift_diagonal:] = ver_slice\n",
    "    if shift_diagonal>0:\n",
    "        img_new[-shift_diagonal:,:] = hor_slice\n",
    "        img_new[:,:shift_diagonal] = ver_slice\n",
    "        \n",
    "    return img_new.reshape(75,75).astype(np.float32)"
   ]
  },
  {
   "cell_type": "markdown",
   "metadata": {
    "_cell_guid": "ca1cffcb-0e15-419f-b28f-331f5ef3aeb1",
    "_uuid": "6efca0ecf88472b35bcfa55eee69a83befe0af8a"
   },
   "source": [
    "**4.1.6 Flip Image**"
   ]
  },
  {
   "cell_type": "code",
   "execution_count": 45,
   "metadata": {
    "_cell_guid": "6c5b3ded-8a55-4dc3-b8e0-a3c1bc97be69",
    "_uuid": "55084dbbb7af094519980b15e16c7eb09c04eea2",
    "collapsed": true
   },
   "outputs": [],
   "source": [
    "def flip(image, direction = 0):\n",
    "    \n",
    "    '''a function to flip image'''\n",
    "    img = image.copy()\n",
    "    return cv2.flip(img,direction)"
   ]
  },
  {
   "cell_type": "markdown",
   "metadata": {
    "_cell_guid": "aef107c9-71e8-4a66-8de3-535b37777341",
    "_uuid": "0f2f83ffdbe3003381841c5ccc8b0a91595d8da0"
   },
   "source": [
    "**4.1.7 Zoom image**"
   ]
  },
  {
   "cell_type": "code",
   "execution_count": 46,
   "metadata": {
    "_cell_guid": "a7ffe735-a712-4fe2-8c42-1bd5cfd3edb0",
    "_uuid": "421f6527974b9eefec0e26fb52f617cb93ff5b99",
    "collapsed": true
   },
   "outputs": [],
   "source": [
    "def zoom(image, zoom_shift = 5):\n",
    "    \n",
    "    '''a function to zoom image'''\n",
    "    \n",
    "    # zoom image\n",
    "    img = image.copy()\n",
    "    \n",
    "    # zoom in \n",
    "    if zoom_shift>0:\n",
    "        # scale\n",
    "        img_new = cv2.resize(img, (75+zoom_shift*2,75+zoom_shift*2)) \n",
    "        # crop\n",
    "        img_new = img_new[zoom_shift:-zoom_shift,zoom_shift:-zoom_shift] \n",
    "    # zoom out\n",
    "    else:\n",
    "        zoom_shift *=-1\n",
    "        \n",
    "        hor_top = img[:zoom_shift,:]\n",
    "        hor_bottom =img[-zoom_shift:,:]\n",
    "        ver_left = img[:,:zoom_shift]\n",
    "        ver_right = img[:,-zoom_shift:]\n",
    "        \n",
    "        # scale\n",
    "        img_new = cv2.resize(img, (75-zoom_shift*2,75-zoom_shift*2)) \n",
    "        # zero padding\n",
    "        img_new = cv2.copyMakeBorder(img_new,zoom_shift,zoom_shift,zoom_shift,zoom_shift,\n",
    "                                     cv2.BORDER_CONSTANT,value=0.0)\n",
    "        # subsitute the padding from original image\n",
    "        img_new[:zoom_shift,:] = hor_top\n",
    "        img_new[-zoom_shift:,:] = hor_bottom\n",
    "        img_new[:,:zoom_shift] = ver_left\n",
    "        img_new[:,-zoom_shift:] = ver_right     \n",
    "        \n",
    "    return img_new.reshape(75,75).astype(np.float32)"
   ]
  },
  {
   "cell_type": "markdown",
   "metadata": {
    "_cell_guid": "f6df0cdd-12d5-4802-9362-adee3781099a",
    "_uuid": "fba70b21dc0f5b30fef9f198c2f085b91c849c4e"
   },
   "source": [
    "## **4.2 Displaying augmented samples**"
   ]
  },
  {
   "cell_type": "code",
   "execution_count": 47,
   "metadata": {
    "_cell_guid": "b30fd90b-ae48-482c-85ea-88a164f7abb7",
    "_uuid": "29c6e9968e6b27e507840bdd68c0558b5cdad8e0",
    "collapsed": true
   },
   "outputs": [
    {
     "data": {
      "image/png": "[encoded data removed]",
      "text/plain": [
       "<matplotlib.figure.Figure at 0x7f04d8f29278>"
      ]
     },
     "metadata": {},
     "output_type": "display_data"
    }
   ],
   "source": [
    "matplotlib.rcParams['figure.figsize'] = (20.0, 14.0)\n",
    "image = band_1_test[3].copy()\n",
    "plt.subplot(3, 5, 1)\n",
    "plt.title(\"Original Image\")\n",
    "plt.imshow(image)\n",
    "plt.subplot(3, 5, 2)\n",
    "generated_image = rotate_image(image,40)\n",
    "plt.title(\"Rotation by +ve degree\")\n",
    "plt.imshow(generated_image)\n",
    "plt.subplot(3, 5, 3)\n",
    "generated_image = rotate_image(image,-40)\n",
    "plt.title(\"Rotation by -ve degree\")\n",
    "plt.imshow(generated_image)\n",
    "plt.subplot(3, 5, 4)\n",
    "generated_image = translate_horizontal(image,10)\n",
    "plt.title(\"Horizonation translation to right\")\n",
    "plt.imshow(generated_image)\n",
    "plt.subplot(3, 5, 5)\n",
    "generated_image = translate_horizontal(image,-10)\n",
    "plt.title(\"Horizonation translation to left\")\n",
    "plt.imshow(generated_image)\n",
    "plt.subplot(3, 5, 6)\n",
    "generated_image = translate_vertical(image,10)\n",
    "plt.title(\"Vertical translation downward\")\n",
    "plt.imshow(generated_image)\n",
    "plt.subplot(3, 5, 7)\n",
    "generated_image = translate_vertical(image,-10)\n",
    "plt.title(\"Vertical translation upward\")\n",
    "plt.imshow(generated_image)\n",
    "plt.subplot(3, 5, 8)\n",
    "generated_image = translate_positive_diagonal(image,10)\n",
    "plt.title(\"SE translation\")\n",
    "plt.imshow(generated_image)\n",
    "plt.subplot(3, 5, 9)\n",
    "generated_image = translate_positive_diagonal(image,-10)\n",
    "plt.title(\"NW translation\")\n",
    "plt.imshow(generated_image)\n",
    "plt.subplot(3, 5, 10)\n",
    "generated_image = translate_negative_diagonal(image,10)\n",
    "plt.title(\"NE translation\")\n",
    "plt.imshow(generated_image)\n",
    "plt.subplot(3, 5, 11)\n",
    "generated_image = translate_negative_diagonal(image,-10)\n",
    "plt.title(\"SW translation\")\n",
    "plt.imshow(generated_image)\n",
    "plt.subplot(3, 5, 12)\n",
    "generated_image = flip(image,0)\n",
    "plt.title(\"Vertical flip\")\n",
    "plt.imshow(generated_image)\n",
    "plt.subplot(3, 5, 13)\n",
    "generated_image = flip(image,1)\n",
    "plt.title(\"Horizontal flip\")\n",
    "plt.imshow(generated_image)\n",
    "plt.subplot(3, 5, 14)\n",
    "generated_image = zoom(image,10)\n",
    "plt.title(\"Zoom in\")\n",
    "plt.imshow(generated_image)\n",
    "plt.subplot(3, 5, 15)\n",
    "generated_image = zoom(image,-10)\n",
    "plt.title(\"Zoom out\")\n",
    "plt.imshow(generated_image)\n",
    "plt.show()"
   ]
  },
  {
   "cell_type": "markdown",
   "metadata": {
    "_cell_guid": "74f3a561-59bc-4499-a3d6-4ae38bd526f0",
    "_uuid": "74c6d702850ddb99bbb877352a0db3214eab9b45"
   },
   "source": [
    "## **4.3 Augmentation of train set**"
   ]
  },
  {
   "cell_type": "code",
   "execution_count": 48,
   "metadata": {
    "_cell_guid": "9587eef7-a980-484f-a5a5-1028040dd7fc",
    "_uuid": "54f811a3ef54965a0513b30a325fe4d6a8399e07",
    "collapsed": true
   },
   "outputs": [],
   "source": [
    "def augment_data(band1, band2, angles, labels):\n",
    "    \n",
    "    '''a function to augment band1 and band2 image'''\n",
    "    \n",
    "    # list to store the generated data\n",
    "    band1_generated = []\n",
    "    band2_generated = []\n",
    "    angles_generated = []\n",
    "    labels_generated = []\n",
    "    \n",
    "    # iterate through each point in train set\n",
    "    for i in range(labels.shape[0]):\n",
    "        \n",
    "        # rotate by positive degree\n",
    "        angle = np.random.randint(5,20)\n",
    "        band1_generated.append(rotate_image(band1[i],angle)) \n",
    "        band2_generated.append(rotate_image(band2[i],angle))\n",
    "        angles_generated.append(angles[i])\n",
    "        labels_generated.append(labels[i])\n",
    "        \n",
    "        # rotate by negative degree\n",
    "        angle = np.random.randint(5,20)\n",
    "        band1_generated.append(rotate_image(band1[i],-angle)) \n",
    "        band2_generated.append(rotate_image(band2[i],-angle))\n",
    "        angles_generated.append(angles[i])\n",
    "        labels_generated.append(labels[i])\n",
    "        \n",
    "        # positive horizontal shift\n",
    "        shift = np.random.randint(3,7)\n",
    "        band1_generated.append(translate_horizontal(band1[i],+shift)) \n",
    "        band2_generated.append(translate_horizontal(band2[i],+shift))\n",
    "        angles_generated.append(angles[i])\n",
    "        labels_generated.append(labels[i])\n",
    "        \n",
    "        # negative horizontal shift\n",
    "        shift = np.random.randint(3,7) \n",
    "        band1_generated.append(translate_horizontal(band1[i],-shift)) \n",
    "        band2_generated.append(translate_horizontal(band2[i],-shift))\n",
    "        angles_generated.append(angles[i])\n",
    "        labels_generated.append(labels[i])\n",
    "        \n",
    "        # positive vertical shift\n",
    "        shift = np.random.randint(0,7)  \n",
    "        band1_generated.append(translate_vertical(band1[i],+shift)) \n",
    "        band2_generated.append(translate_vertical(band2[i],+shift))\n",
    "        angles_generated.append(angles[i])\n",
    "        labels_generated.append(labels[i])\n",
    "        \n",
    "        # negative vertical shift\n",
    "        shift = np.random.randint(3,7) \n",
    "        band1_generated.append(translate_vertical(band1[i],-shift)) \n",
    "        band2_generated.append(translate_vertical(band2[i],-shift))\n",
    "        angles_generated.append(angles[i])\n",
    "        labels_generated.append(labels[i])\n",
    "        \n",
    "        # translate along positive diagonal in positive direction\n",
    "        shift = np.random.randint(3,7)  \n",
    "        band1_generated.append(translate_positive_diagonal(band1[i],+shift)) \n",
    "        band2_generated.append(translate_positive_diagonal(band2[i],+shift))\n",
    "        angles_generated.append(angles[i])\n",
    "        labels_generated.append(labels[i])\n",
    "        \n",
    "        # translate along positive diagonal in negative direction\n",
    "        shift = np.random.randint(3,7)  \n",
    "        band1_generated.append(translate_positive_diagonal(band1[i],-shift)) \n",
    "        band2_generated.append(translate_positive_diagonal(band2[i],-shift))\n",
    "        angles_generated.append(angles[i])\n",
    "        labels_generated.append(labels[i])\n",
    "        \n",
    "        # translate along negative diagonal in positive direction\n",
    "        shift = np.random.randint(3,7)   \n",
    "        band1_generated.append(translate_negative_diagonal(band1[i],+shift)) \n",
    "        band2_generated.append(translate_negative_diagonal(band2[i],+shift))\n",
    "        angles_generated.append(angles[i])\n",
    "        labels_generated.append(labels[i])\n",
    "        \n",
    "        # translate along negative diagonal in negative direction\n",
    "        shift = np.random.randint(3,7)   \n",
    "        band1_generated.append(translate_negative_diagonal(band1[i],-shift)) \n",
    "        band2_generated.append(translate_negative_diagonal(band2[i],-shift))\n",
    "        angles_generated.append(angles[i])\n",
    "        labels_generated.append(labels[i])\n",
    "        \n",
    "        # vertical flip\n",
    "        band1_generated.append(flip(band1[i],0)) \n",
    "        band2_generated.append(flip(band2[i],0))\n",
    "        angles_generated.append(angles[i])\n",
    "        labels_generated.append(labels[i])\n",
    "        \n",
    "        # horizontal flip\n",
    "        band1_generated.append(flip(band1[i],1)) \n",
    "        band2_generated.append(flip(band2[i],1))\n",
    "        angles_generated.append(angles[i])\n",
    "        labels_generated.append(labels[i])\n",
    "        \n",
    "        # zoom in image\n",
    "        zoom_shift = np.random.randint(2,5)\n",
    "        band1_generated.append(zoom(band1[i],zoom_shift)) \n",
    "        band2_generated.append(zoom(band2[i],zoom_shift))\n",
    "        angles_generated.append(angles[i])\n",
    "        labels_generated.append(labels[i])\n",
    "        \n",
    "        # zoom out image\n",
    "        zoom_shift = np.random.randint(2,5) \n",
    "        band1_generated.append(zoom(band1[i],-zoom_shift)) \n",
    "        band2_generated.append(zoom(band2[i],-zoom_shift))\n",
    "        angles_generated.append(angles[i])\n",
    "        labels_generated.append(labels[i])        \n",
    "        \n",
    "    # convert the generated data into numpy array\n",
    "    band1_generated = np.array(band1_generated)\n",
    "    band2_generated = np.array(band2_generated)\n",
    "    angles_generated = np.array(angles_generated)\n",
    "    labels_generated = np.array(labels_generated)\n",
    "    \n",
    "    # concatenate the generated data to original train set\n",
    "    band1_augmented = np.concatenate((band1, band1_generated),axis=0)\n",
    "    band2_augmented = np.concatenate((band2, band2_generated),axis=0)\n",
    "    angles_augmented = np.concatenate((angles, angles_generated),axis=0)\n",
    "    labels_augmented = np.concatenate((labels, labels_generated),axis=0)\n",
    "    \n",
    "    return band1_augmented, band2_augmented, angles_augmented, labels_augmented"
   ]
  },
  {
   "cell_type": "code",
   "execution_count": 49,
   "metadata": {
    "_cell_guid": "9c625022-16e7-4f65-9000-02b8afef57a4",
    "_uuid": "e7861fcbe44ec65a91a900633da546e6711c16c2",
    "collapsed": true
   },
   "outputs": [],
   "source": [
    "# augment train set\n",
    "band_1_train, band_2_train, angles_train, labels_train = \\\n",
    "    augment_data(band_1_train, band_2_train, angles_train, labels_train)"
   ]
  },
  {
   "cell_type": "markdown",
   "metadata": {
    "_cell_guid": "858c8b60-0fbb-482f-b83e-f5455c7cd2c0",
    "_uuid": "4b250de5e7c99ed5c514008a5bfc1666c52cd9d1"
   },
   "source": [
    "**Examine the shape of augmented data**"
   ]
  },
  {
   "cell_type": "code",
   "execution_count": 50,
   "metadata": {
    "_cell_guid": "aaf38ea0-f683-40d7-9830-72fccdf74d43",
    "_uuid": "bc0b27c8892a107a93a16ecc9754594fed11059c",
    "collapsed": true
   },
   "outputs": [
    {
     "name": "stdout",
     "output_type": "stream",
     "text": [
      "Shape of band_1_train: (16545, 75, 75)\n",
      "Shape of band_2_train: (16545, 75, 75)\n",
      "Shape of angles_train: (16545,)\n",
      "Shape of labels_train: (16545,)\n"
     ]
    }
   ],
   "source": [
    "print(\"Shape of band_1_train:\",band_1_train.shape)\n",
    "print(\"Shape of band_2_train:\",band_2_train.shape)\n",
    "print(\"Shape of angles_train:\",angles_train.shape)\n",
    "print(\"Shape of labels_train:\",labels_train.shape)"
   ]
  },
  {
   "cell_type": "markdown",
   "metadata": {
    "_cell_guid": "00f68f8f-dd57-430d-9a37-6fcbb9d96a88",
    "_uuid": "6210cd84ac3592a3afc8c9ca2b86ed82663c82d8"
   },
   "source": [
    "# **5. Concatenate the band1 and band2 data into 3D image**"
   ]
  },
  {
   "cell_type": "markdown",
   "metadata": {
    "_cell_guid": "149f153d-72f6-42a4-96a4-13f5ff572f14",
    "_uuid": "35691ccb27ed0abdffb2201795ba3fe588bec8c3"
   },
   "source": [
    "**Here we stack band_1, band_2, and average of the two to create a 3D image**"
   ]
  },
  {
   "cell_type": "code",
   "execution_count": 51,
   "metadata": {
    "_cell_guid": "5dd8ac27-559d-4460-bba2-fe1ddd55cf2a",
    "_uuid": "6f1bc08fbd08798e703c9d220d63b76a5869acf3",
    "collapsed": true
   },
   "outputs": [],
   "source": [
    "image_train = np.concatenate([band_1_train[:, :, :, np.newaxis],\n",
    "                             band_2_train[:, :, :, np.newaxis],\n",
    "                             ((band_1_train+band_2_train)/2)[:, :, :, np.newaxis]],\n",
    "                             axis=-1)"
   ]
  },
  {
   "cell_type": "code",
   "execution_count": 52,
   "metadata": {
    "_cell_guid": "e5e2b891-6285-4dd7-996b-1a032d8e401d",
    "_uuid": "49a5a584d7bd0410c6388c79ef0163cea4a10971",
    "collapsed": true
   },
   "outputs": [],
   "source": [
    "image_validation = np.concatenate([band_1_validation[:, :, :, np.newaxis],\n",
    "                             band_2_validation[:, :, :, np.newaxis],\n",
    "                             ((band_1_validation+band_2_validation)/2)[:, :, :, np.newaxis]],\n",
    "                             axis=-1)"
   ]
  },
  {
   "cell_type": "code",
   "execution_count": 53,
   "metadata": {
    "_cell_guid": "3a3c9324-f9bd-4caa-8eff-22fb65ada9a4",
    "_uuid": "3a8c2bbcc922e93ce4bde9ad1c7e3816943c143e",
    "collapsed": true
   },
   "outputs": [],
   "source": [
    "image_test = np.concatenate([band_1_test[:, :, :, np.newaxis],\n",
    "                             band_2_test[:, :, :, np.newaxis],\n",
    "                             ((band_1_test+band_2_test)/2)[:, :, :, np.newaxis]],\n",
    "                             axis=-1)"
   ]
  },
  {
   "cell_type": "code",
   "execution_count": 54,
   "metadata": {
    "_cell_guid": "d6e7f949-175a-414c-9cd6-633a5b97f35f",
    "_uuid": "5230a8714b07eff239b63e410f00c95be206ad48",
    "collapsed": true
   },
   "outputs": [],
   "source": [
    "# delete the unnecessary variables out of memory\n",
    "del(band_1_train, band_1_validation, band_1_test, band_2_train, band_2_validation, band_2_test)"
   ]
  },
  {
   "cell_type": "markdown",
   "metadata": {
    "_cell_guid": "5f09f9a1-fb44-4177-b0d6-56228c272e72",
    "_uuid": "a8cdc9ca9c0e22fde443064e9f9158ec1fbafe3a"
   },
   "source": [
    "**Examine the shape of 3D images**"
   ]
  },
  {
   "cell_type": "code",
   "execution_count": 55,
   "metadata": {
    "_cell_guid": "57a9e8ed-6939-4a4d-8263-2868ea460d99",
    "_uuid": "45b99a5d71fd8ed6b0a5fb96b5c43860d799991b",
    "collapsed": true
   },
   "outputs": [
    {
     "name": "stdout",
     "output_type": "stream",
     "text": [
      "Shape of image_train: (16545, 75, 75, 3)\n",
      "Shape of image_validation: (368, 75, 75, 3)\n",
      "Shape of image_test: (8424, 75, 75, 3)\n"
     ]
    }
   ],
   "source": [
    "print(\"Shape of image_train:\",image_train.shape)\n",
    "print(\"Shape of image_validation:\",image_validation.shape)\n",
    "print(\"Shape of image_test:\",image_test.shape)"
   ]
  },
  {
   "cell_type": "markdown",
   "metadata": {
    "_cell_guid": "489070f8-65d8-41bd-bbe7-4f75e51fa2cf",
    "_uuid": "384670c874a5d9a3a15b5695c272c83f1330600e"
   },
   "source": [
    "# **6. Creating Convolutional Neural Network**"
   ]
  },
  {
   "cell_type": "markdown",
   "metadata": {
    "_cell_guid": "0a899373-2b7d-411a-834a-1c8e11de5160",
    "_uuid": "26e48ef04d0fdc67dbcc721a7d1221fb9b92a478"
   },
   "source": [
    "**Import tensorflow and reset default graph**"
   ]
  },
  {
   "cell_type": "code",
   "execution_count": 56,
   "metadata": {
    "_cell_guid": "e898585c-3f91-4949-8400-1629a355e787",
    "_uuid": "d56bcf5c484d635476c67678c0c04e39261fb8d7",
    "collapsed": true
   },
   "outputs": [],
   "source": [
    "import tensorflow as tf\n",
    "from tensorflow.python.framework import ops\n",
    "ops.reset_default_graph()\n",
    "tf.set_random_seed(tf_rand_seed)\n",
    "# sess = tf.InteractiveSession()"
   ]
  },
  {
   "cell_type": "markdown",
   "metadata": {
    "_cell_guid": "556b305d-9d13-4262-b75d-07bad395d18b",
    "_uuid": "12a05a3dd884a6b0b226246de50a7b05cf44a826"
   },
   "source": [
    "## **6.1 One hot encoding labels**"
   ]
  },
  {
   "cell_type": "code",
   "execution_count": 57,
   "metadata": {
    "_cell_guid": "8482537b-d874-487e-8898-2ecbeded489b",
    "_uuid": "01a34b3c6936d379e7ab5be528500953e418abdb",
    "collapsed": true
   },
   "outputs": [],
   "source": [
    "labels_train = pd.get_dummies(labels_train).as_matrix()\n",
    "labels_validation = pd.get_dummies(labels_validation).as_matrix()"
   ]
  },
  {
   "cell_type": "code",
   "execution_count": 58,
   "metadata": {
    "_cell_guid": "dfd4f585-6ab3-4a9d-aa9d-b9ce01a76714",
    "_uuid": "96307318f83bf88ec1e55a17ecd0bb92dc052d7b",
    "collapsed": true
   },
   "outputs": [
    {
     "name": "stdout",
     "output_type": "stream",
     "text": [
      "Shape of labels_train: (16545, 2)\n",
      "Shape of labels_validation: (368, 2)\n"
     ]
    }
   ],
   "source": [
    "print(\"Shape of labels_train:\", labels_train.shape)\n",
    "print(\"Shape of labels_validation:\", labels_validation.shape)"
   ]
  },
  {
   "cell_type": "markdown",
   "metadata": {
    "_cell_guid": "97390423-6a4a-4574-94c7-9809791c41b9",
    "_uuid": "0f326c144fa38bd57254a30e0902116a62f2a701"
   },
   "source": [
    "## **6.2 Create placeholders**"
   ]
  },
  {
   "cell_type": "code",
   "execution_count": 59,
   "metadata": {
    "_cell_guid": "f96e9ef5-95bc-4994-abc1-a420f380bae1",
    "_uuid": "d309c64fed3e72bf8a41e929846eead2269b8149",
    "collapsed": true
   },
   "outputs": [],
   "source": [
    "# image dimensions\n",
    "width = 75\n",
    "height = 75\n",
    "num_channels = 3\n",
    "flat = width * height\n",
    "num_classes = 2"
   ]
  },
  {
   "cell_type": "markdown",
   "metadata": {
    "_cell_guid": "a9d96e2c-a453-4bcb-bd6c-10a48c80a25a",
    "_uuid": "bc1d45292d65a93ede00c9ed76515927d3a9e751"
   },
   "source": [
    "**Create placeholder for image, labels,  dropout keep probability, and optionally angle**"
   ]
  },
  {
   "cell_type": "code",
   "execution_count": 60,
   "metadata": {
    "_cell_guid": "fbe6dbf9-4dfc-4ecb-b234-013ce2864cc1",
    "_uuid": "faab2559119ab1dfc8b9c2c4ee267c484b5a35d3",
    "collapsed": true
   },
   "outputs": [],
   "source": [
    "image = tf.placeholder(tf.float32, shape=[None, height, width, num_channels])\n",
    "# angle = tf.placeholder(tf.float32, shape= [None, 1])\n",
    "y_true = tf.placeholder(tf.int32, shape=[None, num_classes])\n",
    "keep_prob = tf.placeholder(tf.float32)"
   ]
  },
  {
   "cell_type": "markdown",
   "metadata": {
    "_cell_guid": "9581cf50-b42f-4b02-a099-e30384b9adba",
    "_uuid": "14d3dbf31065d8c3be26430af935158895f23117"
   },
   "source": [
    "## **6.3 Create functions for creating deep learning layers**"
   ]
  },
  {
   "cell_type": "code",
   "execution_count": 61,
   "metadata": {
    "_cell_guid": "7f563768-ed77-4d6a-b8d8-11bb1eefbade",
    "_uuid": "4a4494877d9c18fe2b07af4d142d8e76fa3d1abc",
    "collapsed": true
   },
   "outputs": [],
   "source": [
    "def create_weights(shape):\n",
    "    '''a function to create weight tensor'''\n",
    "    return tf.Variable(tf.truncated_normal(shape, stddev=0.05))\n",
    " \n",
    "def create_biases(size):\n",
    "    '''a function to create bias tensor'''\n",
    "    return tf.Variable(tf.constant(0.05, shape=[size]))"
   ]
  },
  {
   "cell_type": "code",
   "execution_count": 62,
   "metadata": {
    "_cell_guid": "46c51707-7a6e-4cfb-bf9b-830b5d4ec204",
    "_uuid": "6238bc6006136867fbc5bd600933a7a9a05074c9",
    "collapsed": true
   },
   "outputs": [],
   "source": [
    "def create_convolutional_layer(input,\n",
    "                               num_input_channels,\n",
    "                               conv_filter_size,\n",
    "                               num_filters,\n",
    "                               max_pooling = True,\n",
    "                               max_pool_filter_size = 2):  \n",
    "    \n",
    "    '''a function to create convoutional layer'''\n",
    "    \n",
    "    # create filter for the convolutional layer\n",
    "    weights = create_weights(shape=[conv_filter_size, conv_filter_size, num_input_channels, num_filters])\n",
    "    \n",
    "    # create biases\n",
    "    biases = create_biases(num_filters)\n",
    "    \n",
    "    # create covolutional layer\n",
    "    layer = tf.nn.conv2d(input=input,\n",
    "                     filter=weights,\n",
    "                     strides=[1, 1, 1, 1],\n",
    "                     padding='SAME')\n",
    "    \n",
    "    # add the bias to the convolutional layer\n",
    "    layer += biases\n",
    "    \n",
    "    # relu activation layer fed into layer\n",
    "    layer = tf.nn.relu(layer)\n",
    "    \n",
    "    # if the user wants max pooling\n",
    "    if max_pooling:\n",
    "        layer = tf.nn.max_pool(value=layer,\n",
    "                                ksize=[1, max_pool_filter_size, max_pool_filter_size, 1],\n",
    "                                strides=[1, 2, 2, 1],\n",
    "                                padding='SAME')\n",
    "        \n",
    "    # return the output layer of the convolution\n",
    "    return layer"
   ]
  },
  {
   "cell_type": "code",
   "execution_count": 63,
   "metadata": {
    "_cell_guid": "31172ffc-01bd-4c09-aefa-d8f4bb19f944",
    "_uuid": "8d97660a66941ab4374cd6a6d54376f0ba4c8982",
    "collapsed": true
   },
   "outputs": [],
   "source": [
    "def create_flatten_layer(layer):\n",
    "    \n",
    "    '''a function for creating flattened layer from convolutional output'''\n",
    "    \n",
    "    # extract the shape of the layer\n",
    "    layer_shape = layer.get_shape()\n",
    "    # calculate the number features of the flattened layer\n",
    "    num_features = layer_shape[1:4].num_elements()\n",
    "    # create the flattened layer\n",
    "    layer = tf.reshape(layer, [-1, num_features])\n",
    "    # return the layer\n",
    "    return layer"
   ]
  },
  {
   "cell_type": "code",
   "execution_count": 64,
   "metadata": {
    "_cell_guid": "89c03a25-c9ea-45f2-bf57-1e539e303a8a",
    "_uuid": "8d94f5193f6fd1c610574eeb345091853b4815ae",
    "collapsed": true
   },
   "outputs": [],
   "source": [
    "def create_fc_layer(input,          \n",
    "                    num_inputs,    \n",
    "                    num_outputs,\n",
    "                    use_relu=True,\n",
    "                    dropout = False, \n",
    "                    keep_prob = 0.2):\n",
    "    \n",
    "    '''a function for creating fully connected layer'''\n",
    "    \n",
    "    #Let's define trainable weights and biases.\n",
    "    weights = create_weights(shape=[num_inputs, num_outputs])\n",
    "    biases = create_biases(num_outputs)\n",
    "    \n",
    "    # matrix multiplication between input and weight matrix\n",
    "    layer = tf.matmul(input, weights) + biases\n",
    "    \n",
    "    # add relu activation if wanted\n",
    "    if use_relu:\n",
    "        layer = tf.nn.relu(layer)\n",
    "        \n",
    "    # if dropout is wanted add dropout\n",
    "    if dropout:        \n",
    "        layer = tf.nn.dropout(layer, keep_prob)\n",
    "    \n",
    "    # return layer\n",
    "    return layer"
   ]
  },
  {
   "cell_type": "markdown",
   "metadata": {
    "_cell_guid": "733844d6-ad60-4267-9d56-dee86b4b80fb",
    "_uuid": "8757842d89257cc9e43957de412a0536179475da"
   },
   "source": [
    "## **6.4 Create Layers of Covnet**"
   ]
  },
  {
   "cell_type": "code",
   "execution_count": 65,
   "metadata": {
    "_cell_guid": "dc7f32ea-5387-4e76-a234-5bcbd0aeb360",
    "_uuid": "be7fa26badd1f22aa94f45bf410509b8fce2515f",
    "collapsed": true
   },
   "outputs": [],
   "source": [
    "# paramters for 1st convolutional layer\n",
    "conv1_features = 32\n",
    "conv1_filter_size = 3\n",
    "max_pool_size1 = 2\n",
    "\n",
    "## paramters for 2nd convolutional layer\n",
    "conv2_features = 64\n",
    "conv2_filter_size = 3\n",
    "max_pool_size2 = 2\n",
    "\n",
    "# paramters for convolutional inception layer 2.1\n",
    "conv31_features = 32\n",
    "conv31_filter_size = 5\n",
    "\n",
    "# paramters for convolutional inception layer 2.2\n",
    "conv32_features = 32\n",
    "conv32_filter_size = 3\n",
    "\n",
    "# paramters for convolutional inception layer 2.3\n",
    "conv33_features = 32\n",
    "conv33_filter_size = 1\n",
    "\n",
    "# parameters for maxpooling layer of inception 2.4\n",
    "max_pool_size34 = 3\n",
    "\n",
    "# parameters for final avg pooling layer\n",
    "avg_pool_size4 = 3\n",
    "\n",
    "# number of featuers of 1st fully connected layer\n",
    "fc_layer_size1 = 512\n",
    "\n",
    "# number of featuers of 2nd fully connected layer\n",
    "fc_layer_size2 = 256"
   ]
  },
  {
   "cell_type": "markdown",
   "metadata": {
    "_cell_guid": "46215e33-9f44-4051-8f6b-2b26d97f01ec",
    "_uuid": "ec02a2a96d8b7caaaf462683ee139d59dc639afb"
   },
   "source": [
    "**Create convolutional layer 1**"
   ]
  },
  {
   "cell_type": "code",
   "execution_count": 66,
   "metadata": {
    "_cell_guid": "8395723a-7061-40ba-86c3-bc67d02dd90d",
    "_uuid": "83240829d931db0742a5a82ae9c8cf3d1f2bd957",
    "collapsed": true
   },
   "outputs": [
    {
     "data": {
      "text/plain": [
       "<tf.Tensor 'MaxPool:0' shape=(?, 38, 38, 32) dtype=float32>"
      ]
     },
     "execution_count": 66,
     "metadata": {},
     "output_type": "execute_result"
    }
   ],
   "source": [
    "layer_conv1 = create_convolutional_layer(input=image,\n",
    "                                         num_input_channels= num_channels,\n",
    "                                         conv_filter_size = conv1_filter_size,\n",
    "                                         num_filters = conv1_features,\n",
    "                                         max_pooling = True, \n",
    "                                         max_pool_filter_size = max_pool_size1)\n",
    "layer_conv1"
   ]
  },
  {
   "cell_type": "markdown",
   "metadata": {
    "_uuid": "b6772fafabb2830b084a484e2b9df6511317f7a7"
   },
   "source": [
    "**Create convolutional layer2**"
   ]
  },
  {
   "cell_type": "code",
   "execution_count": 67,
   "metadata": {
    "_uuid": "6ec3ec5d82b771d122deb6bfec7a4a9914bebc83",
    "collapsed": true
   },
   "outputs": [
    {
     "data": {
      "text/plain": [
       "<tf.Tensor 'MaxPool_1:0' shape=(?, 19, 19, 64) dtype=float32>"
      ]
     },
     "execution_count": 67,
     "metadata": {},
     "output_type": "execute_result"
    }
   ],
   "source": [
    "layer_conv2 = create_convolutional_layer(input=layer_conv1,\n",
    "                                         num_input_channels= conv1_features,\n",
    "                                         conv_filter_size = conv2_filter_size,\n",
    "                                         num_filters = conv2_features,\n",
    "                                         max_pooling = True, \n",
    "                                         max_pool_filter_size = max_pool_size2)\n",
    "layer_conv2"
   ]
  },
  {
   "cell_type": "markdown",
   "metadata": {
    "_cell_guid": "56ebb6fe-b0c2-4e67-accd-e912ed7baeb4",
    "_uuid": "39a726eab1eb99ff4da8921060bb33f03a7d9335"
   },
   "source": [
    "**Create inception convolutional layer 3.1**"
   ]
  },
  {
   "cell_type": "code",
   "execution_count": 68,
   "metadata": {
    "_cell_guid": "490ffd07-c4ca-40c0-b9d6-48364fc9a242",
    "_uuid": "e12dfae3bcadd8ebbe8fdd7e398f85b822e55615",
    "collapsed": true
   },
   "outputs": [
    {
     "data": {
      "text/plain": [
       "<tf.Tensor 'Relu_2:0' shape=(?, 19, 19, 32) dtype=float32>"
      ]
     },
     "execution_count": 68,
     "metadata": {},
     "output_type": "execute_result"
    }
   ],
   "source": [
    "layer_conv31 = create_convolutional_layer(input=layer_conv2,\n",
    "                                         num_input_channels= conv2_features,\n",
    "                                         conv_filter_size = conv31_filter_size,\n",
    "                                         num_filters = conv31_features,\n",
    "                                         max_pooling = False)\n",
    "layer_conv31"
   ]
  },
  {
   "cell_type": "markdown",
   "metadata": {
    "_cell_guid": "641313b1-8324-4aa4-9c7b-0992afcf7db1",
    "_uuid": "8aaeab46a0a75569fcfe42f17ff995fe80975811"
   },
   "source": [
    "**Create inception convolutional layer 3.2**"
   ]
  },
  {
   "cell_type": "code",
   "execution_count": 69,
   "metadata": {
    "_cell_guid": "245e200d-cec8-4b1a-8ff4-4bbfe9ff1134",
    "_uuid": "5f2940f265c34616882056afec21ed207adf1d90",
    "collapsed": true
   },
   "outputs": [
    {
     "data": {
      "text/plain": [
       "<tf.Tensor 'Relu_3:0' shape=(?, 19, 19, 32) dtype=float32>"
      ]
     },
     "execution_count": 69,
     "metadata": {},
     "output_type": "execute_result"
    }
   ],
   "source": [
    "layer_conv32 = create_convolutional_layer(input=layer_conv2,\n",
    "                                         num_input_channels= conv2_features,\n",
    "                                         conv_filter_size = conv32_filter_size,\n",
    "                                         num_filters = conv32_features,\n",
    "                                         max_pooling = False)\n",
    "layer_conv32"
   ]
  },
  {
   "cell_type": "markdown",
   "metadata": {
    "_uuid": "b69f1217d34fe501d9498ff165a6f949cd58336e"
   },
   "source": [
    "**Create inception convolutional layer 3.3**"
   ]
  },
  {
   "cell_type": "code",
   "execution_count": 70,
   "metadata": {
    "_uuid": "0ec355a331e3d0be187e66a581b3271d680b50a8",
    "collapsed": true
   },
   "outputs": [
    {
     "data": {
      "text/plain": [
       "<tf.Tensor 'Relu_4:0' shape=(?, 19, 19, 32) dtype=float32>"
      ]
     },
     "execution_count": 70,
     "metadata": {},
     "output_type": "execute_result"
    }
   ],
   "source": [
    "layer_conv33 = create_convolutional_layer(input=layer_conv2,\n",
    "                                         num_input_channels= conv2_features,\n",
    "                                         conv_filter_size = conv33_filter_size,\n",
    "                                         num_filters = conv33_features,\n",
    "                                         max_pooling = False)\n",
    "layer_conv33"
   ]
  },
  {
   "cell_type": "markdown",
   "metadata": {
    "_uuid": "4eee41b6dd355ee2aed496a498e9f9d3737af6ac"
   },
   "source": [
    "**Create max pooling layer of inception**"
   ]
  },
  {
   "cell_type": "code",
   "execution_count": 71,
   "metadata": {
    "_uuid": "d9c16d81adf5277c6e83e5f8e60bbc741d52acc2",
    "collapsed": true
   },
   "outputs": [
    {
     "data": {
      "text/plain": [
       "<tf.Tensor 'MaxPool_2:0' shape=(?, 19, 19, 64) dtype=float32>"
      ]
     },
     "execution_count": 71,
     "metadata": {},
     "output_type": "execute_result"
    }
   ],
   "source": [
    "layer_conv34 = tf.nn.max_pool(value=layer_conv2,\n",
    "                              ksize=[1, max_pool_size34, max_pool_size34, 1],\n",
    "                              strides=[1, 1, 1, 1],\n",
    "                              padding='SAME')\n",
    "layer_conv34"
   ]
  },
  {
   "cell_type": "markdown",
   "metadata": {
    "_uuid": "b1d29d3c0c7dc10e792cdb96bf199f12d463ecf5"
   },
   "source": [
    "**Combine the outputs of the inception layer**"
   ]
  },
  {
   "cell_type": "code",
   "execution_count": 72,
   "metadata": {
    "_uuid": "8a0cabc6acb31bcd6a99162c03de5dc15c38436f",
    "collapsed": true
   },
   "outputs": [
    {
     "data": {
      "text/plain": [
       "<tf.Tensor 'concat:0' shape=(?, 19, 19, 160) dtype=float32>"
      ]
     },
     "execution_count": 72,
     "metadata": {},
     "output_type": "execute_result"
    }
   ],
   "source": [
    "inception_output = tf.concat((layer_conv31, layer_conv32, layer_conv33,layer_conv34), axis=3)\n",
    "inception_output"
   ]
  },
  {
   "cell_type": "markdown",
   "metadata": {
    "_uuid": "4c216b278c76034bd6aaaf77ceae82b99a0b01a3"
   },
   "source": [
    "**Final Avg pooling layer**"
   ]
  },
  {
   "cell_type": "code",
   "execution_count": 73,
   "metadata": {
    "_uuid": "fb54d8736b5e57480e09f5caeee638ca19410f28",
    "collapsed": true
   },
   "outputs": [
    {
     "data": {
      "text/plain": [
       "<tf.Tensor 'AvgPool:0' shape=(?, 10, 10, 160) dtype=float32>"
      ]
     },
     "execution_count": 73,
     "metadata": {},
     "output_type": "execute_result"
    }
   ],
   "source": [
    "final_max_pool_layer  = tf.nn.avg_pool(value=inception_output,\n",
    "                                       ksize=[1, avg_pool_size4, avg_pool_size4, 1],\n",
    "                                       strides=[1, 2, 2, 1],\n",
    "                                       padding='SAME')\n",
    "final_max_pool_layer"
   ]
  },
  {
   "cell_type": "markdown",
   "metadata": {
    "_cell_guid": "447be3ea-65bf-4849-90e0-d5f137f4dfae",
    "_uuid": "c0d1fba42eeffc8449a05226b821b78b5467304a"
   },
   "source": [
    "**Flatten the output of last convolutional layer**"
   ]
  },
  {
   "cell_type": "code",
   "execution_count": 74,
   "metadata": {
    "_cell_guid": "165e82a2-3eb2-4e4a-9894-3721f07b38fb",
    "_uuid": "0029beae7c95206075edaca6476b8202abfd4e70",
    "collapsed": true
   },
   "outputs": [
    {
     "data": {
      "text/plain": [
       "<tf.Tensor 'Reshape:0' shape=(?, 16000) dtype=float32>"
      ]
     },
     "execution_count": 74,
     "metadata": {},
     "output_type": "execute_result"
    }
   ],
   "source": [
    "layer_flat = create_flatten_layer(final_max_pool_layer)\n",
    "layer_flat"
   ]
  },
  {
   "cell_type": "markdown",
   "metadata": {
    "_cell_guid": "1b13e8cd-5569-411d-8842-0e8a3f37c715",
    "_uuid": "71663fb30a168b87d17fe22af7540f75ab5063f1"
   },
   "source": [
    "**Create the first fully connected layer**"
   ]
  },
  {
   "cell_type": "code",
   "execution_count": 75,
   "metadata": {
    "_cell_guid": "68bcfb64-2a79-4ae0-b5b9-ee5b4ddd10a6",
    "_uuid": "19cd20866f5fb39458636733dde47051acf6a6c2",
    "collapsed": true
   },
   "outputs": [
    {
     "data": {
      "text/plain": [
       "<tf.Tensor 'dropout/mul:0' shape=(?, 512) dtype=float32>"
      ]
     },
     "execution_count": 75,
     "metadata": {},
     "output_type": "execute_result"
    }
   ],
   "source": [
    "layer_fc1 = create_fc_layer(input=layer_flat,\n",
    "                            num_inputs=layer_flat.get_shape()[1:4].num_elements(),\n",
    "                            num_outputs=fc_layer_size1,\n",
    "                            use_relu=True,\n",
    "                            dropout =True,\n",
    "                            keep_prob = keep_prob)\n",
    "layer_fc1"
   ]
  },
  {
   "cell_type": "markdown",
   "metadata": {
    "_cell_guid": "362493b5-55d7-4a89-b8f3-389e38f9d51e",
    "_uuid": "078052726a28c5d4d5c1bfe3f6e1f771f68682d6"
   },
   "source": [
    "**Create the second  fully connected layer**"
   ]
  },
  {
   "cell_type": "code",
   "execution_count": 76,
   "metadata": {
    "_cell_guid": "e739c54b-eff2-4ddd-88b0-772862b49fcb",
    "_uuid": "51b1fe669b6d40ec320e1fe18dd75fa287580325",
    "collapsed": true
   },
   "outputs": [
    {
     "data": {
      "text/plain": [
       "<tf.Tensor 'dropout_1/mul:0' shape=(?, 256) dtype=float32>"
      ]
     },
     "execution_count": 76,
     "metadata": {},
     "output_type": "execute_result"
    }
   ],
   "source": [
    "layer_fc2 = create_fc_layer(input=layer_fc1,\n",
    "                            num_inputs=fc_layer_size1,\n",
    "                            num_outputs=fc_layer_size2,\n",
    "                            use_relu=True,\n",
    "                            dropout =True,\n",
    "                            keep_prob = keep_prob)\n",
    "layer_fc2"
   ]
  },
  {
   "cell_type": "markdown",
   "metadata": {
    "_cell_guid": "d875e8a1-456a-4db1-b4a6-59da827bfb29",
    "_uuid": "da257d4d2aee1d94cda2a11de7f8b4b08743bbc6"
   },
   "source": [
    "**Create the output layer**"
   ]
  },
  {
   "cell_type": "code",
   "execution_count": 77,
   "metadata": {
    "_cell_guid": "417abe95-a10e-47d9-924d-17b8536560fe",
    "_uuid": "b9be66ace22a4dda6292bbed115dbdb19a2fbd44",
    "collapsed": true
   },
   "outputs": [
    {
     "data": {
      "text/plain": [
       "<tf.Tensor 'add_7:0' shape=(?, 2) dtype=float32>"
      ]
     },
     "execution_count": 77,
     "metadata": {},
     "output_type": "execute_result"
    }
   ],
   "source": [
    "output_layer = create_fc_layer(input=layer_fc2,\n",
    "                     num_inputs = fc_layer_size2,\n",
    "                     num_outputs = num_classes,\n",
    "                     use_relu=False)\n",
    "output_layer"
   ]
  },
  {
   "cell_type": "markdown",
   "metadata": {
    "_cell_guid": "65fdd93d-837d-451d-a8f1-d062a3c128f7",
    "_uuid": "399cb0b3d7ab28317b80c5223f0235dc1f043c94"
   },
   "source": [
    "## **6.5 Create prediction & accuracy metric**"
   ]
  },
  {
   "cell_type": "code",
   "execution_count": 78,
   "metadata": {
    "_cell_guid": "bda3d034-92ec-4551-b6c6-a0bbbf0e227b",
    "_uuid": "7867e90b3d4f84e14f21a17193d1635b7c4dc9af",
    "collapsed": true
   },
   "outputs": [],
   "source": [
    "# softmax operation on the output layer\n",
    "y_pred = tf.nn.softmax(output_layer)\n",
    "# extract the vector of predicted class\n",
    "y_pred_cls = tf.argmax(y_pred, axis=1, output_type=tf.int32)\n",
    "# extract the vector of labels\n",
    "y_true_cls = tf.argmax(y_true, axis=1, output_type=tf.int32)"
   ]
  },
  {
   "cell_type": "code",
   "execution_count": 79,
   "metadata": {
    "_cell_guid": "32a17e5a-1ad6-419b-94b5-7821462281d6",
    "_uuid": "f1f266f8f5295489d75d280290d04edca7b68e48",
    "collapsed": true
   },
   "outputs": [],
   "source": [
    "# extract the vector of correct prediction\n",
    "correct_prediction = tf.equal(y_pred_cls, y_true_cls)\n",
    "# operation to calculate accuracy\n",
    "accuracy = tf.reduce_mean(tf.cast(correct_prediction, tf.float32))"
   ]
  },
  {
   "cell_type": "markdown",
   "metadata": {
    "_cell_guid": "a839a5ce-81ac-444d-a539-27bc7b2b31e6",
    "_uuid": "a231ed620c1235ecb1d9a67424050579964c053a"
   },
   "source": [
    "## **6.6 Create Optimizer**"
   ]
  },
  {
   "cell_type": "code",
   "execution_count": 80,
   "metadata": {
    "_cell_guid": "95eaf536-4f2f-4e8e-b657-eb2ac917531c",
    "_uuid": "954598ebd2b0bd919007750b2c9109b37fefadd8",
    "collapsed": true
   },
   "outputs": [],
   "source": [
    "# operation to calculate cross entropy\n",
    "cross_entropy = tf.nn.softmax_cross_entropy_with_logits_v2(logits=output_layer,\n",
    "                                                    labels=y_true)\n",
    "# mean of cross entropy to act as the loss\n",
    "loss = tf.reduce_mean(cross_entropy)"
   ]
  },
  {
   "cell_type": "code",
   "execution_count": 81,
   "metadata": {
    "_cell_guid": "cb63c693-3541-4ce9-be66-7e2cf217010d",
    "_uuid": "7cf565d4965fbe220672deb528624ba2f52b4019",
    "collapsed": true
   },
   "outputs": [],
   "source": [
    "# sess.run(tf.global_variables_initializer())\n",
    "# loss.eval(feed_dict={image: image_validation,\n",
    "#                          angle: np.transpose([angles_validation]),\n",
    "#                          y_true: labels_validation, keep_prob: 1.0})"
   ]
  },
  {
   "cell_type": "code",
   "execution_count": 82,
   "metadata": {
    "_cell_guid": "c454b3f6-0eff-4bf6-b570-05fb943965a8",
    "_uuid": "ecf00f144bbb9de1643b4c0bb083e32bb54f1ade",
    "collapsed": true
   },
   "outputs": [],
   "source": [
    "# learning rate of optimizer\n",
    "learning_rate = (1e-3)*0.50\n",
    "# train step\n",
    "train_step = tf.train.AdamOptimizer(learning_rate=learning_rate).minimize(loss)"
   ]
  },
  {
   "cell_type": "markdown",
   "metadata": {
    "_cell_guid": "f2cf65c5-62f8-4cbf-b93f-130e883fc3bf",
    "_uuid": "929dd90ea76f7ab14457483f6e85caec6251fd2a"
   },
   "source": [
    "# **7. Train Model**"
   ]
  },
  {
   "cell_type": "code",
   "execution_count": 83,
   "metadata": {
    "_cell_guid": "9a0d2e0d-6018-4d59-9b02-f8f0407e176d",
    "_uuid": "54c303483cdc7e442e07e642ccb5e14bc58f78b9",
    "collapsed": true
   },
   "outputs": [],
   "source": [
    "# lists to store the train loss, validation loss, validation accuracy at each iteration\n",
    "train_loss = []\n",
    "valid_loss = []\n",
    "valid_acc = []\n",
    "\n",
    "# batch size\n",
    "batch_size = 255\n",
    "# max iteration\n",
    "max_iter = 600"
   ]
  },
  {
   "cell_type": "markdown",
   "metadata": {
    "_cell_guid": "1b162bee-89fb-47a3-a293-e366fd2ce5c9",
    "_uuid": "8b66b331e1e01188131ae697a9a093818f022faf"
   },
   "source": [
    "**Here we train and save the model with the highest accuracy or lowest loss. But here I think it is wise to save the model with lowest loss**"
   ]
  },
  {
   "cell_type": "code",
   "execution_count": 84,
   "metadata": {
    "_cell_guid": "a7c419a1-ed67-4773-86d3-5978a5699326",
    "_uuid": "4209c04412d1637d8193fb7e54c5963cfc0d8391",
    "collapsed": true,
    "scrolled": false
   },
   "outputs": [
    {
     "name": "stdout",
     "output_type": "stream",
     "text": [
      "iterations: 0 | train_loss: 3.1259 | validation_loss: 3.65273 | valid_accuracy: 0.505435\n",
      "iterations: 1 | train_loss: 1.39421 | validation_loss: 1.40673 | valid_accuracy: 0.505435\n",
      "iterations: 2 | train_loss: 0.74178 | validation_loss: 0.742867 | valid_accuracy: 0.494565\n",
      "iterations: 3 | train_loss: 0.997936 | validation_loss: 0.983365 | valid_accuracy: 0.494565\n",
      "iterations: 4 | train_loss: 0.840401 | validation_loss: 0.85963 | valid_accuracy: 0.494565\n",
      "iterations: 5 | train_loss: 0.73869 | validation_loss: 0.719729 | valid_accuracy: 0.494565\n",
      "iterations: 6 | train_loss: 0.68492 | validation_loss: 0.690145 | valid_accuracy: 0.508152\n",
      "iterations: 7 | train_loss: 0.733843 | validation_loss: 0.717108 | valid_accuracy: 0.505435\n",
      "iterations: 8 | train_loss: 0.686719 | validation_loss: 0.754491 | valid_accuracy: 0.505435\n",
      "iterations: 9 | train_loss: 0.725174 | validation_loss: 0.769021 | valid_accuracy: 0.505435\n",
      "iterations: 10 | train_loss: 0.725894 | validation_loss: 0.750458 | valid_accuracy: 0.505435\n",
      "iterations: 11 | train_loss: 0.731508 | validation_loss: 0.716021 | valid_accuracy: 0.505435\n",
      "iterations: 12 | train_loss: 0.69601 | validation_loss: 0.69313 | valid_accuracy: 0.505435\n",
      "iterations: 13 | train_loss: 0.675693 | validation_loss: 0.687457 | valid_accuracy: 0.527174\n",
      "iterations: 14 | train_loss: 0.687401 | validation_loss: 0.687755 | valid_accuracy: 0.519022\n",
      "iterations: 15 | train_loss: 0.688427 | validation_loss: 0.689104 | valid_accuracy: 0.497283\n",
      "iterations: 16 | train_loss: 0.687106 | validation_loss: 0.688519 | valid_accuracy: 0.5\n",
      "iterations: 17 | train_loss: 0.685589 | validation_loss: 0.686829 | valid_accuracy: 0.543478\n",
      "iterations: 18 | train_loss: 0.679127 | validation_loss: 0.685814 | valid_accuracy: 0.611413\n",
      "iterations: 19 | train_loss: 0.686614 | validation_loss: 0.686812 | valid_accuracy: 0.524457\n",
      "iterations: 20 | train_loss: 0.69391 | validation_loss: 0.689042 | valid_accuracy: 0.508152\n",
      "iterations: 21 | train_loss: 0.684741 | validation_loss: 0.691734 | valid_accuracy: 0.505435\n",
      "iterations: 22 | train_loss: 0.68481 | validation_loss: 0.693539 | valid_accuracy: 0.505435\n",
      "iterations: 23 | train_loss: 0.699532 | validation_loss: 0.693039 | valid_accuracy: 0.505435\n",
      "iterations: 24 | train_loss: 0.68736 | validation_loss: 0.691512 | valid_accuracy: 0.505435\n",
      "iterations: 25 | train_loss: 0.688621 | validation_loss: 0.688818 | valid_accuracy: 0.516304\n",
      "iterations: 26 | train_loss: 0.67286 | validation_loss: 0.686265 | valid_accuracy: 0.529891\n",
      "iterations: 27 | train_loss: 0.680432 | validation_loss: 0.683758 | valid_accuracy: 0.567935\n",
      "iterations: 28 | train_loss: 0.668335 | validation_loss: 0.682283 | valid_accuracy: 0.597826\n",
      "iterations: 29 | train_loss: 0.680103 | validation_loss: 0.680541 | valid_accuracy: 0.619565\n",
      "iterations: 30 | train_loss: 0.671708 | validation_loss: 0.679283 | valid_accuracy: 0.633152\n",
      "iterations: 31 | train_loss: 0.676298 | validation_loss: 0.677978 | valid_accuracy: 0.649457\n",
      "iterations: 32 | train_loss: 0.671002 | validation_loss: 0.6768 | valid_accuracy: 0.641304\n",
      "iterations: 33 | train_loss: 0.670522 | validation_loss: 0.675632 | valid_accuracy: 0.646739\n",
      "iterations: 34 | train_loss: 0.662393 | validation_loss: 0.674263 | valid_accuracy: 0.638587\n",
      "iterations: 35 | train_loss: 0.668684 | validation_loss: 0.672976 | valid_accuracy: 0.638587\n",
      "iterations: 36 | train_loss: 0.667219 | validation_loss: 0.67245 | valid_accuracy: 0.638587\n",
      "iterations: 37 | train_loss: 0.665778 | validation_loss: 0.672184 | valid_accuracy: 0.638587\n",
      "iterations: 38 | train_loss: 0.656693 | validation_loss: 0.672516 | valid_accuracy: 0.625\n",
      "iterations: 39 | train_loss: 0.670384 | validation_loss: 0.671169 | valid_accuracy: 0.625\n",
      "iterations: 40 | train_loss: 0.658915 | validation_loss: 0.668478 | valid_accuracy: 0.641304\n",
      "iterations: 41 | train_loss: 0.650226 | validation_loss: 0.665852 | valid_accuracy: 0.641304\n",
      "iterations: 42 | train_loss: 0.627547 | validation_loss: 0.66382 | valid_accuracy: 0.641304\n",
      "iterations: 43 | train_loss: 0.633786 | validation_loss: 0.661425 | valid_accuracy: 0.641304\n",
      "iterations: 44 | train_loss: 0.647135 | validation_loss: 0.658392 | valid_accuracy: 0.644022\n",
      "iterations: 45 | train_loss: 0.643824 | validation_loss: 0.655032 | valid_accuracy: 0.641304\n",
      "iterations: 46 | train_loss: 0.631047 | validation_loss: 0.652381 | valid_accuracy: 0.627717\n",
      "iterations: 47 | train_loss: 0.640884 | validation_loss: 0.650085 | valid_accuracy: 0.595109\n",
      "iterations: 48 | train_loss: 0.636198 | validation_loss: 0.649795 | valid_accuracy: 0.5625\n",
      "iterations: 49 | train_loss: 0.643371 | validation_loss: 0.646885 | valid_accuracy: 0.567935\n",
      "iterations: 50 | train_loss: 0.64203 | validation_loss: 0.643188 | valid_accuracy: 0.570652\n",
      "iterations: 51 | train_loss: 0.58943 | validation_loss: 0.638814 | valid_accuracy: 0.633152\n",
      "iterations: 52 | train_loss: 0.623264 | validation_loss: 0.637632 | valid_accuracy: 0.649457\n",
      "iterations: 53 | train_loss: 0.595639 | validation_loss: 0.634336 | valid_accuracy: 0.652174\n",
      "iterations: 54 | train_loss: 0.58714 | validation_loss: 0.627546 | valid_accuracy: 0.646739\n",
      "iterations: 55 | train_loss: 0.621042 | validation_loss: 0.62329 | valid_accuracy: 0.616848\n",
      "iterations: 56 | train_loss: 0.588181 | validation_loss: 0.620447 | valid_accuracy: 0.608696\n",
      "iterations: 57 | train_loss: 0.557636 | validation_loss: 0.615317 | valid_accuracy: 0.646739\n",
      "iterations: 58 | train_loss: 0.568943 | validation_loss: 0.611674 | valid_accuracy: 0.663043\n",
      "iterations: 59 | train_loss: 0.558753 | validation_loss: 0.611066 | valid_accuracy: 0.673913\n",
      "iterations: 60 | train_loss: 0.606503 | validation_loss: 0.608882 | valid_accuracy: 0.679348\n",
      "iterations: 61 | train_loss: 0.58907 | validation_loss: 0.60327 | valid_accuracy: 0.690217\n",
      "iterations: 62 | train_loss: 0.535558 | validation_loss: 0.607605 | valid_accuracy: 0.701087\n",
      "iterations: 63 | train_loss: 0.565849 | validation_loss: 0.587738 | valid_accuracy: 0.69837\n",
      "iterations: 64 | train_loss: 0.592183 | validation_loss: 0.570132 | valid_accuracy: 0.67663\n",
      "iterations: 65 | train_loss: 0.544119 | validation_loss: 0.560076 | valid_accuracy: 0.673913\n",
      "iterations: 66 | train_loss: 0.580605 | validation_loss: 0.55746 | valid_accuracy: 0.730978\n",
      "iterations: 67 | train_loss: 0.576397 | validation_loss: 0.562814 | valid_accuracy: 0.720109\n",
      "iterations: 68 | train_loss: 0.55567 | validation_loss: 0.553802 | valid_accuracy: 0.722826\n",
      "iterations: 69 | train_loss: 0.566709 | validation_loss: 0.524233 | valid_accuracy: 0.747283\n",
      "iterations: 70 | train_loss: 0.538647 | validation_loss: 0.510151 | valid_accuracy: 0.747283\n",
      "iterations: 71 | train_loss: 0.534871 | validation_loss: 0.506055 | valid_accuracy: 0.755435\n",
      "iterations: 72 | train_loss: 0.498849 | validation_loss: 0.497437 | valid_accuracy: 0.771739\n",
      "iterations: 73 | train_loss: 0.517688 | validation_loss: 0.530656 | valid_accuracy: 0.728261\n",
      "iterations: 74 | train_loss: 0.502882 | validation_loss: 0.496397 | valid_accuracy: 0.755435\n",
      "iterations: 75 | train_loss: 0.48575 | validation_loss: 0.461371 | valid_accuracy: 0.790761\n",
      "iterations: 76 | train_loss: 0.449278 | validation_loss: 0.447026 | valid_accuracy: 0.798913\n",
      "iterations: 77 | train_loss: 0.457293 | validation_loss: 0.450078 | valid_accuracy: 0.788043\n",
      "iterations: 78 | train_loss: 0.49746 | validation_loss: 0.464297 | valid_accuracy: 0.769022\n",
      "iterations: 79 | train_loss: 0.426154 | validation_loss: 0.431357 | valid_accuracy: 0.796196\n",
      "iterations: 80 | train_loss: 0.417926 | validation_loss: 0.416926 | valid_accuracy: 0.817935\n",
      "iterations: 81 | train_loss: 0.42954 | validation_loss: 0.466985 | valid_accuracy: 0.769022\n",
      "iterations: 82 | train_loss: 0.444186 | validation_loss: 0.432365 | valid_accuracy: 0.785326\n",
      "iterations: 83 | train_loss: 0.405911 | validation_loss: 0.401269 | valid_accuracy: 0.826087\n",
      "iterations: 84 | train_loss: 0.43322 | validation_loss: 0.383217 | valid_accuracy: 0.836957\n",
      "iterations: 85 | train_loss: 0.401559 | validation_loss: 0.434497 | valid_accuracy: 0.779891\n",
      "iterations: 86 | train_loss: 0.44297 | validation_loss: 0.426596 | valid_accuracy: 0.788043\n",
      "iterations: 87 | train_loss: 0.451449 | validation_loss: 0.368134 | valid_accuracy: 0.845109\n",
      "iterations: 88 | train_loss: 0.419693 | validation_loss: 0.36203 | valid_accuracy: 0.86413\n",
      "iterations: 89 | train_loss: 0.441554 | validation_loss: 0.441637 | valid_accuracy: 0.763587\n",
      "iterations: 90 | train_loss: 0.408922 | validation_loss: 0.419261 | valid_accuracy: 0.793478\n",
      "iterations: 91 | train_loss: 0.407295 | validation_loss: 0.353343 | valid_accuracy: 0.855978\n",
      "iterations: 92 | train_loss: 0.367552 | validation_loss: 0.354944 | valid_accuracy: 0.845109\n",
      "iterations: 93 | train_loss: 0.455356 | validation_loss: 0.355418 | valid_accuracy: 0.855978\n",
      "iterations: 94 | train_loss: 0.368242 | validation_loss: 0.36864 | valid_accuracy: 0.853261\n",
      "iterations: 95 | train_loss: 0.411635 | validation_loss: 0.369428 | valid_accuracy: 0.847826\n",
      "iterations: 96 | train_loss: 0.403517 | validation_loss: 0.335156 | valid_accuracy: 0.872283\n",
      "iterations: 97 | train_loss: 0.396014 | validation_loss: 0.335661 | valid_accuracy: 0.861413\n",
      "iterations: 98 | train_loss: 0.401001 | validation_loss: 0.326402 | valid_accuracy: 0.875\n",
      "iterations: 99 | train_loss: 0.404292 | validation_loss: 0.37253 | valid_accuracy: 0.826087\n",
      "iterations: 100 | train_loss: 0.3883 | validation_loss: 0.355954 | valid_accuracy: 0.839674\n",
      "iterations: 101 | train_loss: 0.370833 | validation_loss: 0.316179 | valid_accuracy: 0.875\n",
      "iterations: 102 | train_loss: 0.402388 | validation_loss: 0.310528 | valid_accuracy: 0.880435\n",
      "iterations: 103 | train_loss: 0.35794 | validation_loss: 0.307164 | valid_accuracy: 0.880435\n",
      "iterations: 104 | train_loss: 0.336085 | validation_loss: 0.301091 | valid_accuracy: 0.880435\n",
      "iterations: 105 | train_loss: 0.368788 | validation_loss: 0.304463 | valid_accuracy: 0.880435\n",
      "iterations: 106 | train_loss: 0.351455 | validation_loss: 0.333175 | valid_accuracy: 0.853261\n",
      "iterations: 107 | train_loss: 0.386785 | validation_loss: 0.319721 | valid_accuracy: 0.855978\n",
      "iterations: 108 | train_loss: 0.27477 | validation_loss: 0.285337 | valid_accuracy: 0.877717\n",
      "iterations: 109 | train_loss: 0.30663 | validation_loss: 0.290199 | valid_accuracy: 0.880435\n",
      "iterations: 110 | train_loss: 0.358591 | validation_loss: 0.304369 | valid_accuracy: 0.875\n",
      "iterations: 111 | train_loss: 0.314032 | validation_loss: 0.29294 | valid_accuracy: 0.880435\n",
      "iterations: 112 | train_loss: 0.390227 | validation_loss: 0.277115 | valid_accuracy: 0.891304\n",
      "iterations: 113 | train_loss: 0.31208 | validation_loss: 0.28171 | valid_accuracy: 0.877717\n",
      "iterations: 114 | train_loss: 0.293021 | validation_loss: 0.332512 | valid_accuracy: 0.836957\n",
      "iterations: 115 | train_loss: 0.309079 | validation_loss: 0.288133 | valid_accuracy: 0.875\n",
      "iterations: 116 | train_loss: 0.310995 | validation_loss: 0.269225 | valid_accuracy: 0.880435\n",
      "iterations: 117 | train_loss: 0.351689 | validation_loss: 0.266832 | valid_accuracy: 0.883152\n",
      "iterations: 118 | train_loss: 0.312749 | validation_loss: 0.263649 | valid_accuracy: 0.883152\n",
      "iterations: 119 | train_loss: 0.258585 | validation_loss: 0.274236 | valid_accuracy: 0.880435\n",
      "iterations: 120 | train_loss: 0.311136 | validation_loss: 0.34982 | valid_accuracy: 0.826087\n",
      "iterations: 121 | train_loss: 0.24836 | validation_loss: 0.270551 | valid_accuracy: 0.877717\n",
      "iterations: 122 | train_loss: 0.281258 | validation_loss: 0.248652 | valid_accuracy: 0.88587\n",
      "iterations: 123 | train_loss: 0.341097 | validation_loss: 0.24567 | valid_accuracy: 0.896739\n",
      "iterations: 124 | train_loss: 0.29125 | validation_loss: 0.244366 | valid_accuracy: 0.894022\n",
      "iterations: 125 | train_loss: 0.304715 | validation_loss: 0.258615 | valid_accuracy: 0.894022\n",
      "iterations: 126 | train_loss: 0.302312 | validation_loss: 0.25109 | valid_accuracy: 0.883152\n",
      "iterations: 127 | train_loss: 0.264089 | validation_loss: 0.242505 | valid_accuracy: 0.888587\n",
      "iterations: 128 | train_loss: 0.261822 | validation_loss: 0.239272 | valid_accuracy: 0.891304\n",
      "iterations: 129 | train_loss: 0.278322 | validation_loss: 0.294415 | valid_accuracy: 0.861413\n",
      "iterations: 130 | train_loss: 0.287588 | validation_loss: 0.251955 | valid_accuracy: 0.896739\n",
      "iterations: 131 | train_loss: 0.395864 | validation_loss: 0.251273 | valid_accuracy: 0.877717\n",
      "iterations: 132 | train_loss: 0.263915 | validation_loss: 0.27608 | valid_accuracy: 0.869565\n",
      "iterations: 133 | train_loss: 0.313818 | validation_loss: 0.319805 | valid_accuracy: 0.847826\n",
      "iterations: 134 | train_loss: 0.268626 | validation_loss: 0.241215 | valid_accuracy: 0.894022\n",
      "iterations: 135 | train_loss: 0.335778 | validation_loss: 0.261777 | valid_accuracy: 0.899457\n",
      "iterations: 136 | train_loss: 0.265761 | validation_loss: 0.275121 | valid_accuracy: 0.877717\n",
      "iterations: 137 | train_loss: 0.312338 | validation_loss: 0.404615 | valid_accuracy: 0.782609\n",
      "iterations: 138 | train_loss: 0.314859 | validation_loss: 0.290771 | valid_accuracy: 0.855978\n",
      "iterations: 139 | train_loss: 0.297698 | validation_loss: 0.233167 | valid_accuracy: 0.899457\n",
      "iterations: 140 | train_loss: 0.351929 | validation_loss: 0.232809 | valid_accuracy: 0.899457\n",
      "iterations: 141 | train_loss: 0.325848 | validation_loss: 0.263346 | valid_accuracy: 0.875\n",
      "iterations: 142 | train_loss: 0.301542 | validation_loss: 0.318567 | valid_accuracy: 0.845109\n",
      "iterations: 143 | train_loss: 0.306829 | validation_loss: 0.253731 | valid_accuracy: 0.894022\n",
      "iterations: 144 | train_loss: 0.287174 | validation_loss: 0.232091 | valid_accuracy: 0.904891\n",
      "iterations: 145 | train_loss: 0.302989 | validation_loss: 0.24789 | valid_accuracy: 0.888587\n",
      "iterations: 146 | train_loss: 0.211278 | validation_loss: 0.234791 | valid_accuracy: 0.896739\n",
      "iterations: 147 | train_loss: 0.273102 | validation_loss: 0.305011 | valid_accuracy: 0.855978\n",
      "iterations: 148 | train_loss: 0.245263 | validation_loss: 0.252936 | valid_accuracy: 0.894022\n",
      "iterations: 149 | train_loss: 0.28642 | validation_loss: 0.223322 | valid_accuracy: 0.894022\n",
      "iterations: 150 | train_loss: 0.292679 | validation_loss: 0.246821 | valid_accuracy: 0.88587\n",
      "iterations: 151 | train_loss: 0.24281 | validation_loss: 0.220882 | valid_accuracy: 0.904891\n",
      "iterations: 152 | train_loss: 0.331343 | validation_loss: 0.281882 | valid_accuracy: 0.869565\n",
      "iterations: 153 | train_loss: 0.308827 | validation_loss: 0.318598 | valid_accuracy: 0.839674\n",
      "iterations: 154 | train_loss: 0.253677 | validation_loss: 0.226822 | valid_accuracy: 0.904891\n",
      "iterations: 155 | train_loss: 0.28903 | validation_loss: 0.221734 | valid_accuracy: 0.891304\n",
      "iterations: 156 | train_loss: 0.272369 | validation_loss: 0.223999 | valid_accuracy: 0.891304\n",
      "iterations: 157 | train_loss: 0.252593 | validation_loss: 0.240987 | valid_accuracy: 0.902174\n",
      "iterations: 158 | train_loss: 0.294515 | validation_loss: 0.286605 | valid_accuracy: 0.866848\n",
      "iterations: 159 | train_loss: 0.232772 | validation_loss: 0.262961 | valid_accuracy: 0.88587\n",
      "iterations: 160 | train_loss: 0.267807 | validation_loss: 0.22084 | valid_accuracy: 0.899457\n",
      "iterations: 161 | train_loss: 0.249723 | validation_loss: 0.220351 | valid_accuracy: 0.899457\n",
      "iterations: 162 | train_loss: 0.208077 | validation_loss: 0.237983 | valid_accuracy: 0.896739\n",
      "iterations: 163 | train_loss: 0.281099 | validation_loss: 0.317088 | valid_accuracy: 0.853261\n",
      "iterations: 164 | train_loss: 0.257828 | validation_loss: 0.262669 | valid_accuracy: 0.875\n",
      "iterations: 165 | train_loss: 0.29902 | validation_loss: 0.209334 | valid_accuracy: 0.899457\n",
      "iterations: 166 | train_loss: 0.278411 | validation_loss: 0.238272 | valid_accuracy: 0.896739\n",
      "iterations: 167 | train_loss: 0.253807 | validation_loss: 0.214536 | valid_accuracy: 0.904891\n",
      "iterations: 168 | train_loss: 0.276793 | validation_loss: 0.291255 | valid_accuracy: 0.866848\n",
      "iterations: 169 | train_loss: 0.348397 | validation_loss: 0.330954 | valid_accuracy: 0.836957\n",
      "iterations: 170 | train_loss: 0.224474 | validation_loss: 0.254444 | valid_accuracy: 0.883152\n",
      "iterations: 171 | train_loss: 0.272465 | validation_loss: 0.21487 | valid_accuracy: 0.896739\n",
      "iterations: 172 | train_loss: 0.242812 | validation_loss: 0.21126 | valid_accuracy: 0.902174\n",
      "iterations: 173 | train_loss: 0.242379 | validation_loss: 0.206861 | valid_accuracy: 0.899457\n",
      "iterations: 174 | train_loss: 0.26368 | validation_loss: 0.219111 | valid_accuracy: 0.904891\n",
      "iterations: 175 | train_loss: 0.269677 | validation_loss: 0.23999 | valid_accuracy: 0.883152\n",
      "iterations: 176 | train_loss: 0.234944 | validation_loss: 0.245104 | valid_accuracy: 0.883152\n",
      "iterations: 177 | train_loss: 0.267783 | validation_loss: 0.2173 | valid_accuracy: 0.907609\n",
      "iterations: 178 | train_loss: 0.212627 | validation_loss: 0.204452 | valid_accuracy: 0.913043\n",
      "iterations: 179 | train_loss: 0.208377 | validation_loss: 0.208388 | valid_accuracy: 0.910326\n",
      "iterations: 180 | train_loss: 0.209475 | validation_loss: 0.209195 | valid_accuracy: 0.907609\n",
      "iterations: 181 | train_loss: 0.27323 | validation_loss: 0.226286 | valid_accuracy: 0.902174\n",
      "iterations: 182 | train_loss: 0.251724 | validation_loss: 0.252029 | valid_accuracy: 0.891304\n",
      "iterations: 183 | train_loss: 0.258849 | validation_loss: 0.241088 | valid_accuracy: 0.888587\n",
      "iterations: 184 | train_loss: 0.233661 | validation_loss: 0.214529 | valid_accuracy: 0.904891\n",
      "iterations: 185 | train_loss: 0.224286 | validation_loss: 0.202967 | valid_accuracy: 0.907609\n",
      "iterations: 186 | train_loss: 0.239221 | validation_loss: 0.215419 | valid_accuracy: 0.899457\n",
      "iterations: 187 | train_loss: 0.204619 | validation_loss: 0.22917 | valid_accuracy: 0.891304\n",
      "iterations: 188 | train_loss: 0.240673 | validation_loss: 0.233037 | valid_accuracy: 0.891304\n",
      "iterations: 189 | train_loss: 0.234828 | validation_loss: 0.215332 | valid_accuracy: 0.910326\n",
      "iterations: 190 | train_loss: 0.223087 | validation_loss: 0.219306 | valid_accuracy: 0.902174\n",
      "iterations: 191 | train_loss: 0.22537 | validation_loss: 0.221453 | valid_accuracy: 0.902174\n",
      "iterations: 192 | train_loss: 0.171251 | validation_loss: 0.210388 | valid_accuracy: 0.904891\n",
      "iterations: 193 | train_loss: 0.193852 | validation_loss: 0.194873 | valid_accuracy: 0.913043\n",
      "iterations: 194 | train_loss: 0.248963 | validation_loss: 0.211673 | valid_accuracy: 0.902174\n",
      "iterations: 195 | train_loss: 0.226297 | validation_loss: 0.247447 | valid_accuracy: 0.891304\n",
      "iterations: 196 | train_loss: 0.183518 | validation_loss: 0.204867 | valid_accuracy: 0.921196\n",
      "iterations: 197 | train_loss: 0.262578 | validation_loss: 0.241753 | valid_accuracy: 0.888587\n",
      "iterations: 198 | train_loss: 0.216719 | validation_loss: 0.209383 | valid_accuracy: 0.913043\n",
      "iterations: 199 | train_loss: 0.285818 | validation_loss: 0.28076 | valid_accuracy: 0.875\n",
      "iterations: 200 | train_loss: 0.246423 | validation_loss: 0.254252 | valid_accuracy: 0.888587\n",
      "iterations: 201 | train_loss: 0.160031 | validation_loss: 0.222723 | valid_accuracy: 0.896739\n",
      "iterations: 202 | train_loss: 0.22966 | validation_loss: 0.198897 | valid_accuracy: 0.915761\n",
      "iterations: 203 | train_loss: 0.2112 | validation_loss: 0.200223 | valid_accuracy: 0.910326\n",
      "iterations: 204 | train_loss: 0.185732 | validation_loss: 0.201793 | valid_accuracy: 0.910326\n",
      "iterations: 205 | train_loss: 0.212056 | validation_loss: 0.200637 | valid_accuracy: 0.918478\n",
      "iterations: 206 | train_loss: 0.23959 | validation_loss: 0.220394 | valid_accuracy: 0.899457\n",
      "iterations: 207 | train_loss: 0.199361 | validation_loss: 0.222636 | valid_accuracy: 0.904891\n",
      "iterations: 208 | train_loss: 0.191864 | validation_loss: 0.205099 | valid_accuracy: 0.910326\n",
      "iterations: 209 | train_loss: 0.216861 | validation_loss: 0.191227 | valid_accuracy: 0.918478\n",
      "iterations: 210 | train_loss: 0.253011 | validation_loss: 0.193806 | valid_accuracy: 0.913043\n",
      "iterations: 211 | train_loss: 0.178874 | validation_loss: 0.224808 | valid_accuracy: 0.896739\n",
      "iterations: 212 | train_loss: 0.228021 | validation_loss: 0.304053 | valid_accuracy: 0.872283\n",
      "iterations: 213 | train_loss: 0.164792 | validation_loss: 0.289898 | valid_accuracy: 0.880435\n",
      "iterations: 214 | train_loss: 0.210426 | validation_loss: 0.208121 | valid_accuracy: 0.913043\n",
      "iterations: 215 | train_loss: 0.226492 | validation_loss: 0.242955 | valid_accuracy: 0.880435\n",
      "iterations: 216 | train_loss: 0.199269 | validation_loss: 0.21848 | valid_accuracy: 0.902174\n",
      "iterations: 217 | train_loss: 0.225858 | validation_loss: 0.253269 | valid_accuracy: 0.883152\n",
      "iterations: 218 | train_loss: 0.225554 | validation_loss: 0.284811 | valid_accuracy: 0.875\n",
      "iterations: 219 | train_loss: 0.190513 | validation_loss: 0.228343 | valid_accuracy: 0.888587\n",
      "iterations: 220 | train_loss: 0.227436 | validation_loss: 0.197295 | valid_accuracy: 0.899457\n",
      "iterations: 221 | train_loss: 0.196078 | validation_loss: 0.192909 | valid_accuracy: 0.902174\n",
      "iterations: 222 | train_loss: 0.166676 | validation_loss: 0.199463 | valid_accuracy: 0.904891\n",
      "iterations: 223 | train_loss: 0.166986 | validation_loss: 0.220153 | valid_accuracy: 0.902174\n",
      "iterations: 224 | train_loss: 0.14961 | validation_loss: 0.217889 | valid_accuracy: 0.899457\n",
      "iterations: 225 | train_loss: 0.219216 | validation_loss: 0.212005 | valid_accuracy: 0.904891\n",
      "iterations: 226 | train_loss: 0.187165 | validation_loss: 0.195896 | valid_accuracy: 0.907609\n",
      "iterations: 227 | train_loss: 0.21124 | validation_loss: 0.193896 | valid_accuracy: 0.918478\n",
      "iterations: 228 | train_loss: 0.195463 | validation_loss: 0.203855 | valid_accuracy: 0.910326\n",
      "iterations: 229 | train_loss: 0.238187 | validation_loss: 0.233977 | valid_accuracy: 0.896739\n",
      "iterations: 230 | train_loss: 0.240017 | validation_loss: 0.218217 | valid_accuracy: 0.902174\n",
      "iterations: 231 | train_loss: 0.215093 | validation_loss: 0.198488 | valid_accuracy: 0.915761\n",
      "iterations: 232 | train_loss: 0.204758 | validation_loss: 0.198776 | valid_accuracy: 0.918478\n",
      "iterations: 233 | train_loss: 0.172858 | validation_loss: 0.203517 | valid_accuracy: 0.910326\n",
      "iterations: 234 | train_loss: 0.19877 | validation_loss: 0.229288 | valid_accuracy: 0.896739\n",
      "iterations: 235 | train_loss: 0.226524 | validation_loss: 0.212164 | valid_accuracy: 0.902174\n",
      "iterations: 236 | train_loss: 0.212371 | validation_loss: 0.194549 | valid_accuracy: 0.913043\n",
      "iterations: 237 | train_loss: 0.182931 | validation_loss: 0.19449 | valid_accuracy: 0.910326\n",
      "iterations: 238 | train_loss: 0.232411 | validation_loss: 0.208068 | valid_accuracy: 0.896739\n",
      "iterations: 239 | train_loss: 0.204456 | validation_loss: 0.247434 | valid_accuracy: 0.891304\n",
      "iterations: 240 | train_loss: 0.195516 | validation_loss: 0.221844 | valid_accuracy: 0.902174\n",
      "iterations: 241 | train_loss: 0.207206 | validation_loss: 0.211126 | valid_accuracy: 0.915761\n",
      "iterations: 242 | train_loss: 0.244461 | validation_loss: 0.21791 | valid_accuracy: 0.910326\n",
      "iterations: 243 | train_loss: 0.185986 | validation_loss: 0.221209 | valid_accuracy: 0.902174\n",
      "iterations: 244 | train_loss: 0.20978 | validation_loss: 0.241861 | valid_accuracy: 0.894022\n",
      "iterations: 245 | train_loss: 0.225912 | validation_loss: 0.227864 | valid_accuracy: 0.899457\n",
      "iterations: 246 | train_loss: 0.160236 | validation_loss: 0.198331 | valid_accuracy: 0.913043\n",
      "iterations: 247 | train_loss: 0.146824 | validation_loss: 0.188896 | valid_accuracy: 0.918478\n",
      "iterations: 248 | train_loss: 0.176006 | validation_loss: 0.188719 | valid_accuracy: 0.918478\n",
      "iterations: 249 | train_loss: 0.227795 | validation_loss: 0.20445 | valid_accuracy: 0.904891\n",
      "iterations: 250 | train_loss: 0.182541 | validation_loss: 0.247355 | valid_accuracy: 0.888587\n",
      "iterations: 251 | train_loss: 0.158898 | validation_loss: 0.203979 | valid_accuracy: 0.913043\n",
      "iterations: 252 | train_loss: 0.153826 | validation_loss: 0.199548 | valid_accuracy: 0.915761\n",
      "iterations: 253 | train_loss: 0.152324 | validation_loss: 0.195591 | valid_accuracy: 0.913043\n",
      "iterations: 254 | train_loss: 0.237349 | validation_loss: 0.248666 | valid_accuracy: 0.891304\n",
      "iterations: 255 | train_loss: 0.155497 | validation_loss: 0.247944 | valid_accuracy: 0.899457\n",
      "iterations: 256 | train_loss: 0.212904 | validation_loss: 0.201115 | valid_accuracy: 0.913043\n",
      "iterations: 257 | train_loss: 0.182653 | validation_loss: 0.193506 | valid_accuracy: 0.915761\n",
      "iterations: 258 | train_loss: 0.162493 | validation_loss: 0.218326 | valid_accuracy: 0.902174\n",
      "iterations: 259 | train_loss: 0.19763 | validation_loss: 0.258927 | valid_accuracy: 0.88587\n",
      "iterations: 260 | train_loss: 0.177301 | validation_loss: 0.228646 | valid_accuracy: 0.899457\n",
      "iterations: 261 | train_loss: 0.22077 | validation_loss: 0.19682 | valid_accuracy: 0.910326\n",
      "iterations: 262 | train_loss: 0.189277 | validation_loss: 0.196673 | valid_accuracy: 0.910326\n",
      "iterations: 263 | train_loss: 0.20237 | validation_loss: 0.219889 | valid_accuracy: 0.904891\n",
      "iterations: 264 | train_loss: 0.161218 | validation_loss: 0.263798 | valid_accuracy: 0.880435\n",
      "iterations: 265 | train_loss: 0.196851 | validation_loss: 0.247599 | valid_accuracy: 0.883152\n",
      "iterations: 266 | train_loss: 0.176396 | validation_loss: 0.208217 | valid_accuracy: 0.902174\n",
      "iterations: 267 | train_loss: 0.201211 | validation_loss: 0.198346 | valid_accuracy: 0.910326\n",
      "iterations: 268 | train_loss: 0.174381 | validation_loss: 0.214439 | valid_accuracy: 0.907609\n",
      "iterations: 269 | train_loss: 0.169352 | validation_loss: 0.231111 | valid_accuracy: 0.899457\n",
      "iterations: 270 | train_loss: 0.181973 | validation_loss: 0.216135 | valid_accuracy: 0.907609\n",
      "iterations: 271 | train_loss: 0.188405 | validation_loss: 0.207367 | valid_accuracy: 0.913043\n",
      "iterations: 272 | train_loss: 0.184704 | validation_loss: 0.200145 | valid_accuracy: 0.913043\n",
      "iterations: 273 | train_loss: 0.168759 | validation_loss: 0.251538 | valid_accuracy: 0.888587\n",
      "iterations: 274 | train_loss: 0.209775 | validation_loss: 0.28345 | valid_accuracy: 0.875\n",
      "iterations: 275 | train_loss: 0.164661 | validation_loss: 0.213623 | valid_accuracy: 0.902174\n",
      "iterations: 276 | train_loss: 0.254107 | validation_loss: 0.196835 | valid_accuracy: 0.913043\n",
      "iterations: 277 | train_loss: 0.166592 | validation_loss: 0.193037 | valid_accuracy: 0.913043\n",
      "iterations: 278 | train_loss: 0.151726 | validation_loss: 0.223188 | valid_accuracy: 0.902174\n",
      "iterations: 279 | train_loss: 0.211334 | validation_loss: 0.269578 | valid_accuracy: 0.877717\n",
      "iterations: 280 | train_loss: 0.186845 | validation_loss: 0.201413 | valid_accuracy: 0.907609\n",
      "iterations: 281 | train_loss: 0.153977 | validation_loss: 0.193008 | valid_accuracy: 0.918478\n",
      "iterations: 282 | train_loss: 0.185256 | validation_loss: 0.188284 | valid_accuracy: 0.918478\n",
      "iterations: 283 | train_loss: 0.137949 | validation_loss: 0.20927 | valid_accuracy: 0.899457\n",
      "iterations: 284 | train_loss: 0.19536 | validation_loss: 0.250263 | valid_accuracy: 0.880435\n",
      "iterations: 285 | train_loss: 0.185484 | validation_loss: 0.215803 | valid_accuracy: 0.894022\n",
      "iterations: 286 | train_loss: 0.142871 | validation_loss: 0.186098 | valid_accuracy: 0.92663\n",
      "iterations: 287 | train_loss: 0.166158 | validation_loss: 0.188435 | valid_accuracy: 0.923913\n",
      "iterations: 288 | train_loss: 0.179284 | validation_loss: 0.191269 | valid_accuracy: 0.918478\n",
      "iterations: 289 | train_loss: 0.176085 | validation_loss: 0.218709 | valid_accuracy: 0.910326\n",
      "iterations: 290 | train_loss: 0.155321 | validation_loss: 0.229712 | valid_accuracy: 0.904891\n",
      "iterations: 291 | train_loss: 0.175926 | validation_loss: 0.197139 | valid_accuracy: 0.910326\n",
      "iterations: 292 | train_loss: 0.197226 | validation_loss: 0.194199 | valid_accuracy: 0.918478\n",
      "iterations: 293 | train_loss: 0.122252 | validation_loss: 0.193091 | valid_accuracy: 0.913043\n",
      "iterations: 294 | train_loss: 0.146101 | validation_loss: 0.226388 | valid_accuracy: 0.907609\n",
      "iterations: 295 | train_loss: 0.152295 | validation_loss: 0.196112 | valid_accuracy: 0.915761\n",
      "iterations: 296 | train_loss: 0.182461 | validation_loss: 0.184545 | valid_accuracy: 0.915761\n",
      "iterations: 297 | train_loss: 0.168766 | validation_loss: 0.184174 | valid_accuracy: 0.92663\n",
      "iterations: 298 | train_loss: 0.155362 | validation_loss: 0.185796 | valid_accuracy: 0.923913\n",
      "iterations: 299 | train_loss: 0.167552 | validation_loss: 0.221301 | valid_accuracy: 0.902174\n",
      "iterations: 300 | train_loss: 0.216725 | validation_loss: 0.227419 | valid_accuracy: 0.904891\n",
      "iterations: 301 | train_loss: 0.102258 | validation_loss: 0.223271 | valid_accuracy: 0.918478\n",
      "iterations: 302 | train_loss: 0.155934 | validation_loss: 0.205758 | valid_accuracy: 0.910326\n",
      "iterations: 303 | train_loss: 0.138668 | validation_loss: 0.207409 | valid_accuracy: 0.904891\n",
      "iterations: 304 | train_loss: 0.133804 | validation_loss: 0.198002 | valid_accuracy: 0.921196\n",
      "iterations: 305 | train_loss: 0.12334 | validation_loss: 0.239392 | valid_accuracy: 0.913043\n",
      "iterations: 306 | train_loss: 0.134456 | validation_loss: 0.266907 | valid_accuracy: 0.891304\n",
      "iterations: 307 | train_loss: 0.182775 | validation_loss: 0.185159 | valid_accuracy: 0.929348\n",
      "iterations: 308 | train_loss: 0.161437 | validation_loss: 0.186303 | valid_accuracy: 0.923913\n",
      "iterations: 309 | train_loss: 0.131623 | validation_loss: 0.181563 | valid_accuracy: 0.923913\n",
      "iterations: 310 | train_loss: 0.127245 | validation_loss: 0.235384 | valid_accuracy: 0.907609\n",
      "iterations: 311 | train_loss: 0.20177 | validation_loss: 0.283178 | valid_accuracy: 0.883152\n",
      "iterations: 312 | train_loss: 0.14732 | validation_loss: 0.222676 | valid_accuracy: 0.913043\n",
      "iterations: 313 | train_loss: 0.146098 | validation_loss: 0.194968 | valid_accuracy: 0.918478\n",
      "iterations: 314 | train_loss: 0.172892 | validation_loss: 0.211471 | valid_accuracy: 0.902174\n",
      "iterations: 315 | train_loss: 0.105451 | validation_loss: 0.19349 | valid_accuracy: 0.92663\n",
      "iterations: 316 | train_loss: 0.189946 | validation_loss: 0.283209 | valid_accuracy: 0.888587\n",
      "iterations: 317 | train_loss: 0.14631 | validation_loss: 0.257241 | valid_accuracy: 0.894022\n",
      "iterations: 318 | train_loss: 0.128937 | validation_loss: 0.184106 | valid_accuracy: 0.92663\n",
      "iterations: 319 | train_loss: 0.208997 | validation_loss: 0.198173 | valid_accuracy: 0.921196\n",
      "iterations: 320 | train_loss: 0.138373 | validation_loss: 0.182903 | valid_accuracy: 0.921196\n",
      "iterations: 321 | train_loss: 0.134002 | validation_loss: 0.208857 | valid_accuracy: 0.918478\n",
      "iterations: 322 | train_loss: 0.175934 | validation_loss: 0.282841 | valid_accuracy: 0.888587\n",
      "iterations: 323 | train_loss: 0.127027 | validation_loss: 0.222763 | valid_accuracy: 0.913043\n",
      "iterations: 324 | train_loss: 0.12417 | validation_loss: 0.186712 | valid_accuracy: 0.92663\n",
      "iterations: 325 | train_loss: 0.109162 | validation_loss: 0.185638 | valid_accuracy: 0.923913\n",
      "iterations: 326 | train_loss: 0.175663 | validation_loss: 0.195732 | valid_accuracy: 0.921196\n",
      "iterations: 327 | train_loss: 0.139152 | validation_loss: 0.214333 | valid_accuracy: 0.913043\n",
      "iterations: 328 | train_loss: 0.120415 | validation_loss: 0.20573 | valid_accuracy: 0.921196\n",
      "iterations: 329 | train_loss: 0.135784 | validation_loss: 0.189962 | valid_accuracy: 0.923913\n",
      "iterations: 330 | train_loss: 0.182285 | validation_loss: 0.186616 | valid_accuracy: 0.918478\n",
      "iterations: 331 | train_loss: 0.13109 | validation_loss: 0.183919 | valid_accuracy: 0.92663\n",
      "iterations: 332 | train_loss: 0.0916022 | validation_loss: 0.182193 | valid_accuracy: 0.932065\n",
      "iterations: 333 | train_loss: 0.127419 | validation_loss: 0.206733 | valid_accuracy: 0.915761\n",
      "iterations: 334 | train_loss: 0.134464 | validation_loss: 0.247256 | valid_accuracy: 0.896739\n",
      "iterations: 335 | train_loss: 0.142225 | validation_loss: 0.19626 | valid_accuracy: 0.915761\n",
      "iterations: 336 | train_loss: 0.149687 | validation_loss: 0.204674 | valid_accuracy: 0.915761\n",
      "iterations: 337 | train_loss: 0.15319 | validation_loss: 0.209515 | valid_accuracy: 0.915761\n",
      "iterations: 338 | train_loss: 0.10922 | validation_loss: 0.220809 | valid_accuracy: 0.918478\n",
      "iterations: 339 | train_loss: 0.175788 | validation_loss: 0.287974 | valid_accuracy: 0.88587\n",
      "iterations: 340 | train_loss: 0.0916016 | validation_loss: 0.259736 | valid_accuracy: 0.896739\n",
      "iterations: 341 | train_loss: 0.117665 | validation_loss: 0.187892 | valid_accuracy: 0.915761\n",
      "iterations: 342 | train_loss: 0.191453 | validation_loss: 0.240561 | valid_accuracy: 0.891304\n",
      "iterations: 343 | train_loss: 0.168977 | validation_loss: 0.18832 | valid_accuracy: 0.92663\n",
      "iterations: 344 | train_loss: 0.13952 | validation_loss: 0.29588 | valid_accuracy: 0.883152\n",
      "iterations: 345 | train_loss: 0.193801 | validation_loss: 0.294943 | valid_accuracy: 0.880435\n",
      "iterations: 346 | train_loss: 0.0685552 | validation_loss: 0.208882 | valid_accuracy: 0.915761\n",
      "iterations: 347 | train_loss: 0.102225 | validation_loss: 0.191683 | valid_accuracy: 0.918478\n",
      "iterations: 348 | train_loss: 0.161919 | validation_loss: 0.195955 | valid_accuracy: 0.921196\n",
      "iterations: 349 | train_loss: 0.0787634 | validation_loss: 0.211906 | valid_accuracy: 0.921196\n",
      "iterations: 350 | train_loss: 0.162237 | validation_loss: 0.255792 | valid_accuracy: 0.907609\n",
      "iterations: 351 | train_loss: 0.118098 | validation_loss: 0.281781 | valid_accuracy: 0.894022\n",
      "iterations: 352 | train_loss: 0.122431 | validation_loss: 0.215362 | valid_accuracy: 0.910326\n",
      "iterations: 353 | train_loss: 0.1534 | validation_loss: 0.197077 | valid_accuracy: 0.92663\n",
      "iterations: 354 | train_loss: 0.158622 | validation_loss: 0.198057 | valid_accuracy: 0.921196\n",
      "iterations: 355 | train_loss: 0.098206 | validation_loss: 0.205461 | valid_accuracy: 0.921196\n",
      "iterations: 356 | train_loss: 0.142995 | validation_loss: 0.271945 | valid_accuracy: 0.896739\n",
      "iterations: 357 | train_loss: 0.174441 | validation_loss: 0.254398 | valid_accuracy: 0.904891\n",
      "iterations: 358 | train_loss: 0.0842687 | validation_loss: 0.189252 | valid_accuracy: 0.92663\n",
      "iterations: 359 | train_loss: 0.196186 | validation_loss: 0.18352 | valid_accuracy: 0.929348\n",
      "iterations: 360 | train_loss: 0.157908 | validation_loss: 0.197418 | valid_accuracy: 0.915761\n",
      "iterations: 361 | train_loss: 0.167184 | validation_loss: 0.254883 | valid_accuracy: 0.896739\n",
      "iterations: 362 | train_loss: 0.107151 | validation_loss: 0.22762 | valid_accuracy: 0.913043\n",
      "iterations: 363 | train_loss: 0.111775 | validation_loss: 0.204223 | valid_accuracy: 0.923913\n",
      "iterations: 364 | train_loss: 0.117007 | validation_loss: 0.199145 | valid_accuracy: 0.921196\n",
      "iterations: 365 | train_loss: 0.152164 | validation_loss: 0.200975 | valid_accuracy: 0.918478\n",
      "iterations: 366 | train_loss: 0.101982 | validation_loss: 0.203731 | valid_accuracy: 0.918478\n",
      "iterations: 367 | train_loss: 0.0993537 | validation_loss: 0.232659 | valid_accuracy: 0.913043\n",
      "iterations: 368 | train_loss: 0.13269 | validation_loss: 0.241371 | valid_accuracy: 0.910326\n",
      "iterations: 369 | train_loss: 0.12743 | validation_loss: 0.208395 | valid_accuracy: 0.918478\n",
      "iterations: 370 | train_loss: 0.111166 | validation_loss: 0.197198 | valid_accuracy: 0.92663\n",
      "iterations: 371 | train_loss: 0.111428 | validation_loss: 0.202014 | valid_accuracy: 0.913043\n",
      "iterations: 372 | train_loss: 0.11535 | validation_loss: 0.21156 | valid_accuracy: 0.92663\n",
      "iterations: 373 | train_loss: 0.13029 | validation_loss: 0.284007 | valid_accuracy: 0.902174\n",
      "iterations: 374 | train_loss: 0.130354 | validation_loss: 0.254375 | valid_accuracy: 0.913043\n",
      "iterations: 375 | train_loss: 0.100309 | validation_loss: 0.199635 | valid_accuracy: 0.923913\n",
      "iterations: 376 | train_loss: 0.121673 | validation_loss: 0.182198 | valid_accuracy: 0.929348\n",
      "iterations: 377 | train_loss: 0.10802 | validation_loss: 0.183945 | valid_accuracy: 0.923913\n",
      "iterations: 378 | train_loss: 0.0986461 | validation_loss: 0.227093 | valid_accuracy: 0.904891\n",
      "iterations: 379 | train_loss: 0.0805178 | validation_loss: 0.275474 | valid_accuracy: 0.888587\n",
      "iterations: 380 | train_loss: 0.107026 | validation_loss: 0.220222 | valid_accuracy: 0.923913\n",
      "iterations: 381 | train_loss: 0.103204 | validation_loss: 0.196391 | valid_accuracy: 0.915761\n",
      "iterations: 382 | train_loss: 0.116453 | validation_loss: 0.200947 | valid_accuracy: 0.918478\n",
      "iterations: 383 | train_loss: 0.0938312 | validation_loss: 0.210423 | valid_accuracy: 0.921196\n",
      "iterations: 384 | train_loss: 0.0637616 | validation_loss: 0.26379 | valid_accuracy: 0.913043\n",
      "iterations: 385 | train_loss: 0.142084 | validation_loss: 0.243585 | valid_accuracy: 0.918478\n",
      "iterations: 386 | train_loss: 0.0667326 | validation_loss: 0.206914 | valid_accuracy: 0.910326\n",
      "iterations: 387 | train_loss: 0.129091 | validation_loss: 0.199231 | valid_accuracy: 0.923913\n",
      "iterations: 388 | train_loss: 0.0858648 | validation_loss: 0.234277 | valid_accuracy: 0.913043\n",
      "iterations: 389 | train_loss: 0.164001 | validation_loss: 0.234723 | valid_accuracy: 0.913043\n",
      "iterations: 390 | train_loss: 0.122606 | validation_loss: 0.191552 | valid_accuracy: 0.923913\n",
      "iterations: 391 | train_loss: 0.0738272 | validation_loss: 0.190514 | valid_accuracy: 0.923913\n",
      "iterations: 392 | train_loss: 0.0832431 | validation_loss: 0.196463 | valid_accuracy: 0.915761\n",
      "iterations: 393 | train_loss: 0.0862077 | validation_loss: 0.21984 | valid_accuracy: 0.915761\n",
      "iterations: 394 | train_loss: 0.103848 | validation_loss: 0.225716 | valid_accuracy: 0.913043\n",
      "iterations: 395 | train_loss: 0.113574 | validation_loss: 0.245906 | valid_accuracy: 0.894022\n",
      "iterations: 396 | train_loss: 0.12696 | validation_loss: 0.244442 | valid_accuracy: 0.902174\n",
      "iterations: 397 | train_loss: 0.127061 | validation_loss: 0.222657 | valid_accuracy: 0.921196\n",
      "iterations: 398 | train_loss: 0.066726 | validation_loss: 0.208146 | valid_accuracy: 0.918478\n",
      "iterations: 399 | train_loss: 0.104385 | validation_loss: 0.212089 | valid_accuracy: 0.918478\n",
      "iterations: 400 | train_loss: 0.171856 | validation_loss: 0.209191 | valid_accuracy: 0.923913\n",
      "iterations: 401 | train_loss: 0.108383 | validation_loss: 0.202811 | valid_accuracy: 0.921196\n",
      "iterations: 402 | train_loss: 0.0894072 | validation_loss: 0.227225 | valid_accuracy: 0.921196\n",
      "iterations: 403 | train_loss: 0.125583 | validation_loss: 0.290429 | valid_accuracy: 0.902174\n",
      "iterations: 404 | train_loss: 0.128302 | validation_loss: 0.288154 | valid_accuracy: 0.894022\n",
      "iterations: 405 | train_loss: 0.146359 | validation_loss: 0.271257 | valid_accuracy: 0.880435\n",
      "iterations: 406 | train_loss: 0.078086 | validation_loss: 0.241427 | valid_accuracy: 0.910326\n",
      "iterations: 407 | train_loss: 0.12714 | validation_loss: 0.224041 | valid_accuracy: 0.918478\n",
      "iterations: 408 | train_loss: 0.103251 | validation_loss: 0.201258 | valid_accuracy: 0.918478\n",
      "iterations: 409 | train_loss: 0.112669 | validation_loss: 0.196726 | valid_accuracy: 0.921196\n",
      "iterations: 410 | train_loss: 0.137329 | validation_loss: 0.208682 | valid_accuracy: 0.910326\n",
      "iterations: 411 | train_loss: 0.117667 | validation_loss: 0.232854 | valid_accuracy: 0.910326\n",
      "iterations: 412 | train_loss: 0.131954 | validation_loss: 0.200684 | valid_accuracy: 0.918478\n",
      "iterations: 413 | train_loss: 0.102369 | validation_loss: 0.198857 | valid_accuracy: 0.921196\n",
      "iterations: 414 | train_loss: 0.0919075 | validation_loss: 0.212005 | valid_accuracy: 0.915761\n",
      "iterations: 415 | train_loss: 0.0900281 | validation_loss: 0.235434 | valid_accuracy: 0.913043\n",
      "iterations: 416 | train_loss: 0.105829 | validation_loss: 0.299622 | valid_accuracy: 0.896739\n",
      "iterations: 417 | train_loss: 0.111596 | validation_loss: 0.212456 | valid_accuracy: 0.921196\n",
      "iterations: 418 | train_loss: 0.0875887 | validation_loss: 0.200558 | valid_accuracy: 0.92663\n",
      "iterations: 419 | train_loss: 0.106486 | validation_loss: 0.204028 | valid_accuracy: 0.92663\n",
      "iterations: 420 | train_loss: 0.0573231 | validation_loss: 0.210842 | valid_accuracy: 0.923913\n",
      "iterations: 421 | train_loss: 0.117976 | validation_loss: 0.259845 | valid_accuracy: 0.902174\n",
      "iterations: 422 | train_loss: 0.090071 | validation_loss: 0.22073 | valid_accuracy: 0.913043\n",
      "iterations: 423 | train_loss: 0.113131 | validation_loss: 0.200752 | valid_accuracy: 0.923913\n",
      "iterations: 424 | train_loss: 0.0744541 | validation_loss: 0.218083 | valid_accuracy: 0.915761\n",
      "iterations: 425 | train_loss: 0.0807982 | validation_loss: 0.210866 | valid_accuracy: 0.923913\n",
      "iterations: 426 | train_loss: 0.118354 | validation_loss: 0.255843 | valid_accuracy: 0.913043\n",
      "iterations: 427 | train_loss: 0.143866 | validation_loss: 0.265359 | valid_accuracy: 0.913043\n",
      "iterations: 428 | train_loss: 0.116045 | validation_loss: 0.240857 | valid_accuracy: 0.910326\n",
      "iterations: 429 | train_loss: 0.0802744 | validation_loss: 0.21423 | valid_accuracy: 0.915761\n",
      "iterations: 430 | train_loss: 0.0943152 | validation_loss: 0.195934 | valid_accuracy: 0.913043\n",
      "iterations: 431 | train_loss: 0.0613628 | validation_loss: 0.213433 | valid_accuracy: 0.910326\n",
      "iterations: 432 | train_loss: 0.0855541 | validation_loss: 0.24338 | valid_accuracy: 0.896739\n",
      "iterations: 433 | train_loss: 0.11437 | validation_loss: 0.212943 | valid_accuracy: 0.902174\n",
      "iterations: 434 | train_loss: 0.138591 | validation_loss: 0.199562 | valid_accuracy: 0.918478\n",
      "iterations: 435 | train_loss: 0.0870635 | validation_loss: 0.204895 | valid_accuracy: 0.910326\n"
     ]
    }
   ],
   "source": [
    "# create a saver object\n",
    "saver = tf.train.Saver(max_to_keep=1)\n",
    "\n",
    "# variables to store the accuracy, loss, iteration of our best model\n",
    "best_accuracy = 0\n",
    "best_loss = 1000000\n",
    "best_iteration = None\n",
    "\n",
    "iteration = 0\n",
    "\n",
    "# create a graph session and optimize under it\n",
    "with tf.Session() as sess:\n",
    "    \n",
    "    # initialize variables\n",
    "    sess.run(tf.global_variables_initializer())\n",
    "\n",
    "    # while 57 minutes have not elapsed (to finish before the kernel is killed)\n",
    "    while (time.time()-t1) < 3420:\n",
    "        \n",
    "        # break if max iteration is reached\n",
    "        if iteration >= max_iter:\n",
    "            break\n",
    "\n",
    "        # randomly choosing the indices of the batch \n",
    "        rand_index = np.random.choice(labels_train.shape[0], size=batch_size)\n",
    "\n",
    "        # extract the batch image and labels\n",
    "        image_rand = image_train[rand_index]\n",
    "#         angles_rand = angles_train[rand_index]\n",
    "        labels_rand = labels_train[rand_index]\n",
    "\n",
    "        # feed dictionary for batch\n",
    "        feed_dict_batch =  {image: image_rand,\n",
    "#                             angle: np.transpose([angles_rand]),\n",
    "                            y_true: labels_rand,\n",
    "                            keep_prob: 0.7}\n",
    "        # feed dictionary for train\n",
    "        feed_dict_train =  {image: image_rand,\n",
    "#                             angle: np.transpose([angles_rand]),\n",
    "                            y_true: labels_rand,\n",
    "                            keep_prob: 1.0}\n",
    "        # feed dictionary for validation\n",
    "        feed_dict_validation =  {image: image_validation,\n",
    "#                                  angle: np.transpose([angles_validation]),\n",
    "                                 y_true: labels_validation,\n",
    "                                 keep_prob: 1.0}\n",
    "        \n",
    "        # execute optimization step\n",
    "        sess.run(train_step, feed_dict=feed_dict_batch)\n",
    "\n",
    "        # calculate temporary train loss and append it to the designated list\n",
    "        temp_train_loss = loss.eval(session=sess, feed_dict=feed_dict_train)\n",
    "        train_loss.append(temp_train_loss)\n",
    "        # calculate temporary validation loss and append it to the designated list\n",
    "        temp_validation_loss = loss.eval(session=sess, feed_dict=feed_dict_validation)\n",
    "        valid_loss.append(temp_validation_loss)\n",
    "        # calculate temporary validation accuracy and append it to the designated list\n",
    "        temp_validation_accuracy = accuracy.eval(session=sess, feed_dict=feed_dict_validation)\n",
    "        valid_acc.append(temp_validation_accuracy)\n",
    "\n",
    "        # if the valid loss is tied with best recorded so far but valid acc is better then\n",
    "        # update the parameters of the best model and save the model\n",
    "        if (temp_validation_loss == best_loss) and (temp_validation_accuracy > best_accuracy):\n",
    "            best_accuracy = temp_validation_accuracy\n",
    "            best_loss = temp_validation_loss\n",
    "            best_iteration = iteration           \n",
    "            saver.save(sess, './my-model', global_step = best_iteration)\n",
    "        \n",
    "        # if valid accuracy is better than best recorded so far then update the best valid accuracy\n",
    "        if temp_validation_accuracy > best_accuracy:\n",
    "            best_accuracy = temp_validation_accuracy\n",
    "        \n",
    "        # if valid loss is better than best recorded so far then\n",
    "        # update the parameters of the best model and save the model\n",
    "        if temp_validation_loss < best_loss:\n",
    "            best_loss = temp_validation_loss\n",
    "            best_iteration = iteration          \n",
    "            saver.save(sess, './my-model', global_step = best_iteration)\n",
    "\n",
    "        # print metric info\n",
    "        print(\"iterations:\",iteration,\n",
    "              \"| train_loss:\", temp_train_loss,\n",
    "              \"| validation_loss:\", temp_validation_loss,\n",
    "              \"| valid_accuracy:\", temp_validation_accuracy)\n",
    "        \n",
    "        # increment iteration\n",
    "        iteration = iteration+1"
   ]
  },
  {
   "cell_type": "code",
   "execution_count": 85,
   "metadata": {
    "_cell_guid": "2f5723d5-e20e-4d5f-9533-daee1bfd1423",
    "_uuid": "0aac341d8057e34adb2ec031e33f83f4d3c56b18",
    "collapsed": true
   },
   "outputs": [],
   "source": [
    "# delete unnecessary variables out of memory\n",
    "del(image_train, image_validation, angles_train, angles_validation, labels_train, labels_validation)"
   ]
  },
  {
   "cell_type": "markdown",
   "metadata": {
    "_cell_guid": "e3d6fd2a-a371-4164-860f-7694a2e0cd26",
    "_uuid": "2083e8d574740ef1f4cb66fcad2da3d9da8507fd"
   },
   "source": [
    "# **8. Save the submission and performance metrics of our best model**"
   ]
  },
  {
   "cell_type": "code",
   "execution_count": 86,
   "metadata": {
    "_cell_guid": "977cc468-abd1-4cc4-b451-595f1db8fcbb",
    "_uuid": "88e061beeec475745458a7f42e3e45244f69ef4b",
    "collapsed": true
   },
   "outputs": [
    {
     "name": "stdout",
     "output_type": "stream",
     "text": [
      "INFO:tensorflow:Restoring parameters from ./my-model-309\n"
     ]
    }
   ],
   "source": [
    "# t5 = time.time()\n",
    "\n",
    "with tf.Session() as sess:    \n",
    "    \n",
    "    # restore the best model\n",
    "    model_path = \"./\"+\"my-model-\"+str(best_iteration)\n",
    "    saver.restore(sess, model_path)\n",
    "    \n",
    "    # break the test set into k folds other wise kernel will be out of memory\n",
    "    n = len(iD)\n",
    "    k = 12\n",
    "    step = n//k\n",
    "    \n",
    "    # array to store the prediction\n",
    "    preds = np.array([])\n",
    "\n",
    "    # iterate through each fold\n",
    "    for i in range(k):\n",
    "\n",
    "        # start and end indices of the fold\n",
    "        start = (step*i)\n",
    "        end = (step*(i+1)) \n",
    "    \n",
    "        # feed dictionary for the fold\n",
    "        feed_dict_test =  {image: image_test[start:end],\n",
    "#                            angle: np.transpose([angles_test[start:end]]),\n",
    "                           keep_prob: 1.0}\n",
    "\n",
    "        # evaluate predictions of the fold\n",
    "        fold_preds = y_pred.eval(session=sess, feed_dict = feed_dict_test)[:,1]\n",
    "        # append the predictions of the fold to the designated array\n",
    "        preds = np.append(preds, fold_preds)\n",
    "    \n",
    "    # save the submission csv file\n",
    "    submission_path = \"./submission.csv\"\n",
    "    submission = pd.DataFrame({\"id\": iD, \"is_iceberg\": preds})\n",
    "    submission.to_csv(submission_path, header = True, index=False)\n",
    "    \n",
    "    # save the csv file containing performance metrics of the best model \n",
    "    results = pd.DataFrame([int(best_iteration),train_loss[best_iteration],\n",
    "                            valid_loss[best_iteration], valid_acc[best_iteration]],\n",
    "                           index=[\"iteration\", \"train loss\", \"valid loss\", \"accuracy\"],\n",
    "                           columns = [\"results\"])    \n",
    "    results_path = \"./results.csv\"    \n",
    "    results.to_csv(results_path, header = True, index=True)\n",
    "    \n",
    "# t6 = time.time()\n",
    "# print(\"time take for prediction: \", t6-t5)"
   ]
  },
  {
   "cell_type": "markdown",
   "metadata": {
    "_cell_guid": "593ceda5-7e05-4cf0-abc8-154feb035219",
    "_uuid": "c18d3725b7448a2304d57c3374f8de627862c430"
   },
   "source": [
    "# **9. Visualization of the performance**"
   ]
  },
  {
   "cell_type": "markdown",
   "metadata": {
    "_cell_guid": "589a0642-75a9-421c-9d57-f286f78c7f2f",
    "_uuid": "81039db2d254d7022c9d0819e3dfcdbca097baac"
   },
   "source": [
    "## **9.1 Plot of loss over iteration**"
   ]
  },
  {
   "cell_type": "code",
   "execution_count": 87,
   "metadata": {
    "_cell_guid": "aba71e61-9348-49f9-ac09-0b0cd317678a",
    "_uuid": "904340b5b401d6fab9c7c5fbfd54fc6f47f28b0a",
    "collapsed": true
   },
   "outputs": [
    {
     "data": {
      "image/png": "[encoded data removed]",
      "text/plain": [
       "<matplotlib.figure.Figure at 0x7f04cdfe8ef0>"
      ]
     },
     "metadata": {},
     "output_type": "display_data"
    }
   ],
   "source": [
    "plt.figure(figsize=(16, 8), dpi= 80, facecolor='w', edgecolor='k')\n",
    "iterations = list(range(1,iteration+1))\n",
    "plt.plot(iterations, train_loss, label = \"train loss\")\n",
    "plt.plot(iterations, valid_loss, label = \"valid loss\")\n",
    "plt.title(\"Loss\")\n",
    "plt.xlabel(\"iter\")\n",
    "plt.ylabel(\"loss\")\n",
    "plt.legend()\n",
    "plt.grid()\n",
    "plt.show()"
   ]
  },
  {
   "cell_type": "markdown",
   "metadata": {
    "_cell_guid": "ca868335-904c-42a1-b279-e1c91d6e6dc6",
    "_uuid": "15a5202b6b8e18d5baa81d6e2561ff043c6e943b"
   },
   "source": [
    "## **9.2 Plot of training accuracy over iteration**"
   ]
  },
  {
   "cell_type": "code",
   "execution_count": 88,
   "metadata": {
    "_cell_guid": "4cbf848e-a13c-4a6a-9989-b79c6eeffefd",
    "_uuid": "98b6f21e7a9b8da25783bb23bf707faf898ea27d",
    "collapsed": true
   },
   "outputs": [
    {
     "data": {
      "image/png": "[encoded data removed]",
      "text/plain": [
       "<matplotlib.figure.Figure at 0x7f04d69ed898>"
      ]
     },
     "metadata": {},
     "output_type": "display_data"
    }
   ],
   "source": [
    "plt.figure(figsize=(16, 8), dpi= 80, facecolor='w', edgecolor='k')\n",
    "plt.plot(iterations, valid_acc, label = \"train loss\")\n",
    "plt.title(\"Accuracy\")\n",
    "plt.xlabel(\"iter\")\n",
    "plt.ylabel(\"accuracy\")\n",
    "plt.grid()\n",
    "plt.show()"
   ]
  },
  {
   "cell_type": "markdown",
   "metadata": {
    "_cell_guid": "ec1c6478-0ddb-4834-adf4-d92bf10a1681",
    "_uuid": "535cb132d3732b315b2dfdd71b57d933da0c7d01"
   },
   "source": [
    "# **10. Advice**"
   ]
  },
  {
   "cell_type": "markdown",
   "metadata": {
    "_cell_guid": "77776bbd-985f-4904-b6ab-c3f4d3fcdf54",
    "_uuid": "856a105767f9f19f7fd93237084a717dbcde2ac9"
   },
   "source": [
    "Looking at the plot it is safe to say that the loss would have gone lower if we increase the number of iterations. I would advise to train the model using higher computational power to decrease iteration time and increase kernel time, an easy way to do that is by running the script on google cloud (such as dataflow) or amazon web service instances having high memory. Another advice I would give if you take the first advise is to increase the batch size to 500 to stabalize the optimization."
   ]
  }
 ],
 "metadata": {
  "kernelspec": {
   "display_name": "Python 3",
   "language": "python",
   "name": "python3"
  },
  "language_info": {
   "codemirror_mode": {
    "name": "ipython",
    "version": 3
   },
   "file_extension": ".py",
   "mimetype": "text/x-python",
   "name": "python",
   "nbconvert_exporter": "python",
   "pygments_lexer": "ipython3",
   "version": "3.6.4"
  }
 },
 "nbformat": 4,
 "nbformat_minor": 1
}
