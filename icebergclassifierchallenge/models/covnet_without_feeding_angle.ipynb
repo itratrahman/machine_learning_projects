{
 "cells": [
  {
   "cell_type": "markdown",
   "metadata": {
    "_cell_guid": "65d51e1a-2e3d-4a46-8ec1-4c385fbac150",
    "_uuid": "ce931d91e1360582fa34153541dd7bb16506c718"
   },
   "source": [
    "## **Import the required libraries**"
   ]
  },
  {
   "cell_type": "code",
   "execution_count": 1,
   "metadata": {
    "_cell_guid": "889c4901-bc13-4e7b-a145-00c215705449",
    "_uuid": "aef0e4375a10846ed786632417e6b3a668b23ef6",
    "collapsed": true
   },
   "outputs": [],
   "source": [
    "# import time\n",
    "import time\n",
    "t1 = time.time()"
   ]
  },
  {
   "cell_type": "code",
   "execution_count": 2,
   "metadata": {
    "_cell_guid": "f8f8118b-359d-4ae2-be59-72ee88394c0f",
    "_uuid": "a5a1bd0306fb34c97bd6cc32415537bdba8805fd",
    "collapsed": true
   },
   "outputs": [],
   "source": [
    "import math\n",
    "import json\n",
    "import pandas as pd\n",
    "import numpy as np\n",
    "np.random.seed(6)\n",
    "import cv2\n",
    "from sklearn.preprocessing import MinMaxScaler\n",
    "import matplotlib\n",
    "from matplotlib import pyplot as plt\n",
    "%matplotlib inline"
   ]
  },
  {
   "cell_type": "markdown",
   "metadata": {
    "_cell_guid": "ba8e27a4-4f25-40d5-90c1-df3b74e30175",
    "_uuid": "234dc6007bd963e70e10376d46a35672d22cedca"
   },
   "source": [
    "# **1. Load and Inspect the data**"
   ]
  },
  {
   "cell_type": "code",
   "execution_count": 3,
   "metadata": {
    "_cell_guid": "0a1ed763-ec52-4e6f-88e7-2a10538c2a6c",
    "_uuid": "275ac153352eaca867bf60fe8eecc7d07f4f69c7",
    "collapsed": true
   },
   "outputs": [],
   "source": [
    "data = pd.read_json('../input/train.json')\n",
    "test_data = pd.read_json('../input/test.json')"
   ]
  },
  {
   "cell_type": "code",
   "execution_count": 4,
   "metadata": {
    "_cell_guid": "59fa9cc3-a66c-4003-a988-99ebc9ebf741",
    "_uuid": "978c8bee78d52a1953b1484c162e698d4dbf4339",
    "collapsed": true
   },
   "outputs": [
    {
     "data": {
      "text/html": [
       "<div>\n",
       "<style>\n",
       "    .dataframe thead tr:only-child th {\n",
       "        text-align: right;\n",
       "    }\n",
       "\n",
       "    .dataframe thead th {\n",
       "        text-align: left;\n",
       "    }\n",
       "\n",
       "    .dataframe tbody tr th {\n",
       "        vertical-align: top;\n",
       "    }\n",
       "</style>\n",
       "<table border=\"1\" class=\"dataframe\">\n",
       "  <thead>\n",
       "    <tr style=\"text-align: right;\">\n",
       "      <th></th>\n",
       "      <th>band_1</th>\n",
       "      <th>band_2</th>\n",
       "      <th>id</th>\n",
       "      <th>inc_angle</th>\n",
       "      <th>is_iceberg</th>\n",
       "    </tr>\n",
       "  </thead>\n",
       "  <tbody>\n",
       "    <tr>\n",
       "      <th>0</th>\n",
       "      <td>[-27.878360999999998, -27.15416, -28.668615, -...</td>\n",
       "      <td>[-27.154118, -29.537888, -31.0306, -32.190483,...</td>\n",
       "      <td>dfd5f913</td>\n",
       "      <td>43.9239</td>\n",
       "      <td>0</td>\n",
       "    </tr>\n",
       "    <tr>\n",
       "      <th>1</th>\n",
       "      <td>[-12.242375, -14.920304999999999, -14.920363, ...</td>\n",
       "      <td>[-31.506321, -27.984554, -26.645678, -23.76760...</td>\n",
       "      <td>e25388fd</td>\n",
       "      <td>38.1562</td>\n",
       "      <td>0</td>\n",
       "    </tr>\n",
       "    <tr>\n",
       "      <th>2</th>\n",
       "      <td>[-24.603676, -24.603714, -24.871029, -23.15277...</td>\n",
       "      <td>[-24.870956, -24.092632, -20.653963, -19.41104...</td>\n",
       "      <td>58b2aaa0</td>\n",
       "      <td>45.2859</td>\n",
       "      <td>1</td>\n",
       "    </tr>\n",
       "    <tr>\n",
       "      <th>3</th>\n",
       "      <td>[-22.454607, -23.082819, -23.998013, -23.99805...</td>\n",
       "      <td>[-27.889421, -27.519794, -27.165262, -29.10350...</td>\n",
       "      <td>4cfc3a18</td>\n",
       "      <td>43.8306</td>\n",
       "      <td>0</td>\n",
       "    </tr>\n",
       "    <tr>\n",
       "      <th>4</th>\n",
       "      <td>[-26.006956, -23.164886, -23.164886, -26.89116...</td>\n",
       "      <td>[-27.206915, -30.259186, -30.259186, -23.16495...</td>\n",
       "      <td>271f93f4</td>\n",
       "      <td>35.6256</td>\n",
       "      <td>0</td>\n",
       "    </tr>\n",
       "  </tbody>\n",
       "</table>\n",
       "</div>"
      ],
      "text/plain": [
       "                                              band_1  \\\n",
       "0  [-27.878360999999998, -27.15416, -28.668615, -...   \n",
       "1  [-12.242375, -14.920304999999999, -14.920363, ...   \n",
       "2  [-24.603676, -24.603714, -24.871029, -23.15277...   \n",
       "3  [-22.454607, -23.082819, -23.998013, -23.99805...   \n",
       "4  [-26.006956, -23.164886, -23.164886, -26.89116...   \n",
       "\n",
       "                                              band_2        id inc_angle  \\\n",
       "0  [-27.154118, -29.537888, -31.0306, -32.190483,...  dfd5f913   43.9239   \n",
       "1  [-31.506321, -27.984554, -26.645678, -23.76760...  e25388fd   38.1562   \n",
       "2  [-24.870956, -24.092632, -20.653963, -19.41104...  58b2aaa0   45.2859   \n",
       "3  [-27.889421, -27.519794, -27.165262, -29.10350...  4cfc3a18   43.8306   \n",
       "4  [-27.206915, -30.259186, -30.259186, -23.16495...  271f93f4   35.6256   \n",
       "\n",
       "   is_iceberg  \n",
       "0           0  \n",
       "1           0  \n",
       "2           1  \n",
       "3           0  \n",
       "4           0  "
      ]
     },
     "execution_count": 4,
     "metadata": {},
     "output_type": "execute_result"
    }
   ],
   "source": [
    "data.head(5)"
   ]
  },
  {
   "cell_type": "code",
   "execution_count": 5,
   "metadata": {
    "_cell_guid": "72fefb0a-3087-4ab2-8043-cccc54bef7d4",
    "_uuid": "db9cedd6992ff0eea8d6bc56069cd90482eebcb1",
    "collapsed": true
   },
   "outputs": [
    {
     "data": {
      "text/html": [
       "<div>\n",
       "<style>\n",
       "    .dataframe thead tr:only-child th {\n",
       "        text-align: right;\n",
       "    }\n",
       "\n",
       "    .dataframe thead th {\n",
       "        text-align: left;\n",
       "    }\n",
       "\n",
       "    .dataframe tbody tr th {\n",
       "        vertical-align: top;\n",
       "    }\n",
       "</style>\n",
       "<table border=\"1\" class=\"dataframe\">\n",
       "  <thead>\n",
       "    <tr style=\"text-align: right;\">\n",
       "      <th></th>\n",
       "      <th>band_1</th>\n",
       "      <th>band_2</th>\n",
       "      <th>id</th>\n",
       "      <th>inc_angle</th>\n",
       "    </tr>\n",
       "  </thead>\n",
       "  <tbody>\n",
       "    <tr>\n",
       "      <th>0</th>\n",
       "      <td>[-15.863251, -15.201077, -17.887735, -19.17248...</td>\n",
       "      <td>[-21.629612, -21.142353, -23.908337, -28.34524...</td>\n",
       "      <td>5941774d</td>\n",
       "      <td>34.966400</td>\n",
       "    </tr>\n",
       "    <tr>\n",
       "      <th>1</th>\n",
       "      <td>[-26.058969497680664, -26.058969497680664, -26...</td>\n",
       "      <td>[-25.754207611083984, -25.754207611083984, -25...</td>\n",
       "      <td>4023181e</td>\n",
       "      <td>32.615072</td>\n",
       "    </tr>\n",
       "    <tr>\n",
       "      <th>2</th>\n",
       "      <td>[-14.14109992980957, -15.064241409301758, -17....</td>\n",
       "      <td>[-14.74563980102539, -14.590410232543945, -14....</td>\n",
       "      <td>b20200e4</td>\n",
       "      <td>37.505433</td>\n",
       "    </tr>\n",
       "    <tr>\n",
       "      <th>3</th>\n",
       "      <td>[-12.167478, -13.706167, -16.54837, -13.572674...</td>\n",
       "      <td>[-24.32222, -26.375538, -24.096739, -23.8769, ...</td>\n",
       "      <td>e7f018bb</td>\n",
       "      <td>34.473900</td>\n",
       "    </tr>\n",
       "    <tr>\n",
       "      <th>4</th>\n",
       "      <td>[-23.37459373474121, -26.02718162536621, -28.1...</td>\n",
       "      <td>[-25.72234344482422, -27.011577606201172, -23....</td>\n",
       "      <td>4371c8c3</td>\n",
       "      <td>43.918874</td>\n",
       "    </tr>\n",
       "  </tbody>\n",
       "</table>\n",
       "</div>"
      ],
      "text/plain": [
       "                                              band_1  \\\n",
       "0  [-15.863251, -15.201077, -17.887735, -19.17248...   \n",
       "1  [-26.058969497680664, -26.058969497680664, -26...   \n",
       "2  [-14.14109992980957, -15.064241409301758, -17....   \n",
       "3  [-12.167478, -13.706167, -16.54837, -13.572674...   \n",
       "4  [-23.37459373474121, -26.02718162536621, -28.1...   \n",
       "\n",
       "                                              band_2        id  inc_angle  \n",
       "0  [-21.629612, -21.142353, -23.908337, -28.34524...  5941774d  34.966400  \n",
       "1  [-25.754207611083984, -25.754207611083984, -25...  4023181e  32.615072  \n",
       "2  [-14.74563980102539, -14.590410232543945, -14....  b20200e4  37.505433  \n",
       "3  [-24.32222, -26.375538, -24.096739, -23.8769, ...  e7f018bb  34.473900  \n",
       "4  [-25.72234344482422, -27.011577606201172, -23....  4371c8c3  43.918874  "
      ]
     },
     "execution_count": 5,
     "metadata": {},
     "output_type": "execute_result"
    }
   ],
   "source": [
    "test_data.head(5)"
   ]
  },
  {
   "cell_type": "code",
   "execution_count": 6,
   "metadata": {
    "_cell_guid": "b8d12566-2ba4-4ebc-a4c8-4f48e4075e9d",
    "_uuid": "5d1f5b7b7cc8b917742709041c3cc79754c56f31",
    "collapsed": true
   },
   "outputs": [
    {
     "name": "stdout",
     "output_type": "stream",
     "text": [
      "Shape of train set: (1604, 5)\n",
      "Shape of test set: (8424, 4)\n"
     ]
    }
   ],
   "source": [
    "print(\"Shape of train set:\", data.shape)\n",
    "print(\"Shape of test set:\", test_data.shape)"
   ]
  },
  {
   "cell_type": "code",
   "execution_count": 7,
   "metadata": {
    "_cell_guid": "2ea9679c-9474-4733-9b78-93a2e6d89e8b",
    "_uuid": "6768152bc325662c30599994df4dcd6e452fb93c",
    "collapsed": true
   },
   "outputs": [
    {
     "name": "stdout",
     "output_type": "stream",
     "text": [
      "Shape of band 1: (5625,)\n",
      "Shape of band 2: (5625,)\n"
     ]
    }
   ],
   "source": [
    "print(\"Shape of band 1:\",  np.shape(data.band_1.iloc[0]))\n",
    "print(\"Shape of band 2:\",  np.shape(data.band_2.iloc[0]))"
   ]
  },
  {
   "cell_type": "code",
   "execution_count": 8,
   "metadata": {
    "_cell_guid": "c425a835-5ce7-405f-ac72-f47945d117e9",
    "_uuid": "69f8276d8dc39b2b01f145d23fb42a98c61f4379",
    "collapsed": true
   },
   "outputs": [
    {
     "name": "stdout",
     "output_type": "stream",
     "text": [
      "Type of band 1: <class 'list'>\n",
      "Type of band 2: <class 'list'>\n"
     ]
    }
   ],
   "source": [
    "print(\"Type of band 1:\",  type(data.band_1.iloc[0]))\n",
    "print(\"Type of band 2:\",  type(data.band_2.iloc[0]))"
   ]
  },
  {
   "cell_type": "markdown",
   "metadata": {
    "_cell_guid": "8e75b4f3-473e-465f-8ac2-b3c4d67a0020",
    "_uuid": "8081c747d268ee030c1e3b659944ef82954e4f90"
   },
   "source": [
    "# **2. Feature Engineering**"
   ]
  },
  {
   "cell_type": "markdown",
   "metadata": {
    "_cell_guid": "ceb662b0-8aa3-4617-89bd-f5f2329ea6fa",
    "_uuid": "1c4a6498d16f4b82d4c115dc482442990bb9762c"
   },
   "source": [
    "## **2.1 Feature engineering on train set**"
   ]
  },
  {
   "cell_type": "markdown",
   "metadata": {
    "_cell_guid": "f8061808-806b-4a9d-a426-f39609522309",
    "_uuid": "1de83b66887477e0d31f1c33a3bb4532ceff5176"
   },
   "source": [
    "### **2.1.1 Replacing the na in inc_anlge with mean**********"
   ]
  },
  {
   "cell_type": "code",
   "execution_count": 9,
   "metadata": {
    "_cell_guid": "f59f93d3-cab1-4972-bed9-7626ba490076",
    "_uuid": "c73144f16395cdb9b98c384d114003f44efba614",
    "collapsed": true
   },
   "outputs": [],
   "source": [
    "data[data['inc_angle']=='na'] = data[data['inc_angle']!='na']['inc_angle'].mean()"
   ]
  },
  {
   "cell_type": "markdown",
   "metadata": {
    "_cell_guid": "d62e4721-33f2-48e8-8697-4e2b4d17223f",
    "_uuid": "0286b0e9b9b7e49a2371eadc85ae0859f5dcdeb7"
   },
   "source": [
    "### **2.1.2 Converting the angle from degrees to radian******"
   ]
  },
  {
   "cell_type": "code",
   "execution_count": 10,
   "metadata": {
    "_cell_guid": "b7ed5263-5d98-4608-8d13-a5d41bd30525",
    "_uuid": "d220ec6223601124059fb6f28913d37a3697d52f",
    "collapsed": true
   },
   "outputs": [],
   "source": [
    "data['inc_angle'] = data['inc_angle'].apply(lambda x: math.radians(x))"
   ]
  },
  {
   "cell_type": "code",
   "execution_count": 11,
   "metadata": {
    "_cell_guid": "9f73a210-4cab-4322-968e-0b8c3e64e419",
    "_uuid": "cd3a3bd9aca879bcdac06427cfe644e50e489ad6",
    "collapsed": true
   },
   "outputs": [
    {
     "data": {
      "text/plain": [
       "0    0.766617\n",
       "1    0.665951\n",
       "2    0.790388\n",
       "3    0.764988\n",
       "4    0.621784\n",
       "Name: inc_angle, dtype: float64"
      ]
     },
     "execution_count": 11,
     "metadata": {},
     "output_type": "execute_result"
    }
   ],
   "source": [
    "data.inc_angle.head()"
   ]
  },
  {
   "cell_type": "markdown",
   "metadata": {
    "_cell_guid": "ba7060dd-56f8-41ed-a07c-43720d857869",
    "_uuid": "d432da654082ba4241baf62c5b35935718359556"
   },
   "source": [
    "### ** 2.1.3 Finding and droping points with mismatch band1 and band2 data**"
   ]
  },
  {
   "cell_type": "markdown",
   "metadata": {
    "_cell_guid": "457faa33-d2f1-441e-a2a6-88fa45b9b716",
    "_uuid": "52cf51e1f8957ccc549a664b1fbded8c218acddd"
   },
   "source": [
    "**Function which return the count and the index of mismatched data**"
   ]
  },
  {
   "cell_type": "code",
   "execution_count": 12,
   "metadata": {
    "_cell_guid": "17ff47b5-5ab8-4caa-8c5a-ddef625e326a",
    "_uuid": "108fc6ac01471d76325d9adf608449a6f97a9532",
    "collapsed": true
   },
   "outputs": [],
   "source": [
    "def find_missing_data(series, shape):\n",
    "    \n",
    "    '''function which return the count and the index of mismatched data'''    \n",
    "    count = 0\n",
    "    missing_list = []\n",
    "    for i,x in enumerate(series):   \n",
    "        if np.shape(series.iloc[i]) != shape:\n",
    "            missing_list.append(i)\n",
    "            count += 1\n",
    "            \n",
    "    return missing_list, count"
   ]
  },
  {
   "cell_type": "markdown",
   "metadata": {
    "_cell_guid": "d0345f6b-9d38-43db-85c2-1a9622694eff",
    "_uuid": "ca85acfd8187174e0d3113dddcc7fa9d36d72ad9"
   },
   "source": [
    "**Count and list of mismatched points in band1**"
   ]
  },
  {
   "cell_type": "code",
   "execution_count": 13,
   "metadata": {
    "_cell_guid": "fa6205fe-16f0-4840-8565-1f09b98178c4",
    "_uuid": "ecc12a319af2e9f6215935ff1f92e787a4988fff",
    "collapsed": true
   },
   "outputs": [
    {
     "name": "stdout",
     "output_type": "stream",
     "text": [
      "count:  133\n",
      "missing data:  [101, 126, 142, 145, 176, 179, 191, 278, 286, 342, 412, 431, 440, 493, 642, 666, 667, 730, 741, 742, 763, 822, 863, 868, 906, 916, 996, 1041, 1065, 1095, 1199, 1228, 1247, 1257, 1268, 1290, 1345, 1403, 1509, 1510, 1511, 1512, 1513, 1514, 1515, 1516, 1517, 1518, 1519, 1520, 1521, 1522, 1523, 1524, 1525, 1526, 1527, 1528, 1529, 1530, 1531, 1532, 1533, 1534, 1535, 1536, 1537, 1538, 1539, 1540, 1541, 1542, 1543, 1544, 1545, 1546, 1547, 1548, 1549, 1550, 1551, 1552, 1553, 1554, 1555, 1556, 1557, 1558, 1559, 1560, 1561, 1562, 1563, 1564, 1565, 1566, 1567, 1568, 1569, 1570, 1571, 1572, 1573, 1574, 1575, 1576, 1577, 1578, 1579, 1580, 1581, 1582, 1583, 1584, 1585, 1586, 1587, 1588, 1589, 1590, 1591, 1592, 1593, 1594, 1595, 1596, 1597, 1598, 1599, 1600, 1601, 1602, 1603]\n"
     ]
    }
   ],
   "source": [
    "missing_list1, count1 = find_missing_data(data.band_1, (5625,))\n",
    "print(\"count: \", count1)\n",
    "print(\"missing data: \", missing_list1)"
   ]
  },
  {
   "cell_type": "markdown",
   "metadata": {
    "_cell_guid": "2c0cf47e-da7e-4d7c-927d-05cf1dae77f1",
    "_uuid": "3d27c3e17cf67f027f9a51ef658eb57d0b6181ea"
   },
   "source": [
    "**Count and list of mismatched points in band2**"
   ]
  },
  {
   "cell_type": "code",
   "execution_count": 14,
   "metadata": {
    "_cell_guid": "aff2c169-e2d2-428d-abbc-462dd9e79609",
    "_uuid": "3de25d4fa2159ef52651a58ccb16b6ef8a6ea4b5",
    "collapsed": true
   },
   "outputs": [
    {
     "name": "stdout",
     "output_type": "stream",
     "text": [
      "count:  133\n",
      "missing data:  [101, 126, 142, 145, 176, 179, 191, 278, 286, 342, 412, 431, 440, 493, 642, 666, 667, 730, 741, 742, 763, 822, 863, 868, 906, 916, 996, 1041, 1065, 1095, 1199, 1228, 1247, 1257, 1268, 1290, 1345, 1403, 1509, 1510, 1511, 1512, 1513, 1514, 1515, 1516, 1517, 1518, 1519, 1520, 1521, 1522, 1523, 1524, 1525, 1526, 1527, 1528, 1529, 1530, 1531, 1532, 1533, 1534, 1535, 1536, 1537, 1538, 1539, 1540, 1541, 1542, 1543, 1544, 1545, 1546, 1547, 1548, 1549, 1550, 1551, 1552, 1553, 1554, 1555, 1556, 1557, 1558, 1559, 1560, 1561, 1562, 1563, 1564, 1565, 1566, 1567, 1568, 1569, 1570, 1571, 1572, 1573, 1574, 1575, 1576, 1577, 1578, 1579, 1580, 1581, 1582, 1583, 1584, 1585, 1586, 1587, 1588, 1589, 1590, 1591, 1592, 1593, 1594, 1595, 1596, 1597, 1598, 1599, 1600, 1601, 1602, 1603]\n"
     ]
    }
   ],
   "source": [
    "missing_list2, count2 = find_missing_data(data.band_2, (5625,))\n",
    "print(\"count: \", count1)\n",
    "print(\"missing data: \", missing_list2)"
   ]
  },
  {
   "cell_type": "markdown",
   "metadata": {
    "_cell_guid": "c35645ad-3710-4986-b42d-d5f8d3ab8f1a",
    "_uuid": "e4eb2fdc12ce78db5527af4fdf3a662c11187231"
   },
   "source": [
    "**Check if the missing points are same**"
   ]
  },
  {
   "cell_type": "code",
   "execution_count": 15,
   "metadata": {
    "_cell_guid": "4082937c-1ce6-4409-b240-1cf375129e28",
    "_uuid": "be124d3032e55a5efac2ed60ec56e4935ac53868",
    "collapsed": true
   },
   "outputs": [
    {
     "data": {
      "text/plain": [
       "True"
      ]
     },
     "execution_count": 15,
     "metadata": {},
     "output_type": "execute_result"
    }
   ],
   "source": [
    "missing_list1 == missing_list2"
   ]
  },
  {
   "cell_type": "markdown",
   "metadata": {
    "_cell_guid": "0edffb63-a8b7-4dcf-be24-8a99213ea394",
    "_uuid": "00966316ba5e1384602a25fe93a941ec5a14b1d0"
   },
   "source": [
    "**Function to drop data by index**"
   ]
  },
  {
   "cell_type": "code",
   "execution_count": 16,
   "metadata": {
    "_cell_guid": "f9e21d9b-5aa7-4045-be32-15db73520c14",
    "_uuid": "6b89b6728e54c7424cf5b290248294f9a17f296c",
    "collapsed": true
   },
   "outputs": [],
   "source": [
    "def drop_data(df, index):\n",
    "    \n",
    "    '''function to drop data by index'''\n",
    "    return df.drop(df.index[index])"
   ]
  },
  {
   "cell_type": "markdown",
   "metadata": {
    "_cell_guid": "f1c234e4-738b-44c5-b690-049b76a2221c",
    "_uuid": "90b67ffa52acd981973b1fbb9a52d9b25acbd076"
   },
   "source": [
    "**Drop the points with mismatched images**"
   ]
  },
  {
   "cell_type": "code",
   "execution_count": 17,
   "metadata": {
    "_cell_guid": "7aa9a271-8ce5-4d09-9643-870f5a82cd56",
    "_uuid": "0e32bbc67ca5298a9e9ee5cbe4a809266cba0e68",
    "collapsed": true
   },
   "outputs": [],
   "source": [
    "data = drop_data(data, missing_list1)"
   ]
  },
  {
   "cell_type": "code",
   "execution_count": 18,
   "metadata": {
    "_cell_guid": "f3b24d67-fd94-421c-bcd2-8a7d9e27183c",
    "_uuid": "f7c91ddad5c7b348a37307dac2e03ff630392e3b",
    "collapsed": true
   },
   "outputs": [
    {
     "data": {
      "text/plain": [
       "(1471, 5)"
      ]
     },
     "execution_count": 18,
     "metadata": {},
     "output_type": "execute_result"
    }
   ],
   "source": [
    "data.shape"
   ]
  },
  {
   "cell_type": "code",
   "execution_count": 19,
   "metadata": {
    "_cell_guid": "46f737e0-2445-42bf-b7d8-33285d4ea9b4",
    "_uuid": "f3ac6619b44f579ad48781185d72a2588766afc4",
    "collapsed": true
   },
   "outputs": [
    {
     "name": "stdout",
     "output_type": "stream",
     "text": [
      "Number of positive classes:  753\n",
      "Number of negative classes:  718\n"
     ]
    }
   ],
   "source": [
    "print(\"Number of positive classes: \", len(data[data['is_iceberg'] == 1.0]))\n",
    "print(\"Number of negative classes: \", len(data[data['is_iceberg'] == 0.0]))"
   ]
  },
  {
   "cell_type": "markdown",
   "metadata": {
    "_cell_guid": "5a025763-89f2-4c70-9d77-a06bdcce9838",
    "_uuid": "ce7741f7f35d38618b49733084efda42f9f13024"
   },
   "source": [
    "### 2.1.4 Scale the image data"
   ]
  },
  {
   "cell_type": "markdown",
   "metadata": {
    "_cell_guid": "19a77444-9f8e-4d4d-948e-3a90e9a1f6a7",
    "_uuid": "f1cb3b6f7cb2963f7026eef6b164b4ac28cf6b90"
   },
   "source": [
    "**3 standardization to technique we can try on**"
   ]
  },
  {
   "cell_type": "code",
   "execution_count": 20,
   "metadata": {
    "_cell_guid": "93cde433-87d7-476a-b084-9eaa82433c9d",
    "_uuid": "ae053563db3757bb4dc6eb3bd49992160b05af6b",
    "collapsed": true
   },
   "outputs": [],
   "source": [
    "def standardise_vector(vector):\n",
    "    '''standardise vector'''\n",
    "    standardised_vector = (np.array(vector) - np.mean(vector)) / np.std(vector)\n",
    "    return standardised_vector.tolist()"
   ]
  },
  {
   "cell_type": "code",
   "execution_count": 21,
   "metadata": {
    "_cell_guid": "bb29a86b-d6d0-44dd-9271-3c53a7154989",
    "_uuid": "ead913b3576c08b41c8edfbe560cc5a0b53b6aa0",
    "collapsed": true
   },
   "outputs": [],
   "source": [
    "def mean_normalise_vector(vector):\n",
    "    '''mean normalize vector'''\n",
    "    normalised_vector = (np.array(vector) - np.mean(vector)) / (np.max(vector) - np.min(vector))\n",
    "    return normalised_vector.tolist()"
   ]
  },
  {
   "cell_type": "code",
   "execution_count": 22,
   "metadata": {
    "_cell_guid": "ed1b04db-4ef2-4406-9521-6f32fa901ce7",
    "_uuid": "896c3ccb0591a713b201f928a585a3a48cfc1d50",
    "collapsed": true
   },
   "outputs": [],
   "source": [
    "def min_max_scaler(vector, minimum = 0, maximum = 1):\n",
    "    '''minmaxscaler'''\n",
    "    X_std  = (np.array(vector) - np.min(vector)) / (np.max(vector) - np.min(vector))\n",
    "    scaled_vector = X_std * (maximum - minimum) + minimum\n",
    "    return scaled_vector.tolist()"
   ]
  },
  {
   "cell_type": "markdown",
   "metadata": {
    "_cell_guid": "03254dfd-4e0b-40bb-b6eb-4fc69ed7f483",
    "_uuid": "4ca25f567f80d7dc562326a8c5f50ef8fbc2afa3"
   },
   "source": [
    "**We will use standardisation as the  normalization technique since this works well with images**"
   ]
  },
  {
   "cell_type": "code",
   "execution_count": 23,
   "metadata": {
    "_cell_guid": "d80c077d-8d1f-4b9c-8341-02ec60cddefe",
    "_uuid": "bb8239e956b43e0ace7d20357002c6e602b0ed48",
    "collapsed": true
   },
   "outputs": [],
   "source": [
    "data['band_1'] = data['band_1'].apply(standardise_vector)\n",
    "data['band_2'] = data['band_2'].apply(standardise_vector)"
   ]
  },
  {
   "cell_type": "code",
   "execution_count": 24,
   "metadata": {
    "_cell_guid": "9bc78ba9-ece5-4c01-a75c-f54d5ecafdf3",
    "_uuid": "723505e0b9dbaaf4ac9f6c605a7bd127f0a8c534",
    "collapsed": true
   },
   "outputs": [
    {
     "data": {
      "text/html": [
       "<div>\n",
       "<style>\n",
       "    .dataframe thead tr:only-child th {\n",
       "        text-align: right;\n",
       "    }\n",
       "\n",
       "    .dataframe thead th {\n",
       "        text-align: left;\n",
       "    }\n",
       "\n",
       "    .dataframe tbody tr th {\n",
       "        vertical-align: top;\n",
       "    }\n",
       "</style>\n",
       "<table border=\"1\" class=\"dataframe\">\n",
       "  <thead>\n",
       "    <tr style=\"text-align: right;\">\n",
       "      <th></th>\n",
       "      <th>band_1</th>\n",
       "      <th>band_2</th>\n",
       "      <th>id</th>\n",
       "      <th>inc_angle</th>\n",
       "      <th>is_iceberg</th>\n",
       "    </tr>\n",
       "  </thead>\n",
       "  <tbody>\n",
       "    <tr>\n",
       "      <th>0</th>\n",
       "      <td>[0.01182174564467684, 0.27378275943768166, -0....</td>\n",
       "      <td>[1.1573585860406173, 0.15631457838356574, -0.4...</td>\n",
       "      <td>dfd5f913</td>\n",
       "      <td>0.766617</td>\n",
       "      <td>0.0</td>\n",
       "    </tr>\n",
       "    <tr>\n",
       "      <th>1</th>\n",
       "      <td>[0.42137323598577087, -0.43078366534450846, -0...</td>\n",
       "      <td>[-2.0950953014724543, -0.8948057535299927, -0....</td>\n",
       "      <td>e25388fd</td>\n",
       "      <td>0.665951</td>\n",
       "      <td>0.0</td>\n",
       "    </tr>\n",
       "    <tr>\n",
       "      <th>2</th>\n",
       "      <td>[-0.6969623073924855, -0.6969793944501068, -0....</td>\n",
       "      <td>[-0.014649839717716016, 0.35157292381049343, 1...</td>\n",
       "      <td>58b2aaa0</td>\n",
       "      <td>0.790388</td>\n",
       "      <td>1.0</td>\n",
       "    </tr>\n",
       "    <tr>\n",
       "      <th>3</th>\n",
       "      <td>[0.2946591706447792, 0.04985985071106006, -0.3...</td>\n",
       "      <td>[0.7023040788844376, 0.8569610477684707, 1.005...</td>\n",
       "      <td>4cfc3a18</td>\n",
       "      <td>0.764988</td>\n",
       "      <td>0.0</td>\n",
       "    </tr>\n",
       "    <tr>\n",
       "      <th>4</th>\n",
       "      <td>[-0.31533024179271146, 0.9175181439939705, 0.9...</td>\n",
       "      <td>[-0.693769690678262, -2.0346940986353044, -2.0...</td>\n",
       "      <td>271f93f4</td>\n",
       "      <td>0.621784</td>\n",
       "      <td>0.0</td>\n",
       "    </tr>\n",
       "  </tbody>\n",
       "</table>\n",
       "</div>"
      ],
      "text/plain": [
       "                                              band_1  \\\n",
       "0  [0.01182174564467684, 0.27378275943768166, -0....   \n",
       "1  [0.42137323598577087, -0.43078366534450846, -0...   \n",
       "2  [-0.6969623073924855, -0.6969793944501068, -0....   \n",
       "3  [0.2946591706447792, 0.04985985071106006, -0.3...   \n",
       "4  [-0.31533024179271146, 0.9175181439939705, 0.9...   \n",
       "\n",
       "                                              band_2        id  inc_angle  \\\n",
       "0  [1.1573585860406173, 0.15631457838356574, -0.4...  dfd5f913   0.766617   \n",
       "1  [-2.0950953014724543, -0.8948057535299927, -0....  e25388fd   0.665951   \n",
       "2  [-0.014649839717716016, 0.35157292381049343, 1...  58b2aaa0   0.790388   \n",
       "3  [0.7023040788844376, 0.8569610477684707, 1.005...  4cfc3a18   0.764988   \n",
       "4  [-0.693769690678262, -2.0346940986353044, -2.0...  271f93f4   0.621784   \n",
       "\n",
       "   is_iceberg  \n",
       "0         0.0  \n",
       "1         0.0  \n",
       "2         1.0  \n",
       "3         0.0  \n",
       "4         0.0  "
      ]
     },
     "execution_count": 24,
     "metadata": {},
     "output_type": "execute_result"
    }
   ],
   "source": [
    "data.head(5)"
   ]
  },
  {
   "cell_type": "markdown",
   "metadata": {
    "_cell_guid": "7b76f88f-da1a-403c-81ad-8df9254e7f34",
    "_uuid": "83ccc60bfc074d301861eef82c0f73bc8c65c06e"
   },
   "source": [
    "### **2.1.5 Reshaping the band1 and band2 data into 2D image**"
   ]
  },
  {
   "cell_type": "code",
   "execution_count": 25,
   "metadata": {
    "_cell_guid": "cb679236-ed88-419f-9605-1adc84ab3e23",
    "_uuid": "2934df8b01da177eab5a0c74dbdabb5cb18681e5",
    "collapsed": true
   },
   "outputs": [],
   "source": [
    "band_1 = np.array([np.array(band).astype(np.float32).reshape(75, 75) for band in data[\"band_1\"]])\n",
    "band_2 = np.array([np.array(band).astype(np.float32).reshape(75, 75) for band in data[\"band_2\"]])"
   ]
  },
  {
   "cell_type": "code",
   "execution_count": 26,
   "metadata": {
    "_cell_guid": "389a1644-5a04-4fc7-9ca5-75b3f9224fd8",
    "_uuid": "f9ac3e0531f4e7990884f830421a52aabe003cc7",
    "collapsed": true
   },
   "outputs": [
    {
     "name": "stdout",
     "output_type": "stream",
     "text": [
      "Shape of band 1 image: (1471, 75, 75)\n",
      "Shape of band 2 image: (1471, 75, 75)\n"
     ]
    }
   ],
   "source": [
    "print(\"Shape of band 1 image:\",band_1.shape)\n",
    "print(\"Shape of band 2 image:\",band_2.shape)"
   ]
  },
  {
   "cell_type": "markdown",
   "metadata": {
    "_cell_guid": "f1e0c9c9-9c64-4c89-98d9-c7156d410630",
    "_uuid": "9bc360c6c90d27c127adadfe448af1a3e0d74945"
   },
   "source": [
    "## **2.2 Feature engieering on test Set**"
   ]
  },
  {
   "cell_type": "markdown",
   "metadata": {
    "_cell_guid": "fb903267-cd31-47a8-9143-cef67abd06e9",
    "_uuid": "0e2f0ba8f4b69b9c60ba2622dd2afcf1ae70cfd4"
   },
   "source": [
    "**We carry out the same feature engineering as carried out on train set**"
   ]
  },
  {
   "cell_type": "code",
   "execution_count": 27,
   "metadata": {
    "_cell_guid": "2147cc9a-20c7-45bd-a8b5-4495c1e5fb92",
    "_uuid": "cf760c092267e45eba0aed886c08ad3ec5073153",
    "collapsed": true
   },
   "outputs": [],
   "source": [
    "test_data['inc_angle'] = test_data['inc_angle'].apply(lambda x: math.radians(x))"
   ]
  },
  {
   "cell_type": "code",
   "execution_count": 28,
   "metadata": {
    "_cell_guid": "f84fd6d1-e5fe-4dec-89ad-4da9c9d1e5fb",
    "_uuid": "c324bd680dc6f9f62460bcdcb0f0e1c4c7e046af",
    "collapsed": true
   },
   "outputs": [
    {
     "data": {
      "text/plain": [
       "0    0.610279\n",
       "1    0.569240\n",
       "2    0.654593\n",
       "3    0.601683\n",
       "4    0.766529\n",
       "Name: inc_angle, dtype: float64"
      ]
     },
     "execution_count": 28,
     "metadata": {},
     "output_type": "execute_result"
    }
   ],
   "source": [
    "test_data.inc_angle.head()"
   ]
  },
  {
   "cell_type": "code",
   "execution_count": 29,
   "metadata": {
    "_cell_guid": "7b9ca0a8-ffba-45fa-91f8-f33158cf773e",
    "_uuid": "74df1a531cd18eb052f8a55d29611841c4f70109",
    "collapsed": true
   },
   "outputs": [
    {
     "name": "stdout",
     "output_type": "stream",
     "text": [
      "count:  0\n",
      "missing data:  []\n"
     ]
    }
   ],
   "source": [
    "missing_list3, count3 = find_missing_data(test_data.band_1, (5625,))\n",
    "print(\"count: \", count3)\n",
    "print(\"missing data: \", missing_list3)"
   ]
  },
  {
   "cell_type": "code",
   "execution_count": 30,
   "metadata": {
    "_cell_guid": "e7f908ce-df6e-46b3-9afa-c7152b13fd9a",
    "_uuid": "8d23205eef621cc8256b9091ddb731be5013e923",
    "collapsed": true
   },
   "outputs": [
    {
     "name": "stdout",
     "output_type": "stream",
     "text": [
      "count:  0\n",
      "missing data:  []\n"
     ]
    }
   ],
   "source": [
    "missing_list4, count4 = find_missing_data(test_data.band_2, (5625,))\n",
    "print(\"count: \", count4)\n",
    "print(\"missing data: \", missing_list4)"
   ]
  },
  {
   "cell_type": "code",
   "execution_count": 31,
   "metadata": {
    "_cell_guid": "acf46313-3ce4-4c6e-86e4-961154808436",
    "_uuid": "d1b7a5ca054dbf81d451abded28176387ad86600",
    "collapsed": true
   },
   "outputs": [],
   "source": [
    "test_data['band_1'] = test_data['band_1'].apply(standardise_vector)\n",
    "test_data['band_2'] = test_data['band_2'].apply(standardise_vector)"
   ]
  },
  {
   "cell_type": "code",
   "execution_count": 32,
   "metadata": {
    "_cell_guid": "2c0a7e57-a905-49fd-86a2-2c99eca4a384",
    "_uuid": "ff9e919cd13673bd61e5213a83abd8c8041f3c18",
    "collapsed": true
   },
   "outputs": [],
   "source": [
    "band_1_test = np.array([np.array(band).astype(np.float32).reshape(75, 75) for band in test_data[\"band_1\"]])\n",
    "band_2_test = np.array([np.array(band).astype(np.float32).reshape(75, 75) for band in test_data[\"band_2\"]])"
   ]
  },
  {
   "cell_type": "code",
   "execution_count": 33,
   "metadata": {
    "_cell_guid": "84bb2815-ce50-4b68-9550-42fa2847c63b",
    "_uuid": "08645230a05d6e67487a9ce7a4ce40c3e5e24761",
    "collapsed": true
   },
   "outputs": [
    {
     "name": "stdout",
     "output_type": "stream",
     "text": [
      "Shape of test set band 1 image: (8424, 75, 75)\n",
      "Shape of test set band 2 image: (8424, 75, 75)\n"
     ]
    }
   ],
   "source": [
    "print(\"Shape of test set band 1 image:\",band_1_test.shape)\n",
    "print(\"Shape of test set band 2 image:\",band_2_test.shape)"
   ]
  },
  {
   "cell_type": "markdown",
   "metadata": {
    "_cell_guid": "b515cf3e-2f33-4456-8cea-c803b8a02284",
    "_uuid": "aa4007a853e9e5b2d04e525fcf00256085e813b9"
   },
   "source": [
    "# **3. Train/test/validation split**"
   ]
  },
  {
   "cell_type": "markdown",
   "metadata": {
    "_cell_guid": "54b33859-8b8d-4020-9626-1902ca025b16",
    "_uuid": "341ac6593b7cb1bef50eb528d501ce79149c63fa"
   },
   "source": [
    "**Extract the labels and angles of train set**"
   ]
  },
  {
   "cell_type": "code",
   "execution_count": 34,
   "metadata": {
    "_cell_guid": "d21487a5-9d5f-4244-af13-2146b569609b",
    "_uuid": "eecb2f52fe1b5d7370071c5d165f164ad11d13e0",
    "collapsed": true
   },
   "outputs": [],
   "source": [
    "labels = data.is_iceberg.as_matrix()\n",
    "angles = data.inc_angle.as_matrix()"
   ]
  },
  {
   "cell_type": "markdown",
   "metadata": {
    "_cell_guid": "0d1ba57c-c175-4138-9066-d5f409846490",
    "_uuid": "0a1abe75df22a926d19a5ace9636b8f143b03003"
   },
   "source": [
    "**Carry out splits**"
   ]
  },
  {
   "cell_type": "code",
   "execution_count": 35,
   "metadata": {
    "_cell_guid": "d5438945-8391-4459-81fa-f472d78c5a85",
    "_uuid": "6072b7af745245422c114e630a79beadf9a12a9d",
    "collapsed": true
   },
   "outputs": [],
   "source": [
    "# randomly choosing the train and validation indices\n",
    "train_indices = np.random.choice(len(labels), round(len(labels)*0.75), replace=False)\n",
    "validation_indices = np.array(list(set(range(len(labels))) - set(train_indices)))\n",
    "\n",
    "# extract train set\n",
    "band_1_train = band_1[train_indices]\n",
    "band_2_train = band_2[train_indices]\n",
    "angles_train = angles[train_indices]\n",
    "labels_train = labels[train_indices]\n",
    "\n",
    "# extract validation set\n",
    "band_1_validation = band_1[validation_indices]\n",
    "band_2_validation = band_2[validation_indices]\n",
    "angles_validation = angles[validation_indices]\n",
    "labels_validation = labels[validation_indices]\n",
    "\n",
    "# extract test set\n",
    "band_1_test = band_1_test\n",
    "band_2_test = band_2_test\n",
    "angles_test = test_data.inc_angle.as_matrix()\n",
    "iD = test_data.id.as_matrix()"
   ]
  },
  {
   "cell_type": "markdown",
   "metadata": {
    "_cell_guid": "60149af0-ec55-413f-b16e-610a136a73d9",
    "_uuid": "50af9ec23f4f918c97a2cd43a209e48b33a18a3b"
   },
   "source": [
    "**Covert the types of all data to float**"
   ]
  },
  {
   "cell_type": "code",
   "execution_count": 36,
   "metadata": {
    "_cell_guid": "9a984565-5eaa-4b40-be0d-4be3589c4d44",
    "_uuid": "dbe2f5278d4818cf31580778297009d2bcf1f0bf",
    "collapsed": true
   },
   "outputs": [],
   "source": [
    "band_1_train = band_1_train.astype(np.float32)\n",
    "band_1_validation = band_1_validation.astype(np.float32)\n",
    "band_1_test = band_1_test.astype(np.float32)\n",
    "band_2_train = band_2_train.astype(np.float32)\n",
    "band_2_validation = band_2_validation.astype(np.float32)\n",
    "band_2_test = band_2_test.astype(np.float32)\n",
    "angles_train = angles_train.astype(np.float32)\n",
    "angles_validation = angles_validation.astype(np.float32)\n",
    "angles_test = angles_test.astype(np.float32)\n",
    "labels_train = labels_train.astype(np.float32)\n",
    "labels_validation = labels_validation.astype(np.float32)\n",
    "iD = iD.astype(np.str)"
   ]
  },
  {
   "cell_type": "code",
   "execution_count": 37,
   "metadata": {
    "_cell_guid": "be173599-cd4e-4233-a3f1-185da3cfa522",
    "_uuid": "f2ac78b986ec9532267e0ec9cc3b081a383119ed",
    "collapsed": true
   },
   "outputs": [],
   "source": [
    "# delete the unnecessary variables out of memory\n",
    "del(data, test_data, band_1, band_2)"
   ]
  },
  {
   "cell_type": "markdown",
   "metadata": {
    "_cell_guid": "b68af081-f7a2-45f4-bc3a-36e39dd81ed4",
    "_uuid": "4e96cdb17e2195e1e1572d7ff665280149d9df2a"
   },
   "source": [
    "**Examine the shape of the data**"
   ]
  },
  {
   "cell_type": "code",
   "execution_count": 38,
   "metadata": {
    "_cell_guid": "dd1e910a-6992-4177-82bd-6718a853fa93",
    "_uuid": "623e269a6e5250e02f0340b7c0fbe1f86252c16c",
    "collapsed": true
   },
   "outputs": [
    {
     "name": "stdout",
     "output_type": "stream",
     "text": [
      "Shape of band_1_train: (1103, 75, 75)\n",
      "Shape of band_2_train: (1103, 75, 75)\n",
      "Shape of angles_train: (1103,)\n",
      "Shape of labels_train: (1103,)\n",
      "Shape of band_1_validation: (368, 75, 75)\n",
      "Shape of band_2_validation: (368, 75, 75)\n",
      "Shape of angles_validation: (368,)\n",
      "Shape of labels_validation: (368,)\n",
      "Shape of band_1_test: (8424, 75, 75)\n",
      "Shape of band_2_test: (8424, 75, 75)\n",
      "Shape of angles_test: (8424,)\n",
      "Shape of iD: (8424,)\n"
     ]
    }
   ],
   "source": [
    "print(\"Shape of band_1_train:\",band_1_train.shape)\n",
    "print(\"Shape of band_2_train:\",band_1_train.shape)\n",
    "print(\"Shape of angles_train:\",angles_train.shape)\n",
    "print(\"Shape of labels_train:\",labels_train.shape)\n",
    "print(\"Shape of band_1_validation:\",band_1_validation.shape)\n",
    "print(\"Shape of band_2_validation:\",band_2_validation.shape)\n",
    "print(\"Shape of angles_validation:\",angles_validation.shape)\n",
    "print(\"Shape of labels_validation:\",labels_validation.shape)\n",
    "print(\"Shape of band_1_test:\",band_1_test.shape)\n",
    "print(\"Shape of band_2_test:\",band_2_test.shape)\n",
    "print(\"Shape of angles_test:\",angles_test.shape)\n",
    "print(\"Shape of iD:\",iD.shape)"
   ]
  },
  {
   "cell_type": "markdown",
   "metadata": {
    "_cell_guid": "86e1abbe-f6b5-43f3-9602-eef233c5f039",
    "_uuid": "e78640113bdcc73128e5d56a25fa2e604d3ac864"
   },
   "source": [
    "# **4. Augmenting train set**"
   ]
  },
  {
   "cell_type": "markdown",
   "metadata": {
    "_cell_guid": "9a9dc260-45f0-44e7-b1e1-1cbe4836e406",
    "_uuid": "83c14ab3ff90f386d3a7dc8dffd556d071814da5"
   },
   "source": [
    "## **4.1 Functions to carry out different augmentation technique**"
   ]
  },
  {
   "cell_type": "markdown",
   "metadata": {
    "_cell_guid": "fd49957d-2d31-41f6-9b47-4fb12cca4253",
    "_uuid": "c7666a5de11bd07b089511a6400e17463065f06b"
   },
   "source": [
    "**4.1.1 Image Rotation**"
   ]
  },
  {
   "cell_type": "code",
   "execution_count": 39,
   "metadata": {
    "_cell_guid": "aa517240-36a6-4587-a23a-7fed50b60ead",
    "_uuid": "fd7746aea0c8488c5351ad1db740afe1232cb7c3",
    "collapsed": true
   },
   "outputs": [],
   "source": [
    "def rotate_image(img, angle = 20):\n",
    "    \n",
    "    '''a function to rotate image by a given degree'''\n",
    "    \n",
    "    # rotate image\n",
    "    original = img.copy()\n",
    "\n",
    "    M_rotate = cv2.getRotationMatrix2D((37,37),angle,1)\n",
    "    img_new = cv2.warpAffine(img,M_rotate,(75,75))\n",
    "    \n",
    "    length_row = 0\n",
    "    length_column = 0\n",
    "    boundary_step = 5\n",
    "    \n",
    "    for i in range(len(img_new)):\n",
    "        if img_new[0,i]!=float(0.0):\n",
    "            length_row = i\n",
    "            break\n",
    "    for i in range(len(img_new)):\n",
    "        if img_new[i,0]!=float(0.0):\n",
    "            length_column = i\n",
    "            break\n",
    "    \n",
    "    # subsitute the padding from original image\n",
    "    img_new[:length_column+boundary_step,:length_row+boundary_step] = \\\n",
    "    original[:length_column+boundary_step,:length_row+boundary_step] \n",
    "    img_new[-(length_row+boundary_step):,:length_column+boundary_step] = \\\n",
    "    original[-(length_row+boundary_step):,:length_column+boundary_step]\n",
    "    img_new[:length_row+boundary_step,-(length_column+boundary_step):] = \\\n",
    "    original[:length_row+boundary_step,-(length_column+boundary_step):]\n",
    "    img_new[-(length_column+boundary_step):,-(length_row+boundary_step):] = \\\n",
    "    original[-(length_column+boundary_step):,-(length_row+boundary_step):]\n",
    "    \n",
    "    return img_new"
   ]
  },
  {
   "cell_type": "markdown",
   "metadata": {
    "_cell_guid": "3e60279c-b4c8-42f7-8966-8145fb08377e",
    "_uuid": "c21f91a272323162b3eb158613166bb0fd0aff65"
   },
   "source": [
    "**4.1.2 Horizontal translation**"
   ]
  },
  {
   "cell_type": "code",
   "execution_count": 40,
   "metadata": {
    "_cell_guid": "af97ae17-8fdd-4946-8826-5ef7f6d51e1e",
    "_uuid": "53905416438c9e6e9d111f4cafb40b6b2f939324",
    "collapsed": true
   },
   "outputs": [],
   "source": [
    "def translate_horizontal(image, shift_horizontal = 5):\n",
    "    \n",
    "    '''a function to translate image horizontally by a shift'''\n",
    "    \n",
    "    # horizontally shift image\n",
    "    img = image.copy()\n",
    "    \n",
    "    shift_vertical = 0; \n",
    "    if shift_horizontal<0:\n",
    "        image_slice = img[:,shift_horizontal:].copy()\n",
    "    if shift_horizontal>0:\n",
    "        image_slice = img[:,:shift_horizontal].copy()\n",
    "    M_translate = np.float32([[1,0,shift_horizontal],[0,1,shift_vertical]])\n",
    "    img_new = cv2.warpAffine(img,M_translate,(75,75))\n",
    "    \n",
    "    # subsitute the padding from original image\n",
    "    if shift_horizontal<0:\n",
    "        img_new[:,shift_horizontal:] = image_slice\n",
    "    if shift_horizontal>0:\n",
    "        img_new[:,:shift_horizontal] = image_slice\n",
    "        \n",
    "    return img_new.reshape(75,75).astype(np.float32)"
   ]
  },
  {
   "cell_type": "markdown",
   "metadata": {
    "_cell_guid": "321a68c5-6f8d-42ee-b43f-c2382428741f",
    "_uuid": "92955ef9fcabb5138ef4cccdfad99612bc27d9c7"
   },
   "source": [
    "**4.1.3 Vertical translation**"
   ]
  },
  {
   "cell_type": "code",
   "execution_count": 41,
   "metadata": {
    "_cell_guid": "69fe4098-9461-4eb4-bbc7-495122f8ab2e",
    "_uuid": "a77c02ec97ea12e072cbbdac6f6c9ddccb7c31c0",
    "collapsed": true
   },
   "outputs": [],
   "source": [
    "def translate_vertical(image, shift_vertical = 5):\n",
    "    \n",
    "    '''a function to translate image vertically by a shift'''\n",
    "    \n",
    "    # vertically shift image\n",
    "    img = image.copy()\n",
    "    \n",
    "    shift_horizontal = 0;\n",
    "    if shift_vertical<0:\n",
    "        image_slice = img[shift_vertical:,:].copy()\n",
    "    if shift_vertical>0:\n",
    "        image_slice = img[:shift_vertical,:].copy()\n",
    "    M_translate = np.float32([[1,0,shift_horizontal],[0,1,shift_vertical]])\n",
    "    img_new = cv2.warpAffine(img,M_translate,(75,75))\n",
    "    \n",
    "    # subsitute the padding from original image\n",
    "    if shift_vertical<0:\n",
    "        img_new[shift_vertical:,:] = image_slice\n",
    "    if shift_vertical>0:\n",
    "        img_new[:shift_vertical,:] = image_slice\n",
    "        \n",
    "    return img_new.reshape(75,75).astype(np.float32)"
   ]
  },
  {
   "cell_type": "markdown",
   "metadata": {
    "_cell_guid": "b0873b41-4d91-4c58-9523-0db20e2b23c1",
    "_uuid": "26557ae31f21790006c18b4506191938b8275998"
   },
   "source": [
    "**4.1.4 Translation along positive diagonal**"
   ]
  },
  {
   "cell_type": "code",
   "execution_count": 42,
   "metadata": {
    "_cell_guid": "e645346d-d086-45b6-92cd-aeece998da23",
    "_uuid": "c3913e63bb74b6a3c2acde54ad51b601e39dc4e1",
    "collapsed": true
   },
   "outputs": [],
   "source": [
    "def translate_positive_diagonal(image, shift_diagonal = 5):\n",
    "    \n",
    "    '''a function to translate image along positive diagonal'''\n",
    "    \n",
    "    # translate image along positive diagonal\n",
    "    img = image.copy()\n",
    "    \n",
    "    if shift_diagonal<0:\n",
    "        hor_slice = img[shift_diagonal:,:].copy()\n",
    "        ver_slice = img[:,shift_diagonal:].copy()\n",
    "    else:\n",
    "        hor_slice = img[:shift_diagonal,:].copy()\n",
    "        ver_slice = img[:,:shift_diagonal].copy()\n",
    "    M_translate = np.float32([[1,0,shift_diagonal],[0,1,shift_diagonal]])\n",
    "    img_new = cv2.warpAffine(img,M_translate,(75,75))\n",
    "    \n",
    "    # subsitute the padding from original image\n",
    "    if shift_diagonal<0:\n",
    "        img_new[shift_diagonal:,:] = hor_slice\n",
    "        img_new[:,shift_diagonal:] = ver_slice\n",
    "    else:\n",
    "        img_new[:shift_diagonal,:] = hor_slice\n",
    "        img_new[:,:shift_diagonal] = ver_slice\n",
    "    \n",
    "    return img_new.reshape(75,75).astype(np.float32)"
   ]
  },
  {
   "cell_type": "markdown",
   "metadata": {
    "_cell_guid": "ad345409-8ef3-4464-8698-a9d5ae079e80",
    "_uuid": "dea2e30274189b2854e5c51c77732ff9fea35497"
   },
   "source": [
    "**4.1.5 Translation along negative diagonal**"
   ]
  },
  {
   "cell_type": "code",
   "execution_count": 43,
   "metadata": {
    "_cell_guid": "96e91234-edd2-4276-aaab-2659233677af",
    "_uuid": "9786b54ebed361eba2f97a332abc119bb2790e03",
    "collapsed": true
   },
   "outputs": [],
   "source": [
    "def translate_negative_diagonal(image, shift_diagonal = 5):\n",
    "    \n",
    "    '''a function to translate image along negative diagonal'''\n",
    "    \n",
    "    # translate image along negative diagonal\n",
    "    img = image.copy()\n",
    "    \n",
    "    if shift_diagonal<0:\n",
    "        hor_slice = img[:-shift_diagonal,:].copy()\n",
    "        ver_slice = img[:,shift_diagonal:].copy()\n",
    "    if shift_diagonal>0:\n",
    "        hor_slice = img[-shift_diagonal:,:].copy()\n",
    "        ver_slice = img[:,:shift_diagonal].copy()\n",
    "    M_translate = np.float32([[1,0,shift_diagonal],[0,1,-shift_diagonal]])\n",
    "    img_new = cv2.warpAffine(img,M_translate,(75,75))\n",
    "    \n",
    "    # subsitute the padding from original image\n",
    "    if shift_diagonal<0:\n",
    "        img_new[:-shift_diagonal,:] = hor_slice\n",
    "        img_new[:,shift_diagonal:] = ver_slice\n",
    "    if shift_diagonal>0:\n",
    "        img_new[-shift_diagonal:,:] = hor_slice\n",
    "        img_new[:,:shift_diagonal] = ver_slice\n",
    "        \n",
    "    return img_new.reshape(75,75).astype(np.float32)"
   ]
  },
  {
   "cell_type": "markdown",
   "metadata": {
    "_cell_guid": "ca1cffcb-0e15-419f-b28f-331f5ef3aeb1",
    "_uuid": "6efca0ecf88472b35bcfa55eee69a83befe0af8a"
   },
   "source": [
    "**4.1.6 Flip Image**"
   ]
  },
  {
   "cell_type": "code",
   "execution_count": 44,
   "metadata": {
    "_cell_guid": "6c5b3ded-8a55-4dc3-b8e0-a3c1bc97be69",
    "_uuid": "55084dbbb7af094519980b15e16c7eb09c04eea2",
    "collapsed": true
   },
   "outputs": [],
   "source": [
    "def flip(image, direction = 0):\n",
    "    \n",
    "    '''a function to flip image'''\n",
    "    img = image.copy()\n",
    "    return cv2.flip(img,direction)"
   ]
  },
  {
   "cell_type": "markdown",
   "metadata": {
    "_cell_guid": "aef107c9-71e8-4a66-8de3-535b37777341",
    "_uuid": "0f2f83ffdbe3003381841c5ccc8b0a91595d8da0"
   },
   "source": [
    "**4.1.7 Zoom image**"
   ]
  },
  {
   "cell_type": "code",
   "execution_count": 45,
   "metadata": {
    "_cell_guid": "a7ffe735-a712-4fe2-8c42-1bd5cfd3edb0",
    "_uuid": "421f6527974b9eefec0e26fb52f617cb93ff5b99",
    "collapsed": true
   },
   "outputs": [],
   "source": [
    "def zoom(image, zoom_shift = 5):\n",
    "    \n",
    "    '''a function to zoom image'''\n",
    "    \n",
    "    # zoom image\n",
    "    img = image.copy()\n",
    "    \n",
    "    # zoom in \n",
    "    if zoom_shift>0:\n",
    "        # scale\n",
    "        img_new = cv2.resize(img, (75+zoom_shift*2,75+zoom_shift*2)) \n",
    "        # crop\n",
    "        img_new = img_new[zoom_shift:-zoom_shift,zoom_shift:-zoom_shift] \n",
    "    # zoom out\n",
    "    else:\n",
    "        zoom_shift *=-1\n",
    "        \n",
    "        hor_top = img[:zoom_shift,:]\n",
    "        hor_bottom =img[-zoom_shift:,:]\n",
    "        ver_left = img[:,:zoom_shift]\n",
    "        ver_right = img[:,-zoom_shift:]\n",
    "        \n",
    "        # scale\n",
    "        img_new = cv2.resize(img, (75-zoom_shift*2,75-zoom_shift*2)) \n",
    "        # zero padding\n",
    "        img_new = cv2.copyMakeBorder(img_new,zoom_shift,zoom_shift,zoom_shift,zoom_shift,\n",
    "                                     cv2.BORDER_CONSTANT,value=0.0)\n",
    "        # subsitute the padding from original image\n",
    "        img_new[:zoom_shift,:] = hor_top\n",
    "        img_new[-zoom_shift:,:] = hor_bottom\n",
    "        img_new[:,:zoom_shift] = ver_left\n",
    "        img_new[:,-zoom_shift:] = ver_right     \n",
    "        \n",
    "    return img_new.reshape(75,75).astype(np.float32)"
   ]
  },
  {
   "cell_type": "markdown",
   "metadata": {
    "_cell_guid": "f6df0cdd-12d5-4802-9362-adee3781099a",
    "_uuid": "fba70b21dc0f5b30fef9f198c2f085b91c849c4e"
   },
   "source": [
    "## **4.2 Displaying augmented samples**"
   ]
  },
  {
   "cell_type": "code",
   "execution_count": 46,
   "metadata": {
    "_cell_guid": "b30fd90b-ae48-482c-85ea-88a164f7abb7",
    "_uuid": "29c6e9968e6b27e507840bdd68c0558b5cdad8e0",
    "collapsed": true
   },
   "outputs": [
    {
     "data": {
      "image/png": "[encoded data removed]",
      "text/plain": [
       "<matplotlib.figure.Figure at 0x7f71a648d320>"
      ]
     },
     "metadata": {},
     "output_type": "display_data"
    }
   ],
   "source": [
    "matplotlib.rcParams['figure.figsize'] = (20.0, 14.0)\n",
    "image = band_1_test[3].copy()\n",
    "plt.subplot(3, 5, 1)\n",
    "plt.title(\"Original Image\")\n",
    "plt.imshow(image)\n",
    "plt.subplot(3, 5, 2)\n",
    "generated_image = rotate_image(image,40)\n",
    "plt.title(\"Rotation by +ve degree\")\n",
    "plt.imshow(generated_image)\n",
    "plt.subplot(3, 5, 3)\n",
    "generated_image = rotate_image(image,-40)\n",
    "plt.title(\"Rotation by -ve degree\")\n",
    "plt.imshow(generated_image)\n",
    "plt.subplot(3, 5, 4)\n",
    "generated_image = translate_horizontal(image,10)\n",
    "plt.title(\"Horizonation translation to right\")\n",
    "plt.imshow(generated_image)\n",
    "plt.subplot(3, 5, 5)\n",
    "generated_image = translate_horizontal(image,-10)\n",
    "plt.title(\"Horizonation translation to left\")\n",
    "plt.imshow(generated_image)\n",
    "plt.subplot(3, 5, 6)\n",
    "generated_image = translate_vertical(image,10)\n",
    "plt.title(\"Vertical translation downward\")\n",
    "plt.imshow(generated_image)\n",
    "plt.subplot(3, 5, 7)\n",
    "generated_image = translate_vertical(image,-10)\n",
    "plt.title(\"Vertical translation upward\")\n",
    "plt.imshow(generated_image)\n",
    "plt.subplot(3, 5, 8)\n",
    "generated_image = translate_positive_diagonal(image,10)\n",
    "plt.title(\"SE translation\")\n",
    "plt.imshow(generated_image)\n",
    "plt.subplot(3, 5, 9)\n",
    "generated_image = translate_positive_diagonal(image,-10)\n",
    "plt.title(\"NW translation\")\n",
    "plt.imshow(generated_image)\n",
    "plt.subplot(3, 5, 10)\n",
    "generated_image = translate_negative_diagonal(image,10)\n",
    "plt.title(\"NE translation\")\n",
    "plt.imshow(generated_image)\n",
    "plt.subplot(3, 5, 11)\n",
    "generated_image = translate_negative_diagonal(image,-10)\n",
    "plt.title(\"SW translation\")\n",
    "plt.imshow(generated_image)\n",
    "plt.subplot(3, 5, 12)\n",
    "generated_image = flip(image,0)\n",
    "plt.title(\"Vertical flip\")\n",
    "plt.imshow(generated_image)\n",
    "plt.subplot(3, 5, 13)\n",
    "generated_image = flip(image,1)\n",
    "plt.title(\"Horizontal flip\")\n",
    "plt.imshow(generated_image)\n",
    "plt.subplot(3, 5, 14)\n",
    "generated_image = zoom(image,10)\n",
    "plt.title(\"Zoom in\")\n",
    "plt.imshow(generated_image)\n",
    "plt.subplot(3, 5, 15)\n",
    "generated_image = zoom(image,-10)\n",
    "plt.title(\"Zoom out\")\n",
    "plt.imshow(generated_image)\n",
    "plt.show()"
   ]
  },
  {
   "cell_type": "markdown",
   "metadata": {
    "_cell_guid": "74f3a561-59bc-4499-a3d6-4ae38bd526f0",
    "_uuid": "74c6d702850ddb99bbb877352a0db3214eab9b45"
   },
   "source": [
    "## **4.3 Augmentation of train set**"
   ]
  },
  {
   "cell_type": "code",
   "execution_count": 47,
   "metadata": {
    "_cell_guid": "9587eef7-a980-484f-a5a5-1028040dd7fc",
    "_uuid": "54f811a3ef54965a0513b30a325fe4d6a8399e07",
    "collapsed": true
   },
   "outputs": [],
   "source": [
    "def augment_data(band1, band2, angles, labels):\n",
    "    \n",
    "    '''a function to augment band1 and band2 image'''\n",
    "    \n",
    "    # list to store the generated data\n",
    "    band1_generated = []\n",
    "    band2_generated = []\n",
    "    angles_generated = []\n",
    "    labels_generated = []\n",
    "    \n",
    "    # iterate through each point in train set\n",
    "    for i in range(labels.shape[0]):\n",
    "        \n",
    "        # rotate by positive degree\n",
    "        angle = np.random.randint(5,20)\n",
    "        band1_generated.append(rotate_image(band1[i],angle)) \n",
    "        band2_generated.append(rotate_image(band2[i],angle))\n",
    "        angles_generated.append(angles[i])\n",
    "        labels_generated.append(labels[i])\n",
    "        \n",
    "        # rotate by negative degree\n",
    "        angle = np.random.randint(5,20)\n",
    "        band1_generated.append(rotate_image(band1[i],-angle)) \n",
    "        band2_generated.append(rotate_image(band2[i],-angle))\n",
    "        angles_generated.append(angles[i])\n",
    "        labels_generated.append(labels[i])\n",
    "        \n",
    "        # positive horizontal shift\n",
    "        shift = np.random.randint(3,7)\n",
    "        band1_generated.append(translate_horizontal(band1[i],+shift)) \n",
    "        band2_generated.append(translate_horizontal(band2[i],+shift))\n",
    "        angles_generated.append(angles[i])\n",
    "        labels_generated.append(labels[i])\n",
    "        \n",
    "        # negative horizontal shift\n",
    "        shift = np.random.randint(3,7) \n",
    "        band1_generated.append(translate_horizontal(band1[i],-shift)) \n",
    "        band2_generated.append(translate_horizontal(band2[i],-shift))\n",
    "        angles_generated.append(angles[i])\n",
    "        labels_generated.append(labels[i])\n",
    "        \n",
    "        # positive vertical shift\n",
    "        shift = np.random.randint(0,7)  \n",
    "        band1_generated.append(translate_vertical(band1[i],+shift)) \n",
    "        band2_generated.append(translate_vertical(band2[i],+shift))\n",
    "        angles_generated.append(angles[i])\n",
    "        labels_generated.append(labels[i])\n",
    "        \n",
    "        # negative vertical shift\n",
    "        shift = np.random.randint(3,7) \n",
    "        band1_generated.append(translate_vertical(band1[i],-shift)) \n",
    "        band2_generated.append(translate_vertical(band2[i],-shift))\n",
    "        angles_generated.append(angles[i])\n",
    "        labels_generated.append(labels[i])\n",
    "        \n",
    "        # translate along positive diagonal in positive direction\n",
    "        shift = np.random.randint(3,7)  \n",
    "        band1_generated.append(translate_positive_diagonal(band1[i],+shift)) \n",
    "        band2_generated.append(translate_positive_diagonal(band2[i],+shift))\n",
    "        angles_generated.append(angles[i])\n",
    "        labels_generated.append(labels[i])\n",
    "        \n",
    "        # translate along positive diagonal in negative direction\n",
    "        shift = np.random.randint(3,7)  \n",
    "        band1_generated.append(translate_positive_diagonal(band1[i],-shift)) \n",
    "        band2_generated.append(translate_positive_diagonal(band2[i],-shift))\n",
    "        angles_generated.append(angles[i])\n",
    "        labels_generated.append(labels[i])\n",
    "        \n",
    "        # translate along negative diagonal in positive direction\n",
    "        shift = np.random.randint(3,7)   \n",
    "        band1_generated.append(translate_negative_diagonal(band1[i],+shift)) \n",
    "        band2_generated.append(translate_negative_diagonal(band2[i],+shift))\n",
    "        angles_generated.append(angles[i])\n",
    "        labels_generated.append(labels[i])\n",
    "        \n",
    "        # translate along negative diagonal in negative direction\n",
    "        shift = np.random.randint(3,7)   \n",
    "        band1_generated.append(translate_negative_diagonal(band1[i],-shift)) \n",
    "        band2_generated.append(translate_negative_diagonal(band2[i],-shift))\n",
    "        angles_generated.append(angles[i])\n",
    "        labels_generated.append(labels[i])\n",
    "        \n",
    "        # vertical flip\n",
    "        band1_generated.append(flip(band1[i],0)) \n",
    "        band2_generated.append(flip(band2[i],0))\n",
    "        angles_generated.append(angles[i])\n",
    "        labels_generated.append(labels[i])\n",
    "        \n",
    "        # horizontal flip\n",
    "        band1_generated.append(flip(band1[i],1)) \n",
    "        band2_generated.append(flip(band2[i],1))\n",
    "        angles_generated.append(angles[i])\n",
    "        labels_generated.append(labels[i])\n",
    "        \n",
    "        # zoom in image\n",
    "        zoom_shift = np.random.randint(2,5)\n",
    "        band1_generated.append(zoom(band1[i],zoom_shift)) \n",
    "        band2_generated.append(zoom(band2[i],zoom_shift))\n",
    "        angles_generated.append(angles[i])\n",
    "        labels_generated.append(labels[i])\n",
    "        \n",
    "        # zoom out image\n",
    "        zoom_shift = np.random.randint(2,5) \n",
    "        band1_generated.append(zoom(band1[i],-zoom_shift)) \n",
    "        band2_generated.append(zoom(band2[i],-zoom_shift))\n",
    "        angles_generated.append(angles[i])\n",
    "        labels_generated.append(labels[i])        \n",
    "        \n",
    "    # convert the generated data into numpy array\n",
    "    band1_generated = np.array(band1_generated)\n",
    "    band2_generated = np.array(band2_generated)\n",
    "    angles_generated = np.array(angles_generated)\n",
    "    labels_generated = np.array(labels_generated)\n",
    "    \n",
    "    # concatenate the generated data to original train set\n",
    "    band1_augmented = np.concatenate((band1, band1_generated),axis=0)\n",
    "    band2_augmented = np.concatenate((band2, band2_generated),axis=0)\n",
    "    angles_augmented = np.concatenate((angles, angles_generated),axis=0)\n",
    "    labels_augmented = np.concatenate((labels, labels_generated),axis=0)\n",
    "    \n",
    "    return band1_augmented, band2_augmented, angles_augmented, labels_augmented"
   ]
  },
  {
   "cell_type": "code",
   "execution_count": 48,
   "metadata": {
    "_cell_guid": "9c625022-16e7-4f65-9000-02b8afef57a4",
    "_uuid": "e7861fcbe44ec65a91a900633da546e6711c16c2",
    "collapsed": true
   },
   "outputs": [],
   "source": [
    "# augment train set\n",
    "band_1_train, band_2_train, angles_train, labels_train = \\\n",
    "    augment_data(band_1_train, band_2_train, angles_train, labels_train)"
   ]
  },
  {
   "cell_type": "markdown",
   "metadata": {
    "_cell_guid": "858c8b60-0fbb-482f-b83e-f5455c7cd2c0",
    "_uuid": "4b250de5e7c99ed5c514008a5bfc1666c52cd9d1"
   },
   "source": [
    "**Examine the shape of augmented data**"
   ]
  },
  {
   "cell_type": "code",
   "execution_count": 49,
   "metadata": {
    "_cell_guid": "aaf38ea0-f683-40d7-9830-72fccdf74d43",
    "_uuid": "bc0b27c8892a107a93a16ecc9754594fed11059c",
    "collapsed": true
   },
   "outputs": [
    {
     "name": "stdout",
     "output_type": "stream",
     "text": [
      "Shape of band_1_train: (16545, 75, 75)\n",
      "Shape of band_2_train: (16545, 75, 75)\n",
      "Shape of angles_train: (16545,)\n",
      "Shape of labels_train: (16545,)\n"
     ]
    }
   ],
   "source": [
    "print(\"Shape of band_1_train:\",band_1_train.shape)\n",
    "print(\"Shape of band_2_train:\",band_2_train.shape)\n",
    "print(\"Shape of angles_train:\",angles_train.shape)\n",
    "print(\"Shape of labels_train:\",labels_train.shape)"
   ]
  },
  {
   "cell_type": "markdown",
   "metadata": {
    "_cell_guid": "00f68f8f-dd57-430d-9a37-6fcbb9d96a88",
    "_uuid": "6210cd84ac3592a3afc8c9ca2b86ed82663c82d8"
   },
   "source": [
    "# **5. Concatenate the band1 and band2 data into 3D image**"
   ]
  },
  {
   "cell_type": "markdown",
   "metadata": {
    "_cell_guid": "149f153d-72f6-42a4-96a4-13f5ff572f14",
    "_uuid": "35691ccb27ed0abdffb2201795ba3fe588bec8c3"
   },
   "source": [
    "**Here we stack band_1, band_2, and average of the two to create a 3D image**"
   ]
  },
  {
   "cell_type": "code",
   "execution_count": 50,
   "metadata": {
    "_cell_guid": "5dd8ac27-559d-4460-bba2-fe1ddd55cf2a",
    "_uuid": "6f1bc08fbd08798e703c9d220d63b76a5869acf3",
    "collapsed": true
   },
   "outputs": [],
   "source": [
    "image_train = np.concatenate([band_1_train[:, :, :, np.newaxis],\n",
    "                             band_2_train[:, :, :, np.newaxis],\n",
    "                             ((band_1_train+band_2_train)/2)[:, :, :, np.newaxis]],\n",
    "                             axis=-1)"
   ]
  },
  {
   "cell_type": "code",
   "execution_count": 51,
   "metadata": {
    "_cell_guid": "e5e2b891-6285-4dd7-996b-1a032d8e401d",
    "_uuid": "49a5a584d7bd0410c6388c79ef0163cea4a10971",
    "collapsed": true
   },
   "outputs": [],
   "source": [
    "image_validation = np.concatenate([band_1_validation[:, :, :, np.newaxis],\n",
    "                             band_2_validation[:, :, :, np.newaxis],\n",
    "                             ((band_1_validation+band_2_validation)/2)[:, :, :, np.newaxis]],\n",
    "                             axis=-1)"
   ]
  },
  {
   "cell_type": "code",
   "execution_count": 52,
   "metadata": {
    "_cell_guid": "3a3c9324-f9bd-4caa-8eff-22fb65ada9a4",
    "_uuid": "3a8c2bbcc922e93ce4bde9ad1c7e3816943c143e",
    "collapsed": true
   },
   "outputs": [],
   "source": [
    "image_test = np.concatenate([band_1_test[:, :, :, np.newaxis],\n",
    "                             band_2_test[:, :, :, np.newaxis],\n",
    "                             ((band_1_test+band_2_test)/2)[:, :, :, np.newaxis]],\n",
    "                             axis=-1)"
   ]
  },
  {
   "cell_type": "code",
   "execution_count": 53,
   "metadata": {
    "_cell_guid": "d6e7f949-175a-414c-9cd6-633a5b97f35f",
    "_uuid": "5230a8714b07eff239b63e410f00c95be206ad48",
    "collapsed": true
   },
   "outputs": [],
   "source": [
    "# delete the unnecessary variables out of memory\n",
    "del(band_1_train, band_1_validation, band_1_test, band_2_train, band_2_validation, band_2_test)"
   ]
  },
  {
   "cell_type": "markdown",
   "metadata": {
    "_cell_guid": "5f09f9a1-fb44-4177-b0d6-56228c272e72",
    "_uuid": "a8cdc9ca9c0e22fde443064e9f9158ec1fbafe3a"
   },
   "source": [
    "**Examine the shape of 3D images**"
   ]
  },
  {
   "cell_type": "code",
   "execution_count": 54,
   "metadata": {
    "_cell_guid": "57a9e8ed-6939-4a4d-8263-2868ea460d99",
    "_uuid": "45b99a5d71fd8ed6b0a5fb96b5c43860d799991b",
    "collapsed": true
   },
   "outputs": [
    {
     "name": "stdout",
     "output_type": "stream",
     "text": [
      "Shape of image_train: (16545, 75, 75, 3)\n",
      "Shape of image_validation: (368, 75, 75, 3)\n",
      "Shape of image_test: (8424, 75, 75, 3)\n"
     ]
    }
   ],
   "source": [
    "print(\"Shape of image_train:\",image_train.shape)\n",
    "print(\"Shape of image_validation:\",image_validation.shape)\n",
    "print(\"Shape of image_test:\",image_test.shape)"
   ]
  },
  {
   "cell_type": "markdown",
   "metadata": {
    "_cell_guid": "489070f8-65d8-41bd-bbe7-4f75e51fa2cf",
    "_uuid": "384670c874a5d9a3a15b5695c272c83f1330600e"
   },
   "source": [
    "# **6. Creating Convolutional Neural Network**"
   ]
  },
  {
   "cell_type": "markdown",
   "metadata": {
    "_cell_guid": "0a899373-2b7d-411a-834a-1c8e11de5160",
    "_uuid": "26e48ef04d0fdc67dbcc721a7d1221fb9b92a478"
   },
   "source": [
    "**Import tensorflow and reset default graph**"
   ]
  },
  {
   "cell_type": "code",
   "execution_count": 55,
   "metadata": {
    "_cell_guid": "e898585c-3f91-4949-8400-1629a355e787",
    "_uuid": "d56bcf5c484d635476c67678c0c04e39261fb8d7",
    "collapsed": true
   },
   "outputs": [],
   "source": [
    "import tensorflow as tf\n",
    "from tensorflow.python.framework import ops\n",
    "ops.reset_default_graph()\n",
    "# sess = tf.InteractiveSession()"
   ]
  },
  {
   "cell_type": "markdown",
   "metadata": {
    "_cell_guid": "556b305d-9d13-4262-b75d-07bad395d18b",
    "_uuid": "12a05a3dd884a6b0b226246de50a7b05cf44a826"
   },
   "source": [
    "## **6.1 One hot encoding labels**"
   ]
  },
  {
   "cell_type": "code",
   "execution_count": 56,
   "metadata": {
    "_cell_guid": "8482537b-d874-487e-8898-2ecbeded489b",
    "_uuid": "01a34b3c6936d379e7ab5be528500953e418abdb",
    "collapsed": true
   },
   "outputs": [],
   "source": [
    "labels_train = pd.get_dummies(labels_train).as_matrix()\n",
    "labels_validation = pd.get_dummies(labels_validation).as_matrix()"
   ]
  },
  {
   "cell_type": "code",
   "execution_count": 57,
   "metadata": {
    "_cell_guid": "dfd4f585-6ab3-4a9d-aa9d-b9ce01a76714",
    "_uuid": "96307318f83bf88ec1e55a17ecd0bb92dc052d7b",
    "collapsed": true
   },
   "outputs": [
    {
     "name": "stdout",
     "output_type": "stream",
     "text": [
      "Shape of labels_train: (16545, 2)\n",
      "Shape of labels_validation: (368, 2)\n"
     ]
    }
   ],
   "source": [
    "print(\"Shape of labels_train:\", labels_train.shape)\n",
    "print(\"Shape of labels_validation:\", labels_validation.shape)"
   ]
  },
  {
   "cell_type": "markdown",
   "metadata": {
    "_cell_guid": "97390423-6a4a-4574-94c7-9809791c41b9",
    "_uuid": "0f326c144fa38bd57254a30e0902116a62f2a701"
   },
   "source": [
    "## **6.2 Create placeholders**"
   ]
  },
  {
   "cell_type": "code",
   "execution_count": 58,
   "metadata": {
    "_cell_guid": "f96e9ef5-95bc-4994-abc1-a420f380bae1",
    "_uuid": "d309c64fed3e72bf8a41e929846eead2269b8149",
    "collapsed": true
   },
   "outputs": [],
   "source": [
    "# image dimensions\n",
    "width = 75\n",
    "height = 75\n",
    "num_channels = 3\n",
    "flat = width * height\n",
    "num_classes = 2"
   ]
  },
  {
   "cell_type": "markdown",
   "metadata": {
    "_cell_guid": "a9d96e2c-a453-4bcb-bd6c-10a48c80a25a",
    "_uuid": "bc1d45292d65a93ede00c9ed76515927d3a9e751"
   },
   "source": [
    "**Create placeholder for image, labels,  dropout keep probability, and optionally angle**"
   ]
  },
  {
   "cell_type": "code",
   "execution_count": 59,
   "metadata": {
    "_cell_guid": "fbe6dbf9-4dfc-4ecb-b234-013ce2864cc1",
    "_uuid": "faab2559119ab1dfc8b9c2c4ee267c484b5a35d3",
    "collapsed": true
   },
   "outputs": [],
   "source": [
    "image = tf.placeholder(tf.float32, shape=[None, height, width, num_channels])\n",
    "# angle = tf.placeholder(tf.float32, shape= [None, 1])\n",
    "y_true = tf.placeholder(tf.int32, shape=[None, num_classes])\n",
    "keep_prob = tf.placeholder(tf.float32)"
   ]
  },
  {
   "cell_type": "markdown",
   "metadata": {
    "_cell_guid": "9581cf50-b42f-4b02-a099-e30384b9adba",
    "_uuid": "14d3dbf31065d8c3be26430af935158895f23117"
   },
   "source": [
    "## **6.3 Create functions for creating deep learning layers**"
   ]
  },
  {
   "cell_type": "code",
   "execution_count": 60,
   "metadata": {
    "_cell_guid": "7f563768-ed77-4d6a-b8d8-11bb1eefbade",
    "_uuid": "4a4494877d9c18fe2b07af4d142d8e76fa3d1abc",
    "collapsed": true
   },
   "outputs": [],
   "source": [
    "def create_weights(shape):\n",
    "    '''a function to create weight tensor'''\n",
    "    return tf.Variable(tf.truncated_normal(shape, stddev=0.05))\n",
    " \n",
    "def create_biases(size):\n",
    "    '''a function to create bias tensor'''\n",
    "    return tf.Variable(tf.constant(0.05, shape=[size]))"
   ]
  },
  {
   "cell_type": "code",
   "execution_count": 61,
   "metadata": {
    "_cell_guid": "46c51707-7a6e-4cfb-bf9b-830b5d4ec204",
    "_uuid": "6238bc6006136867fbc5bd600933a7a9a05074c9",
    "collapsed": true
   },
   "outputs": [],
   "source": [
    "def create_convolutional_layer(input,\n",
    "                               num_input_channels,\n",
    "                               conv_filter_size,\n",
    "                               max_pool_filter_size,\n",
    "                               num_filters):  \n",
    "    \n",
    "    '''a function to create convoutional layer'''\n",
    "    \n",
    "    # create filter for the convolutional layer\n",
    "    weights = create_weights(shape=[conv_filter_size, conv_filter_size, num_input_channels, num_filters])\n",
    "    \n",
    "    # create biases\n",
    "    biases = create_biases(num_filters)\n",
    "    \n",
    "    # create covolutional layer\n",
    "    layer = tf.nn.conv2d(input=input,\n",
    "                     filter=weights,\n",
    "                     strides=[1, 1, 1, 1],\n",
    "                     padding='SAME')\n",
    "    \n",
    "    # add the bias to the convolutional layer\n",
    "    layer += biases\n",
    "    \n",
    "    # relu activation layer fed into layer\n",
    "    layer = tf.nn.relu(layer)\n",
    "    \n",
    "    # max pooling to half the size of the image\n",
    "    layer = tf.nn.max_pool(value=layer,\n",
    "                            ksize=[1, max_pool_filter_size, max_pool_filter_size, 1],\n",
    "                            strides=[1, 2, 2, 1],\n",
    "                            padding='SAME')\n",
    "        \n",
    "    # return the output layer of the convolution\n",
    "    return layer"
   ]
  },
  {
   "cell_type": "code",
   "execution_count": 62,
   "metadata": {
    "_cell_guid": "31172ffc-01bd-4c09-aefa-d8f4bb19f944",
    "_uuid": "8d97660a66941ab4374cd6a6d54376f0ba4c8982",
    "collapsed": true
   },
   "outputs": [],
   "source": [
    "def create_flatten_layer(layer):\n",
    "    \n",
    "    '''a function for creating flattened layer from convolutional output'''\n",
    "    \n",
    "    # extract the shape of the layer\n",
    "    layer_shape = layer.get_shape()\n",
    "    # calculate the number features of the flattened layer\n",
    "    num_features = layer_shape[1:4].num_elements()\n",
    "    # create the flattened layer\n",
    "    layer = tf.reshape(layer, [-1, num_features])\n",
    "    # return the layer\n",
    "    return layer"
   ]
  },
  {
   "cell_type": "code",
   "execution_count": 63,
   "metadata": {
    "_cell_guid": "89c03a25-c9ea-45f2-bf57-1e539e303a8a",
    "_uuid": "8d94f5193f6fd1c610574eeb345091853b4815ae",
    "collapsed": true
   },
   "outputs": [],
   "source": [
    "def create_fc_layer(input,          \n",
    "                    num_inputs,    \n",
    "                    num_outputs,\n",
    "                    use_relu=True,\n",
    "                    dropout = False, \n",
    "                    keep_prob = 0.2):\n",
    "    \n",
    "    '''a function for creating fully connected layer'''\n",
    "    \n",
    "    #Let's define trainable weights and biases.\n",
    "    weights = create_weights(shape=[num_inputs, num_outputs])\n",
    "    biases = create_biases(num_outputs)\n",
    "    \n",
    "    # matrix multiplication between input and weight matrix\n",
    "    layer = tf.matmul(input, weights) + biases\n",
    "    \n",
    "    # add relu activation if wanted\n",
    "    if use_relu:\n",
    "        layer = tf.nn.relu(layer)\n",
    "        \n",
    "    # if dropout is wanted add dropout\n",
    "    if dropout:        \n",
    "        layer = tf.nn.dropout(layer, keep_prob)\n",
    "    \n",
    "    # return layer\n",
    "    return layer"
   ]
  },
  {
   "cell_type": "markdown",
   "metadata": {
    "_cell_guid": "733844d6-ad60-4267-9d56-dee86b4b80fb",
    "_uuid": "8757842d89257cc9e43957de412a0536179475da"
   },
   "source": [
    "## **6.4 Create Layers of Covnet**"
   ]
  },
  {
   "cell_type": "code",
   "execution_count": 64,
   "metadata": {
    "_cell_guid": "dc7f32ea-5387-4e76-a234-5bcbd0aeb360",
    "_uuid": "be7fa26badd1f22aa94f45bf410509b8fce2515f",
    "collapsed": true
   },
   "outputs": [],
   "source": [
    "# paramters for 1st convolutional layer\n",
    "conv1_features = 64\n",
    "conv1_filter_size = 3\n",
    "max_pool_size1 = 2\n",
    "\n",
    "# paramters for 2nd convolutional layer\n",
    "conv2_features = 128\n",
    "conv2_filter_size = 3\n",
    "max_pool_size2 = 2\n",
    "\n",
    "# paramters for 3rd convolutional layer\n",
    "conv3_features = 128\n",
    "conv3_filter_size = 3\n",
    "max_pool_size3 = 2\n",
    "\n",
    "# paramters for 4th convolutional layer\n",
    "conv4_features = 64\n",
    "conv4_filter_size = 3\n",
    "max_pool_size4 = 2\n",
    "\n",
    "# number of featuers of 1st fully connected layer\n",
    "fc_layer_size1 = 512\n",
    "\n",
    "# number of featuers of 2nd fully connected layer\n",
    "fc_layer_size2 = 256"
   ]
  },
  {
   "cell_type": "markdown",
   "metadata": {
    "_cell_guid": "46215e33-9f44-4051-8f6b-2b26d97f01ec",
    "_uuid": "ec02a2a96d8b7caaaf462683ee139d59dc639afb"
   },
   "source": [
    "**Create convolutional layer 1**"
   ]
  },
  {
   "cell_type": "code",
   "execution_count": 65,
   "metadata": {
    "_cell_guid": "8395723a-7061-40ba-86c3-bc67d02dd90d",
    "_uuid": "83240829d931db0742a5a82ae9c8cf3d1f2bd957",
    "collapsed": true
   },
   "outputs": [
    {
     "data": {
      "text/plain": [
       "<tf.Tensor 'MaxPool:0' shape=(?, 38, 38, 64) dtype=float32>"
      ]
     },
     "execution_count": 65,
     "metadata": {},
     "output_type": "execute_result"
    }
   ],
   "source": [
    "layer_conv1 = create_convolutional_layer(input=image,\n",
    "                                         num_input_channels= num_channels,\n",
    "                                         conv_filter_size = conv1_filter_size,\n",
    "                                         max_pool_filter_size = max_pool_size1,\n",
    "                                         num_filters = conv1_features)\n",
    "layer_conv1"
   ]
  },
  {
   "cell_type": "markdown",
   "metadata": {
    "_cell_guid": "1d979586-de2c-4be8-b275-fbb691412a4c",
    "_uuid": "fbb57f121c9d99c7d6d6cc6776899408b3aab52e"
   },
   "source": [
    "**Create convolutional layer 2**"
   ]
  },
  {
   "cell_type": "code",
   "execution_count": 66,
   "metadata": {
    "_cell_guid": "c482934e-bc4c-450f-8f51-c93851819a33",
    "_uuid": "d8d51144ac3f6ff3e577243ea02367155e1d107e",
    "collapsed": true
   },
   "outputs": [
    {
     "data": {
      "text/plain": [
       "<tf.Tensor 'MaxPool_1:0' shape=(?, 19, 19, 128) dtype=float32>"
      ]
     },
     "execution_count": 66,
     "metadata": {},
     "output_type": "execute_result"
    }
   ],
   "source": [
    "layer_conv2 = create_convolutional_layer(input=layer_conv1,\n",
    "                                         num_input_channels= conv1_features,\n",
    "                                         conv_filter_size = conv2_filter_size,\n",
    "                                         max_pool_filter_size = max_pool_size2,\n",
    "                                         num_filters = conv2_features)\n",
    "layer_conv2"
   ]
  },
  {
   "cell_type": "markdown",
   "metadata": {
    "_cell_guid": "56ebb6fe-b0c2-4e67-accd-e912ed7baeb4",
    "_uuid": "39a726eab1eb99ff4da8921060bb33f03a7d9335"
   },
   "source": [
    "**Create convolutional layer 3**"
   ]
  },
  {
   "cell_type": "code",
   "execution_count": 67,
   "metadata": {
    "_cell_guid": "490ffd07-c4ca-40c0-b9d6-48364fc9a242",
    "_uuid": "e12dfae3bcadd8ebbe8fdd7e398f85b822e55615",
    "collapsed": true
   },
   "outputs": [
    {
     "data": {
      "text/plain": [
       "<tf.Tensor 'MaxPool_2:0' shape=(?, 10, 10, 128) dtype=float32>"
      ]
     },
     "execution_count": 67,
     "metadata": {},
     "output_type": "execute_result"
    }
   ],
   "source": [
    "layer_conv3 = create_convolutional_layer(input=layer_conv2,\n",
    "                                         num_input_channels= conv2_features,\n",
    "                                         conv_filter_size = conv3_filter_size,\n",
    "                                         max_pool_filter_size = max_pool_size3,\n",
    "                                         num_filters = conv3_features)\n",
    "layer_conv3"
   ]
  },
  {
   "cell_type": "markdown",
   "metadata": {
    "_cell_guid": "641313b1-8324-4aa4-9c7b-0992afcf7db1",
    "_uuid": "8aaeab46a0a75569fcfe42f17ff995fe80975811"
   },
   "source": [
    "**Create convolutional layer 4**"
   ]
  },
  {
   "cell_type": "code",
   "execution_count": 68,
   "metadata": {
    "_cell_guid": "245e200d-cec8-4b1a-8ff4-4bbfe9ff1134",
    "_uuid": "5f2940f265c34616882056afec21ed207adf1d90",
    "collapsed": true
   },
   "outputs": [
    {
     "data": {
      "text/plain": [
       "<tf.Tensor 'MaxPool_3:0' shape=(?, 5, 5, 64) dtype=float32>"
      ]
     },
     "execution_count": 68,
     "metadata": {},
     "output_type": "execute_result"
    }
   ],
   "source": [
    "layer_conv4 = create_convolutional_layer(input=layer_conv3,\n",
    "                                         num_input_channels= conv3_features,\n",
    "                                         conv_filter_size = conv4_filter_size,\n",
    "                                         max_pool_filter_size = max_pool_size4,\n",
    "                                         num_filters = conv4_features)\n",
    "layer_conv4"
   ]
  },
  {
   "cell_type": "markdown",
   "metadata": {
    "_cell_guid": "447be3ea-65bf-4849-90e0-d5f137f4dfae",
    "_uuid": "c0d1fba42eeffc8449a05226b821b78b5467304a"
   },
   "source": [
    "**Flatten the output of last convolutional layer**"
   ]
  },
  {
   "cell_type": "code",
   "execution_count": 69,
   "metadata": {
    "_cell_guid": "165e82a2-3eb2-4e4a-9894-3721f07b38fb",
    "_uuid": "0029beae7c95206075edaca6476b8202abfd4e70",
    "collapsed": true
   },
   "outputs": [
    {
     "data": {
      "text/plain": [
       "<tf.Tensor 'Reshape:0' shape=(?, 1600) dtype=float32>"
      ]
     },
     "execution_count": 69,
     "metadata": {},
     "output_type": "execute_result"
    }
   ],
   "source": [
    "layer_flat = create_flatten_layer(layer_conv4)\n",
    "layer_flat"
   ]
  },
  {
   "cell_type": "markdown",
   "metadata": {
    "_cell_guid": "ccc14524-2daa-4508-93f9-96248109e605",
    "_uuid": "936382641cb46b416fa1daee15fc9ce3582618e1"
   },
   "source": [
    "**Create a connected layer for angle and concat this with the fully connected layer (OPTIONAL)**"
   ]
  },
  {
   "cell_type": "code",
   "execution_count": 70,
   "metadata": {
    "_cell_guid": "1f4e97ac-cccc-4964-b455-08b04d3f5036",
    "_uuid": "55d82528b489fa49df3a9f14605e2d2cbaa9cb10",
    "collapsed": true
   },
   "outputs": [],
   "source": [
    "# layer_angle = create_fc_layer(input = angle,\n",
    "#                               num_inputs=1,\n",
    "#                               num_outputs=1,\n",
    "#                               use_relu= True)"
   ]
  },
  {
   "cell_type": "code",
   "execution_count": 71,
   "metadata": {
    "_cell_guid": "6c307554-c25d-4509-a970-de2256716b1d",
    "_uuid": "eae39bcff711f872e538961873a4714413a949c9",
    "collapsed": true
   },
   "outputs": [],
   "source": [
    "# combined_layer = tf.concat((layer_flat, layer_angle), axis=1)"
   ]
  },
  {
   "cell_type": "code",
   "execution_count": 72,
   "metadata": {
    "_cell_guid": "56d4b3d9-e5ba-4753-bcde-60a43e27feb6",
    "_uuid": "bfb293a098c097e688db997f142a3ab288e44f1e",
    "collapsed": true
   },
   "outputs": [],
   "source": [
    "# layer_fc1 = create_fc_layer(input=combined_layer,\n",
    "#                             num_inputs=combined_layer.get_shape()[1:4].num_elements(),\n",
    "#                             num_outputs=fc_layer_size1,\n",
    "#                             use_relu=True,\n",
    "#                             dropout =True,\n",
    "#                             keep_prob = keep_prob)"
   ]
  },
  {
   "cell_type": "markdown",
   "metadata": {
    "_cell_guid": "1b13e8cd-5569-411d-8842-0e8a3f37c715",
    "_uuid": "71663fb30a168b87d17fe22af7540f75ab5063f1"
   },
   "source": [
    "**Create the first fully connected layer**"
   ]
  },
  {
   "cell_type": "code",
   "execution_count": 73,
   "metadata": {
    "_cell_guid": "68bcfb64-2a79-4ae0-b5b9-ee5b4ddd10a6",
    "_uuid": "19cd20866f5fb39458636733dde47051acf6a6c2",
    "collapsed": true
   },
   "outputs": [
    {
     "data": {
      "text/plain": [
       "<tf.Tensor 'dropout/mul:0' shape=(?, 512) dtype=float32>"
      ]
     },
     "execution_count": 73,
     "metadata": {},
     "output_type": "execute_result"
    }
   ],
   "source": [
    "layer_fc1 = create_fc_layer(input=layer_flat,\n",
    "                            num_inputs=layer_flat.get_shape()[1:4].num_elements(),\n",
    "                            num_outputs=fc_layer_size1,\n",
    "                            use_relu=True,\n",
    "                            dropout =True,\n",
    "                            keep_prob = keep_prob)\n",
    "layer_fc1"
   ]
  },
  {
   "cell_type": "markdown",
   "metadata": {
    "_cell_guid": "362493b5-55d7-4a89-b8f3-389e38f9d51e",
    "_uuid": "078052726a28c5d4d5c1bfe3f6e1f771f68682d6"
   },
   "source": [
    "**Create the second  fully connected layer**"
   ]
  },
  {
   "cell_type": "code",
   "execution_count": 74,
   "metadata": {
    "_cell_guid": "e739c54b-eff2-4ddd-88b0-772862b49fcb",
    "_uuid": "51b1fe669b6d40ec320e1fe18dd75fa287580325",
    "collapsed": true
   },
   "outputs": [
    {
     "data": {
      "text/plain": [
       "<tf.Tensor 'dropout_1/mul:0' shape=(?, 256) dtype=float32>"
      ]
     },
     "execution_count": 74,
     "metadata": {},
     "output_type": "execute_result"
    }
   ],
   "source": [
    "layer_fc2 = create_fc_layer(input=layer_fc1,\n",
    "                            num_inputs=fc_layer_size1,\n",
    "                            num_outputs=fc_layer_size2,\n",
    "                            use_relu=True,\n",
    "                            dropout =True,\n",
    "                            keep_prob = keep_prob)\n",
    "layer_fc2"
   ]
  },
  {
   "cell_type": "markdown",
   "metadata": {
    "_cell_guid": "d875e8a1-456a-4db1-b4a6-59da827bfb29",
    "_uuid": "da257d4d2aee1d94cda2a11de7f8b4b08743bbc6"
   },
   "source": [
    "**Create the output layer**"
   ]
  },
  {
   "cell_type": "code",
   "execution_count": 75,
   "metadata": {
    "_cell_guid": "417abe95-a10e-47d9-924d-17b8536560fe",
    "_uuid": "b9be66ace22a4dda6292bbed115dbdb19a2fbd44",
    "collapsed": true
   },
   "outputs": [
    {
     "data": {
      "text/plain": [
       "<tf.Tensor 'add_6:0' shape=(?, 2) dtype=float32>"
      ]
     },
     "execution_count": 75,
     "metadata": {},
     "output_type": "execute_result"
    }
   ],
   "source": [
    "output_layer = create_fc_layer(input=layer_fc2,\n",
    "                     num_inputs = fc_layer_size2,\n",
    "                     num_outputs = num_classes,\n",
    "                     use_relu=False)\n",
    "output_layer"
   ]
  },
  {
   "cell_type": "markdown",
   "metadata": {
    "_cell_guid": "65fdd93d-837d-451d-a8f1-d062a3c128f7",
    "_uuid": "399cb0b3d7ab28317b80c5223f0235dc1f043c94"
   },
   "source": [
    "## **6.5 Create prediction & accuracy metric**"
   ]
  },
  {
   "cell_type": "code",
   "execution_count": 76,
   "metadata": {
    "_cell_guid": "bda3d034-92ec-4551-b6c6-a0bbbf0e227b",
    "_uuid": "7867e90b3d4f84e14f21a17193d1635b7c4dc9af",
    "collapsed": true
   },
   "outputs": [],
   "source": [
    "# softmax operation on the output layer\n",
    "y_pred = tf.nn.softmax(output_layer)\n",
    "# extract the vector of predicted class\n",
    "y_pred_cls = tf.argmax(y_pred, axis=1, output_type=tf.int32)\n",
    "# extract the vector of labels\n",
    "y_true_cls = tf.argmax(y_true, axis=1, output_type=tf.int32)"
   ]
  },
  {
   "cell_type": "code",
   "execution_count": 77,
   "metadata": {
    "_cell_guid": "32a17e5a-1ad6-419b-94b5-7821462281d6",
    "_uuid": "f1f266f8f5295489d75d280290d04edca7b68e48",
    "collapsed": true
   },
   "outputs": [],
   "source": [
    "# extract the vector of correct prediction\n",
    "correct_prediction = tf.equal(y_pred_cls, y_true_cls)\n",
    "# operation to calculate accuracy\n",
    "accuracy = tf.reduce_mean(tf.cast(correct_prediction, tf.float32))"
   ]
  },
  {
   "cell_type": "markdown",
   "metadata": {
    "_cell_guid": "a839a5ce-81ac-444d-a539-27bc7b2b31e6",
    "_uuid": "a231ed620c1235ecb1d9a67424050579964c053a"
   },
   "source": [
    "## **6.6 Create Optimizer**"
   ]
  },
  {
   "cell_type": "code",
   "execution_count": 78,
   "metadata": {
    "_cell_guid": "95eaf536-4f2f-4e8e-b657-eb2ac917531c",
    "_uuid": "954598ebd2b0bd919007750b2c9109b37fefadd8",
    "collapsed": true
   },
   "outputs": [],
   "source": [
    "# operation to calculate cross entropy\n",
    "cross_entropy = tf.nn.softmax_cross_entropy_with_logits_v2(logits=output_layer,\n",
    "                                                    labels=y_true)\n",
    "# mean of cross entropy to act as the loss\n",
    "loss = tf.reduce_mean(cross_entropy)"
   ]
  },
  {
   "cell_type": "code",
   "execution_count": 79,
   "metadata": {
    "_cell_guid": "cb63c693-3541-4ce9-be66-7e2cf217010d",
    "_uuid": "7cf565d4965fbe220672deb528624ba2f52b4019",
    "collapsed": true
   },
   "outputs": [],
   "source": [
    "# sess.run(tf.global_variables_initializer())\n",
    "# loss.eval(feed_dict={image: image_validation,\n",
    "#                          angle: np.transpose([angles_validation]),\n",
    "#                          y_true: labels_validation, keep_prob: 1.0})"
   ]
  },
  {
   "cell_type": "code",
   "execution_count": 80,
   "metadata": {
    "_cell_guid": "c454b3f6-0eff-4bf6-b570-05fb943965a8",
    "_uuid": "ecf00f144bbb9de1643b4c0bb083e32bb54f1ade",
    "collapsed": true
   },
   "outputs": [],
   "source": [
    "# learning rate of optimizer\n",
    "learning_rate = (1e-3)*0.30\n",
    "# train step\n",
    "train_step = tf.train.AdamOptimizer(learning_rate=learning_rate).minimize(loss)"
   ]
  },
  {
   "cell_type": "markdown",
   "metadata": {
    "_cell_guid": "f2cf65c5-62f8-4cbf-b93f-130e883fc3bf",
    "_uuid": "929dd90ea76f7ab14457483f6e85caec6251fd2a"
   },
   "source": [
    "# **7. Train Model**"
   ]
  },
  {
   "cell_type": "code",
   "execution_count": 81,
   "metadata": {
    "_cell_guid": "9a0d2e0d-6018-4d59-9b02-f8f0407e176d",
    "_uuid": "54c303483cdc7e442e07e642ccb5e14bc58f78b9",
    "collapsed": true
   },
   "outputs": [],
   "source": [
    "# lists to store the train loss, validation loss, validation accuracy at each iteration\n",
    "train_loss = []\n",
    "valid_loss = []\n",
    "valid_acc = []\n",
    "\n",
    "# batch size\n",
    "batch_size = 255\n",
    "# max iteration\n",
    "max_iter = 700"
   ]
  },
  {
   "cell_type": "markdown",
   "metadata": {
    "_cell_guid": "1b162bee-89fb-47a3-a293-e366fd2ce5c9",
    "_uuid": "8b66b331e1e01188131ae697a9a093818f022faf"
   },
   "source": [
    "**Here we train and save the model with the highest accuracy or lowest loss. But here I think it is wise to save the model with lowest loss**"
   ]
  },
  {
   "cell_type": "code",
   "execution_count": 82,
   "metadata": {
    "_cell_guid": "a7c419a1-ed67-4773-86d3-5978a5699326",
    "_uuid": "4209c04412d1637d8193fb7e54c5963cfc0d8391",
    "collapsed": true,
    "scrolled": false
   },
   "outputs": [
    {
     "name": "stdout",
     "output_type": "stream",
     "text": [
      "iterations: 0 | train_loss: 0.724739 | validation_loss: 0.795982 | valid_accuracy: 0.475543\n",
      "iterations: 1 | train_loss: 0.671932 | validation_loss: 0.671847 | valid_accuracy: 0.671196\n",
      "iterations: 2 | train_loss: 0.680935 | validation_loss: 0.665286 | valid_accuracy: 0.554348\n",
      "iterations: 3 | train_loss: 0.666009 | validation_loss: 0.657893 | valid_accuracy: 0.592391\n",
      "iterations: 4 | train_loss: 0.652366 | validation_loss: 0.654136 | valid_accuracy: 0.692935\n",
      "iterations: 5 | train_loss: 0.644778 | validation_loss: 0.658902 | valid_accuracy: 0.654891\n",
      "iterations: 6 | train_loss: 0.642422 | validation_loss: 0.670126 | valid_accuracy: 0.600543\n",
      "iterations: 7 | train_loss: 0.653205 | validation_loss: 0.649994 | valid_accuracy: 0.671196\n",
      "iterations: 8 | train_loss: 0.63098 | validation_loss: 0.620469 | valid_accuracy: 0.682065\n",
      "iterations: 9 | train_loss: 0.637475 | validation_loss: 0.612902 | valid_accuracy: 0.652174\n",
      "iterations: 10 | train_loss: 0.632349 | validation_loss: 0.607994 | valid_accuracy: 0.611413\n",
      "iterations: 11 | train_loss: 0.626938 | validation_loss: 0.592748 | valid_accuracy: 0.690217\n",
      "iterations: 12 | train_loss: 0.593094 | validation_loss: 0.592158 | valid_accuracy: 0.728261\n",
      "iterations: 13 | train_loss: 0.618105 | validation_loss: 0.6055 | valid_accuracy: 0.709239\n",
      "iterations: 14 | train_loss: 0.609194 | validation_loss: 0.588127 | valid_accuracy: 0.725543\n",
      "iterations: 15 | train_loss: 0.584247 | validation_loss: 0.5593 | valid_accuracy: 0.758152\n",
      "iterations: 16 | train_loss: 0.558189 | validation_loss: 0.546899 | valid_accuracy: 0.736413\n",
      "iterations: 17 | train_loss: 0.576088 | validation_loss: 0.53626 | valid_accuracy: 0.736413\n",
      "iterations: 18 | train_loss: 0.561725 | validation_loss: 0.531731 | valid_accuracy: 0.788043\n",
      "iterations: 19 | train_loss: 0.594992 | validation_loss: 0.541004 | valid_accuracy: 0.766304\n",
      "iterations: 20 | train_loss: 0.522564 | validation_loss: 0.526623 | valid_accuracy: 0.782609\n",
      "iterations: 21 | train_loss: 0.52922 | validation_loss: 0.4897 | valid_accuracy: 0.809783\n",
      "iterations: 22 | train_loss: 0.514554 | validation_loss: 0.49943 | valid_accuracy: 0.741848\n",
      "iterations: 23 | train_loss: 0.521515 | validation_loss: 0.472631 | valid_accuracy: 0.769022\n",
      "iterations: 24 | train_loss: 0.495196 | validation_loss: 0.477983 | valid_accuracy: 0.804348\n",
      "iterations: 25 | train_loss: 0.48633 | validation_loss: 0.551545 | valid_accuracy: 0.709239\n",
      "iterations: 26 | train_loss: 0.491255 | validation_loss: 0.509594 | valid_accuracy: 0.766304\n",
      "iterations: 27 | train_loss: 0.464531 | validation_loss: 0.439903 | valid_accuracy: 0.820652\n",
      "iterations: 28 | train_loss: 0.50653 | validation_loss: 0.428803 | valid_accuracy: 0.807065\n",
      "iterations: 29 | train_loss: 0.45688 | validation_loss: 0.41825 | valid_accuracy: 0.809783\n",
      "iterations: 30 | train_loss: 0.402816 | validation_loss: 0.402594 | valid_accuracy: 0.850543\n",
      "iterations: 31 | train_loss: 0.439783 | validation_loss: 0.415709 | valid_accuracy: 0.817935\n",
      "iterations: 32 | train_loss: 0.408034 | validation_loss: 0.402221 | valid_accuracy: 0.831522\n",
      "iterations: 33 | train_loss: 0.37093 | validation_loss: 0.380268 | valid_accuracy: 0.853261\n",
      "iterations: 34 | train_loss: 0.397499 | validation_loss: 0.361103 | valid_accuracy: 0.858696\n",
      "iterations: 35 | train_loss: 0.381262 | validation_loss: 0.363419 | valid_accuracy: 0.858696\n",
      "iterations: 36 | train_loss: 0.394724 | validation_loss: 0.362342 | valid_accuracy: 0.850543\n",
      "iterations: 37 | train_loss: 0.412796 | validation_loss: 0.356461 | valid_accuracy: 0.853261\n",
      "iterations: 38 | train_loss: 0.351327 | validation_loss: 0.342543 | valid_accuracy: 0.866848\n",
      "iterations: 39 | train_loss: 0.368416 | validation_loss: 0.359194 | valid_accuracy: 0.847826\n",
      "iterations: 40 | train_loss: 0.37833 | validation_loss: 0.336677 | valid_accuracy: 0.872283\n",
      "iterations: 41 | train_loss: 0.406607 | validation_loss: 0.323589 | valid_accuracy: 0.872283\n",
      "iterations: 42 | train_loss: 0.403706 | validation_loss: 0.337788 | valid_accuracy: 0.872283\n",
      "iterations: 43 | train_loss: 0.338677 | validation_loss: 0.370826 | valid_accuracy: 0.817935\n",
      "iterations: 44 | train_loss: 0.389345 | validation_loss: 0.301325 | valid_accuracy: 0.88587\n",
      "iterations: 45 | train_loss: 0.32999 | validation_loss: 0.303829 | valid_accuracy: 0.875\n",
      "iterations: 46 | train_loss: 0.355308 | validation_loss: 0.336387 | valid_accuracy: 0.866848\n",
      "iterations: 47 | train_loss: 0.448476 | validation_loss: 0.341911 | valid_accuracy: 0.847826\n",
      "iterations: 48 | train_loss: 0.321183 | validation_loss: 0.311055 | valid_accuracy: 0.883152\n",
      "iterations: 49 | train_loss: 0.319424 | validation_loss: 0.287368 | valid_accuracy: 0.88587\n",
      "iterations: 50 | train_loss: 0.311121 | validation_loss: 0.301848 | valid_accuracy: 0.891304\n",
      "iterations: 51 | train_loss: 0.362313 | validation_loss: 0.316294 | valid_accuracy: 0.872283\n",
      "iterations: 52 | train_loss: 0.285139 | validation_loss: 0.298259 | valid_accuracy: 0.891304\n",
      "iterations: 53 | train_loss: 0.330336 | validation_loss: 0.270778 | valid_accuracy: 0.896739\n",
      "iterations: 54 | train_loss: 0.30034 | validation_loss: 0.265987 | valid_accuracy: 0.904891\n",
      "iterations: 55 | train_loss: 0.275822 | validation_loss: 0.309724 | valid_accuracy: 0.866848\n",
      "iterations: 56 | train_loss: 0.309682 | validation_loss: 0.350231 | valid_accuracy: 0.836957\n",
      "iterations: 57 | train_loss: 0.329462 | validation_loss: 0.265117 | valid_accuracy: 0.899457\n",
      "iterations: 58 | train_loss: 0.355808 | validation_loss: 0.262657 | valid_accuracy: 0.888587\n",
      "iterations: 59 | train_loss: 0.294278 | validation_loss: 0.299342 | valid_accuracy: 0.875\n",
      "iterations: 60 | train_loss: 0.283656 | validation_loss: 0.363505 | valid_accuracy: 0.820652\n",
      "iterations: 61 | train_loss: 0.303011 | validation_loss: 0.294727 | valid_accuracy: 0.872283\n",
      "iterations: 62 | train_loss: 0.292809 | validation_loss: 0.268229 | valid_accuracy: 0.894022\n",
      "iterations: 63 | train_loss: 0.284383 | validation_loss: 0.265655 | valid_accuracy: 0.896739\n",
      "iterations: 64 | train_loss: 0.275061 | validation_loss: 0.261801 | valid_accuracy: 0.899457\n",
      "iterations: 65 | train_loss: 0.292043 | validation_loss: 0.311662 | valid_accuracy: 0.858696\n",
      "iterations: 66 | train_loss: 0.338236 | validation_loss: 0.304021 | valid_accuracy: 0.869565\n",
      "iterations: 67 | train_loss: 0.267661 | validation_loss: 0.263779 | valid_accuracy: 0.899457\n",
      "iterations: 68 | train_loss: 0.285933 | validation_loss: 0.243436 | valid_accuracy: 0.894022\n",
      "iterations: 69 | train_loss: 0.261625 | validation_loss: 0.247082 | valid_accuracy: 0.904891\n",
      "iterations: 70 | train_loss: 0.282498 | validation_loss: 0.255699 | valid_accuracy: 0.899457\n",
      "iterations: 71 | train_loss: 0.279632 | validation_loss: 0.279937 | valid_accuracy: 0.888587\n",
      "iterations: 72 | train_loss: 0.259322 | validation_loss: 0.26774 | valid_accuracy: 0.896739\n",
      "iterations: 73 | train_loss: 0.291504 | validation_loss: 0.237141 | valid_accuracy: 0.910326\n",
      "iterations: 74 | train_loss: 0.285625 | validation_loss: 0.222349 | valid_accuracy: 0.902174\n",
      "iterations: 75 | train_loss: 0.277225 | validation_loss: 0.226445 | valid_accuracy: 0.915761\n",
      "iterations: 76 | train_loss: 0.2296 | validation_loss: 0.316082 | valid_accuracy: 0.861413\n",
      "iterations: 77 | train_loss: 0.306425 | validation_loss: 0.33956 | valid_accuracy: 0.834239\n",
      "iterations: 78 | train_loss: 0.265773 | validation_loss: 0.233256 | valid_accuracy: 0.915761\n",
      "iterations: 79 | train_loss: 0.265315 | validation_loss: 0.213013 | valid_accuracy: 0.913043\n",
      "iterations: 80 | train_loss: 0.283147 | validation_loss: 0.21159 | valid_accuracy: 0.910326\n",
      "iterations: 81 | train_loss: 0.217494 | validation_loss: 0.212439 | valid_accuracy: 0.915761\n",
      "iterations: 82 | train_loss: 0.260713 | validation_loss: 0.259612 | valid_accuracy: 0.888587\n",
      "iterations: 83 | train_loss: 0.290958 | validation_loss: 0.301862 | valid_accuracy: 0.880435\n",
      "iterations: 84 | train_loss: 0.253295 | validation_loss: 0.221309 | valid_accuracy: 0.918478\n",
      "iterations: 85 | train_loss: 0.236245 | validation_loss: 0.223001 | valid_accuracy: 0.894022\n",
      "iterations: 86 | train_loss: 0.263432 | validation_loss: 0.236739 | valid_accuracy: 0.880435\n",
      "iterations: 87 | train_loss: 0.256448 | validation_loss: 0.23287 | valid_accuracy: 0.899457\n",
      "iterations: 88 | train_loss: 0.329667 | validation_loss: 0.366345 | valid_accuracy: 0.809783\n",
      "iterations: 89 | train_loss: 0.241607 | validation_loss: 0.375092 | valid_accuracy: 0.809783\n",
      "iterations: 90 | train_loss: 0.248755 | validation_loss: 0.221771 | valid_accuracy: 0.907609\n",
      "iterations: 91 | train_loss: 0.289292 | validation_loss: 0.231384 | valid_accuracy: 0.880435\n",
      "iterations: 92 | train_loss: 0.276974 | validation_loss: 0.227813 | valid_accuracy: 0.888587\n",
      "iterations: 93 | train_loss: 0.291399 | validation_loss: 0.212077 | valid_accuracy: 0.918478\n",
      "iterations: 94 | train_loss: 0.245994 | validation_loss: 0.275414 | valid_accuracy: 0.891304\n",
      "iterations: 95 | train_loss: 0.262998 | validation_loss: 0.297377 | valid_accuracy: 0.855978\n",
      "iterations: 96 | train_loss: 0.199025 | validation_loss: 0.268582 | valid_accuracy: 0.880435\n",
      "iterations: 97 | train_loss: 0.238183 | validation_loss: 0.212711 | valid_accuracy: 0.910326\n",
      "iterations: 98 | train_loss: 0.251052 | validation_loss: 0.200488 | valid_accuracy: 0.923913\n",
      "iterations: 99 | train_loss: 0.21854 | validation_loss: 0.197849 | valid_accuracy: 0.915761\n",
      "iterations: 100 | train_loss: 0.220802 | validation_loss: 0.206705 | valid_accuracy: 0.907609\n",
      "iterations: 101 | train_loss: 0.242142 | validation_loss: 0.249057 | valid_accuracy: 0.899457\n",
      "iterations: 102 | train_loss: 0.25375 | validation_loss: 0.264383 | valid_accuracy: 0.896739\n",
      "iterations: 103 | train_loss: 0.235221 | validation_loss: 0.234023 | valid_accuracy: 0.902174\n",
      "iterations: 104 | train_loss: 0.189473 | validation_loss: 0.200747 | valid_accuracy: 0.923913\n",
      "iterations: 105 | train_loss: 0.243368 | validation_loss: 0.199271 | valid_accuracy: 0.923913\n",
      "iterations: 106 | train_loss: 0.211516 | validation_loss: 0.200482 | valid_accuracy: 0.921196\n",
      "iterations: 107 | train_loss: 0.208744 | validation_loss: 0.197756 | valid_accuracy: 0.92663\n",
      "iterations: 108 | train_loss: 0.196532 | validation_loss: 0.19827 | valid_accuracy: 0.921196\n",
      "iterations: 109 | train_loss: 0.188737 | validation_loss: 0.220314 | valid_accuracy: 0.904891\n",
      "iterations: 110 | train_loss: 0.254377 | validation_loss: 0.231054 | valid_accuracy: 0.894022\n",
      "iterations: 111 | train_loss: 0.203953 | validation_loss: 0.211783 | valid_accuracy: 0.904891\n",
      "iterations: 112 | train_loss: 0.214869 | validation_loss: 0.212141 | valid_accuracy: 0.923913\n",
      "iterations: 113 | train_loss: 0.223443 | validation_loss: 0.219316 | valid_accuracy: 0.923913\n",
      "iterations: 114 | train_loss: 0.221819 | validation_loss: 0.205511 | valid_accuracy: 0.929348\n",
      "iterations: 115 | train_loss: 0.234384 | validation_loss: 0.199766 | valid_accuracy: 0.92663\n",
      "iterations: 116 | train_loss: 0.195922 | validation_loss: 0.205017 | valid_accuracy: 0.934783\n",
      "iterations: 117 | train_loss: 0.209581 | validation_loss: 0.204291 | valid_accuracy: 0.92663\n",
      "iterations: 118 | train_loss: 0.190332 | validation_loss: 0.201858 | valid_accuracy: 0.915761\n",
      "iterations: 119 | train_loss: 0.198615 | validation_loss: 0.210057 | valid_accuracy: 0.904891\n",
      "iterations: 120 | train_loss: 0.160685 | validation_loss: 0.228782 | valid_accuracy: 0.907609\n",
      "iterations: 121 | train_loss: 0.185529 | validation_loss: 0.226289 | valid_accuracy: 0.910326\n",
      "iterations: 122 | train_loss: 0.200678 | validation_loss: 0.206462 | valid_accuracy: 0.918478\n",
      "iterations: 123 | train_loss: 0.210778 | validation_loss: 0.195399 | valid_accuracy: 0.921196\n",
      "iterations: 124 | train_loss: 0.178594 | validation_loss: 0.186172 | valid_accuracy: 0.921196\n",
      "iterations: 125 | train_loss: 0.277161 | validation_loss: 0.189402 | valid_accuracy: 0.915761\n",
      "iterations: 126 | train_loss: 0.222961 | validation_loss: 0.217904 | valid_accuracy: 0.904891\n",
      "iterations: 127 | train_loss: 0.212096 | validation_loss: 0.246194 | valid_accuracy: 0.896739\n",
      "iterations: 128 | train_loss: 0.196183 | validation_loss: 0.242166 | valid_accuracy: 0.896739\n",
      "iterations: 129 | train_loss: 0.210531 | validation_loss: 0.21404 | valid_accuracy: 0.915761\n",
      "iterations: 130 | train_loss: 0.176436 | validation_loss: 0.19712 | valid_accuracy: 0.918478\n",
      "iterations: 131 | train_loss: 0.181856 | validation_loss: 0.188662 | valid_accuracy: 0.923913\n",
      "iterations: 132 | train_loss: 0.18645 | validation_loss: 0.202431 | valid_accuracy: 0.918478\n",
      "iterations: 133 | train_loss: 0.184955 | validation_loss: 0.223269 | valid_accuracy: 0.907609\n",
      "iterations: 134 | train_loss: 0.13408 | validation_loss: 0.247652 | valid_accuracy: 0.894022\n",
      "iterations: 135 | train_loss: 0.191451 | validation_loss: 0.200316 | valid_accuracy: 0.921196\n",
      "iterations: 136 | train_loss: 0.175499 | validation_loss: 0.183363 | valid_accuracy: 0.932065\n",
      "iterations: 137 | train_loss: 0.206669 | validation_loss: 0.183198 | valid_accuracy: 0.92663\n",
      "iterations: 138 | train_loss: 0.200423 | validation_loss: 0.194565 | valid_accuracy: 0.923913\n",
      "iterations: 139 | train_loss: 0.168025 | validation_loss: 0.214805 | valid_accuracy: 0.918478\n",
      "iterations: 140 | train_loss: 0.226892 | validation_loss: 0.224652 | valid_accuracy: 0.913043\n",
      "iterations: 141 | train_loss: 0.197547 | validation_loss: 0.197943 | valid_accuracy: 0.907609\n",
      "iterations: 142 | train_loss: 0.141649 | validation_loss: 0.202484 | valid_accuracy: 0.902174\n",
      "iterations: 143 | train_loss: 0.173345 | validation_loss: 0.18684 | valid_accuracy: 0.923913\n",
      "iterations: 144 | train_loss: 0.193423 | validation_loss: 0.190961 | valid_accuracy: 0.929348\n",
      "iterations: 145 | train_loss: 0.135826 | validation_loss: 0.201198 | valid_accuracy: 0.915761\n",
      "iterations: 146 | train_loss: 0.151544 | validation_loss: 0.221498 | valid_accuracy: 0.899457\n",
      "iterations: 147 | train_loss: 0.212463 | validation_loss: 0.226382 | valid_accuracy: 0.896739\n",
      "iterations: 148 | train_loss: 0.163664 | validation_loss: 0.232871 | valid_accuracy: 0.877717\n",
      "iterations: 149 | train_loss: 0.205031 | validation_loss: 0.207179 | valid_accuracy: 0.902174\n",
      "iterations: 150 | train_loss: 0.1586 | validation_loss: 0.188157 | valid_accuracy: 0.910326\n",
      "iterations: 151 | train_loss: 0.163198 | validation_loss: 0.194411 | valid_accuracy: 0.921196\n",
      "iterations: 152 | train_loss: 0.19089 | validation_loss: 0.236658 | valid_accuracy: 0.904891\n",
      "iterations: 153 | train_loss: 0.177856 | validation_loss: 0.243857 | valid_accuracy: 0.904891\n",
      "iterations: 154 | train_loss: 0.21824 | validation_loss: 0.198986 | valid_accuracy: 0.923913\n",
      "iterations: 155 | train_loss: 0.155396 | validation_loss: 0.182494 | valid_accuracy: 0.923913\n",
      "iterations: 156 | train_loss: 0.131042 | validation_loss: 0.193835 | valid_accuracy: 0.921196\n",
      "iterations: 157 | train_loss: 0.167652 | validation_loss: 0.211876 | valid_accuracy: 0.907609\n",
      "iterations: 158 | train_loss: 0.148599 | validation_loss: 0.249756 | valid_accuracy: 0.891304\n",
      "iterations: 159 | train_loss: 0.204891 | validation_loss: 0.228523 | valid_accuracy: 0.907609\n",
      "iterations: 160 | train_loss: 0.226406 | validation_loss: 0.189269 | valid_accuracy: 0.923913\n",
      "iterations: 161 | train_loss: 0.157274 | validation_loss: 0.190402 | valid_accuracy: 0.923913\n",
      "iterations: 162 | train_loss: 0.176805 | validation_loss: 0.206668 | valid_accuracy: 0.918478\n",
      "iterations: 163 | train_loss: 0.175817 | validation_loss: 0.206824 | valid_accuracy: 0.918478\n",
      "iterations: 164 | train_loss: 0.175136 | validation_loss: 0.213642 | valid_accuracy: 0.915761\n",
      "iterations: 165 | train_loss: 0.125479 | validation_loss: 0.234815 | valid_accuracy: 0.907609\n",
      "iterations: 166 | train_loss: 0.13619 | validation_loss: 0.219369 | valid_accuracy: 0.907609\n",
      "iterations: 167 | train_loss: 0.171731 | validation_loss: 0.193103 | valid_accuracy: 0.915761\n",
      "iterations: 168 | train_loss: 0.188449 | validation_loss: 0.192186 | valid_accuracy: 0.921196\n",
      "iterations: 169 | train_loss: 0.149312 | validation_loss: 0.248812 | valid_accuracy: 0.891304\n",
      "iterations: 170 | train_loss: 0.128786 | validation_loss: 0.230647 | valid_accuracy: 0.907609\n",
      "iterations: 171 | train_loss: 0.181713 | validation_loss: 0.193684 | valid_accuracy: 0.918478\n",
      "iterations: 172 | train_loss: 0.156028 | validation_loss: 0.190973 | valid_accuracy: 0.921196\n",
      "iterations: 173 | train_loss: 0.195145 | validation_loss: 0.224317 | valid_accuracy: 0.899457\n",
      "iterations: 174 | train_loss: 0.176865 | validation_loss: 0.249945 | valid_accuracy: 0.888587\n",
      "iterations: 175 | train_loss: 0.166207 | validation_loss: 0.218115 | valid_accuracy: 0.904891\n",
      "iterations: 176 | train_loss: 0.154118 | validation_loss: 0.197498 | valid_accuracy: 0.913043\n",
      "iterations: 177 | train_loss: 0.149056 | validation_loss: 0.196656 | valid_accuracy: 0.918478\n",
      "iterations: 178 | train_loss: 0.142606 | validation_loss: 0.211093 | valid_accuracy: 0.923913\n",
      "iterations: 179 | train_loss: 0.161575 | validation_loss: 0.217001 | valid_accuracy: 0.923913\n",
      "iterations: 180 | train_loss: 0.150028 | validation_loss: 0.216048 | valid_accuracy: 0.918478\n",
      "iterations: 181 | train_loss: 0.130074 | validation_loss: 0.200966 | valid_accuracy: 0.918478\n",
      "iterations: 182 | train_loss: 0.133261 | validation_loss: 0.204428 | valid_accuracy: 0.910326\n",
      "iterations: 183 | train_loss: 0.162015 | validation_loss: 0.221324 | valid_accuracy: 0.913043\n",
      "iterations: 184 | train_loss: 0.146536 | validation_loss: 0.246514 | valid_accuracy: 0.902174\n",
      "iterations: 185 | train_loss: 0.132477 | validation_loss: 0.224765 | valid_accuracy: 0.910326\n",
      "iterations: 186 | train_loss: 0.215211 | validation_loss: 0.199488 | valid_accuracy: 0.910326\n",
      "iterations: 187 | train_loss: 0.116361 | validation_loss: 0.212208 | valid_accuracy: 0.915761\n",
      "iterations: 188 | train_loss: 0.154914 | validation_loss: 0.220621 | valid_accuracy: 0.913043\n",
      "iterations: 189 | train_loss: 0.127162 | validation_loss: 0.242965 | valid_accuracy: 0.896739\n",
      "iterations: 190 | train_loss: 0.127918 | validation_loss: 0.211101 | valid_accuracy: 0.915761\n",
      "iterations: 191 | train_loss: 0.166423 | validation_loss: 0.203138 | valid_accuracy: 0.907609\n",
      "iterations: 192 | train_loss: 0.132463 | validation_loss: 0.211514 | valid_accuracy: 0.910326\n",
      "iterations: 193 | train_loss: 0.165151 | validation_loss: 0.266768 | valid_accuracy: 0.891304\n",
      "iterations: 194 | train_loss: 0.177237 | validation_loss: 0.240026 | valid_accuracy: 0.907609\n",
      "iterations: 195 | train_loss: 0.173522 | validation_loss: 0.198964 | valid_accuracy: 0.915761\n",
      "iterations: 196 | train_loss: 0.125372 | validation_loss: 0.210219 | valid_accuracy: 0.907609\n",
      "iterations: 197 | train_loss: 0.115709 | validation_loss: 0.222411 | valid_accuracy: 0.921196\n",
      "iterations: 198 | train_loss: 0.200058 | validation_loss: 0.363975 | valid_accuracy: 0.855978\n",
      "iterations: 199 | train_loss: 0.131408 | validation_loss: 0.23665 | valid_accuracy: 0.904891\n",
      "iterations: 200 | train_loss: 0.185779 | validation_loss: 0.228294 | valid_accuracy: 0.888587\n",
      "iterations: 201 | train_loss: 0.184251 | validation_loss: 0.237196 | valid_accuracy: 0.877717\n",
      "iterations: 202 | train_loss: 0.0952453 | validation_loss: 0.189983 | valid_accuracy: 0.932065\n",
      "iterations: 203 | train_loss: 0.20474 | validation_loss: 0.250076 | valid_accuracy: 0.896739\n",
      "iterations: 204 | train_loss: 0.179 | validation_loss: 0.279894 | valid_accuracy: 0.888587\n",
      "iterations: 205 | train_loss: 0.179981 | validation_loss: 0.243231 | valid_accuracy: 0.894022\n",
      "iterations: 206 | train_loss: 0.124163 | validation_loss: 0.201281 | valid_accuracy: 0.915761\n",
      "iterations: 207 | train_loss: 0.127363 | validation_loss: 0.187221 | valid_accuracy: 0.918478\n",
      "iterations: 208 | train_loss: 0.149682 | validation_loss: 0.182854 | valid_accuracy: 0.923913\n",
      "iterations: 209 | train_loss: 0.161061 | validation_loss: 0.181995 | valid_accuracy: 0.921196\n",
      "iterations: 210 | train_loss: 0.149776 | validation_loss: 0.199046 | valid_accuracy: 0.918478\n",
      "iterations: 211 | train_loss: 0.115253 | validation_loss: 0.222977 | valid_accuracy: 0.913043\n",
      "iterations: 212 | train_loss: 0.119444 | validation_loss: 0.197584 | valid_accuracy: 0.921196\n",
      "iterations: 213 | train_loss: 0.10811 | validation_loss: 0.184439 | valid_accuracy: 0.934783\n",
      "iterations: 214 | train_loss: 0.0976026 | validation_loss: 0.184695 | valid_accuracy: 0.934783\n",
      "iterations: 215 | train_loss: 0.151699 | validation_loss: 0.198975 | valid_accuracy: 0.929348\n",
      "iterations: 216 | train_loss: 0.14208 | validation_loss: 0.243311 | valid_accuracy: 0.907609\n",
      "iterations: 217 | train_loss: 0.123211 | validation_loss: 0.233985 | valid_accuracy: 0.910326\n",
      "iterations: 218 | train_loss: 0.107129 | validation_loss: 0.209405 | valid_accuracy: 0.915761\n",
      "iterations: 219 | train_loss: 0.119395 | validation_loss: 0.205524 | valid_accuracy: 0.907609\n",
      "iterations: 220 | train_loss: 0.133991 | validation_loss: 0.222881 | valid_accuracy: 0.913043\n",
      "iterations: 221 | train_loss: 0.104591 | validation_loss: 0.223112 | valid_accuracy: 0.910326\n",
      "iterations: 222 | train_loss: 0.107822 | validation_loss: 0.209018 | valid_accuracy: 0.915761\n",
      "iterations: 223 | train_loss: 0.0987451 | validation_loss: 0.209834 | valid_accuracy: 0.923913\n",
      "iterations: 224 | train_loss: 0.0792255 | validation_loss: 0.210692 | valid_accuracy: 0.929348\n",
      "iterations: 225 | train_loss: 0.103908 | validation_loss: 0.209109 | valid_accuracy: 0.918478\n",
      "iterations: 226 | train_loss: 0.0781509 | validation_loss: 0.222396 | valid_accuracy: 0.92663\n",
      "iterations: 227 | train_loss: 0.14616 | validation_loss: 0.218161 | valid_accuracy: 0.915761\n",
      "iterations: 228 | train_loss: 0.0815847 | validation_loss: 0.226161 | valid_accuracy: 0.907609\n",
      "iterations: 229 | train_loss: 0.0954396 | validation_loss: 0.232918 | valid_accuracy: 0.902174\n",
      "iterations: 230 | train_loss: 0.141037 | validation_loss: 0.242163 | valid_accuracy: 0.902174\n",
      "iterations: 231 | train_loss: 0.0882731 | validation_loss: 0.232477 | valid_accuracy: 0.910326\n",
      "iterations: 232 | train_loss: 0.0819214 | validation_loss: 0.215972 | valid_accuracy: 0.929348\n",
      "iterations: 233 | train_loss: 0.111186 | validation_loss: 0.214331 | valid_accuracy: 0.923913\n",
      "iterations: 234 | train_loss: 0.0730648 | validation_loss: 0.222539 | valid_accuracy: 0.918478\n",
      "iterations: 235 | train_loss: 0.102305 | validation_loss: 0.235175 | valid_accuracy: 0.921196\n",
      "iterations: 236 | train_loss: 0.166277 | validation_loss: 0.21391 | valid_accuracy: 0.923913\n",
      "iterations: 237 | train_loss: 0.0863302 | validation_loss: 0.232351 | valid_accuracy: 0.907609\n",
      "iterations: 238 | train_loss: 0.0937609 | validation_loss: 0.243831 | valid_accuracy: 0.907609\n",
      "iterations: 239 | train_loss: 0.105033 | validation_loss: 0.24975 | valid_accuracy: 0.896739\n",
      "iterations: 240 | train_loss: 0.0887093 | validation_loss: 0.241289 | valid_accuracy: 0.904891\n",
      "iterations: 241 | train_loss: 0.0633169 | validation_loss: 0.205431 | valid_accuracy: 0.92663\n",
      "iterations: 242 | train_loss: 0.111354 | validation_loss: 0.202639 | valid_accuracy: 0.921196\n",
      "iterations: 243 | train_loss: 0.0891972 | validation_loss: 0.204392 | valid_accuracy: 0.929348\n",
      "iterations: 244 | train_loss: 0.117082 | validation_loss: 0.259069 | valid_accuracy: 0.910326\n",
      "iterations: 245 | train_loss: 0.105431 | validation_loss: 0.296321 | valid_accuracy: 0.896739\n",
      "iterations: 246 | train_loss: 0.0986752 | validation_loss: 0.210392 | valid_accuracy: 0.921196\n",
      "iterations: 247 | train_loss: 0.145965 | validation_loss: 0.259995 | valid_accuracy: 0.896739\n",
      "iterations: 248 | train_loss: 0.125008 | validation_loss: 0.207361 | valid_accuracy: 0.915761\n",
      "iterations: 249 | train_loss: 0.0933618 | validation_loss: 0.291378 | valid_accuracy: 0.896739\n",
      "iterations: 250 | train_loss: 0.179696 | validation_loss: 0.408367 | valid_accuracy: 0.853261\n",
      "iterations: 251 | train_loss: 0.16232 | validation_loss: 0.246703 | valid_accuracy: 0.907609\n",
      "iterations: 252 | train_loss: 0.0887715 | validation_loss: 0.185129 | valid_accuracy: 0.923913\n",
      "iterations: 253 | train_loss: 0.154181 | validation_loss: 0.236847 | valid_accuracy: 0.896739\n",
      "iterations: 254 | train_loss: 0.122652 | validation_loss: 0.185977 | valid_accuracy: 0.923913\n",
      "iterations: 255 | train_loss: 0.0772952 | validation_loss: 0.24352 | valid_accuracy: 0.904891\n",
      "iterations: 256 | train_loss: 0.146182 | validation_loss: 0.317993 | valid_accuracy: 0.877717\n"
     ]
    }
   ],
   "source": [
    "# create a saver object\n",
    "saver = tf.train.Saver(max_to_keep=1)\n",
    "\n",
    "# variables to store the accuracy, loss, iteration of our best model\n",
    "best_accuracy = 0\n",
    "best_loss = 1000000\n",
    "best_iteration = None\n",
    "\n",
    "iteration = 0\n",
    "\n",
    "# create a graph session and optimize under it\n",
    "with tf.Session() as sess:\n",
    "    \n",
    "    # initialize variables\n",
    "    sess.run(tf.global_variables_initializer())\n",
    "\n",
    "    # while 57 minutes have not elapsed (to finish before the kernel is killed)\n",
    "    while (time.time()-t1) < 3420:\n",
    "        \n",
    "        # break if max iteration is reached\n",
    "        if iteration >= max_iter:\n",
    "            break\n",
    "\n",
    "        # randomly choosing the indices of the batch \n",
    "        rand_index = np.random.choice(labels_train.shape[0], size=batch_size)\n",
    "\n",
    "        # extract the batch image and labels\n",
    "        image_rand = image_train[rand_index]\n",
    "#         angles_rand = angles_train[rand_index]\n",
    "        labels_rand = labels_train[rand_index]\n",
    "\n",
    "        # feed dictionary for batch\n",
    "        feed_dict_batch =  {image: image_rand,\n",
    "#                             angle: np.transpose([angles_rand]),\n",
    "                            y_true: labels_rand,\n",
    "                            keep_prob: 0.7}\n",
    "        # feed dictionary for train\n",
    "        feed_dict_train =  {image: image_rand,\n",
    "#                             angle: np.transpose([angles_rand]),\n",
    "                            y_true: labels_rand,\n",
    "                            keep_prob: 1.0}\n",
    "        # feed dictionary for validation\n",
    "        feed_dict_validation =  {image: image_validation,\n",
    "#                                  angle: np.transpose([angles_validation]),\n",
    "                                 y_true: labels_validation,\n",
    "                                 keep_prob: 1.0}\n",
    "        \n",
    "        # execute optimization step\n",
    "        sess.run(train_step, feed_dict=feed_dict_batch)\n",
    "\n",
    "        # calculate temporary train loss and append it to the designated list\n",
    "        temp_train_loss = loss.eval(session=sess, feed_dict=feed_dict_train)\n",
    "        train_loss.append(temp_train_loss)\n",
    "        # calculate temporary validation loss and append it to the designated list\n",
    "        temp_validation_loss = loss.eval(session=sess, feed_dict=feed_dict_validation)\n",
    "        valid_loss.append(temp_validation_loss)\n",
    "        # calculate temporary validation accuracy and append it to the designated list\n",
    "        temp_validation_accuracy = accuracy.eval(session=sess, feed_dict=feed_dict_validation)\n",
    "        valid_acc.append(temp_validation_accuracy)\n",
    "\n",
    "        # if the valid loss is tied with best recorded so far but valid acc is better then\n",
    "        # update the parameters of the best model and save the model\n",
    "        if (temp_validation_loss == best_loss) and (temp_validation_accuracy > best_accuracy):\n",
    "            best_accuracy = temp_validation_accuracy\n",
    "            best_loss = temp_validation_loss\n",
    "            best_iteration = iteration           \n",
    "            saver.save(sess, './my-model', global_step = best_iteration)\n",
    "        \n",
    "        # if valid accuracy is better than best recorded so far then update the best valid accuracy\n",
    "        if temp_validation_accuracy > best_accuracy:\n",
    "            best_accuracy = temp_validation_accuracy\n",
    "        \n",
    "        # if valid loss is better than best recorded so far then\n",
    "        # update the parameters of the best model and save the model\n",
    "        if temp_validation_loss < best_loss:\n",
    "            best_loss = temp_validation_loss\n",
    "            best_iteration = iteration          \n",
    "            saver.save(sess, './my-model', global_step = best_iteration)\n",
    "\n",
    "        # print metric info\n",
    "        print(\"iterations:\",iteration,\n",
    "              \"| train_loss:\", temp_train_loss,\n",
    "              \"| validation_loss:\", temp_validation_loss,\n",
    "              \"| valid_accuracy:\", temp_validation_accuracy)\n",
    "        \n",
    "        # increment iteration\n",
    "        iteration = iteration+1"
   ]
  },
  {
   "cell_type": "code",
   "execution_count": 83,
   "metadata": {
    "_cell_guid": "2f5723d5-e20e-4d5f-9533-daee1bfd1423",
    "_uuid": "0aac341d8057e34adb2ec031e33f83f4d3c56b18",
    "collapsed": true
   },
   "outputs": [],
   "source": [
    "# delete unnecessary variables out of memory\n",
    "del(image_train, image_validation, angles_train, angles_validation, labels_train, labels_validation)"
   ]
  },
  {
   "cell_type": "markdown",
   "metadata": {
    "_cell_guid": "e3d6fd2a-a371-4164-860f-7694a2e0cd26",
    "_uuid": "2083e8d574740ef1f4cb66fcad2da3d9da8507fd"
   },
   "source": [
    "# **8. Save the submission and performance metrics of our best model**"
   ]
  },
  {
   "cell_type": "code",
   "execution_count": 84,
   "metadata": {
    "_cell_guid": "977cc468-abd1-4cc4-b451-595f1db8fcbb",
    "_uuid": "88e061beeec475745458a7f42e3e45244f69ef4b",
    "collapsed": true
   },
   "outputs": [
    {
     "name": "stdout",
     "output_type": "stream",
     "text": [
      "INFO:tensorflow:Restoring parameters from ./my-model-209\n"
     ]
    }
   ],
   "source": [
    "# t5 = time.time()\n",
    "\n",
    "with tf.Session() as sess:    \n",
    "    \n",
    "    # restore the best model\n",
    "    model_path = \"./\"+\"my-model-\"+str(best_iteration)\n",
    "    saver.restore(sess, model_path)\n",
    "    \n",
    "    # break the test set into k folds other wise kernel will be out of memory\n",
    "    n = len(iD)\n",
    "    k = 12\n",
    "    step = n//k\n",
    "    \n",
    "    # array to store the prediction\n",
    "    preds = np.array([])\n",
    "\n",
    "    # iterate through each fold\n",
    "    for i in range(k):\n",
    "\n",
    "        # start and end indices of the fold\n",
    "        start = (step*i)\n",
    "        end = (step*(i+1)) \n",
    "    \n",
    "        # feed dictionary for the fold\n",
    "        feed_dict_test =  {image: image_test[start:end],\n",
    "#                            angle: np.transpose([angles_test[start:end]]),\n",
    "                           keep_prob: 1.0}\n",
    "\n",
    "        # evaluate predictions of the fold\n",
    "        fold_preds = y_pred.eval(session=sess, feed_dict = feed_dict_test)[:,1]\n",
    "        # append the predictions of the fold to the designated array\n",
    "        preds = np.append(preds, fold_preds)\n",
    "    \n",
    "    # save the submission csv file\n",
    "    submission_path = \"./submission.csv\"\n",
    "    submission = pd.DataFrame({\"id\": iD, \"is_iceberg\": preds})\n",
    "    submission.to_csv(submission_path, header = True, index=False)\n",
    "    \n",
    "    # save the csv file containing performance metrics of the best model \n",
    "    results = pd.DataFrame([int(best_iteration),train_loss[best_iteration],\n",
    "                            valid_loss[best_iteration], valid_acc[best_iteration]],\n",
    "                           index=[\"iteration\", \"train loss\", \"valid loss\", \"accuracy\"],\n",
    "                           columns = [\"results\"])    \n",
    "    results_path = \"./results.csv\"    \n",
    "    results.to_csv(results_path, header = True, index=True)\n",
    "    \n",
    "# t6 = time.time()\n",
    "# print(\"time take for prediction: \", t6-t5)"
   ]
  },
  {
   "cell_type": "markdown",
   "metadata": {
    "_cell_guid": "593ceda5-7e05-4cf0-abc8-154feb035219",
    "_uuid": "c18d3725b7448a2304d57c3374f8de627862c430"
   },
   "source": [
    "# **9. Visualization of the performance**"
   ]
  },
  {
   "cell_type": "markdown",
   "metadata": {
    "_cell_guid": "589a0642-75a9-421c-9d57-f286f78c7f2f",
    "_uuid": "81039db2d254d7022c9d0819e3dfcdbca097baac"
   },
   "source": [
    "## **9.1 Plot of loss over iteration**"
   ]
  },
  {
   "cell_type": "code",
   "execution_count": 85,
   "metadata": {
    "_cell_guid": "aba71e61-9348-49f9-ac09-0b0cd317678a",
    "_uuid": "904340b5b401d6fab9c7c5fbfd54fc6f47f28b0a",
    "collapsed": true
   },
   "outputs": [
    {
     "data": {
      "image/png": "[encoded data removed]",
      "text/plain": [
       "<matplotlib.figure.Figure at 0x7f744ee83400>"
      ]
     },
     "metadata": {},
     "output_type": "display_data"
    }
   ],
   "source": [
    "plt.figure(figsize=(16, 8), dpi= 80, facecolor='w', edgecolor='k')\n",
    "iterations = list(range(1,iteration+1))\n",
    "plt.plot(iterations, train_loss, label = \"train loss\")\n",
    "plt.plot(iterations, valid_loss, label = \"valid loss\")\n",
    "plt.title(\"Loss\")\n",
    "plt.xlabel(\"iter\")\n",
    "plt.ylabel(\"loss\")\n",
    "plt.legend()\n",
    "plt.grid()\n",
    "plt.show()"
   ]
  },
  {
   "cell_type": "markdown",
   "metadata": {
    "_cell_guid": "ca868335-904c-42a1-b279-e1c91d6e6dc6",
    "_uuid": "15a5202b6b8e18d5baa81d6e2561ff043c6e943b"
   },
   "source": [
    "## **9.2 Plot of training accuracy over iteration**"
   ]
  },
  {
   "cell_type": "code",
   "execution_count": 86,
   "metadata": {
    "_cell_guid": "4cbf848e-a13c-4a6a-9989-b79c6eeffefd",
    "_uuid": "98b6f21e7a9b8da25783bb23bf707faf898ea27d",
    "collapsed": true
   },
   "outputs": [
    {
     "data": {
      "image/png": "[encoded data removed]",
      "text/plain": [
       "<matplotlib.figure.Figure at 0x7f745598e438>"
      ]
     },
     "metadata": {},
     "output_type": "display_data"
    }
   ],
   "source": [
    "plt.figure(figsize=(16, 8), dpi= 80, facecolor='w', edgecolor='k')\n",
    "plt.plot(iterations, valid_acc, label = \"train loss\")\n",
    "plt.title(\"Accuracy\")\n",
    "plt.xlabel(\"iter\")\n",
    "plt.ylabel(\"accuracy\")\n",
    "plt.grid()\n",
    "plt.show()"
   ]
  },
  {
   "cell_type": "markdown",
   "metadata": {
    "_cell_guid": "ec1c6478-0ddb-4834-adf4-d92bf10a1681",
    "_uuid": "535cb132d3732b315b2dfdd71b57d933da0c7d01"
   },
   "source": [
    "# **10. Advice**"
   ]
  },
  {
   "cell_type": "markdown",
   "metadata": {
    "_cell_guid": "77776bbd-985f-4904-b6ab-c3f4d3fcdf54",
    "_uuid": "856a105767f9f19f7fd93237084a717dbcde2ac9"
   },
   "source": [
    "Looking at the plot it is safe to say that the loss would have gone lower if we increase the number of iterations. I would advise to train the model using higher computational power to decrease iteration time and increase kernel time, an easy way to do that is by running the script on google cloud (such as dataflow) or amazon web service instances having high memory. Another advice I would give if you take the first advise is to increase the batch size to 500 to stabalize the optimization."
   ]
  }
 ],
 "metadata": {
  "kernelspec": {
   "display_name": "Python 3",
   "language": "python",
   "name": "python3"
  },
  "language_info": {
   "codemirror_mode": {
    "name": "ipython",
    "version": 3
   },
   "file_extension": ".py",
   "mimetype": "text/x-python",
   "name": "python",
   "nbconvert_exporter": "python",
   "pygments_lexer": "ipython3",
   "version": "3.6.4"
  }
 },
 "nbformat": 4,
 "nbformat_minor": 1
}
