{
 "cells": [
  {
   "cell_type": "markdown",
   "metadata": {},
   "source": [
    "# ICEBERG CLASSIFIER CHALLENGE"
   ]
  },
  {
   "cell_type": "markdown",
   "metadata": {
    "_cell_guid": "65d51e1a-2e3d-4a46-8ec1-4c385fbac150",
    "_uuid": "ce931d91e1360582fa34153541dd7bb16506c718"
   },
   "source": [
    "**Import the necessary packages**"
   ]
  },
  {
   "cell_type": "code",
   "execution_count": 1,
   "metadata": {
    "_cell_guid": "f8f8118b-359d-4ae2-be59-72ee88394c0f",
    "_uuid": "a5a1bd0306fb34c97bd6cc32415537bdba8805fd"
   },
   "outputs": [],
   "source": [
    "import time\n",
    "import math\n",
    "import random\n",
    "import pandas as pd\n",
    "import numpy as np\n",
    "import tensorflow as tf\n",
    "import progressbar\n",
    "import cv2\n",
    "from sklearn.preprocessing import MinMaxScaler\n",
    "import matplotlib\n",
    "from matplotlib import pyplot as plt\n",
    "%matplotlib inline"
   ]
  },
  {
   "cell_type": "markdown",
   "metadata": {
    "_cell_guid": "232c6ab1-d9d9-4ad7-91fc-0e3f4505425c",
    "_uuid": "fef65d3b2657cbdd5f807ddf329f435b189368b9"
   },
   "source": [
    "**Making the results reproducible (knowing the random seed of the two libraries)**"
   ]
  },
  {
   "cell_type": "code",
   "execution_count": 2,
   "metadata": {
    "_cell_guid": "0769b51f-3ba7-461b-ba42-34dc3d630088",
    "_uuid": "6587e64d2d239b5f3ccac05832fdc9fadf3acf4b"
   },
   "outputs": [],
   "source": [
    "# np_rand_seed = random.randint(0,100)\n",
    "# tf_rand_seed = random.randint(0,100)\n",
    "np_rand_seed = 97\n",
    "tf_rand_seed = 82\n",
    "np.random.seed(np_rand_seed)\n",
    "# print(\"numpy random seed: \",np_rand_seed)\n",
    "# print(\"tensorflow random seed: \", tf_rand_seed)"
   ]
  },
  {
   "cell_type": "markdown",
   "metadata": {
    "_cell_guid": "ba8e27a4-4f25-40d5-90c1-df3b74e30175",
    "_uuid": "234dc6007bd963e70e10376d46a35672d22cedca"
   },
   "source": [
    "# **1. Load and Inspect the data**"
   ]
  },
  {
   "cell_type": "code",
   "execution_count": 3,
   "metadata": {
    "_cell_guid": "0a1ed763-ec52-4e6f-88e7-2a10538c2a6c",
    "_uuid": "275ac153352eaca867bf60fe8eecc7d07f4f69c7"
   },
   "outputs": [],
   "source": [
    "data = pd.read_json('../input/train.json')\n",
    "test_data = pd.read_json('../input/test.json')"
   ]
  },
  {
   "cell_type": "code",
   "execution_count": 4,
   "metadata": {
    "_cell_guid": "59fa9cc3-a66c-4003-a988-99ebc9ebf741",
    "_uuid": "978c8bee78d52a1953b1484c162e698d4dbf4339"
   },
   "outputs": [
    {
     "data": {
      "text/html": [
       "<div>\n",
       "<style scoped>\n",
       "    .dataframe tbody tr th:only-of-type {\n",
       "        vertical-align: middle;\n",
       "    }\n",
       "\n",
       "    .dataframe tbody tr th {\n",
       "        vertical-align: top;\n",
       "    }\n",
       "\n",
       "    .dataframe thead th {\n",
       "        text-align: right;\n",
       "    }\n",
       "</style>\n",
       "<table border=\"1\" class=\"dataframe\">\n",
       "  <thead>\n",
       "    <tr style=\"text-align: right;\">\n",
       "      <th></th>\n",
       "      <th>band_1</th>\n",
       "      <th>band_2</th>\n",
       "      <th>id</th>\n",
       "      <th>inc_angle</th>\n",
       "      <th>is_iceberg</th>\n",
       "    </tr>\n",
       "  </thead>\n",
       "  <tbody>\n",
       "    <tr>\n",
       "      <th>0</th>\n",
       "      <td>[-27.878360999999998, -27.15416, -28.668615, -...</td>\n",
       "      <td>[-27.154118, -29.537888, -31.0306, -32.190483,...</td>\n",
       "      <td>dfd5f913</td>\n",
       "      <td>43.9239</td>\n",
       "      <td>0</td>\n",
       "    </tr>\n",
       "    <tr>\n",
       "      <th>1</th>\n",
       "      <td>[-12.242375, -14.920304999999999, -14.920363, ...</td>\n",
       "      <td>[-31.506321, -27.984554, -26.645678, -23.76760...</td>\n",
       "      <td>e25388fd</td>\n",
       "      <td>38.1562</td>\n",
       "      <td>0</td>\n",
       "    </tr>\n",
       "    <tr>\n",
       "      <th>2</th>\n",
       "      <td>[-24.603676, -24.603714, -24.871029, -23.15277...</td>\n",
       "      <td>[-24.870956, -24.092632, -20.653963, -19.41104...</td>\n",
       "      <td>58b2aaa0</td>\n",
       "      <td>45.2859</td>\n",
       "      <td>1</td>\n",
       "    </tr>\n",
       "    <tr>\n",
       "      <th>3</th>\n",
       "      <td>[-22.454607, -23.082819, -23.998013, -23.99805...</td>\n",
       "      <td>[-27.889421, -27.519794, -27.165262, -29.10350...</td>\n",
       "      <td>4cfc3a18</td>\n",
       "      <td>43.8306</td>\n",
       "      <td>0</td>\n",
       "    </tr>\n",
       "    <tr>\n",
       "      <th>4</th>\n",
       "      <td>[-26.006956, -23.164886, -23.164886, -26.89116...</td>\n",
       "      <td>[-27.206915, -30.259186, -30.259186, -23.16495...</td>\n",
       "      <td>271f93f4</td>\n",
       "      <td>35.6256</td>\n",
       "      <td>0</td>\n",
       "    </tr>\n",
       "    <tr>\n",
       "      <th>5</th>\n",
       "      <td>[-20.769371, -20.769434, -25.906025, -25.90602...</td>\n",
       "      <td>[-29.288746, -29.712593, -28.884804, -28.88480...</td>\n",
       "      <td>b51d18b5</td>\n",
       "      <td>36.9034</td>\n",
       "      <td>1</td>\n",
       "    </tr>\n",
       "    <tr>\n",
       "      <th>6</th>\n",
       "      <td>[-26.673811, -23.666162, -27.622442, -28.31768...</td>\n",
       "      <td>[-24.557735, -26.97868, -27.622442, -29.073456...</td>\n",
       "      <td>31da1a04</td>\n",
       "      <td>34.4751</td>\n",
       "      <td>1</td>\n",
       "    </tr>\n",
       "    <tr>\n",
       "      <th>7</th>\n",
       "      <td>[-24.989119, -27.755224, -25.817074, -24.98927...</td>\n",
       "      <td>[-27.755173, -26.732174, -28.124943, -31.83772...</td>\n",
       "      <td>56929c16</td>\n",
       "      <td>41.1769</td>\n",
       "      <td>0</td>\n",
       "    </tr>\n",
       "    <tr>\n",
       "      <th>8</th>\n",
       "      <td>[-17.146641, -17.146572, -17.994583, -19.44553...</td>\n",
       "      <td>[-25.733608, -24.472507, -24.710424, -22.77215...</td>\n",
       "      <td>525ab75c</td>\n",
       "      <td>35.7829</td>\n",
       "      <td>0</td>\n",
       "    </tr>\n",
       "    <tr>\n",
       "      <th>9</th>\n",
       "      <td>[-24.020853, -23.551275, -27.18819, -29.126434...</td>\n",
       "      <td>[-28.702518, -33.563324, -29.571918, -29.12643...</td>\n",
       "      <td>192f56eb</td>\n",
       "      <td>43.3007</td>\n",
       "      <td>0</td>\n",
       "    </tr>\n",
       "  </tbody>\n",
       "</table>\n",
       "</div>"
      ],
      "text/plain": [
       "                                              band_1  \\\n",
       "0  [-27.878360999999998, -27.15416, -28.668615, -...   \n",
       "1  [-12.242375, -14.920304999999999, -14.920363, ...   \n",
       "2  [-24.603676, -24.603714, -24.871029, -23.15277...   \n",
       "3  [-22.454607, -23.082819, -23.998013, -23.99805...   \n",
       "4  [-26.006956, -23.164886, -23.164886, -26.89116...   \n",
       "5  [-20.769371, -20.769434, -25.906025, -25.90602...   \n",
       "6  [-26.673811, -23.666162, -27.622442, -28.31768...   \n",
       "7  [-24.989119, -27.755224, -25.817074, -24.98927...   \n",
       "8  [-17.146641, -17.146572, -17.994583, -19.44553...   \n",
       "9  [-24.020853, -23.551275, -27.18819, -29.126434...   \n",
       "\n",
       "                                              band_2        id inc_angle  \\\n",
       "0  [-27.154118, -29.537888, -31.0306, -32.190483,...  dfd5f913   43.9239   \n",
       "1  [-31.506321, -27.984554, -26.645678, -23.76760...  e25388fd   38.1562   \n",
       "2  [-24.870956, -24.092632, -20.653963, -19.41104...  58b2aaa0   45.2859   \n",
       "3  [-27.889421, -27.519794, -27.165262, -29.10350...  4cfc3a18   43.8306   \n",
       "4  [-27.206915, -30.259186, -30.259186, -23.16495...  271f93f4   35.6256   \n",
       "5  [-29.288746, -29.712593, -28.884804, -28.88480...  b51d18b5   36.9034   \n",
       "6  [-24.557735, -26.97868, -27.622442, -29.073456...  31da1a04   34.4751   \n",
       "7  [-27.755173, -26.732174, -28.124943, -31.83772...  56929c16   41.1769   \n",
       "8  [-25.733608, -24.472507, -24.710424, -22.77215...  525ab75c   35.7829   \n",
       "9  [-28.702518, -33.563324, -29.571918, -29.12643...  192f56eb   43.3007   \n",
       "\n",
       "   is_iceberg  \n",
       "0           0  \n",
       "1           0  \n",
       "2           1  \n",
       "3           0  \n",
       "4           0  \n",
       "5           1  \n",
       "6           1  \n",
       "7           0  \n",
       "8           0  \n",
       "9           0  "
      ]
     },
     "execution_count": 4,
     "metadata": {},
     "output_type": "execute_result"
    }
   ],
   "source": [
    "data.head(10)"
   ]
  },
  {
   "cell_type": "code",
   "execution_count": 5,
   "metadata": {
    "_cell_guid": "72fefb0a-3087-4ab2-8043-cccc54bef7d4",
    "_uuid": "db9cedd6992ff0eea8d6bc56069cd90482eebcb1"
   },
   "outputs": [
    {
     "data": {
      "text/html": [
       "<div>\n",
       "<style scoped>\n",
       "    .dataframe tbody tr th:only-of-type {\n",
       "        vertical-align: middle;\n",
       "    }\n",
       "\n",
       "    .dataframe tbody tr th {\n",
       "        vertical-align: top;\n",
       "    }\n",
       "\n",
       "    .dataframe thead th {\n",
       "        text-align: right;\n",
       "    }\n",
       "</style>\n",
       "<table border=\"1\" class=\"dataframe\">\n",
       "  <thead>\n",
       "    <tr style=\"text-align: right;\">\n",
       "      <th></th>\n",
       "      <th>band_1</th>\n",
       "      <th>band_2</th>\n",
       "      <th>id</th>\n",
       "      <th>inc_angle</th>\n",
       "    </tr>\n",
       "  </thead>\n",
       "  <tbody>\n",
       "    <tr>\n",
       "      <th>0</th>\n",
       "      <td>[-15.863251, -15.201077, -17.887735, -19.17248...</td>\n",
       "      <td>[-21.629612, -21.142353, -23.908337, -28.34524...</td>\n",
       "      <td>5941774d</td>\n",
       "      <td>34.966400</td>\n",
       "    </tr>\n",
       "    <tr>\n",
       "      <th>1</th>\n",
       "      <td>[-26.058969497680664, -26.058969497680664, -26...</td>\n",
       "      <td>[-25.754207611083984, -25.754207611083984, -25...</td>\n",
       "      <td>4023181e</td>\n",
       "      <td>32.615072</td>\n",
       "    </tr>\n",
       "    <tr>\n",
       "      <th>2</th>\n",
       "      <td>[-14.14109992980957, -15.064241409301758, -17....</td>\n",
       "      <td>[-14.74563980102539, -14.590410232543945, -14....</td>\n",
       "      <td>b20200e4</td>\n",
       "      <td>37.505433</td>\n",
       "    </tr>\n",
       "    <tr>\n",
       "      <th>3</th>\n",
       "      <td>[-12.167478, -13.706167, -16.54837, -13.572674...</td>\n",
       "      <td>[-24.32222, -26.375538, -24.096739, -23.8769, ...</td>\n",
       "      <td>e7f018bb</td>\n",
       "      <td>34.473900</td>\n",
       "    </tr>\n",
       "    <tr>\n",
       "      <th>4</th>\n",
       "      <td>[-23.37459373474121, -26.02718162536621, -28.1...</td>\n",
       "      <td>[-25.72234344482422, -27.011577606201172, -23....</td>\n",
       "      <td>4371c8c3</td>\n",
       "      <td>43.918874</td>\n",
       "    </tr>\n",
       "    <tr>\n",
       "      <th>5</th>\n",
       "      <td>[-18.13534927368164, -18.13534927368164, -18.1...</td>\n",
       "      <td>[-14.650325775146484, -14.650325775146484, -14...</td>\n",
       "      <td>a8d9b1fd</td>\n",
       "      <td>35.933020</td>\n",
       "    </tr>\n",
       "    <tr>\n",
       "      <th>6</th>\n",
       "      <td>[-24.565174, -26.567524, -25.946882, -26.89542...</td>\n",
       "      <td>[-32.915886, -35.194798, -32.272282, -28.7505,...</td>\n",
       "      <td>29e7727e</td>\n",
       "      <td>42.414200</td>\n",
       "    </tr>\n",
       "    <tr>\n",
       "      <th>7</th>\n",
       "      <td>[-20.162964, -18.16898, -17.023144, -17.023216...</td>\n",
       "      <td>[-30.905346, -28.406647, -25.381365, -28.77645...</td>\n",
       "      <td>92a51ffb</td>\n",
       "      <td>33.638300</td>\n",
       "    </tr>\n",
       "    <tr>\n",
       "      <th>8</th>\n",
       "      <td>[-21.920645, -21.737827, -21.383303, -21.73792...</td>\n",
       "      <td>[-25.53537, -28.514198, -27.75848, -31.280354,...</td>\n",
       "      <td>c769ac97</td>\n",
       "      <td>41.107600</td>\n",
       "    </tr>\n",
       "    <tr>\n",
       "      <th>9</th>\n",
       "      <td>[-14.811565, -16.318594, -17.082613, -16.41037...</td>\n",
       "      <td>[-22.617977, -21.065811, -27.914198, -25.24334...</td>\n",
       "      <td>aee0547d</td>\n",
       "      <td>34.966400</td>\n",
       "    </tr>\n",
       "  </tbody>\n",
       "</table>\n",
       "</div>"
      ],
      "text/plain": [
       "                                              band_1  \\\n",
       "0  [-15.863251, -15.201077, -17.887735, -19.17248...   \n",
       "1  [-26.058969497680664, -26.058969497680664, -26...   \n",
       "2  [-14.14109992980957, -15.064241409301758, -17....   \n",
       "3  [-12.167478, -13.706167, -16.54837, -13.572674...   \n",
       "4  [-23.37459373474121, -26.02718162536621, -28.1...   \n",
       "5  [-18.13534927368164, -18.13534927368164, -18.1...   \n",
       "6  [-24.565174, -26.567524, -25.946882, -26.89542...   \n",
       "7  [-20.162964, -18.16898, -17.023144, -17.023216...   \n",
       "8  [-21.920645, -21.737827, -21.383303, -21.73792...   \n",
       "9  [-14.811565, -16.318594, -17.082613, -16.41037...   \n",
       "\n",
       "                                              band_2        id  inc_angle  \n",
       "0  [-21.629612, -21.142353, -23.908337, -28.34524...  5941774d  34.966400  \n",
       "1  [-25.754207611083984, -25.754207611083984, -25...  4023181e  32.615072  \n",
       "2  [-14.74563980102539, -14.590410232543945, -14....  b20200e4  37.505433  \n",
       "3  [-24.32222, -26.375538, -24.096739, -23.8769, ...  e7f018bb  34.473900  \n",
       "4  [-25.72234344482422, -27.011577606201172, -23....  4371c8c3  43.918874  \n",
       "5  [-14.650325775146484, -14.650325775146484, -14...  a8d9b1fd  35.933020  \n",
       "6  [-32.915886, -35.194798, -32.272282, -28.7505,...  29e7727e  42.414200  \n",
       "7  [-30.905346, -28.406647, -25.381365, -28.77645...  92a51ffb  33.638300  \n",
       "8  [-25.53537, -28.514198, -27.75848, -31.280354,...  c769ac97  41.107600  \n",
       "9  [-22.617977, -21.065811, -27.914198, -25.24334...  aee0547d  34.966400  "
      ]
     },
     "execution_count": 5,
     "metadata": {},
     "output_type": "execute_result"
    }
   ],
   "source": [
    "test_data.head(10)"
   ]
  },
  {
   "cell_type": "code",
   "execution_count": 6,
   "metadata": {
    "_cell_guid": "b8d12566-2ba4-4ebc-a4c8-4f48e4075e9d",
    "_uuid": "5d1f5b7b7cc8b917742709041c3cc79754c56f31"
   },
   "outputs": [
    {
     "name": "stdout",
     "output_type": "stream",
     "text": [
      "Shape of train set: (1604, 5)\n",
      "Shape of test set: (8424, 4)\n"
     ]
    }
   ],
   "source": [
    "print(\"Shape of train set:\", data.shape)\n",
    "print(\"Shape of test set:\", test_data.shape)"
   ]
  },
  {
   "cell_type": "code",
   "execution_count": 7,
   "metadata": {
    "_cell_guid": "2ea9679c-9474-4733-9b78-93a2e6d89e8b",
    "_uuid": "6768152bc325662c30599994df4dcd6e452fb93c"
   },
   "outputs": [
    {
     "name": "stdout",
     "output_type": "stream",
     "text": [
      "Shape of band 1: (5625,)\n",
      "Shape of band 2: (5625,)\n"
     ]
    }
   ],
   "source": [
    "print(\"Shape of band 1:\",  np.shape(data.band_1.iloc[0]))\n",
    "print(\"Shape of band 2:\",  np.shape(data.band_2.iloc[0]))"
   ]
  },
  {
   "cell_type": "code",
   "execution_count": 8,
   "metadata": {
    "_cell_guid": "c425a835-5ce7-405f-ac72-f47945d117e9",
    "_uuid": "69f8276d8dc39b2b01f145d23fb42a98c61f4379"
   },
   "outputs": [
    {
     "name": "stdout",
     "output_type": "stream",
     "text": [
      "Type of band 1: <class 'list'>\n",
      "Type of band 2: <class 'list'>\n"
     ]
    }
   ],
   "source": [
    "print(\"Type of band 1:\",  type(data.band_1.iloc[0]))\n",
    "print(\"Type of band 2:\",  type(data.band_2.iloc[0]))"
   ]
  },
  {
   "cell_type": "markdown",
   "metadata": {
    "_cell_guid": "8e75b4f3-473e-465f-8ac2-b3c4d67a0020",
    "_uuid": "8081c747d268ee030c1e3b659944ef82954e4f90"
   },
   "source": [
    "# **2. Feature Engineering**"
   ]
  },
  {
   "cell_type": "markdown",
   "metadata": {
    "_cell_guid": "ceb662b0-8aa3-4617-89bd-f5f2329ea6fa",
    "_uuid": "1c4a6498d16f4b82d4c115dc482442990bb9762c"
   },
   "source": [
    "## **2.1 Feature engineering on train set**"
   ]
  },
  {
   "cell_type": "markdown",
   "metadata": {
    "_cell_guid": "f8061808-806b-4a9d-a426-f39609522309",
    "_uuid": "1de83b66887477e0d31f1c33a3bb4532ceff5176"
   },
   "source": [
    "### 2.1.1 Replacing the na in inc_anlge with mean"
   ]
  },
  {
   "cell_type": "code",
   "execution_count": 9,
   "metadata": {
    "_cell_guid": "f59f93d3-cab1-4972-bed9-7626ba490076",
    "_uuid": "c73144f16395cdb9b98c384d114003f44efba614"
   },
   "outputs": [],
   "source": [
    "data[data['inc_angle']=='na'] = data[data['inc_angle']!='na']['inc_angle'].mean()"
   ]
  },
  {
   "cell_type": "markdown",
   "metadata": {
    "_cell_guid": "d62e4721-33f2-48e8-8697-4e2b4d17223f",
    "_uuid": "0286b0e9b9b7e49a2371eadc85ae0859f5dcdeb7"
   },
   "source": [
    "### 2.1.2 Converting the angle from degrees to radian"
   ]
  },
  {
   "cell_type": "code",
   "execution_count": 10,
   "metadata": {
    "_cell_guid": "b7ed5263-5d98-4608-8d13-a5d41bd30525",
    "_uuid": "d220ec6223601124059fb6f28913d37a3697d52f"
   },
   "outputs": [],
   "source": [
    "data['inc_angle'] = data['inc_angle'].apply(lambda x: math.radians(x))"
   ]
  },
  {
   "cell_type": "code",
   "execution_count": 11,
   "metadata": {
    "_cell_guid": "9f73a210-4cab-4322-968e-0b8c3e64e419",
    "_uuid": "cd3a3bd9aca879bcdac06427cfe644e50e489ad6"
   },
   "outputs": [
    {
     "data": {
      "text/plain": [
       "0    0.766617\n",
       "1    0.665951\n",
       "2    0.790388\n",
       "3    0.764988\n",
       "4    0.621784\n",
       "Name: inc_angle, dtype: float64"
      ]
     },
     "execution_count": 11,
     "metadata": {},
     "output_type": "execute_result"
    }
   ],
   "source": [
    "data.inc_angle.head()"
   ]
  },
  {
   "cell_type": "markdown",
   "metadata": {
    "_cell_guid": "ba7060dd-56f8-41ed-a07c-43720d857869",
    "_uuid": "d432da654082ba4241baf62c5b35935718359556"
   },
   "source": [
    "### 2.1.3 Finding and droping points with missing band1 and band2 data"
   ]
  },
  {
   "cell_type": "markdown",
   "metadata": {
    "_cell_guid": "457faa33-d2f1-441e-a2a6-88fa45b9b716",
    "_uuid": "52cf51e1f8957ccc549a664b1fbded8c218acddd"
   },
   "source": [
    "**Function which return the count and the index of missing data**"
   ]
  },
  {
   "cell_type": "code",
   "execution_count": 12,
   "metadata": {
    "_cell_guid": "17ff47b5-5ab8-4caa-8c5a-ddef625e326a",
    "_uuid": "108fc6ac01471d76325d9adf608449a6f97a9532"
   },
   "outputs": [],
   "source": [
    "def find_missing_data(series, shape):\n",
    "    \n",
    "    '''function which return the count and the index of missing data'''    \n",
    "    count = 0\n",
    "    missing_list = []\n",
    "    for i,x in enumerate(series):   \n",
    "        if np.shape(series.iloc[i]) != shape:\n",
    "            missing_list.append(i)\n",
    "            count += 1\n",
    "            \n",
    "    return missing_list, count"
   ]
  },
  {
   "cell_type": "markdown",
   "metadata": {
    "_cell_guid": "d0345f6b-9d38-43db-85c2-1a9622694eff",
    "_uuid": "ca85acfd8187174e0d3113dddcc7fa9d36d72ad9"
   },
   "source": [
    "\n",
    "**Count and list of missing points in band1**"
   ]
  },
  {
   "cell_type": "code",
   "execution_count": 13,
   "metadata": {
    "_cell_guid": "fa6205fe-16f0-4840-8565-1f09b98178c4",
    "_uuid": "ecc12a319af2e9f6215935ff1f92e787a4988fff"
   },
   "outputs": [
    {
     "name": "stdout",
     "output_type": "stream",
     "text": [
      "count:  133\n",
      "missing data:  [101, 126, 142, 145, 176, 179, 191, 278, 286, 342, 412, 431, 440, 493, 642, 666, 667, 730, 741, 742, 763, 822, 863, 868, 906, 916, 996, 1041, 1065, 1095, 1199, 1228, 1247, 1257, 1268, 1290, 1345, 1403, 1509, 1510, 1511, 1512, 1513, 1514, 1515, 1516, 1517, 1518, 1519, 1520, 1521, 1522, 1523, 1524, 1525, 1526, 1527, 1528, 1529, 1530, 1531, 1532, 1533, 1534, 1535, 1536, 1537, 1538, 1539, 1540, 1541, 1542, 1543, 1544, 1545, 1546, 1547, 1548, 1549, 1550, 1551, 1552, 1553, 1554, 1555, 1556, 1557, 1558, 1559, 1560, 1561, 1562, 1563, 1564, 1565, 1566, 1567, 1568, 1569, 1570, 1571, 1572, 1573, 1574, 1575, 1576, 1577, 1578, 1579, 1580, 1581, 1582, 1583, 1584, 1585, 1586, 1587, 1588, 1589, 1590, 1591, 1592, 1593, 1594, 1595, 1596, 1597, 1598, 1599, 1600, 1601, 1602, 1603]\n"
     ]
    }
   ],
   "source": [
    "missing_list1, count1 = find_missing_data(data.band_1, (5625,))\n",
    "print(\"count: \", count1)\n",
    "print(\"missing data: \", missing_list1)"
   ]
  },
  {
   "cell_type": "markdown",
   "metadata": {
    "_cell_guid": "2c0cf47e-da7e-4d7c-927d-05cf1dae77f1",
    "_uuid": "3d27c3e17cf67f027f9a51ef658eb57d0b6181ea"
   },
   "source": [
    "**Count and list of missing points in band2**"
   ]
  },
  {
   "cell_type": "code",
   "execution_count": 14,
   "metadata": {
    "_cell_guid": "aff2c169-e2d2-428d-abbc-462dd9e79609",
    "_uuid": "3de25d4fa2159ef52651a58ccb16b6ef8a6ea4b5"
   },
   "outputs": [
    {
     "name": "stdout",
     "output_type": "stream",
     "text": [
      "count:  133\n",
      "missing data:  [101, 126, 142, 145, 176, 179, 191, 278, 286, 342, 412, 431, 440, 493, 642, 666, 667, 730, 741, 742, 763, 822, 863, 868, 906, 916, 996, 1041, 1065, 1095, 1199, 1228, 1247, 1257, 1268, 1290, 1345, 1403, 1509, 1510, 1511, 1512, 1513, 1514, 1515, 1516, 1517, 1518, 1519, 1520, 1521, 1522, 1523, 1524, 1525, 1526, 1527, 1528, 1529, 1530, 1531, 1532, 1533, 1534, 1535, 1536, 1537, 1538, 1539, 1540, 1541, 1542, 1543, 1544, 1545, 1546, 1547, 1548, 1549, 1550, 1551, 1552, 1553, 1554, 1555, 1556, 1557, 1558, 1559, 1560, 1561, 1562, 1563, 1564, 1565, 1566, 1567, 1568, 1569, 1570, 1571, 1572, 1573, 1574, 1575, 1576, 1577, 1578, 1579, 1580, 1581, 1582, 1583, 1584, 1585, 1586, 1587, 1588, 1589, 1590, 1591, 1592, 1593, 1594, 1595, 1596, 1597, 1598, 1599, 1600, 1601, 1602, 1603]\n"
     ]
    }
   ],
   "source": [
    "missing_list2, count2 = find_missing_data(data.band_2, (5625,))\n",
    "print(\"count: \", count1)\n",
    "print(\"missing data: \", missing_list2)"
   ]
  },
  {
   "cell_type": "markdown",
   "metadata": {
    "_cell_guid": "c35645ad-3710-4986-b42d-d5f8d3ab8f1a",
    "_uuid": "e4eb2fdc12ce78db5527af4fdf3a662c11187231"
   },
   "source": [
    "**Check if the missing points are same**"
   ]
  },
  {
   "cell_type": "code",
   "execution_count": 15,
   "metadata": {
    "_cell_guid": "4082937c-1ce6-4409-b240-1cf375129e28",
    "_uuid": "be124d3032e55a5efac2ed60ec56e4935ac53868"
   },
   "outputs": [
    {
     "data": {
      "text/plain": [
       "True"
      ]
     },
     "execution_count": 15,
     "metadata": {},
     "output_type": "execute_result"
    }
   ],
   "source": [
    "missing_list1 == missing_list2"
   ]
  },
  {
   "cell_type": "markdown",
   "metadata": {
    "_cell_guid": "0edffb63-a8b7-4dcf-be24-8a99213ea394",
    "_uuid": "00966316ba5e1384602a25fe93a941ec5a14b1d0"
   },
   "source": [
    "**Function to drop data by index**"
   ]
  },
  {
   "cell_type": "code",
   "execution_count": 16,
   "metadata": {
    "_cell_guid": "f9e21d9b-5aa7-4045-be32-15db73520c14",
    "_uuid": "6b89b6728e54c7424cf5b290248294f9a17f296c"
   },
   "outputs": [],
   "source": [
    "def drop_data(df, index):    \n",
    "    '''function to drop data by index'''\n",
    "    return df.drop(df.index[index])"
   ]
  },
  {
   "cell_type": "markdown",
   "metadata": {
    "_cell_guid": "f1c234e4-738b-44c5-b690-049b76a2221c",
    "_uuid": "90b67ffa52acd981973b1fbb9a52d9b25acbd076"
   },
   "source": [
    "**Drop the points with mismatched images**"
   ]
  },
  {
   "cell_type": "code",
   "execution_count": 17,
   "metadata": {
    "_cell_guid": "7aa9a271-8ce5-4d09-9643-870f5a82cd56",
    "_uuid": "0e32bbc67ca5298a9e9ee5cbe4a809266cba0e68"
   },
   "outputs": [],
   "source": [
    "data = drop_data(data, missing_list1)"
   ]
  },
  {
   "cell_type": "code",
   "execution_count": 18,
   "metadata": {
    "_cell_guid": "f3b24d67-fd94-421c-bcd2-8a7d9e27183c",
    "_uuid": "f7c91ddad5c7b348a37307dac2e03ff630392e3b"
   },
   "outputs": [
    {
     "data": {
      "text/plain": [
       "(1471, 5)"
      ]
     },
     "execution_count": 18,
     "metadata": {},
     "output_type": "execute_result"
    }
   ],
   "source": [
    "data.shape"
   ]
  },
  {
   "cell_type": "code",
   "execution_count": 19,
   "metadata": {
    "_cell_guid": "46f737e0-2445-42bf-b7d8-33285d4ea9b4",
    "_uuid": "f3ac6619b44f579ad48781185d72a2588766afc4"
   },
   "outputs": [
    {
     "name": "stdout",
     "output_type": "stream",
     "text": [
      "Number of positive classes:  753\n",
      "Number of negative classes:  718\n"
     ]
    }
   ],
   "source": [
    "print(\"Number of positive classes: \", len(data[data['is_iceberg'] == 1.0]))\n",
    "print(\"Number of negative classes: \", len(data[data['is_iceberg'] == 0.0]))"
   ]
  },
  {
   "cell_type": "markdown",
   "metadata": {
    "_cell_guid": "5a025763-89f2-4c70-9d77-a06bdcce9838",
    "_uuid": "ce7741f7f35d38618b49733084efda42f9f13024"
   },
   "source": [
    "### 2.1.4 Scale the image data"
   ]
  },
  {
   "cell_type": "markdown",
   "metadata": {
    "_cell_guid": "19a77444-9f8e-4d4d-948e-3a90e9a1f6a7",
    "_uuid": "f1cb3b6f7cb2963f7026eef6b164b4ac28cf6b90"
   },
   "source": [
    "**3 scaling techniques we can try on**"
   ]
  },
  {
   "cell_type": "code",
   "execution_count": 20,
   "metadata": {
    "_cell_guid": "93cde433-87d7-476a-b084-9eaa82433c9d",
    "_uuid": "ae053563db3757bb4dc6eb3bd49992160b05af6b"
   },
   "outputs": [],
   "source": [
    "def standardise_vector(vector):\n",
    "    '''standardise vector'''\n",
    "    standardised_vector = (np.array(vector) - np.mean(vector)) / np.std(vector)\n",
    "    return standardised_vector.tolist()"
   ]
  },
  {
   "cell_type": "code",
   "execution_count": 21,
   "metadata": {
    "_cell_guid": "bb29a86b-d6d0-44dd-9271-3c53a7154989",
    "_uuid": "ead913b3576c08b41c8edfbe560cc5a0b53b6aa0"
   },
   "outputs": [],
   "source": [
    "def mean_normalise_vector(vector):\n",
    "    '''mean normalize vector'''\n",
    "    normalised_vector = (np.array(vector) - np.mean(vector)) / (np.max(vector) - np.min(vector))\n",
    "    return normalised_vector.tolist()"
   ]
  },
  {
   "cell_type": "code",
   "execution_count": 22,
   "metadata": {
    "_cell_guid": "ed1b04db-4ef2-4406-9521-6f32fa901ce7",
    "_uuid": "896c3ccb0591a713b201f928a585a3a48cfc1d50"
   },
   "outputs": [],
   "source": [
    "def min_max_scaler(vector, minimum, maximum, global_min, global_max):\n",
    "    '''minmaxscaler'''\n",
    "    X_std  = (np.array(vector) - global_min) / (global_max - global_min)\n",
    "    scaled_vector = X_std * (maximum - minimum) + minimum\n",
    "    return scaled_vector.tolist()"
   ]
  },
  {
   "cell_type": "markdown",
   "metadata": {
    "_cell_guid": "03254dfd-4e0b-40bb-b6eb-4fc69ed7f483",
    "_uuid": "4ca25f567f80d7dc562326a8c5f50ef8fbc2afa3"
   },
   "source": [
    "**We will use minmaxscaler as the  normalization technique since this works well with images**"
   ]
  },
  {
   "cell_type": "markdown",
   "metadata": {},
   "source": [
    "To use the minmaxscaler we have to find the global minimum and maximum of band_1 and band_2 data. We create functions to find global minimum and maximum."
   ]
  },
  {
   "cell_type": "code",
   "execution_count": 23,
   "metadata": {
    "_uuid": "8a54cecc569ad71a201af94052f5bcd65de31373"
   },
   "outputs": [],
   "source": [
    "def min_finder(data):\n",
    "    minimum = 0\n",
    "    current_minimum = None\n",
    "    for band in data: \n",
    "        current_minimum = np.min(band)\n",
    "        if current_minimum<minimum:\n",
    "            minimum = current_minimum\n",
    "    return minimum"
   ]
  },
  {
   "cell_type": "code",
   "execution_count": 24,
   "metadata": {
    "_uuid": "f122a9120a0b9b4d220462821755e660cb3f3c4f"
   },
   "outputs": [],
   "source": [
    "def max_finder(data):\n",
    "    maximum = 0\n",
    "    current_maximum = None\n",
    "    for band in data: \n",
    "        current_maximum = np.max(band)\n",
    "        if current_maximum>maximum:\n",
    "            maximum = current_maximum\n",
    "    return maximum"
   ]
  },
  {
   "cell_type": "markdown",
   "metadata": {},
   "source": [
    "Find global minimum and maximum of band_1 and band_2"
   ]
  },
  {
   "cell_type": "code",
   "execution_count": 25,
   "metadata": {
    "_uuid": "5a96503bda221ffd7140cb25827119a2848c65e6"
   },
   "outputs": [
    {
     "name": "stdout",
     "output_type": "stream",
     "text": [
      "band 1 max: 34.574917\n",
      "band 2 max: 20.154249\n",
      "band 1 min: -45.594448\n",
      "band 2 min: -45.655499\n"
     ]
    }
   ],
   "source": [
    "band_1_max = max_finder(data['band_1'])\n",
    "band_2_max = max_finder(data['band_2'])\n",
    "band_1_min = min_finder(data['band_1'])\n",
    "band_2_min = min_finder(data['band_2'])\n",
    "print(\"band 1 max:\",band_1_max)\n",
    "print(\"band 2 max:\",band_2_max)\n",
    "print(\"band 1 min:\",band_1_min)\n",
    "print(\"band 2 min:\",band_2_min)"
   ]
  },
  {
   "cell_type": "code",
   "execution_count": 26,
   "metadata": {
    "_cell_guid": "d80c077d-8d1f-4b9c-8341-02ec60cddefe",
    "_uuid": "bb8239e956b43e0ace7d20357002c6e602b0ed48"
   },
   "outputs": [],
   "source": [
    "data['band_1'] = data['band_1'].apply(min_max_scaler, args = (-1,1,band_1_min,band_1_max))\n",
    "data['band_2'] = data['band_2'].apply(min_max_scaler, args = (-1,1,band_2_min,band_2_max))"
   ]
  },
  {
   "cell_type": "code",
   "execution_count": 27,
   "metadata": {
    "_cell_guid": "9bc78ba9-ece5-4c01-a75c-f54d5ecafdf3",
    "_uuid": "723505e0b9dbaaf4ac9f6c605a7bd127f0a8c534"
   },
   "outputs": [
    {
     "data": {
      "text/html": [
       "<div>\n",
       "<style scoped>\n",
       "    .dataframe tbody tr th:only-of-type {\n",
       "        vertical-align: middle;\n",
       "    }\n",
       "\n",
       "    .dataframe tbody tr th {\n",
       "        vertical-align: top;\n",
       "    }\n",
       "\n",
       "    .dataframe thead th {\n",
       "        text-align: right;\n",
       "    }\n",
       "</style>\n",
       "<table border=\"1\" class=\"dataframe\">\n",
       "  <thead>\n",
       "    <tr style=\"text-align: right;\">\n",
       "      <th></th>\n",
       "      <th>band_1</th>\n",
       "      <th>band_2</th>\n",
       "      <th>id</th>\n",
       "      <th>inc_angle</th>\n",
       "      <th>is_iceberg</th>\n",
       "    </tr>\n",
       "  </thead>\n",
       "  <tbody>\n",
       "    <tr>\n",
       "      <th>0</th>\n",
       "      <td>[-0.5580334957124831, -0.5399667192075177, -0....</td>\n",
       "      <td>[-0.43773129172292236, -0.5101755745972466, -0...</td>\n",
       "      <td>dfd5f913</td>\n",
       "      <td>0.766617</td>\n",
       "      <td>0.0</td>\n",
       "    </tr>\n",
       "    <tr>\n",
       "      <th>1</th>\n",
       "      <td>[-0.16795965640990163, -0.23476647220543656, -...</td>\n",
       "      <td>[-0.5699975024976542, -0.46296876869973735, -0...</td>\n",
       "      <td>e25388fd</td>\n",
       "      <td>0.665951</td>\n",
       "      <td>0.0</td>\n",
       "    </tr>\n",
       "    <tr>\n",
       "      <th>2</th>\n",
       "      <td>[-0.4763393223833069, -0.4763402703763464, -0....</td>\n",
       "      <td>[-0.3683445498074237, -0.3446907895772523, -0....</td>\n",
       "      <td>58b2aaa0</td>\n",
       "      <td>0.790388</td>\n",
       "      <td>1.0</td>\n",
       "    </tr>\n",
       "    <tr>\n",
       "      <th>3</th>\n",
       "      <td>[-0.42272609992607524, -0.43839822106611426, -...</td>\n",
       "      <td>[-0.46007761646496503, -0.448844417395429, -0....</td>\n",
       "      <td>4cfc3a18</td>\n",
       "      <td>0.764988</td>\n",
       "      <td>0.0</td>\n",
       "    </tr>\n",
       "    <tr>\n",
       "      <th>4</th>\n",
       "      <td>[-0.511347208500404, -0.4404455617179954, -0.4...</td>\n",
       "      <td>[-0.43933582605421917, -0.5320962785026924, -0...</td>\n",
       "      <td>271f93f4</td>\n",
       "      <td>0.621784</td>\n",
       "      <td>0.0</td>\n",
       "    </tr>\n",
       "    <tr>\n",
       "      <th>5</th>\n",
       "      <td>[-0.380684205244734, -0.3806857769174048, -0.5...</td>\n",
       "      <td>[-0.5026039911290954, -0.5154849704028649, -0....</td>\n",
       "      <td>b51d18b5</td>\n",
       "      <td>0.644086</td>\n",
       "      <td>1.0</td>\n",
       "    </tr>\n",
       "    <tr>\n",
       "      <th>6</th>\n",
       "      <td>[-0.5279833637200444, -0.45295098695118763, -0...</td>\n",
       "      <td>[-0.3588255648692046, -0.4323996195821932, -0....</td>\n",
       "      <td>31da1a04</td>\n",
       "      <td>0.601704</td>\n",
       "      <td>1.0</td>\n",
       "    </tr>\n",
       "    <tr>\n",
       "      <th>7</th>\n",
       "      <td>[-0.48595504030747905, -0.5549615741623998, -0...</td>\n",
       "      <td>[-0.4559977345605396, -0.4249081458266639, -0....</td>\n",
       "      <td>56929c16</td>\n",
       "      <td>0.718672</td>\n",
       "      <td>0.0</td>\n",
       "    </tr>\n",
       "    <tr>\n",
       "      <th>8</th>\n",
       "      <td>[-0.2903072888253512, -0.2903055674695689, -0....</td>\n",
       "      <td>[-0.3945610914662673, -0.35623543186945494, -0...</td>\n",
       "      <td>525ab75c</td>\n",
       "      <td>0.624529</td>\n",
       "      <td>0.0</td>\n",
       "    </tr>\n",
       "    <tr>\n",
       "      <th>9</th>\n",
       "      <td>[-0.4617995290345632, -0.4500848796794137, -0....</td>\n",
       "      <td>[-0.48478815022965904, -0.6325111288984119, -0...</td>\n",
       "      <td>192f56eb</td>\n",
       "      <td>0.755740</td>\n",
       "      <td>0.0</td>\n",
       "    </tr>\n",
       "  </tbody>\n",
       "</table>\n",
       "</div>"
      ],
      "text/plain": [
       "                                              band_1  \\\n",
       "0  [-0.5580334957124831, -0.5399667192075177, -0....   \n",
       "1  [-0.16795965640990163, -0.23476647220543656, -...   \n",
       "2  [-0.4763393223833069, -0.4763402703763464, -0....   \n",
       "3  [-0.42272609992607524, -0.43839822106611426, -...   \n",
       "4  [-0.511347208500404, -0.4404455617179954, -0.4...   \n",
       "5  [-0.380684205244734, -0.3806857769174048, -0.5...   \n",
       "6  [-0.5279833637200444, -0.45295098695118763, -0...   \n",
       "7  [-0.48595504030747905, -0.5549615741623998, -0...   \n",
       "8  [-0.2903072888253512, -0.2903055674695689, -0....   \n",
       "9  [-0.4617995290345632, -0.4500848796794137, -0....   \n",
       "\n",
       "                                              band_2        id  inc_angle  \\\n",
       "0  [-0.43773129172292236, -0.5101755745972466, -0...  dfd5f913   0.766617   \n",
       "1  [-0.5699975024976542, -0.46296876869973735, -0...  e25388fd   0.665951   \n",
       "2  [-0.3683445498074237, -0.3446907895772523, -0....  58b2aaa0   0.790388   \n",
       "3  [-0.46007761646496503, -0.448844417395429, -0....  4cfc3a18   0.764988   \n",
       "4  [-0.43933582605421917, -0.5320962785026924, -0...  271f93f4   0.621784   \n",
       "5  [-0.5026039911290954, -0.5154849704028649, -0....  b51d18b5   0.644086   \n",
       "6  [-0.3588255648692046, -0.4323996195821932, -0....  31da1a04   0.601704   \n",
       "7  [-0.4559977345605396, -0.4249081458266639, -0....  56929c16   0.718672   \n",
       "8  [-0.3945610914662673, -0.35623543186945494, -0...  525ab75c   0.624529   \n",
       "9  [-0.48478815022965904, -0.6325111288984119, -0...  192f56eb   0.755740   \n",
       "\n",
       "   is_iceberg  \n",
       "0         0.0  \n",
       "1         0.0  \n",
       "2         1.0  \n",
       "3         0.0  \n",
       "4         0.0  \n",
       "5         1.0  \n",
       "6         1.0  \n",
       "7         0.0  \n",
       "8         0.0  \n",
       "9         0.0  "
      ]
     },
     "execution_count": 27,
     "metadata": {},
     "output_type": "execute_result"
    }
   ],
   "source": [
    "data.head(10)"
   ]
  },
  {
   "cell_type": "markdown",
   "metadata": {
    "_cell_guid": "7b76f88f-da1a-403c-81ad-8df9254e7f34",
    "_uuid": "83ccc60bfc074d301861eef82c0f73bc8c65c06e"
   },
   "source": [
    "### 2.1.5 Reshape the band1 and band2 data into 2D image"
   ]
  },
  {
   "cell_type": "code",
   "execution_count": 28,
   "metadata": {
    "_cell_guid": "cb679236-ed88-419f-9605-1adc84ab3e23",
    "_uuid": "2934df8b01da177eab5a0c74dbdabb5cb18681e5"
   },
   "outputs": [],
   "source": [
    "band_1 = np.array([np.array(band).astype(np.float32).reshape(75, 75) for band in data[\"band_1\"]])\n",
    "band_2 = np.array([np.array(band).astype(np.float32).reshape(75, 75) for band in data[\"band_2\"]])"
   ]
  },
  {
   "cell_type": "code",
   "execution_count": 29,
   "metadata": {
    "_cell_guid": "389a1644-5a04-4fc7-9ca5-75b3f9224fd8",
    "_uuid": "f9ac3e0531f4e7990884f830421a52aabe003cc7"
   },
   "outputs": [
    {
     "name": "stdout",
     "output_type": "stream",
     "text": [
      "Shape of band 1 image: (1471, 75, 75)\n",
      "Shape of band 2 image: (1471, 75, 75)\n"
     ]
    }
   ],
   "source": [
    "print(\"Shape of band 1 image:\",band_1.shape)\n",
    "print(\"Shape of band 2 image:\",band_2.shape)"
   ]
  },
  {
   "cell_type": "markdown",
   "metadata": {
    "_cell_guid": "f1e0c9c9-9c64-4c89-98d9-c7156d410630",
    "_uuid": "9bc360c6c90d27c127adadfe448af1a3e0d74945"
   },
   "source": [
    "## **2.2 Feature engieering on test Set**"
   ]
  },
  {
   "cell_type": "markdown",
   "metadata": {
    "_cell_guid": "fb903267-cd31-47a8-9143-cef67abd06e9",
    "_uuid": "0e2f0ba8f4b69b9c60ba2622dd2afcf1ae70cfd4"
   },
   "source": [
    "**We carry out the same feature engineering as carried out on train set**"
   ]
  },
  {
   "cell_type": "code",
   "execution_count": 30,
   "metadata": {
    "_cell_guid": "2147cc9a-20c7-45bd-a8b5-4495c1e5fb92",
    "_uuid": "cf760c092267e45eba0aed886c08ad3ec5073153"
   },
   "outputs": [],
   "source": [
    "test_data['inc_angle'] = test_data['inc_angle'].apply(lambda x: math.radians(x))"
   ]
  },
  {
   "cell_type": "code",
   "execution_count": 31,
   "metadata": {
    "_cell_guid": "f84fd6d1-e5fe-4dec-89ad-4da9c9d1e5fb",
    "_uuid": "c324bd680dc6f9f62460bcdcb0f0e1c4c7e046af"
   },
   "outputs": [
    {
     "data": {
      "text/plain": [
       "0    0.610279\n",
       "1    0.569240\n",
       "2    0.654593\n",
       "3    0.601683\n",
       "4    0.766529\n",
       "Name: inc_angle, dtype: float64"
      ]
     },
     "execution_count": 31,
     "metadata": {},
     "output_type": "execute_result"
    }
   ],
   "source": [
    "test_data.inc_angle.head()"
   ]
  },
  {
   "cell_type": "code",
   "execution_count": 32,
   "metadata": {
    "_cell_guid": "7b9ca0a8-ffba-45fa-91f8-f33158cf773e",
    "_uuid": "74df1a531cd18eb052f8a55d29611841c4f70109"
   },
   "outputs": [
    {
     "name": "stdout",
     "output_type": "stream",
     "text": [
      "count:  0\n",
      "missing data:  []\n"
     ]
    }
   ],
   "source": [
    "missing_list3, count3 = find_missing_data(test_data.band_1, (5625,))\n",
    "print(\"count: \", count3)\n",
    "print(\"missing data: \", missing_list3)"
   ]
  },
  {
   "cell_type": "code",
   "execution_count": 33,
   "metadata": {
    "_cell_guid": "e7f908ce-df6e-46b3-9afa-c7152b13fd9a",
    "_uuid": "8d23205eef621cc8256b9091ddb731be5013e923"
   },
   "outputs": [
    {
     "name": "stdout",
     "output_type": "stream",
     "text": [
      "count:  0\n",
      "missing data:  []\n"
     ]
    }
   ],
   "source": [
    "missing_list4, count4 = find_missing_data(test_data.band_2, (5625,))\n",
    "print(\"count: \", count4)\n",
    "print(\"missing data: \", missing_list4)"
   ]
  },
  {
   "cell_type": "code",
   "execution_count": 34,
   "metadata": {
    "_cell_guid": "acf46313-3ce4-4c6e-86e4-961154808436",
    "_uuid": "d1b7a5ca054dbf81d451abded28176387ad86600"
   },
   "outputs": [],
   "source": [
    "test_data['band_1'] = test_data['band_1'].apply(standardise_vector)\n",
    "test_data['band_2'] = test_data['band_2'].apply(standardise_vector)"
   ]
  },
  {
   "cell_type": "code",
   "execution_count": 35,
   "metadata": {
    "_cell_guid": "2c0a7e57-a905-49fd-86a2-2c99eca4a384",
    "_uuid": "ff9e919cd13673bd61e5213a83abd8c8041f3c18"
   },
   "outputs": [],
   "source": [
    "band_1_test = np.array([np.array(band).astype(np.float32).reshape(75, 75) for band in test_data[\"band_1\"]])\n",
    "band_2_test = np.array([np.array(band).astype(np.float32).reshape(75, 75) for band in test_data[\"band_2\"]])"
   ]
  },
  {
   "cell_type": "code",
   "execution_count": 36,
   "metadata": {
    "_cell_guid": "84bb2815-ce50-4b68-9550-42fa2847c63b",
    "_uuid": "08645230a05d6e67487a9ce7a4ce40c3e5e24761"
   },
   "outputs": [
    {
     "name": "stdout",
     "output_type": "stream",
     "text": [
      "Shape of test set band 1 image: (8424, 75, 75)\n",
      "Shape of test set band 2 image: (8424, 75, 75)\n"
     ]
    }
   ],
   "source": [
    "print(\"Shape of test set band 1 image:\",band_1_test.shape)\n",
    "print(\"Shape of test set band 2 image:\",band_2_test.shape)"
   ]
  },
  {
   "cell_type": "markdown",
   "metadata": {
    "_cell_guid": "b515cf3e-2f33-4456-8cea-c803b8a02284",
    "_uuid": "aa4007a853e9e5b2d04e525fcf00256085e813b9"
   },
   "source": [
    "# **3. Train/test/validation split**"
   ]
  },
  {
   "cell_type": "markdown",
   "metadata": {
    "_cell_guid": "54b33859-8b8d-4020-9626-1902ca025b16",
    "_uuid": "341ac6593b7cb1bef50eb528d501ce79149c63fa"
   },
   "source": [
    "**Extract the labels and angles of train set**"
   ]
  },
  {
   "cell_type": "code",
   "execution_count": 37,
   "metadata": {
    "_cell_guid": "d21487a5-9d5f-4244-af13-2146b569609b",
    "_uuid": "eecb2f52fe1b5d7370071c5d165f164ad11d13e0"
   },
   "outputs": [],
   "source": [
    "labels = data.is_iceberg.values\n",
    "angles = data.inc_angle.values"
   ]
  },
  {
   "cell_type": "markdown",
   "metadata": {
    "_cell_guid": "0d1ba57c-c175-4138-9066-d5f409846490",
    "_uuid": "0a1abe75df22a926d19a5ace9636b8f143b03003"
   },
   "source": [
    "**Carry out splits**"
   ]
  },
  {
   "cell_type": "code",
   "execution_count": 38,
   "metadata": {
    "_cell_guid": "d5438945-8391-4459-81fa-f472d78c5a85",
    "_uuid": "6072b7af745245422c114e630a79beadf9a12a9d"
   },
   "outputs": [],
   "source": [
    "# randomly choosing the train and validation indices\n",
    "train_indices = np.random.choice(len(labels), round(len(labels)*0.75), replace=False)\n",
    "validation_indices = np.array(list(set(range(len(labels))) - set(train_indices)))\n",
    "\n",
    "# extract train set\n",
    "band_1_train = band_1[train_indices]\n",
    "band_2_train = band_2[train_indices]\n",
    "angles_train = angles[train_indices]\n",
    "labels_train = labels[train_indices]\n",
    "\n",
    "# extract validation set\n",
    "band_1_validation = band_1[validation_indices]\n",
    "band_2_validation = band_2[validation_indices]\n",
    "angles_validation = angles[validation_indices]\n",
    "labels_validation = labels[validation_indices]\n",
    "\n",
    "# extract test set\n",
    "band_1_test = band_1_test\n",
    "band_2_test = band_2_test\n",
    "angles_test = test_data.inc_angle.values\n",
    "test_ids = test_data.id.values"
   ]
  },
  {
   "cell_type": "markdown",
   "metadata": {
    "_cell_guid": "60149af0-ec55-413f-b16e-610a136a73d9",
    "_uuid": "50af9ec23f4f918c97a2cd43a209e48b33a18a3b"
   },
   "source": [
    "**Covert the types of all data to float**"
   ]
  },
  {
   "cell_type": "code",
   "execution_count": 39,
   "metadata": {
    "_cell_guid": "9a984565-5eaa-4b40-be0d-4be3589c4d44",
    "_uuid": "dbe2f5278d4818cf31580778297009d2bcf1f0bf"
   },
   "outputs": [],
   "source": [
    "band_1_train = band_1_train.astype(np.float32)\n",
    "band_1_validation = band_1_validation.astype(np.float32)\n",
    "band_1_test = band_1_test.astype(np.float32)\n",
    "band_2_train = band_2_train.astype(np.float32)\n",
    "band_2_validation = band_2_validation.astype(np.float32)\n",
    "band_2_test = band_2_test.astype(np.float32)\n",
    "angles_train = angles_train.astype(np.float32)\n",
    "angles_validation = angles_validation.astype(np.float32)\n",
    "angles_test = angles_test.astype(np.float32)\n",
    "labels_train = labels_train.astype(np.float32)\n",
    "labels_validation = labels_validation.astype(np.float32)\n",
    "test_ids = test_ids.astype(np.str)"
   ]
  },
  {
   "cell_type": "code",
   "execution_count": 40,
   "metadata": {
    "_cell_guid": "be173599-cd4e-4233-a3f1-185da3cfa522",
    "_uuid": "f2ac78b986ec9532267e0ec9cc3b081a383119ed"
   },
   "outputs": [],
   "source": [
    "# delete the unnecessary variables out of memory\n",
    "del(data, test_data, band_1, band_2)"
   ]
  },
  {
   "cell_type": "markdown",
   "metadata": {
    "_cell_guid": "b68af081-f7a2-45f4-bc3a-36e39dd81ed4",
    "_uuid": "4e96cdb17e2195e1e1572d7ff665280149d9df2a"
   },
   "source": [
    "**Examine the shape of the data**"
   ]
  },
  {
   "cell_type": "code",
   "execution_count": 41,
   "metadata": {
    "_cell_guid": "dd1e910a-6992-4177-82bd-6718a853fa93",
    "_uuid": "623e269a6e5250e02f0340b7c0fbe1f86252c16c"
   },
   "outputs": [
    {
     "name": "stdout",
     "output_type": "stream",
     "text": [
      "Shape of band_1_train: (1103, 75, 75)\n",
      "Shape of band_2_train: (1103, 75, 75)\n",
      "Shape of angles_train: (1103,)\n",
      "Shape of labels_train: (1103,)\n",
      "Shape of band_1_validation: (368, 75, 75)\n",
      "Shape of band_2_validation: (368, 75, 75)\n",
      "Shape of angles_validation: (368,)\n",
      "Shape of labels_validation: (368,)\n",
      "Shape of band_1_test: (8424, 75, 75)\n",
      "Shape of band_2_test: (8424, 75, 75)\n",
      "Shape of angles_test: (8424,)\n",
      "Shape of iD: (8424,)\n"
     ]
    }
   ],
   "source": [
    "print(\"Shape of band_1_train:\",band_1_train.shape)\n",
    "print(\"Shape of band_2_train:\",band_1_train.shape)\n",
    "print(\"Shape of angles_train:\",angles_train.shape)\n",
    "print(\"Shape of labels_train:\",labels_train.shape)\n",
    "print(\"Shape of band_1_validation:\",band_1_validation.shape)\n",
    "print(\"Shape of band_2_validation:\",band_2_validation.shape)\n",
    "print(\"Shape of angles_validation:\",angles_validation.shape)\n",
    "print(\"Shape of labels_validation:\",labels_validation.shape)\n",
    "print(\"Shape of band_1_test:\",band_1_test.shape)\n",
    "print(\"Shape of band_2_test:\",band_2_test.shape)\n",
    "print(\"Shape of angles_test:\",angles_test.shape)\n",
    "print(\"Shape of iD:\",test_ids.shape)"
   ]
  },
  {
   "cell_type": "markdown",
   "metadata": {
    "_cell_guid": "86e1abbe-f6b5-43f3-9602-eef233c5f039",
    "_uuid": "e78640113bdcc73128e5d56a25fa2e604d3ac864"
   },
   "source": [
    "# **4. Augmenting train set**"
   ]
  },
  {
   "cell_type": "markdown",
   "metadata": {
    "_cell_guid": "9a9dc260-45f0-44e7-b1e1-1cbe4836e406",
    "_uuid": "83c14ab3ff90f386d3a7dc8dffd556d071814da5"
   },
   "source": [
    "## 4.1 Functions to carry out different augmentation techniques"
   ]
  },
  {
   "cell_type": "markdown",
   "metadata": {
    "_cell_guid": "fd49957d-2d31-41f6-9b47-4fb12cca4253",
    "_uuid": "c7666a5de11bd07b089511a6400e17463065f06b"
   },
   "source": [
    "**4.1.1 Image Rotation**"
   ]
  },
  {
   "cell_type": "code",
   "execution_count": 42,
   "metadata": {
    "_cell_guid": "aa517240-36a6-4587-a23a-7fed50b60ead",
    "_uuid": "fd7746aea0c8488c5351ad1db740afe1232cb7c3"
   },
   "outputs": [],
   "source": [
    "def rotate_image(img, angle = 20):\n",
    "    \n",
    "    '''a function to rotate image by a given degree'''\n",
    "    \n",
    "    # rotate image\n",
    "    original = img.copy()\n",
    "\n",
    "    M_rotate = cv2.getRotationMatrix2D((37,37),angle,1)\n",
    "    img_new = cv2.warpAffine(img,M_rotate,(75,75))\n",
    "    \n",
    "    length_row = 0\n",
    "    length_column = 0\n",
    "    boundary_step = 5\n",
    "    \n",
    "    for i in range(len(img_new)):\n",
    "        if img_new[0,i]!=float(0.0):\n",
    "            length_row = i\n",
    "            break\n",
    "    for i in range(len(img_new)):\n",
    "        if img_new[i,0]!=float(0.0):\n",
    "            length_column = i\n",
    "            break\n",
    "    \n",
    "    # subsitute the padding from original image\n",
    "    img_new[:length_column+boundary_step,:length_row+boundary_step] = \\\n",
    "    original[:length_column+boundary_step,:length_row+boundary_step] \n",
    "    img_new[-(length_row+boundary_step):,:length_column+boundary_step] = \\\n",
    "    original[-(length_row+boundary_step):,:length_column+boundary_step]\n",
    "    img_new[:length_row+boundary_step,-(length_column+boundary_step):] = \\\n",
    "    original[:length_row+boundary_step,-(length_column+boundary_step):]\n",
    "    img_new[-(length_column+boundary_step):,-(length_row+boundary_step):] = \\\n",
    "    original[-(length_column+boundary_step):,-(length_row+boundary_step):]\n",
    "    \n",
    "    return img_new"
   ]
  },
  {
   "cell_type": "markdown",
   "metadata": {
    "_cell_guid": "3e60279c-b4c8-42f7-8966-8145fb08377e",
    "_uuid": "c21f91a272323162b3eb158613166bb0fd0aff65"
   },
   "source": [
    "**4.1.2 Horizontal translation**"
   ]
  },
  {
   "cell_type": "code",
   "execution_count": 43,
   "metadata": {
    "_cell_guid": "af97ae17-8fdd-4946-8826-5ef7f6d51e1e",
    "_uuid": "53905416438c9e6e9d111f4cafb40b6b2f939324"
   },
   "outputs": [],
   "source": [
    "def translate_horizontal(image, shift_horizontal = 5):\n",
    "    \n",
    "    '''a function to translate image horizontally by a shift'''\n",
    "    \n",
    "    # horizontally shift image\n",
    "    img = image.copy()\n",
    "    \n",
    "    shift_vertical = 0; \n",
    "    if shift_horizontal<0:\n",
    "        image_slice = img[:,shift_horizontal:].copy()\n",
    "    if shift_horizontal>0:\n",
    "        image_slice = img[:,:shift_horizontal].copy()\n",
    "    M_translate = np.float32([[1,0,shift_horizontal],[0,1,shift_vertical]])\n",
    "    img_new = cv2.warpAffine(img,M_translate,(75,75))\n",
    "    \n",
    "    # subsitute the padding from original image\n",
    "    if shift_horizontal<0:\n",
    "        img_new[:,shift_horizontal:] = image_slice\n",
    "    if shift_horizontal>0:\n",
    "        img_new[:,:shift_horizontal] = image_slice\n",
    "        \n",
    "    return img_new.reshape(75,75).astype(np.float32)"
   ]
  },
  {
   "cell_type": "markdown",
   "metadata": {
    "_cell_guid": "321a68c5-6f8d-42ee-b43f-c2382428741f",
    "_uuid": "92955ef9fcabb5138ef4cccdfad99612bc27d9c7"
   },
   "source": [
    "**4.1.3 Vertical translation**"
   ]
  },
  {
   "cell_type": "code",
   "execution_count": 44,
   "metadata": {
    "_cell_guid": "69fe4098-9461-4eb4-bbc7-495122f8ab2e",
    "_uuid": "a77c02ec97ea12e072cbbdac6f6c9ddccb7c31c0"
   },
   "outputs": [],
   "source": [
    "def translate_vertical(image, shift_vertical = 5):\n",
    "    \n",
    "    '''a function to translate image vertically by a shift'''\n",
    "    \n",
    "    # vertically shift image\n",
    "    img = image.copy()\n",
    "    \n",
    "    shift_horizontal = 0;\n",
    "    if shift_vertical<0:\n",
    "        image_slice = img[shift_vertical:,:].copy()\n",
    "    if shift_vertical>0:\n",
    "        image_slice = img[:shift_vertical,:].copy()\n",
    "    M_translate = np.float32([[1,0,shift_horizontal],[0,1,shift_vertical]])\n",
    "    img_new = cv2.warpAffine(img,M_translate,(75,75))\n",
    "    \n",
    "    # subsitute the padding from original image\n",
    "    if shift_vertical<0:\n",
    "        img_new[shift_vertical:,:] = image_slice\n",
    "    if shift_vertical>0:\n",
    "        img_new[:shift_vertical,:] = image_slice\n",
    "        \n",
    "    return img_new.reshape(75,75).astype(np.float32)"
   ]
  },
  {
   "cell_type": "markdown",
   "metadata": {
    "_cell_guid": "b0873b41-4d91-4c58-9523-0db20e2b23c1",
    "_uuid": "26557ae31f21790006c18b4506191938b8275998"
   },
   "source": [
    "**4.1.4 Translation along positive diagonal**"
   ]
  },
  {
   "cell_type": "code",
   "execution_count": 45,
   "metadata": {
    "_cell_guid": "e645346d-d086-45b6-92cd-aeece998da23",
    "_uuid": "c3913e63bb74b6a3c2acde54ad51b601e39dc4e1"
   },
   "outputs": [],
   "source": [
    "def translate_positive_diagonal(image, shift_diagonal = 5):\n",
    "    \n",
    "    '''a function to translate image along positive diagonal'''\n",
    "    \n",
    "    # translate image along positive diagonal\n",
    "    img = image.copy()\n",
    "    \n",
    "    if shift_diagonal<0:\n",
    "        hor_slice = img[shift_diagonal:,:].copy()\n",
    "        ver_slice = img[:,shift_diagonal:].copy()\n",
    "    else:\n",
    "        hor_slice = img[:shift_diagonal,:].copy()\n",
    "        ver_slice = img[:,:shift_diagonal].copy()\n",
    "    M_translate = np.float32([[1,0,shift_diagonal],[0,1,shift_diagonal]])\n",
    "    img_new = cv2.warpAffine(img,M_translate,(75,75))\n",
    "    \n",
    "    # subsitute the padding from original image\n",
    "    if shift_diagonal<0:\n",
    "        img_new[shift_diagonal:,:] = hor_slice\n",
    "        img_new[:,shift_diagonal:] = ver_slice\n",
    "    else:\n",
    "        img_new[:shift_diagonal,:] = hor_slice\n",
    "        img_new[:,:shift_diagonal] = ver_slice\n",
    "    \n",
    "    return img_new.reshape(75,75).astype(np.float32)"
   ]
  },
  {
   "cell_type": "markdown",
   "metadata": {
    "_cell_guid": "ad345409-8ef3-4464-8698-a9d5ae079e80",
    "_uuid": "dea2e30274189b2854e5c51c77732ff9fea35497"
   },
   "source": [
    "**4.1.5 Translation along negative diagonal**"
   ]
  },
  {
   "cell_type": "code",
   "execution_count": 46,
   "metadata": {
    "_cell_guid": "96e91234-edd2-4276-aaab-2659233677af",
    "_uuid": "9786b54ebed361eba2f97a332abc119bb2790e03"
   },
   "outputs": [],
   "source": [
    "def translate_negative_diagonal(image, shift_diagonal = 5):\n",
    "    \n",
    "    '''a function to translate image along negative diagonal'''\n",
    "    \n",
    "    # translate image along negative diagonal\n",
    "    img = image.copy()\n",
    "    \n",
    "    if shift_diagonal<0:\n",
    "        hor_slice = img[:-shift_diagonal,:].copy()\n",
    "        ver_slice = img[:,shift_diagonal:].copy()\n",
    "    if shift_diagonal>0:\n",
    "        hor_slice = img[-shift_diagonal:,:].copy()\n",
    "        ver_slice = img[:,:shift_diagonal].copy()\n",
    "    M_translate = np.float32([[1,0,shift_diagonal],[0,1,-shift_diagonal]])\n",
    "    img_new = cv2.warpAffine(img,M_translate,(75,75))\n",
    "    \n",
    "    # subsitute the padding from original image\n",
    "    if shift_diagonal<0:\n",
    "        img_new[:-shift_diagonal,:] = hor_slice\n",
    "        img_new[:,shift_diagonal:] = ver_slice\n",
    "    if shift_diagonal>0:\n",
    "        img_new[-shift_diagonal:,:] = hor_slice\n",
    "        img_new[:,:shift_diagonal] = ver_slice\n",
    "        \n",
    "    return img_new.reshape(75,75).astype(np.float32)"
   ]
  },
  {
   "cell_type": "markdown",
   "metadata": {
    "_cell_guid": "ca1cffcb-0e15-419f-b28f-331f5ef3aeb1",
    "_uuid": "6efca0ecf88472b35bcfa55eee69a83befe0af8a"
   },
   "source": [
    "**4.1.6 Flip Image**"
   ]
  },
  {
   "cell_type": "code",
   "execution_count": 47,
   "metadata": {
    "_cell_guid": "6c5b3ded-8a55-4dc3-b8e0-a3c1bc97be69",
    "_uuid": "55084dbbb7af094519980b15e16c7eb09c04eea2"
   },
   "outputs": [],
   "source": [
    "def flip(image, direction = 0):\n",
    "    \n",
    "    '''a function to flip image'''\n",
    "    img = image.copy()\n",
    "    return cv2.flip(img,direction)"
   ]
  },
  {
   "cell_type": "markdown",
   "metadata": {
    "_cell_guid": "aef107c9-71e8-4a66-8de3-535b37777341",
    "_uuid": "0f2f83ffdbe3003381841c5ccc8b0a91595d8da0"
   },
   "source": [
    "**4.1.7 Zoom image**"
   ]
  },
  {
   "cell_type": "code",
   "execution_count": 48,
   "metadata": {
    "_cell_guid": "a7ffe735-a712-4fe2-8c42-1bd5cfd3edb0",
    "_uuid": "421f6527974b9eefec0e26fb52f617cb93ff5b99"
   },
   "outputs": [],
   "source": [
    "def zoom(image, zoom_shift = 5):\n",
    "    \n",
    "    '''a function to zoom image'''\n",
    "    \n",
    "    # zoom image\n",
    "    img = image.copy()\n",
    "    \n",
    "    # zoom in \n",
    "    if zoom_shift>0:\n",
    "        # scale\n",
    "        img_new = cv2.resize(img, (75+zoom_shift*2,75+zoom_shift*2)) \n",
    "        # crop\n",
    "        img_new = img_new[zoom_shift:-zoom_shift,zoom_shift:-zoom_shift] \n",
    "    # zoom out\n",
    "    else:\n",
    "        zoom_shift *=-1\n",
    "        \n",
    "        hor_top = img[:zoom_shift,:]\n",
    "        hor_bottom =img[-zoom_shift:,:]\n",
    "        ver_left = img[:,:zoom_shift]\n",
    "        ver_right = img[:,-zoom_shift:]\n",
    "        \n",
    "        # scale\n",
    "        img_new = cv2.resize(img, (75-zoom_shift*2,75-zoom_shift*2)) \n",
    "        # zero padding\n",
    "        img_new = cv2.copyMakeBorder(img_new,zoom_shift,zoom_shift,zoom_shift,zoom_shift,\n",
    "                                     cv2.BORDER_CONSTANT,value=0.0)\n",
    "        # subsitute the padding from original image\n",
    "        img_new[:zoom_shift,:] = hor_top\n",
    "        img_new[-zoom_shift:,:] = hor_bottom\n",
    "        img_new[:,:zoom_shift] = ver_left\n",
    "        img_new[:,-zoom_shift:] = ver_right     \n",
    "        \n",
    "    return img_new.reshape(75,75).astype(np.float32)"
   ]
  },
  {
   "cell_type": "markdown",
   "metadata": {
    "_cell_guid": "f6df0cdd-12d5-4802-9362-adee3781099a",
    "_uuid": "fba70b21dc0f5b30fef9f198c2f085b91c849c4e"
   },
   "source": [
    "## 4.2 Display sample augmented images"
   ]
  },
  {
   "cell_type": "code",
   "execution_count": 49,
   "metadata": {
    "_cell_guid": "b30fd90b-ae48-482c-85ea-88a164f7abb7",
    "_uuid": "29c6e9968e6b27e507840bdd68c0558b5cdad8e0"
   },
   "outputs": [
    {
     "data": {
      "image/png": "[encoded data removed]",
      "text/plain": [
       "<Figure size 1440x1008 with 15 Axes>"
      ]
     },
     "metadata": {
      "needs_background": "light"
     },
     "output_type": "display_data"
    }
   ],
   "source": [
    "matplotlib.rcParams['figure.figsize'] = (20.0, 14.0)\n",
    "image = band_1_test[3].copy()\n",
    "plt.subplot(3, 5, 1)\n",
    "plt.title(\"Original Image\")\n",
    "plt.imshow(image)\n",
    "plt.subplot(3, 5, 2)\n",
    "generated_image = rotate_image(image,40)\n",
    "plt.title(\"Rotation by +ve degree\")\n",
    "plt.imshow(generated_image)\n",
    "plt.subplot(3, 5, 3)\n",
    "generated_image = rotate_image(image,-40)\n",
    "plt.title(\"Rotation by -ve degree\")\n",
    "plt.imshow(generated_image)\n",
    "plt.subplot(3, 5, 4)\n",
    "generated_image = translate_horizontal(image,10)\n",
    "plt.title(\"Horizonation translation to right\")\n",
    "plt.imshow(generated_image)\n",
    "plt.subplot(3, 5, 5)\n",
    "generated_image = translate_horizontal(image,-10)\n",
    "plt.title(\"Horizonation translation to left\")\n",
    "plt.imshow(generated_image)\n",
    "plt.subplot(3, 5, 6)\n",
    "generated_image = translate_vertical(image,10)\n",
    "plt.title(\"Vertical translation downward\")\n",
    "plt.imshow(generated_image)\n",
    "plt.subplot(3, 5, 7)\n",
    "generated_image = translate_vertical(image,-10)\n",
    "plt.title(\"Vertical translation upward\")\n",
    "plt.imshow(generated_image)\n",
    "plt.subplot(3, 5, 8)\n",
    "generated_image = translate_positive_diagonal(image,10)\n",
    "plt.title(\"SE translation\")\n",
    "plt.imshow(generated_image)\n",
    "plt.subplot(3, 5, 9)\n",
    "generated_image = translate_positive_diagonal(image,-10)\n",
    "plt.title(\"NW translation\")\n",
    "plt.imshow(generated_image)\n",
    "plt.subplot(3, 5, 10)\n",
    "generated_image = translate_negative_diagonal(image,10)\n",
    "plt.title(\"NE translation\")\n",
    "plt.imshow(generated_image)\n",
    "plt.subplot(3, 5, 11)\n",
    "generated_image = translate_negative_diagonal(image,-10)\n",
    "plt.title(\"SW translation\")\n",
    "plt.imshow(generated_image)\n",
    "plt.subplot(3, 5, 12)\n",
    "generated_image = flip(image,0)\n",
    "plt.title(\"Vertical flip\")\n",
    "plt.imshow(generated_image)\n",
    "plt.subplot(3, 5, 13)\n",
    "generated_image = flip(image,1)\n",
    "plt.title(\"Horizontal flip\")\n",
    "plt.imshow(generated_image)\n",
    "plt.subplot(3, 5, 14)\n",
    "generated_image = zoom(image,10)\n",
    "plt.title(\"Zoom in\")\n",
    "plt.imshow(generated_image)\n",
    "plt.subplot(3, 5, 15)\n",
    "generated_image = zoom(image,-10)\n",
    "plt.title(\"Zoom out\")\n",
    "plt.imshow(generated_image)\n",
    "plt.show()"
   ]
  },
  {
   "cell_type": "markdown",
   "metadata": {
    "_cell_guid": "74f3a561-59bc-4499-a3d6-4ae38bd526f0",
    "_uuid": "74c6d702850ddb99bbb877352a0db3214eab9b45"
   },
   "source": [
    "## **4.3 Augmentation of train set**"
   ]
  },
  {
   "cell_type": "code",
   "execution_count": 50,
   "metadata": {
    "_cell_guid": "9587eef7-a980-484f-a5a5-1028040dd7fc",
    "_uuid": "54f811a3ef54965a0513b30a325fe4d6a8399e07"
   },
   "outputs": [],
   "source": [
    "def augment_data(band1, band2, angles, labels):\n",
    "    \n",
    "    '''a function to augment band1 and band2 image'''\n",
    "    \n",
    "    # list to store the generated data\n",
    "    band1_generated = []\n",
    "    band2_generated = []\n",
    "    angles_generated = []\n",
    "    labels_generated = []\n",
    "    \n",
    "    # iterate through each point in train set\n",
    "    for i in range(labels.shape[0]):\n",
    "        \n",
    "        # rotate by positive degree\n",
    "        angle = np.random.randint(5,20)\n",
    "        band1_generated.append(rotate_image(band1[i],angle)) \n",
    "        band2_generated.append(rotate_image(band2[i],angle))\n",
    "        angles_generated.append(angles[i])\n",
    "        labels_generated.append(labels[i])\n",
    "        \n",
    "        # rotate by negative degree\n",
    "        angle = np.random.randint(5,20)\n",
    "        band1_generated.append(rotate_image(band1[i],-angle)) \n",
    "        band2_generated.append(rotate_image(band2[i],-angle))\n",
    "        angles_generated.append(angles[i])\n",
    "        labels_generated.append(labels[i])\n",
    "        \n",
    "        # positive horizontal shift\n",
    "        shift = np.random.randint(3,7)\n",
    "        band1_generated.append(translate_horizontal(band1[i],+shift)) \n",
    "        band2_generated.append(translate_horizontal(band2[i],+shift))\n",
    "        angles_generated.append(angles[i])\n",
    "        labels_generated.append(labels[i])\n",
    "        \n",
    "        # negative horizontal shift\n",
    "        shift = np.random.randint(3,7) \n",
    "        band1_generated.append(translate_horizontal(band1[i],-shift)) \n",
    "        band2_generated.append(translate_horizontal(band2[i],-shift))\n",
    "        angles_generated.append(angles[i])\n",
    "        labels_generated.append(labels[i])\n",
    "        \n",
    "        # positive vertical shift\n",
    "        shift = np.random.randint(0,7)  \n",
    "        band1_generated.append(translate_vertical(band1[i],+shift)) \n",
    "        band2_generated.append(translate_vertical(band2[i],+shift))\n",
    "        angles_generated.append(angles[i])\n",
    "        labels_generated.append(labels[i])\n",
    "        \n",
    "        # negative vertical shift\n",
    "        shift = np.random.randint(3,7) \n",
    "        band1_generated.append(translate_vertical(band1[i],-shift)) \n",
    "        band2_generated.append(translate_vertical(band2[i],-shift))\n",
    "        angles_generated.append(angles[i])\n",
    "        labels_generated.append(labels[i])\n",
    "        \n",
    "        # translate along positive diagonal in positive direction\n",
    "        shift = np.random.randint(3,7)  \n",
    "        band1_generated.append(translate_positive_diagonal(band1[i],+shift)) \n",
    "        band2_generated.append(translate_positive_diagonal(band2[i],+shift))\n",
    "        angles_generated.append(angles[i])\n",
    "        labels_generated.append(labels[i])\n",
    "        \n",
    "        # translate along positive diagonal in negative direction\n",
    "        shift = np.random.randint(3,7)  \n",
    "        band1_generated.append(translate_positive_diagonal(band1[i],-shift)) \n",
    "        band2_generated.append(translate_positive_diagonal(band2[i],-shift))\n",
    "        angles_generated.append(angles[i])\n",
    "        labels_generated.append(labels[i])\n",
    "        \n",
    "        # translate along negative diagonal in positive direction\n",
    "        shift = np.random.randint(3,7)   \n",
    "        band1_generated.append(translate_negative_diagonal(band1[i],+shift)) \n",
    "        band2_generated.append(translate_negative_diagonal(band2[i],+shift))\n",
    "        angles_generated.append(angles[i])\n",
    "        labels_generated.append(labels[i])\n",
    "        \n",
    "        # translate along negative diagonal in negative direction\n",
    "        shift = np.random.randint(3,7)   \n",
    "        band1_generated.append(translate_negative_diagonal(band1[i],-shift)) \n",
    "        band2_generated.append(translate_negative_diagonal(band2[i],-shift))\n",
    "        angles_generated.append(angles[i])\n",
    "        labels_generated.append(labels[i])\n",
    "        \n",
    "        # vertical flip\n",
    "        band1_generated.append(flip(band1[i],0)) \n",
    "        band2_generated.append(flip(band2[i],0))\n",
    "        angles_generated.append(angles[i])\n",
    "        labels_generated.append(labels[i])\n",
    "        \n",
    "        # horizontal flip\n",
    "        band1_generated.append(flip(band1[i],1)) \n",
    "        band2_generated.append(flip(band2[i],1))\n",
    "        angles_generated.append(angles[i])\n",
    "        labels_generated.append(labels[i])\n",
    "        \n",
    "        # zoom in image\n",
    "        zoom_shift = np.random.randint(2,5)\n",
    "        band1_generated.append(zoom(band1[i],zoom_shift)) \n",
    "        band2_generated.append(zoom(band2[i],zoom_shift))\n",
    "        angles_generated.append(angles[i])\n",
    "        labels_generated.append(labels[i])\n",
    "        \n",
    "        # zoom out image\n",
    "        zoom_shift = np.random.randint(2,5) \n",
    "        band1_generated.append(zoom(band1[i],-zoom_shift)) \n",
    "        band2_generated.append(zoom(band2[i],-zoom_shift))\n",
    "        angles_generated.append(angles[i])\n",
    "        labels_generated.append(labels[i])        \n",
    "        \n",
    "    # convert the generated data into numpy array\n",
    "    band1_generated = np.array(band1_generated)\n",
    "    band2_generated = np.array(band2_generated)\n",
    "    angles_generated = np.array(angles_generated)\n",
    "    labels_generated = np.array(labels_generated)\n",
    "    \n",
    "    # concatenate the generated data to original train set\n",
    "    band1_augmented = np.concatenate((band1, band1_generated),axis=0)\n",
    "    band2_augmented = np.concatenate((band2, band2_generated),axis=0)\n",
    "    angles_augmented = np.concatenate((angles, angles_generated),axis=0)\n",
    "    labels_augmented = np.concatenate((labels, labels_generated),axis=0)\n",
    "    \n",
    "    return band1_augmented, band2_augmented, angles_augmented, labels_augmented"
   ]
  },
  {
   "cell_type": "code",
   "execution_count": 51,
   "metadata": {
    "_cell_guid": "9c625022-16e7-4f65-9000-02b8afef57a4",
    "_uuid": "e7861fcbe44ec65a91a900633da546e6711c16c2"
   },
   "outputs": [],
   "source": [
    "# augment train set\n",
    "band_1_train, band_2_train, angles_train, labels_train = \\\n",
    "    augment_data(band_1_train, band_2_train, angles_train, labels_train)"
   ]
  },
  {
   "cell_type": "markdown",
   "metadata": {
    "_uuid": "3910e340c366012557b4a2c563db456b454278f3"
   },
   "source": [
    "**One hot encode the labels**"
   ]
  },
  {
   "cell_type": "code",
   "execution_count": 52,
   "metadata": {
    "_uuid": "aacc770b675a5810a087405b5f422221df03be29"
   },
   "outputs": [],
   "source": [
    "labels_train = pd.get_dummies(labels_train).values\n",
    "labels_validation = pd.get_dummies(labels_validation).values"
   ]
  },
  {
   "cell_type": "markdown",
   "metadata": {
    "_cell_guid": "858c8b60-0fbb-482f-b83e-f5455c7cd2c0",
    "_uuid": "4b250de5e7c99ed5c514008a5bfc1666c52cd9d1"
   },
   "source": [
    "**Examine the shape of augmented train set**"
   ]
  },
  {
   "cell_type": "code",
   "execution_count": 53,
   "metadata": {
    "_cell_guid": "aaf38ea0-f683-40d7-9830-72fccdf74d43",
    "_uuid": "bc0b27c8892a107a93a16ecc9754594fed11059c"
   },
   "outputs": [
    {
     "name": "stdout",
     "output_type": "stream",
     "text": [
      "Shape of band_1_train: (16545, 75, 75)\n",
      "Shape of band_2_train: (16545, 75, 75)\n",
      "Shape of angles_train: (16545,)\n",
      "Shape of labels_train: (16545, 2)\n"
     ]
    }
   ],
   "source": [
    "print(\"Shape of band_1_train:\",band_1_train.shape)\n",
    "print(\"Shape of band_2_train:\",band_2_train.shape)\n",
    "print(\"Shape of angles_train:\",angles_train.shape)\n",
    "print(\"Shape of labels_train:\",labels_train.shape)"
   ]
  },
  {
   "cell_type": "markdown",
   "metadata": {
    "_cell_guid": "00f68f8f-dd57-430d-9a37-6fcbb9d96a88",
    "_uuid": "6210cd84ac3592a3afc8c9ca2b86ed82663c82d8"
   },
   "source": [
    "# **5. Concatenate the band1 and band2 data into 3D image**"
   ]
  },
  {
   "cell_type": "markdown",
   "metadata": {
    "_cell_guid": "149f153d-72f6-42a4-96a4-13f5ff572f14",
    "_uuid": "35691ccb27ed0abdffb2201795ba3fe588bec8c3"
   },
   "source": [
    "**Here we stack band_1 & band_2 images to create 3D images**"
   ]
  },
  {
   "cell_type": "code",
   "execution_count": 54,
   "metadata": {
    "_cell_guid": "5dd8ac27-559d-4460-bba2-fe1ddd55cf2a",
    "_uuid": "6f1bc08fbd08798e703c9d220d63b76a5869acf3"
   },
   "outputs": [],
   "source": [
    "image_train = np.concatenate([band_1_train[:, :, :, np.newaxis],\n",
    "                             band_2_train[:, :, :, np.newaxis]],\n",
    "                             axis=-1)"
   ]
  },
  {
   "cell_type": "code",
   "execution_count": 55,
   "metadata": {
    "_cell_guid": "e5e2b891-6285-4dd7-996b-1a032d8e401d",
    "_uuid": "49a5a584d7bd0410c6388c79ef0163cea4a10971"
   },
   "outputs": [],
   "source": [
    "image_validation = np.concatenate([band_1_validation[:, :, :, np.newaxis],\n",
    "                             band_2_validation[:, :, :, np.newaxis]],\n",
    "                             axis=-1)"
   ]
  },
  {
   "cell_type": "code",
   "execution_count": 56,
   "metadata": {
    "_cell_guid": "3a3c9324-f9bd-4caa-8eff-22fb65ada9a4",
    "_uuid": "3a8c2bbcc922e93ce4bde9ad1c7e3816943c143e"
   },
   "outputs": [],
   "source": [
    "image_test = np.concatenate([band_1_test[:, :, :, np.newaxis],\n",
    "                             band_2_test[:, :, :, np.newaxis]],\n",
    "                             axis=-1)"
   ]
  },
  {
   "cell_type": "code",
   "execution_count": 57,
   "metadata": {
    "_cell_guid": "d6e7f949-175a-414c-9cd6-633a5b97f35f",
    "_uuid": "5230a8714b07eff239b63e410f00c95be206ad48"
   },
   "outputs": [],
   "source": [
    "# delete the unnecessary variables out of memory\n",
    "del(band_1_train, band_1_validation, band_1_test, band_2_train, band_2_validation, band_2_test)"
   ]
  },
  {
   "cell_type": "markdown",
   "metadata": {
    "_cell_guid": "5f09f9a1-fb44-4177-b0d6-56228c272e72",
    "_uuid": "a8cdc9ca9c0e22fde443064e9f9158ec1fbafe3a"
   },
   "source": [
    "**Examine the shape of 3D images of train, validation, and test set**"
   ]
  },
  {
   "cell_type": "code",
   "execution_count": 58,
   "metadata": {
    "_cell_guid": "57a9e8ed-6939-4a4d-8263-2868ea460d99",
    "_uuid": "45b99a5d71fd8ed6b0a5fb96b5c43860d799991b"
   },
   "outputs": [
    {
     "name": "stdout",
     "output_type": "stream",
     "text": [
      "Shape of image_train: (16545, 75, 75, 2)\n",
      "Shape of image_validation: (368, 75, 75, 2)\n",
      "Shape of image_test: (8424, 75, 75, 2)\n"
     ]
    }
   ],
   "source": [
    "print(\"Shape of image_train:\",image_train.shape)\n",
    "print(\"Shape of image_validation:\",image_validation.shape)\n",
    "print(\"Shape of image_test:\",image_test.shape)"
   ]
  },
  {
   "cell_type": "markdown",
   "metadata": {
    "_uuid": "7b52830238e78e735825c756f81760cb3539cebb"
   },
   "source": [
    "# 6. Create functions to create Inception CNN Network, train the CNN network, and create submission files"
   ]
  },
  {
   "cell_type": "markdown",
   "metadata": {},
   "source": [
    "**Check the devices available to tensorflow**"
   ]
  },
  {
   "cell_type": "code",
   "execution_count": 59,
   "metadata": {
    "_uuid": "93b19e85de89d7d11b2376a015edda3e09947b29"
   },
   "outputs": [
    {
     "name": "stdout",
     "output_type": "stream",
     "text": [
      "[name: \"/device:CPU:0\"\n",
      "device_type: \"CPU\"\n",
      "memory_limit: 268435456\n",
      "locality {\n",
      "}\n",
      "incarnation: 9184712328484068374\n",
      ", name: \"/device:GPU:0\"\n",
      "device_type: \"GPU\"\n",
      "memory_limit: 15864515789\n",
      "locality {\n",
      "  bus_id: 1\n",
      "  links {\n",
      "  }\n",
      "}\n",
      "incarnation: 12928968845973280341\n",
      "physical_device_desc: \"device: 0, name: Tesla P100-PCIE-16GB, pci bus id: 0000:00:04.0, compute capability: 6.0\"\n",
      "]\n"
     ]
    }
   ],
   "source": [
    "from tensorflow.python.client import device_lib\n",
    "devices = device_lib.list_local_devices()\n",
    "print(devices)"
   ]
  },
  {
   "cell_type": "markdown",
   "metadata": {},
   "source": [
    "**If a GPU is available then set our device of choice to the available GPU**"
   ]
  },
  {
   "cell_type": "code",
   "execution_count": 60,
   "metadata": {
    "_uuid": "73d7371c2a7b4b36ccc0eadbf74ac087d485f576"
   },
   "outputs": [],
   "source": [
    "if len(devices)>1:\n",
    "    device = devices[1].name\n",
    "else:\n",
    "    device = devices[0].name"
   ]
  },
  {
   "cell_type": "markdown",
   "metadata": {},
   "source": [
    "## 6.1 A function to create inception module"
   ]
  },
  {
   "cell_type": "code",
   "execution_count": 61,
   "metadata": {
    "_uuid": "0b5ca7fc5d1f37f95947d3839fd6a47563b23879"
   },
   "outputs": [],
   "source": [
    "def create_inception_module(X, num_filters):\n",
    "    \n",
    "    '''\n",
    "    A function which creates inception modules given input and number of filters\n",
    "    '''\n",
    "\n",
    "    num_filters_single_conv = num_filters//4\n",
    "\n",
    "    with tf.device(device):\n",
    "        one_by_one_1 = tf.layers.conv2d(X, filters=num_filters_single_conv, kernel_size=1, strides=[1,1],\n",
    "                                        kernel_initializer=tf.variance_scaling_initializer(),padding=\"SAME\", \n",
    "                                        activation=tf.nn.elu)\n",
    "\n",
    "    with tf.device(device):\n",
    "        three_by_three = tf.layers.conv2d(X, filters=num_filters_single_conv, kernel_size=1, strides=[1,1],\n",
    "                                          kernel_initializer=tf.variance_scaling_initializer(),padding=\"SAME\", \n",
    "                                          activation=tf.nn.relu)\n",
    "        three_by_three = tf.layers.conv2d(three_by_three, filters=num_filters_single_conv, kernel_size=3, strides=[1,1],\n",
    "                                          kernel_initializer=tf.variance_scaling_initializer(),padding=\"SAME\", \n",
    "                                          activation=tf.nn.elu)\n",
    "\n",
    "    with tf.device(device):\n",
    "        five_by_five = tf.layers.conv2d(X, filters=num_filters_single_conv, kernel_size=1, strides=[1,1],\n",
    "                                        kernel_initializer=tf.variance_scaling_initializer(),padding=\"SAME\", \n",
    "                                        activation=tf.nn.relu)\n",
    "        five_by_five = tf.layers.conv2d(five_by_five, filters=num_filters_single_conv, kernel_size=5, strides=[1,1],\n",
    "                                        kernel_initializer=tf.variance_scaling_initializer(),padding=\"SAME\", \n",
    "                                        activation=tf.nn.elu)\n",
    "\n",
    "    with tf.device(device):\n",
    "        one_by_one_2 = tf.layers.max_pooling2d(X, 3, 1, padding='SAME')\n",
    "        one_by_one_2 = tf.layers.conv2d(one_by_one_2, filters=num_filters_single_conv, kernel_size=1, strides=[1,1],\n",
    "                                        kernel_initializer=tf.variance_scaling_initializer(),padding=\"SAME\", \n",
    "                                        activation=tf.nn.elu)\n",
    "\n",
    "    with tf.device(device):\n",
    "        conv = tf.concat((one_by_one_1, three_by_three, five_by_five, one_by_one_2), axis=3)\n",
    "\n",
    "    return conv"
   ]
  },
  {
   "cell_type": "markdown",
   "metadata": {},
   "source": [
    "## 6.2 A function to create Inception CNN Network by embedding a number of inception modules"
   ]
  },
  {
   "cell_type": "code",
   "execution_count": 62,
   "metadata": {
    "_uuid": "8dda2e8f4c67c8a4c358a48a037459fcb9feb598"
   },
   "outputs": [],
   "source": [
    "def create_cnn_net(IMG_HEIGHT, IMG_WIDTH, IMG_CHANNELS, NUM_CLASSES,\n",
    "                   conv_filters, max_pool_kernel_size, max_pool_strides, dense_layers, angle_repeat_vector_size, learning_rate):\n",
    "    \n",
    "    '''\n",
    "    A function to create Inception CNN Network by embedding a number of inception modules\n",
    "    '''\n",
    "    # placeholders for image and prediction data\n",
    "    X = tf.placeholder(tf.float32, shape=[None,IMG_HEIGHT, IMG_WIDTH, IMG_CHANNELS])\n",
    "    Y = tf.placeholder(tf.int32, shape=[None, NUM_CLASSES])\n",
    "    # placeholder for angle\n",
    "    angle = tf.placeholder(tf.float32, shape=[None])\n",
    "    # repeat the angle data to make a vector\n",
    "    angle_repeat_vector = tf.stack([angle]*angle_repeat_vector_size,axis=-1)\n",
    "    # keep probability for dropout\n",
    "    keep_prob = tf.placeholder(tf.float32)\n",
    "     # placeholder for mode of batch normalization\n",
    "    training = tf.placeholder(tf.bool)\n",
    "    \n",
    "    print(\"####################################### DNN LAYERS #######################################\")\n",
    "    \n",
    "    # iterate and create inception layers\n",
    "    for n, conv_filter in enumerate(conv_filters):\n",
    "        # first inception layer (with batch normalization)\n",
    "        if n == 0:            \n",
    "            conv = create_inception_module(X, conv_filter)\n",
    "            print(conv)\n",
    "            conv = tf.layers.batch_normalization(conv, training=training)\n",
    "            print(conv)\n",
    "            conv = tf.layers.max_pooling2d(conv, max_pool_kernel_size, max_pool_strides, padding='SAME')\n",
    "            print(conv)\n",
    "        # last inception layer (with batch normalization)\n",
    "        elif n == len(conv_filters)-1:            \n",
    "            conv = create_inception_module(conv, conv_filter)\n",
    "            print(conv)\n",
    "            conv = tf.layers.batch_normalization(conv, training=training)\n",
    "            print(conv)\n",
    "        # middle inception layers (with batch normalization)\n",
    "        else:\n",
    "            conv = create_inception_module(conv, conv_filter)\n",
    "            print(conv)\n",
    "            conv = tf.layers.batch_normalization(conv, training=training)\n",
    "            print(conv)\n",
    "            conv = tf.layers.max_pooling2d(conv, max_pool_kernel_size, max_pool_strides, padding='SAME')\n",
    "            print(conv)\n",
    "    \n",
    "    # flatten layers and concat the repeat vector of angle\n",
    "    with tf.device(device):\n",
    "        conv_flatten = tf.layers.Flatten()(conv)\n",
    "        print(conv_flatten)\n",
    "        conv_flatten = tf.concat((conv_flatten,angle_repeat_vector), axis=-1)\n",
    "        print(conv_flatten)\n",
    "        \n",
    "    # iterate and create the dense layer\n",
    "    for n, dense_layer in enumerate(dense_layers):\n",
    "        # first dense layer (with dropout)\n",
    "        if n == 0:\n",
    "            with tf.device(device):\n",
    "                Y_ = tf.layers.dense(conv_flatten, dense_layer, kernel_initializer=tf.variance_scaling_initializer(), activation=tf.nn.elu)\n",
    "                print(Y_)\n",
    "                Y_ = tf.nn.dropout(Y_, keep_prob)\n",
    "                print(Y_)\n",
    "        # last dense layer (without dropout)\n",
    "        elif n == len(dense_layers)-1:\n",
    "            with tf.device(device):\n",
    "                Y_ = tf.layers.dense(Y_, dense_layer, kernel_initializer=tf.variance_scaling_initializer())\n",
    "                print(Y_)\n",
    "        # middle dense layers (with droput)\n",
    "        else:\n",
    "            with tf.device(device):\n",
    "                Y_ = tf.layers.dense(Y_, dense_layer, kernel_initializer=tf.variance_scaling_initializer(), activation=tf.nn.elu)\n",
    "                print(Y_)\n",
    "                Y_ = tf.nn.dropout(Y_, keep_prob)\n",
    "                print(Y_)\n",
    "                \n",
    "    print(\"############################################################################################\")\n",
    "    # softmnax of output\n",
    "    Y_pred = tf.nn.softmax(Y_)\n",
    "    # compute predicted class\n",
    "    Y_pred_cls = tf.argmax(Y_pred, axis=1, output_type=tf.int32)\n",
    "    # compute true class\n",
    "    Y_true_cls = tf.argmax(Y, axis=1, output_type=tf.int32)\n",
    "    # compute correct prediction\n",
    "    correct_prediction = tf.equal(Y_pred_cls, Y_true_cls)\n",
    "    # compute accuracy\n",
    "    accuracy = tf.reduce_mean(tf.cast(correct_prediction, tf.float32))\n",
    "    \n",
    "    # cross entropy cost operation\n",
    "    with tf.device(device):\n",
    "        cross_entropy = tf.nn.softmax_cross_entropy_with_logits_v2(logits=Y_,labels=Y)\n",
    "        cost = tf.reduce_mean(cross_entropy)        \n",
    "    # update operation\n",
    "    update_ops = tf.get_collection(tf.GraphKeys.UPDATE_OPS)\n",
    "    # optimizer\n",
    "    optimizer = tf.train.AdamOptimizer(learning_rate=learning_rate)    \n",
    "    with tf.control_dependencies(update_ops):\n",
    "        with tf.device(device):\n",
    "            # train step\n",
    "            train_step = optimizer.minimize(cost)\n",
    "            \n",
    "    return X, Y, angle, Y_pred, keep_prob , training, train_step, cost, accuracy"
   ]
  },
  {
   "cell_type": "markdown",
   "metadata": {},
   "source": [
    "## 6.3 A function to train CNN network"
   ]
  },
  {
   "cell_type": "code",
   "execution_count": 63,
   "metadata": {
    "_uuid": "e68f0308e24459d008c74856b5b488cf95bf7398"
   },
   "outputs": [],
   "source": [
    "def train_cnn_net(max_iter,batch_size, model_dir, model_name,\n",
    "                  X, Y, angle,keep_prob, training, train_step,cost, accuracy,\n",
    "                  image_train, image_validation,angles_validation,labels_train,labels_validation, angles_train):\n",
    "    \n",
    "    '''\n",
    "    A function to train CNN network\n",
    "    '''\n",
    "    # start the timer\n",
    "    start_time = time.time()\n",
    "    # create a saver object\n",
    "    saver = tf.train.Saver(max_to_keep=1)\n",
    "    # lists to store the train loss, validation loss, validation accuracy at each iteration\n",
    "    train_cost = []\n",
    "    valid_cost = []\n",
    "    valid_acc = []\n",
    "    # variables to store the accuracy, loss, iteration of our best model\n",
    "    best_accuracy = 0\n",
    "    best_iteration = None\n",
    "    # number of training data\n",
    "    N = len(labels_train)\n",
    "    # number of complete batches\n",
    "    num_complete_mini_batches = math.floor(N/batch_size)\n",
    "\n",
    "    # create a graph session and optimize under it\n",
    "    with tf.Session() as sess:\n",
    "        sess.run(tf.global_variables_initializer())\n",
    "        # create a progress bar \n",
    "        bar = progressbar.ProgressBar(maxval=max_iter, widgets=[\n",
    "            '[',progressbar.Percentage(),']',\n",
    "            progressbar.Bar(),\n",
    "            '(',progressbar.DynamicMessage(\"train_cost\"),')',\n",
    "            '(',progressbar.DynamicMessage(\"valid_cost\"),')',\n",
    "            '(',progressbar.DynamicMessage(\"valid_accuracy\"),')',\n",
    "            '(',progressbar.DynamicMessage(\"best_accuracy\"),')',\n",
    "            '(',progressbar.DynamicMessage(\"time_elapsed\"),'mins)'\n",
    "        ])\n",
    "        # start the progress bar\n",
    "        bar.start()        \n",
    "        # counter variable to track the number of iterations\n",
    "        counter = 0\n",
    "        \n",
    "        # iterate until maximum number of iterations is reached\n",
    "        while True:\n",
    "            # break out of the inner for loop if maximum number of iterations is reached\n",
    "            if counter>=max_iter:\n",
    "                break\n",
    "            # iterate through the mini batches\n",
    "            for k in range(0, num_complete_mini_batches+1):\n",
    "                \n",
    "                # if the mini batch is a complete batch\n",
    "                if k < num_complete_mini_batches:\n",
    "                    batch_indices = np.array(list(range(k * batch_size, k * batch_size + batch_size)))\n",
    "                # handling the end case when the last mini batch is less than the batch_size\n",
    "                elif N % batch_size != 0:\n",
    "                    batch_indices = np.array(list(range(num_complete_mini_batches * batch_size, N)))\n",
    "                \n",
    "                # extract images, labels, and angles of the batch\n",
    "                image_rand_train = image_train[batch_indices]    \n",
    "                labels_rand_train = labels_train[batch_indices]\n",
    "                angles_batch = angles_train[batch_indices]\n",
    "                # feed dict for batch\n",
    "                feed_dict_batch =  {X: image_rand_train,\n",
    "                                    angle: angles_batch,\n",
    "                                    Y: labels_rand_train,\n",
    "                                    keep_prob: 0.5,\n",
    "                                    training: True}\n",
    "                # feed dict for validation\n",
    "                feed_dict_validation =  {X: image_validation,\n",
    "                                         angle: angles_validation,\n",
    "                                         Y: labels_validation,\n",
    "                                         keep_prob:1.0,\n",
    "                                         training: False}\n",
    "                # run optimizer step\n",
    "                sess.run(train_step, feed_dict=feed_dict_batch)\n",
    "                \n",
    "                # compute train cost and append it to the designated list\n",
    "                temp_train_cost = cost.eval(session=sess, feed_dict=feed_dict_batch)\n",
    "                train_cost.append(temp_train_cost)\n",
    "                # compute validation cost and append it to the designated list\n",
    "                temp_validation_cost = cost.eval(session=sess, feed_dict=feed_dict_validation)\n",
    "                valid_cost.append(temp_validation_cost)\n",
    "                # compute validation accuracy and append it to the designated list\n",
    "                temp_validation_accuracy = accuracy.eval(session=sess, feed_dict=feed_dict_validation)\n",
    "                valid_acc.append(temp_validation_accuracy)   \n",
    "\n",
    "                # if validation accuracy is better than best recorded so far then update the best valid accuracy\n",
    "                if temp_validation_accuracy > best_accuracy:\n",
    "                    best_accuracy = temp_validation_accuracy\n",
    "                    best_iteration = counter+1\n",
    "                    saver.save(sess, model_dir+model_name, global_step = best_iteration)\n",
    "\n",
    "                time_diff = (time.time()-start_time)/60\n",
    "\n",
    "                # print metric info\n",
    "                # update the progress bar\n",
    "                bar.update(counter+1, train_cost = temp_train_cost, valid_cost = temp_validation_cost, \n",
    "                           valid_accuracy = temp_validation_accuracy, best_accuracy = best_accuracy, time_elapsed = time_diff)\n",
    "                \n",
    "                # increment counter variable\n",
    "                counter += 1\n",
    "                \n",
    "                # break out of the inner for loop if maximum number of iterations is reached\n",
    "                if counter>=max_iter:\n",
    "                    break\n",
    "    \n",
    "        # finish the progress bar\n",
    "        bar.finish()\n",
    "            \n",
    "    return saver, train_cost, valid_cost, valid_acc, best_accuracy, best_iteration"
   ]
  },
  {
   "cell_type": "markdown",
   "metadata": {},
   "source": [
    "## 6.4 A function to create submission csv file"
   ]
  },
  {
   "cell_type": "code",
   "execution_count": 64,
   "metadata": {
    "_uuid": "7aa42c0421a2ead4d712ea3dfa194e831fe3ec4e"
   },
   "outputs": [],
   "source": [
    "def create_submission(saver, test_ids, image_test, angles_test, best_iteration,\n",
    "                      model_dir, model_name, submission_dir, submission_file,\n",
    "                      X, Y_pred,angle,keep_prob, training):\n",
    "    '''\n",
    "    A function to create submission csv file\n",
    "    '''    \n",
    "    with tf.Session() as sess:\n",
    "        model_path = model_dir+model_name+\"-\"+str(best_iteration)        \n",
    "        # restore the model\n",
    "        saver.restore(sess, model_path)\n",
    "        # break the test set into k folds \n",
    "        n = len(test_ids)\n",
    "        k = 12\n",
    "        step = n//k\n",
    "        # array to store the batch prediction\n",
    "        preds = np.array([])\n",
    "    \n",
    "        # iterate through each fold\n",
    "        for i in range(k):\n",
    "            # start and end indices of the fold\n",
    "            start = (step*i)\n",
    "            end = (step*(i+1)) \n",
    "            # feed dictionary for the fold\n",
    "            feed_dict_test =  {X: image_test[start:end],\n",
    "                               angle: angles_test[start:end],\n",
    "                               keep_prob: 1.0, \n",
    "                               training: False}\n",
    "            # computer predictions of the fold\n",
    "            fold_preds = Y_pred.eval(session=sess, feed_dict = feed_dict_test)[:,1]\n",
    "            # append the predictions of the fold to the designated array\n",
    "            preds = np.append(preds, fold_preds)\n",
    "            \n",
    "        # save the submission csv file\n",
    "        submission = pd.DataFrame({\"id\": test_ids, \"is_iceberg\": preds})\n",
    "        submission.to_csv(submission_dir+submission_file+'.csv', header = True, index=False)"
   ]
  },
  {
   "cell_type": "markdown",
   "metadata": {},
   "source": [
    "# 7. Create & train Inception Network and make a submission csv file"
   ]
  },
  {
   "cell_type": "markdown",
   "metadata": {},
   "source": [
    "**Reset graph**"
   ]
  },
  {
   "cell_type": "code",
   "execution_count": 65,
   "metadata": {
    "_uuid": "90cdefe4aa30c12e49052db04f00a088df9504bd"
   },
   "outputs": [],
   "source": [
    "tf.reset_default_graph()"
   ]
  },
  {
   "cell_type": "markdown",
   "metadata": {},
   "source": [
    "**Parameters of Inception network**"
   ]
  },
  {
   "cell_type": "code",
   "execution_count": 66,
   "metadata": {
    "_uuid": "7f64f4e9c4860000e749f0a3e509e012172c1e9b"
   },
   "outputs": [],
   "source": [
    "IMG_WIDTH = 75\n",
    "IMG_HEIGHT = 75\n",
    "IMG_CHANNELS = 2\n",
    "NUM_CLASSES = 2\n",
    "conv_filters = [128,128,256,512,1024]\n",
    "dense_layers = [2048,1024,512,256,2]\n",
    "angle_repeat_vector_size = 1024\n",
    "max_pool_kernel_size = 2\n",
    "max_pool_strides = 2\n",
    "learning_rate=0.000001\n",
    "max_iter,batch_size = 5000, 256\n",
    "model_dir = \"./model_files/\"\n",
    "model_name = \"model\""
   ]
  },
  {
   "cell_type": "markdown",
   "metadata": {},
   "source": [
    "**Create Inception network**"
   ]
  },
  {
   "cell_type": "code",
   "execution_count": 67,
   "metadata": {
    "_uuid": "ccdcac0f7ee3d80197ae17f7a1a7a909943d90e3"
   },
   "outputs": [
    {
     "name": "stdout",
     "output_type": "stream",
     "text": [
      "####################################### DNN LAYERS #######################################\n",
      "Tensor(\"concat:0\", shape=(?, 75, 75, 128), dtype=float32, device=/device:GPU:0)\n",
      "Tensor(\"batch_normalization/cond/Merge:0\", shape=(?, 75, 75, 128), dtype=float32)\n",
      "Tensor(\"max_pooling2d_1/MaxPool:0\", shape=(?, 38, 38, 128), dtype=float32)\n",
      "Tensor(\"concat_1:0\", shape=(?, 38, 38, 128), dtype=float32, device=/device:GPU:0)\n",
      "Tensor(\"batch_normalization_1/cond/Merge:0\", shape=(?, 38, 38, 128), dtype=float32)\n",
      "Tensor(\"max_pooling2d_3/MaxPool:0\", shape=(?, 19, 19, 128), dtype=float32)\n",
      "Tensor(\"concat_2:0\", shape=(?, 19, 19, 256), dtype=float32, device=/device:GPU:0)\n",
      "Tensor(\"batch_normalization_2/cond/Merge:0\", shape=(?, 19, 19, 256), dtype=float32)\n",
      "Tensor(\"max_pooling2d_5/MaxPool:0\", shape=(?, 10, 10, 256), dtype=float32)\n",
      "Tensor(\"concat_3:0\", shape=(?, 10, 10, 512), dtype=float32, device=/device:GPU:0)\n",
      "Tensor(\"batch_normalization_3/cond/Merge:0\", shape=(?, 10, 10, 512), dtype=float32)\n",
      "Tensor(\"max_pooling2d_7/MaxPool:0\", shape=(?, 5, 5, 512), dtype=float32)\n",
      "Tensor(\"concat_4:0\", shape=(?, 5, 5, 1024), dtype=float32, device=/device:GPU:0)\n",
      "Tensor(\"batch_normalization_4/cond/Merge:0\", shape=(?, 5, 5, 1024), dtype=float32)\n",
      "Tensor(\"flatten/Reshape:0\", shape=(?, 25600), dtype=float32, device=/device:GPU:0)\n",
      "Tensor(\"concat_5:0\", shape=(?, 26624), dtype=float32, device=/device:GPU:0)\n",
      "Tensor(\"dense/Elu:0\", shape=(?, 2048), dtype=float32, device=/device:GPU:0)\n",
      "Tensor(\"dropout/mul:0\", shape=(?, 2048), dtype=float32, device=/device:GPU:0)\n",
      "Tensor(\"dense_1/Elu:0\", shape=(?, 1024), dtype=float32, device=/device:GPU:0)\n",
      "Tensor(\"dropout_1/mul:0\", shape=(?, 1024), dtype=float32, device=/device:GPU:0)\n",
      "Tensor(\"dense_2/Elu:0\", shape=(?, 512), dtype=float32, device=/device:GPU:0)\n",
      "Tensor(\"dropout_2/mul:0\", shape=(?, 512), dtype=float32, device=/device:GPU:0)\n",
      "Tensor(\"dense_3/Elu:0\", shape=(?, 256), dtype=float32, device=/device:GPU:0)\n",
      "Tensor(\"dropout_3/mul:0\", shape=(?, 256), dtype=float32, device=/device:GPU:0)\n",
      "Tensor(\"dense_4/BiasAdd:0\", shape=(?, 2), dtype=float32, device=/device:GPU:0)\n",
      "############################################################################################\n"
     ]
    }
   ],
   "source": [
    "X, Y, angle, Y_pred, keep_prob , training, train_step, cost, accuracy  = create_cnn_net(IMG_HEIGHT, IMG_WIDTH, IMG_CHANNELS, NUM_CLASSES,\n",
    "                                                                                        conv_filters, max_pool_kernel_size, max_pool_strides, \n",
    "                                                                                        dense_layers, angle_repeat_vector_size, learning_rate)"
   ]
  },
  {
   "cell_type": "markdown",
   "metadata": {},
   "source": [
    "**Train incpetion network**"
   ]
  },
  {
   "cell_type": "code",
   "execution_count": 68,
   "metadata": {
    "_uuid": "43ccfa4dcb8fc5e8327827774f954e81b9d5df0f",
    "scrolled": true
   },
   "outputs": [
    {
     "name": "stderr",
     "output_type": "stream",
     "text": [
      "[100%]||(train_cost: 0.0885)(valid_cost:  0.276)(valid_accuracy:  0.908)(best_accuracy:  0.924)(time_elapsed:   47.1mins)\n"
     ]
    }
   ],
   "source": [
    "saver, train_cost, valid_cost, valid_acc, best_accuracy, best_iteration = train_cnn_net(max_iter,batch_size, model_dir, model_name,\n",
    "                                                                                        X, Y, angle,keep_prob, training, train_step,cost, accuracy,\n",
    "                                                                                        image_train, image_validation,angles_validation,\n",
    "                                                                                        labels_train,labels_validation, angles_train)"
   ]
  },
  {
   "cell_type": "markdown",
   "metadata": {},
   "source": [
    "**Plot of Cost vs Iter**"
   ]
  },
  {
   "cell_type": "code",
   "execution_count": 69,
   "metadata": {
    "_uuid": "dcf10526ad4fa5d420c6bb28a0f4cb6431aa5ce8"
   },
   "outputs": [
    {
     "data": {
      "image/png": "[encoded data removed]",
      "text/plain": [
       "<Figure size 1280x640 with 1 Axes>"
      ]
     },
     "metadata": {},
     "output_type": "display_data"
    },
    {
     "data": {
      "text/plain": [
       "<Figure size 1440x1008 with 0 Axes>"
      ]
     },
     "metadata": {},
     "output_type": "display_data"
    }
   ],
   "source": [
    "plt.figure(figsize=(16, 8), dpi= 80, facecolor='w', edgecolor='k')\n",
    "plt.plot(train_cost, label = \"train cost\")\n",
    "plt.plot(valid_cost, label = \"valid cost\")\n",
    "plt.title(\"Cost vs Iterations\")\n",
    "plt.xlabel(\"iter\")\n",
    "plt.ylabel(\"cost\")\n",
    "plt.legend()\n",
    "plt.grid()\n",
    "plt.show()\n",
    "figure_dir = \"./model_cost_figures/\"\n",
    "figure_name = \"loss_vs_iter\"\n",
    "plt.savefig(figure_dir + figure_name+'.png', bbox_inches='tight')"
   ]
  },
  {
   "cell_type": "markdown",
   "metadata": {},
   "source": [
    "**Plot of Accuracy vs Iterations**"
   ]
  },
  {
   "cell_type": "code",
   "execution_count": 70,
   "metadata": {
    "_uuid": "3d95df42d2e3d150625c3ec047f30a4b195b9f18"
   },
   "outputs": [
    {
     "data": {
      "image/png": "[encoded data removed]",
      "text/plain": [
       "<Figure size 1280x640 with 1 Axes>"
      ]
     },
     "metadata": {},
     "output_type": "display_data"
    },
    {
     "data": {
      "text/plain": [
       "<Figure size 1440x1008 with 0 Axes>"
      ]
     },
     "metadata": {},
     "output_type": "display_data"
    }
   ],
   "source": [
    "plt.figure(figsize=(16, 8), dpi= 80, facecolor='w', edgecolor='k')\n",
    "plt.plot(valid_acc,)\n",
    "plt.title(\"Accuracy vs Iterations | \"+\"Best Acc: \"+str(best_accuracy))\n",
    "plt.xlabel(\"iter\")\n",
    "plt.ylabel(\"accuracy\")\n",
    "plt.grid()\n",
    "plt.show()\n",
    "figure_dir = \"./model_cost_figures/\"\n",
    "figure_name = \"acc_vs_iter\"\n",
    "plt.savefig(figure_dir + figure_name+'.png', bbox_inches='tight')"
   ]
  },
  {
   "cell_type": "markdown",
   "metadata": {},
   "source": [
    "**Create submission files**"
   ]
  },
  {
   "cell_type": "code",
   "execution_count": 71,
   "metadata": {
    "_uuid": "18d323d8e545699d8d7db172ca98d8c1be9e20a9"
   },
   "outputs": [
    {
     "name": "stdout",
     "output_type": "stream",
     "text": [
      "INFO:tensorflow:Restoring parameters from ./model_files/model-3813\n"
     ]
    }
   ],
   "source": [
    "submission_dir = \"./submission_files/\"\n",
    "submission_file = \"submission\"\n",
    "create_submission(saver, test_ids, image_test, angles_test, best_iteration,\n",
    "                  model_dir, model_name, submission_dir, submission_file,\n",
    "                  X, Y_pred,angle,keep_prob, training)"
   ]
  },
  {
   "cell_type": "markdown",
   "metadata": {},
   "source": [
    "**Display the submission file**"
   ]
  },
  {
   "cell_type": "code",
   "execution_count": 72,
   "metadata": {
    "_uuid": "4f4121642e8f4ffb9e8f85af2b8a757df752e1c8"
   },
   "outputs": [
    {
     "data": {
      "text/html": [
       "<div>\n",
       "<style scoped>\n",
       "    .dataframe tbody tr th:only-of-type {\n",
       "        vertical-align: middle;\n",
       "    }\n",
       "\n",
       "    .dataframe tbody tr th {\n",
       "        vertical-align: top;\n",
       "    }\n",
       "\n",
       "    .dataframe thead th {\n",
       "        text-align: right;\n",
       "    }\n",
       "</style>\n",
       "<table border=\"1\" class=\"dataframe\">\n",
       "  <thead>\n",
       "    <tr style=\"text-align: right;\">\n",
       "      <th></th>\n",
       "      <th>id</th>\n",
       "      <th>is_iceberg</th>\n",
       "    </tr>\n",
       "  </thead>\n",
       "  <tbody>\n",
       "    <tr>\n",
       "      <th>0</th>\n",
       "      <td>5941774d</td>\n",
       "      <td>4.428970e-22</td>\n",
       "    </tr>\n",
       "    <tr>\n",
       "      <th>1</th>\n",
       "      <td>4023181e</td>\n",
       "      <td>4.185635e-10</td>\n",
       "    </tr>\n",
       "    <tr>\n",
       "      <th>2</th>\n",
       "      <td>b20200e4</td>\n",
       "      <td>1.110811e-16</td>\n",
       "    </tr>\n",
       "    <tr>\n",
       "      <th>3</th>\n",
       "      <td>e7f018bb</td>\n",
       "      <td>3.905192e-18</td>\n",
       "    </tr>\n",
       "    <tr>\n",
       "      <th>4</th>\n",
       "      <td>4371c8c3</td>\n",
       "      <td>4.421442e-14</td>\n",
       "    </tr>\n",
       "    <tr>\n",
       "      <th>5</th>\n",
       "      <td>a8d9b1fd</td>\n",
       "      <td>1.528100e-14</td>\n",
       "    </tr>\n",
       "    <tr>\n",
       "      <th>6</th>\n",
       "      <td>29e7727e</td>\n",
       "      <td>2.166974e-20</td>\n",
       "    </tr>\n",
       "    <tr>\n",
       "      <th>7</th>\n",
       "      <td>92a51ffb</td>\n",
       "      <td>9.513407e-20</td>\n",
       "    </tr>\n",
       "    <tr>\n",
       "      <th>8</th>\n",
       "      <td>c769ac97</td>\n",
       "      <td>1.075426e-27</td>\n",
       "    </tr>\n",
       "    <tr>\n",
       "      <th>9</th>\n",
       "      <td>aee0547d</td>\n",
       "      <td>1.691237e-28</td>\n",
       "    </tr>\n",
       "    <tr>\n",
       "      <th>10</th>\n",
       "      <td>565b28ac</td>\n",
       "      <td>1.438813e-24</td>\n",
       "    </tr>\n",
       "    <tr>\n",
       "      <th>11</th>\n",
       "      <td>e04e9775</td>\n",
       "      <td>4.328586e-14</td>\n",
       "    </tr>\n",
       "    <tr>\n",
       "      <th>12</th>\n",
       "      <td>8e8161d1</td>\n",
       "      <td>7.307221e-26</td>\n",
       "    </tr>\n",
       "    <tr>\n",
       "      <th>13</th>\n",
       "      <td>4cf4d256</td>\n",
       "      <td>6.423603e-12</td>\n",
       "    </tr>\n",
       "    <tr>\n",
       "      <th>14</th>\n",
       "      <td>139e5324</td>\n",
       "      <td>9.140181e-16</td>\n",
       "    </tr>\n",
       "    <tr>\n",
       "      <th>15</th>\n",
       "      <td>f156976f</td>\n",
       "      <td>5.631385e-30</td>\n",
       "    </tr>\n",
       "    <tr>\n",
       "      <th>16</th>\n",
       "      <td>68a117cc</td>\n",
       "      <td>1.839244e-17</td>\n",
       "    </tr>\n",
       "    <tr>\n",
       "      <th>17</th>\n",
       "      <td>d9aa7a56</td>\n",
       "      <td>1.822935e-16</td>\n",
       "    </tr>\n",
       "    <tr>\n",
       "      <th>18</th>\n",
       "      <td>9005b143</td>\n",
       "      <td>7.744510e-14</td>\n",
       "    </tr>\n",
       "    <tr>\n",
       "      <th>19</th>\n",
       "      <td>5f6d3988</td>\n",
       "      <td>1.151009e-18</td>\n",
       "    </tr>\n",
       "    <tr>\n",
       "      <th>20</th>\n",
       "      <td>9ad70954</td>\n",
       "      <td>7.383792e-21</td>\n",
       "    </tr>\n",
       "    <tr>\n",
       "      <th>21</th>\n",
       "      <td>b9087b9e</td>\n",
       "      <td>1.076149e-18</td>\n",
       "    </tr>\n",
       "    <tr>\n",
       "      <th>22</th>\n",
       "      <td>a39a1427</td>\n",
       "      <td>5.824360e-14</td>\n",
       "    </tr>\n",
       "    <tr>\n",
       "      <th>23</th>\n",
       "      <td>82fbe8ed</td>\n",
       "      <td>5.379237e-19</td>\n",
       "    </tr>\n",
       "    <tr>\n",
       "      <th>24</th>\n",
       "      <td>1fae4879</td>\n",
       "      <td>2.369088e-26</td>\n",
       "    </tr>\n",
       "    <tr>\n",
       "      <th>25</th>\n",
       "      <td>6dd8f13d</td>\n",
       "      <td>2.268036e-19</td>\n",
       "    </tr>\n",
       "    <tr>\n",
       "      <th>26</th>\n",
       "      <td>bbad5958</td>\n",
       "      <td>6.965307e-21</td>\n",
       "    </tr>\n",
       "    <tr>\n",
       "      <th>27</th>\n",
       "      <td>54527583</td>\n",
       "      <td>1.372330e-14</td>\n",
       "    </tr>\n",
       "    <tr>\n",
       "      <th>28</th>\n",
       "      <td>be8fa29c</td>\n",
       "      <td>2.418216e-15</td>\n",
       "    </tr>\n",
       "    <tr>\n",
       "      <th>29</th>\n",
       "      <td>81a3328f</td>\n",
       "      <td>1.838126e-20</td>\n",
       "    </tr>\n",
       "    <tr>\n",
       "      <th>30</th>\n",
       "      <td>1a3c0ab3</td>\n",
       "      <td>9.731588e-19</td>\n",
       "    </tr>\n",
       "    <tr>\n",
       "      <th>31</th>\n",
       "      <td>4deeeb8b</td>\n",
       "      <td>3.524312e-12</td>\n",
       "    </tr>\n",
       "    <tr>\n",
       "      <th>32</th>\n",
       "      <td>ac6d5632</td>\n",
       "      <td>3.249220e-12</td>\n",
       "    </tr>\n",
       "    <tr>\n",
       "      <th>33</th>\n",
       "      <td>472dadb5</td>\n",
       "      <td>4.847731e-14</td>\n",
       "    </tr>\n",
       "    <tr>\n",
       "      <th>34</th>\n",
       "      <td>96093f95</td>\n",
       "      <td>1.010309e-18</td>\n",
       "    </tr>\n",
       "    <tr>\n",
       "      <th>35</th>\n",
       "      <td>f5b4e3df</td>\n",
       "      <td>1.464381e-21</td>\n",
       "    </tr>\n",
       "    <tr>\n",
       "      <th>36</th>\n",
       "      <td>e01a3c92</td>\n",
       "      <td>1.836919e-22</td>\n",
       "    </tr>\n",
       "    <tr>\n",
       "      <th>37</th>\n",
       "      <td>001680af</td>\n",
       "      <td>9.172671e-15</td>\n",
       "    </tr>\n",
       "    <tr>\n",
       "      <th>38</th>\n",
       "      <td>8e639f33</td>\n",
       "      <td>9.702917e-15</td>\n",
       "    </tr>\n",
       "    <tr>\n",
       "      <th>39</th>\n",
       "      <td>a2c16612</td>\n",
       "      <td>7.038579e-19</td>\n",
       "    </tr>\n",
       "    <tr>\n",
       "      <th>40</th>\n",
       "      <td>a6d76474</td>\n",
       "      <td>5.315614e-19</td>\n",
       "    </tr>\n",
       "    <tr>\n",
       "      <th>41</th>\n",
       "      <td>19c47684</td>\n",
       "      <td>1.391681e-13</td>\n",
       "    </tr>\n",
       "    <tr>\n",
       "      <th>42</th>\n",
       "      <td>015827b6</td>\n",
       "      <td>1.695518e-15</td>\n",
       "    </tr>\n",
       "    <tr>\n",
       "      <th>43</th>\n",
       "      <td>7df7f7ce</td>\n",
       "      <td>4.020606e-17</td>\n",
       "    </tr>\n",
       "    <tr>\n",
       "      <th>44</th>\n",
       "      <td>0bbf1a3f</td>\n",
       "      <td>4.812610e-15</td>\n",
       "    </tr>\n",
       "    <tr>\n",
       "      <th>45</th>\n",
       "      <td>636cfbb7</td>\n",
       "      <td>2.402280e-24</td>\n",
       "    </tr>\n",
       "    <tr>\n",
       "      <th>46</th>\n",
       "      <td>7370030a</td>\n",
       "      <td>1.913509e-20</td>\n",
       "    </tr>\n",
       "    <tr>\n",
       "      <th>47</th>\n",
       "      <td>43aa97ad</td>\n",
       "      <td>1.295150e-19</td>\n",
       "    </tr>\n",
       "    <tr>\n",
       "      <th>48</th>\n",
       "      <td>ba2b5e63</td>\n",
       "      <td>8.490402e-20</td>\n",
       "    </tr>\n",
       "    <tr>\n",
       "      <th>49</th>\n",
       "      <td>dfdd335b</td>\n",
       "      <td>1.184441e-13</td>\n",
       "    </tr>\n",
       "  </tbody>\n",
       "</table>\n",
       "</div>"
      ],
      "text/plain": [
       "          id    is_iceberg\n",
       "0   5941774d  4.428970e-22\n",
       "1   4023181e  4.185635e-10\n",
       "2   b20200e4  1.110811e-16\n",
       "3   e7f018bb  3.905192e-18\n",
       "4   4371c8c3  4.421442e-14\n",
       "5   a8d9b1fd  1.528100e-14\n",
       "6   29e7727e  2.166974e-20\n",
       "7   92a51ffb  9.513407e-20\n",
       "8   c769ac97  1.075426e-27\n",
       "9   aee0547d  1.691237e-28\n",
       "10  565b28ac  1.438813e-24\n",
       "11  e04e9775  4.328586e-14\n",
       "12  8e8161d1  7.307221e-26\n",
       "13  4cf4d256  6.423603e-12\n",
       "14  139e5324  9.140181e-16\n",
       "15  f156976f  5.631385e-30\n",
       "16  68a117cc  1.839244e-17\n",
       "17  d9aa7a56  1.822935e-16\n",
       "18  9005b143  7.744510e-14\n",
       "19  5f6d3988  1.151009e-18\n",
       "20  9ad70954  7.383792e-21\n",
       "21  b9087b9e  1.076149e-18\n",
       "22  a39a1427  5.824360e-14\n",
       "23  82fbe8ed  5.379237e-19\n",
       "24  1fae4879  2.369088e-26\n",
       "25  6dd8f13d  2.268036e-19\n",
       "26  bbad5958  6.965307e-21\n",
       "27  54527583  1.372330e-14\n",
       "28  be8fa29c  2.418216e-15\n",
       "29  81a3328f  1.838126e-20\n",
       "30  1a3c0ab3  9.731588e-19\n",
       "31  4deeeb8b  3.524312e-12\n",
       "32  ac6d5632  3.249220e-12\n",
       "33  472dadb5  4.847731e-14\n",
       "34  96093f95  1.010309e-18\n",
       "35  f5b4e3df  1.464381e-21\n",
       "36  e01a3c92  1.836919e-22\n",
       "37  001680af  9.172671e-15\n",
       "38  8e639f33  9.702917e-15\n",
       "39  a2c16612  7.038579e-19\n",
       "40  a6d76474  5.315614e-19\n",
       "41  19c47684  1.391681e-13\n",
       "42  015827b6  1.695518e-15\n",
       "43  7df7f7ce  4.020606e-17\n",
       "44  0bbf1a3f  4.812610e-15\n",
       "45  636cfbb7  2.402280e-24\n",
       "46  7370030a  1.913509e-20\n",
       "47  43aa97ad  1.295150e-19\n",
       "48  ba2b5e63  8.490402e-20\n",
       "49  dfdd335b  1.184441e-13"
      ]
     },
     "execution_count": 72,
     "metadata": {},
     "output_type": "execute_result"
    }
   ],
   "source": [
    "submision = pd.read_csv(submission_dir+submission_file+\".csv\")\n",
    "submision.head(50)"
   ]
  }
 ],
 "metadata": {
  "kernelspec": {
   "display_name": "Python 3",
   "language": "python",
   "name": "python3"
  },
  "language_info": {
   "codemirror_mode": {
    "name": "ipython",
    "version": 3
   },
   "file_extension": ".py",
   "mimetype": "text/x-python",
   "name": "python",
   "nbconvert_exporter": "python",
   "pygments_lexer": "ipython3",
   "version": "3.6.6"
  }
 },
 "nbformat": 4,
 "nbformat_minor": 1
}
