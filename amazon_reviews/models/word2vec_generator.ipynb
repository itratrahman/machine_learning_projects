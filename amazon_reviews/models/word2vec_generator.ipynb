{
 "cells": [
  {
   "cell_type": "code",
   "execution_count": 1,
   "metadata": {},
   "outputs": [],
   "source": [
    "import time\n",
    "import os\n",
    "import pandas as pd\n",
    "from gensim.models import Word2Vec"
   ]
  },
  {
   "cell_type": "code",
   "execution_count": 2,
   "metadata": {},
   "outputs": [
    {
     "name": "stdout",
     "output_type": "stream",
     "text": [
      "Number of workers: 16\n"
     ]
    }
   ],
   "source": [
    "import multiprocessing\n",
    "WORKERS = multiprocessing.cpu_count()\n",
    "print(\"Number of workers:\",WORKERS)"
   ]
  },
  {
   "cell_type": "code",
   "execution_count": 3,
   "metadata": {},
   "outputs": [],
   "source": [
    "input_dir = \"../input/amazon_review_polarity_csv/\""
   ]
  },
  {
   "cell_type": "code",
   "execution_count": 4,
   "metadata": {},
   "outputs": [],
   "source": [
    "train_data = pd.read_csv(input_dir+\"train_data_processed.csv\")\n",
    "test_data = pd.read_csv(input_dir+\"test_data_processed.csv\")\n",
    "total_examples = train_data.shape[0]*2+test_data.shape[0]*2\n",
    "del(train_data, test_data)"
   ]
  },
  {
   "cell_type": "code",
   "execution_count": 5,
   "metadata": {},
   "outputs": [],
   "source": [
    "class MySentences(object):\n",
    "    \n",
    "    def __init__(self, dirname):\n",
    "        self.dirname = dirname\n",
    " \n",
    "    def __iter__(self):\n",
    "        for fname in os.listdir(self.dirname):\n",
    "            if fname.endswith(\".csv\"):\n",
    "                for line in open(os.path.join(self.dirname, fname)):\n",
    "                    yield line.split()"
   ]
  },
  {
   "cell_type": "code",
   "execution_count": 6,
   "metadata": {},
   "outputs": [],
   "source": [
    "sentences = MySentences('../input/amazon_review_polarity_csv_chunks/')"
   ]
  },
  {
   "cell_type": "code",
   "execution_count": 7,
   "metadata": {},
   "outputs": [],
   "source": [
    "def word2vec_generator(sentences, size, window, total_examples, workers, destination_folder = \"./word2vec_models/\"):\n",
    "    '''\n",
    "    A function to generate word2vec model\n",
    "    '''    \n",
    "    # create a word2vec model\n",
    "    model = Word2Vec(sentences, size=size, window=window, sg= 1, min_count=1, workers=workers)\n",
    "    # train model\n",
    "    model.train(sentences, total_examples=total_examples, epochs=5)\n",
    "    # file path\n",
    "    fname = destination_folder + \"word2vec_size_\" + str(size) + \"_window_\" + str(window) + \".mdl\"\n",
    "    # save the model\n",
    "    model. wv.save_word2vec_format(fname)"
   ]
  },
  {
   "cell_type": "code",
   "execution_count": 8,
   "metadata": {},
   "outputs": [
    {
     "data": {
      "text/html": [
       "<div>\n",
       "<style scoped>\n",
       "    .dataframe tbody tr th:only-of-type {\n",
       "        vertical-align: middle;\n",
       "    }\n",
       "\n",
       "    .dataframe tbody tr th {\n",
       "        vertical-align: top;\n",
       "    }\n",
       "\n",
       "    .dataframe thead th {\n",
       "        text-align: right;\n",
       "    }\n",
       "</style>\n",
       "<table border=\"1\" class=\"dataframe\">\n",
       "  <thead>\n",
       "    <tr style=\"text-align: right;\">\n",
       "      <th></th>\n",
       "      <th>index</th>\n",
       "      <th>size</th>\n",
       "      <th>window</th>\n",
       "    </tr>\n",
       "  </thead>\n",
       "  <tbody>\n",
       "    <tr>\n",
       "      <th>0</th>\n",
       "      <td>0</td>\n",
       "      <td>100</td>\n",
       "      <td>5</td>\n",
       "    </tr>\n",
       "    <tr>\n",
       "      <th>1</th>\n",
       "      <td>1</td>\n",
       "      <td>100</td>\n",
       "      <td>10</td>\n",
       "    </tr>\n",
       "    <tr>\n",
       "      <th>2</th>\n",
       "      <td>2</td>\n",
       "      <td>100</td>\n",
       "      <td>15</td>\n",
       "    </tr>\n",
       "    <tr>\n",
       "      <th>3</th>\n",
       "      <td>3</td>\n",
       "      <td>100</td>\n",
       "      <td>20</td>\n",
       "    </tr>\n",
       "    <tr>\n",
       "      <th>4</th>\n",
       "      <td>4</td>\n",
       "      <td>100</td>\n",
       "      <td>25</td>\n",
       "    </tr>\n",
       "    <tr>\n",
       "      <th>5</th>\n",
       "      <td>5</td>\n",
       "      <td>200</td>\n",
       "      <td>5</td>\n",
       "    </tr>\n",
       "    <tr>\n",
       "      <th>6</th>\n",
       "      <td>6</td>\n",
       "      <td>200</td>\n",
       "      <td>10</td>\n",
       "    </tr>\n",
       "    <tr>\n",
       "      <th>7</th>\n",
       "      <td>7</td>\n",
       "      <td>200</td>\n",
       "      <td>15</td>\n",
       "    </tr>\n",
       "    <tr>\n",
       "      <th>8</th>\n",
       "      <td>8</td>\n",
       "      <td>200</td>\n",
       "      <td>20</td>\n",
       "    </tr>\n",
       "    <tr>\n",
       "      <th>9</th>\n",
       "      <td>9</td>\n",
       "      <td>200</td>\n",
       "      <td>25</td>\n",
       "    </tr>\n",
       "    <tr>\n",
       "      <th>10</th>\n",
       "      <td>10</td>\n",
       "      <td>300</td>\n",
       "      <td>5</td>\n",
       "    </tr>\n",
       "    <tr>\n",
       "      <th>11</th>\n",
       "      <td>11</td>\n",
       "      <td>300</td>\n",
       "      <td>10</td>\n",
       "    </tr>\n",
       "    <tr>\n",
       "      <th>12</th>\n",
       "      <td>12</td>\n",
       "      <td>300</td>\n",
       "      <td>15</td>\n",
       "    </tr>\n",
       "    <tr>\n",
       "      <th>13</th>\n",
       "      <td>13</td>\n",
       "      <td>300</td>\n",
       "      <td>20</td>\n",
       "    </tr>\n",
       "    <tr>\n",
       "      <th>14</th>\n",
       "      <td>14</td>\n",
       "      <td>300</td>\n",
       "      <td>25</td>\n",
       "    </tr>\n",
       "  </tbody>\n",
       "</table>\n",
       "</div>"
      ],
      "text/plain": [
       "    index  size  window\n",
       "0       0   100       5\n",
       "1       1   100      10\n",
       "2       2   100      15\n",
       "3       3   100      20\n",
       "4       4   100      25\n",
       "5       5   200       5\n",
       "6       6   200      10\n",
       "7       7   200      15\n",
       "8       8   200      20\n",
       "9       9   200      25\n",
       "10     10   300       5\n",
       "11     11   300      10\n",
       "12     12   300      15\n",
       "13     13   300      20\n",
       "14     14   300      25"
      ]
     },
     "execution_count": 8,
     "metadata": {},
     "output_type": "execute_result"
    }
   ],
   "source": [
    "list_of_sizes = [100, 100, 100, 100, 100, 200, 200, 200, 200, 200, 300, 300, 300, 300, 300]\n",
    "list_of_window_sizes = [5,10,15,20,25,5,10,15,20,25,5,10,15,20,25]\n",
    "model_info = pd.DataFrame({\"index\":list(range(len(list_of_sizes))),\n",
    "                           \"size\": list_of_sizes,\n",
    "                           \"window\": list_of_window_sizes})\n",
    "model_info"
   ]
  },
  {
   "cell_type": "code",
   "execution_count": 9,
   "metadata": {},
   "outputs": [],
   "source": [
    "selected_indexes = [2,3,4,5,6,7,8,9,10,11,12,13,14]"
   ]
  },
  {
   "cell_type": "code",
   "execution_count": 10,
   "metadata": {},
   "outputs": [
    {
     "name": "stdout",
     "output_type": "stream",
     "text": [
      "Time taken to save model with vector size 100 and window size 15: 78.58 mins\n",
      "Time taken to save model with vector size 100 and window size 20: 95.02 mins\n",
      "Time taken to save model with vector size 100 and window size 25: 110.69 mins\n",
      "Time taken to save model with vector size 200 and window size 5: 54.03 mins\n",
      "Time taken to save model with vector size 200 and window size 10: 74.32 mins\n",
      "Time taken to save model with vector size 200 and window size 15: 96.97 mins\n",
      "Time taken to save model with vector size 200 and window size 20: 118.37 mins\n",
      "Time taken to save model with vector size 200 and window size 25: 137.14 mins\n",
      "Time taken to save model with vector size 300 and window size 5: 60.15 mins\n",
      "Time taken to save model with vector size 300 and window size 10: 87.16 mins\n",
      "Time taken to save model with vector size 300 and window size 15: 115.71 mins\n",
      "Time taken to save model with vector size 300 and window size 20: 140.28 mins\n",
      "Time taken to save model with vector size 300 and window size 25: 169.95 mins\n"
     ]
    }
   ],
   "source": [
    "for index in selected_indexes:\n",
    "    t_start = time.time()\n",
    "    size = model_info[model_info.index == index][\"size\"].values[0]\n",
    "    window = model_info[model_info.index == index][\"window\"].values[0]\n",
    "    word2vec_generator(sentences, size, window, total_examples, WORKERS)\n",
    "    t_end = time.time()\n",
    "    print(\"Time taken to save model with vector size {} and window size {}: {:.2f} mins\"\\\n",
    "          .format(str(size),str(window),(t_end-t_start)/60))"
   ]
  }
 ],
 "metadata": {
  "kernelspec": {
   "display_name": "Python 3",
   "language": "python",
   "name": "python3"
  },
  "language_info": {
   "codemirror_mode": {
    "name": "ipython",
    "version": 3
   },
   "file_extension": ".py",
   "mimetype": "text/x-python",
   "name": "python",
   "nbconvert_exporter": "python",
   "pygments_lexer": "ipython3",
   "version": "3.6.7"
  }
 },
 "nbformat": 4,
 "nbformat_minor": 2
}
