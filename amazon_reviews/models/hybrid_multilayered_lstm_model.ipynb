{
 "cells": [
  {
   "cell_type": "markdown",
   "metadata": {},
   "source": [
    "# HYBRID MULTILAYER LSTM MODEL"
   ]
  },
  {
   "cell_type": "markdown",
   "metadata": {},
   "source": [
    "## 1. Import statements"
   ]
  },
  {
   "cell_type": "markdown",
   "metadata": {},
   "source": [
    "**Import necessary packages and modules**"
   ]
  },
  {
   "cell_type": "code",
   "execution_count": 1,
   "metadata": {
    "collapsed": true
   },
   "outputs": [],
   "source": [
    "import os\n",
    "import time\n",
    "import random\n",
    "import math\n",
    "import json\n",
    "import pandas as pd\n",
    "import numpy as np\n",
    "import tensorflow as tf\n",
    "import progressbar\n",
    "tf.reset_default_graph()\n",
    "import matplotlib\n",
    "from matplotlib import pyplot as plt\n",
    "%matplotlib inline"
   ]
  },
  {
   "cell_type": "markdown",
   "metadata": {},
   "source": [
    "**Import gensim**"
   ]
  },
  {
   "cell_type": "code",
   "execution_count": 2,
   "metadata": {
    "collapsed": true
   },
   "outputs": [],
   "source": [
    "from gensim.models.word2vec import Word2VecKeyedVectors"
   ]
  },
  {
   "cell_type": "markdown",
   "metadata": {},
   "source": [
    "**Set the random seed of numpy and tensorflow**"
   ]
  },
  {
   "cell_type": "code",
   "execution_count": 3,
   "metadata": {},
   "outputs": [
    {
     "name": "stdout",
     "output_type": "stream",
     "text": [
      "numpy random seed:  95\n",
      "tensorflow random seed:  63\n"
     ]
    }
   ],
   "source": [
    "# np_rand_seed = random.randint(0,100)\n",
    "# tf_rand_seed = random.randint(0,100)\n",
    "np_rand_seed = 95\n",
    "tf_rand_seed = 63\n",
    "np.random.seed(np_rand_seed)\n",
    "print(\"numpy random seed: \",np_rand_seed)\n",
    "print(\"tensorflow random seed: \", tf_rand_seed)"
   ]
  },
  {
   "cell_type": "markdown",
   "metadata": {},
   "source": [
    "## 2. Load train data, test data, and gensim word2vec model"
   ]
  },
  {
   "cell_type": "markdown",
   "metadata": {},
   "source": [
    "**Set some directories**"
   ]
  },
  {
   "cell_type": "code",
   "execution_count": 4,
   "metadata": {
    "collapsed": true
   },
   "outputs": [],
   "source": [
    "input_dir = \"../input/amazon_review_polarity_csv/\"\n",
    "word2vec_dir = \"./word2vec_models/\"\n",
    "model_dir = \"./model_files/\"\n",
    "submission_dir = \"./submission_dir/\""
   ]
  },
  {
   "cell_type": "markdown",
   "metadata": {},
   "source": [
    "**Load the cleaned train and test data**"
   ]
  },
  {
   "cell_type": "code",
   "execution_count": 5,
   "metadata": {
    "collapsed": true
   },
   "outputs": [],
   "source": [
    "data = pd.read_csv(input_dir+'train_data_processed.csv') \n",
    "test_data = pd.read_csv(input_dir+'test_data_processed.csv')"
   ]
  },
  {
   "cell_type": "code",
   "execution_count": 6,
   "metadata": {},
   "outputs": [
    {
     "data": {
      "text/html": [
       "<div>\n",
       "<style scoped>\n",
       "    .dataframe tbody tr th:only-of-type {\n",
       "        vertical-align: middle;\n",
       "    }\n",
       "\n",
       "    .dataframe tbody tr th {\n",
       "        vertical-align: top;\n",
       "    }\n",
       "\n",
       "    .dataframe thead th {\n",
       "        text-align: right;\n",
       "    }\n",
       "</style>\n",
       "<table border=\"1\" class=\"dataframe\">\n",
       "  <thead>\n",
       "    <tr style=\"text-align: right;\">\n",
       "      <th></th>\n",
       "      <th>sentiment</th>\n",
       "      <th>review_title</th>\n",
       "      <th>review_text</th>\n",
       "    </tr>\n",
       "  </thead>\n",
       "  <tbody>\n",
       "    <tr>\n",
       "      <th>0</th>\n",
       "      <td>1</td>\n",
       "      <td>stune even non gamer</td>\n",
       "      <td>sound track beauti paint seneri mind well woul...</td>\n",
       "    </tr>\n",
       "    <tr>\n",
       "      <th>1</th>\n",
       "      <td>1</td>\n",
       "      <td>best soundtrack ever anyth</td>\n",
       "      <td>read lot review sai best game soundtrack figur...</td>\n",
       "    </tr>\n",
       "    <tr>\n",
       "      <th>2</th>\n",
       "      <td>1</td>\n",
       "      <td>amaz</td>\n",
       "      <td>soundtrack favorit music time hand intens sad ...</td>\n",
       "    </tr>\n",
       "    <tr>\n",
       "      <th>3</th>\n",
       "      <td>1</td>\n",
       "      <td>excel soundtrack</td>\n",
       "      <td>truli like soundtrack enjoi video game music p...</td>\n",
       "    </tr>\n",
       "    <tr>\n",
       "      <th>4</th>\n",
       "      <td>1</td>\n",
       "      <td>rememb pull jaw floor hear</td>\n",
       "      <td>plai game know divin music everi singl song te...</td>\n",
       "    </tr>\n",
       "  </tbody>\n",
       "</table>\n",
       "</div>"
      ],
      "text/plain": [
       "   sentiment                review_title  \\\n",
       "0          1        stune even non gamer   \n",
       "1          1  best soundtrack ever anyth   \n",
       "2          1                        amaz   \n",
       "3          1            excel soundtrack   \n",
       "4          1  rememb pull jaw floor hear   \n",
       "\n",
       "                                         review_text  \n",
       "0  sound track beauti paint seneri mind well woul...  \n",
       "1  read lot review sai best game soundtrack figur...  \n",
       "2  soundtrack favorit music time hand intens sad ...  \n",
       "3  truli like soundtrack enjoi video game music p...  \n",
       "4  plai game know divin music everi singl song te...  "
      ]
     },
     "execution_count": 6,
     "metadata": {},
     "output_type": "execute_result"
    }
   ],
   "source": [
    "data.head()"
   ]
  },
  {
   "cell_type": "code",
   "execution_count": 7,
   "metadata": {},
   "outputs": [
    {
     "data": {
      "text/html": [
       "<div>\n",
       "<style scoped>\n",
       "    .dataframe tbody tr th:only-of-type {\n",
       "        vertical-align: middle;\n",
       "    }\n",
       "\n",
       "    .dataframe tbody tr th {\n",
       "        vertical-align: top;\n",
       "    }\n",
       "\n",
       "    .dataframe thead th {\n",
       "        text-align: right;\n",
       "    }\n",
       "</style>\n",
       "<table border=\"1\" class=\"dataframe\">\n",
       "  <thead>\n",
       "    <tr style=\"text-align: right;\">\n",
       "      <th></th>\n",
       "      <th>sentiment</th>\n",
       "      <th>review_title</th>\n",
       "      <th>review_text</th>\n",
       "    </tr>\n",
       "  </thead>\n",
       "  <tbody>\n",
       "    <tr>\n",
       "      <th>0</th>\n",
       "      <td>1</td>\n",
       "      <td>great cd</td>\n",
       "      <td>love pat on great voic gener listen cd year st...</td>\n",
       "    </tr>\n",
       "    <tr>\n",
       "      <th>1</th>\n",
       "      <td>1</td>\n",
       "      <td>on best game music soundtrack game realli plai</td>\n",
       "      <td>despit fact plai small portion game music hear...</td>\n",
       "    </tr>\n",
       "    <tr>\n",
       "      <th>2</th>\n",
       "      <td>0</td>\n",
       "      <td>batteri di within year</td>\n",
       "      <td>bought charger jul 2003 work ok design nice co...</td>\n",
       "    </tr>\n",
       "    <tr>\n",
       "      <th>3</th>\n",
       "      <td>1</td>\n",
       "      <td>work fine maha energi better</td>\n",
       "      <td>check maha energi websit powerex mh c204f char...</td>\n",
       "    </tr>\n",
       "    <tr>\n",
       "      <th>4</th>\n",
       "      <td>1</td>\n",
       "      <td>great non audiophil</td>\n",
       "      <td>review quit bit combo player hesit due unfavor...</td>\n",
       "    </tr>\n",
       "  </tbody>\n",
       "</table>\n",
       "</div>"
      ],
      "text/plain": [
       "   sentiment                                    review_title  \\\n",
       "0          1                                        great cd   \n",
       "1          1  on best game music soundtrack game realli plai   \n",
       "2          0                          batteri di within year   \n",
       "3          1                    work fine maha energi better   \n",
       "4          1                             great non audiophil   \n",
       "\n",
       "                                         review_text  \n",
       "0  love pat on great voic gener listen cd year st...  \n",
       "1  despit fact plai small portion game music hear...  \n",
       "2  bought charger jul 2003 work ok design nice co...  \n",
       "3  check maha energi websit powerex mh c204f char...  \n",
       "4  review quit bit combo player hesit due unfavor...  "
      ]
     },
     "execution_count": 7,
     "metadata": {},
     "output_type": "execute_result"
    }
   ],
   "source": [
    "test_data.head()"
   ]
  },
  {
   "cell_type": "markdown",
   "metadata": {},
   "source": [
    "Unfortunately the csv loader function has problems, it occassionaly shows up null values for text columns. It is advised to get rid of the null values."
   ]
  },
  {
   "cell_type": "code",
   "execution_count": 8,
   "metadata": {
    "collapsed": true
   },
   "outputs": [],
   "source": [
    "data = data.sample(frac=1,  random_state = np.random.seed()).reset_index(drop=True)\n",
    "data = data[~data['review_title'].isnull()]\n",
    "test_data = test_data[~test_data['review_title'].isnull()]\n",
    "data = data[~data['review_text'].isnull()]\n",
    "test_data = test_data[~test_data['review_text'].isnull()]"
   ]
  },
  {
   "cell_type": "markdown",
   "metadata": {},
   "source": [
    "**Load the gensim model**"
   ]
  },
  {
   "cell_type": "code",
   "execution_count": 9,
   "metadata": {
    "collapsed": true
   },
   "outputs": [],
   "source": [
    "size = 300\n",
    "window = 20\n",
    "fname = \"word2vec_size_\"+str(size)+\"_window_\"+str(window)+\".mdl\"\n",
    "model = Word2VecKeyedVectors.load_word2vec_format(word2vec_dir+fname)"
   ]
  },
  {
   "cell_type": "markdown",
   "metadata": {},
   "source": [
    "## 3. Check the balance of the labels"
   ]
  },
  {
   "cell_type": "markdown",
   "metadata": {},
   "source": [
    "**Extract the positive and negative sentiment examples**"
   ]
  },
  {
   "cell_type": "code",
   "execution_count": 10,
   "metadata": {
    "collapsed": true
   },
   "outputs": [],
   "source": [
    "pos_sent = data[data['sentiment'] == 1].shape[0]\n",
    "neg_sent = data[data['sentiment'] == 0].shape[0]"
   ]
  },
  {
   "cell_type": "markdown",
   "metadata": {},
   "source": [
    "**Bar chart of the balance of the sentiments**"
   ]
  },
  {
   "cell_type": "code",
   "execution_count": 11,
   "metadata": {},
   "outputs": [
    {
     "data": {
      "image/png": "[encoded data removed]",
      "text/plain": [
       "<Figure size 640x320 with 1 Axes>"
      ]
     },
     "metadata": {},
     "output_type": "display_data"
    }
   ],
   "source": [
    "numbers = [pos_sent, neg_sent]\n",
    "plt.figure(figsize=(8, 4), dpi= 80, facecolor='w', edgecolor='k')\n",
    "plt.bar(np.arange(len(numbers)), numbers, align='center', alpha=0.5)\n",
    "plt.xticks(np.arange(len(numbers)),\\\n",
    "           ['Positive', 'Negative'])\n",
    "plt.ylabel('Numbers')\n",
    "plt.title('Sentiments')\n",
    "plt.grid()\n",
    "plt.show()"
   ]
  },
  {
   "cell_type": "markdown",
   "metadata": {},
   "source": [
    "## 4. Inspect the distribution of #words in the text"
   ]
  },
  {
   "cell_type": "markdown",
   "metadata": {},
   "source": [
    "**A function to find the length of text**"
   ]
  },
  {
   "cell_type": "code",
   "execution_count": 12,
   "metadata": {
    "collapsed": true
   },
   "outputs": [],
   "source": [
    "def find_length(text):\n",
    "    \"\"\"\n",
    "    A function to find the length of text\n",
    "    \"\"\"\n",
    "    text = str(text)\n",
    "    return len(text.split())"
   ]
  },
  {
   "cell_type": "markdown",
   "metadata": {},
   "source": [
    "### 4.1 Distribution of #words in the review titles"
   ]
  },
  {
   "cell_type": "markdown",
   "metadata": {},
   "source": [
    "**Find the length of review titles in train and test data**"
   ]
  },
  {
   "cell_type": "code",
   "execution_count": 13,
   "metadata": {
    "collapsed": true
   },
   "outputs": [],
   "source": [
    "data['length_title'] = data['review_title'].apply(find_length)\n",
    "test_data['length_title'] = test_data['review_title'].apply(find_length)"
   ]
  },
  {
   "cell_type": "markdown",
   "metadata": {},
   "source": [
    "**Distribution of #words in review titles in train data**"
   ]
  },
  {
   "cell_type": "code",
   "execution_count": 14,
   "metadata": {},
   "outputs": [
    {
     "data": {
      "image/png": "[encoded data removed]",
      "text/plain": [
       "<Figure size 1152x576 with 1 Axes>"
      ]
     },
     "metadata": {
      "needs_background": "light"
     },
     "output_type": "display_data"
    }
   ],
   "source": [
    "data.hist(\"length_title\", bins=25, figsize=(16,8))\n",
    "plt.title(\"Train data title length\")\n",
    "plt.xlabel(\"#words\")\n",
    "plt.xlim(0,15)\n",
    "plt.show()"
   ]
  },
  {
   "cell_type": "markdown",
   "metadata": {},
   "source": [
    "**Distribution of #words in review titles in test data**"
   ]
  },
  {
   "cell_type": "code",
   "execution_count": 15,
   "metadata": {},
   "outputs": [
    {
     "data": {
      "image/png": "[encoded data removed]",
      "text/plain": [
       "<Figure size 1152x576 with 1 Axes>"
      ]
     },
     "metadata": {
      "needs_background": "light"
     },
     "output_type": "display_data"
    }
   ],
   "source": [
    "test_data.hist(\"length_title\", bins=25, figsize=(16,8))\n",
    "plt.title(\"Test data title length\")\n",
    "plt.xlabel(\"#words\")\n",
    "plt.xlim(0,15)\n",
    "plt.show()"
   ]
  },
  {
   "cell_type": "markdown",
   "metadata": {},
   "source": [
    "**Distribution of #words in review titles in all data**"
   ]
  },
  {
   "cell_type": "code",
   "execution_count": 16,
   "metadata": {},
   "outputs": [
    {
     "data": {
      "image/png": "[encoded data removed]",
      "text/plain": [
       "<Figure size 1152x576 with 1 Axes>"
      ]
     },
     "metadata": {
      "needs_background": "light"
     },
     "output_type": "display_data"
    }
   ],
   "source": [
    "all_length = pd.concat([data['length_title'], test_data['length_title']])\n",
    "all_length.hist(bins=25, figsize=(16,8))\n",
    "plt.title(\"All data title length\")\n",
    "plt.xlim(0,15)\n",
    "plt.xlabel(\"#words\")\n",
    "plt.show()\n",
    "del(all_length)"
   ]
  },
  {
   "cell_type": "markdown",
   "metadata": {},
   "source": [
    "### 4.3 distribution of #words in the review text"
   ]
  },
  {
   "cell_type": "markdown",
   "metadata": {},
   "source": [
    "**Find the length of review titles in train and test data**"
   ]
  },
  {
   "cell_type": "code",
   "execution_count": 17,
   "metadata": {
    "collapsed": true
   },
   "outputs": [],
   "source": [
    "data['length_text'] = data['review_text'].apply(find_length)\n",
    "test_data['length_text'] = test_data['review_text'].apply(find_length)"
   ]
  },
  {
   "cell_type": "markdown",
   "metadata": {},
   "source": [
    "**Distribution of #words in review text in train data**"
   ]
  },
  {
   "cell_type": "code",
   "execution_count": 18,
   "metadata": {},
   "outputs": [
    {
     "data": {
      "image/png": "[encoded data removed]",
      "text/plain": [
       "<Figure size 1152x576 with 1 Axes>"
      ]
     },
     "metadata": {
      "needs_background": "light"
     },
     "output_type": "display_data"
    }
   ],
   "source": [
    "data.hist(\"length_text\", bins=200, figsize=(16,8))\n",
    "plt.title(\"Train data text length\")\n",
    "plt.xlabel(\"#words\")\n",
    "plt.xlim(0,125)\n",
    "plt.show()"
   ]
  },
  {
   "cell_type": "markdown",
   "metadata": {},
   "source": [
    "**Distribution of #words in review text in test data**"
   ]
  },
  {
   "cell_type": "code",
   "execution_count": 19,
   "metadata": {},
   "outputs": [
    {
     "data": {
      "image/png": "[encoded data removed]",
      "text/plain": [
       "<Figure size 1152x576 with 1 Axes>"
      ]
     },
     "metadata": {
      "needs_background": "light"
     },
     "output_type": "display_data"
    }
   ],
   "source": [
    "test_data.hist(\"length_text\", bins=200, figsize=(16,8))\n",
    "plt.title(\"Test data text length\")\n",
    "plt.xlabel(\"#words\")\n",
    "plt.xlim(0,125)\n",
    "plt.show()"
   ]
  },
  {
   "cell_type": "markdown",
   "metadata": {},
   "source": [
    "**Distribution of #words in review text in all data**"
   ]
  },
  {
   "cell_type": "code",
   "execution_count": 20,
   "metadata": {},
   "outputs": [
    {
     "data": {
      "image/png": "[encoded data removed]",
      "text/plain": [
       "<Figure size 1152x576 with 1 Axes>"
      ]
     },
     "metadata": {
      "needs_background": "light"
     },
     "output_type": "display_data"
    }
   ],
   "source": [
    "all_length = pd.concat([data['length_text'], test_data['length_text']])\n",
    "all_length.hist(bins=200, figsize=(16,8))\n",
    "plt.title(\"All data text length\")\n",
    "plt.xlim(0,125)\n",
    "plt.xlabel(\"#words\")\n",
    "plt.show()\n",
    "del(all_length)"
   ]
  },
  {
   "cell_type": "markdown",
   "metadata": {},
   "source": [
    "**Split the training set into train and validation sets and save the sets**"
   ]
  },
  {
   "cell_type": "code",
   "execution_count": 21,
   "metadata": {
    "collapsed": true
   },
   "outputs": [],
   "source": [
    "test_size = test_data.shape[0]\n",
    "test_data.to_csv(input_dir+\"test_data.csv\",header=True, index=False)\n",
    "del(test_data)\n",
    "train_percentage = 0.999\n",
    "train_data = data.head(int(len(data)*train_percentage))\n",
    "train_data.to_csv(input_dir+\"train_data.csv\",header=True, index=False)\n",
    "del(train_data)\n",
    "valid_data = data.tail(len(data)-int(len(data)*train_percentage))\n",
    "valid_size = len(valid_data)\n",
    "valid_data.to_csv(input_dir+\"valid_data.csv\",header=True, index=False)\n",
    "del(valid_data)\n",
    "del(data)"
   ]
  },
  {
   "cell_type": "markdown",
   "metadata": {},
   "source": [
    "## 5. Input functions"
   ]
  },
  {
   "cell_type": "markdown",
   "metadata": {},
   "source": [
    "**A function to generate sequence of embeddings for the text columns**"
   ]
  },
  {
   "cell_type": "code",
   "execution_count": 22,
   "metadata": {
    "collapsed": true
   },
   "outputs": [],
   "source": [
    "def sequence_generator(comments, max_length, size):\n",
    "    \"\"\"\n",
    "    A function to generate sequence of embeddings for the text columns\n",
    "    \"\"\"    \n",
    "    sentences = []\n",
    "    for comment in comments.tolist():\n",
    "        sentences.append(str(comment).split())\n",
    "        \n",
    "    sequences = []\n",
    "    for sentence in sentences:\n",
    "        if len(sentence)>0:\n",
    "            if len(sentence)<max_length:\n",
    "                sequence = model[sentence]\n",
    "                tail = np.zeros((max_length - len(sentence), size))\n",
    "                sequence = np.concatenate((sequence, tail))\n",
    "            else:\n",
    "                sequence = model[sentence[:max_length]]\n",
    "        else:\n",
    "            sequence = np.zeros((max_length, size))        \n",
    "        sequences.append(sequence)\n",
    "    sequences = np.array(sequences)\n",
    "    \n",
    "    return sequences"
   ]
  },
  {
   "cell_type": "markdown",
   "metadata": {},
   "source": [
    "**A function to generate batch of embeddings sequence, sequence length, and one hot encode output**"
   ]
  },
  {
   "cell_type": "code",
   "execution_count": 23,
   "metadata": {
    "collapsed": true
   },
   "outputs": [],
   "source": [
    "def generate_batch(reader, csv_path, batch_size, \n",
    "                   max_length_review, max_length_title,\n",
    "                   size_1, size_2, train_set=True):\n",
    "    \"\"\"\n",
    "    A function to generate batch of embeddings sequence, sequence length, and one hot encode output\n",
    "    \"\"\"\n",
    "    # read batch\n",
    "    try:\n",
    "        batch = reader.get_chunk()\n",
    "    except:\n",
    "        \n",
    "        reader = pd.read_csv(csv_path, chunksize=batch_size)\n",
    "        batch = reader.get_chunk()\n",
    "    \n",
    "    # extract columns of review title, review text, and their lengths from the batch data\n",
    "    review_title_batch = batch[\"review_title\"].values\n",
    "    review_text_batch = batch[\"review_text\"].values\n",
    "    review_title_length = batch[\"length_title\"].apply(find_length).values\n",
    "    review_text_length = batch[\"length_text\"].apply(find_length).values\n",
    "    \n",
    "    # if it is train set then extract the columns of sentiments\n",
    "    if train_set:\n",
    "        sentiments_batch = np.eye(2)[batch['sentiment'].values]\n",
    "        \n",
    "    # generate sequences of embeddings for the columns of review title and review texts\n",
    "    sequences_title_batch = sequence_generator(review_title_batch, max_length_title, size_1)\n",
    "    sequences_review_batch = sequence_generator(review_text_batch, max_length_review, size_2)\n",
    "    \n",
    "    # return statement\n",
    "    if train_set:\n",
    "        return sequences_review_batch, sequences_title_batch, review_text_length, review_title_length, sentiments_batch\n",
    "    else:\n",
    "        return sequences_review_batch, sequences_title_batch, review_text_length, review_title_length"
   ]
  },
  {
   "cell_type": "markdown",
   "metadata": {},
   "source": [
    "## 6. Class module of hybrid multilayer lstm model"
   ]
  },
  {
   "cell_type": "code",
   "execution_count": 24,
   "metadata": {
    "collapsed": true
   },
   "outputs": [],
   "source": [
    "class multilayer_lstm_model(object):\n",
    "    \"\"\"\n",
    "    Multilayer lstm model\n",
    "    \"\"\"    \n",
    "    def __init__(self, n_steps_1, n_steps_2, n_inputs_1, n_inputs_2, n_outputs, \n",
    "                 n_layers_1, n_layers_2, n_neurons_1, n_neurons_2, dense_layers, learning_rate,\n",
    "                 device, tf_seed, np_seed):\n",
    "        \"\"\"\n",
    "        Class constuctor which intializes the parameters, placeholders, and operations of the model\n",
    "        \"\"\"\n",
    "        \n",
    "        # parameters of lstm model\n",
    "        self.n_steps_1 = n_steps_1\n",
    "        self.n_steps_2 = n_steps_2\n",
    "        self.n_inputs_1 = n_inputs_1\n",
    "        self.n_inputs_2 = n_inputs_2\n",
    "        self.n_outputs = n_outputs\n",
    "        self.n_layers_1 = n_layers_1\n",
    "        self.n_layers_2 = n_layers_2\n",
    "        self.n_neurons_1 = n_neurons_1\n",
    "        self.n_neurons_2 = n_neurons_2\n",
    "        self.dense_layers = dense_layers\n",
    "        self.learning_rate = learning_rate\n",
    "        self.device = device\n",
    "        self.tf_seed = tf_seed\n",
    "        self.np_seed = np_seed    \n",
    "        \n",
    "        # placeholders and operations\n",
    "        self.X1 = None\n",
    "        self.X2 = None\n",
    "        self.Y = None\n",
    "        self.Length1 = None\n",
    "        self.Length2 = None\n",
    "        self.keep_prob = None\n",
    "        self.Y_ = None\n",
    "        self.accuracy = None\n",
    "        self.cost = None\n",
    "        self.train_step = None\n",
    "        \n",
    "        # create model\n",
    "        self.X1, self.X2, self.Y, self.Length1, self.Length2, self.keep_prob, \\\n",
    "        self.Y_, self.accuracy, self.cost, self.train_step = self.create_model()\n",
    "        \n",
    "        self.saver = None\n",
    "        self.train_cost = None\n",
    "        self.valid_cost = None\n",
    "        self.valid_accuracy = None\n",
    "        self.best_valid_accuracy = None\n",
    "        self.best_iteration = None\n",
    "        self.best_time = None\n",
    "        self.log_of_computation_time = []\n",
    "        \n",
    "        \n",
    "    def bidirectional_lstm(self, X, n_layers, n_neurons, keep_prob, device, name):\n",
    "        \n",
    "        \"\"\"\n",
    "        Method to create multilayer biderectional lstm model\n",
    "        \"\"\"\n",
    "        output = X\n",
    "        # iterate through the layers of LSTM\n",
    "        for layer in range(n_layers):\n",
    "            with tf.variable_scope(name+'Layer{}'.format(layer),reuse=tf.AUTO_REUSE):\n",
    "                # forward lstm cell\n",
    "                cell_fw = tf.nn.rnn_cell.LSTMCell(n_neurons,\n",
    "                                                  initializer=tf.variance_scaling_initializer())\n",
    "                # dropout on lstm cell\n",
    "                cell_fw = tf.nn.rnn_cell.DropoutWrapper(cell_fw, input_keep_prob = keep_prob)\n",
    "                # mount the lstm cell on gpu\n",
    "                cell_fw = tf.nn.rnn_cell.DeviceWrapper(cell_fw,device) \n",
    "                # backward lstm cell\n",
    "                cell_bw = tf.nn.rnn_cell.LSTMCell(n_neurons,\n",
    "                                                  initializer=tf.variance_scaling_initializer())\n",
    "                # dropout on lstm cell\n",
    "                cell_bw = tf.nn.rnn_cell.DropoutWrapper(cell_bw, input_keep_prob = keep_prob)\n",
    "                # mount the lstm cell on gpu\n",
    "                cell_bw = tf.nn.rnn_cell.DeviceWrapper(cell_bw,device) \n",
    "                # extract the outputs and states bidirectional lstm\n",
    "                outputs, states = tf.nn.bidirectional_dynamic_rnn(cell_fw, \n",
    "                                                                  cell_bw, \n",
    "                                                                  output,\n",
    "                                                                  dtype=tf.float32)\n",
    "                # concat the outputs of bidirectional lstm\n",
    "                output = tf.concat(outputs,2)\n",
    "        \n",
    "        # concat the top layer h states of bidirection lstm \n",
    "        state = tf.concat([states[0][-1], states[1][-1]], axis=-1)\n",
    "\n",
    "        return output, state\n",
    "        \n",
    "        \n",
    "    def create_model(self):\n",
    "        \"\"\"\n",
    "        A method to create the multilayer lstm model\n",
    "        \"\"\"\n",
    "        # placeholder to store the review text\n",
    "        X1 = tf.placeholder(tf.float32, [None, self.n_steps_1, self.n_inputs_1])\n",
    "        # placeholder to store the review title\n",
    "        X2 = tf.placeholder(tf.float32, [None, self.n_steps_2, self.n_inputs_2])\n",
    "        # placeholder to store the output of the model\n",
    "        Y = tf.placeholder(tf.float32, [None, self.n_outputs])\n",
    "        # placeholder to store the lengths of the review text\n",
    "        Length1 = tf.placeholder(tf.int32, [None])\n",
    "        # placeholder to store the lengths of the review title\n",
    "        Length2 = tf.placeholder(tf.int32, [None])\n",
    "        # keep probability for dropout\n",
    "        keep_prob = tf.placeholder(tf.float32)\n",
    "            \n",
    "        # created bidrectional lstm and extract the top layer h state\n",
    "        _, top_layer_h_state_1 = self.bidirectional_lstm(X1, self.n_layers_1, self.n_neurons_1,\n",
    "                                                         keep_prob, self.device, \"LSTM1\")\n",
    "        \n",
    "            \n",
    "        # created bidrectional lstm and extract the top layer h state\n",
    "        _, top_layer_h_state_2 = self.bidirectional_lstm(X2, self.n_layers_2, self.n_neurons_2,\n",
    "                                                         keep_prob, self.device, \"LSTM2\")\n",
    "        \n",
    "        # iterate and create the dense layer\n",
    "        for n, dense_layer in enumerate(self.dense_layers):\n",
    "            # first dense layer (with dropout)\n",
    "            if n == 0:\n",
    "                with tf.device(self.device):\n",
    "                    dense_1 = tf.layers.dense(top_layer_h_state_1, dense_layer,\n",
    "                                              kernel_initializer=tf.variance_scaling_initializer(),\n",
    "                                              activation=tf.nn.elu)\n",
    "                    dense_2 = tf.layers.dense(top_layer_h_state_2, dense_layer,\n",
    "                                              kernel_initializer=tf.variance_scaling_initializer(),\n",
    "                                              activation=tf.nn.elu)\n",
    "                    dense = tf.concat([dense_1, dense_2], axis = 1)\n",
    "                    dense = tf.nn.dropout(dense, keep_prob=keep_prob)\n",
    "            # last dense layer (without dropout)\n",
    "            elif n == len(self.dense_layers)-1:\n",
    "                with tf.device(self.device):\n",
    "                    dense = tf.layers.dense(dense, dense_layer,\n",
    "                                            kernel_initializer=tf.variance_scaling_initializer())\n",
    "            # middle dense layers (with droput)\n",
    "            else:\n",
    "                with tf.device(self.device):\n",
    "                    dense = tf.layers.dense(dense, dense_layer, \n",
    "                                            kernel_initializer=tf.variance_scaling_initializer(),\n",
    "                                            activation=tf.nn.elu)\n",
    "                    dense = tf.nn.dropout(dense, keep_prob=keep_prob)\n",
    "                    \n",
    "        \n",
    "        # compute predicted class\n",
    "        Y_ = tf.argmax(dense, axis=1, output_type=tf.int32)\n",
    "        # compute true class\n",
    "        Y_true_cls = tf.argmax(Y, axis=1, output_type=tf.int32)\n",
    "        # compute correct prediction\n",
    "        correct_prediction = tf.equal(Y_, Y_true_cls)\n",
    "        # compute accuracy\n",
    "        accuracy = tf.reduce_mean(tf.cast(correct_prediction, tf.float32))\n",
    "\n",
    "        # cost\n",
    "        with tf.device(device):\n",
    "            cross_entropy = tf.nn.softmax_cross_entropy_with_logits_v2(logits=dense,labels=Y)\n",
    "            cost = tf.reduce_mean(cross_entropy)\n",
    "\n",
    "        # train step\n",
    "        with tf.device(device):\n",
    "            train_step = tf.train.AdamOptimizer(learning_rate=learning_rate).minimize(cost)        \n",
    "        \n",
    "        return X1, X2, Y, Length1, Length2, keep_prob, Y_, accuracy, cost, train_step\n",
    "    \n",
    "    \n",
    "    def train_model(self, max_iter, batch_size, drop_prob,\n",
    "                    train_data_reader,valid_data_reader,train_path, valid_path,\n",
    "                    size, model_dir, model_name, generate_batch):\n",
    "        \"\"\"\n",
    "        A method to train the multilayer lstm model\n",
    "        \"\"\"        \n",
    "        # generate sequences, length, & sentimentas for validation set\n",
    "        sequences_review_valid, sequences_title_valid, review_text_length_valid, review_title_length_valid, sentiments_valid = \\\n",
    "        generate_batch(valid_data_reader, valid_path, valid_data_reader.chunksize,\n",
    "                       self.n_steps_1, self.n_steps_2, self.n_inputs_1, self.n_inputs_2)\n",
    "        # feed dict for validation\n",
    "        feed_dict_validation =  {self.X1:sequences_review_valid,\n",
    "                                 self.X2:sequences_title_valid,\n",
    "                                 self.Y:sentiments_valid,\n",
    "                                 self.Length1:review_text_length_valid,\n",
    "                                 self.Length2:review_title_length_valid,\n",
    "                                 self.keep_prob: 1.0} \n",
    "        \n",
    "        # start time\n",
    "        start_time = time.time()\n",
    "        # create a saver object\n",
    "        saver = tf.train.Saver(max_to_keep=1)\n",
    "        # lists to store the train cost, validation cost, and validation accuracy\n",
    "        train_cost = []\n",
    "        valid_cost = []\n",
    "        valid_accuracy = []\n",
    "        # variables to store the best roc and best iteration\n",
    "        # and the time to reach the best roc\n",
    "        best_valid_accuracy = 0\n",
    "        best_iteration = None\n",
    "        best_time = None\n",
    "        # path of model saver object\n",
    "        model_path = model_dir+model_name\n",
    "        \n",
    "        # create a graph session and optimize the network under it\n",
    "        with tf.Session() as sess:\n",
    "            # set random seed of tensorflow and numpy\n",
    "            tf.set_random_seed(self.tf_seed)\n",
    "            np.random.seed(self.np_seed)            \n",
    "        \n",
    "            # initialize global and local variables\n",
    "            sess.run(tf.global_variables_initializer())\n",
    "            sess.run(tf.local_variables_initializer())\n",
    "            \n",
    "            # create an object of progress bar\n",
    "            bar = progressbar.ProgressBar(maxval=max_iter, widgets=[\n",
    "                '[',progressbar.Percentage(),']',\n",
    "                progressbar.Bar(),\n",
    "                '(',progressbar.DynamicMessage(\"train_cost\"),')',\n",
    "                '(',progressbar.DynamicMessage(\"valid_cost\"),')',\n",
    "                '(',progressbar.DynamicMessage(\"valid_accuracy\"),')',\n",
    "                '(',progressbar.DynamicMessage(\"best_valid_accuracy\"),')',\n",
    "                '(',progressbar.DynamicMessage(\"time_elapsed\"),'mins)'\n",
    "            ])\n",
    "            # start the progress bar\n",
    "            bar.start()\n",
    "            # counter variable to track the number of iterations\n",
    "            counter = 0\n",
    "            # iterate until maximum number of iterations is reached\n",
    "            while True:\n",
    "                # break out of the inner for loop if maximum number of iterations is reached\n",
    "                if counter>=max_iter:\n",
    "                    break            \n",
    "                # generate sequences, length, & sentimentas for train batch\n",
    "                sequences_review_batch, sequences_title_batch, review_text_length_batch, \\\n",
    "                review_title_length_batch, sentiments_batch = \\\n",
    "                generate_batch(train_data_reader, train_path, train_data_reader.chunksize,\n",
    "                               self.n_steps_1, self.n_steps_2, self.n_inputs_1, self.n_inputs_2)\n",
    "                # feed dict for validation\n",
    "                feed_dict_batch =  {self.X1:sequences_review_batch,\n",
    "                                    self.X2:sequences_title_batch,\n",
    "                                    self.Y:sentiments_batch,\n",
    "                                    self.Length1:review_text_length_batch,\n",
    "                                    self.Length2:review_title_length_batch,\n",
    "                                    self.keep_prob: drop_prob}\n",
    "                # execute optimization step\n",
    "                sess.run(self.train_step, feed_dict=feed_dict_batch)\n",
    "                # calculate temporary train cost and append it to the designated list\n",
    "                temp_train_cost = self.cost.eval(session=sess, feed_dict=feed_dict_batch)\n",
    "                train_cost.append(temp_train_cost)\n",
    "                # calculate temporary validation cost and append it to the designated list\n",
    "                temp_valid_cost = self.cost.eval(session=sess, feed_dict=feed_dict_validation)\n",
    "                valid_cost.append(temp_valid_cost)\n",
    "                # calculate temporary validation cost and append it to the designated list\n",
    "                temp_valid_acc = self.accuracy.eval(session=sess, feed_dict=feed_dict_validation)\n",
    "                valid_accuracy.append(temp_valid_acc)\n",
    "                # compute running time from start point\n",
    "                time_diff = (time.time()-start_time)/60\n",
    "                # append elapsed time to the designated list\n",
    "                self.log_of_computation_time.append(time_diff)\n",
    "                # if valid cost is better than best recorded so far then\n",
    "                # update the parameters of the best model and save the model\n",
    "                if temp_valid_acc > best_valid_accuracy:\n",
    "                    best_time = time_diff\n",
    "                    best_valid_accuracy = temp_valid_acc\n",
    "                    best_iteration = counter+1\n",
    "                    saver.save(sess, model_path, global_step = best_iteration)\n",
    "                    \n",
    "                # store the required variables, placeholders and operations in designated class fields\n",
    "                self.saver = saver\n",
    "                self.train_cost = train_cost\n",
    "                self.valid_cost = valid_cost\n",
    "                self.best_valid_accuracy = best_valid_accuracy\n",
    "                self.valid_accuracy = valid_accuracy\n",
    "                self.best_iteration = best_iteration\n",
    "                self.best_time = best_time\n",
    "\n",
    "                # update the progress bar\n",
    "                bar.update(counter+1, train_cost = temp_train_cost, \n",
    "                           valid_cost = temp_valid_cost,\n",
    "                           valid_accuracy = temp_valid_acc, \n",
    "                           best_valid_accuracy = best_valid_accuracy, \n",
    "                           time_elapsed = time_diff)\n",
    "                # increment counter variable\n",
    "                counter += 1\n",
    "\n",
    "            # finish the progress bar\n",
    "            bar.finish() \n",
    "            \n",
    "            \n",
    "    def create_predictions(self, model_path, test_data_reader, test_path, \n",
    "                           n_folds, submission_dir, submission_file, generate_batch):\n",
    "        '''\n",
    "        A function to compute predictions and submission file\n",
    "        '''\n",
    "        # submission path\n",
    "        submission_path = submission_dir + submission_file\n",
    "\n",
    "        with tf.Session() as sess: \n",
    "            # restore the best model\n",
    "            self.saver.restore(sess, model_path)\n",
    "            # array to store the prediction\n",
    "            preds = np.array([])\n",
    "            # create a progress bar object\n",
    "            bar = progressbar.ProgressBar(maxval=n_folds, widgets=[\n",
    "                            '[',progressbar.Percentage(),']',\n",
    "                            progressbar.Bar(),\n",
    "                            '(',progressbar.DynamicMessage(\"number_of_folds_completed\"),')'\n",
    "                        ])            \n",
    "            # start progress bat\n",
    "            bar.start()\n",
    "            \n",
    "            # iterate through each fold\n",
    "            for i in range(n_folds):\n",
    "                # generate sequences, length, & sentiments for test set\n",
    "                sequences_review_test, sequences_title_test, review_text_length_test, review_title_length_test = \\\n",
    "                generate_batch(test_data_reader, test_path, test_data_reader.chunksize,\n",
    "                               self.n_steps_1, self.n_steps_2, self.n_inputs_1, self.n_inputs_2, train_set=False)\n",
    "                # feed dict for test\n",
    "                feed_dict_test =  {self.X1:sequences_review_test,\n",
    "                                   self.X2:sequences_title_test,\n",
    "                                   self.Length1:review_text_length_test,\n",
    "                                   self.Length2:review_title_length_test,\n",
    "                                   self.keep_prob: 1.0}\n",
    "                # evaluate predictions of the fold\n",
    "                fold_preds = self.Y_.eval(session=sess, feed_dict = feed_dict_test)\n",
    "                # append it to designated array\n",
    "                preds = np.append(preds, fold_preds)                    \n",
    "                # update the progress bar\n",
    "                bar.update(i+1, number_of_folds_completed = i+1)                \n",
    "            # finish the progress bar\n",
    "            bar.finish()\n",
    "\n",
    "            submission = pd.DataFrame({\"sentiments\": preds})\n",
    "            submission.to_csv(submission_path, header = True, index=False)"
   ]
  },
  {
   "cell_type": "markdown",
   "metadata": {},
   "source": [
    "## 7. Create graph of multilayer lstm model"
   ]
  },
  {
   "cell_type": "markdown",
   "metadata": {},
   "source": [
    "**Inspect the devices of kernel**"
   ]
  },
  {
   "cell_type": "code",
   "execution_count": 25,
   "metadata": {},
   "outputs": [
    {
     "name": "stdout",
     "output_type": "stream",
     "text": [
      "[name: \"/device:CPU:0\"\n",
      "device_type: \"CPU\"\n",
      "memory_limit: 268435456\n",
      "locality {\n",
      "}\n",
      "incarnation: 16460752721581923135\n",
      ", name: \"/device:XLA_CPU:0\"\n",
      "device_type: \"XLA_CPU\"\n",
      "memory_limit: 17179869184\n",
      "locality {\n",
      "}\n",
      "incarnation: 16007175043254451476\n",
      "physical_device_desc: \"device: XLA_CPU device\"\n",
      ", name: \"/device:XLA_GPU:0\"\n",
      "device_type: \"XLA_GPU\"\n",
      "memory_limit: 17179869184\n",
      "locality {\n",
      "}\n",
      "incarnation: 7242182814743901727\n",
      "physical_device_desc: \"device: XLA_GPU device\"\n",
      ", name: \"/device:GPU:0\"\n",
      "device_type: \"GPU\"\n",
      "memory_limit: 15864391271\n",
      "locality {\n",
      "  bus_id: 1\n",
      "  links {\n",
      "  }\n",
      "}\n",
      "incarnation: 6626937596118796485\n",
      "physical_device_desc: \"device: 0, name: Tesla P100-PCIE-16GB, pci bus id: 0000:00:04.0, compute capability: 6.0\"\n",
      "]\n"
     ]
    }
   ],
   "source": [
    "from tensorflow.python.client import device_lib\n",
    "devices = device_lib.list_local_devices()\n",
    "print(devices)"
   ]
  },
  {
   "cell_type": "markdown",
   "metadata": {},
   "source": [
    "**Set the device to gpu if available**"
   ]
  },
  {
   "cell_type": "code",
   "execution_count": 26,
   "metadata": {
    "collapsed": true
   },
   "outputs": [],
   "source": [
    "if len(devices)>1:\n",
    "    device = devices[-1].name\n",
    "else:\n",
    "    device = devices[0].name"
   ]
  },
  {
   "cell_type": "markdown",
   "metadata": {},
   "source": [
    "**Create graph**"
   ]
  },
  {
   "cell_type": "code",
   "execution_count": 27,
   "metadata": {
    "collapsed": true
   },
   "outputs": [],
   "source": [
    "n_layers_1 = 2\n",
    "n_layers_2 = 2\n",
    "n_neurons_1 = 256\n",
    "n_neurons_2 = 64\n",
    "max_length_1 = n_steps_1 = 120\n",
    "max_length_2 = n_steps_2 = 15\n",
    "n_inputs_1 = size\n",
    "n_inputs_2 = size\n",
    "n_outputs = 2\n",
    "dense_layers = [64, n_outputs]\n",
    "learning_rate = (1e-3)*5\n",
    "tf.reset_default_graph()\n",
    "sequence_model = multilayer_lstm_model(n_steps_1, n_steps_2, n_inputs_1, n_inputs_2, n_outputs, \n",
    "                                       n_layers_1, n_layers_2, n_neurons_1, n_neurons_2, \n",
    "                                       dense_layers, learning_rate,\n",
    "                                       device, tf_rand_seed, np_rand_seed)"
   ]
  },
  {
   "cell_type": "markdown",
   "metadata": {},
   "source": [
    "## 8. Train multilayer lstm model"
   ]
  },
  {
   "cell_type": "markdown",
   "metadata": {},
   "source": [
    "**Train model**"
   ]
  },
  {
   "cell_type": "code",
   "execution_count": 28,
   "metadata": {},
   "outputs": [
    {
     "name": "stderr",
     "output_type": "stream",
     "text": [
      "[100%]||(train_cost:  0.229)(valid_cost:  0.251)(valid_accuracy:    0.9)(best_valid_accuracy:  0.906)(time_elapsed:   57.1mins)\n"
     ]
    }
   ],
   "source": [
    "max_iter = 1000\n",
    "batch_size = 400\n",
    "keep_prob = 0.50\n",
    "train_path = input_dir+\"train_data.csv\"\n",
    "train_data_reader = pd.read_csv(train_path, chunksize=batch_size)\n",
    "valid_path = input_dir+\"valid_data.csv\"\n",
    "valid_data_reader = pd.read_csv(valid_path, chunksize=valid_size)\n",
    "model_name = \"hybrid_multilayer_lstm\" \n",
    "sequence_model.train_model(max_iter, batch_size, keep_prob,\n",
    "                           train_data_reader,valid_data_reader,train_path, valid_path,\n",
    "                           size, model_dir, model_name, generate_batch)"
   ]
  },
  {
   "cell_type": "markdown",
   "metadata": {},
   "source": [
    "**Plot of cost vs iterations**"
   ]
  },
  {
   "cell_type": "code",
   "execution_count": 29,
   "metadata": {},
   "outputs": [
    {
     "data": {
      "image/png": "[encoded data removed]",
      "text/plain": [
       "<Figure size 1280x640 with 1 Axes>"
      ]
     },
     "metadata": {},
     "output_type": "display_data"
    }
   ],
   "source": [
    "plt.figure(figsize=(16, 8), dpi= 80, facecolor='w', edgecolor='k')\n",
    "plt.plot(sequence_model.train_cost, label = 'train cost')\n",
    "plt.plot(sequence_model.valid_cost, label = 'valid cost')\n",
    "plt.xlabel('iterations', fontsize = 14)\n",
    "plt.ylabel('cost', fontsize = 14)\n",
    "plt.title(\"Cost vs Iterations\",fontsize = 18)\n",
    "plt.legend()\n",
    "plt.grid()\n",
    "plt.show()"
   ]
  },
  {
   "cell_type": "markdown",
   "metadata": {},
   "source": [
    "**Plot of accuracy vs iterations**"
   ]
  },
  {
   "cell_type": "code",
   "execution_count": 34,
   "metadata": {},
   "outputs": [
    {
     "data": {
      "image/png": "[encoded data removed]",
      "text/plain": [
       "<Figure size 1280x640 with 1 Axes>"
      ]
     },
     "metadata": {},
     "output_type": "display_data"
    }
   ],
   "source": [
    "plt.figure(figsize=(16, 8), dpi= 80, facecolor='w', edgecolor='k')\n",
    "plt.plot(sequence_model.valid_accuracy)\n",
    "plt.title(\"Accuracy vs Iterations\")\n",
    "plt.xlabel('iterations', fontsize = 14)\n",
    "plt.ylabel('accuracy', fontsize = 14)\n",
    "plt.title(\"Best Accuracy: \"+str(round(sequence_model.best_valid_accuracy,3))+ \\\n",
    "          \"; Best iteration: \"+str(sequence_model.best_iteration),fontsize = 18)\n",
    "plt.grid()\n",
    "plt.show()"
   ]
  },
  {
   "cell_type": "markdown",
   "metadata": {},
   "source": [
    "## 9. Create submission csv file and analyse results"
   ]
  },
  {
   "cell_type": "markdown",
   "metadata": {},
   "source": [
    "**Create submission file**"
   ]
  },
  {
   "cell_type": "code",
   "execution_count": 31,
   "metadata": {},
   "outputs": [
    {
     "name": "stdout",
     "output_type": "stream",
     "text": [
      "INFO:tensorflow:Restoring parameters from ./model_files/hybrid_multilayer_lstm-801\n"
     ]
    },
    {
     "name": "stderr",
     "output_type": "stream",
     "text": [
      "[100%]|####################################|(number_of_folds_completed:    101)\n"
     ]
    }
   ],
   "source": [
    "n_folds = 100\n",
    "test_batch_size = test_size//n_folds\n",
    "if test_size%n_folds != 0: n_folds +=1\n",
    "submission_file = \"submission.csv\"\n",
    "test_path = input_dir+\"test_data.csv\"\n",
    "test_data_reader = pd.read_csv(test_path, chunksize=test_batch_size)\n",
    "model_path = model_dir+model_name+\"-\"+str(sequence_model.best_iteration)\n",
    "sequence_model.create_predictions(model_path, test_data_reader, test_path, \n",
    "                                  n_folds, submission_dir, submission_file, generate_batch)"
   ]
  },
  {
   "cell_type": "markdown",
   "metadata": {},
   "source": [
    "**Extract test output and compute test predictions**"
   ]
  },
  {
   "cell_type": "code",
   "execution_count": 32,
   "metadata": {
    "collapsed": true
   },
   "outputs": [],
   "source": [
    "output = pd.read_csv(input_dir+\"test_data.csv\")['sentiment'].values\n",
    "predictions = pd.read_csv(submission_dir+\"submission.csv\")['sentiments'].values"
   ]
  },
  {
   "cell_type": "markdown",
   "metadata": {},
   "source": [
    "**Compute accuracy, precision, and recall of the model**"
   ]
  },
  {
   "cell_type": "code",
   "execution_count": 33,
   "metadata": {},
   "outputs": [
    {
     "name": "stdout",
     "output_type": "stream",
     "text": [
      "Test accuracy: 0.9\n",
      "Test precision: 0.894\n",
      "Test recall: 0.908\n"
     ]
    }
   ],
   "source": [
    "from sklearn.metrics import accuracy_score, precision_score, recall_score\n",
    "print(\"Test accuracy:\", round(accuracy_score(output, predictions),3))\n",
    "print(\"Test precision:\", round(precision_score(output, predictions),3))\n",
    "print(\"Test recall:\", round(recall_score(output, predictions),3))"
   ]
  }
 ],
 "metadata": {
  "kernelspec": {
   "display_name": "Python 3",
   "language": "python",
   "name": "python3"
  },
  "language_info": {
   "codemirror_mode": {
    "name": "ipython",
    "version": 3
   },
   "file_extension": ".py",
   "mimetype": "text/x-python",
   "name": "python",
   "nbconvert_exporter": "python",
   "pygments_lexer": "ipython3",
   "version": "3.6.3"
  }
 },
 "nbformat": 4,
 "nbformat_minor": 2
}
