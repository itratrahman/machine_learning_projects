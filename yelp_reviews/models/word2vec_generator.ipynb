{
 "cells": [
  {
   "cell_type": "code",
   "execution_count": 1,
   "metadata": {},
   "outputs": [],
   "source": [
    "import time\n",
    "import os\n",
    "import pandas as pd\n",
    "from gensim.models import Word2Vec"
   ]
  },
  {
   "cell_type": "code",
   "execution_count": 2,
   "metadata": {},
   "outputs": [
    {
     "name": "stdout",
     "output_type": "stream",
     "text": [
      "Number of workers: 16\n"
     ]
    }
   ],
   "source": [
    "import multiprocessing\n",
    "WORKERS = multiprocessing.cpu_count()\n",
    "print(\"Number of workers:\",WORKERS)"
   ]
  },
  {
   "cell_type": "code",
   "execution_count": 3,
   "metadata": {},
   "outputs": [],
   "source": [
    "input_dir = \"../input/yelp_review_polarity_csv/\""
   ]
  },
  {
   "cell_type": "code",
   "execution_count": 4,
   "metadata": {},
   "outputs": [],
   "source": [
    "train_data = pd.read_csv(input_dir+\"train_data_processed.csv\")\n",
    "test_data = pd.read_csv(input_dir+\"test_data_processed.csv\")\n",
    "total_examples = train_data.shape[0]+test_data.shape[0]\n",
    "del(train_data, test_data)"
   ]
  },
  {
   "cell_type": "code",
   "execution_count": 5,
   "metadata": {},
   "outputs": [],
   "source": [
    "class MySentences(object):\n",
    "    \n",
    "    def __init__(self, dirname):\n",
    "        self.dirname = dirname\n",
    " \n",
    "    def __iter__(self):\n",
    "        for fname in os.listdir(self.dirname):\n",
    "            for line in open(os.path.join(self.dirname, fname)):\n",
    "                yield line.split()"
   ]
  },
  {
   "cell_type": "code",
   "execution_count": 6,
   "metadata": {},
   "outputs": [],
   "source": [
    "sentences = MySentences('../input/yelp_review_processed_chunks/')"
   ]
  },
  {
   "cell_type": "code",
   "execution_count": 7,
   "metadata": {},
   "outputs": [],
   "source": [
    "def word2vec_generator(sentences, size, window, total_examples, workers, destination_folder = \"./word2vec_models/\"):\n",
    "    '''\n",
    "    A function to generate word2vec model\n",
    "    '''    \n",
    "    # create a word2vec model\n",
    "    model = Word2Vec(sentences, size=size, window=window, sg= 1, min_count=1, workers=workers)\n",
    "    # train model\n",
    "    model.train(sentences, total_examples=total_examples, epochs=5)\n",
    "    # file path\n",
    "    fname = destination_folder + \"word2vec_size_\" + str(size) + \"_window_\" + str(window) + \".mdl\"\n",
    "    # save the model\n",
    "    model. wv.save_word2vec_format(fname)"
   ]
  },
  {
   "cell_type": "code",
   "execution_count": 8,
   "metadata": {},
   "outputs": [
    {
     "name": "stdout",
     "output_type": "stream",
     "text": [
      "Time taken to save model 1: 7.20 mins\n"
     ]
    }
   ],
   "source": [
    "t_start = time.time()\n",
    "size = 100\n",
    "window = 5\n",
    "word2vec_generator(sentences, size, window, total_examples, WORKERS)\n",
    "t_end = time.time()\n",
    "print(\"Time taken to save model 1: {:.2f} mins\".format((t_end-t_start)/60))"
   ]
  },
  {
   "cell_type": "code",
   "execution_count": 9,
   "metadata": {},
   "outputs": [
    {
     "name": "stdout",
     "output_type": "stream",
     "text": [
      "Time taken to save model 2: 11.17 mins\n"
     ]
    }
   ],
   "source": [
    "t_start = time.time()\n",
    "size = 100\n",
    "window = 10\n",
    "word2vec_generator(sentences, size, window, total_examples, WORKERS)\n",
    "t_end = time.time()\n",
    "print(\"Time taken to save model 2: {:.2f} mins\".format((t_end-t_start)/60))"
   ]
  },
  {
   "cell_type": "code",
   "execution_count": 10,
   "metadata": {},
   "outputs": [
    {
     "name": "stdout",
     "output_type": "stream",
     "text": [
      "Time taken to save model 3: 15.45 mins\n"
     ]
    }
   ],
   "source": [
    "t_start = time.time()\n",
    "size = 100\n",
    "window = 15\n",
    "word2vec_generator(sentences, size, window, total_examples, WORKERS)\n",
    "t_end = time.time()\n",
    "print(\"Time taken to save model 3: {:.2f} mins\".format((t_end-t_start)/60))"
   ]
  },
  {
   "cell_type": "code",
   "execution_count": 11,
   "metadata": {},
   "outputs": [
    {
     "name": "stdout",
     "output_type": "stream",
     "text": [
      "Time taken to save model 4: 19.58 mins\n"
     ]
    }
   ],
   "source": [
    "t_start = time.time()\n",
    "size = 100\n",
    "window = 20\n",
    "word2vec_generator(sentences, size, window, total_examples, WORKERS)\n",
    "t_end = time.time()\n",
    "print(\"Time taken to save model 4: {:.2f} mins\".format((t_end-t_start)/60))"
   ]
  },
  {
   "cell_type": "code",
   "execution_count": 12,
   "metadata": {},
   "outputs": [
    {
     "name": "stdout",
     "output_type": "stream",
     "text": [
      "Time taken to save model 5: 23.28 mins\n"
     ]
    }
   ],
   "source": [
    "t_start = time.time()\n",
    "size = 100\n",
    "window = 25\n",
    "word2vec_generator(sentences, size, window, total_examples, WORKERS)\n",
    "t_end = time.time()\n",
    "print(\"Time taken to save model 5: {:.2f} mins\".format((t_end-t_start)/60))"
   ]
  },
  {
   "cell_type": "code",
   "execution_count": 13,
   "metadata": {},
   "outputs": [
    {
     "name": "stdout",
     "output_type": "stream",
     "text": [
      "Time taken to save model 6: 8.90 mins\n"
     ]
    }
   ],
   "source": [
    "t_start = time.time()\n",
    "size = 200\n",
    "window = 5\n",
    "word2vec_generator(sentences, size, window, total_examples, WORKERS)\n",
    "t_end = time.time()\n",
    "print(\"Time taken to save model 6: {:.2f} mins\".format((t_end-t_start)/60))"
   ]
  },
  {
   "cell_type": "code",
   "execution_count": 14,
   "metadata": {},
   "outputs": [
    {
     "name": "stdout",
     "output_type": "stream",
     "text": [
      "Time taken to save model 7: 14.39 mins\n"
     ]
    }
   ],
   "source": [
    "t_start = time.time()\n",
    "size = 200\n",
    "window = 10\n",
    "word2vec_generator(sentences, size, window, total_examples, WORKERS)\n",
    "t_end = time.time()\n",
    "print(\"Time taken to save model 7: {:.2f} mins\".format((t_end-t_start)/60))"
   ]
  },
  {
   "cell_type": "code",
   "execution_count": 15,
   "metadata": {},
   "outputs": [
    {
     "name": "stdout",
     "output_type": "stream",
     "text": [
      "Time taken to save model 8: 19.74 mins\n"
     ]
    }
   ],
   "source": [
    "t_start = time.time()\n",
    "size = 200\n",
    "window = 15\n",
    "word2vec_generator(sentences, size, window, total_examples, WORKERS)\n",
    "t_end = time.time()\n",
    "print(\"Time taken to save model 8: {:.2f} mins\".format((t_end-t_start)/60))"
   ]
  },
  {
   "cell_type": "code",
   "execution_count": 16,
   "metadata": {},
   "outputs": [
    {
     "name": "stdout",
     "output_type": "stream",
     "text": [
      "Time taken to save model 9: 25.05 mins\n"
     ]
    }
   ],
   "source": [
    "t_start = time.time()\n",
    "size = 200\n",
    "window = 20\n",
    "word2vec_generator(sentences, size, window, total_examples, WORKERS)\n",
    "t_end = time.time()\n",
    "print(\"Time taken to save model 9: {:.2f} mins\".format((t_end-t_start)/60))"
   ]
  },
  {
   "cell_type": "code",
   "execution_count": 17,
   "metadata": {},
   "outputs": [
    {
     "name": "stdout",
     "output_type": "stream",
     "text": [
      "Time taken to save model 10: 30.06 mins\n"
     ]
    }
   ],
   "source": [
    "t_start = time.time()\n",
    "size = 200\n",
    "window = 25\n",
    "word2vec_generator(sentences, size, window, total_examples, WORKERS)\n",
    "t_end = time.time()\n",
    "print(\"Time taken to save model 10: {:.2f} mins\".format((t_end-t_start)/60))"
   ]
  },
  {
   "cell_type": "code",
   "execution_count": 18,
   "metadata": {},
   "outputs": [
    {
     "name": "stdout",
     "output_type": "stream",
     "text": [
      "Time taken to save model 11: 10.61 mins\n"
     ]
    }
   ],
   "source": [
    "t_start = time.time()\n",
    "size = 300\n",
    "window = 5\n",
    "word2vec_generator(sentences, size, window, total_examples, WORKERS)\n",
    "t_end = time.time()\n",
    "print(\"Time taken to save model 11: {:.2f} mins\".format((t_end-t_start)/60))"
   ]
  },
  {
   "cell_type": "code",
   "execution_count": 19,
   "metadata": {},
   "outputs": [
    {
     "name": "stdout",
     "output_type": "stream",
     "text": [
      "Time taken to save model 12: 17.51 mins\n"
     ]
    }
   ],
   "source": [
    "t_start = time.time()\n",
    "size = 300\n",
    "window = 10\n",
    "word2vec_generator(sentences, size, window, total_examples, WORKERS)\n",
    "t_end = time.time()\n",
    "print(\"Time taken to save model 12: {:.2f} mins\".format((t_end-t_start)/60))"
   ]
  },
  {
   "cell_type": "code",
   "execution_count": 20,
   "metadata": {},
   "outputs": [
    {
     "name": "stdout",
     "output_type": "stream",
     "text": [
      "Time taken to save model 13: 24.30 mins\n"
     ]
    }
   ],
   "source": [
    "t_start = time.time()\n",
    "size = 300\n",
    "window = 15\n",
    "word2vec_generator(sentences, size, window, total_examples, WORKERS)\n",
    "t_end = time.time()\n",
    "print(\"Time taken to save model 13: {:.2f} mins\".format((t_end-t_start)/60))"
   ]
  },
  {
   "cell_type": "code",
   "execution_count": 21,
   "metadata": {},
   "outputs": [
    {
     "name": "stdout",
     "output_type": "stream",
     "text": [
      "Time taken to save model 14: 30.59 mins\n"
     ]
    }
   ],
   "source": [
    "t_start = time.time()\n",
    "size = 300\n",
    "window = 20\n",
    "word2vec_generator(sentences, size, window, total_examples, WORKERS)\n",
    "t_end = time.time()\n",
    "print(\"Time taken to save model 14: {:.2f} mins\".format((t_end-t_start)/60))"
   ]
  },
  {
   "cell_type": "code",
   "execution_count": 22,
   "metadata": {},
   "outputs": [
    {
     "name": "stdout",
     "output_type": "stream",
     "text": [
      "Time taken to save model 15: 36.76 mins\n"
     ]
    }
   ],
   "source": [
    "t_start = time.time()\n",
    "size = 300\n",
    "window = 25\n",
    "word2vec_generator(sentences, size, window, total_examples, WORKERS)\n",
    "t_end = time.time()\n",
    "print(\"Time taken to save model 15: {:.2f} mins\".format((t_end-t_start)/60))"
   ]
  }
 ],
 "metadata": {
  "kernelspec": {
   "display_name": "Python 3",
   "language": "python",
   "name": "python3"
  },
  "language_info": {
   "codemirror_mode": {
    "name": "ipython",
    "version": 3
   },
   "file_extension": ".py",
   "mimetype": "text/x-python",
   "name": "python",
   "nbconvert_exporter": "python",
   "pygments_lexer": "ipython3",
   "version": "3.6.7"
  }
 },
 "nbformat": 4,
 "nbformat_minor": 2
}
